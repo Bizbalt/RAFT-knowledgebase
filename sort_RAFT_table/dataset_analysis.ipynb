{
 "cells": [
  {
   "cell_type": "code",
   "execution_count": 49,
   "outputs": [],
   "source": [
    "import sort_RAFT_table as srt\n",
    "import pandas as pd\n",
    "import numpy as np\n",
    "import plotly.express as px\n",
    "import re\n",
    "from scipy.optimize import curve_fit\n",
    "import itertools\n",
    "from tqdm import tqdm"
   ],
   "metadata": {
    "collapsed": false,
    "pycharm": {
     "name": "#%%\n"
    }
   }
  },
  {
   "cell_type": "code",
   "execution_count": 2,
   "outputs": [
    {
     "name": "stdout",
     "output_type": "stream",
     "text": [
      "['t0h-conversion', 't1h-conversion', 't2h-conversion', 't4h-conversion', 't8h-conversion', 't15h-conversion']\n",
      "[0, 1, 2, 4, 8, 15]\n"
     ]
    }
   ],
   "source": [
    "# ToDo: Kinetik Kurven erstellen,\n",
    "#  90% oder max als max gemessen als conversion, als Beschreibung für diese nehmen,\n",
    "#  in ist Monomer und Mn dann\n",
    "#       sortieren nach Umsatz dahingehend dann nach kürzester Zeit\n",
    "#       Tabellenausgabe dazu Kinetik Kurve, reaktionsbedingungen (LM, Raft agent, Zeit...)\n",
    "#  am besten als interaktive website Tabelle.\n",
    "\n",
    "# get all conversion values,\n",
    "conversion_list = []\n",
    "for column in srt.df.columns:\n",
    "    if \"conversion\" in column:\n",
    "        conversion_list.append(column)\n",
    "print(conversion_list)\n",
    "\n",
    "# get the hours from the headers with regex\n",
    "hours_list = []\n",
    "two_digit_regex = r\"\\d+\"\n",
    "for column in conversion_list:\n",
    "    hours_list.append(int(re.findall(two_digit_regex, column)[0]))\n",
    "\n",
    "print(hours_list)"
   ],
   "metadata": {
    "collapsed": false,
    "pycharm": {
     "name": "#%%\n"
    }
   }
  },
  {
   "cell_type": "code",
   "execution_count": 3,
   "outputs": [
    {
     "name": "stdout",
     "output_type": "stream",
     "text": [
      "The timer was reset to 0 after the first closing of reactors in the \"t = 0\"-sampling-step\n"
     ]
    },
    {
     "data": {
      "text/plain": "                     0         1         2         4         8         15\nReactor                                                                  \n1                    0  1.005556  2.011111  4.018056  8.016667  15.016667\n2                    0  1.005556  2.011111  4.018056  8.016667  15.016667\n3                    0  1.073611  2.068056  4.077778  8.090278  15.098611\n4                    0  1.073611  2.068056  4.077778  8.090278  15.098611\n5                    0  1.131944  2.125000  4.143056  8.180556  15.200000\n6                    0  1.131944  2.125000  4.143056  8.180556  15.200000\n7                    0  1.191667  2.184722  4.205556  8.256944  15.291667\n8                    0  1.191667  2.184722  4.205556  8.256944  15.291667\n9                    0  1.251389  2.241667  4.273611  8.338889  15.381944\n10                   0  1.251389  2.241667  4.273611  8.338889  15.381944\n11                   0  1.312500  2.301389  4.336111  8.415278  15.472222\n12                   0  1.312500  2.301389  4.336111  8.415278  15.472222\n13                   0  1.373611  2.369444  4.409722  8.501389  15.568056\n14                   0  1.373611  2.369444  4.409722  8.501389  15.568056\n15                   0  1.437500  2.430556  4.475000  8.581944  15.658333\nclosing of reactors  0  1.481944  2.476389  4.526389  8.643056  15.730556",
      "text/html": "<div>\n<style scoped>\n    .dataframe tbody tr th:only-of-type {\n        vertical-align: middle;\n    }\n\n    .dataframe tbody tr th {\n        vertical-align: top;\n    }\n\n    .dataframe thead th {\n        text-align: right;\n    }\n</style>\n<table border=\"1\" class=\"dataframe\">\n  <thead>\n    <tr style=\"text-align: right;\">\n      <th></th>\n      <th>0</th>\n      <th>1</th>\n      <th>2</th>\n      <th>4</th>\n      <th>8</th>\n      <th>15</th>\n    </tr>\n    <tr>\n      <th>Reactor</th>\n      <th></th>\n      <th></th>\n      <th></th>\n      <th></th>\n      <th></th>\n      <th></th>\n    </tr>\n  </thead>\n  <tbody>\n    <tr>\n      <th>1</th>\n      <td>0</td>\n      <td>1.005556</td>\n      <td>2.011111</td>\n      <td>4.018056</td>\n      <td>8.016667</td>\n      <td>15.016667</td>\n    </tr>\n    <tr>\n      <th>2</th>\n      <td>0</td>\n      <td>1.005556</td>\n      <td>2.011111</td>\n      <td>4.018056</td>\n      <td>8.016667</td>\n      <td>15.016667</td>\n    </tr>\n    <tr>\n      <th>3</th>\n      <td>0</td>\n      <td>1.073611</td>\n      <td>2.068056</td>\n      <td>4.077778</td>\n      <td>8.090278</td>\n      <td>15.098611</td>\n    </tr>\n    <tr>\n      <th>4</th>\n      <td>0</td>\n      <td>1.073611</td>\n      <td>2.068056</td>\n      <td>4.077778</td>\n      <td>8.090278</td>\n      <td>15.098611</td>\n    </tr>\n    <tr>\n      <th>5</th>\n      <td>0</td>\n      <td>1.131944</td>\n      <td>2.125000</td>\n      <td>4.143056</td>\n      <td>8.180556</td>\n      <td>15.200000</td>\n    </tr>\n    <tr>\n      <th>6</th>\n      <td>0</td>\n      <td>1.131944</td>\n      <td>2.125000</td>\n      <td>4.143056</td>\n      <td>8.180556</td>\n      <td>15.200000</td>\n    </tr>\n    <tr>\n      <th>7</th>\n      <td>0</td>\n      <td>1.191667</td>\n      <td>2.184722</td>\n      <td>4.205556</td>\n      <td>8.256944</td>\n      <td>15.291667</td>\n    </tr>\n    <tr>\n      <th>8</th>\n      <td>0</td>\n      <td>1.191667</td>\n      <td>2.184722</td>\n      <td>4.205556</td>\n      <td>8.256944</td>\n      <td>15.291667</td>\n    </tr>\n    <tr>\n      <th>9</th>\n      <td>0</td>\n      <td>1.251389</td>\n      <td>2.241667</td>\n      <td>4.273611</td>\n      <td>8.338889</td>\n      <td>15.381944</td>\n    </tr>\n    <tr>\n      <th>10</th>\n      <td>0</td>\n      <td>1.251389</td>\n      <td>2.241667</td>\n      <td>4.273611</td>\n      <td>8.338889</td>\n      <td>15.381944</td>\n    </tr>\n    <tr>\n      <th>11</th>\n      <td>0</td>\n      <td>1.312500</td>\n      <td>2.301389</td>\n      <td>4.336111</td>\n      <td>8.415278</td>\n      <td>15.472222</td>\n    </tr>\n    <tr>\n      <th>12</th>\n      <td>0</td>\n      <td>1.312500</td>\n      <td>2.301389</td>\n      <td>4.336111</td>\n      <td>8.415278</td>\n      <td>15.472222</td>\n    </tr>\n    <tr>\n      <th>13</th>\n      <td>0</td>\n      <td>1.373611</td>\n      <td>2.369444</td>\n      <td>4.409722</td>\n      <td>8.501389</td>\n      <td>15.568056</td>\n    </tr>\n    <tr>\n      <th>14</th>\n      <td>0</td>\n      <td>1.373611</td>\n      <td>2.369444</td>\n      <td>4.409722</td>\n      <td>8.501389</td>\n      <td>15.568056</td>\n    </tr>\n    <tr>\n      <th>15</th>\n      <td>0</td>\n      <td>1.437500</td>\n      <td>2.430556</td>\n      <td>4.475000</td>\n      <td>8.581944</td>\n      <td>15.658333</td>\n    </tr>\n    <tr>\n      <th>closing of reactors</th>\n      <td>0</td>\n      <td>1.481944</td>\n      <td>2.476389</td>\n      <td>4.526389</td>\n      <td>8.643056</td>\n      <td>15.730556</td>\n    </tr>\n  </tbody>\n</table>\n</div>"
     },
     "execution_count": 3,
     "metadata": {},
     "output_type": "execute_result"
    }
   ],
   "source": [
    "def change_timeformat(time_format):\n",
    "    h_m_s = str(time_format).split(\":\")\n",
    "    m_format = int(h_m_s[0]) * 60 + int(h_m_s[1]) + int(h_m_s[2]) / 60\n",
    "    return m_format\n",
    "\n",
    "def change_timeformat_h(time_format):\n",
    "    h_m_s = str(time_format).split(\":\")\n",
    "    h_format = int(h_m_s[0]) + (int(h_m_s[1]) + int(h_m_s[2]) / 60) /60\n",
    "    return h_format\n",
    "\n",
    "# creating a table as a lookup to correct all sample measurement times\n",
    "exact_times = pd.read_excel(srt.INPUT_FILE_PATH, sheet_name=\"exact sampling times\")\n",
    "\n",
    "time_correction_df = pd.DataFrame(data=exact_times.iloc[3:12, 3:])\n",
    "time_correction_df.columns = exact_times.loc[2][3:]\n",
    "\n",
    "time_correction_df.reset_index(inplace=True, drop=True)\n",
    "ext_time_corr_df_data =[]\n",
    "for row in time_correction_df.iterrows():\n",
    "    reactor_nr = row[1][\"Reactor\"]\n",
    "    if type(reactor_nr) == int or reactor_nr == \"closing of reactors\":\n",
    "        row[1][\"Reactor\"] = str(reactor_nr)\n",
    "        ext_time_corr_df_data.append(row[1])\n",
    "    else:\n",
    "        reactor_nr = (row[1][\"Reactor\"]).split(\"+\")\n",
    "        for nr in reactor_nr:\n",
    "            row[1][\"Reactor\"] = nr\n",
    "            ext_time_corr_df_data.append(row[1].copy())\n",
    "ext_time_corr_df = pd.DataFrame(data=ext_time_corr_df_data, columns=exact_times.loc[2][3:])\n",
    "ext_time_corr_df.reset_index(drop=True, inplace=True)\n",
    "print(\"The timer was reset to 0 after the first closing of reactors in the \\\"t = 0\\\"-sampling-step\")\n",
    "ext_time_corr_df.columns = [\"Reactor\", 0, 1, 2, 4, 6, 8, 10, 15]\n",
    "\n",
    "# change time format to minutes and set\n",
    "time_cols = ext_time_corr_df.columns.difference([\"Reactor\"])\n",
    "ext_time_corr_df[time_cols] = ext_time_corr_df[time_cols].apply(lambda x: [change_timeformat_h(d) for d in x])\n",
    "ext_time_corr_df[0] = ext_time_corr_df[0].apply(lambda x: 0 )\n",
    "\n",
    "# set index to reactor\n",
    "ext_time_corr_df.set_index(\"Reactor\", inplace=True)\n",
    "\n",
    "# Sampling 6h and 10h were only used for sec not NMR -> no conversion for these.\n",
    "skip_hours_mask = [True if h not in hours_list else False for h in ext_time_corr_df.columns]\n",
    "ext_time_corr_df.drop(columns=time_cols[skip_hours_mask], inplace=True)\n",
    "\n",
    "ext_time_corr_df\n",
    "\n"
   ],
   "metadata": {
    "collapsed": false,
    "pycharm": {
     "name": "#%%\n"
    }
   }
  },
  {
   "cell_type": "code",
   "execution_count": 4,
   "outputs": [],
   "source": [
    "# plotting the kinetic curves of the RAFT polymerization\n",
    "# generate a reformatted table with a entries per sample analysis taken described with a column of the right time\n",
    "\n",
    "# create a dataframe with just the information needed to append to\n",
    "kinetic_curves = []\n",
    "for index, polymerisation_kinetic in srt.df.iterrows():\n",
    "    # get the right hours list\n",
    "    # polymerisation_kinetic[\"reactor\"]\n",
    "\n",
    "    kinetic_curve_entries = pd.DataFrame(\n",
    "        {\"conversion\" : polymerisation_kinetic[conversion_list], \"time\" : hours_list, \"reactor\" : polymerisation_kinetic[\"reactor\"]})\n",
    "    kinetic_curve_entries[\"experiment\"] = str(index)+\"_\"+polymerisation_kinetic[\"monomer\"]+\"_\"+polymerisation_kinetic[\"RAFT-Agent\"]+\"_\"+polymerisation_kinetic[\"solvent\"]\n",
    "\n",
    "    # the times are dependent on the current reactor, get current\n",
    "    current_reactor_nr = str(polymerisation_kinetic[\"reactor\"])\n",
    "    current_time_list = ext_time_corr_df.loc[current_reactor_nr]\n",
    "    kinetic_curve_entries[\"time\"] = list(current_time_list)\n",
    "\n",
    "    kinetic_curves.append(kinetic_curve_entries)\n",
    "\n",
    "kinetic_curves_df = pd.concat(kinetic_curves)"
   ],
   "metadata": {
    "collapsed": false,
    "pycharm": {
     "name": "#%%\n"
    }
   }
  },
  {
   "cell_type": "code",
   "execution_count": 5,
   "outputs": [
    {
     "data": {
      "text/plain": "317"
     },
     "execution_count": 5,
     "metadata": {},
     "output_type": "execute_result"
    }
   ],
   "source": [
    "len(kinetic_curves) # was 325 before getting away the average below 0.1, now its 317\n",
    "# kinetic_curves[1][\"experiment\"].iloc[1]\n",
    "# px.line(kinetic_curves_df[:20], x=\"time\", y=\"conversion\", color=\"experiment\")"
   ],
   "metadata": {
    "collapsed": false,
    "pycharm": {
     "name": "#%%\n"
    }
   }
  },
  {
   "cell_type": "code",
   "execution_count": 6,
   "outputs": [
    {
     "name": "stdout",
     "output_type": "stream",
     "text": [
      "visualisation of the functions\n"
     ]
    }
   ],
   "source": [
    "# and fit curve and the derivation\n",
    "# find the maximum of the derivation\n",
    "\n",
    "'''\n",
    "deprecated: more theoretical accurate version but practically worse applicable\n",
    "    # L is responsible for scaling the output range from [0,1] to [0,L]\n",
    "    # b\n",
    "    # k is responsible for scaling the input, which remains in (-inf,inf)\n",
    "    # x0\n",
    "def sigmoid (x, L ,x0, k, b):\n",
    "    y = L / (1 + np.exp(-k*(x-x0)))+b\n",
    "    return (y)\n",
    "\n",
    "\n",
    "def sigmoid_derivative(x, L ,x0, k, b): # ToDo: check if this is the correct derivative\n",
    "    y = (L*k*np.exp(-k*(x-x0)))/((np.exp(-k*(x-x0))+1)**2)\n",
    "    return (y)\n",
    "'''\n",
    "def neg_growth(x, L, k):\n",
    "    y = L * (1 - np.exp(k*(-x)))\n",
    "    return y\n",
    "\n",
    "def neg_growth_derivative(x, L, k):\n",
    "    y = L * k * np.exp(k*(-x))\n",
    "    return y\n",
    "\n",
    "def linear_growth(x, m):\n",
    "    y = m * x\n",
    "    return y\n",
    "\n",
    "def linear_growth_derivative(x, m):\n",
    "    return m\n",
    "\n",
    "xrange = np.arange(-0.2, 5, 0.1)\n",
    "example_fig = px.line()\n",
    "for testparams in ([1,1], [2,1], [1,2]):\n",
    "    example_fig.add_scatter(x=xrange, y=neg_growth(xrange, *testparams))\n",
    "    example_fig.add_scatter(x=xrange, y=neg_growth_derivative(xrange, *testparams), opacity=0.5, line=dict(dash=\"dot\"))\n",
    "\n",
    "print(\"visualisation of the functions\")\n",
    "# example_fig.show()"
   ],
   "metadata": {
    "collapsed": false,
    "pycharm": {
     "name": "#%%\n"
    }
   }
  },
  {
   "cell_type": "code",
   "execution_count": 40,
   "outputs": [
    {
     "name": "stderr",
     "output_type": "stream",
     "text": [
      "C:\\Users\\Nex\\mambaforge\\envs\\PFP2\\Lib\\site-packages\\scipy\\optimize\\_minpack_py.py:1010: OptimizeWarning:\n",
      "\n",
      "Covariance of the parameters could not be estimated\n",
      "\n"
     ]
    },
    {
     "name": "stdout",
     "output_type": "stream",
     "text": [
      "[] 0.0\n"
     ]
    },
    {
     "data": {
      "text/plain": "        Experiment  max_conversion reaction_end    fit_p1    fit_p2  \\\n0        0_6_A_DMF        0.516574  yet to calc  0.776540  0.072249   \n1       1_6_A_DMSO        0.697321  yet to calc  0.814980  0.128174   \n2        2_6_A_Tol        0.323281  yet to calc  1.000000  0.025778   \n3        3_7_A_DMF        0.565125  yet to calc  0.953088  0.059934   \n4       4_7_A_DMSO        0.790565  yet to calc  1.000000  0.097675   \n..             ...             ...          ...       ...       ...   \n309    312_9_E_DMF        0.734328  yet to calc  0.796486  0.165271   \n310   313_9_E_DMSO        0.546547  yet to calc  0.929680  0.204371   \n311    314_9_E_Tol        0.360000  yet to calc  0.383237  0.197675   \n312   315_10_E_DMF        0.840426  yet to calc  0.928939  0.154520   \n313  316_10_E_DMSO        1.000000  yet to calc  1.000000  0.356366   \n\n     p1_variance  p1_p2_covariance  p2_variance  squared_error  \\\n0       0.002818         -0.000396     0.000057   1.948374e-04   \n1       0.000055         -0.000016     0.000005   2.663440e-05   \n2       0.004197         -0.000128     0.000004   3.354045e-06   \n3       0.009147         -0.000816     0.000074   4.525607e-04   \n4       0.004018         -0.000699     0.000129   6.790071e-04   \n..           ...               ...          ...            ...   \n309     0.000009         -0.000004     0.000002   1.305254e-05   \n310     0.000025         -0.000008     0.000002   4.779775e-07   \n311     0.000560         -0.000579     0.000826   1.283833e-03   \n312     0.001383         -0.000441     0.000173   1.803572e-03   \n313     0.012476         -0.009427     0.013574   7.115907e-02   \n\n                                                 xdata  \\\n0    [0.0, 2.011111111111111, 4.018055555555556, 8....   \n1    [0.0, 2.011111111111111, 4.018055555555556, 8....   \n2    [0.0, 4.0777777777777775, 8.090277777777779, 1...   \n3    [0.0, 1.073611111111111, 2.0680555555555555, 4...   \n4    [0.0, 1.1319444444444444, 2.125, 8.18055555555...   \n..                                                 ...   \n309  [0.0, 1.2513888888888889, 2.2416666666666667, ...   \n310  [0.0, 1.3125, 2.301388888888889, 4.33611111111...   \n311  [0.0, 1.3125, 2.301388888888889, 4.33611111111...   \n312  [0.0, 1.3736111111111111, 2.3694444444444445, ...   \n313  [0.0, 1.3736111111111111, 2.3694444444444445, ...   \n\n                                                 ydata  \n0    [0.0, 0.10436494913029215, 0.2057761732851986,...  \n1    [0.0, 0.18921601058551107, 0.327820046311611, ...  \n2    [0.0, 0.09824902723735407, 0.1877431906614786,...  \n3    [0.0, 0.06908094948265364, 0.09403530127814974...  \n4    [0.0, 0.11448317307692302, 0.18088942307692302...  \n..                                                 ...  \n309  [0.0, 0.14925373134328357, 0.24477611940298516...  \n310  [0.0, 0.21921921921921916, 0.3483483483483484,...  \n311  [0.0, 0.11142857142857143, 0.11714285714285722...  \n312  [0.0, 0.14893617021276595, 0.2695035460992907,...  \n313  [0.0, 0.2989690721649485, 0.4364261168384881, ...  \n\n[314 rows x 11 columns]",
      "text/html": "<div>\n<style scoped>\n    .dataframe tbody tr th:only-of-type {\n        vertical-align: middle;\n    }\n\n    .dataframe tbody tr th {\n        vertical-align: top;\n    }\n\n    .dataframe thead th {\n        text-align: right;\n    }\n</style>\n<table border=\"1\" class=\"dataframe\">\n  <thead>\n    <tr style=\"text-align: right;\">\n      <th></th>\n      <th>Experiment</th>\n      <th>max_conversion</th>\n      <th>reaction_end</th>\n      <th>fit_p1</th>\n      <th>fit_p2</th>\n      <th>p1_variance</th>\n      <th>p1_p2_covariance</th>\n      <th>p2_variance</th>\n      <th>squared_error</th>\n      <th>xdata</th>\n      <th>ydata</th>\n    </tr>\n  </thead>\n  <tbody>\n    <tr>\n      <th>0</th>\n      <td>0_6_A_DMF</td>\n      <td>0.516574</td>\n      <td>yet to calc</td>\n      <td>0.776540</td>\n      <td>0.072249</td>\n      <td>0.002818</td>\n      <td>-0.000396</td>\n      <td>0.000057</td>\n      <td>1.948374e-04</td>\n      <td>[0.0, 2.011111111111111, 4.018055555555556, 8....</td>\n      <td>[0.0, 0.10436494913029215, 0.2057761732851986,...</td>\n    </tr>\n    <tr>\n      <th>1</th>\n      <td>1_6_A_DMSO</td>\n      <td>0.697321</td>\n      <td>yet to calc</td>\n      <td>0.814980</td>\n      <td>0.128174</td>\n      <td>0.000055</td>\n      <td>-0.000016</td>\n      <td>0.000005</td>\n      <td>2.663440e-05</td>\n      <td>[0.0, 2.011111111111111, 4.018055555555556, 8....</td>\n      <td>[0.0, 0.18921601058551107, 0.327820046311611, ...</td>\n    </tr>\n    <tr>\n      <th>2</th>\n      <td>2_6_A_Tol</td>\n      <td>0.323281</td>\n      <td>yet to calc</td>\n      <td>1.000000</td>\n      <td>0.025778</td>\n      <td>0.004197</td>\n      <td>-0.000128</td>\n      <td>0.000004</td>\n      <td>3.354045e-06</td>\n      <td>[0.0, 4.0777777777777775, 8.090277777777779, 1...</td>\n      <td>[0.0, 0.09824902723735407, 0.1877431906614786,...</td>\n    </tr>\n    <tr>\n      <th>3</th>\n      <td>3_7_A_DMF</td>\n      <td>0.565125</td>\n      <td>yet to calc</td>\n      <td>0.953088</td>\n      <td>0.059934</td>\n      <td>0.009147</td>\n      <td>-0.000816</td>\n      <td>0.000074</td>\n      <td>4.525607e-04</td>\n      <td>[0.0, 1.073611111111111, 2.0680555555555555, 4...</td>\n      <td>[0.0, 0.06908094948265364, 0.09403530127814974...</td>\n    </tr>\n    <tr>\n      <th>4</th>\n      <td>4_7_A_DMSO</td>\n      <td>0.790565</td>\n      <td>yet to calc</td>\n      <td>1.000000</td>\n      <td>0.097675</td>\n      <td>0.004018</td>\n      <td>-0.000699</td>\n      <td>0.000129</td>\n      <td>6.790071e-04</td>\n      <td>[0.0, 1.1319444444444444, 2.125, 8.18055555555...</td>\n      <td>[0.0, 0.11448317307692302, 0.18088942307692302...</td>\n    </tr>\n    <tr>\n      <th>...</th>\n      <td>...</td>\n      <td>...</td>\n      <td>...</td>\n      <td>...</td>\n      <td>...</td>\n      <td>...</td>\n      <td>...</td>\n      <td>...</td>\n      <td>...</td>\n      <td>...</td>\n      <td>...</td>\n    </tr>\n    <tr>\n      <th>309</th>\n      <td>312_9_E_DMF</td>\n      <td>0.734328</td>\n      <td>yet to calc</td>\n      <td>0.796486</td>\n      <td>0.165271</td>\n      <td>0.000009</td>\n      <td>-0.000004</td>\n      <td>0.000002</td>\n      <td>1.305254e-05</td>\n      <td>[0.0, 1.2513888888888889, 2.2416666666666667, ...</td>\n      <td>[0.0, 0.14925373134328357, 0.24477611940298516...</td>\n    </tr>\n    <tr>\n      <th>310</th>\n      <td>313_9_E_DMSO</td>\n      <td>0.546547</td>\n      <td>yet to calc</td>\n      <td>0.929680</td>\n      <td>0.204371</td>\n      <td>0.000025</td>\n      <td>-0.000008</td>\n      <td>0.000002</td>\n      <td>4.779775e-07</td>\n      <td>[0.0, 1.3125, 2.301388888888889, 4.33611111111...</td>\n      <td>[0.0, 0.21921921921921916, 0.3483483483483484,...</td>\n    </tr>\n    <tr>\n      <th>311</th>\n      <td>314_9_E_Tol</td>\n      <td>0.360000</td>\n      <td>yet to calc</td>\n      <td>0.383237</td>\n      <td>0.197675</td>\n      <td>0.000560</td>\n      <td>-0.000579</td>\n      <td>0.000826</td>\n      <td>1.283833e-03</td>\n      <td>[0.0, 1.3125, 2.301388888888889, 4.33611111111...</td>\n      <td>[0.0, 0.11142857142857143, 0.11714285714285722...</td>\n    </tr>\n    <tr>\n      <th>312</th>\n      <td>315_10_E_DMF</td>\n      <td>0.840426</td>\n      <td>yet to calc</td>\n      <td>0.928939</td>\n      <td>0.154520</td>\n      <td>0.001383</td>\n      <td>-0.000441</td>\n      <td>0.000173</td>\n      <td>1.803572e-03</td>\n      <td>[0.0, 1.3736111111111111, 2.3694444444444445, ...</td>\n      <td>[0.0, 0.14893617021276595, 0.2695035460992907,...</td>\n    </tr>\n    <tr>\n      <th>313</th>\n      <td>316_10_E_DMSO</td>\n      <td>1.000000</td>\n      <td>yet to calc</td>\n      <td>1.000000</td>\n      <td>0.356366</td>\n      <td>0.012476</td>\n      <td>-0.009427</td>\n      <td>0.013574</td>\n      <td>7.115907e-02</td>\n      <td>[0.0, 1.3736111111111111, 2.3694444444444445, ...</td>\n      <td>[0.0, 0.2989690721649485, 0.4364261168384881, ...</td>\n    </tr>\n  </tbody>\n</table>\n<p>314 rows × 11 columns</p>\n</div>"
     },
     "execution_count": 40,
     "metadata": {},
     "output_type": "execute_result"
    }
   ],
   "source": [
    "fig = px.line(title=\"Kinetic Curve Fit\", labels={\"x\":\"time\", \"y\":\"conversion\"})\n",
    "hard_to_fit = [] # array for kinetic fits that meet a filter criteria further down the code\n",
    "colors = px.colors.qualitative.Plotly # set up a simple color palette\n",
    "extended_xdata = np.linspace(-1, 16.5, 100) # x data array for\n",
    "\n",
    "# create new dataframe with kinetics per row\n",
    "# kinetic_curve_columns = [\"Experiment\", \"max_conversion\", \"reaction_end\", \"squared_error\"]\n",
    "kinetics_df = pd.DataFrame()\n",
    "\n",
    "def add_fits_to_plot(fit_func, fit_func_derivative, fit_func_params, marker_dic):\n",
    "    fig.add_scatter(\n",
    "        x=extended_xdata, y=fit_func(extended_xdata, *fit_func_params),\n",
    "        opacity=1, line=dict(dash=\"dot\"), name=f\"{fit_func.__name__} fit\", marker=marker_dic)\n",
    "    fig.add_scatter(\n",
    "        x=extended_xdata, y=fit_func_derivative(extended_xdata, *fit_func_params),\n",
    "        opacity=0.3, line=dict(dash=\"dash\"), name=f\"{fit_func_derivative.__name__}\", marker=marker_dic)\n",
    "\n",
    "def fit_and_exclude_outliers(x, y, fit_func, p0, bounds, nan_policy=\"omit\", iteration=1, outliers=None):\n",
    "    outliers = outliers if outliers is not None else []\n",
    "\n",
    "    cf_data = curve_fit(f=fit_func, xdata=x, ydata=y, p0=p0, nan_policy=nan_policy, maxfev=800 * 10, bounds=bounds)\n",
    "\n",
    "    # calculate the fit points\n",
    "    fit_points = np.array([fit_func(x, *cf_data[0]) for x in x])\n",
    "    # calculate the standard deviation of the residuals between the fit and the datapoints\n",
    "    sigma = np.std(fit_points - y)\n",
    "\n",
    "    # exclude the outliers\n",
    "    mask = ~(np.abs(fit_points - y) > 2 * sigma)\n",
    "    if not mask.all():\n",
    "        return fit_and_exclude_outliers(x=x[mask], y=y[mask], fit_func=fit_func, p0=cf_data[0], bounds=bounds, nan_policy=nan_policy, iteration=iteration+1, outliers=outliers + [x[~mask]])\n",
    "\n",
    "    result = {\"x\": x, \"y\": y, \"p_opt\" : cf_data[0], \"p_cov\" : cf_data[1], \"excluded_points\" : (x[~mask],y[~mask]), \"iteration\" : iteration, \"outliers\" : outliers}\n",
    "    return result\n",
    "\n",
    "for idx, kinetic_curve in enumerate(kinetic_curves):\n",
    "    # first make sure the datapoints are in the right format and not sometimes int sometimes float\n",
    "    ydata = np.array(kinetic_curve[\"conversion\"].values, dtype=float)\n",
    "    xdata = np.array(kinetic_curve[\"time\"].values, dtype=float)\n",
    "    # exclude the nan values from the data\n",
    "    mask = ~np.isnan(ydata)\n",
    "    xdata, ydata = xdata[mask], ydata[mask]\n",
    "\n",
    "\n",
    "    # choosing a few test function\n",
    "    # if not idx in (316, 301, 302):\n",
    "    #     continue\n",
    "\n",
    "    # fitting section\n",
    "    p0 = [max(ydata), 0.1] # this is a mandatory initial guess\n",
    "    ng_fit = fit_and_exclude_outliers(x=xdata, y=ydata, fit_func=neg_growth, p0=p0, bounds=([0, -np.inf], [1, np.inf]))\n",
    "        # f=neg_growth, xdata=xdata, ydata=ydata, p0=p0, nan_policy=\"omit\", maxfev=800*10, bounds=([0, -np.inf], [1, np.inf]))\n",
    "    popt, pcov = ng_fit[\"p_opt\"], ng_fit[\"p_cov\"]\n",
    "    ydata, xdata = ng_fit[\"y\"], ng_fit[\"x\"]\n",
    "\n",
    "    # if ng_fit[\"iteration\"] > 1:\n",
    "    #     print(idx, ng_fit[\"p_cov\"])\n",
    "\n",
    "        # fit with linear growth\n",
    "    p0_l = [max(ydata)/7]\n",
    "    l_fit = fit_and_exclude_outliers(x=xdata, y=ydata, fit_func=linear_growth, p0=p0_l, bounds=([0], [np.inf]))\n",
    "    popt_l, pcov_l = l_fit[\"p_opt\"], l_fit[\"p_cov\"]\n",
    "\n",
    "    # calculate the squared error of fit and data points\n",
    "    y_st =[]\n",
    "    x_st = []\n",
    "    for y_val, x_val in zip(ydata, xdata):\n",
    "        if np.isnan(y_val) or np.isnan(x_val):\n",
    "            continue\n",
    "        y_st.append(y_val)\n",
    "        x_st.append(x_val)\n",
    "    y_st = np.array(y_st)\n",
    "    x_st = np.array(x_st)\n",
    "    squared_error = np.sum((y_st - neg_growth(x_st, *popt))**2)\n",
    "    # print(\"{:.6f}\".format(squared_error), str(idx) + \": The optimal parameters are \" + \" and \".join(\"%.3f\" % x for x in popt) + \". The variance is \" + \" and respectively \".join(\"{:.3f} {:.3f}\".format(x, y) for x, y in pcov) + \".\")\n",
    "\n",
    "    # ToDo: fill new dataframe\n",
    "    new_row = pd.DataFrame({\"Experiment\":kinetic_curve[\"experiment\"].iloc[1], \"max_conversion\":max(ydata),\n",
    "                        \"reaction_end\":\"yet to calc\", \"fit_p1\":[popt[0]],\"fit_p2\":[popt[1]],\n",
    "                            \"p1_variance\":[pcov[0][0]],\"p1_p2_covariance\":[pcov[0][1]],\"p2_variance\":[pcov[1][1]], \"squared_error\":squared_error, \"xdata\":[xdata], \"ydata\":[ydata]})\n",
    "    kinetics_df = pd.concat([kinetics_df, new_row])\n",
    "\n",
    "    # filter for inspection\n",
    "    # if not ((popt[1]) < 0.001).any(): continue\n",
    "    # hard_to_fit.append(idx)\n",
    "\n",
    "''' comment out if no plot is needed.\n",
    "    marker_dict = dict(color=colors[idx%len(colors)]) # set same colors per kinetic\n",
    "    fig.add_scatter(x=xdata, y=ydata, mode=\"lines+markers\", opacity=1, name=kinetic_curve[\"experiment\"].iloc[1], marker=marker_dict)\n",
    "    add_fits_to_plot(neg_growth, neg_growth_derivative, popt, marker_dict)\n",
    "    # add_fits_to_plot(linear_growth, linear_growth_derivative, [popt_l], marker_dict)\n",
    "\n",
    "\n",
    "fig.update_layout(\n",
    "    yaxis=dict(\n",
    "        range=[-0.1,1]\n",
    "    ),\n",
    "    xaxis_title=\"Time [h]\",\n",
    "    yaxis_title=\"Conversion [%]\"\n",
    ")\n",
    "fig.show()\n",
    "# '''\n",
    "\n",
    "print(hard_to_fit, len(hard_to_fit)/len(kinetic_curves))\n",
    "kinetics_df.reset_index(drop=True, inplace=True)\n",
    "kinetics_df.drop(axis=\"index\", index=kinetics_df[kinetics_df[\"max_conversion\"] <= 0].index, inplace=True)\n",
    "kinetics_df.reset_index(drop=True, inplace=True)\n",
    "kinetics_df"
   ],
   "metadata": {
    "collapsed": false,
    "pycharm": {
     "name": "#%%\n"
    }
   }
  },
  {
   "cell_type": "code",
   "execution_count": 41,
   "outputs": [
    {
     "data": {
      "text/plain": "        Experiment  max_conversion reaction_end    fit_p1    fit_p2  \\\n0        0_6_A_DMF        0.516574  yet to calc  0.776540  0.072249   \n1       1_6_A_DMSO        0.697321  yet to calc  0.814980  0.128174   \n2        2_6_A_Tol        0.323281  yet to calc  1.000000  0.025778   \n3        3_7_A_DMF        0.565125  yet to calc  0.953088  0.059934   \n4       4_7_A_DMSO        0.790565  yet to calc  1.000000  0.097675   \n..             ...             ...          ...       ...       ...   \n309    312_9_E_DMF        0.734328  yet to calc  0.796486  0.165271   \n310   313_9_E_DMSO        0.546547  yet to calc  0.929680  0.204371   \n311    314_9_E_Tol        0.360000  yet to calc  0.383237  0.197675   \n312   315_10_E_DMF        0.840426  yet to calc  0.928939  0.154520   \n313  316_10_E_DMSO        1.000000  yet to calc  1.000000  0.356366   \n\n      p1_variance  p1_p2_covariance   p2_variance  squared_error  \\\n0    1.311623e-06     -1.949363e-07  2.285673e-18       0.021570   \n1    2.564318e-08     -7.897067e-09  2.107196e-19       0.002949   \n2    1.953369e-06     -6.278961e-08  1.545011e-19       0.000371   \n3    4.257136e-06     -4.016792e-07  2.958034e-18       0.050102   \n4    1.870001e-06     -3.442335e-07  5.143697e-18       0.075172   \n..            ...               ...           ...            ...   \n309  4.073758e-09     -1.739567e-09  7.157082e-20       0.001445   \n310  1.150770e-08     -3.813556e-09  9.823572e-20       0.000053   \n311  2.606338e-07     -2.850161e-07  3.283147e-17       0.142131   \n312  6.437870e-07     -2.169661e-07  6.872025e-18       0.199671   \n313  5.806634e-06     -4.640892e-06  5.396238e-16       7.877905   \n\n                                                 xdata  \\\n0    [0.0, 2.011111111111111, 4.018055555555556, 8....   \n1    [0.0, 2.011111111111111, 4.018055555555556, 8....   \n2    [0.0, 4.0777777777777775, 8.090277777777779, 1...   \n3    [0.0, 1.073611111111111, 2.0680555555555555, 4...   \n4    [0.0, 1.1319444444444444, 2.125, 8.18055555555...   \n..                                                 ...   \n309  [0.0, 1.2513888888888889, 2.2416666666666667, ...   \n310  [0.0, 1.3125, 2.301388888888889, 4.33611111111...   \n311  [0.0, 1.3125, 2.301388888888889, 4.33611111111...   \n312  [0.0, 1.3736111111111111, 2.3694444444444445, ...   \n313  [0.0, 1.3736111111111111, 2.3694444444444445, ...   \n\n                                                 ydata  \n0    [0.0, 0.10436494913029215, 0.2057761732851986,...  \n1    [0.0, 0.18921601058551107, 0.327820046311611, ...  \n2    [0.0, 0.09824902723735407, 0.1877431906614786,...  \n3    [0.0, 0.06908094948265364, 0.09403530127814974...  \n4    [0.0, 0.11448317307692302, 0.18088942307692302...  \n..                                                 ...  \n309  [0.0, 0.14925373134328357, 0.24477611940298516...  \n310  [0.0, 0.21921921921921916, 0.3483483483483484,...  \n311  [0.0, 0.11142857142857143, 0.11714285714285722...  \n312  [0.0, 0.14893617021276595, 0.2695035460992907,...  \n313  [0.0, 0.2989690721649485, 0.4364261168384881, ...  \n\n[314 rows x 11 columns]",
      "text/html": "<div>\n<style scoped>\n    .dataframe tbody tr th:only-of-type {\n        vertical-align: middle;\n    }\n\n    .dataframe tbody tr th {\n        vertical-align: top;\n    }\n\n    .dataframe thead th {\n        text-align: right;\n    }\n</style>\n<table border=\"1\" class=\"dataframe\">\n  <thead>\n    <tr style=\"text-align: right;\">\n      <th></th>\n      <th>Experiment</th>\n      <th>max_conversion</th>\n      <th>reaction_end</th>\n      <th>fit_p1</th>\n      <th>fit_p2</th>\n      <th>p1_variance</th>\n      <th>p1_p2_covariance</th>\n      <th>p2_variance</th>\n      <th>squared_error</th>\n      <th>xdata</th>\n      <th>ydata</th>\n    </tr>\n  </thead>\n  <tbody>\n    <tr>\n      <th>0</th>\n      <td>0_6_A_DMF</td>\n      <td>0.516574</td>\n      <td>yet to calc</td>\n      <td>0.776540</td>\n      <td>0.072249</td>\n      <td>1.311623e-06</td>\n      <td>-1.949363e-07</td>\n      <td>2.285673e-18</td>\n      <td>0.021570</td>\n      <td>[0.0, 2.011111111111111, 4.018055555555556, 8....</td>\n      <td>[0.0, 0.10436494913029215, 0.2057761732851986,...</td>\n    </tr>\n    <tr>\n      <th>1</th>\n      <td>1_6_A_DMSO</td>\n      <td>0.697321</td>\n      <td>yet to calc</td>\n      <td>0.814980</td>\n      <td>0.128174</td>\n      <td>2.564318e-08</td>\n      <td>-7.897067e-09</td>\n      <td>2.107196e-19</td>\n      <td>0.002949</td>\n      <td>[0.0, 2.011111111111111, 4.018055555555556, 8....</td>\n      <td>[0.0, 0.18921601058551107, 0.327820046311611, ...</td>\n    </tr>\n    <tr>\n      <th>2</th>\n      <td>2_6_A_Tol</td>\n      <td>0.323281</td>\n      <td>yet to calc</td>\n      <td>1.000000</td>\n      <td>0.025778</td>\n      <td>1.953369e-06</td>\n      <td>-6.278961e-08</td>\n      <td>1.545011e-19</td>\n      <td>0.000371</td>\n      <td>[0.0, 4.0777777777777775, 8.090277777777779, 1...</td>\n      <td>[0.0, 0.09824902723735407, 0.1877431906614786,...</td>\n    </tr>\n    <tr>\n      <th>3</th>\n      <td>3_7_A_DMF</td>\n      <td>0.565125</td>\n      <td>yet to calc</td>\n      <td>0.953088</td>\n      <td>0.059934</td>\n      <td>4.257136e-06</td>\n      <td>-4.016792e-07</td>\n      <td>2.958034e-18</td>\n      <td>0.050102</td>\n      <td>[0.0, 1.073611111111111, 2.0680555555555555, 4...</td>\n      <td>[0.0, 0.06908094948265364, 0.09403530127814974...</td>\n    </tr>\n    <tr>\n      <th>4</th>\n      <td>4_7_A_DMSO</td>\n      <td>0.790565</td>\n      <td>yet to calc</td>\n      <td>1.000000</td>\n      <td>0.097675</td>\n      <td>1.870001e-06</td>\n      <td>-3.442335e-07</td>\n      <td>5.143697e-18</td>\n      <td>0.075172</td>\n      <td>[0.0, 1.1319444444444444, 2.125, 8.18055555555...</td>\n      <td>[0.0, 0.11448317307692302, 0.18088942307692302...</td>\n    </tr>\n    <tr>\n      <th>...</th>\n      <td>...</td>\n      <td>...</td>\n      <td>...</td>\n      <td>...</td>\n      <td>...</td>\n      <td>...</td>\n      <td>...</td>\n      <td>...</td>\n      <td>...</td>\n      <td>...</td>\n      <td>...</td>\n    </tr>\n    <tr>\n      <th>309</th>\n      <td>312_9_E_DMF</td>\n      <td>0.734328</td>\n      <td>yet to calc</td>\n      <td>0.796486</td>\n      <td>0.165271</td>\n      <td>4.073758e-09</td>\n      <td>-1.739567e-09</td>\n      <td>7.157082e-20</td>\n      <td>0.001445</td>\n      <td>[0.0, 1.2513888888888889, 2.2416666666666667, ...</td>\n      <td>[0.0, 0.14925373134328357, 0.24477611940298516...</td>\n    </tr>\n    <tr>\n      <th>310</th>\n      <td>313_9_E_DMSO</td>\n      <td>0.546547</td>\n      <td>yet to calc</td>\n      <td>0.929680</td>\n      <td>0.204371</td>\n      <td>1.150770e-08</td>\n      <td>-3.813556e-09</td>\n      <td>9.823572e-20</td>\n      <td>0.000053</td>\n      <td>[0.0, 1.3125, 2.301388888888889, 4.33611111111...</td>\n      <td>[0.0, 0.21921921921921916, 0.3483483483483484,...</td>\n    </tr>\n    <tr>\n      <th>311</th>\n      <td>314_9_E_Tol</td>\n      <td>0.360000</td>\n      <td>yet to calc</td>\n      <td>0.383237</td>\n      <td>0.197675</td>\n      <td>2.606338e-07</td>\n      <td>-2.850161e-07</td>\n      <td>3.283147e-17</td>\n      <td>0.142131</td>\n      <td>[0.0, 1.3125, 2.301388888888889, 4.33611111111...</td>\n      <td>[0.0, 0.11142857142857143, 0.11714285714285722...</td>\n    </tr>\n    <tr>\n      <th>312</th>\n      <td>315_10_E_DMF</td>\n      <td>0.840426</td>\n      <td>yet to calc</td>\n      <td>0.928939</td>\n      <td>0.154520</td>\n      <td>6.437870e-07</td>\n      <td>-2.169661e-07</td>\n      <td>6.872025e-18</td>\n      <td>0.199671</td>\n      <td>[0.0, 1.3736111111111111, 2.3694444444444445, ...</td>\n      <td>[0.0, 0.14893617021276595, 0.2695035460992907,...</td>\n    </tr>\n    <tr>\n      <th>313</th>\n      <td>316_10_E_DMSO</td>\n      <td>1.000000</td>\n      <td>yet to calc</td>\n      <td>1.000000</td>\n      <td>0.356366</td>\n      <td>5.806634e-06</td>\n      <td>-4.640892e-06</td>\n      <td>5.396238e-16</td>\n      <td>7.877905</td>\n      <td>[0.0, 1.3736111111111111, 2.3694444444444445, ...</td>\n      <td>[0.0, 0.2989690721649485, 0.4364261168384881, ...</td>\n    </tr>\n  </tbody>\n</table>\n<p>314 rows × 11 columns</p>\n</div>"
     },
     "execution_count": 41,
     "metadata": {},
     "output_type": "execute_result"
    }
   ],
   "source": [
    "# normalize the errors by dividing them by their respective standard deviation\n",
    "def normalize_errors(errors):\n",
    "    return errors / np.std(errors)\n",
    "\n",
    "for error in [\"squared_error\", \"p1_variance\", \"p2_variance\", \"p1_p2_covariance\"]:\n",
    "    kinetics_df[error] = normalize_errors(kinetics_df[error])\n",
    "\n",
    "kinetics_df"
   ],
   "metadata": {
    "collapsed": false,
    "pycharm": {
     "name": "#%%\n"
    }
   }
  },
  {
   "cell_type": "code",
   "execution_count": 42,
   "outputs": [
    {
     "data": {
      "application/vnd.plotly.v1+json": {
       "data": [
        {
         "alignmentgroup": "True",
         "box": {
          "visible": true
         },
         "hovertemplate": "variable=%{x}<br>value=%{y}<extra></extra>",
         "legendgroup": "",
         "marker": {
          "color": "#636efa"
         },
         "name": "",
         "offsetgroup": "",
         "orientation": "v",
         "points": "all",
         "scalegroup": "True",
         "showlegend": false,
         "x": [
          "squared_error",
          "squared_error",
          "squared_error",
          "squared_error",
          "squared_error",
          "squared_error",
          "squared_error",
          "squared_error",
          "squared_error",
          "squared_error",
          "squared_error",
          "squared_error",
          "squared_error",
          "squared_error",
          "squared_error",
          "squared_error",
          "squared_error",
          "squared_error",
          "squared_error",
          "squared_error",
          "squared_error",
          "squared_error",
          "squared_error",
          "squared_error",
          "squared_error",
          "squared_error",
          "squared_error",
          "squared_error",
          "squared_error",
          "squared_error",
          "squared_error",
          "squared_error",
          "squared_error",
          "squared_error",
          "squared_error",
          "squared_error",
          "squared_error",
          "squared_error",
          "squared_error",
          "squared_error",
          "squared_error",
          "squared_error",
          "squared_error",
          "squared_error",
          "squared_error",
          "squared_error",
          "squared_error",
          "squared_error",
          "squared_error",
          "squared_error",
          "squared_error",
          "squared_error",
          "squared_error",
          "squared_error",
          "squared_error",
          "squared_error",
          "squared_error",
          "squared_error",
          "squared_error",
          "squared_error",
          "squared_error",
          "squared_error",
          "squared_error",
          "squared_error",
          "squared_error",
          "squared_error",
          "squared_error",
          "squared_error",
          "squared_error",
          "squared_error",
          "squared_error",
          "squared_error",
          "squared_error",
          "squared_error",
          "squared_error",
          "squared_error",
          "squared_error",
          "squared_error",
          "squared_error",
          "squared_error",
          "squared_error",
          "squared_error",
          "squared_error",
          "squared_error",
          "squared_error",
          "squared_error",
          "squared_error",
          "squared_error",
          "squared_error",
          "squared_error",
          "squared_error",
          "squared_error",
          "squared_error",
          "squared_error",
          "squared_error",
          "squared_error",
          "squared_error",
          "squared_error",
          "squared_error",
          "squared_error",
          "squared_error",
          "squared_error",
          "squared_error",
          "squared_error",
          "squared_error",
          "squared_error",
          "squared_error",
          "squared_error",
          "squared_error",
          "squared_error",
          "squared_error",
          "squared_error",
          "squared_error",
          "squared_error",
          "squared_error",
          "squared_error",
          "squared_error",
          "squared_error",
          "squared_error",
          "squared_error",
          "squared_error",
          "squared_error",
          "squared_error",
          "squared_error",
          "squared_error",
          "squared_error",
          "squared_error",
          "squared_error",
          "squared_error",
          "squared_error",
          "squared_error",
          "squared_error",
          "squared_error",
          "squared_error",
          "squared_error",
          "squared_error",
          "squared_error",
          "squared_error",
          "squared_error",
          "squared_error",
          "squared_error",
          "squared_error",
          "squared_error",
          "squared_error",
          "squared_error",
          "squared_error",
          "squared_error",
          "squared_error",
          "squared_error",
          "squared_error",
          "squared_error",
          "squared_error",
          "squared_error",
          "squared_error",
          "squared_error",
          "squared_error",
          "squared_error",
          "squared_error",
          "squared_error",
          "squared_error",
          "squared_error",
          "squared_error",
          "squared_error",
          "squared_error",
          "squared_error",
          "squared_error",
          "squared_error",
          "squared_error",
          "squared_error",
          "squared_error",
          "squared_error",
          "squared_error",
          "squared_error",
          "squared_error",
          "squared_error",
          "squared_error",
          "squared_error",
          "squared_error",
          "squared_error",
          "squared_error",
          "squared_error",
          "squared_error",
          "squared_error",
          "squared_error",
          "squared_error",
          "squared_error",
          "squared_error",
          "squared_error",
          "squared_error",
          "squared_error",
          "squared_error",
          "squared_error",
          "squared_error",
          "squared_error",
          "squared_error",
          "squared_error",
          "squared_error",
          "squared_error",
          "squared_error",
          "squared_error",
          "squared_error",
          "squared_error",
          "squared_error",
          "squared_error",
          "squared_error",
          "squared_error",
          "squared_error",
          "squared_error",
          "squared_error",
          "squared_error",
          "squared_error",
          "squared_error",
          "squared_error",
          "squared_error",
          "squared_error",
          "squared_error",
          "squared_error",
          "squared_error",
          "squared_error",
          "squared_error",
          "squared_error",
          "squared_error",
          "squared_error",
          "squared_error",
          "squared_error",
          "squared_error",
          "squared_error",
          "squared_error",
          "squared_error",
          "squared_error",
          "squared_error",
          "squared_error",
          "squared_error",
          "squared_error",
          "squared_error",
          "squared_error",
          "squared_error",
          "squared_error",
          "squared_error",
          "squared_error",
          "squared_error",
          "squared_error",
          "squared_error",
          "squared_error",
          "squared_error",
          "squared_error",
          "squared_error",
          "squared_error",
          "squared_error",
          "squared_error",
          "squared_error",
          "squared_error",
          "squared_error",
          "squared_error",
          "squared_error",
          "squared_error",
          "squared_error",
          "squared_error",
          "squared_error",
          "squared_error",
          "squared_error",
          "squared_error",
          "squared_error",
          "squared_error",
          "squared_error",
          "squared_error",
          "squared_error",
          "squared_error",
          "squared_error",
          "squared_error",
          "squared_error",
          "squared_error",
          "squared_error",
          "squared_error",
          "squared_error",
          "squared_error",
          "squared_error",
          "squared_error",
          "squared_error",
          "squared_error",
          "squared_error",
          "squared_error",
          "squared_error",
          "squared_error",
          "squared_error",
          "squared_error",
          "squared_error",
          "squared_error",
          "squared_error",
          "squared_error",
          "squared_error",
          "squared_error",
          "squared_error",
          "squared_error",
          "squared_error",
          "squared_error",
          "squared_error",
          "squared_error",
          "squared_error",
          "squared_error",
          "squared_error",
          "squared_error",
          "squared_error",
          "squared_error",
          "squared_error",
          "squared_error",
          "squared_error",
          "squared_error",
          "squared_error",
          "squared_error",
          "squared_error",
          "squared_error",
          "squared_error",
          "squared_error",
          "p1_variance",
          "p1_variance",
          "p1_variance",
          "p1_variance",
          "p1_variance",
          "p1_variance",
          "p1_variance",
          "p1_variance",
          "p1_variance",
          "p1_variance",
          "p1_variance",
          "p1_variance",
          "p1_variance",
          "p1_variance",
          "p1_variance",
          "p1_variance",
          "p1_variance",
          "p1_variance",
          "p1_variance",
          "p1_variance",
          "p1_variance",
          "p1_variance",
          "p1_variance",
          "p1_variance",
          "p1_variance",
          "p1_variance",
          "p1_variance",
          "p1_variance",
          "p1_variance",
          "p1_variance",
          "p1_variance",
          "p1_variance",
          "p1_variance",
          "p1_variance",
          "p1_variance",
          "p1_variance",
          "p1_variance",
          "p1_variance",
          "p1_variance",
          "p1_variance",
          "p1_variance",
          "p1_variance",
          "p1_variance",
          "p1_variance",
          "p1_variance",
          "p1_variance",
          "p1_variance",
          "p1_variance",
          "p1_variance",
          "p1_variance",
          "p1_variance",
          "p1_variance",
          "p1_variance",
          "p1_variance",
          "p1_variance",
          "p1_variance",
          "p1_variance",
          "p1_variance",
          "p1_variance",
          "p1_variance",
          "p1_variance",
          "p1_variance",
          "p1_variance",
          "p1_variance",
          "p1_variance",
          "p1_variance",
          "p1_variance",
          "p1_variance",
          "p1_variance",
          "p1_variance",
          "p1_variance",
          "p1_variance",
          "p1_variance",
          "p1_variance",
          "p1_variance",
          "p1_variance",
          "p1_variance",
          "p1_variance",
          "p1_variance",
          "p1_variance",
          "p1_variance",
          "p1_variance",
          "p1_variance",
          "p1_variance",
          "p1_variance",
          "p1_variance",
          "p1_variance",
          "p1_variance",
          "p1_variance",
          "p1_variance",
          "p1_variance",
          "p1_variance",
          "p1_variance",
          "p1_variance",
          "p1_variance",
          "p1_variance",
          "p1_variance",
          "p1_variance",
          "p1_variance",
          "p1_variance",
          "p1_variance",
          "p1_variance",
          "p1_variance",
          "p1_variance",
          "p1_variance",
          "p1_variance",
          "p1_variance",
          "p1_variance",
          "p1_variance",
          "p1_variance",
          "p1_variance",
          "p1_variance",
          "p1_variance",
          "p1_variance",
          "p1_variance",
          "p1_variance",
          "p1_variance",
          "p1_variance",
          "p1_variance",
          "p1_variance",
          "p1_variance",
          "p1_variance",
          "p1_variance",
          "p1_variance",
          "p1_variance",
          "p1_variance",
          "p1_variance",
          "p1_variance",
          "p1_variance",
          "p1_variance",
          "p1_variance",
          "p1_variance",
          "p1_variance",
          "p1_variance",
          "p1_variance",
          "p1_variance",
          "p1_variance",
          "p1_variance",
          "p1_variance",
          "p1_variance",
          "p1_variance",
          "p1_variance",
          "p1_variance",
          "p1_variance",
          "p1_variance",
          "p1_variance",
          "p1_variance",
          "p1_variance",
          "p1_variance",
          "p1_variance",
          "p1_variance",
          "p1_variance",
          "p1_variance",
          "p1_variance",
          "p1_variance",
          "p1_variance",
          "p1_variance",
          "p1_variance",
          "p1_variance",
          "p1_variance",
          "p1_variance",
          "p1_variance",
          "p1_variance",
          "p1_variance",
          "p1_variance",
          "p1_variance",
          "p1_variance",
          "p1_variance",
          "p1_variance",
          "p1_variance",
          "p1_variance",
          "p1_variance",
          "p1_variance",
          "p1_variance",
          "p1_variance",
          "p1_variance",
          "p1_variance",
          "p1_variance",
          "p1_variance",
          "p1_variance",
          "p1_variance",
          "p1_variance",
          "p1_variance",
          "p1_variance",
          "p1_variance",
          "p1_variance",
          "p1_variance",
          "p1_variance",
          "p1_variance",
          "p1_variance",
          "p1_variance",
          "p1_variance",
          "p1_variance",
          "p1_variance",
          "p1_variance",
          "p1_variance",
          "p1_variance",
          "p1_variance",
          "p1_variance",
          "p1_variance",
          "p1_variance",
          "p1_variance",
          "p1_variance",
          "p1_variance",
          "p1_variance",
          "p1_variance",
          "p1_variance",
          "p1_variance",
          "p1_variance",
          "p1_variance",
          "p1_variance",
          "p1_variance",
          "p1_variance",
          "p1_variance",
          "p1_variance",
          "p1_variance",
          "p1_variance",
          "p1_variance",
          "p1_variance",
          "p1_variance",
          "p1_variance",
          "p1_variance",
          "p1_variance",
          "p1_variance",
          "p1_variance",
          "p1_variance",
          "p1_variance",
          "p1_variance",
          "p1_variance",
          "p1_variance",
          "p1_variance",
          "p1_variance",
          "p1_variance",
          "p1_variance",
          "p1_variance",
          "p1_variance",
          "p1_variance",
          "p1_variance",
          "p1_variance",
          "p1_variance",
          "p1_variance",
          "p1_variance",
          "p1_variance",
          "p1_variance",
          "p1_variance",
          "p1_variance",
          "p1_variance",
          "p1_variance",
          "p1_variance",
          "p1_variance",
          "p1_variance",
          "p1_variance",
          "p1_variance",
          "p1_variance",
          "p1_variance",
          "p1_variance",
          "p1_variance",
          "p1_variance",
          "p1_variance",
          "p1_variance",
          "p1_variance",
          "p1_variance",
          "p1_variance",
          "p1_variance",
          "p1_variance",
          "p1_variance",
          "p1_variance",
          "p1_variance",
          "p1_variance",
          "p1_variance",
          "p1_variance",
          "p1_variance",
          "p1_variance",
          "p1_variance",
          "p1_variance",
          "p1_variance",
          "p1_variance",
          "p1_variance",
          "p1_variance",
          "p1_variance",
          "p1_variance",
          "p1_variance",
          "p1_variance",
          "p1_variance",
          "p1_variance",
          "p1_variance",
          "p1_variance",
          "p1_variance",
          "p1_variance",
          "p1_variance",
          "p1_variance",
          "p1_variance",
          "p1_variance",
          "p1_variance",
          "p1_variance",
          "p1_variance",
          "p1_variance",
          "p1_variance",
          "p1_variance",
          "p1_variance",
          "p1_variance",
          "p1_variance",
          "p1_variance",
          "p1_variance",
          "p1_variance",
          "p1_variance",
          "p1_variance",
          "p1_variance",
          "p1_variance",
          "p1_variance",
          "p1_variance",
          "p1_variance",
          "p1_variance",
          "p1_variance",
          "p2_variance",
          "p2_variance",
          "p2_variance",
          "p2_variance",
          "p2_variance",
          "p2_variance",
          "p2_variance",
          "p2_variance",
          "p2_variance",
          "p2_variance",
          "p2_variance",
          "p2_variance",
          "p2_variance",
          "p2_variance",
          "p2_variance",
          "p2_variance",
          "p2_variance",
          "p2_variance",
          "p2_variance",
          "p2_variance",
          "p2_variance",
          "p2_variance",
          "p2_variance",
          "p2_variance",
          "p2_variance",
          "p2_variance",
          "p2_variance",
          "p2_variance",
          "p2_variance",
          "p2_variance",
          "p2_variance",
          "p2_variance",
          "p2_variance",
          "p2_variance",
          "p2_variance",
          "p2_variance",
          "p2_variance",
          "p2_variance",
          "p2_variance",
          "p2_variance",
          "p2_variance",
          "p2_variance",
          "p2_variance",
          "p2_variance",
          "p2_variance",
          "p2_variance",
          "p2_variance",
          "p2_variance",
          "p2_variance",
          "p2_variance",
          "p2_variance",
          "p2_variance",
          "p2_variance",
          "p2_variance",
          "p2_variance",
          "p2_variance",
          "p2_variance",
          "p2_variance",
          "p2_variance",
          "p2_variance",
          "p2_variance",
          "p2_variance",
          "p2_variance",
          "p2_variance",
          "p2_variance",
          "p2_variance",
          "p2_variance",
          "p2_variance",
          "p2_variance",
          "p2_variance",
          "p2_variance",
          "p2_variance",
          "p2_variance",
          "p2_variance",
          "p2_variance",
          "p2_variance",
          "p2_variance",
          "p2_variance",
          "p2_variance",
          "p2_variance",
          "p2_variance",
          "p2_variance",
          "p2_variance",
          "p2_variance",
          "p2_variance",
          "p2_variance",
          "p2_variance",
          "p2_variance",
          "p2_variance",
          "p2_variance",
          "p2_variance",
          "p2_variance",
          "p2_variance",
          "p2_variance",
          "p2_variance",
          "p2_variance",
          "p2_variance",
          "p2_variance",
          "p2_variance",
          "p2_variance",
          "p2_variance",
          "p2_variance",
          "p2_variance",
          "p2_variance",
          "p2_variance",
          "p2_variance",
          "p2_variance",
          "p2_variance",
          "p2_variance",
          "p2_variance",
          "p2_variance",
          "p2_variance",
          "p2_variance",
          "p2_variance",
          "p2_variance",
          "p2_variance",
          "p2_variance",
          "p2_variance",
          "p2_variance",
          "p2_variance",
          "p2_variance",
          "p2_variance",
          "p2_variance",
          "p2_variance",
          "p2_variance",
          "p2_variance",
          "p2_variance",
          "p2_variance",
          "p2_variance",
          "p2_variance",
          "p2_variance",
          "p2_variance",
          "p2_variance",
          "p2_variance",
          "p2_variance",
          "p2_variance",
          "p2_variance",
          "p2_variance",
          "p2_variance",
          "p2_variance",
          "p2_variance",
          "p2_variance",
          "p2_variance",
          "p2_variance",
          "p2_variance",
          "p2_variance",
          "p2_variance",
          "p2_variance",
          "p2_variance",
          "p2_variance",
          "p2_variance",
          "p2_variance",
          "p2_variance",
          "p2_variance",
          "p2_variance",
          "p2_variance",
          "p2_variance",
          "p2_variance",
          "p2_variance",
          "p2_variance",
          "p2_variance",
          "p2_variance",
          "p2_variance",
          "p2_variance",
          "p2_variance",
          "p2_variance",
          "p2_variance",
          "p2_variance",
          "p2_variance",
          "p2_variance",
          "p2_variance",
          "p2_variance",
          "p2_variance",
          "p2_variance",
          "p2_variance",
          "p2_variance",
          "p2_variance",
          "p2_variance",
          "p2_variance",
          "p2_variance",
          "p2_variance",
          "p2_variance",
          "p2_variance",
          "p2_variance",
          "p2_variance",
          "p2_variance",
          "p2_variance",
          "p2_variance",
          "p2_variance",
          "p2_variance",
          "p2_variance",
          "p2_variance",
          "p2_variance",
          "p2_variance",
          "p2_variance",
          "p2_variance",
          "p2_variance",
          "p2_variance",
          "p2_variance",
          "p2_variance",
          "p2_variance",
          "p2_variance",
          "p2_variance",
          "p2_variance",
          "p2_variance",
          "p2_variance",
          "p2_variance",
          "p2_variance",
          "p2_variance",
          "p2_variance",
          "p2_variance",
          "p2_variance",
          "p2_variance",
          "p2_variance",
          "p2_variance",
          "p2_variance",
          "p2_variance",
          "p2_variance",
          "p2_variance",
          "p2_variance",
          "p2_variance",
          "p2_variance",
          "p2_variance",
          "p2_variance",
          "p2_variance",
          "p2_variance",
          "p2_variance",
          "p2_variance",
          "p2_variance",
          "p2_variance",
          "p2_variance",
          "p2_variance",
          "p2_variance",
          "p2_variance",
          "p2_variance",
          "p2_variance",
          "p2_variance",
          "p2_variance",
          "p2_variance",
          "p2_variance",
          "p2_variance",
          "p2_variance",
          "p2_variance",
          "p2_variance",
          "p2_variance",
          "p2_variance",
          "p2_variance",
          "p2_variance",
          "p2_variance",
          "p2_variance",
          "p2_variance",
          "p2_variance",
          "p2_variance",
          "p2_variance",
          "p2_variance",
          "p2_variance",
          "p2_variance",
          "p2_variance",
          "p2_variance",
          "p2_variance",
          "p2_variance",
          "p2_variance",
          "p2_variance",
          "p2_variance",
          "p2_variance",
          "p2_variance",
          "p2_variance",
          "p2_variance",
          "p2_variance",
          "p2_variance",
          "p2_variance",
          "p2_variance",
          "p2_variance",
          "p2_variance",
          "p2_variance",
          "p2_variance",
          "p2_variance",
          "p2_variance",
          "p2_variance",
          "p2_variance",
          "p2_variance",
          "p2_variance",
          "p2_variance",
          "p2_variance",
          "p2_variance",
          "p2_variance",
          "p2_variance",
          "p2_variance",
          "p2_variance",
          "p2_variance",
          "p2_variance",
          "p2_variance",
          "p2_variance",
          "p2_variance",
          "p2_variance",
          "p2_variance",
          "p2_variance",
          "p2_variance",
          "p2_variance",
          "p2_variance",
          "p2_variance",
          "p2_variance",
          "p2_variance",
          "p2_variance",
          "p2_variance",
          "p2_variance",
          "p2_variance",
          "p2_variance",
          "p2_variance",
          "p2_variance",
          "p2_variance",
          "p2_variance",
          "p2_variance",
          "p2_variance",
          "p1_p2_covariance",
          "p1_p2_covariance",
          "p1_p2_covariance",
          "p1_p2_covariance",
          "p1_p2_covariance",
          "p1_p2_covariance",
          "p1_p2_covariance",
          "p1_p2_covariance",
          "p1_p2_covariance",
          "p1_p2_covariance",
          "p1_p2_covariance",
          "p1_p2_covariance",
          "p1_p2_covariance",
          "p1_p2_covariance",
          "p1_p2_covariance",
          "p1_p2_covariance",
          "p1_p2_covariance",
          "p1_p2_covariance",
          "p1_p2_covariance",
          "p1_p2_covariance",
          "p1_p2_covariance",
          "p1_p2_covariance",
          "p1_p2_covariance",
          "p1_p2_covariance",
          "p1_p2_covariance",
          "p1_p2_covariance",
          "p1_p2_covariance",
          "p1_p2_covariance",
          "p1_p2_covariance",
          "p1_p2_covariance",
          "p1_p2_covariance",
          "p1_p2_covariance",
          "p1_p2_covariance",
          "p1_p2_covariance",
          "p1_p2_covariance",
          "p1_p2_covariance",
          "p1_p2_covariance",
          "p1_p2_covariance",
          "p1_p2_covariance",
          "p1_p2_covariance",
          "p1_p2_covariance",
          "p1_p2_covariance",
          "p1_p2_covariance",
          "p1_p2_covariance",
          "p1_p2_covariance",
          "p1_p2_covariance",
          "p1_p2_covariance",
          "p1_p2_covariance",
          "p1_p2_covariance",
          "p1_p2_covariance",
          "p1_p2_covariance",
          "p1_p2_covariance",
          "p1_p2_covariance",
          "p1_p2_covariance",
          "p1_p2_covariance",
          "p1_p2_covariance",
          "p1_p2_covariance",
          "p1_p2_covariance",
          "p1_p2_covariance",
          "p1_p2_covariance",
          "p1_p2_covariance",
          "p1_p2_covariance",
          "p1_p2_covariance",
          "p1_p2_covariance",
          "p1_p2_covariance",
          "p1_p2_covariance",
          "p1_p2_covariance",
          "p1_p2_covariance",
          "p1_p2_covariance",
          "p1_p2_covariance",
          "p1_p2_covariance",
          "p1_p2_covariance",
          "p1_p2_covariance",
          "p1_p2_covariance",
          "p1_p2_covariance",
          "p1_p2_covariance",
          "p1_p2_covariance",
          "p1_p2_covariance",
          "p1_p2_covariance",
          "p1_p2_covariance",
          "p1_p2_covariance",
          "p1_p2_covariance",
          "p1_p2_covariance",
          "p1_p2_covariance",
          "p1_p2_covariance",
          "p1_p2_covariance",
          "p1_p2_covariance",
          "p1_p2_covariance",
          "p1_p2_covariance",
          "p1_p2_covariance",
          "p1_p2_covariance",
          "p1_p2_covariance",
          "p1_p2_covariance",
          "p1_p2_covariance",
          "p1_p2_covariance",
          "p1_p2_covariance",
          "p1_p2_covariance",
          "p1_p2_covariance",
          "p1_p2_covariance",
          "p1_p2_covariance",
          "p1_p2_covariance",
          "p1_p2_covariance",
          "p1_p2_covariance",
          "p1_p2_covariance",
          "p1_p2_covariance",
          "p1_p2_covariance",
          "p1_p2_covariance",
          "p1_p2_covariance",
          "p1_p2_covariance",
          "p1_p2_covariance",
          "p1_p2_covariance",
          "p1_p2_covariance",
          "p1_p2_covariance",
          "p1_p2_covariance",
          "p1_p2_covariance",
          "p1_p2_covariance",
          "p1_p2_covariance",
          "p1_p2_covariance",
          "p1_p2_covariance",
          "p1_p2_covariance",
          "p1_p2_covariance",
          "p1_p2_covariance",
          "p1_p2_covariance",
          "p1_p2_covariance",
          "p1_p2_covariance",
          "p1_p2_covariance",
          "p1_p2_covariance",
          "p1_p2_covariance",
          "p1_p2_covariance",
          "p1_p2_covariance",
          "p1_p2_covariance",
          "p1_p2_covariance",
          "p1_p2_covariance",
          "p1_p2_covariance",
          "p1_p2_covariance",
          "p1_p2_covariance",
          "p1_p2_covariance",
          "p1_p2_covariance",
          "p1_p2_covariance",
          "p1_p2_covariance",
          "p1_p2_covariance",
          "p1_p2_covariance",
          "p1_p2_covariance",
          "p1_p2_covariance",
          "p1_p2_covariance",
          "p1_p2_covariance",
          "p1_p2_covariance",
          "p1_p2_covariance",
          "p1_p2_covariance",
          "p1_p2_covariance",
          "p1_p2_covariance",
          "p1_p2_covariance",
          "p1_p2_covariance",
          "p1_p2_covariance",
          "p1_p2_covariance",
          "p1_p2_covariance",
          "p1_p2_covariance",
          "p1_p2_covariance",
          "p1_p2_covariance",
          "p1_p2_covariance",
          "p1_p2_covariance",
          "p1_p2_covariance",
          "p1_p2_covariance",
          "p1_p2_covariance",
          "p1_p2_covariance",
          "p1_p2_covariance",
          "p1_p2_covariance",
          "p1_p2_covariance",
          "p1_p2_covariance",
          "p1_p2_covariance",
          "p1_p2_covariance",
          "p1_p2_covariance",
          "p1_p2_covariance",
          "p1_p2_covariance",
          "p1_p2_covariance",
          "p1_p2_covariance",
          "p1_p2_covariance",
          "p1_p2_covariance",
          "p1_p2_covariance",
          "p1_p2_covariance",
          "p1_p2_covariance",
          "p1_p2_covariance",
          "p1_p2_covariance",
          "p1_p2_covariance",
          "p1_p2_covariance",
          "p1_p2_covariance",
          "p1_p2_covariance",
          "p1_p2_covariance",
          "p1_p2_covariance",
          "p1_p2_covariance",
          "p1_p2_covariance",
          "p1_p2_covariance",
          "p1_p2_covariance",
          "p1_p2_covariance",
          "p1_p2_covariance",
          "p1_p2_covariance",
          "p1_p2_covariance",
          "p1_p2_covariance",
          "p1_p2_covariance",
          "p1_p2_covariance",
          "p1_p2_covariance",
          "p1_p2_covariance",
          "p1_p2_covariance",
          "p1_p2_covariance",
          "p1_p2_covariance",
          "p1_p2_covariance",
          "p1_p2_covariance",
          "p1_p2_covariance",
          "p1_p2_covariance",
          "p1_p2_covariance",
          "p1_p2_covariance",
          "p1_p2_covariance",
          "p1_p2_covariance",
          "p1_p2_covariance",
          "p1_p2_covariance",
          "p1_p2_covariance",
          "p1_p2_covariance",
          "p1_p2_covariance",
          "p1_p2_covariance",
          "p1_p2_covariance",
          "p1_p2_covariance",
          "p1_p2_covariance",
          "p1_p2_covariance",
          "p1_p2_covariance",
          "p1_p2_covariance",
          "p1_p2_covariance",
          "p1_p2_covariance",
          "p1_p2_covariance",
          "p1_p2_covariance",
          "p1_p2_covariance",
          "p1_p2_covariance",
          "p1_p2_covariance",
          "p1_p2_covariance",
          "p1_p2_covariance",
          "p1_p2_covariance",
          "p1_p2_covariance",
          "p1_p2_covariance",
          "p1_p2_covariance",
          "p1_p2_covariance",
          "p1_p2_covariance",
          "p1_p2_covariance",
          "p1_p2_covariance",
          "p1_p2_covariance",
          "p1_p2_covariance",
          "p1_p2_covariance",
          "p1_p2_covariance",
          "p1_p2_covariance",
          "p1_p2_covariance",
          "p1_p2_covariance",
          "p1_p2_covariance",
          "p1_p2_covariance",
          "p1_p2_covariance",
          "p1_p2_covariance",
          "p1_p2_covariance",
          "p1_p2_covariance",
          "p1_p2_covariance",
          "p1_p2_covariance",
          "p1_p2_covariance",
          "p1_p2_covariance",
          "p1_p2_covariance",
          "p1_p2_covariance",
          "p1_p2_covariance",
          "p1_p2_covariance",
          "p1_p2_covariance",
          "p1_p2_covariance",
          "p1_p2_covariance",
          "p1_p2_covariance",
          "p1_p2_covariance",
          "p1_p2_covariance",
          "p1_p2_covariance",
          "p1_p2_covariance",
          "p1_p2_covariance",
          "p1_p2_covariance",
          "p1_p2_covariance",
          "p1_p2_covariance",
          "p1_p2_covariance",
          "p1_p2_covariance",
          "p1_p2_covariance",
          "p1_p2_covariance",
          "p1_p2_covariance",
          "p1_p2_covariance",
          "p1_p2_covariance",
          "p1_p2_covariance",
          "p1_p2_covariance",
          "p1_p2_covariance",
          "p1_p2_covariance",
          "p1_p2_covariance",
          "p1_p2_covariance",
          "p1_p2_covariance",
          "p1_p2_covariance",
          "p1_p2_covariance",
          "p1_p2_covariance",
          "p1_p2_covariance",
          "p1_p2_covariance",
          "p1_p2_covariance",
          "p1_p2_covariance",
          "p1_p2_covariance",
          "p1_p2_covariance",
          "p1_p2_covariance",
          "p1_p2_covariance",
          "p1_p2_covariance",
          "p1_p2_covariance",
          "p1_p2_covariance",
          "p1_p2_covariance",
          "p1_p2_covariance",
          "p1_p2_covariance",
          "p1_p2_covariance",
          "p1_p2_covariance",
          "p1_p2_covariance",
          "p1_p2_covariance",
          "p1_p2_covariance",
          "p1_p2_covariance",
          "p1_p2_covariance",
          "p1_p2_covariance"
         ],
         "x0": " ",
         "xaxis": "x",
         "y": [
          0.02157013812283694,
          0.0029486515594568615,
          3.7132086467700726E-4,
          0.0501022566549026,
          0.07517176986210908,
          0.15061952179011504,
          2.7372379869570367E-4,
          2.792023484437704,
          0.11412384003411123,
          0.13637447329799268,
          0.04569890627117213,
          0.07536456278817473,
          0.039740308075252875,
          0.4519591026474003,
          0.3001902703494404,
          0.2679631820622386,
          0.3189329492470358,
          0.9008271532474975,
          0.31071461068310324,
          1.6446585767108037,
          0.12855957302822002,
          4.049441545688209,
          5.960455527820241E-4,
          0.0141416048346375,
          1.73029638379079,
          0.07943758647186748,
          2.0657137962106433,
          0.0064894682160994395,
          0.06184378070315557,
          9.878118608952582E-4,
          0.009681909458106397,
          0.19517241435359925,
          0.013411209046101756,
          8.221073095803702E-5,
          0.01433599556805183,
          0.0032395669347901044,
          6.268780198908685E-4,
          0.003169927442409225,
          0.005608533637171894,
          0.01938851479548511,
          0.006744614673082037,
          0.14127863764282306,
          0.1067706825948752,
          0.012271110978897727,
          0.0033839122228606212,
          0.007625962852686811,
          0.0248199268371407,
          0.0654616780098451,
          0.2130898196174667,
          0.05092422392510044,
          0.44421740275466765,
          0.21689492177239114,
          0.21293582994505764,
          0.002211273411246238,
          0.16226692383857128,
          0.1369913709182962,
          0.5034203201236208,
          0.0962951925254795,
          1.9954311233906896,
          0.14391295080091523,
          0.9140180147336975,
          0.1500557073186347,
          1.0597531286117268,
          2.1552138018559273,
          1.3183688223567869,
          0.11196289207868047,
          1.1139609022266816,
          4.235419766573128,
          3.5462324322363736,
          0.008105540223981961,
          0.017402407976696465,
          0.14259661951580363,
          5.540146348682183E-5,
          0.21486227788724585,
          0.023733709170271938,
          0.023133435585005708,
          0.003318039806377361,
          0.011967421816822534,
          0.039203598108930586,
          0.0721455905228899,
          0.008223575378822312,
          0.002153564652124742,
          0.003108795436720823,
          0.035241875019476905,
          4.50251969414713E-4,
          0.0014284768380371854,
          0.10728371671906613,
          0.07813615460668463,
          0.009812403777355544,
          0.001880143983315474,
          0.011669259046872228,
          0.05603537214793767,
          0.0018416407030634498,
          0.434631979772152,
          0.28725286511626824,
          0.0033293648944703247,
          1.130820015370001,
          0.4329163114485059,
          0.16972887462909128,
          1.097335639952909,
          2.499320600619701,
          0.0105837980574732,
          0.28202320773183415,
          2.0190056820404014,
          0.9438060487658204,
          0.5916291843313373,
          2.4300018826376713E-6,
          0.020879631249168827,
          3.713912476792119E-4,
          0.21537103251664438,
          0.004475441197735831,
          0.15416774055800808,
          0.022638463881111702,
          0.010995467382470859,
          0.13568487158819545,
          0.05351409105365578,
          1.7413783756889495E-4,
          0.2199816409724663,
          0.3573199372794137,
          0.06642624238704391,
          0.09315266207608336,
          0.007267231689119695,
          3.012467928068265E-5,
          0.06640342811201816,
          0.5424256768078336,
          0.01161070738471128,
          0.0030462666453761906,
          0.08165996228028362,
          1.8015948508117759E-4,
          0.13974199739250148,
          0.08166522564838213,
          0.3550987567533507,
          2.734690675027881,
          0.14718447311839075,
          0.612088072772909,
          2.8244831858757267,
          0.10327084338725427,
          3.6587008133861567,
          0.48413196022621546,
          4.6905866418891335,
          0.012192883294928276,
          0.2709668725374029,
          1.6907649026144034,
          0.039784895332221855,
          0.04726458659976998,
          0.003470893442422546,
          0.020340878635307435,
          0.0031727123485604694,
          0.07931837870569086,
          9.489442373130885E-5,
          0.03114992178950292,
          0.12177403829702121,
          0.010498368148478895,
          0.00531481167717732,
          0.00477643192700977,
          0.005332770352535957,
          0.10675309375675093,
          0.2907427698135967,
          0.32458663143278266,
          0.002032230342822055,
          1.7821039582810322E-4,
          0.13384889426787291,
          0.7438902079253142,
          0.5886944703167812,
          0.18071932593858997,
          0.06001659269099971,
          8.1540649496528E-4,
          0.02979986085902065,
          0.8109145781070931,
          0.06943929388261562,
          0.013621828966810709,
          4.342528269754673E-4,
          0.027794950742113623,
          0.0015043715827397397,
          2.752785730158779E-4,
          0.01602849021543183,
          0.005328963494613009,
          0.023598822030497624,
          0.005167637248957137,
          0.031321126452666936,
          6.080160973597181E-4,
          0.00890855775554129,
          0.004413075563258409,
          0.09200635440250415,
          2.516749983610218,
          0.009326330906583937,
          0.03699086114601181,
          0.0029711916339150235,
          0.007829792048186655,
          0.021878781765921316,
          0.4757012168135043,
          0.41128414836280675,
          0.005420872764249987,
          0.24996278013569811,
          0.8182465956341165,
          1.0529455264327412,
          0.032816075388215245,
          0.9302656725046013,
          0.207598816702826,
          0.15765285814256508,
          0.2755027111335367,
          0.35550392608141884,
          0.2768479807915997,
          0.17441671595857694,
          0.6739821804295982,
          0.16848347241307196,
          0.48045865478307215,
          2.5550599156848413,
          1.0067592044225486,
          0.49601081619746445,
          1.0458034398478484,
          0.0015374669099998818,
          0.6354171689798578,
          0.0011980410128663212,
          0.00851336440443735,
          2.576042832988684E-4,
          2.489101963123763E-5,
          0.002127141727424948,
          8.036302346558398E-4,
          0.005034332202769332,
          0.018112615008694447,
          0.014093285266315286,
          5.6736610132773325E-5,
          5.452962556806996E-4,
          0.0034768177661504518,
          0.1295902430834697,
          0.015118452140014022,
          0.02287747290437136,
          0.025374163378980314,
          0.0022954721097308835,
          0.6631050417030772,
          4.630633844169846,
          0.0449645961704365,
          0.028372613961036207,
          0.06383617334015614,
          0.15442477640489197,
          0.2261293389567474,
          0.05936145185898877,
          0.4118740288388562,
          0.6533830623676645,
          0.07333026226521029,
          6.777835430835783,
          1.8348422474931023,
          0.17846187095650184,
          0.009397206979021697,
          0.08461959812090776,
          0.4806040707795675,
          0.05332684052597665,
          0.1544417873509496,
          0.006313772849746904,
          0.0070423643386155164,
          0.004623434354619609,
          0.025726654762388595,
          0.019538378066185393,
          0.012548099035055335,
          0.010758161108635948,
          0.009904687334783035,
          0.005541299507576107,
          0.009948472179029305,
          0.0014779500290927631,
          0.02511597268136249,
          0.011155732119332821,
          0.001436755109834282,
          0.010184816108331576,
          0.07297440173367874,
          0.1526224036084068,
          0.33122992287042263,
          3.237694554462332E-5,
          0.25372516781676296,
          0.01611141949293593,
          0.4101311844342957,
          0.163148785404676,
          0.12189936872524736,
          1.7260564079405754,
          0.0029286263872011376,
          0.11163803884795392,
          0.45902082739053396,
          0.022426949110415213,
          0.9026153031157469,
          2.652035520336682,
          4.490968468295524,
          0.005660728276872652,
          0.0281998408867946,
          0.35085899216268834,
          1.2736862435308411,
          2.285849580779243,
          0.3799892362041754,
          0.11966322110772314,
          0.31492285295994477,
          3.524947564096203,
          2.2638218898244427,
          1.5386617429602438,
          3.0407658112461444,
          0.014320497257393084,
          0.0014610486111208154,
          0.001323828799004396,
          0.03311302750185605,
          0.05684023514278147,
          0.02578477868354201,
          0.00601657609565663,
          0.002142203558968339,
          0.014487765986512259,
          0.00781445426790657,
          0.01618238009689906,
          0.16315396495004014,
          0.25870280140272345,
          0.005902345527459735,
          0.023716778708192037,
          6.880209284931543E-4,
          0.0014450255252815999,
          5.2916112170567024E-5,
          0.14213101458095098,
          0.1996705214017313,
          7.877905308288145,
          1.3116233314293562E-6,
          2.5643183213277115E-8,
          1.953368993275608E-6,
          4.257136048100403E-6,
          1.8700010637336155E-6,
          3.5271868851098853E-4,
          1.0100625256201513E-7,
          2.2196554742769136E-4,
          8.308103638751093E-8,
          6.917228074125835E-7,
          2.33876214675733E-8,
          4.357187782025093E-6,
          1.9743186820374683E-7,
          0.0010387382500247333,
          2.109053392311722E-4,
          2.7468815753713474E-7,
          0.0019391979199833694,
          0.020258366841824953,
          2.0674255202483913E-6,
          0.0016205793562623682,
          6.684931343395961E-5,
          4.34358924876079E-4,
          3.027848492975779E-10,
          0.5974571325027299,
          0.015355970555963218,
          2.4819167505334913E-6,
          0.00456302382651371,
          2.3999736349705373E-4,
          4.390783845436148E-5,
          5.5640004115795845E-8,
          2.952949839784428E-4,
          0.40330675848396746,
          7.671086716474352E-5,
          7.237386165981346E-8,
          6.545838963074868E-8,
          6.852338547824759E-8,
          0.014211019547824739,
          0.002711726237454609,
          1.0557068635485263E-4,
          0.0034339359808765683,
          0.0056103334830848554,
          0.004908326813892073,
          2.9967574479480272,
          1.5096712876728466E-7,
          1.2849722987395824E-6,
          13.613454175545765,
          0.2694914336822933,
          3.349002877192521E-5,
          1.3556552963085724E-5,
          5.933905149626698E-4,
          1.392911581030132E-4,
          1.4214028804386934E-5,
          7.066319093780496E-4,
          1.1212971737375299E-8,
          5.640500437110633E-5,
          3.478000231042531E-6,
          3.414002830551304E-4,
          1.1006618413376654E-5,
          2.7412709453309886E-5,
          7.06858087558764E-4,
          0.0022776032147622796,
          5.991910589616983E-5,
          0.0034281475470860695,
          0.005543990239570295,
          0.0011014522583800835,
          10.767572249530064,
          4.241119285539347E-4,
          1.4415020068387285E-4,
          0.002443269330851901,
          6.173120405150226E-7,
          4.3697048615148903E-4,
          0.01958501287830208,
          7.510537748902453E-7,
          0.10970419799712992,
          0.3084217781690437,
          1.64116230078131E-7,
          9.887190619940982E-7,
          4.393960729898808E-8,
          5.044630763754818E-6,
          2.535972467839898E-7,
          0.04546296786188794,
          9.198759607521341E-5,
          0.02946616910088371,
          0.006418009165041968,
          1.436027533374159E-5,
          7.943607309234959E-9,
          1.2296954904580937E-7,
          9.495911195228651E-7,
          4.156706502801957E-9,
          9.216857778876344E-4,
          2.1389387969756714E-7,
          0.04668833880149736,
          2.4840641995508827E-5,
          1.1639595322411256E-5,
          9.974503625144995E-6,
          1.0616676102812526E-7,
          0.022887207443844083,
          1.4992104779673888E-5,
          1.6550240364216485E-4,
          2.511074891050873,
          4.162430808457785E-4,
          2.4445241167892518E-5,
          2.6627147822240357E-5,
          2.1484632899795923E-4,
          9.098035293584241E-6,
          3.738826437803223E-4,
          1.128710692720154E-7,
          8.559784924701564E-7,
          6.583162407703339E-5,
          4.6804849238946556E-4,
          3.833031361337995E-4,
          0.0015310652383870539,
          7.967418492102778E-8,
          0.0016717157170971822,
          0.039076282467630716,
          0.0025851245622488094,
          2.627633402182799E-4,
          0.07075986157205617,
          0.39023151046777044,
          0.008105088775474063,
          3.2883888177510295E-6,
          6.793098312068162E-8,
          2.1903400518563665E-8,
          1.240839057748006E-6,
          2.507300951911372E-5,
          3.4351503407824755E-6,
          4.5521954074141734E-8,
          5.643119150935451E-7,
          1.5513045874007736E-8,
          1.149017961433467E-6,
          1.8076642614502443E-7,
          3.518763233843348E-5,
          2.0641595234398742E-5,
          1.4089963053562325E-7,
          3.523913963859634E-5,
          8.329266701032247E-6,
          9.354052501018707E-8,
          5.897218490108164E-5,
          9.449378237061349E-7,
          1.7062647224879177E-5,
          8.061684978154114E-6,
          6.582838018736774E-7,
          2.115815292677127E-6,
          2.363690683736445E-8,
          0.003916369115405256,
          1.4903132249504485E-6,
          0.004345961029991244,
          4.533902613760949E-5,
          2.7155255349639644E-4,
          1.5628530269315359E-6,
          5.927973287447118E-4,
          3.0010875922836984E-4,
          3.8388228108870716E-4,
          5.170118813528694E-4,
          2.8925839474008245E-4,
          0.0016977251288430209,
          0.010462559060727244,
          0.02085238134797537,
          5.562711094678281E-6,
          1.149275036014978E-8,
          9.172032551830312E-8,
          1.8110209209615526E-6,
          8.198724306387313E-5,
          3.643109733206204E-5,
          4.884628456182629E-6,
          6.498583863834112E-7,
          1.899271748769406E-7,
          8.237658697302031E-7,
          2.7208414903655627E-6,
          1.2333255318593292E-7,
          1.8103474943294973E-6,
          1.235720689379448E-5,
          4.789318939725707E-6,
          5.442431351054237E-6,
          5.711385250946317E-6,
          4.996957105867936E-6,
          6.0427238456866594E-5,
          2.2804692779399924E-4,
          1.5869956383320557E-5,
          2.0818583881098235E-6,
          1.7996710806983558E-4,
          9.894923717468762E-6,
          7.432822283231171E-6,
          0.016644633775639444,
          0.007970731624931714,
          1.42063928942472E-4,
          1.0215265347950844E-6,
          3.802146675938142E-7,
          8.594026824314494E-8,
          2.88698655151927E-5,
          1.6686150249061913E-4,
          0.011407190669317085,
          1.1672833122321665E-7,
          1.2563815582451305E-6,
          7.895417240132676E-7,
          5.606728525648524E-7,
          3.816699597501783E-8,
          5.055660096334062E-7,
          1.9715963610842763E-7,
          1.0866125115545681E-7,
          2.049872043372983E-7,
          3.914269204539605E-7,
          1.6481159913280456E-7,
          7.14427546350414E-8,
          8.870136136888358E-7,
          4.124646934240933E-6,
          1.7971314266687388E-6,
          0.09251708843196459,
          2.719277927225867E-4,
          0.01100203349158574,
          1.3118001167464077E-5,
          7.713012427073884E-9,
          1.0444936558529083E-5,
          1.0583127427520259E-6,
          5.01151490521707E-7,
          9.63704684032017E-8,
          4.194571787697822E-8,
          3.139193810096528E-7,
          5.59634967442943E-7,
          4.854651558718365E-6,
          3.311507379131576E-6,
          2.690448853237246E-6,
          1.7206583477644213E-7,
          9.286342353891155E-7,
          4.1271665310203585E-7,
          0.11073312806149678,
          1.100261309474824E-6,
          1.7740728495606588E-7,
          2.7143739559284657E-6,
          2.1170593260408028E-8,
          7.797715390749045E-5,
          1.7993742937239156E-5,
          1.6893358276971876E-7,
          7.540447678530006E-7,
          2.9092445982978555E-7,
          5.597409629852158E-7,
          1.6730955590657042E-7,
          4.201611539146394E-7,
          9.26427709385563E-7,
          3.7619630835200305E-6,
          5.50641593692745E-7,
          2.558862418631913E-4,
          3.5694533920999133E-6,
          6.211656984009847E-7,
          5.593742335703354E-8,
          3.852452588230079E-8,
          8.027708167135901E-7,
          3.243779839878024E-8,
          2.434605365299505E-6,
          1.1714456603141713E-4,
          2.340539277550762E-5,
          1.568046380889441E-4,
          0.08023933941721213,
          5.405580519986147E-8,
          2.140639054053268E-6,
          0.14235402385632032,
          6.648486476360716E-8,
          0.002821939418543664,
          7.763693743472347E-8,
          6.333624022801232E-5,
          0.023371891630697562,
          1.5006460405494497E-7,
          1.8770657916399545E-6,
          1.5992532743619363E-6,
          1.5836905686394292E-5,
          6.888855111286323E-5,
          2.1209563676223048E-5,
          3.697100929354888E-10,
          2.006142067689596E-6,
          9.59632720652435E-9,
          2.0710503867683694E-5,
          9.039632930464247E-7,
          5.7121261633014635E-5,
          6.374770371259637E-7,
          5.338687003079544E-8,
          4.841546440138084E-4,
          3.030032675435984E-4,
          7.018465397857884E-7,
          0.0011349548901298586,
          0.010940162462096073,
          5.076330392440824E-4,
          9.781912942893068E-8,
          1.5012194970709467E-8,
          1.7600110204783867E-4,
          1.6844480940834067E-5,
          9.448284136372649E-4,
          1.659594622613942E-5,
          1.3132727305117574E-5,
          0.05770999372978775,
          0.001022338259551827,
          0.0034376719945410908,
          8.097021368804755E-6,
          0.0028815924084160745,
          0.02682877341864968,
          1.4068027986355437E-7,
          6.717989077956646E-8,
          3.413185162502032E-6,
          2.8370425977593883E-6,
          6.775168347393374E-9,
          7.421846177507728E-7,
          1.2291727872367933E-8,
          0.0021837454674334786,
          1.1612288903855143E-7,
          4.738929555922082E-8,
          1.330304415587595E-6,
          0.0011658973274527357,
          1.175864234327208E-7,
          5.308773453949511E-7,
          1.693256079341081E-8,
          4.073758462516465E-9,
          1.1507696231924449E-8,
          2.6063378306074643E-7,
          6.437869648617763E-7,
          5.806634357684731E-6,
          2.285672526094521E-18,
          2.1071957828788628E-19,
          1.545011326215391E-19,
          2.958034398764185E-18,
          5.143697472461924E-18,
          2.628492743792881E-17,
          8.024824651529689E-18,
          1.3905015872734106E-16,
          3.2970393555461383E-16,
          6.0174928661710025E-18,
          1.539869557666585E-15,
          5.807415834310817E-18,
          1.885751574312038E-18,
          9.367546777118668E-17,
          3.3620964020608704E-17,
          1.4163087957676566E-17,
          8.473647325463512E-17,
          4.262221602808082E-16,
          1.4432722334653702E-16,
          2.0270499004276904E-16,
          1.852399552717617E-17,
          2.205366362622043E-16,
          1.3269775055538638E-15,
          3.3673022769654737E-16,
          9.650936449769311E-16,
          6.924925917368664E-18,
          3.2358865895628737E-16,
          4.662669903611376E-18,
          6.954100975988108E-18,
          6.102784717193427E-18,
          6.191951618667722E-18,
          7.488195263596907E-16,
          8.528856914319217E-18,
          2.288615887060049E-19,
          1.97060421872507E-16,
          7.046025447412654E-18,
          1.423323441503853E-17,
          1.3019261462293964E-17,
          2.417927588609167E-17,
          4.5924766298072623E-17,
          2.1019629711637378E-17,
          7.868177452416082E-17,
          5.750873756393598E-15,
          5.03010856272095E-15,
          1.2085426306633577E-16,
          3.1261748666524924E-15,
          7.799283113778649E-16,
          1.0108621082046125E-17,
          1.0714904793229085E-17,
          1.7970267310013818E-17,
          3.639302142056845E-17,
          1.0598508608153011E-17,
          4.295865197241278E-17,
          1.729110119594407E-19,
          3.223584091424965E-17,
          7.339816306203725E-18,
          1.4667883857598627E-16,
          5.745252328352222E-18,
          3.370424157224859E-16,
          3.4890226024901457E-17,
          1.6659174680576783E-16,
          1.5497692991716876E-17,
          2.1152215235169828E-16,
          3.8440464277713704E-16,
          1.4731028501093743E-16,
          3.83147705009775E-15,
          8.957261349314212E-17,
          1.6240235000551375E-16,
          3.4960945213658744E-16,
          1.5276000260285193E-17,
          4.647208828551447E-17,
          1.524779834325785E-16,
          6.21683320577216E-19,
          4.2077967084296105E-16,
          2.6026291701763787E-16,
          4.0057304299377364E-16,
          6.557662628430352E-18,
          9.994115547815117E-17,
          1.1593156060086057E-16,
          3.7251283598755894E-16,
          5.3443182348483935E-17,
          2.3202218827139227E-18,
          3.055621611606328E-17,
          5.122235295680151E-17,
          3.398481162760482E-18,
          9.642567886416363E-18,
          1.4149870960273429E-15,
          3.055085912372642E-16,
          6.018040245603088E-15,
          4.173913482262545E-18,
          5.007078132607745E-17,
          1.3215331281321366E-16,
          1.2141382395373803E-17,
          1.766084351229909E-17,
          1.2378487934983216E-17,
          3.97614123250128E-18,
          6.426307378178468E-16,
          1.7947367033070645E-17,
          2.083386879071146E-17,
          9.029225742811817E-14,
          1.9889204617789502E-16,
          4.558253763770102E-18,
          1.4518145834397264E-17,
          1.0580528637137039E-16,
          2.878061010529411E-17,
          5.644233260520191E-17,
          5.047256921600602E-21,
          8.863697762048323E-18,
          1.3657672935969652E-18,
          3.6447456806907894E-17,
          5.446683935473475E-18,
          4.899569430222758E-17,
          2.6841870399042194E-16,
          2.1845460755867806E-17,
          1.9914770763115464E-16,
          3.355799978672915E-17,
          9.972582667185492E-19,
          3.9391291279057863E-16,
          3.777410189068244E-15,
          6.195776505450989E-17,
          4.028163900153256E-18,
          3.9854268704524927E-19,
          8.688538223066166E-21,
          2.4802263856756706E-18,
          1.0657879296653099E-16,
          9.150280413071272E-19,
          1.9748701748167532E-19,
          2.698468379261706E-18,
          1.6783598265912947E-20,
          4.191146592740289E-18,
          2.6807346851132053E-18,
          1.7896593631833988E-17,
          9.168012910449752E-17,
          9.32419494104787E-18,
          4.1588335821135453E-17,
          9.460438670945095E-17,
          7.037268970190832E-18,
          1.2969970986153775E-16,
          1.6784129638900092E-17,
          2.759133698326712E-16,
          5.3204066655758725E-17,
          3.0177547990218077E-16,
          7.105318652197556E-17,
          4.559107325777251E-18,
          4.1263808712506374E-17,
          2.2055095145488145E-18,
          2.7241872845278645E-17,
          1.4718389672777546E-18,
          1.621287762353371E-17,
          8.73903003912827E-20,
          1.670558412861172E-17,
          2.1337762402494402E-17,
          5.889236089776551E-18,
          4.682612347365238E-18,
          3.9919309788040545E-18,
          9.64954106899913E-18,
          1.0964764190218312E-16,
          2.1510184177554663E-16,
          1.2089821415664071E-17,
          1.302517649123332E-19,
          2.6122982577390835E-20,
          7.262929335576836E-18,
          1.8323849244540693E-16,
          4.266174095693105E-17,
          1.2676580284823504E-17,
          3.384150920781957E-18,
          2.235248698580779E-18,
          2.2018186768396362E-18,
          2.742529665758592E-17,
          2.716876829028028E-18,
          1.156601727276604E-18,
          5.21329629293915E-19,
          1.2431205407635372E-17,
          1.9089482622928918E-18,
          1.9708542596037024E-19,
          2.9992947391253122E-18,
          3.239042152738359E-18,
          7.410446792323813E-18,
          1.3280779829637058E-18,
          1.707805321308382E-17,
          1.440767907945329E-18,
          6.68028852250122E-18,
          6.454481855462271E-18,
          1.0489331944722454E-16,
          4.654757625634158E-16,
          8.241980254027884E-18,
          1.5959032879614376E-18,
          3.895161099452149E-19,
          4.654399385000626E-19,
          5.199748020678343E-18,
          3.846556788423469E-17,
          2.0019777341714824E-16,
          4.070237372098579E-19,
          7.567698419742877E-18,
          5.962786484797196E-17,
          2.120263444851278E-16,
          4.860434892459487E-18,
          1.7712574558177686E-16,
          2.1866730054319167E-17,
          1.6052883570624788E-17,
          3.13562176219285E-17,
          1.2485496616319428E-16,
          3.5834197875232306E-17,
          8.847029171035536E-17,
          3.6950558631898715E-17,
          7.122727786773441E-18,
          6.698382142491204E-17,
          1.4500742487624426E-15,
          7.423370930842723E-17,
          2.1823940015716348E-16,
          5.468174042051475E-17,
          2.4507912245139426E-19,
          2.3497774937404417E-17,
          4.2031446712100344E-19,
          2.0823983456703603E-18,
          3.3211659944252775E-19,
          2.3022458993491155E-20,
          5.212201023723783E-19,
          5.059574111815149E-19,
          1.4497541833964766E-18,
          3.2047183921008544E-18,
          4.151676834138215E-18,
          7.174823531773629E-20,
          4.213572777384961E-19,
          2.4036374533120537E-18,
          3.8580174422939374E-16,
          1.097938862669174E-17,
          1.2648804833673067E-18,
          2.3886255221674783E-18,
          1.5633922246162181E-19,
          6.135780477793714E-17,
          2.2216278676421926E-16,
          2.2441192701159347E-18,
          2.0472883137061833E-18,
          3.3070128356853186E-18,
          6.971046483849016E-18,
          1.8179294293389083E-17,
          2.5465746319319876E-18,
          1.8553109510522136E-17,
          3.112794618771147E-17,
          3.3217129455207432E-18,
          3.7128149968434847E-16,
          8.304660880898584E-17,
          1.1663913787108677E-16,
          1.8295594949528868E-17,
          8.934741210747405E-16,
          1.8906066363072655E-17,
          6.237363394208746E-18,
          8.656197563828749E-18,
          3.49945289095812E-17,
          1.9380853890022384E-18,
          8.244941020922026E-18,
          1.2461470981684115E-16,
          1.7362249343368043E-16,
          2.066796084157744E-17,
          1.4141248306402752E-16,
          1.4809505413211605E-16,
          1.0498947987895449E-17,
          3.5486521261173416E-17,
          1.9452262320542627E-17,
          8.7181137636893E-17,
          9.580428683352072E-19,
          2.7944238952694916E-19,
          6.601853619496682E-19,
          2.2117776091175847E-17,
          1.399530936226799E-17,
          2.1972949359196267E-17,
          1.0268069568636105E-20,
          1.286671163243194E-17,
          3.3373297407695874E-16,
          2.2894245850073474E-17,
          4.838327765122429E-18,
          1.3927534184589453E-17,
          8.611957945278314E-15,
          2.322707666961506E-19,
          2.5667896787944496E-17,
          4.938141901238827E-17,
          2.0458838733186135E-18,
          1.2245893454849447E-16,
          5.766417575120057E-16,
          2.485586748147504E-16,
          1.1251087971158628E-16,
          8.091172840748237E-16,
          3.9080624070206835E-17,
          4.0523877353200136E-17,
          1.8622279080464376E-16,
          1.7305626963251776E-17,
          8.0334531425596E-18,
          7.576138017604564E-16,
          2.664576275619911E-16,
          3.094205886323399E-16,
          4.4952880822758216E-17,
          3.3904532137039157E-16,
          5.502251974914903E-17,
          1.9348184523316967E-18,
          7.825066896514423E-18,
          9.183400587583988E-18,
          1.4559606547688153E-17,
          17.748329354848558,
          8.471352598604819E-18,
          1.9458285371184155E-17,
          2.9135120858229186E-17,
          4.852197108854621E-19,
          7.724082580881537E-19,
          6.339705122909818E-18,
          1.3194238079022837E-15,
          7.150457619753937E-19,
          4.07872663761933E-16,
          7.547385305349151E-20,
          7.157081742404641E-20,
          9.823571750779147E-20,
          3.2831467307303975E-17,
          6.872024903940645E-18,
          5.396238070083154E-16,
          1.9493626251483133E-7,
          7.897066758043478E-9,
          6.278960985178734E-8,
          4.016791622597726E-7,
          3.4423348285748855E-7,
          1.1003347998623463E-5,
          1.0236147403715653E-7,
          1.9878114185545037E-5,
          4.298993466569016E-7,
          2.1669705221141347E-7,
          4.5036159511228574E-7,
          5.660886622937087E-7,
          6.36170258159106E-8,
          3.563954372385432E-5,
          9.608270277217521E-6,
          1.7348671771975436E-7,
          4.63526163955942E-5,
          3.361586270791445E-4,
          1.818041684739702E-6,
          6.543388694176672E-5,
          4.006861192276947E-6,
          3.508903055389603E-5,
          3.958951794714655E-8,
          0.0016233105247369522,
          4.4017706347578673E-4,
          4.592663122221076E-7,
          1.3885489507092907E-4,
          3.827072592605024E-6,
          1.9938660211873827E-6,
          6.556650493063311E-8,
          4.891818414560079E-6,
          0.001988842576374971,
          2.9244101047513992E-6,
          1.4674058452732666E-8,
          3.790437171837941E-7,
          7.69481057771565E-8,
          5.147183279461446E-5,
          2.150257061337376E-5,
          5.7796082050940085E-6,
          4.5441856219046104E-5,
          3.9299532562913295E-5,
          7.109958595966152E-5,
          0.015024459351204113,
          3.0000746912982798E-6,
          1.4187230206172479E-6,
          0.02361031221224609,
          0.0016592147058954003,
          2.0971971116023326E-6,
          1.3611155882526051E-6,
          1.1811119030523621E-5,
          8.10876629830249E-6,
          1.3865795761483396E-6,
          1.9915727207226963E-5,
          4.5950295275420715E-9,
          4.849661193780125E-6,
          5.618322954146475E-7,
          2.552143466303525E-5,
          9.018119383018798E-7,
          1.0490489716829422E-5,
          1.795550694982736E-5,
          7.039549448997144E-5,
          3.472900215084016E-6,
          9.733614193958982E-5,
          1.6683877058162966E-4,
          4.597572913635678E-5,
          0.023246150658870986,
          2.2210700126002735E-5,
          1.7168774506582884E-5,
          1.0545578601187551E-4,
          3.473102919819163E-7,
          1.630260525402659E-5,
          1.9774503399124166E-4,
          7.814655090890921E-8,
          7.775253493507643E-4,
          0.0010253743973564198,
          8.749979796620459E-7,
          2.8996293244389135E-7,
          2.1812915886485965E-7,
          2.7446171031099574E-6,
          1.0096671457101444E-6,
          1.7839228532611477E-4,
          1.6714449105294046E-6,
          1.0859605375236884E-4,
          6.561012188132314E-5,
          7.991391447090311E-7,
          2.6342412622423623E-8,
          1.1927387580637215E-6,
          1.8727469623426233E-6,
          3.522516463962667E-7,
          7.097947350327348E-6,
          3.6344954334626746E-7,
          2.842672743918111E-4,
          1.9861257466844055E-6,
          1.6026296195226296E-6,
          1.246745927838229E-6,
          7.281874099424178E-8,
          4.3869808279135874E-4,
          1.8406190674535993E-6,
          6.703720249955018E-6,
          0.05449338732655006,
          3.2651978119415E-5,
          1.205990477029269E-6,
          2.227348999011796E-6,
          1.7093160832522953E-5,
          1.7672988552135086E-6,
          1.6572750929364304E-5,
          2.7305872836371054E-9,
          3.0969675980489943E-7,
          1.0849546194376742E-6,
          1.4924778138296587E-5,
          5.228202734110307E-6,
          3.132528668068536E-5,
          4.679097336537937E-7,
          2.1866917454679963E-5,
          3.1923267915413E-4,
          3.369970126207438E-5,
          1.8525594005071707E-6,
          6.041613677421874E-4,
          0.004393808596312046,
          8.108906313253216E-5,
          4.084489602798286E-7,
          1.7734159393772878E-8,
          1.5721133799438303E-9,
          1.948284303566583E-7,
          5.796978962485473E-6,
          2.0188407459533212E-7,
          1.0403574775878333E-8,
          1.3305414160535343E-7,
          1.8230890462922736E-9,
          2.383350803041544E-7,
          6.938385001329064E-8,
          2.8438472604320543E-6,
          4.702172832389762E-6,
          9.934920846637118E-8,
          4.308536228484108E-6,
          2.8656611987835847E-6,
          6.978648502399319E-8,
          9.68263560141458E-6,
          3.9022275414763577E-7,
          6.96844606687968E-6,
          2.3612923892451046E-6,
          1.416987934095183E-6,
          1.1318397567300013E-6,
          2.5778429162073046E-8,
          4.5998606385653146E-5,
          2.0650486317498582E-7,
          3.937460855135034E-5,
          9.34331112247997E-7,
          7.584737540509368E-6,
          4.2271379637668796E-8,
          1.1383228630826096E-5,
          9.145132069397122E-6,
          5.439961942063325E-6,
          5.630153080242494E-6,
          3.887942559012452E-6,
          1.4646910499353637E-5,
          1.2255544125153636E-4,
          2.423319956248921E-4,
          9.089850838226849E-7,
          4.058750585334314E-9,
          5.5782805444034305E-9,
          3.965287489357377E-7,
          1.3866882231473329E-5,
          4.451496261001888E-6,
          8.75797013358827E-7,
          1.625036620321538E-7,
          7.393054698500217E-8,
          1.4997008416815939E-7,
          8.937879994178729E-7,
          5.624159522146688E-8,
          1.640110894184489E-7,
          2.903603741247167E-7,
          8.768580038338221E-7,
          3.6846194679847967E-7,
          1.2135740666852929E-7,
          4.4090300622318787E-7,
          1.6001635304369248E-6,
          4.701637523861709E-6,
          5.246387701342254E-7,
          6.737317661535888E-7,
          1.842641059170597E-6,
          9.283559251975011E-7,
          7.910508109282216E-7,
          1.512031207468311E-4,
          2.201705438613273E-4,
          3.913850007164058E-6,
          1.4278971720992457E-7,
          4.3601194959280784E-8,
          2.1703596424566845E-8,
          1.3980873012035903E-6,
          9.127406919442993E-6,
          1.7288737128480652E-4,
          2.4147947566920474E-8,
          3.274800280407586E-7,
          5.957580027625629E-7,
          8.084221524647607E-7,
          3.646949079311035E-8,
          7.128371776676624E-7,
          1.8045706219697484E-7,
          1.066618893226406E-7,
          2.0936896010640596E-7,
          6.296903523858626E-7,
          1.9093902625504943E-7,
          1.7698027894553948E-7,
          5.336754174691768E-7,
          6.049685123764903E-7,
          1.1413580599366577E-6,
          0.0013251731016820222,
          1.6174159968686712E-5,
          1.7726621156730513E-4,
          2.9477774381339494E-6,
          4.3767642191232356E-9,
          1.7348537858522802E-6,
          7.609547709450682E-8,
          1.1529051075048313E-7,
          2.0369385402271285E-8,
          3.5473789986597762E-9,
          4.587049082828583E-8,
          6.068888637829176E-8,
          3.028647948072746E-7,
          3.7031386534669496E-7,
          3.7998818724384754E-7,
          1.269989207285395E-8,
          7.144470017806774E-8,
          1.12802576589189E-7,
          7.480005392891704E-4,
          3.9214902759126446E-7,
          5.06084244940891E-8,
          2.886560432054075E-7,
          6.197763610689231E-9,
          7.845972931689946E-6,
          6.455423086584262E-6,
          6.416454634960783E-8,
          1.3825328343465195E-7,
          1.016259072651124E-7,
          2.0492000402539402E-7,
          1.420854229834427E-7,
          1.1153170407806267E-7,
          4.1218062135063295E-7,
          1.1559243676824032E-6,
          1.4438221703275418E-7,
          3.449732944487781E-5,
          1.6880467671262607E-6,
          8.821487869333411E-7,
          1.0833790816021439E-7,
          4.2526049536424845E-7,
          3.7550639922284777E-7,
          3.554159014876445E-8,
          5.047256836937074E-7,
          7.324274623987783E-6,
          7.697160684681483E-7,
          4.1137175953585944E-6,
          3.618893009639798E-4,
          3.1116723783181514E-7,
          7.558730127697847E-7,
          5.134915863341608E-4,
          3.378173523107789E-7,
          1.9698004946747713E-5,
          1.7986314615940422E-7,
          4.015892310191983E-6,
          1.6335866988489406E-4,
          4.144225824438558E-8,
          8.268543892230963E-8,
          1.1672114483079212E-7,
          2.125932303481644E-6,
          3.5397351870966867E-6,
          2.432726380505077E-6,
          2.1186743074410724E-10,
          5.508232460092431E-7,
          1.400595020655015E-7,
          2.4471838940863472E-6,
          2.2325233559240634E-7,
          3.2140062787136267E-6,
          4.817918309124526E-6,
          1.2278715179108265E-8,
          1.2744880809128917E-5,
          1.3955767725092035E-5,
          1.342746930867056E-7,
          4.257570189110162E-5,
          2.8714487034184723E-4,
          4.028370143933818E-5,
          3.6794226776344934E-7,
          2.6449053233267683E-7,
          9.451221152731253E-6,
          2.880114065075571E-6,
          4.781017285772096E-5,
          1.906813757684783E-6,
          1.1646002704424332E-6,
          7.56636510142347E-4,
          5.942973082505726E-5,
          1.1781041371710678E-4,
          2.0312142737986078E-6,
          1.1283979275710487E-4,
          1.390477079889112E-4,
          5.898821232288602E-8,
          8.146335081432311E-8,
          6.345496795585561E-7,
          7.242584244570583E-7,
          17.74865219337916,
          2.8450600273887775E-7,
          5.1454771115488287E-8,
          2.8861585396239886E-5,
          2.6023055998715013E-8,
          1.950729475602943E-8,
          3.149449783094973E-7,
          1.4173583657921214E-4,
          3.2053523694504906E-8,
          1.6141274530729855E-6,
          3.935304976252511E-9,
          1.7395667732371067E-9,
          3.813556056805379E-9,
          2.850161160984333E-7,
          2.1696607616275653E-7,
          4.640892016296697E-6
         ],
         "y0": " ",
         "yaxis": "y",
         "type": "violin"
        }
       ],
       "layout": {
        "template": {
         "data": {
          "histogram2dcontour": [
           {
            "type": "histogram2dcontour",
            "colorbar": {
             "outlinewidth": 0,
             "ticks": ""
            },
            "colorscale": [
             [
              0.0,
              "#0d0887"
             ],
             [
              0.1111111111111111,
              "#46039f"
             ],
             [
              0.2222222222222222,
              "#7201a8"
             ],
             [
              0.3333333333333333,
              "#9c179e"
             ],
             [
              0.4444444444444444,
              "#bd3786"
             ],
             [
              0.5555555555555556,
              "#d8576b"
             ],
             [
              0.6666666666666666,
              "#ed7953"
             ],
             [
              0.7777777777777778,
              "#fb9f3a"
             ],
             [
              0.8888888888888888,
              "#fdca26"
             ],
             [
              1.0,
              "#f0f921"
             ]
            ]
           }
          ],
          "choropleth": [
           {
            "type": "choropleth",
            "colorbar": {
             "outlinewidth": 0,
             "ticks": ""
            }
           }
          ],
          "histogram2d": [
           {
            "type": "histogram2d",
            "colorbar": {
             "outlinewidth": 0,
             "ticks": ""
            },
            "colorscale": [
             [
              0.0,
              "#0d0887"
             ],
             [
              0.1111111111111111,
              "#46039f"
             ],
             [
              0.2222222222222222,
              "#7201a8"
             ],
             [
              0.3333333333333333,
              "#9c179e"
             ],
             [
              0.4444444444444444,
              "#bd3786"
             ],
             [
              0.5555555555555556,
              "#d8576b"
             ],
             [
              0.6666666666666666,
              "#ed7953"
             ],
             [
              0.7777777777777778,
              "#fb9f3a"
             ],
             [
              0.8888888888888888,
              "#fdca26"
             ],
             [
              1.0,
              "#f0f921"
             ]
            ]
           }
          ],
          "heatmap": [
           {
            "type": "heatmap",
            "colorbar": {
             "outlinewidth": 0,
             "ticks": ""
            },
            "colorscale": [
             [
              0.0,
              "#0d0887"
             ],
             [
              0.1111111111111111,
              "#46039f"
             ],
             [
              0.2222222222222222,
              "#7201a8"
             ],
             [
              0.3333333333333333,
              "#9c179e"
             ],
             [
              0.4444444444444444,
              "#bd3786"
             ],
             [
              0.5555555555555556,
              "#d8576b"
             ],
             [
              0.6666666666666666,
              "#ed7953"
             ],
             [
              0.7777777777777778,
              "#fb9f3a"
             ],
             [
              0.8888888888888888,
              "#fdca26"
             ],
             [
              1.0,
              "#f0f921"
             ]
            ]
           }
          ],
          "heatmapgl": [
           {
            "type": "heatmapgl",
            "colorbar": {
             "outlinewidth": 0,
             "ticks": ""
            },
            "colorscale": [
             [
              0.0,
              "#0d0887"
             ],
             [
              0.1111111111111111,
              "#46039f"
             ],
             [
              0.2222222222222222,
              "#7201a8"
             ],
             [
              0.3333333333333333,
              "#9c179e"
             ],
             [
              0.4444444444444444,
              "#bd3786"
             ],
             [
              0.5555555555555556,
              "#d8576b"
             ],
             [
              0.6666666666666666,
              "#ed7953"
             ],
             [
              0.7777777777777778,
              "#fb9f3a"
             ],
             [
              0.8888888888888888,
              "#fdca26"
             ],
             [
              1.0,
              "#f0f921"
             ]
            ]
           }
          ],
          "contourcarpet": [
           {
            "type": "contourcarpet",
            "colorbar": {
             "outlinewidth": 0,
             "ticks": ""
            }
           }
          ],
          "contour": [
           {
            "type": "contour",
            "colorbar": {
             "outlinewidth": 0,
             "ticks": ""
            },
            "colorscale": [
             [
              0.0,
              "#0d0887"
             ],
             [
              0.1111111111111111,
              "#46039f"
             ],
             [
              0.2222222222222222,
              "#7201a8"
             ],
             [
              0.3333333333333333,
              "#9c179e"
             ],
             [
              0.4444444444444444,
              "#bd3786"
             ],
             [
              0.5555555555555556,
              "#d8576b"
             ],
             [
              0.6666666666666666,
              "#ed7953"
             ],
             [
              0.7777777777777778,
              "#fb9f3a"
             ],
             [
              0.8888888888888888,
              "#fdca26"
             ],
             [
              1.0,
              "#f0f921"
             ]
            ]
           }
          ],
          "surface": [
           {
            "type": "surface",
            "colorbar": {
             "outlinewidth": 0,
             "ticks": ""
            },
            "colorscale": [
             [
              0.0,
              "#0d0887"
             ],
             [
              0.1111111111111111,
              "#46039f"
             ],
             [
              0.2222222222222222,
              "#7201a8"
             ],
             [
              0.3333333333333333,
              "#9c179e"
             ],
             [
              0.4444444444444444,
              "#bd3786"
             ],
             [
              0.5555555555555556,
              "#d8576b"
             ],
             [
              0.6666666666666666,
              "#ed7953"
             ],
             [
              0.7777777777777778,
              "#fb9f3a"
             ],
             [
              0.8888888888888888,
              "#fdca26"
             ],
             [
              1.0,
              "#f0f921"
             ]
            ]
           }
          ],
          "mesh3d": [
           {
            "type": "mesh3d",
            "colorbar": {
             "outlinewidth": 0,
             "ticks": ""
            }
           }
          ],
          "scatter": [
           {
            "fillpattern": {
             "fillmode": "overlay",
             "size": 10,
             "solidity": 0.2
            },
            "type": "scatter"
           }
          ],
          "parcoords": [
           {
            "type": "parcoords",
            "line": {
             "colorbar": {
              "outlinewidth": 0,
              "ticks": ""
             }
            }
           }
          ],
          "scatterpolargl": [
           {
            "type": "scatterpolargl",
            "marker": {
             "colorbar": {
              "outlinewidth": 0,
              "ticks": ""
             }
            }
           }
          ],
          "bar": [
           {
            "error_x": {
             "color": "#2a3f5f"
            },
            "error_y": {
             "color": "#2a3f5f"
            },
            "marker": {
             "line": {
              "color": "#E5ECF6",
              "width": 0.5
             },
             "pattern": {
              "fillmode": "overlay",
              "size": 10,
              "solidity": 0.2
             }
            },
            "type": "bar"
           }
          ],
          "scattergeo": [
           {
            "type": "scattergeo",
            "marker": {
             "colorbar": {
              "outlinewidth": 0,
              "ticks": ""
             }
            }
           }
          ],
          "scatterpolar": [
           {
            "type": "scatterpolar",
            "marker": {
             "colorbar": {
              "outlinewidth": 0,
              "ticks": ""
             }
            }
           }
          ],
          "histogram": [
           {
            "marker": {
             "pattern": {
              "fillmode": "overlay",
              "size": 10,
              "solidity": 0.2
             }
            },
            "type": "histogram"
           }
          ],
          "scattergl": [
           {
            "type": "scattergl",
            "marker": {
             "colorbar": {
              "outlinewidth": 0,
              "ticks": ""
             }
            }
           }
          ],
          "scatter3d": [
           {
            "type": "scatter3d",
            "line": {
             "colorbar": {
              "outlinewidth": 0,
              "ticks": ""
             }
            },
            "marker": {
             "colorbar": {
              "outlinewidth": 0,
              "ticks": ""
             }
            }
           }
          ],
          "scattermapbox": [
           {
            "type": "scattermapbox",
            "marker": {
             "colorbar": {
              "outlinewidth": 0,
              "ticks": ""
             }
            }
           }
          ],
          "scatterternary": [
           {
            "type": "scatterternary",
            "marker": {
             "colorbar": {
              "outlinewidth": 0,
              "ticks": ""
             }
            }
           }
          ],
          "scattercarpet": [
           {
            "type": "scattercarpet",
            "marker": {
             "colorbar": {
              "outlinewidth": 0,
              "ticks": ""
             }
            }
           }
          ],
          "carpet": [
           {
            "aaxis": {
             "endlinecolor": "#2a3f5f",
             "gridcolor": "white",
             "linecolor": "white",
             "minorgridcolor": "white",
             "startlinecolor": "#2a3f5f"
            },
            "baxis": {
             "endlinecolor": "#2a3f5f",
             "gridcolor": "white",
             "linecolor": "white",
             "minorgridcolor": "white",
             "startlinecolor": "#2a3f5f"
            },
            "type": "carpet"
           }
          ],
          "table": [
           {
            "cells": {
             "fill": {
              "color": "#EBF0F8"
             },
             "line": {
              "color": "white"
             }
            },
            "header": {
             "fill": {
              "color": "#C8D4E3"
             },
             "line": {
              "color": "white"
             }
            },
            "type": "table"
           }
          ],
          "barpolar": [
           {
            "marker": {
             "line": {
              "color": "#E5ECF6",
              "width": 0.5
             },
             "pattern": {
              "fillmode": "overlay",
              "size": 10,
              "solidity": 0.2
             }
            },
            "type": "barpolar"
           }
          ],
          "pie": [
           {
            "automargin": true,
            "type": "pie"
           }
          ]
         },
         "layout": {
          "autotypenumbers": "strict",
          "colorway": [
           "#636efa",
           "#EF553B",
           "#00cc96",
           "#ab63fa",
           "#FFA15A",
           "#19d3f3",
           "#FF6692",
           "#B6E880",
           "#FF97FF",
           "#FECB52"
          ],
          "font": {
           "color": "#2a3f5f"
          },
          "hovermode": "closest",
          "hoverlabel": {
           "align": "left"
          },
          "paper_bgcolor": "white",
          "plot_bgcolor": "#E5ECF6",
          "polar": {
           "bgcolor": "#E5ECF6",
           "angularaxis": {
            "gridcolor": "white",
            "linecolor": "white",
            "ticks": ""
           },
           "radialaxis": {
            "gridcolor": "white",
            "linecolor": "white",
            "ticks": ""
           }
          },
          "ternary": {
           "bgcolor": "#E5ECF6",
           "aaxis": {
            "gridcolor": "white",
            "linecolor": "white",
            "ticks": ""
           },
           "baxis": {
            "gridcolor": "white",
            "linecolor": "white",
            "ticks": ""
           },
           "caxis": {
            "gridcolor": "white",
            "linecolor": "white",
            "ticks": ""
           }
          },
          "coloraxis": {
           "colorbar": {
            "outlinewidth": 0,
            "ticks": ""
           }
          },
          "colorscale": {
           "sequential": [
            [
             0.0,
             "#0d0887"
            ],
            [
             0.1111111111111111,
             "#46039f"
            ],
            [
             0.2222222222222222,
             "#7201a8"
            ],
            [
             0.3333333333333333,
             "#9c179e"
            ],
            [
             0.4444444444444444,
             "#bd3786"
            ],
            [
             0.5555555555555556,
             "#d8576b"
            ],
            [
             0.6666666666666666,
             "#ed7953"
            ],
            [
             0.7777777777777778,
             "#fb9f3a"
            ],
            [
             0.8888888888888888,
             "#fdca26"
            ],
            [
             1.0,
             "#f0f921"
            ]
           ],
           "sequentialminus": [
            [
             0.0,
             "#0d0887"
            ],
            [
             0.1111111111111111,
             "#46039f"
            ],
            [
             0.2222222222222222,
             "#7201a8"
            ],
            [
             0.3333333333333333,
             "#9c179e"
            ],
            [
             0.4444444444444444,
             "#bd3786"
            ],
            [
             0.5555555555555556,
             "#d8576b"
            ],
            [
             0.6666666666666666,
             "#ed7953"
            ],
            [
             0.7777777777777778,
             "#fb9f3a"
            ],
            [
             0.8888888888888888,
             "#fdca26"
            ],
            [
             1.0,
             "#f0f921"
            ]
           ],
           "diverging": [
            [
             0,
             "#8e0152"
            ],
            [
             0.1,
             "#c51b7d"
            ],
            [
             0.2,
             "#de77ae"
            ],
            [
             0.3,
             "#f1b6da"
            ],
            [
             0.4,
             "#fde0ef"
            ],
            [
             0.5,
             "#f7f7f7"
            ],
            [
             0.6,
             "#e6f5d0"
            ],
            [
             0.7,
             "#b8e186"
            ],
            [
             0.8,
             "#7fbc41"
            ],
            [
             0.9,
             "#4d9221"
            ],
            [
             1,
             "#276419"
            ]
           ]
          },
          "xaxis": {
           "gridcolor": "white",
           "linecolor": "white",
           "ticks": "",
           "title": {
            "standoff": 15
           },
           "zerolinecolor": "white",
           "automargin": true,
           "zerolinewidth": 2
          },
          "yaxis": {
           "gridcolor": "white",
           "linecolor": "white",
           "ticks": "",
           "title": {
            "standoff": 15
           },
           "zerolinecolor": "white",
           "automargin": true,
           "zerolinewidth": 2
          },
          "scene": {
           "xaxis": {
            "backgroundcolor": "#E5ECF6",
            "gridcolor": "white",
            "linecolor": "white",
            "showbackground": true,
            "ticks": "",
            "zerolinecolor": "white",
            "gridwidth": 2
           },
           "yaxis": {
            "backgroundcolor": "#E5ECF6",
            "gridcolor": "white",
            "linecolor": "white",
            "showbackground": true,
            "ticks": "",
            "zerolinecolor": "white",
            "gridwidth": 2
           },
           "zaxis": {
            "backgroundcolor": "#E5ECF6",
            "gridcolor": "white",
            "linecolor": "white",
            "showbackground": true,
            "ticks": "",
            "zerolinecolor": "white",
            "gridwidth": 2
           }
          },
          "shapedefaults": {
           "line": {
            "color": "#2a3f5f"
           }
          },
          "annotationdefaults": {
           "arrowcolor": "#2a3f5f",
           "arrowhead": 0,
           "arrowwidth": 1
          },
          "geo": {
           "bgcolor": "white",
           "landcolor": "#E5ECF6",
           "subunitcolor": "white",
           "showland": true,
           "showlakes": true,
           "lakecolor": "white"
          },
          "title": {
           "x": 0.05
          },
          "mapbox": {
           "style": "light"
          }
         }
        },
        "xaxis": {
         "anchor": "y",
         "domain": [
          0.0,
          1.0
         ],
         "title": {
          "text": "Error type"
         }
        },
        "yaxis": {
         "anchor": "x",
         "domain": [
          0.0,
          1.0
         ],
         "title": {
          "text": "log(value)"
         },
         "type": "log",
         "range": [
          -22,
          3
         ]
        },
        "legend": {
         "tracegroupgap": 0
        },
        "margin": {
         "t": 60
        },
        "violinmode": "group",
        "title": {
         "text": "Errors normalize by σ"
        }
       },
       "config": {
        "plotlyServerURL": "https://plot.ly"
       }
      },
      "text/html": "<div>                            <div id=\"d92c446e-aa67-4aae-be4d-a19d5bde1a5a\" class=\"plotly-graph-div\" style=\"height:525px; width:100%;\"></div>            <script type=\"text/javascript\">                require([\"plotly\"], function(Plotly) {                    window.PLOTLYENV=window.PLOTLYENV || {};                                    if (document.getElementById(\"d92c446e-aa67-4aae-be4d-a19d5bde1a5a\")) {                    Plotly.newPlot(                        \"d92c446e-aa67-4aae-be4d-a19d5bde1a5a\",                        [{\"alignmentgroup\":\"True\",\"box\":{\"visible\":true},\"hovertemplate\":\"variable=%{x}\\u003cbr\\u003evalue=%{y}\\u003cextra\\u003e\\u003c\\u002fextra\\u003e\",\"legendgroup\":\"\",\"marker\":{\"color\":\"#636efa\"},\"name\":\"\",\"offsetgroup\":\"\",\"orientation\":\"v\",\"points\":\"all\",\"scalegroup\":\"True\",\"showlegend\":false,\"x\":[\"squared_error\",\"squared_error\",\"squared_error\",\"squared_error\",\"squared_error\",\"squared_error\",\"squared_error\",\"squared_error\",\"squared_error\",\"squared_error\",\"squared_error\",\"squared_error\",\"squared_error\",\"squared_error\",\"squared_error\",\"squared_error\",\"squared_error\",\"squared_error\",\"squared_error\",\"squared_error\",\"squared_error\",\"squared_error\",\"squared_error\",\"squared_error\",\"squared_error\",\"squared_error\",\"squared_error\",\"squared_error\",\"squared_error\",\"squared_error\",\"squared_error\",\"squared_error\",\"squared_error\",\"squared_error\",\"squared_error\",\"squared_error\",\"squared_error\",\"squared_error\",\"squared_error\",\"squared_error\",\"squared_error\",\"squared_error\",\"squared_error\",\"squared_error\",\"squared_error\",\"squared_error\",\"squared_error\",\"squared_error\",\"squared_error\",\"squared_error\",\"squared_error\",\"squared_error\",\"squared_error\",\"squared_error\",\"squared_error\",\"squared_error\",\"squared_error\",\"squared_error\",\"squared_error\",\"squared_error\",\"squared_error\",\"squared_error\",\"squared_error\",\"squared_error\",\"squared_error\",\"squared_error\",\"squared_error\",\"squared_error\",\"squared_error\",\"squared_error\",\"squared_error\",\"squared_error\",\"squared_error\",\"squared_error\",\"squared_error\",\"squared_error\",\"squared_error\",\"squared_error\",\"squared_error\",\"squared_error\",\"squared_error\",\"squared_error\",\"squared_error\",\"squared_error\",\"squared_error\",\"squared_error\",\"squared_error\",\"squared_error\",\"squared_error\",\"squared_error\",\"squared_error\",\"squared_error\",\"squared_error\",\"squared_error\",\"squared_error\",\"squared_error\",\"squared_error\",\"squared_error\",\"squared_error\",\"squared_error\",\"squared_error\",\"squared_error\",\"squared_error\",\"squared_error\",\"squared_error\",\"squared_error\",\"squared_error\",\"squared_error\",\"squared_error\",\"squared_error\",\"squared_error\",\"squared_error\",\"squared_error\",\"squared_error\",\"squared_error\",\"squared_error\",\"squared_error\",\"squared_error\",\"squared_error\",\"squared_error\",\"squared_error\",\"squared_error\",\"squared_error\",\"squared_error\",\"squared_error\",\"squared_error\",\"squared_error\",\"squared_error\",\"squared_error\",\"squared_error\",\"squared_error\",\"squared_error\",\"squared_error\",\"squared_error\",\"squared_error\",\"squared_error\",\"squared_error\",\"squared_error\",\"squared_error\",\"squared_error\",\"squared_error\",\"squared_error\",\"squared_error\",\"squared_error\",\"squared_error\",\"squared_error\",\"squared_error\",\"squared_error\",\"squared_error\",\"squared_error\",\"squared_error\",\"squared_error\",\"squared_error\",\"squared_error\",\"squared_error\",\"squared_error\",\"squared_error\",\"squared_error\",\"squared_error\",\"squared_error\",\"squared_error\",\"squared_error\",\"squared_error\",\"squared_error\",\"squared_error\",\"squared_error\",\"squared_error\",\"squared_error\",\"squared_error\",\"squared_error\",\"squared_error\",\"squared_error\",\"squared_error\",\"squared_error\",\"squared_error\",\"squared_error\",\"squared_error\",\"squared_error\",\"squared_error\",\"squared_error\",\"squared_error\",\"squared_error\",\"squared_error\",\"squared_error\",\"squared_error\",\"squared_error\",\"squared_error\",\"squared_error\",\"squared_error\",\"squared_error\",\"squared_error\",\"squared_error\",\"squared_error\",\"squared_error\",\"squared_error\",\"squared_error\",\"squared_error\",\"squared_error\",\"squared_error\",\"squared_error\",\"squared_error\",\"squared_error\",\"squared_error\",\"squared_error\",\"squared_error\",\"squared_error\",\"squared_error\",\"squared_error\",\"squared_error\",\"squared_error\",\"squared_error\",\"squared_error\",\"squared_error\",\"squared_error\",\"squared_error\",\"squared_error\",\"squared_error\",\"squared_error\",\"squared_error\",\"squared_error\",\"squared_error\",\"squared_error\",\"squared_error\",\"squared_error\",\"squared_error\",\"squared_error\",\"squared_error\",\"squared_error\",\"squared_error\",\"squared_error\",\"squared_error\",\"squared_error\",\"squared_error\",\"squared_error\",\"squared_error\",\"squared_error\",\"squared_error\",\"squared_error\",\"squared_error\",\"squared_error\",\"squared_error\",\"squared_error\",\"squared_error\",\"squared_error\",\"squared_error\",\"squared_error\",\"squared_error\",\"squared_error\",\"squared_error\",\"squared_error\",\"squared_error\",\"squared_error\",\"squared_error\",\"squared_error\",\"squared_error\",\"squared_error\",\"squared_error\",\"squared_error\",\"squared_error\",\"squared_error\",\"squared_error\",\"squared_error\",\"squared_error\",\"squared_error\",\"squared_error\",\"squared_error\",\"squared_error\",\"squared_error\",\"squared_error\",\"squared_error\",\"squared_error\",\"squared_error\",\"squared_error\",\"squared_error\",\"squared_error\",\"squared_error\",\"squared_error\",\"squared_error\",\"squared_error\",\"squared_error\",\"squared_error\",\"squared_error\",\"squared_error\",\"squared_error\",\"squared_error\",\"squared_error\",\"squared_error\",\"squared_error\",\"squared_error\",\"squared_error\",\"squared_error\",\"squared_error\",\"squared_error\",\"squared_error\",\"squared_error\",\"squared_error\",\"squared_error\",\"squared_error\",\"squared_error\",\"squared_error\",\"squared_error\",\"squared_error\",\"squared_error\",\"squared_error\",\"squared_error\",\"squared_error\",\"squared_error\",\"squared_error\",\"squared_error\",\"squared_error\",\"squared_error\",\"squared_error\",\"squared_error\",\"squared_error\",\"p1_variance\",\"p1_variance\",\"p1_variance\",\"p1_variance\",\"p1_variance\",\"p1_variance\",\"p1_variance\",\"p1_variance\",\"p1_variance\",\"p1_variance\",\"p1_variance\",\"p1_variance\",\"p1_variance\",\"p1_variance\",\"p1_variance\",\"p1_variance\",\"p1_variance\",\"p1_variance\",\"p1_variance\",\"p1_variance\",\"p1_variance\",\"p1_variance\",\"p1_variance\",\"p1_variance\",\"p1_variance\",\"p1_variance\",\"p1_variance\",\"p1_variance\",\"p1_variance\",\"p1_variance\",\"p1_variance\",\"p1_variance\",\"p1_variance\",\"p1_variance\",\"p1_variance\",\"p1_variance\",\"p1_variance\",\"p1_variance\",\"p1_variance\",\"p1_variance\",\"p1_variance\",\"p1_variance\",\"p1_variance\",\"p1_variance\",\"p1_variance\",\"p1_variance\",\"p1_variance\",\"p1_variance\",\"p1_variance\",\"p1_variance\",\"p1_variance\",\"p1_variance\",\"p1_variance\",\"p1_variance\",\"p1_variance\",\"p1_variance\",\"p1_variance\",\"p1_variance\",\"p1_variance\",\"p1_variance\",\"p1_variance\",\"p1_variance\",\"p1_variance\",\"p1_variance\",\"p1_variance\",\"p1_variance\",\"p1_variance\",\"p1_variance\",\"p1_variance\",\"p1_variance\",\"p1_variance\",\"p1_variance\",\"p1_variance\",\"p1_variance\",\"p1_variance\",\"p1_variance\",\"p1_variance\",\"p1_variance\",\"p1_variance\",\"p1_variance\",\"p1_variance\",\"p1_variance\",\"p1_variance\",\"p1_variance\",\"p1_variance\",\"p1_variance\",\"p1_variance\",\"p1_variance\",\"p1_variance\",\"p1_variance\",\"p1_variance\",\"p1_variance\",\"p1_variance\",\"p1_variance\",\"p1_variance\",\"p1_variance\",\"p1_variance\",\"p1_variance\",\"p1_variance\",\"p1_variance\",\"p1_variance\",\"p1_variance\",\"p1_variance\",\"p1_variance\",\"p1_variance\",\"p1_variance\",\"p1_variance\",\"p1_variance\",\"p1_variance\",\"p1_variance\",\"p1_variance\",\"p1_variance\",\"p1_variance\",\"p1_variance\",\"p1_variance\",\"p1_variance\",\"p1_variance\",\"p1_variance\",\"p1_variance\",\"p1_variance\",\"p1_variance\",\"p1_variance\",\"p1_variance\",\"p1_variance\",\"p1_variance\",\"p1_variance\",\"p1_variance\",\"p1_variance\",\"p1_variance\",\"p1_variance\",\"p1_variance\",\"p1_variance\",\"p1_variance\",\"p1_variance\",\"p1_variance\",\"p1_variance\",\"p1_variance\",\"p1_variance\",\"p1_variance\",\"p1_variance\",\"p1_variance\",\"p1_variance\",\"p1_variance\",\"p1_variance\",\"p1_variance\",\"p1_variance\",\"p1_variance\",\"p1_variance\",\"p1_variance\",\"p1_variance\",\"p1_variance\",\"p1_variance\",\"p1_variance\",\"p1_variance\",\"p1_variance\",\"p1_variance\",\"p1_variance\",\"p1_variance\",\"p1_variance\",\"p1_variance\",\"p1_variance\",\"p1_variance\",\"p1_variance\",\"p1_variance\",\"p1_variance\",\"p1_variance\",\"p1_variance\",\"p1_variance\",\"p1_variance\",\"p1_variance\",\"p1_variance\",\"p1_variance\",\"p1_variance\",\"p1_variance\",\"p1_variance\",\"p1_variance\",\"p1_variance\",\"p1_variance\",\"p1_variance\",\"p1_variance\",\"p1_variance\",\"p1_variance\",\"p1_variance\",\"p1_variance\",\"p1_variance\",\"p1_variance\",\"p1_variance\",\"p1_variance\",\"p1_variance\",\"p1_variance\",\"p1_variance\",\"p1_variance\",\"p1_variance\",\"p1_variance\",\"p1_variance\",\"p1_variance\",\"p1_variance\",\"p1_variance\",\"p1_variance\",\"p1_variance\",\"p1_variance\",\"p1_variance\",\"p1_variance\",\"p1_variance\",\"p1_variance\",\"p1_variance\",\"p1_variance\",\"p1_variance\",\"p1_variance\",\"p1_variance\",\"p1_variance\",\"p1_variance\",\"p1_variance\",\"p1_variance\",\"p1_variance\",\"p1_variance\",\"p1_variance\",\"p1_variance\",\"p1_variance\",\"p1_variance\",\"p1_variance\",\"p1_variance\",\"p1_variance\",\"p1_variance\",\"p1_variance\",\"p1_variance\",\"p1_variance\",\"p1_variance\",\"p1_variance\",\"p1_variance\",\"p1_variance\",\"p1_variance\",\"p1_variance\",\"p1_variance\",\"p1_variance\",\"p1_variance\",\"p1_variance\",\"p1_variance\",\"p1_variance\",\"p1_variance\",\"p1_variance\",\"p1_variance\",\"p1_variance\",\"p1_variance\",\"p1_variance\",\"p1_variance\",\"p1_variance\",\"p1_variance\",\"p1_variance\",\"p1_variance\",\"p1_variance\",\"p1_variance\",\"p1_variance\",\"p1_variance\",\"p1_variance\",\"p1_variance\",\"p1_variance\",\"p1_variance\",\"p1_variance\",\"p1_variance\",\"p1_variance\",\"p1_variance\",\"p1_variance\",\"p1_variance\",\"p1_variance\",\"p1_variance\",\"p1_variance\",\"p1_variance\",\"p1_variance\",\"p1_variance\",\"p1_variance\",\"p1_variance\",\"p1_variance\",\"p1_variance\",\"p1_variance\",\"p1_variance\",\"p1_variance\",\"p1_variance\",\"p1_variance\",\"p1_variance\",\"p1_variance\",\"p1_variance\",\"p1_variance\",\"p1_variance\",\"p1_variance\",\"p1_variance\",\"p1_variance\",\"p1_variance\",\"p1_variance\",\"p1_variance\",\"p1_variance\",\"p1_variance\",\"p1_variance\",\"p1_variance\",\"p1_variance\",\"p1_variance\",\"p1_variance\",\"p1_variance\",\"p1_variance\",\"p1_variance\",\"p1_variance\",\"p1_variance\",\"p1_variance\",\"p1_variance\",\"p1_variance\",\"p1_variance\",\"p1_variance\",\"p1_variance\",\"p1_variance\",\"p1_variance\",\"p1_variance\",\"p1_variance\",\"p1_variance\",\"p1_variance\",\"p2_variance\",\"p2_variance\",\"p2_variance\",\"p2_variance\",\"p2_variance\",\"p2_variance\",\"p2_variance\",\"p2_variance\",\"p2_variance\",\"p2_variance\",\"p2_variance\",\"p2_variance\",\"p2_variance\",\"p2_variance\",\"p2_variance\",\"p2_variance\",\"p2_variance\",\"p2_variance\",\"p2_variance\",\"p2_variance\",\"p2_variance\",\"p2_variance\",\"p2_variance\",\"p2_variance\",\"p2_variance\",\"p2_variance\",\"p2_variance\",\"p2_variance\",\"p2_variance\",\"p2_variance\",\"p2_variance\",\"p2_variance\",\"p2_variance\",\"p2_variance\",\"p2_variance\",\"p2_variance\",\"p2_variance\",\"p2_variance\",\"p2_variance\",\"p2_variance\",\"p2_variance\",\"p2_variance\",\"p2_variance\",\"p2_variance\",\"p2_variance\",\"p2_variance\",\"p2_variance\",\"p2_variance\",\"p2_variance\",\"p2_variance\",\"p2_variance\",\"p2_variance\",\"p2_variance\",\"p2_variance\",\"p2_variance\",\"p2_variance\",\"p2_variance\",\"p2_variance\",\"p2_variance\",\"p2_variance\",\"p2_variance\",\"p2_variance\",\"p2_variance\",\"p2_variance\",\"p2_variance\",\"p2_variance\",\"p2_variance\",\"p2_variance\",\"p2_variance\",\"p2_variance\",\"p2_variance\",\"p2_variance\",\"p2_variance\",\"p2_variance\",\"p2_variance\",\"p2_variance\",\"p2_variance\",\"p2_variance\",\"p2_variance\",\"p2_variance\",\"p2_variance\",\"p2_variance\",\"p2_variance\",\"p2_variance\",\"p2_variance\",\"p2_variance\",\"p2_variance\",\"p2_variance\",\"p2_variance\",\"p2_variance\",\"p2_variance\",\"p2_variance\",\"p2_variance\",\"p2_variance\",\"p2_variance\",\"p2_variance\",\"p2_variance\",\"p2_variance\",\"p2_variance\",\"p2_variance\",\"p2_variance\",\"p2_variance\",\"p2_variance\",\"p2_variance\",\"p2_variance\",\"p2_variance\",\"p2_variance\",\"p2_variance\",\"p2_variance\",\"p2_variance\",\"p2_variance\",\"p2_variance\",\"p2_variance\",\"p2_variance\",\"p2_variance\",\"p2_variance\",\"p2_variance\",\"p2_variance\",\"p2_variance\",\"p2_variance\",\"p2_variance\",\"p2_variance\",\"p2_variance\",\"p2_variance\",\"p2_variance\",\"p2_variance\",\"p2_variance\",\"p2_variance\",\"p2_variance\",\"p2_variance\",\"p2_variance\",\"p2_variance\",\"p2_variance\",\"p2_variance\",\"p2_variance\",\"p2_variance\",\"p2_variance\",\"p2_variance\",\"p2_variance\",\"p2_variance\",\"p2_variance\",\"p2_variance\",\"p2_variance\",\"p2_variance\",\"p2_variance\",\"p2_variance\",\"p2_variance\",\"p2_variance\",\"p2_variance\",\"p2_variance\",\"p2_variance\",\"p2_variance\",\"p2_variance\",\"p2_variance\",\"p2_variance\",\"p2_variance\",\"p2_variance\",\"p2_variance\",\"p2_variance\",\"p2_variance\",\"p2_variance\",\"p2_variance\",\"p2_variance\",\"p2_variance\",\"p2_variance\",\"p2_variance\",\"p2_variance\",\"p2_variance\",\"p2_variance\",\"p2_variance\",\"p2_variance\",\"p2_variance\",\"p2_variance\",\"p2_variance\",\"p2_variance\",\"p2_variance\",\"p2_variance\",\"p2_variance\",\"p2_variance\",\"p2_variance\",\"p2_variance\",\"p2_variance\",\"p2_variance\",\"p2_variance\",\"p2_variance\",\"p2_variance\",\"p2_variance\",\"p2_variance\",\"p2_variance\",\"p2_variance\",\"p2_variance\",\"p2_variance\",\"p2_variance\",\"p2_variance\",\"p2_variance\",\"p2_variance\",\"p2_variance\",\"p2_variance\",\"p2_variance\",\"p2_variance\",\"p2_variance\",\"p2_variance\",\"p2_variance\",\"p2_variance\",\"p2_variance\",\"p2_variance\",\"p2_variance\",\"p2_variance\",\"p2_variance\",\"p2_variance\",\"p2_variance\",\"p2_variance\",\"p2_variance\",\"p2_variance\",\"p2_variance\",\"p2_variance\",\"p2_variance\",\"p2_variance\",\"p2_variance\",\"p2_variance\",\"p2_variance\",\"p2_variance\",\"p2_variance\",\"p2_variance\",\"p2_variance\",\"p2_variance\",\"p2_variance\",\"p2_variance\",\"p2_variance\",\"p2_variance\",\"p2_variance\",\"p2_variance\",\"p2_variance\",\"p2_variance\",\"p2_variance\",\"p2_variance\",\"p2_variance\",\"p2_variance\",\"p2_variance\",\"p2_variance\",\"p2_variance\",\"p2_variance\",\"p2_variance\",\"p2_variance\",\"p2_variance\",\"p2_variance\",\"p2_variance\",\"p2_variance\",\"p2_variance\",\"p2_variance\",\"p2_variance\",\"p2_variance\",\"p2_variance\",\"p2_variance\",\"p2_variance\",\"p2_variance\",\"p2_variance\",\"p2_variance\",\"p2_variance\",\"p2_variance\",\"p2_variance\",\"p2_variance\",\"p2_variance\",\"p2_variance\",\"p2_variance\",\"p2_variance\",\"p2_variance\",\"p2_variance\",\"p2_variance\",\"p2_variance\",\"p2_variance\",\"p2_variance\",\"p2_variance\",\"p2_variance\",\"p2_variance\",\"p2_variance\",\"p2_variance\",\"p2_variance\",\"p2_variance\",\"p2_variance\",\"p2_variance\",\"p2_variance\",\"p2_variance\",\"p2_variance\",\"p2_variance\",\"p2_variance\",\"p2_variance\",\"p2_variance\",\"p2_variance\",\"p2_variance\",\"p2_variance\",\"p2_variance\",\"p2_variance\",\"p2_variance\",\"p2_variance\",\"p2_variance\",\"p2_variance\",\"p2_variance\",\"p2_variance\",\"p2_variance\",\"p2_variance\",\"p2_variance\",\"p2_variance\",\"p2_variance\",\"p2_variance\",\"p2_variance\",\"p2_variance\",\"p2_variance\",\"p2_variance\",\"p2_variance\",\"p2_variance\",\"p2_variance\",\"p2_variance\",\"p2_variance\",\"p1_p2_covariance\",\"p1_p2_covariance\",\"p1_p2_covariance\",\"p1_p2_covariance\",\"p1_p2_covariance\",\"p1_p2_covariance\",\"p1_p2_covariance\",\"p1_p2_covariance\",\"p1_p2_covariance\",\"p1_p2_covariance\",\"p1_p2_covariance\",\"p1_p2_covariance\",\"p1_p2_covariance\",\"p1_p2_covariance\",\"p1_p2_covariance\",\"p1_p2_covariance\",\"p1_p2_covariance\",\"p1_p2_covariance\",\"p1_p2_covariance\",\"p1_p2_covariance\",\"p1_p2_covariance\",\"p1_p2_covariance\",\"p1_p2_covariance\",\"p1_p2_covariance\",\"p1_p2_covariance\",\"p1_p2_covariance\",\"p1_p2_covariance\",\"p1_p2_covariance\",\"p1_p2_covariance\",\"p1_p2_covariance\",\"p1_p2_covariance\",\"p1_p2_covariance\",\"p1_p2_covariance\",\"p1_p2_covariance\",\"p1_p2_covariance\",\"p1_p2_covariance\",\"p1_p2_covariance\",\"p1_p2_covariance\",\"p1_p2_covariance\",\"p1_p2_covariance\",\"p1_p2_covariance\",\"p1_p2_covariance\",\"p1_p2_covariance\",\"p1_p2_covariance\",\"p1_p2_covariance\",\"p1_p2_covariance\",\"p1_p2_covariance\",\"p1_p2_covariance\",\"p1_p2_covariance\",\"p1_p2_covariance\",\"p1_p2_covariance\",\"p1_p2_covariance\",\"p1_p2_covariance\",\"p1_p2_covariance\",\"p1_p2_covariance\",\"p1_p2_covariance\",\"p1_p2_covariance\",\"p1_p2_covariance\",\"p1_p2_covariance\",\"p1_p2_covariance\",\"p1_p2_covariance\",\"p1_p2_covariance\",\"p1_p2_covariance\",\"p1_p2_covariance\",\"p1_p2_covariance\",\"p1_p2_covariance\",\"p1_p2_covariance\",\"p1_p2_covariance\",\"p1_p2_covariance\",\"p1_p2_covariance\",\"p1_p2_covariance\",\"p1_p2_covariance\",\"p1_p2_covariance\",\"p1_p2_covariance\",\"p1_p2_covariance\",\"p1_p2_covariance\",\"p1_p2_covariance\",\"p1_p2_covariance\",\"p1_p2_covariance\",\"p1_p2_covariance\",\"p1_p2_covariance\",\"p1_p2_covariance\",\"p1_p2_covariance\",\"p1_p2_covariance\",\"p1_p2_covariance\",\"p1_p2_covariance\",\"p1_p2_covariance\",\"p1_p2_covariance\",\"p1_p2_covariance\",\"p1_p2_covariance\",\"p1_p2_covariance\",\"p1_p2_covariance\",\"p1_p2_covariance\",\"p1_p2_covariance\",\"p1_p2_covariance\",\"p1_p2_covariance\",\"p1_p2_covariance\",\"p1_p2_covariance\",\"p1_p2_covariance\",\"p1_p2_covariance\",\"p1_p2_covariance\",\"p1_p2_covariance\",\"p1_p2_covariance\",\"p1_p2_covariance\",\"p1_p2_covariance\",\"p1_p2_covariance\",\"p1_p2_covariance\",\"p1_p2_covariance\",\"p1_p2_covariance\",\"p1_p2_covariance\",\"p1_p2_covariance\",\"p1_p2_covariance\",\"p1_p2_covariance\",\"p1_p2_covariance\",\"p1_p2_covariance\",\"p1_p2_covariance\",\"p1_p2_covariance\",\"p1_p2_covariance\",\"p1_p2_covariance\",\"p1_p2_covariance\",\"p1_p2_covariance\",\"p1_p2_covariance\",\"p1_p2_covariance\",\"p1_p2_covariance\",\"p1_p2_covariance\",\"p1_p2_covariance\",\"p1_p2_covariance\",\"p1_p2_covariance\",\"p1_p2_covariance\",\"p1_p2_covariance\",\"p1_p2_covariance\",\"p1_p2_covariance\",\"p1_p2_covariance\",\"p1_p2_covariance\",\"p1_p2_covariance\",\"p1_p2_covariance\",\"p1_p2_covariance\",\"p1_p2_covariance\",\"p1_p2_covariance\",\"p1_p2_covariance\",\"p1_p2_covariance\",\"p1_p2_covariance\",\"p1_p2_covariance\",\"p1_p2_covariance\",\"p1_p2_covariance\",\"p1_p2_covariance\",\"p1_p2_covariance\",\"p1_p2_covariance\",\"p1_p2_covariance\",\"p1_p2_covariance\",\"p1_p2_covariance\",\"p1_p2_covariance\",\"p1_p2_covariance\",\"p1_p2_covariance\",\"p1_p2_covariance\",\"p1_p2_covariance\",\"p1_p2_covariance\",\"p1_p2_covariance\",\"p1_p2_covariance\",\"p1_p2_covariance\",\"p1_p2_covariance\",\"p1_p2_covariance\",\"p1_p2_covariance\",\"p1_p2_covariance\",\"p1_p2_covariance\",\"p1_p2_covariance\",\"p1_p2_covariance\",\"p1_p2_covariance\",\"p1_p2_covariance\",\"p1_p2_covariance\",\"p1_p2_covariance\",\"p1_p2_covariance\",\"p1_p2_covariance\",\"p1_p2_covariance\",\"p1_p2_covariance\",\"p1_p2_covariance\",\"p1_p2_covariance\",\"p1_p2_covariance\",\"p1_p2_covariance\",\"p1_p2_covariance\",\"p1_p2_covariance\",\"p1_p2_covariance\",\"p1_p2_covariance\",\"p1_p2_covariance\",\"p1_p2_covariance\",\"p1_p2_covariance\",\"p1_p2_covariance\",\"p1_p2_covariance\",\"p1_p2_covariance\",\"p1_p2_covariance\",\"p1_p2_covariance\",\"p1_p2_covariance\",\"p1_p2_covariance\",\"p1_p2_covariance\",\"p1_p2_covariance\",\"p1_p2_covariance\",\"p1_p2_covariance\",\"p1_p2_covariance\",\"p1_p2_covariance\",\"p1_p2_covariance\",\"p1_p2_covariance\",\"p1_p2_covariance\",\"p1_p2_covariance\",\"p1_p2_covariance\",\"p1_p2_covariance\",\"p1_p2_covariance\",\"p1_p2_covariance\",\"p1_p2_covariance\",\"p1_p2_covariance\",\"p1_p2_covariance\",\"p1_p2_covariance\",\"p1_p2_covariance\",\"p1_p2_covariance\",\"p1_p2_covariance\",\"p1_p2_covariance\",\"p1_p2_covariance\",\"p1_p2_covariance\",\"p1_p2_covariance\",\"p1_p2_covariance\",\"p1_p2_covariance\",\"p1_p2_covariance\",\"p1_p2_covariance\",\"p1_p2_covariance\",\"p1_p2_covariance\",\"p1_p2_covariance\",\"p1_p2_covariance\",\"p1_p2_covariance\",\"p1_p2_covariance\",\"p1_p2_covariance\",\"p1_p2_covariance\",\"p1_p2_covariance\",\"p1_p2_covariance\",\"p1_p2_covariance\",\"p1_p2_covariance\",\"p1_p2_covariance\",\"p1_p2_covariance\",\"p1_p2_covariance\",\"p1_p2_covariance\",\"p1_p2_covariance\",\"p1_p2_covariance\",\"p1_p2_covariance\",\"p1_p2_covariance\",\"p1_p2_covariance\",\"p1_p2_covariance\",\"p1_p2_covariance\",\"p1_p2_covariance\",\"p1_p2_covariance\",\"p1_p2_covariance\",\"p1_p2_covariance\",\"p1_p2_covariance\",\"p1_p2_covariance\",\"p1_p2_covariance\",\"p1_p2_covariance\",\"p1_p2_covariance\",\"p1_p2_covariance\",\"p1_p2_covariance\",\"p1_p2_covariance\",\"p1_p2_covariance\",\"p1_p2_covariance\",\"p1_p2_covariance\",\"p1_p2_covariance\",\"p1_p2_covariance\",\"p1_p2_covariance\",\"p1_p2_covariance\",\"p1_p2_covariance\",\"p1_p2_covariance\",\"p1_p2_covariance\",\"p1_p2_covariance\",\"p1_p2_covariance\",\"p1_p2_covariance\",\"p1_p2_covariance\",\"p1_p2_covariance\",\"p1_p2_covariance\",\"p1_p2_covariance\",\"p1_p2_covariance\",\"p1_p2_covariance\",\"p1_p2_covariance\",\"p1_p2_covariance\",\"p1_p2_covariance\",\"p1_p2_covariance\",\"p1_p2_covariance\",\"p1_p2_covariance\",\"p1_p2_covariance\",\"p1_p2_covariance\",\"p1_p2_covariance\",\"p1_p2_covariance\",\"p1_p2_covariance\",\"p1_p2_covariance\",\"p1_p2_covariance\",\"p1_p2_covariance\",\"p1_p2_covariance\",\"p1_p2_covariance\",\"p1_p2_covariance\",\"p1_p2_covariance\",\"p1_p2_covariance\",\"p1_p2_covariance\",\"p1_p2_covariance\",\"p1_p2_covariance\",\"p1_p2_covariance\",\"p1_p2_covariance\",\"p1_p2_covariance\",\"p1_p2_covariance\",\"p1_p2_covariance\",\"p1_p2_covariance\",\"p1_p2_covariance\",\"p1_p2_covariance\",\"p1_p2_covariance\",\"p1_p2_covariance\",\"p1_p2_covariance\",\"p1_p2_covariance\",\"p1_p2_covariance\",\"p1_p2_covariance\",\"p1_p2_covariance\",\"p1_p2_covariance\"],\"x0\":\" \",\"xaxis\":\"x\",\"y\":[0.02157013812283694,0.0029486515594568615,0.00037132086467700726,0.0501022566549026,0.07517176986210908,0.15061952179011504,0.00027372379869570367,2.792023484437704,0.11412384003411123,0.13637447329799268,0.04569890627117213,0.07536456278817473,0.039740308075252875,0.4519591026474003,0.3001902703494404,0.2679631820622386,0.3189329492470358,0.9008271532474975,0.31071461068310324,1.6446585767108037,0.12855957302822002,4.049441545688209,0.0005960455527820241,0.0141416048346375,1.73029638379079,0.07943758647186748,2.0657137962106433,0.0064894682160994395,0.06184378070315557,0.0009878118608952582,0.009681909458106397,0.19517241435359925,0.013411209046101756,8.221073095803702e-05,0.01433599556805183,0.0032395669347901044,0.0006268780198908685,0.003169927442409225,0.005608533637171894,0.01938851479548511,0.006744614673082037,0.14127863764282306,0.1067706825948752,0.012271110978897727,0.0033839122228606212,0.007625962852686811,0.0248199268371407,0.0654616780098451,0.2130898196174667,0.05092422392510044,0.44421740275466765,0.21689492177239114,0.21293582994505764,0.002211273411246238,0.16226692383857128,0.1369913709182962,0.5034203201236208,0.0962951925254795,1.9954311233906896,0.14391295080091523,0.9140180147336975,0.1500557073186347,1.0597531286117268,2.1552138018559273,1.3183688223567869,0.11196289207868047,1.1139609022266816,4.235419766573128,3.5462324322363736,0.008105540223981961,0.017402407976696465,0.14259661951580363,5.540146348682183e-05,0.21486227788724585,0.023733709170271938,0.023133435585005708,0.003318039806377361,0.011967421816822534,0.039203598108930586,0.0721455905228899,0.008223575378822312,0.002153564652124742,0.003108795436720823,0.035241875019476905,0.000450251969414713,0.0014284768380371854,0.10728371671906613,0.07813615460668463,0.009812403777355544,0.001880143983315474,0.011669259046872228,0.05603537214793767,0.0018416407030634498,0.434631979772152,0.28725286511626824,0.0033293648944703247,1.130820015370001,0.4329163114485059,0.16972887462909128,1.097335639952909,2.499320600619701,0.0105837980574732,0.28202320773183415,2.0190056820404014,0.9438060487658204,0.5916291843313373,2.4300018826376713e-06,0.020879631249168827,0.0003713912476792119,0.21537103251664438,0.004475441197735831,0.15416774055800808,0.022638463881111702,0.010995467382470859,0.13568487158819545,0.05351409105365578,0.00017413783756889495,0.2199816409724663,0.3573199372794137,0.06642624238704391,0.09315266207608336,0.007267231689119695,3.012467928068265e-05,0.06640342811201816,0.5424256768078336,0.01161070738471128,0.0030462666453761906,0.08165996228028362,0.00018015948508117759,0.13974199739250148,0.08166522564838213,0.3550987567533507,2.734690675027881,0.14718447311839075,0.612088072772909,2.8244831858757267,0.10327084338725427,3.6587008133861567,0.48413196022621546,4.6905866418891335,0.012192883294928276,0.2709668725374029,1.6907649026144034,0.039784895332221855,0.04726458659976998,0.003470893442422546,0.020340878635307435,0.0031727123485604694,0.07931837870569086,9.489442373130885e-05,0.03114992178950292,0.12177403829702121,0.010498368148478895,0.00531481167717732,0.00477643192700977,0.005332770352535957,0.10675309375675093,0.2907427698135967,0.32458663143278266,0.002032230342822055,0.00017821039582810322,0.13384889426787291,0.7438902079253142,0.5886944703167812,0.18071932593858997,0.06001659269099971,0.00081540649496528,0.02979986085902065,0.8109145781070931,0.06943929388261562,0.013621828966810709,0.0004342528269754673,0.027794950742113623,0.0015043715827397397,0.0002752785730158779,0.01602849021543183,0.005328963494613009,0.023598822030497624,0.005167637248957137,0.031321126452666936,0.0006080160973597181,0.00890855775554129,0.004413075563258409,0.09200635440250415,2.516749983610218,0.009326330906583937,0.03699086114601181,0.0029711916339150235,0.007829792048186655,0.021878781765921316,0.4757012168135043,0.41128414836280675,0.005420872764249987,0.24996278013569811,0.8182465956341165,1.0529455264327412,0.032816075388215245,0.9302656725046013,0.207598816702826,0.15765285814256508,0.2755027111335367,0.35550392608141884,0.2768479807915997,0.17441671595857694,0.6739821804295982,0.16848347241307196,0.48045865478307215,2.5550599156848413,1.0067592044225486,0.49601081619746445,1.0458034398478484,0.0015374669099998818,0.6354171689798578,0.0011980410128663212,0.00851336440443735,0.0002576042832988684,2.489101963123763e-05,0.002127141727424948,0.0008036302346558398,0.005034332202769332,0.018112615008694447,0.014093285266315286,5.6736610132773325e-05,0.0005452962556806996,0.0034768177661504518,0.1295902430834697,0.015118452140014022,0.02287747290437136,0.025374163378980314,0.0022954721097308835,0.6631050417030772,4.630633844169846,0.0449645961704365,0.028372613961036207,0.06383617334015614,0.15442477640489197,0.2261293389567474,0.05936145185898877,0.4118740288388562,0.6533830623676645,0.07333026226521029,6.777835430835783,1.8348422474931023,0.17846187095650184,0.009397206979021697,0.08461959812090776,0.4806040707795675,0.05332684052597665,0.1544417873509496,0.006313772849746904,0.0070423643386155164,0.004623434354619609,0.025726654762388595,0.019538378066185393,0.012548099035055335,0.010758161108635948,0.009904687334783035,0.005541299507576107,0.009948472179029305,0.0014779500290927631,0.02511597268136249,0.011155732119332821,0.001436755109834282,0.010184816108331576,0.07297440173367874,0.1526224036084068,0.33122992287042263,3.237694554462332e-05,0.25372516781676296,0.01611141949293593,0.4101311844342957,0.163148785404676,0.12189936872524736,1.7260564079405754,0.0029286263872011376,0.11163803884795392,0.45902082739053396,0.022426949110415213,0.9026153031157469,2.652035520336682,4.490968468295524,0.005660728276872652,0.0281998408867946,0.35085899216268834,1.2736862435308411,2.285849580779243,0.3799892362041754,0.11966322110772314,0.31492285295994477,3.524947564096203,2.2638218898244427,1.5386617429602438,3.0407658112461444,0.014320497257393084,0.0014610486111208154,0.001323828799004396,0.03311302750185605,0.05684023514278147,0.02578477868354201,0.00601657609565663,0.002142203558968339,0.014487765986512259,0.00781445426790657,0.01618238009689906,0.16315396495004014,0.25870280140272345,0.005902345527459735,0.023716778708192037,0.0006880209284931543,0.0014450255252815999,5.2916112170567024e-05,0.14213101458095098,0.1996705214017313,7.877905308288145,1.3116233314293562e-06,2.5643183213277115e-08,1.953368993275608e-06,4.257136048100403e-06,1.8700010637336155e-06,0.00035271868851098853,1.0100625256201513e-07,0.00022196554742769136,8.308103638751093e-08,6.917228074125835e-07,2.33876214675733e-08,4.357187782025093e-06,1.9743186820374683e-07,0.0010387382500247333,0.0002109053392311722,2.7468815753713474e-07,0.0019391979199833694,0.020258366841824953,2.0674255202483913e-06,0.0016205793562623682,6.684931343395961e-05,0.000434358924876079,3.027848492975779e-10,0.5974571325027299,0.015355970555963218,2.4819167505334913e-06,0.00456302382651371,0.00023999736349705373,4.390783845436148e-05,5.5640004115795845e-08,0.0002952949839784428,0.40330675848396746,7.671086716474352e-05,7.237386165981346e-08,6.545838963074868e-08,6.852338547824759e-08,0.014211019547824739,0.002711726237454609,0.00010557068635485263,0.0034339359808765683,0.0056103334830848554,0.004908326813892073,2.9967574479480272,1.5096712876728466e-07,1.2849722987395824e-06,13.613454175545765,0.2694914336822933,3.349002877192521e-05,1.3556552963085724e-05,0.0005933905149626698,0.0001392911581030132,1.4214028804386934e-05,0.0007066319093780496,1.1212971737375299e-08,5.640500437110633e-05,3.478000231042531e-06,0.0003414002830551304,1.1006618413376654e-05,2.7412709453309886e-05,0.000706858087558764,0.0022776032147622796,5.991910589616983e-05,0.0034281475470860695,0.005543990239570295,0.0011014522583800835,10.767572249530064,0.0004241119285539347,0.00014415020068387285,0.002443269330851901,6.173120405150226e-07,0.00043697048615148903,0.01958501287830208,7.510537748902453e-07,0.10970419799712992,0.3084217781690437,1.64116230078131e-07,9.887190619940982e-07,4.393960729898808e-08,5.044630763754818e-06,2.535972467839898e-07,0.04546296786188794,9.198759607521341e-05,0.02946616910088371,0.006418009165041968,1.436027533374159e-05,7.943607309234959e-09,1.2296954904580937e-07,9.495911195228651e-07,4.156706502801957e-09,0.0009216857778876344,2.1389387969756714e-07,0.04668833880149736,2.4840641995508827e-05,1.1639595322411256e-05,9.974503625144995e-06,1.0616676102812526e-07,0.022887207443844083,1.4992104779673888e-05,0.00016550240364216485,2.511074891050873,0.0004162430808457785,2.4445241167892518e-05,2.6627147822240357e-05,0.00021484632899795923,9.098035293584241e-06,0.0003738826437803223,1.128710692720154e-07,8.559784924701564e-07,6.583162407703339e-05,0.00046804849238946556,0.0003833031361337995,0.0015310652383870539,7.967418492102778e-08,0.0016717157170971822,0.039076282467630716,0.0025851245622488094,0.0002627633402182799,0.07075986157205617,0.39023151046777044,0.008105088775474063,3.2883888177510295e-06,6.793098312068162e-08,2.1903400518563665e-08,1.240839057748006e-06,2.507300951911372e-05,3.4351503407824755e-06,4.5521954074141734e-08,5.643119150935451e-07,1.5513045874007736e-08,1.149017961433467e-06,1.8076642614502443e-07,3.518763233843348e-05,2.0641595234398742e-05,1.4089963053562325e-07,3.523913963859634e-05,8.329266701032247e-06,9.354052501018707e-08,5.897218490108164e-05,9.449378237061349e-07,1.7062647224879177e-05,8.061684978154114e-06,6.582838018736774e-07,2.115815292677127e-06,2.363690683736445e-08,0.003916369115405256,1.4903132249504485e-06,0.004345961029991244,4.533902613760949e-05,0.00027155255349639644,1.5628530269315359e-06,0.0005927973287447118,0.00030010875922836984,0.00038388228108870716,0.0005170118813528694,0.00028925839474008245,0.0016977251288430209,0.010462559060727244,0.02085238134797537,5.562711094678281e-06,1.149275036014978e-08,9.172032551830312e-08,1.8110209209615526e-06,8.198724306387313e-05,3.643109733206204e-05,4.884628456182629e-06,6.498583863834112e-07,1.899271748769406e-07,8.237658697302031e-07,2.7208414903655627e-06,1.2333255318593292e-07,1.8103474943294973e-06,1.235720689379448e-05,4.789318939725707e-06,5.442431351054237e-06,5.711385250946317e-06,4.996957105867936e-06,6.0427238456866594e-05,0.00022804692779399924,1.5869956383320557e-05,2.0818583881098235e-06,0.00017996710806983558,9.894923717468762e-06,7.432822283231171e-06,0.016644633775639444,0.007970731624931714,0.000142063928942472,1.0215265347950844e-06,3.802146675938142e-07,8.594026824314494e-08,2.88698655151927e-05,0.00016686150249061913,0.011407190669317085,1.1672833122321665e-07,1.2563815582451305e-06,7.895417240132676e-07,5.606728525648524e-07,3.816699597501783e-08,5.055660096334062e-07,1.9715963610842763e-07,1.0866125115545681e-07,2.049872043372983e-07,3.914269204539605e-07,1.6481159913280456e-07,7.14427546350414e-08,8.870136136888358e-07,4.124646934240933e-06,1.7971314266687388e-06,0.09251708843196459,0.0002719277927225867,0.01100203349158574,1.3118001167464077e-05,7.713012427073884e-09,1.0444936558529083e-05,1.0583127427520259e-06,5.01151490521707e-07,9.63704684032017e-08,4.194571787697822e-08,3.139193810096528e-07,5.59634967442943e-07,4.854651558718365e-06,3.311507379131576e-06,2.690448853237246e-06,1.7206583477644213e-07,9.286342353891155e-07,4.1271665310203585e-07,0.11073312806149678,1.100261309474824e-06,1.7740728495606588e-07,2.7143739559284657e-06,2.1170593260408028e-08,7.797715390749045e-05,1.7993742937239156e-05,1.6893358276971876e-07,7.540447678530006e-07,2.9092445982978555e-07,5.597409629852158e-07,1.6730955590657042e-07,4.201611539146394e-07,9.26427709385563e-07,3.7619630835200305e-06,5.50641593692745e-07,0.0002558862418631913,3.5694533920999133e-06,6.211656984009847e-07,5.593742335703354e-08,3.852452588230079e-08,8.027708167135901e-07,3.243779839878024e-08,2.434605365299505e-06,0.00011714456603141713,2.340539277550762e-05,0.0001568046380889441,0.08023933941721213,5.405580519986147e-08,2.140639054053268e-06,0.14235402385632032,6.648486476360716e-08,0.002821939418543664,7.763693743472347e-08,6.333624022801232e-05,0.023371891630697562,1.5006460405494497e-07,1.8770657916399545e-06,1.5992532743619363e-06,1.5836905686394292e-05,6.888855111286323e-05,2.1209563676223048e-05,3.697100929354888e-10,2.006142067689596e-06,9.59632720652435e-09,2.0710503867683694e-05,9.039632930464247e-07,5.7121261633014635e-05,6.374770371259637e-07,5.338687003079544e-08,0.0004841546440138084,0.0003030032675435984,7.018465397857884e-07,0.0011349548901298586,0.010940162462096073,0.0005076330392440824,9.781912942893068e-08,1.5012194970709467e-08,0.00017600110204783867,1.6844480940834067e-05,0.0009448284136372649,1.659594622613942e-05,1.3132727305117574e-05,0.05770999372978775,0.001022338259551827,0.0034376719945410908,8.097021368804755e-06,0.0028815924084160745,0.02682877341864968,1.4068027986355437e-07,6.717989077956646e-08,3.413185162502032e-06,2.8370425977593883e-06,6.775168347393374e-09,7.421846177507728e-07,1.2291727872367933e-08,0.0021837454674334786,1.1612288903855143e-07,4.738929555922082e-08,1.330304415587595e-06,0.0011658973274527357,1.175864234327208e-07,5.308773453949511e-07,1.693256079341081e-08,4.073758462516465e-09,1.1507696231924449e-08,2.6063378306074643e-07,6.437869648617763e-07,5.806634357684731e-06,2.285672526094521e-18,2.1071957828788628e-19,1.545011326215391e-19,2.958034398764185e-18,5.143697472461924e-18,2.628492743792881e-17,8.024824651529689e-18,1.3905015872734106e-16,3.2970393555461383e-16,6.0174928661710025e-18,1.539869557666585e-15,5.807415834310817e-18,1.885751574312038e-18,9.367546777118668e-17,3.3620964020608704e-17,1.4163087957676566e-17,8.473647325463512e-17,4.262221602808082e-16,1.4432722334653702e-16,2.0270499004276904e-16,1.852399552717617e-17,2.205366362622043e-16,1.3269775055538638e-15,3.3673022769654737e-16,9.650936449769311e-16,6.924925917368664e-18,3.2358865895628737e-16,4.662669903611376e-18,6.954100975988108e-18,6.102784717193427e-18,6.191951618667722e-18,7.488195263596907e-16,8.528856914319217e-18,2.288615887060049e-19,1.97060421872507e-16,7.046025447412654e-18,1.423323441503853e-17,1.3019261462293964e-17,2.417927588609167e-17,4.5924766298072623e-17,2.1019629711637378e-17,7.868177452416082e-17,5.750873756393598e-15,5.03010856272095e-15,1.2085426306633577e-16,3.1261748666524924e-15,7.799283113778649e-16,1.0108621082046125e-17,1.0714904793229085e-17,1.7970267310013818e-17,3.639302142056845e-17,1.0598508608153011e-17,4.295865197241278e-17,1.729110119594407e-19,3.223584091424965e-17,7.339816306203725e-18,1.4667883857598627e-16,5.745252328352222e-18,3.370424157224859e-16,3.4890226024901457e-17,1.6659174680576783e-16,1.5497692991716876e-17,2.1152215235169828e-16,3.8440464277713704e-16,1.4731028501093743e-16,3.83147705009775e-15,8.957261349314212e-17,1.6240235000551375e-16,3.4960945213658744e-16,1.5276000260285193e-17,4.647208828551447e-17,1.524779834325785e-16,6.21683320577216e-19,4.2077967084296105e-16,2.6026291701763787e-16,4.0057304299377364e-16,6.557662628430352e-18,9.994115547815117e-17,1.1593156060086057e-16,3.7251283598755894e-16,5.3443182348483935e-17,2.3202218827139227e-18,3.055621611606328e-17,5.122235295680151e-17,3.398481162760482e-18,9.642567886416363e-18,1.4149870960273429e-15,3.055085912372642e-16,6.018040245603088e-15,4.173913482262545e-18,5.007078132607745e-17,1.3215331281321366e-16,1.2141382395373803e-17,1.766084351229909e-17,1.2378487934983216e-17,3.97614123250128e-18,6.426307378178468e-16,1.7947367033070645e-17,2.083386879071146e-17,9.029225742811817e-14,1.9889204617789502e-16,4.558253763770102e-18,1.4518145834397264e-17,1.0580528637137039e-16,2.878061010529411e-17,5.644233260520191e-17,5.047256921600602e-21,8.863697762048323e-18,1.3657672935969652e-18,3.6447456806907894e-17,5.446683935473475e-18,4.899569430222758e-17,2.6841870399042194e-16,2.1845460755867806e-17,1.9914770763115464e-16,3.355799978672915e-17,9.972582667185492e-19,3.9391291279057863e-16,3.777410189068244e-15,6.195776505450989e-17,4.028163900153256e-18,3.9854268704524927e-19,8.688538223066166e-21,2.4802263856756706e-18,1.0657879296653099e-16,9.150280413071272e-19,1.9748701748167532e-19,2.698468379261706e-18,1.6783598265912947e-20,4.191146592740289e-18,2.6807346851132053e-18,1.7896593631833988e-17,9.168012910449752e-17,9.32419494104787e-18,4.1588335821135453e-17,9.460438670945095e-17,7.037268970190832e-18,1.2969970986153775e-16,1.6784129638900092e-17,2.759133698326712e-16,5.3204066655758725e-17,3.0177547990218077e-16,7.105318652197556e-17,4.559107325777251e-18,4.1263808712506374e-17,2.2055095145488145e-18,2.7241872845278645e-17,1.4718389672777546e-18,1.621287762353371e-17,8.73903003912827e-20,1.670558412861172e-17,2.1337762402494402e-17,5.889236089776551e-18,4.682612347365238e-18,3.9919309788040545e-18,9.64954106899913e-18,1.0964764190218312e-16,2.1510184177554663e-16,1.2089821415664071e-17,1.302517649123332e-19,2.6122982577390835e-20,7.262929335576836e-18,1.8323849244540693e-16,4.266174095693105e-17,1.2676580284823504e-17,3.384150920781957e-18,2.235248698580779e-18,2.2018186768396362e-18,2.742529665758592e-17,2.716876829028028e-18,1.156601727276604e-18,5.21329629293915e-19,1.2431205407635372e-17,1.9089482622928918e-18,1.9708542596037024e-19,2.9992947391253122e-18,3.239042152738359e-18,7.410446792323813e-18,1.3280779829637058e-18,1.707805321308382e-17,1.440767907945329e-18,6.68028852250122e-18,6.454481855462271e-18,1.0489331944722454e-16,4.654757625634158e-16,8.241980254027884e-18,1.5959032879614376e-18,3.895161099452149e-19,4.654399385000626e-19,5.199748020678343e-18,3.846556788423469e-17,2.0019777341714824e-16,4.070237372098579e-19,7.567698419742877e-18,5.962786484797196e-17,2.120263444851278e-16,4.860434892459487e-18,1.7712574558177686e-16,2.1866730054319167e-17,1.6052883570624788e-17,3.13562176219285e-17,1.2485496616319428e-16,3.5834197875232306e-17,8.847029171035536e-17,3.6950558631898715e-17,7.122727786773441e-18,6.698382142491204e-17,1.4500742487624426e-15,7.423370930842723e-17,2.1823940015716348e-16,5.468174042051475e-17,2.4507912245139426e-19,2.3497774937404417e-17,4.2031446712100344e-19,2.0823983456703603e-18,3.3211659944252775e-19,2.3022458993491155e-20,5.212201023723783e-19,5.059574111815149e-19,1.4497541833964766e-18,3.2047183921008544e-18,4.151676834138215e-18,7.174823531773629e-20,4.213572777384961e-19,2.4036374533120537e-18,3.8580174422939374e-16,1.097938862669174e-17,1.2648804833673067e-18,2.3886255221674783e-18,1.5633922246162181e-19,6.135780477793714e-17,2.2216278676421926e-16,2.2441192701159347e-18,2.0472883137061833e-18,3.3070128356853186e-18,6.971046483849016e-18,1.8179294293389083e-17,2.5465746319319876e-18,1.8553109510522136e-17,3.112794618771147e-17,3.3217129455207432e-18,3.7128149968434847e-16,8.304660880898584e-17,1.1663913787108677e-16,1.8295594949528868e-17,8.934741210747405e-16,1.8906066363072655e-17,6.237363394208746e-18,8.656197563828749e-18,3.49945289095812e-17,1.9380853890022384e-18,8.244941020922026e-18,1.2461470981684115e-16,1.7362249343368043e-16,2.066796084157744e-17,1.4141248306402752e-16,1.4809505413211605e-16,1.0498947987895449e-17,3.5486521261173416e-17,1.9452262320542627e-17,8.7181137636893e-17,9.580428683352072e-19,2.7944238952694916e-19,6.601853619496682e-19,2.2117776091175847e-17,1.399530936226799e-17,2.1972949359196267e-17,1.0268069568636105e-20,1.286671163243194e-17,3.3373297407695874e-16,2.2894245850073474e-17,4.838327765122429e-18,1.3927534184589453e-17,8.611957945278314e-15,2.322707666961506e-19,2.5667896787944496e-17,4.938141901238827e-17,2.0458838733186135e-18,1.2245893454849447e-16,5.766417575120057e-16,2.485586748147504e-16,1.1251087971158628e-16,8.091172840748237e-16,3.9080624070206835e-17,4.0523877353200136e-17,1.8622279080464376e-16,1.7305626963251776e-17,8.0334531425596e-18,7.576138017604564e-16,2.664576275619911e-16,3.094205886323399e-16,4.4952880822758216e-17,3.3904532137039157e-16,5.502251974914903e-17,1.9348184523316967e-18,7.825066896514423e-18,9.183400587583988e-18,1.4559606547688153e-17,17.748329354848558,8.471352598604819e-18,1.9458285371184155e-17,2.9135120858229186e-17,4.852197108854621e-19,7.724082580881537e-19,6.339705122909818e-18,1.3194238079022837e-15,7.150457619753937e-19,4.07872663761933e-16,7.547385305349151e-20,7.157081742404641e-20,9.823571750779147e-20,3.2831467307303975e-17,6.872024903940645e-18,5.396238070083154e-16,1.9493626251483133e-07,7.897066758043478e-09,6.278960985178734e-08,4.016791622597726e-07,3.4423348285748855e-07,1.1003347998623463e-05,1.0236147403715653e-07,1.9878114185545037e-05,4.298993466569016e-07,2.1669705221141347e-07,4.5036159511228574e-07,5.660886622937087e-07,6.36170258159106e-08,3.563954372385432e-05,9.608270277217521e-06,1.7348671771975436e-07,4.63526163955942e-05,0.0003361586270791445,1.818041684739702e-06,6.543388694176672e-05,4.006861192276947e-06,3.508903055389603e-05,3.958951794714655e-08,0.0016233105247369522,0.00044017706347578673,4.592663122221076e-07,0.00013885489507092907,3.827072592605024e-06,1.9938660211873827e-06,6.556650493063311e-08,4.891818414560079e-06,0.001988842576374971,2.9244101047513992e-06,1.4674058452732666e-08,3.790437171837941e-07,7.69481057771565e-08,5.147183279461446e-05,2.150257061337376e-05,5.7796082050940085e-06,4.5441856219046104e-05,3.9299532562913295e-05,7.109958595966152e-05,0.015024459351204113,3.0000746912982798e-06,1.4187230206172479e-06,0.02361031221224609,0.0016592147058954003,2.0971971116023326e-06,1.3611155882526051e-06,1.1811119030523621e-05,8.10876629830249e-06,1.3865795761483396e-06,1.9915727207226963e-05,4.5950295275420715e-09,4.849661193780125e-06,5.618322954146475e-07,2.552143466303525e-05,9.018119383018798e-07,1.0490489716829422e-05,1.795550694982736e-05,7.039549448997144e-05,3.472900215084016e-06,9.733614193958982e-05,0.00016683877058162966,4.597572913635678e-05,0.023246150658870986,2.2210700126002735e-05,1.7168774506582884e-05,0.00010545578601187551,3.473102919819163e-07,1.630260525402659e-05,0.00019774503399124166,7.814655090890921e-08,0.0007775253493507643,0.0010253743973564198,8.749979796620459e-07,2.8996293244389135e-07,2.1812915886485965e-07,2.7446171031099574e-06,1.0096671457101444e-06,0.00017839228532611477,1.6714449105294046e-06,0.00010859605375236884,6.561012188132314e-05,7.991391447090311e-07,2.6342412622423623e-08,1.1927387580637215e-06,1.8727469623426233e-06,3.522516463962667e-07,7.097947350327348e-06,3.6344954334626746e-07,0.0002842672743918111,1.9861257466844055e-06,1.6026296195226296e-06,1.246745927838229e-06,7.281874099424178e-08,0.00043869808279135874,1.8406190674535993e-06,6.703720249955018e-06,0.05449338732655006,3.2651978119415e-05,1.205990477029269e-06,2.227348999011796e-06,1.7093160832522953e-05,1.7672988552135086e-06,1.6572750929364304e-05,2.7305872836371054e-09,3.0969675980489943e-07,1.0849546194376742e-06,1.4924778138296587e-05,5.228202734110307e-06,3.132528668068536e-05,4.679097336537937e-07,2.1866917454679963e-05,0.00031923267915413,3.369970126207438e-05,1.8525594005071707e-06,0.0006041613677421874,0.004393808596312046,8.108906313253216e-05,4.084489602798286e-07,1.7734159393772878e-08,1.5721133799438303e-09,1.948284303566583e-07,5.796978962485473e-06,2.0188407459533212e-07,1.0403574775878333e-08,1.3305414160535343e-07,1.8230890462922736e-09,2.383350803041544e-07,6.938385001329064e-08,2.8438472604320543e-06,4.702172832389762e-06,9.934920846637118e-08,4.308536228484108e-06,2.8656611987835847e-06,6.978648502399319e-08,9.68263560141458e-06,3.9022275414763577e-07,6.96844606687968e-06,2.3612923892451046e-06,1.416987934095183e-06,1.1318397567300013e-06,2.5778429162073046e-08,4.5998606385653146e-05,2.0650486317498582e-07,3.937460855135034e-05,9.34331112247997e-07,7.584737540509368e-06,4.2271379637668796e-08,1.1383228630826096e-05,9.145132069397122e-06,5.439961942063325e-06,5.630153080242494e-06,3.887942559012452e-06,1.4646910499353637e-05,0.00012255544125153636,0.0002423319956248921,9.089850838226849e-07,4.058750585334314e-09,5.5782805444034305e-09,3.965287489357377e-07,1.3866882231473329e-05,4.451496261001888e-06,8.75797013358827e-07,1.625036620321538e-07,7.393054698500217e-08,1.4997008416815939e-07,8.937879994178729e-07,5.624159522146688e-08,1.640110894184489e-07,2.903603741247167e-07,8.768580038338221e-07,3.6846194679847967e-07,1.2135740666852929e-07,4.4090300622318787e-07,1.6001635304369248e-06,4.701637523861709e-06,5.246387701342254e-07,6.737317661535888e-07,1.842641059170597e-06,9.283559251975011e-07,7.910508109282216e-07,0.0001512031207468311,0.0002201705438613273,3.913850007164058e-06,1.4278971720992457e-07,4.3601194959280784e-08,2.1703596424566845e-08,1.3980873012035903e-06,9.127406919442993e-06,0.00017288737128480652,2.4147947566920474e-08,3.274800280407586e-07,5.957580027625629e-07,8.084221524647607e-07,3.646949079311035e-08,7.128371776676624e-07,1.8045706219697484e-07,1.066618893226406e-07,2.0936896010640596e-07,6.296903523858626e-07,1.9093902625504943e-07,1.7698027894553948e-07,5.336754174691768e-07,6.049685123764903e-07,1.1413580599366577e-06,0.0013251731016820222,1.6174159968686712e-05,0.00017726621156730513,2.9477774381339494e-06,4.3767642191232356e-09,1.7348537858522802e-06,7.609547709450682e-08,1.1529051075048313e-07,2.0369385402271285e-08,3.5473789986597762e-09,4.587049082828583e-08,6.068888637829176e-08,3.028647948072746e-07,3.7031386534669496e-07,3.7998818724384754e-07,1.269989207285395e-08,7.144470017806774e-08,1.12802576589189e-07,0.0007480005392891704,3.9214902759126446e-07,5.06084244940891e-08,2.886560432054075e-07,6.197763610689231e-09,7.845972931689946e-06,6.455423086584262e-06,6.416454634960783e-08,1.3825328343465195e-07,1.016259072651124e-07,2.0492000402539402e-07,1.420854229834427e-07,1.1153170407806267e-07,4.1218062135063295e-07,1.1559243676824032e-06,1.4438221703275418e-07,3.449732944487781e-05,1.6880467671262607e-06,8.821487869333411e-07,1.0833790816021439e-07,4.2526049536424845e-07,3.7550639922284777e-07,3.554159014876445e-08,5.047256836937074e-07,7.324274623987783e-06,7.697160684681483e-07,4.1137175953585944e-06,0.0003618893009639798,3.1116723783181514e-07,7.558730127697847e-07,0.0005134915863341608,3.378173523107789e-07,1.9698004946747713e-05,1.7986314615940422e-07,4.015892310191983e-06,0.00016335866988489406,4.144225824438558e-08,8.268543892230963e-08,1.1672114483079212e-07,2.125932303481644e-06,3.5397351870966867e-06,2.432726380505077e-06,2.1186743074410724e-10,5.508232460092431e-07,1.400595020655015e-07,2.4471838940863472e-06,2.2325233559240634e-07,3.2140062787136267e-06,4.817918309124526e-06,1.2278715179108265e-08,1.2744880809128917e-05,1.3955767725092035e-05,1.342746930867056e-07,4.257570189110162e-05,0.00028714487034184723,4.028370143933818e-05,3.6794226776344934e-07,2.6449053233267683e-07,9.451221152731253e-06,2.880114065075571e-06,4.781017285772096e-05,1.906813757684783e-06,1.1646002704424332e-06,0.000756636510142347,5.942973082505726e-05,0.00011781041371710678,2.0312142737986078e-06,0.00011283979275710487,0.0001390477079889112,5.898821232288602e-08,8.146335081432311e-08,6.345496795585561e-07,7.242584244570583e-07,17.74865219337916,2.8450600273887775e-07,5.1454771115488287e-08,2.8861585396239886e-05,2.6023055998715013e-08,1.950729475602943e-08,3.149449783094973e-07,0.00014173583657921214,3.2053523694504906e-08,1.6141274530729855e-06,3.935304976252511e-09,1.7395667732371067e-09,3.813556056805379e-09,2.850161160984333e-07,2.1696607616275653e-07,4.640892016296697e-06],\"y0\":\" \",\"yaxis\":\"y\",\"type\":\"violin\"}],                        {\"template\":{\"data\":{\"histogram2dcontour\":[{\"type\":\"histogram2dcontour\",\"colorbar\":{\"outlinewidth\":0,\"ticks\":\"\"},\"colorscale\":[[0.0,\"#0d0887\"],[0.1111111111111111,\"#46039f\"],[0.2222222222222222,\"#7201a8\"],[0.3333333333333333,\"#9c179e\"],[0.4444444444444444,\"#bd3786\"],[0.5555555555555556,\"#d8576b\"],[0.6666666666666666,\"#ed7953\"],[0.7777777777777778,\"#fb9f3a\"],[0.8888888888888888,\"#fdca26\"],[1.0,\"#f0f921\"]]}],\"choropleth\":[{\"type\":\"choropleth\",\"colorbar\":{\"outlinewidth\":0,\"ticks\":\"\"}}],\"histogram2d\":[{\"type\":\"histogram2d\",\"colorbar\":{\"outlinewidth\":0,\"ticks\":\"\"},\"colorscale\":[[0.0,\"#0d0887\"],[0.1111111111111111,\"#46039f\"],[0.2222222222222222,\"#7201a8\"],[0.3333333333333333,\"#9c179e\"],[0.4444444444444444,\"#bd3786\"],[0.5555555555555556,\"#d8576b\"],[0.6666666666666666,\"#ed7953\"],[0.7777777777777778,\"#fb9f3a\"],[0.8888888888888888,\"#fdca26\"],[1.0,\"#f0f921\"]]}],\"heatmap\":[{\"type\":\"heatmap\",\"colorbar\":{\"outlinewidth\":0,\"ticks\":\"\"},\"colorscale\":[[0.0,\"#0d0887\"],[0.1111111111111111,\"#46039f\"],[0.2222222222222222,\"#7201a8\"],[0.3333333333333333,\"#9c179e\"],[0.4444444444444444,\"#bd3786\"],[0.5555555555555556,\"#d8576b\"],[0.6666666666666666,\"#ed7953\"],[0.7777777777777778,\"#fb9f3a\"],[0.8888888888888888,\"#fdca26\"],[1.0,\"#f0f921\"]]}],\"heatmapgl\":[{\"type\":\"heatmapgl\",\"colorbar\":{\"outlinewidth\":0,\"ticks\":\"\"},\"colorscale\":[[0.0,\"#0d0887\"],[0.1111111111111111,\"#46039f\"],[0.2222222222222222,\"#7201a8\"],[0.3333333333333333,\"#9c179e\"],[0.4444444444444444,\"#bd3786\"],[0.5555555555555556,\"#d8576b\"],[0.6666666666666666,\"#ed7953\"],[0.7777777777777778,\"#fb9f3a\"],[0.8888888888888888,\"#fdca26\"],[1.0,\"#f0f921\"]]}],\"contourcarpet\":[{\"type\":\"contourcarpet\",\"colorbar\":{\"outlinewidth\":0,\"ticks\":\"\"}}],\"contour\":[{\"type\":\"contour\",\"colorbar\":{\"outlinewidth\":0,\"ticks\":\"\"},\"colorscale\":[[0.0,\"#0d0887\"],[0.1111111111111111,\"#46039f\"],[0.2222222222222222,\"#7201a8\"],[0.3333333333333333,\"#9c179e\"],[0.4444444444444444,\"#bd3786\"],[0.5555555555555556,\"#d8576b\"],[0.6666666666666666,\"#ed7953\"],[0.7777777777777778,\"#fb9f3a\"],[0.8888888888888888,\"#fdca26\"],[1.0,\"#f0f921\"]]}],\"surface\":[{\"type\":\"surface\",\"colorbar\":{\"outlinewidth\":0,\"ticks\":\"\"},\"colorscale\":[[0.0,\"#0d0887\"],[0.1111111111111111,\"#46039f\"],[0.2222222222222222,\"#7201a8\"],[0.3333333333333333,\"#9c179e\"],[0.4444444444444444,\"#bd3786\"],[0.5555555555555556,\"#d8576b\"],[0.6666666666666666,\"#ed7953\"],[0.7777777777777778,\"#fb9f3a\"],[0.8888888888888888,\"#fdca26\"],[1.0,\"#f0f921\"]]}],\"mesh3d\":[{\"type\":\"mesh3d\",\"colorbar\":{\"outlinewidth\":0,\"ticks\":\"\"}}],\"scatter\":[{\"fillpattern\":{\"fillmode\":\"overlay\",\"size\":10,\"solidity\":0.2},\"type\":\"scatter\"}],\"parcoords\":[{\"type\":\"parcoords\",\"line\":{\"colorbar\":{\"outlinewidth\":0,\"ticks\":\"\"}}}],\"scatterpolargl\":[{\"type\":\"scatterpolargl\",\"marker\":{\"colorbar\":{\"outlinewidth\":0,\"ticks\":\"\"}}}],\"bar\":[{\"error_x\":{\"color\":\"#2a3f5f\"},\"error_y\":{\"color\":\"#2a3f5f\"},\"marker\":{\"line\":{\"color\":\"#E5ECF6\",\"width\":0.5},\"pattern\":{\"fillmode\":\"overlay\",\"size\":10,\"solidity\":0.2}},\"type\":\"bar\"}],\"scattergeo\":[{\"type\":\"scattergeo\",\"marker\":{\"colorbar\":{\"outlinewidth\":0,\"ticks\":\"\"}}}],\"scatterpolar\":[{\"type\":\"scatterpolar\",\"marker\":{\"colorbar\":{\"outlinewidth\":0,\"ticks\":\"\"}}}],\"histogram\":[{\"marker\":{\"pattern\":{\"fillmode\":\"overlay\",\"size\":10,\"solidity\":0.2}},\"type\":\"histogram\"}],\"scattergl\":[{\"type\":\"scattergl\",\"marker\":{\"colorbar\":{\"outlinewidth\":0,\"ticks\":\"\"}}}],\"scatter3d\":[{\"type\":\"scatter3d\",\"line\":{\"colorbar\":{\"outlinewidth\":0,\"ticks\":\"\"}},\"marker\":{\"colorbar\":{\"outlinewidth\":0,\"ticks\":\"\"}}}],\"scattermapbox\":[{\"type\":\"scattermapbox\",\"marker\":{\"colorbar\":{\"outlinewidth\":0,\"ticks\":\"\"}}}],\"scatterternary\":[{\"type\":\"scatterternary\",\"marker\":{\"colorbar\":{\"outlinewidth\":0,\"ticks\":\"\"}}}],\"scattercarpet\":[{\"type\":\"scattercarpet\",\"marker\":{\"colorbar\":{\"outlinewidth\":0,\"ticks\":\"\"}}}],\"carpet\":[{\"aaxis\":{\"endlinecolor\":\"#2a3f5f\",\"gridcolor\":\"white\",\"linecolor\":\"white\",\"minorgridcolor\":\"white\",\"startlinecolor\":\"#2a3f5f\"},\"baxis\":{\"endlinecolor\":\"#2a3f5f\",\"gridcolor\":\"white\",\"linecolor\":\"white\",\"minorgridcolor\":\"white\",\"startlinecolor\":\"#2a3f5f\"},\"type\":\"carpet\"}],\"table\":[{\"cells\":{\"fill\":{\"color\":\"#EBF0F8\"},\"line\":{\"color\":\"white\"}},\"header\":{\"fill\":{\"color\":\"#C8D4E3\"},\"line\":{\"color\":\"white\"}},\"type\":\"table\"}],\"barpolar\":[{\"marker\":{\"line\":{\"color\":\"#E5ECF6\",\"width\":0.5},\"pattern\":{\"fillmode\":\"overlay\",\"size\":10,\"solidity\":0.2}},\"type\":\"barpolar\"}],\"pie\":[{\"automargin\":true,\"type\":\"pie\"}]},\"layout\":{\"autotypenumbers\":\"strict\",\"colorway\":[\"#636efa\",\"#EF553B\",\"#00cc96\",\"#ab63fa\",\"#FFA15A\",\"#19d3f3\",\"#FF6692\",\"#B6E880\",\"#FF97FF\",\"#FECB52\"],\"font\":{\"color\":\"#2a3f5f\"},\"hovermode\":\"closest\",\"hoverlabel\":{\"align\":\"left\"},\"paper_bgcolor\":\"white\",\"plot_bgcolor\":\"#E5ECF6\",\"polar\":{\"bgcolor\":\"#E5ECF6\",\"angularaxis\":{\"gridcolor\":\"white\",\"linecolor\":\"white\",\"ticks\":\"\"},\"radialaxis\":{\"gridcolor\":\"white\",\"linecolor\":\"white\",\"ticks\":\"\"}},\"ternary\":{\"bgcolor\":\"#E5ECF6\",\"aaxis\":{\"gridcolor\":\"white\",\"linecolor\":\"white\",\"ticks\":\"\"},\"baxis\":{\"gridcolor\":\"white\",\"linecolor\":\"white\",\"ticks\":\"\"},\"caxis\":{\"gridcolor\":\"white\",\"linecolor\":\"white\",\"ticks\":\"\"}},\"coloraxis\":{\"colorbar\":{\"outlinewidth\":0,\"ticks\":\"\"}},\"colorscale\":{\"sequential\":[[0.0,\"#0d0887\"],[0.1111111111111111,\"#46039f\"],[0.2222222222222222,\"#7201a8\"],[0.3333333333333333,\"#9c179e\"],[0.4444444444444444,\"#bd3786\"],[0.5555555555555556,\"#d8576b\"],[0.6666666666666666,\"#ed7953\"],[0.7777777777777778,\"#fb9f3a\"],[0.8888888888888888,\"#fdca26\"],[1.0,\"#f0f921\"]],\"sequentialminus\":[[0.0,\"#0d0887\"],[0.1111111111111111,\"#46039f\"],[0.2222222222222222,\"#7201a8\"],[0.3333333333333333,\"#9c179e\"],[0.4444444444444444,\"#bd3786\"],[0.5555555555555556,\"#d8576b\"],[0.6666666666666666,\"#ed7953\"],[0.7777777777777778,\"#fb9f3a\"],[0.8888888888888888,\"#fdca26\"],[1.0,\"#f0f921\"]],\"diverging\":[[0,\"#8e0152\"],[0.1,\"#c51b7d\"],[0.2,\"#de77ae\"],[0.3,\"#f1b6da\"],[0.4,\"#fde0ef\"],[0.5,\"#f7f7f7\"],[0.6,\"#e6f5d0\"],[0.7,\"#b8e186\"],[0.8,\"#7fbc41\"],[0.9,\"#4d9221\"],[1,\"#276419\"]]},\"xaxis\":{\"gridcolor\":\"white\",\"linecolor\":\"white\",\"ticks\":\"\",\"title\":{\"standoff\":15},\"zerolinecolor\":\"white\",\"automargin\":true,\"zerolinewidth\":2},\"yaxis\":{\"gridcolor\":\"white\",\"linecolor\":\"white\",\"ticks\":\"\",\"title\":{\"standoff\":15},\"zerolinecolor\":\"white\",\"automargin\":true,\"zerolinewidth\":2},\"scene\":{\"xaxis\":{\"backgroundcolor\":\"#E5ECF6\",\"gridcolor\":\"white\",\"linecolor\":\"white\",\"showbackground\":true,\"ticks\":\"\",\"zerolinecolor\":\"white\",\"gridwidth\":2},\"yaxis\":{\"backgroundcolor\":\"#E5ECF6\",\"gridcolor\":\"white\",\"linecolor\":\"white\",\"showbackground\":true,\"ticks\":\"\",\"zerolinecolor\":\"white\",\"gridwidth\":2},\"zaxis\":{\"backgroundcolor\":\"#E5ECF6\",\"gridcolor\":\"white\",\"linecolor\":\"white\",\"showbackground\":true,\"ticks\":\"\",\"zerolinecolor\":\"white\",\"gridwidth\":2}},\"shapedefaults\":{\"line\":{\"color\":\"#2a3f5f\"}},\"annotationdefaults\":{\"arrowcolor\":\"#2a3f5f\",\"arrowhead\":0,\"arrowwidth\":1},\"geo\":{\"bgcolor\":\"white\",\"landcolor\":\"#E5ECF6\",\"subunitcolor\":\"white\",\"showland\":true,\"showlakes\":true,\"lakecolor\":\"white\"},\"title\":{\"x\":0.05},\"mapbox\":{\"style\":\"light\"}}},\"xaxis\":{\"anchor\":\"y\",\"domain\":[0.0,1.0],\"title\":{\"text\":\"Error type\"}},\"yaxis\":{\"anchor\":\"x\",\"domain\":[0.0,1.0],\"title\":{\"text\":\"log(value)\"},\"type\":\"log\",\"range\":[-22,3]},\"legend\":{\"tracegroupgap\":0},\"margin\":{\"t\":60},\"violinmode\":\"group\",\"title\":{\"text\":\"Errors normalize by \\u03c3\"}},                        {\"responsive\": true}                    ).then(function(){\n                            \nvar gd = document.getElementById('d92c446e-aa67-4aae-be4d-a19d5bde1a5a');\nvar x = new MutationObserver(function (mutations, observer) {{\n        var display = window.getComputedStyle(gd).display;\n        if (!display || display === 'none') {{\n            console.log([gd, 'removed!']);\n            Plotly.purge(gd);\n            observer.disconnect();\n        }}\n}});\n\n// Listen for the removal of the full notebook cells\nvar notebookContainer = gd.closest('#notebook-container');\nif (notebookContainer) {{\n    x.observe(notebookContainer, {childList: true});\n}}\n\n// Listen for the clearing of the current output cell\nvar outputEl = gd.closest('.output');\nif (outputEl) {{\n    x.observe(outputEl, {childList: true});\n}}\n\n                        })                };                });            </script>        </div>"
     },
     "metadata": {},
     "output_type": "display_data"
    }
   ],
   "source": [
    "# violin plots of the errors\n",
    "kinetics_df_positive_errors = kinetics_df\n",
    "for errors in [\"p1_variance\", \"p2_variance\", \"p1_p2_covariance\"]:\n",
    "    kinetics_df_positive_errors[errors] = kinetics_df_positive_errors[errors].apply(lambda x: np.absolute(x))\n",
    "fig = px.violin(kinetics_df_positive_errors, y=[\"squared_error\", \"p1_variance\", \"p2_variance\", \"p1_p2_covariance\"], box=True, points=\"all\", log_y=True)\n",
    "fig.update_layout(title=\"Errors normalize by \\u03C3\", xaxis_title=\"Error type\", yaxis_title=\"value\", yaxis=dict(title=\"log(value)\", range=(-22, 3)))\n",
    "fig.show()\n",
    "\n",
    "\n"
   ],
   "metadata": {
    "collapsed": false,
    "pycharm": {
     "name": "#%%\n"
    }
   }
  },
  {
   "cell_type": "code",
   "execution_count": 43,
   "outputs": [
    {
     "data": {
      "application/vnd.plotly.v1+json": {
       "data": [
        {
         "alignmentgroup": "True",
         "hovertemplate": "<extra></extra>",
         "legendgroup": "",
         "marker": {
          "color": "#636efa",
          "pattern": {
           "shape": ""
          }
         },
         "name": "",
         "offsetgroup": "",
         "orientation": "v",
         "showlegend": false,
         "textposition": "auto",
         "xaxis": "x",
         "yaxis": "y",
         "type": "bar"
        },
        {
         "marker": {
          "color": "green"
         },
         "name": "postive correlation",
         "x": [
          "squared_error/p1_variance",
          "squared_error/p2_variance",
          "squared_error/p1_p2_covariance",
          "p1_variance/p2_variance",
          "p1_variance/p1_p2_covariance",
          "p2_variance/p1_p2_covariance"
         ],
         "y": [
          5.16636373090497,
          0.4576367444175331,
          0.534708740308143,
          1.2024824973262485E-7,
          0.7584103815591621,
          315.0089247327486
         ],
         "type": "bar"
        },
        {
         "marker": {
          "color": "crimson"
         },
         "name": "negative correlation",
         "x": [
          "squared_error/p1_variance",
          "squared_error/p2_variance",
          "squared_error/p1_p2_covariance",
          "p1_variance/p2_variance",
          "p1_variance/p1_p2_covariance",
          "p2_variance/p1_p2_covariance"
         ],
         "y": [
          -5.16636373090497,
          -0.4576367444175331,
          -0.534708740308143,
          -1.2024824973262485E-7,
          -0.7584103815591621,
          -315.0089247327486
         ],
         "type": "bar"
        }
       ],
       "layout": {
        "template": {
         "data": {
          "histogram2dcontour": [
           {
            "type": "histogram2dcontour",
            "colorbar": {
             "outlinewidth": 0,
             "ticks": ""
            },
            "colorscale": [
             [
              0.0,
              "#0d0887"
             ],
             [
              0.1111111111111111,
              "#46039f"
             ],
             [
              0.2222222222222222,
              "#7201a8"
             ],
             [
              0.3333333333333333,
              "#9c179e"
             ],
             [
              0.4444444444444444,
              "#bd3786"
             ],
             [
              0.5555555555555556,
              "#d8576b"
             ],
             [
              0.6666666666666666,
              "#ed7953"
             ],
             [
              0.7777777777777778,
              "#fb9f3a"
             ],
             [
              0.8888888888888888,
              "#fdca26"
             ],
             [
              1.0,
              "#f0f921"
             ]
            ]
           }
          ],
          "choropleth": [
           {
            "type": "choropleth",
            "colorbar": {
             "outlinewidth": 0,
             "ticks": ""
            }
           }
          ],
          "histogram2d": [
           {
            "type": "histogram2d",
            "colorbar": {
             "outlinewidth": 0,
             "ticks": ""
            },
            "colorscale": [
             [
              0.0,
              "#0d0887"
             ],
             [
              0.1111111111111111,
              "#46039f"
             ],
             [
              0.2222222222222222,
              "#7201a8"
             ],
             [
              0.3333333333333333,
              "#9c179e"
             ],
             [
              0.4444444444444444,
              "#bd3786"
             ],
             [
              0.5555555555555556,
              "#d8576b"
             ],
             [
              0.6666666666666666,
              "#ed7953"
             ],
             [
              0.7777777777777778,
              "#fb9f3a"
             ],
             [
              0.8888888888888888,
              "#fdca26"
             ],
             [
              1.0,
              "#f0f921"
             ]
            ]
           }
          ],
          "heatmap": [
           {
            "type": "heatmap",
            "colorbar": {
             "outlinewidth": 0,
             "ticks": ""
            },
            "colorscale": [
             [
              0.0,
              "#0d0887"
             ],
             [
              0.1111111111111111,
              "#46039f"
             ],
             [
              0.2222222222222222,
              "#7201a8"
             ],
             [
              0.3333333333333333,
              "#9c179e"
             ],
             [
              0.4444444444444444,
              "#bd3786"
             ],
             [
              0.5555555555555556,
              "#d8576b"
             ],
             [
              0.6666666666666666,
              "#ed7953"
             ],
             [
              0.7777777777777778,
              "#fb9f3a"
             ],
             [
              0.8888888888888888,
              "#fdca26"
             ],
             [
              1.0,
              "#f0f921"
             ]
            ]
           }
          ],
          "heatmapgl": [
           {
            "type": "heatmapgl",
            "colorbar": {
             "outlinewidth": 0,
             "ticks": ""
            },
            "colorscale": [
             [
              0.0,
              "#0d0887"
             ],
             [
              0.1111111111111111,
              "#46039f"
             ],
             [
              0.2222222222222222,
              "#7201a8"
             ],
             [
              0.3333333333333333,
              "#9c179e"
             ],
             [
              0.4444444444444444,
              "#bd3786"
             ],
             [
              0.5555555555555556,
              "#d8576b"
             ],
             [
              0.6666666666666666,
              "#ed7953"
             ],
             [
              0.7777777777777778,
              "#fb9f3a"
             ],
             [
              0.8888888888888888,
              "#fdca26"
             ],
             [
              1.0,
              "#f0f921"
             ]
            ]
           }
          ],
          "contourcarpet": [
           {
            "type": "contourcarpet",
            "colorbar": {
             "outlinewidth": 0,
             "ticks": ""
            }
           }
          ],
          "contour": [
           {
            "type": "contour",
            "colorbar": {
             "outlinewidth": 0,
             "ticks": ""
            },
            "colorscale": [
             [
              0.0,
              "#0d0887"
             ],
             [
              0.1111111111111111,
              "#46039f"
             ],
             [
              0.2222222222222222,
              "#7201a8"
             ],
             [
              0.3333333333333333,
              "#9c179e"
             ],
             [
              0.4444444444444444,
              "#bd3786"
             ],
             [
              0.5555555555555556,
              "#d8576b"
             ],
             [
              0.6666666666666666,
              "#ed7953"
             ],
             [
              0.7777777777777778,
              "#fb9f3a"
             ],
             [
              0.8888888888888888,
              "#fdca26"
             ],
             [
              1.0,
              "#f0f921"
             ]
            ]
           }
          ],
          "surface": [
           {
            "type": "surface",
            "colorbar": {
             "outlinewidth": 0,
             "ticks": ""
            },
            "colorscale": [
             [
              0.0,
              "#0d0887"
             ],
             [
              0.1111111111111111,
              "#46039f"
             ],
             [
              0.2222222222222222,
              "#7201a8"
             ],
             [
              0.3333333333333333,
              "#9c179e"
             ],
             [
              0.4444444444444444,
              "#bd3786"
             ],
             [
              0.5555555555555556,
              "#d8576b"
             ],
             [
              0.6666666666666666,
              "#ed7953"
             ],
             [
              0.7777777777777778,
              "#fb9f3a"
             ],
             [
              0.8888888888888888,
              "#fdca26"
             ],
             [
              1.0,
              "#f0f921"
             ]
            ]
           }
          ],
          "mesh3d": [
           {
            "type": "mesh3d",
            "colorbar": {
             "outlinewidth": 0,
             "ticks": ""
            }
           }
          ],
          "scatter": [
           {
            "fillpattern": {
             "fillmode": "overlay",
             "size": 10,
             "solidity": 0.2
            },
            "type": "scatter"
           }
          ],
          "parcoords": [
           {
            "type": "parcoords",
            "line": {
             "colorbar": {
              "outlinewidth": 0,
              "ticks": ""
             }
            }
           }
          ],
          "scatterpolargl": [
           {
            "type": "scatterpolargl",
            "marker": {
             "colorbar": {
              "outlinewidth": 0,
              "ticks": ""
             }
            }
           }
          ],
          "bar": [
           {
            "error_x": {
             "color": "#2a3f5f"
            },
            "error_y": {
             "color": "#2a3f5f"
            },
            "marker": {
             "line": {
              "color": "#E5ECF6",
              "width": 0.5
             },
             "pattern": {
              "fillmode": "overlay",
              "size": 10,
              "solidity": 0.2
             }
            },
            "type": "bar"
           }
          ],
          "scattergeo": [
           {
            "type": "scattergeo",
            "marker": {
             "colorbar": {
              "outlinewidth": 0,
              "ticks": ""
             }
            }
           }
          ],
          "scatterpolar": [
           {
            "type": "scatterpolar",
            "marker": {
             "colorbar": {
              "outlinewidth": 0,
              "ticks": ""
             }
            }
           }
          ],
          "histogram": [
           {
            "marker": {
             "pattern": {
              "fillmode": "overlay",
              "size": 10,
              "solidity": 0.2
             }
            },
            "type": "histogram"
           }
          ],
          "scattergl": [
           {
            "type": "scattergl",
            "marker": {
             "colorbar": {
              "outlinewidth": 0,
              "ticks": ""
             }
            }
           }
          ],
          "scatter3d": [
           {
            "type": "scatter3d",
            "line": {
             "colorbar": {
              "outlinewidth": 0,
              "ticks": ""
             }
            },
            "marker": {
             "colorbar": {
              "outlinewidth": 0,
              "ticks": ""
             }
            }
           }
          ],
          "scattermapbox": [
           {
            "type": "scattermapbox",
            "marker": {
             "colorbar": {
              "outlinewidth": 0,
              "ticks": ""
             }
            }
           }
          ],
          "scatterternary": [
           {
            "type": "scatterternary",
            "marker": {
             "colorbar": {
              "outlinewidth": 0,
              "ticks": ""
             }
            }
           }
          ],
          "scattercarpet": [
           {
            "type": "scattercarpet",
            "marker": {
             "colorbar": {
              "outlinewidth": 0,
              "ticks": ""
             }
            }
           }
          ],
          "carpet": [
           {
            "aaxis": {
             "endlinecolor": "#2a3f5f",
             "gridcolor": "white",
             "linecolor": "white",
             "minorgridcolor": "white",
             "startlinecolor": "#2a3f5f"
            },
            "baxis": {
             "endlinecolor": "#2a3f5f",
             "gridcolor": "white",
             "linecolor": "white",
             "minorgridcolor": "white",
             "startlinecolor": "#2a3f5f"
            },
            "type": "carpet"
           }
          ],
          "table": [
           {
            "cells": {
             "fill": {
              "color": "#EBF0F8"
             },
             "line": {
              "color": "white"
             }
            },
            "header": {
             "fill": {
              "color": "#C8D4E3"
             },
             "line": {
              "color": "white"
             }
            },
            "type": "table"
           }
          ],
          "barpolar": [
           {
            "marker": {
             "line": {
              "color": "#E5ECF6",
              "width": 0.5
             },
             "pattern": {
              "fillmode": "overlay",
              "size": 10,
              "solidity": 0.2
             }
            },
            "type": "barpolar"
           }
          ],
          "pie": [
           {
            "automargin": true,
            "type": "pie"
           }
          ]
         },
         "layout": {
          "autotypenumbers": "strict",
          "colorway": [
           "#636efa",
           "#EF553B",
           "#00cc96",
           "#ab63fa",
           "#FFA15A",
           "#19d3f3",
           "#FF6692",
           "#B6E880",
           "#FF97FF",
           "#FECB52"
          ],
          "font": {
           "color": "#2a3f5f"
          },
          "hovermode": "closest",
          "hoverlabel": {
           "align": "left"
          },
          "paper_bgcolor": "white",
          "plot_bgcolor": "#E5ECF6",
          "polar": {
           "bgcolor": "#E5ECF6",
           "angularaxis": {
            "gridcolor": "white",
            "linecolor": "white",
            "ticks": ""
           },
           "radialaxis": {
            "gridcolor": "white",
            "linecolor": "white",
            "ticks": ""
           }
          },
          "ternary": {
           "bgcolor": "#E5ECF6",
           "aaxis": {
            "gridcolor": "white",
            "linecolor": "white",
            "ticks": ""
           },
           "baxis": {
            "gridcolor": "white",
            "linecolor": "white",
            "ticks": ""
           },
           "caxis": {
            "gridcolor": "white",
            "linecolor": "white",
            "ticks": ""
           }
          },
          "coloraxis": {
           "colorbar": {
            "outlinewidth": 0,
            "ticks": ""
           }
          },
          "colorscale": {
           "sequential": [
            [
             0.0,
             "#0d0887"
            ],
            [
             0.1111111111111111,
             "#46039f"
            ],
            [
             0.2222222222222222,
             "#7201a8"
            ],
            [
             0.3333333333333333,
             "#9c179e"
            ],
            [
             0.4444444444444444,
             "#bd3786"
            ],
            [
             0.5555555555555556,
             "#d8576b"
            ],
            [
             0.6666666666666666,
             "#ed7953"
            ],
            [
             0.7777777777777778,
             "#fb9f3a"
            ],
            [
             0.8888888888888888,
             "#fdca26"
            ],
            [
             1.0,
             "#f0f921"
            ]
           ],
           "sequentialminus": [
            [
             0.0,
             "#0d0887"
            ],
            [
             0.1111111111111111,
             "#46039f"
            ],
            [
             0.2222222222222222,
             "#7201a8"
            ],
            [
             0.3333333333333333,
             "#9c179e"
            ],
            [
             0.4444444444444444,
             "#bd3786"
            ],
            [
             0.5555555555555556,
             "#d8576b"
            ],
            [
             0.6666666666666666,
             "#ed7953"
            ],
            [
             0.7777777777777778,
             "#fb9f3a"
            ],
            [
             0.8888888888888888,
             "#fdca26"
            ],
            [
             1.0,
             "#f0f921"
            ]
           ],
           "diverging": [
            [
             0,
             "#8e0152"
            ],
            [
             0.1,
             "#c51b7d"
            ],
            [
             0.2,
             "#de77ae"
            ],
            [
             0.3,
             "#f1b6da"
            ],
            [
             0.4,
             "#fde0ef"
            ],
            [
             0.5,
             "#f7f7f7"
            ],
            [
             0.6,
             "#e6f5d0"
            ],
            [
             0.7,
             "#b8e186"
            ],
            [
             0.8,
             "#7fbc41"
            ],
            [
             0.9,
             "#4d9221"
            ],
            [
             1,
             "#276419"
            ]
           ]
          },
          "xaxis": {
           "gridcolor": "white",
           "linecolor": "white",
           "ticks": "",
           "title": {
            "standoff": 15
           },
           "zerolinecolor": "white",
           "automargin": true,
           "zerolinewidth": 2
          },
          "yaxis": {
           "gridcolor": "white",
           "linecolor": "white",
           "ticks": "",
           "title": {
            "standoff": 15
           },
           "zerolinecolor": "white",
           "automargin": true,
           "zerolinewidth": 2
          },
          "scene": {
           "xaxis": {
            "backgroundcolor": "#E5ECF6",
            "gridcolor": "white",
            "linecolor": "white",
            "showbackground": true,
            "ticks": "",
            "zerolinecolor": "white",
            "gridwidth": 2
           },
           "yaxis": {
            "backgroundcolor": "#E5ECF6",
            "gridcolor": "white",
            "linecolor": "white",
            "showbackground": true,
            "ticks": "",
            "zerolinecolor": "white",
            "gridwidth": 2
           },
           "zaxis": {
            "backgroundcolor": "#E5ECF6",
            "gridcolor": "white",
            "linecolor": "white",
            "showbackground": true,
            "ticks": "",
            "zerolinecolor": "white",
            "gridwidth": 2
           }
          },
          "shapedefaults": {
           "line": {
            "color": "#2a3f5f"
           }
          },
          "annotationdefaults": {
           "arrowcolor": "#2a3f5f",
           "arrowhead": 0,
           "arrowwidth": 1
          },
          "geo": {
           "bgcolor": "white",
           "landcolor": "#E5ECF6",
           "subunitcolor": "white",
           "showland": true,
           "showlakes": true,
           "lakecolor": "white"
          },
          "title": {
           "x": 0.05
          },
          "mapbox": {
           "style": "light"
          }
         }
        },
        "xaxis": {
         "anchor": "y",
         "domain": [
          0.0,
          1.0
         ]
        },
        "yaxis": {
         "anchor": "x",
         "domain": [
          0.0,
          1.0
         ],
         "type": "log"
        },
        "legend": {
         "tracegroupgap": 0
        },
        "title": {
         "text": "Correlation between Errors"
        },
        "barmode": "relative"
       },
       "config": {
        "plotlyServerURL": "https://plot.ly"
       }
      },
      "text/html": "<div>                            <div id=\"e743f66e-628b-4cc7-9494-7b3d0f831dc3\" class=\"plotly-graph-div\" style=\"height:525px; width:100%;\"></div>            <script type=\"text/javascript\">                require([\"plotly\"], function(Plotly) {                    window.PLOTLYENV=window.PLOTLYENV || {};                                    if (document.getElementById(\"e743f66e-628b-4cc7-9494-7b3d0f831dc3\")) {                    Plotly.newPlot(                        \"e743f66e-628b-4cc7-9494-7b3d0f831dc3\",                        [{\"alignmentgroup\":\"True\",\"hovertemplate\":\"\\u003cextra\\u003e\\u003c\\u002fextra\\u003e\",\"legendgroup\":\"\",\"marker\":{\"color\":\"#636efa\",\"pattern\":{\"shape\":\"\"}},\"name\":\"\",\"offsetgroup\":\"\",\"orientation\":\"v\",\"showlegend\":false,\"textposition\":\"auto\",\"xaxis\":\"x\",\"yaxis\":\"y\",\"type\":\"bar\"},{\"marker\":{\"color\":\"green\"},\"name\":\"postive correlation\",\"x\":[\"squared_error\\u002fp1_variance\",\"squared_error\\u002fp2_variance\",\"squared_error\\u002fp1_p2_covariance\",\"p1_variance\\u002fp2_variance\",\"p1_variance\\u002fp1_p2_covariance\",\"p2_variance\\u002fp1_p2_covariance\"],\"y\":[5.16636373090497,0.4576367444175331,0.534708740308143,1.2024824973262485e-07,0.7584103815591621,315.0089247327486],\"type\":\"bar\"},{\"marker\":{\"color\":\"crimson\"},\"name\":\"negative correlation\",\"x\":[\"squared_error\\u002fp1_variance\",\"squared_error\\u002fp2_variance\",\"squared_error\\u002fp1_p2_covariance\",\"p1_variance\\u002fp2_variance\",\"p1_variance\\u002fp1_p2_covariance\",\"p2_variance\\u002fp1_p2_covariance\"],\"y\":[-5.16636373090497,-0.4576367444175331,-0.534708740308143,-1.2024824973262485e-07,-0.7584103815591621,-315.0089247327486],\"type\":\"bar\"}],                        {\"template\":{\"data\":{\"histogram2dcontour\":[{\"type\":\"histogram2dcontour\",\"colorbar\":{\"outlinewidth\":0,\"ticks\":\"\"},\"colorscale\":[[0.0,\"#0d0887\"],[0.1111111111111111,\"#46039f\"],[0.2222222222222222,\"#7201a8\"],[0.3333333333333333,\"#9c179e\"],[0.4444444444444444,\"#bd3786\"],[0.5555555555555556,\"#d8576b\"],[0.6666666666666666,\"#ed7953\"],[0.7777777777777778,\"#fb9f3a\"],[0.8888888888888888,\"#fdca26\"],[1.0,\"#f0f921\"]]}],\"choropleth\":[{\"type\":\"choropleth\",\"colorbar\":{\"outlinewidth\":0,\"ticks\":\"\"}}],\"histogram2d\":[{\"type\":\"histogram2d\",\"colorbar\":{\"outlinewidth\":0,\"ticks\":\"\"},\"colorscale\":[[0.0,\"#0d0887\"],[0.1111111111111111,\"#46039f\"],[0.2222222222222222,\"#7201a8\"],[0.3333333333333333,\"#9c179e\"],[0.4444444444444444,\"#bd3786\"],[0.5555555555555556,\"#d8576b\"],[0.6666666666666666,\"#ed7953\"],[0.7777777777777778,\"#fb9f3a\"],[0.8888888888888888,\"#fdca26\"],[1.0,\"#f0f921\"]]}],\"heatmap\":[{\"type\":\"heatmap\",\"colorbar\":{\"outlinewidth\":0,\"ticks\":\"\"},\"colorscale\":[[0.0,\"#0d0887\"],[0.1111111111111111,\"#46039f\"],[0.2222222222222222,\"#7201a8\"],[0.3333333333333333,\"#9c179e\"],[0.4444444444444444,\"#bd3786\"],[0.5555555555555556,\"#d8576b\"],[0.6666666666666666,\"#ed7953\"],[0.7777777777777778,\"#fb9f3a\"],[0.8888888888888888,\"#fdca26\"],[1.0,\"#f0f921\"]]}],\"heatmapgl\":[{\"type\":\"heatmapgl\",\"colorbar\":{\"outlinewidth\":0,\"ticks\":\"\"},\"colorscale\":[[0.0,\"#0d0887\"],[0.1111111111111111,\"#46039f\"],[0.2222222222222222,\"#7201a8\"],[0.3333333333333333,\"#9c179e\"],[0.4444444444444444,\"#bd3786\"],[0.5555555555555556,\"#d8576b\"],[0.6666666666666666,\"#ed7953\"],[0.7777777777777778,\"#fb9f3a\"],[0.8888888888888888,\"#fdca26\"],[1.0,\"#f0f921\"]]}],\"contourcarpet\":[{\"type\":\"contourcarpet\",\"colorbar\":{\"outlinewidth\":0,\"ticks\":\"\"}}],\"contour\":[{\"type\":\"contour\",\"colorbar\":{\"outlinewidth\":0,\"ticks\":\"\"},\"colorscale\":[[0.0,\"#0d0887\"],[0.1111111111111111,\"#46039f\"],[0.2222222222222222,\"#7201a8\"],[0.3333333333333333,\"#9c179e\"],[0.4444444444444444,\"#bd3786\"],[0.5555555555555556,\"#d8576b\"],[0.6666666666666666,\"#ed7953\"],[0.7777777777777778,\"#fb9f3a\"],[0.8888888888888888,\"#fdca26\"],[1.0,\"#f0f921\"]]}],\"surface\":[{\"type\":\"surface\",\"colorbar\":{\"outlinewidth\":0,\"ticks\":\"\"},\"colorscale\":[[0.0,\"#0d0887\"],[0.1111111111111111,\"#46039f\"],[0.2222222222222222,\"#7201a8\"],[0.3333333333333333,\"#9c179e\"],[0.4444444444444444,\"#bd3786\"],[0.5555555555555556,\"#d8576b\"],[0.6666666666666666,\"#ed7953\"],[0.7777777777777778,\"#fb9f3a\"],[0.8888888888888888,\"#fdca26\"],[1.0,\"#f0f921\"]]}],\"mesh3d\":[{\"type\":\"mesh3d\",\"colorbar\":{\"outlinewidth\":0,\"ticks\":\"\"}}],\"scatter\":[{\"fillpattern\":{\"fillmode\":\"overlay\",\"size\":10,\"solidity\":0.2},\"type\":\"scatter\"}],\"parcoords\":[{\"type\":\"parcoords\",\"line\":{\"colorbar\":{\"outlinewidth\":0,\"ticks\":\"\"}}}],\"scatterpolargl\":[{\"type\":\"scatterpolargl\",\"marker\":{\"colorbar\":{\"outlinewidth\":0,\"ticks\":\"\"}}}],\"bar\":[{\"error_x\":{\"color\":\"#2a3f5f\"},\"error_y\":{\"color\":\"#2a3f5f\"},\"marker\":{\"line\":{\"color\":\"#E5ECF6\",\"width\":0.5},\"pattern\":{\"fillmode\":\"overlay\",\"size\":10,\"solidity\":0.2}},\"type\":\"bar\"}],\"scattergeo\":[{\"type\":\"scattergeo\",\"marker\":{\"colorbar\":{\"outlinewidth\":0,\"ticks\":\"\"}}}],\"scatterpolar\":[{\"type\":\"scatterpolar\",\"marker\":{\"colorbar\":{\"outlinewidth\":0,\"ticks\":\"\"}}}],\"histogram\":[{\"marker\":{\"pattern\":{\"fillmode\":\"overlay\",\"size\":10,\"solidity\":0.2}},\"type\":\"histogram\"}],\"scattergl\":[{\"type\":\"scattergl\",\"marker\":{\"colorbar\":{\"outlinewidth\":0,\"ticks\":\"\"}}}],\"scatter3d\":[{\"type\":\"scatter3d\",\"line\":{\"colorbar\":{\"outlinewidth\":0,\"ticks\":\"\"}},\"marker\":{\"colorbar\":{\"outlinewidth\":0,\"ticks\":\"\"}}}],\"scattermapbox\":[{\"type\":\"scattermapbox\",\"marker\":{\"colorbar\":{\"outlinewidth\":0,\"ticks\":\"\"}}}],\"scatterternary\":[{\"type\":\"scatterternary\",\"marker\":{\"colorbar\":{\"outlinewidth\":0,\"ticks\":\"\"}}}],\"scattercarpet\":[{\"type\":\"scattercarpet\",\"marker\":{\"colorbar\":{\"outlinewidth\":0,\"ticks\":\"\"}}}],\"carpet\":[{\"aaxis\":{\"endlinecolor\":\"#2a3f5f\",\"gridcolor\":\"white\",\"linecolor\":\"white\",\"minorgridcolor\":\"white\",\"startlinecolor\":\"#2a3f5f\"},\"baxis\":{\"endlinecolor\":\"#2a3f5f\",\"gridcolor\":\"white\",\"linecolor\":\"white\",\"minorgridcolor\":\"white\",\"startlinecolor\":\"#2a3f5f\"},\"type\":\"carpet\"}],\"table\":[{\"cells\":{\"fill\":{\"color\":\"#EBF0F8\"},\"line\":{\"color\":\"white\"}},\"header\":{\"fill\":{\"color\":\"#C8D4E3\"},\"line\":{\"color\":\"white\"}},\"type\":\"table\"}],\"barpolar\":[{\"marker\":{\"line\":{\"color\":\"#E5ECF6\",\"width\":0.5},\"pattern\":{\"fillmode\":\"overlay\",\"size\":10,\"solidity\":0.2}},\"type\":\"barpolar\"}],\"pie\":[{\"automargin\":true,\"type\":\"pie\"}]},\"layout\":{\"autotypenumbers\":\"strict\",\"colorway\":[\"#636efa\",\"#EF553B\",\"#00cc96\",\"#ab63fa\",\"#FFA15A\",\"#19d3f3\",\"#FF6692\",\"#B6E880\",\"#FF97FF\",\"#FECB52\"],\"font\":{\"color\":\"#2a3f5f\"},\"hovermode\":\"closest\",\"hoverlabel\":{\"align\":\"left\"},\"paper_bgcolor\":\"white\",\"plot_bgcolor\":\"#E5ECF6\",\"polar\":{\"bgcolor\":\"#E5ECF6\",\"angularaxis\":{\"gridcolor\":\"white\",\"linecolor\":\"white\",\"ticks\":\"\"},\"radialaxis\":{\"gridcolor\":\"white\",\"linecolor\":\"white\",\"ticks\":\"\"}},\"ternary\":{\"bgcolor\":\"#E5ECF6\",\"aaxis\":{\"gridcolor\":\"white\",\"linecolor\":\"white\",\"ticks\":\"\"},\"baxis\":{\"gridcolor\":\"white\",\"linecolor\":\"white\",\"ticks\":\"\"},\"caxis\":{\"gridcolor\":\"white\",\"linecolor\":\"white\",\"ticks\":\"\"}},\"coloraxis\":{\"colorbar\":{\"outlinewidth\":0,\"ticks\":\"\"}},\"colorscale\":{\"sequential\":[[0.0,\"#0d0887\"],[0.1111111111111111,\"#46039f\"],[0.2222222222222222,\"#7201a8\"],[0.3333333333333333,\"#9c179e\"],[0.4444444444444444,\"#bd3786\"],[0.5555555555555556,\"#d8576b\"],[0.6666666666666666,\"#ed7953\"],[0.7777777777777778,\"#fb9f3a\"],[0.8888888888888888,\"#fdca26\"],[1.0,\"#f0f921\"]],\"sequentialminus\":[[0.0,\"#0d0887\"],[0.1111111111111111,\"#46039f\"],[0.2222222222222222,\"#7201a8\"],[0.3333333333333333,\"#9c179e\"],[0.4444444444444444,\"#bd3786\"],[0.5555555555555556,\"#d8576b\"],[0.6666666666666666,\"#ed7953\"],[0.7777777777777778,\"#fb9f3a\"],[0.8888888888888888,\"#fdca26\"],[1.0,\"#f0f921\"]],\"diverging\":[[0,\"#8e0152\"],[0.1,\"#c51b7d\"],[0.2,\"#de77ae\"],[0.3,\"#f1b6da\"],[0.4,\"#fde0ef\"],[0.5,\"#f7f7f7\"],[0.6,\"#e6f5d0\"],[0.7,\"#b8e186\"],[0.8,\"#7fbc41\"],[0.9,\"#4d9221\"],[1,\"#276419\"]]},\"xaxis\":{\"gridcolor\":\"white\",\"linecolor\":\"white\",\"ticks\":\"\",\"title\":{\"standoff\":15},\"zerolinecolor\":\"white\",\"automargin\":true,\"zerolinewidth\":2},\"yaxis\":{\"gridcolor\":\"white\",\"linecolor\":\"white\",\"ticks\":\"\",\"title\":{\"standoff\":15},\"zerolinecolor\":\"white\",\"automargin\":true,\"zerolinewidth\":2},\"scene\":{\"xaxis\":{\"backgroundcolor\":\"#E5ECF6\",\"gridcolor\":\"white\",\"linecolor\":\"white\",\"showbackground\":true,\"ticks\":\"\",\"zerolinecolor\":\"white\",\"gridwidth\":2},\"yaxis\":{\"backgroundcolor\":\"#E5ECF6\",\"gridcolor\":\"white\",\"linecolor\":\"white\",\"showbackground\":true,\"ticks\":\"\",\"zerolinecolor\":\"white\",\"gridwidth\":2},\"zaxis\":{\"backgroundcolor\":\"#E5ECF6\",\"gridcolor\":\"white\",\"linecolor\":\"white\",\"showbackground\":true,\"ticks\":\"\",\"zerolinecolor\":\"white\",\"gridwidth\":2}},\"shapedefaults\":{\"line\":{\"color\":\"#2a3f5f\"}},\"annotationdefaults\":{\"arrowcolor\":\"#2a3f5f\",\"arrowhead\":0,\"arrowwidth\":1},\"geo\":{\"bgcolor\":\"white\",\"landcolor\":\"#E5ECF6\",\"subunitcolor\":\"white\",\"showland\":true,\"showlakes\":true,\"lakecolor\":\"white\"},\"title\":{\"x\":0.05},\"mapbox\":{\"style\":\"light\"}}},\"xaxis\":{\"anchor\":\"y\",\"domain\":[0.0,1.0]},\"yaxis\":{\"anchor\":\"x\",\"domain\":[0.0,1.0],\"type\":\"log\"},\"legend\":{\"tracegroupgap\":0},\"title\":{\"text\":\"Correlation between Errors\"},\"barmode\":\"relative\"},                        {\"responsive\": true}                    ).then(function(){\n                            \nvar gd = document.getElementById('e743f66e-628b-4cc7-9494-7b3d0f831dc3');\nvar x = new MutationObserver(function (mutations, observer) {{\n        var display = window.getComputedStyle(gd).display;\n        if (!display || display === 'none') {{\n            console.log([gd, 'removed!']);\n            Plotly.purge(gd);\n            observer.disconnect();\n        }}\n}});\n\n// Listen for the removal of the full notebook cells\nvar notebookContainer = gd.closest('#notebook-container');\nif (notebookContainer) {{\n    x.observe(notebookContainer, {childList: true});\n}}\n\n// Listen for the clearing of the current output cell\nvar outputEl = gd.closest('.output');\nif (outputEl) {{\n    x.observe(outputEl, {childList: true});\n}}\n\n                        })                };                });            </script>        </div>"
     },
     "metadata": {},
     "output_type": "display_data"
    }
   ],
   "source": [
    "# kinetics_df[kinetics_df[\"squared_error\"]>0.01] 29/317 entries\n",
    "# calculating covariance between errors to use only the reasonable ones\n",
    "\n",
    "# permutate all combinations of the errors\n",
    "errorcombs = [[],[],[]]\n",
    "for err1, err2 in itertools.combinations([\"squared_error\", \"p1_variance\", \"p2_variance\", \"p1_p2_covariance\"], 2):\n",
    "    # print(f\"The covariance between {err1} and {err2} is {np.cov(kinetics_df[err1], kinetics_df[err2])}\")\n",
    "    # print(f\"The correlation between {err1} and {err2} is {np.correlate(kinetics_df[err1], kinetics_df[err2])}\")\n",
    "    # print(\"\\n\")\n",
    "    errorcombs[0].append(f\"{err1}/{err2}\")\n",
    "    errorcombs[1].append(np.cov(kinetics_df[err1], kinetics_df[err2]))\n",
    "    errorcombs[2].append(*np.correlate(kinetics_df[err1], kinetics_df[err2]))\n",
    "errorcombs_dc = {\"name\": errorcombs[0], \"covariance\":errorcombs[1], \"correlation\":errorcombs[2]}\n",
    "errorcombs_df = pd.DataFrame(data=errorcombs_dc)\n",
    "errorcombs_df[\"i_correlation\"] = errorcombs_df[\"correlation\"] * (-1)\n",
    "\n",
    "# plot barplot per pair of errors with superimposed correlation\n",
    "err_fig = px.bar(title=\"Correlation between Errors\", labels={\"correlation\":\"correlation\"}, log_y=True)\n",
    "err_fig.add_bar(x=errorcombs_df[\"name\"], y=errorcombs_df[\"correlation\"], name=\"postive correlation\", marker_color=\"green\")\n",
    "err_fig.add_bar(x=errorcombs_df[\"name\"], y=errorcombs_df[\"i_correlation\"], name=\"negative correlation\", marker_color=\"crimson\")\n",
    "err_fig.show()\n"
   ],
   "metadata": {
    "collapsed": false,
    "pycharm": {
     "name": "#%%\n"
    }
   }
  },
  {
   "cell_type": "code",
   "execution_count": 55,
   "outputs": [
    {
     "name": "stderr",
     "output_type": "stream",
     "text": [
      "100%|██████████| 5/5 [00:19<00:00,  3.97s/it]"
     ]
    },
    {
     "name": "stdout",
     "output_type": "stream",
     "text": [
      "exported\n"
     ]
    },
    {
     "name": "stderr",
     "output_type": "stream",
     "text": [
      "\n"
     ]
    }
   ],
   "source": [
    "# get information about within which error margin the fits and therefore kinetics are good\n",
    "# split error in quartiles, index per error\n",
    "\n",
    "title_dic = {\"squared_error\":\"r² - error\",\n",
    "             \"p1_variance\":\"variance of parameter 1\",\n",
    "             \"p2_variance\":\"variance of parameter 2\",\n",
    "             \"p1_p2_covariance\":\"covariance (Params 1 & 2)\"}\n",
    "\n",
    "for error in tqdm([\"squared_error\", \"squared_error\", \"p1_variance\", \"p2_variance\", \"p1_p2_covariance\"]):\n",
    "    quartile_len = len(kinetics_df) / 4\n",
    "    quartile_ranges = np.array([(a * quartile_len, (a + 1) * quartile_len) for a in range(4)], dtype=int)\n",
    "    quartiles = list()\n",
    "    for q in range(4):\n",
    "        quartiles.append(kinetics_df.sort_values(by=[error]).iloc[quartile_ranges[q][0]:quartile_ranges[q][1]])\n",
    "\n",
    "    # plot entry 301 from the dataset\n",
    "    # iks = [30, 298, 231, 203]\n",
    "    for nr, n in enumerate(quartiles):\n",
    "        iks = n.index\n",
    "        fig = px.line(title=f\"kinetics (quartile {nr+1} of the {title_dic[error]}) \", labels={\"x\":\"time\", \"y\":\"conversion\"})\n",
    "        for ik in iks:\n",
    "            marker_dict = dict(color=colors[ik%len(colors)])\n",
    "            fit_data = kinetics_df.iloc[ik]\n",
    "            xdata, ydata = fit_data[\"xdata\"], fit_data[\"ydata\"]\n",
    "            fig.add_scatter(x=xdata, y=ydata, mode=\"lines+markers\", name=kinetic_curves[ik][\"experiment\"].iloc[0], marker=marker_dict)\n",
    "            add_fits_to_plot(neg_growth, neg_growth_derivative, [fit_data[\"fit_p1\"], fit_data[\"fit_p2\"]], marker_dict)\n",
    "            fig.update_layout(yaxis=dict(range=[-0.1,1]), xaxis_title=\"time [h]\", yaxis_title=\"conversion [%]\")\n",
    "        fig.write_image(f\"data exploration figures/{error} ({nr+1} quartile).svg\")\n",
    "print(\"exported\")"
   ],
   "metadata": {
    "collapsed": false,
    "pycharm": {
     "name": "#%%\n"
    }
   }
  },
  {
   "cell_type": "code",
   "execution_count": null,
   "outputs": [],
   "source": [
    "# descry when a function aligns to the datapoints in a reasonable way\n",
    "#   Hence, wheneth' the blunder exaggerates, an 80% betweeneth' of the maximum conversion in that kinetic should be assessed to be the maximum conversion.\n"
   ],
   "metadata": {
    "collapsed": false,
    "pycharm": {
     "name": "#%%\n"
    }
   }
  }
 ],
 "metadata": {
  "kernelspec": {
   "name": "python3",
   "language": "python",
   "display_name": "Python 3 (ipykernel)"
  },
  "language_info": {
   "codemirror_mode": {
    "name": "ipython",
    "version": 3
   },
   "file_extension": ".py",
   "mimetype": "text/x-python",
   "name": "python",
   "nbconvert_exporter": "python",
   "pygments_lexer": "ipython3",
   "version": "3.11.7"
  }
 },
 "nbformat": 4,
 "nbformat_minor": 4
}