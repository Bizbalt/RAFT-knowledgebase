{
 "cells": [
  {
   "cell_type": "code",
   "execution_count": 84,
   "outputs": [],
   "source": [
    "import sort_RAFT_table as sRt\n",
    "import pandas as pd\n",
    "import numpy as np\n",
    "import plotly.express as px\n",
    "import re\n",
    "from scipy.optimize import curve_fit\n",
    "import itertools\n",
    "from tqdm import tqdm"
   ],
   "metadata": {
    "collapsed": false,
    "pycharm": {
     "name": "#%%\n"
    }
   }
  },
  {
   "cell_type": "code",
   "execution_count": 85,
   "outputs": [
    {
     "name": "stdout",
     "output_type": "stream",
     "text": [
      "['t0h-conversion', 't1h-conversion', 't2h-conversion', 't4h-conversion', 't6h-conversion', 't8h-conversion', 't10h-conversion', 't15h-conversion']\n",
      "['t0h-Mn', 't1h-Mn', 't2h-Mn', 't4h-Mn', 't6h-Mn', 't8h-Mn', 't10h-Mn', 't15h-Mn']\n",
      "['t0h-Mw', 't1h-Mw', 't2h-Mw', 't4h-Mw', 't6h-Mw', 't8h-Mw', 't10h-Mw', 't15h-Mw']\n"
     ]
    }
   ],
   "source": [
    "# rectify/balance the table\n",
    "sRt.df[\"t6h-conversion\"] = np.nan\n",
    "sRt.df[\"t10h-conversion\"] = np.nan\n",
    "\n",
    "# get all conversion headers, sort them by the hours\n",
    "conversion_list = []\n",
    "for column in sRt.df.columns:\n",
    "    if \"conversion\" in column:\n",
    "        conversion_list.append(column)\n",
    "\n",
    "conversion_list.sort(key=lambda x: int(re.findall(r\"\\d+\", x)[0]))\n",
    "\n",
    "# get all the Mn and Mw headers\n",
    "Mn_list = []\n",
    "Mw_list = []\n",
    "for column in sRt.df.columns:\n",
    "    if \"Mn\" in column:\n",
    "        Mn_list.append(column)\n",
    "    if \"Mw\" in column:\n",
    "        Mw_list.append(column)\n",
    "\n",
    "print(conversion_list, Mn_list, Mw_list, sep=\"\\n\")"
   ],
   "metadata": {
    "collapsed": false,
    "pycharm": {
     "name": "#%%\n"
    }
   }
  },
  {
   "cell_type": "code",
   "execution_count": 86,
   "outputs": [
    {
     "name": "stdout",
     "output_type": "stream",
     "text": [
      "The timer was reset to 0 after the first closing of reactors in the \"t = 0\"-sampling-step\n"
     ]
    },
    {
     "data": {
      "text/plain": "                     0         1         2         4         6         8  \\\nReactor                                                                    \n1                    0  1.005556  2.011111  4.018056  6.008333  8.016667   \n2                    0  1.005556  2.011111  4.018056  6.008333  8.016667   \n3                    0  1.073611  2.068056  4.077778  6.063889  8.090278   \n4                    0  1.073611  2.068056  4.077778  6.063889  8.090278   \n5                    0  1.131944  2.125000  4.143056  6.120833  8.180556   \n6                    0  1.131944  2.125000  4.143056  6.120833  8.180556   \n7                    0  1.191667  2.184722  4.205556  6.180556  8.256944   \n8                    0  1.191667  2.184722  4.205556  6.180556  8.256944   \n9                    0  1.251389  2.241667  4.273611  6.237500  8.338889   \n10                   0  1.251389  2.241667  4.273611  6.237500  8.338889   \n11                   0  1.312500  2.301389  4.336111  6.295833  8.415278   \n12                   0  1.312500  2.301389  4.336111  6.295833  8.415278   \n13                   0  1.373611  2.369444  4.409722  6.358333  8.501389   \n14                   0  1.373611  2.369444  4.409722  6.358333  8.501389   \n15                   0  1.437500  2.430556  4.475000  6.416667  8.581944   \nclosing of reactors  0  1.481944  2.476389  4.526389  6.461111  8.643056   \n\n                            10         15  \nReactor                                    \n1                    10.011111  15.016667  \n2                    10.011111  15.016667  \n3                    10.084722  15.098611  \n4                    10.084722  15.098611  \n5                    10.158333  15.200000  \n6                    10.158333  15.200000  \n7                    10.233333  15.291667  \n8                    10.233333  15.291667  \n9                    10.306944  15.381944  \n10                   10.306944  15.381944  \n11                   10.383333  15.472222  \n12                   10.383333  15.472222  \n13                   10.466667  15.568056  \n14                   10.466667  15.568056  \n15                   10.541667  15.658333  \nclosing of reactors  10.604167  15.730556  ",
      "text/html": "<div>\n<style scoped>\n    .dataframe tbody tr th:only-of-type {\n        vertical-align: middle;\n    }\n\n    .dataframe tbody tr th {\n        vertical-align: top;\n    }\n\n    .dataframe thead th {\n        text-align: right;\n    }\n</style>\n<table border=\"1\" class=\"dataframe\">\n  <thead>\n    <tr style=\"text-align: right;\">\n      <th></th>\n      <th>0</th>\n      <th>1</th>\n      <th>2</th>\n      <th>4</th>\n      <th>6</th>\n      <th>8</th>\n      <th>10</th>\n      <th>15</th>\n    </tr>\n    <tr>\n      <th>Reactor</th>\n      <th></th>\n      <th></th>\n      <th></th>\n      <th></th>\n      <th></th>\n      <th></th>\n      <th></th>\n      <th></th>\n    </tr>\n  </thead>\n  <tbody>\n    <tr>\n      <th>1</th>\n      <td>0</td>\n      <td>1.005556</td>\n      <td>2.011111</td>\n      <td>4.018056</td>\n      <td>6.008333</td>\n      <td>8.016667</td>\n      <td>10.011111</td>\n      <td>15.016667</td>\n    </tr>\n    <tr>\n      <th>2</th>\n      <td>0</td>\n      <td>1.005556</td>\n      <td>2.011111</td>\n      <td>4.018056</td>\n      <td>6.008333</td>\n      <td>8.016667</td>\n      <td>10.011111</td>\n      <td>15.016667</td>\n    </tr>\n    <tr>\n      <th>3</th>\n      <td>0</td>\n      <td>1.073611</td>\n      <td>2.068056</td>\n      <td>4.077778</td>\n      <td>6.063889</td>\n      <td>8.090278</td>\n      <td>10.084722</td>\n      <td>15.098611</td>\n    </tr>\n    <tr>\n      <th>4</th>\n      <td>0</td>\n      <td>1.073611</td>\n      <td>2.068056</td>\n      <td>4.077778</td>\n      <td>6.063889</td>\n      <td>8.090278</td>\n      <td>10.084722</td>\n      <td>15.098611</td>\n    </tr>\n    <tr>\n      <th>5</th>\n      <td>0</td>\n      <td>1.131944</td>\n      <td>2.125000</td>\n      <td>4.143056</td>\n      <td>6.120833</td>\n      <td>8.180556</td>\n      <td>10.158333</td>\n      <td>15.200000</td>\n    </tr>\n    <tr>\n      <th>6</th>\n      <td>0</td>\n      <td>1.131944</td>\n      <td>2.125000</td>\n      <td>4.143056</td>\n      <td>6.120833</td>\n      <td>8.180556</td>\n      <td>10.158333</td>\n      <td>15.200000</td>\n    </tr>\n    <tr>\n      <th>7</th>\n      <td>0</td>\n      <td>1.191667</td>\n      <td>2.184722</td>\n      <td>4.205556</td>\n      <td>6.180556</td>\n      <td>8.256944</td>\n      <td>10.233333</td>\n      <td>15.291667</td>\n    </tr>\n    <tr>\n      <th>8</th>\n      <td>0</td>\n      <td>1.191667</td>\n      <td>2.184722</td>\n      <td>4.205556</td>\n      <td>6.180556</td>\n      <td>8.256944</td>\n      <td>10.233333</td>\n      <td>15.291667</td>\n    </tr>\n    <tr>\n      <th>9</th>\n      <td>0</td>\n      <td>1.251389</td>\n      <td>2.241667</td>\n      <td>4.273611</td>\n      <td>6.237500</td>\n      <td>8.338889</td>\n      <td>10.306944</td>\n      <td>15.381944</td>\n    </tr>\n    <tr>\n      <th>10</th>\n      <td>0</td>\n      <td>1.251389</td>\n      <td>2.241667</td>\n      <td>4.273611</td>\n      <td>6.237500</td>\n      <td>8.338889</td>\n      <td>10.306944</td>\n      <td>15.381944</td>\n    </tr>\n    <tr>\n      <th>11</th>\n      <td>0</td>\n      <td>1.312500</td>\n      <td>2.301389</td>\n      <td>4.336111</td>\n      <td>6.295833</td>\n      <td>8.415278</td>\n      <td>10.383333</td>\n      <td>15.472222</td>\n    </tr>\n    <tr>\n      <th>12</th>\n      <td>0</td>\n      <td>1.312500</td>\n      <td>2.301389</td>\n      <td>4.336111</td>\n      <td>6.295833</td>\n      <td>8.415278</td>\n      <td>10.383333</td>\n      <td>15.472222</td>\n    </tr>\n    <tr>\n      <th>13</th>\n      <td>0</td>\n      <td>1.373611</td>\n      <td>2.369444</td>\n      <td>4.409722</td>\n      <td>6.358333</td>\n      <td>8.501389</td>\n      <td>10.466667</td>\n      <td>15.568056</td>\n    </tr>\n    <tr>\n      <th>14</th>\n      <td>0</td>\n      <td>1.373611</td>\n      <td>2.369444</td>\n      <td>4.409722</td>\n      <td>6.358333</td>\n      <td>8.501389</td>\n      <td>10.466667</td>\n      <td>15.568056</td>\n    </tr>\n    <tr>\n      <th>15</th>\n      <td>0</td>\n      <td>1.437500</td>\n      <td>2.430556</td>\n      <td>4.475000</td>\n      <td>6.416667</td>\n      <td>8.581944</td>\n      <td>10.541667</td>\n      <td>15.658333</td>\n    </tr>\n    <tr>\n      <th>closing of reactors</th>\n      <td>0</td>\n      <td>1.481944</td>\n      <td>2.476389</td>\n      <td>4.526389</td>\n      <td>6.461111</td>\n      <td>8.643056</td>\n      <td>10.604167</td>\n      <td>15.730556</td>\n    </tr>\n  </tbody>\n</table>\n</div>"
     },
     "execution_count": 86,
     "metadata": {},
     "output_type": "execute_result"
    }
   ],
   "source": [
    "def change_timeformat(time_format):\n",
    "    h_m_s = str(time_format).split(\":\")\n",
    "    m_format = int(h_m_s[0]) * 60 + int(h_m_s[1]) + int(h_m_s[2]) / 60\n",
    "    return m_format\n",
    "\n",
    "def change_timeformat_h(time_format):\n",
    "    h_m_s = str(time_format).split(\":\")\n",
    "    h_format = int(h_m_s[0]) + (int(h_m_s[1]) + int(h_m_s[2]) / 60) /60\n",
    "    return h_format\n",
    "\n",
    "# creating a table as a lookup to correct all sample measurement times\n",
    "\n",
    "# get the hours from the headers with regex\n",
    "hours_list = []\n",
    "two_digit_regex = r\"\\d+\"\n",
    "for column in conversion_list:\n",
    "    hours_list.append(int(re.findall(two_digit_regex, column)[0]))\n",
    "hours_list.sort()\n",
    "\n",
    "exact_times = pd.read_excel(sRt.INPUT_FILE_PATH, sheet_name=\"exact sampling times\")\n",
    "\n",
    "time_correction_df = pd.DataFrame(data=exact_times.iloc[3:12, 3:])\n",
    "time_correction_df.columns = exact_times.loc[2][3:]\n",
    "\n",
    "time_correction_df.reset_index(inplace=True, drop=True)\n",
    "ext_time_corr_df_data =[]\n",
    "for row in time_correction_df.iterrows():\n",
    "    reactor_nr = row[1][\"Reactor\"]\n",
    "    if type(reactor_nr) == int or reactor_nr == \"closing of reactors\": # that applies to reactor 15 and the closing of reactors\n",
    "        row[1][\"Reactor\"] = str(reactor_nr)\n",
    "        ext_time_corr_df_data.append(row[1])\n",
    "    else: # that applies to all reactors which are described per row in pairs like \"3+4\"\n",
    "        reactor_nr_s = (row[1][\"Reactor\"]).split(\"+\")\n",
    "        for reactor_nr in reactor_nr_s:\n",
    "            row[1][\"Reactor\"] = reactor_nr\n",
    "            ext_time_corr_df_data.append(row[1].copy())\n",
    "ext_time_corr_df = pd.DataFrame(data=ext_time_corr_df_data, columns=exact_times.loc[2][3:])\n",
    "ext_time_corr_df.reset_index(drop=True, inplace=True)\n",
    "print(\"The timer was reset to 0 after the first closing of reactors in the \\\"t = 0\\\"-sampling-step\")\n",
    "ext_time_corr_df.columns = [\"Reactor\", 0, 1, 2, 4, 6, 8, 10, 15]\n",
    "\n",
    "# change time format to minutes and set\n",
    "time_cols = ext_time_corr_df.columns.difference([\"Reactor\"])\n",
    "ext_time_corr_df[time_cols] = ext_time_corr_df[time_cols].apply(lambda x: [change_timeformat_h(d) for d in x])\n",
    "ext_time_corr_df[0] = ext_time_corr_df[0].apply(lambda x: 0 )\n",
    "\n",
    "# set index to reactor\n",
    "ext_time_corr_df.set_index(\"Reactor\", inplace=True)\n",
    "\n",
    "ext_time_corr_df"
   ],
   "metadata": {
    "collapsed": false,
    "pycharm": {
     "name": "#%%\n"
    }
   }
  },
  {
   "cell_type": "code",
   "execution_count": 87,
   "outputs": [
    {
     "data": {
      "text/plain": "{'1': 'Styrene',\n '2': '4-Chlorostyrene',\n '3': '4-Bromostyrene',\n '4': '4-Methylstyrene',\n '5': '4-Methoxystyrene',\n '16': '4-tert-Butylstyrene',\n '6': 'Methyl methacrylate',\n '7': 'Butyl methacrylate',\n '8': 'Lauryl methacrylate',\n '9': '(2-Dimethylaminoethyl)methacrylate',\n '10': 'Benzyl methacrylate',\n '11': 'Methyl acrylate ',\n '12': 'Butyl acrylate',\n '13': 'Lauryl acrylate',\n '14': 'Dimethylaminoethylacrylate',\n '15': 'Benzyl acrylate',\n 'A': '2-Cyan-2-propylbenzodithioat',\n 'B': '4-Cyano-4-(phenylcarbonothioylthio)pentanoic acid',\n 'C': '2-Phenyl-2-propyl benzodithioate',\n 'D': '2-Cyano-2-propyl dodecyl trithiocarbonate',\n 'E': '2-(Dodecylthiocarbonothioylthio)-2-methylpropionic acid',\n 'F': 'Cyanomethyl dodecyl trithiocarbonate',\n 'G': 'Benzyl 1H-pyrrole-1-carbodithioate',\n 'H': '2-Cyanopropan-2-yl N-methyl-N-(pyridin-4-yl)carbamodithioate',\n 'I': 'S,S-Dibenzyl trithiocarbonate',\n 'J': 'Cyanomethyl methyl(phenyl)carbamodithioate',\n 'DMF': 'Dimethylformamide',\n 'Tol': 'Toluene',\n 'DMSO': 'Dimethylsulfoxide'}"
     },
     "execution_count": 87,
     "metadata": {},
     "output_type": "execute_result"
    }
   ],
   "source": [
    "# replace the \"sample determiner\" with columns describing for the experiment number (next cell) and the actual reagents that made out the \"determiner\"\n",
    "reaction_descriptors_dict = {}\n",
    "abbreviation_keys = pd.read_excel(sRt.INPUT_FILE_PATH, sheet_name=\"Legend for Abbreviations\")\n",
    "abbreviation_keys.dropna(inplace=True)\n",
    "for row in abbreviation_keys.itertuples():\n",
    "    reaction_descriptors_dict[str(row.Symbol)] = row.Name\n",
    "\n",
    "reaction_descriptors_dict"
   ],
   "metadata": {
    "collapsed": false,
    "pycharm": {
     "name": "#%%\n"
    }
   }
  },
  {
   "cell_type": "code",
   "execution_count": 88,
   "outputs": [],
   "source": [
    "# generate a reformatted table with all entries attributing to a sample analysis taken, described with a column of the right time\n",
    "kinetic_curves = []\n",
    "for index, polymerisation_kinetic in sRt.df.iterrows():\n",
    "\n",
    "    kinetic_curve_entries = pd.DataFrame(index=range(len(polymerisation_kinetic[conversion_list])),\n",
    "        data={\"time\" : hours_list, \"conversion\" : polymerisation_kinetic[conversion_list].values,\n",
    "         \"Mn\" : polymerisation_kinetic[Mn_list].values, \"Mw\" : polymerisation_kinetic[Mw_list].values,\n",
    "         # , \"reactor\" : polymerisation_kinetic[\"reactor\"] reactor is not needed since the time is corrected\n",
    "         })\n",
    "\n",
    "    kinetic_curve_entries[\"exp_nr\"] = str(index)\n",
    "    kinetic_curve_entries[\"monomer\"] = reaction_descriptors_dict[polymerisation_kinetic[\"monomer\"]]\n",
    "    kinetic_curve_entries[\"RAFT-Agent\"] = reaction_descriptors_dict[polymerisation_kinetic[\"RAFT-Agent\"]]\n",
    "    kinetic_curve_entries[\"solvent\"] = reaction_descriptors_dict[polymerisation_kinetic[\"solvent\"]]\n",
    "\n",
    "    # the times are dependent on the current reactor, get current\n",
    "    current_reactor_nr = str(polymerisation_kinetic[\"reactor\"])\n",
    "    current_time_list = ext_time_corr_df.loc[current_reactor_nr]\n",
    "    kinetic_curve_entries[\"time\"] = list(current_time_list)\n",
    "\n",
    "    kinetic_curves.append(kinetic_curve_entries)\n"
   ],
   "metadata": {
    "collapsed": false,
    "pycharm": {
     "name": "#%%\n"
    }
   }
  },
  {
   "cell_type": "code",
   "execution_count": 89,
   "outputs": [
    {
     "name": "stdout",
     "output_type": "stream",
     "text": [
      "        time conversion     Mn     Mw exp_nr          monomer  \\\n",
      "0   0.000000          0    NaN    NaN    301  4-Methylstyrene   \n",
      "1   1.251389    0.02518  225.0  266.0    301  4-Methylstyrene   \n",
      "2   2.241667   0.014388  234.0  265.0    301  4-Methylstyrene   \n",
      "3   4.273611   0.014388  280.0  330.0    301  4-Methylstyrene   \n",
      "4   6.237500        NaN  321.0  368.0    301  4-Methylstyrene   \n",
      "5   8.338889   0.021583  352.0  416.0    301  4-Methylstyrene   \n",
      "6  10.306944        NaN  357.0  429.0    301  4-Methylstyrene   \n",
      "7  15.381944   0.032374  491.0  680.0    301  4-Methylstyrene   \n",
      "\n",
      "                     RAFT-Agent            solvent  \n",
      "0  2-Cyan-2-propylbenzodithioat  Dimethylformamide  \n",
      "1  2-Cyan-2-propylbenzodithioat  Dimethylformamide  \n",
      "2  2-Cyan-2-propylbenzodithioat  Dimethylformamide  \n",
      "3  2-Cyan-2-propylbenzodithioat  Dimethylformamide  \n",
      "4  2-Cyan-2-propylbenzodithioat  Dimethylformamide  \n",
      "5  2-Cyan-2-propylbenzodithioat  Dimethylformamide  \n",
      "6  2-Cyan-2-propylbenzodithioat  Dimethylformamide  \n",
      "7  2-Cyan-2-propylbenzodithioat  Dimethylformamide  \n"
     ]
    },
    {
     "data": {
      "application/vnd.plotly.v1+json": {
       "data": [
        {
         "hovertemplate": "time=%{x}<br>conversion=%{y}<extra></extra>",
         "legendgroup": "",
         "line": {
          "color": "#636efa",
          "dash": "solid"
         },
         "marker": {
          "symbol": "circle"
         },
         "mode": "lines",
         "name": "",
         "orientation": "h",
         "showlegend": false,
         "x": [
          0.0,
          1.2513888888888889,
          2.2416666666666667,
          4.273611111111111,
          8.338888888888889,
          15.381944444444445
         ],
         "xaxis": "x",
         "y": [
          0,
          0.025179856115107868,
          0.014388489208632893,
          0.014388489208632893,
          0.021582733812949506,
          0.03237410071942437
         ],
         "yaxis": "y",
         "type": "scatter"
        },
        {
         "line": {
          "dash": "dot"
         },
         "mode": "lines+markers",
         "name": "Mn",
         "x": [
          0.0,
          1.2513888888888889,
          2.2416666666666667,
          4.273611111111111,
          6.2375,
          8.338888888888889,
          10.306944444444444,
          15.381944444444445
         ],
         "y": [
          0,
          0.025179856115107868,
          0.014388489208632893,
          0.014388489208632893,
          null,
          0.021582733812949506,
          null,
          0.03237410071942437
         ],
         "type": "scatter"
        }
       ],
       "layout": {
        "template": {
         "data": {
          "histogram2dcontour": [
           {
            "type": "histogram2dcontour",
            "colorbar": {
             "outlinewidth": 0,
             "ticks": ""
            },
            "colorscale": [
             [
              0.0,
              "#0d0887"
             ],
             [
              0.1111111111111111,
              "#46039f"
             ],
             [
              0.2222222222222222,
              "#7201a8"
             ],
             [
              0.3333333333333333,
              "#9c179e"
             ],
             [
              0.4444444444444444,
              "#bd3786"
             ],
             [
              0.5555555555555556,
              "#d8576b"
             ],
             [
              0.6666666666666666,
              "#ed7953"
             ],
             [
              0.7777777777777778,
              "#fb9f3a"
             ],
             [
              0.8888888888888888,
              "#fdca26"
             ],
             [
              1.0,
              "#f0f921"
             ]
            ]
           }
          ],
          "choropleth": [
           {
            "type": "choropleth",
            "colorbar": {
             "outlinewidth": 0,
             "ticks": ""
            }
           }
          ],
          "histogram2d": [
           {
            "type": "histogram2d",
            "colorbar": {
             "outlinewidth": 0,
             "ticks": ""
            },
            "colorscale": [
             [
              0.0,
              "#0d0887"
             ],
             [
              0.1111111111111111,
              "#46039f"
             ],
             [
              0.2222222222222222,
              "#7201a8"
             ],
             [
              0.3333333333333333,
              "#9c179e"
             ],
             [
              0.4444444444444444,
              "#bd3786"
             ],
             [
              0.5555555555555556,
              "#d8576b"
             ],
             [
              0.6666666666666666,
              "#ed7953"
             ],
             [
              0.7777777777777778,
              "#fb9f3a"
             ],
             [
              0.8888888888888888,
              "#fdca26"
             ],
             [
              1.0,
              "#f0f921"
             ]
            ]
           }
          ],
          "heatmap": [
           {
            "type": "heatmap",
            "colorbar": {
             "outlinewidth": 0,
             "ticks": ""
            },
            "colorscale": [
             [
              0.0,
              "#0d0887"
             ],
             [
              0.1111111111111111,
              "#46039f"
             ],
             [
              0.2222222222222222,
              "#7201a8"
             ],
             [
              0.3333333333333333,
              "#9c179e"
             ],
             [
              0.4444444444444444,
              "#bd3786"
             ],
             [
              0.5555555555555556,
              "#d8576b"
             ],
             [
              0.6666666666666666,
              "#ed7953"
             ],
             [
              0.7777777777777778,
              "#fb9f3a"
             ],
             [
              0.8888888888888888,
              "#fdca26"
             ],
             [
              1.0,
              "#f0f921"
             ]
            ]
           }
          ],
          "heatmapgl": [
           {
            "type": "heatmapgl",
            "colorbar": {
             "outlinewidth": 0,
             "ticks": ""
            },
            "colorscale": [
             [
              0.0,
              "#0d0887"
             ],
             [
              0.1111111111111111,
              "#46039f"
             ],
             [
              0.2222222222222222,
              "#7201a8"
             ],
             [
              0.3333333333333333,
              "#9c179e"
             ],
             [
              0.4444444444444444,
              "#bd3786"
             ],
             [
              0.5555555555555556,
              "#d8576b"
             ],
             [
              0.6666666666666666,
              "#ed7953"
             ],
             [
              0.7777777777777778,
              "#fb9f3a"
             ],
             [
              0.8888888888888888,
              "#fdca26"
             ],
             [
              1.0,
              "#f0f921"
             ]
            ]
           }
          ],
          "contourcarpet": [
           {
            "type": "contourcarpet",
            "colorbar": {
             "outlinewidth": 0,
             "ticks": ""
            }
           }
          ],
          "contour": [
           {
            "type": "contour",
            "colorbar": {
             "outlinewidth": 0,
             "ticks": ""
            },
            "colorscale": [
             [
              0.0,
              "#0d0887"
             ],
             [
              0.1111111111111111,
              "#46039f"
             ],
             [
              0.2222222222222222,
              "#7201a8"
             ],
             [
              0.3333333333333333,
              "#9c179e"
             ],
             [
              0.4444444444444444,
              "#bd3786"
             ],
             [
              0.5555555555555556,
              "#d8576b"
             ],
             [
              0.6666666666666666,
              "#ed7953"
             ],
             [
              0.7777777777777778,
              "#fb9f3a"
             ],
             [
              0.8888888888888888,
              "#fdca26"
             ],
             [
              1.0,
              "#f0f921"
             ]
            ]
           }
          ],
          "surface": [
           {
            "type": "surface",
            "colorbar": {
             "outlinewidth": 0,
             "ticks": ""
            },
            "colorscale": [
             [
              0.0,
              "#0d0887"
             ],
             [
              0.1111111111111111,
              "#46039f"
             ],
             [
              0.2222222222222222,
              "#7201a8"
             ],
             [
              0.3333333333333333,
              "#9c179e"
             ],
             [
              0.4444444444444444,
              "#bd3786"
             ],
             [
              0.5555555555555556,
              "#d8576b"
             ],
             [
              0.6666666666666666,
              "#ed7953"
             ],
             [
              0.7777777777777778,
              "#fb9f3a"
             ],
             [
              0.8888888888888888,
              "#fdca26"
             ],
             [
              1.0,
              "#f0f921"
             ]
            ]
           }
          ],
          "mesh3d": [
           {
            "type": "mesh3d",
            "colorbar": {
             "outlinewidth": 0,
             "ticks": ""
            }
           }
          ],
          "scatter": [
           {
            "fillpattern": {
             "fillmode": "overlay",
             "size": 10,
             "solidity": 0.2
            },
            "type": "scatter"
           }
          ],
          "parcoords": [
           {
            "type": "parcoords",
            "line": {
             "colorbar": {
              "outlinewidth": 0,
              "ticks": ""
             }
            }
           }
          ],
          "scatterpolargl": [
           {
            "type": "scatterpolargl",
            "marker": {
             "colorbar": {
              "outlinewidth": 0,
              "ticks": ""
             }
            }
           }
          ],
          "bar": [
           {
            "error_x": {
             "color": "#2a3f5f"
            },
            "error_y": {
             "color": "#2a3f5f"
            },
            "marker": {
             "line": {
              "color": "#E5ECF6",
              "width": 0.5
             },
             "pattern": {
              "fillmode": "overlay",
              "size": 10,
              "solidity": 0.2
             }
            },
            "type": "bar"
           }
          ],
          "scattergeo": [
           {
            "type": "scattergeo",
            "marker": {
             "colorbar": {
              "outlinewidth": 0,
              "ticks": ""
             }
            }
           }
          ],
          "scatterpolar": [
           {
            "type": "scatterpolar",
            "marker": {
             "colorbar": {
              "outlinewidth": 0,
              "ticks": ""
             }
            }
           }
          ],
          "histogram": [
           {
            "marker": {
             "pattern": {
              "fillmode": "overlay",
              "size": 10,
              "solidity": 0.2
             }
            },
            "type": "histogram"
           }
          ],
          "scattergl": [
           {
            "type": "scattergl",
            "marker": {
             "colorbar": {
              "outlinewidth": 0,
              "ticks": ""
             }
            }
           }
          ],
          "scatter3d": [
           {
            "type": "scatter3d",
            "line": {
             "colorbar": {
              "outlinewidth": 0,
              "ticks": ""
             }
            },
            "marker": {
             "colorbar": {
              "outlinewidth": 0,
              "ticks": ""
             }
            }
           }
          ],
          "scattermapbox": [
           {
            "type": "scattermapbox",
            "marker": {
             "colorbar": {
              "outlinewidth": 0,
              "ticks": ""
             }
            }
           }
          ],
          "scatterternary": [
           {
            "type": "scatterternary",
            "marker": {
             "colorbar": {
              "outlinewidth": 0,
              "ticks": ""
             }
            }
           }
          ],
          "scattercarpet": [
           {
            "type": "scattercarpet",
            "marker": {
             "colorbar": {
              "outlinewidth": 0,
              "ticks": ""
             }
            }
           }
          ],
          "carpet": [
           {
            "aaxis": {
             "endlinecolor": "#2a3f5f",
             "gridcolor": "white",
             "linecolor": "white",
             "minorgridcolor": "white",
             "startlinecolor": "#2a3f5f"
            },
            "baxis": {
             "endlinecolor": "#2a3f5f",
             "gridcolor": "white",
             "linecolor": "white",
             "minorgridcolor": "white",
             "startlinecolor": "#2a3f5f"
            },
            "type": "carpet"
           }
          ],
          "table": [
           {
            "cells": {
             "fill": {
              "color": "#EBF0F8"
             },
             "line": {
              "color": "white"
             }
            },
            "header": {
             "fill": {
              "color": "#C8D4E3"
             },
             "line": {
              "color": "white"
             }
            },
            "type": "table"
           }
          ],
          "barpolar": [
           {
            "marker": {
             "line": {
              "color": "#E5ECF6",
              "width": 0.5
             },
             "pattern": {
              "fillmode": "overlay",
              "size": 10,
              "solidity": 0.2
             }
            },
            "type": "barpolar"
           }
          ],
          "pie": [
           {
            "automargin": true,
            "type": "pie"
           }
          ]
         },
         "layout": {
          "autotypenumbers": "strict",
          "colorway": [
           "#636efa",
           "#EF553B",
           "#00cc96",
           "#ab63fa",
           "#FFA15A",
           "#19d3f3",
           "#FF6692",
           "#B6E880",
           "#FF97FF",
           "#FECB52"
          ],
          "font": {
           "color": "#2a3f5f"
          },
          "hovermode": "closest",
          "hoverlabel": {
           "align": "left"
          },
          "paper_bgcolor": "white",
          "plot_bgcolor": "#E5ECF6",
          "polar": {
           "bgcolor": "#E5ECF6",
           "angularaxis": {
            "gridcolor": "white",
            "linecolor": "white",
            "ticks": ""
           },
           "radialaxis": {
            "gridcolor": "white",
            "linecolor": "white",
            "ticks": ""
           }
          },
          "ternary": {
           "bgcolor": "#E5ECF6",
           "aaxis": {
            "gridcolor": "white",
            "linecolor": "white",
            "ticks": ""
           },
           "baxis": {
            "gridcolor": "white",
            "linecolor": "white",
            "ticks": ""
           },
           "caxis": {
            "gridcolor": "white",
            "linecolor": "white",
            "ticks": ""
           }
          },
          "coloraxis": {
           "colorbar": {
            "outlinewidth": 0,
            "ticks": ""
           }
          },
          "colorscale": {
           "sequential": [
            [
             0.0,
             "#0d0887"
            ],
            [
             0.1111111111111111,
             "#46039f"
            ],
            [
             0.2222222222222222,
             "#7201a8"
            ],
            [
             0.3333333333333333,
             "#9c179e"
            ],
            [
             0.4444444444444444,
             "#bd3786"
            ],
            [
             0.5555555555555556,
             "#d8576b"
            ],
            [
             0.6666666666666666,
             "#ed7953"
            ],
            [
             0.7777777777777778,
             "#fb9f3a"
            ],
            [
             0.8888888888888888,
             "#fdca26"
            ],
            [
             1.0,
             "#f0f921"
            ]
           ],
           "sequentialminus": [
            [
             0.0,
             "#0d0887"
            ],
            [
             0.1111111111111111,
             "#46039f"
            ],
            [
             0.2222222222222222,
             "#7201a8"
            ],
            [
             0.3333333333333333,
             "#9c179e"
            ],
            [
             0.4444444444444444,
             "#bd3786"
            ],
            [
             0.5555555555555556,
             "#d8576b"
            ],
            [
             0.6666666666666666,
             "#ed7953"
            ],
            [
             0.7777777777777778,
             "#fb9f3a"
            ],
            [
             0.8888888888888888,
             "#fdca26"
            ],
            [
             1.0,
             "#f0f921"
            ]
           ],
           "diverging": [
            [
             0,
             "#8e0152"
            ],
            [
             0.1,
             "#c51b7d"
            ],
            [
             0.2,
             "#de77ae"
            ],
            [
             0.3,
             "#f1b6da"
            ],
            [
             0.4,
             "#fde0ef"
            ],
            [
             0.5,
             "#f7f7f7"
            ],
            [
             0.6,
             "#e6f5d0"
            ],
            [
             0.7,
             "#b8e186"
            ],
            [
             0.8,
             "#7fbc41"
            ],
            [
             0.9,
             "#4d9221"
            ],
            [
             1,
             "#276419"
            ]
           ]
          },
          "xaxis": {
           "gridcolor": "white",
           "linecolor": "white",
           "ticks": "",
           "title": {
            "standoff": 15
           },
           "zerolinecolor": "white",
           "automargin": true,
           "zerolinewidth": 2
          },
          "yaxis": {
           "gridcolor": "white",
           "linecolor": "white",
           "ticks": "",
           "title": {
            "standoff": 15
           },
           "zerolinecolor": "white",
           "automargin": true,
           "zerolinewidth": 2
          },
          "scene": {
           "xaxis": {
            "backgroundcolor": "#E5ECF6",
            "gridcolor": "white",
            "linecolor": "white",
            "showbackground": true,
            "ticks": "",
            "zerolinecolor": "white",
            "gridwidth": 2
           },
           "yaxis": {
            "backgroundcolor": "#E5ECF6",
            "gridcolor": "white",
            "linecolor": "white",
            "showbackground": true,
            "ticks": "",
            "zerolinecolor": "white",
            "gridwidth": 2
           },
           "zaxis": {
            "backgroundcolor": "#E5ECF6",
            "gridcolor": "white",
            "linecolor": "white",
            "showbackground": true,
            "ticks": "",
            "zerolinecolor": "white",
            "gridwidth": 2
           }
          },
          "shapedefaults": {
           "line": {
            "color": "#2a3f5f"
           }
          },
          "annotationdefaults": {
           "arrowcolor": "#2a3f5f",
           "arrowhead": 0,
           "arrowwidth": 1
          },
          "geo": {
           "bgcolor": "white",
           "landcolor": "#E5ECF6",
           "subunitcolor": "white",
           "showland": true,
           "showlakes": true,
           "lakecolor": "white"
          },
          "title": {
           "x": 0.05
          },
          "mapbox": {
           "style": "light"
          }
         }
        },
        "xaxis": {
         "anchor": "y",
         "domain": [
          0.0,
          1.0
         ],
         "title": {
          "text": "time"
         }
        },
        "yaxis": {
         "anchor": "x",
         "domain": [
          0.0,
          1.0
         ],
         "title": {
          "text": "conversion"
         }
        },
        "legend": {
         "tracegroupgap": 0
        },
        "title": {
         "text": "kinetic 301 "
        }
       },
       "config": {
        "plotlyServerURL": "https://plot.ly"
       }
      },
      "text/html": "<div>                            <div id=\"3a33cfe2-feec-4959-a3fe-3b83a0b5df3f\" class=\"plotly-graph-div\" style=\"height:525px; width:100%;\"></div>            <script type=\"text/javascript\">                require([\"plotly\"], function(Plotly) {                    window.PLOTLYENV=window.PLOTLYENV || {};                                    if (document.getElementById(\"3a33cfe2-feec-4959-a3fe-3b83a0b5df3f\")) {                    Plotly.newPlot(                        \"3a33cfe2-feec-4959-a3fe-3b83a0b5df3f\",                        [{\"hovertemplate\":\"time=%{x}\\u003cbr\\u003econversion=%{y}\\u003cextra\\u003e\\u003c\\u002fextra\\u003e\",\"legendgroup\":\"\",\"line\":{\"color\":\"#636efa\",\"dash\":\"solid\"},\"marker\":{\"symbol\":\"circle\"},\"mode\":\"lines\",\"name\":\"\",\"orientation\":\"h\",\"showlegend\":false,\"x\":[0.0,1.2513888888888889,2.2416666666666667,4.273611111111111,8.338888888888889,15.381944444444445],\"xaxis\":\"x\",\"y\":[0,0.025179856115107868,0.014388489208632893,0.014388489208632893,0.021582733812949506,0.03237410071942437],\"yaxis\":\"y\",\"type\":\"scatter\"},{\"line\":{\"dash\":\"dot\"},\"mode\":\"lines+markers\",\"name\":\"Mn\",\"x\":[0.0,1.2513888888888889,2.2416666666666667,4.273611111111111,6.2375,8.338888888888889,10.306944444444444,15.381944444444445],\"y\":[0,0.025179856115107868,0.014388489208632893,0.014388489208632893,null,0.021582733812949506,null,0.03237410071942437],\"type\":\"scatter\"}],                        {\"template\":{\"data\":{\"histogram2dcontour\":[{\"type\":\"histogram2dcontour\",\"colorbar\":{\"outlinewidth\":0,\"ticks\":\"\"},\"colorscale\":[[0.0,\"#0d0887\"],[0.1111111111111111,\"#46039f\"],[0.2222222222222222,\"#7201a8\"],[0.3333333333333333,\"#9c179e\"],[0.4444444444444444,\"#bd3786\"],[0.5555555555555556,\"#d8576b\"],[0.6666666666666666,\"#ed7953\"],[0.7777777777777778,\"#fb9f3a\"],[0.8888888888888888,\"#fdca26\"],[1.0,\"#f0f921\"]]}],\"choropleth\":[{\"type\":\"choropleth\",\"colorbar\":{\"outlinewidth\":0,\"ticks\":\"\"}}],\"histogram2d\":[{\"type\":\"histogram2d\",\"colorbar\":{\"outlinewidth\":0,\"ticks\":\"\"},\"colorscale\":[[0.0,\"#0d0887\"],[0.1111111111111111,\"#46039f\"],[0.2222222222222222,\"#7201a8\"],[0.3333333333333333,\"#9c179e\"],[0.4444444444444444,\"#bd3786\"],[0.5555555555555556,\"#d8576b\"],[0.6666666666666666,\"#ed7953\"],[0.7777777777777778,\"#fb9f3a\"],[0.8888888888888888,\"#fdca26\"],[1.0,\"#f0f921\"]]}],\"heatmap\":[{\"type\":\"heatmap\",\"colorbar\":{\"outlinewidth\":0,\"ticks\":\"\"},\"colorscale\":[[0.0,\"#0d0887\"],[0.1111111111111111,\"#46039f\"],[0.2222222222222222,\"#7201a8\"],[0.3333333333333333,\"#9c179e\"],[0.4444444444444444,\"#bd3786\"],[0.5555555555555556,\"#d8576b\"],[0.6666666666666666,\"#ed7953\"],[0.7777777777777778,\"#fb9f3a\"],[0.8888888888888888,\"#fdca26\"],[1.0,\"#f0f921\"]]}],\"heatmapgl\":[{\"type\":\"heatmapgl\",\"colorbar\":{\"outlinewidth\":0,\"ticks\":\"\"},\"colorscale\":[[0.0,\"#0d0887\"],[0.1111111111111111,\"#46039f\"],[0.2222222222222222,\"#7201a8\"],[0.3333333333333333,\"#9c179e\"],[0.4444444444444444,\"#bd3786\"],[0.5555555555555556,\"#d8576b\"],[0.6666666666666666,\"#ed7953\"],[0.7777777777777778,\"#fb9f3a\"],[0.8888888888888888,\"#fdca26\"],[1.0,\"#f0f921\"]]}],\"contourcarpet\":[{\"type\":\"contourcarpet\",\"colorbar\":{\"outlinewidth\":0,\"ticks\":\"\"}}],\"contour\":[{\"type\":\"contour\",\"colorbar\":{\"outlinewidth\":0,\"ticks\":\"\"},\"colorscale\":[[0.0,\"#0d0887\"],[0.1111111111111111,\"#46039f\"],[0.2222222222222222,\"#7201a8\"],[0.3333333333333333,\"#9c179e\"],[0.4444444444444444,\"#bd3786\"],[0.5555555555555556,\"#d8576b\"],[0.6666666666666666,\"#ed7953\"],[0.7777777777777778,\"#fb9f3a\"],[0.8888888888888888,\"#fdca26\"],[1.0,\"#f0f921\"]]}],\"surface\":[{\"type\":\"surface\",\"colorbar\":{\"outlinewidth\":0,\"ticks\":\"\"},\"colorscale\":[[0.0,\"#0d0887\"],[0.1111111111111111,\"#46039f\"],[0.2222222222222222,\"#7201a8\"],[0.3333333333333333,\"#9c179e\"],[0.4444444444444444,\"#bd3786\"],[0.5555555555555556,\"#d8576b\"],[0.6666666666666666,\"#ed7953\"],[0.7777777777777778,\"#fb9f3a\"],[0.8888888888888888,\"#fdca26\"],[1.0,\"#f0f921\"]]}],\"mesh3d\":[{\"type\":\"mesh3d\",\"colorbar\":{\"outlinewidth\":0,\"ticks\":\"\"}}],\"scatter\":[{\"fillpattern\":{\"fillmode\":\"overlay\",\"size\":10,\"solidity\":0.2},\"type\":\"scatter\"}],\"parcoords\":[{\"type\":\"parcoords\",\"line\":{\"colorbar\":{\"outlinewidth\":0,\"ticks\":\"\"}}}],\"scatterpolargl\":[{\"type\":\"scatterpolargl\",\"marker\":{\"colorbar\":{\"outlinewidth\":0,\"ticks\":\"\"}}}],\"bar\":[{\"error_x\":{\"color\":\"#2a3f5f\"},\"error_y\":{\"color\":\"#2a3f5f\"},\"marker\":{\"line\":{\"color\":\"#E5ECF6\",\"width\":0.5},\"pattern\":{\"fillmode\":\"overlay\",\"size\":10,\"solidity\":0.2}},\"type\":\"bar\"}],\"scattergeo\":[{\"type\":\"scattergeo\",\"marker\":{\"colorbar\":{\"outlinewidth\":0,\"ticks\":\"\"}}}],\"scatterpolar\":[{\"type\":\"scatterpolar\",\"marker\":{\"colorbar\":{\"outlinewidth\":0,\"ticks\":\"\"}}}],\"histogram\":[{\"marker\":{\"pattern\":{\"fillmode\":\"overlay\",\"size\":10,\"solidity\":0.2}},\"type\":\"histogram\"}],\"scattergl\":[{\"type\":\"scattergl\",\"marker\":{\"colorbar\":{\"outlinewidth\":0,\"ticks\":\"\"}}}],\"scatter3d\":[{\"type\":\"scatter3d\",\"line\":{\"colorbar\":{\"outlinewidth\":0,\"ticks\":\"\"}},\"marker\":{\"colorbar\":{\"outlinewidth\":0,\"ticks\":\"\"}}}],\"scattermapbox\":[{\"type\":\"scattermapbox\",\"marker\":{\"colorbar\":{\"outlinewidth\":0,\"ticks\":\"\"}}}],\"scatterternary\":[{\"type\":\"scatterternary\",\"marker\":{\"colorbar\":{\"outlinewidth\":0,\"ticks\":\"\"}}}],\"scattercarpet\":[{\"type\":\"scattercarpet\",\"marker\":{\"colorbar\":{\"outlinewidth\":0,\"ticks\":\"\"}}}],\"carpet\":[{\"aaxis\":{\"endlinecolor\":\"#2a3f5f\",\"gridcolor\":\"white\",\"linecolor\":\"white\",\"minorgridcolor\":\"white\",\"startlinecolor\":\"#2a3f5f\"},\"baxis\":{\"endlinecolor\":\"#2a3f5f\",\"gridcolor\":\"white\",\"linecolor\":\"white\",\"minorgridcolor\":\"white\",\"startlinecolor\":\"#2a3f5f\"},\"type\":\"carpet\"}],\"table\":[{\"cells\":{\"fill\":{\"color\":\"#EBF0F8\"},\"line\":{\"color\":\"white\"}},\"header\":{\"fill\":{\"color\":\"#C8D4E3\"},\"line\":{\"color\":\"white\"}},\"type\":\"table\"}],\"barpolar\":[{\"marker\":{\"line\":{\"color\":\"#E5ECF6\",\"width\":0.5},\"pattern\":{\"fillmode\":\"overlay\",\"size\":10,\"solidity\":0.2}},\"type\":\"barpolar\"}],\"pie\":[{\"automargin\":true,\"type\":\"pie\"}]},\"layout\":{\"autotypenumbers\":\"strict\",\"colorway\":[\"#636efa\",\"#EF553B\",\"#00cc96\",\"#ab63fa\",\"#FFA15A\",\"#19d3f3\",\"#FF6692\",\"#B6E880\",\"#FF97FF\",\"#FECB52\"],\"font\":{\"color\":\"#2a3f5f\"},\"hovermode\":\"closest\",\"hoverlabel\":{\"align\":\"left\"},\"paper_bgcolor\":\"white\",\"plot_bgcolor\":\"#E5ECF6\",\"polar\":{\"bgcolor\":\"#E5ECF6\",\"angularaxis\":{\"gridcolor\":\"white\",\"linecolor\":\"white\",\"ticks\":\"\"},\"radialaxis\":{\"gridcolor\":\"white\",\"linecolor\":\"white\",\"ticks\":\"\"}},\"ternary\":{\"bgcolor\":\"#E5ECF6\",\"aaxis\":{\"gridcolor\":\"white\",\"linecolor\":\"white\",\"ticks\":\"\"},\"baxis\":{\"gridcolor\":\"white\",\"linecolor\":\"white\",\"ticks\":\"\"},\"caxis\":{\"gridcolor\":\"white\",\"linecolor\":\"white\",\"ticks\":\"\"}},\"coloraxis\":{\"colorbar\":{\"outlinewidth\":0,\"ticks\":\"\"}},\"colorscale\":{\"sequential\":[[0.0,\"#0d0887\"],[0.1111111111111111,\"#46039f\"],[0.2222222222222222,\"#7201a8\"],[0.3333333333333333,\"#9c179e\"],[0.4444444444444444,\"#bd3786\"],[0.5555555555555556,\"#d8576b\"],[0.6666666666666666,\"#ed7953\"],[0.7777777777777778,\"#fb9f3a\"],[0.8888888888888888,\"#fdca26\"],[1.0,\"#f0f921\"]],\"sequentialminus\":[[0.0,\"#0d0887\"],[0.1111111111111111,\"#46039f\"],[0.2222222222222222,\"#7201a8\"],[0.3333333333333333,\"#9c179e\"],[0.4444444444444444,\"#bd3786\"],[0.5555555555555556,\"#d8576b\"],[0.6666666666666666,\"#ed7953\"],[0.7777777777777778,\"#fb9f3a\"],[0.8888888888888888,\"#fdca26\"],[1.0,\"#f0f921\"]],\"diverging\":[[0,\"#8e0152\"],[0.1,\"#c51b7d\"],[0.2,\"#de77ae\"],[0.3,\"#f1b6da\"],[0.4,\"#fde0ef\"],[0.5,\"#f7f7f7\"],[0.6,\"#e6f5d0\"],[0.7,\"#b8e186\"],[0.8,\"#7fbc41\"],[0.9,\"#4d9221\"],[1,\"#276419\"]]},\"xaxis\":{\"gridcolor\":\"white\",\"linecolor\":\"white\",\"ticks\":\"\",\"title\":{\"standoff\":15},\"zerolinecolor\":\"white\",\"automargin\":true,\"zerolinewidth\":2},\"yaxis\":{\"gridcolor\":\"white\",\"linecolor\":\"white\",\"ticks\":\"\",\"title\":{\"standoff\":15},\"zerolinecolor\":\"white\",\"automargin\":true,\"zerolinewidth\":2},\"scene\":{\"xaxis\":{\"backgroundcolor\":\"#E5ECF6\",\"gridcolor\":\"white\",\"linecolor\":\"white\",\"showbackground\":true,\"ticks\":\"\",\"zerolinecolor\":\"white\",\"gridwidth\":2},\"yaxis\":{\"backgroundcolor\":\"#E5ECF6\",\"gridcolor\":\"white\",\"linecolor\":\"white\",\"showbackground\":true,\"ticks\":\"\",\"zerolinecolor\":\"white\",\"gridwidth\":2},\"zaxis\":{\"backgroundcolor\":\"#E5ECF6\",\"gridcolor\":\"white\",\"linecolor\":\"white\",\"showbackground\":true,\"ticks\":\"\",\"zerolinecolor\":\"white\",\"gridwidth\":2}},\"shapedefaults\":{\"line\":{\"color\":\"#2a3f5f\"}},\"annotationdefaults\":{\"arrowcolor\":\"#2a3f5f\",\"arrowhead\":0,\"arrowwidth\":1},\"geo\":{\"bgcolor\":\"white\",\"landcolor\":\"#E5ECF6\",\"subunitcolor\":\"white\",\"showland\":true,\"showlakes\":true,\"lakecolor\":\"white\"},\"title\":{\"x\":0.05},\"mapbox\":{\"style\":\"light\"}}},\"xaxis\":{\"anchor\":\"y\",\"domain\":[0.0,1.0],\"title\":{\"text\":\"time\"}},\"yaxis\":{\"anchor\":\"x\",\"domain\":[0.0,1.0],\"title\":{\"text\":\"conversion\"}},\"legend\":{\"tracegroupgap\":0},\"title\":{\"text\":\"kinetic 301 \"}},                        {\"responsive\": true}                    ).then(function(){\n                            \nvar gd = document.getElementById('3a33cfe2-feec-4959-a3fe-3b83a0b5df3f');\nvar x = new MutationObserver(function (mutations, observer) {{\n        var display = window.getComputedStyle(gd).display;\n        if (!display || display === 'none') {{\n            console.log([gd, 'removed!']);\n            Plotly.purge(gd);\n            observer.disconnect();\n        }}\n}});\n\n// Listen for the removal of the full notebook cells\nvar notebookContainer = gd.closest('#notebook-container');\nif (notebookContainer) {{\n    x.observe(notebookContainer, {childList: true});\n}}\n\n// Listen for the clearing of the current output cell\nvar outputEl = gd.closest('.output');\nif (outputEl) {{\n    x.observe(outputEl, {childList: true});\n}}\n\n                        })                };                });            </script>        </div>"
     },
     "metadata": {},
     "output_type": "display_data"
    }
   ],
   "source": [
    " # manually exclude experiment 301 as it disturbs the covariance plotting and has an unreasonable conversion value course.\n",
    "if kinetic_curves[301][\"exp_nr\"].iloc[1] == \"301\":\n",
    "    print(kinetic_curves[301])\n",
    "    fig = px.line(kinetic_curves[301].dropna(subset=\"conversion\"), x=\"time\", y=\"conversion\", title=f\"kinetic 301 \", labels={\"x\":\"Time\", \"y\":\"Conversion\"})\n",
    "    fig.add_scatter(x=kinetic_curves[301][\"time\"], y=kinetic_curves[301][\"conversion\"], mode=\"lines+markers\", line=dict(dash=\"dot\"), name=\"Mn\")\n",
    "    fig.show()\n",
    "    kinetic_curves.pop(301)\n",
    "else:\n",
    "    print(\"Cell was already run. Experiment is deleted.\")"
   ],
   "metadata": {
    "collapsed": false,
    "pycharm": {
     "name": "#%%\n"
    }
   }
  },
  {
   "cell_type": "code",
   "execution_count": 90,
   "outputs": [
    {
     "name": "stdout",
     "output_type": "stream",
     "text": [
      "functions loaded\n"
     ]
    }
   ],
   "source": [
    "'''\n",
    "deprecated: more theoretical accurate version but practically worse applicable\n",
    "    # L is responsible for scaling the output range from [0,1] to [0,L]\n",
    "    # b\n",
    "    # k is responsible for scaling the input, which remains in (-inf,inf)\n",
    "    # x0\n",
    "def sigmoid (x, L ,x0, k, b):\n",
    "    y = L / (1 + np.exp(-k*(x-x0)))+b\n",
    "    return (y)\n",
    "\n",
    "def sigmoid_derivative(x, L ,x0, k, b):\n",
    "    y = (L*k*np.exp(-k*(x-x0)))/((np.exp(-k*(x-x0))+1)**2)\n",
    "    return (y)\n",
    "\n",
    "\n",
    "'''\n",
    "def neg_growth(x, l, k):\n",
    "    y = l * (1 - np.exp(k * (-x)))\n",
    "    return y\n",
    "\n",
    "def neg_growth_derivative(x, l, k):\n",
    "    y = l * k * np.exp(k*(-x))\n",
    "    return y\n",
    "\n",
    "# as the Mn values do not all start at 0\n",
    "def neg_growth_abscissae(x, l, k, b):\n",
    "    y = l * (1 - np.exp(k * (-x))) + b\n",
    "    return y\n",
    "\n",
    "def linear_growth(x, m):\n",
    "    y = m * x\n",
    "    return y\n",
    "\n",
    "def linear_growth_derivative(m):\n",
    "    return m\n",
    "\n",
    "'''\n",
    "xrange = np.arange(-0.2, 5, 0.1)\n",
    "example_fig = px.line()\n",
    "for testparams in ([1,1], [2,1], [1,2]):\n",
    "    example_fig.add_scatter(x=xrange, y=neg_growth(xrange, *testparams))\n",
    "    example_fig.add_scatter(x=xrange, y=neg_growth_derivative(xrange, *testparams), opacity=0.5, line=dict(dash=\"dot\"))\n",
    "\n",
    "print(\"visualisation of the functions\")\n",
    "example_fig.show()\n",
    "# '''\n",
    "print(\"functions loaded\")"
   ],
   "metadata": {
    "collapsed": false,
    "pycharm": {
     "name": "#%%\n"
    }
   }
  },
  {
   "cell_type": "code",
   "execution_count": 91,
   "outputs": [
    {
     "data": {
      "application/vnd.plotly.v1+json": {
       "data": [
        {
         "hovertemplate": "<extra></extra>",
         "legendgroup": "",
         "line": {
          "color": "#636efa",
          "dash": "solid"
         },
         "marker": {
          "symbol": "circle"
         },
         "mode": "lines",
         "name": "",
         "orientation": "v",
         "showlegend": false,
         "xaxis": "x",
         "yaxis": "y",
         "type": "scatter"
        },
        {
         "fill": "tozeroy",
         "fillcolor": "orange",
         "line": {
          "color": "darkgoldenrod"
         },
         "name": "min Mw",
         "opacity": 0.8,
         "y": [
          160.0,
          170.0,
          180.0,
          190.0,
          190.0,
          190.0,
          190.0,
          190.0,
          200.0,
          200.0,
          210.0,
          210.0,
          210.0,
          210.0,
          210,
          210,
          210,
          210,
          210,
          220,
          220,
          220,
          220,
          220,
          220,
          220,
          230.0,
          230.0,
          230,
          230,
          230,
          230,
          230,
          230,
          230,
          230,
          240,
          240,
          240,
          240,
          240,
          240.0,
          240.0,
          250.0,
          250.0,
          250,
          250,
          260.0,
          260.0,
          260.0,
          262.0,
          270.0,
          270.0,
          270.0,
          270.0,
          270.0,
          270.0,
          270.0,
          270.0,
          270.0,
          270.0,
          280.0,
          280.0,
          280.0,
          280.0,
          280.0,
          290.0,
          290.0,
          290.0,
          290,
          290,
          290.0,
          294.0,
          300.0,
          300.0,
          300,
          300,
          300,
          300,
          300,
          300,
          300,
          300,
          300,
          300.0,
          310.0,
          310.0,
          310.0,
          310,
          310,
          310,
          310,
          310,
          310,
          310,
          310,
          310,
          310.0,
          314.0,
          320.0,
          320.0,
          320.0,
          320.0,
          320.0,
          320.0,
          329.0,
          330.0,
          330.0,
          330.0,
          330.0,
          330,
          330,
          330.0,
          330.0,
          340.0,
          340.0,
          340,
          340,
          340,
          340,
          340,
          340.0,
          350,
          350,
          350,
          350,
          350.0,
          360.0,
          360.0,
          360,
          360,
          360,
          360.0,
          370.0,
          370,
          370.0,
          380.0,
          380.0,
          390.0,
          390.0,
          390.0,
          391.0,
          399.0,
          400.0,
          400.0,
          400.0,
          400.0,
          400.0,
          410.0,
          410.0,
          420.0,
          420.0,
          440.0,
          450.0,
          450.0,
          459.0,
          460.0,
          460.0,
          500.0,
          500.0,
          510.0,
          510.0,
          510.0,
          510.0,
          520.0,
          540.0,
          540.0,
          540.0,
          580.0,
          590.0,
          610.0,
          620.0,
          640.0,
          660.0,
          710.0,
          716.0,
          910.0,
          972.0,
          980.0,
          1000.0,
          1020.0,
          1028.0,
          1040.0,
          1100.0,
          1300.0,
          1410.0,
          1620.0,
          1660.0,
          1800.0,
          1860.0,
          1910.0,
          1920.0,
          1941.0,
          1980.0,
          2000.0,
          2000.0,
          2100.0,
          2200.0,
          2200.0,
          2200.0,
          2300.0,
          2400.0,
          2500.0,
          2500.0,
          2700.0,
          2700.0,
          2700.0,
          2700.0,
          2700.0,
          2800.0,
          2900.0,
          3000.0,
          3000.0,
          3000.0,
          3032.0,
          3100.0,
          3100.0,
          3200.0,
          3300.0,
          3300.0,
          3400.0,
          3600.0,
          3700.0,
          3800.0,
          3800.0,
          3800.0,
          3900.0,
          3900.0,
          3900.0,
          4000.0,
          4100.0,
          4100.0,
          4100.0,
          4100.0,
          4200.0,
          4300.0,
          4300.0,
          4400.0,
          4500.0,
          4524.0,
          4600.0,
          5000.0,
          5000.0,
          5100.0,
          5100.0,
          5300.0,
          5300.0,
          5400.0,
          5500.0,
          5500.0,
          5600.0,
          5600.0,
          5900.0,
          5900.0,
          6400.0,
          6700.0,
          6700.0,
          6900.0,
          6900.0,
          6900.0,
          7000.0,
          7600.0,
          7800.0,
          8200.0,
          8900.0,
          10800.0,
          13100.0,
          15434,
          17598.0,
          18100.0,
          21700.0,
          25163.0,
          28000.0,
          29000.0,
          30000.0,
          31558.0,
          34000.0,
          35000.0,
          36000.0,
          39000.0,
          40362.0,
          42722.0,
          43006.0,
          43336.0,
          45000.0,
          45174.0,
          45248.0,
          46000.0,
          46362.0,
          48000.0,
          51000.0,
          51000.0,
          52000.0,
          52000.0,
          53000.0,
          55972.0,
          56000.0,
          57000.0,
          62000.0,
          63000.0,
          64000.0,
          67000.0,
          72000.0,
          72000.0,
          73000.0,
          73000.0,
          74000.0,
          75000.0,
          78000.0,
          78000.0,
          78000.0,
          79000.0,
          81000.0,
          83000.0,
          83000.0,
          84000.0
         ],
         "type": "scatter"
        },
        {
         "line": {
          "color": "darkgoldenrod"
         },
         "name": "max Mw",
         "opacity": 0.8,
         "y": [
          390.0,
          530.0,
          590.0,
          630.0,
          670.0,
          820.0,
          850.0,
          910.0,
          930.0,
          1000.0,
          1040.0,
          1060.0,
          1090.0,
          1090.0,
          1180.0,
          1199.0,
          1220.0,
          1250.0,
          1330.0,
          1370.0,
          1420.0,
          1430.0,
          1440.0,
          1454.0,
          1460.0,
          1470.0,
          1470.0,
          1550.0,
          1640.0,
          1670.0,
          1700.0,
          1700.0,
          1710.0,
          1740.0,
          1800.0,
          1830.0,
          1870.0,
          1900.0,
          1950.0,
          2000.0,
          2000.0,
          2000.0,
          2064.0,
          2065.0,
          2100.0,
          2200.0,
          2200.0,
          2300.0,
          2300.0,
          2400.0,
          2400.0,
          2500.0,
          2500.0,
          2500.0,
          2600.0,
          2600.0,
          2600.0,
          2600.0,
          2700.0,
          2700.0,
          2700.0,
          2700.0,
          2800.0,
          2900.0,
          2900.0,
          2900.0,
          2900.0,
          3000.0,
          3100.0,
          3100.0,
          3200.0,
          3200.0,
          3200.0,
          3300.0,
          3300.0,
          3300.0,
          3400.0,
          3400.0,
          3500.0,
          3600.0,
          3600.0,
          3680.0,
          3700.0,
          3700.0,
          3800.0,
          3900.0,
          4000.0,
          4100.0,
          4100.0,
          4100.0,
          4100.0,
          4100.0,
          4200.0,
          4300.0,
          4300.0,
          4500.0,
          4500.0,
          4500.0,
          4600.0,
          4700.0,
          4764.0,
          4827.0,
          4900.0,
          4900.0,
          4900.0,
          5000.0,
          5000.0,
          5000.0,
          5100.0,
          5200.0,
          5443.0,
          5500.0,
          5500.0,
          5800.0,
          5800.0,
          5800.0,
          5900.0,
          5900.0,
          6000.0,
          6000.0,
          6000.0,
          6000.0,
          6100.0,
          6100.0,
          6100.0,
          6500.0,
          6500.0,
          6500.0,
          6600.0,
          6600.0,
          6700.0,
          6700.0,
          6800.0,
          7043.0,
          7100.0,
          7300.0,
          7400.0,
          7600.0,
          7600.0,
          7700.0,
          7738.0,
          7800.0,
          7832.0,
          8000.0,
          8100.0,
          8300.0,
          8600.0,
          8700.0,
          8700.0,
          8800.0,
          8900.0,
          9000.0,
          9200.0,
          9200.0,
          9300.0,
          9600.0,
          9800.0,
          10300.0,
          10700.0,
          10700.0,
          10900.0,
          11000.0,
          11000.0,
          11200.0,
          11300.0,
          11300.0,
          11400.0,
          11600.0,
          11700.0,
          11700.0,
          11900.0,
          12000.0,
          12100.0,
          12300.0,
          12444.0,
          12700.0,
          12700.0,
          12800.0,
          13000.0,
          13100.0,
          13300.0,
          13500.0,
          13700.0,
          13700.0,
          13800.0,
          13800.0,
          14000.0,
          14000.0,
          14100.0,
          14100.0,
          14200.0,
          14600.0,
          14700.0,
          14800.0,
          15000.0,
          15100.0,
          15300.0,
          15400.0,
          15700.0,
          16009.0,
          16200.0,
          16400.0,
          16500.0,
          16800.0,
          16800.0,
          16900.0,
          16900.0,
          16900.0,
          17100.0,
          17600.0,
          17700.0,
          17800.0,
          17900.0,
          18300.0,
          18400.0,
          18400.0,
          18486.0,
          18600.0,
          18600.0,
          18700.0,
          18800.0,
          18900.0,
          19200.0,
          19400.0,
          19400.0,
          19400.0,
          19600.0,
          19700.0,
          19800.0,
          20000.0,
          20000.0,
          20000.0,
          20000.0,
          20000.0,
          20700.0,
          20904.0,
          21000.0,
          21000.0,
          21000.0,
          21000.0,
          21000.0,
          21200.0,
          22000.0,
          22000.0,
          22000.0,
          22000.0,
          22000.0,
          22000.0,
          22300.0,
          22385.0,
          23000.0,
          23000.0,
          24000.0,
          24000.0,
          25000.0,
          25000.0,
          25000.0,
          25000.0,
          25000.0,
          26000.0,
          29000.0,
          29334.0,
          30000.0,
          30000.0,
          31000.0,
          31000.0,
          33000.0,
          35000.0,
          35000.0,
          41000.0,
          43485.0,
          47000.0,
          49000.0,
          49849.0,
          50043.0,
          54924.0,
          55000.0,
          55000.0,
          55414.0,
          55558.0,
          60000.0,
          62306.0,
          65000.0,
          67000.0,
          68321.0,
          69000.0,
          71000.0,
          72000.0,
          72000.0,
          73770.0,
          73900.0,
          75000.0,
          77888.0,
          79000.0,
          79000.0,
          79000.0,
          82000.0,
          82000.0,
          84000.0,
          85000.0,
          93000.0,
          94000.0,
          96000.0,
          97000.0,
          99000.0,
          100000.0,
          100000.0,
          100000.0,
          100000.0,
          100000.0,
          100000.0,
          100000.0,
          100000.0,
          100000.0,
          100000.0,
          100000.0
         ],
         "type": "scatter"
        },
        {
         "fill": "tozeroy",
         "fillcolor": "red",
         "line": {
          "color": "firebrick"
         },
         "name": "min Mn",
         "opacity": 0.8,
         "y": [
          150.0,
          170.0,
          170.0,
          170.0,
          180.0,
          180.0,
          180.0,
          180.0,
          180.0,
          190.0,
          200.0,
          200.0,
          200.0,
          200.0,
          200.0,
          210,
          210,
          210,
          210,
          210,
          210,
          210,
          210,
          210,
          210,
          220.0,
          220,
          220,
          220,
          220,
          220,
          220,
          220,
          220,
          220,
          220,
          220,
          230.0,
          230.0,
          230.0,
          230,
          230,
          230,
          230,
          230,
          230.0,
          230.0,
          231.0,
          232.0,
          240.0,
          240.0,
          240.0,
          240,
          240.0,
          250.0,
          250.0,
          250.0,
          250.0,
          250.0,
          250.0,
          250.0,
          250.0,
          260.0,
          260.0,
          260.0,
          260.0,
          260.0,
          260.0,
          260.0,
          260.0,
          260.0,
          270.0,
          270.0,
          270.0,
          270.0,
          270.0,
          270.0,
          272.0,
          279.0,
          280.0,
          280.0,
          280.0,
          280.0,
          280,
          280.0,
          290.0,
          290.0,
          290,
          290,
          290,
          290,
          290,
          290,
          290,
          290,
          290.0,
          290.0,
          290.0,
          300.0,
          300.0,
          300.0,
          300,
          300,
          300,
          300,
          300,
          300,
          300,
          300,
          300,
          300,
          300,
          300,
          300.0,
          300.0,
          310.0,
          310.0,
          310.0,
          310.0,
          310.0,
          310.0,
          320.0,
          320,
          320,
          330.0,
          330,
          330,
          330,
          330,
          330,
          330,
          330,
          330,
          330.0,
          330.0,
          330.0,
          340.0,
          340,
          340,
          349.0,
          350.0,
          350.0,
          350.0,
          350,
          350,
          350.0,
          360.0,
          360.0,
          360.0,
          360.0,
          370.0,
          370.0,
          370.0,
          380.0,
          390.0,
          390.0,
          390.0,
          390.0,
          390.0,
          401.0,
          410.0,
          420.0,
          420.0,
          430.0,
          440.0,
          440.0,
          470.0,
          470.0,
          480.0,
          490.0,
          500.0,
          510.0,
          530.0,
          550.0,
          560.0,
          620.0,
          620.0,
          637.0,
          650.0,
          710.0,
          733.0,
          800.0,
          850.0,
          850.0,
          870.0,
          880.0,
          970.0,
          1150.0,
          1150.0,
          1170.0,
          1190.0,
          1200.0,
          1217.0,
          1240.0,
          1260.0,
          1310.0,
          1370.0,
          1420.0,
          1470.0,
          1510.0,
          1520.0,
          1550.0,
          1580.0,
          1600.0,
          1600.0,
          1670.0,
          1728.0,
          1800.0,
          1860.0,
          1900.0,
          1940.0,
          1950.0,
          2009.0,
          2100.0,
          2100.0,
          2100.0,
          2100.0,
          2100.0,
          2200.0,
          2200.0,
          2200.0,
          2300.0,
          2300.0,
          2300.0,
          2300.0,
          2400.0,
          2400.0,
          2400.0,
          2400.0,
          2500.0,
          2500.0,
          2600.0,
          2600.0,
          2700.0,
          3000.0,
          3100.0,
          3100.0,
          3200.0,
          3200.0,
          3238.0,
          3300.0,
          3400.0,
          3400.0,
          3700.0,
          3700.0,
          3800.0,
          3800.0,
          3800.0,
          3800.0,
          3900.0,
          3900.0,
          3900.0,
          3900.0,
          3900.0,
          4000.0,
          4200.0,
          4300.0,
          4500.0,
          4600.0,
          4700.0,
          4900.0,
          5000.0,
          5400.0,
          5400.0,
          5600.0,
          5700.0,
          7400.0,
          8400.0,
          8450,
          8500.0,
          9192.0,
          13100.0,
          13350.0,
          14000.0,
          14300.0,
          14500.0,
          15400.0,
          15600.0,
          16689.0,
          17800.0,
          18900.0,
          19800.0,
          21181.0,
          21638.0,
          22483.0,
          23454.0,
          23751.0,
          24908.0,
          25000.0,
          25960.0,
          26000.0,
          26000.0,
          26561.0,
          28000.0,
          30000.0,
          30000.0,
          31000.0,
          31000.0,
          33000.0,
          36000.0,
          36000.0,
          39000.0,
          39000.0,
          39000.0,
          39000.0,
          39000.0,
          40000.0,
          41000.0,
          41000.0,
          42000.0,
          42000.0,
          45000.0,
          46000.0,
          46000.0,
          49000.0,
          52000.0
         ],
         "type": "scatter"
        },
        {
         "line": {
          "color": "firebrick"
         },
         "name": "max Mn",
         "opacity": 0.8,
         "y": [
          300.0,
          390.0,
          440.0,
          470.0,
          500.0,
          550.0,
          600.0,
          610.0,
          620.0,
          630.0,
          650.0,
          700.0,
          720.0,
          720.0,
          723.0,
          730.0,
          740.0,
          740.0,
          754.0,
          770.0,
          800.0,
          860.0,
          870.0,
          870.0,
          910.0,
          960.0,
          970.0,
          1010.0,
          1050.0,
          1070.0,
          1080.0,
          1080.0,
          1120.0,
          1180.0,
          1180.0,
          1190.0,
          1200.0,
          1200.0,
          1210.0,
          1220.0,
          1290.0,
          1290.0,
          1290.0,
          1290.0,
          1320.0,
          1350.0,
          1380.0,
          1390.0,
          1410.0,
          1428.0,
          1460.0,
          1470.0,
          1500.0,
          1500.0,
          1510.0,
          1510.0,
          1590.0,
          1610.0,
          1630.0,
          1660.0,
          1690.0,
          1700.0,
          1722.0,
          1800.0,
          1810.0,
          1810.0,
          1870.0,
          1880.0,
          1970.0,
          1970.0,
          1990.0,
          2000.0,
          2100.0,
          2100.0,
          2300.0,
          2300.0,
          2300.0,
          2400.0,
          2400.0,
          2480.0,
          2500.0,
          2500.0,
          2600.0,
          2600.0,
          2700.0,
          2700.0,
          2700.0,
          2900.0,
          2900.0,
          2900.0,
          2900.0,
          2921.0,
          3000.0,
          3000.0,
          3100.0,
          3100.0,
          3100.0,
          3200.0,
          3200.0,
          3300.0,
          3300.0,
          3300.0,
          3400.0,
          3400.0,
          3431.0,
          3500.0,
          3500.0,
          3500.0,
          3500.0,
          3500.0,
          3500.0,
          3682.0,
          3700.0,
          3700.0,
          3700.0,
          3700.0,
          3800.0,
          3800.0,
          4200.0,
          4200.0,
          4300.0,
          4300.0,
          4400.0,
          4400.0,
          4409.0,
          4500.0,
          4500.0,
          4600.0,
          4600.0,
          4600.0,
          4605.0,
          4700.0,
          4800.0,
          4800.0,
          4900.0,
          5000.0,
          5000.0,
          5000.0,
          5200.0,
          5300.0,
          5400.0,
          5400.0,
          5600.0,
          5600.0,
          5700.0,
          5800.0,
          5800.0,
          5800.0,
          6000.0,
          6040.0,
          6100.0,
          6300.0,
          6300.0,
          6500.0,
          6544.0,
          6700.0,
          6700.0,
          6900.0,
          7015.0,
          7100.0,
          7100.0,
          7200.0,
          7200.0,
          7200.0,
          7300.0,
          7400.0,
          7400.0,
          7600.0,
          7600.0,
          7800.0,
          8000.0,
          8200.0,
          8300.0,
          8400.0,
          8500.0,
          8600.0,
          8700.0,
          8700.0,
          8700.0,
          8700.0,
          8700.0,
          9000.0,
          9000.0,
          9100.0,
          9200.0,
          9200.0,
          9200.0,
          9200.0,
          9300.0,
          9300.0,
          9300.0,
          9400.0,
          9500.0,
          9600.0,
          9700.0,
          9700.0,
          9700.0,
          10000.0,
          10179.0,
          10200.0,
          10300.0,
          10600.0,
          10600.0,
          10700.0,
          10800.0,
          10800.0,
          10900.0,
          11000.0,
          11000.0,
          11200.0,
          11200.0,
          11300.0,
          11400.0,
          11700.0,
          11700.0,
          12200.0,
          12400.0,
          12400.0,
          12500.0,
          12500.0,
          12600.0,
          12600.0,
          12600.0,
          12800.0,
          12932.0,
          13200.0,
          13200.0,
          13300.0,
          13400.0,
          13500.0,
          13800.0,
          13900.0,
          13900.0,
          14000.0,
          14000.0,
          14100.0,
          14200.0,
          14200.0,
          14300.0,
          14500.0,
          14600.0,
          14700.0,
          14800.0,
          14948.0,
          15000.0,
          15000.0,
          15000.0,
          15000.0,
          15300.0,
          15600.0,
          15700.0,
          15800.0,
          15800.0,
          16000.0,
          16000.0,
          16200.0,
          16200.0,
          16300.0,
          16600.0,
          16800.0,
          17000.0,
          17100.0,
          17400.0,
          17500.0,
          19210.0,
          20000.0,
          20000.0,
          21000.0,
          21300.0,
          24214.0,
          24900.0,
          27000.0,
          27000.0,
          29000.0,
          29000.0,
          29137.0,
          29415.0,
          30000.0,
          30000.0,
          33000.0,
          33149.0,
          33464.0,
          37000.0,
          38000.0,
          38713.0,
          40389.0,
          42372.0,
          43977.0,
          46000.0,
          46000.0,
          46000.0,
          48000.0,
          49000.0,
          49000.0,
          49905.0,
          50000.0,
          54000.0,
          56000.0,
          61000.0,
          64000.0,
          65000.0,
          74000.0,
          74000.0,
          76000.0,
          77000.0,
          77000.0,
          81000.0,
          82000.0,
          82000.0,
          83000.0,
          85000.0,
          88000.0,
          88000.0,
          89000.0,
          90000.0,
          90000.0
         ],
         "type": "scatter"
        }
       ],
       "layout": {
        "template": {
         "data": {
          "histogram2dcontour": [
           {
            "type": "histogram2dcontour",
            "colorbar": {
             "outlinewidth": 0,
             "ticks": ""
            },
            "colorscale": [
             [
              0.0,
              "#0d0887"
             ],
             [
              0.1111111111111111,
              "#46039f"
             ],
             [
              0.2222222222222222,
              "#7201a8"
             ],
             [
              0.3333333333333333,
              "#9c179e"
             ],
             [
              0.4444444444444444,
              "#bd3786"
             ],
             [
              0.5555555555555556,
              "#d8576b"
             ],
             [
              0.6666666666666666,
              "#ed7953"
             ],
             [
              0.7777777777777778,
              "#fb9f3a"
             ],
             [
              0.8888888888888888,
              "#fdca26"
             ],
             [
              1.0,
              "#f0f921"
             ]
            ]
           }
          ],
          "choropleth": [
           {
            "type": "choropleth",
            "colorbar": {
             "outlinewidth": 0,
             "ticks": ""
            }
           }
          ],
          "histogram2d": [
           {
            "type": "histogram2d",
            "colorbar": {
             "outlinewidth": 0,
             "ticks": ""
            },
            "colorscale": [
             [
              0.0,
              "#0d0887"
             ],
             [
              0.1111111111111111,
              "#46039f"
             ],
             [
              0.2222222222222222,
              "#7201a8"
             ],
             [
              0.3333333333333333,
              "#9c179e"
             ],
             [
              0.4444444444444444,
              "#bd3786"
             ],
             [
              0.5555555555555556,
              "#d8576b"
             ],
             [
              0.6666666666666666,
              "#ed7953"
             ],
             [
              0.7777777777777778,
              "#fb9f3a"
             ],
             [
              0.8888888888888888,
              "#fdca26"
             ],
             [
              1.0,
              "#f0f921"
             ]
            ]
           }
          ],
          "heatmap": [
           {
            "type": "heatmap",
            "colorbar": {
             "outlinewidth": 0,
             "ticks": ""
            },
            "colorscale": [
             [
              0.0,
              "#0d0887"
             ],
             [
              0.1111111111111111,
              "#46039f"
             ],
             [
              0.2222222222222222,
              "#7201a8"
             ],
             [
              0.3333333333333333,
              "#9c179e"
             ],
             [
              0.4444444444444444,
              "#bd3786"
             ],
             [
              0.5555555555555556,
              "#d8576b"
             ],
             [
              0.6666666666666666,
              "#ed7953"
             ],
             [
              0.7777777777777778,
              "#fb9f3a"
             ],
             [
              0.8888888888888888,
              "#fdca26"
             ],
             [
              1.0,
              "#f0f921"
             ]
            ]
           }
          ],
          "heatmapgl": [
           {
            "type": "heatmapgl",
            "colorbar": {
             "outlinewidth": 0,
             "ticks": ""
            },
            "colorscale": [
             [
              0.0,
              "#0d0887"
             ],
             [
              0.1111111111111111,
              "#46039f"
             ],
             [
              0.2222222222222222,
              "#7201a8"
             ],
             [
              0.3333333333333333,
              "#9c179e"
             ],
             [
              0.4444444444444444,
              "#bd3786"
             ],
             [
              0.5555555555555556,
              "#d8576b"
             ],
             [
              0.6666666666666666,
              "#ed7953"
             ],
             [
              0.7777777777777778,
              "#fb9f3a"
             ],
             [
              0.8888888888888888,
              "#fdca26"
             ],
             [
              1.0,
              "#f0f921"
             ]
            ]
           }
          ],
          "contourcarpet": [
           {
            "type": "contourcarpet",
            "colorbar": {
             "outlinewidth": 0,
             "ticks": ""
            }
           }
          ],
          "contour": [
           {
            "type": "contour",
            "colorbar": {
             "outlinewidth": 0,
             "ticks": ""
            },
            "colorscale": [
             [
              0.0,
              "#0d0887"
             ],
             [
              0.1111111111111111,
              "#46039f"
             ],
             [
              0.2222222222222222,
              "#7201a8"
             ],
             [
              0.3333333333333333,
              "#9c179e"
             ],
             [
              0.4444444444444444,
              "#bd3786"
             ],
             [
              0.5555555555555556,
              "#d8576b"
             ],
             [
              0.6666666666666666,
              "#ed7953"
             ],
             [
              0.7777777777777778,
              "#fb9f3a"
             ],
             [
              0.8888888888888888,
              "#fdca26"
             ],
             [
              1.0,
              "#f0f921"
             ]
            ]
           }
          ],
          "surface": [
           {
            "type": "surface",
            "colorbar": {
             "outlinewidth": 0,
             "ticks": ""
            },
            "colorscale": [
             [
              0.0,
              "#0d0887"
             ],
             [
              0.1111111111111111,
              "#46039f"
             ],
             [
              0.2222222222222222,
              "#7201a8"
             ],
             [
              0.3333333333333333,
              "#9c179e"
             ],
             [
              0.4444444444444444,
              "#bd3786"
             ],
             [
              0.5555555555555556,
              "#d8576b"
             ],
             [
              0.6666666666666666,
              "#ed7953"
             ],
             [
              0.7777777777777778,
              "#fb9f3a"
             ],
             [
              0.8888888888888888,
              "#fdca26"
             ],
             [
              1.0,
              "#f0f921"
             ]
            ]
           }
          ],
          "mesh3d": [
           {
            "type": "mesh3d",
            "colorbar": {
             "outlinewidth": 0,
             "ticks": ""
            }
           }
          ],
          "scatter": [
           {
            "fillpattern": {
             "fillmode": "overlay",
             "size": 10,
             "solidity": 0.2
            },
            "type": "scatter"
           }
          ],
          "parcoords": [
           {
            "type": "parcoords",
            "line": {
             "colorbar": {
              "outlinewidth": 0,
              "ticks": ""
             }
            }
           }
          ],
          "scatterpolargl": [
           {
            "type": "scatterpolargl",
            "marker": {
             "colorbar": {
              "outlinewidth": 0,
              "ticks": ""
             }
            }
           }
          ],
          "bar": [
           {
            "error_x": {
             "color": "#2a3f5f"
            },
            "error_y": {
             "color": "#2a3f5f"
            },
            "marker": {
             "line": {
              "color": "#E5ECF6",
              "width": 0.5
             },
             "pattern": {
              "fillmode": "overlay",
              "size": 10,
              "solidity": 0.2
             }
            },
            "type": "bar"
           }
          ],
          "scattergeo": [
           {
            "type": "scattergeo",
            "marker": {
             "colorbar": {
              "outlinewidth": 0,
              "ticks": ""
             }
            }
           }
          ],
          "scatterpolar": [
           {
            "type": "scatterpolar",
            "marker": {
             "colorbar": {
              "outlinewidth": 0,
              "ticks": ""
             }
            }
           }
          ],
          "histogram": [
           {
            "marker": {
             "pattern": {
              "fillmode": "overlay",
              "size": 10,
              "solidity": 0.2
             }
            },
            "type": "histogram"
           }
          ],
          "scattergl": [
           {
            "type": "scattergl",
            "marker": {
             "colorbar": {
              "outlinewidth": 0,
              "ticks": ""
             }
            }
           }
          ],
          "scatter3d": [
           {
            "type": "scatter3d",
            "line": {
             "colorbar": {
              "outlinewidth": 0,
              "ticks": ""
             }
            },
            "marker": {
             "colorbar": {
              "outlinewidth": 0,
              "ticks": ""
             }
            }
           }
          ],
          "scattermapbox": [
           {
            "type": "scattermapbox",
            "marker": {
             "colorbar": {
              "outlinewidth": 0,
              "ticks": ""
             }
            }
           }
          ],
          "scatterternary": [
           {
            "type": "scatterternary",
            "marker": {
             "colorbar": {
              "outlinewidth": 0,
              "ticks": ""
             }
            }
           }
          ],
          "scattercarpet": [
           {
            "type": "scattercarpet",
            "marker": {
             "colorbar": {
              "outlinewidth": 0,
              "ticks": ""
             }
            }
           }
          ],
          "carpet": [
           {
            "aaxis": {
             "endlinecolor": "#2a3f5f",
             "gridcolor": "white",
             "linecolor": "white",
             "minorgridcolor": "white",
             "startlinecolor": "#2a3f5f"
            },
            "baxis": {
             "endlinecolor": "#2a3f5f",
             "gridcolor": "white",
             "linecolor": "white",
             "minorgridcolor": "white",
             "startlinecolor": "#2a3f5f"
            },
            "type": "carpet"
           }
          ],
          "table": [
           {
            "cells": {
             "fill": {
              "color": "#EBF0F8"
             },
             "line": {
              "color": "white"
             }
            },
            "header": {
             "fill": {
              "color": "#C8D4E3"
             },
             "line": {
              "color": "white"
             }
            },
            "type": "table"
           }
          ],
          "barpolar": [
           {
            "marker": {
             "line": {
              "color": "#E5ECF6",
              "width": 0.5
             },
             "pattern": {
              "fillmode": "overlay",
              "size": 10,
              "solidity": 0.2
             }
            },
            "type": "barpolar"
           }
          ],
          "pie": [
           {
            "automargin": true,
            "type": "pie"
           }
          ]
         },
         "layout": {
          "autotypenumbers": "strict",
          "colorway": [
           "#636efa",
           "#EF553B",
           "#00cc96",
           "#ab63fa",
           "#FFA15A",
           "#19d3f3",
           "#FF6692",
           "#B6E880",
           "#FF97FF",
           "#FECB52"
          ],
          "font": {
           "color": "#2a3f5f"
          },
          "hovermode": "closest",
          "hoverlabel": {
           "align": "left"
          },
          "paper_bgcolor": "white",
          "plot_bgcolor": "#E5ECF6",
          "polar": {
           "bgcolor": "#E5ECF6",
           "angularaxis": {
            "gridcolor": "white",
            "linecolor": "white",
            "ticks": ""
           },
           "radialaxis": {
            "gridcolor": "white",
            "linecolor": "white",
            "ticks": ""
           }
          },
          "ternary": {
           "bgcolor": "#E5ECF6",
           "aaxis": {
            "gridcolor": "white",
            "linecolor": "white",
            "ticks": ""
           },
           "baxis": {
            "gridcolor": "white",
            "linecolor": "white",
            "ticks": ""
           },
           "caxis": {
            "gridcolor": "white",
            "linecolor": "white",
            "ticks": ""
           }
          },
          "coloraxis": {
           "colorbar": {
            "outlinewidth": 0,
            "ticks": ""
           }
          },
          "colorscale": {
           "sequential": [
            [
             0.0,
             "#0d0887"
            ],
            [
             0.1111111111111111,
             "#46039f"
            ],
            [
             0.2222222222222222,
             "#7201a8"
            ],
            [
             0.3333333333333333,
             "#9c179e"
            ],
            [
             0.4444444444444444,
             "#bd3786"
            ],
            [
             0.5555555555555556,
             "#d8576b"
            ],
            [
             0.6666666666666666,
             "#ed7953"
            ],
            [
             0.7777777777777778,
             "#fb9f3a"
            ],
            [
             0.8888888888888888,
             "#fdca26"
            ],
            [
             1.0,
             "#f0f921"
            ]
           ],
           "sequentialminus": [
            [
             0.0,
             "#0d0887"
            ],
            [
             0.1111111111111111,
             "#46039f"
            ],
            [
             0.2222222222222222,
             "#7201a8"
            ],
            [
             0.3333333333333333,
             "#9c179e"
            ],
            [
             0.4444444444444444,
             "#bd3786"
            ],
            [
             0.5555555555555556,
             "#d8576b"
            ],
            [
             0.6666666666666666,
             "#ed7953"
            ],
            [
             0.7777777777777778,
             "#fb9f3a"
            ],
            [
             0.8888888888888888,
             "#fdca26"
            ],
            [
             1.0,
             "#f0f921"
            ]
           ],
           "diverging": [
            [
             0,
             "#8e0152"
            ],
            [
             0.1,
             "#c51b7d"
            ],
            [
             0.2,
             "#de77ae"
            ],
            [
             0.3,
             "#f1b6da"
            ],
            [
             0.4,
             "#fde0ef"
            ],
            [
             0.5,
             "#f7f7f7"
            ],
            [
             0.6,
             "#e6f5d0"
            ],
            [
             0.7,
             "#b8e186"
            ],
            [
             0.8,
             "#7fbc41"
            ],
            [
             0.9,
             "#4d9221"
            ],
            [
             1,
             "#276419"
            ]
           ]
          },
          "xaxis": {
           "gridcolor": "white",
           "linecolor": "white",
           "ticks": "",
           "title": {
            "standoff": 15
           },
           "zerolinecolor": "white",
           "automargin": true,
           "zerolinewidth": 2
          },
          "yaxis": {
           "gridcolor": "white",
           "linecolor": "white",
           "ticks": "",
           "title": {
            "standoff": 15
           },
           "zerolinecolor": "white",
           "automargin": true,
           "zerolinewidth": 2
          },
          "scene": {
           "xaxis": {
            "backgroundcolor": "#E5ECF6",
            "gridcolor": "white",
            "linecolor": "white",
            "showbackground": true,
            "ticks": "",
            "zerolinecolor": "white",
            "gridwidth": 2
           },
           "yaxis": {
            "backgroundcolor": "#E5ECF6",
            "gridcolor": "white",
            "linecolor": "white",
            "showbackground": true,
            "ticks": "",
            "zerolinecolor": "white",
            "gridwidth": 2
           },
           "zaxis": {
            "backgroundcolor": "#E5ECF6",
            "gridcolor": "white",
            "linecolor": "white",
            "showbackground": true,
            "ticks": "",
            "zerolinecolor": "white",
            "gridwidth": 2
           }
          },
          "shapedefaults": {
           "line": {
            "color": "#2a3f5f"
           }
          },
          "annotationdefaults": {
           "arrowcolor": "#2a3f5f",
           "arrowhead": 0,
           "arrowwidth": 1
          },
          "geo": {
           "bgcolor": "white",
           "landcolor": "#E5ECF6",
           "subunitcolor": "white",
           "showland": true,
           "showlakes": true,
           "lakecolor": "white"
          },
          "title": {
           "x": 0.05
          },
          "mapbox": {
           "style": "light"
          }
         }
        },
        "xaxis": {
         "anchor": "y",
         "domain": [
          0.0,
          1.0
         ]
        },
        "yaxis": {
         "anchor": "x",
         "domain": [
          0.0,
          1.0
         ],
         "title": {
          "text": "$\\text{Mn and Mw }[g/mol] \\cdot 10^{-5}$"
         }
        },
        "legend": {
         "tracegroupgap": 0
        },
        "margin": {
         "t": 60
        },
        "title": {
         "text": "Mn and Mw comparison"
        }
       },
       "config": {
        "plotlyServerURL": "https://plot.ly"
       }
      },
      "text/html": "<div>                            <div id=\"10310940-d7bf-4d90-b6c0-2e4719847d1f\" class=\"plotly-graph-div\" style=\"height:525px; width:100%;\"></div>            <script type=\"text/javascript\">                require([\"plotly\"], function(Plotly) {                    window.PLOTLYENV=window.PLOTLYENV || {};                                    if (document.getElementById(\"10310940-d7bf-4d90-b6c0-2e4719847d1f\")) {                    Plotly.newPlot(                        \"10310940-d7bf-4d90-b6c0-2e4719847d1f\",                        [{\"hovertemplate\":\"\\u003cextra\\u003e\\u003c\\u002fextra\\u003e\",\"legendgroup\":\"\",\"line\":{\"color\":\"#636efa\",\"dash\":\"solid\"},\"marker\":{\"symbol\":\"circle\"},\"mode\":\"lines\",\"name\":\"\",\"orientation\":\"v\",\"showlegend\":false,\"xaxis\":\"x\",\"yaxis\":\"y\",\"type\":\"scatter\"},{\"fill\":\"tozeroy\",\"fillcolor\":\"orange\",\"line\":{\"color\":\"darkgoldenrod\"},\"name\":\"min Mw\",\"opacity\":0.8,\"y\":[160.0,170.0,180.0,190.0,190.0,190.0,190.0,190.0,200.0,200.0,210.0,210.0,210.0,210.0,210,210,210,210,210,220,220,220,220,220,220,220,230.0,230.0,230,230,230,230,230,230,230,230,240,240,240,240,240,240.0,240.0,250.0,250.0,250,250,260.0,260.0,260.0,262.0,270.0,270.0,270.0,270.0,270.0,270.0,270.0,270.0,270.0,270.0,280.0,280.0,280.0,280.0,280.0,290.0,290.0,290.0,290,290,290.0,294.0,300.0,300.0,300,300,300,300,300,300,300,300,300,300.0,310.0,310.0,310.0,310,310,310,310,310,310,310,310,310,310.0,314.0,320.0,320.0,320.0,320.0,320.0,320.0,329.0,330.0,330.0,330.0,330.0,330,330,330.0,330.0,340.0,340.0,340,340,340,340,340,340.0,350,350,350,350,350.0,360.0,360.0,360,360,360,360.0,370.0,370,370.0,380.0,380.0,390.0,390.0,390.0,391.0,399.0,400.0,400.0,400.0,400.0,400.0,410.0,410.0,420.0,420.0,440.0,450.0,450.0,459.0,460.0,460.0,500.0,500.0,510.0,510.0,510.0,510.0,520.0,540.0,540.0,540.0,580.0,590.0,610.0,620.0,640.0,660.0,710.0,716.0,910.0,972.0,980.0,1000.0,1020.0,1028.0,1040.0,1100.0,1300.0,1410.0,1620.0,1660.0,1800.0,1860.0,1910.0,1920.0,1941.0,1980.0,2000.0,2000.0,2100.0,2200.0,2200.0,2200.0,2300.0,2400.0,2500.0,2500.0,2700.0,2700.0,2700.0,2700.0,2700.0,2800.0,2900.0,3000.0,3000.0,3000.0,3032.0,3100.0,3100.0,3200.0,3300.0,3300.0,3400.0,3600.0,3700.0,3800.0,3800.0,3800.0,3900.0,3900.0,3900.0,4000.0,4100.0,4100.0,4100.0,4100.0,4200.0,4300.0,4300.0,4400.0,4500.0,4524.0,4600.0,5000.0,5000.0,5100.0,5100.0,5300.0,5300.0,5400.0,5500.0,5500.0,5600.0,5600.0,5900.0,5900.0,6400.0,6700.0,6700.0,6900.0,6900.0,6900.0,7000.0,7600.0,7800.0,8200.0,8900.0,10800.0,13100.0,15434,17598.0,18100.0,21700.0,25163.0,28000.0,29000.0,30000.0,31558.0,34000.0,35000.0,36000.0,39000.0,40362.0,42722.0,43006.0,43336.0,45000.0,45174.0,45248.0,46000.0,46362.0,48000.0,51000.0,51000.0,52000.0,52000.0,53000.0,55972.0,56000.0,57000.0,62000.0,63000.0,64000.0,67000.0,72000.0,72000.0,73000.0,73000.0,74000.0,75000.0,78000.0,78000.0,78000.0,79000.0,81000.0,83000.0,83000.0,84000.0],\"type\":\"scatter\"},{\"line\":{\"color\":\"darkgoldenrod\"},\"name\":\"max Mw\",\"opacity\":0.8,\"y\":[390.0,530.0,590.0,630.0,670.0,820.0,850.0,910.0,930.0,1000.0,1040.0,1060.0,1090.0,1090.0,1180.0,1199.0,1220.0,1250.0,1330.0,1370.0,1420.0,1430.0,1440.0,1454.0,1460.0,1470.0,1470.0,1550.0,1640.0,1670.0,1700.0,1700.0,1710.0,1740.0,1800.0,1830.0,1870.0,1900.0,1950.0,2000.0,2000.0,2000.0,2064.0,2065.0,2100.0,2200.0,2200.0,2300.0,2300.0,2400.0,2400.0,2500.0,2500.0,2500.0,2600.0,2600.0,2600.0,2600.0,2700.0,2700.0,2700.0,2700.0,2800.0,2900.0,2900.0,2900.0,2900.0,3000.0,3100.0,3100.0,3200.0,3200.0,3200.0,3300.0,3300.0,3300.0,3400.0,3400.0,3500.0,3600.0,3600.0,3680.0,3700.0,3700.0,3800.0,3900.0,4000.0,4100.0,4100.0,4100.0,4100.0,4100.0,4200.0,4300.0,4300.0,4500.0,4500.0,4500.0,4600.0,4700.0,4764.0,4827.0,4900.0,4900.0,4900.0,5000.0,5000.0,5000.0,5100.0,5200.0,5443.0,5500.0,5500.0,5800.0,5800.0,5800.0,5900.0,5900.0,6000.0,6000.0,6000.0,6000.0,6100.0,6100.0,6100.0,6500.0,6500.0,6500.0,6600.0,6600.0,6700.0,6700.0,6800.0,7043.0,7100.0,7300.0,7400.0,7600.0,7600.0,7700.0,7738.0,7800.0,7832.0,8000.0,8100.0,8300.0,8600.0,8700.0,8700.0,8800.0,8900.0,9000.0,9200.0,9200.0,9300.0,9600.0,9800.0,10300.0,10700.0,10700.0,10900.0,11000.0,11000.0,11200.0,11300.0,11300.0,11400.0,11600.0,11700.0,11700.0,11900.0,12000.0,12100.0,12300.0,12444.0,12700.0,12700.0,12800.0,13000.0,13100.0,13300.0,13500.0,13700.0,13700.0,13800.0,13800.0,14000.0,14000.0,14100.0,14100.0,14200.0,14600.0,14700.0,14800.0,15000.0,15100.0,15300.0,15400.0,15700.0,16009.0,16200.0,16400.0,16500.0,16800.0,16800.0,16900.0,16900.0,16900.0,17100.0,17600.0,17700.0,17800.0,17900.0,18300.0,18400.0,18400.0,18486.0,18600.0,18600.0,18700.0,18800.0,18900.0,19200.0,19400.0,19400.0,19400.0,19600.0,19700.0,19800.0,20000.0,20000.0,20000.0,20000.0,20000.0,20700.0,20904.0,21000.0,21000.0,21000.0,21000.0,21000.0,21200.0,22000.0,22000.0,22000.0,22000.0,22000.0,22000.0,22300.0,22385.0,23000.0,23000.0,24000.0,24000.0,25000.0,25000.0,25000.0,25000.0,25000.0,26000.0,29000.0,29334.0,30000.0,30000.0,31000.0,31000.0,33000.0,35000.0,35000.0,41000.0,43485.0,47000.0,49000.0,49849.0,50043.0,54924.0,55000.0,55000.0,55414.0,55558.0,60000.0,62306.0,65000.0,67000.0,68321.0,69000.0,71000.0,72000.0,72000.0,73770.0,73900.0,75000.0,77888.0,79000.0,79000.0,79000.0,82000.0,82000.0,84000.0,85000.0,93000.0,94000.0,96000.0,97000.0,99000.0,100000.0,100000.0,100000.0,100000.0,100000.0,100000.0,100000.0,100000.0,100000.0,100000.0,100000.0],\"type\":\"scatter\"},{\"fill\":\"tozeroy\",\"fillcolor\":\"red\",\"line\":{\"color\":\"firebrick\"},\"name\":\"min Mn\",\"opacity\":0.8,\"y\":[150.0,170.0,170.0,170.0,180.0,180.0,180.0,180.0,180.0,190.0,200.0,200.0,200.0,200.0,200.0,210,210,210,210,210,210,210,210,210,210,220.0,220,220,220,220,220,220,220,220,220,220,220,230.0,230.0,230.0,230,230,230,230,230,230.0,230.0,231.0,232.0,240.0,240.0,240.0,240,240.0,250.0,250.0,250.0,250.0,250.0,250.0,250.0,250.0,260.0,260.0,260.0,260.0,260.0,260.0,260.0,260.0,260.0,270.0,270.0,270.0,270.0,270.0,270.0,272.0,279.0,280.0,280.0,280.0,280.0,280,280.0,290.0,290.0,290,290,290,290,290,290,290,290,290.0,290.0,290.0,300.0,300.0,300.0,300,300,300,300,300,300,300,300,300,300,300,300,300.0,300.0,310.0,310.0,310.0,310.0,310.0,310.0,320.0,320,320,330.0,330,330,330,330,330,330,330,330,330.0,330.0,330.0,340.0,340,340,349.0,350.0,350.0,350.0,350,350,350.0,360.0,360.0,360.0,360.0,370.0,370.0,370.0,380.0,390.0,390.0,390.0,390.0,390.0,401.0,410.0,420.0,420.0,430.0,440.0,440.0,470.0,470.0,480.0,490.0,500.0,510.0,530.0,550.0,560.0,620.0,620.0,637.0,650.0,710.0,733.0,800.0,850.0,850.0,870.0,880.0,970.0,1150.0,1150.0,1170.0,1190.0,1200.0,1217.0,1240.0,1260.0,1310.0,1370.0,1420.0,1470.0,1510.0,1520.0,1550.0,1580.0,1600.0,1600.0,1670.0,1728.0,1800.0,1860.0,1900.0,1940.0,1950.0,2009.0,2100.0,2100.0,2100.0,2100.0,2100.0,2200.0,2200.0,2200.0,2300.0,2300.0,2300.0,2300.0,2400.0,2400.0,2400.0,2400.0,2500.0,2500.0,2600.0,2600.0,2700.0,3000.0,3100.0,3100.0,3200.0,3200.0,3238.0,3300.0,3400.0,3400.0,3700.0,3700.0,3800.0,3800.0,3800.0,3800.0,3900.0,3900.0,3900.0,3900.0,3900.0,4000.0,4200.0,4300.0,4500.0,4600.0,4700.0,4900.0,5000.0,5400.0,5400.0,5600.0,5700.0,7400.0,8400.0,8450,8500.0,9192.0,13100.0,13350.0,14000.0,14300.0,14500.0,15400.0,15600.0,16689.0,17800.0,18900.0,19800.0,21181.0,21638.0,22483.0,23454.0,23751.0,24908.0,25000.0,25960.0,26000.0,26000.0,26561.0,28000.0,30000.0,30000.0,31000.0,31000.0,33000.0,36000.0,36000.0,39000.0,39000.0,39000.0,39000.0,39000.0,40000.0,41000.0,41000.0,42000.0,42000.0,45000.0,46000.0,46000.0,49000.0,52000.0],\"type\":\"scatter\"},{\"line\":{\"color\":\"firebrick\"},\"name\":\"max Mn\",\"opacity\":0.8,\"y\":[300.0,390.0,440.0,470.0,500.0,550.0,600.0,610.0,620.0,630.0,650.0,700.0,720.0,720.0,723.0,730.0,740.0,740.0,754.0,770.0,800.0,860.0,870.0,870.0,910.0,960.0,970.0,1010.0,1050.0,1070.0,1080.0,1080.0,1120.0,1180.0,1180.0,1190.0,1200.0,1200.0,1210.0,1220.0,1290.0,1290.0,1290.0,1290.0,1320.0,1350.0,1380.0,1390.0,1410.0,1428.0,1460.0,1470.0,1500.0,1500.0,1510.0,1510.0,1590.0,1610.0,1630.0,1660.0,1690.0,1700.0,1722.0,1800.0,1810.0,1810.0,1870.0,1880.0,1970.0,1970.0,1990.0,2000.0,2100.0,2100.0,2300.0,2300.0,2300.0,2400.0,2400.0,2480.0,2500.0,2500.0,2600.0,2600.0,2700.0,2700.0,2700.0,2900.0,2900.0,2900.0,2900.0,2921.0,3000.0,3000.0,3100.0,3100.0,3100.0,3200.0,3200.0,3300.0,3300.0,3300.0,3400.0,3400.0,3431.0,3500.0,3500.0,3500.0,3500.0,3500.0,3500.0,3682.0,3700.0,3700.0,3700.0,3700.0,3800.0,3800.0,4200.0,4200.0,4300.0,4300.0,4400.0,4400.0,4409.0,4500.0,4500.0,4600.0,4600.0,4600.0,4605.0,4700.0,4800.0,4800.0,4900.0,5000.0,5000.0,5000.0,5200.0,5300.0,5400.0,5400.0,5600.0,5600.0,5700.0,5800.0,5800.0,5800.0,6000.0,6040.0,6100.0,6300.0,6300.0,6500.0,6544.0,6700.0,6700.0,6900.0,7015.0,7100.0,7100.0,7200.0,7200.0,7200.0,7300.0,7400.0,7400.0,7600.0,7600.0,7800.0,8000.0,8200.0,8300.0,8400.0,8500.0,8600.0,8700.0,8700.0,8700.0,8700.0,8700.0,9000.0,9000.0,9100.0,9200.0,9200.0,9200.0,9200.0,9300.0,9300.0,9300.0,9400.0,9500.0,9600.0,9700.0,9700.0,9700.0,10000.0,10179.0,10200.0,10300.0,10600.0,10600.0,10700.0,10800.0,10800.0,10900.0,11000.0,11000.0,11200.0,11200.0,11300.0,11400.0,11700.0,11700.0,12200.0,12400.0,12400.0,12500.0,12500.0,12600.0,12600.0,12600.0,12800.0,12932.0,13200.0,13200.0,13300.0,13400.0,13500.0,13800.0,13900.0,13900.0,14000.0,14000.0,14100.0,14200.0,14200.0,14300.0,14500.0,14600.0,14700.0,14800.0,14948.0,15000.0,15000.0,15000.0,15000.0,15300.0,15600.0,15700.0,15800.0,15800.0,16000.0,16000.0,16200.0,16200.0,16300.0,16600.0,16800.0,17000.0,17100.0,17400.0,17500.0,19210.0,20000.0,20000.0,21000.0,21300.0,24214.0,24900.0,27000.0,27000.0,29000.0,29000.0,29137.0,29415.0,30000.0,30000.0,33000.0,33149.0,33464.0,37000.0,38000.0,38713.0,40389.0,42372.0,43977.0,46000.0,46000.0,46000.0,48000.0,49000.0,49000.0,49905.0,50000.0,54000.0,56000.0,61000.0,64000.0,65000.0,74000.0,74000.0,76000.0,77000.0,77000.0,81000.0,82000.0,82000.0,83000.0,85000.0,88000.0,88000.0,89000.0,90000.0,90000.0],\"type\":\"scatter\"}],                        {\"template\":{\"data\":{\"histogram2dcontour\":[{\"type\":\"histogram2dcontour\",\"colorbar\":{\"outlinewidth\":0,\"ticks\":\"\"},\"colorscale\":[[0.0,\"#0d0887\"],[0.1111111111111111,\"#46039f\"],[0.2222222222222222,\"#7201a8\"],[0.3333333333333333,\"#9c179e\"],[0.4444444444444444,\"#bd3786\"],[0.5555555555555556,\"#d8576b\"],[0.6666666666666666,\"#ed7953\"],[0.7777777777777778,\"#fb9f3a\"],[0.8888888888888888,\"#fdca26\"],[1.0,\"#f0f921\"]]}],\"choropleth\":[{\"type\":\"choropleth\",\"colorbar\":{\"outlinewidth\":0,\"ticks\":\"\"}}],\"histogram2d\":[{\"type\":\"histogram2d\",\"colorbar\":{\"outlinewidth\":0,\"ticks\":\"\"},\"colorscale\":[[0.0,\"#0d0887\"],[0.1111111111111111,\"#46039f\"],[0.2222222222222222,\"#7201a8\"],[0.3333333333333333,\"#9c179e\"],[0.4444444444444444,\"#bd3786\"],[0.5555555555555556,\"#d8576b\"],[0.6666666666666666,\"#ed7953\"],[0.7777777777777778,\"#fb9f3a\"],[0.8888888888888888,\"#fdca26\"],[1.0,\"#f0f921\"]]}],\"heatmap\":[{\"type\":\"heatmap\",\"colorbar\":{\"outlinewidth\":0,\"ticks\":\"\"},\"colorscale\":[[0.0,\"#0d0887\"],[0.1111111111111111,\"#46039f\"],[0.2222222222222222,\"#7201a8\"],[0.3333333333333333,\"#9c179e\"],[0.4444444444444444,\"#bd3786\"],[0.5555555555555556,\"#d8576b\"],[0.6666666666666666,\"#ed7953\"],[0.7777777777777778,\"#fb9f3a\"],[0.8888888888888888,\"#fdca26\"],[1.0,\"#f0f921\"]]}],\"heatmapgl\":[{\"type\":\"heatmapgl\",\"colorbar\":{\"outlinewidth\":0,\"ticks\":\"\"},\"colorscale\":[[0.0,\"#0d0887\"],[0.1111111111111111,\"#46039f\"],[0.2222222222222222,\"#7201a8\"],[0.3333333333333333,\"#9c179e\"],[0.4444444444444444,\"#bd3786\"],[0.5555555555555556,\"#d8576b\"],[0.6666666666666666,\"#ed7953\"],[0.7777777777777778,\"#fb9f3a\"],[0.8888888888888888,\"#fdca26\"],[1.0,\"#f0f921\"]]}],\"contourcarpet\":[{\"type\":\"contourcarpet\",\"colorbar\":{\"outlinewidth\":0,\"ticks\":\"\"}}],\"contour\":[{\"type\":\"contour\",\"colorbar\":{\"outlinewidth\":0,\"ticks\":\"\"},\"colorscale\":[[0.0,\"#0d0887\"],[0.1111111111111111,\"#46039f\"],[0.2222222222222222,\"#7201a8\"],[0.3333333333333333,\"#9c179e\"],[0.4444444444444444,\"#bd3786\"],[0.5555555555555556,\"#d8576b\"],[0.6666666666666666,\"#ed7953\"],[0.7777777777777778,\"#fb9f3a\"],[0.8888888888888888,\"#fdca26\"],[1.0,\"#f0f921\"]]}],\"surface\":[{\"type\":\"surface\",\"colorbar\":{\"outlinewidth\":0,\"ticks\":\"\"},\"colorscale\":[[0.0,\"#0d0887\"],[0.1111111111111111,\"#46039f\"],[0.2222222222222222,\"#7201a8\"],[0.3333333333333333,\"#9c179e\"],[0.4444444444444444,\"#bd3786\"],[0.5555555555555556,\"#d8576b\"],[0.6666666666666666,\"#ed7953\"],[0.7777777777777778,\"#fb9f3a\"],[0.8888888888888888,\"#fdca26\"],[1.0,\"#f0f921\"]]}],\"mesh3d\":[{\"type\":\"mesh3d\",\"colorbar\":{\"outlinewidth\":0,\"ticks\":\"\"}}],\"scatter\":[{\"fillpattern\":{\"fillmode\":\"overlay\",\"size\":10,\"solidity\":0.2},\"type\":\"scatter\"}],\"parcoords\":[{\"type\":\"parcoords\",\"line\":{\"colorbar\":{\"outlinewidth\":0,\"ticks\":\"\"}}}],\"scatterpolargl\":[{\"type\":\"scatterpolargl\",\"marker\":{\"colorbar\":{\"outlinewidth\":0,\"ticks\":\"\"}}}],\"bar\":[{\"error_x\":{\"color\":\"#2a3f5f\"},\"error_y\":{\"color\":\"#2a3f5f\"},\"marker\":{\"line\":{\"color\":\"#E5ECF6\",\"width\":0.5},\"pattern\":{\"fillmode\":\"overlay\",\"size\":10,\"solidity\":0.2}},\"type\":\"bar\"}],\"scattergeo\":[{\"type\":\"scattergeo\",\"marker\":{\"colorbar\":{\"outlinewidth\":0,\"ticks\":\"\"}}}],\"scatterpolar\":[{\"type\":\"scatterpolar\",\"marker\":{\"colorbar\":{\"outlinewidth\":0,\"ticks\":\"\"}}}],\"histogram\":[{\"marker\":{\"pattern\":{\"fillmode\":\"overlay\",\"size\":10,\"solidity\":0.2}},\"type\":\"histogram\"}],\"scattergl\":[{\"type\":\"scattergl\",\"marker\":{\"colorbar\":{\"outlinewidth\":0,\"ticks\":\"\"}}}],\"scatter3d\":[{\"type\":\"scatter3d\",\"line\":{\"colorbar\":{\"outlinewidth\":0,\"ticks\":\"\"}},\"marker\":{\"colorbar\":{\"outlinewidth\":0,\"ticks\":\"\"}}}],\"scattermapbox\":[{\"type\":\"scattermapbox\",\"marker\":{\"colorbar\":{\"outlinewidth\":0,\"ticks\":\"\"}}}],\"scatterternary\":[{\"type\":\"scatterternary\",\"marker\":{\"colorbar\":{\"outlinewidth\":0,\"ticks\":\"\"}}}],\"scattercarpet\":[{\"type\":\"scattercarpet\",\"marker\":{\"colorbar\":{\"outlinewidth\":0,\"ticks\":\"\"}}}],\"carpet\":[{\"aaxis\":{\"endlinecolor\":\"#2a3f5f\",\"gridcolor\":\"white\",\"linecolor\":\"white\",\"minorgridcolor\":\"white\",\"startlinecolor\":\"#2a3f5f\"},\"baxis\":{\"endlinecolor\":\"#2a3f5f\",\"gridcolor\":\"white\",\"linecolor\":\"white\",\"minorgridcolor\":\"white\",\"startlinecolor\":\"#2a3f5f\"},\"type\":\"carpet\"}],\"table\":[{\"cells\":{\"fill\":{\"color\":\"#EBF0F8\"},\"line\":{\"color\":\"white\"}},\"header\":{\"fill\":{\"color\":\"#C8D4E3\"},\"line\":{\"color\":\"white\"}},\"type\":\"table\"}],\"barpolar\":[{\"marker\":{\"line\":{\"color\":\"#E5ECF6\",\"width\":0.5},\"pattern\":{\"fillmode\":\"overlay\",\"size\":10,\"solidity\":0.2}},\"type\":\"barpolar\"}],\"pie\":[{\"automargin\":true,\"type\":\"pie\"}]},\"layout\":{\"autotypenumbers\":\"strict\",\"colorway\":[\"#636efa\",\"#EF553B\",\"#00cc96\",\"#ab63fa\",\"#FFA15A\",\"#19d3f3\",\"#FF6692\",\"#B6E880\",\"#FF97FF\",\"#FECB52\"],\"font\":{\"color\":\"#2a3f5f\"},\"hovermode\":\"closest\",\"hoverlabel\":{\"align\":\"left\"},\"paper_bgcolor\":\"white\",\"plot_bgcolor\":\"#E5ECF6\",\"polar\":{\"bgcolor\":\"#E5ECF6\",\"angularaxis\":{\"gridcolor\":\"white\",\"linecolor\":\"white\",\"ticks\":\"\"},\"radialaxis\":{\"gridcolor\":\"white\",\"linecolor\":\"white\",\"ticks\":\"\"}},\"ternary\":{\"bgcolor\":\"#E5ECF6\",\"aaxis\":{\"gridcolor\":\"white\",\"linecolor\":\"white\",\"ticks\":\"\"},\"baxis\":{\"gridcolor\":\"white\",\"linecolor\":\"white\",\"ticks\":\"\"},\"caxis\":{\"gridcolor\":\"white\",\"linecolor\":\"white\",\"ticks\":\"\"}},\"coloraxis\":{\"colorbar\":{\"outlinewidth\":0,\"ticks\":\"\"}},\"colorscale\":{\"sequential\":[[0.0,\"#0d0887\"],[0.1111111111111111,\"#46039f\"],[0.2222222222222222,\"#7201a8\"],[0.3333333333333333,\"#9c179e\"],[0.4444444444444444,\"#bd3786\"],[0.5555555555555556,\"#d8576b\"],[0.6666666666666666,\"#ed7953\"],[0.7777777777777778,\"#fb9f3a\"],[0.8888888888888888,\"#fdca26\"],[1.0,\"#f0f921\"]],\"sequentialminus\":[[0.0,\"#0d0887\"],[0.1111111111111111,\"#46039f\"],[0.2222222222222222,\"#7201a8\"],[0.3333333333333333,\"#9c179e\"],[0.4444444444444444,\"#bd3786\"],[0.5555555555555556,\"#d8576b\"],[0.6666666666666666,\"#ed7953\"],[0.7777777777777778,\"#fb9f3a\"],[0.8888888888888888,\"#fdca26\"],[1.0,\"#f0f921\"]],\"diverging\":[[0,\"#8e0152\"],[0.1,\"#c51b7d\"],[0.2,\"#de77ae\"],[0.3,\"#f1b6da\"],[0.4,\"#fde0ef\"],[0.5,\"#f7f7f7\"],[0.6,\"#e6f5d0\"],[0.7,\"#b8e186\"],[0.8,\"#7fbc41\"],[0.9,\"#4d9221\"],[1,\"#276419\"]]},\"xaxis\":{\"gridcolor\":\"white\",\"linecolor\":\"white\",\"ticks\":\"\",\"title\":{\"standoff\":15},\"zerolinecolor\":\"white\",\"automargin\":true,\"zerolinewidth\":2},\"yaxis\":{\"gridcolor\":\"white\",\"linecolor\":\"white\",\"ticks\":\"\",\"title\":{\"standoff\":15},\"zerolinecolor\":\"white\",\"automargin\":true,\"zerolinewidth\":2},\"scene\":{\"xaxis\":{\"backgroundcolor\":\"#E5ECF6\",\"gridcolor\":\"white\",\"linecolor\":\"white\",\"showbackground\":true,\"ticks\":\"\",\"zerolinecolor\":\"white\",\"gridwidth\":2},\"yaxis\":{\"backgroundcolor\":\"#E5ECF6\",\"gridcolor\":\"white\",\"linecolor\":\"white\",\"showbackground\":true,\"ticks\":\"\",\"zerolinecolor\":\"white\",\"gridwidth\":2},\"zaxis\":{\"backgroundcolor\":\"#E5ECF6\",\"gridcolor\":\"white\",\"linecolor\":\"white\",\"showbackground\":true,\"ticks\":\"\",\"zerolinecolor\":\"white\",\"gridwidth\":2}},\"shapedefaults\":{\"line\":{\"color\":\"#2a3f5f\"}},\"annotationdefaults\":{\"arrowcolor\":\"#2a3f5f\",\"arrowhead\":0,\"arrowwidth\":1},\"geo\":{\"bgcolor\":\"white\",\"landcolor\":\"#E5ECF6\",\"subunitcolor\":\"white\",\"showland\":true,\"showlakes\":true,\"lakecolor\":\"white\"},\"title\":{\"x\":0.05},\"mapbox\":{\"style\":\"light\"}}},\"xaxis\":{\"anchor\":\"y\",\"domain\":[0.0,1.0]},\"yaxis\":{\"anchor\":\"x\",\"domain\":[0.0,1.0],\"title\":{\"text\":\"$\\\\text{Mn and Mw }[g\\u002fmol] \\\\cdot 10^{-5}$\"}},\"legend\":{\"tracegroupgap\":0},\"margin\":{\"t\":60},\"title\":{\"text\":\"Mn and Mw comparison\"}},                        {\"responsive\": true}                    ).then(function(){\n                            \nvar gd = document.getElementById('10310940-d7bf-4d90-b6c0-2e4719847d1f');\nvar x = new MutationObserver(function (mutations, observer) {{\n        var display = window.getComputedStyle(gd).display;\n        if (!display || display === 'none') {{\n            console.log([gd, 'removed!']);\n            Plotly.purge(gd);\n            observer.disconnect();\n        }}\n}});\n\n// Listen for the removal of the full notebook cells\nvar notebookContainer = gd.closest('#notebook-container');\nif (notebookContainer) {{\n    x.observe(notebookContainer, {childList: true});\n}}\n\n// Listen for the clearing of the current output cell\nvar outputEl = gd.closest('.output');\nif (outputEl) {{\n    x.observe(outputEl, {childList: true});\n}}\n\n                        })                };                });            </script>        </div>"
     },
     "metadata": {},
     "output_type": "display_data"
    }
   ],
   "source": [
    "# checking out max and min of Mn/Mw\n",
    "min_Mn, max_Mn = [], []\n",
    "min_Mw, max_Mw = [], []\n",
    "\n",
    "for kc in kinetic_curves:\n",
    "    min_Mn.append(kc[\"Mn\"].min()); max_Mn.append(kc[\"Mn\"].max()); min_Mw.append(kc[\"Mw\"].min()); max_Mw.append(kc[\"Mw\"].max())\n",
    "\n",
    "for _ in (min_Mn, max_Mn, min_Mw, max_Mw):\n",
    "    _.sort()\n",
    "    _ = [j/100000 for j in _]\n",
    "\n",
    "molar_wg_comparison = px.line()\n",
    "molar_wg_comparison.add_scatter(y=min_Mw, name=\"min Mw\", line_color=\"darkgoldenrod\", opacity=0.8, fill=\"tozeroy\", fillcolor=\"orange\")\n",
    "molar_wg_comparison.add_scatter(y=max_Mw, name=\"max Mw\", line_color=\"darkgoldenrod\", opacity=0.8)\n",
    "molar_wg_comparison.add_scatter(y=min_Mn, name=\"min Mn\", line_color=\"firebrick\", opacity=0.8, fill=\"tozeroy\", fillcolor=\"red\")\n",
    "molar_wg_comparison.add_scatter(y=max_Mn, name=\"max Mn\", line_color=\"firebrick\", opacity=0.8)\n",
    "molar_wg_comparison.update_layout(title=\"Mn and Mw comparison\", yaxis_title=\"$\\\\text{Mn and Mw }[g/mol] \\cdot 10^{-5}$\")\n",
    "molar_wg_comparison.show()"
   ],
   "metadata": {
    "collapsed": false,
    "pycharm": {
     "name": "#%%\n"
    }
   }
  },
  {
   "cell_type": "code",
   "execution_count": 92,
   "outputs": [],
   "source": [
    "fig = px.line(title=\"Kinetic Curve Fit\")\n",
    "colors = px.colors.qualitative.Plotly # set up a simple color palette\n",
    "extended_xdata = np.linspace(-1, 16.5, 100) # x data array for plotting the fits\n",
    "\n",
    "\n",
    "def add_fits_to_plot(figure, fit_func, fit_func_derivative, fit_func_params, *args, **kwargs):\n",
    "    figure.add_scatter(\n",
    "        x=extended_xdata, y=fit_func(extended_xdata, *fit_func_params),\n",
    "        opacity=1, line=dict(dash=\"dot\"), name=f\"{fit_func.__name__} fit\", *args, **kwargs)\n",
    "    figure.add_scatter(\n",
    "        x=extended_xdata, y=fit_func_derivative(extended_xdata, *fit_func_params),\n",
    "        opacity=0.3, line=dict(dash=\"dash\"), name=f\"{fit_func_derivative.__name__}\", *args, **kwargs)\n",
    "\n",
    "def fit_and_exclude_outliers(x, y, fit_func, p0, bounds, nan_policy=\"omit\", iteration=1, outliers=None):\n",
    "    outliers = outliers if outliers is not None else []\n",
    "\n",
    "    # exclude the nan values from the data\n",
    "    mask = ~np.isnan(y)\n",
    "    x, y = x[mask], y[mask]\n",
    "\n",
    "    cf_data = curve_fit(f=fit_func, xdata=x, ydata=y, p0=p0, nan_policy=nan_policy, maxfev=800 * 10, bounds=bounds)\n",
    "\n",
    "    # calculate the fit points\n",
    "    fit_points = np.array([fit_func(x, *cf_data[0]) for x in x])\n",
    "    # calculate the standard deviation of the residuals between the fit and the data points\n",
    "    sigma = np.std(fit_points - y)\n",
    "\n",
    "    # exclude the outliers\n",
    "    msk = ~(np.abs(fit_points - y) > 2 * sigma)\n",
    "    if not msk.all():\n",
    "        return fit_and_exclude_outliers(x=x[msk], y=y[msk], fit_func=fit_func, p0=cf_data[0], bounds=bounds, nan_policy=nan_policy, iteration=iteration+1, outliers=outliers + [x[~msk]])\n",
    "\n",
    "    # calculate the squared error of fit and data points\n",
    "    sq_err = np.mean(np.square(y - fit_points))\n",
    "\n",
    "    result = {\"x\": x, \"y\": y, \"p_opt\" : cf_data[0], \"p_cov\" : cf_data[1], \"sq_err\": sq_err, \"excluded_points\" : (x[~msk],y[~msk]), \"iteration\" : iteration, \"outliers\" : outliers}\n",
    "    return result"
   ],
   "metadata": {
    "collapsed": false,
    "pycharm": {
     "name": "#%%\n"
    }
   }
  },
  {
   "cell_type": "code",
   "execution_count": 93,
   "outputs": [
    {
     "name": "stderr",
     "output_type": "stream",
     "text": [
      "C:\\Users\\Nex\\mambaforge\\envs\\PFP2\\Lib\\site-packages\\scipy\\optimize\\_minpack_py.py:1010: OptimizeWarning:\n",
      "\n",
      "Covariance of the parameters could not be estimated\n",
      "\n"
     ]
    }
   ],
   "source": [
    "kinetics_df = pd.DataFrame() # create new dataframe with kinetics per row\n",
    "\n",
    "for idx, kinetic_curve in enumerate(kinetic_curves):\n",
    "    # first make sure the datapoints are in the right format and not sometimes int sometimes float\n",
    "    xdata = np.array(kinetic_curve[\"time\"].values, dtype=float)\n",
    "    ydata_conv = np.array(kinetic_curve[\"conversion\"].values, dtype=float)\n",
    "    ydata_Mn = np.array(kinetic_curve[\"Mn\"].values, dtype=float)/100000 # make it more comparable to conversion\n",
    "    ydata_Mw = np.array(kinetic_curve[\"Mw\"].values, dtype=float)/100000\n",
    "\n",
    "\n",
    "    # fitting section for conversion\n",
    "    p_initial = [max(ydata_conv), 0.1] # this is a mandatory initial guess\n",
    "    ng_fit = fit_and_exclude_outliers(x=xdata, y=ydata_conv, fit_func=neg_growth, p0=p_initial, bounds=([0, -np.inf], [1, np.inf]))\n",
    "    # l_fit = fit_and_exclude_outliers(x=xdata, y=ydata, fit_func=linear_growth, p0=[max(ydata)/7], bounds=([0], [np.inf]))\n",
    "\n",
    "    popt, pcov = ng_fit[\"p_opt\"], ng_fit[\"p_cov\"]\n",
    "    conv_time_data = np.array([ng_fit[\"x\"], ng_fit[\"y\"]])\n",
    "    squared_error = ng_fit[\"sq_err\"]\n",
    "\n",
    "    # fitting section for Mn\n",
    "    p_initial = [max(ydata_Mn[~np.isnan(ydata_Mn)]), 0.1, 0]\n",
    "    ng_fit_Mn = fit_and_exclude_outliers(x=xdata, y=ydata_Mn, fit_func=neg_growth_abscissae, p0=p_initial, bounds=([0, -np.inf, -np.inf], [1, np.inf, np.inf]))\n",
    "\n",
    "    popt_Mn, pcov_Mn = ng_fit_Mn[\"p_opt\"], ng_fit_Mn[\"p_cov\"]\n",
    "    Mn_time_data = np.array([ng_fit_Mn[\"x\"], ng_fit_Mn[\"y\"]])\n",
    "    squared_error_Mn = ng_fit_Mn[\"sq_err\"]\n",
    "\n",
    "    # fitting section for Mw\n",
    "    ng_fit_Mw = fit_and_exclude_outliers(x=xdata, y=ydata_Mw, fit_func=neg_growth_abscissae, p0=p_initial, bounds=([0, -np.inf, -np.inf], [1, np.inf, np.inf]))\n",
    "\n",
    "    popt_Mw, pcov_Mw = ng_fit_Mw[\"p_opt\"], ng_fit_Mw[\"p_cov\"]\n",
    "    Mw_time_data = np.array([ng_fit_Mw[\"x\"],ng_fit_Mw[\"y\"]])\n",
    "    squared_error_Mw = ng_fit_Mw[\"sq_err\"]\n",
    "\n",
    "\n",
    "    new_row = pd.DataFrame({\"exp_nr\":kinetic_curve[\"exp_nr\"].iloc[1], \"max_con\":max(ydata_conv),\n",
    "                        \"theo_max_con\":\"yet to calc\", \"theo_react_end\":\"yet to calc\",\n",
    "                            \"monomer\":kinetic_curve[\"monomer\"].iloc[1], \"RAFT-Agent\":kinetic_curve[\"RAFT-Agent\"].iloc[1],\n",
    "                            \"solvent\":kinetic_curve[\"solvent\"].iloc[1],\n",
    "                            \"fit_p1\":[popt[0]],\"fit_p2\":[popt[1]],\n",
    "                            \"p1_variance\":[pcov[0][0]],\"p1_p2_covariance\":[pcov[0][1]],\"p2_variance\":[pcov[1][1]],\n",
    "                            \"squared_error\":squared_error, \"conv_time_data\":[conv_time_data],\n",
    "                            \"Mn_time_data\":[Mn_time_data], \"Mw_time_data\":[Mw_time_data]})\n",
    "    kinetics_df = pd.concat([kinetics_df, new_row])\n",
    "\n",
    "''' comment out here if plot is needed.\n",
    "    marker_dict = dict(color=colors[idx%len(colors)]) # set same colors per kinetic\n",
    "    fig.add_scatter(x=xdata, y=ydata, mode=\"lines+markers\", opacity=1, name=kinetic_curve[\"exp_nr\"].iloc[1], marker=marker_dict)\n",
    "    add_fits_to_plot(neg_growth, neg_growth_derivative, popt, marker_dict)\n",
    "\n",
    "fig.update_layout(\n",
    "    yaxis=dict(\n",
    "        range=[-0.1,1]\n",
    "    ),\n",
    "\n",
    ")\n",
    "fig.show()\n",
    "# '''\n",
    "\n",
    "kinetics_df.reset_index(drop=True, inplace=True)\n",
    "kinetics_df.drop(axis=\"index\", index=kinetics_df[kinetics_df[\"max_con\"] <= 0].index, inplace=True)\n",
    "kinetics_df.reset_index(drop=True, inplace=True)\n",
    "# kinetics_df"
   ],
   "metadata": {
    "collapsed": false,
    "pycharm": {
     "name": "#%%\n"
    }
   }
  },
  {
   "cell_type": "code",
   "execution_count": 94,
   "outputs": [
    {
     "data": {
      "application/vnd.plotly.v1+json": {
       "data": [
        {
         "hovertemplate": "<extra></extra>",
         "legendgroup": "",
         "line": {
          "color": "#636efa",
          "dash": "solid"
         },
         "marker": {
          "symbol": "circle"
         },
         "mode": "lines",
         "name": "",
         "orientation": "v",
         "showlegend": false,
         "xaxis": "x",
         "yaxis": "y",
         "type": "scatter"
        },
        {
         "legendgroup": "0",
         "marker": {
          "color": "#636EFA"
         },
         "mode": "lines+markers",
         "opacity": 0.5,
         "showlegend": false,
         "x": [
          0.0,
          2.011111111111111,
          4.018055555555556,
          8.016666666666667,
          15.016666666666667
         ],
         "y": [
          0.0,
          0.10436494913029215,
          0.2057761732851986,
          0.3321299638989169,
          0.5165736790285527
         ],
         "type": "scatter"
        },
        {
         "legendgroup": "0",
         "marker": {
          "color": "#636EFA"
         },
         "mode": "lines+markers",
         "opacity": 0.5,
         "showlegend": false,
         "x": [
          0.0,
          2.011111111111111,
          4.018055555555556,
          8.016666666666667,
          15.016666666666667
         ],
         "y": [
          0.0,
          0.18921601058551107,
          0.327820046311611,
          0.5203440291101555,
          0.6973205425074429
         ],
         "type": "scatter"
        },
        {
         "legendgroup": "0",
         "marker": {
          "color": "#636EFA"
         },
         "mode": "lines+markers",
         "opacity": 0.5,
         "showlegend": false,
         "x": [
          0.0,
          4.0777777777777775,
          8.090277777777779,
          15.098611111111111
         ],
         "y": [
          0.0,
          0.09824902723735407,
          0.1877431906614786,
          0.3232814526588845
         ],
         "type": "scatter"
        },
        {
         "legendgroup": "0",
         "marker": {
          "color": "#636EFA"
         },
         "mode": "lines+markers",
         "opacity": 0.5,
         "showlegend": false,
         "x": [
          0.0,
          1.073611111111111,
          2.0680555555555555,
          4.0777777777777775,
          8.090277777777779,
          15.098611111111111
         ],
         "y": [
          0.0,
          0.06908094948265364,
          0.09403530127814974,
          0.20572124163116257,
          0.3740109555690809,
          0.5651247717589775
         ],
         "type": "scatter"
        },
        {
         "legendgroup": "0",
         "marker": {
          "color": "#636EFA"
         },
         "mode": "lines+markers",
         "opacity": 0.5,
         "showlegend": false,
         "x": [
          0.0,
          1.1319444444444444,
          2.125,
          8.180555555555555,
          15.2
         ],
         "y": [
          0.0,
          0.11448317307692302,
          0.18088942307692302,
          0.5345552884615384,
          0.7905649038461539
         ],
         "type": "scatter"
        },
        {
         "legendgroup": "0",
         "marker": {
          "color": "#636EFA"
         },
         "mode": "lines+markers",
         "opacity": 0.5,
         "showlegend": false,
         "x": [
          0.0,
          1.1319444444444444,
          2.125,
          4.143055555555556,
          8.180555555555555,
          15.2
         ],
         "y": [
          0.0,
          0.053034947884733286,
          0.05211526670754141,
          0.07541385652973631,
          0.17841814837522985,
          0.3289393010423053
         ],
         "type": "scatter"
        },
        {
         "legendgroup": "0",
         "marker": {
          "color": "#636EFA"
         },
         "mode": "lines+markers",
         "opacity": 0.5,
         "showlegend": false,
         "x": [
          0.0,
          1.1916666666666667,
          2.1847222222222222,
          4.205555555555556
         ],
         "y": [
          0.0,
          0.052168982137794195,
          0.08477459597391546,
          0.14006237595690396
         ],
         "type": "scatter"
        },
        {
         "legendgroup": "0",
         "marker": {
          "color": "#636EFA"
         },
         "mode": "lines+markers",
         "opacity": 0.5,
         "showlegend": false,
         "x": [
          0.0,
          1.2513888888888889,
          2.2416666666666667,
          4.273611111111111,
          8.338888888888889,
          15.381944444444445
         ],
         "y": [
          0.0,
          -0.02573529411764719,
          0.06832107843137247,
          0.13817401960784303,
          0.4099264705882353,
          0.6681985294117647
         ],
         "type": "scatter"
        },
        {
         "legendgroup": "0",
         "marker": {
          "color": "#636EFA"
         },
         "mode": "lines+markers",
         "opacity": 0.5,
         "showlegend": false,
         "x": [
          0.0,
          1.2513888888888889,
          2.2416666666666667,
          4.273611111111111,
          8.338888888888889,
          15.381944444444445
         ],
         "y": [
          0.0,
          0.05710989327949234,
          0.08191520046149414,
          0.12460340351889243,
          0.17623305451398907,
          0.13931352754542836
         ],
         "type": "scatter"
        },
        {
         "legendgroup": "0",
         "marker": {
          "color": "#636EFA"
         },
         "mode": "lines+markers",
         "opacity": 0.5,
         "showlegend": false,
         "x": [
          0.0,
          1.3125,
          2.301388888888889,
          4.336111111111111,
          8.415277777777778,
          15.472222222222221
         ],
         "y": [
          0.0,
          0.12694224567575485,
          0.18733509234828505,
          0.3685136323658751,
          0.5675754910583406,
          0.7074171797126942
         ],
         "type": "scatter"
        },
        {
         "legendgroup": "0",
         "marker": {
          "color": "#636EFA"
         },
         "mode": "lines+markers",
         "opacity": 0.5,
         "showlegend": false,
         "x": [
          0.0,
          1.3125,
          2.301388888888889,
          4.336111111111111,
          8.415277777777778,
          15.472222222222221
         ],
         "y": [
          0.0,
          0.02538217479088556,
          0.0522065186039804,
          0.0784539948081916,
          0.06807037784828385,
          0.061436400346120634
         ],
         "type": "scatter"
        },
        {
         "legendgroup": "0",
         "marker": {
          "color": "#636EFA"
         },
         "mode": "lines+markers",
         "opacity": 0.5,
         "showlegend": false,
         "x": [
          0.0,
          1.3736111111111111,
          2.3694444444444445,
          8.501388888888888,
          15.568055555555556
         ],
         "y": [
          0.0,
          0.07821229050279321,
          0.14769553072625696,
          0.47451117318435754,
          0.6651536312849162
         ],
         "type": "scatter"
        },
        {
         "legendgroup": "0",
         "marker": {
          "color": "#636EFA"
         },
         "mode": "lines+markers",
         "opacity": 0.5,
         "showlegend": false,
         "x": [
          0.0,
          2.3694444444444445,
          4.409722222222222,
          8.501388888888888,
          15.568055555555556
         ],
         "y": [
          0.0,
          0.28002868411617066,
          0.46324847615632847,
          0.7113660810326281,
          0.8669774112585156
         ],
         "type": "scatter"
        },
        {
         "legendgroup": "0",
         "marker": {
          "color": "#636EFA"
         },
         "mode": "lines+markers",
         "opacity": 0.5,
         "showlegend": false,
         "x": [
          0.0,
          1.4375,
          4.475,
          8.581944444444444,
          15.658333333333333
         ],
         "y": [
          0.0,
          0.025009061254077536,
          0.09387459224356642,
          0.16382747372236317,
          0.3856469735411381
         ],
         "type": "scatter"
        },
        {
         "legendgroup": "0",
         "marker": {
          "color": "#636EFA"
         },
         "mode": "lines+markers",
         "opacity": 0.5,
         "showlegend": false,
         "x": [
          0.0,
          1.0055555555555555,
          2.011111111111111,
          4.018055555555556,
          8.016666666666667,
          15.016666666666667
         ],
         "y": [
          0.0,
          0.007199696854869098,
          0.038272072754831354,
          0.10685865858279642,
          0.23721106479727172,
          0.4297082228116711
         ],
         "type": "scatter"
        },
        {
         "legendgroup": "0",
         "marker": {
          "color": "#636EFA"
         },
         "mode": "lines+markers",
         "opacity": 0.5,
         "showlegend": false,
         "x": [
          0.0,
          1.0055555555555555,
          2.011111111111111,
          4.018055555555556,
          8.016666666666667,
          15.016666666666667
         ],
         "y": [
          0.0,
          0.2771231206826493,
          0.4116212921576595,
          0.7029662738724096,
          0.8780983340105648,
          1.0
         ],
         "type": "scatter"
        },
        {
         "legendgroup": "0",
         "marker": {
          "color": "#636EFA"
         },
         "mode": "lines+markers",
         "opacity": 0.5,
         "showlegend": false,
         "x": [
          0.0,
          1.073611111111111,
          2.0680555555555555,
          4.0777777777777775,
          8.090277777777779,
          15.098611111111111
         ],
         "y": [
          0.0,
          0.016788321167883313,
          0.019343065693430805,
          0.04452554744525561,
          0.1273722627737227,
          0.2886861313868614
         ],
         "type": "scatter"
        },
        {
         "legendgroup": "0",
         "marker": {
          "color": "#636EFA"
         },
         "mode": "lines+markers",
         "opacity": 0.5,
         "showlegend": false,
         "x": [
          0.0,
          1.073611111111111,
          2.0680555555555555,
          4.0777777777777775,
          8.090277777777779,
          15.098611111111111
         ],
         "y": [
          0.0,
          -5.592841163311046E-4,
          0.008389261744966459,
          0.006152125279642151,
          0.06040268456375841,
          0.24440715883668906
         ],
         "type": "scatter"
        },
        {
         "legendgroup": "0",
         "marker": {
          "color": "#636EFA"
         },
         "mode": "lines+markers",
         "opacity": 0.5,
         "showlegend": false,
         "x": [
          0.0,
          1.1319444444444444,
          2.125,
          8.180555555555555,
          15.2
         ],
         "y": [
          0.0,
          0.03328149300155514,
          0.06998444790046643,
          0.2902021772939346,
          0.30855365474339036
         ],
         "type": "scatter"
        },
        {
         "legendgroup": "0",
         "marker": {
          "color": "#636EFA"
         },
         "mode": "lines+markers",
         "opacity": 0.5,
         "showlegend": false,
         "x": [
          0.0,
          1.1319444444444444,
          2.125,
          4.143055555555556,
          8.180555555555555,
          15.2
         ],
         "y": [
          0.0,
          0.009223445403153896,
          0.03034811068134491,
          0.052365367450163736,
          0.1731627491817912,
          0.4525438857482892
         ],
         "type": "scatter"
        },
        {
         "legendgroup": "0",
         "marker": {
          "color": "#636EFA"
         },
         "mode": "lines+markers",
         "opacity": 0.5,
         "showlegend": false,
         "x": [
          0.0,
          1.1916666666666667,
          2.1847222222222222,
          4.205555555555556,
          15.291666666666666
         ],
         "y": [
          0.0,
          0.05354558610709115,
          0.06946454413892911,
          0.13950795947901595,
          0.4917510853835022
         ],
         "type": "scatter"
        },
        {
         "legendgroup": "0",
         "marker": {
          "color": "#636EFA"
         },
         "mode": "lines+markers",
         "opacity": 0.5,
         "showlegend": false,
         "x": [
          0.0,
          1.2513888888888889,
          2.2416666666666667,
          4.273611111111111,
          8.338888888888889,
          15.381944444444445
         ],
         "y": [
          0.0,
          0.002850807728856486,
          -0.009819448843839229,
          0.11054798859676918,
          0.39436173582515044,
          0.6496674057649667
         ],
         "type": "scatter"
        },
        {
         "legendgroup": "0",
         "marker": {
          "color": "#636EFA"
         },
         "mode": "lines+markers",
         "opacity": 0.5,
         "showlegend": false,
         "x": [
          0.0,
          1.2513888888888889,
          2.2416666666666667,
          4.273611111111111,
          8.338888888888889
         ],
         "y": [
          0.0,
          0.19796828543111977,
          0.20267591674925667,
          0.20441030723488596,
          0.20639246778989095
         ],
         "type": "scatter"
        },
        {
         "legendgroup": "0",
         "marker": {
          "color": "#636EFA"
         },
         "mode": "lines+markers",
         "opacity": 0.5,
         "showlegend": false,
         "x": [
          0.0,
          1.3125,
          2.301388888888889,
          4.336111111111111,
          15.472222222222221
         ],
         "y": [
          0.0,
          0.008618036318867373,
          -0.003693444136657398,
          0.008310249307479256,
          0.040012311480455476
         ],
         "type": "scatter"
        },
        {
         "legendgroup": "0",
         "marker": {
          "color": "#636EFA"
         },
         "mode": "lines+markers",
         "opacity": 0.5,
         "showlegend": false,
         "x": [
          0.0,
          2.3694444444444445,
          8.501388888888888,
          15.568055555555556
         ],
         "y": [
          0.0,
          -0.00111358574610243,
          0.08945805493689685,
          0.37119524870081666
         ],
         "type": "scatter"
        },
        {
         "legendgroup": "0",
         "marker": {
          "color": "#636EFA"
         },
         "mode": "lines+markers",
         "opacity": 0.5,
         "showlegend": false,
         "x": [
          0.0,
          4.409722222222222,
          8.501388888888888,
          15.568055555555556
         ],
         "y": [
          0.0,
          0.33287764866712244,
          0.5857826384142174,
          0.7853725222146275
         ],
         "type": "scatter"
        },
        {
         "legendgroup": "0",
         "marker": {
          "color": "#636EFA"
         },
         "mode": "lines+markers",
         "opacity": 0.5,
         "showlegend": false,
         "x": [
          0.0,
          1.4375,
          2.4305555555555554,
          4.475,
          8.581944444444444,
          15.658333333333333
         ],
         "y": [
          0.0,
          0.021403508771929758,
          -0.006666666666666821,
          0.029824561403508754,
          0.1378947368421053,
          0.39719298245614043
         ],
         "type": "scatter"
        },
        {
         "legendgroup": "0",
         "marker": {
          "color": "#636EFA"
         },
         "mode": "lines+markers",
         "opacity": 0.5,
         "showlegend": false,
         "x": [
          0.0,
          2.011111111111111,
          4.018055555555556,
          8.016666666666667,
          15.016666666666667
         ],
         "y": [
          0.0,
          0.026455026455026398,
          0.050264550264550234,
          0.09977324263038545,
          0.1916099773242631
         ],
         "type": "scatter"
        },
        {
         "legendgroup": "0",
         "marker": {
          "color": "#636EFA"
         },
         "mode": "lines+markers",
         "opacity": 0.5,
         "showlegend": false,
         "x": [
          0.0,
          1.0055555555555555,
          2.011111111111111,
          4.018055555555556,
          8.016666666666667,
          15.016666666666667
         ],
         "y": [
          0.0,
          0.037663335895465,
          0.05956956187548035,
          0.11913912375096081,
          0.23020753266717897,
          0.42044581091468103
         ],
         "type": "scatter"
        },
        {
         "legendgroup": "0",
         "marker": {
          "color": "#636EFA"
         },
         "mode": "lines+markers",
         "opacity": 0.5,
         "showlegend": false,
         "x": [
          0.0,
          1.073611111111111,
          4.0777777777777775,
          8.090277777777779,
          15.098611111111111
         ],
         "y": [
          0.0,
          0.01056205205582783,
          0.026027913994718932,
          0.04828366654092786,
          0.07091663523198788
         ],
         "type": "scatter"
        },
        {
         "legendgroup": "0",
         "marker": {
          "color": "#636EFA"
         },
         "name": "conv over time",
         "x": [
          null
         ],
         "y": [
          null
         ],
         "type": "scatter"
        },
        {
         "legendgroup": "1",
         "marker": {
          "color": "#EF553B"
         },
         "mode": "lines+markers",
         "opacity": 0.5,
         "showlegend": false,
         "x": [
          1.0055555555555555,
          2.011111111111111,
          4.018055555555556,
          6.008333333333334,
          8.016666666666667,
          10.011111111111111,
          15.016666666666667
         ],
         "y": [
          0.023,
          0.029,
          0.042,
          0.054,
          0.069,
          0.081,
          0.087
         ],
         "type": "scatter"
        },
        {
         "legendgroup": "1",
         "marker": {
          "color": "#EF553B"
         },
         "mode": "lines+markers",
         "opacity": 0.5,
         "showlegend": false,
         "x": [
          1.0055555555555555,
          2.011111111111111,
          4.018055555555556,
          6.008333333333334,
          8.016666666666667,
          10.011111111111111,
          15.016666666666667
         ],
         "y": [
          0.03,
          0.037,
          0.06,
          0.064,
          0.07,
          0.086,
          0.092
         ],
         "type": "scatter"
        },
        {
         "legendgroup": "1",
         "marker": {
          "color": "#EF553B"
         },
         "mode": "lines+markers",
         "opacity": 0.5,
         "showlegend": false,
         "x": [
          1.073611111111111,
          2.0680555555555555,
          4.0777777777777775,
          6.063888888888889,
          8.090277777777779,
          10.084722222222222,
          15.098611111111111
         ],
         "y": [
          0.0142,
          0.0189,
          0.028,
          0.037,
          0.05,
          0.05,
          0.072
         ],
         "type": "scatter"
        },
        {
         "legendgroup": "1",
         "marker": {
          "color": "#EF553B"
         },
         "mode": "lines+markers",
         "opacity": 0.5,
         "showlegend": false,
         "x": [
          1.073611111111111,
          2.0680555555555555,
          4.0777777777777775,
          6.063888888888889,
          8.090277777777779,
          10.084722222222222,
          15.098611111111111
         ],
         "y": [
          0.034,
          0.04,
          0.06,
          0.077,
          0.095,
          0.106,
          0.126
         ],
         "type": "scatter"
        },
        {
         "legendgroup": "1",
         "marker": {
          "color": "#EF553B"
         },
         "mode": "lines+markers",
         "opacity": 0.5,
         "showlegend": false,
         "x": [
          1.1319444444444444,
          2.125,
          4.143055555555556,
          6.120833333333334,
          8.180555555555555,
          10.158333333333333,
          15.2
         ],
         "y": [
          0.038,
          0.047,
          0.064,
          0.087,
          0.1,
          0.114,
          0.163
         ],
         "type": "scatter"
        },
        {
         "legendgroup": "1",
         "marker": {
          "color": "#EF553B"
         },
         "mode": "lines+markers",
         "opacity": 0.5,
         "showlegend": false,
         "x": [
          1.1319444444444444,
          2.125,
          4.143055555555556,
          6.120833333333334,
          8.180555555555555,
          10.158333333333333,
          15.2
         ],
         "y": [
          0.0194,
          0.021,
          0.032,
          0.045,
          0.058,
          0.064,
          0.102
         ],
         "type": "scatter"
        },
        {
         "legendgroup": "1",
         "marker": {
          "color": "#EF553B"
         },
         "mode": "lines+markers",
         "opacity": 0.5,
         "showlegend": false,
         "x": [
          1.1916666666666667,
          2.1847222222222222,
          4.205555555555556,
          6.180555555555555,
          8.256944444444445,
          10.233333333333333,
          15.291666666666666
         ],
         "y": [
          0.054,
          0.054,
          0.083,
          0.098,
          0.1,
          0.141,
          0.15
         ],
         "type": "scatter"
        },
        {
         "legendgroup": "1",
         "marker": {
          "color": "#EF553B"
         },
         "mode": "lines+markers",
         "opacity": 0.5,
         "showlegend": false,
         "x": [
          1.2513888888888889,
          2.2416666666666667,
          4.273611111111111,
          6.2375,
          8.338888888888889,
          10.306944444444444,
          15.381944444444445
         ],
         "y": [
          0.032,
          0.039,
          0.073,
          0.111,
          0.145,
          0.169,
          0.2
         ],
         "type": "scatter"
        },
        {
         "legendgroup": "1",
         "marker": {
          "color": "#EF553B"
         },
         "mode": "lines+markers",
         "opacity": 0.5,
         "showlegend": false,
         "x": [
          1.2513888888888889,
          2.2416666666666667,
          4.273611111111111,
          6.2375,
          8.338888888888889,
          10.306944444444444,
          15.381944444444445
         ],
         "y": [
          0.042,
          0.047,
          0.069,
          0.084,
          0.092,
          0.105,
          0.109
         ],
         "type": "scatter"
        },
        {
         "legendgroup": "1",
         "marker": {
          "color": "#EF553B"
         },
         "mode": "lines+markers",
         "opacity": 0.5,
         "showlegend": false,
         "x": [
          1.3125,
          2.301388888888889,
          4.336111111111111,
          6.295833333333333,
          8.415277777777778,
          10.383333333333333,
          15.472222222222221
         ],
         "y": [
          0.05,
          0.063,
          0.093,
          0.116,
          0.139,
          0.146,
          0.137
         ],
         "type": "scatter"
        },
        {
         "legendgroup": "1",
         "marker": {
          "color": "#EF553B"
         },
         "mode": "lines+markers",
         "opacity": 0.5,
         "showlegend": false,
         "x": [
          1.3125,
          2.301388888888889,
          4.336111111111111,
          6.295833333333333,
          8.415277777777778,
          10.383333333333333,
          15.472222222222221
         ],
         "y": [
          0.021,
          0.026,
          0.027,
          0.028,
          0.028,
          0.036,
          0.037
         ],
         "type": "scatter"
        },
        {
         "legendgroup": "1",
         "marker": {
          "color": "#EF553B"
         },
         "mode": "lines+markers",
         "opacity": 0.5,
         "showlegend": false,
         "x": [
          1.3736111111111111,
          2.3694444444444445,
          4.409722222222222,
          6.358333333333333,
          8.501388888888888,
          10.466666666666667,
          15.568055555555556
         ],
         "y": [
          0.039,
          0.052,
          0.071,
          0.098,
          0.109,
          0.115,
          0.145
         ],
         "type": "scatter"
        },
        {
         "legendgroup": "1",
         "marker": {
          "color": "#EF553B"
         },
         "mode": "lines+markers",
         "opacity": 0.5,
         "showlegend": false,
         "x": [
          1.3736111111111111,
          2.3694444444444445,
          4.409722222222222,
          8.501388888888888,
          10.466666666666667,
          15.568055555555556
         ],
         "y": [
          0.049,
          0.069,
          0.1,
          0.135,
          0.143,
          0.158
         ],
         "type": "scatter"
        },
        {
         "legendgroup": "1",
         "marker": {
          "color": "#EF553B"
         },
         "mode": "lines+markers",
         "opacity": 0.5,
         "showlegend": false,
         "x": [
          1.4375,
          2.4305555555555554,
          4.475,
          6.416666666666667,
          8.581944444444444,
          10.541666666666666,
          15.658333333333333
         ],
         "y": [
          0.023,
          0.024,
          0.039,
          0.052,
          0.068,
          0.077,
          0.124
         ],
         "type": "scatter"
        },
        {
         "legendgroup": "1",
         "marker": {
          "color": "#EF553B"
         },
         "mode": "lines+markers",
         "opacity": 0.5,
         "showlegend": false,
         "x": [
          1.0055555555555555,
          2.011111111111111,
          4.018055555555556,
          6.008333333333334,
          8.016666666666667,
          10.011111111111111,
          15.016666666666667
         ],
         "y": [
          0.0025,
          0.0033,
          0.0106,
          0.0172,
          0.024,
          0.03,
          0.042
         ],
         "type": "scatter"
        },
        {
         "legendgroup": "1",
         "marker": {
          "color": "#EF553B"
         },
         "mode": "lines+markers",
         "opacity": 0.5,
         "showlegend": false,
         "x": [
          1.0055555555555555,
          2.011111111111111,
          4.018055555555556,
          6.008333333333334,
          8.016666666666667,
          10.011111111111111,
          15.016666666666667
         ],
         "y": [
          0.0035,
          0.0056,
          0.0102,
          0.0122,
          0.0127,
          0.0129,
          0.0125
         ],
         "type": "scatter"
        },
        {
         "legendgroup": "1",
         "marker": {
          "color": "#EF553B"
         },
         "mode": "lines+markers",
         "opacity": 0.5,
         "showlegend": false,
         "x": [
          4.0777777777777775,
          6.063888888888889,
          8.090277777777779,
          10.084722222222222,
          15.098611111111111
         ],
         "y": [
          0.0053,
          0.011,
          0.0175,
          0.023,
          0.037
         ],
         "type": "scatter"
        },
        {
         "legendgroup": "1",
         "marker": {
          "color": "#EF553B"
         },
         "mode": "lines+markers",
         "opacity": 0.5,
         "showlegend": false,
         "x": [
          1.073611111111111,
          2.0680555555555555,
          4.0777777777777775,
          6.063888888888889,
          8.090277777777779,
          10.084722222222222,
          15.098611111111111
         ],
         "y": [
          0.0026,
          0.0027,
          0.0028,
          0.0037,
          0.0116,
          0.02,
          0.054
         ],
         "type": "scatter"
        },
        {
         "legendgroup": "1",
         "marker": {
          "color": "#EF553B"
         },
         "mode": "lines+markers",
         "opacity": 0.5,
         "showlegend": false,
         "x": [
          1.1319444444444444,
          2.125,
          4.143055555555556,
          6.120833333333334,
          8.180555555555555,
          10.158333333333333,
          15.2
         ],
         "y": [
          0.0056,
          0.0116,
          0.03,
          0.045,
          0.053,
          0.057,
          0.056
         ],
         "type": "scatter"
        },
        {
         "legendgroup": "1",
         "marker": {
          "color": "#EF553B"
         },
         "mode": "lines+markers",
         "opacity": 0.5,
         "showlegend": false,
         "x": [
          1.1319444444444444,
          2.125,
          4.143055555555556,
          6.120833333333334,
          8.180555555555555,
          10.158333333333333,
          15.2
         ],
         "y": [
          0.0028,
          0.0028,
          0.0077,
          0.02,
          0.038,
          0.049,
          0.092
         ],
         "type": "scatter"
        },
        {
         "legendgroup": "1",
         "marker": {
          "color": "#EF553B"
         },
         "mode": "lines+markers",
         "opacity": 0.5,
         "showlegend": false,
         "x": [
          1.1916666666666667,
          2.1847222222222222,
          4.205555555555556,
          6.180555555555555,
          8.256944444444445,
          10.233333333333333,
          15.291666666666666
         ],
         "y": [
          0.0047,
          0.0077,
          0.035,
          0.058,
          0.083,
          0.099,
          0.157
         ],
         "type": "scatter"
        },
        {
         "legendgroup": "1",
         "marker": {
          "color": "#EF553B"
         },
         "mode": "lines+markers",
         "opacity": 0.5,
         "showlegend": false,
         "x": [
          4.273611111111111,
          6.2375,
          8.338888888888889,
          10.306944444444444,
          15.381944444444445
         ],
         "y": [
          0.0071,
          0.04,
          0.094,
          0.117,
          0.139
         ],
         "type": "scatter"
        },
        {
         "legendgroup": "1",
         "marker": {
          "color": "#EF553B"
         },
         "mode": "lines+markers",
         "opacity": 0.5,
         "showlegend": false,
         "x": [
          1.2513888888888889,
          2.2416666666666667,
          4.273611111111111,
          6.2375,
          8.338888888888889,
          10.306944444444444,
          15.381944444444445
         ],
         "y": [
          0.0033,
          0.0041,
          0.0065,
          0.0094,
          0.0128,
          0.0193,
          0.031
         ],
         "type": "scatter"
        },
        {
         "legendgroup": "1",
         "marker": {
          "color": "#EF553B"
         },
         "mode": "lines+markers",
         "opacity": 0.5,
         "showlegend": false,
         "x": [
          1.3125,
          2.301388888888889,
          4.336111111111111,
          6.295833333333333,
          10.383333333333333
         ],
         "y": [
          0.0035,
          0.0042,
          0.0053,
          0.0062,
          0.0058
         ],
         "type": "scatter"
        },
        {
         "legendgroup": "1",
         "marker": {
          "color": "#EF553B"
         },
         "mode": "lines+markers",
         "opacity": 0.5,
         "showlegend": false,
         "x": [
          6.358333333333333,
          8.501388888888888,
          10.466666666666667,
          15.568055555555556
         ],
         "y": [
          0.0152,
          0.029,
          0.042,
          0.072
         ],
         "type": "scatter"
        },
        {
         "legendgroup": "1",
         "marker": {
          "color": "#EF553B"
         },
         "mode": "lines+markers",
         "opacity": 0.5,
         "showlegend": false,
         "x": [
          1.3736111111111111,
          2.3694444444444445,
          4.409722222222222,
          6.358333333333333,
          8.501388888888888,
          10.466666666666667,
          15.568055555555556
         ],
         "y": [
          0.0088,
          0.0191,
          0.065,
          0.095,
          0.115,
          0.128,
          0.124
         ],
         "type": "scatter"
        },
        {
         "legendgroup": "1",
         "marker": {
          "color": "#EF553B"
         },
         "mode": "lines+markers",
         "opacity": 0.5,
         "showlegend": false,
         "x": [
          6.416666666666667,
          8.581944444444444,
          10.541666666666666,
          15.658333333333333
         ],
         "y": [
          0.0147,
          0.03,
          0.046,
          0.09
         ],
         "type": "scatter"
        },
        {
         "legendgroup": "1",
         "marker": {
          "color": "#EF553B"
         },
         "mode": "lines+markers",
         "opacity": 0.5,
         "showlegend": false,
         "x": [
          1.0055555555555555,
          2.011111111111111,
          4.018055555555556,
          6.008333333333334,
          8.016666666666667,
          10.011111111111111,
          15.016666666666667
         ],
         "y": [
          0.0025,
          0.0027,
          0.0029,
          0.0035,
          0.0042,
          0.0047,
          0.0074
         ],
         "type": "scatter"
        },
        {
         "legendgroup": "1",
         "marker": {
          "color": "#EF553B"
         },
         "mode": "lines+markers",
         "opacity": 0.5,
         "showlegend": false,
         "x": [
          1.0055555555555555,
          2.011111111111111,
          4.018055555555556,
          6.008333333333334,
          8.016666666666667,
          10.011111111111111,
          15.016666666666667
         ],
         "y": [
          0.0026,
          0.0034,
          0.0048,
          0.0069,
          0.0077,
          0.0095,
          0.0118
         ],
         "type": "scatter"
        },
        {
         "legendgroup": "1",
         "marker": {
          "color": "#EF553B"
         },
         "mode": "lines+markers",
         "opacity": 0.5,
         "showlegend": false,
         "x": [
          1.073611111111111,
          2.0680555555555555,
          4.0777777777777775,
          6.063888888888889,
          8.090277777777779,
          10.084722222222222,
          15.098611111111111
         ],
         "y": [
          0.0025,
          0.003,
          0.004,
          0.0048,
          0.009,
          0.0092,
          0.0108
         ],
         "type": "scatter"
        },
        {
         "legendgroup": "1",
         "marker": {
          "color": "#EF553B"
         },
         "name": "Mn over time",
         "x": [
          null
         ],
         "y": [
          null
         ],
         "type": "scatter"
        },
        {
         "legendgroup": "2",
         "marker": {
          "color": "#00CC96"
         },
         "mode": "lines+markers",
         "opacity": 0.5,
         "showlegend": false,
         "x": [
          1.0055555555555555,
          2.011111111111111,
          4.018055555555556,
          6.008333333333334,
          8.016666666666667,
          10.011111111111111,
          15.016666666666667
         ],
         "y": [
          0.032,
          0.038,
          0.056,
          0.07,
          0.085,
          0.098,
          0.127
         ],
         "type": "scatter"
        },
        {
         "legendgroup": "2",
         "marker": {
          "color": "#00CC96"
         },
         "mode": "lines+markers",
         "opacity": 0.5,
         "showlegend": false,
         "x": [
          1.0055555555555555,
          2.011111111111111,
          6.008333333333334,
          8.016666666666667,
          10.011111111111111,
          15.016666666666667
         ],
         "y": [
          0.041,
          0.049,
          0.082,
          0.093,
          0.103,
          0.121
         ],
         "type": "scatter"
        },
        {
         "legendgroup": "2",
         "marker": {
          "color": "#00CC96"
         },
         "mode": "lines+markers",
         "opacity": 0.5,
         "showlegend": false,
         "x": [
          1.073611111111111,
          2.0680555555555555,
          4.0777777777777775,
          6.063888888888889,
          8.090277777777779,
          10.084722222222222,
          15.098611111111111
         ],
         "y": [
          0.0198,
          0.024,
          0.035,
          0.046,
          0.059,
          0.064,
          0.107
         ],
         "type": "scatter"
        },
        {
         "legendgroup": "2",
         "marker": {
          "color": "#00CC96"
         },
         "mode": "lines+markers",
         "opacity": 0.5,
         "showlegend": false,
         "x": [
          1.073611111111111,
          2.0680555555555555,
          4.0777777777777775,
          6.063888888888889,
          8.090277777777779,
          10.084722222222222,
          15.098611111111111
         ],
         "y": [
          0.043,
          0.049,
          0.076,
          0.099,
          0.12,
          0.133,
          0.178
         ],
         "type": "scatter"
        },
        {
         "legendgroup": "2",
         "marker": {
          "color": "#00CC96"
         },
         "mode": "lines+markers",
         "opacity": 0.5,
         "showlegend": false,
         "x": [
          1.1319444444444444,
          2.125,
          4.143055555555556,
          6.120833333333334,
          8.180555555555555,
          10.158333333333333,
          15.2
         ],
         "y": [
          0.051,
          0.058,
          0.072,
          0.093,
          0.116,
          0.141,
          0.22
         ],
         "type": "scatter"
        },
        {
         "legendgroup": "2",
         "marker": {
          "color": "#00CC96"
         },
         "mode": "lines+markers",
         "opacity": 0.5,
         "showlegend": false,
         "x": [
          1.1319444444444444,
          2.125,
          4.143055555555556,
          6.120833333333334,
          8.180555555555555,
          10.158333333333333,
          15.2
         ],
         "y": [
          0.024,
          0.027,
          0.04,
          0.055,
          0.071,
          0.084,
          0.128
         ],
         "type": "scatter"
        },
        {
         "legendgroup": "2",
         "marker": {
          "color": "#00CC96"
         },
         "mode": "lines+markers",
         "opacity": 0.5,
         "showlegend": false,
         "x": [
          1.1916666666666667,
          2.1847222222222222,
          4.205555555555556,
          8.256944444444445,
          10.233333333333333,
          15.291666666666666
         ],
         "y": [
          0.067,
          0.064,
          0.091,
          0.13,
          0.21,
          0.21
         ],
         "type": "scatter"
        },
        {
         "legendgroup": "2",
         "marker": {
          "color": "#00CC96"
         },
         "mode": "lines+markers",
         "opacity": 0.5,
         "showlegend": false,
         "x": [
          1.2513888888888889,
          2.2416666666666667,
          4.273611111111111,
          6.2375,
          8.338888888888889,
          10.306944444444444,
          15.381944444444445
         ],
         "y": [
          0.041,
          0.047,
          0.088,
          0.132,
          0.17,
          0.199,
          0.25
         ],
         "type": "scatter"
        },
        {
         "legendgroup": "2",
         "marker": {
          "color": "#00CC96"
         },
         "mode": "lines+markers",
         "opacity": 0.5,
         "showlegend": false,
         "x": [
          1.2513888888888889,
          2.2416666666666667,
          4.273611111111111,
          6.2375,
          8.338888888888889,
          10.306944444444444,
          15.381944444444445
         ],
         "y": [
          0.056,
          0.063,
          0.089,
          0.11,
          0.127,
          0.14,
          0.168
         ],
         "type": "scatter"
        },
        {
         "legendgroup": "2",
         "marker": {
          "color": "#00CC96"
         },
         "mode": "lines+markers",
         "opacity": 0.5,
         "showlegend": false,
         "x": [
          1.3125,
          2.301388888888889,
          4.336111111111111,
          6.295833333333333,
          8.415277777777778,
          10.383333333333333,
          15.472222222222221
         ],
         "y": [
          0.069,
          0.085,
          0.121,
          0.15,
          0.175,
          0.192,
          0.21
         ],
         "type": "scatter"
        },
        {
         "legendgroup": "2",
         "marker": {
          "color": "#00CC96"
         },
         "mode": "lines+markers",
         "opacity": 0.5,
         "showlegend": false,
         "x": [
          1.3125,
          2.301388888888889,
          4.336111111111111,
          6.295833333333333,
          8.415277777777778,
          10.383333333333333,
          15.472222222222221
         ],
         "y": [
          0.029,
          0.032,
          0.033,
          0.034,
          0.035,
          0.041,
          0.049
         ],
         "type": "scatter"
        },
        {
         "legendgroup": "2",
         "marker": {
          "color": "#00CC96"
         },
         "mode": "lines+markers",
         "opacity": 0.5,
         "showlegend": false,
         "x": [
          1.3736111111111111,
          2.3694444444444445,
          4.409722222222222,
          6.358333333333333,
          8.501388888888888,
          10.466666666666667,
          15.568055555555556
         ],
         "y": [
          0.055,
          0.065,
          0.093,
          0.121,
          0.141,
          0.155,
          0.2
         ],
         "type": "scatter"
        },
        {
         "legendgroup": "2",
         "marker": {
          "color": "#00CC96"
         },
         "mode": "lines+markers",
         "opacity": 0.5,
         "showlegend": false,
         "x": [
          1.3736111111111111,
          2.3694444444444445,
          4.409722222222222,
          8.501388888888888,
          10.466666666666667,
          15.568055555555556
         ],
         "y": [
          0.069,
          0.09,
          0.125,
          0.167,
          0.177,
          0.194
         ],
         "type": "scatter"
        },
        {
         "legendgroup": "2",
         "marker": {
          "color": "#00CC96"
         },
         "mode": "lines+markers",
         "opacity": 0.5,
         "showlegend": false,
         "x": [
          1.4375,
          2.4305555555555554,
          4.475,
          6.416666666666667,
          8.581944444444444,
          10.541666666666666,
          15.658333333333333
         ],
         "y": [
          0.031,
          0.032,
          0.05,
          0.068,
          0.089,
          0.103,
          0.179
         ],
         "type": "scatter"
        },
        {
         "legendgroup": "2",
         "marker": {
          "color": "#00CC96"
         },
         "mode": "lines+markers",
         "opacity": 0.5,
         "showlegend": false,
         "x": [
          1.0055555555555555,
          2.011111111111111,
          4.018055555555556,
          6.008333333333334,
          8.016666666666667,
          10.011111111111111,
          15.016666666666667
         ],
         "y": [
          0.0026,
          0.0036,
          0.0115,
          0.0191,
          0.03,
          0.044,
          0.055
         ],
         "type": "scatter"
        },
        {
         "legendgroup": "2",
         "marker": {
          "color": "#00CC96"
         },
         "mode": "lines+markers",
         "opacity": 0.5,
         "showlegend": false,
         "x": [
          1.0055555555555555,
          2.011111111111111,
          4.018055555555556,
          6.008333333333334,
          8.016666666666667,
          10.011111111111111,
          15.016666666666667
         ],
         "y": [
          0.0036,
          0.0063,
          0.0112,
          0.0132,
          0.0136,
          0.0137,
          0.0133
         ],
         "type": "scatter"
        },
        {
         "legendgroup": "2",
         "marker": {
          "color": "#00CC96"
         },
         "mode": "lines+markers",
         "opacity": 0.5,
         "showlegend": false,
         "x": [
          4.0777777777777775,
          6.063888888888889,
          8.090277777777779,
          10.084722222222222,
          15.098611111111111
         ],
         "y": [
          0.0061,
          0.0121,
          0.0191,
          0.025,
          0.051
         ],
         "type": "scatter"
        },
        {
         "legendgroup": "2",
         "marker": {
          "color": "#00CC96"
         },
         "mode": "lines+markers",
         "opacity": 0.5,
         "showlegend": false,
         "x": [
          1.073611111111111,
          2.0680555555555555,
          4.0777777777777775,
          6.063888888888889,
          8.090277777777779,
          10.084722222222222,
          15.098611111111111
         ],
         "y": [
          0.0027,
          0.0027,
          0.003,
          0.0042,
          0.013,
          0.022,
          0.059
         ],
         "type": "scatter"
        },
        {
         "legendgroup": "2",
         "marker": {
          "color": "#00CC96"
         },
         "mode": "lines+markers",
         "opacity": 0.5,
         "showlegend": false,
         "x": [
          1.1319444444444444,
          2.125,
          4.143055555555556,
          6.120833333333334,
          8.180555555555555,
          10.158333333333333,
          15.2
         ],
         "y": [
          0.0066,
          0.0122,
          0.033,
          0.048,
          0.06,
          0.065,
          0.073
         ],
         "type": "scatter"
        },
        {
         "legendgroup": "2",
         "marker": {
          "color": "#00CC96"
         },
         "mode": "lines+markers",
         "opacity": 0.5,
         "showlegend": false,
         "x": [
          1.1319444444444444,
          2.125,
          4.143055555555556,
          6.120833333333334,
          8.180555555555555,
          10.158333333333333,
          15.2
         ],
         "y": [
          0.0029,
          0.0029,
          0.0084,
          0.022,
          0.042,
          0.057,
          0.113
         ],
         "type": "scatter"
        },
        {
         "legendgroup": "2",
         "marker": {
          "color": "#00CC96"
         },
         "mode": "lines+markers",
         "opacity": 0.5,
         "showlegend": false,
         "x": [
          1.1916666666666667,
          2.1847222222222222,
          4.205555555555556,
          6.180555555555555,
          8.256944444444445,
          10.233333333333333,
          15.291666666666666
         ],
         "y": [
          0.0051,
          0.008,
          0.038,
          0.062,
          0.113,
          0.162,
          0.31
         ],
         "type": "scatter"
        },
        {
         "legendgroup": "2",
         "marker": {
          "color": "#00CC96"
         },
         "mode": "lines+markers",
         "opacity": 0.5,
         "showlegend": false,
         "x": [
          4.273611111111111,
          6.2375,
          8.338888888888889,
          10.306944444444444,
          15.381944444444445
         ],
         "y": [
          0.0071,
          0.045,
          0.105,
          0.143,
          0.169
         ],
         "type": "scatter"
        },
        {
         "legendgroup": "2",
         "marker": {
          "color": "#00CC96"
         },
         "mode": "lines+markers",
         "opacity": 0.5,
         "showlegend": false,
         "x": [
          1.2513888888888889,
          2.2416666666666667,
          4.273611111111111,
          6.2375,
          8.338888888888889,
          10.306944444444444,
          15.381944444444445
         ],
         "y": [
          0.0036,
          0.0045,
          0.0072,
          0.011,
          0.0155,
          0.021,
          0.036
         ],
         "type": "scatter"
        },
        {
         "legendgroup": "2",
         "marker": {
          "color": "#00CC96"
         },
         "mode": "lines+markers",
         "opacity": 0.5,
         "showlegend": false,
         "x": [
          1.3125,
          2.301388888888889,
          4.336111111111111,
          6.295833333333333,
          10.383333333333333
         ],
         "y": [
          0.0038,
          0.0046,
          0.0056,
          0.0067,
          0.0061
         ],
         "type": "scatter"
        },
        {
         "legendgroup": "2",
         "marker": {
          "color": "#00CC96"
         },
         "mode": "lines+markers",
         "opacity": 0.5,
         "showlegend": false,
         "x": [
          6.358333333333333,
          8.501388888888888,
          10.466666666666667,
          15.568055555555556
         ],
         "y": [
          0.0166,
          0.034,
          0.047,
          0.096
         ],
         "type": "scatter"
        },
        {
         "legendgroup": "2",
         "marker": {
          "color": "#00CC96"
         },
         "mode": "lines+markers",
         "opacity": 0.5,
         "showlegend": false,
         "x": [
          1.3736111111111111,
          4.409722222222222,
          6.358333333333333,
          8.501388888888888,
          10.466666666666667,
          15.568055555555556
         ],
         "y": [
          0.01,
          0.072,
          0.107,
          0.132,
          0.149,
          0.183
         ],
         "type": "scatter"
        },
        {
         "legendgroup": "2",
         "marker": {
          "color": "#00CC96"
         },
         "mode": "lines+markers",
         "opacity": 0.5,
         "showlegend": false,
         "x": [
          6.416666666666667,
          8.581944444444444,
          10.541666666666666,
          15.658333333333333
         ],
         "y": [
          0.0162,
          0.034,
          0.05,
          0.119
         ],
         "type": "scatter"
        },
        {
         "legendgroup": "2",
         "marker": {
          "color": "#00CC96"
         },
         "mode": "lines+markers",
         "opacity": 0.5,
         "showlegend": false,
         "x": [
          1.0055555555555555,
          2.011111111111111,
          4.018055555555556,
          6.008333333333334,
          8.016666666666667,
          10.011111111111111,
          15.016666666666667
         ],
         "y": [
          0.0027,
          0.0029,
          0.0032,
          0.0038,
          0.0048,
          0.0055,
          0.01
         ],
         "type": "scatter"
        },
        {
         "legendgroup": "2",
         "marker": {
          "color": "#00CC96"
         },
         "mode": "lines+markers",
         "opacity": 0.5,
         "showlegend": false,
         "x": [
          1.0055555555555555,
          2.011111111111111,
          4.018055555555556,
          6.008333333333334,
          8.016666666666667,
          10.011111111111111,
          15.016666666666667
         ],
         "y": [
          0.0028,
          0.0036,
          0.0055,
          0.0078,
          0.0094,
          0.0113,
          0.0147
         ],
         "type": "scatter"
        },
        {
         "legendgroup": "2",
         "marker": {
          "color": "#00CC96"
         },
         "mode": "lines+markers",
         "opacity": 0.5,
         "showlegend": false,
         "x": [
          1.073611111111111,
          2.0680555555555555,
          4.0777777777777775,
          6.063888888888889,
          8.090277777777779,
          10.084722222222222,
          15.098611111111111
         ],
         "y": [
          0.0027,
          0.0032,
          0.0046,
          0.0061,
          0.0094,
          0.0113,
          0.018
         ],
         "type": "scatter"
        },
        {
         "legendgroup": "2",
         "marker": {
          "color": "#00CC96"
         },
         "name": "Mw over time",
         "x": [
          null
         ],
         "y": [
          null
         ],
         "type": "scatter"
        },
        {
         "legendgroup": "threshold",
         "line": {
          "dash": "dash"
         },
         "mode": "lines",
         "name": "SEC limit",
         "x": [
          0,
          16
         ],
         "y": [
          0.01,
          0.01
         ],
         "type": "scatter"
        }
       ],
       "layout": {
        "template": {
         "data": {
          "histogram2dcontour": [
           {
            "type": "histogram2dcontour",
            "colorbar": {
             "outlinewidth": 0,
             "ticks": ""
            },
            "colorscale": [
             [
              0.0,
              "#0d0887"
             ],
             [
              0.1111111111111111,
              "#46039f"
             ],
             [
              0.2222222222222222,
              "#7201a8"
             ],
             [
              0.3333333333333333,
              "#9c179e"
             ],
             [
              0.4444444444444444,
              "#bd3786"
             ],
             [
              0.5555555555555556,
              "#d8576b"
             ],
             [
              0.6666666666666666,
              "#ed7953"
             ],
             [
              0.7777777777777778,
              "#fb9f3a"
             ],
             [
              0.8888888888888888,
              "#fdca26"
             ],
             [
              1.0,
              "#f0f921"
             ]
            ]
           }
          ],
          "choropleth": [
           {
            "type": "choropleth",
            "colorbar": {
             "outlinewidth": 0,
             "ticks": ""
            }
           }
          ],
          "histogram2d": [
           {
            "type": "histogram2d",
            "colorbar": {
             "outlinewidth": 0,
             "ticks": ""
            },
            "colorscale": [
             [
              0.0,
              "#0d0887"
             ],
             [
              0.1111111111111111,
              "#46039f"
             ],
             [
              0.2222222222222222,
              "#7201a8"
             ],
             [
              0.3333333333333333,
              "#9c179e"
             ],
             [
              0.4444444444444444,
              "#bd3786"
             ],
             [
              0.5555555555555556,
              "#d8576b"
             ],
             [
              0.6666666666666666,
              "#ed7953"
             ],
             [
              0.7777777777777778,
              "#fb9f3a"
             ],
             [
              0.8888888888888888,
              "#fdca26"
             ],
             [
              1.0,
              "#f0f921"
             ]
            ]
           }
          ],
          "heatmap": [
           {
            "type": "heatmap",
            "colorbar": {
             "outlinewidth": 0,
             "ticks": ""
            },
            "colorscale": [
             [
              0.0,
              "#0d0887"
             ],
             [
              0.1111111111111111,
              "#46039f"
             ],
             [
              0.2222222222222222,
              "#7201a8"
             ],
             [
              0.3333333333333333,
              "#9c179e"
             ],
             [
              0.4444444444444444,
              "#bd3786"
             ],
             [
              0.5555555555555556,
              "#d8576b"
             ],
             [
              0.6666666666666666,
              "#ed7953"
             ],
             [
              0.7777777777777778,
              "#fb9f3a"
             ],
             [
              0.8888888888888888,
              "#fdca26"
             ],
             [
              1.0,
              "#f0f921"
             ]
            ]
           }
          ],
          "heatmapgl": [
           {
            "type": "heatmapgl",
            "colorbar": {
             "outlinewidth": 0,
             "ticks": ""
            },
            "colorscale": [
             [
              0.0,
              "#0d0887"
             ],
             [
              0.1111111111111111,
              "#46039f"
             ],
             [
              0.2222222222222222,
              "#7201a8"
             ],
             [
              0.3333333333333333,
              "#9c179e"
             ],
             [
              0.4444444444444444,
              "#bd3786"
             ],
             [
              0.5555555555555556,
              "#d8576b"
             ],
             [
              0.6666666666666666,
              "#ed7953"
             ],
             [
              0.7777777777777778,
              "#fb9f3a"
             ],
             [
              0.8888888888888888,
              "#fdca26"
             ],
             [
              1.0,
              "#f0f921"
             ]
            ]
           }
          ],
          "contourcarpet": [
           {
            "type": "contourcarpet",
            "colorbar": {
             "outlinewidth": 0,
             "ticks": ""
            }
           }
          ],
          "contour": [
           {
            "type": "contour",
            "colorbar": {
             "outlinewidth": 0,
             "ticks": ""
            },
            "colorscale": [
             [
              0.0,
              "#0d0887"
             ],
             [
              0.1111111111111111,
              "#46039f"
             ],
             [
              0.2222222222222222,
              "#7201a8"
             ],
             [
              0.3333333333333333,
              "#9c179e"
             ],
             [
              0.4444444444444444,
              "#bd3786"
             ],
             [
              0.5555555555555556,
              "#d8576b"
             ],
             [
              0.6666666666666666,
              "#ed7953"
             ],
             [
              0.7777777777777778,
              "#fb9f3a"
             ],
             [
              0.8888888888888888,
              "#fdca26"
             ],
             [
              1.0,
              "#f0f921"
             ]
            ]
           }
          ],
          "surface": [
           {
            "type": "surface",
            "colorbar": {
             "outlinewidth": 0,
             "ticks": ""
            },
            "colorscale": [
             [
              0.0,
              "#0d0887"
             ],
             [
              0.1111111111111111,
              "#46039f"
             ],
             [
              0.2222222222222222,
              "#7201a8"
             ],
             [
              0.3333333333333333,
              "#9c179e"
             ],
             [
              0.4444444444444444,
              "#bd3786"
             ],
             [
              0.5555555555555556,
              "#d8576b"
             ],
             [
              0.6666666666666666,
              "#ed7953"
             ],
             [
              0.7777777777777778,
              "#fb9f3a"
             ],
             [
              0.8888888888888888,
              "#fdca26"
             ],
             [
              1.0,
              "#f0f921"
             ]
            ]
           }
          ],
          "mesh3d": [
           {
            "type": "mesh3d",
            "colorbar": {
             "outlinewidth": 0,
             "ticks": ""
            }
           }
          ],
          "scatter": [
           {
            "fillpattern": {
             "fillmode": "overlay",
             "size": 10,
             "solidity": 0.2
            },
            "type": "scatter"
           }
          ],
          "parcoords": [
           {
            "type": "parcoords",
            "line": {
             "colorbar": {
              "outlinewidth": 0,
              "ticks": ""
             }
            }
           }
          ],
          "scatterpolargl": [
           {
            "type": "scatterpolargl",
            "marker": {
             "colorbar": {
              "outlinewidth": 0,
              "ticks": ""
             }
            }
           }
          ],
          "bar": [
           {
            "error_x": {
             "color": "#2a3f5f"
            },
            "error_y": {
             "color": "#2a3f5f"
            },
            "marker": {
             "line": {
              "color": "#E5ECF6",
              "width": 0.5
             },
             "pattern": {
              "fillmode": "overlay",
              "size": 10,
              "solidity": 0.2
             }
            },
            "type": "bar"
           }
          ],
          "scattergeo": [
           {
            "type": "scattergeo",
            "marker": {
             "colorbar": {
              "outlinewidth": 0,
              "ticks": ""
             }
            }
           }
          ],
          "scatterpolar": [
           {
            "type": "scatterpolar",
            "marker": {
             "colorbar": {
              "outlinewidth": 0,
              "ticks": ""
             }
            }
           }
          ],
          "histogram": [
           {
            "marker": {
             "pattern": {
              "fillmode": "overlay",
              "size": 10,
              "solidity": 0.2
             }
            },
            "type": "histogram"
           }
          ],
          "scattergl": [
           {
            "type": "scattergl",
            "marker": {
             "colorbar": {
              "outlinewidth": 0,
              "ticks": ""
             }
            }
           }
          ],
          "scatter3d": [
           {
            "type": "scatter3d",
            "line": {
             "colorbar": {
              "outlinewidth": 0,
              "ticks": ""
             }
            },
            "marker": {
             "colorbar": {
              "outlinewidth": 0,
              "ticks": ""
             }
            }
           }
          ],
          "scattermapbox": [
           {
            "type": "scattermapbox",
            "marker": {
             "colorbar": {
              "outlinewidth": 0,
              "ticks": ""
             }
            }
           }
          ],
          "scatterternary": [
           {
            "type": "scatterternary",
            "marker": {
             "colorbar": {
              "outlinewidth": 0,
              "ticks": ""
             }
            }
           }
          ],
          "scattercarpet": [
           {
            "type": "scattercarpet",
            "marker": {
             "colorbar": {
              "outlinewidth": 0,
              "ticks": ""
             }
            }
           }
          ],
          "carpet": [
           {
            "aaxis": {
             "endlinecolor": "#2a3f5f",
             "gridcolor": "white",
             "linecolor": "white",
             "minorgridcolor": "white",
             "startlinecolor": "#2a3f5f"
            },
            "baxis": {
             "endlinecolor": "#2a3f5f",
             "gridcolor": "white",
             "linecolor": "white",
             "minorgridcolor": "white",
             "startlinecolor": "#2a3f5f"
            },
            "type": "carpet"
           }
          ],
          "table": [
           {
            "cells": {
             "fill": {
              "color": "#EBF0F8"
             },
             "line": {
              "color": "white"
             }
            },
            "header": {
             "fill": {
              "color": "#C8D4E3"
             },
             "line": {
              "color": "white"
             }
            },
            "type": "table"
           }
          ],
          "barpolar": [
           {
            "marker": {
             "line": {
              "color": "#E5ECF6",
              "width": 0.5
             },
             "pattern": {
              "fillmode": "overlay",
              "size": 10,
              "solidity": 0.2
             }
            },
            "type": "barpolar"
           }
          ],
          "pie": [
           {
            "automargin": true,
            "type": "pie"
           }
          ]
         },
         "layout": {
          "autotypenumbers": "strict",
          "colorway": [
           "#636efa",
           "#EF553B",
           "#00cc96",
           "#ab63fa",
           "#FFA15A",
           "#19d3f3",
           "#FF6692",
           "#B6E880",
           "#FF97FF",
           "#FECB52"
          ],
          "font": {
           "color": "#2a3f5f"
          },
          "hovermode": "closest",
          "hoverlabel": {
           "align": "left"
          },
          "paper_bgcolor": "white",
          "plot_bgcolor": "#E5ECF6",
          "polar": {
           "bgcolor": "#E5ECF6",
           "angularaxis": {
            "gridcolor": "white",
            "linecolor": "white",
            "ticks": ""
           },
           "radialaxis": {
            "gridcolor": "white",
            "linecolor": "white",
            "ticks": ""
           }
          },
          "ternary": {
           "bgcolor": "#E5ECF6",
           "aaxis": {
            "gridcolor": "white",
            "linecolor": "white",
            "ticks": ""
           },
           "baxis": {
            "gridcolor": "white",
            "linecolor": "white",
            "ticks": ""
           },
           "caxis": {
            "gridcolor": "white",
            "linecolor": "white",
            "ticks": ""
           }
          },
          "coloraxis": {
           "colorbar": {
            "outlinewidth": 0,
            "ticks": ""
           }
          },
          "colorscale": {
           "sequential": [
            [
             0.0,
             "#0d0887"
            ],
            [
             0.1111111111111111,
             "#46039f"
            ],
            [
             0.2222222222222222,
             "#7201a8"
            ],
            [
             0.3333333333333333,
             "#9c179e"
            ],
            [
             0.4444444444444444,
             "#bd3786"
            ],
            [
             0.5555555555555556,
             "#d8576b"
            ],
            [
             0.6666666666666666,
             "#ed7953"
            ],
            [
             0.7777777777777778,
             "#fb9f3a"
            ],
            [
             0.8888888888888888,
             "#fdca26"
            ],
            [
             1.0,
             "#f0f921"
            ]
           ],
           "sequentialminus": [
            [
             0.0,
             "#0d0887"
            ],
            [
             0.1111111111111111,
             "#46039f"
            ],
            [
             0.2222222222222222,
             "#7201a8"
            ],
            [
             0.3333333333333333,
             "#9c179e"
            ],
            [
             0.4444444444444444,
             "#bd3786"
            ],
            [
             0.5555555555555556,
             "#d8576b"
            ],
            [
             0.6666666666666666,
             "#ed7953"
            ],
            [
             0.7777777777777778,
             "#fb9f3a"
            ],
            [
             0.8888888888888888,
             "#fdca26"
            ],
            [
             1.0,
             "#f0f921"
            ]
           ],
           "diverging": [
            [
             0,
             "#8e0152"
            ],
            [
             0.1,
             "#c51b7d"
            ],
            [
             0.2,
             "#de77ae"
            ],
            [
             0.3,
             "#f1b6da"
            ],
            [
             0.4,
             "#fde0ef"
            ],
            [
             0.5,
             "#f7f7f7"
            ],
            [
             0.6,
             "#e6f5d0"
            ],
            [
             0.7,
             "#b8e186"
            ],
            [
             0.8,
             "#7fbc41"
            ],
            [
             0.9,
             "#4d9221"
            ],
            [
             1,
             "#276419"
            ]
           ]
          },
          "xaxis": {
           "gridcolor": "white",
           "linecolor": "white",
           "ticks": "",
           "title": {
            "standoff": 15
           },
           "zerolinecolor": "white",
           "automargin": true,
           "zerolinewidth": 2
          },
          "yaxis": {
           "gridcolor": "white",
           "linecolor": "white",
           "ticks": "",
           "title": {
            "standoff": 15
           },
           "zerolinecolor": "white",
           "automargin": true,
           "zerolinewidth": 2
          },
          "scene": {
           "xaxis": {
            "backgroundcolor": "#E5ECF6",
            "gridcolor": "white",
            "linecolor": "white",
            "showbackground": true,
            "ticks": "",
            "zerolinecolor": "white",
            "gridwidth": 2
           },
           "yaxis": {
            "backgroundcolor": "#E5ECF6",
            "gridcolor": "white",
            "linecolor": "white",
            "showbackground": true,
            "ticks": "",
            "zerolinecolor": "white",
            "gridwidth": 2
           },
           "zaxis": {
            "backgroundcolor": "#E5ECF6",
            "gridcolor": "white",
            "linecolor": "white",
            "showbackground": true,
            "ticks": "",
            "zerolinecolor": "white",
            "gridwidth": 2
           }
          },
          "shapedefaults": {
           "line": {
            "color": "#2a3f5f"
           }
          },
          "annotationdefaults": {
           "arrowcolor": "#2a3f5f",
           "arrowhead": 0,
           "arrowwidth": 1
          },
          "geo": {
           "bgcolor": "white",
           "landcolor": "#E5ECF6",
           "subunitcolor": "white",
           "showland": true,
           "showlakes": true,
           "lakecolor": "white"
          },
          "title": {
           "x": 0.05
          },
          "mapbox": {
           "style": "light"
          }
         }
        },
        "xaxis": {
         "anchor": "y",
         "domain": [
          0.0,
          1.0
         ],
         "title": {
          "text": "Time [h]"
         }
        },
        "yaxis": {
         "anchor": "x",
         "domain": [
          0.0,
          1.0
         ],
         "title": {
          "text": "$\\text{Mn, Mw }[g/mol] \\cdot 10^{-5}/ \\ [ \\%]$"
         }
        },
        "legend": {
         "tracegroupgap": 0,
         "orientation": "h",
         "yanchor": "bottom",
         "y": 1.05,
         "xanchor": "left",
         "x": -0.1
        },
        "title": {
         "text": "Mn Conversion difference"
        }
       },
       "config": {
        "plotlyServerURL": "https://plot.ly"
       }
      },
      "text/html": "<div>                            <div id=\"82463b37-a6e5-4541-950f-e795bcbee0e3\" class=\"plotly-graph-div\" style=\"height:525px; width:100%;\"></div>            <script type=\"text/javascript\">                require([\"plotly\"], function(Plotly) {                    window.PLOTLYENV=window.PLOTLYENV || {};                                    if (document.getElementById(\"82463b37-a6e5-4541-950f-e795bcbee0e3\")) {                    Plotly.newPlot(                        \"82463b37-a6e5-4541-950f-e795bcbee0e3\",                        [{\"hovertemplate\":\"\\u003cextra\\u003e\\u003c\\u002fextra\\u003e\",\"legendgroup\":\"\",\"line\":{\"color\":\"#636efa\",\"dash\":\"solid\"},\"marker\":{\"symbol\":\"circle\"},\"mode\":\"lines\",\"name\":\"\",\"orientation\":\"v\",\"showlegend\":false,\"xaxis\":\"x\",\"yaxis\":\"y\",\"type\":\"scatter\"},{\"legendgroup\":\"0\",\"marker\":{\"color\":\"#636EFA\"},\"mode\":\"lines+markers\",\"opacity\":0.5,\"showlegend\":false,\"x\":[0.0,2.011111111111111,4.018055555555556,8.016666666666667,15.016666666666667],\"y\":[0.0,0.10436494913029215,0.2057761732851986,0.3321299638989169,0.5165736790285527],\"type\":\"scatter\"},{\"legendgroup\":\"0\",\"marker\":{\"color\":\"#636EFA\"},\"mode\":\"lines+markers\",\"opacity\":0.5,\"showlegend\":false,\"x\":[0.0,2.011111111111111,4.018055555555556,8.016666666666667,15.016666666666667],\"y\":[0.0,0.18921601058551107,0.327820046311611,0.5203440291101555,0.6973205425074429],\"type\":\"scatter\"},{\"legendgroup\":\"0\",\"marker\":{\"color\":\"#636EFA\"},\"mode\":\"lines+markers\",\"opacity\":0.5,\"showlegend\":false,\"x\":[0.0,4.0777777777777775,8.090277777777779,15.098611111111111],\"y\":[0.0,0.09824902723735407,0.1877431906614786,0.3232814526588845],\"type\":\"scatter\"},{\"legendgroup\":\"0\",\"marker\":{\"color\":\"#636EFA\"},\"mode\":\"lines+markers\",\"opacity\":0.5,\"showlegend\":false,\"x\":[0.0,1.073611111111111,2.0680555555555555,4.0777777777777775,8.090277777777779,15.098611111111111],\"y\":[0.0,0.06908094948265364,0.09403530127814974,0.20572124163116257,0.3740109555690809,0.5651247717589775],\"type\":\"scatter\"},{\"legendgroup\":\"0\",\"marker\":{\"color\":\"#636EFA\"},\"mode\":\"lines+markers\",\"opacity\":0.5,\"showlegend\":false,\"x\":[0.0,1.1319444444444444,2.125,8.180555555555555,15.2],\"y\":[0.0,0.11448317307692302,0.18088942307692302,0.5345552884615384,0.7905649038461539],\"type\":\"scatter\"},{\"legendgroup\":\"0\",\"marker\":{\"color\":\"#636EFA\"},\"mode\":\"lines+markers\",\"opacity\":0.5,\"showlegend\":false,\"x\":[0.0,1.1319444444444444,2.125,4.143055555555556,8.180555555555555,15.2],\"y\":[0.0,0.053034947884733286,0.05211526670754141,0.07541385652973631,0.17841814837522985,0.3289393010423053],\"type\":\"scatter\"},{\"legendgroup\":\"0\",\"marker\":{\"color\":\"#636EFA\"},\"mode\":\"lines+markers\",\"opacity\":0.5,\"showlegend\":false,\"x\":[0.0,1.1916666666666667,2.1847222222222222,4.205555555555556],\"y\":[0.0,0.052168982137794195,0.08477459597391546,0.14006237595690396],\"type\":\"scatter\"},{\"legendgroup\":\"0\",\"marker\":{\"color\":\"#636EFA\"},\"mode\":\"lines+markers\",\"opacity\":0.5,\"showlegend\":false,\"x\":[0.0,1.2513888888888889,2.2416666666666667,4.273611111111111,8.338888888888889,15.381944444444445],\"y\":[0.0,-0.02573529411764719,0.06832107843137247,0.13817401960784303,0.4099264705882353,0.6681985294117647],\"type\":\"scatter\"},{\"legendgroup\":\"0\",\"marker\":{\"color\":\"#636EFA\"},\"mode\":\"lines+markers\",\"opacity\":0.5,\"showlegend\":false,\"x\":[0.0,1.2513888888888889,2.2416666666666667,4.273611111111111,8.338888888888889,15.381944444444445],\"y\":[0.0,0.05710989327949234,0.08191520046149414,0.12460340351889243,0.17623305451398907,0.13931352754542836],\"type\":\"scatter\"},{\"legendgroup\":\"0\",\"marker\":{\"color\":\"#636EFA\"},\"mode\":\"lines+markers\",\"opacity\":0.5,\"showlegend\":false,\"x\":[0.0,1.3125,2.301388888888889,4.336111111111111,8.415277777777778,15.472222222222221],\"y\":[0.0,0.12694224567575485,0.18733509234828505,0.3685136323658751,0.5675754910583406,0.7074171797126942],\"type\":\"scatter\"},{\"legendgroup\":\"0\",\"marker\":{\"color\":\"#636EFA\"},\"mode\":\"lines+markers\",\"opacity\":0.5,\"showlegend\":false,\"x\":[0.0,1.3125,2.301388888888889,4.336111111111111,8.415277777777778,15.472222222222221],\"y\":[0.0,0.02538217479088556,0.0522065186039804,0.0784539948081916,0.06807037784828385,0.061436400346120634],\"type\":\"scatter\"},{\"legendgroup\":\"0\",\"marker\":{\"color\":\"#636EFA\"},\"mode\":\"lines+markers\",\"opacity\":0.5,\"showlegend\":false,\"x\":[0.0,1.3736111111111111,2.3694444444444445,8.501388888888888,15.568055555555556],\"y\":[0.0,0.07821229050279321,0.14769553072625696,0.47451117318435754,0.6651536312849162],\"type\":\"scatter\"},{\"legendgroup\":\"0\",\"marker\":{\"color\":\"#636EFA\"},\"mode\":\"lines+markers\",\"opacity\":0.5,\"showlegend\":false,\"x\":[0.0,2.3694444444444445,4.409722222222222,8.501388888888888,15.568055555555556],\"y\":[0.0,0.28002868411617066,0.46324847615632847,0.7113660810326281,0.8669774112585156],\"type\":\"scatter\"},{\"legendgroup\":\"0\",\"marker\":{\"color\":\"#636EFA\"},\"mode\":\"lines+markers\",\"opacity\":0.5,\"showlegend\":false,\"x\":[0.0,1.4375,4.475,8.581944444444444,15.658333333333333],\"y\":[0.0,0.025009061254077536,0.09387459224356642,0.16382747372236317,0.3856469735411381],\"type\":\"scatter\"},{\"legendgroup\":\"0\",\"marker\":{\"color\":\"#636EFA\"},\"mode\":\"lines+markers\",\"opacity\":0.5,\"showlegend\":false,\"x\":[0.0,1.0055555555555555,2.011111111111111,4.018055555555556,8.016666666666667,15.016666666666667],\"y\":[0.0,0.007199696854869098,0.038272072754831354,0.10685865858279642,0.23721106479727172,0.4297082228116711],\"type\":\"scatter\"},{\"legendgroup\":\"0\",\"marker\":{\"color\":\"#636EFA\"},\"mode\":\"lines+markers\",\"opacity\":0.5,\"showlegend\":false,\"x\":[0.0,1.0055555555555555,2.011111111111111,4.018055555555556,8.016666666666667,15.016666666666667],\"y\":[0.0,0.2771231206826493,0.4116212921576595,0.7029662738724096,0.8780983340105648,1.0],\"type\":\"scatter\"},{\"legendgroup\":\"0\",\"marker\":{\"color\":\"#636EFA\"},\"mode\":\"lines+markers\",\"opacity\":0.5,\"showlegend\":false,\"x\":[0.0,1.073611111111111,2.0680555555555555,4.0777777777777775,8.090277777777779,15.098611111111111],\"y\":[0.0,0.016788321167883313,0.019343065693430805,0.04452554744525561,0.1273722627737227,0.2886861313868614],\"type\":\"scatter\"},{\"legendgroup\":\"0\",\"marker\":{\"color\":\"#636EFA\"},\"mode\":\"lines+markers\",\"opacity\":0.5,\"showlegend\":false,\"x\":[0.0,1.073611111111111,2.0680555555555555,4.0777777777777775,8.090277777777779,15.098611111111111],\"y\":[0.0,-0.0005592841163311046,0.008389261744966459,0.006152125279642151,0.06040268456375841,0.24440715883668906],\"type\":\"scatter\"},{\"legendgroup\":\"0\",\"marker\":{\"color\":\"#636EFA\"},\"mode\":\"lines+markers\",\"opacity\":0.5,\"showlegend\":false,\"x\":[0.0,1.1319444444444444,2.125,8.180555555555555,15.2],\"y\":[0.0,0.03328149300155514,0.06998444790046643,0.2902021772939346,0.30855365474339036],\"type\":\"scatter\"},{\"legendgroup\":\"0\",\"marker\":{\"color\":\"#636EFA\"},\"mode\":\"lines+markers\",\"opacity\":0.5,\"showlegend\":false,\"x\":[0.0,1.1319444444444444,2.125,4.143055555555556,8.180555555555555,15.2],\"y\":[0.0,0.009223445403153896,0.03034811068134491,0.052365367450163736,0.1731627491817912,0.4525438857482892],\"type\":\"scatter\"},{\"legendgroup\":\"0\",\"marker\":{\"color\":\"#636EFA\"},\"mode\":\"lines+markers\",\"opacity\":0.5,\"showlegend\":false,\"x\":[0.0,1.1916666666666667,2.1847222222222222,4.205555555555556,15.291666666666666],\"y\":[0.0,0.05354558610709115,0.06946454413892911,0.13950795947901595,0.4917510853835022],\"type\":\"scatter\"},{\"legendgroup\":\"0\",\"marker\":{\"color\":\"#636EFA\"},\"mode\":\"lines+markers\",\"opacity\":0.5,\"showlegend\":false,\"x\":[0.0,1.2513888888888889,2.2416666666666667,4.273611111111111,8.338888888888889,15.381944444444445],\"y\":[0.0,0.002850807728856486,-0.009819448843839229,0.11054798859676918,0.39436173582515044,0.6496674057649667],\"type\":\"scatter\"},{\"legendgroup\":\"0\",\"marker\":{\"color\":\"#636EFA\"},\"mode\":\"lines+markers\",\"opacity\":0.5,\"showlegend\":false,\"x\":[0.0,1.2513888888888889,2.2416666666666667,4.273611111111111,8.338888888888889],\"y\":[0.0,0.19796828543111977,0.20267591674925667,0.20441030723488596,0.20639246778989095],\"type\":\"scatter\"},{\"legendgroup\":\"0\",\"marker\":{\"color\":\"#636EFA\"},\"mode\":\"lines+markers\",\"opacity\":0.5,\"showlegend\":false,\"x\":[0.0,1.3125,2.301388888888889,4.336111111111111,15.472222222222221],\"y\":[0.0,0.008618036318867373,-0.003693444136657398,0.008310249307479256,0.040012311480455476],\"type\":\"scatter\"},{\"legendgroup\":\"0\",\"marker\":{\"color\":\"#636EFA\"},\"mode\":\"lines+markers\",\"opacity\":0.5,\"showlegend\":false,\"x\":[0.0,2.3694444444444445,8.501388888888888,15.568055555555556],\"y\":[0.0,-0.00111358574610243,0.08945805493689685,0.37119524870081666],\"type\":\"scatter\"},{\"legendgroup\":\"0\",\"marker\":{\"color\":\"#636EFA\"},\"mode\":\"lines+markers\",\"opacity\":0.5,\"showlegend\":false,\"x\":[0.0,4.409722222222222,8.501388888888888,15.568055555555556],\"y\":[0.0,0.33287764866712244,0.5857826384142174,0.7853725222146275],\"type\":\"scatter\"},{\"legendgroup\":\"0\",\"marker\":{\"color\":\"#636EFA\"},\"mode\":\"lines+markers\",\"opacity\":0.5,\"showlegend\":false,\"x\":[0.0,1.4375,2.4305555555555554,4.475,8.581944444444444,15.658333333333333],\"y\":[0.0,0.021403508771929758,-0.006666666666666821,0.029824561403508754,0.1378947368421053,0.39719298245614043],\"type\":\"scatter\"},{\"legendgroup\":\"0\",\"marker\":{\"color\":\"#636EFA\"},\"mode\":\"lines+markers\",\"opacity\":0.5,\"showlegend\":false,\"x\":[0.0,2.011111111111111,4.018055555555556,8.016666666666667,15.016666666666667],\"y\":[0.0,0.026455026455026398,0.050264550264550234,0.09977324263038545,0.1916099773242631],\"type\":\"scatter\"},{\"legendgroup\":\"0\",\"marker\":{\"color\":\"#636EFA\"},\"mode\":\"lines+markers\",\"opacity\":0.5,\"showlegend\":false,\"x\":[0.0,1.0055555555555555,2.011111111111111,4.018055555555556,8.016666666666667,15.016666666666667],\"y\":[0.0,0.037663335895465,0.05956956187548035,0.11913912375096081,0.23020753266717897,0.42044581091468103],\"type\":\"scatter\"},{\"legendgroup\":\"0\",\"marker\":{\"color\":\"#636EFA\"},\"mode\":\"lines+markers\",\"opacity\":0.5,\"showlegend\":false,\"x\":[0.0,1.073611111111111,4.0777777777777775,8.090277777777779,15.098611111111111],\"y\":[0.0,0.01056205205582783,0.026027913994718932,0.04828366654092786,0.07091663523198788],\"type\":\"scatter\"},{\"legendgroup\":\"0\",\"marker\":{\"color\":\"#636EFA\"},\"name\":\"conv over time\",\"x\":[null],\"y\":[null],\"type\":\"scatter\"},{\"legendgroup\":\"1\",\"marker\":{\"color\":\"#EF553B\"},\"mode\":\"lines+markers\",\"opacity\":0.5,\"showlegend\":false,\"x\":[1.0055555555555555,2.011111111111111,4.018055555555556,6.008333333333334,8.016666666666667,10.011111111111111,15.016666666666667],\"y\":[0.023,0.029,0.042,0.054,0.069,0.081,0.087],\"type\":\"scatter\"},{\"legendgroup\":\"1\",\"marker\":{\"color\":\"#EF553B\"},\"mode\":\"lines+markers\",\"opacity\":0.5,\"showlegend\":false,\"x\":[1.0055555555555555,2.011111111111111,4.018055555555556,6.008333333333334,8.016666666666667,10.011111111111111,15.016666666666667],\"y\":[0.03,0.037,0.06,0.064,0.07,0.086,0.092],\"type\":\"scatter\"},{\"legendgroup\":\"1\",\"marker\":{\"color\":\"#EF553B\"},\"mode\":\"lines+markers\",\"opacity\":0.5,\"showlegend\":false,\"x\":[1.073611111111111,2.0680555555555555,4.0777777777777775,6.063888888888889,8.090277777777779,10.084722222222222,15.098611111111111],\"y\":[0.0142,0.0189,0.028,0.037,0.05,0.05,0.072],\"type\":\"scatter\"},{\"legendgroup\":\"1\",\"marker\":{\"color\":\"#EF553B\"},\"mode\":\"lines+markers\",\"opacity\":0.5,\"showlegend\":false,\"x\":[1.073611111111111,2.0680555555555555,4.0777777777777775,6.063888888888889,8.090277777777779,10.084722222222222,15.098611111111111],\"y\":[0.034,0.04,0.06,0.077,0.095,0.106,0.126],\"type\":\"scatter\"},{\"legendgroup\":\"1\",\"marker\":{\"color\":\"#EF553B\"},\"mode\":\"lines+markers\",\"opacity\":0.5,\"showlegend\":false,\"x\":[1.1319444444444444,2.125,4.143055555555556,6.120833333333334,8.180555555555555,10.158333333333333,15.2],\"y\":[0.038,0.047,0.064,0.087,0.1,0.114,0.163],\"type\":\"scatter\"},{\"legendgroup\":\"1\",\"marker\":{\"color\":\"#EF553B\"},\"mode\":\"lines+markers\",\"opacity\":0.5,\"showlegend\":false,\"x\":[1.1319444444444444,2.125,4.143055555555556,6.120833333333334,8.180555555555555,10.158333333333333,15.2],\"y\":[0.0194,0.021,0.032,0.045,0.058,0.064,0.102],\"type\":\"scatter\"},{\"legendgroup\":\"1\",\"marker\":{\"color\":\"#EF553B\"},\"mode\":\"lines+markers\",\"opacity\":0.5,\"showlegend\":false,\"x\":[1.1916666666666667,2.1847222222222222,4.205555555555556,6.180555555555555,8.256944444444445,10.233333333333333,15.291666666666666],\"y\":[0.054,0.054,0.083,0.098,0.1,0.141,0.15],\"type\":\"scatter\"},{\"legendgroup\":\"1\",\"marker\":{\"color\":\"#EF553B\"},\"mode\":\"lines+markers\",\"opacity\":0.5,\"showlegend\":false,\"x\":[1.2513888888888889,2.2416666666666667,4.273611111111111,6.2375,8.338888888888889,10.306944444444444,15.381944444444445],\"y\":[0.032,0.039,0.073,0.111,0.145,0.169,0.2],\"type\":\"scatter\"},{\"legendgroup\":\"1\",\"marker\":{\"color\":\"#EF553B\"},\"mode\":\"lines+markers\",\"opacity\":0.5,\"showlegend\":false,\"x\":[1.2513888888888889,2.2416666666666667,4.273611111111111,6.2375,8.338888888888889,10.306944444444444,15.381944444444445],\"y\":[0.042,0.047,0.069,0.084,0.092,0.105,0.109],\"type\":\"scatter\"},{\"legendgroup\":\"1\",\"marker\":{\"color\":\"#EF553B\"},\"mode\":\"lines+markers\",\"opacity\":0.5,\"showlegend\":false,\"x\":[1.3125,2.301388888888889,4.336111111111111,6.295833333333333,8.415277777777778,10.383333333333333,15.472222222222221],\"y\":[0.05,0.063,0.093,0.116,0.139,0.146,0.137],\"type\":\"scatter\"},{\"legendgroup\":\"1\",\"marker\":{\"color\":\"#EF553B\"},\"mode\":\"lines+markers\",\"opacity\":0.5,\"showlegend\":false,\"x\":[1.3125,2.301388888888889,4.336111111111111,6.295833333333333,8.415277777777778,10.383333333333333,15.472222222222221],\"y\":[0.021,0.026,0.027,0.028,0.028,0.036,0.037],\"type\":\"scatter\"},{\"legendgroup\":\"1\",\"marker\":{\"color\":\"#EF553B\"},\"mode\":\"lines+markers\",\"opacity\":0.5,\"showlegend\":false,\"x\":[1.3736111111111111,2.3694444444444445,4.409722222222222,6.358333333333333,8.501388888888888,10.466666666666667,15.568055555555556],\"y\":[0.039,0.052,0.071,0.098,0.109,0.115,0.145],\"type\":\"scatter\"},{\"legendgroup\":\"1\",\"marker\":{\"color\":\"#EF553B\"},\"mode\":\"lines+markers\",\"opacity\":0.5,\"showlegend\":false,\"x\":[1.3736111111111111,2.3694444444444445,4.409722222222222,8.501388888888888,10.466666666666667,15.568055555555556],\"y\":[0.049,0.069,0.1,0.135,0.143,0.158],\"type\":\"scatter\"},{\"legendgroup\":\"1\",\"marker\":{\"color\":\"#EF553B\"},\"mode\":\"lines+markers\",\"opacity\":0.5,\"showlegend\":false,\"x\":[1.4375,2.4305555555555554,4.475,6.416666666666667,8.581944444444444,10.541666666666666,15.658333333333333],\"y\":[0.023,0.024,0.039,0.052,0.068,0.077,0.124],\"type\":\"scatter\"},{\"legendgroup\":\"1\",\"marker\":{\"color\":\"#EF553B\"},\"mode\":\"lines+markers\",\"opacity\":0.5,\"showlegend\":false,\"x\":[1.0055555555555555,2.011111111111111,4.018055555555556,6.008333333333334,8.016666666666667,10.011111111111111,15.016666666666667],\"y\":[0.0025,0.0033,0.0106,0.0172,0.024,0.03,0.042],\"type\":\"scatter\"},{\"legendgroup\":\"1\",\"marker\":{\"color\":\"#EF553B\"},\"mode\":\"lines+markers\",\"opacity\":0.5,\"showlegend\":false,\"x\":[1.0055555555555555,2.011111111111111,4.018055555555556,6.008333333333334,8.016666666666667,10.011111111111111,15.016666666666667],\"y\":[0.0035,0.0056,0.0102,0.0122,0.0127,0.0129,0.0125],\"type\":\"scatter\"},{\"legendgroup\":\"1\",\"marker\":{\"color\":\"#EF553B\"},\"mode\":\"lines+markers\",\"opacity\":0.5,\"showlegend\":false,\"x\":[4.0777777777777775,6.063888888888889,8.090277777777779,10.084722222222222,15.098611111111111],\"y\":[0.0053,0.011,0.0175,0.023,0.037],\"type\":\"scatter\"},{\"legendgroup\":\"1\",\"marker\":{\"color\":\"#EF553B\"},\"mode\":\"lines+markers\",\"opacity\":0.5,\"showlegend\":false,\"x\":[1.073611111111111,2.0680555555555555,4.0777777777777775,6.063888888888889,8.090277777777779,10.084722222222222,15.098611111111111],\"y\":[0.0026,0.0027,0.0028,0.0037,0.0116,0.02,0.054],\"type\":\"scatter\"},{\"legendgroup\":\"1\",\"marker\":{\"color\":\"#EF553B\"},\"mode\":\"lines+markers\",\"opacity\":0.5,\"showlegend\":false,\"x\":[1.1319444444444444,2.125,4.143055555555556,6.120833333333334,8.180555555555555,10.158333333333333,15.2],\"y\":[0.0056,0.0116,0.03,0.045,0.053,0.057,0.056],\"type\":\"scatter\"},{\"legendgroup\":\"1\",\"marker\":{\"color\":\"#EF553B\"},\"mode\":\"lines+markers\",\"opacity\":0.5,\"showlegend\":false,\"x\":[1.1319444444444444,2.125,4.143055555555556,6.120833333333334,8.180555555555555,10.158333333333333,15.2],\"y\":[0.0028,0.0028,0.0077,0.02,0.038,0.049,0.092],\"type\":\"scatter\"},{\"legendgroup\":\"1\",\"marker\":{\"color\":\"#EF553B\"},\"mode\":\"lines+markers\",\"opacity\":0.5,\"showlegend\":false,\"x\":[1.1916666666666667,2.1847222222222222,4.205555555555556,6.180555555555555,8.256944444444445,10.233333333333333,15.291666666666666],\"y\":[0.0047,0.0077,0.035,0.058,0.083,0.099,0.157],\"type\":\"scatter\"},{\"legendgroup\":\"1\",\"marker\":{\"color\":\"#EF553B\"},\"mode\":\"lines+markers\",\"opacity\":0.5,\"showlegend\":false,\"x\":[4.273611111111111,6.2375,8.338888888888889,10.306944444444444,15.381944444444445],\"y\":[0.0071,0.04,0.094,0.117,0.139],\"type\":\"scatter\"},{\"legendgroup\":\"1\",\"marker\":{\"color\":\"#EF553B\"},\"mode\":\"lines+markers\",\"opacity\":0.5,\"showlegend\":false,\"x\":[1.2513888888888889,2.2416666666666667,4.273611111111111,6.2375,8.338888888888889,10.306944444444444,15.381944444444445],\"y\":[0.0033,0.0041,0.0065,0.0094,0.0128,0.0193,0.031],\"type\":\"scatter\"},{\"legendgroup\":\"1\",\"marker\":{\"color\":\"#EF553B\"},\"mode\":\"lines+markers\",\"opacity\":0.5,\"showlegend\":false,\"x\":[1.3125,2.301388888888889,4.336111111111111,6.295833333333333,10.383333333333333],\"y\":[0.0035,0.0042,0.0053,0.0062,0.0058],\"type\":\"scatter\"},{\"legendgroup\":\"1\",\"marker\":{\"color\":\"#EF553B\"},\"mode\":\"lines+markers\",\"opacity\":0.5,\"showlegend\":false,\"x\":[6.358333333333333,8.501388888888888,10.466666666666667,15.568055555555556],\"y\":[0.0152,0.029,0.042,0.072],\"type\":\"scatter\"},{\"legendgroup\":\"1\",\"marker\":{\"color\":\"#EF553B\"},\"mode\":\"lines+markers\",\"opacity\":0.5,\"showlegend\":false,\"x\":[1.3736111111111111,2.3694444444444445,4.409722222222222,6.358333333333333,8.501388888888888,10.466666666666667,15.568055555555556],\"y\":[0.0088,0.0191,0.065,0.095,0.115,0.128,0.124],\"type\":\"scatter\"},{\"legendgroup\":\"1\",\"marker\":{\"color\":\"#EF553B\"},\"mode\":\"lines+markers\",\"opacity\":0.5,\"showlegend\":false,\"x\":[6.416666666666667,8.581944444444444,10.541666666666666,15.658333333333333],\"y\":[0.0147,0.03,0.046,0.09],\"type\":\"scatter\"},{\"legendgroup\":\"1\",\"marker\":{\"color\":\"#EF553B\"},\"mode\":\"lines+markers\",\"opacity\":0.5,\"showlegend\":false,\"x\":[1.0055555555555555,2.011111111111111,4.018055555555556,6.008333333333334,8.016666666666667,10.011111111111111,15.016666666666667],\"y\":[0.0025,0.0027,0.0029,0.0035,0.0042,0.0047,0.0074],\"type\":\"scatter\"},{\"legendgroup\":\"1\",\"marker\":{\"color\":\"#EF553B\"},\"mode\":\"lines+markers\",\"opacity\":0.5,\"showlegend\":false,\"x\":[1.0055555555555555,2.011111111111111,4.018055555555556,6.008333333333334,8.016666666666667,10.011111111111111,15.016666666666667],\"y\":[0.0026,0.0034,0.0048,0.0069,0.0077,0.0095,0.0118],\"type\":\"scatter\"},{\"legendgroup\":\"1\",\"marker\":{\"color\":\"#EF553B\"},\"mode\":\"lines+markers\",\"opacity\":0.5,\"showlegend\":false,\"x\":[1.073611111111111,2.0680555555555555,4.0777777777777775,6.063888888888889,8.090277777777779,10.084722222222222,15.098611111111111],\"y\":[0.0025,0.003,0.004,0.0048,0.009,0.0092,0.0108],\"type\":\"scatter\"},{\"legendgroup\":\"1\",\"marker\":{\"color\":\"#EF553B\"},\"name\":\"Mn over time\",\"x\":[null],\"y\":[null],\"type\":\"scatter\"},{\"legendgroup\":\"2\",\"marker\":{\"color\":\"#00CC96\"},\"mode\":\"lines+markers\",\"opacity\":0.5,\"showlegend\":false,\"x\":[1.0055555555555555,2.011111111111111,4.018055555555556,6.008333333333334,8.016666666666667,10.011111111111111,15.016666666666667],\"y\":[0.032,0.038,0.056,0.07,0.085,0.098,0.127],\"type\":\"scatter\"},{\"legendgroup\":\"2\",\"marker\":{\"color\":\"#00CC96\"},\"mode\":\"lines+markers\",\"opacity\":0.5,\"showlegend\":false,\"x\":[1.0055555555555555,2.011111111111111,6.008333333333334,8.016666666666667,10.011111111111111,15.016666666666667],\"y\":[0.041,0.049,0.082,0.093,0.103,0.121],\"type\":\"scatter\"},{\"legendgroup\":\"2\",\"marker\":{\"color\":\"#00CC96\"},\"mode\":\"lines+markers\",\"opacity\":0.5,\"showlegend\":false,\"x\":[1.073611111111111,2.0680555555555555,4.0777777777777775,6.063888888888889,8.090277777777779,10.084722222222222,15.098611111111111],\"y\":[0.0198,0.024,0.035,0.046,0.059,0.064,0.107],\"type\":\"scatter\"},{\"legendgroup\":\"2\",\"marker\":{\"color\":\"#00CC96\"},\"mode\":\"lines+markers\",\"opacity\":0.5,\"showlegend\":false,\"x\":[1.073611111111111,2.0680555555555555,4.0777777777777775,6.063888888888889,8.090277777777779,10.084722222222222,15.098611111111111],\"y\":[0.043,0.049,0.076,0.099,0.12,0.133,0.178],\"type\":\"scatter\"},{\"legendgroup\":\"2\",\"marker\":{\"color\":\"#00CC96\"},\"mode\":\"lines+markers\",\"opacity\":0.5,\"showlegend\":false,\"x\":[1.1319444444444444,2.125,4.143055555555556,6.120833333333334,8.180555555555555,10.158333333333333,15.2],\"y\":[0.051,0.058,0.072,0.093,0.116,0.141,0.22],\"type\":\"scatter\"},{\"legendgroup\":\"2\",\"marker\":{\"color\":\"#00CC96\"},\"mode\":\"lines+markers\",\"opacity\":0.5,\"showlegend\":false,\"x\":[1.1319444444444444,2.125,4.143055555555556,6.120833333333334,8.180555555555555,10.158333333333333,15.2],\"y\":[0.024,0.027,0.04,0.055,0.071,0.084,0.128],\"type\":\"scatter\"},{\"legendgroup\":\"2\",\"marker\":{\"color\":\"#00CC96\"},\"mode\":\"lines+markers\",\"opacity\":0.5,\"showlegend\":false,\"x\":[1.1916666666666667,2.1847222222222222,4.205555555555556,8.256944444444445,10.233333333333333,15.291666666666666],\"y\":[0.067,0.064,0.091,0.13,0.21,0.21],\"type\":\"scatter\"},{\"legendgroup\":\"2\",\"marker\":{\"color\":\"#00CC96\"},\"mode\":\"lines+markers\",\"opacity\":0.5,\"showlegend\":false,\"x\":[1.2513888888888889,2.2416666666666667,4.273611111111111,6.2375,8.338888888888889,10.306944444444444,15.381944444444445],\"y\":[0.041,0.047,0.088,0.132,0.17,0.199,0.25],\"type\":\"scatter\"},{\"legendgroup\":\"2\",\"marker\":{\"color\":\"#00CC96\"},\"mode\":\"lines+markers\",\"opacity\":0.5,\"showlegend\":false,\"x\":[1.2513888888888889,2.2416666666666667,4.273611111111111,6.2375,8.338888888888889,10.306944444444444,15.381944444444445],\"y\":[0.056,0.063,0.089,0.11,0.127,0.14,0.168],\"type\":\"scatter\"},{\"legendgroup\":\"2\",\"marker\":{\"color\":\"#00CC96\"},\"mode\":\"lines+markers\",\"opacity\":0.5,\"showlegend\":false,\"x\":[1.3125,2.301388888888889,4.336111111111111,6.295833333333333,8.415277777777778,10.383333333333333,15.472222222222221],\"y\":[0.069,0.085,0.121,0.15,0.175,0.192,0.21],\"type\":\"scatter\"},{\"legendgroup\":\"2\",\"marker\":{\"color\":\"#00CC96\"},\"mode\":\"lines+markers\",\"opacity\":0.5,\"showlegend\":false,\"x\":[1.3125,2.301388888888889,4.336111111111111,6.295833333333333,8.415277777777778,10.383333333333333,15.472222222222221],\"y\":[0.029,0.032,0.033,0.034,0.035,0.041,0.049],\"type\":\"scatter\"},{\"legendgroup\":\"2\",\"marker\":{\"color\":\"#00CC96\"},\"mode\":\"lines+markers\",\"opacity\":0.5,\"showlegend\":false,\"x\":[1.3736111111111111,2.3694444444444445,4.409722222222222,6.358333333333333,8.501388888888888,10.466666666666667,15.568055555555556],\"y\":[0.055,0.065,0.093,0.121,0.141,0.155,0.2],\"type\":\"scatter\"},{\"legendgroup\":\"2\",\"marker\":{\"color\":\"#00CC96\"},\"mode\":\"lines+markers\",\"opacity\":0.5,\"showlegend\":false,\"x\":[1.3736111111111111,2.3694444444444445,4.409722222222222,8.501388888888888,10.466666666666667,15.568055555555556],\"y\":[0.069,0.09,0.125,0.167,0.177,0.194],\"type\":\"scatter\"},{\"legendgroup\":\"2\",\"marker\":{\"color\":\"#00CC96\"},\"mode\":\"lines+markers\",\"opacity\":0.5,\"showlegend\":false,\"x\":[1.4375,2.4305555555555554,4.475,6.416666666666667,8.581944444444444,10.541666666666666,15.658333333333333],\"y\":[0.031,0.032,0.05,0.068,0.089,0.103,0.179],\"type\":\"scatter\"},{\"legendgroup\":\"2\",\"marker\":{\"color\":\"#00CC96\"},\"mode\":\"lines+markers\",\"opacity\":0.5,\"showlegend\":false,\"x\":[1.0055555555555555,2.011111111111111,4.018055555555556,6.008333333333334,8.016666666666667,10.011111111111111,15.016666666666667],\"y\":[0.0026,0.0036,0.0115,0.0191,0.03,0.044,0.055],\"type\":\"scatter\"},{\"legendgroup\":\"2\",\"marker\":{\"color\":\"#00CC96\"},\"mode\":\"lines+markers\",\"opacity\":0.5,\"showlegend\":false,\"x\":[1.0055555555555555,2.011111111111111,4.018055555555556,6.008333333333334,8.016666666666667,10.011111111111111,15.016666666666667],\"y\":[0.0036,0.0063,0.0112,0.0132,0.0136,0.0137,0.0133],\"type\":\"scatter\"},{\"legendgroup\":\"2\",\"marker\":{\"color\":\"#00CC96\"},\"mode\":\"lines+markers\",\"opacity\":0.5,\"showlegend\":false,\"x\":[4.0777777777777775,6.063888888888889,8.090277777777779,10.084722222222222,15.098611111111111],\"y\":[0.0061,0.0121,0.0191,0.025,0.051],\"type\":\"scatter\"},{\"legendgroup\":\"2\",\"marker\":{\"color\":\"#00CC96\"},\"mode\":\"lines+markers\",\"opacity\":0.5,\"showlegend\":false,\"x\":[1.073611111111111,2.0680555555555555,4.0777777777777775,6.063888888888889,8.090277777777779,10.084722222222222,15.098611111111111],\"y\":[0.0027,0.0027,0.003,0.0042,0.013,0.022,0.059],\"type\":\"scatter\"},{\"legendgroup\":\"2\",\"marker\":{\"color\":\"#00CC96\"},\"mode\":\"lines+markers\",\"opacity\":0.5,\"showlegend\":false,\"x\":[1.1319444444444444,2.125,4.143055555555556,6.120833333333334,8.180555555555555,10.158333333333333,15.2],\"y\":[0.0066,0.0122,0.033,0.048,0.06,0.065,0.073],\"type\":\"scatter\"},{\"legendgroup\":\"2\",\"marker\":{\"color\":\"#00CC96\"},\"mode\":\"lines+markers\",\"opacity\":0.5,\"showlegend\":false,\"x\":[1.1319444444444444,2.125,4.143055555555556,6.120833333333334,8.180555555555555,10.158333333333333,15.2],\"y\":[0.0029,0.0029,0.0084,0.022,0.042,0.057,0.113],\"type\":\"scatter\"},{\"legendgroup\":\"2\",\"marker\":{\"color\":\"#00CC96\"},\"mode\":\"lines+markers\",\"opacity\":0.5,\"showlegend\":false,\"x\":[1.1916666666666667,2.1847222222222222,4.205555555555556,6.180555555555555,8.256944444444445,10.233333333333333,15.291666666666666],\"y\":[0.0051,0.008,0.038,0.062,0.113,0.162,0.31],\"type\":\"scatter\"},{\"legendgroup\":\"2\",\"marker\":{\"color\":\"#00CC96\"},\"mode\":\"lines+markers\",\"opacity\":0.5,\"showlegend\":false,\"x\":[4.273611111111111,6.2375,8.338888888888889,10.306944444444444,15.381944444444445],\"y\":[0.0071,0.045,0.105,0.143,0.169],\"type\":\"scatter\"},{\"legendgroup\":\"2\",\"marker\":{\"color\":\"#00CC96\"},\"mode\":\"lines+markers\",\"opacity\":0.5,\"showlegend\":false,\"x\":[1.2513888888888889,2.2416666666666667,4.273611111111111,6.2375,8.338888888888889,10.306944444444444,15.381944444444445],\"y\":[0.0036,0.0045,0.0072,0.011,0.0155,0.021,0.036],\"type\":\"scatter\"},{\"legendgroup\":\"2\",\"marker\":{\"color\":\"#00CC96\"},\"mode\":\"lines+markers\",\"opacity\":0.5,\"showlegend\":false,\"x\":[1.3125,2.301388888888889,4.336111111111111,6.295833333333333,10.383333333333333],\"y\":[0.0038,0.0046,0.0056,0.0067,0.0061],\"type\":\"scatter\"},{\"legendgroup\":\"2\",\"marker\":{\"color\":\"#00CC96\"},\"mode\":\"lines+markers\",\"opacity\":0.5,\"showlegend\":false,\"x\":[6.358333333333333,8.501388888888888,10.466666666666667,15.568055555555556],\"y\":[0.0166,0.034,0.047,0.096],\"type\":\"scatter\"},{\"legendgroup\":\"2\",\"marker\":{\"color\":\"#00CC96\"},\"mode\":\"lines+markers\",\"opacity\":0.5,\"showlegend\":false,\"x\":[1.3736111111111111,4.409722222222222,6.358333333333333,8.501388888888888,10.466666666666667,15.568055555555556],\"y\":[0.01,0.072,0.107,0.132,0.149,0.183],\"type\":\"scatter\"},{\"legendgroup\":\"2\",\"marker\":{\"color\":\"#00CC96\"},\"mode\":\"lines+markers\",\"opacity\":0.5,\"showlegend\":false,\"x\":[6.416666666666667,8.581944444444444,10.541666666666666,15.658333333333333],\"y\":[0.0162,0.034,0.05,0.119],\"type\":\"scatter\"},{\"legendgroup\":\"2\",\"marker\":{\"color\":\"#00CC96\"},\"mode\":\"lines+markers\",\"opacity\":0.5,\"showlegend\":false,\"x\":[1.0055555555555555,2.011111111111111,4.018055555555556,6.008333333333334,8.016666666666667,10.011111111111111,15.016666666666667],\"y\":[0.0027,0.0029,0.0032,0.0038,0.0048,0.0055,0.01],\"type\":\"scatter\"},{\"legendgroup\":\"2\",\"marker\":{\"color\":\"#00CC96\"},\"mode\":\"lines+markers\",\"opacity\":0.5,\"showlegend\":false,\"x\":[1.0055555555555555,2.011111111111111,4.018055555555556,6.008333333333334,8.016666666666667,10.011111111111111,15.016666666666667],\"y\":[0.0028,0.0036,0.0055,0.0078,0.0094,0.0113,0.0147],\"type\":\"scatter\"},{\"legendgroup\":\"2\",\"marker\":{\"color\":\"#00CC96\"},\"mode\":\"lines+markers\",\"opacity\":0.5,\"showlegend\":false,\"x\":[1.073611111111111,2.0680555555555555,4.0777777777777775,6.063888888888889,8.090277777777779,10.084722222222222,15.098611111111111],\"y\":[0.0027,0.0032,0.0046,0.0061,0.0094,0.0113,0.018],\"type\":\"scatter\"},{\"legendgroup\":\"2\",\"marker\":{\"color\":\"#00CC96\"},\"name\":\"Mw over time\",\"x\":[null],\"y\":[null],\"type\":\"scatter\"},{\"legendgroup\":\"threshold\",\"line\":{\"dash\":\"dash\"},\"mode\":\"lines\",\"name\":\"SEC limit\",\"x\":[0,16],\"y\":[0.01,0.01],\"type\":\"scatter\"}],                        {\"template\":{\"data\":{\"histogram2dcontour\":[{\"type\":\"histogram2dcontour\",\"colorbar\":{\"outlinewidth\":0,\"ticks\":\"\"},\"colorscale\":[[0.0,\"#0d0887\"],[0.1111111111111111,\"#46039f\"],[0.2222222222222222,\"#7201a8\"],[0.3333333333333333,\"#9c179e\"],[0.4444444444444444,\"#bd3786\"],[0.5555555555555556,\"#d8576b\"],[0.6666666666666666,\"#ed7953\"],[0.7777777777777778,\"#fb9f3a\"],[0.8888888888888888,\"#fdca26\"],[1.0,\"#f0f921\"]]}],\"choropleth\":[{\"type\":\"choropleth\",\"colorbar\":{\"outlinewidth\":0,\"ticks\":\"\"}}],\"histogram2d\":[{\"type\":\"histogram2d\",\"colorbar\":{\"outlinewidth\":0,\"ticks\":\"\"},\"colorscale\":[[0.0,\"#0d0887\"],[0.1111111111111111,\"#46039f\"],[0.2222222222222222,\"#7201a8\"],[0.3333333333333333,\"#9c179e\"],[0.4444444444444444,\"#bd3786\"],[0.5555555555555556,\"#d8576b\"],[0.6666666666666666,\"#ed7953\"],[0.7777777777777778,\"#fb9f3a\"],[0.8888888888888888,\"#fdca26\"],[1.0,\"#f0f921\"]]}],\"heatmap\":[{\"type\":\"heatmap\",\"colorbar\":{\"outlinewidth\":0,\"ticks\":\"\"},\"colorscale\":[[0.0,\"#0d0887\"],[0.1111111111111111,\"#46039f\"],[0.2222222222222222,\"#7201a8\"],[0.3333333333333333,\"#9c179e\"],[0.4444444444444444,\"#bd3786\"],[0.5555555555555556,\"#d8576b\"],[0.6666666666666666,\"#ed7953\"],[0.7777777777777778,\"#fb9f3a\"],[0.8888888888888888,\"#fdca26\"],[1.0,\"#f0f921\"]]}],\"heatmapgl\":[{\"type\":\"heatmapgl\",\"colorbar\":{\"outlinewidth\":0,\"ticks\":\"\"},\"colorscale\":[[0.0,\"#0d0887\"],[0.1111111111111111,\"#46039f\"],[0.2222222222222222,\"#7201a8\"],[0.3333333333333333,\"#9c179e\"],[0.4444444444444444,\"#bd3786\"],[0.5555555555555556,\"#d8576b\"],[0.6666666666666666,\"#ed7953\"],[0.7777777777777778,\"#fb9f3a\"],[0.8888888888888888,\"#fdca26\"],[1.0,\"#f0f921\"]]}],\"contourcarpet\":[{\"type\":\"contourcarpet\",\"colorbar\":{\"outlinewidth\":0,\"ticks\":\"\"}}],\"contour\":[{\"type\":\"contour\",\"colorbar\":{\"outlinewidth\":0,\"ticks\":\"\"},\"colorscale\":[[0.0,\"#0d0887\"],[0.1111111111111111,\"#46039f\"],[0.2222222222222222,\"#7201a8\"],[0.3333333333333333,\"#9c179e\"],[0.4444444444444444,\"#bd3786\"],[0.5555555555555556,\"#d8576b\"],[0.6666666666666666,\"#ed7953\"],[0.7777777777777778,\"#fb9f3a\"],[0.8888888888888888,\"#fdca26\"],[1.0,\"#f0f921\"]]}],\"surface\":[{\"type\":\"surface\",\"colorbar\":{\"outlinewidth\":0,\"ticks\":\"\"},\"colorscale\":[[0.0,\"#0d0887\"],[0.1111111111111111,\"#46039f\"],[0.2222222222222222,\"#7201a8\"],[0.3333333333333333,\"#9c179e\"],[0.4444444444444444,\"#bd3786\"],[0.5555555555555556,\"#d8576b\"],[0.6666666666666666,\"#ed7953\"],[0.7777777777777778,\"#fb9f3a\"],[0.8888888888888888,\"#fdca26\"],[1.0,\"#f0f921\"]]}],\"mesh3d\":[{\"type\":\"mesh3d\",\"colorbar\":{\"outlinewidth\":0,\"ticks\":\"\"}}],\"scatter\":[{\"fillpattern\":{\"fillmode\":\"overlay\",\"size\":10,\"solidity\":0.2},\"type\":\"scatter\"}],\"parcoords\":[{\"type\":\"parcoords\",\"line\":{\"colorbar\":{\"outlinewidth\":0,\"ticks\":\"\"}}}],\"scatterpolargl\":[{\"type\":\"scatterpolargl\",\"marker\":{\"colorbar\":{\"outlinewidth\":0,\"ticks\":\"\"}}}],\"bar\":[{\"error_x\":{\"color\":\"#2a3f5f\"},\"error_y\":{\"color\":\"#2a3f5f\"},\"marker\":{\"line\":{\"color\":\"#E5ECF6\",\"width\":0.5},\"pattern\":{\"fillmode\":\"overlay\",\"size\":10,\"solidity\":0.2}},\"type\":\"bar\"}],\"scattergeo\":[{\"type\":\"scattergeo\",\"marker\":{\"colorbar\":{\"outlinewidth\":0,\"ticks\":\"\"}}}],\"scatterpolar\":[{\"type\":\"scatterpolar\",\"marker\":{\"colorbar\":{\"outlinewidth\":0,\"ticks\":\"\"}}}],\"histogram\":[{\"marker\":{\"pattern\":{\"fillmode\":\"overlay\",\"size\":10,\"solidity\":0.2}},\"type\":\"histogram\"}],\"scattergl\":[{\"type\":\"scattergl\",\"marker\":{\"colorbar\":{\"outlinewidth\":0,\"ticks\":\"\"}}}],\"scatter3d\":[{\"type\":\"scatter3d\",\"line\":{\"colorbar\":{\"outlinewidth\":0,\"ticks\":\"\"}},\"marker\":{\"colorbar\":{\"outlinewidth\":0,\"ticks\":\"\"}}}],\"scattermapbox\":[{\"type\":\"scattermapbox\",\"marker\":{\"colorbar\":{\"outlinewidth\":0,\"ticks\":\"\"}}}],\"scatterternary\":[{\"type\":\"scatterternary\",\"marker\":{\"colorbar\":{\"outlinewidth\":0,\"ticks\":\"\"}}}],\"scattercarpet\":[{\"type\":\"scattercarpet\",\"marker\":{\"colorbar\":{\"outlinewidth\":0,\"ticks\":\"\"}}}],\"carpet\":[{\"aaxis\":{\"endlinecolor\":\"#2a3f5f\",\"gridcolor\":\"white\",\"linecolor\":\"white\",\"minorgridcolor\":\"white\",\"startlinecolor\":\"#2a3f5f\"},\"baxis\":{\"endlinecolor\":\"#2a3f5f\",\"gridcolor\":\"white\",\"linecolor\":\"white\",\"minorgridcolor\":\"white\",\"startlinecolor\":\"#2a3f5f\"},\"type\":\"carpet\"}],\"table\":[{\"cells\":{\"fill\":{\"color\":\"#EBF0F8\"},\"line\":{\"color\":\"white\"}},\"header\":{\"fill\":{\"color\":\"#C8D4E3\"},\"line\":{\"color\":\"white\"}},\"type\":\"table\"}],\"barpolar\":[{\"marker\":{\"line\":{\"color\":\"#E5ECF6\",\"width\":0.5},\"pattern\":{\"fillmode\":\"overlay\",\"size\":10,\"solidity\":0.2}},\"type\":\"barpolar\"}],\"pie\":[{\"automargin\":true,\"type\":\"pie\"}]},\"layout\":{\"autotypenumbers\":\"strict\",\"colorway\":[\"#636efa\",\"#EF553B\",\"#00cc96\",\"#ab63fa\",\"#FFA15A\",\"#19d3f3\",\"#FF6692\",\"#B6E880\",\"#FF97FF\",\"#FECB52\"],\"font\":{\"color\":\"#2a3f5f\"},\"hovermode\":\"closest\",\"hoverlabel\":{\"align\":\"left\"},\"paper_bgcolor\":\"white\",\"plot_bgcolor\":\"#E5ECF6\",\"polar\":{\"bgcolor\":\"#E5ECF6\",\"angularaxis\":{\"gridcolor\":\"white\",\"linecolor\":\"white\",\"ticks\":\"\"},\"radialaxis\":{\"gridcolor\":\"white\",\"linecolor\":\"white\",\"ticks\":\"\"}},\"ternary\":{\"bgcolor\":\"#E5ECF6\",\"aaxis\":{\"gridcolor\":\"white\",\"linecolor\":\"white\",\"ticks\":\"\"},\"baxis\":{\"gridcolor\":\"white\",\"linecolor\":\"white\",\"ticks\":\"\"},\"caxis\":{\"gridcolor\":\"white\",\"linecolor\":\"white\",\"ticks\":\"\"}},\"coloraxis\":{\"colorbar\":{\"outlinewidth\":0,\"ticks\":\"\"}},\"colorscale\":{\"sequential\":[[0.0,\"#0d0887\"],[0.1111111111111111,\"#46039f\"],[0.2222222222222222,\"#7201a8\"],[0.3333333333333333,\"#9c179e\"],[0.4444444444444444,\"#bd3786\"],[0.5555555555555556,\"#d8576b\"],[0.6666666666666666,\"#ed7953\"],[0.7777777777777778,\"#fb9f3a\"],[0.8888888888888888,\"#fdca26\"],[1.0,\"#f0f921\"]],\"sequentialminus\":[[0.0,\"#0d0887\"],[0.1111111111111111,\"#46039f\"],[0.2222222222222222,\"#7201a8\"],[0.3333333333333333,\"#9c179e\"],[0.4444444444444444,\"#bd3786\"],[0.5555555555555556,\"#d8576b\"],[0.6666666666666666,\"#ed7953\"],[0.7777777777777778,\"#fb9f3a\"],[0.8888888888888888,\"#fdca26\"],[1.0,\"#f0f921\"]],\"diverging\":[[0,\"#8e0152\"],[0.1,\"#c51b7d\"],[0.2,\"#de77ae\"],[0.3,\"#f1b6da\"],[0.4,\"#fde0ef\"],[0.5,\"#f7f7f7\"],[0.6,\"#e6f5d0\"],[0.7,\"#b8e186\"],[0.8,\"#7fbc41\"],[0.9,\"#4d9221\"],[1,\"#276419\"]]},\"xaxis\":{\"gridcolor\":\"white\",\"linecolor\":\"white\",\"ticks\":\"\",\"title\":{\"standoff\":15},\"zerolinecolor\":\"white\",\"automargin\":true,\"zerolinewidth\":2},\"yaxis\":{\"gridcolor\":\"white\",\"linecolor\":\"white\",\"ticks\":\"\",\"title\":{\"standoff\":15},\"zerolinecolor\":\"white\",\"automargin\":true,\"zerolinewidth\":2},\"scene\":{\"xaxis\":{\"backgroundcolor\":\"#E5ECF6\",\"gridcolor\":\"white\",\"linecolor\":\"white\",\"showbackground\":true,\"ticks\":\"\",\"zerolinecolor\":\"white\",\"gridwidth\":2},\"yaxis\":{\"backgroundcolor\":\"#E5ECF6\",\"gridcolor\":\"white\",\"linecolor\":\"white\",\"showbackground\":true,\"ticks\":\"\",\"zerolinecolor\":\"white\",\"gridwidth\":2},\"zaxis\":{\"backgroundcolor\":\"#E5ECF6\",\"gridcolor\":\"white\",\"linecolor\":\"white\",\"showbackground\":true,\"ticks\":\"\",\"zerolinecolor\":\"white\",\"gridwidth\":2}},\"shapedefaults\":{\"line\":{\"color\":\"#2a3f5f\"}},\"annotationdefaults\":{\"arrowcolor\":\"#2a3f5f\",\"arrowhead\":0,\"arrowwidth\":1},\"geo\":{\"bgcolor\":\"white\",\"landcolor\":\"#E5ECF6\",\"subunitcolor\":\"white\",\"showland\":true,\"showlakes\":true,\"lakecolor\":\"white\"},\"title\":{\"x\":0.05},\"mapbox\":{\"style\":\"light\"}}},\"xaxis\":{\"anchor\":\"y\",\"domain\":[0.0,1.0],\"title\":{\"text\":\"Time [h]\"}},\"yaxis\":{\"anchor\":\"x\",\"domain\":[0.0,1.0],\"title\":{\"text\":\"$\\\\text{Mn, Mw }[g\\u002fmol] \\\\cdot 10^{-5}\\u002f \\\\ [ \\\\%]$\"}},\"legend\":{\"tracegroupgap\":0,\"orientation\":\"h\",\"yanchor\":\"bottom\",\"y\":1.05,\"xanchor\":\"left\",\"x\":-0.1},\"title\":{\"text\":\"Mn Conversion difference\"}},                        {\"responsive\": true}                    ).then(function(){\n                            \nvar gd = document.getElementById('82463b37-a6e5-4541-950f-e795bcbee0e3');\nvar x = new MutationObserver(function (mutations, observer) {{\n        var display = window.getComputedStyle(gd).display;\n        if (!display || display === 'none') {{\n            console.log([gd, 'removed!']);\n            Plotly.purge(gd);\n            observer.disconnect();\n        }}\n}});\n\n// Listen for the removal of the full notebook cells\nvar notebookContainer = gd.closest('#notebook-container');\nif (notebookContainer) {{\n    x.observe(notebookContainer, {childList: true});\n}}\n\n// Listen for the clearing of the current output cell\nvar outputEl = gd.closest('.output');\nif (outputEl) {{\n    x.observe(outputEl, {childList: true});\n}}\n\n                        })                };                });            </script>        </div>"
     },
     "metadata": {},
     "output_type": "display_data"
    }
   ],
   "source": [
    "# plot Mn Conversion difference\n",
    "fig = px.line(title=\"Mn Conversion difference\")\n",
    "data_list = [\"conv_time_data\", \"Mn_time_data\", \"Mw_time_data\"]\n",
    "data_list_name = [\"conv over time\", \"Mn over time\", \"Mw over time\"]\n",
    "for idx, data in (enumerate(data_list)):\n",
    "    for kin in kinetics_df[data].head(30):\n",
    "        fig.add_scatter(x=kin[0], y=kin[1], mode=\"lines+markers\", opacity=0.5, marker=dict(color=colors[idx%len(colors)]), showlegend=False, legendgroup=str(idx))\n",
    "    # custom legend\n",
    "    fig.add_scatter(x=[None], y=[None], marker=dict(color=colors[idx%len(colors)]), name= data_list_name[idx], legendgroup=str(idx))\n",
    "# adding a threshold line because the SEC peaks smear into syspeak at that point\n",
    "fig.add_scatter(x=[0, 16], y=[1000*10**(-5), 1000*10**(-5)], mode=\"lines\", line=dict(dash=\"dash\"), name=\"SEC limit\", legendgroup=\"threshold\")\n",
    "fig.update_layout(legend=dict(orientation=\"h\", yanchor=\"bottom\", y=1.05, xanchor=\"left\", x=-0.1 ), yaxis_title=\"$\\\\text{Mn, Mw }[g/mol] \\cdot 10^{-5}/ \\ [ \\%]$\", xaxis_title=\"Time [h]\")"
   ],
   "metadata": {
    "collapsed": false,
    "pycharm": {
     "name": "#%%\n"
    }
   }
  },
  {
   "cell_type": "code",
   "execution_count": 95,
   "outputs": [],
   "source": [
    "# normalize the errors by dividing them by their respective standard deviation\n",
    "def normalize_errors(err):\n",
    "    return err / np.std(err)\n",
    "\n",
    "for error in [\"squared_error\", \"p1_variance\", \"p2_variance\", \"p1_p2_covariance\"]:\n",
    "    kinetics_df[error] = normalize_errors(kinetics_df[error])"
   ],
   "metadata": {
    "collapsed": false,
    "pycharm": {
     "name": "#%%\n"
    }
   }
  },
  {
   "cell_type": "code",
   "execution_count": 96,
   "outputs": [
    {
     "data": {
      "application/vnd.plotly.v1+json": {
       "data": [
        {
         "alignmentgroup": "True",
         "hovertemplate": "<extra></extra>",
         "legendgroup": "",
         "marker": {
          "color": "#636efa",
          "pattern": {
           "shape": ""
          }
         },
         "name": "",
         "offsetgroup": "",
         "orientation": "v",
         "showlegend": false,
         "textposition": "auto",
         "xaxis": "x",
         "yaxis": "y",
         "type": "bar"
        },
        {
         "marker": {
          "color": "green"
         },
         "name": "positive correlation",
         "x": [
          "squared_error/p1_variance",
          "squared_error/p2_variance",
          "squared_error/p1_p2_covariance",
          "p1_variance/p2_variance",
          "p1_variance/p1_p2_covariance",
          "p2_variance/p1_p2_covariance"
         ],
         "y": [
          6.477399838866629,
          36.99028473057978,
          -27.590069990144073,
          64.07727131404987,
          -205.08844897768833,
          -273.2737080440872
         ],
         "type": "bar"
        },
        {
         "marker": {
          "color": "crimson"
         },
         "name": "negative correlation",
         "x": [
          "squared_error/p1_variance",
          "squared_error/p2_variance",
          "squared_error/p1_p2_covariance",
          "p1_variance/p2_variance",
          "p1_variance/p1_p2_covariance",
          "p2_variance/p1_p2_covariance"
         ],
         "y": [
          -6.477399838866629,
          -36.99028473057978,
          27.590069990144073,
          -64.07727131404987,
          205.08844897768833,
          273.2737080440872
         ],
         "type": "bar"
        }
       ],
       "layout": {
        "template": {
         "data": {
          "histogram2dcontour": [
           {
            "type": "histogram2dcontour",
            "colorbar": {
             "outlinewidth": 0,
             "ticks": ""
            },
            "colorscale": [
             [
              0.0,
              "#0d0887"
             ],
             [
              0.1111111111111111,
              "#46039f"
             ],
             [
              0.2222222222222222,
              "#7201a8"
             ],
             [
              0.3333333333333333,
              "#9c179e"
             ],
             [
              0.4444444444444444,
              "#bd3786"
             ],
             [
              0.5555555555555556,
              "#d8576b"
             ],
             [
              0.6666666666666666,
              "#ed7953"
             ],
             [
              0.7777777777777778,
              "#fb9f3a"
             ],
             [
              0.8888888888888888,
              "#fdca26"
             ],
             [
              1.0,
              "#f0f921"
             ]
            ]
           }
          ],
          "choropleth": [
           {
            "type": "choropleth",
            "colorbar": {
             "outlinewidth": 0,
             "ticks": ""
            }
           }
          ],
          "histogram2d": [
           {
            "type": "histogram2d",
            "colorbar": {
             "outlinewidth": 0,
             "ticks": ""
            },
            "colorscale": [
             [
              0.0,
              "#0d0887"
             ],
             [
              0.1111111111111111,
              "#46039f"
             ],
             [
              0.2222222222222222,
              "#7201a8"
             ],
             [
              0.3333333333333333,
              "#9c179e"
             ],
             [
              0.4444444444444444,
              "#bd3786"
             ],
             [
              0.5555555555555556,
              "#d8576b"
             ],
             [
              0.6666666666666666,
              "#ed7953"
             ],
             [
              0.7777777777777778,
              "#fb9f3a"
             ],
             [
              0.8888888888888888,
              "#fdca26"
             ],
             [
              1.0,
              "#f0f921"
             ]
            ]
           }
          ],
          "heatmap": [
           {
            "type": "heatmap",
            "colorbar": {
             "outlinewidth": 0,
             "ticks": ""
            },
            "colorscale": [
             [
              0.0,
              "#0d0887"
             ],
             [
              0.1111111111111111,
              "#46039f"
             ],
             [
              0.2222222222222222,
              "#7201a8"
             ],
             [
              0.3333333333333333,
              "#9c179e"
             ],
             [
              0.4444444444444444,
              "#bd3786"
             ],
             [
              0.5555555555555556,
              "#d8576b"
             ],
             [
              0.6666666666666666,
              "#ed7953"
             ],
             [
              0.7777777777777778,
              "#fb9f3a"
             ],
             [
              0.8888888888888888,
              "#fdca26"
             ],
             [
              1.0,
              "#f0f921"
             ]
            ]
           }
          ],
          "heatmapgl": [
           {
            "type": "heatmapgl",
            "colorbar": {
             "outlinewidth": 0,
             "ticks": ""
            },
            "colorscale": [
             [
              0.0,
              "#0d0887"
             ],
             [
              0.1111111111111111,
              "#46039f"
             ],
             [
              0.2222222222222222,
              "#7201a8"
             ],
             [
              0.3333333333333333,
              "#9c179e"
             ],
             [
              0.4444444444444444,
              "#bd3786"
             ],
             [
              0.5555555555555556,
              "#d8576b"
             ],
             [
              0.6666666666666666,
              "#ed7953"
             ],
             [
              0.7777777777777778,
              "#fb9f3a"
             ],
             [
              0.8888888888888888,
              "#fdca26"
             ],
             [
              1.0,
              "#f0f921"
             ]
            ]
           }
          ],
          "contourcarpet": [
           {
            "type": "contourcarpet",
            "colorbar": {
             "outlinewidth": 0,
             "ticks": ""
            }
           }
          ],
          "contour": [
           {
            "type": "contour",
            "colorbar": {
             "outlinewidth": 0,
             "ticks": ""
            },
            "colorscale": [
             [
              0.0,
              "#0d0887"
             ],
             [
              0.1111111111111111,
              "#46039f"
             ],
             [
              0.2222222222222222,
              "#7201a8"
             ],
             [
              0.3333333333333333,
              "#9c179e"
             ],
             [
              0.4444444444444444,
              "#bd3786"
             ],
             [
              0.5555555555555556,
              "#d8576b"
             ],
             [
              0.6666666666666666,
              "#ed7953"
             ],
             [
              0.7777777777777778,
              "#fb9f3a"
             ],
             [
              0.8888888888888888,
              "#fdca26"
             ],
             [
              1.0,
              "#f0f921"
             ]
            ]
           }
          ],
          "surface": [
           {
            "type": "surface",
            "colorbar": {
             "outlinewidth": 0,
             "ticks": ""
            },
            "colorscale": [
             [
              0.0,
              "#0d0887"
             ],
             [
              0.1111111111111111,
              "#46039f"
             ],
             [
              0.2222222222222222,
              "#7201a8"
             ],
             [
              0.3333333333333333,
              "#9c179e"
             ],
             [
              0.4444444444444444,
              "#bd3786"
             ],
             [
              0.5555555555555556,
              "#d8576b"
             ],
             [
              0.6666666666666666,
              "#ed7953"
             ],
             [
              0.7777777777777778,
              "#fb9f3a"
             ],
             [
              0.8888888888888888,
              "#fdca26"
             ],
             [
              1.0,
              "#f0f921"
             ]
            ]
           }
          ],
          "mesh3d": [
           {
            "type": "mesh3d",
            "colorbar": {
             "outlinewidth": 0,
             "ticks": ""
            }
           }
          ],
          "scatter": [
           {
            "fillpattern": {
             "fillmode": "overlay",
             "size": 10,
             "solidity": 0.2
            },
            "type": "scatter"
           }
          ],
          "parcoords": [
           {
            "type": "parcoords",
            "line": {
             "colorbar": {
              "outlinewidth": 0,
              "ticks": ""
             }
            }
           }
          ],
          "scatterpolargl": [
           {
            "type": "scatterpolargl",
            "marker": {
             "colorbar": {
              "outlinewidth": 0,
              "ticks": ""
             }
            }
           }
          ],
          "bar": [
           {
            "error_x": {
             "color": "#2a3f5f"
            },
            "error_y": {
             "color": "#2a3f5f"
            },
            "marker": {
             "line": {
              "color": "#E5ECF6",
              "width": 0.5
             },
             "pattern": {
              "fillmode": "overlay",
              "size": 10,
              "solidity": 0.2
             }
            },
            "type": "bar"
           }
          ],
          "scattergeo": [
           {
            "type": "scattergeo",
            "marker": {
             "colorbar": {
              "outlinewidth": 0,
              "ticks": ""
             }
            }
           }
          ],
          "scatterpolar": [
           {
            "type": "scatterpolar",
            "marker": {
             "colorbar": {
              "outlinewidth": 0,
              "ticks": ""
             }
            }
           }
          ],
          "histogram": [
           {
            "marker": {
             "pattern": {
              "fillmode": "overlay",
              "size": 10,
              "solidity": 0.2
             }
            },
            "type": "histogram"
           }
          ],
          "scattergl": [
           {
            "type": "scattergl",
            "marker": {
             "colorbar": {
              "outlinewidth": 0,
              "ticks": ""
             }
            }
           }
          ],
          "scatter3d": [
           {
            "type": "scatter3d",
            "line": {
             "colorbar": {
              "outlinewidth": 0,
              "ticks": ""
             }
            },
            "marker": {
             "colorbar": {
              "outlinewidth": 0,
              "ticks": ""
             }
            }
           }
          ],
          "scattermapbox": [
           {
            "type": "scattermapbox",
            "marker": {
             "colorbar": {
              "outlinewidth": 0,
              "ticks": ""
             }
            }
           }
          ],
          "scatterternary": [
           {
            "type": "scatterternary",
            "marker": {
             "colorbar": {
              "outlinewidth": 0,
              "ticks": ""
             }
            }
           }
          ],
          "scattercarpet": [
           {
            "type": "scattercarpet",
            "marker": {
             "colorbar": {
              "outlinewidth": 0,
              "ticks": ""
             }
            }
           }
          ],
          "carpet": [
           {
            "aaxis": {
             "endlinecolor": "#2a3f5f",
             "gridcolor": "white",
             "linecolor": "white",
             "minorgridcolor": "white",
             "startlinecolor": "#2a3f5f"
            },
            "baxis": {
             "endlinecolor": "#2a3f5f",
             "gridcolor": "white",
             "linecolor": "white",
             "minorgridcolor": "white",
             "startlinecolor": "#2a3f5f"
            },
            "type": "carpet"
           }
          ],
          "table": [
           {
            "cells": {
             "fill": {
              "color": "#EBF0F8"
             },
             "line": {
              "color": "white"
             }
            },
            "header": {
             "fill": {
              "color": "#C8D4E3"
             },
             "line": {
              "color": "white"
             }
            },
            "type": "table"
           }
          ],
          "barpolar": [
           {
            "marker": {
             "line": {
              "color": "#E5ECF6",
              "width": 0.5
             },
             "pattern": {
              "fillmode": "overlay",
              "size": 10,
              "solidity": 0.2
             }
            },
            "type": "barpolar"
           }
          ],
          "pie": [
           {
            "automargin": true,
            "type": "pie"
           }
          ]
         },
         "layout": {
          "autotypenumbers": "strict",
          "colorway": [
           "#636efa",
           "#EF553B",
           "#00cc96",
           "#ab63fa",
           "#FFA15A",
           "#19d3f3",
           "#FF6692",
           "#B6E880",
           "#FF97FF",
           "#FECB52"
          ],
          "font": {
           "color": "#2a3f5f"
          },
          "hovermode": "closest",
          "hoverlabel": {
           "align": "left"
          },
          "paper_bgcolor": "white",
          "plot_bgcolor": "#E5ECF6",
          "polar": {
           "bgcolor": "#E5ECF6",
           "angularaxis": {
            "gridcolor": "white",
            "linecolor": "white",
            "ticks": ""
           },
           "radialaxis": {
            "gridcolor": "white",
            "linecolor": "white",
            "ticks": ""
           }
          },
          "ternary": {
           "bgcolor": "#E5ECF6",
           "aaxis": {
            "gridcolor": "white",
            "linecolor": "white",
            "ticks": ""
           },
           "baxis": {
            "gridcolor": "white",
            "linecolor": "white",
            "ticks": ""
           },
           "caxis": {
            "gridcolor": "white",
            "linecolor": "white",
            "ticks": ""
           }
          },
          "coloraxis": {
           "colorbar": {
            "outlinewidth": 0,
            "ticks": ""
           }
          },
          "colorscale": {
           "sequential": [
            [
             0.0,
             "#0d0887"
            ],
            [
             0.1111111111111111,
             "#46039f"
            ],
            [
             0.2222222222222222,
             "#7201a8"
            ],
            [
             0.3333333333333333,
             "#9c179e"
            ],
            [
             0.4444444444444444,
             "#bd3786"
            ],
            [
             0.5555555555555556,
             "#d8576b"
            ],
            [
             0.6666666666666666,
             "#ed7953"
            ],
            [
             0.7777777777777778,
             "#fb9f3a"
            ],
            [
             0.8888888888888888,
             "#fdca26"
            ],
            [
             1.0,
             "#f0f921"
            ]
           ],
           "sequentialminus": [
            [
             0.0,
             "#0d0887"
            ],
            [
             0.1111111111111111,
             "#46039f"
            ],
            [
             0.2222222222222222,
             "#7201a8"
            ],
            [
             0.3333333333333333,
             "#9c179e"
            ],
            [
             0.4444444444444444,
             "#bd3786"
            ],
            [
             0.5555555555555556,
             "#d8576b"
            ],
            [
             0.6666666666666666,
             "#ed7953"
            ],
            [
             0.7777777777777778,
             "#fb9f3a"
            ],
            [
             0.8888888888888888,
             "#fdca26"
            ],
            [
             1.0,
             "#f0f921"
            ]
           ],
           "diverging": [
            [
             0,
             "#8e0152"
            ],
            [
             0.1,
             "#c51b7d"
            ],
            [
             0.2,
             "#de77ae"
            ],
            [
             0.3,
             "#f1b6da"
            ],
            [
             0.4,
             "#fde0ef"
            ],
            [
             0.5,
             "#f7f7f7"
            ],
            [
             0.6,
             "#e6f5d0"
            ],
            [
             0.7,
             "#b8e186"
            ],
            [
             0.8,
             "#7fbc41"
            ],
            [
             0.9,
             "#4d9221"
            ],
            [
             1,
             "#276419"
            ]
           ]
          },
          "xaxis": {
           "gridcolor": "white",
           "linecolor": "white",
           "ticks": "",
           "title": {
            "standoff": 15
           },
           "zerolinecolor": "white",
           "automargin": true,
           "zerolinewidth": 2
          },
          "yaxis": {
           "gridcolor": "white",
           "linecolor": "white",
           "ticks": "",
           "title": {
            "standoff": 15
           },
           "zerolinecolor": "white",
           "automargin": true,
           "zerolinewidth": 2
          },
          "scene": {
           "xaxis": {
            "backgroundcolor": "#E5ECF6",
            "gridcolor": "white",
            "linecolor": "white",
            "showbackground": true,
            "ticks": "",
            "zerolinecolor": "white",
            "gridwidth": 2
           },
           "yaxis": {
            "backgroundcolor": "#E5ECF6",
            "gridcolor": "white",
            "linecolor": "white",
            "showbackground": true,
            "ticks": "",
            "zerolinecolor": "white",
            "gridwidth": 2
           },
           "zaxis": {
            "backgroundcolor": "#E5ECF6",
            "gridcolor": "white",
            "linecolor": "white",
            "showbackground": true,
            "ticks": "",
            "zerolinecolor": "white",
            "gridwidth": 2
           }
          },
          "shapedefaults": {
           "line": {
            "color": "#2a3f5f"
           }
          },
          "annotationdefaults": {
           "arrowcolor": "#2a3f5f",
           "arrowhead": 0,
           "arrowwidth": 1
          },
          "geo": {
           "bgcolor": "white",
           "landcolor": "#E5ECF6",
           "subunitcolor": "white",
           "showland": true,
           "showlakes": true,
           "lakecolor": "white"
          },
          "title": {
           "x": 0.05
          },
          "mapbox": {
           "style": "light"
          }
         }
        },
        "xaxis": {
         "anchor": "y",
         "domain": [
          0.0,
          1.0
         ]
        },
        "yaxis": {
         "anchor": "x",
         "domain": [
          0.0,
          1.0
         ],
         "type": "log"
        },
        "legend": {
         "tracegroupgap": 0
        },
        "title": {
         "text": "Correlation between Errors"
        },
        "barmode": "relative"
       },
       "config": {
        "plotlyServerURL": "https://plot.ly"
       }
      },
      "text/html": "<div>                            <div id=\"40a1b4b7-64de-4050-bd9a-eb59a430890b\" class=\"plotly-graph-div\" style=\"height:525px; width:100%;\"></div>            <script type=\"text/javascript\">                require([\"plotly\"], function(Plotly) {                    window.PLOTLYENV=window.PLOTLYENV || {};                                    if (document.getElementById(\"40a1b4b7-64de-4050-bd9a-eb59a430890b\")) {                    Plotly.newPlot(                        \"40a1b4b7-64de-4050-bd9a-eb59a430890b\",                        [{\"alignmentgroup\":\"True\",\"hovertemplate\":\"\\u003cextra\\u003e\\u003c\\u002fextra\\u003e\",\"legendgroup\":\"\",\"marker\":{\"color\":\"#636efa\",\"pattern\":{\"shape\":\"\"}},\"name\":\"\",\"offsetgroup\":\"\",\"orientation\":\"v\",\"showlegend\":false,\"textposition\":\"auto\",\"xaxis\":\"x\",\"yaxis\":\"y\",\"type\":\"bar\"},{\"marker\":{\"color\":\"green\"},\"name\":\"positive correlation\",\"x\":[\"squared_error\\u002fp1_variance\",\"squared_error\\u002fp2_variance\",\"squared_error\\u002fp1_p2_covariance\",\"p1_variance\\u002fp2_variance\",\"p1_variance\\u002fp1_p2_covariance\",\"p2_variance\\u002fp1_p2_covariance\"],\"y\":[6.477399838866629,36.99028473057978,-27.590069990144073,64.07727131404987,-205.08844897768833,-273.2737080440872],\"type\":\"bar\"},{\"marker\":{\"color\":\"crimson\"},\"name\":\"negative correlation\",\"x\":[\"squared_error\\u002fp1_variance\",\"squared_error\\u002fp2_variance\",\"squared_error\\u002fp1_p2_covariance\",\"p1_variance\\u002fp2_variance\",\"p1_variance\\u002fp1_p2_covariance\",\"p2_variance\\u002fp1_p2_covariance\"],\"y\":[-6.477399838866629,-36.99028473057978,27.590069990144073,-64.07727131404987,205.08844897768833,273.2737080440872],\"type\":\"bar\"}],                        {\"template\":{\"data\":{\"histogram2dcontour\":[{\"type\":\"histogram2dcontour\",\"colorbar\":{\"outlinewidth\":0,\"ticks\":\"\"},\"colorscale\":[[0.0,\"#0d0887\"],[0.1111111111111111,\"#46039f\"],[0.2222222222222222,\"#7201a8\"],[0.3333333333333333,\"#9c179e\"],[0.4444444444444444,\"#bd3786\"],[0.5555555555555556,\"#d8576b\"],[0.6666666666666666,\"#ed7953\"],[0.7777777777777778,\"#fb9f3a\"],[0.8888888888888888,\"#fdca26\"],[1.0,\"#f0f921\"]]}],\"choropleth\":[{\"type\":\"choropleth\",\"colorbar\":{\"outlinewidth\":0,\"ticks\":\"\"}}],\"histogram2d\":[{\"type\":\"histogram2d\",\"colorbar\":{\"outlinewidth\":0,\"ticks\":\"\"},\"colorscale\":[[0.0,\"#0d0887\"],[0.1111111111111111,\"#46039f\"],[0.2222222222222222,\"#7201a8\"],[0.3333333333333333,\"#9c179e\"],[0.4444444444444444,\"#bd3786\"],[0.5555555555555556,\"#d8576b\"],[0.6666666666666666,\"#ed7953\"],[0.7777777777777778,\"#fb9f3a\"],[0.8888888888888888,\"#fdca26\"],[1.0,\"#f0f921\"]]}],\"heatmap\":[{\"type\":\"heatmap\",\"colorbar\":{\"outlinewidth\":0,\"ticks\":\"\"},\"colorscale\":[[0.0,\"#0d0887\"],[0.1111111111111111,\"#46039f\"],[0.2222222222222222,\"#7201a8\"],[0.3333333333333333,\"#9c179e\"],[0.4444444444444444,\"#bd3786\"],[0.5555555555555556,\"#d8576b\"],[0.6666666666666666,\"#ed7953\"],[0.7777777777777778,\"#fb9f3a\"],[0.8888888888888888,\"#fdca26\"],[1.0,\"#f0f921\"]]}],\"heatmapgl\":[{\"type\":\"heatmapgl\",\"colorbar\":{\"outlinewidth\":0,\"ticks\":\"\"},\"colorscale\":[[0.0,\"#0d0887\"],[0.1111111111111111,\"#46039f\"],[0.2222222222222222,\"#7201a8\"],[0.3333333333333333,\"#9c179e\"],[0.4444444444444444,\"#bd3786\"],[0.5555555555555556,\"#d8576b\"],[0.6666666666666666,\"#ed7953\"],[0.7777777777777778,\"#fb9f3a\"],[0.8888888888888888,\"#fdca26\"],[1.0,\"#f0f921\"]]}],\"contourcarpet\":[{\"type\":\"contourcarpet\",\"colorbar\":{\"outlinewidth\":0,\"ticks\":\"\"}}],\"contour\":[{\"type\":\"contour\",\"colorbar\":{\"outlinewidth\":0,\"ticks\":\"\"},\"colorscale\":[[0.0,\"#0d0887\"],[0.1111111111111111,\"#46039f\"],[0.2222222222222222,\"#7201a8\"],[0.3333333333333333,\"#9c179e\"],[0.4444444444444444,\"#bd3786\"],[0.5555555555555556,\"#d8576b\"],[0.6666666666666666,\"#ed7953\"],[0.7777777777777778,\"#fb9f3a\"],[0.8888888888888888,\"#fdca26\"],[1.0,\"#f0f921\"]]}],\"surface\":[{\"type\":\"surface\",\"colorbar\":{\"outlinewidth\":0,\"ticks\":\"\"},\"colorscale\":[[0.0,\"#0d0887\"],[0.1111111111111111,\"#46039f\"],[0.2222222222222222,\"#7201a8\"],[0.3333333333333333,\"#9c179e\"],[0.4444444444444444,\"#bd3786\"],[0.5555555555555556,\"#d8576b\"],[0.6666666666666666,\"#ed7953\"],[0.7777777777777778,\"#fb9f3a\"],[0.8888888888888888,\"#fdca26\"],[1.0,\"#f0f921\"]]}],\"mesh3d\":[{\"type\":\"mesh3d\",\"colorbar\":{\"outlinewidth\":0,\"ticks\":\"\"}}],\"scatter\":[{\"fillpattern\":{\"fillmode\":\"overlay\",\"size\":10,\"solidity\":0.2},\"type\":\"scatter\"}],\"parcoords\":[{\"type\":\"parcoords\",\"line\":{\"colorbar\":{\"outlinewidth\":0,\"ticks\":\"\"}}}],\"scatterpolargl\":[{\"type\":\"scatterpolargl\",\"marker\":{\"colorbar\":{\"outlinewidth\":0,\"ticks\":\"\"}}}],\"bar\":[{\"error_x\":{\"color\":\"#2a3f5f\"},\"error_y\":{\"color\":\"#2a3f5f\"},\"marker\":{\"line\":{\"color\":\"#E5ECF6\",\"width\":0.5},\"pattern\":{\"fillmode\":\"overlay\",\"size\":10,\"solidity\":0.2}},\"type\":\"bar\"}],\"scattergeo\":[{\"type\":\"scattergeo\",\"marker\":{\"colorbar\":{\"outlinewidth\":0,\"ticks\":\"\"}}}],\"scatterpolar\":[{\"type\":\"scatterpolar\",\"marker\":{\"colorbar\":{\"outlinewidth\":0,\"ticks\":\"\"}}}],\"histogram\":[{\"marker\":{\"pattern\":{\"fillmode\":\"overlay\",\"size\":10,\"solidity\":0.2}},\"type\":\"histogram\"}],\"scattergl\":[{\"type\":\"scattergl\",\"marker\":{\"colorbar\":{\"outlinewidth\":0,\"ticks\":\"\"}}}],\"scatter3d\":[{\"type\":\"scatter3d\",\"line\":{\"colorbar\":{\"outlinewidth\":0,\"ticks\":\"\"}},\"marker\":{\"colorbar\":{\"outlinewidth\":0,\"ticks\":\"\"}}}],\"scattermapbox\":[{\"type\":\"scattermapbox\",\"marker\":{\"colorbar\":{\"outlinewidth\":0,\"ticks\":\"\"}}}],\"scatterternary\":[{\"type\":\"scatterternary\",\"marker\":{\"colorbar\":{\"outlinewidth\":0,\"ticks\":\"\"}}}],\"scattercarpet\":[{\"type\":\"scattercarpet\",\"marker\":{\"colorbar\":{\"outlinewidth\":0,\"ticks\":\"\"}}}],\"carpet\":[{\"aaxis\":{\"endlinecolor\":\"#2a3f5f\",\"gridcolor\":\"white\",\"linecolor\":\"white\",\"minorgridcolor\":\"white\",\"startlinecolor\":\"#2a3f5f\"},\"baxis\":{\"endlinecolor\":\"#2a3f5f\",\"gridcolor\":\"white\",\"linecolor\":\"white\",\"minorgridcolor\":\"white\",\"startlinecolor\":\"#2a3f5f\"},\"type\":\"carpet\"}],\"table\":[{\"cells\":{\"fill\":{\"color\":\"#EBF0F8\"},\"line\":{\"color\":\"white\"}},\"header\":{\"fill\":{\"color\":\"#C8D4E3\"},\"line\":{\"color\":\"white\"}},\"type\":\"table\"}],\"barpolar\":[{\"marker\":{\"line\":{\"color\":\"#E5ECF6\",\"width\":0.5},\"pattern\":{\"fillmode\":\"overlay\",\"size\":10,\"solidity\":0.2}},\"type\":\"barpolar\"}],\"pie\":[{\"automargin\":true,\"type\":\"pie\"}]},\"layout\":{\"autotypenumbers\":\"strict\",\"colorway\":[\"#636efa\",\"#EF553B\",\"#00cc96\",\"#ab63fa\",\"#FFA15A\",\"#19d3f3\",\"#FF6692\",\"#B6E880\",\"#FF97FF\",\"#FECB52\"],\"font\":{\"color\":\"#2a3f5f\"},\"hovermode\":\"closest\",\"hoverlabel\":{\"align\":\"left\"},\"paper_bgcolor\":\"white\",\"plot_bgcolor\":\"#E5ECF6\",\"polar\":{\"bgcolor\":\"#E5ECF6\",\"angularaxis\":{\"gridcolor\":\"white\",\"linecolor\":\"white\",\"ticks\":\"\"},\"radialaxis\":{\"gridcolor\":\"white\",\"linecolor\":\"white\",\"ticks\":\"\"}},\"ternary\":{\"bgcolor\":\"#E5ECF6\",\"aaxis\":{\"gridcolor\":\"white\",\"linecolor\":\"white\",\"ticks\":\"\"},\"baxis\":{\"gridcolor\":\"white\",\"linecolor\":\"white\",\"ticks\":\"\"},\"caxis\":{\"gridcolor\":\"white\",\"linecolor\":\"white\",\"ticks\":\"\"}},\"coloraxis\":{\"colorbar\":{\"outlinewidth\":0,\"ticks\":\"\"}},\"colorscale\":{\"sequential\":[[0.0,\"#0d0887\"],[0.1111111111111111,\"#46039f\"],[0.2222222222222222,\"#7201a8\"],[0.3333333333333333,\"#9c179e\"],[0.4444444444444444,\"#bd3786\"],[0.5555555555555556,\"#d8576b\"],[0.6666666666666666,\"#ed7953\"],[0.7777777777777778,\"#fb9f3a\"],[0.8888888888888888,\"#fdca26\"],[1.0,\"#f0f921\"]],\"sequentialminus\":[[0.0,\"#0d0887\"],[0.1111111111111111,\"#46039f\"],[0.2222222222222222,\"#7201a8\"],[0.3333333333333333,\"#9c179e\"],[0.4444444444444444,\"#bd3786\"],[0.5555555555555556,\"#d8576b\"],[0.6666666666666666,\"#ed7953\"],[0.7777777777777778,\"#fb9f3a\"],[0.8888888888888888,\"#fdca26\"],[1.0,\"#f0f921\"]],\"diverging\":[[0,\"#8e0152\"],[0.1,\"#c51b7d\"],[0.2,\"#de77ae\"],[0.3,\"#f1b6da\"],[0.4,\"#fde0ef\"],[0.5,\"#f7f7f7\"],[0.6,\"#e6f5d0\"],[0.7,\"#b8e186\"],[0.8,\"#7fbc41\"],[0.9,\"#4d9221\"],[1,\"#276419\"]]},\"xaxis\":{\"gridcolor\":\"white\",\"linecolor\":\"white\",\"ticks\":\"\",\"title\":{\"standoff\":15},\"zerolinecolor\":\"white\",\"automargin\":true,\"zerolinewidth\":2},\"yaxis\":{\"gridcolor\":\"white\",\"linecolor\":\"white\",\"ticks\":\"\",\"title\":{\"standoff\":15},\"zerolinecolor\":\"white\",\"automargin\":true,\"zerolinewidth\":2},\"scene\":{\"xaxis\":{\"backgroundcolor\":\"#E5ECF6\",\"gridcolor\":\"white\",\"linecolor\":\"white\",\"showbackground\":true,\"ticks\":\"\",\"zerolinecolor\":\"white\",\"gridwidth\":2},\"yaxis\":{\"backgroundcolor\":\"#E5ECF6\",\"gridcolor\":\"white\",\"linecolor\":\"white\",\"showbackground\":true,\"ticks\":\"\",\"zerolinecolor\":\"white\",\"gridwidth\":2},\"zaxis\":{\"backgroundcolor\":\"#E5ECF6\",\"gridcolor\":\"white\",\"linecolor\":\"white\",\"showbackground\":true,\"ticks\":\"\",\"zerolinecolor\":\"white\",\"gridwidth\":2}},\"shapedefaults\":{\"line\":{\"color\":\"#2a3f5f\"}},\"annotationdefaults\":{\"arrowcolor\":\"#2a3f5f\",\"arrowhead\":0,\"arrowwidth\":1},\"geo\":{\"bgcolor\":\"white\",\"landcolor\":\"#E5ECF6\",\"subunitcolor\":\"white\",\"showland\":true,\"showlakes\":true,\"lakecolor\":\"white\"},\"title\":{\"x\":0.05},\"mapbox\":{\"style\":\"light\"}}},\"xaxis\":{\"anchor\":\"y\",\"domain\":[0.0,1.0]},\"yaxis\":{\"anchor\":\"x\",\"domain\":[0.0,1.0],\"type\":\"log\"},\"legend\":{\"tracegroupgap\":0},\"title\":{\"text\":\"Correlation between Errors\"},\"barmode\":\"relative\"},                        {\"responsive\": true}                    ).then(function(){\n                            \nvar gd = document.getElementById('40a1b4b7-64de-4050-bd9a-eb59a430890b');\nvar x = new MutationObserver(function (mutations, observer) {{\n        var display = window.getComputedStyle(gd).display;\n        if (!display || display === 'none') {{\n            console.log([gd, 'removed!']);\n            Plotly.purge(gd);\n            observer.disconnect();\n        }}\n}});\n\n// Listen for the removal of the full notebook cells\nvar notebookContainer = gd.closest('#notebook-container');\nif (notebookContainer) {{\n    x.observe(notebookContainer, {childList: true});\n}}\n\n// Listen for the clearing of the current output cell\nvar outputEl = gd.closest('.output');\nif (outputEl) {{\n    x.observe(outputEl, {childList: true});\n}}\n\n                        })                };                });            </script>        </div>"
     },
     "metadata": {},
     "output_type": "display_data"
    }
   ],
   "source": [
    "# kinetics_df[kinetics_df[\"squared_error\"]>0.01] 29/317 entries\n",
    "# calculating covariance between errors to use only the reasonable ones\n",
    "\n",
    "# permutate all combinations of the errors\n",
    "errorcombs = [[],[],[]]\n",
    "for err1, err2 in itertools.combinations([\"squared_error\", \"p1_variance\", \"p2_variance\", \"p1_p2_covariance\"], 2):\n",
    "    # print(f\"The covariance between {err1} and {err2} is {np.cov(kinetics_df[err1], kinetics_df[err2])}\")\n",
    "    # print(f\"The correlation between {err1} and {err2} is {np.correlate(kinetics_df[err1], kinetics_df[err2])}\")\n",
    "    # print(\"\\n\")\n",
    "    errorcombs[0].append(f\"{err1}/{err2}\")\n",
    "    errorcombs[1].append(np.cov(kinetics_df[err1], kinetics_df[err2]))\n",
    "    errorcombs[2].append(*np.correlate(kinetics_df[err1], kinetics_df[err2]))\n",
    "errorcombs_dc = {\"name\": errorcombs[0], \"covariance\":errorcombs[1], \"correlation\":errorcombs[2]}\n",
    "errorcombs_df = pd.DataFrame(data=errorcombs_dc)\n",
    "errorcombs_df[\"i_correlation\"] = errorcombs_df[\"correlation\"] * (-1)\n",
    "\n",
    "# plot bar plot per a pair of errors with superimposed correlation\n",
    "err_fig = px.bar(title=\"Correlation between Errors\", labels={\"correlation\":\"correlation\"}, log_y=True)\n",
    "err_fig.add_bar(x=errorcombs_df[\"name\"], y=errorcombs_df[\"correlation\"], name=\"positive correlation\", marker_color=\"green\")\n",
    "err_fig.add_bar(x=errorcombs_df[\"name\"], y=errorcombs_df[\"i_correlation\"], name=\"negative correlation\", marker_color=\"crimson\")\n",
    "err_fig.show()"
   ],
   "metadata": {
    "collapsed": false,
    "pycharm": {
     "name": "#%%\n"
    }
   }
  },
  {
   "cell_type": "code",
   "execution_count": 97,
   "outputs": [
    {
     "data": {
      "application/vnd.plotly.v1+json": {
       "data": [
        {
         "alignmentgroup": "True",
         "box": {
          "visible": true
         },
         "hovertemplate": "variable=%{x}<br>value=%{y}<extra></extra>",
         "legendgroup": "",
         "marker": {
          "color": "#636efa"
         },
         "name": "",
         "offsetgroup": "",
         "orientation": "v",
         "points": "all",
         "scalegroup": "True",
         "showlegend": false,
         "x": [
          "squared_error",
          "squared_error",
          "squared_error",
          "squared_error",
          "squared_error",
          "squared_error",
          "squared_error",
          "squared_error",
          "squared_error",
          "squared_error",
          "squared_error",
          "squared_error",
          "squared_error",
          "squared_error",
          "squared_error",
          "squared_error",
          "squared_error",
          "squared_error",
          "squared_error",
          "squared_error",
          "squared_error",
          "squared_error",
          "squared_error",
          "squared_error",
          "squared_error",
          "squared_error",
          "squared_error",
          "squared_error",
          "squared_error",
          "squared_error",
          "squared_error",
          "squared_error",
          "squared_error",
          "squared_error",
          "squared_error",
          "squared_error",
          "squared_error",
          "squared_error",
          "squared_error",
          "squared_error",
          "squared_error",
          "squared_error",
          "squared_error",
          "squared_error",
          "squared_error",
          "squared_error",
          "squared_error",
          "squared_error",
          "squared_error",
          "squared_error",
          "squared_error",
          "squared_error",
          "squared_error",
          "squared_error",
          "squared_error",
          "squared_error",
          "squared_error",
          "squared_error",
          "squared_error",
          "squared_error",
          "squared_error",
          "squared_error",
          "squared_error",
          "squared_error",
          "squared_error",
          "squared_error",
          "squared_error",
          "squared_error",
          "squared_error",
          "squared_error",
          "squared_error",
          "squared_error",
          "squared_error",
          "squared_error",
          "squared_error",
          "squared_error",
          "squared_error",
          "squared_error",
          "squared_error",
          "squared_error",
          "squared_error",
          "squared_error",
          "squared_error",
          "squared_error",
          "squared_error",
          "squared_error",
          "squared_error",
          "squared_error",
          "squared_error",
          "squared_error",
          "squared_error",
          "squared_error",
          "squared_error",
          "squared_error",
          "squared_error",
          "squared_error",
          "squared_error",
          "squared_error",
          "squared_error",
          "squared_error",
          "squared_error",
          "squared_error",
          "squared_error",
          "squared_error",
          "squared_error",
          "squared_error",
          "squared_error",
          "squared_error",
          "squared_error",
          "squared_error",
          "squared_error",
          "squared_error",
          "squared_error",
          "squared_error",
          "squared_error",
          "squared_error",
          "squared_error",
          "squared_error",
          "squared_error",
          "squared_error",
          "squared_error",
          "squared_error",
          "squared_error",
          "squared_error",
          "squared_error",
          "squared_error",
          "squared_error",
          "squared_error",
          "squared_error",
          "squared_error",
          "squared_error",
          "squared_error",
          "squared_error",
          "squared_error",
          "squared_error",
          "squared_error",
          "squared_error",
          "squared_error",
          "squared_error",
          "squared_error",
          "squared_error",
          "squared_error",
          "squared_error",
          "squared_error",
          "squared_error",
          "squared_error",
          "squared_error",
          "squared_error",
          "squared_error",
          "squared_error",
          "squared_error",
          "squared_error",
          "squared_error",
          "squared_error",
          "squared_error",
          "squared_error",
          "squared_error",
          "squared_error",
          "squared_error",
          "squared_error",
          "squared_error",
          "squared_error",
          "squared_error",
          "squared_error",
          "squared_error",
          "squared_error",
          "squared_error",
          "squared_error",
          "squared_error",
          "squared_error",
          "squared_error",
          "squared_error",
          "squared_error",
          "squared_error",
          "squared_error",
          "squared_error",
          "squared_error",
          "squared_error",
          "squared_error",
          "squared_error",
          "squared_error",
          "squared_error",
          "squared_error",
          "squared_error",
          "squared_error",
          "squared_error",
          "squared_error",
          "squared_error",
          "squared_error",
          "squared_error",
          "squared_error",
          "squared_error",
          "squared_error",
          "squared_error",
          "squared_error",
          "squared_error",
          "squared_error",
          "squared_error",
          "squared_error",
          "squared_error",
          "squared_error",
          "squared_error",
          "squared_error",
          "squared_error",
          "squared_error",
          "squared_error",
          "squared_error",
          "squared_error",
          "squared_error",
          "squared_error",
          "squared_error",
          "squared_error",
          "squared_error",
          "squared_error",
          "squared_error",
          "squared_error",
          "squared_error",
          "squared_error",
          "squared_error",
          "squared_error",
          "squared_error",
          "squared_error",
          "squared_error",
          "squared_error",
          "squared_error",
          "squared_error",
          "squared_error",
          "squared_error",
          "squared_error",
          "squared_error",
          "squared_error",
          "squared_error",
          "squared_error",
          "squared_error",
          "squared_error",
          "squared_error",
          "squared_error",
          "squared_error",
          "squared_error",
          "squared_error",
          "squared_error",
          "squared_error",
          "squared_error",
          "squared_error",
          "squared_error",
          "squared_error",
          "squared_error",
          "squared_error",
          "squared_error",
          "squared_error",
          "squared_error",
          "squared_error",
          "squared_error",
          "squared_error",
          "squared_error",
          "squared_error",
          "squared_error",
          "squared_error",
          "squared_error",
          "squared_error",
          "squared_error",
          "squared_error",
          "squared_error",
          "squared_error",
          "squared_error",
          "squared_error",
          "squared_error",
          "squared_error",
          "squared_error",
          "squared_error",
          "squared_error",
          "squared_error",
          "squared_error",
          "squared_error",
          "squared_error",
          "squared_error",
          "squared_error",
          "squared_error",
          "squared_error",
          "squared_error",
          "squared_error",
          "squared_error",
          "squared_error",
          "squared_error",
          "squared_error",
          "squared_error",
          "squared_error",
          "squared_error",
          "squared_error",
          "squared_error",
          "squared_error",
          "squared_error",
          "squared_error",
          "squared_error",
          "squared_error",
          "squared_error",
          "squared_error",
          "squared_error",
          "squared_error",
          "squared_error",
          "squared_error",
          "squared_error",
          "squared_error",
          "squared_error",
          "squared_error",
          "squared_error",
          "squared_error",
          "squared_error",
          "squared_error",
          "squared_error",
          "squared_error",
          "squared_error",
          "squared_error",
          "p1_variance",
          "p1_variance",
          "p1_variance",
          "p1_variance",
          "p1_variance",
          "p1_variance",
          "p1_variance",
          "p1_variance",
          "p1_variance",
          "p1_variance",
          "p1_variance",
          "p1_variance",
          "p1_variance",
          "p1_variance",
          "p1_variance",
          "p1_variance",
          "p1_variance",
          "p1_variance",
          "p1_variance",
          "p1_variance",
          "p1_variance",
          "p1_variance",
          "p1_variance",
          "p1_variance",
          "p1_variance",
          "p1_variance",
          "p1_variance",
          "p1_variance",
          "p1_variance",
          "p1_variance",
          "p1_variance",
          "p1_variance",
          "p1_variance",
          "p1_variance",
          "p1_variance",
          "p1_variance",
          "p1_variance",
          "p1_variance",
          "p1_variance",
          "p1_variance",
          "p1_variance",
          "p1_variance",
          "p1_variance",
          "p1_variance",
          "p1_variance",
          "p1_variance",
          "p1_variance",
          "p1_variance",
          "p1_variance",
          "p1_variance",
          "p1_variance",
          "p1_variance",
          "p1_variance",
          "p1_variance",
          "p1_variance",
          "p1_variance",
          "p1_variance",
          "p1_variance",
          "p1_variance",
          "p1_variance",
          "p1_variance",
          "p1_variance",
          "p1_variance",
          "p1_variance",
          "p1_variance",
          "p1_variance",
          "p1_variance",
          "p1_variance",
          "p1_variance",
          "p1_variance",
          "p1_variance",
          "p1_variance",
          "p1_variance",
          "p1_variance",
          "p1_variance",
          "p1_variance",
          "p1_variance",
          "p1_variance",
          "p1_variance",
          "p1_variance",
          "p1_variance",
          "p1_variance",
          "p1_variance",
          "p1_variance",
          "p1_variance",
          "p1_variance",
          "p1_variance",
          "p1_variance",
          "p1_variance",
          "p1_variance",
          "p1_variance",
          "p1_variance",
          "p1_variance",
          "p1_variance",
          "p1_variance",
          "p1_variance",
          "p1_variance",
          "p1_variance",
          "p1_variance",
          "p1_variance",
          "p1_variance",
          "p1_variance",
          "p1_variance",
          "p1_variance",
          "p1_variance",
          "p1_variance",
          "p1_variance",
          "p1_variance",
          "p1_variance",
          "p1_variance",
          "p1_variance",
          "p1_variance",
          "p1_variance",
          "p1_variance",
          "p1_variance",
          "p1_variance",
          "p1_variance",
          "p1_variance",
          "p1_variance",
          "p1_variance",
          "p1_variance",
          "p1_variance",
          "p1_variance",
          "p1_variance",
          "p1_variance",
          "p1_variance",
          "p1_variance",
          "p1_variance",
          "p1_variance",
          "p1_variance",
          "p1_variance",
          "p1_variance",
          "p1_variance",
          "p1_variance",
          "p1_variance",
          "p1_variance",
          "p1_variance",
          "p1_variance",
          "p1_variance",
          "p1_variance",
          "p1_variance",
          "p1_variance",
          "p1_variance",
          "p1_variance",
          "p1_variance",
          "p1_variance",
          "p1_variance",
          "p1_variance",
          "p1_variance",
          "p1_variance",
          "p1_variance",
          "p1_variance",
          "p1_variance",
          "p1_variance",
          "p1_variance",
          "p1_variance",
          "p1_variance",
          "p1_variance",
          "p1_variance",
          "p1_variance",
          "p1_variance",
          "p1_variance",
          "p1_variance",
          "p1_variance",
          "p1_variance",
          "p1_variance",
          "p1_variance",
          "p1_variance",
          "p1_variance",
          "p1_variance",
          "p1_variance",
          "p1_variance",
          "p1_variance",
          "p1_variance",
          "p1_variance",
          "p1_variance",
          "p1_variance",
          "p1_variance",
          "p1_variance",
          "p1_variance",
          "p1_variance",
          "p1_variance",
          "p1_variance",
          "p1_variance",
          "p1_variance",
          "p1_variance",
          "p1_variance",
          "p1_variance",
          "p1_variance",
          "p1_variance",
          "p1_variance",
          "p1_variance",
          "p1_variance",
          "p1_variance",
          "p1_variance",
          "p1_variance",
          "p1_variance",
          "p1_variance",
          "p1_variance",
          "p1_variance",
          "p1_variance",
          "p1_variance",
          "p1_variance",
          "p1_variance",
          "p1_variance",
          "p1_variance",
          "p1_variance",
          "p1_variance",
          "p1_variance",
          "p1_variance",
          "p1_variance",
          "p1_variance",
          "p1_variance",
          "p1_variance",
          "p1_variance",
          "p1_variance",
          "p1_variance",
          "p1_variance",
          "p1_variance",
          "p1_variance",
          "p1_variance",
          "p1_variance",
          "p1_variance",
          "p1_variance",
          "p1_variance",
          "p1_variance",
          "p1_variance",
          "p1_variance",
          "p1_variance",
          "p1_variance",
          "p1_variance",
          "p1_variance",
          "p1_variance",
          "p1_variance",
          "p1_variance",
          "p1_variance",
          "p1_variance",
          "p1_variance",
          "p1_variance",
          "p1_variance",
          "p1_variance",
          "p1_variance",
          "p1_variance",
          "p1_variance",
          "p1_variance",
          "p1_variance",
          "p1_variance",
          "p1_variance",
          "p1_variance",
          "p1_variance",
          "p1_variance",
          "p1_variance",
          "p1_variance",
          "p1_variance",
          "p1_variance",
          "p1_variance",
          "p1_variance",
          "p1_variance",
          "p1_variance",
          "p1_variance",
          "p1_variance",
          "p1_variance",
          "p1_variance",
          "p1_variance",
          "p1_variance",
          "p1_variance",
          "p1_variance",
          "p1_variance",
          "p1_variance",
          "p1_variance",
          "p1_variance",
          "p1_variance",
          "p1_variance",
          "p1_variance",
          "p1_variance",
          "p1_variance",
          "p1_variance",
          "p1_variance",
          "p1_variance",
          "p1_variance",
          "p1_variance",
          "p1_variance",
          "p1_variance",
          "p1_variance",
          "p1_variance",
          "p1_variance",
          "p1_variance",
          "p1_variance",
          "p1_variance",
          "p1_variance",
          "p1_variance",
          "p1_variance",
          "p1_variance",
          "p1_variance",
          "p1_variance",
          "p1_variance",
          "p1_variance",
          "p1_variance",
          "p1_variance",
          "p1_variance",
          "p1_variance",
          "p1_variance",
          "p1_variance",
          "p1_variance",
          "p1_variance",
          "p1_variance",
          "p1_variance",
          "p1_variance",
          "p1_variance",
          "p1_variance",
          "p1_variance",
          "p1_variance",
          "p1_variance",
          "p2_variance",
          "p2_variance",
          "p2_variance",
          "p2_variance",
          "p2_variance",
          "p2_variance",
          "p2_variance",
          "p2_variance",
          "p2_variance",
          "p2_variance",
          "p2_variance",
          "p2_variance",
          "p2_variance",
          "p2_variance",
          "p2_variance",
          "p2_variance",
          "p2_variance",
          "p2_variance",
          "p2_variance",
          "p2_variance",
          "p2_variance",
          "p2_variance",
          "p2_variance",
          "p2_variance",
          "p2_variance",
          "p2_variance",
          "p2_variance",
          "p2_variance",
          "p2_variance",
          "p2_variance",
          "p2_variance",
          "p2_variance",
          "p2_variance",
          "p2_variance",
          "p2_variance",
          "p2_variance",
          "p2_variance",
          "p2_variance",
          "p2_variance",
          "p2_variance",
          "p2_variance",
          "p2_variance",
          "p2_variance",
          "p2_variance",
          "p2_variance",
          "p2_variance",
          "p2_variance",
          "p2_variance",
          "p2_variance",
          "p2_variance",
          "p2_variance",
          "p2_variance",
          "p2_variance",
          "p2_variance",
          "p2_variance",
          "p2_variance",
          "p2_variance",
          "p2_variance",
          "p2_variance",
          "p2_variance",
          "p2_variance",
          "p2_variance",
          "p2_variance",
          "p2_variance",
          "p2_variance",
          "p2_variance",
          "p2_variance",
          "p2_variance",
          "p2_variance",
          "p2_variance",
          "p2_variance",
          "p2_variance",
          "p2_variance",
          "p2_variance",
          "p2_variance",
          "p2_variance",
          "p2_variance",
          "p2_variance",
          "p2_variance",
          "p2_variance",
          "p2_variance",
          "p2_variance",
          "p2_variance",
          "p2_variance",
          "p2_variance",
          "p2_variance",
          "p2_variance",
          "p2_variance",
          "p2_variance",
          "p2_variance",
          "p2_variance",
          "p2_variance",
          "p2_variance",
          "p2_variance",
          "p2_variance",
          "p2_variance",
          "p2_variance",
          "p2_variance",
          "p2_variance",
          "p2_variance",
          "p2_variance",
          "p2_variance",
          "p2_variance",
          "p2_variance",
          "p2_variance",
          "p2_variance",
          "p2_variance",
          "p2_variance",
          "p2_variance",
          "p2_variance",
          "p2_variance",
          "p2_variance",
          "p2_variance",
          "p2_variance",
          "p2_variance",
          "p2_variance",
          "p2_variance",
          "p2_variance",
          "p2_variance",
          "p2_variance",
          "p2_variance",
          "p2_variance",
          "p2_variance",
          "p2_variance",
          "p2_variance",
          "p2_variance",
          "p2_variance",
          "p2_variance",
          "p2_variance",
          "p2_variance",
          "p2_variance",
          "p2_variance",
          "p2_variance",
          "p2_variance",
          "p2_variance",
          "p2_variance",
          "p2_variance",
          "p2_variance",
          "p2_variance",
          "p2_variance",
          "p2_variance",
          "p2_variance",
          "p2_variance",
          "p2_variance",
          "p2_variance",
          "p2_variance",
          "p2_variance",
          "p2_variance",
          "p2_variance",
          "p2_variance",
          "p2_variance",
          "p2_variance",
          "p2_variance",
          "p2_variance",
          "p2_variance",
          "p2_variance",
          "p2_variance",
          "p2_variance",
          "p2_variance",
          "p2_variance",
          "p2_variance",
          "p2_variance",
          "p2_variance",
          "p2_variance",
          "p2_variance",
          "p2_variance",
          "p2_variance",
          "p2_variance",
          "p2_variance",
          "p2_variance",
          "p2_variance",
          "p2_variance",
          "p2_variance",
          "p2_variance",
          "p2_variance",
          "p2_variance",
          "p2_variance",
          "p2_variance",
          "p2_variance",
          "p2_variance",
          "p2_variance",
          "p2_variance",
          "p2_variance",
          "p2_variance",
          "p2_variance",
          "p2_variance",
          "p2_variance",
          "p2_variance",
          "p2_variance",
          "p2_variance",
          "p2_variance",
          "p2_variance",
          "p2_variance",
          "p2_variance",
          "p2_variance",
          "p2_variance",
          "p2_variance",
          "p2_variance",
          "p2_variance",
          "p2_variance",
          "p2_variance",
          "p2_variance",
          "p2_variance",
          "p2_variance",
          "p2_variance",
          "p2_variance",
          "p2_variance",
          "p2_variance",
          "p2_variance",
          "p2_variance",
          "p2_variance",
          "p2_variance",
          "p2_variance",
          "p2_variance",
          "p2_variance",
          "p2_variance",
          "p2_variance",
          "p2_variance",
          "p2_variance",
          "p2_variance",
          "p2_variance",
          "p2_variance",
          "p2_variance",
          "p2_variance",
          "p2_variance",
          "p2_variance",
          "p2_variance",
          "p2_variance",
          "p2_variance",
          "p2_variance",
          "p2_variance",
          "p2_variance",
          "p2_variance",
          "p2_variance",
          "p2_variance",
          "p2_variance",
          "p2_variance",
          "p2_variance",
          "p2_variance",
          "p2_variance",
          "p2_variance",
          "p2_variance",
          "p2_variance",
          "p2_variance",
          "p2_variance",
          "p2_variance",
          "p2_variance",
          "p2_variance",
          "p2_variance",
          "p2_variance",
          "p2_variance",
          "p2_variance",
          "p2_variance",
          "p2_variance",
          "p2_variance",
          "p2_variance",
          "p2_variance",
          "p2_variance",
          "p2_variance",
          "p2_variance",
          "p2_variance",
          "p2_variance",
          "p2_variance",
          "p2_variance",
          "p2_variance",
          "p2_variance",
          "p2_variance",
          "p2_variance",
          "p2_variance",
          "p2_variance",
          "p2_variance",
          "p2_variance",
          "p2_variance",
          "p2_variance",
          "p2_variance",
          "p2_variance",
          "p2_variance",
          "p2_variance",
          "p2_variance",
          "p2_variance",
          "p2_variance",
          "p2_variance",
          "p2_variance",
          "p2_variance",
          "p2_variance",
          "p2_variance",
          "p2_variance",
          "p2_variance",
          "p2_variance",
          "p2_variance",
          "p2_variance",
          "p2_variance",
          "p2_variance",
          "p2_variance",
          "p2_variance",
          "p2_variance",
          "p2_variance",
          "p2_variance",
          "p2_variance",
          "p2_variance",
          "p2_variance",
          "p2_variance",
          "p2_variance",
          "p2_variance",
          "p2_variance",
          "p2_variance",
          "p2_variance",
          "p2_variance",
          "p2_variance",
          "p2_variance",
          "p2_variance",
          "p2_variance",
          "p2_variance",
          "p1_p2_covariance",
          "p1_p2_covariance",
          "p1_p2_covariance",
          "p1_p2_covariance",
          "p1_p2_covariance",
          "p1_p2_covariance",
          "p1_p2_covariance",
          "p1_p2_covariance",
          "p1_p2_covariance",
          "p1_p2_covariance",
          "p1_p2_covariance",
          "p1_p2_covariance",
          "p1_p2_covariance",
          "p1_p2_covariance",
          "p1_p2_covariance",
          "p1_p2_covariance",
          "p1_p2_covariance",
          "p1_p2_covariance",
          "p1_p2_covariance",
          "p1_p2_covariance",
          "p1_p2_covariance",
          "p1_p2_covariance",
          "p1_p2_covariance",
          "p1_p2_covariance",
          "p1_p2_covariance",
          "p1_p2_covariance",
          "p1_p2_covariance",
          "p1_p2_covariance",
          "p1_p2_covariance",
          "p1_p2_covariance",
          "p1_p2_covariance",
          "p1_p2_covariance",
          "p1_p2_covariance",
          "p1_p2_covariance",
          "p1_p2_covariance",
          "p1_p2_covariance",
          "p1_p2_covariance",
          "p1_p2_covariance",
          "p1_p2_covariance",
          "p1_p2_covariance",
          "p1_p2_covariance",
          "p1_p2_covariance",
          "p1_p2_covariance",
          "p1_p2_covariance",
          "p1_p2_covariance",
          "p1_p2_covariance",
          "p1_p2_covariance",
          "p1_p2_covariance",
          "p1_p2_covariance",
          "p1_p2_covariance",
          "p1_p2_covariance",
          "p1_p2_covariance",
          "p1_p2_covariance",
          "p1_p2_covariance",
          "p1_p2_covariance",
          "p1_p2_covariance",
          "p1_p2_covariance",
          "p1_p2_covariance",
          "p1_p2_covariance",
          "p1_p2_covariance",
          "p1_p2_covariance",
          "p1_p2_covariance",
          "p1_p2_covariance",
          "p1_p2_covariance",
          "p1_p2_covariance",
          "p1_p2_covariance",
          "p1_p2_covariance",
          "p1_p2_covariance",
          "p1_p2_covariance",
          "p1_p2_covariance",
          "p1_p2_covariance",
          "p1_p2_covariance",
          "p1_p2_covariance",
          "p1_p2_covariance",
          "p1_p2_covariance",
          "p1_p2_covariance",
          "p1_p2_covariance",
          "p1_p2_covariance",
          "p1_p2_covariance",
          "p1_p2_covariance",
          "p1_p2_covariance",
          "p1_p2_covariance",
          "p1_p2_covariance",
          "p1_p2_covariance",
          "p1_p2_covariance",
          "p1_p2_covariance",
          "p1_p2_covariance",
          "p1_p2_covariance",
          "p1_p2_covariance",
          "p1_p2_covariance",
          "p1_p2_covariance",
          "p1_p2_covariance",
          "p1_p2_covariance",
          "p1_p2_covariance",
          "p1_p2_covariance",
          "p1_p2_covariance",
          "p1_p2_covariance",
          "p1_p2_covariance",
          "p1_p2_covariance",
          "p1_p2_covariance",
          "p1_p2_covariance",
          "p1_p2_covariance",
          "p1_p2_covariance",
          "p1_p2_covariance",
          "p1_p2_covariance",
          "p1_p2_covariance",
          "p1_p2_covariance",
          "p1_p2_covariance",
          "p1_p2_covariance",
          "p1_p2_covariance",
          "p1_p2_covariance",
          "p1_p2_covariance",
          "p1_p2_covariance",
          "p1_p2_covariance",
          "p1_p2_covariance",
          "p1_p2_covariance",
          "p1_p2_covariance",
          "p1_p2_covariance",
          "p1_p2_covariance",
          "p1_p2_covariance",
          "p1_p2_covariance",
          "p1_p2_covariance",
          "p1_p2_covariance",
          "p1_p2_covariance",
          "p1_p2_covariance",
          "p1_p2_covariance",
          "p1_p2_covariance",
          "p1_p2_covariance",
          "p1_p2_covariance",
          "p1_p2_covariance",
          "p1_p2_covariance",
          "p1_p2_covariance",
          "p1_p2_covariance",
          "p1_p2_covariance",
          "p1_p2_covariance",
          "p1_p2_covariance",
          "p1_p2_covariance",
          "p1_p2_covariance",
          "p1_p2_covariance",
          "p1_p2_covariance",
          "p1_p2_covariance",
          "p1_p2_covariance",
          "p1_p2_covariance",
          "p1_p2_covariance",
          "p1_p2_covariance",
          "p1_p2_covariance",
          "p1_p2_covariance",
          "p1_p2_covariance",
          "p1_p2_covariance",
          "p1_p2_covariance",
          "p1_p2_covariance",
          "p1_p2_covariance",
          "p1_p2_covariance",
          "p1_p2_covariance",
          "p1_p2_covariance",
          "p1_p2_covariance",
          "p1_p2_covariance",
          "p1_p2_covariance",
          "p1_p2_covariance",
          "p1_p2_covariance",
          "p1_p2_covariance",
          "p1_p2_covariance",
          "p1_p2_covariance",
          "p1_p2_covariance",
          "p1_p2_covariance",
          "p1_p2_covariance",
          "p1_p2_covariance",
          "p1_p2_covariance",
          "p1_p2_covariance",
          "p1_p2_covariance",
          "p1_p2_covariance",
          "p1_p2_covariance",
          "p1_p2_covariance",
          "p1_p2_covariance",
          "p1_p2_covariance",
          "p1_p2_covariance",
          "p1_p2_covariance",
          "p1_p2_covariance",
          "p1_p2_covariance",
          "p1_p2_covariance",
          "p1_p2_covariance",
          "p1_p2_covariance",
          "p1_p2_covariance",
          "p1_p2_covariance",
          "p1_p2_covariance",
          "p1_p2_covariance",
          "p1_p2_covariance",
          "p1_p2_covariance",
          "p1_p2_covariance",
          "p1_p2_covariance",
          "p1_p2_covariance",
          "p1_p2_covariance",
          "p1_p2_covariance",
          "p1_p2_covariance",
          "p1_p2_covariance",
          "p1_p2_covariance",
          "p1_p2_covariance",
          "p1_p2_covariance",
          "p1_p2_covariance",
          "p1_p2_covariance",
          "p1_p2_covariance",
          "p1_p2_covariance",
          "p1_p2_covariance",
          "p1_p2_covariance",
          "p1_p2_covariance",
          "p1_p2_covariance",
          "p1_p2_covariance",
          "p1_p2_covariance",
          "p1_p2_covariance",
          "p1_p2_covariance",
          "p1_p2_covariance",
          "p1_p2_covariance",
          "p1_p2_covariance",
          "p1_p2_covariance",
          "p1_p2_covariance",
          "p1_p2_covariance",
          "p1_p2_covariance",
          "p1_p2_covariance",
          "p1_p2_covariance",
          "p1_p2_covariance",
          "p1_p2_covariance",
          "p1_p2_covariance",
          "p1_p2_covariance",
          "p1_p2_covariance",
          "p1_p2_covariance",
          "p1_p2_covariance",
          "p1_p2_covariance",
          "p1_p2_covariance",
          "p1_p2_covariance",
          "p1_p2_covariance",
          "p1_p2_covariance",
          "p1_p2_covariance",
          "p1_p2_covariance",
          "p1_p2_covariance",
          "p1_p2_covariance",
          "p1_p2_covariance",
          "p1_p2_covariance",
          "p1_p2_covariance",
          "p1_p2_covariance",
          "p1_p2_covariance",
          "p1_p2_covariance",
          "p1_p2_covariance",
          "p1_p2_covariance",
          "p1_p2_covariance",
          "p1_p2_covariance",
          "p1_p2_covariance",
          "p1_p2_covariance",
          "p1_p2_covariance",
          "p1_p2_covariance",
          "p1_p2_covariance",
          "p1_p2_covariance",
          "p1_p2_covariance",
          "p1_p2_covariance",
          "p1_p2_covariance",
          "p1_p2_covariance",
          "p1_p2_covariance",
          "p1_p2_covariance",
          "p1_p2_covariance",
          "p1_p2_covariance",
          "p1_p2_covariance",
          "p1_p2_covariance",
          "p1_p2_covariance",
          "p1_p2_covariance",
          "p1_p2_covariance",
          "p1_p2_covariance",
          "p1_p2_covariance",
          "p1_p2_covariance",
          "p1_p2_covariance",
          "p1_p2_covariance",
          "p1_p2_covariance",
          "p1_p2_covariance",
          "p1_p2_covariance",
          "p1_p2_covariance",
          "p1_p2_covariance",
          "p1_p2_covariance",
          "p1_p2_covariance",
          "p1_p2_covariance",
          "p1_p2_covariance",
          "p1_p2_covariance",
          "p1_p2_covariance",
          "p1_p2_covariance",
          "p1_p2_covariance",
          "p1_p2_covariance",
          "p1_p2_covariance",
          "p1_p2_covariance",
          "p1_p2_covariance",
          "p1_p2_covariance",
          "p1_p2_covariance",
          "p1_p2_covariance",
          "p1_p2_covariance",
          "p1_p2_covariance",
          "p1_p2_covariance",
          "p1_p2_covariance",
          "p1_p2_covariance",
          "p1_p2_covariance",
          "p1_p2_covariance",
          "p1_p2_covariance",
          "p1_p2_covariance",
          "p1_p2_covariance",
          "p1_p2_covariance",
          "p1_p2_covariance",
          "p1_p2_covariance",
          "p1_p2_covariance",
          "p1_p2_covariance",
          "p1_p2_covariance",
          "p1_p2_covariance",
          "p1_p2_covariance",
          "p1_p2_covariance",
          "p1_p2_covariance",
          "p1_p2_covariance",
          "p1_p2_covariance",
          "p1_p2_covariance",
          "p1_p2_covariance"
         ],
         "x0": " ",
         "xaxis": "x",
         "y": [
          0.024205287940868767,
          0.003308878210584122,
          5.208548269820502E-4,
          0.04685256463947808,
          0.08435524724854011,
          0.14085016028810174,
          3.8395462084936925E-4,
          2.610929517218822,
          0.10672163190039544,
          0.1275290626004918,
          0.04273482080400526,
          0.0845715930253639,
          0.04459524525723408,
          0.5071733966086521,
          0.28071957202577025,
          0.25058277105254423,
          0.2982465784561411,
          0.8423984316162625,
          0.34867354933888045,
          1.5379840633919795,
          0.1442652552794103,
          3.786789946008944,
          6.68862394334342E-4,
          0.015869236210684146,
          2.4271009505241645,
          0.1114277550594054,
          1.9317291400715844,
          0.007282264297950799,
          0.05783251945919633,
          0.001108489449080561,
          0.010864715140732879,
          0.18251329919787593,
          0.01504961047293387,
          1.1531766760928721E-4,
          0.013406145827918405,
          0.0036353337198750807,
          8.793269477952032E-4,
          0.004446483261849267,
          0.005244757468276039,
          0.02719642896454409,
          0.007568581122775284,
          0.13211513700730804,
          0.11981449080828382,
          0.013770230533855763,
          0.0037973131768798273,
          0.00855760058764871,
          0.02785209220001379,
          0.07345890676718296,
          0.19926856022492448,
          0.0476212181339452,
          0.4154049331529974,
          0.20282685892395066,
          0.1991245585059989,
          0.002481417102217548,
          0.2276131469594792,
          0.15372713700804064,
          0.5649214545814844,
          0.09004937169490825,
          2.239206102102158,
          0.1345785854777087,
          0.8547337181222071,
          0.1403229154944858,
          0.9910162790104884,
          2.0154240687972944,
          1.232857850966674,
          0.1256410147224611,
          1.0417080718922038,
          3.960705398072581,
          3.3162195747466434,
          0.007579805235077045,
          0.01627366707704885,
          0.13334763300689573,
          7.771208791103456E-5,
          0.20092605474114164,
          0.026633175045042923,
          0.02163297341166018,
          0.003102827794273509,
          0.011191200590077851,
          0.03666080606209696,
          0.06746614162929637,
          0.007690184489248768,
          0.0024166582618572654,
          0.003488586316256257,
          0.03954725405858251,
          6.315721359526103E-4,
          0.0020037361944929125,
          0.10032516712701098,
          0.07306815059460442,
          0.009175959586287885,
          0.0021098347274031057,
          0.010912377012361507,
          0.052400851198018024,
          0.0020666276334169293,
          0.4064412321169662,
          0.2686213022985322,
          0.0031134183236697813,
          1.2689684194626998,
          0.4048368440833651,
          0.15872005775147513,
          1.539241715883845,
          2.804654029104024,
          0.011876784378024769,
          0.26373084671817365,
          1.8880505697943462,
          0.8825896648031325,
          0.5532554110768438,
          3.4085836012696135E-6,
          0.019525353508292004,
          6.946047383965091E-4,
          0.20140181093958417,
          0.005022190504145679,
          0.14416823736240952,
          0.025404127394117782,
          0.015423432416234655,
          0.12688418927859108,
          0.05004310339719961,
          2.442645751589284E-4,
          0.24685604381021203,
          0.40097248889215,
          0.06211775722265944,
          0.08711066951177109,
          0.008155044467791889,
          4.225613507681055E-5,
          0.062096422708673195,
          0.6086919619561255,
          0.010857623080716469,
          0.003418418596862337,
          0.07636339990725649,
          2.0216895166988446E-4,
          0.13067816507305544,
          0.07636832188703388,
          0.3320666286307221,
          2.5573153820843766,
          0.13763791296279151,
          0.6868647739883411,
          2.641283843776971,
          0.09657257353699042,
          3.4213931227968395,
          0.452730584907026,
          5.263619529552951,
          0.013682446041951042,
          0.2533916385874729,
          1.5810998781060033,
          0.03720439965542742,
          0.04419894924248373,
          0.00389492059380755,
          0.019021545030372705,
          0.00356031173806669,
          0.07417369423106292,
          1.0648735011888012E-4,
          0.03495540093237445,
          0.11387562919609888,
          0.009817431491631511,
          0.004970086664294731,
          0.005359952238823415,
          0.005984256622306881,
          0.11979475320211189,
          0.27188484762231746,
          0.3035335560843804,
          0.0022805009559998418,
          1.9998174886550518E-4,
          0.15020075475968495,
          0.8347687240890407,
          0.550511046107169,
          0.20279718636534907,
          0.056123845036851035,
          0.0011437773883905304,
          0.033440407686900396,
          0.7583176931440662,
          0.06493537861106723,
          0.015285961107214028,
          4.8730400594648564E-4,
          0.025992137145953456,
          0.001406796250867288,
          3.089084124475897E-4,
          0.014988863257485179,
          0.004983320578003222,
          0.02206817433823588,
          0.005798949773647308,
          0.029289600901863753,
          8.528691741253696E-4,
          0.008330738093514194,
          0.004952205873934028,
          0.08603871271862644,
          2.353510583379378,
          0.010465696776725012,
          0.034591589852947024,
          0.003334171928656831,
          0.008786330897103976,
          0.030689546899497502,
          0.4448466695492085,
          0.38460776884938014,
          0.0060831222035877585,
          0.23374989662517448,
          0.7651741472852198,
          0.9846502260135609,
          0.03682510280358539,
          0.8699275334665884,
          0.19413371029659116,
          0.147427306071257,
          0.2576332772921599,
          0.3324455181938011,
          0.2588912911586023,
          0.16310384011126336,
          0.6302668938035584,
          0.15755543380588916,
          0.4492955344281455,
          2.3893356876500986,
          0.9414596038356566,
          0.4638389641377155,
          0.9779713836675107,
          0.002156617463699993,
          0.5942032549096731,
          0.0013444015757459312,
          0.007961177453656716,
          2.8907491535479105E-4,
          3.491483769626662E-5,
          0.002387007339041835,
          9.018069850576444E-4,
          0.00470779942251914,
          0.016937809235420896,
          0.013179178005309043,
          5.305660605230471E-5,
          6.119132296076818E-4,
          0.003901568671852867,
          0.14542183876150386,
          0.01696542160209186,
          0.02567233533027099,
          0.02372836493323943,
          0.0025759020670082693,
          0.6200952592445185,
          5.196342504093406,
          0.04204813893062958,
          0.03183879892891801,
          0.07163481976528326,
          0.1444086015582528,
          0.21146232081577787,
          0.055511197419176296,
          0.3851593889754762,
          0.6110038590632152,
          0.08228876898241161,
          7.6058603466014825,
          1.7158321948658928,
          0.16688662154010023,
          0.008787692946602756,
          0.07913107024369012,
          0.4494315185699845,
          0.04986799816167517,
          0.1733094109849163,
          0.005904254025907282,
          0.007902705844067858,
          0.004323552897991117,
          0.024057993305864427,
          0.018271095603573696,
          0.011734214392616075,
          0.012072448765318348,
          0.009262257522313277,
          0.005181884224370818,
          0.009303202429434084,
          0.0016585061167749546,
          0.028184304949986833,
          0.012518589663260561,
          0.0016122785554735885,
          0.009524216810104687,
          0.08188943418986375,
          0.14272313280714627,
          0.3716951468763175,
          3.6332325972624E-5,
          0.2372682513619689,
          0.01506641364331966,
          0.46023550504070765,
          0.15256676094802102,
          0.1367913966522471,
          1.6141023343807381,
          0.0032864066316932055,
          0.10439706273862034,
          0.4292481900428984,
          0.020972310490912697,
          0.8440705999551917,
          2.480021339130794,
          4.199678906760072,
          0.00529356670150595,
          0.02637076563381214,
          0.3937222322628281,
          1.1910734373998182,
          2.137586655572402,
          0.3553426819512316,
          0.11190172212271295,
          0.4417448726826219,
          3.296315268494551,
          2.116987706877797,
          1.4388623104720506,
          2.843538120572544,
          0.013391652756140359,
          0.001639539910518406,
          0.001485556424434312,
          0.03096527711567091,
          0.053153509820793914,
          0.005626333807112204,
          0.0024039092229031465,
          0.020322108354522892,
          0.008769119352794941,
          0.01513277165802824,
          0.15257160454190638,
          0.3628845445612012,
          0.006623414843477674,
          0.033267720308074164,
          9.650926079310122E-4,
          0.0013512994493497937,
          7.422586520457949E-5,
          0.13291222776243933,
          0.18671965366768553,
          7.366934991023816,
          1.3095562226362447E-6,
          2.560276974377458E-8,
          1.9502904980053298E-6,
          4.250426832773384E-6,
          1.8670539557115592E-6,
          3.5216280643337916E-4,
          1.008470674455056E-7,
          2.21615731345695E-4,
          8.295010128080595E-8,
          6.90632657318928E-7,
          2.3350762746912315E-8,
          4.350320885895968E-6,
          1.971207170210672E-7,
          0.0010371012061273612,
          2.1057295395653406E-4,
          2.7425525100657626E-7,
          0.0019361417582211254,
          0.02022643980360493,
          2.0641672727244227E-6,
          0.001618025335030057,
          6.674395940410851E-5,
          4.3367437838207957E-4,
          3.023076625859616E-10,
          0.5965155444244226,
          0.01533176965849336,
          2.4780052678571287E-6,
          0.0045558325342814465,
          2.3961912940459693E-4,
          4.383864002156399E-5,
          5.5552315875581946E-8,
          2.948296012398799E-4,
          0.40267114997746506,
          7.658997139821987E-5,
          7.22598009822976E-8,
          6.535522768665518E-8,
          6.841539312307843E-8,
          0.014188623084783495,
          0.002707452576704884,
          1.054043077240142E-4,
          0.003428524122844646,
          0.005601491638481088,
          0.004900591326673037,
          2.992034580091807,
          1.5072920567468033E-7,
          1.2829471917793891E-6,
          13.591999471167927,
          0.26906671715058456,
          3.3437248731118396E-5,
          1.3535187934603242E-5,
          5.924553358439119E-4,
          1.3907163625492006E-4,
          1.419162759877932E-5,
          7.055182626485599E-4,
          1.1195300175792156E-8,
          5.631611049607595E-5,
          3.4725189280740957E-6,
          3.4086223870187466E-4,
          1.0989272063125381E-5,
          2.7369507223373798E-5,
          7.057440843741131E-4,
          0.0022740137287264343,
          5.982467382279524E-5,
          0.0034227448115835353,
          0.005535252951433881,
          0.001099716377663469,
          10.750602634287544,
          4.2344353125131737E-4,
          1.4392302102015207E-4,
          0.002439418756226761,
          6.163391612466646E-7,
          4.3628182385598864E-4,
          0.01955414704101187,
          7.498701196250683E-7,
          0.10953130498212538,
          0.3079357076986857,
          1.63857584097873E-7,
          9.871608479718318E-7,
          4.387035879872342E-8,
          5.036680462506063E-6,
          2.531975793747765E-7,
          0.045391318556499444,
          9.184262429547459E-5,
          0.029419730633537013,
          0.0064078944294609285,
          1.433764364467158E-5,
          7.931088242118296E-9,
          1.2277574993441313E-7,
          9.480945708522286E-7,
          4.150155563705012E-9,
          9.202332078316556E-4,
          2.1355678450497568E-7,
          0.04661475832045546,
          2.4801493325105493E-5,
          1.1621251405173219E-5,
          9.958783880263671E-6,
          1.0599944298795419E-7,
          0.022851137372030567,
          1.4968477332010584E-5,
          1.6524157306249147E-4,
          2.5071174553579625,
          4.155870847896924E-4,
          2.4406715646306365E-5,
          2.6585183631698813E-5,
          2.1450773275222498E-4,
          9.083696856393654E-6,
          3.7329340746374365E-4,
          1.1269318529100551E-7,
          8.546294766162135E-7,
          6.572787391817784E-5,
          4.673108513830597E-4,
          3.8269905319005833E-4,
          0.0015286522907508996,
          7.954861898735781E-8,
          0.0016690811053335834,
          0.03901469853178922,
          0.002581050424814787,
          2.6234922711274315E-4,
          0.07064834454689349,
          0.38961650845666856,
          0.008092315214745713,
          3.283206340985436E-6,
          6.782392438730238E-8,
          2.1868880919280825E-8,
          1.2388835044533632E-6,
          2.5033494639189883E-5,
          3.429736568928209E-6,
          4.545021180691343E-8,
          5.634225636358546E-7,
          1.5488597426983573E-8,
          1.1472071175161557E-6,
          1.804815395773415E-7,
          3.5132176886801425E-5,
          2.0609064231030283E-5,
          1.4067757374672108E-7,
          3.518360301183532E-5,
          8.316139837530122E-6,
          9.339310582578591E-8,
          5.887924516828107E-5,
          9.434486085957281E-7,
          1.7035756617440933E-5,
          8.048979821493414E-6,
          6.572463514085862E-7,
          2.112480783225144E-6,
          2.359965524478091E-8,
          0.00391019694627595,
          1.4879645021899069E-6,
          0.004339111827141348,
          4.5267572163473466E-5,
          2.711245886549106E-4,
          1.5603899819727437E-6,
          5.918630844831021E-4,
          2.996357900151623E-4,
          3.8327728541674586E-4,
          5.161970744029785E-4,
          2.888025256220812E-4,
          0.0016950495264364263,
          0.01044607014404313,
          0.020819518147231035,
          5.5539443026109135E-6,
          1.1474637869500035E-8,
          9.157577495501043E-8,
          1.8081667652138434E-6,
          8.185803176745953E-5,
          3.637368218867957E-5,
          4.876930317402302E-6,
          6.488342143116118E-7,
          1.8962785103614618E-7,
          8.22467620734488E-7,
          2.716553464043807E-6,
          1.2313818198266245E-7,
          1.807494399897243E-6,
          1.2337732025959804E-5,
          4.781771008047383E-6,
          5.433854118984562E-6,
          5.7023841494942605E-6,
          4.9890819379559066E-6,
          6.0332005570286634E-5,
          2.2768752750095065E-4,
          1.584494544793981E-5,
          2.0785773944914915E-6,
          1.796834812216027E-4,
          9.87932938994086E-6,
          7.421108209585836E-6,
          0.016618401954344948,
          0.007958169810091568,
          1.418400372277821E-4,
          1.0199166164352374E-6,
          3.7961545205394067E-7,
          8.580482700791304E-8,
          2.8824366817942958E-5,
          1.6659852998108447E-4,
          0.011389213020115353,
          1.1654436822553666E-7,
          1.2544015100831924E-6,
          7.882974120213043E-7,
          5.597892362431355E-7,
          3.8106845068049256E-8,
          5.047692412937696E-7,
          1.9684891396154245E-7,
          1.0849000181705934E-7,
          2.046641460000398E-7,
          3.9081003448544904E-7,
          1.6455185725599383E-7,
          7.133016137539781E-8,
          8.856156867104647E-7,
          4.118146520789947E-6,
          1.7942991606626166E-6,
          0.09237128217613777,
          2.714992365068203E-4,
          0.010984694367137733,
          1.3097327293409272E-5,
          7.700856775807748E-9,
          1.0428475414779756E-5,
          1.0566448495970447E-6,
          5.003616794319565E-7,
          9.621858924867687E-8,
          4.1879611731883656E-8,
          3.134246463573605E-7,
          5.587529868205997E-7,
          4.8470006633095566E-6,
          3.306288467682054E-6,
          2.6862087254896837E-6,
          1.7179466027722604E-7,
          9.271707146148506E-7,
          4.1206621467032455E-7,
          0.11055861346022383,
          1.098527305684988E-6,
          1.7712769237036896E-7,
          2.7100961223937583E-6,
          2.113722856001322E-8,
          7.785426248230642E-5,
          1.796538492975691E-5,
          1.6866734467679416E-7,
          7.52856398804754E-7,
          2.904659650053682E-7,
          5.588588153146718E-7,
          1.6704587726812384E-7,
          4.1949898300400576E-7,
          9.249676660801681E-7,
          3.756034257169533E-6,
          5.497737865617641E-7,
          2.55482967014447E-4,
          3.5638279596174256E-6,
          6.201867457959371E-7,
          5.5849266386267146E-8,
          3.846381151080896E-8,
          8.015056557681274E-7,
          3.2386676665358316E-8,
          2.4307684450208127E-6,
          1.1695994705071868E-4,
          2.3368506047395093E-5,
          1.565575151242732E-4,
          0.08011288280418281,
          5.3970613645571574E-8,
          2.1372654225346146E-6,
          0.14212967495416443,
          6.63800851021994E-8,
          0.0028174920626252977,
          7.75145821882163E-8,
          6.323642277588201E-5,
          0.023335057700144636,
          1.4982810333469722E-7,
          1.874107549658303E-6,
          1.5967328628789814E-6,
          1.581194683867057E-5,
          6.877998325932029E-5,
          2.117613755873747E-5,
          3.6912743252857437E-10,
          2.0029804024393805E-6,
          9.581203464917401E-9,
          2.0677864264812334E-5,
          9.025386534971494E-7,
          5.703123894176946E-5,
          6.364723779701878E-7,
          5.330273271344755E-8,
          4.833916198300466E-4,
          3.0252573660642125E-4,
          7.007404347638342E-7,
          0.001133166209510236,
          0.01092292084593877,
          5.068330132808724E-4,
          9.766496719520713E-8,
          1.4988535861051783E-8,
          1.7572372559613743E-4,
          1.6817934161866468E-5,
          9.433393709563278E-4,
          1.6569791136067427E-5,
          1.3112030222777356E-5,
          0.057619043201056874,
          0.0010207270619196906,
          0.003432254248578913,
          8.08426052225041E-6,
          0.002877051039821244,
          0.02678649146764043,
          1.4045856876970971E-7,
          6.707401576223249E-8,
          3.4078060076083497E-6,
          2.8325714393408584E-6,
          7.410149402124868E-7,
          1.2272356198992911E-8,
          0.0021803039005220924,
          1.1593988021333366E-7,
          4.7314610375447E-8,
          1.3282078655422558E-6,
          0.0011640598817778281,
          1.1740110808798427E-7,
          5.300406865749727E-7,
          1.6905875201238692E-8,
          4.067338248925339E-9,
          1.1489560186689919E-8,
          2.602230261217404E-7,
          6.427723613059626E-7,
          5.797483144335947E-6,
          4.4388746140551277E-4,
          4.092265082018228E-5,
          3.0004786232800598E-5,
          5.744630366018223E-4,
          9.989282310665776E-4,
          0.00510464626076003,
          0.00155845555394517,
          0.027004140471066137,
          0.0640299261149242,
          0.0011686230647198013,
          0.29904930870223173,
          0.001127825199186825,
          3.662210879320882E-4,
          0.018192179811503954,
          0.006529336201373635,
          0.002750532758924214,
          0.01645618852746391,
          0.08277418158632477,
          0.028028969177167004,
          0.03936618322050635,
          0.0035974398150967974,
          0.04282916581432127,
          0.25770475409659177,
          0.06539446234938887,
          0.18742534776816386,
          0.001344850476517869,
          0.0628423130277328,
          9.055106027906776E-4,
          0.0013505163987176123,
          0.0011851871100048061,
          0.001202503706798508,
          0.14542398126236913,
          0.001656340792990506,
          4.4445907479810175E-5,
          0.038269983739949456,
          0.0013683685274875222,
          0.0027641555034466736,
          0.002528396720831611,
          0.004695719648885922,
          0.008918787663132585,
          0.004082102736005308,
          0.015280339923448152,
          1.1168444838206777,
          0.9768687749489099,
          0.023470419064892483,
          0.6071166405623178,
          0.15146544146783522,
          0.00196313780700978,
          0.0020808807182869085,
          0.0034899034074011696,
          0.007067681702791983,
          0.0020582760771929425,
          0.008342755469883383,
          3.358006419182044E-5,
          0.006260339320850946,
          0.0014254239792217843,
          0.02848566299593831,
          0.0011157527782529408,
          0.06545509061031994,
          0.0067758323562303715,
          0.032352835647491265,
          0.0030097188119461733,
          0.041078514164431396,
          0.07465303935135109,
          0.028608292616684097,
          0.7440893661645391,
          0.017395387817372668,
          0.03153923672233699,
          0.06789566327659675,
          0.002966665127464342,
          0.009025079953389975,
          0.029611881935584047,
          1.2073358183146755E-4,
          0.08171722666705634,
          0.050544180854442934,
          0.07779301239876496,
          0.00127352636200317,
          0.019409003384632546,
          0.022514409017211624,
          0.07234359919004761,
          0.010378896482881126,
          4.5059709545321435E-4,
          0.005934148941752929,
          0.00994760183781092,
          6.599996975725216E-4,
          0.0018726282665895236,
          0.2747965961030945,
          0.05933108590739374,
          1.1687293681660562,
          8.105919980293568E-4,
          0.009723961661034532,
          0.0256647432522712,
          0.0023579088202301773,
          0.003429811971511738,
          0.0024039557385270175,
          7.721837742436915E-4,
          0.12480166059419104,
          0.003485456074862611,
          0.004046027164077666,
          17.53514577297019,
          0.03862569307883561,
          8.85232538144601E-4,
          0.002819486529751078,
          0.02054784289283998,
          0.005589318597257594,
          0.010961344396407465,
          9.801990601946996E-7,
          0.0017213683296023697,
          2.652378982134049E-4,
          0.007078253289568734,
          0.0010577695087959976,
          0.009515175124748804,
          0.052128069855943565,
          0.00424248268614614,
          0.03867534363558468,
          0.006517108275624404,
          1.9367185601856094E-4,
          0.07649958639185667,
          0.7335893485922231,
          0.012032465163064337,
          7.822868006466189E-4,
          7.739870851776237E-5,
          1.687351591766088E-6,
          4.816706599390676E-4,
          0.02069806120932512,
          1.77702391630306E-4,
          3.8352830446920216E-5,
          5.240541962501557E-4,
          3.2594471615913268E-6,
          8.139387424009825E-4,
          5.206102363709291E-4,
          0.003475595661384932,
          0.017804676437643874,
          0.0018107988676330203,
          0.00807663416389175,
          0.018372579875227068,
          0.0013666679818492146,
          0.025188242978026992,
          0.0032595503565169474,
          0.05358356628284555,
          0.010332459184180524,
          0.05860609958728177,
          0.013798835235554582,
          8.853983035673287E-4,
          0.008013609599890548,
          4.283194588647267E-4,
          0.005290489185642182,
          2.858374746705147E-4,
          0.0031486107516396733,
          1.6971573201885483E-5,
          0.003244296479695721,
          0.004143885476499598,
          0.0011437150456436542,
          9.093835113683774E-4,
          7.752502110681092E-4,
          0.001873982488718566,
          0.021294044906872218,
          0.04177370528775791,
          0.002347895455616638,
          2.529545444959873E-5,
          5.0731958704651876E-6,
          0.00141049219795518,
          0.03558570543889073,
          0.008285094070264289,
          0.002461846558372982,
          6.572167027819062E-4,
          4.3409493665234135E-4,
          4.276026822650682E-4,
          0.005326110880997429,
          5.276291965802097E-4,
          2.2461704321890768E-4,
          1.0124446221443678E-4,
          0.0024141936990572884,
          3.707259847724202E-4,
          3.8274839641641256E-5,
          5.824759726329178E-4,
          6.290359542542011E-4,
          0.0014391407242164197,
          2.5791847155533183E-4,
          0.0033166315821527913,
          2.79803340955911E-4,
          0.0012973408394492045,
          0.0012534882109313198,
          0.02037073498336329,
          0.09039740042862353,
          0.0016006281084219968,
          3.0993130076789426E-4,
          7.564570831831486E-5,
          9.039044324103102E-5,
          0.0010098134892451347,
          0.0074701791637794175,
          0.038879270939576,
          7.904576503379509E-5,
          0.0014696796684002583,
          0.011579988495387258,
          0.041176430451044445,
          9.43917416475696E-4,
          0.03439858363708672,
          0.004246613275628082,
          0.0031175392165991443,
          0.006089512684154764,
          0.02424737285911605,
          0.006959155760391679,
          0.017181312173452982,
          0.007175957833581099,
          0.001383264452566037,
          0.013008546984790079,
          0.28161067247568106,
          0.014416506476514336,
          0.042383032656017096,
          0.010619429801683563,
          4.759542247039348E-5,
          0.00456336922571523,
          8.162688209808653E-5,
          4.044107389583377E-4,
          6.449847584643835E-5,
          4.471060819633222E-6,
          1.0122319161394547E-4,
          9.825911116515748E-5,
          2.81548514401346E-4,
          6.223701319190543E-4,
          8.062735450692811E-4,
          1.3933816709051293E-5,
          8.182940041706746E-5,
          4.667967589884646E-4,
          0.07492436247830307,
          0.002132244619317445,
          2.456452445979451E-4,
          4.638813772220548E-4,
          3.0361751206406724E-5,
          0.011915950290057977,
          0.04314497125449783,
          4.3581763989832396E-4,
          3.975922193407989E-4,
          6.422361540023593E-4,
          0.0013538072894207778,
          0.0035304973489900973,
          4.945557754852332E-4,
          0.003603093876215047,
          0.006045181387221722,
          6.450909787258196E-4,
          0.07210446836989358,
          0.016128009564670674,
          0.022651823574477894,
          0.0035530834379526722,
          0.17351652737107248,
          0.0036716396190875113,
          0.0012113228694443769,
          0.0016810708962748545,
          0.006796088426235671,
          3.7638454043164324E-4,
          0.0016012031021209849,
          0.024200714040561896,
          0.0337182369623428,
          0.0040138071248868685,
          0.02746291404464535,
          0.028760698164290967,
          0.0020389409753891856,
          0.006891635462605031,
          0.0037777132294684206,
          0.016930952892980047,
          1.860560565382518E-4,
          5.426891712617907E-5,
          1.2821084430394874E-4,
          0.004295367498607974,
          0.0027179494321598373,
          0.004267241522700167,
          1.9941033907184456E-6,
          0.0024987708860095947,
          0.06481238277097219,
          0.004446161274269328,
          9.396241170110598E-4,
          0.0027047872003779128,
          1.672479371571421,
          4.5107984547390386E-5,
          0.004984816247622092,
          0.009590084526878758,
          3.9731947096096037E-4,
          0.02378205318678584,
          0.11198631604492253,
          0.048271166544736815,
          0.021850098037015014,
          0.15713406584143547,
          0.007589625727491424,
          0.007869911738999695,
          0.03616526904987823,
          0.003360827385834779,
          0.001560131244113075,
          0.1471318674700303,
          0.05174722035650728,
          0.060090812671792594,
          0.008730043312623486,
          0.06584406352456447,
          0.010685610616896588,
          3.75750087241738E-4,
          0.0015196617364767948,
          0.0017834559970223735,
          0.002827538379069231,
          0.0016451732068945486,
          0.0037788829318770823,
          0.00565816611428585,
          9.42317603374639E-5,
          1.5000501468915415E-4,
          0.0012311980745012415,
          0.25623779343774633,
          1.3886497057142403E-4,
          0.07921063023115747,
          1.4657347739858002E-5,
          1.3899361388991742E-5,
          1.9077799976180572E-5,
          0.006376012534988392,
          0.001334576871577416,
          0.10479727041921574,
          5.2797653348894486E-5,
          2.1388867714263015E-6,
          1.7006297402540853E-5,
          1.0879308391814614E-4,
          9.323416723253072E-5,
          0.002980209766073529,
          2.7724167647281464E-5,
          0.005383902248142767,
          1.1643640022071525E-4,
          5.869147021075684E-5,
          1.2197851273866776E-4,
          1.5332269415111336E-4,
          1.7230399479217314E-5,
          0.009652818058423914,
          0.00260235892919318,
          4.69881358380317E-5,
          0.012554407993139127,
          0.09104712706500473,
          4.924088181767814E-4,
          0.01772248854806737,
          0.0010852412245817053,
          0.009503713919786562,
          1.0722651690648111E-5,
          0.43966671596647017,
          0.11922007588383264,
          1.2439031730016422E-4,
          0.03760825472476805,
          0.0010365462509574974,
          5.400300880539432E-4,
          1.7758407563409435E-5,
          0.0013249281050416734,
          0.5386695095017467,
          7.920639750078373E-4,
          3.974406000268157E-6,
          1.026623703859293E-4,
          2.084106549630433E-5,
          0.01394092587014461,
          0.005823879327062903,
          0.0015653821745031302,
          0.012307732492824217,
          0.010644110389017133,
          0.01925701890617979,
          4.069310585654004,
          8.125574048076709E-4,
          3.842550650879896E-4,
          6.394752128514296,
          0.4493912099427278,
          5.680168721520363E-4,
          3.6865233830401384E-4,
          0.00319899109683952,
          0.0021962246868891325,
          3.7554915056693054E-4,
          0.005394089574269508,
          1.2445441037664425E-6,
          0.0013135100020156985,
          1.5216987537790388E-4,
          0.006912371474254951,
          2.442519082396724E-4,
          0.002841304292920676,
          0.00486317229750172,
          0.01906631874160789,
          9.406201765941642E-4,
          0.026363077931968938,
          0.04518756777566938,
          0.012452329690169106,
          6.296120528574645,
          0.0060156731783021595,
          0.004650089178533076,
          0.0285622488174389,
          9.406750783051151E-5,
          0.004415490939354981,
          0.05355839709577171,
          2.116565923688215E-5,
          0.210589416947893,
          0.27771827204462235,
          2.3698946217184634E-4,
          7.853522065981286E-5,
          5.9079350175581465E-5,
          7.433678091290038E-4,
          2.7346403008478786E-4,
          0.048316787852894644,
          4.527037085836775E-4,
          0.02941277691029524,
          0.017770221028041204,
          2.1644342102162395E-4,
          7.134729844871461E-6,
          3.2304819365893024E-4,
          5.072255087502673E-4,
          9.540585254932982E-5,
          0.001922448696084829,
          9.84387550671864E-5,
          0.07699257602536629,
          5.37933667794514E-4,
          4.3406538120011767E-4,
          3.376758047115039E-4,
          1.9722644697901684E-5,
          0.11881950028810324,
          4.985238057664454E-4,
          0.0018156739712713043,
          14.759300997962502,
          0.008843648686315599,
          3.266373650896009E-4,
          6.032679544570865E-4,
          0.004629609538162681,
          4.786653397253969E-4,
          0.004488658740646434,
          7.395678925023124E-7,
          8.388004343835651E-5,
          2.93855320489659E-4,
          0.0040423123552755565,
          0.001416036359947635,
          0.008484319981746513,
          1.2673135104427762E-4,
          0.005922561111446586,
          0.0864628064280049,
          0.00912742002048456,
          5.017577939290369E-4,
          0.16363452366087636,
          1.1900442747630198,
          0.021962626093399724,
          1.106266547709666E-4,
          4.80322125820599E-6,
          4.258001881672376E-7,
          5.27684474698362E-5,
          0.0015700869698825558,
          5.467943854897563E-5,
          2.8177637527257698E-6,
          3.6037145446859533E-5,
          4.93775874475806E-7,
          6.455203761702511E-5,
          1.8792319159882797E-5,
          7.702438730304021E-4,
          0.0012735634098464126,
          2.6908308394880773E-5,
          0.0011669486184765125,
          7.761520849782463E-4,
          1.8901371131265413E-5,
          0.0026225004593399153,
          1.056901647571612E-4,
          0.001887373827081497,
          6.395459490932865E-4,
          3.837851243209897E-4,
          3.0655395949114945E-4,
          6.981977335666899E-6,
          0.0124585258953407,
          5.593095938188646E-5,
          0.010664444399535176,
          2.5305958748338863E-4,
          0.0020542937380657552,
          1.1449022464557356E-5,
          0.003083098811314496,
          0.0024769199255225863,
          0.001473390436150308,
          0.0015249028928583123,
          0.0010530326211396163,
          0.0039670530931530485,
          0.03319361733801126,
          0.06563458504481905,
          2.4619472403875867E-4,
          1.0992952448639445E-6,
          1.5108534382815858E-6,
          1.0739811648736744E-4,
          0.003755785771421415,
          0.0012056687321292823,
          2.3720587703274747E-4,
          4.4013422157649015E-5,
          2.002377259752439E-5,
          4.061875617427814E-5,
          2.4207865869530773E-4,
          1.5232795632705464E-5,
          4.442170242096936E-5,
          7.864286603999975E-5,
          2.3749324176716168E-4,
          9.979634311417466E-5,
          3.2869134792806094E-5,
          1.194166943735583E-4,
          4.333974515137945E-4,
          0.0012734184238200354,
          1.4209616805816052E-4,
          1.8247736865689237E-4,
          4.99071453578972E-4,
          2.5144123361470867E-4,
          2.142527303947487E-4,
          0.04095271886037541,
          0.059632250574946276,
          0.0010600495427170416,
          3.8673984479735696E-5,
          1.1809197259450515E-5,
          5.878326308638459E-6,
          3.786659687025777E-4,
          0.0024721191444325922,
          0.04682580541833432,
          6.540368365934711E-6,
          8.869656561650108E-5,
          1.613585081805616E-4,
          2.189576839873706E-4,
          9.8776056741051E-6,
          1.9306890218969948E-4,
          4.887602384143828E-5,
          2.8888916743063476E-5,
          5.6706687791736564E-5,
          1.7054894001511145E-4,
          5.171501899613244E-5,
          4.793435196104836E-5,
          1.4454370535713114E-4,
          1.6385313533453098E-4,
          3.091319512238907E-4,
          0.35891746947063524,
          0.004380702082924748,
          0.048011795589290564,
          7.983929173590639E-4,
          1.1854278780662062E-6,
          4.698777313917004E-4,
          2.0610134662599455E-5,
          3.122594196940592E-5,
          5.516960957006791E-6,
          9.607924367285818E-7,
          1.2423826344322248E-5,
          1.643732543034524E-5,
          8.202963492542561E-5,
          1.0029792733600008E-4,
          1.0291817606408175E-4,
          3.4397114758466265E-6,
          1.935049161687055E-5,
          3.05520956377472E-5,
          0.20259274836138313,
          1.062118876845419E-4,
          1.3707075423021015E-5,
          7.818125529652587E-5,
          1.6786377784926815E-6,
          0.0021250482269847453,
          0.0017484237460436327,
          1.737869307511689E-5,
          3.744531078497438E-5,
          2.7524942531624E-5,
          5.550170705649828E-5,
          3.8483229399353514E-5,
          3.0207885251093347E-5,
          1.11637359219129E-4,
          3.1307717340580603E-4,
          3.910530624880643E-5,
          0.009343454203933418,
          4.5720025046993727E-4,
          2.3892622775154894E-4,
          2.9342859280233574E-5,
          1.1517998717920668E-4,
          1.0170430293825442E-4,
          9.626287751362721E-6,
          1.3670279372426486E-4,
          0.001983748470605821,
          2.0847430660554127E-4,
          0.0011141828245448487,
          0.09801617008798579,
          8.427831612564759E-5,
          2.0472497414875408E-4,
          0.13907700098016526,
          9.149638570293637E-5,
          0.005335120430782178,
          4.871516422165556E-5,
          0.00108768726426093,
          0.04424499737940197,
          1.1224458479683637E-5,
          2.239499765154851E-5,
          3.161342309409159E-5,
          5.757996760294955E-4,
          9.58722143044042E-4,
          6.588935402454716E-4,
          5.738338788298669E-8,
          1.4918812141017726E-4,
          3.7934517379548613E-5,
          6.628092959930343E-4,
          6.0466940690637914E-5,
          8.704998607007854E-4,
          0.0013049125774076795,
          3.325637514708396E-6,
          0.003451896482739686,
          0.0037798600273822253,
          3.636772659772165E-5,
          0.01153144684592087,
          0.07777196058670019,
          0.010910668321871203,
          9.96555902691665E-5,
          7.163612998429567E-5,
          0.002559822845211665,
          7.800665820273737E-4,
          0.01294918092984686,
          5.164523546330144E-4,
          3.1542700457884356E-4,
          0.2049317641481585,
          0.016096288531646352,
          0.031908446915321374,
          5.501457026097745E-4,
          0.03056217547772796,
          0.03766047727932757,
          1.5976705132826512E-5,
          2.206400031193157E-5,
          1.7186506800619374E-4,
          1.9616229805673483E-4,
          7.705723457760473E-5,
          1.3936304787292029E-5,
          0.007817037021186616,
          7.048233468590739E-6,
          5.283467390912906E-6,
          8.53015009841732E-5,
          0.03838854541625085,
          8.681559863723592E-6,
          4.371795202639503E-4,
          1.0658605293745765E-6,
          4.711542238768421E-7,
          1.0328853550194043E-6,
          7.719539660030384E-5,
          5.876433419789971E-5,
          0.0012569657627833227
         ],
         "y0": " ",
         "yaxis": "y",
         "type": "violin"
        }
       ],
       "layout": {
        "template": {
         "data": {
          "histogram2dcontour": [
           {
            "type": "histogram2dcontour",
            "colorbar": {
             "outlinewidth": 0,
             "ticks": ""
            },
            "colorscale": [
             [
              0.0,
              "#0d0887"
             ],
             [
              0.1111111111111111,
              "#46039f"
             ],
             [
              0.2222222222222222,
              "#7201a8"
             ],
             [
              0.3333333333333333,
              "#9c179e"
             ],
             [
              0.4444444444444444,
              "#bd3786"
             ],
             [
              0.5555555555555556,
              "#d8576b"
             ],
             [
              0.6666666666666666,
              "#ed7953"
             ],
             [
              0.7777777777777778,
              "#fb9f3a"
             ],
             [
              0.8888888888888888,
              "#fdca26"
             ],
             [
              1.0,
              "#f0f921"
             ]
            ]
           }
          ],
          "choropleth": [
           {
            "type": "choropleth",
            "colorbar": {
             "outlinewidth": 0,
             "ticks": ""
            }
           }
          ],
          "histogram2d": [
           {
            "type": "histogram2d",
            "colorbar": {
             "outlinewidth": 0,
             "ticks": ""
            },
            "colorscale": [
             [
              0.0,
              "#0d0887"
             ],
             [
              0.1111111111111111,
              "#46039f"
             ],
             [
              0.2222222222222222,
              "#7201a8"
             ],
             [
              0.3333333333333333,
              "#9c179e"
             ],
             [
              0.4444444444444444,
              "#bd3786"
             ],
             [
              0.5555555555555556,
              "#d8576b"
             ],
             [
              0.6666666666666666,
              "#ed7953"
             ],
             [
              0.7777777777777778,
              "#fb9f3a"
             ],
             [
              0.8888888888888888,
              "#fdca26"
             ],
             [
              1.0,
              "#f0f921"
             ]
            ]
           }
          ],
          "heatmap": [
           {
            "type": "heatmap",
            "colorbar": {
             "outlinewidth": 0,
             "ticks": ""
            },
            "colorscale": [
             [
              0.0,
              "#0d0887"
             ],
             [
              0.1111111111111111,
              "#46039f"
             ],
             [
              0.2222222222222222,
              "#7201a8"
             ],
             [
              0.3333333333333333,
              "#9c179e"
             ],
             [
              0.4444444444444444,
              "#bd3786"
             ],
             [
              0.5555555555555556,
              "#d8576b"
             ],
             [
              0.6666666666666666,
              "#ed7953"
             ],
             [
              0.7777777777777778,
              "#fb9f3a"
             ],
             [
              0.8888888888888888,
              "#fdca26"
             ],
             [
              1.0,
              "#f0f921"
             ]
            ]
           }
          ],
          "heatmapgl": [
           {
            "type": "heatmapgl",
            "colorbar": {
             "outlinewidth": 0,
             "ticks": ""
            },
            "colorscale": [
             [
              0.0,
              "#0d0887"
             ],
             [
              0.1111111111111111,
              "#46039f"
             ],
             [
              0.2222222222222222,
              "#7201a8"
             ],
             [
              0.3333333333333333,
              "#9c179e"
             ],
             [
              0.4444444444444444,
              "#bd3786"
             ],
             [
              0.5555555555555556,
              "#d8576b"
             ],
             [
              0.6666666666666666,
              "#ed7953"
             ],
             [
              0.7777777777777778,
              "#fb9f3a"
             ],
             [
              0.8888888888888888,
              "#fdca26"
             ],
             [
              1.0,
              "#f0f921"
             ]
            ]
           }
          ],
          "contourcarpet": [
           {
            "type": "contourcarpet",
            "colorbar": {
             "outlinewidth": 0,
             "ticks": ""
            }
           }
          ],
          "contour": [
           {
            "type": "contour",
            "colorbar": {
             "outlinewidth": 0,
             "ticks": ""
            },
            "colorscale": [
             [
              0.0,
              "#0d0887"
             ],
             [
              0.1111111111111111,
              "#46039f"
             ],
             [
              0.2222222222222222,
              "#7201a8"
             ],
             [
              0.3333333333333333,
              "#9c179e"
             ],
             [
              0.4444444444444444,
              "#bd3786"
             ],
             [
              0.5555555555555556,
              "#d8576b"
             ],
             [
              0.6666666666666666,
              "#ed7953"
             ],
             [
              0.7777777777777778,
              "#fb9f3a"
             ],
             [
              0.8888888888888888,
              "#fdca26"
             ],
             [
              1.0,
              "#f0f921"
             ]
            ]
           }
          ],
          "surface": [
           {
            "type": "surface",
            "colorbar": {
             "outlinewidth": 0,
             "ticks": ""
            },
            "colorscale": [
             [
              0.0,
              "#0d0887"
             ],
             [
              0.1111111111111111,
              "#46039f"
             ],
             [
              0.2222222222222222,
              "#7201a8"
             ],
             [
              0.3333333333333333,
              "#9c179e"
             ],
             [
              0.4444444444444444,
              "#bd3786"
             ],
             [
              0.5555555555555556,
              "#d8576b"
             ],
             [
              0.6666666666666666,
              "#ed7953"
             ],
             [
              0.7777777777777778,
              "#fb9f3a"
             ],
             [
              0.8888888888888888,
              "#fdca26"
             ],
             [
              1.0,
              "#f0f921"
             ]
            ]
           }
          ],
          "mesh3d": [
           {
            "type": "mesh3d",
            "colorbar": {
             "outlinewidth": 0,
             "ticks": ""
            }
           }
          ],
          "scatter": [
           {
            "fillpattern": {
             "fillmode": "overlay",
             "size": 10,
             "solidity": 0.2
            },
            "type": "scatter"
           }
          ],
          "parcoords": [
           {
            "type": "parcoords",
            "line": {
             "colorbar": {
              "outlinewidth": 0,
              "ticks": ""
             }
            }
           }
          ],
          "scatterpolargl": [
           {
            "type": "scatterpolargl",
            "marker": {
             "colorbar": {
              "outlinewidth": 0,
              "ticks": ""
             }
            }
           }
          ],
          "bar": [
           {
            "error_x": {
             "color": "#2a3f5f"
            },
            "error_y": {
             "color": "#2a3f5f"
            },
            "marker": {
             "line": {
              "color": "#E5ECF6",
              "width": 0.5
             },
             "pattern": {
              "fillmode": "overlay",
              "size": 10,
              "solidity": 0.2
             }
            },
            "type": "bar"
           }
          ],
          "scattergeo": [
           {
            "type": "scattergeo",
            "marker": {
             "colorbar": {
              "outlinewidth": 0,
              "ticks": ""
             }
            }
           }
          ],
          "scatterpolar": [
           {
            "type": "scatterpolar",
            "marker": {
             "colorbar": {
              "outlinewidth": 0,
              "ticks": ""
             }
            }
           }
          ],
          "histogram": [
           {
            "marker": {
             "pattern": {
              "fillmode": "overlay",
              "size": 10,
              "solidity": 0.2
             }
            },
            "type": "histogram"
           }
          ],
          "scattergl": [
           {
            "type": "scattergl",
            "marker": {
             "colorbar": {
              "outlinewidth": 0,
              "ticks": ""
             }
            }
           }
          ],
          "scatter3d": [
           {
            "type": "scatter3d",
            "line": {
             "colorbar": {
              "outlinewidth": 0,
              "ticks": ""
             }
            },
            "marker": {
             "colorbar": {
              "outlinewidth": 0,
              "ticks": ""
             }
            }
           }
          ],
          "scattermapbox": [
           {
            "type": "scattermapbox",
            "marker": {
             "colorbar": {
              "outlinewidth": 0,
              "ticks": ""
             }
            }
           }
          ],
          "scatterternary": [
           {
            "type": "scatterternary",
            "marker": {
             "colorbar": {
              "outlinewidth": 0,
              "ticks": ""
             }
            }
           }
          ],
          "scattercarpet": [
           {
            "type": "scattercarpet",
            "marker": {
             "colorbar": {
              "outlinewidth": 0,
              "ticks": ""
             }
            }
           }
          ],
          "carpet": [
           {
            "aaxis": {
             "endlinecolor": "#2a3f5f",
             "gridcolor": "white",
             "linecolor": "white",
             "minorgridcolor": "white",
             "startlinecolor": "#2a3f5f"
            },
            "baxis": {
             "endlinecolor": "#2a3f5f",
             "gridcolor": "white",
             "linecolor": "white",
             "minorgridcolor": "white",
             "startlinecolor": "#2a3f5f"
            },
            "type": "carpet"
           }
          ],
          "table": [
           {
            "cells": {
             "fill": {
              "color": "#EBF0F8"
             },
             "line": {
              "color": "white"
             }
            },
            "header": {
             "fill": {
              "color": "#C8D4E3"
             },
             "line": {
              "color": "white"
             }
            },
            "type": "table"
           }
          ],
          "barpolar": [
           {
            "marker": {
             "line": {
              "color": "#E5ECF6",
              "width": 0.5
             },
             "pattern": {
              "fillmode": "overlay",
              "size": 10,
              "solidity": 0.2
             }
            },
            "type": "barpolar"
           }
          ],
          "pie": [
           {
            "automargin": true,
            "type": "pie"
           }
          ]
         },
         "layout": {
          "autotypenumbers": "strict",
          "colorway": [
           "#636efa",
           "#EF553B",
           "#00cc96",
           "#ab63fa",
           "#FFA15A",
           "#19d3f3",
           "#FF6692",
           "#B6E880",
           "#FF97FF",
           "#FECB52"
          ],
          "font": {
           "color": "#2a3f5f"
          },
          "hovermode": "closest",
          "hoverlabel": {
           "align": "left"
          },
          "paper_bgcolor": "white",
          "plot_bgcolor": "#E5ECF6",
          "polar": {
           "bgcolor": "#E5ECF6",
           "angularaxis": {
            "gridcolor": "white",
            "linecolor": "white",
            "ticks": ""
           },
           "radialaxis": {
            "gridcolor": "white",
            "linecolor": "white",
            "ticks": ""
           }
          },
          "ternary": {
           "bgcolor": "#E5ECF6",
           "aaxis": {
            "gridcolor": "white",
            "linecolor": "white",
            "ticks": ""
           },
           "baxis": {
            "gridcolor": "white",
            "linecolor": "white",
            "ticks": ""
           },
           "caxis": {
            "gridcolor": "white",
            "linecolor": "white",
            "ticks": ""
           }
          },
          "coloraxis": {
           "colorbar": {
            "outlinewidth": 0,
            "ticks": ""
           }
          },
          "colorscale": {
           "sequential": [
            [
             0.0,
             "#0d0887"
            ],
            [
             0.1111111111111111,
             "#46039f"
            ],
            [
             0.2222222222222222,
             "#7201a8"
            ],
            [
             0.3333333333333333,
             "#9c179e"
            ],
            [
             0.4444444444444444,
             "#bd3786"
            ],
            [
             0.5555555555555556,
             "#d8576b"
            ],
            [
             0.6666666666666666,
             "#ed7953"
            ],
            [
             0.7777777777777778,
             "#fb9f3a"
            ],
            [
             0.8888888888888888,
             "#fdca26"
            ],
            [
             1.0,
             "#f0f921"
            ]
           ],
           "sequentialminus": [
            [
             0.0,
             "#0d0887"
            ],
            [
             0.1111111111111111,
             "#46039f"
            ],
            [
             0.2222222222222222,
             "#7201a8"
            ],
            [
             0.3333333333333333,
             "#9c179e"
            ],
            [
             0.4444444444444444,
             "#bd3786"
            ],
            [
             0.5555555555555556,
             "#d8576b"
            ],
            [
             0.6666666666666666,
             "#ed7953"
            ],
            [
             0.7777777777777778,
             "#fb9f3a"
            ],
            [
             0.8888888888888888,
             "#fdca26"
            ],
            [
             1.0,
             "#f0f921"
            ]
           ],
           "diverging": [
            [
             0,
             "#8e0152"
            ],
            [
             0.1,
             "#c51b7d"
            ],
            [
             0.2,
             "#de77ae"
            ],
            [
             0.3,
             "#f1b6da"
            ],
            [
             0.4,
             "#fde0ef"
            ],
            [
             0.5,
             "#f7f7f7"
            ],
            [
             0.6,
             "#e6f5d0"
            ],
            [
             0.7,
             "#b8e186"
            ],
            [
             0.8,
             "#7fbc41"
            ],
            [
             0.9,
             "#4d9221"
            ],
            [
             1,
             "#276419"
            ]
           ]
          },
          "xaxis": {
           "gridcolor": "white",
           "linecolor": "white",
           "ticks": "",
           "title": {
            "standoff": 15
           },
           "zerolinecolor": "white",
           "automargin": true,
           "zerolinewidth": 2
          },
          "yaxis": {
           "gridcolor": "white",
           "linecolor": "white",
           "ticks": "",
           "title": {
            "standoff": 15
           },
           "zerolinecolor": "white",
           "automargin": true,
           "zerolinewidth": 2
          },
          "scene": {
           "xaxis": {
            "backgroundcolor": "#E5ECF6",
            "gridcolor": "white",
            "linecolor": "white",
            "showbackground": true,
            "ticks": "",
            "zerolinecolor": "white",
            "gridwidth": 2
           },
           "yaxis": {
            "backgroundcolor": "#E5ECF6",
            "gridcolor": "white",
            "linecolor": "white",
            "showbackground": true,
            "ticks": "",
            "zerolinecolor": "white",
            "gridwidth": 2
           },
           "zaxis": {
            "backgroundcolor": "#E5ECF6",
            "gridcolor": "white",
            "linecolor": "white",
            "showbackground": true,
            "ticks": "",
            "zerolinecolor": "white",
            "gridwidth": 2
           }
          },
          "shapedefaults": {
           "line": {
            "color": "#2a3f5f"
           }
          },
          "annotationdefaults": {
           "arrowcolor": "#2a3f5f",
           "arrowhead": 0,
           "arrowwidth": 1
          },
          "geo": {
           "bgcolor": "white",
           "landcolor": "#E5ECF6",
           "subunitcolor": "white",
           "showland": true,
           "showlakes": true,
           "lakecolor": "white"
          },
          "title": {
           "x": 0.05
          },
          "mapbox": {
           "style": "light"
          }
         }
        },
        "xaxis": {
         "anchor": "y",
         "domain": [
          0.0,
          1.0
         ],
         "title": {
          "text": "Error type"
         }
        },
        "yaxis": {
         "anchor": "x",
         "domain": [
          0.0,
          1.0
         ],
         "title": {
          "text": "log(value)"
         },
         "type": "log",
         "range": [
          -22,
          3
         ]
        },
        "legend": {
         "tracegroupgap": 0
        },
        "margin": {
         "t": 60
        },
        "violinmode": "group",
        "title": {
         "text": "Errors normalize by σ"
        }
       },
       "config": {
        "plotlyServerURL": "https://plot.ly"
       }
      },
      "text/html": "<div>                            <div id=\"57ab1c3b-8358-47a0-8945-7672721e13c5\" class=\"plotly-graph-div\" style=\"height:525px; width:100%;\"></div>            <script type=\"text/javascript\">                require([\"plotly\"], function(Plotly) {                    window.PLOTLYENV=window.PLOTLYENV || {};                                    if (document.getElementById(\"57ab1c3b-8358-47a0-8945-7672721e13c5\")) {                    Plotly.newPlot(                        \"57ab1c3b-8358-47a0-8945-7672721e13c5\",                        [{\"alignmentgroup\":\"True\",\"box\":{\"visible\":true},\"hovertemplate\":\"variable=%{x}\\u003cbr\\u003evalue=%{y}\\u003cextra\\u003e\\u003c\\u002fextra\\u003e\",\"legendgroup\":\"\",\"marker\":{\"color\":\"#636efa\"},\"name\":\"\",\"offsetgroup\":\"\",\"orientation\":\"v\",\"points\":\"all\",\"scalegroup\":\"True\",\"showlegend\":false,\"x\":[\"squared_error\",\"squared_error\",\"squared_error\",\"squared_error\",\"squared_error\",\"squared_error\",\"squared_error\",\"squared_error\",\"squared_error\",\"squared_error\",\"squared_error\",\"squared_error\",\"squared_error\",\"squared_error\",\"squared_error\",\"squared_error\",\"squared_error\",\"squared_error\",\"squared_error\",\"squared_error\",\"squared_error\",\"squared_error\",\"squared_error\",\"squared_error\",\"squared_error\",\"squared_error\",\"squared_error\",\"squared_error\",\"squared_error\",\"squared_error\",\"squared_error\",\"squared_error\",\"squared_error\",\"squared_error\",\"squared_error\",\"squared_error\",\"squared_error\",\"squared_error\",\"squared_error\",\"squared_error\",\"squared_error\",\"squared_error\",\"squared_error\",\"squared_error\",\"squared_error\",\"squared_error\",\"squared_error\",\"squared_error\",\"squared_error\",\"squared_error\",\"squared_error\",\"squared_error\",\"squared_error\",\"squared_error\",\"squared_error\",\"squared_error\",\"squared_error\",\"squared_error\",\"squared_error\",\"squared_error\",\"squared_error\",\"squared_error\",\"squared_error\",\"squared_error\",\"squared_error\",\"squared_error\",\"squared_error\",\"squared_error\",\"squared_error\",\"squared_error\",\"squared_error\",\"squared_error\",\"squared_error\",\"squared_error\",\"squared_error\",\"squared_error\",\"squared_error\",\"squared_error\",\"squared_error\",\"squared_error\",\"squared_error\",\"squared_error\",\"squared_error\",\"squared_error\",\"squared_error\",\"squared_error\",\"squared_error\",\"squared_error\",\"squared_error\",\"squared_error\",\"squared_error\",\"squared_error\",\"squared_error\",\"squared_error\",\"squared_error\",\"squared_error\",\"squared_error\",\"squared_error\",\"squared_error\",\"squared_error\",\"squared_error\",\"squared_error\",\"squared_error\",\"squared_error\",\"squared_error\",\"squared_error\",\"squared_error\",\"squared_error\",\"squared_error\",\"squared_error\",\"squared_error\",\"squared_error\",\"squared_error\",\"squared_error\",\"squared_error\",\"squared_error\",\"squared_error\",\"squared_error\",\"squared_error\",\"squared_error\",\"squared_error\",\"squared_error\",\"squared_error\",\"squared_error\",\"squared_error\",\"squared_error\",\"squared_error\",\"squared_error\",\"squared_error\",\"squared_error\",\"squared_error\",\"squared_error\",\"squared_error\",\"squared_error\",\"squared_error\",\"squared_error\",\"squared_error\",\"squared_error\",\"squared_error\",\"squared_error\",\"squared_error\",\"squared_error\",\"squared_error\",\"squared_error\",\"squared_error\",\"squared_error\",\"squared_error\",\"squared_error\",\"squared_error\",\"squared_error\",\"squared_error\",\"squared_error\",\"squared_error\",\"squared_error\",\"squared_error\",\"squared_error\",\"squared_error\",\"squared_error\",\"squared_error\",\"squared_error\",\"squared_error\",\"squared_error\",\"squared_error\",\"squared_error\",\"squared_error\",\"squared_error\",\"squared_error\",\"squared_error\",\"squared_error\",\"squared_error\",\"squared_error\",\"squared_error\",\"squared_error\",\"squared_error\",\"squared_error\",\"squared_error\",\"squared_error\",\"squared_error\",\"squared_error\",\"squared_error\",\"squared_error\",\"squared_error\",\"squared_error\",\"squared_error\",\"squared_error\",\"squared_error\",\"squared_error\",\"squared_error\",\"squared_error\",\"squared_error\",\"squared_error\",\"squared_error\",\"squared_error\",\"squared_error\",\"squared_error\",\"squared_error\",\"squared_error\",\"squared_error\",\"squared_error\",\"squared_error\",\"squared_error\",\"squared_error\",\"squared_error\",\"squared_error\",\"squared_error\",\"squared_error\",\"squared_error\",\"squared_error\",\"squared_error\",\"squared_error\",\"squared_error\",\"squared_error\",\"squared_error\",\"squared_error\",\"squared_error\",\"squared_error\",\"squared_error\",\"squared_error\",\"squared_error\",\"squared_error\",\"squared_error\",\"squared_error\",\"squared_error\",\"squared_error\",\"squared_error\",\"squared_error\",\"squared_error\",\"squared_error\",\"squared_error\",\"squared_error\",\"squared_error\",\"squared_error\",\"squared_error\",\"squared_error\",\"squared_error\",\"squared_error\",\"squared_error\",\"squared_error\",\"squared_error\",\"squared_error\",\"squared_error\",\"squared_error\",\"squared_error\",\"squared_error\",\"squared_error\",\"squared_error\",\"squared_error\",\"squared_error\",\"squared_error\",\"squared_error\",\"squared_error\",\"squared_error\",\"squared_error\",\"squared_error\",\"squared_error\",\"squared_error\",\"squared_error\",\"squared_error\",\"squared_error\",\"squared_error\",\"squared_error\",\"squared_error\",\"squared_error\",\"squared_error\",\"squared_error\",\"squared_error\",\"squared_error\",\"squared_error\",\"squared_error\",\"squared_error\",\"squared_error\",\"squared_error\",\"squared_error\",\"squared_error\",\"squared_error\",\"squared_error\",\"squared_error\",\"squared_error\",\"squared_error\",\"squared_error\",\"squared_error\",\"squared_error\",\"squared_error\",\"squared_error\",\"squared_error\",\"squared_error\",\"squared_error\",\"squared_error\",\"squared_error\",\"squared_error\",\"squared_error\",\"squared_error\",\"squared_error\",\"squared_error\",\"squared_error\",\"squared_error\",\"squared_error\",\"squared_error\",\"squared_error\",\"squared_error\",\"squared_error\",\"squared_error\",\"squared_error\",\"squared_error\",\"squared_error\",\"squared_error\",\"squared_error\",\"squared_error\",\"squared_error\",\"squared_error\",\"squared_error\",\"squared_error\",\"squared_error\",\"p1_variance\",\"p1_variance\",\"p1_variance\",\"p1_variance\",\"p1_variance\",\"p1_variance\",\"p1_variance\",\"p1_variance\",\"p1_variance\",\"p1_variance\",\"p1_variance\",\"p1_variance\",\"p1_variance\",\"p1_variance\",\"p1_variance\",\"p1_variance\",\"p1_variance\",\"p1_variance\",\"p1_variance\",\"p1_variance\",\"p1_variance\",\"p1_variance\",\"p1_variance\",\"p1_variance\",\"p1_variance\",\"p1_variance\",\"p1_variance\",\"p1_variance\",\"p1_variance\",\"p1_variance\",\"p1_variance\",\"p1_variance\",\"p1_variance\",\"p1_variance\",\"p1_variance\",\"p1_variance\",\"p1_variance\",\"p1_variance\",\"p1_variance\",\"p1_variance\",\"p1_variance\",\"p1_variance\",\"p1_variance\",\"p1_variance\",\"p1_variance\",\"p1_variance\",\"p1_variance\",\"p1_variance\",\"p1_variance\",\"p1_variance\",\"p1_variance\",\"p1_variance\",\"p1_variance\",\"p1_variance\",\"p1_variance\",\"p1_variance\",\"p1_variance\",\"p1_variance\",\"p1_variance\",\"p1_variance\",\"p1_variance\",\"p1_variance\",\"p1_variance\",\"p1_variance\",\"p1_variance\",\"p1_variance\",\"p1_variance\",\"p1_variance\",\"p1_variance\",\"p1_variance\",\"p1_variance\",\"p1_variance\",\"p1_variance\",\"p1_variance\",\"p1_variance\",\"p1_variance\",\"p1_variance\",\"p1_variance\",\"p1_variance\",\"p1_variance\",\"p1_variance\",\"p1_variance\",\"p1_variance\",\"p1_variance\",\"p1_variance\",\"p1_variance\",\"p1_variance\",\"p1_variance\",\"p1_variance\",\"p1_variance\",\"p1_variance\",\"p1_variance\",\"p1_variance\",\"p1_variance\",\"p1_variance\",\"p1_variance\",\"p1_variance\",\"p1_variance\",\"p1_variance\",\"p1_variance\",\"p1_variance\",\"p1_variance\",\"p1_variance\",\"p1_variance\",\"p1_variance\",\"p1_variance\",\"p1_variance\",\"p1_variance\",\"p1_variance\",\"p1_variance\",\"p1_variance\",\"p1_variance\",\"p1_variance\",\"p1_variance\",\"p1_variance\",\"p1_variance\",\"p1_variance\",\"p1_variance\",\"p1_variance\",\"p1_variance\",\"p1_variance\",\"p1_variance\",\"p1_variance\",\"p1_variance\",\"p1_variance\",\"p1_variance\",\"p1_variance\",\"p1_variance\",\"p1_variance\",\"p1_variance\",\"p1_variance\",\"p1_variance\",\"p1_variance\",\"p1_variance\",\"p1_variance\",\"p1_variance\",\"p1_variance\",\"p1_variance\",\"p1_variance\",\"p1_variance\",\"p1_variance\",\"p1_variance\",\"p1_variance\",\"p1_variance\",\"p1_variance\",\"p1_variance\",\"p1_variance\",\"p1_variance\",\"p1_variance\",\"p1_variance\",\"p1_variance\",\"p1_variance\",\"p1_variance\",\"p1_variance\",\"p1_variance\",\"p1_variance\",\"p1_variance\",\"p1_variance\",\"p1_variance\",\"p1_variance\",\"p1_variance\",\"p1_variance\",\"p1_variance\",\"p1_variance\",\"p1_variance\",\"p1_variance\",\"p1_variance\",\"p1_variance\",\"p1_variance\",\"p1_variance\",\"p1_variance\",\"p1_variance\",\"p1_variance\",\"p1_variance\",\"p1_variance\",\"p1_variance\",\"p1_variance\",\"p1_variance\",\"p1_variance\",\"p1_variance\",\"p1_variance\",\"p1_variance\",\"p1_variance\",\"p1_variance\",\"p1_variance\",\"p1_variance\",\"p1_variance\",\"p1_variance\",\"p1_variance\",\"p1_variance\",\"p1_variance\",\"p1_variance\",\"p1_variance\",\"p1_variance\",\"p1_variance\",\"p1_variance\",\"p1_variance\",\"p1_variance\",\"p1_variance\",\"p1_variance\",\"p1_variance\",\"p1_variance\",\"p1_variance\",\"p1_variance\",\"p1_variance\",\"p1_variance\",\"p1_variance\",\"p1_variance\",\"p1_variance\",\"p1_variance\",\"p1_variance\",\"p1_variance\",\"p1_variance\",\"p1_variance\",\"p1_variance\",\"p1_variance\",\"p1_variance\",\"p1_variance\",\"p1_variance\",\"p1_variance\",\"p1_variance\",\"p1_variance\",\"p1_variance\",\"p1_variance\",\"p1_variance\",\"p1_variance\",\"p1_variance\",\"p1_variance\",\"p1_variance\",\"p1_variance\",\"p1_variance\",\"p1_variance\",\"p1_variance\",\"p1_variance\",\"p1_variance\",\"p1_variance\",\"p1_variance\",\"p1_variance\",\"p1_variance\",\"p1_variance\",\"p1_variance\",\"p1_variance\",\"p1_variance\",\"p1_variance\",\"p1_variance\",\"p1_variance\",\"p1_variance\",\"p1_variance\",\"p1_variance\",\"p1_variance\",\"p1_variance\",\"p1_variance\",\"p1_variance\",\"p1_variance\",\"p1_variance\",\"p1_variance\",\"p1_variance\",\"p1_variance\",\"p1_variance\",\"p1_variance\",\"p1_variance\",\"p1_variance\",\"p1_variance\",\"p1_variance\",\"p1_variance\",\"p1_variance\",\"p1_variance\",\"p1_variance\",\"p1_variance\",\"p1_variance\",\"p1_variance\",\"p1_variance\",\"p1_variance\",\"p1_variance\",\"p1_variance\",\"p1_variance\",\"p1_variance\",\"p1_variance\",\"p1_variance\",\"p1_variance\",\"p1_variance\",\"p1_variance\",\"p1_variance\",\"p1_variance\",\"p1_variance\",\"p1_variance\",\"p1_variance\",\"p1_variance\",\"p1_variance\",\"p1_variance\",\"p1_variance\",\"p1_variance\",\"p1_variance\",\"p1_variance\",\"p1_variance\",\"p1_variance\",\"p1_variance\",\"p1_variance\",\"p1_variance\",\"p1_variance\",\"p1_variance\",\"p1_variance\",\"p1_variance\",\"p1_variance\",\"p1_variance\",\"p1_variance\",\"p1_variance\",\"p1_variance\",\"p1_variance\",\"p1_variance\",\"p1_variance\",\"p1_variance\",\"p1_variance\",\"p2_variance\",\"p2_variance\",\"p2_variance\",\"p2_variance\",\"p2_variance\",\"p2_variance\",\"p2_variance\",\"p2_variance\",\"p2_variance\",\"p2_variance\",\"p2_variance\",\"p2_variance\",\"p2_variance\",\"p2_variance\",\"p2_variance\",\"p2_variance\",\"p2_variance\",\"p2_variance\",\"p2_variance\",\"p2_variance\",\"p2_variance\",\"p2_variance\",\"p2_variance\",\"p2_variance\",\"p2_variance\",\"p2_variance\",\"p2_variance\",\"p2_variance\",\"p2_variance\",\"p2_variance\",\"p2_variance\",\"p2_variance\",\"p2_variance\",\"p2_variance\",\"p2_variance\",\"p2_variance\",\"p2_variance\",\"p2_variance\",\"p2_variance\",\"p2_variance\",\"p2_variance\",\"p2_variance\",\"p2_variance\",\"p2_variance\",\"p2_variance\",\"p2_variance\",\"p2_variance\",\"p2_variance\",\"p2_variance\",\"p2_variance\",\"p2_variance\",\"p2_variance\",\"p2_variance\",\"p2_variance\",\"p2_variance\",\"p2_variance\",\"p2_variance\",\"p2_variance\",\"p2_variance\",\"p2_variance\",\"p2_variance\",\"p2_variance\",\"p2_variance\",\"p2_variance\",\"p2_variance\",\"p2_variance\",\"p2_variance\",\"p2_variance\",\"p2_variance\",\"p2_variance\",\"p2_variance\",\"p2_variance\",\"p2_variance\",\"p2_variance\",\"p2_variance\",\"p2_variance\",\"p2_variance\",\"p2_variance\",\"p2_variance\",\"p2_variance\",\"p2_variance\",\"p2_variance\",\"p2_variance\",\"p2_variance\",\"p2_variance\",\"p2_variance\",\"p2_variance\",\"p2_variance\",\"p2_variance\",\"p2_variance\",\"p2_variance\",\"p2_variance\",\"p2_variance\",\"p2_variance\",\"p2_variance\",\"p2_variance\",\"p2_variance\",\"p2_variance\",\"p2_variance\",\"p2_variance\",\"p2_variance\",\"p2_variance\",\"p2_variance\",\"p2_variance\",\"p2_variance\",\"p2_variance\",\"p2_variance\",\"p2_variance\",\"p2_variance\",\"p2_variance\",\"p2_variance\",\"p2_variance\",\"p2_variance\",\"p2_variance\",\"p2_variance\",\"p2_variance\",\"p2_variance\",\"p2_variance\",\"p2_variance\",\"p2_variance\",\"p2_variance\",\"p2_variance\",\"p2_variance\",\"p2_variance\",\"p2_variance\",\"p2_variance\",\"p2_variance\",\"p2_variance\",\"p2_variance\",\"p2_variance\",\"p2_variance\",\"p2_variance\",\"p2_variance\",\"p2_variance\",\"p2_variance\",\"p2_variance\",\"p2_variance\",\"p2_variance\",\"p2_variance\",\"p2_variance\",\"p2_variance\",\"p2_variance\",\"p2_variance\",\"p2_variance\",\"p2_variance\",\"p2_variance\",\"p2_variance\",\"p2_variance\",\"p2_variance\",\"p2_variance\",\"p2_variance\",\"p2_variance\",\"p2_variance\",\"p2_variance\",\"p2_variance\",\"p2_variance\",\"p2_variance\",\"p2_variance\",\"p2_variance\",\"p2_variance\",\"p2_variance\",\"p2_variance\",\"p2_variance\",\"p2_variance\",\"p2_variance\",\"p2_variance\",\"p2_variance\",\"p2_variance\",\"p2_variance\",\"p2_variance\",\"p2_variance\",\"p2_variance\",\"p2_variance\",\"p2_variance\",\"p2_variance\",\"p2_variance\",\"p2_variance\",\"p2_variance\",\"p2_variance\",\"p2_variance\",\"p2_variance\",\"p2_variance\",\"p2_variance\",\"p2_variance\",\"p2_variance\",\"p2_variance\",\"p2_variance\",\"p2_variance\",\"p2_variance\",\"p2_variance\",\"p2_variance\",\"p2_variance\",\"p2_variance\",\"p2_variance\",\"p2_variance\",\"p2_variance\",\"p2_variance\",\"p2_variance\",\"p2_variance\",\"p2_variance\",\"p2_variance\",\"p2_variance\",\"p2_variance\",\"p2_variance\",\"p2_variance\",\"p2_variance\",\"p2_variance\",\"p2_variance\",\"p2_variance\",\"p2_variance\",\"p2_variance\",\"p2_variance\",\"p2_variance\",\"p2_variance\",\"p2_variance\",\"p2_variance\",\"p2_variance\",\"p2_variance\",\"p2_variance\",\"p2_variance\",\"p2_variance\",\"p2_variance\",\"p2_variance\",\"p2_variance\",\"p2_variance\",\"p2_variance\",\"p2_variance\",\"p2_variance\",\"p2_variance\",\"p2_variance\",\"p2_variance\",\"p2_variance\",\"p2_variance\",\"p2_variance\",\"p2_variance\",\"p2_variance\",\"p2_variance\",\"p2_variance\",\"p2_variance\",\"p2_variance\",\"p2_variance\",\"p2_variance\",\"p2_variance\",\"p2_variance\",\"p2_variance\",\"p2_variance\",\"p2_variance\",\"p2_variance\",\"p2_variance\",\"p2_variance\",\"p2_variance\",\"p2_variance\",\"p2_variance\",\"p2_variance\",\"p2_variance\",\"p2_variance\",\"p2_variance\",\"p2_variance\",\"p2_variance\",\"p2_variance\",\"p2_variance\",\"p2_variance\",\"p2_variance\",\"p2_variance\",\"p2_variance\",\"p2_variance\",\"p2_variance\",\"p2_variance\",\"p2_variance\",\"p2_variance\",\"p2_variance\",\"p2_variance\",\"p2_variance\",\"p2_variance\",\"p2_variance\",\"p2_variance\",\"p2_variance\",\"p2_variance\",\"p2_variance\",\"p2_variance\",\"p2_variance\",\"p2_variance\",\"p2_variance\",\"p2_variance\",\"p2_variance\",\"p2_variance\",\"p2_variance\",\"p2_variance\",\"p2_variance\",\"p2_variance\",\"p2_variance\",\"p2_variance\",\"p2_variance\",\"p2_variance\",\"p2_variance\",\"p2_variance\",\"p2_variance\",\"p2_variance\",\"p2_variance\",\"p2_variance\",\"p2_variance\",\"p2_variance\",\"p2_variance\",\"p2_variance\",\"p2_variance\",\"p2_variance\",\"p2_variance\",\"p2_variance\",\"p2_variance\",\"p2_variance\",\"p2_variance\",\"p2_variance\",\"p2_variance\",\"p1_p2_covariance\",\"p1_p2_covariance\",\"p1_p2_covariance\",\"p1_p2_covariance\",\"p1_p2_covariance\",\"p1_p2_covariance\",\"p1_p2_covariance\",\"p1_p2_covariance\",\"p1_p2_covariance\",\"p1_p2_covariance\",\"p1_p2_covariance\",\"p1_p2_covariance\",\"p1_p2_covariance\",\"p1_p2_covariance\",\"p1_p2_covariance\",\"p1_p2_covariance\",\"p1_p2_covariance\",\"p1_p2_covariance\",\"p1_p2_covariance\",\"p1_p2_covariance\",\"p1_p2_covariance\",\"p1_p2_covariance\",\"p1_p2_covariance\",\"p1_p2_covariance\",\"p1_p2_covariance\",\"p1_p2_covariance\",\"p1_p2_covariance\",\"p1_p2_covariance\",\"p1_p2_covariance\",\"p1_p2_covariance\",\"p1_p2_covariance\",\"p1_p2_covariance\",\"p1_p2_covariance\",\"p1_p2_covariance\",\"p1_p2_covariance\",\"p1_p2_covariance\",\"p1_p2_covariance\",\"p1_p2_covariance\",\"p1_p2_covariance\",\"p1_p2_covariance\",\"p1_p2_covariance\",\"p1_p2_covariance\",\"p1_p2_covariance\",\"p1_p2_covariance\",\"p1_p2_covariance\",\"p1_p2_covariance\",\"p1_p2_covariance\",\"p1_p2_covariance\",\"p1_p2_covariance\",\"p1_p2_covariance\",\"p1_p2_covariance\",\"p1_p2_covariance\",\"p1_p2_covariance\",\"p1_p2_covariance\",\"p1_p2_covariance\",\"p1_p2_covariance\",\"p1_p2_covariance\",\"p1_p2_covariance\",\"p1_p2_covariance\",\"p1_p2_covariance\",\"p1_p2_covariance\",\"p1_p2_covariance\",\"p1_p2_covariance\",\"p1_p2_covariance\",\"p1_p2_covariance\",\"p1_p2_covariance\",\"p1_p2_covariance\",\"p1_p2_covariance\",\"p1_p2_covariance\",\"p1_p2_covariance\",\"p1_p2_covariance\",\"p1_p2_covariance\",\"p1_p2_covariance\",\"p1_p2_covariance\",\"p1_p2_covariance\",\"p1_p2_covariance\",\"p1_p2_covariance\",\"p1_p2_covariance\",\"p1_p2_covariance\",\"p1_p2_covariance\",\"p1_p2_covariance\",\"p1_p2_covariance\",\"p1_p2_covariance\",\"p1_p2_covariance\",\"p1_p2_covariance\",\"p1_p2_covariance\",\"p1_p2_covariance\",\"p1_p2_covariance\",\"p1_p2_covariance\",\"p1_p2_covariance\",\"p1_p2_covariance\",\"p1_p2_covariance\",\"p1_p2_covariance\",\"p1_p2_covariance\",\"p1_p2_covariance\",\"p1_p2_covariance\",\"p1_p2_covariance\",\"p1_p2_covariance\",\"p1_p2_covariance\",\"p1_p2_covariance\",\"p1_p2_covariance\",\"p1_p2_covariance\",\"p1_p2_covariance\",\"p1_p2_covariance\",\"p1_p2_covariance\",\"p1_p2_covariance\",\"p1_p2_covariance\",\"p1_p2_covariance\",\"p1_p2_covariance\",\"p1_p2_covariance\",\"p1_p2_covariance\",\"p1_p2_covariance\",\"p1_p2_covariance\",\"p1_p2_covariance\",\"p1_p2_covariance\",\"p1_p2_covariance\",\"p1_p2_covariance\",\"p1_p2_covariance\",\"p1_p2_covariance\",\"p1_p2_covariance\",\"p1_p2_covariance\",\"p1_p2_covariance\",\"p1_p2_covariance\",\"p1_p2_covariance\",\"p1_p2_covariance\",\"p1_p2_covariance\",\"p1_p2_covariance\",\"p1_p2_covariance\",\"p1_p2_covariance\",\"p1_p2_covariance\",\"p1_p2_covariance\",\"p1_p2_covariance\",\"p1_p2_covariance\",\"p1_p2_covariance\",\"p1_p2_covariance\",\"p1_p2_covariance\",\"p1_p2_covariance\",\"p1_p2_covariance\",\"p1_p2_covariance\",\"p1_p2_covariance\",\"p1_p2_covariance\",\"p1_p2_covariance\",\"p1_p2_covariance\",\"p1_p2_covariance\",\"p1_p2_covariance\",\"p1_p2_covariance\",\"p1_p2_covariance\",\"p1_p2_covariance\",\"p1_p2_covariance\",\"p1_p2_covariance\",\"p1_p2_covariance\",\"p1_p2_covariance\",\"p1_p2_covariance\",\"p1_p2_covariance\",\"p1_p2_covariance\",\"p1_p2_covariance\",\"p1_p2_covariance\",\"p1_p2_covariance\",\"p1_p2_covariance\",\"p1_p2_covariance\",\"p1_p2_covariance\",\"p1_p2_covariance\",\"p1_p2_covariance\",\"p1_p2_covariance\",\"p1_p2_covariance\",\"p1_p2_covariance\",\"p1_p2_covariance\",\"p1_p2_covariance\",\"p1_p2_covariance\",\"p1_p2_covariance\",\"p1_p2_covariance\",\"p1_p2_covariance\",\"p1_p2_covariance\",\"p1_p2_covariance\",\"p1_p2_covariance\",\"p1_p2_covariance\",\"p1_p2_covariance\",\"p1_p2_covariance\",\"p1_p2_covariance\",\"p1_p2_covariance\",\"p1_p2_covariance\",\"p1_p2_covariance\",\"p1_p2_covariance\",\"p1_p2_covariance\",\"p1_p2_covariance\",\"p1_p2_covariance\",\"p1_p2_covariance\",\"p1_p2_covariance\",\"p1_p2_covariance\",\"p1_p2_covariance\",\"p1_p2_covariance\",\"p1_p2_covariance\",\"p1_p2_covariance\",\"p1_p2_covariance\",\"p1_p2_covariance\",\"p1_p2_covariance\",\"p1_p2_covariance\",\"p1_p2_covariance\",\"p1_p2_covariance\",\"p1_p2_covariance\",\"p1_p2_covariance\",\"p1_p2_covariance\",\"p1_p2_covariance\",\"p1_p2_covariance\",\"p1_p2_covariance\",\"p1_p2_covariance\",\"p1_p2_covariance\",\"p1_p2_covariance\",\"p1_p2_covariance\",\"p1_p2_covariance\",\"p1_p2_covariance\",\"p1_p2_covariance\",\"p1_p2_covariance\",\"p1_p2_covariance\",\"p1_p2_covariance\",\"p1_p2_covariance\",\"p1_p2_covariance\",\"p1_p2_covariance\",\"p1_p2_covariance\",\"p1_p2_covariance\",\"p1_p2_covariance\",\"p1_p2_covariance\",\"p1_p2_covariance\",\"p1_p2_covariance\",\"p1_p2_covariance\",\"p1_p2_covariance\",\"p1_p2_covariance\",\"p1_p2_covariance\",\"p1_p2_covariance\",\"p1_p2_covariance\",\"p1_p2_covariance\",\"p1_p2_covariance\",\"p1_p2_covariance\",\"p1_p2_covariance\",\"p1_p2_covariance\",\"p1_p2_covariance\",\"p1_p2_covariance\",\"p1_p2_covariance\",\"p1_p2_covariance\",\"p1_p2_covariance\",\"p1_p2_covariance\",\"p1_p2_covariance\",\"p1_p2_covariance\",\"p1_p2_covariance\",\"p1_p2_covariance\",\"p1_p2_covariance\",\"p1_p2_covariance\",\"p1_p2_covariance\",\"p1_p2_covariance\",\"p1_p2_covariance\",\"p1_p2_covariance\",\"p1_p2_covariance\",\"p1_p2_covariance\",\"p1_p2_covariance\",\"p1_p2_covariance\",\"p1_p2_covariance\",\"p1_p2_covariance\",\"p1_p2_covariance\",\"p1_p2_covariance\",\"p1_p2_covariance\",\"p1_p2_covariance\",\"p1_p2_covariance\",\"p1_p2_covariance\",\"p1_p2_covariance\",\"p1_p2_covariance\",\"p1_p2_covariance\",\"p1_p2_covariance\",\"p1_p2_covariance\",\"p1_p2_covariance\",\"p1_p2_covariance\",\"p1_p2_covariance\",\"p1_p2_covariance\",\"p1_p2_covariance\",\"p1_p2_covariance\",\"p1_p2_covariance\",\"p1_p2_covariance\",\"p1_p2_covariance\",\"p1_p2_covariance\",\"p1_p2_covariance\",\"p1_p2_covariance\",\"p1_p2_covariance\",\"p1_p2_covariance\",\"p1_p2_covariance\",\"p1_p2_covariance\",\"p1_p2_covariance\",\"p1_p2_covariance\",\"p1_p2_covariance\",\"p1_p2_covariance\",\"p1_p2_covariance\",\"p1_p2_covariance\",\"p1_p2_covariance\",\"p1_p2_covariance\",\"p1_p2_covariance\",\"p1_p2_covariance\",\"p1_p2_covariance\",\"p1_p2_covariance\",\"p1_p2_covariance\",\"p1_p2_covariance\",\"p1_p2_covariance\",\"p1_p2_covariance\",\"p1_p2_covariance\",\"p1_p2_covariance\",\"p1_p2_covariance\",\"p1_p2_covariance\",\"p1_p2_covariance\",\"p1_p2_covariance\",\"p1_p2_covariance\",\"p1_p2_covariance\",\"p1_p2_covariance\",\"p1_p2_covariance\",\"p1_p2_covariance\",\"p1_p2_covariance\",\"p1_p2_covariance\"],\"x0\":\" \",\"xaxis\":\"x\",\"y\":[0.024205287940868767,0.003308878210584122,0.0005208548269820502,0.04685256463947808,0.08435524724854011,0.14085016028810174,0.00038395462084936925,2.610929517218822,0.10672163190039544,0.1275290626004918,0.04273482080400526,0.0845715930253639,0.04459524525723408,0.5071733966086521,0.28071957202577025,0.25058277105254423,0.2982465784561411,0.8423984316162625,0.34867354933888045,1.5379840633919795,0.1442652552794103,3.786789946008944,0.000668862394334342,0.015869236210684146,2.4271009505241645,0.1114277550594054,1.9317291400715844,0.007282264297950799,0.05783251945919633,0.001108489449080561,0.010864715140732879,0.18251329919787593,0.01504961047293387,0.00011531766760928721,0.013406145827918405,0.0036353337198750807,0.0008793269477952032,0.004446483261849267,0.005244757468276039,0.02719642896454409,0.007568581122775284,0.13211513700730804,0.11981449080828382,0.013770230533855763,0.0037973131768798273,0.00855760058764871,0.02785209220001379,0.07345890676718296,0.19926856022492448,0.0476212181339452,0.4154049331529974,0.20282685892395066,0.1991245585059989,0.002481417102217548,0.2276131469594792,0.15372713700804064,0.5649214545814844,0.09004937169490825,2.239206102102158,0.1345785854777087,0.8547337181222071,0.1403229154944858,0.9910162790104884,2.0154240687972944,1.232857850966674,0.1256410147224611,1.0417080718922038,3.960705398072581,3.3162195747466434,0.007579805235077045,0.01627366707704885,0.13334763300689573,7.771208791103456e-05,0.20092605474114164,0.026633175045042923,0.02163297341166018,0.003102827794273509,0.011191200590077851,0.03666080606209696,0.06746614162929637,0.007690184489248768,0.0024166582618572654,0.003488586316256257,0.03954725405858251,0.0006315721359526103,0.0020037361944929125,0.10032516712701098,0.07306815059460442,0.009175959586287885,0.0021098347274031057,0.010912377012361507,0.052400851198018024,0.0020666276334169293,0.4064412321169662,0.2686213022985322,0.0031134183236697813,1.2689684194626998,0.4048368440833651,0.15872005775147513,1.539241715883845,2.804654029104024,0.011876784378024769,0.26373084671817365,1.8880505697943462,0.8825896648031325,0.5532554110768438,3.4085836012696135e-06,0.019525353508292004,0.0006946047383965091,0.20140181093958417,0.005022190504145679,0.14416823736240952,0.025404127394117782,0.015423432416234655,0.12688418927859108,0.05004310339719961,0.0002442645751589284,0.24685604381021203,0.40097248889215,0.06211775722265944,0.08711066951177109,0.008155044467791889,4.225613507681055e-05,0.062096422708673195,0.6086919619561255,0.010857623080716469,0.003418418596862337,0.07636339990725649,0.00020216895166988446,0.13067816507305544,0.07636832188703388,0.3320666286307221,2.5573153820843766,0.13763791296279151,0.6868647739883411,2.641283843776971,0.09657257353699042,3.4213931227968395,0.452730584907026,5.263619529552951,0.013682446041951042,0.2533916385874729,1.5810998781060033,0.03720439965542742,0.04419894924248373,0.00389492059380755,0.019021545030372705,0.00356031173806669,0.07417369423106292,0.00010648735011888012,0.03495540093237445,0.11387562919609888,0.009817431491631511,0.004970086664294731,0.005359952238823415,0.005984256622306881,0.11979475320211189,0.27188484762231746,0.3035335560843804,0.0022805009559998418,0.00019998174886550518,0.15020075475968495,0.8347687240890407,0.550511046107169,0.20279718636534907,0.056123845036851035,0.0011437773883905304,0.033440407686900396,0.7583176931440662,0.06493537861106723,0.015285961107214028,0.00048730400594648564,0.025992137145953456,0.001406796250867288,0.0003089084124475897,0.014988863257485179,0.004983320578003222,0.02206817433823588,0.005798949773647308,0.029289600901863753,0.0008528691741253696,0.008330738093514194,0.004952205873934028,0.08603871271862644,2.353510583379378,0.010465696776725012,0.034591589852947024,0.003334171928656831,0.008786330897103976,0.030689546899497502,0.4448466695492085,0.38460776884938014,0.0060831222035877585,0.23374989662517448,0.7651741472852198,0.9846502260135609,0.03682510280358539,0.8699275334665884,0.19413371029659116,0.147427306071257,0.2576332772921599,0.3324455181938011,0.2588912911586023,0.16310384011126336,0.6302668938035584,0.15755543380588916,0.4492955344281455,2.3893356876500986,0.9414596038356566,0.4638389641377155,0.9779713836675107,0.002156617463699993,0.5942032549096731,0.0013444015757459312,0.007961177453656716,0.00028907491535479105,3.491483769626662e-05,0.002387007339041835,0.0009018069850576444,0.00470779942251914,0.016937809235420896,0.013179178005309043,5.305660605230471e-05,0.0006119132296076818,0.003901568671852867,0.14542183876150386,0.01696542160209186,0.02567233533027099,0.02372836493323943,0.0025759020670082693,0.6200952592445185,5.196342504093406,0.04204813893062958,0.03183879892891801,0.07163481976528326,0.1444086015582528,0.21146232081577787,0.055511197419176296,0.3851593889754762,0.6110038590632152,0.08228876898241161,7.6058603466014825,1.7158321948658928,0.16688662154010023,0.008787692946602756,0.07913107024369012,0.4494315185699845,0.04986799816167517,0.1733094109849163,0.005904254025907282,0.007902705844067858,0.004323552897991117,0.024057993305864427,0.018271095603573696,0.011734214392616075,0.012072448765318348,0.009262257522313277,0.005181884224370818,0.009303202429434084,0.0016585061167749546,0.028184304949986833,0.012518589663260561,0.0016122785554735885,0.009524216810104687,0.08188943418986375,0.14272313280714627,0.3716951468763175,3.6332325972624e-05,0.2372682513619689,0.01506641364331966,0.46023550504070765,0.15256676094802102,0.1367913966522471,1.6141023343807381,0.0032864066316932055,0.10439706273862034,0.4292481900428984,0.020972310490912697,0.8440705999551917,2.480021339130794,4.199678906760072,0.00529356670150595,0.02637076563381214,0.3937222322628281,1.1910734373998182,2.137586655572402,0.3553426819512316,0.11190172212271295,0.4417448726826219,3.296315268494551,2.116987706877797,1.4388623104720506,2.843538120572544,0.013391652756140359,0.001639539910518406,0.001485556424434312,0.03096527711567091,0.053153509820793914,0.005626333807112204,0.0024039092229031465,0.020322108354522892,0.008769119352794941,0.01513277165802824,0.15257160454190638,0.3628845445612012,0.006623414843477674,0.033267720308074164,0.0009650926079310122,0.0013512994493497937,7.422586520457949e-05,0.13291222776243933,0.18671965366768553,7.366934991023816,1.3095562226362447e-06,2.560276974377458e-08,1.9502904980053298e-06,4.250426832773384e-06,1.8670539557115592e-06,0.00035216280643337916,1.008470674455056e-07,0.000221615731345695,8.295010128080595e-08,6.90632657318928e-07,2.3350762746912315e-08,4.350320885895968e-06,1.971207170210672e-07,0.0010371012061273612,0.00021057295395653406,2.7425525100657626e-07,0.0019361417582211254,0.02022643980360493,2.0641672727244227e-06,0.001618025335030057,6.674395940410851e-05,0.00043367437838207957,3.023076625859616e-10,0.5965155444244226,0.01533176965849336,2.4780052678571287e-06,0.0045558325342814465,0.00023961912940459693,4.383864002156399e-05,5.5552315875581946e-08,0.0002948296012398799,0.40267114997746506,7.658997139821987e-05,7.22598009822976e-08,6.535522768665518e-08,6.841539312307843e-08,0.014188623084783495,0.002707452576704884,0.0001054043077240142,0.003428524122844646,0.005601491638481088,0.004900591326673037,2.992034580091807,1.5072920567468033e-07,1.2829471917793891e-06,13.591999471167927,0.26906671715058456,3.3437248731118396e-05,1.3535187934603242e-05,0.0005924553358439119,0.00013907163625492006,1.419162759877932e-05,0.0007055182626485599,1.1195300175792156e-08,5.631611049607595e-05,3.4725189280740957e-06,0.00034086223870187466,1.0989272063125381e-05,2.7369507223373798e-05,0.0007057440843741131,0.0022740137287264343,5.982467382279524e-05,0.0034227448115835353,0.005535252951433881,0.001099716377663469,10.750602634287544,0.00042344353125131737,0.00014392302102015207,0.002439418756226761,6.163391612466646e-07,0.00043628182385598864,0.01955414704101187,7.498701196250683e-07,0.10953130498212538,0.3079357076986857,1.63857584097873e-07,9.871608479718318e-07,4.387035879872342e-08,5.036680462506063e-06,2.531975793747765e-07,0.045391318556499444,9.184262429547459e-05,0.029419730633537013,0.0064078944294609285,1.433764364467158e-05,7.931088242118296e-09,1.2277574993441313e-07,9.480945708522286e-07,4.150155563705012e-09,0.0009202332078316556,2.1355678450497568e-07,0.04661475832045546,2.4801493325105493e-05,1.1621251405173219e-05,9.958783880263671e-06,1.0599944298795419e-07,0.022851137372030567,1.4968477332010584e-05,0.00016524157306249147,2.5071174553579625,0.0004155870847896924,2.4406715646306365e-05,2.6585183631698813e-05,0.00021450773275222498,9.083696856393654e-06,0.00037329340746374365,1.1269318529100551e-07,8.546294766162135e-07,6.572787391817784e-05,0.0004673108513830597,0.00038269905319005833,0.0015286522907508996,7.954861898735781e-08,0.0016690811053335834,0.03901469853178922,0.002581050424814787,0.00026234922711274315,0.07064834454689349,0.38961650845666856,0.008092315214745713,3.283206340985436e-06,6.782392438730238e-08,2.1868880919280825e-08,1.2388835044533632e-06,2.5033494639189883e-05,3.429736568928209e-06,4.545021180691343e-08,5.634225636358546e-07,1.5488597426983573e-08,1.1472071175161557e-06,1.804815395773415e-07,3.5132176886801425e-05,2.0609064231030283e-05,1.4067757374672108e-07,3.518360301183532e-05,8.316139837530122e-06,9.339310582578591e-08,5.887924516828107e-05,9.434486085957281e-07,1.7035756617440933e-05,8.048979821493414e-06,6.572463514085862e-07,2.112480783225144e-06,2.359965524478091e-08,0.00391019694627595,1.4879645021899069e-06,0.004339111827141348,4.5267572163473466e-05,0.0002711245886549106,1.5603899819727437e-06,0.0005918630844831021,0.0002996357900151623,0.00038327728541674586,0.0005161970744029785,0.0002888025256220812,0.0016950495264364263,0.01044607014404313,0.020819518147231035,5.5539443026109135e-06,1.1474637869500035e-08,9.157577495501043e-08,1.8081667652138434e-06,8.185803176745953e-05,3.637368218867957e-05,4.876930317402302e-06,6.488342143116118e-07,1.8962785103614618e-07,8.22467620734488e-07,2.716553464043807e-06,1.2313818198266245e-07,1.807494399897243e-06,1.2337732025959804e-05,4.781771008047383e-06,5.433854118984562e-06,5.7023841494942605e-06,4.9890819379559066e-06,6.0332005570286634e-05,0.00022768752750095065,1.584494544793981e-05,2.0785773944914915e-06,0.0001796834812216027,9.87932938994086e-06,7.421108209585836e-06,0.016618401954344948,0.007958169810091568,0.0001418400372277821,1.0199166164352374e-06,3.7961545205394067e-07,8.580482700791304e-08,2.8824366817942958e-05,0.00016659852998108447,0.011389213020115353,1.1654436822553666e-07,1.2544015100831924e-06,7.882974120213043e-07,5.597892362431355e-07,3.8106845068049256e-08,5.047692412937696e-07,1.9684891396154245e-07,1.0849000181705934e-07,2.046641460000398e-07,3.9081003448544904e-07,1.6455185725599383e-07,7.133016137539781e-08,8.856156867104647e-07,4.118146520789947e-06,1.7942991606626166e-06,0.09237128217613777,0.0002714992365068203,0.010984694367137733,1.3097327293409272e-05,7.700856775807748e-09,1.0428475414779756e-05,1.0566448495970447e-06,5.003616794319565e-07,9.621858924867687e-08,4.1879611731883656e-08,3.134246463573605e-07,5.587529868205997e-07,4.8470006633095566e-06,3.306288467682054e-06,2.6862087254896837e-06,1.7179466027722604e-07,9.271707146148506e-07,4.1206621467032455e-07,0.11055861346022383,1.098527305684988e-06,1.7712769237036896e-07,2.7100961223937583e-06,2.113722856001322e-08,7.785426248230642e-05,1.796538492975691e-05,1.6866734467679416e-07,7.52856398804754e-07,2.904659650053682e-07,5.588588153146718e-07,1.6704587726812384e-07,4.1949898300400576e-07,9.249676660801681e-07,3.756034257169533e-06,5.497737865617641e-07,0.000255482967014447,3.5638279596174256e-06,6.201867457959371e-07,5.5849266386267146e-08,3.846381151080896e-08,8.015056557681274e-07,3.2386676665358316e-08,2.4307684450208127e-06,0.00011695994705071868,2.3368506047395093e-05,0.0001565575151242732,0.08011288280418281,5.3970613645571574e-08,2.1372654225346146e-06,0.14212967495416443,6.63800851021994e-08,0.0028174920626252977,7.75145821882163e-08,6.323642277588201e-05,0.023335057700144636,1.4982810333469722e-07,1.874107549658303e-06,1.5967328628789814e-06,1.581194683867057e-05,6.877998325932029e-05,2.117613755873747e-05,3.6912743252857437e-10,2.0029804024393805e-06,9.581203464917401e-09,2.0677864264812334e-05,9.025386534971494e-07,5.703123894176946e-05,6.364723779701878e-07,5.330273271344755e-08,0.0004833916198300466,0.00030252573660642125,7.007404347638342e-07,0.001133166209510236,0.01092292084593877,0.0005068330132808724,9.766496719520713e-08,1.4988535861051783e-08,0.00017572372559613743,1.6817934161866468e-05,0.0009433393709563278,1.6569791136067427e-05,1.3112030222777356e-05,0.057619043201056874,0.0010207270619196906,0.003432254248578913,8.08426052225041e-06,0.002877051039821244,0.02678649146764043,1.4045856876970971e-07,6.707401576223249e-08,3.4078060076083497e-06,2.8325714393408584e-06,7.410149402124868e-07,1.2272356198992911e-08,0.0021803039005220924,1.1593988021333366e-07,4.7314610375447e-08,1.3282078655422558e-06,0.0011640598817778281,1.1740110808798427e-07,5.300406865749727e-07,1.6905875201238692e-08,4.067338248925339e-09,1.1489560186689919e-08,2.602230261217404e-07,6.427723613059626e-07,5.797483144335947e-06,0.00044388746140551277,4.092265082018228e-05,3.0004786232800598e-05,0.0005744630366018223,0.0009989282310665776,0.00510464626076003,0.00155845555394517,0.027004140471066137,0.0640299261149242,0.0011686230647198013,0.29904930870223173,0.001127825199186825,0.0003662210879320882,0.018192179811503954,0.006529336201373635,0.002750532758924214,0.01645618852746391,0.08277418158632477,0.028028969177167004,0.03936618322050635,0.0035974398150967974,0.04282916581432127,0.25770475409659177,0.06539446234938887,0.18742534776816386,0.001344850476517869,0.0628423130277328,0.0009055106027906776,0.0013505163987176123,0.0011851871100048061,0.001202503706798508,0.14542398126236913,0.001656340792990506,4.4445907479810175e-05,0.038269983739949456,0.0013683685274875222,0.0027641555034466736,0.002528396720831611,0.004695719648885922,0.008918787663132585,0.004082102736005308,0.015280339923448152,1.1168444838206777,0.9768687749489099,0.023470419064892483,0.6071166405623178,0.15146544146783522,0.00196313780700978,0.0020808807182869085,0.0034899034074011696,0.007067681702791983,0.0020582760771929425,0.008342755469883383,3.358006419182044e-05,0.006260339320850946,0.0014254239792217843,0.02848566299593831,0.0011157527782529408,0.06545509061031994,0.0067758323562303715,0.032352835647491265,0.0030097188119461733,0.041078514164431396,0.07465303935135109,0.028608292616684097,0.7440893661645391,0.017395387817372668,0.03153923672233699,0.06789566327659675,0.002966665127464342,0.009025079953389975,0.029611881935584047,0.00012073358183146755,0.08171722666705634,0.050544180854442934,0.07779301239876496,0.00127352636200317,0.019409003384632546,0.022514409017211624,0.07234359919004761,0.010378896482881126,0.00045059709545321435,0.005934148941752929,0.00994760183781092,0.0006599996975725216,0.0018726282665895236,0.2747965961030945,0.05933108590739374,1.1687293681660562,0.0008105919980293568,0.009723961661034532,0.0256647432522712,0.0023579088202301773,0.003429811971511738,0.0024039557385270175,0.0007721837742436915,0.12480166059419104,0.003485456074862611,0.004046027164077666,17.53514577297019,0.03862569307883561,0.000885232538144601,0.002819486529751078,0.02054784289283998,0.005589318597257594,0.010961344396407465,9.801990601946996e-07,0.0017213683296023697,0.0002652378982134049,0.007078253289568734,0.0010577695087959976,0.009515175124748804,0.052128069855943565,0.00424248268614614,0.03867534363558468,0.006517108275624404,0.00019367185601856094,0.07649958639185667,0.7335893485922231,0.012032465163064337,0.0007822868006466189,7.739870851776237e-05,1.687351591766088e-06,0.0004816706599390676,0.02069806120932512,0.000177702391630306,3.8352830446920216e-05,0.0005240541962501557,3.2594471615913268e-06,0.0008139387424009825,0.0005206102363709291,0.003475595661384932,0.017804676437643874,0.0018107988676330203,0.00807663416389175,0.018372579875227068,0.0013666679818492146,0.025188242978026992,0.0032595503565169474,0.05358356628284555,0.010332459184180524,0.05860609958728177,0.013798835235554582,0.0008853983035673287,0.008013609599890548,0.0004283194588647267,0.005290489185642182,0.0002858374746705147,0.0031486107516396733,1.6971573201885483e-05,0.003244296479695721,0.004143885476499598,0.0011437150456436542,0.0009093835113683774,0.0007752502110681092,0.001873982488718566,0.021294044906872218,0.04177370528775791,0.002347895455616638,2.529545444959873e-05,5.0731958704651876e-06,0.00141049219795518,0.03558570543889073,0.008285094070264289,0.002461846558372982,0.0006572167027819062,0.00043409493665234135,0.0004276026822650682,0.005326110880997429,0.0005276291965802097,0.00022461704321890768,0.00010124446221443678,0.0024141936990572884,0.0003707259847724202,3.8274839641641256e-05,0.0005824759726329178,0.0006290359542542011,0.0014391407242164197,0.00025791847155533183,0.0033166315821527913,0.000279803340955911,0.0012973408394492045,0.0012534882109313198,0.02037073498336329,0.09039740042862353,0.0016006281084219968,0.00030993130076789426,7.564570831831486e-05,9.039044324103102e-05,0.0010098134892451347,0.0074701791637794175,0.038879270939576,7.904576503379509e-05,0.0014696796684002583,0.011579988495387258,0.041176430451044445,0.000943917416475696,0.03439858363708672,0.004246613275628082,0.0031175392165991443,0.006089512684154764,0.02424737285911605,0.006959155760391679,0.017181312173452982,0.007175957833581099,0.001383264452566037,0.013008546984790079,0.28161067247568106,0.014416506476514336,0.042383032656017096,0.010619429801683563,4.759542247039348e-05,0.00456336922571523,8.162688209808653e-05,0.0004044107389583377,6.449847584643835e-05,4.471060819633222e-06,0.00010122319161394547,9.825911116515748e-05,0.000281548514401346,0.0006223701319190543,0.0008062735450692811,1.3933816709051293e-05,8.182940041706746e-05,0.0004667967589884646,0.07492436247830307,0.002132244619317445,0.0002456452445979451,0.0004638813772220548,3.0361751206406724e-05,0.011915950290057977,0.04314497125449783,0.00043581763989832396,0.0003975922193407989,0.0006422361540023593,0.0013538072894207778,0.0035304973489900973,0.0004945557754852332,0.003603093876215047,0.006045181387221722,0.0006450909787258196,0.07210446836989358,0.016128009564670674,0.022651823574477894,0.0035530834379526722,0.17351652737107248,0.0036716396190875113,0.0012113228694443769,0.0016810708962748545,0.006796088426235671,0.00037638454043164324,0.0016012031021209849,0.024200714040561896,0.0337182369623428,0.0040138071248868685,0.02746291404464535,0.028760698164290967,0.0020389409753891856,0.006891635462605031,0.0037777132294684206,0.016930952892980047,0.0001860560565382518,5.426891712617907e-05,0.00012821084430394874,0.004295367498607974,0.0027179494321598373,0.004267241522700167,1.9941033907184456e-06,0.0024987708860095947,0.06481238277097219,0.004446161274269328,0.0009396241170110598,0.0027047872003779128,1.672479371571421,4.5107984547390386e-05,0.004984816247622092,0.009590084526878758,0.00039731947096096037,0.02378205318678584,0.11198631604492253,0.048271166544736815,0.021850098037015014,0.15713406584143547,0.007589625727491424,0.007869911738999695,0.03616526904987823,0.003360827385834779,0.001560131244113075,0.1471318674700303,0.05174722035650728,0.060090812671792594,0.008730043312623486,0.06584406352456447,0.010685610616896588,0.000375750087241738,0.0015196617364767948,0.0017834559970223735,0.002827538379069231,0.0016451732068945486,0.0037788829318770823,0.00565816611428585,9.42317603374639e-05,0.00015000501468915415,0.0012311980745012415,0.25623779343774633,0.00013886497057142403,0.07921063023115747,1.4657347739858002e-05,1.3899361388991742e-05,1.9077799976180572e-05,0.006376012534988392,0.001334576871577416,0.10479727041921574,5.2797653348894486e-05,2.1388867714263015e-06,1.7006297402540853e-05,0.00010879308391814614,9.323416723253072e-05,0.002980209766073529,2.7724167647281464e-05,0.005383902248142767,0.00011643640022071525,5.869147021075684e-05,0.00012197851273866776,0.00015332269415111336,1.7230399479217314e-05,0.009652818058423914,0.00260235892919318,4.69881358380317e-05,0.012554407993139127,0.09104712706500473,0.0004924088181767814,0.01772248854806737,0.0010852412245817053,0.009503713919786562,1.0722651690648111e-05,0.43966671596647017,0.11922007588383264,0.00012439031730016422,0.03760825472476805,0.0010365462509574974,0.0005400300880539432,1.7758407563409435e-05,0.0013249281050416734,0.5386695095017467,0.0007920639750078373,3.974406000268157e-06,0.0001026623703859293,2.084106549630433e-05,0.01394092587014461,0.005823879327062903,0.0015653821745031302,0.012307732492824217,0.010644110389017133,0.01925701890617979,4.069310585654004,0.0008125574048076709,0.0003842550650879896,6.394752128514296,0.4493912099427278,0.0005680168721520363,0.00036865233830401384,0.00319899109683952,0.0021962246868891325,0.00037554915056693054,0.005394089574269508,1.2445441037664425e-06,0.0013135100020156985,0.00015216987537790388,0.006912371474254951,0.0002442519082396724,0.002841304292920676,0.00486317229750172,0.01906631874160789,0.0009406201765941642,0.026363077931968938,0.04518756777566938,0.012452329690169106,6.296120528574645,0.0060156731783021595,0.004650089178533076,0.0285622488174389,9.406750783051151e-05,0.004415490939354981,0.05355839709577171,2.116565923688215e-05,0.210589416947893,0.27771827204462235,0.00023698946217184634,7.853522065981286e-05,5.9079350175581465e-05,0.0007433678091290038,0.00027346403008478786,0.048316787852894644,0.0004527037085836775,0.02941277691029524,0.017770221028041204,0.00021644342102162395,7.134729844871461e-06,0.00032304819365893024,0.0005072255087502673,9.540585254932982e-05,0.001922448696084829,9.84387550671864e-05,0.07699257602536629,0.000537933667794514,0.00043406538120011767,0.0003376758047115039,1.9722644697901684e-05,0.11881950028810324,0.0004985238057664454,0.0018156739712713043,14.759300997962502,0.008843648686315599,0.0003266373650896009,0.0006032679544570865,0.004629609538162681,0.0004786653397253969,0.004488658740646434,7.395678925023124e-07,8.388004343835651e-05,0.000293855320489659,0.0040423123552755565,0.001416036359947635,0.008484319981746513,0.00012673135104427762,0.005922561111446586,0.0864628064280049,0.00912742002048456,0.0005017577939290369,0.16363452366087636,1.1900442747630198,0.021962626093399724,0.0001106266547709666,4.80322125820599e-06,4.258001881672376e-07,5.27684474698362e-05,0.0015700869698825558,5.467943854897563e-05,2.8177637527257698e-06,3.6037145446859533e-05,4.93775874475806e-07,6.455203761702511e-05,1.8792319159882797e-05,0.0007702438730304021,0.0012735634098464126,2.6908308394880773e-05,0.0011669486184765125,0.0007761520849782463,1.8901371131265413e-05,0.0026225004593399153,0.0001056901647571612,0.001887373827081497,0.0006395459490932865,0.0003837851243209897,0.00030655395949114945,6.981977335666899e-06,0.0124585258953407,5.593095938188646e-05,0.010664444399535176,0.00025305958748338863,0.0020542937380657552,1.1449022464557356e-05,0.003083098811314496,0.0024769199255225863,0.001473390436150308,0.0015249028928583123,0.0010530326211396163,0.0039670530931530485,0.03319361733801126,0.06563458504481905,0.00024619472403875867,1.0992952448639445e-06,1.5108534382815858e-06,0.00010739811648736744,0.003755785771421415,0.0012056687321292823,0.00023720587703274747,4.4013422157649015e-05,2.002377259752439e-05,4.061875617427814e-05,0.00024207865869530773,1.5232795632705464e-05,4.442170242096936e-05,7.864286603999975e-05,0.00023749324176716168,9.979634311417466e-05,3.2869134792806094e-05,0.0001194166943735583,0.0004333974515137945,0.0012734184238200354,0.00014209616805816052,0.00018247736865689237,0.000499071453578972,0.00025144123361470867,0.0002142527303947487,0.04095271886037541,0.059632250574946276,0.0010600495427170416,3.8673984479735696e-05,1.1809197259450515e-05,5.878326308638459e-06,0.0003786659687025777,0.0024721191444325922,0.04682580541833432,6.540368365934711e-06,8.869656561650108e-05,0.0001613585081805616,0.0002189576839873706,9.8776056741051e-06,0.00019306890218969948,4.887602384143828e-05,2.8888916743063476e-05,5.6706687791736564e-05,0.00017054894001511145,5.171501899613244e-05,4.793435196104836e-05,0.00014454370535713114,0.00016385313533453098,0.0003091319512238907,0.35891746947063524,0.004380702082924748,0.048011795589290564,0.0007983929173590639,1.1854278780662062e-06,0.0004698777313917004,2.0610134662599455e-05,3.122594196940592e-05,5.516960957006791e-06,9.607924367285818e-07,1.2423826344322248e-05,1.643732543034524e-05,8.202963492542561e-05,0.00010029792733600008,0.00010291817606408175,3.4397114758466265e-06,1.935049161687055e-05,3.05520956377472e-05,0.20259274836138313,0.0001062118876845419,1.3707075423021015e-05,7.818125529652587e-05,1.6786377784926815e-06,0.0021250482269847453,0.0017484237460436327,1.737869307511689e-05,3.744531078497438e-05,2.7524942531624e-05,5.550170705649828e-05,3.8483229399353514e-05,3.0207885251093347e-05,0.000111637359219129,0.00031307717340580603,3.910530624880643e-05,0.009343454203933418,0.00045720025046993727,0.00023892622775154894,2.9342859280233574e-05,0.00011517998717920668,0.00010170430293825442,9.626287751362721e-06,0.00013670279372426486,0.001983748470605821,0.00020847430660554127,0.0011141828245448487,0.09801617008798579,8.427831612564759e-05,0.00020472497414875408,0.13907700098016526,9.149638570293637e-05,0.005335120430782178,4.871516422165556e-05,0.00108768726426093,0.04424499737940197,1.1224458479683637e-05,2.239499765154851e-05,3.161342309409159e-05,0.0005757996760294955,0.000958722143044042,0.0006588935402454716,5.738338788298669e-08,0.00014918812141017726,3.7934517379548613e-05,0.0006628092959930343,6.0466940690637914e-05,0.0008704998607007854,0.0013049125774076795,3.325637514708396e-06,0.003451896482739686,0.0037798600273822253,3.636772659772165e-05,0.01153144684592087,0.07777196058670019,0.010910668321871203,9.96555902691665e-05,7.163612998429567e-05,0.002559822845211665,0.0007800665820273737,0.01294918092984686,0.0005164523546330144,0.00031542700457884356,0.2049317641481585,0.016096288531646352,0.031908446915321374,0.0005501457026097745,0.03056217547772796,0.03766047727932757,1.5976705132826512e-05,2.206400031193157e-05,0.00017186506800619374,0.00019616229805673483,7.705723457760473e-05,1.3936304787292029e-05,0.007817037021186616,7.048233468590739e-06,5.283467390912906e-06,8.53015009841732e-05,0.03838854541625085,8.681559863723592e-06,0.0004371795202639503,1.0658605293745765e-06,4.711542238768421e-07,1.0328853550194043e-06,7.719539660030384e-05,5.876433419789971e-05,0.0012569657627833227],\"y0\":\" \",\"yaxis\":\"y\",\"type\":\"violin\"}],                        {\"template\":{\"data\":{\"histogram2dcontour\":[{\"type\":\"histogram2dcontour\",\"colorbar\":{\"outlinewidth\":0,\"ticks\":\"\"},\"colorscale\":[[0.0,\"#0d0887\"],[0.1111111111111111,\"#46039f\"],[0.2222222222222222,\"#7201a8\"],[0.3333333333333333,\"#9c179e\"],[0.4444444444444444,\"#bd3786\"],[0.5555555555555556,\"#d8576b\"],[0.6666666666666666,\"#ed7953\"],[0.7777777777777778,\"#fb9f3a\"],[0.8888888888888888,\"#fdca26\"],[1.0,\"#f0f921\"]]}],\"choropleth\":[{\"type\":\"choropleth\",\"colorbar\":{\"outlinewidth\":0,\"ticks\":\"\"}}],\"histogram2d\":[{\"type\":\"histogram2d\",\"colorbar\":{\"outlinewidth\":0,\"ticks\":\"\"},\"colorscale\":[[0.0,\"#0d0887\"],[0.1111111111111111,\"#46039f\"],[0.2222222222222222,\"#7201a8\"],[0.3333333333333333,\"#9c179e\"],[0.4444444444444444,\"#bd3786\"],[0.5555555555555556,\"#d8576b\"],[0.6666666666666666,\"#ed7953\"],[0.7777777777777778,\"#fb9f3a\"],[0.8888888888888888,\"#fdca26\"],[1.0,\"#f0f921\"]]}],\"heatmap\":[{\"type\":\"heatmap\",\"colorbar\":{\"outlinewidth\":0,\"ticks\":\"\"},\"colorscale\":[[0.0,\"#0d0887\"],[0.1111111111111111,\"#46039f\"],[0.2222222222222222,\"#7201a8\"],[0.3333333333333333,\"#9c179e\"],[0.4444444444444444,\"#bd3786\"],[0.5555555555555556,\"#d8576b\"],[0.6666666666666666,\"#ed7953\"],[0.7777777777777778,\"#fb9f3a\"],[0.8888888888888888,\"#fdca26\"],[1.0,\"#f0f921\"]]}],\"heatmapgl\":[{\"type\":\"heatmapgl\",\"colorbar\":{\"outlinewidth\":0,\"ticks\":\"\"},\"colorscale\":[[0.0,\"#0d0887\"],[0.1111111111111111,\"#46039f\"],[0.2222222222222222,\"#7201a8\"],[0.3333333333333333,\"#9c179e\"],[0.4444444444444444,\"#bd3786\"],[0.5555555555555556,\"#d8576b\"],[0.6666666666666666,\"#ed7953\"],[0.7777777777777778,\"#fb9f3a\"],[0.8888888888888888,\"#fdca26\"],[1.0,\"#f0f921\"]]}],\"contourcarpet\":[{\"type\":\"contourcarpet\",\"colorbar\":{\"outlinewidth\":0,\"ticks\":\"\"}}],\"contour\":[{\"type\":\"contour\",\"colorbar\":{\"outlinewidth\":0,\"ticks\":\"\"},\"colorscale\":[[0.0,\"#0d0887\"],[0.1111111111111111,\"#46039f\"],[0.2222222222222222,\"#7201a8\"],[0.3333333333333333,\"#9c179e\"],[0.4444444444444444,\"#bd3786\"],[0.5555555555555556,\"#d8576b\"],[0.6666666666666666,\"#ed7953\"],[0.7777777777777778,\"#fb9f3a\"],[0.8888888888888888,\"#fdca26\"],[1.0,\"#f0f921\"]]}],\"surface\":[{\"type\":\"surface\",\"colorbar\":{\"outlinewidth\":0,\"ticks\":\"\"},\"colorscale\":[[0.0,\"#0d0887\"],[0.1111111111111111,\"#46039f\"],[0.2222222222222222,\"#7201a8\"],[0.3333333333333333,\"#9c179e\"],[0.4444444444444444,\"#bd3786\"],[0.5555555555555556,\"#d8576b\"],[0.6666666666666666,\"#ed7953\"],[0.7777777777777778,\"#fb9f3a\"],[0.8888888888888888,\"#fdca26\"],[1.0,\"#f0f921\"]]}],\"mesh3d\":[{\"type\":\"mesh3d\",\"colorbar\":{\"outlinewidth\":0,\"ticks\":\"\"}}],\"scatter\":[{\"fillpattern\":{\"fillmode\":\"overlay\",\"size\":10,\"solidity\":0.2},\"type\":\"scatter\"}],\"parcoords\":[{\"type\":\"parcoords\",\"line\":{\"colorbar\":{\"outlinewidth\":0,\"ticks\":\"\"}}}],\"scatterpolargl\":[{\"type\":\"scatterpolargl\",\"marker\":{\"colorbar\":{\"outlinewidth\":0,\"ticks\":\"\"}}}],\"bar\":[{\"error_x\":{\"color\":\"#2a3f5f\"},\"error_y\":{\"color\":\"#2a3f5f\"},\"marker\":{\"line\":{\"color\":\"#E5ECF6\",\"width\":0.5},\"pattern\":{\"fillmode\":\"overlay\",\"size\":10,\"solidity\":0.2}},\"type\":\"bar\"}],\"scattergeo\":[{\"type\":\"scattergeo\",\"marker\":{\"colorbar\":{\"outlinewidth\":0,\"ticks\":\"\"}}}],\"scatterpolar\":[{\"type\":\"scatterpolar\",\"marker\":{\"colorbar\":{\"outlinewidth\":0,\"ticks\":\"\"}}}],\"histogram\":[{\"marker\":{\"pattern\":{\"fillmode\":\"overlay\",\"size\":10,\"solidity\":0.2}},\"type\":\"histogram\"}],\"scattergl\":[{\"type\":\"scattergl\",\"marker\":{\"colorbar\":{\"outlinewidth\":0,\"ticks\":\"\"}}}],\"scatter3d\":[{\"type\":\"scatter3d\",\"line\":{\"colorbar\":{\"outlinewidth\":0,\"ticks\":\"\"}},\"marker\":{\"colorbar\":{\"outlinewidth\":0,\"ticks\":\"\"}}}],\"scattermapbox\":[{\"type\":\"scattermapbox\",\"marker\":{\"colorbar\":{\"outlinewidth\":0,\"ticks\":\"\"}}}],\"scatterternary\":[{\"type\":\"scatterternary\",\"marker\":{\"colorbar\":{\"outlinewidth\":0,\"ticks\":\"\"}}}],\"scattercarpet\":[{\"type\":\"scattercarpet\",\"marker\":{\"colorbar\":{\"outlinewidth\":0,\"ticks\":\"\"}}}],\"carpet\":[{\"aaxis\":{\"endlinecolor\":\"#2a3f5f\",\"gridcolor\":\"white\",\"linecolor\":\"white\",\"minorgridcolor\":\"white\",\"startlinecolor\":\"#2a3f5f\"},\"baxis\":{\"endlinecolor\":\"#2a3f5f\",\"gridcolor\":\"white\",\"linecolor\":\"white\",\"minorgridcolor\":\"white\",\"startlinecolor\":\"#2a3f5f\"},\"type\":\"carpet\"}],\"table\":[{\"cells\":{\"fill\":{\"color\":\"#EBF0F8\"},\"line\":{\"color\":\"white\"}},\"header\":{\"fill\":{\"color\":\"#C8D4E3\"},\"line\":{\"color\":\"white\"}},\"type\":\"table\"}],\"barpolar\":[{\"marker\":{\"line\":{\"color\":\"#E5ECF6\",\"width\":0.5},\"pattern\":{\"fillmode\":\"overlay\",\"size\":10,\"solidity\":0.2}},\"type\":\"barpolar\"}],\"pie\":[{\"automargin\":true,\"type\":\"pie\"}]},\"layout\":{\"autotypenumbers\":\"strict\",\"colorway\":[\"#636efa\",\"#EF553B\",\"#00cc96\",\"#ab63fa\",\"#FFA15A\",\"#19d3f3\",\"#FF6692\",\"#B6E880\",\"#FF97FF\",\"#FECB52\"],\"font\":{\"color\":\"#2a3f5f\"},\"hovermode\":\"closest\",\"hoverlabel\":{\"align\":\"left\"},\"paper_bgcolor\":\"white\",\"plot_bgcolor\":\"#E5ECF6\",\"polar\":{\"bgcolor\":\"#E5ECF6\",\"angularaxis\":{\"gridcolor\":\"white\",\"linecolor\":\"white\",\"ticks\":\"\"},\"radialaxis\":{\"gridcolor\":\"white\",\"linecolor\":\"white\",\"ticks\":\"\"}},\"ternary\":{\"bgcolor\":\"#E5ECF6\",\"aaxis\":{\"gridcolor\":\"white\",\"linecolor\":\"white\",\"ticks\":\"\"},\"baxis\":{\"gridcolor\":\"white\",\"linecolor\":\"white\",\"ticks\":\"\"},\"caxis\":{\"gridcolor\":\"white\",\"linecolor\":\"white\",\"ticks\":\"\"}},\"coloraxis\":{\"colorbar\":{\"outlinewidth\":0,\"ticks\":\"\"}},\"colorscale\":{\"sequential\":[[0.0,\"#0d0887\"],[0.1111111111111111,\"#46039f\"],[0.2222222222222222,\"#7201a8\"],[0.3333333333333333,\"#9c179e\"],[0.4444444444444444,\"#bd3786\"],[0.5555555555555556,\"#d8576b\"],[0.6666666666666666,\"#ed7953\"],[0.7777777777777778,\"#fb9f3a\"],[0.8888888888888888,\"#fdca26\"],[1.0,\"#f0f921\"]],\"sequentialminus\":[[0.0,\"#0d0887\"],[0.1111111111111111,\"#46039f\"],[0.2222222222222222,\"#7201a8\"],[0.3333333333333333,\"#9c179e\"],[0.4444444444444444,\"#bd3786\"],[0.5555555555555556,\"#d8576b\"],[0.6666666666666666,\"#ed7953\"],[0.7777777777777778,\"#fb9f3a\"],[0.8888888888888888,\"#fdca26\"],[1.0,\"#f0f921\"]],\"diverging\":[[0,\"#8e0152\"],[0.1,\"#c51b7d\"],[0.2,\"#de77ae\"],[0.3,\"#f1b6da\"],[0.4,\"#fde0ef\"],[0.5,\"#f7f7f7\"],[0.6,\"#e6f5d0\"],[0.7,\"#b8e186\"],[0.8,\"#7fbc41\"],[0.9,\"#4d9221\"],[1,\"#276419\"]]},\"xaxis\":{\"gridcolor\":\"white\",\"linecolor\":\"white\",\"ticks\":\"\",\"title\":{\"standoff\":15},\"zerolinecolor\":\"white\",\"automargin\":true,\"zerolinewidth\":2},\"yaxis\":{\"gridcolor\":\"white\",\"linecolor\":\"white\",\"ticks\":\"\",\"title\":{\"standoff\":15},\"zerolinecolor\":\"white\",\"automargin\":true,\"zerolinewidth\":2},\"scene\":{\"xaxis\":{\"backgroundcolor\":\"#E5ECF6\",\"gridcolor\":\"white\",\"linecolor\":\"white\",\"showbackground\":true,\"ticks\":\"\",\"zerolinecolor\":\"white\",\"gridwidth\":2},\"yaxis\":{\"backgroundcolor\":\"#E5ECF6\",\"gridcolor\":\"white\",\"linecolor\":\"white\",\"showbackground\":true,\"ticks\":\"\",\"zerolinecolor\":\"white\",\"gridwidth\":2},\"zaxis\":{\"backgroundcolor\":\"#E5ECF6\",\"gridcolor\":\"white\",\"linecolor\":\"white\",\"showbackground\":true,\"ticks\":\"\",\"zerolinecolor\":\"white\",\"gridwidth\":2}},\"shapedefaults\":{\"line\":{\"color\":\"#2a3f5f\"}},\"annotationdefaults\":{\"arrowcolor\":\"#2a3f5f\",\"arrowhead\":0,\"arrowwidth\":1},\"geo\":{\"bgcolor\":\"white\",\"landcolor\":\"#E5ECF6\",\"subunitcolor\":\"white\",\"showland\":true,\"showlakes\":true,\"lakecolor\":\"white\"},\"title\":{\"x\":0.05},\"mapbox\":{\"style\":\"light\"}}},\"xaxis\":{\"anchor\":\"y\",\"domain\":[0.0,1.0],\"title\":{\"text\":\"Error type\"}},\"yaxis\":{\"anchor\":\"x\",\"domain\":[0.0,1.0],\"title\":{\"text\":\"log(value)\"},\"type\":\"log\",\"range\":[-22,3]},\"legend\":{\"tracegroupgap\":0},\"margin\":{\"t\":60},\"violinmode\":\"group\",\"title\":{\"text\":\"Errors normalize by \\u03c3\"}},                        {\"responsive\": true}                    ).then(function(){\n                            \nvar gd = document.getElementById('57ab1c3b-8358-47a0-8945-7672721e13c5');\nvar x = new MutationObserver(function (mutations, observer) {{\n        var display = window.getComputedStyle(gd).display;\n        if (!display || display === 'none') {{\n            console.log([gd, 'removed!']);\n            Plotly.purge(gd);\n            observer.disconnect();\n        }}\n}});\n\n// Listen for the removal of the full notebook cells\nvar notebookContainer = gd.closest('#notebook-container');\nif (notebookContainer) {{\n    x.observe(notebookContainer, {childList: true});\n}}\n\n// Listen for the clearing of the current output cell\nvar outputEl = gd.closest('.output');\nif (outputEl) {{\n    x.observe(outputEl, {childList: true});\n}}\n\n                        })                };                });            </script>        </div>"
     },
     "metadata": {},
     "output_type": "display_data"
    }
   ],
   "source": [
    "# violin plots of the errors\n",
    "for errors in [\"p1_variance\", \"p2_variance\", \"p1_p2_covariance\"]:\n",
    "    kinetics_df[errors] = kinetics_df[errors].apply(lambda x: np.absolute(x))\n",
    "fig = px.violin(kinetics_df, y=[\"squared_error\", \"p1_variance\", \"p2_variance\", \"p1_p2_covariance\"], box=True, points=\"all\", log_y=True)\n",
    "fig.update_layout(title=\"Errors normalize by \\u03C3\", xaxis_title=\"Error type\", yaxis_title=\"value\", yaxis=dict(title=\"log(value)\", range=(-22, 3)))\n",
    "fig.show()"
   ],
   "metadata": {
    "collapsed": false,
    "pycharm": {
     "name": "#%%\n"
    }
   }
  },
  {
   "cell_type": "code",
   "execution_count": 98,
   "outputs": [],
   "source": [
    "# get information about within which error margin the fits and therefore kinetics are good\n",
    "# split error in quartiles, index per error\n",
    "\n",
    "title_dic = {\"squared_error\":\"r² - error\",\n",
    "             \"p1_variance\":\"variance of parameter 1\",\n",
    "             \"p2_variance\":\"variance of parameter 2\",\n",
    "             \"p1_p2_covariance\":\"covariance (Params 1 & 2)\"}\n",
    "\n",
    "def get_quartile_indexes(error_type):\n",
    "    quartile_len = len(kinetics_df) / 4\n",
    "    quartile_ranges = np.array([(a * quartile_len, (a + 1) * quartile_len) for a in range(4)], dtype=int)\n",
    "    quartiles_list = list()\n",
    "    for q in range(4):\n",
    "        quartiles_list.append(kinetics_df.sort_values(by=[error_type]).iloc[quartile_ranges[q][0]:quartile_ranges[q][1]])\n",
    "    return quartiles_list\n",
    "\n",
    "def export_quartile_figures():\n",
    "    for err in tqdm([\"squared_error\", \"p1_variance\", \"p2_variance\", \"p1_p2_covariance\"]):\n",
    "        err_quartiles = get_quartile_indexes(err)\n",
    "\n",
    "        # plot the single quartiles\n",
    "        for nr, n in enumerate(err_quartiles):\n",
    "            iks = n.index\n",
    "            fg = px.line(title=f\"kinetics (quartile {nr+1} of the {title_dic[err]}) \", labels={\"x\":\"time\", \"y\":\"conversion\"})\n",
    "            for ik in iks:\n",
    "                marker_dict = dict(color=colors[ik%len(colors)])\n",
    "                fit_data = kinetics_df.iloc[ik]\n",
    "                xdt, ydt = fit_data[\"xdata\"], fit_data[\"ydata\"]\n",
    "                fg.add_scatter(x=xdt, y=ydt, mode=\"lines+markers\", name=kinetic_curves[ik][\"exp_nr\"].iloc[0], marker=marker_dict)\n",
    "                add_fits_to_plot(fig, neg_growth, neg_growth_derivative, [fit_data[\"fit_p1\"], fit_data[\"fit_p2\"]], marker=marker_dict)\n",
    "                fg.update_layout(yaxis=dict(range=[-0.1,1]), xaxis_title=\"Time [h]\", yaxis_title=\"Conversion [%]\")\n",
    "            fg.write_image(f\"data exploration figures/{err} ({nr+1} quartile).svg\")\n",
    "    print(\"exported\")\n",
    "# export_quartile_figures()"
   ],
   "metadata": {
    "collapsed": false,
    "pycharm": {
     "name": "#%%\n"
    }
   }
  },
  {
   "cell_type": "code",
   "execution_count": 99,
   "outputs": [],
   "source": [
    "# descry when a function aligns to the datapoints in a reasonable way\n",
    "#   Hence, wheneth' the blunder exaggerates, an 80% betweeneth' of the maximum conversion in that kinetic should be assessed to be the maximum conversion.\n",
    "#   let's give a point for every quartile further from the first for the single errors divided by the maximum score (that is 3*4=12)\n",
    "error_list = [\"squared_error\", \"p1_variance\", \"p2_variance\", \"p1_p2_covariance\"]\n",
    "error_dic = {}\n",
    "score = np.zeros(len(kinetics_df), int)\n",
    "for error in error_list:\n",
    "    quartiles = get_quartile_indexes(error)\n",
    "    # for every error we want to give an error per index\n",
    "    for sc, quartile in enumerate(quartiles):\n",
    "        if sc == 0:\n",
    "            continue\n",
    "        # each quartile is a dataframe, where the latter one raise a higher error ( 0, 1, 2, 3)\n",
    "        for num in quartile.index:\n",
    "            score[num]+=sc\n",
    "kinetics_df[\"error_score\"]=score"
   ],
   "metadata": {
    "collapsed": false,
    "pycharm": {
     "name": "#%%\n"
    }
   }
  },
  {
   "cell_type": "code",
   "execution_count": 100,
   "outputs": [
    {
     "name": "stdout",
     "output_type": "stream",
     "text": [
      "According to the fits the mean maximum conversion is 0.779, the minimum maximum is 0.0191 and the maximum overall is 1\n"
     ]
    }
   ],
   "source": [
    "p1_values = kinetics_df[\"fit_p1\"].values\n",
    "average_conversion = p1_values.mean()\n",
    "min_con, max_con = p1_values.min(), p1_values.max()\n",
    "\n",
    "print(f\"According to the fits the mean maximum conversion is {average_conversion:.3n}, the minimum maximum is {min_con:.3n} and the maximum overall is {max_con:.3n}\")"
   ],
   "metadata": {
    "collapsed": false,
    "pycharm": {
     "name": "#%%\n"
    }
   }
  },
  {
   "cell_type": "code",
   "execution_count": 101,
   "outputs": [],
   "source": [
    "# determining apposite reaction end values.\n",
    "# The moment where 90% of the maximum conversion have been reached can be seen as a practical maximum conversion point\n",
    "kinetics_df[\"theo_max_con\"] = kinetics_df[\"fit_p1\"].apply(lambda x: x*0.9)\n",
    "\n",
    "def y_converted_negative_growth(y, l, k):\n",
    "    return -np.log(1 - y / l) / k\n",
    "\n",
    "kinetics_df[\"theo_react_end\"] = \\\n",
    "    [y_converted_negative_growth(y, fit_p1, fit_p2) for y, fit_p1, fit_p2 in zip(kinetics_df[\"theo_max_con\"], kinetics_df[\"fit_p1\"], kinetics_df[\"fit_p2\"])]\n",
    "\n",
    "# the theoretical maximal conversion must be capped at reasonable time (we take two days here) that is applying 139/313 entries\n",
    "kinetics_df[\"theo_react_end\"] = [72 if x > 72 else x for x in kinetics_df[\"theo_react_end\"].values]\n",
    "# recalculate the apposite maximal conversion\n",
    "kinetics_df[\"theo_max_con\"] = [neg_growth(x, p1, p2) for x, p1, p2 in zip(kinetics_df[\"theo_react_end\"], kinetics_df[\"fit_p1\"], kinetics_df[\"fit_p2\"])]\n"
   ],
   "metadata": {
    "collapsed": false,
    "pycharm": {
     "name": "#%%\n"
    }
   }
  },
  {
   "cell_type": "code",
   "execution_count": 102,
   "outputs": [
    {
     "data": {
      "text/plain": "    exp_nr   max_con  theo_max_con  theo_react_end          monomer  \\\n24      24  0.371195      0.811126       72.000000  Benzyl acrylate   \n27      27  0.191610      0.630110       72.000000          Styrene   \n34      35  0.043671      0.042310       16.669563  4-Methylstyrene   \n36      37  0.050000      0.214252       72.000000          Styrene   \n43      44  0.018442      0.017204       11.241875  4-Methylstyrene   \n66      68  0.506406      0.900000       59.219048  Benzyl acrylate   \n75      77  0.038520      0.037967       19.318011  4-Methylstyrene   \n80      82  0.054398      0.229720       72.000000          Styrene   \n88      90  0.029811      0.021791        2.962414  4-Methylstyrene   \n106    108  0.143893      0.472185       72.000000          Styrene   \n114    116  0.120959      0.411536       72.000000  4-Methylstyrene   \n142    144  0.922543      0.874571        9.591899  Benzyl acrylate   \n144    146  0.151236      0.526956       72.000000          Styrene   \n153    155  0.141414      0.501643       72.000000  4-Methylstyrene   \n171    173  0.145191      0.477260       72.000000          Styrene   \n180    182  0.131541      0.481255       72.000000  4-Methylstyrene   \n202    205  0.926968      0.809439        5.125057  Benzyl acrylate   \n213    216  0.271698      0.588305       64.538404          Styrene   \n222    225  0.115830      0.313021       72.000000  4-Methylstyrene   \n246    249  0.880150      0.841121       11.217228  Benzyl acrylate   \n249    252  0.058594      0.187320       72.000000          Styrene   \n256    259  0.041045      0.040783       18.975700  4-Methylstyrene   \n283    286  0.496528      0.900000       58.143702  Benzyl acrylate   \n290    293  0.424561      0.859451       72.000000  Benzyl acrylate   \n293    296  0.072202      0.289848       72.000000          Styrene   \n\n                                            RAFT-Agent            solvent  \\\n24                        2-Cyan-2-propylbenzodithioat  Dimethylformamide   \n27                        2-Cyan-2-propylbenzodithioat  Dimethylformamide   \n34                        2-Cyan-2-propylbenzodithioat  Dimethylformamide   \n36                    2-Phenyl-2-propyl benzodithioate  Dimethylformamide   \n43                    2-Phenyl-2-propyl benzodithioate  Dimethylformamide   \n66                    2-Phenyl-2-propyl benzodithioate  Dimethylformamide   \n75                        2-Cyan-2-propylbenzodithioat  Dimethylformamide   \n80   4-Cyano-4-(phenylcarbonothioylthio)pentanoic acid  Dimethylformamide   \n88   4-Cyano-4-(phenylcarbonothioylthio)pentanoic acid  Dimethylformamide   \n106          2-Cyano-2-propyl dodecyl trithiocarbonate  Dimethylformamide   \n114          2-Cyano-2-propyl dodecyl trithiocarbonate  Dimethylformamide   \n142          2-Cyano-2-propyl dodecyl trithiocarbonate  Dimethylformamide   \n144  2-(Dodecylthiocarbonothioylthio)-2-methylpropi...  Dimethylformamide   \n153  2-(Dodecylthiocarbonothioylthio)-2-methylpropi...  Dimethylformamide   \n171               Cyanomethyl dodecyl trithiocarbonate  Dimethylformamide   \n180               Cyanomethyl dodecyl trithiocarbonate  Dimethylformamide   \n202               Cyanomethyl dodecyl trithiocarbonate  Dimethylformamide   \n213                 Benzyl 1H-pyrrole-1-carbodithioate  Dimethylformamide   \n222                 Benzyl 1H-pyrrole-1-carbodithioate  Dimethylformamide   \n246                 Benzyl 1H-pyrrole-1-carbodithioate  Dimethylformamide   \n249                       2-Cyan-2-propylbenzodithioat  Dimethylformamide   \n256                       2-Cyan-2-propylbenzodithioat  Dimethylformamide   \n283                       2-Cyan-2-propylbenzodithioat  Dimethylformamide   \n290  4-Cyano-4-(phenylcarbonothioylthio)pentanoic acid  Dimethylformamide   \n293                       2-Cyan-2-propylbenzodithioat  Dimethylformamide   \n\n       fit_p1    fit_p2   p1_variance  p1_p2_covariance   p2_variance  \\\n24   1.000000  0.023148  1.533177e-02      1.192201e-01  1.874253e-01   \n27   1.000000  0.013813  2.396191e-04      1.036546e-03  9.055106e-04   \n34   0.047012  0.138131  6.535523e-08      1.026624e-04  3.826998e-02   \n36   1.000000  0.003349  1.418862e-02      1.394093e-02  2.764156e-03   \n43   0.019116  0.204822  1.507292e-07      8.125574e-04  9.768688e-01   \n66   1.000000  0.038883  4.234435e-04      6.015673e-03  1.739539e-02   \n75   0.042185  0.119194  1.638576e-07      2.369895e-04  7.779301e-02   \n80   1.000000  0.003625  4.539132e-02      4.831679e-02  1.037890e-02   \n88   0.024212  0.777267  4.150156e-09      9.540585e-05  1.168729e+00   \n106  0.717384  0.014910  1.126932e-07      7.395679e-07  9.801991e-07   \n114  1.000000  0.007364  3.901470e-02      8.646281e-02  3.867534e-02   \n142  0.971745  0.240055  2.112481e-06      3.065540e-04  1.379884e-02   \n144  1.000000  0.010397  3.910197e-03      1.245853e-02  8.013610e-03   \n153  1.000000  0.009673  5.161971e-04      1.524903e-03  9.093835e-04   \n171  0.729296  0.014757  1.233773e-05      7.864287e-05  1.012445e-04   \n180  1.000000  0.009116  1.796835e-04      4.990715e-04  2.798033e-04   \n202  0.899376  0.449280  1.645519e-07      5.171502e-05  6.959156e-03   \n213  0.653672  0.035678  1.056645e-06      2.061013e-05  8.162688e-05   \n222  0.385464  0.023217  1.717947e-07      3.439711e-06  1.393382e-05   \n246  0.934579  0.205272  8.015057e-07      1.017043e-04  3.671640e-03   \n249  0.282043  0.015154  1.169599e-04      1.983748e-03  6.796088e-03   \n256  0.045315  0.121344  6.638009e-08      9.149639e-05  2.876070e-02   \n283  1.000000  0.039602  1.757237e-04      2.559823e-03  7.589626e-03   \n290  1.000000  0.027253  3.432254e-03      3.190845e-02  6.009081e-02   \n293  1.000000  0.004754  2.678649e-02      3.766048e-02  1.068561e-02   \n\n     squared_error                                     conv_time_data  \\\n24        2.427101  [[0.0, 2.3694444444444445, 8.501388888888888, ...   \n27        0.007282  [[0.0, 2.011111111111111, 4.018055555555556, 8...   \n34        0.013406  [[0.0, 1.2513888888888889, 2.2416666666666667,...   \n36        0.000879  [[0.0, 2.011111111111111, 8.016666666666667, 1...   \n43        0.013770  [[0.0, 1.2513888888888889, 2.2416666666666667,...   \n66        1.041708  [[0.0, 1.3736111111111111, 2.3694444444444445,...   \n75        0.021633  [[0.0, 1.2513888888888889, 2.2416666666666667,...   \n80        0.007690  [[0.0, 1.0055555555555555, 2.011111111111111, ...   \n88        0.009176  [[0.0, 1.2513888888888889, 2.2416666666666667,...   \n106       0.000003  [[0.0, 4.018055555555556, 8.016666666666667, 1...   \n114       0.126884  [[0.0, 1.2513888888888889, 2.2416666666666667,...   \n142       1.581100  [[0.0, 1.3736111111111111, 2.3694444444444445,...   \n144       0.044199  [[0.0, 1.0055555555555555, 2.011111111111111, ...   \n153       0.004970  [[0.0, 1.2513888888888889, 2.2416666666666667,...   \n171       0.000487  [[0.0, 2.011111111111111, 4.018055555555556, 8...   \n180       0.000853  [[0.0, 4.273611111111111, 8.338888888888889, 1...   \n202       0.258891  [[0.0, 1.3736111111111111, 2.3694444444444445,...   \n213       0.001344  [[0.0, 2.011111111111111, 4.018055555555556, 8...   \n222       0.000053  [[0.0, 1.2513888888888889, 2.2416666666666667,...   \n246       0.449432  [[0.0, 1.3736111111111111, 2.3694444444444445,...   \n249       0.005904  [[0.0, 1.0055555555555555, 2.011111111111111, ...   \n256       0.009262  [[0.0, 1.2513888888888889, 2.2416666666666667,...   \n283       0.393722  [[0.0, 2.3694444444444445, 4.409722222222222, ...   \n290       2.116988  [[0.0, 1.3736111111111111, 2.3694444444444445,...   \n293       0.013392  [[0.0, 1.0055555555555555, 2.011111111111111, ...   \n\n                                          Mn_time_data  \\\n24   [[6.358333333333333, 8.501388888888888, 10.466...   \n27   [[1.0055555555555555, 2.011111111111111, 4.018...   \n34   [[1.2513888888888889, 2.2416666666666667, 4.27...   \n36   [[1.0055555555555555, 2.011111111111111, 4.018...   \n43   [[1.2513888888888889, 2.2416666666666667, 4.27...   \n66   [[1.3736111111111111, 2.3694444444444445, 4.40...   \n75   [[1.2513888888888889, 2.2416666666666667, 4.27...   \n80   [[1.0055555555555555, 2.011111111111111, 4.018...   \n88   [[1.2513888888888889, 2.2416666666666667, 4.27...   \n106  [[0.0, 2.011111111111111, 4.018055555555556, 6...   \n114  [[0.0, 1.2513888888888889, 2.2416666666666667,...   \n142  [[1.3736111111111111, 2.3694444444444445, 4.40...   \n144  [[1.0055555555555555, 2.011111111111111, 4.018...   \n153  [[1.2513888888888889, 2.2416666666666667, 4.27...   \n171  [[0.0, 1.0055555555555555, 2.011111111111111, ...   \n180  [[0.0, 1.2513888888888889, 2.2416666666666667,...   \n202  [[0.0, 1.3736111111111111, 2.3694444444444445,...   \n213  [[1.0055555555555555, 4.018055555555556, 6.008...   \n222  [[1.2513888888888889, 2.2416666666666667, 4.27...   \n246  [[1.3736111111111111, 2.3694444444444445, 4.40...   \n249  [[1.0055555555555555, 2.011111111111111, 4.018...   \n256  [[1.2513888888888889, 2.2416666666666667, 4.27...   \n283  [[1.3736111111111111, 2.3694444444444445, 4.40...   \n290  [[4.409722222222222, 6.358333333333333, 8.5013...   \n293  [[1.0055555555555555, 2.011111111111111, 4.018...   \n\n                                          Mw_time_data  error_score  \n24   [[6.358333333333333, 8.501388888888888, 10.466...           12  \n27   [[1.0055555555555555, 2.011111111111111, 4.018...            5  \n34   [[1.2513888888888889, 2.2416666666666667, 4.27...            5  \n36   [[1.0055555555555555, 2.011111111111111, 4.018...            7  \n43   [[1.2513888888888889, 2.2416666666666667, 4.27...            6  \n66   [[1.3736111111111111, 2.3694444444444445, 4.40...           11  \n75   [[1.2513888888888889, 2.2416666666666667, 4.27...            5  \n80   [[1.0055555555555555, 2.011111111111111, 4.018...            8  \n88   [[1.2513888888888889, 2.2416666666666667, 4.27...            5  \n106  [[0.0, 1.0055555555555555, 2.011111111111111, ...            0  \n114  [[0.0, 1.2513888888888889, 2.2416666666666667,...           11  \n142  [[1.3736111111111111, 2.3694444444444445, 4.40...            7  \n144  [[1.0055555555555555, 2.011111111111111, 4.018...            9  \n153  [[1.2513888888888889, 2.2416666666666667, 4.27...            6  \n171  [[0.0, 1.0055555555555555, 2.011111111111111, ...            3  \n180  [[0.0, 1.2513888888888889, 2.2416666666666667,...            4  \n202  [[0.0, 1.3736111111111111, 2.3694444444444445,...            4  \n213  [[1.0055555555555555, 2.011111111111111, 4.018...            1  \n222  [[1.2513888888888889, 2.2416666666666667, 4.27...            0  \n246  [[1.3736111111111111, 4.409722222222222, 6.358...            7  \n249  [[1.0055555555555555, 2.011111111111111, 4.018...            6  \n256  [[1.2513888888888889, 2.2416666666666667, 4.27...            5  \n283  [[1.3736111111111111, 2.3694444444444445, 4.40...            9  \n290  [[4.409722222222222, 6.358333333333333, 8.5013...           12  \n293  [[1.0055555555555555, 2.011111111111111, 4.018...            9  ",
      "text/html": "<div>\n<style scoped>\n    .dataframe tbody tr th:only-of-type {\n        vertical-align: middle;\n    }\n\n    .dataframe tbody tr th {\n        vertical-align: top;\n    }\n\n    .dataframe thead th {\n        text-align: right;\n    }\n</style>\n<table border=\"1\" class=\"dataframe\">\n  <thead>\n    <tr style=\"text-align: right;\">\n      <th></th>\n      <th>exp_nr</th>\n      <th>max_con</th>\n      <th>theo_max_con</th>\n      <th>theo_react_end</th>\n      <th>monomer</th>\n      <th>RAFT-Agent</th>\n      <th>solvent</th>\n      <th>fit_p1</th>\n      <th>fit_p2</th>\n      <th>p1_variance</th>\n      <th>p1_p2_covariance</th>\n      <th>p2_variance</th>\n      <th>squared_error</th>\n      <th>conv_time_data</th>\n      <th>Mn_time_data</th>\n      <th>Mw_time_data</th>\n      <th>error_score</th>\n    </tr>\n  </thead>\n  <tbody>\n    <tr>\n      <th>24</th>\n      <td>24</td>\n      <td>0.371195</td>\n      <td>0.811126</td>\n      <td>72.000000</td>\n      <td>Benzyl acrylate</td>\n      <td>2-Cyan-2-propylbenzodithioat</td>\n      <td>Dimethylformamide</td>\n      <td>1.000000</td>\n      <td>0.023148</td>\n      <td>1.533177e-02</td>\n      <td>1.192201e-01</td>\n      <td>1.874253e-01</td>\n      <td>2.427101</td>\n      <td>[[0.0, 2.3694444444444445, 8.501388888888888, ...</td>\n      <td>[[6.358333333333333, 8.501388888888888, 10.466...</td>\n      <td>[[6.358333333333333, 8.501388888888888, 10.466...</td>\n      <td>12</td>\n    </tr>\n    <tr>\n      <th>27</th>\n      <td>27</td>\n      <td>0.191610</td>\n      <td>0.630110</td>\n      <td>72.000000</td>\n      <td>Styrene</td>\n      <td>2-Cyan-2-propylbenzodithioat</td>\n      <td>Dimethylformamide</td>\n      <td>1.000000</td>\n      <td>0.013813</td>\n      <td>2.396191e-04</td>\n      <td>1.036546e-03</td>\n      <td>9.055106e-04</td>\n      <td>0.007282</td>\n      <td>[[0.0, 2.011111111111111, 4.018055555555556, 8...</td>\n      <td>[[1.0055555555555555, 2.011111111111111, 4.018...</td>\n      <td>[[1.0055555555555555, 2.011111111111111, 4.018...</td>\n      <td>5</td>\n    </tr>\n    <tr>\n      <th>34</th>\n      <td>35</td>\n      <td>0.043671</td>\n      <td>0.042310</td>\n      <td>16.669563</td>\n      <td>4-Methylstyrene</td>\n      <td>2-Cyan-2-propylbenzodithioat</td>\n      <td>Dimethylformamide</td>\n      <td>0.047012</td>\n      <td>0.138131</td>\n      <td>6.535523e-08</td>\n      <td>1.026624e-04</td>\n      <td>3.826998e-02</td>\n      <td>0.013406</td>\n      <td>[[0.0, 1.2513888888888889, 2.2416666666666667,...</td>\n      <td>[[1.2513888888888889, 2.2416666666666667, 4.27...</td>\n      <td>[[1.2513888888888889, 2.2416666666666667, 4.27...</td>\n      <td>5</td>\n    </tr>\n    <tr>\n      <th>36</th>\n      <td>37</td>\n      <td>0.050000</td>\n      <td>0.214252</td>\n      <td>72.000000</td>\n      <td>Styrene</td>\n      <td>2-Phenyl-2-propyl benzodithioate</td>\n      <td>Dimethylformamide</td>\n      <td>1.000000</td>\n      <td>0.003349</td>\n      <td>1.418862e-02</td>\n      <td>1.394093e-02</td>\n      <td>2.764156e-03</td>\n      <td>0.000879</td>\n      <td>[[0.0, 2.011111111111111, 8.016666666666667, 1...</td>\n      <td>[[1.0055555555555555, 2.011111111111111, 4.018...</td>\n      <td>[[1.0055555555555555, 2.011111111111111, 4.018...</td>\n      <td>7</td>\n    </tr>\n    <tr>\n      <th>43</th>\n      <td>44</td>\n      <td>0.018442</td>\n      <td>0.017204</td>\n      <td>11.241875</td>\n      <td>4-Methylstyrene</td>\n      <td>2-Phenyl-2-propyl benzodithioate</td>\n      <td>Dimethylformamide</td>\n      <td>0.019116</td>\n      <td>0.204822</td>\n      <td>1.507292e-07</td>\n      <td>8.125574e-04</td>\n      <td>9.768688e-01</td>\n      <td>0.013770</td>\n      <td>[[0.0, 1.2513888888888889, 2.2416666666666667,...</td>\n      <td>[[1.2513888888888889, 2.2416666666666667, 4.27...</td>\n      <td>[[1.2513888888888889, 2.2416666666666667, 4.27...</td>\n      <td>6</td>\n    </tr>\n    <tr>\n      <th>66</th>\n      <td>68</td>\n      <td>0.506406</td>\n      <td>0.900000</td>\n      <td>59.219048</td>\n      <td>Benzyl acrylate</td>\n      <td>2-Phenyl-2-propyl benzodithioate</td>\n      <td>Dimethylformamide</td>\n      <td>1.000000</td>\n      <td>0.038883</td>\n      <td>4.234435e-04</td>\n      <td>6.015673e-03</td>\n      <td>1.739539e-02</td>\n      <td>1.041708</td>\n      <td>[[0.0, 1.3736111111111111, 2.3694444444444445,...</td>\n      <td>[[1.3736111111111111, 2.3694444444444445, 4.40...</td>\n      <td>[[1.3736111111111111, 2.3694444444444445, 4.40...</td>\n      <td>11</td>\n    </tr>\n    <tr>\n      <th>75</th>\n      <td>77</td>\n      <td>0.038520</td>\n      <td>0.037967</td>\n      <td>19.318011</td>\n      <td>4-Methylstyrene</td>\n      <td>2-Cyan-2-propylbenzodithioat</td>\n      <td>Dimethylformamide</td>\n      <td>0.042185</td>\n      <td>0.119194</td>\n      <td>1.638576e-07</td>\n      <td>2.369895e-04</td>\n      <td>7.779301e-02</td>\n      <td>0.021633</td>\n      <td>[[0.0, 1.2513888888888889, 2.2416666666666667,...</td>\n      <td>[[1.2513888888888889, 2.2416666666666667, 4.27...</td>\n      <td>[[1.2513888888888889, 2.2416666666666667, 4.27...</td>\n      <td>5</td>\n    </tr>\n    <tr>\n      <th>80</th>\n      <td>82</td>\n      <td>0.054398</td>\n      <td>0.229720</td>\n      <td>72.000000</td>\n      <td>Styrene</td>\n      <td>4-Cyano-4-(phenylcarbonothioylthio)pentanoic acid</td>\n      <td>Dimethylformamide</td>\n      <td>1.000000</td>\n      <td>0.003625</td>\n      <td>4.539132e-02</td>\n      <td>4.831679e-02</td>\n      <td>1.037890e-02</td>\n      <td>0.007690</td>\n      <td>[[0.0, 1.0055555555555555, 2.011111111111111, ...</td>\n      <td>[[1.0055555555555555, 2.011111111111111, 4.018...</td>\n      <td>[[1.0055555555555555, 2.011111111111111, 4.018...</td>\n      <td>8</td>\n    </tr>\n    <tr>\n      <th>88</th>\n      <td>90</td>\n      <td>0.029811</td>\n      <td>0.021791</td>\n      <td>2.962414</td>\n      <td>4-Methylstyrene</td>\n      <td>4-Cyano-4-(phenylcarbonothioylthio)pentanoic acid</td>\n      <td>Dimethylformamide</td>\n      <td>0.024212</td>\n      <td>0.777267</td>\n      <td>4.150156e-09</td>\n      <td>9.540585e-05</td>\n      <td>1.168729e+00</td>\n      <td>0.009176</td>\n      <td>[[0.0, 1.2513888888888889, 2.2416666666666667,...</td>\n      <td>[[1.2513888888888889, 2.2416666666666667, 4.27...</td>\n      <td>[[1.2513888888888889, 2.2416666666666667, 4.27...</td>\n      <td>5</td>\n    </tr>\n    <tr>\n      <th>106</th>\n      <td>108</td>\n      <td>0.143893</td>\n      <td>0.472185</td>\n      <td>72.000000</td>\n      <td>Styrene</td>\n      <td>2-Cyano-2-propyl dodecyl trithiocarbonate</td>\n      <td>Dimethylformamide</td>\n      <td>0.717384</td>\n      <td>0.014910</td>\n      <td>1.126932e-07</td>\n      <td>7.395679e-07</td>\n      <td>9.801991e-07</td>\n      <td>0.000003</td>\n      <td>[[0.0, 4.018055555555556, 8.016666666666667, 1...</td>\n      <td>[[0.0, 2.011111111111111, 4.018055555555556, 6...</td>\n      <td>[[0.0, 1.0055555555555555, 2.011111111111111, ...</td>\n      <td>0</td>\n    </tr>\n    <tr>\n      <th>114</th>\n      <td>116</td>\n      <td>0.120959</td>\n      <td>0.411536</td>\n      <td>72.000000</td>\n      <td>4-Methylstyrene</td>\n      <td>2-Cyano-2-propyl dodecyl trithiocarbonate</td>\n      <td>Dimethylformamide</td>\n      <td>1.000000</td>\n      <td>0.007364</td>\n      <td>3.901470e-02</td>\n      <td>8.646281e-02</td>\n      <td>3.867534e-02</td>\n      <td>0.126884</td>\n      <td>[[0.0, 1.2513888888888889, 2.2416666666666667,...</td>\n      <td>[[0.0, 1.2513888888888889, 2.2416666666666667,...</td>\n      <td>[[0.0, 1.2513888888888889, 2.2416666666666667,...</td>\n      <td>11</td>\n    </tr>\n    <tr>\n      <th>142</th>\n      <td>144</td>\n      <td>0.922543</td>\n      <td>0.874571</td>\n      <td>9.591899</td>\n      <td>Benzyl acrylate</td>\n      <td>2-Cyano-2-propyl dodecyl trithiocarbonate</td>\n      <td>Dimethylformamide</td>\n      <td>0.971745</td>\n      <td>0.240055</td>\n      <td>2.112481e-06</td>\n      <td>3.065540e-04</td>\n      <td>1.379884e-02</td>\n      <td>1.581100</td>\n      <td>[[0.0, 1.3736111111111111, 2.3694444444444445,...</td>\n      <td>[[1.3736111111111111, 2.3694444444444445, 4.40...</td>\n      <td>[[1.3736111111111111, 2.3694444444444445, 4.40...</td>\n      <td>7</td>\n    </tr>\n    <tr>\n      <th>144</th>\n      <td>146</td>\n      <td>0.151236</td>\n      <td>0.526956</td>\n      <td>72.000000</td>\n      <td>Styrene</td>\n      <td>2-(Dodecylthiocarbonothioylthio)-2-methylpropi...</td>\n      <td>Dimethylformamide</td>\n      <td>1.000000</td>\n      <td>0.010397</td>\n      <td>3.910197e-03</td>\n      <td>1.245853e-02</td>\n      <td>8.013610e-03</td>\n      <td>0.044199</td>\n      <td>[[0.0, 1.0055555555555555, 2.011111111111111, ...</td>\n      <td>[[1.0055555555555555, 2.011111111111111, 4.018...</td>\n      <td>[[1.0055555555555555, 2.011111111111111, 4.018...</td>\n      <td>9</td>\n    </tr>\n    <tr>\n      <th>153</th>\n      <td>155</td>\n      <td>0.141414</td>\n      <td>0.501643</td>\n      <td>72.000000</td>\n      <td>4-Methylstyrene</td>\n      <td>2-(Dodecylthiocarbonothioylthio)-2-methylpropi...</td>\n      <td>Dimethylformamide</td>\n      <td>1.000000</td>\n      <td>0.009673</td>\n      <td>5.161971e-04</td>\n      <td>1.524903e-03</td>\n      <td>9.093835e-04</td>\n      <td>0.004970</td>\n      <td>[[0.0, 1.2513888888888889, 2.2416666666666667,...</td>\n      <td>[[1.2513888888888889, 2.2416666666666667, 4.27...</td>\n      <td>[[1.2513888888888889, 2.2416666666666667, 4.27...</td>\n      <td>6</td>\n    </tr>\n    <tr>\n      <th>171</th>\n      <td>173</td>\n      <td>0.145191</td>\n      <td>0.477260</td>\n      <td>72.000000</td>\n      <td>Styrene</td>\n      <td>Cyanomethyl dodecyl trithiocarbonate</td>\n      <td>Dimethylformamide</td>\n      <td>0.729296</td>\n      <td>0.014757</td>\n      <td>1.233773e-05</td>\n      <td>7.864287e-05</td>\n      <td>1.012445e-04</td>\n      <td>0.000487</td>\n      <td>[[0.0, 2.011111111111111, 4.018055555555556, 8...</td>\n      <td>[[0.0, 1.0055555555555555, 2.011111111111111, ...</td>\n      <td>[[0.0, 1.0055555555555555, 2.011111111111111, ...</td>\n      <td>3</td>\n    </tr>\n    <tr>\n      <th>180</th>\n      <td>182</td>\n      <td>0.131541</td>\n      <td>0.481255</td>\n      <td>72.000000</td>\n      <td>4-Methylstyrene</td>\n      <td>Cyanomethyl dodecyl trithiocarbonate</td>\n      <td>Dimethylformamide</td>\n      <td>1.000000</td>\n      <td>0.009116</td>\n      <td>1.796835e-04</td>\n      <td>4.990715e-04</td>\n      <td>2.798033e-04</td>\n      <td>0.000853</td>\n      <td>[[0.0, 4.273611111111111, 8.338888888888889, 1...</td>\n      <td>[[0.0, 1.2513888888888889, 2.2416666666666667,...</td>\n      <td>[[0.0, 1.2513888888888889, 2.2416666666666667,...</td>\n      <td>4</td>\n    </tr>\n    <tr>\n      <th>202</th>\n      <td>205</td>\n      <td>0.926968</td>\n      <td>0.809439</td>\n      <td>5.125057</td>\n      <td>Benzyl acrylate</td>\n      <td>Cyanomethyl dodecyl trithiocarbonate</td>\n      <td>Dimethylformamide</td>\n      <td>0.899376</td>\n      <td>0.449280</td>\n      <td>1.645519e-07</td>\n      <td>5.171502e-05</td>\n      <td>6.959156e-03</td>\n      <td>0.258891</td>\n      <td>[[0.0, 1.3736111111111111, 2.3694444444444445,...</td>\n      <td>[[0.0, 1.3736111111111111, 2.3694444444444445,...</td>\n      <td>[[0.0, 1.3736111111111111, 2.3694444444444445,...</td>\n      <td>4</td>\n    </tr>\n    <tr>\n      <th>213</th>\n      <td>216</td>\n      <td>0.271698</td>\n      <td>0.588305</td>\n      <td>64.538404</td>\n      <td>Styrene</td>\n      <td>Benzyl 1H-pyrrole-1-carbodithioate</td>\n      <td>Dimethylformamide</td>\n      <td>0.653672</td>\n      <td>0.035678</td>\n      <td>1.056645e-06</td>\n      <td>2.061013e-05</td>\n      <td>8.162688e-05</td>\n      <td>0.001344</td>\n      <td>[[0.0, 2.011111111111111, 4.018055555555556, 8...</td>\n      <td>[[1.0055555555555555, 4.018055555555556, 6.008...</td>\n      <td>[[1.0055555555555555, 2.011111111111111, 4.018...</td>\n      <td>1</td>\n    </tr>\n    <tr>\n      <th>222</th>\n      <td>225</td>\n      <td>0.115830</td>\n      <td>0.313021</td>\n      <td>72.000000</td>\n      <td>4-Methylstyrene</td>\n      <td>Benzyl 1H-pyrrole-1-carbodithioate</td>\n      <td>Dimethylformamide</td>\n      <td>0.385464</td>\n      <td>0.023217</td>\n      <td>1.717947e-07</td>\n      <td>3.439711e-06</td>\n      <td>1.393382e-05</td>\n      <td>0.000053</td>\n      <td>[[0.0, 1.2513888888888889, 2.2416666666666667,...</td>\n      <td>[[1.2513888888888889, 2.2416666666666667, 4.27...</td>\n      <td>[[1.2513888888888889, 2.2416666666666667, 4.27...</td>\n      <td>0</td>\n    </tr>\n    <tr>\n      <th>246</th>\n      <td>249</td>\n      <td>0.880150</td>\n      <td>0.841121</td>\n      <td>11.217228</td>\n      <td>Benzyl acrylate</td>\n      <td>Benzyl 1H-pyrrole-1-carbodithioate</td>\n      <td>Dimethylformamide</td>\n      <td>0.934579</td>\n      <td>0.205272</td>\n      <td>8.015057e-07</td>\n      <td>1.017043e-04</td>\n      <td>3.671640e-03</td>\n      <td>0.449432</td>\n      <td>[[0.0, 1.3736111111111111, 2.3694444444444445,...</td>\n      <td>[[1.3736111111111111, 2.3694444444444445, 4.40...</td>\n      <td>[[1.3736111111111111, 4.409722222222222, 6.358...</td>\n      <td>7</td>\n    </tr>\n    <tr>\n      <th>249</th>\n      <td>252</td>\n      <td>0.058594</td>\n      <td>0.187320</td>\n      <td>72.000000</td>\n      <td>Styrene</td>\n      <td>2-Cyan-2-propylbenzodithioat</td>\n      <td>Dimethylformamide</td>\n      <td>0.282043</td>\n      <td>0.015154</td>\n      <td>1.169599e-04</td>\n      <td>1.983748e-03</td>\n      <td>6.796088e-03</td>\n      <td>0.005904</td>\n      <td>[[0.0, 1.0055555555555555, 2.011111111111111, ...</td>\n      <td>[[1.0055555555555555, 2.011111111111111, 4.018...</td>\n      <td>[[1.0055555555555555, 2.011111111111111, 4.018...</td>\n      <td>6</td>\n    </tr>\n    <tr>\n      <th>256</th>\n      <td>259</td>\n      <td>0.041045</td>\n      <td>0.040783</td>\n      <td>18.975700</td>\n      <td>4-Methylstyrene</td>\n      <td>2-Cyan-2-propylbenzodithioat</td>\n      <td>Dimethylformamide</td>\n      <td>0.045315</td>\n      <td>0.121344</td>\n      <td>6.638009e-08</td>\n      <td>9.149639e-05</td>\n      <td>2.876070e-02</td>\n      <td>0.009262</td>\n      <td>[[0.0, 1.2513888888888889, 2.2416666666666667,...</td>\n      <td>[[1.2513888888888889, 2.2416666666666667, 4.27...</td>\n      <td>[[1.2513888888888889, 2.2416666666666667, 4.27...</td>\n      <td>5</td>\n    </tr>\n    <tr>\n      <th>283</th>\n      <td>286</td>\n      <td>0.496528</td>\n      <td>0.900000</td>\n      <td>58.143702</td>\n      <td>Benzyl acrylate</td>\n      <td>2-Cyan-2-propylbenzodithioat</td>\n      <td>Dimethylformamide</td>\n      <td>1.000000</td>\n      <td>0.039602</td>\n      <td>1.757237e-04</td>\n      <td>2.559823e-03</td>\n      <td>7.589626e-03</td>\n      <td>0.393722</td>\n      <td>[[0.0, 2.3694444444444445, 4.409722222222222, ...</td>\n      <td>[[1.3736111111111111, 2.3694444444444445, 4.40...</td>\n      <td>[[1.3736111111111111, 2.3694444444444445, 4.40...</td>\n      <td>9</td>\n    </tr>\n    <tr>\n      <th>290</th>\n      <td>293</td>\n      <td>0.424561</td>\n      <td>0.859451</td>\n      <td>72.000000</td>\n      <td>Benzyl acrylate</td>\n      <td>4-Cyano-4-(phenylcarbonothioylthio)pentanoic acid</td>\n      <td>Dimethylformamide</td>\n      <td>1.000000</td>\n      <td>0.027253</td>\n      <td>3.432254e-03</td>\n      <td>3.190845e-02</td>\n      <td>6.009081e-02</td>\n      <td>2.116988</td>\n      <td>[[0.0, 1.3736111111111111, 2.3694444444444445,...</td>\n      <td>[[4.409722222222222, 6.358333333333333, 8.5013...</td>\n      <td>[[4.409722222222222, 6.358333333333333, 8.5013...</td>\n      <td>12</td>\n    </tr>\n    <tr>\n      <th>293</th>\n      <td>296</td>\n      <td>0.072202</td>\n      <td>0.289848</td>\n      <td>72.000000</td>\n      <td>Styrene</td>\n      <td>2-Cyan-2-propylbenzodithioat</td>\n      <td>Dimethylformamide</td>\n      <td>1.000000</td>\n      <td>0.004754</td>\n      <td>2.678649e-02</td>\n      <td>3.766048e-02</td>\n      <td>1.068561e-02</td>\n      <td>0.013392</td>\n      <td>[[0.0, 1.0055555555555555, 2.011111111111111, ...</td>\n      <td>[[1.0055555555555555, 2.011111111111111, 4.018...</td>\n      <td>[[1.0055555555555555, 2.011111111111111, 4.018...</td>\n      <td>9</td>\n    </tr>\n  </tbody>\n</table>\n</div>"
     },
     "execution_count": 102,
     "metadata": {},
     "output_type": "execute_result"
    }
   ],
   "source": [
    "# searching manually for interesting experiments to be reproduced by MR.\n",
    "search_queue_monomer = kinetics_df[\"monomer\"].apply(lambda x: x in [\"Styrene\",  \"4-Methylstyrene\", \"Benzyl acrylate\"])\n",
    "search_queue_solvent = kinetics_df[\"solvent\"].apply(lambda x: x in [\"Dimethylformamide\"])\n",
    "kinetics_df[search_queue_monomer & search_queue_solvent]"
   ],
   "metadata": {
    "collapsed": false,
    "pycharm": {
     "name": "#%%\n"
    }
   }
  },
  {
   "cell_type": "code",
   "execution_count": 103,
   "outputs": [
    {
     "data": {
      "text/plain": "    exp_nr   max_con  theo_max_con  theo_react_end          monomer  \\\n88      90  0.029811      0.021791        2.962414  4-Methylstyrene   \n144    146  0.151236      0.526956       72.000000          Styrene   \n202    205  0.926968      0.809439        5.125057  Benzyl acrylate   \n\n                                            RAFT-Agent            solvent  \\\n88   4-Cyano-4-(phenylcarbonothioylthio)pentanoic acid  Dimethylformamide   \n144  2-(Dodecylthiocarbonothioylthio)-2-methylpropi...  Dimethylformamide   \n202               Cyanomethyl dodecyl trithiocarbonate  Dimethylformamide   \n\n       fit_p1    fit_p2   p1_variance  p1_p2_covariance  p2_variance  \\\n88   0.024212  0.777267  4.150156e-09          0.000095     1.168729   \n144  1.000000  0.010397  3.910197e-03          0.012459     0.008014   \n202  0.899376  0.449280  1.645519e-07          0.000052     0.006959   \n\n     squared_error                                     conv_time_data  \\\n88        0.009176  [[0.0, 1.2513888888888889, 2.2416666666666667,...   \n144       0.044199  [[0.0, 1.0055555555555555, 2.011111111111111, ...   \n202       0.258891  [[0.0, 1.3736111111111111, 2.3694444444444445,...   \n\n                                          Mn_time_data  \\\n88   [[1.2513888888888889, 2.2416666666666667, 4.27...   \n144  [[1.0055555555555555, 2.011111111111111, 4.018...   \n202  [[0.0, 1.3736111111111111, 2.3694444444444445,...   \n\n                                          Mw_time_data  error_score  \n88   [[1.2513888888888889, 2.2416666666666667, 4.27...            5  \n144  [[1.0055555555555555, 2.011111111111111, 4.018...            9  \n202  [[0.0, 1.3736111111111111, 2.3694444444444445,...            4  ",
      "text/html": "<div>\n<style scoped>\n    .dataframe tbody tr th:only-of-type {\n        vertical-align: middle;\n    }\n\n    .dataframe tbody tr th {\n        vertical-align: top;\n    }\n\n    .dataframe thead th {\n        text-align: right;\n    }\n</style>\n<table border=\"1\" class=\"dataframe\">\n  <thead>\n    <tr style=\"text-align: right;\">\n      <th></th>\n      <th>exp_nr</th>\n      <th>max_con</th>\n      <th>theo_max_con</th>\n      <th>theo_react_end</th>\n      <th>monomer</th>\n      <th>RAFT-Agent</th>\n      <th>solvent</th>\n      <th>fit_p1</th>\n      <th>fit_p2</th>\n      <th>p1_variance</th>\n      <th>p1_p2_covariance</th>\n      <th>p2_variance</th>\n      <th>squared_error</th>\n      <th>conv_time_data</th>\n      <th>Mn_time_data</th>\n      <th>Mw_time_data</th>\n      <th>error_score</th>\n    </tr>\n  </thead>\n  <tbody>\n    <tr>\n      <th>88</th>\n      <td>90</td>\n      <td>0.029811</td>\n      <td>0.021791</td>\n      <td>2.962414</td>\n      <td>4-Methylstyrene</td>\n      <td>4-Cyano-4-(phenylcarbonothioylthio)pentanoic acid</td>\n      <td>Dimethylformamide</td>\n      <td>0.024212</td>\n      <td>0.777267</td>\n      <td>4.150156e-09</td>\n      <td>0.000095</td>\n      <td>1.168729</td>\n      <td>0.009176</td>\n      <td>[[0.0, 1.2513888888888889, 2.2416666666666667,...</td>\n      <td>[[1.2513888888888889, 2.2416666666666667, 4.27...</td>\n      <td>[[1.2513888888888889, 2.2416666666666667, 4.27...</td>\n      <td>5</td>\n    </tr>\n    <tr>\n      <th>144</th>\n      <td>146</td>\n      <td>0.151236</td>\n      <td>0.526956</td>\n      <td>72.000000</td>\n      <td>Styrene</td>\n      <td>2-(Dodecylthiocarbonothioylthio)-2-methylpropi...</td>\n      <td>Dimethylformamide</td>\n      <td>1.000000</td>\n      <td>0.010397</td>\n      <td>3.910197e-03</td>\n      <td>0.012459</td>\n      <td>0.008014</td>\n      <td>0.044199</td>\n      <td>[[0.0, 1.0055555555555555, 2.011111111111111, ...</td>\n      <td>[[1.0055555555555555, 2.011111111111111, 4.018...</td>\n      <td>[[1.0055555555555555, 2.011111111111111, 4.018...</td>\n      <td>9</td>\n    </tr>\n    <tr>\n      <th>202</th>\n      <td>205</td>\n      <td>0.926968</td>\n      <td>0.809439</td>\n      <td>5.125057</td>\n      <td>Benzyl acrylate</td>\n      <td>Cyanomethyl dodecyl trithiocarbonate</td>\n      <td>Dimethylformamide</td>\n      <td>0.899376</td>\n      <td>0.449280</td>\n      <td>1.645519e-07</td>\n      <td>0.000052</td>\n      <td>0.006959</td>\n      <td>0.258891</td>\n      <td>[[0.0, 1.3736111111111111, 2.3694444444444445,...</td>\n      <td>[[0.0, 1.3736111111111111, 2.3694444444444445,...</td>\n      <td>[[0.0, 1.3736111111111111, 2.3694444444444445,...</td>\n      <td>4</td>\n    </tr>\n  </tbody>\n</table>\n</div>"
     },
     "execution_count": 103,
     "metadata": {},
     "output_type": "execute_result"
    }
   ],
   "source": [
    "# one longrun test for the theo react end cap (146) for up to 72h\n",
    "# two to see reproducible exp from within the second quantile in average (score of 4/5)\n",
    "#   one \"fast\" fit point (202)\n",
    "#   one for a weak conversion (90)\n",
    "kinetics_df[kinetics_df['exp_nr'].isin([\"205\", \"90\", \"146\"])]"
   ],
   "metadata": {
    "collapsed": false,
    "pycharm": {
     "name": "#%%\n"
    }
   }
  },
  {
   "cell_type": "code",
   "execution_count": 104,
   "outputs": [
    {
     "data": {
      "text/plain": "    exp_nr   max_con  theo_max_con  theo_react_end  \\\n0        0  0.516574      0.698886       31.870087   \n1        1  0.697321      0.733482       17.964494   \n2        2  0.323281      0.843708       72.000000   \n3        3  0.565125      0.857779       38.418587   \n4        4  0.790565      0.900000       23.574040   \n..     ...       ...           ...             ...   \n308    312  0.734328      0.716837       13.932218   \n309    313  0.546547      0.836712       11.266675   \n310    314  0.360000      0.344913       11.648310   \n311    315  0.840426      0.836045       14.901526   \n312    316  1.000000      0.900000        6.461289   \n\n                                monomer  \\\n0                   Methyl methacrylate   \n1                   Methyl methacrylate   \n2                   Methyl methacrylate   \n3                    Butyl methacrylate   \n4                    Butyl methacrylate   \n..                                  ...   \n308  (2-Dimethylaminoethyl)methacrylate   \n309  (2-Dimethylaminoethyl)methacrylate   \n310  (2-Dimethylaminoethyl)methacrylate   \n311                 Benzyl methacrylate   \n312                 Benzyl methacrylate   \n\n                                            RAFT-Agent            solvent  \\\n0                         2-Cyan-2-propylbenzodithioat  Dimethylformamide   \n1                         2-Cyan-2-propylbenzodithioat  Dimethylsulfoxide   \n2                         2-Cyan-2-propylbenzodithioat            Toluene   \n3                         2-Cyan-2-propylbenzodithioat  Dimethylformamide   \n4                         2-Cyan-2-propylbenzodithioat  Dimethylsulfoxide   \n..                                                 ...                ...   \n308  2-(Dodecylthiocarbonothioylthio)-2-methylpropi...  Dimethylformamide   \n309  2-(Dodecylthiocarbonothioylthio)-2-methylpropi...  Dimethylsulfoxide   \n310  2-(Dodecylthiocarbonothioylthio)-2-methylpropi...            Toluene   \n311  2-(Dodecylthiocarbonothioylthio)-2-methylpropi...  Dimethylformamide   \n312  2-(Dodecylthiocarbonothioylthio)-2-methylpropi...  Dimethylsulfoxide   \n\n       fit_p1    fit_p2   p1_variance  p1_p2_covariance  p2_variance  \\\n0    0.776540  0.072249  1.309556e-06      5.279765e-05     0.000444   \n1    0.814980  0.128174  2.560277e-08      2.138887e-06     0.000041   \n2    1.000000  0.025778  1.950290e-06      1.700630e-05     0.000030   \n3    0.953088  0.059934  4.250427e-06      1.087931e-04     0.000574   \n4    1.000000  0.097675  1.867054e-06      9.323417e-05     0.000999   \n..        ...       ...           ...               ...          ...   \n308  0.796486  0.165271  4.067338e-09      4.711542e-07     0.000014   \n309  0.929680  0.204371  1.148956e-08      1.032885e-06     0.000019   \n310  0.383237  0.197675  2.602230e-07      7.719540e-05     0.006376   \n311  0.928939  0.154520  6.427724e-07      5.876433e-05     0.001335   \n312  1.000000  0.356366  5.797483e-06      1.256966e-03     0.104797   \n\n     squared_error                                     conv_time_data  \\\n0         0.024205  [[0.0, 2.011111111111111, 4.018055555555556, 8...   \n1         0.003309  [[0.0, 2.011111111111111, 4.018055555555556, 8...   \n2         0.000521  [[0.0, 4.0777777777777775, 8.090277777777779, ...   \n3         0.046853  [[0.0, 1.073611111111111, 2.0680555555555555, ...   \n4         0.084355  [[0.0, 1.1319444444444444, 2.125, 8.1805555555...   \n..             ...                                                ...   \n308       0.001351  [[0.0, 1.2513888888888889, 2.2416666666666667,...   \n309       0.000074  [[0.0, 1.3125, 2.301388888888889, 4.3361111111...   \n310       0.132912  [[0.0, 1.3125, 2.301388888888889, 4.3361111111...   \n311       0.186720  [[0.0, 1.3736111111111111, 2.3694444444444445,...   \n312       7.366935  [[0.0, 1.3736111111111111, 2.3694444444444445,...   \n\n                                          Mn_time_data  \\\n0    [[1.0055555555555555, 2.011111111111111, 4.018...   \n1    [[1.0055555555555555, 2.011111111111111, 4.018...   \n2    [[1.073611111111111, 2.0680555555555555, 4.077...   \n3    [[1.073611111111111, 2.0680555555555555, 4.077...   \n4    [[1.1319444444444444, 2.125, 4.143055555555556...   \n..                                                 ...   \n308  [[1.2513888888888889, 2.2416666666666667, 4.27...   \n309  [[1.3125, 2.301388888888889, 4.336111111111111...   \n310  [[1.3125, 2.301388888888889, 4.336111111111111...   \n311  [[1.3736111111111111, 2.3694444444444445, 4.40...   \n312  [[1.3736111111111111, 2.3694444444444445, 4.40...   \n\n                                          Mw_time_data  error_score     score  \n0    [[1.0055555555555555, 2.011111111111111, 4.018...            3  1.891863  \n1    [[1.0055555555555555, 2.011111111111111, 6.008...            0  2.167049  \n2    [[1.073611111111111, 2.0680555555555555, 4.077...            1  1.403698  \n3    [[1.073611111111111, 2.0680555555555555, 4.077...            3  1.875000  \n4    [[1.1319444444444444, 2.125, 4.143055555555556...            5  1.880905  \n..                                                 ...          ...       ...  \n308  [[1.2513888888888889, 2.2416666666666667, 4.27...            0  2.166092  \n309  [[1.3125, 2.301388888888889, 4.336111111111111...            0  2.234521  \n310  [[1.3125, 2.301388888888889, 4.336111111111111...            5  1.501869  \n311  [[1.3736111111111111, 2.3694444444444445, 4.40...            5  2.012342  \n312  [[1.3736111111111111, 2.3694444444444445, 4.40...           10  1.751891  \n\n[313 rows x 18 columns]",
      "text/html": "<div>\n<style scoped>\n    .dataframe tbody tr th:only-of-type {\n        vertical-align: middle;\n    }\n\n    .dataframe tbody tr th {\n        vertical-align: top;\n    }\n\n    .dataframe thead th {\n        text-align: right;\n    }\n</style>\n<table border=\"1\" class=\"dataframe\">\n  <thead>\n    <tr style=\"text-align: right;\">\n      <th></th>\n      <th>exp_nr</th>\n      <th>max_con</th>\n      <th>theo_max_con</th>\n      <th>theo_react_end</th>\n      <th>monomer</th>\n      <th>RAFT-Agent</th>\n      <th>solvent</th>\n      <th>fit_p1</th>\n      <th>fit_p2</th>\n      <th>p1_variance</th>\n      <th>p1_p2_covariance</th>\n      <th>p2_variance</th>\n      <th>squared_error</th>\n      <th>conv_time_data</th>\n      <th>Mn_time_data</th>\n      <th>Mw_time_data</th>\n      <th>error_score</th>\n      <th>score</th>\n    </tr>\n  </thead>\n  <tbody>\n    <tr>\n      <th>0</th>\n      <td>0</td>\n      <td>0.516574</td>\n      <td>0.698886</td>\n      <td>31.870087</td>\n      <td>Methyl methacrylate</td>\n      <td>2-Cyan-2-propylbenzodithioat</td>\n      <td>Dimethylformamide</td>\n      <td>0.776540</td>\n      <td>0.072249</td>\n      <td>1.309556e-06</td>\n      <td>5.279765e-05</td>\n      <td>0.000444</td>\n      <td>0.024205</td>\n      <td>[[0.0, 2.011111111111111, 4.018055555555556, 8...</td>\n      <td>[[1.0055555555555555, 2.011111111111111, 4.018...</td>\n      <td>[[1.0055555555555555, 2.011111111111111, 4.018...</td>\n      <td>3</td>\n      <td>1.891863</td>\n    </tr>\n    <tr>\n      <th>1</th>\n      <td>1</td>\n      <td>0.697321</td>\n      <td>0.733482</td>\n      <td>17.964494</td>\n      <td>Methyl methacrylate</td>\n      <td>2-Cyan-2-propylbenzodithioat</td>\n      <td>Dimethylsulfoxide</td>\n      <td>0.814980</td>\n      <td>0.128174</td>\n      <td>2.560277e-08</td>\n      <td>2.138887e-06</td>\n      <td>0.000041</td>\n      <td>0.003309</td>\n      <td>[[0.0, 2.011111111111111, 4.018055555555556, 8...</td>\n      <td>[[1.0055555555555555, 2.011111111111111, 4.018...</td>\n      <td>[[1.0055555555555555, 2.011111111111111, 6.008...</td>\n      <td>0</td>\n      <td>2.167049</td>\n    </tr>\n    <tr>\n      <th>2</th>\n      <td>2</td>\n      <td>0.323281</td>\n      <td>0.843708</td>\n      <td>72.000000</td>\n      <td>Methyl methacrylate</td>\n      <td>2-Cyan-2-propylbenzodithioat</td>\n      <td>Toluene</td>\n      <td>1.000000</td>\n      <td>0.025778</td>\n      <td>1.950290e-06</td>\n      <td>1.700630e-05</td>\n      <td>0.000030</td>\n      <td>0.000521</td>\n      <td>[[0.0, 4.0777777777777775, 8.090277777777779, ...</td>\n      <td>[[1.073611111111111, 2.0680555555555555, 4.077...</td>\n      <td>[[1.073611111111111, 2.0680555555555555, 4.077...</td>\n      <td>1</td>\n      <td>1.403698</td>\n    </tr>\n    <tr>\n      <th>3</th>\n      <td>3</td>\n      <td>0.565125</td>\n      <td>0.857779</td>\n      <td>38.418587</td>\n      <td>Butyl methacrylate</td>\n      <td>2-Cyan-2-propylbenzodithioat</td>\n      <td>Dimethylformamide</td>\n      <td>0.953088</td>\n      <td>0.059934</td>\n      <td>4.250427e-06</td>\n      <td>1.087931e-04</td>\n      <td>0.000574</td>\n      <td>0.046853</td>\n      <td>[[0.0, 1.073611111111111, 2.0680555555555555, ...</td>\n      <td>[[1.073611111111111, 2.0680555555555555, 4.077...</td>\n      <td>[[1.073611111111111, 2.0680555555555555, 4.077...</td>\n      <td>3</td>\n      <td>1.875000</td>\n    </tr>\n    <tr>\n      <th>4</th>\n      <td>4</td>\n      <td>0.790565</td>\n      <td>0.900000</td>\n      <td>23.574040</td>\n      <td>Butyl methacrylate</td>\n      <td>2-Cyan-2-propylbenzodithioat</td>\n      <td>Dimethylsulfoxide</td>\n      <td>1.000000</td>\n      <td>0.097675</td>\n      <td>1.867054e-06</td>\n      <td>9.323417e-05</td>\n      <td>0.000999</td>\n      <td>0.084355</td>\n      <td>[[0.0, 1.1319444444444444, 2.125, 8.1805555555...</td>\n      <td>[[1.1319444444444444, 2.125, 4.143055555555556...</td>\n      <td>[[1.1319444444444444, 2.125, 4.143055555555556...</td>\n      <td>5</td>\n      <td>1.880905</td>\n    </tr>\n    <tr>\n      <th>...</th>\n      <td>...</td>\n      <td>...</td>\n      <td>...</td>\n      <td>...</td>\n      <td>...</td>\n      <td>...</td>\n      <td>...</td>\n      <td>...</td>\n      <td>...</td>\n      <td>...</td>\n      <td>...</td>\n      <td>...</td>\n      <td>...</td>\n      <td>...</td>\n      <td>...</td>\n      <td>...</td>\n      <td>...</td>\n      <td>...</td>\n    </tr>\n    <tr>\n      <th>308</th>\n      <td>312</td>\n      <td>0.734328</td>\n      <td>0.716837</td>\n      <td>13.932218</td>\n      <td>(2-Dimethylaminoethyl)methacrylate</td>\n      <td>2-(Dodecylthiocarbonothioylthio)-2-methylpropi...</td>\n      <td>Dimethylformamide</td>\n      <td>0.796486</td>\n      <td>0.165271</td>\n      <td>4.067338e-09</td>\n      <td>4.711542e-07</td>\n      <td>0.000014</td>\n      <td>0.001351</td>\n      <td>[[0.0, 1.2513888888888889, 2.2416666666666667,...</td>\n      <td>[[1.2513888888888889, 2.2416666666666667, 4.27...</td>\n      <td>[[1.2513888888888889, 2.2416666666666667, 4.27...</td>\n      <td>0</td>\n      <td>2.166092</td>\n    </tr>\n    <tr>\n      <th>309</th>\n      <td>313</td>\n      <td>0.546547</td>\n      <td>0.836712</td>\n      <td>11.266675</td>\n      <td>(2-Dimethylaminoethyl)methacrylate</td>\n      <td>2-(Dodecylthiocarbonothioylthio)-2-methylpropi...</td>\n      <td>Dimethylsulfoxide</td>\n      <td>0.929680</td>\n      <td>0.204371</td>\n      <td>1.148956e-08</td>\n      <td>1.032885e-06</td>\n      <td>0.000019</td>\n      <td>0.000074</td>\n      <td>[[0.0, 1.3125, 2.301388888888889, 4.3361111111...</td>\n      <td>[[1.3125, 2.301388888888889, 4.336111111111111...</td>\n      <td>[[1.3125, 2.301388888888889, 4.336111111111111...</td>\n      <td>0</td>\n      <td>2.234521</td>\n    </tr>\n    <tr>\n      <th>310</th>\n      <td>314</td>\n      <td>0.360000</td>\n      <td>0.344913</td>\n      <td>11.648310</td>\n      <td>(2-Dimethylaminoethyl)methacrylate</td>\n      <td>2-(Dodecylthiocarbonothioylthio)-2-methylpropi...</td>\n      <td>Toluene</td>\n      <td>0.383237</td>\n      <td>0.197675</td>\n      <td>2.602230e-07</td>\n      <td>7.719540e-05</td>\n      <td>0.006376</td>\n      <td>0.132912</td>\n      <td>[[0.0, 1.3125, 2.301388888888889, 4.3361111111...</td>\n      <td>[[1.3125, 2.301388888888889, 4.336111111111111...</td>\n      <td>[[1.3125, 2.301388888888889, 4.336111111111111...</td>\n      <td>5</td>\n      <td>1.501869</td>\n    </tr>\n    <tr>\n      <th>311</th>\n      <td>315</td>\n      <td>0.840426</td>\n      <td>0.836045</td>\n      <td>14.901526</td>\n      <td>Benzyl methacrylate</td>\n      <td>2-(Dodecylthiocarbonothioylthio)-2-methylpropi...</td>\n      <td>Dimethylformamide</td>\n      <td>0.928939</td>\n      <td>0.154520</td>\n      <td>6.427724e-07</td>\n      <td>5.876433e-05</td>\n      <td>0.001335</td>\n      <td>0.186720</td>\n      <td>[[0.0, 1.3736111111111111, 2.3694444444444445,...</td>\n      <td>[[1.3736111111111111, 2.3694444444444445, 4.40...</td>\n      <td>[[1.3736111111111111, 2.3694444444444445, 4.40...</td>\n      <td>5</td>\n      <td>2.012342</td>\n    </tr>\n    <tr>\n      <th>312</th>\n      <td>316</td>\n      <td>1.000000</td>\n      <td>0.900000</td>\n      <td>6.461289</td>\n      <td>Benzyl methacrylate</td>\n      <td>2-(Dodecylthiocarbonothioylthio)-2-methylpropi...</td>\n      <td>Dimethylsulfoxide</td>\n      <td>1.000000</td>\n      <td>0.356366</td>\n      <td>5.797483e-06</td>\n      <td>1.256966e-03</td>\n      <td>0.104797</td>\n      <td>7.366935</td>\n      <td>[[0.0, 1.3736111111111111, 2.3694444444444445,...</td>\n      <td>[[1.3736111111111111, 2.3694444444444445, 4.40...</td>\n      <td>[[1.3736111111111111, 2.3694444444444445, 4.40...</td>\n      <td>10</td>\n      <td>1.751891</td>\n    </tr>\n  </tbody>\n</table>\n<p>313 rows × 18 columns</p>\n</div>"
     },
     "execution_count": 104,
     "metadata": {},
     "output_type": "execute_result"
    }
   ],
   "source": [
    "# to find the optimal threshold parameters for search one has to keep in mind that with high conversion (assuming around 80%, research/citation needed) increasing side reaction take place. After that the reactions should be sorted after time then error score. Maybe a multiple-decreasing-threshold-sorting-algorithm would be good.\n",
    "# so first priority would be sorting after nearest to 80% conversion.\n",
    "\n",
    "# create a score ingesting the importance of the different kinetic descriptors\n",
    "    # Conversion*1 + time*(-0.8) + error_score*(0.5)\n",
    "    # while spanning between the optimum and the least bearable values like in the following:\n",
    "        #  Conversion: |con-0.8| - 0 (0.8 is the optimum)\n",
    "        #     using a linear decreasing function -x*m+b\n",
    "        #  Time: 0 - np.inf (0 is the optimum) (more than 72 is not bearable)\n",
    "        #     using a negative potential function -x**2+b\n",
    "        #  Error: 0 - 12 (0 is the optimum) (the error is more negligible)\n",
    "        #     using a linear decreasing function -x*m+b\n",
    "score = []\n",
    "for row in kinetics_df.itertuples():\n",
    "    score.append(((0.8-np.abs(row.theo_max_con - 0.8))/0.8*1 + (-(row.theo_react_end/72)**2+1)*0.8 + ((12-row.error_score)/12)*0.5))\n",
    "kinetics_df[\"score\"] = score\n",
    "kinetics_df"
   ],
   "metadata": {
    "collapsed": false,
    "pycharm": {
     "name": "#%%\n"
    }
   }
  },
  {
   "cell_type": "markdown",
   "source": [
    "# Interface:\n",
    "- Give in Monomer ~~and Mn~~\n",
    "    - The dataset will then be filtered for that one and the results, sorted via conversion (100% conversion, 80% time, 50% Fit) be given out.\n",
    "        - Tabular data with kinetic curve and fit as hover, reaction properties (solvent, Raft agent, time...)\n",
    "- Table should be interactive,\n",
    "- optionally, solvent and or raft agent can be chosen\n",
    "- Mn search is also just optionally after \"main\" search, as the Mn data is hard to plot...\n",
    "- if the queued monomer is not in the dataset the closest ones should be searched for and displayed instead.\n",
    "- same goes with solvent via polarity comparison maybe just as a highly experimental suggestion: \"Suggestion: Less polar solvents than Toluene might prove more useful but are not tried out in the dataset.\""
   ],
   "metadata": {
    "collapsed": false,
    "pycharm": {
     "name": "#%% md\n"
    }
   }
  },
  {
   "cell_type": "code",
   "execution_count": 105,
   "outputs": [],
   "source": [
    "def color_variant(hex_color, brightness_offset=1):\n",
    "    \"\"\" takes a color like #87c95f and produces a lighter or darker variant \"\"\"\n",
    "    if len(hex_color) != 7:\n",
    "        raise Exception(\"Passed %s into color_variant(), needs to be in #87c95f format.\" % hex_color)\n",
    "    rgb_hex = [hex_color[x:x+2] for x in [1, 3, 5]]\n",
    "    new_rgb_int = [int(hex_value, 16) + brightness_offset for hex_value in rgb_hex]\n",
    "    new_rgb_int = [min([255, max([0, i])]) for i in new_rgb_int] # make sure new values are between 0 and 255\n",
    "    # hex() produces \"0x88\", we want just \"88\"; also we zfill to pad with leading zeros if necessary, e.g. 9 -> 09\n",
    "    return \"#\" + \"\".join([hex(i)[2:].zfill(2) for i in new_rgb_int])"
   ],
   "metadata": {
    "collapsed": false,
    "pycharm": {
     "name": "#%%\n"
    }
   }
  },
  {
   "cell_type": "code",
   "execution_count": 115,
   "outputs": [
    {
     "data": {
      "application/vnd.plotly.v1+json": {
       "data": [
        {
         "hovertemplate": "<extra></extra>",
         "legendgroup": "",
         "line": {
          "color": "#636efa",
          "dash": "solid"
         },
         "marker": {
          "symbol": "circle"
         },
         "mode": "lines",
         "name": "",
         "orientation": "v",
         "showlegend": false,
         "xaxis": "x",
         "yaxis": "y",
         "type": "scatter"
        },
        {
         "legendgroup": "90",
         "marker": {
          "color": "#FF97FF"
         },
         "mode": "lines+markers",
         "name": "90",
         "x": [
          0.0,
          1.2513888888888889,
          2.2416666666666667,
          4.273611111111111,
          8.338888888888889,
          15.381944444444445
         ],
         "y": [
          0.0,
          0.012452830188679265,
          0.024150943396226476,
          0.021132075471698153,
          0.01886792452830177,
          0.02981132075471693
         ],
         "type": "scatter"
        },
        {
         "legendgroup": "90",
         "line": {
          "dash": "dot"
         },
         "marker": {
          "color": "#FF97FF"
         },
         "name": "neg_growth fit",
         "opacity": 1,
         "showlegend": false,
         "x": [
          -1.0,
          -0.8232323232323232,
          -0.6464646464646464,
          -0.4696969696969697,
          -0.29292929292929293,
          -0.11616161616161613,
          0.06060606060606055,
          0.23737373737373746,
          0.41414141414141414,
          0.5909090909090908,
          0.7676767676767677,
          0.9444444444444444,
          1.121212121212121,
          1.297979797979798,
          1.474747474747475,
          1.6515151515151514,
          1.8282828282828283,
          2.005050505050505,
          2.1818181818181817,
          2.3585858585858586,
          2.5353535353535355,
          2.712121212121212,
          2.888888888888889,
          3.0656565656565657,
          3.242424242424242,
          3.4191919191919196,
          3.595959595959596,
          3.7727272727272725,
          3.94949494949495,
          4.126262626262626,
          4.303030303030303,
          4.47979797979798,
          4.656565656565657,
          4.833333333333333,
          5.01010101010101,
          5.186868686868687,
          5.363636363636363,
          5.540404040404041,
          5.717171717171717,
          5.893939393939394,
          6.070707070707071,
          6.247474747474747,
          6.424242424242424,
          6.601010101010101,
          6.777777777777778,
          6.954545454545454,
          7.1313131313131315,
          7.308080808080808,
          7.484848484848484,
          7.661616161616161,
          7.838383838383839,
          8.015151515151516,
          8.191919191919192,
          8.368686868686869,
          8.545454545454545,
          8.722222222222221,
          8.8989898989899,
          9.075757575757576,
          9.252525252525253,
          9.429292929292929,
          9.606060606060606,
          9.782828282828282,
          9.95959595959596,
          10.136363636363637,
          10.313131313131313,
          10.48989898989899,
          10.666666666666666,
          10.843434343434344,
          11.02020202020202,
          11.196969696969697,
          11.373737373737374,
          11.55050505050505,
          11.727272727272727,
          11.904040404040405,
          12.080808080808081,
          12.257575757575758,
          12.434343434343434,
          12.61111111111111,
          12.787878787878787,
          12.964646464646465,
          13.141414141414142,
          13.318181818181818,
          13.494949494949495,
          13.671717171717171,
          13.848484848484848,
          14.025252525252526,
          14.202020202020202,
          14.378787878787879,
          14.555555555555555,
          14.732323232323232,
          14.909090909090908,
          15.085858585858585,
          15.262626262626263,
          15.439393939393938,
          15.616161616161616,
          15.792929292929294,
          15.969696969696969,
          16.146464646464647,
          16.32323232323232,
          16.5
         ],
         "y": [
          -0.028461837484944602,
          -0.02169982888194698,
          -0.015805890777271174,
          -0.010668584923157094,
          -0.006190778918072395,
          -0.0022878096986876065,
          0.0011141172070710085,
          0.004079322931636937,
          0.006663871404478933,
          0.008916629367654583,
          0.010880190312236464,
          0.01259167980472158,
          0.014083457429943548,
          0.01538372862230802,
          0.01651707795340646,
          0.017504933959018264,
          0.018365974294108522,
          0.019116478876194026,
          0.019770637694052764,
          0.020340819101597574,
          0.020837803669617242,
          0.021270988016881813,
          0.02164856247450081,
          0.021977665942681312,
          0.022264520867803724,
          0.022514550891862467,
          0.02273248339870068,
          0.02292243889590781,
          0.0230880089223472,
          0.023232323954332033,
          0.02335811259436953,
          0.02346775316157077,
          0.02356331865915964,
          0.023646615969293443,
          0.02371922001626212,
          0.02378250354399863,
          0.02383766307091186,
          0.02388574151277685,
          0.023927647901419404,
          0.02396417457202142,
          0.023996012144011897,
          0.02402376257879127,
          0.02404795056117493,
          0.02406903341974791,
          0.02408740977369749,
          0.024103427069611667,
          0.02411738815074377,
          0.024129556982950006,
          0.024140163645561753,
          0.0241494086815564,
          0.02415746688927648,
          0.02416449062738822,
          0.02417061269556715,
          0.02417594884537672,
          0.024180599968813762,
          0.02418465400590017,
          0.024188187607388154,
          0.024191267584016338,
          0.02419395216971803,
          0.02419629212266566,
          0.024198331684968946,
          0.024200109419172198,
          0.02420165893736652,
          0.024203009536702545,
          0.024204186753319396,
          0.024205212845163238,
          0.02420610721282415,
          0.024206886766348214,
          0.02420756624496025,
          0.024208158495742215,
          0.024208674716536403,
          0.024209124667666,
          0.02420951685647612,
          0.024209858698184386,
          0.024210156656082463,
          0.02421041636373919,
          0.024210642731515974,
          0.02421084003940829,
          0.02421101201796868,
          0.024211161918841297,
          0.024211292576241623,
          0.02421140646054371,
          0.024211505724988192,
          0.024211592246394204,
          0.024211667660644864,
          0.024211733393617374,
          0.024211790688142443,
          0.024211840627502815,
          0.0242118841559152,
          0.02421192209638282,
          0.02421195516625612,
          0.02421198399079596,
          0.02421200911499554,
          0.024212031013884756,
          0.024212050101511697,
          0.02421206673877118,
          0.024212081240228275,
          0.024212093880065868,
          0.024212104897268712,
          0.024212114500141983
         ],
         "type": "scatter"
        },
        {
         "legendgroup": "90",
         "line": {
          "dash": "dash"
         },
         "marker": {
          "color": "#FF97FF"
         },
         "name": "neg_growth_derivative",
         "opacity": 0.3,
         "showlegend": false,
         "x": [
          -1.0,
          -0.8232323232323232,
          -0.6464646464646464,
          -0.4696969696969697,
          -0.29292929292929293,
          -0.11616161616161613,
          0.06060606060606055,
          0.23737373737373746,
          0.41414141414141414,
          0.5909090909090908,
          0.7676767676767677,
          0.9444444444444444,
          1.121212121212121,
          1.297979797979798,
          1.474747474747475,
          1.6515151515151514,
          1.8282828282828283,
          2.005050505050505,
          2.1818181818181817,
          2.3585858585858586,
          2.5353535353535355,
          2.712121212121212,
          2.888888888888889,
          3.0656565656565657,
          3.242424242424242,
          3.4191919191919196,
          3.595959595959596,
          3.7727272727272725,
          3.94949494949495,
          4.126262626262626,
          4.303030303030303,
          4.47979797979798,
          4.656565656565657,
          4.833333333333333,
          5.01010101010101,
          5.186868686868687,
          5.363636363636363,
          5.540404040404041,
          5.717171717171717,
          5.893939393939394,
          6.070707070707071,
          6.247474747474747,
          6.424242424242424,
          6.601010101010101,
          6.777777777777778,
          6.954545454545454,
          7.1313131313131315,
          7.308080808080808,
          7.484848484848484,
          7.661616161616161,
          7.838383838383839,
          8.015151515151516,
          8.191919191919192,
          8.368686868686869,
          8.545454545454545,
          8.722222222222221,
          8.8989898989899,
          9.075757575757576,
          9.252525252525253,
          9.429292929292929,
          9.606060606060606,
          9.782828282828282,
          9.95959595959596,
          10.136363636363637,
          10.313131313131313,
          10.48989898989899,
          10.666666666666666,
          10.843434343434344,
          11.02020202020202,
          11.196969696969697,
          11.373737373737374,
          11.55050505050505,
          11.727272727272727,
          11.904040404040405,
          12.080808080808081,
          12.257575757575758,
          12.434343434343434,
          12.61111111111111,
          12.787878787878787,
          12.964646464646465,
          13.141414141414142,
          13.318181818181818,
          13.494949494949495,
          13.671717171717171,
          13.848484848484848,
          14.025252525252526,
          14.202020202020202,
          14.378787878787879,
          14.555555555555555,
          14.732323232323232,
          14.909090909090908,
          15.085858585858585,
          15.262626262626263,
          15.439393939393938,
          15.616161616161616,
          15.792929292929294,
          15.969696969696969,
          16.146464646464647,
          16.32323232323232,
          16.5
         ],
         "y": [
          0.040941749056018946,
          0.03568586628629433,
          0.03110470563582483,
          0.02711164988764463,
          0.023631201279835846,
          0.020597554049361113,
          0.01795335022508426,
          0.01564859514542848,
          0.013639712196077238,
          0.011888718895393472,
          0.01036250874958604,
          0.00903222529946893,
          0.007872716523749676,
          0.0068620592831055045,
          0.005981144813585524,
          0.005213317432152969,
          0.004544059623277568,
          0.003960717552426913,
          0.003452261816667719,
          0.0030090789088252764,
          0.0026227894523587975,
          0.002286089770271291,
          0.00199261379255543,
          0.0017368126912229492,
          0.001513849967145197,
          0.001319510005083979,
          0.0011501183679384585,
          0.0010024723231903325,
          8.737802879924052E-4,
          7.616090479728211E-4,
          6.638377518069034E-4,
          5.786178117198126E-4,
          5.043379517482017E-4,
          4.395937429191E-4,
          3.8316104933959613E-4,
          3.3397288313550676E-4,
          2.9109923062922466E-4,
          2.53729468324961E-4,
          2.2115703623575364E-4,
          1.9276607876677924E-4,
          1.6801980057061728E-4,
          1.4645031721553705E-4,
          1.276498087707059E-4,
          1.1126280904681487E-4,
          9.697948470275286E-5,
          8.452977714461826E-5,
          7.367829645640502E-5,
          6.421987082055763E-5,
          5.597566728011101E-5,
          4.878981049663968E-5,
          4.252643557397697E-5,
          3.7067119224662155E-5,
          3.230864070949993E-5,
          2.8161030215724034E-5,
          2.4545867773933846E-5,
          2.1394800550976715E-5,
          1.8648250484839706E-5,
          1.6254287826462063E-5,
          1.4167649290224749E-5,
          1.234888224902903E-5,
          1.0763598793033446E-5,
          9.381825548340662E-6,
          8.177436962483778E-6,
          7.127661341690918E-6,
          6.212650300443821E-6,
          5.41510348279933E-6,
          4.719941459980563E-6,
          4.114020619625696E-6,
          3.5858846560302794E-6,
          3.125547962742899E-6,
          2.724306832061085E-6,
          2.3745748917260167E-6,
          2.0697396673742965E-6,
          1.8040375587349238E-6,
          1.5724448657134973E-6,
          1.3705828039648057E-6,
          1.194634714058266E-6,
          1.0412738988878481E-6,
          9.07600724929393E-7,
          7.910877981020839E-7,
          6.895321776596097E-7,
          6.010137246063916E-7,
          5.238587971213791E-7,
          4.5660860656914736E-7,
          3.9799163579706095E-7,
          3.468995982239184E-7,
          3.0236648317221967E-7,
          2.635502912486001E-7,
          2.2971711443844168E-7,
          2.002272599127871E-7,
          1.745231551867072E-7,
          1.5211880594875175E-7,
          1.3259060723786647E-7,
          1.155693342322775E-7,
          1.007331612180549E-7,
          8.780157674516259E-8,
          7.653007992322338E-8,
          6.670555757847061E-8,
          5.81422548665653E-8,
          5.0678263156587454E-8
         ],
         "type": "scatter"
        },
        {
         "legendgroup": "90",
         "marker": {
          "color": "#ffb5ff"
         },
         "mode": "lines+markers",
         "name": "Mn of 90",
         "x": [
          1.2513888888888889,
          2.2416666666666667,
          4.273611111111111,
          6.2375,
          8.338888888888889,
          10.306944444444444,
          15.381944444444445
         ],
         "y": [
          0.0027,
          0.0028,
          0.0029,
          0.0032,
          0.0039,
          0.0038,
          0.0035
         ],
         "type": "scatter"
        },
        {
         "legendgroup": "90",
         "marker": {
          "color": "#c379c3"
         },
         "mode": "lines+markers",
         "name": "Mw of 90",
         "opacity": 0.5,
         "x": [
          1.2513888888888889,
          2.2416666666666667,
          4.273611111111111,
          6.2375,
          8.338888888888889,
          10.306944444444444,
          15.381944444444445
         ],
         "y": [
          0.0029,
          0.0034,
          0.0033,
          0.0037,
          0.0044,
          0.0046,
          0.0053
         ],
         "type": "scatter"
        },
        {
         "legendgroup": "145",
         "marker": {
          "color": "#AB63FA"
         },
         "mode": "lines+markers",
         "name": "145",
         "x": [
          0.0,
          1.3736111111111111,
          2.3694444444444445,
          4.409722222222222,
          8.501388888888888,
          15.568055555555556
         ],
         "y": [
          0.0,
          0.4283204497540408,
          0.6370344342937456,
          0.8341531974701335,
          0.9307800421644413,
          0.9581869290231905
         ],
         "type": "scatter"
        },
        {
         "legendgroup": "145",
         "line": {
          "dash": "dot"
         },
         "marker": {
          "color": "#AB63FA"
         },
         "name": "neg_growth fit",
         "opacity": 1,
         "showlegend": false,
         "x": [
          -1.0,
          -0.8232323232323232,
          -0.6464646464646464,
          -0.4696969696969697,
          -0.29292929292929293,
          -0.11616161616161613,
          0.06060606060606055,
          0.23737373737373746,
          0.41414141414141414,
          0.5909090909090908,
          0.7676767676767677,
          0.9444444444444444,
          1.121212121212121,
          1.297979797979798,
          1.474747474747475,
          1.6515151515151514,
          1.8282828282828283,
          2.005050505050505,
          2.1818181818181817,
          2.3585858585858586,
          2.5353535353535355,
          2.712121212121212,
          2.888888888888889,
          3.0656565656565657,
          3.242424242424242,
          3.4191919191919196,
          3.595959595959596,
          3.7727272727272725,
          3.94949494949495,
          4.126262626262626,
          4.303030303030303,
          4.47979797979798,
          4.656565656565657,
          4.833333333333333,
          5.01010101010101,
          5.186868686868687,
          5.363636363636363,
          5.540404040404041,
          5.717171717171717,
          5.893939393939394,
          6.070707070707071,
          6.247474747474747,
          6.424242424242424,
          6.601010101010101,
          6.777777777777778,
          6.954545454545454,
          7.1313131313131315,
          7.308080808080808,
          7.484848484848484,
          7.661616161616161,
          7.838383838383839,
          8.015151515151516,
          8.191919191919192,
          8.368686868686869,
          8.545454545454545,
          8.722222222222221,
          8.8989898989899,
          9.075757575757576,
          9.252525252525253,
          9.429292929292929,
          9.606060606060606,
          9.782828282828282,
          9.95959595959596,
          10.136363636363637,
          10.313131313131313,
          10.48989898989899,
          10.666666666666666,
          10.843434343434344,
          11.02020202020202,
          11.196969696969697,
          11.373737373737374,
          11.55050505050505,
          11.727272727272727,
          11.904040404040405,
          12.080808080808081,
          12.257575757575758,
          12.434343434343434,
          12.61111111111111,
          12.787878787878787,
          12.964646464646465,
          13.141414141414142,
          13.318181818181818,
          13.494949494949495,
          13.671717171717171,
          13.848484848484848,
          14.025252525252526,
          14.202020202020202,
          14.378787878787879,
          14.555555555555555,
          14.732323232323232,
          14.909090909090908,
          15.085858585858585,
          15.262626262626263,
          15.439393939393938,
          15.616161616161616,
          15.792929292929294,
          15.969696969696969,
          16.146464646464647,
          16.32323232323232,
          16.5
         ],
         "y": [
          -0.5451545860520587,
          -0.4301045859698224,
          -0.32385920860914896,
          -0.2257446479620971,
          -0.1351386634938519,
          -0.0514666339059932,
          0.02580208710001454,
          0.09715753617078272,
          0.16305224810337846,
          0.22390412581174238,
          0.2800990906584126,
          0.3319935299599045,
          0.37991655718777556,
          0.4241720991995232,
          0.46504082373649314,
          0.5027819194129475,
          0.5376347394849511,
          0.5698203198238199,
          0.5995427807210917,
          0.6269906214152359,
          0.6523379155499646,
          0.6757454151457167,
          0.6973615700856808,
          0.7173234695819144,
          0.7357577115923203,
          0.752781205702304,
          0.7685019145629698,
          0.7830195385880444,
          0.7964261482518595,
          0.8088067679984146,
          0.8202399154646598,
          0.8307980994377429,
          0.8405482797042513,
          0.8495522917078089,
          0.8578672387081935,
          0.8655458539290398,
          0.8726368349908662,
          0.8791851527503848,
          0.8852323365047555,
          0.8908167373695378,
          0.8959737715006807,
          0.9007361447030579,
          0.9051340598500135,
          0.9091954084293663,
          0.912945947430654,
          0.9164094626954337,
          0.9196079197666023,
          0.9225616031934194,
          0.9252892451757041,
          0.9278081443630618,
          0.9301342755625666,
          0.93228239105066,
          0.9342661141317872,
          0.9360980255371133,
          0.9377897432112643,
          0.9393519959930934,
          0.940794691657757,
          0.9421269797516224,
          0.9433573096185038,
          0.9444934839852267,
          0.9455427084463629,
          0.946511637161963,
          0.9474064150581032,
          0.9482327167978811,
          0.9489957827700128,
          0.9497004523232702,
          0.9503511944575326,
          0.9509521361660922,
          0.9515070886089609,
          0.9520195712831694,
          0.9524928343433444,
          0.9529298792141244,
          0.9533334776251317,
          0.9537061891892253,
          0.954050377635514,
          0.9543682258000771,
          0.9546617494694666,
          0.9549328101647843,
          0.9551831269474099,
          0.955414287321254,
          0.9556277573006746,
          0.9558248907079107,
          0.9560069377589948,
          0.9561750529925975,
          0.9563303025920884,
          0.956473671147249,
          0.9566060678985205,
          0.9567283325033892,
          0.9568412403614754,
          0.9569455075321037,
          0.9570417952755355,
          0.957130714246668,
          0.9572128283677958,
          0.9572886584049936,
          0.957358685270805,
          0.9574233530741793,
          0.9574830719370012,
          0.9575382205950763,
          0.9575891488000648,
          0.9576361795376002
         ],
         "type": "scatter"
        },
        {
         "legendgroup": "145",
         "line": {
          "dash": "dash"
         },
         "marker": {
          "color": "#AB63FA"
         },
         "name": "neg_growth_derivative",
         "opacity": 0.3,
         "showlegend": false,
         "x": [
          -1.0,
          -0.8232323232323232,
          -0.6464646464646464,
          -0.4696969696969697,
          -0.29292929292929293,
          -0.11616161616161613,
          0.06060606060606055,
          0.23737373737373746,
          0.41414141414141414,
          0.5909090909090908,
          0.7676767676767677,
          0.9444444444444444,
          1.121212121212121,
          1.297979797979798,
          1.474747474747475,
          1.6515151515151514,
          1.8282828282828283,
          2.005050505050505,
          2.1818181818181817,
          2.3585858585858586,
          2.5353535353535355,
          2.712121212121212,
          2.888888888888889,
          3.0656565656565657,
          3.242424242424242,
          3.4191919191919196,
          3.595959595959596,
          3.7727272727272725,
          3.94949494949495,
          4.126262626262626,
          4.303030303030303,
          4.47979797979798,
          4.656565656565657,
          4.833333333333333,
          5.01010101010101,
          5.186868686868687,
          5.363636363636363,
          5.540404040404041,
          5.717171717171717,
          5.893939393939394,
          6.070707070707071,
          6.247474747474747,
          6.424242424242424,
          6.601010101010101,
          6.777777777777778,
          6.954545454545454,
          7.1313131313131315,
          7.308080808080808,
          7.484848484848484,
          7.661616161616161,
          7.838383838383839,
          8.015151515151516,
          8.191919191919192,
          8.368686868686869,
          8.545454545454545,
          8.722222222222221,
          8.8989898989899,
          9.075757575757576,
          9.252525252525253,
          9.429292929292929,
          9.606060606060606,
          9.782828282828282,
          9.95959595959596,
          10.136363636363637,
          10.313131313131313,
          10.48989898989899,
          10.666666666666666,
          10.843434343434344,
          11.02020202020202,
          11.196969696969697,
          11.373737373737374,
          11.55050505050505,
          11.727272727272727,
          11.904040404040405,
          12.080808080808081,
          12.257575757575758,
          12.434343434343434,
          12.61111111111111,
          12.787878787878787,
          12.964646464646465,
          13.141414141414142,
          13.318181818181818,
          13.494949494949495,
          13.671717171717171,
          13.848484848484848,
          14.025252525252526,
          14.202020202020202,
          14.378787878787879,
          14.555555555555555,
          14.732323232323232,
          14.909090909090908,
          15.085858585858585,
          15.262626262626263,
          15.439393939393938,
          15.616161616161616,
          15.792929292929294,
          15.969696969696969,
          16.146464646464647,
          16.32323232323232,
          16.5
         ],
         "y": [
          0.6771070940242078,
          0.6252889931922597,
          0.5774364623528984,
          0.5332460217352786,
          0.4924374164697636,
          0.45475183921727963,
          0.41995028881847024,
          0.38781205455323714,
          0.3581333163978721,
          0.33072585240263974,
          0.30541584499202584,
          0.28204277861723226,
          0.2604584217698529,
          0.24052588690068233,
          0.2221187622816812,
          0.2051203103053855,
          0.18942272713738972,
          0.1749264590266366,
          0.161539570937566,
          0.14917716350000165,
          0.137760834579084,
          0.12721818205053573,
          0.11748234462787228,
          0.10849157782949176,
          0.10018886239643689,
          0.0925215426774219,
          0.08544099268777043,
          0.07890230772441614,
          0.07286401958119512,
          0.0672878335583318,
          0.062138385598236555,
          0.057383018007376864,
          0.05299157234185349,
          0.048936198143166604,
          0.04519117631117832,
          0.04173275599410622,
          0.03853900396110747,
          0.035589665502178076,
          0.032866035973196615,
          0.030350842171454166,
          0.028028132789356425,
          0.025883177251557598,
          0.023902372293953002,
          0.02207315569205673,
          0.020383926591631164,
          0.018823971936306864,
          0.017383398525598455,
          0.016053070272429703,
          0.014824550262256294,
          0.013690047246326562,
          0.012642366229741428,
          0.011674862840944067,
          0.010781401193251489,
          0.009956314971186866,
          0.00919437149482277,
          0.008490738534232226,
          0.007840953663585414,
          0.0072408959605364896,
          0.006686759871418346,
          0.006175031076499253,
          0.005702464202239017,
          0.0052660622391964736,
          0.0048630575350569515,
          0.004490894242237962,
          0.004147212108756165,
          0.0038298315095575976,
          0.003536739623380235,
          0.0032660776674827367,
          0.0030161291092823646,
          0.0027853087801404898,
          0.0025721528222555318,
          0.0023753094049067656,
          0.002193530151171563,
          0.0020256622207444983,
          0.0018706409986477559,
          0.0017274833434647206,
          0.0015952813522772445,
          0.0014731966027639386,
          0.0013604548359429636,
          0.001256341045837429,
          0.001160194944922127,
          0.0010714067765935555,
          9.894134481060355E-4,
          9.136949594490387E-4,
          8.437711055177721E-4,
          7.791984306622328E-4,
          7.195674163005552E-4,
          6.644998837605503E-4,
          6.136465958783073E-4,
          5.666850421432536E-4,
          5.233173933430982E-4,
          4.8326861273706396E-4,
          4.4628471177851067E-4,
          4.1213113932477333E-4,
          3.8059129411861233E-4,
          3.514651511074821E-4,
          3.245679928887379E-4,
          2.9972923823565114E-4,
          2.7679136027476486E-4,
          2.556088874536822E-4
         ],
         "type": "scatter"
        },
        {
         "legendgroup": "145",
         "marker": {
          "color": "#c981ff"
         },
         "mode": "lines+markers",
         "name": "Mn of 145",
         "x": [
          0.0,
          1.3736111111111111,
          2.3694444444444445,
          4.409722222222222,
          6.358333333333333,
          8.501388888888888,
          10.466666666666667,
          15.568055555555556
         ],
         "y": [
          0.0029,
          0.094,
          0.086,
          0.135,
          0.096,
          0.1,
          0.123,
          0.111
         ],
         "type": "scatter"
        },
        {
         "legendgroup": "145",
         "marker": {
          "color": "#8d45c3"
         },
         "mode": "lines+markers",
         "name": "Mw of 145",
         "opacity": 0.5,
         "x": [
          0.0,
          1.3736111111111111,
          2.3694444444444445,
          4.409722222222222,
          6.358333333333333,
          8.501388888888888,
          10.466666666666667,
          15.568055555555556
         ],
         "y": [
          0.0033,
          0.117,
          0.157,
          0.2,
          0.21,
          0.217,
          0.22,
          0.223
         ],
         "type": "scatter"
        },
        {
         "legendgroup": "253",
         "marker": {
          "color": "#636EFA"
         },
         "mode": "lines+markers",
         "name": "253",
         "x": [
          0.0,
          2.011111111111111,
          4.018055555555556,
          8.016666666666667,
          15.016666666666667
         ],
         "y": [
          0.0,
          0.05343511450381688,
          0.09541984732824427,
          0.1717557251908397,
          0.30534351145038163
         ],
         "type": "scatter"
        },
        {
         "legendgroup": "253",
         "line": {
          "dash": "dot"
         },
         "marker": {
          "color": "#636EFA"
         },
         "name": "neg_growth fit",
         "opacity": 1,
         "showlegend": false,
         "x": [
          -1.0,
          -0.8232323232323232,
          -0.6464646464646464,
          -0.4696969696969697,
          -0.29292929292929293,
          -0.11616161616161613,
          0.06060606060606055,
          0.23737373737373746,
          0.41414141414141414,
          0.5909090909090908,
          0.7676767676767677,
          0.9444444444444444,
          1.121212121212121,
          1.297979797979798,
          1.474747474747475,
          1.6515151515151514,
          1.8282828282828283,
          2.005050505050505,
          2.1818181818181817,
          2.3585858585858586,
          2.5353535353535355,
          2.712121212121212,
          2.888888888888889,
          3.0656565656565657,
          3.242424242424242,
          3.4191919191919196,
          3.595959595959596,
          3.7727272727272725,
          3.94949494949495,
          4.126262626262626,
          4.303030303030303,
          4.47979797979798,
          4.656565656565657,
          4.833333333333333,
          5.01010101010101,
          5.186868686868687,
          5.363636363636363,
          5.540404040404041,
          5.717171717171717,
          5.893939393939394,
          6.070707070707071,
          6.247474747474747,
          6.424242424242424,
          6.601010101010101,
          6.777777777777778,
          6.954545454545454,
          7.1313131313131315,
          7.308080808080808,
          7.484848484848484,
          7.661616161616161,
          7.838383838383839,
          8.015151515151516,
          8.191919191919192,
          8.368686868686869,
          8.545454545454545,
          8.722222222222221,
          8.8989898989899,
          9.075757575757576,
          9.252525252525253,
          9.429292929292929,
          9.606060606060606,
          9.782828282828282,
          9.95959595959596,
          10.136363636363637,
          10.313131313131313,
          10.48989898989899,
          10.666666666666666,
          10.843434343434344,
          11.02020202020202,
          11.196969696969697,
          11.373737373737374,
          11.55050505050505,
          11.727272727272727,
          11.904040404040405,
          12.080808080808081,
          12.257575757575758,
          12.434343434343434,
          12.61111111111111,
          12.787878787878787,
          12.964646464646465,
          13.141414141414142,
          13.318181818181818,
          13.494949494949495,
          13.671717171717171,
          13.848484848484848,
          14.025252525252526,
          14.202020202020202,
          14.378787878787879,
          14.555555555555555,
          14.732323232323232,
          14.909090909090908,
          15.085858585858585,
          15.262626262626263,
          15.439393939393938,
          15.616161616161616,
          15.792929292929294,
          15.969696969696969,
          16.146464646464647,
          16.32323232323232,
          16.5
         ],
         "y": [
          -0.02467348267389609,
          -0.020266246801213247,
          -0.01587877085543109,
          -0.01151096624253692,
          -0.007162744765731031,
          -0.0028340186236454888,
          0.0014752995914281983,
          0.005765296895304576,
          0.010036059913661024,
          0.014287674883786981,
          0.018520227656325508,
          0.022733803697006442,
          0.026928488088372553,
          0.031104365531497345,
          0.03526152034769528,
          0.03940003648022478,
          0.04351999749598302,
          0.047621486587193326,
          0.051704586573084986,
          0.05576937990156595,
          0.059815948650887185,
          0.06384437453130025,
          0.0678547388867073,
          0.07184712269630343,
          0.07582160657621205,
          0.07977827078111259,
          0.08371719520586111,
          0.08763845938710353,
          0.09154214250488159,
          0.095428323384232,
          0.0992970804967776,
          0.10314849196231252,
          0.10698263555037904,
          0.11079958868183841,
          0.11459942843043382,
          0.11838223152434671,
          0.12214807434774658,
          0.12589703294233284,
          0.1296291830088705,
          0.13334459990871864,
          0.1370433586653525,
          0.14072553396587775,
          0.14439120016253926,
          0.14804043127422217,
          0.15167330098794635,
          0.15528988266035462,
          0.15889024931919396,
          0.1624744736647899,
          0.16604262807151463,
          0.16959478458924862,
          0.17313101494483515,
          0.1766513905435289,
          0.18015598247043768,
          0.18364486149195786,
          0.18711809805720334,
          0.19057576229942802,
          0.19401792403744209,
          0.1974446527770216,
          0.2008560177123123,
          0.20425208772722647,
          0.20763293139683417,
          0.21099861698874786,
          0.21434921246450067,
          0.21768478548091905,
          0.2210054033914886,
          0.22431113324771434,
          0.22760204180047489,
          0.23087819550136943,
          0.23413966050406046,
          0.23738650266560932,
          0.2406187875478058,
          0.24383658041849227,
          0.24703994625288136,
          0.250228949734868,
          0.25340365525833586,
          0.2565641269284572,
          0.25971042856298765,
          0.26284262369355466,
          0.26596077556694026,
          0.26906494714635865,
          0.2721552011127269,
          0.27523159986593104,
          0.27829420552608625,
          0.28134307993479063,
          0.28437828465637466,
          0.2873998809791437,
          0.29040792991661585,
          0.29340249220875403,
          0.29638362832319215,
          0.29935139845645664,
          0.3023058625351812,
          0.3052470802173179,
          0.30817511089334076,
          0.31109001368744554,
          0.31399184745874387,
          0.31688067080245086,
          0.31975654205106924,
          0.32261951927556687,
          0.3254696602865491,
          0.3283070226354263
         ],
         "type": "scatter"
        },
        {
         "legendgroup": "253",
         "line": {
          "dash": "dash"
         },
         "marker": {
          "color": "#636EFA"
         },
         "name": "neg_growth_derivative",
         "opacity": 0.3,
         "showlegend": false,
         "x": [
          -1.0,
          -0.8232323232323232,
          -0.6464646464646464,
          -0.4696969696969697,
          -0.29292929292929293,
          -0.11616161616161613,
          0.06060606060606055,
          0.23737373737373746,
          0.41414141414141414,
          0.5909090909090908,
          0.7676767676767677,
          0.9444444444444444,
          1.121212121212121,
          1.297979797979798,
          1.474747474747475,
          1.6515151515151514,
          1.8282828282828283,
          2.005050505050505,
          2.1818181818181817,
          2.3585858585858586,
          2.5353535353535355,
          2.712121212121212,
          2.888888888888889,
          3.0656565656565657,
          3.242424242424242,
          3.4191919191919196,
          3.595959595959596,
          3.7727272727272725,
          3.94949494949495,
          4.126262626262626,
          4.303030303030303,
          4.47979797979798,
          4.656565656565657,
          4.833333333333333,
          5.01010101010101,
          5.186868686868687,
          5.363636363636363,
          5.540404040404041,
          5.717171717171717,
          5.893939393939394,
          6.070707070707071,
          6.247474747474747,
          6.424242424242424,
          6.601010101010101,
          6.777777777777778,
          6.954545454545454,
          7.1313131313131315,
          7.308080808080808,
          7.484848484848484,
          7.661616161616161,
          7.838383838383839,
          8.015151515151516,
          8.191919191919192,
          8.368686868686869,
          8.545454545454545,
          8.722222222222221,
          8.8989898989899,
          9.075757575757576,
          9.252525252525253,
          9.429292929292929,
          9.606060606060606,
          9.782828282828282,
          9.95959595959596,
          10.136363636363637,
          10.313131313131313,
          10.48989898989899,
          10.666666666666666,
          10.843434343434344,
          11.02020202020202,
          11.196969696969697,
          11.373737373737374,
          11.55050505050505,
          11.727272727272727,
          11.904040404040405,
          12.080808080808081,
          12.257575757575758,
          12.434343434343434,
          12.61111111111111,
          12.787878787878787,
          12.964646464646465,
          13.141414141414142,
          13.318181818181818,
          13.494949494949495,
          13.671717171717171,
          13.848484848484848,
          14.025252525252526,
          14.202020202020202,
          14.378787878787879,
          14.555555555555555,
          14.732323232323232,
          14.909090909090908,
          15.085858585858585,
          15.262626262626263,
          15.439393939393938,
          15.616161616161616,
          15.792929292929294,
          15.969696969696969,
          16.146464646464647,
          16.32323232323232,
          16.5
         ],
         "y": [
          0.024988422928344384,
          0.02487638685296907,
          0.024764853093495066,
          0.02465381939777935,
          0.02454328352377644,
          0.024433243239493096,
          0.024323696322943265,
          0.024214640562103217,
          0.02410607375486687,
          0.023997993709001325,
          0.0238903982421026,
          0.023783285181551574,
          0.02367665236447009,
          0.023570497637677306,
          0.023464818857646213,
          0.023359613890460335,
          0.023254880611770657,
          0.023150616906752724,
          0.02304682067006394,
          0.02294348980580104,
          0.022840622227457804,
          0.022738215857882882,
          0.022636268629237878,
          0.0225347784829556,
          0.02243374336969847,
          0.022333161249317154,
          0.02223303009080937,
          0.022133347872278882,
          0.02203411258089465,
          0.02193532221285021,
          0.021836974773323203,
          0.021739068276435087,
          0.021641600745211056,
          0.021544570211540097,
          0.021447974716135264,
          0.021351812308494124,
          0.02125608104685934,
          0.021160778998179492,
          0.021065904238070032,
          0.02097145485077443,
          0.020877428929125478,
          0.0207838245745068,
          0.020690639896814498,
          0.020597873014418986,
          0.020505522054127014,
          0.020413585151143818,
          0.02032206044903548,
          0.02023094609969144,
          0.020140240263287177,
          0.02004994110824706,
          0.01996004681120736,
          0.019870555556979443,
          0.019781465538513097,
          0.019692774956860056,
          0.01960448202113768,
          0.019516584948492784,
          0.01942908196406563,
          0.01934197130095411,
          0.01925525120017805,
          0.0191689199106437,
          0.019082975689108366,
          0.018997416800145224,
          0.01891224151610827,
          0.018827448117097422,
          0.018743034890923823,
          0.018659000133075233,
          0.01857534214668162,
          0.018492059242480922,
          0.0184091497387849,
          0.0183266119614452,
          0.01824444424381955,
          0.018162644926738088,
          0.018081212358469885,
          0.01800014489468958,
          0.01791944089844416,
          0.017839098740119942,
          0.01775911679740964,
          0.017679493455279603,
          0.017600227105937234,
          0.017521316148798486,
          0.01744275899045558,
          0.0173645540446448,
          0.01728669973221447,
          0.017209194481093083,
          0.017132036726257537,
          0.017055224909701537,
          0.016978757480404158,
          0.016902632894298483,
          0.01682684961424047,
          0.01675140610997787,
          0.016676300858119376,
          0.01660153234210381,
          0.01652709905216954,
          0.01645299948532397,
          0.016379232145313217,
          0.01630579554259186,
          0.016232688194292896,
          0.016159908624197784,
          0.016087455362706633,
          0.016015326946808538
         ],
         "type": "scatter"
        },
        {
         "legendgroup": "253",
         "marker": {
          "color": "#818cff"
         },
         "mode": "lines+markers",
         "name": "Mn of 253",
         "x": [
          1.0055555555555555,
          2.011111111111111,
          4.018055555555556,
          6.008333333333334,
          8.016666666666667,
          10.011111111111111,
          15.016666666666667
         ],
         "y": [
          0.0026,
          0.0031,
          0.0051,
          0.007,
          0.0088,
          0.0092,
          0.0129
         ],
         "type": "scatter"
        },
        {
         "legendgroup": "253",
         "marker": {
          "color": "#4550c3"
         },
         "mode": "lines+markers",
         "name": "Mw of 253",
         "opacity": 0.5,
         "x": [
          1.0055555555555555,
          2.011111111111111,
          4.018055555555556,
          6.008333333333334,
          8.016666666666667,
          10.011111111111111,
          15.016666666666667
         ],
         "y": [
          0.0029,
          0.0034,
          0.0058,
          0.0083,
          0.0108,
          0.012,
          0.017
         ],
         "type": "scatter"
        }
       ],
       "layout": {
        "template": {
         "data": {
          "histogram2dcontour": [
           {
            "type": "histogram2dcontour",
            "colorbar": {
             "outlinewidth": 0,
             "ticks": ""
            },
            "colorscale": [
             [
              0.0,
              "#0d0887"
             ],
             [
              0.1111111111111111,
              "#46039f"
             ],
             [
              0.2222222222222222,
              "#7201a8"
             ],
             [
              0.3333333333333333,
              "#9c179e"
             ],
             [
              0.4444444444444444,
              "#bd3786"
             ],
             [
              0.5555555555555556,
              "#d8576b"
             ],
             [
              0.6666666666666666,
              "#ed7953"
             ],
             [
              0.7777777777777778,
              "#fb9f3a"
             ],
             [
              0.8888888888888888,
              "#fdca26"
             ],
             [
              1.0,
              "#f0f921"
             ]
            ]
           }
          ],
          "choropleth": [
           {
            "type": "choropleth",
            "colorbar": {
             "outlinewidth": 0,
             "ticks": ""
            }
           }
          ],
          "histogram2d": [
           {
            "type": "histogram2d",
            "colorbar": {
             "outlinewidth": 0,
             "ticks": ""
            },
            "colorscale": [
             [
              0.0,
              "#0d0887"
             ],
             [
              0.1111111111111111,
              "#46039f"
             ],
             [
              0.2222222222222222,
              "#7201a8"
             ],
             [
              0.3333333333333333,
              "#9c179e"
             ],
             [
              0.4444444444444444,
              "#bd3786"
             ],
             [
              0.5555555555555556,
              "#d8576b"
             ],
             [
              0.6666666666666666,
              "#ed7953"
             ],
             [
              0.7777777777777778,
              "#fb9f3a"
             ],
             [
              0.8888888888888888,
              "#fdca26"
             ],
             [
              1.0,
              "#f0f921"
             ]
            ]
           }
          ],
          "heatmap": [
           {
            "type": "heatmap",
            "colorbar": {
             "outlinewidth": 0,
             "ticks": ""
            },
            "colorscale": [
             [
              0.0,
              "#0d0887"
             ],
             [
              0.1111111111111111,
              "#46039f"
             ],
             [
              0.2222222222222222,
              "#7201a8"
             ],
             [
              0.3333333333333333,
              "#9c179e"
             ],
             [
              0.4444444444444444,
              "#bd3786"
             ],
             [
              0.5555555555555556,
              "#d8576b"
             ],
             [
              0.6666666666666666,
              "#ed7953"
             ],
             [
              0.7777777777777778,
              "#fb9f3a"
             ],
             [
              0.8888888888888888,
              "#fdca26"
             ],
             [
              1.0,
              "#f0f921"
             ]
            ]
           }
          ],
          "heatmapgl": [
           {
            "type": "heatmapgl",
            "colorbar": {
             "outlinewidth": 0,
             "ticks": ""
            },
            "colorscale": [
             [
              0.0,
              "#0d0887"
             ],
             [
              0.1111111111111111,
              "#46039f"
             ],
             [
              0.2222222222222222,
              "#7201a8"
             ],
             [
              0.3333333333333333,
              "#9c179e"
             ],
             [
              0.4444444444444444,
              "#bd3786"
             ],
             [
              0.5555555555555556,
              "#d8576b"
             ],
             [
              0.6666666666666666,
              "#ed7953"
             ],
             [
              0.7777777777777778,
              "#fb9f3a"
             ],
             [
              0.8888888888888888,
              "#fdca26"
             ],
             [
              1.0,
              "#f0f921"
             ]
            ]
           }
          ],
          "contourcarpet": [
           {
            "type": "contourcarpet",
            "colorbar": {
             "outlinewidth": 0,
             "ticks": ""
            }
           }
          ],
          "contour": [
           {
            "type": "contour",
            "colorbar": {
             "outlinewidth": 0,
             "ticks": ""
            },
            "colorscale": [
             [
              0.0,
              "#0d0887"
             ],
             [
              0.1111111111111111,
              "#46039f"
             ],
             [
              0.2222222222222222,
              "#7201a8"
             ],
             [
              0.3333333333333333,
              "#9c179e"
             ],
             [
              0.4444444444444444,
              "#bd3786"
             ],
             [
              0.5555555555555556,
              "#d8576b"
             ],
             [
              0.6666666666666666,
              "#ed7953"
             ],
             [
              0.7777777777777778,
              "#fb9f3a"
             ],
             [
              0.8888888888888888,
              "#fdca26"
             ],
             [
              1.0,
              "#f0f921"
             ]
            ]
           }
          ],
          "surface": [
           {
            "type": "surface",
            "colorbar": {
             "outlinewidth": 0,
             "ticks": ""
            },
            "colorscale": [
             [
              0.0,
              "#0d0887"
             ],
             [
              0.1111111111111111,
              "#46039f"
             ],
             [
              0.2222222222222222,
              "#7201a8"
             ],
             [
              0.3333333333333333,
              "#9c179e"
             ],
             [
              0.4444444444444444,
              "#bd3786"
             ],
             [
              0.5555555555555556,
              "#d8576b"
             ],
             [
              0.6666666666666666,
              "#ed7953"
             ],
             [
              0.7777777777777778,
              "#fb9f3a"
             ],
             [
              0.8888888888888888,
              "#fdca26"
             ],
             [
              1.0,
              "#f0f921"
             ]
            ]
           }
          ],
          "mesh3d": [
           {
            "type": "mesh3d",
            "colorbar": {
             "outlinewidth": 0,
             "ticks": ""
            }
           }
          ],
          "scatter": [
           {
            "fillpattern": {
             "fillmode": "overlay",
             "size": 10,
             "solidity": 0.2
            },
            "type": "scatter"
           }
          ],
          "parcoords": [
           {
            "type": "parcoords",
            "line": {
             "colorbar": {
              "outlinewidth": 0,
              "ticks": ""
             }
            }
           }
          ],
          "scatterpolargl": [
           {
            "type": "scatterpolargl",
            "marker": {
             "colorbar": {
              "outlinewidth": 0,
              "ticks": ""
             }
            }
           }
          ],
          "bar": [
           {
            "error_x": {
             "color": "#2a3f5f"
            },
            "error_y": {
             "color": "#2a3f5f"
            },
            "marker": {
             "line": {
              "color": "#E5ECF6",
              "width": 0.5
             },
             "pattern": {
              "fillmode": "overlay",
              "size": 10,
              "solidity": 0.2
             }
            },
            "type": "bar"
           }
          ],
          "scattergeo": [
           {
            "type": "scattergeo",
            "marker": {
             "colorbar": {
              "outlinewidth": 0,
              "ticks": ""
             }
            }
           }
          ],
          "scatterpolar": [
           {
            "type": "scatterpolar",
            "marker": {
             "colorbar": {
              "outlinewidth": 0,
              "ticks": ""
             }
            }
           }
          ],
          "histogram": [
           {
            "marker": {
             "pattern": {
              "fillmode": "overlay",
              "size": 10,
              "solidity": 0.2
             }
            },
            "type": "histogram"
           }
          ],
          "scattergl": [
           {
            "type": "scattergl",
            "marker": {
             "colorbar": {
              "outlinewidth": 0,
              "ticks": ""
             }
            }
           }
          ],
          "scatter3d": [
           {
            "type": "scatter3d",
            "line": {
             "colorbar": {
              "outlinewidth": 0,
              "ticks": ""
             }
            },
            "marker": {
             "colorbar": {
              "outlinewidth": 0,
              "ticks": ""
             }
            }
           }
          ],
          "scattermapbox": [
           {
            "type": "scattermapbox",
            "marker": {
             "colorbar": {
              "outlinewidth": 0,
              "ticks": ""
             }
            }
           }
          ],
          "scatterternary": [
           {
            "type": "scatterternary",
            "marker": {
             "colorbar": {
              "outlinewidth": 0,
              "ticks": ""
             }
            }
           }
          ],
          "scattercarpet": [
           {
            "type": "scattercarpet",
            "marker": {
             "colorbar": {
              "outlinewidth": 0,
              "ticks": ""
             }
            }
           }
          ],
          "carpet": [
           {
            "aaxis": {
             "endlinecolor": "#2a3f5f",
             "gridcolor": "white",
             "linecolor": "white",
             "minorgridcolor": "white",
             "startlinecolor": "#2a3f5f"
            },
            "baxis": {
             "endlinecolor": "#2a3f5f",
             "gridcolor": "white",
             "linecolor": "white",
             "minorgridcolor": "white",
             "startlinecolor": "#2a3f5f"
            },
            "type": "carpet"
           }
          ],
          "table": [
           {
            "cells": {
             "fill": {
              "color": "#EBF0F8"
             },
             "line": {
              "color": "white"
             }
            },
            "header": {
             "fill": {
              "color": "#C8D4E3"
             },
             "line": {
              "color": "white"
             }
            },
            "type": "table"
           }
          ],
          "barpolar": [
           {
            "marker": {
             "line": {
              "color": "#E5ECF6",
              "width": 0.5
             },
             "pattern": {
              "fillmode": "overlay",
              "size": 10,
              "solidity": 0.2
             }
            },
            "type": "barpolar"
           }
          ],
          "pie": [
           {
            "automargin": true,
            "type": "pie"
           }
          ]
         },
         "layout": {
          "autotypenumbers": "strict",
          "colorway": [
           "#636efa",
           "#EF553B",
           "#00cc96",
           "#ab63fa",
           "#FFA15A",
           "#19d3f3",
           "#FF6692",
           "#B6E880",
           "#FF97FF",
           "#FECB52"
          ],
          "font": {
           "color": "#2a3f5f"
          },
          "hovermode": "closest",
          "hoverlabel": {
           "align": "left"
          },
          "paper_bgcolor": "white",
          "plot_bgcolor": "#E5ECF6",
          "polar": {
           "bgcolor": "#E5ECF6",
           "angularaxis": {
            "gridcolor": "white",
            "linecolor": "white",
            "ticks": ""
           },
           "radialaxis": {
            "gridcolor": "white",
            "linecolor": "white",
            "ticks": ""
           }
          },
          "ternary": {
           "bgcolor": "#E5ECF6",
           "aaxis": {
            "gridcolor": "white",
            "linecolor": "white",
            "ticks": ""
           },
           "baxis": {
            "gridcolor": "white",
            "linecolor": "white",
            "ticks": ""
           },
           "caxis": {
            "gridcolor": "white",
            "linecolor": "white",
            "ticks": ""
           }
          },
          "coloraxis": {
           "colorbar": {
            "outlinewidth": 0,
            "ticks": ""
           }
          },
          "colorscale": {
           "sequential": [
            [
             0.0,
             "#0d0887"
            ],
            [
             0.1111111111111111,
             "#46039f"
            ],
            [
             0.2222222222222222,
             "#7201a8"
            ],
            [
             0.3333333333333333,
             "#9c179e"
            ],
            [
             0.4444444444444444,
             "#bd3786"
            ],
            [
             0.5555555555555556,
             "#d8576b"
            ],
            [
             0.6666666666666666,
             "#ed7953"
            ],
            [
             0.7777777777777778,
             "#fb9f3a"
            ],
            [
             0.8888888888888888,
             "#fdca26"
            ],
            [
             1.0,
             "#f0f921"
            ]
           ],
           "sequentialminus": [
            [
             0.0,
             "#0d0887"
            ],
            [
             0.1111111111111111,
             "#46039f"
            ],
            [
             0.2222222222222222,
             "#7201a8"
            ],
            [
             0.3333333333333333,
             "#9c179e"
            ],
            [
             0.4444444444444444,
             "#bd3786"
            ],
            [
             0.5555555555555556,
             "#d8576b"
            ],
            [
             0.6666666666666666,
             "#ed7953"
            ],
            [
             0.7777777777777778,
             "#fb9f3a"
            ],
            [
             0.8888888888888888,
             "#fdca26"
            ],
            [
             1.0,
             "#f0f921"
            ]
           ],
           "diverging": [
            [
             0,
             "#8e0152"
            ],
            [
             0.1,
             "#c51b7d"
            ],
            [
             0.2,
             "#de77ae"
            ],
            [
             0.3,
             "#f1b6da"
            ],
            [
             0.4,
             "#fde0ef"
            ],
            [
             0.5,
             "#f7f7f7"
            ],
            [
             0.6,
             "#e6f5d0"
            ],
            [
             0.7,
             "#b8e186"
            ],
            [
             0.8,
             "#7fbc41"
            ],
            [
             0.9,
             "#4d9221"
            ],
            [
             1,
             "#276419"
            ]
           ]
          },
          "xaxis": {
           "gridcolor": "white",
           "linecolor": "white",
           "ticks": "",
           "title": {
            "standoff": 15
           },
           "zerolinecolor": "white",
           "automargin": true,
           "zerolinewidth": 2
          },
          "yaxis": {
           "gridcolor": "white",
           "linecolor": "white",
           "ticks": "",
           "title": {
            "standoff": 15
           },
           "zerolinecolor": "white",
           "automargin": true,
           "zerolinewidth": 2
          },
          "scene": {
           "xaxis": {
            "backgroundcolor": "#E5ECF6",
            "gridcolor": "white",
            "linecolor": "white",
            "showbackground": true,
            "ticks": "",
            "zerolinecolor": "white",
            "gridwidth": 2
           },
           "yaxis": {
            "backgroundcolor": "#E5ECF6",
            "gridcolor": "white",
            "linecolor": "white",
            "showbackground": true,
            "ticks": "",
            "zerolinecolor": "white",
            "gridwidth": 2
           },
           "zaxis": {
            "backgroundcolor": "#E5ECF6",
            "gridcolor": "white",
            "linecolor": "white",
            "showbackground": true,
            "ticks": "",
            "zerolinecolor": "white",
            "gridwidth": 2
           }
          },
          "shapedefaults": {
           "line": {
            "color": "#2a3f5f"
           }
          },
          "annotationdefaults": {
           "arrowcolor": "#2a3f5f",
           "arrowhead": 0,
           "arrowwidth": 1
          },
          "geo": {
           "bgcolor": "white",
           "landcolor": "#E5ECF6",
           "subunitcolor": "white",
           "showland": true,
           "showlakes": true,
           "lakecolor": "white"
          },
          "title": {
           "x": 0.05
          },
          "mapbox": {
           "style": "light"
          }
         }
        },
        "xaxis": {
         "anchor": "y",
         "domain": [
          0.0,
          1.0
         ],
         "title": {
          "text": "Time [h]"
         }
        },
        "yaxis": {
         "anchor": "x",
         "domain": [
          0.0,
          1.0
         ],
         "range": [
          -0.1,
          1
         ],
         "title": {
          "text": "Conversion [%]"
         }
        },
        "legend": {
         "tracegroupgap": 0
        },
        "title": {
         "text": "Kinetic Curve Fit for ['145', '90', '253']"
        }
       },
       "config": {
        "plotlyServerURL": "https://plot.ly"
       }
      },
      "text/html": "<div>                            <div id=\"f2fcb757-493e-410c-9f3f-8c53abb7250c\" class=\"plotly-graph-div\" style=\"height:525px; width:100%;\"></div>            <script type=\"text/javascript\">                require([\"plotly\"], function(Plotly) {                    window.PLOTLYENV=window.PLOTLYENV || {};                                    if (document.getElementById(\"f2fcb757-493e-410c-9f3f-8c53abb7250c\")) {                    Plotly.newPlot(                        \"f2fcb757-493e-410c-9f3f-8c53abb7250c\",                        [{\"hovertemplate\":\"\\u003cextra\\u003e\\u003c\\u002fextra\\u003e\",\"legendgroup\":\"\",\"line\":{\"color\":\"#636efa\",\"dash\":\"solid\"},\"marker\":{\"symbol\":\"circle\"},\"mode\":\"lines\",\"name\":\"\",\"orientation\":\"v\",\"showlegend\":false,\"xaxis\":\"x\",\"yaxis\":\"y\",\"type\":\"scatter\"},{\"legendgroup\":\"90\",\"marker\":{\"color\":\"#FF97FF\"},\"mode\":\"lines+markers\",\"name\":\"90\",\"x\":[0.0,1.2513888888888889,2.2416666666666667,4.273611111111111,8.338888888888889,15.381944444444445],\"y\":[0.0,0.012452830188679265,0.024150943396226476,0.021132075471698153,0.01886792452830177,0.02981132075471693],\"type\":\"scatter\"},{\"legendgroup\":\"90\",\"line\":{\"dash\":\"dot\"},\"marker\":{\"color\":\"#FF97FF\"},\"name\":\"neg_growth fit\",\"opacity\":1,\"showlegend\":false,\"x\":[-1.0,-0.8232323232323232,-0.6464646464646464,-0.4696969696969697,-0.29292929292929293,-0.11616161616161613,0.06060606060606055,0.23737373737373746,0.41414141414141414,0.5909090909090908,0.7676767676767677,0.9444444444444444,1.121212121212121,1.297979797979798,1.474747474747475,1.6515151515151514,1.8282828282828283,2.005050505050505,2.1818181818181817,2.3585858585858586,2.5353535353535355,2.712121212121212,2.888888888888889,3.0656565656565657,3.242424242424242,3.4191919191919196,3.595959595959596,3.7727272727272725,3.94949494949495,4.126262626262626,4.303030303030303,4.47979797979798,4.656565656565657,4.833333333333333,5.01010101010101,5.186868686868687,5.363636363636363,5.540404040404041,5.717171717171717,5.893939393939394,6.070707070707071,6.247474747474747,6.424242424242424,6.601010101010101,6.777777777777778,6.954545454545454,7.1313131313131315,7.308080808080808,7.484848484848484,7.661616161616161,7.838383838383839,8.015151515151516,8.191919191919192,8.368686868686869,8.545454545454545,8.722222222222221,8.8989898989899,9.075757575757576,9.252525252525253,9.429292929292929,9.606060606060606,9.782828282828282,9.95959595959596,10.136363636363637,10.313131313131313,10.48989898989899,10.666666666666666,10.843434343434344,11.02020202020202,11.196969696969697,11.373737373737374,11.55050505050505,11.727272727272727,11.904040404040405,12.080808080808081,12.257575757575758,12.434343434343434,12.61111111111111,12.787878787878787,12.964646464646465,13.141414141414142,13.318181818181818,13.494949494949495,13.671717171717171,13.848484848484848,14.025252525252526,14.202020202020202,14.378787878787879,14.555555555555555,14.732323232323232,14.909090909090908,15.085858585858585,15.262626262626263,15.439393939393938,15.616161616161616,15.792929292929294,15.969696969696969,16.146464646464647,16.32323232323232,16.5],\"y\":[-0.028461837484944602,-0.02169982888194698,-0.015805890777271174,-0.010668584923157094,-0.006190778918072395,-0.0022878096986876065,0.0011141172070710085,0.004079322931636937,0.006663871404478933,0.008916629367654583,0.010880190312236464,0.01259167980472158,0.014083457429943548,0.01538372862230802,0.01651707795340646,0.017504933959018264,0.018365974294108522,0.019116478876194026,0.019770637694052764,0.020340819101597574,0.020837803669617242,0.021270988016881813,0.02164856247450081,0.021977665942681312,0.022264520867803724,0.022514550891862467,0.02273248339870068,0.02292243889590781,0.0230880089223472,0.023232323954332033,0.02335811259436953,0.02346775316157077,0.02356331865915964,0.023646615969293443,0.02371922001626212,0.02378250354399863,0.02383766307091186,0.02388574151277685,0.023927647901419404,0.02396417457202142,0.023996012144011897,0.02402376257879127,0.02404795056117493,0.02406903341974791,0.02408740977369749,0.024103427069611667,0.02411738815074377,0.024129556982950006,0.024140163645561753,0.0241494086815564,0.02415746688927648,0.02416449062738822,0.02417061269556715,0.02417594884537672,0.024180599968813762,0.02418465400590017,0.024188187607388154,0.024191267584016338,0.02419395216971803,0.02419629212266566,0.024198331684968946,0.024200109419172198,0.02420165893736652,0.024203009536702545,0.024204186753319396,0.024205212845163238,0.02420610721282415,0.024206886766348214,0.02420756624496025,0.024208158495742215,0.024208674716536403,0.024209124667666,0.02420951685647612,0.024209858698184386,0.024210156656082463,0.02421041636373919,0.024210642731515974,0.02421084003940829,0.02421101201796868,0.024211161918841297,0.024211292576241623,0.02421140646054371,0.024211505724988192,0.024211592246394204,0.024211667660644864,0.024211733393617374,0.024211790688142443,0.024211840627502815,0.0242118841559152,0.02421192209638282,0.02421195516625612,0.02421198399079596,0.02421200911499554,0.024212031013884756,0.024212050101511697,0.02421206673877118,0.024212081240228275,0.024212093880065868,0.024212104897268712,0.024212114500141983],\"type\":\"scatter\"},{\"legendgroup\":\"90\",\"line\":{\"dash\":\"dash\"},\"marker\":{\"color\":\"#FF97FF\"},\"name\":\"neg_growth_derivative\",\"opacity\":0.3,\"showlegend\":false,\"x\":[-1.0,-0.8232323232323232,-0.6464646464646464,-0.4696969696969697,-0.29292929292929293,-0.11616161616161613,0.06060606060606055,0.23737373737373746,0.41414141414141414,0.5909090909090908,0.7676767676767677,0.9444444444444444,1.121212121212121,1.297979797979798,1.474747474747475,1.6515151515151514,1.8282828282828283,2.005050505050505,2.1818181818181817,2.3585858585858586,2.5353535353535355,2.712121212121212,2.888888888888889,3.0656565656565657,3.242424242424242,3.4191919191919196,3.595959595959596,3.7727272727272725,3.94949494949495,4.126262626262626,4.303030303030303,4.47979797979798,4.656565656565657,4.833333333333333,5.01010101010101,5.186868686868687,5.363636363636363,5.540404040404041,5.717171717171717,5.893939393939394,6.070707070707071,6.247474747474747,6.424242424242424,6.601010101010101,6.777777777777778,6.954545454545454,7.1313131313131315,7.308080808080808,7.484848484848484,7.661616161616161,7.838383838383839,8.015151515151516,8.191919191919192,8.368686868686869,8.545454545454545,8.722222222222221,8.8989898989899,9.075757575757576,9.252525252525253,9.429292929292929,9.606060606060606,9.782828282828282,9.95959595959596,10.136363636363637,10.313131313131313,10.48989898989899,10.666666666666666,10.843434343434344,11.02020202020202,11.196969696969697,11.373737373737374,11.55050505050505,11.727272727272727,11.904040404040405,12.080808080808081,12.257575757575758,12.434343434343434,12.61111111111111,12.787878787878787,12.964646464646465,13.141414141414142,13.318181818181818,13.494949494949495,13.671717171717171,13.848484848484848,14.025252525252526,14.202020202020202,14.378787878787879,14.555555555555555,14.732323232323232,14.909090909090908,15.085858585858585,15.262626262626263,15.439393939393938,15.616161616161616,15.792929292929294,15.969696969696969,16.146464646464647,16.32323232323232,16.5],\"y\":[0.040941749056018946,0.03568586628629433,0.03110470563582483,0.02711164988764463,0.023631201279835846,0.020597554049361113,0.01795335022508426,0.01564859514542848,0.013639712196077238,0.011888718895393472,0.01036250874958604,0.00903222529946893,0.007872716523749676,0.0068620592831055045,0.005981144813585524,0.005213317432152969,0.004544059623277568,0.003960717552426913,0.003452261816667719,0.0030090789088252764,0.0026227894523587975,0.002286089770271291,0.00199261379255543,0.0017368126912229492,0.001513849967145197,0.001319510005083979,0.0011501183679384585,0.0010024723231903325,0.0008737802879924052,0.0007616090479728211,0.0006638377518069034,0.0005786178117198126,0.0005043379517482017,0.0004395937429191,0.00038316104933959613,0.00033397288313550676,0.00029109923062922466,0.000253729468324961,0.00022115703623575364,0.00019276607876677924,0.00016801980057061728,0.00014645031721553705,0.0001276498087707059,0.00011126280904681487,9.697948470275286e-05,8.452977714461826e-05,7.367829645640502e-05,6.421987082055763e-05,5.597566728011101e-05,4.878981049663968e-05,4.252643557397697e-05,3.7067119224662155e-05,3.230864070949993e-05,2.8161030215724034e-05,2.4545867773933846e-05,2.1394800550976715e-05,1.8648250484839706e-05,1.6254287826462063e-05,1.4167649290224749e-05,1.234888224902903e-05,1.0763598793033446e-05,9.381825548340662e-06,8.177436962483778e-06,7.127661341690918e-06,6.212650300443821e-06,5.41510348279933e-06,4.719941459980563e-06,4.114020619625696e-06,3.5858846560302794e-06,3.125547962742899e-06,2.724306832061085e-06,2.3745748917260167e-06,2.0697396673742965e-06,1.8040375587349238e-06,1.5724448657134973e-06,1.3705828039648057e-06,1.194634714058266e-06,1.0412738988878481e-06,9.07600724929393e-07,7.910877981020839e-07,6.895321776596097e-07,6.010137246063916e-07,5.238587971213791e-07,4.5660860656914736e-07,3.9799163579706095e-07,3.468995982239184e-07,3.0236648317221967e-07,2.635502912486001e-07,2.2971711443844168e-07,2.002272599127871e-07,1.745231551867072e-07,1.5211880594875175e-07,1.3259060723786647e-07,1.155693342322775e-07,1.007331612180549e-07,8.780157674516259e-08,7.653007992322338e-08,6.670555757847061e-08,5.81422548665653e-08,5.0678263156587454e-08],\"type\":\"scatter\"},{\"legendgroup\":\"90\",\"marker\":{\"color\":\"#ffb5ff\"},\"mode\":\"lines+markers\",\"name\":\"Mn of 90\",\"x\":[1.2513888888888889,2.2416666666666667,4.273611111111111,6.2375,8.338888888888889,10.306944444444444,15.381944444444445],\"y\":[0.0027,0.0028,0.0029,0.0032,0.0039,0.0038,0.0035],\"type\":\"scatter\"},{\"legendgroup\":\"90\",\"marker\":{\"color\":\"#c379c3\"},\"mode\":\"lines+markers\",\"name\":\"Mw of 90\",\"opacity\":0.5,\"x\":[1.2513888888888889,2.2416666666666667,4.273611111111111,6.2375,8.338888888888889,10.306944444444444,15.381944444444445],\"y\":[0.0029,0.0034,0.0033,0.0037,0.0044,0.0046,0.0053],\"type\":\"scatter\"},{\"legendgroup\":\"145\",\"marker\":{\"color\":\"#AB63FA\"},\"mode\":\"lines+markers\",\"name\":\"145\",\"x\":[0.0,1.3736111111111111,2.3694444444444445,4.409722222222222,8.501388888888888,15.568055555555556],\"y\":[0.0,0.4283204497540408,0.6370344342937456,0.8341531974701335,0.9307800421644413,0.9581869290231905],\"type\":\"scatter\"},{\"legendgroup\":\"145\",\"line\":{\"dash\":\"dot\"},\"marker\":{\"color\":\"#AB63FA\"},\"name\":\"neg_growth fit\",\"opacity\":1,\"showlegend\":false,\"x\":[-1.0,-0.8232323232323232,-0.6464646464646464,-0.4696969696969697,-0.29292929292929293,-0.11616161616161613,0.06060606060606055,0.23737373737373746,0.41414141414141414,0.5909090909090908,0.7676767676767677,0.9444444444444444,1.121212121212121,1.297979797979798,1.474747474747475,1.6515151515151514,1.8282828282828283,2.005050505050505,2.1818181818181817,2.3585858585858586,2.5353535353535355,2.712121212121212,2.888888888888889,3.0656565656565657,3.242424242424242,3.4191919191919196,3.595959595959596,3.7727272727272725,3.94949494949495,4.126262626262626,4.303030303030303,4.47979797979798,4.656565656565657,4.833333333333333,5.01010101010101,5.186868686868687,5.363636363636363,5.540404040404041,5.717171717171717,5.893939393939394,6.070707070707071,6.247474747474747,6.424242424242424,6.601010101010101,6.777777777777778,6.954545454545454,7.1313131313131315,7.308080808080808,7.484848484848484,7.661616161616161,7.838383838383839,8.015151515151516,8.191919191919192,8.368686868686869,8.545454545454545,8.722222222222221,8.8989898989899,9.075757575757576,9.252525252525253,9.429292929292929,9.606060606060606,9.782828282828282,9.95959595959596,10.136363636363637,10.313131313131313,10.48989898989899,10.666666666666666,10.843434343434344,11.02020202020202,11.196969696969697,11.373737373737374,11.55050505050505,11.727272727272727,11.904040404040405,12.080808080808081,12.257575757575758,12.434343434343434,12.61111111111111,12.787878787878787,12.964646464646465,13.141414141414142,13.318181818181818,13.494949494949495,13.671717171717171,13.848484848484848,14.025252525252526,14.202020202020202,14.378787878787879,14.555555555555555,14.732323232323232,14.909090909090908,15.085858585858585,15.262626262626263,15.439393939393938,15.616161616161616,15.792929292929294,15.969696969696969,16.146464646464647,16.32323232323232,16.5],\"y\":[-0.5451545860520587,-0.4301045859698224,-0.32385920860914896,-0.2257446479620971,-0.1351386634938519,-0.0514666339059932,0.02580208710001454,0.09715753617078272,0.16305224810337846,0.22390412581174238,0.2800990906584126,0.3319935299599045,0.37991655718777556,0.4241720991995232,0.46504082373649314,0.5027819194129475,0.5376347394849511,0.5698203198238199,0.5995427807210917,0.6269906214152359,0.6523379155499646,0.6757454151457167,0.6973615700856808,0.7173234695819144,0.7357577115923203,0.752781205702304,0.7685019145629698,0.7830195385880444,0.7964261482518595,0.8088067679984146,0.8202399154646598,0.8307980994377429,0.8405482797042513,0.8495522917078089,0.8578672387081935,0.8655458539290398,0.8726368349908662,0.8791851527503848,0.8852323365047555,0.8908167373695378,0.8959737715006807,0.9007361447030579,0.9051340598500135,0.9091954084293663,0.912945947430654,0.9164094626954337,0.9196079197666023,0.9225616031934194,0.9252892451757041,0.9278081443630618,0.9301342755625666,0.93228239105066,0.9342661141317872,0.9360980255371133,0.9377897432112643,0.9393519959930934,0.940794691657757,0.9421269797516224,0.9433573096185038,0.9444934839852267,0.9455427084463629,0.946511637161963,0.9474064150581032,0.9482327167978811,0.9489957827700128,0.9497004523232702,0.9503511944575326,0.9509521361660922,0.9515070886089609,0.9520195712831694,0.9524928343433444,0.9529298792141244,0.9533334776251317,0.9537061891892253,0.954050377635514,0.9543682258000771,0.9546617494694666,0.9549328101647843,0.9551831269474099,0.955414287321254,0.9556277573006746,0.9558248907079107,0.9560069377589948,0.9561750529925975,0.9563303025920884,0.956473671147249,0.9566060678985205,0.9567283325033892,0.9568412403614754,0.9569455075321037,0.9570417952755355,0.957130714246668,0.9572128283677958,0.9572886584049936,0.957358685270805,0.9574233530741793,0.9574830719370012,0.9575382205950763,0.9575891488000648,0.9576361795376002],\"type\":\"scatter\"},{\"legendgroup\":\"145\",\"line\":{\"dash\":\"dash\"},\"marker\":{\"color\":\"#AB63FA\"},\"name\":\"neg_growth_derivative\",\"opacity\":0.3,\"showlegend\":false,\"x\":[-1.0,-0.8232323232323232,-0.6464646464646464,-0.4696969696969697,-0.29292929292929293,-0.11616161616161613,0.06060606060606055,0.23737373737373746,0.41414141414141414,0.5909090909090908,0.7676767676767677,0.9444444444444444,1.121212121212121,1.297979797979798,1.474747474747475,1.6515151515151514,1.8282828282828283,2.005050505050505,2.1818181818181817,2.3585858585858586,2.5353535353535355,2.712121212121212,2.888888888888889,3.0656565656565657,3.242424242424242,3.4191919191919196,3.595959595959596,3.7727272727272725,3.94949494949495,4.126262626262626,4.303030303030303,4.47979797979798,4.656565656565657,4.833333333333333,5.01010101010101,5.186868686868687,5.363636363636363,5.540404040404041,5.717171717171717,5.893939393939394,6.070707070707071,6.247474747474747,6.424242424242424,6.601010101010101,6.777777777777778,6.954545454545454,7.1313131313131315,7.308080808080808,7.484848484848484,7.661616161616161,7.838383838383839,8.015151515151516,8.191919191919192,8.368686868686869,8.545454545454545,8.722222222222221,8.8989898989899,9.075757575757576,9.252525252525253,9.429292929292929,9.606060606060606,9.782828282828282,9.95959595959596,10.136363636363637,10.313131313131313,10.48989898989899,10.666666666666666,10.843434343434344,11.02020202020202,11.196969696969697,11.373737373737374,11.55050505050505,11.727272727272727,11.904040404040405,12.080808080808081,12.257575757575758,12.434343434343434,12.61111111111111,12.787878787878787,12.964646464646465,13.141414141414142,13.318181818181818,13.494949494949495,13.671717171717171,13.848484848484848,14.025252525252526,14.202020202020202,14.378787878787879,14.555555555555555,14.732323232323232,14.909090909090908,15.085858585858585,15.262626262626263,15.439393939393938,15.616161616161616,15.792929292929294,15.969696969696969,16.146464646464647,16.32323232323232,16.5],\"y\":[0.6771070940242078,0.6252889931922597,0.5774364623528984,0.5332460217352786,0.4924374164697636,0.45475183921727963,0.41995028881847024,0.38781205455323714,0.3581333163978721,0.33072585240263974,0.30541584499202584,0.28204277861723226,0.2604584217698529,0.24052588690068233,0.2221187622816812,0.2051203103053855,0.18942272713738972,0.1749264590266366,0.161539570937566,0.14917716350000165,0.137760834579084,0.12721818205053573,0.11748234462787228,0.10849157782949176,0.10018886239643689,0.0925215426774219,0.08544099268777043,0.07890230772441614,0.07286401958119512,0.0672878335583318,0.062138385598236555,0.057383018007376864,0.05299157234185349,0.048936198143166604,0.04519117631117832,0.04173275599410622,0.03853900396110747,0.035589665502178076,0.032866035973196615,0.030350842171454166,0.028028132789356425,0.025883177251557598,0.023902372293953002,0.02207315569205673,0.020383926591631164,0.018823971936306864,0.017383398525598455,0.016053070272429703,0.014824550262256294,0.013690047246326562,0.012642366229741428,0.011674862840944067,0.010781401193251489,0.009956314971186866,0.00919437149482277,0.008490738534232226,0.007840953663585414,0.0072408959605364896,0.006686759871418346,0.006175031076499253,0.005702464202239017,0.0052660622391964736,0.0048630575350569515,0.004490894242237962,0.004147212108756165,0.0038298315095575976,0.003536739623380235,0.0032660776674827367,0.0030161291092823646,0.0027853087801404898,0.0025721528222555318,0.0023753094049067656,0.002193530151171563,0.0020256622207444983,0.0018706409986477559,0.0017274833434647206,0.0015952813522772445,0.0014731966027639386,0.0013604548359429636,0.001256341045837429,0.001160194944922127,0.0010714067765935555,0.0009894134481060355,0.0009136949594490387,0.0008437711055177721,0.0007791984306622328,0.0007195674163005552,0.0006644998837605503,0.0006136465958783073,0.0005666850421432536,0.0005233173933430982,0.00048326861273706396,0.00044628471177851067,0.00041213113932477333,0.00038059129411861233,0.0003514651511074821,0.0003245679928887379,0.00029972923823565114,0.00027679136027476486,0.0002556088874536822],\"type\":\"scatter\"},{\"legendgroup\":\"145\",\"marker\":{\"color\":\"#c981ff\"},\"mode\":\"lines+markers\",\"name\":\"Mn of 145\",\"x\":[0.0,1.3736111111111111,2.3694444444444445,4.409722222222222,6.358333333333333,8.501388888888888,10.466666666666667,15.568055555555556],\"y\":[0.0029,0.094,0.086,0.135,0.096,0.1,0.123,0.111],\"type\":\"scatter\"},{\"legendgroup\":\"145\",\"marker\":{\"color\":\"#8d45c3\"},\"mode\":\"lines+markers\",\"name\":\"Mw of 145\",\"opacity\":0.5,\"x\":[0.0,1.3736111111111111,2.3694444444444445,4.409722222222222,6.358333333333333,8.501388888888888,10.466666666666667,15.568055555555556],\"y\":[0.0033,0.117,0.157,0.2,0.21,0.217,0.22,0.223],\"type\":\"scatter\"},{\"legendgroup\":\"253\",\"marker\":{\"color\":\"#636EFA\"},\"mode\":\"lines+markers\",\"name\":\"253\",\"x\":[0.0,2.011111111111111,4.018055555555556,8.016666666666667,15.016666666666667],\"y\":[0.0,0.05343511450381688,0.09541984732824427,0.1717557251908397,0.30534351145038163],\"type\":\"scatter\"},{\"legendgroup\":\"253\",\"line\":{\"dash\":\"dot\"},\"marker\":{\"color\":\"#636EFA\"},\"name\":\"neg_growth fit\",\"opacity\":1,\"showlegend\":false,\"x\":[-1.0,-0.8232323232323232,-0.6464646464646464,-0.4696969696969697,-0.29292929292929293,-0.11616161616161613,0.06060606060606055,0.23737373737373746,0.41414141414141414,0.5909090909090908,0.7676767676767677,0.9444444444444444,1.121212121212121,1.297979797979798,1.474747474747475,1.6515151515151514,1.8282828282828283,2.005050505050505,2.1818181818181817,2.3585858585858586,2.5353535353535355,2.712121212121212,2.888888888888889,3.0656565656565657,3.242424242424242,3.4191919191919196,3.595959595959596,3.7727272727272725,3.94949494949495,4.126262626262626,4.303030303030303,4.47979797979798,4.656565656565657,4.833333333333333,5.01010101010101,5.186868686868687,5.363636363636363,5.540404040404041,5.717171717171717,5.893939393939394,6.070707070707071,6.247474747474747,6.424242424242424,6.601010101010101,6.777777777777778,6.954545454545454,7.1313131313131315,7.308080808080808,7.484848484848484,7.661616161616161,7.838383838383839,8.015151515151516,8.191919191919192,8.368686868686869,8.545454545454545,8.722222222222221,8.8989898989899,9.075757575757576,9.252525252525253,9.429292929292929,9.606060606060606,9.782828282828282,9.95959595959596,10.136363636363637,10.313131313131313,10.48989898989899,10.666666666666666,10.843434343434344,11.02020202020202,11.196969696969697,11.373737373737374,11.55050505050505,11.727272727272727,11.904040404040405,12.080808080808081,12.257575757575758,12.434343434343434,12.61111111111111,12.787878787878787,12.964646464646465,13.141414141414142,13.318181818181818,13.494949494949495,13.671717171717171,13.848484848484848,14.025252525252526,14.202020202020202,14.378787878787879,14.555555555555555,14.732323232323232,14.909090909090908,15.085858585858585,15.262626262626263,15.439393939393938,15.616161616161616,15.792929292929294,15.969696969696969,16.146464646464647,16.32323232323232,16.5],\"y\":[-0.02467348267389609,-0.020266246801213247,-0.01587877085543109,-0.01151096624253692,-0.007162744765731031,-0.0028340186236454888,0.0014752995914281983,0.005765296895304576,0.010036059913661024,0.014287674883786981,0.018520227656325508,0.022733803697006442,0.026928488088372553,0.031104365531497345,0.03526152034769528,0.03940003648022478,0.04351999749598302,0.047621486587193326,0.051704586573084986,0.05576937990156595,0.059815948650887185,0.06384437453130025,0.0678547388867073,0.07184712269630343,0.07582160657621205,0.07977827078111259,0.08371719520586111,0.08763845938710353,0.09154214250488159,0.095428323384232,0.0992970804967776,0.10314849196231252,0.10698263555037904,0.11079958868183841,0.11459942843043382,0.11838223152434671,0.12214807434774658,0.12589703294233284,0.1296291830088705,0.13334459990871864,0.1370433586653525,0.14072553396587775,0.14439120016253926,0.14804043127422217,0.15167330098794635,0.15528988266035462,0.15889024931919396,0.1624744736647899,0.16604262807151463,0.16959478458924862,0.17313101494483515,0.1766513905435289,0.18015598247043768,0.18364486149195786,0.18711809805720334,0.19057576229942802,0.19401792403744209,0.1974446527770216,0.2008560177123123,0.20425208772722647,0.20763293139683417,0.21099861698874786,0.21434921246450067,0.21768478548091905,0.2210054033914886,0.22431113324771434,0.22760204180047489,0.23087819550136943,0.23413966050406046,0.23738650266560932,0.2406187875478058,0.24383658041849227,0.24703994625288136,0.250228949734868,0.25340365525833586,0.2565641269284572,0.25971042856298765,0.26284262369355466,0.26596077556694026,0.26906494714635865,0.2721552011127269,0.27523159986593104,0.27829420552608625,0.28134307993479063,0.28437828465637466,0.2873998809791437,0.29040792991661585,0.29340249220875403,0.29638362832319215,0.29935139845645664,0.3023058625351812,0.3052470802173179,0.30817511089334076,0.31109001368744554,0.31399184745874387,0.31688067080245086,0.31975654205106924,0.32261951927556687,0.3254696602865491,0.3283070226354263],\"type\":\"scatter\"},{\"legendgroup\":\"253\",\"line\":{\"dash\":\"dash\"},\"marker\":{\"color\":\"#636EFA\"},\"name\":\"neg_growth_derivative\",\"opacity\":0.3,\"showlegend\":false,\"x\":[-1.0,-0.8232323232323232,-0.6464646464646464,-0.4696969696969697,-0.29292929292929293,-0.11616161616161613,0.06060606060606055,0.23737373737373746,0.41414141414141414,0.5909090909090908,0.7676767676767677,0.9444444444444444,1.121212121212121,1.297979797979798,1.474747474747475,1.6515151515151514,1.8282828282828283,2.005050505050505,2.1818181818181817,2.3585858585858586,2.5353535353535355,2.712121212121212,2.888888888888889,3.0656565656565657,3.242424242424242,3.4191919191919196,3.595959595959596,3.7727272727272725,3.94949494949495,4.126262626262626,4.303030303030303,4.47979797979798,4.656565656565657,4.833333333333333,5.01010101010101,5.186868686868687,5.363636363636363,5.540404040404041,5.717171717171717,5.893939393939394,6.070707070707071,6.247474747474747,6.424242424242424,6.601010101010101,6.777777777777778,6.954545454545454,7.1313131313131315,7.308080808080808,7.484848484848484,7.661616161616161,7.838383838383839,8.015151515151516,8.191919191919192,8.368686868686869,8.545454545454545,8.722222222222221,8.8989898989899,9.075757575757576,9.252525252525253,9.429292929292929,9.606060606060606,9.782828282828282,9.95959595959596,10.136363636363637,10.313131313131313,10.48989898989899,10.666666666666666,10.843434343434344,11.02020202020202,11.196969696969697,11.373737373737374,11.55050505050505,11.727272727272727,11.904040404040405,12.080808080808081,12.257575757575758,12.434343434343434,12.61111111111111,12.787878787878787,12.964646464646465,13.141414141414142,13.318181818181818,13.494949494949495,13.671717171717171,13.848484848484848,14.025252525252526,14.202020202020202,14.378787878787879,14.555555555555555,14.732323232323232,14.909090909090908,15.085858585858585,15.262626262626263,15.439393939393938,15.616161616161616,15.792929292929294,15.969696969696969,16.146464646464647,16.32323232323232,16.5],\"y\":[0.024988422928344384,0.02487638685296907,0.024764853093495066,0.02465381939777935,0.02454328352377644,0.024433243239493096,0.024323696322943265,0.024214640562103217,0.02410607375486687,0.023997993709001325,0.0238903982421026,0.023783285181551574,0.02367665236447009,0.023570497637677306,0.023464818857646213,0.023359613890460335,0.023254880611770657,0.023150616906752724,0.02304682067006394,0.02294348980580104,0.022840622227457804,0.022738215857882882,0.022636268629237878,0.0225347784829556,0.02243374336969847,0.022333161249317154,0.02223303009080937,0.022133347872278882,0.02203411258089465,0.02193532221285021,0.021836974773323203,0.021739068276435087,0.021641600745211056,0.021544570211540097,0.021447974716135264,0.021351812308494124,0.02125608104685934,0.021160778998179492,0.021065904238070032,0.02097145485077443,0.020877428929125478,0.0207838245745068,0.020690639896814498,0.020597873014418986,0.020505522054127014,0.020413585151143818,0.02032206044903548,0.02023094609969144,0.020140240263287177,0.02004994110824706,0.01996004681120736,0.019870555556979443,0.019781465538513097,0.019692774956860056,0.01960448202113768,0.019516584948492784,0.01942908196406563,0.01934197130095411,0.01925525120017805,0.0191689199106437,0.019082975689108366,0.018997416800145224,0.01891224151610827,0.018827448117097422,0.018743034890923823,0.018659000133075233,0.01857534214668162,0.018492059242480922,0.0184091497387849,0.0183266119614452,0.01824444424381955,0.018162644926738088,0.018081212358469885,0.01800014489468958,0.01791944089844416,0.017839098740119942,0.01775911679740964,0.017679493455279603,0.017600227105937234,0.017521316148798486,0.01744275899045558,0.0173645540446448,0.01728669973221447,0.017209194481093083,0.017132036726257537,0.017055224909701537,0.016978757480404158,0.016902632894298483,0.01682684961424047,0.01675140610997787,0.016676300858119376,0.01660153234210381,0.01652709905216954,0.01645299948532397,0.016379232145313217,0.01630579554259186,0.016232688194292896,0.016159908624197784,0.016087455362706633,0.016015326946808538],\"type\":\"scatter\"},{\"legendgroup\":\"253\",\"marker\":{\"color\":\"#818cff\"},\"mode\":\"lines+markers\",\"name\":\"Mn of 253\",\"x\":[1.0055555555555555,2.011111111111111,4.018055555555556,6.008333333333334,8.016666666666667,10.011111111111111,15.016666666666667],\"y\":[0.0026,0.0031,0.0051,0.007,0.0088,0.0092,0.0129],\"type\":\"scatter\"},{\"legendgroup\":\"253\",\"marker\":{\"color\":\"#4550c3\"},\"mode\":\"lines+markers\",\"name\":\"Mw of 253\",\"opacity\":0.5,\"x\":[1.0055555555555555,2.011111111111111,4.018055555555556,6.008333333333334,8.016666666666667,10.011111111111111,15.016666666666667],\"y\":[0.0029,0.0034,0.0058,0.0083,0.0108,0.012,0.017],\"type\":\"scatter\"}],                        {\"template\":{\"data\":{\"histogram2dcontour\":[{\"type\":\"histogram2dcontour\",\"colorbar\":{\"outlinewidth\":0,\"ticks\":\"\"},\"colorscale\":[[0.0,\"#0d0887\"],[0.1111111111111111,\"#46039f\"],[0.2222222222222222,\"#7201a8\"],[0.3333333333333333,\"#9c179e\"],[0.4444444444444444,\"#bd3786\"],[0.5555555555555556,\"#d8576b\"],[0.6666666666666666,\"#ed7953\"],[0.7777777777777778,\"#fb9f3a\"],[0.8888888888888888,\"#fdca26\"],[1.0,\"#f0f921\"]]}],\"choropleth\":[{\"type\":\"choropleth\",\"colorbar\":{\"outlinewidth\":0,\"ticks\":\"\"}}],\"histogram2d\":[{\"type\":\"histogram2d\",\"colorbar\":{\"outlinewidth\":0,\"ticks\":\"\"},\"colorscale\":[[0.0,\"#0d0887\"],[0.1111111111111111,\"#46039f\"],[0.2222222222222222,\"#7201a8\"],[0.3333333333333333,\"#9c179e\"],[0.4444444444444444,\"#bd3786\"],[0.5555555555555556,\"#d8576b\"],[0.6666666666666666,\"#ed7953\"],[0.7777777777777778,\"#fb9f3a\"],[0.8888888888888888,\"#fdca26\"],[1.0,\"#f0f921\"]]}],\"heatmap\":[{\"type\":\"heatmap\",\"colorbar\":{\"outlinewidth\":0,\"ticks\":\"\"},\"colorscale\":[[0.0,\"#0d0887\"],[0.1111111111111111,\"#46039f\"],[0.2222222222222222,\"#7201a8\"],[0.3333333333333333,\"#9c179e\"],[0.4444444444444444,\"#bd3786\"],[0.5555555555555556,\"#d8576b\"],[0.6666666666666666,\"#ed7953\"],[0.7777777777777778,\"#fb9f3a\"],[0.8888888888888888,\"#fdca26\"],[1.0,\"#f0f921\"]]}],\"heatmapgl\":[{\"type\":\"heatmapgl\",\"colorbar\":{\"outlinewidth\":0,\"ticks\":\"\"},\"colorscale\":[[0.0,\"#0d0887\"],[0.1111111111111111,\"#46039f\"],[0.2222222222222222,\"#7201a8\"],[0.3333333333333333,\"#9c179e\"],[0.4444444444444444,\"#bd3786\"],[0.5555555555555556,\"#d8576b\"],[0.6666666666666666,\"#ed7953\"],[0.7777777777777778,\"#fb9f3a\"],[0.8888888888888888,\"#fdca26\"],[1.0,\"#f0f921\"]]}],\"contourcarpet\":[{\"type\":\"contourcarpet\",\"colorbar\":{\"outlinewidth\":0,\"ticks\":\"\"}}],\"contour\":[{\"type\":\"contour\",\"colorbar\":{\"outlinewidth\":0,\"ticks\":\"\"},\"colorscale\":[[0.0,\"#0d0887\"],[0.1111111111111111,\"#46039f\"],[0.2222222222222222,\"#7201a8\"],[0.3333333333333333,\"#9c179e\"],[0.4444444444444444,\"#bd3786\"],[0.5555555555555556,\"#d8576b\"],[0.6666666666666666,\"#ed7953\"],[0.7777777777777778,\"#fb9f3a\"],[0.8888888888888888,\"#fdca26\"],[1.0,\"#f0f921\"]]}],\"surface\":[{\"type\":\"surface\",\"colorbar\":{\"outlinewidth\":0,\"ticks\":\"\"},\"colorscale\":[[0.0,\"#0d0887\"],[0.1111111111111111,\"#46039f\"],[0.2222222222222222,\"#7201a8\"],[0.3333333333333333,\"#9c179e\"],[0.4444444444444444,\"#bd3786\"],[0.5555555555555556,\"#d8576b\"],[0.6666666666666666,\"#ed7953\"],[0.7777777777777778,\"#fb9f3a\"],[0.8888888888888888,\"#fdca26\"],[1.0,\"#f0f921\"]]}],\"mesh3d\":[{\"type\":\"mesh3d\",\"colorbar\":{\"outlinewidth\":0,\"ticks\":\"\"}}],\"scatter\":[{\"fillpattern\":{\"fillmode\":\"overlay\",\"size\":10,\"solidity\":0.2},\"type\":\"scatter\"}],\"parcoords\":[{\"type\":\"parcoords\",\"line\":{\"colorbar\":{\"outlinewidth\":0,\"ticks\":\"\"}}}],\"scatterpolargl\":[{\"type\":\"scatterpolargl\",\"marker\":{\"colorbar\":{\"outlinewidth\":0,\"ticks\":\"\"}}}],\"bar\":[{\"error_x\":{\"color\":\"#2a3f5f\"},\"error_y\":{\"color\":\"#2a3f5f\"},\"marker\":{\"line\":{\"color\":\"#E5ECF6\",\"width\":0.5},\"pattern\":{\"fillmode\":\"overlay\",\"size\":10,\"solidity\":0.2}},\"type\":\"bar\"}],\"scattergeo\":[{\"type\":\"scattergeo\",\"marker\":{\"colorbar\":{\"outlinewidth\":0,\"ticks\":\"\"}}}],\"scatterpolar\":[{\"type\":\"scatterpolar\",\"marker\":{\"colorbar\":{\"outlinewidth\":0,\"ticks\":\"\"}}}],\"histogram\":[{\"marker\":{\"pattern\":{\"fillmode\":\"overlay\",\"size\":10,\"solidity\":0.2}},\"type\":\"histogram\"}],\"scattergl\":[{\"type\":\"scattergl\",\"marker\":{\"colorbar\":{\"outlinewidth\":0,\"ticks\":\"\"}}}],\"scatter3d\":[{\"type\":\"scatter3d\",\"line\":{\"colorbar\":{\"outlinewidth\":0,\"ticks\":\"\"}},\"marker\":{\"colorbar\":{\"outlinewidth\":0,\"ticks\":\"\"}}}],\"scattermapbox\":[{\"type\":\"scattermapbox\",\"marker\":{\"colorbar\":{\"outlinewidth\":0,\"ticks\":\"\"}}}],\"scatterternary\":[{\"type\":\"scatterternary\",\"marker\":{\"colorbar\":{\"outlinewidth\":0,\"ticks\":\"\"}}}],\"scattercarpet\":[{\"type\":\"scattercarpet\",\"marker\":{\"colorbar\":{\"outlinewidth\":0,\"ticks\":\"\"}}}],\"carpet\":[{\"aaxis\":{\"endlinecolor\":\"#2a3f5f\",\"gridcolor\":\"white\",\"linecolor\":\"white\",\"minorgridcolor\":\"white\",\"startlinecolor\":\"#2a3f5f\"},\"baxis\":{\"endlinecolor\":\"#2a3f5f\",\"gridcolor\":\"white\",\"linecolor\":\"white\",\"minorgridcolor\":\"white\",\"startlinecolor\":\"#2a3f5f\"},\"type\":\"carpet\"}],\"table\":[{\"cells\":{\"fill\":{\"color\":\"#EBF0F8\"},\"line\":{\"color\":\"white\"}},\"header\":{\"fill\":{\"color\":\"#C8D4E3\"},\"line\":{\"color\":\"white\"}},\"type\":\"table\"}],\"barpolar\":[{\"marker\":{\"line\":{\"color\":\"#E5ECF6\",\"width\":0.5},\"pattern\":{\"fillmode\":\"overlay\",\"size\":10,\"solidity\":0.2}},\"type\":\"barpolar\"}],\"pie\":[{\"automargin\":true,\"type\":\"pie\"}]},\"layout\":{\"autotypenumbers\":\"strict\",\"colorway\":[\"#636efa\",\"#EF553B\",\"#00cc96\",\"#ab63fa\",\"#FFA15A\",\"#19d3f3\",\"#FF6692\",\"#B6E880\",\"#FF97FF\",\"#FECB52\"],\"font\":{\"color\":\"#2a3f5f\"},\"hovermode\":\"closest\",\"hoverlabel\":{\"align\":\"left\"},\"paper_bgcolor\":\"white\",\"plot_bgcolor\":\"#E5ECF6\",\"polar\":{\"bgcolor\":\"#E5ECF6\",\"angularaxis\":{\"gridcolor\":\"white\",\"linecolor\":\"white\",\"ticks\":\"\"},\"radialaxis\":{\"gridcolor\":\"white\",\"linecolor\":\"white\",\"ticks\":\"\"}},\"ternary\":{\"bgcolor\":\"#E5ECF6\",\"aaxis\":{\"gridcolor\":\"white\",\"linecolor\":\"white\",\"ticks\":\"\"},\"baxis\":{\"gridcolor\":\"white\",\"linecolor\":\"white\",\"ticks\":\"\"},\"caxis\":{\"gridcolor\":\"white\",\"linecolor\":\"white\",\"ticks\":\"\"}},\"coloraxis\":{\"colorbar\":{\"outlinewidth\":0,\"ticks\":\"\"}},\"colorscale\":{\"sequential\":[[0.0,\"#0d0887\"],[0.1111111111111111,\"#46039f\"],[0.2222222222222222,\"#7201a8\"],[0.3333333333333333,\"#9c179e\"],[0.4444444444444444,\"#bd3786\"],[0.5555555555555556,\"#d8576b\"],[0.6666666666666666,\"#ed7953\"],[0.7777777777777778,\"#fb9f3a\"],[0.8888888888888888,\"#fdca26\"],[1.0,\"#f0f921\"]],\"sequentialminus\":[[0.0,\"#0d0887\"],[0.1111111111111111,\"#46039f\"],[0.2222222222222222,\"#7201a8\"],[0.3333333333333333,\"#9c179e\"],[0.4444444444444444,\"#bd3786\"],[0.5555555555555556,\"#d8576b\"],[0.6666666666666666,\"#ed7953\"],[0.7777777777777778,\"#fb9f3a\"],[0.8888888888888888,\"#fdca26\"],[1.0,\"#f0f921\"]],\"diverging\":[[0,\"#8e0152\"],[0.1,\"#c51b7d\"],[0.2,\"#de77ae\"],[0.3,\"#f1b6da\"],[0.4,\"#fde0ef\"],[0.5,\"#f7f7f7\"],[0.6,\"#e6f5d0\"],[0.7,\"#b8e186\"],[0.8,\"#7fbc41\"],[0.9,\"#4d9221\"],[1,\"#276419\"]]},\"xaxis\":{\"gridcolor\":\"white\",\"linecolor\":\"white\",\"ticks\":\"\",\"title\":{\"standoff\":15},\"zerolinecolor\":\"white\",\"automargin\":true,\"zerolinewidth\":2},\"yaxis\":{\"gridcolor\":\"white\",\"linecolor\":\"white\",\"ticks\":\"\",\"title\":{\"standoff\":15},\"zerolinecolor\":\"white\",\"automargin\":true,\"zerolinewidth\":2},\"scene\":{\"xaxis\":{\"backgroundcolor\":\"#E5ECF6\",\"gridcolor\":\"white\",\"linecolor\":\"white\",\"showbackground\":true,\"ticks\":\"\",\"zerolinecolor\":\"white\",\"gridwidth\":2},\"yaxis\":{\"backgroundcolor\":\"#E5ECF6\",\"gridcolor\":\"white\",\"linecolor\":\"white\",\"showbackground\":true,\"ticks\":\"\",\"zerolinecolor\":\"white\",\"gridwidth\":2},\"zaxis\":{\"backgroundcolor\":\"#E5ECF6\",\"gridcolor\":\"white\",\"linecolor\":\"white\",\"showbackground\":true,\"ticks\":\"\",\"zerolinecolor\":\"white\",\"gridwidth\":2}},\"shapedefaults\":{\"line\":{\"color\":\"#2a3f5f\"}},\"annotationdefaults\":{\"arrowcolor\":\"#2a3f5f\",\"arrowhead\":0,\"arrowwidth\":1},\"geo\":{\"bgcolor\":\"white\",\"landcolor\":\"#E5ECF6\",\"subunitcolor\":\"white\",\"showland\":true,\"showlakes\":true,\"lakecolor\":\"white\"},\"title\":{\"x\":0.05},\"mapbox\":{\"style\":\"light\"}}},\"xaxis\":{\"anchor\":\"y\",\"domain\":[0.0,1.0],\"title\":{\"text\":\"Time [h]\"}},\"yaxis\":{\"anchor\":\"x\",\"domain\":[0.0,1.0],\"range\":[-0.1,1],\"title\":{\"text\":\"Conversion [%]\"}},\"legend\":{\"tracegroupgap\":0},\"title\":{\"text\":\"Kinetic Curve Fit for ['145', '90', '253']\"}},                        {\"responsive\": true}                    ).then(function(){\n                            \nvar gd = document.getElementById('f2fcb757-493e-410c-9f3f-8c53abb7250c');\nvar x = new MutationObserver(function (mutations, observer) {{\n        var display = window.getComputedStyle(gd).display;\n        if (!display || display === 'none') {{\n            console.log([gd, 'removed!']);\n            Plotly.purge(gd);\n            observer.disconnect();\n        }}\n}});\n\n// Listen for the removal of the full notebook cells\nvar notebookContainer = gd.closest('#notebook-container');\nif (notebookContainer) {{\n    x.observe(notebookContainer, {childList: true});\n}}\n\n// Listen for the clearing of the current output cell\nvar outputEl = gd.closest('.output');\nif (outputEl) {{\n    x.observe(outputEl, {childList: true});\n}}\n\n                        })                };                });            </script>        </div>"
     },
     "metadata": {},
     "output_type": "display_data"
    }
   ],
   "source": [
    "# Some search functions:\n",
    "def search_for_exp(exp_nr: str | list) -> pd.DataFrame:\n",
    "    if type(exp_nr) == str:\n",
    "        return kinetics_df[kinetics_df['exp_nr'] == exp_nr]\n",
    "    else:\n",
    "        return kinetics_df[kinetics_df['exp_nr'].isin(exp_nr)]\n",
    "\n",
    "def plot_exp(exp_nr: str | list, plot_mn: bool=False, plot_mw: bool=False):\n",
    "    plot_data = search_for_exp(exp_nr)\n",
    "    exp_fig = px.line(title=f\"Kinetic Curve Fit for {exp_nr}\")\n",
    "    for kinetic_to_plot in plot_data.itertuples():\n",
    "        x_data, ydata = kinetic_to_plot.conv_time_data\n",
    "        marker_dict = dict(color=colors[int(kinetic_to_plot.Index)%len(colors)])\n",
    "        exp_fig.add_scatter(x=x_data, y=ydata, mode=\"lines+markers\", name=kinetic_to_plot.exp_nr, marker=marker_dict, legendgroup=str(kinetic_to_plot.exp_nr))\n",
    "        add_fits_to_plot(exp_fig, neg_growth, neg_growth_derivative, [kinetic_to_plot.fit_p1, kinetic_to_plot.fit_p2], marker=marker_dict, legendgroup=str(kinetic_to_plot.exp_nr), showlegend=False)\n",
    "        if plot_mn:\n",
    "            marker_dict[\"color\"] = color_variant(marker_dict[\"color\"], 30)\n",
    "            x2_data, y2_data = kinetic_to_plot.Mn_time_data\n",
    "            exp_fig.add_scatter(x=x2_data, y=y2_data, mode=\"lines+markers\", name=\"Mn of \" + kinetic_to_plot.exp_nr, marker=marker_dict, legendgroup=str(kinetic_to_plot.exp_nr))\n",
    "        if plot_mw:\n",
    "            marker_dict[\"color\"] = color_variant(marker_dict[\"color\"], -60)\n",
    "            x2_data, y2_data = kinetic_to_plot.Mw_time_data\n",
    "            exp_fig.add_scatter(x=x2_data, y=y2_data, mode=\"lines+markers\", name=\"Mw of \" + kinetic_to_plot.exp_nr, marker=marker_dict, legendgroup=str(kinetic_to_plot.exp_nr), opacity=0.5)\n",
    "\n",
    "    exp_fig.update_layout(yaxis=dict(range=[-0.1,1]), xaxis_title=\"Time [h]\", yaxis_title=\"Conversion [%]\")\n",
    "    exp_fig.show()\n",
    "\n",
    "def find_optimal_synthesis(monomer: str | list):\n",
    "    search_q_monomer = [x in monomer for x in kinetics_df[\"monomer\"]]\n",
    "    result_df = kinetics_df[search_q_monomer].sort_values(by=[\"score\"], ascending=False)\n",
    "    return result_df\n",
    "\n",
    "def refine_search(dataframe: pd.DataFrame, monomer: str | list = None, solvent: str | list = None, raft_agent: str | list = None):\n",
    "    len_df = len(dataframe)\n",
    "    search_q_monomer, search_q_solvent, search_q_raft_agent = [np.array([True] * len_df) for _ in range(3)]\n",
    "    if monomer:\n",
    "        search_q_monomer = dataframe[\"monomer\"].apply(lambda x: x in [*monomer])\n",
    "    if solvent:\n",
    "        search_q_solvent = dataframe[\"solvent\"].apply(lambda x: x in [*solvent])\n",
    "    if raft_agent:\n",
    "        search_q_raft_agent = dataframe[\"RAFT-Agent\"].apply(lambda x: x in [*raft_agent])\n",
    "    return dataframe[search_q_monomer & search_q_solvent & search_q_raft_agent]\n",
    "\n",
    "# search_for_exp([\"145\", \"90\", \"253\"])\n",
    "plot_exp([\"145\", \"90\", \"253\"], True, True)\n",
    "# find_optimal_synthesis([\"Styrene\", \"4-Methylstyrene\", \"Benzyl acrylate\"])\n",
    "# refine_search(kinetics_df, solvent=[\"Dimethylformamide\"], monomer=[\"Styrene\", \"4-Methylstyrene\", \"Benzyl acrylate\"], raft_agent=[\"2-Cyan-2-propylbenzodithioat\"])\n",
    "# refine_search(find_optimal_synthesis([\"Styrene\", \"4-Methylstyrene\", \"Benzyl acrylate\"]), solvent=[\"Dimethylformamide\"], raft_agent=[\"2-Cyan-2-propylbenzodithioat\"])"
   ],
   "metadata": {
    "collapsed": false,
    "pycharm": {
     "name": "#%%\n"
    }
   }
  },
  {
   "cell_type": "code",
   "execution_count": 107,
   "outputs": [
    {
     "data": {
      "text/plain": "<IPython.core.display.Markdown object>",
      "text/markdown": "<span style=\"font-family: monospace\">#636EFA <span style=\"color: #636EFA\">██████</span></span><br><span style=\"font-family: monospace\">#EF553B <span style=\"color: #EF553B\">██████</span></span><br><span style=\"font-family: monospace\">#00CC96 <span style=\"color: #00CC96\">██████</span></span><br><span style=\"font-family: monospace\">#AB63FA <span style=\"color: #AB63FA\">██████</span></span><br><span style=\"font-family: monospace\">#FFA15A <span style=\"color: #FFA15A\">██████</span></span><br><span style=\"font-family: monospace\">#19D3F3 <span style=\"color: #19D3F3\">██████</span></span><br><span style=\"font-family: monospace\">#FF6692 <span style=\"color: #FF6692\">██████</span></span><br><span style=\"font-family: monospace\">#B6E880 <span style=\"color: #B6E880\">██████</span></span><br><span style=\"font-family: monospace\">#FF97FF <span style=\"color: #FF97FF\">██████</span></span><br><span style=\"font-family: monospace\">#FECB52 <span style=\"color: #FECB52\">██████</span></span>"
     },
     "metadata": {},
     "output_type": "display_data"
    }
   ],
   "source": [
    "from IPython.display import Markdown, display\n",
    "def display_color(hex_color, width=6):\n",
    "    if type(hex_color) == str:\n",
    "        display(Markdown(f'<span style=\"font-family: monospace\">{hex_color} <span style=\"color: {hex_color}\">{chr(9608)*width}</span></span>'))\n",
    "    else:\n",
    "        display(Markdown('<br>'.join(\n",
    "            f'<span style=\"font-family: monospace\">{color} <span style=\"color: {color}\">{chr(9608)*width}</span></span>'\n",
    "            for color in hex_color)))\n",
    "display_color(colors)"
   ],
   "metadata": {
    "collapsed": false,
    "pycharm": {
     "name": "#%%\n"
    }
   }
  }
 ],
 "metadata": {
  "kernelspec": {
   "name": "python3",
   "language": "python",
   "display_name": "Python 3 (ipykernel)"
  },
  "language_info": {
   "codemirror_mode": {
    "name": "ipython",
    "version": 3
   },
   "file_extension": ".py",
   "mimetype": "text/x-python",
   "name": "python",
   "nbconvert_exporter": "python",
   "pygments_lexer": "ipython3",
   "version": "3.11.7"
  }
 },
 "nbformat": 4,
 "nbformat_minor": 4
}