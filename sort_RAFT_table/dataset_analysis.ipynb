{
 "cells": [
  {
   "cell_type": "code",
   "execution_count": 17,
   "outputs": [],
   "source": [
    "import sort_RAFT_table as srt\n",
    "import pandas as pd\n",
    "import numpy as np\n",
    "import plotly.express as px\n",
    "import re\n",
    "from scipy.optimize import curve_fit\n",
    "import itertools"
   ],
   "metadata": {
    "collapsed": false,
    "pycharm": {
     "name": "#%%\n"
    }
   }
  },
  {
   "cell_type": "code",
   "execution_count": 18,
   "outputs": [
    {
     "name": "stdout",
     "output_type": "stream",
     "text": [
      "['t0h-conversion', 't1h-conversion', 't2h-conversion', 't4h-conversion', 't8h-conversion', 't15h-conversion']\n",
      "[0, 1, 2, 4, 8, 15]\n"
     ]
    }
   ],
   "source": [
    "# ToDo: Kinetik Kurven erstellen,\n",
    "#  90% oder max als max gemessen als conversion, als Beschreibung für diese nehmen,\n",
    "#  in ist Monomer und Mn dann\n",
    "#       sortieren nach Umsatz dahingehend dann nach kürzester Zeit\n",
    "#       Tabellenausgabe dazu Kinetik Kurve, reaktionsbedingungen (LM, Raft agent, Zeit...)\n",
    "#  am besten als interaktive website Tabelle.\n",
    "\n",
    "# get all conversion values,\n",
    "conversion_list = []\n",
    "for column in srt.df.columns:\n",
    "    if \"conversion\" in column:\n",
    "        conversion_list.append(column)\n",
    "print(conversion_list)\n",
    "\n",
    "# get the hours from the headers with regex\n",
    "hours_list = []\n",
    "two_digit_regex = r\"\\d+\"\n",
    "for column in conversion_list:\n",
    "    hours_list.append(int(re.findall(two_digit_regex, column)[0]))\n",
    "\n",
    "print(hours_list)"
   ],
   "metadata": {
    "collapsed": false,
    "pycharm": {
     "name": "#%%\n"
    }
   }
  },
  {
   "cell_type": "code",
   "execution_count": 19,
   "outputs": [
    {
     "name": "stdout",
     "output_type": "stream",
     "text": [
      "The timer was reset to 0 after the first closing of reactors in the \"t = 0\"-sampling-step\n"
     ]
    },
    {
     "data": {
      "text/plain": "                     0         1         2         4         8         15\nReactor                                                                  \n1                    0  1.005556  2.011111  4.018056  8.016667  15.016667\n2                    0  1.005556  2.011111  4.018056  8.016667  15.016667\n3                    0  1.073611  2.068056  4.077778  8.090278  15.098611\n4                    0  1.073611  2.068056  4.077778  8.090278  15.098611\n5                    0  1.131944  2.125000  4.143056  8.180556  15.200000\n6                    0  1.131944  2.125000  4.143056  8.180556  15.200000\n7                    0  1.191667  2.184722  4.205556  8.256944  15.291667\n8                    0  1.191667  2.184722  4.205556  8.256944  15.291667\n9                    0  1.251389  2.241667  4.273611  8.338889  15.381944\n10                   0  1.251389  2.241667  4.273611  8.338889  15.381944\n11                   0  1.312500  2.301389  4.336111  8.415278  15.472222\n12                   0  1.312500  2.301389  4.336111  8.415278  15.472222\n13                   0  1.373611  2.369444  4.409722  8.501389  15.568056\n14                   0  1.373611  2.369444  4.409722  8.501389  15.568056\n15                   0  1.437500  2.430556  4.475000  8.581944  15.658333\nclosing of reactors  0  1.481944  2.476389  4.526389  8.643056  15.730556",
      "text/html": "<div>\n<style scoped>\n    .dataframe tbody tr th:only-of-type {\n        vertical-align: middle;\n    }\n\n    .dataframe tbody tr th {\n        vertical-align: top;\n    }\n\n    .dataframe thead th {\n        text-align: right;\n    }\n</style>\n<table border=\"1\" class=\"dataframe\">\n  <thead>\n    <tr style=\"text-align: right;\">\n      <th></th>\n      <th>0</th>\n      <th>1</th>\n      <th>2</th>\n      <th>4</th>\n      <th>8</th>\n      <th>15</th>\n    </tr>\n    <tr>\n      <th>Reactor</th>\n      <th></th>\n      <th></th>\n      <th></th>\n      <th></th>\n      <th></th>\n      <th></th>\n    </tr>\n  </thead>\n  <tbody>\n    <tr>\n      <th>1</th>\n      <td>0</td>\n      <td>1.005556</td>\n      <td>2.011111</td>\n      <td>4.018056</td>\n      <td>8.016667</td>\n      <td>15.016667</td>\n    </tr>\n    <tr>\n      <th>2</th>\n      <td>0</td>\n      <td>1.005556</td>\n      <td>2.011111</td>\n      <td>4.018056</td>\n      <td>8.016667</td>\n      <td>15.016667</td>\n    </tr>\n    <tr>\n      <th>3</th>\n      <td>0</td>\n      <td>1.073611</td>\n      <td>2.068056</td>\n      <td>4.077778</td>\n      <td>8.090278</td>\n      <td>15.098611</td>\n    </tr>\n    <tr>\n      <th>4</th>\n      <td>0</td>\n      <td>1.073611</td>\n      <td>2.068056</td>\n      <td>4.077778</td>\n      <td>8.090278</td>\n      <td>15.098611</td>\n    </tr>\n    <tr>\n      <th>5</th>\n      <td>0</td>\n      <td>1.131944</td>\n      <td>2.125000</td>\n      <td>4.143056</td>\n      <td>8.180556</td>\n      <td>15.200000</td>\n    </tr>\n    <tr>\n      <th>6</th>\n      <td>0</td>\n      <td>1.131944</td>\n      <td>2.125000</td>\n      <td>4.143056</td>\n      <td>8.180556</td>\n      <td>15.200000</td>\n    </tr>\n    <tr>\n      <th>7</th>\n      <td>0</td>\n      <td>1.191667</td>\n      <td>2.184722</td>\n      <td>4.205556</td>\n      <td>8.256944</td>\n      <td>15.291667</td>\n    </tr>\n    <tr>\n      <th>8</th>\n      <td>0</td>\n      <td>1.191667</td>\n      <td>2.184722</td>\n      <td>4.205556</td>\n      <td>8.256944</td>\n      <td>15.291667</td>\n    </tr>\n    <tr>\n      <th>9</th>\n      <td>0</td>\n      <td>1.251389</td>\n      <td>2.241667</td>\n      <td>4.273611</td>\n      <td>8.338889</td>\n      <td>15.381944</td>\n    </tr>\n    <tr>\n      <th>10</th>\n      <td>0</td>\n      <td>1.251389</td>\n      <td>2.241667</td>\n      <td>4.273611</td>\n      <td>8.338889</td>\n      <td>15.381944</td>\n    </tr>\n    <tr>\n      <th>11</th>\n      <td>0</td>\n      <td>1.312500</td>\n      <td>2.301389</td>\n      <td>4.336111</td>\n      <td>8.415278</td>\n      <td>15.472222</td>\n    </tr>\n    <tr>\n      <th>12</th>\n      <td>0</td>\n      <td>1.312500</td>\n      <td>2.301389</td>\n      <td>4.336111</td>\n      <td>8.415278</td>\n      <td>15.472222</td>\n    </tr>\n    <tr>\n      <th>13</th>\n      <td>0</td>\n      <td>1.373611</td>\n      <td>2.369444</td>\n      <td>4.409722</td>\n      <td>8.501389</td>\n      <td>15.568056</td>\n    </tr>\n    <tr>\n      <th>14</th>\n      <td>0</td>\n      <td>1.373611</td>\n      <td>2.369444</td>\n      <td>4.409722</td>\n      <td>8.501389</td>\n      <td>15.568056</td>\n    </tr>\n    <tr>\n      <th>15</th>\n      <td>0</td>\n      <td>1.437500</td>\n      <td>2.430556</td>\n      <td>4.475000</td>\n      <td>8.581944</td>\n      <td>15.658333</td>\n    </tr>\n    <tr>\n      <th>closing of reactors</th>\n      <td>0</td>\n      <td>1.481944</td>\n      <td>2.476389</td>\n      <td>4.526389</td>\n      <td>8.643056</td>\n      <td>15.730556</td>\n    </tr>\n  </tbody>\n</table>\n</div>"
     },
     "execution_count": 19,
     "metadata": {},
     "output_type": "execute_result"
    }
   ],
   "source": [
    "def change_timeformat(time_format):\n",
    "    h_m_s = str(time_format).split(\":\")\n",
    "    m_format = int(h_m_s[0]) * 60 + int(h_m_s[1]) + int(h_m_s[2]) / 60\n",
    "    return m_format\n",
    "\n",
    "def change_timeformat_h(time_format):\n",
    "    h_m_s = str(time_format).split(\":\")\n",
    "    h_format = int(h_m_s[0]) + (int(h_m_s[1]) + int(h_m_s[2]) / 60) /60\n",
    "    return h_format\n",
    "\n",
    "# creating a table as a lookup to correct all sample measurement times\n",
    "exact_times = pd.read_excel(srt.INPUT_FILE_PATH, sheet_name=\"exact sampling times\")\n",
    "\n",
    "time_correction_df = pd.DataFrame(data=exact_times.iloc[3:12, 3:])\n",
    "time_correction_df.columns = exact_times.loc[2][3:]\n",
    "\n",
    "time_correction_df.reset_index(inplace=True, drop=True)\n",
    "ext_time_corr_df_data =[]\n",
    "for row in time_correction_df.iterrows():\n",
    "    reactor_nr = row[1][\"Reactor\"]\n",
    "    if type(reactor_nr) == int or reactor_nr == \"closing of reactors\":\n",
    "        row[1][\"Reactor\"] = str(reactor_nr)\n",
    "        ext_time_corr_df_data.append(row[1])\n",
    "    else:\n",
    "        reactor_nr = (row[1][\"Reactor\"]).split(\"+\")\n",
    "        for nr in reactor_nr:\n",
    "            row[1][\"Reactor\"] = nr\n",
    "            ext_time_corr_df_data.append(row[1].copy())\n",
    "ext_time_corr_df = pd.DataFrame(data=ext_time_corr_df_data, columns=exact_times.loc[2][3:])\n",
    "ext_time_corr_df.reset_index(drop=True, inplace=True)\n",
    "print(\"The timer was reset to 0 after the first closing of reactors in the \\\"t = 0\\\"-sampling-step\")\n",
    "ext_time_corr_df.columns = [\"Reactor\", 0, 1, 2, 4, 6, 8, 10, 15]\n",
    "\n",
    "# change time format to minutes and set\n",
    "time_cols = ext_time_corr_df.columns.difference([\"Reactor\"])\n",
    "ext_time_corr_df[time_cols] = ext_time_corr_df[time_cols].apply(lambda x: [change_timeformat_h(d) for d in x])\n",
    "ext_time_corr_df[0] = ext_time_corr_df[0].apply(lambda x: 0 )\n",
    "\n",
    "# set index to reactor\n",
    "ext_time_corr_df.set_index(\"Reactor\", inplace=True)\n",
    "\n",
    "# Sampling 6h and 10h were only used for sec not NMR -> no conversion for these.\n",
    "skip_hours_mask = [True if h not in hours_list else False for h in ext_time_corr_df.columns]\n",
    "ext_time_corr_df.drop(columns=time_cols[skip_hours_mask], inplace=True)\n",
    "\n",
    "ext_time_corr_df\n",
    "\n"
   ],
   "metadata": {
    "collapsed": false,
    "pycharm": {
     "name": "#%%\n"
    }
   }
  },
  {
   "cell_type": "code",
   "execution_count": 20,
   "outputs": [
    {
     "data": {
      "text/plain": "0      0.000000\n1      1.437500\n2      2.430556\n4      4.475000\n8      8.581944\n15    15.658333\nName: 15, dtype: float64"
     },
     "execution_count": 20,
     "metadata": {},
     "output_type": "execute_result"
    }
   ],
   "source": [
    "# srt.df.columns\n",
    "ext_time_corr_df.loc[\"15\"]\n"
   ],
   "metadata": {
    "collapsed": false,
    "pycharm": {
     "name": "#%%\n"
    }
   }
  },
  {
   "cell_type": "code",
   "execution_count": 21,
   "outputs": [],
   "source": [
    "# plotting the kinetic curves of the RAFT polymerization\n",
    "# generate a reformatted table with a entries per sample analysis taken described with a column of the right time\n",
    "\n",
    "# create a dataframe with just the information needed to append to\n",
    "kinetic_curves = []\n",
    "for index, polymerisation_kinetic in srt.df.iterrows():\n",
    "    # get the right hours list\n",
    "    # polymerisation_kinetic[\"reactor\"]\n",
    "\n",
    "    kinetic_curve_entries = pd.DataFrame(\n",
    "        {\"conversion\" : polymerisation_kinetic[conversion_list], \"time\" : hours_list, \"reactor\" : polymerisation_kinetic[\"reactor\"]})\n",
    "    kinetic_curve_entries[\"experiment\"] = str(index)+\"_\"+polymerisation_kinetic[\"monomer\"]+\"_\"+polymerisation_kinetic[\"RAFT-Agent\"]+\"_\"+polymerisation_kinetic[\"solvent\"]\n",
    "\n",
    "    # the times are dependent on the current reactor, get current\n",
    "    current_reactor_nr = str(polymerisation_kinetic[\"reactor\"])\n",
    "    current_time_list = ext_time_corr_df.loc[current_reactor_nr]\n",
    "    kinetic_curve_entries[\"time\"] = list(current_time_list)\n",
    "\n",
    "    kinetic_curves.append(kinetic_curve_entries)\n",
    "\n",
    "kinetic_curves_df = pd.concat(kinetic_curves)"
   ],
   "metadata": {
    "collapsed": false,
    "pycharm": {
     "name": "#%%\n"
    }
   }
  },
  {
   "cell_type": "code",
   "execution_count": 22,
   "outputs": [
    {
     "data": {
      "text/plain": "317"
     },
     "execution_count": 22,
     "metadata": {},
     "output_type": "execute_result"
    }
   ],
   "source": [
    "len(kinetic_curves) # was 325 before getting away the average below 0.1, now its 317\n",
    "# kinetic_curves[1][\"experiment\"].iloc[1]\n",
    "# px.line(kinetic_curves_df[:20], x=\"time\", y=\"conversion\", color=\"experiment\")"
   ],
   "metadata": {
    "collapsed": false,
    "pycharm": {
     "name": "#%%\n"
    }
   }
  },
  {
   "cell_type": "code",
   "execution_count": 23,
   "outputs": [
    {
     "name": "stdout",
     "output_type": "stream",
     "text": [
      "visualisation of the functions\n"
     ]
    }
   ],
   "source": [
    "# and fit curve and the derivation\n",
    "# find the maximum of the derivation\n",
    "\n",
    "'''\n",
    "deprecated: more theoretical accurate version but practically worse applicable\n",
    "    # L is responsible for scaling the output range from [0,1] to [0,L]\n",
    "    # b\n",
    "    # k is responsible for scaling the input, which remains in (-inf,inf)\n",
    "    # x0\n",
    "def sigmoid (x, L ,x0, k, b):\n",
    "    y = L / (1 + np.exp(-k*(x-x0)))+b\n",
    "    return (y)\n",
    "\n",
    "\n",
    "def sigmoid_derivative(x, L ,x0, k, b): # ToDo: check if this is the correct derivative\n",
    "    y = (L*k*np.exp(-k*(x-x0)))/((np.exp(-k*(x-x0))+1)**2)\n",
    "    return (y)\n",
    "'''\n",
    "def neg_growth(x, L, k):\n",
    "    y = L * (1 - np.exp(k*(-x)))\n",
    "    return y\n",
    "\n",
    "def neg_growth_derivative(x, L, k):\n",
    "    y = L * k * np.exp(k*(-x))\n",
    "    return y\n",
    "\n",
    "def linear_growth(x, m):\n",
    "    y = m * x\n",
    "    return y\n",
    "\n",
    "def linear_growth_derivative(x, m):\n",
    "    return m\n",
    "\n",
    "xrange = np.arange(-0.2, 5, 0.1)\n",
    "example_fig = px.line()\n",
    "for testparams in ([1,1], [2,1], [1,2]):\n",
    "    example_fig.add_scatter(x=xrange, y=neg_growth(xrange, *testparams))\n",
    "    example_fig.add_scatter(x=xrange, y=neg_growth_derivative(xrange, *testparams), opacity=0.5, line=dict(dash=\"dot\"))\n",
    "\n",
    "print(\"visualisation of the functions\")\n",
    "# example_fig.show()"
   ],
   "metadata": {
    "collapsed": false,
    "pycharm": {
     "name": "#%%\n"
    }
   }
  },
  {
   "cell_type": "code",
   "execution_count": 113,
   "outputs": [
    {
     "name": "stdout",
     "output_type": "stream",
     "text": [
      "4_7_A_DMSO\n",
      "[False False False  True False False]\n",
      "6_8_A_DMF\n",
      "[False False False False  True  True]\n",
      "11_10_A_DMF\n",
      "[False False False  True False False]\n",
      "18_12_A_DMSO\n",
      "[False False False  True False False]\n",
      "20_13_A_DMF\n",
      "[False False False False  True False]\n",
      "23_14_A_DMSO\n",
      "[False False False False  True False]\n",
      "24_15_A_DMF\n",
      "[False  True False  True False False]\n",
      "30_2_A_DMF\n",
      "[False False False False False  True]\n",
      "43_3_C_Tol\n",
      "[False False False False False  True]\n",
      "44_4_C_DMF\n",
      "[False False False False False  True]\n",
      "45_4_C_DMSO\n",
      "[False False False False False  True]\n",
      "46_4_C_Tol\n",
      "[False False False False False  True]\n",
      "47_5_C_Tol\n",
      "[False False False False False  True]\n",
      "55_10_C_DMF\n",
      "[False False  True  True False False]\n",
      "56_10_C_DMSO\n",
      "[False False  True False False False]\n",
      "57_10_C_Tol\n",
      "[False False  True False False False]\n",
      "59_11_C_DMSO\n",
      "[False False False False False  True]\n",
      "66_14_C_DMF\n",
      "[False False False  True False False]\n",
      "67_14_C_Tol\n",
      "[False False False False  True  True]\n",
      "87_3_B_DMF\n",
      "[False False False False  True False]\n",
      "98_7_B_DMF\n",
      "[False False  True False False False]\n",
      "101_8_B_DMF\n",
      "[False False False False  True  True]\n",
      "102_8_B_Tol\n",
      "[False  True False False False False]\n",
      "120_16_D_DMSO\n",
      "[False False False False False  True]\n",
      "126_7_D_DMSO\n",
      "[False False False False False  True]\n",
      "141_13_D_Tol\n",
      "[False  True False False False False]\n",
      "142_14_D_DMF\n",
      "[False False False False False  True]\n",
      "152_3_E_DMF\n",
      "[False False  True False False False]\n",
      "158_16_E_DMF\n",
      "[False  True False False False False]\n",
      "164_7_E_DMSO\n",
      "[False False False False False  True]\n",
      "168_9_E_DMSO\n",
      "[False False False False  True  True]\n",
      "203_14_F_DMF\n",
      "[False False False False  True  True]\n",
      "214_10_F_DMF\n",
      "[False False  True False False False]\n",
      "234_8_G_DMSO\n",
      "[False  True False False False False]\n",
      "244_13_G_DMSO\n",
      "[False  True False False False False]\n",
      "267_7_A_DMSO\n",
      "[False False False False False  True]\n",
      "291_12_B_Tol\n",
      "[False False  True  True False False]\n",
      "304_16_A_DMSO\n",
      "[False False False False  True False]\n",
      "308_7_E_DMSO\n",
      "[False False False False  True  True]\n",
      "310_8_E_DMF\n",
      "[False False False False  True  True]\n",
      "313_9_E_DMSO\n",
      "[False False False False  True  True]\n"
     ]
    }
   ],
   "source": [
    "# search for nans\n",
    "for kinetic_curve in kinetic_curves:\n",
    "    if kinetic_curve[\"conversion\"].isnull().values.any():\n",
    "        print(kinetic_curve[\"experiment\"].iloc[1])\n",
    "        print(kinetic_curve[\"conversion\"].isnull().values)\n",
    "\n"
   ],
   "metadata": {
    "collapsed": false,
    "pycharm": {
     "name": "#%%\n"
    }
   }
  },
  {
   "cell_type": "code",
   "execution_count": 134,
   "outputs": [
    {
     "name": "stdout",
     "output_type": "stream",
     "text": [
      "[ True False  True  True  True  True] 0.013577628844622285 [ 0.          0.03063802 -0.00398808  0.00520153 -0.01374768  0.00472388]\n",
      "[ True False  True  True  True  True] 0.00958005545655354 [ 0.          0.02281596  0.00067712 -0.0047017  -0.00620266  0.0034692 ]\n",
      "[ True False  True  True  True  True] 0.005378877805722397 [ 0.          0.01161431 -0.00619461 -0.00153211 -0.00049797  0.00087105]\n",
      "[ True False  True  True  True  True] 0.02505213870604597 [ 0.         -0.05626801  0.00210657  0.00906075  0.02343324 -0.01266272]\n",
      "[ True  True False  True  True  True] 0.03789674577632354 [ 0.         -0.0119241  -0.07614567 -0.01667498 -0.03739086  0.04934954]\n",
      "[ True  True  True  True  True False] 0.014261780966035063 [ 0.          0.00313508 -0.0102892  -0.01196574 -0.0100665   0.0293289 ]\n",
      "[ True  True False  True  True  True] 0.041439331034110904 [ 0.         -0.04407177 -0.08536045 -0.00359037  0.03927723  0.02039112]\n",
      "[ True False  True  True  True  True] 0.005464226884367509 [ 0.          0.01109956 -0.00104082 -0.00391649 -0.00541207  0.00366858]\n",
      "[ True  True False  True  True  True] 0.003752046654707777 [ 0.          0.00129616  0.00791456 -0.004332   -0.00177442  0.00105829]\n",
      "[ True  True  True  True False] 0.017472076026734253 [ 0.         -0.01381112 -0.01007839 -0.03172826 -0.04927212]\n",
      "[ True False  True  True  True  True] 0.006039265630566553 [ 0.         -0.01410595 -0.00253454 -0.00536155 -0.00424699  0.00594593]\n",
      "[ True  True False  True  True  True] 0.008890911749645312 [ 0.         -0.00305042 -0.01971209 -0.00449242  0.0104186  -0.00107419]\n",
      "[ True False  True  True  True  True] 0.004769927942385003 [ 0.         -0.01101157  0.00433149  0.000113    0.00131724 -0.00049028]\n",
      "[ True False  True  True  True  True] 0.004148343029380266 [ 0.          0.00856389  0.00192224 -0.00067542 -0.00530877  0.00229964]\n",
      "[ True False  True  True  True  True] 0.004581179795090936 [ 0.         -0.01184396 -0.00153991 -0.00416925 -0.00047582  0.00246104]\n",
      "[ True False  True  True  True  True] 0.005333554703130262 [ 0.         -0.01208194 -0.0082778  -0.00281033 -0.00239434  0.00426342]\n",
      "[ True  True  True False  True  True] 0.016550861914952784 [ 0.         -0.00768471 -0.02145149 -0.03580877 -0.00209534  0.01632248]\n"
     ]
    },
    {
     "name": "stderr",
     "output_type": "stream",
     "text": [
      "C:\\Users\\fo72qev\\AppData\\Local\\Temp\\ipykernel_3744\\4019977708.py:77: FutureWarning:\n",
      "\n",
      "The behavior of DataFrame concatenation with empty or all-NA entries is deprecated. In a future version, this will no longer exclude empty or all-NA columns when determining the result dtypes. To retain the old behavior, exclude the relevant entries before the concat operation.\n",
      "\n"
     ]
    },
    {
     "name": "stdout",
     "output_type": "stream",
     "text": [
      "[ True  True False  True  True  True] 0.004788804462985619 [ 0.         -0.00557741 -0.00986894  0.00439111 -0.00270659  0.00219081]\n",
      "[ True  True  True False  True  True] 0.025569906161204848 [ 0.          0.00053469 -0.00269333 -0.05642825 -0.00727643  0.02989773]\n",
      "[ True False  True  True  True  True] 0.013216174860373566 [ 0.         -0.03083203  0.00233511  0.00954037  0.00577572 -0.00429973]\n",
      "[ True  True False False] 0.01103567135432128 [ 0.         -0.0130303  -0.02757576 -0.02545455]\n",
      "[ True False  True  True  True  True] 0.007399971898801327 [ 0.         -0.01877549  0.00065501 -0.00486081  0.00312963  0.00105025]\n",
      "[ True False  True  True  True  True] 0.00936737152420375 [ 0.         -0.01914635 -0.0074772   0.01111616 -0.0054788   0.00259915]\n",
      "[ True  True False  True  True  True] 0.004289419765787752 [ 0.          0.00376516 -0.00954513  0.00213147 -0.00112985  0.0011953 ]\n",
      "[ True False  True  True  True  True] 0.004276807390010993 [ 0.         -0.01088127 -0.00196692 -0.00292645 -0.00239123  0.00322482]\n",
      "[ True False  True  True  True  True] 0.012481011300049433 [ 0.         -0.030071   -0.01062367 -0.01205815  0.00708974  0.00377722]\n",
      "[ True  True False  True  True  True] 0.004102530108279527 [ 0.00000000e+00 -4.92264174e-03  8.22552635e-03  2.00145432e-05\n",
      " -2.94559691e-03  8.05691145e-04]\n",
      "[ True False  True  True  True] 0.009511338148809114 [ 0.          0.01934541 -0.00306329 -0.00903732  0.00224087]\n",
      "[ True False  True  True  True  True] 0.0034090397129181117 [ 0.          0.00725193 -0.00117964 -0.00392751  0.00152909 -0.00017071]\n",
      "[ True  True  True  True False  True] 0.008326711755220558 [ 0.          0.00477357  0.00339155  0.00188828 -0.01757701  0.00832498]\n",
      "[ True False  True  True  True  True] 0.008746141789106904 [ 0.          0.01950051  0.00014165  0.00333743 -0.01004437  0.00296067]\n",
      "[ True False  True  True  True  True] 0.0030584154501232656 [ 0.          0.00715747 -0.00268284 -0.00042558 -0.00025539  0.00013092]\n",
      "[ True  True False  True  True  True] 0.007934070226021188 [ 0.         -0.00487945 -0.01712467 -0.0116781   0.00144372  0.00604398]\n",
      "[ True  True  True False  True  True] 0.006044999743946382 [ 0.          0.00436451 -0.00366047 -0.01334727 -0.000272    0.00451128]\n",
      "[ True False  True  True  True  True] 0.010914715118397672 [ 0.         -0.02281569 -0.00693083  0.0054953   0.01174292 -0.00585868]\n",
      "[ True  True  True False  True  True] 0.015547918178942691 [ 0.         -0.02014042  0.0006888  -0.0335846  -0.00319999  0.01417682]\n",
      "[ True False  True  True  True  True] 0.0027951135806537682 [ 0.          0.00618628  0.00070923 -0.0030429  -0.00082149  0.00069375]\n",
      "[ True False  True  True  True  True] 0.021910766117190603 [ 0.         -0.04437881 -0.01638556 -0.03160942 -0.01247197  0.02401546]\n",
      "[ True False  True  True  True  True] 0.014494069645257441 [ 0.          0.03403952 -0.00474128 -0.01188826  0.00100099  0.00129219]\n",
      "[ True  True False  True  True  True] 0.006815892360429218 [ 0.          0.00782703 -0.01416088  0.00239272  0.0032628  -0.00102996]\n",
      "[ True False  True  True  True  True] 0.010860052183442832 [ 0.          0.02538207 -0.00710286 -0.00148611 -0.00585313  0.00289231]\n",
      "[ True False  True  True  True  True] 0.014090698207544713 [ 0.          0.03404186 -0.00367896 -0.00724654 -0.00537378  0.00279468]\n",
      "[ True  True False  True  True  True] 0.05110968710651902 [ 0.         -0.05205384 -0.10873748 -0.02640143  0.04834468  0.02074354]\n",
      "[ True False  True  True  True  True] 0.004189816845294297 [ 0.          0.00885049  0.00284054 -0.00520077  0.00026681  0.00028933]\n",
      "[ True False  True  True  True  True] 0.004267228472137632 [ 0.          0.00955345  0.00122722  0.0018812  -0.00497253  0.00131547]\n",
      "[ True False  True  True  True  True] 0.0021072496214110856 [ 0.          0.00509994 -0.0010816  -0.0009622  -0.00017579  0.00012929]\n",
      "[ True False  True  True  True  True] 0.004826975444545209 [ 0.         -0.01096224  0.00096052 -0.00156525 -0.00475483  0.00423978]\n",
      "[ True False  True  True  True  True] 0.004487905257310011 [ 0.          0.00919292  0.00329196  0.00144703 -0.00599934  0.00159081]\n",
      "[ True False  True  True  True  True] 0.013970434501776674 [ 0.          0.033186   -0.0053739  -0.00968708 -0.00142496  0.00238673]\n",
      "[ True False  True  True  True  True] 0.0038995027363479384 [ 0.          0.00953961 -0.00185868 -0.000563   -0.00155337  0.00057526]\n",
      "[ True  True False  True  True  True] 0.02650414423444334 [ 0.         -0.01143921 -0.05407156 -0.01624274  0.02027149  0.02630117]\n",
      "[ True False  True  True  True  True] 0.030217140215372813 [ 0.         -0.06367124 -0.02499493  0.01352565  0.03139982 -0.01276374]\n",
      "[ True False  True  True  True  True] 0.016226069119923497 [ 0.          0.03503056 -0.01857209  0.0024628  -0.00594014  0.00256971]\n",
      "[ True False  True  True  True  True] 0.01874175405955548 [ 0.          0.04339015 -0.01073279 -0.01348792  0.00069374  0.00126134]\n",
      "[ True False  True  True  True  True] 0.002403479354619725 [ 0.          0.00571968 -0.00070191  0.00087598 -0.00193705  0.0005131 ]\n",
      "[ True  True  True  True False  True] 0.026648980945591195 [ 0.          0.00389167  0.0040881   0.00988024 -0.05710288  0.02976197]\n",
      "[ True False  True  True  True  True] 0.005622410305719877 [ 0.00000000e+00 -1.29656563e-02 -5.46839604e-03  4.08226351e-03\n",
      "  1.49947793e-03  6.32703987e-05]\n",
      "[ True  True False  True  True  True] 0.004470712187383576 [ 0.         -0.00761503 -0.00922005  0.00169451 -0.00097636  0.00225954]\n",
      "[ True False  True  True  True  True] 0.004515758002079657 [ 0.          0.00948321  0.00418285 -0.00119765 -0.00497134  0.00164424]\n",
      "[ True False  True  True  True  True] 0.007282137227174416 [ 0.00000000e+00  1.51910015e-02  1.45821313e-03 -9.73782437e-03\n",
      "  1.96050707e-03  9.24072186e-05]\n",
      "[ True False  True  True  True  True] 0.0053712382240595526 [ 0.          0.01200688 -0.00549497  0.00109518 -0.00194439  0.00067507]\n",
      "[ True False  True  True  True  True] 0.01374169019195365 [ 0.          0.03212689 -0.00654459 -0.00033266 -0.01007937  0.0047164 ]\n",
      "[ True  True False  True  True  True] 0.024833953764985237 [ 0.         -0.03957313 -0.05267866 -0.00905547  0.0086067   0.0147203 ]\n",
      "[ True False  True  True  True  True] 0.012145504688717576 [ 0.          0.02845989  0.00102988 -0.00613265 -0.00878345  0.00437357]\n",
      "[ True False  True  True  True  True] 0.020811942898695656 [ 0.          0.04199707 -0.02067139 -0.00556146 -0.0140578   0.01502975]\n",
      "[ True  True  True False] 0.008650256494048977 [ 0.         -0.00924545 -0.00507009 -0.02326275]\n",
      "[ True False  True  True  True] 0.014450727986563003 [ 0.         -0.02921837  0.01434459  0.00366489 -0.00461041]\n",
      "[ True False  True  True  True  True] 0.002341506508754896 [ 0.          0.00502913  0.00148472  0.00070916 -0.00292967  0.00085355]\n",
      "[ True False  True  True  True  True] 0.001489317458559863 [ 0.          0.00333196 -0.00116726  0.00065923 -0.00102619  0.0003026 ]\n",
      "[ True  True False  True  True  True] 0.002300927469845513 [ 0.          0.00219335  0.00477161 -0.00139054 -0.00214543  0.00073099]\n",
      "[ True False  True  True  True  True] 0.002992997478604378 [ 0.         -0.0062151  -0.00271395  0.00033359  0.0035609  -0.00120676]\n",
      "[ True  True False  True  True  True] 0.0027810567511692293 [ 0.          0.00125811  0.00589093 -0.00334272 -0.00083449  0.00045591]\n",
      "[ True  True False  True  True  True] 0.0026297259788241227 [ 0.          0.00034672 -0.00562046  0.00321854  0.00024978 -0.00023378]\n",
      "[ True False  True  True  True  True] 0.004442218879616587 [ 0.          0.00939709 -0.00014487  0.00179706 -0.00566516  0.00188757]\n",
      "[ True  True False  True  True  True] 0.018698950088597954 [ 0.         -0.01759203 -0.04068306 -0.02526543  0.00012527  0.0159343 ]\n",
      "[ True False  True  True  True  True] 0.010519112658729644 [ 0.          0.02248208 -0.0042672   0.00358732 -0.01191617  0.00441205]\n",
      "[ True False  True  True  True  True] 0.01478022831142378 [ 0.          0.03253229 -0.0136383   0.00386234 -0.00927313  0.00417792]\n",
      "[ True  True False  True  True  True] 0.010067563444802956 [ 0.          0.0007081  -0.02165932  0.01103091  0.00448818 -0.00284746]\n",
      "[ True False  True  True  True  True] 0.02071554409380811 [ 0.          0.04754828  0.00333369 -0.00738354 -0.01890899  0.00866683]\n",
      "[ True False  True  True  True  True] 0.02288180867302407 [ 0.         -0.04899795 -0.00913147  0.01821282  0.01906413 -0.01184625]\n",
      "[ True False  True  True  True  True] 0.0229225312723692 [ 0.00000000e+00  5.05850228e-02 -7.58958425e-05 -3.62125628e-03\n",
      " -2.48731903e-02  1.28132500e-02]\n",
      "[ True  True False  True  True  True] 0.042131857756858786 [ 0.         -0.0188118  -0.09330727  0.01734907  0.04244366 -0.00393061]\n",
      "[ True False  True  True  True  True] 0.00485782879490652 [ 0.          0.00972993  0.0048866   0.00111308 -0.00629294  0.00177449]\n",
      "[ True  True  True False  True  True] 0.007606348531501162 [ 0.         -0.00367432  0.001026   -0.01678302 -0.00580354  0.0081255 ]\n",
      "[ True  True  True False  True  True] 0.003016139309990173 [ 0.00000000e+00 -5.34721965e-04  3.86445257e-03 -6.18475342e-03\n",
      "  2.01240318e-05  1.23914554e-03]\n",
      "[ True  True  True False  True  True] 0.011003480314165917 [ 0.          0.0106879  -0.0065213  -0.02225025 -0.00428154  0.0092238 ]\n",
      "[ True  True False  True  True  True] 0.010231050140519548 [ 0.          0.00867935 -0.02051722  0.01145678 -0.00086563 -0.00052289]\n",
      "[ True False  True  True  True  True] 0.004041457048404461 [ 0.00000000e+00  9.16216504e-03 -3.72836008e-03 -1.70011583e-03\n",
      "  6.52345107e-04 -2.99809379e-05]\n",
      "[ True  True False  True  True  True] 0.04080236321405105 [ 0.         -0.03831091 -0.08901069 -0.01951779  0.03304959  0.02260422]\n",
      "[ True  True False  True  True  True] 0.008133064528555101 [ 0.          0.00331038 -0.01776615  0.00684207  0.0047316  -0.00239134]\n",
      "[ True False  True  True  True  True] 0.038225360557742755 [ 0.         -0.07882719 -0.04201877 -0.01895143  0.04007587  0.01125973]\n",
      "[ True  True False  True  True  True] 0.020976117466319145 [ 0.         -0.00663783 -0.04354889 -0.02318441 -0.00183601  0.02429944]\n",
      "[ True False  True  True  True  True] 0.027399069469159792 [ 0.          0.06661127 -0.00708138 -0.00969638 -0.01361535  0.00726837]\n",
      "[ True False  True  True  True  True] 0.03844517933308762 [ 0.         -0.08654307 -0.02173019 -0.01814338 -0.02365155  0.04364884]\n",
      "[ True False  True  True  True  True] 0.0033032496751975856 [ 0.          0.00723452 -0.00297793  0.00152989 -0.00213994  0.00068145]\n",
      "[ True False  True  True  True  True] 0.005513131488209963 [ 0.00000000e+00  1.30069957e-02 -1.70589715e-03  1.32964432e-05\n",
      " -4.42486425e-03  1.85441502e-03]\n",
      "[ True False  True  True  True  True] 0.01974444332558671 [ 0.         -0.04780369  0.00847517  0.00520408  0.00895131 -0.00366397]\n",
      "[ True False  True  True  True] 0.009283663874947477 [ 0.         -0.01910185  0.00591839 -0.009176    0.00388454]\n",
      "[ True False  True  True  True  True] 0.01101823780105625 [ 0.          0.02518398 -0.01030325 -0.00357214  0.00055615  0.00044289]\n",
      "[ True False  True  True  True  True] 0.0097897659411124 [ 0.          0.022416   -0.00819659  0.00073095 -0.00497249  0.00217674]\n",
      "[ True  True False  True  True  True] 0.012729000635793134 [ 0.          0.01500357 -0.0257758   0.00489662  0.00710714 -0.00294386]\n",
      "[] 0.0\n"
     ]
    }
   ],
   "source": [
    "fig = px.line(title=\"Kinetic Curve Fit\", labels={\"x\":\"time\", \"y\":\"conversion\"})\n",
    "hard_to_fit = [] # array for kinetic fits that meet a filter criteria further down the code\n",
    "colors = px.colors.qualitative.Plotly # set up a simple color palette\n",
    "extended_xdata = np.linspace(-1, 16.5, 100) # x data array for\n",
    "\n",
    "# create new dataframe with kinetics per row\n",
    "kinetic_curve_columns = [\"Experiment\", \"max_conversion\", \"reaction_end\", \"squared_error\"]\n",
    "kinetics_df = pd.DataFrame(columns=kinetic_curve_columns)\n",
    "\n",
    "def add_fits_to_plot(fit_func, fit_func_derivative, fit_func_params, marker_dic):\n",
    "    fig.add_scatter(\n",
    "        x=extended_xdata, y=fit_func(extended_xdata, *fit_func_params),\n",
    "        opacity=1, line=dict(dash=\"dot\"), name=f\"{fit_func.__name__} fit\", marker=marker_dic)\n",
    "    print(fit_func_params)\n",
    "    fig.add_scatter(\n",
    "        x=extended_xdata, y=fit_func_derivative(extended_xdata, *fit_func_params),\n",
    "        opacity=0.3, line=dict(dash=\"dash\"), name=f\"{fit_func_derivative.__name__}\", marker=marker_dic)\n",
    "\n",
    "def fit_and_exclude_outliers(x, y, fit_func, p0, bounds, nan_policy=\"omit\", iteration=1):\n",
    "    cf_data = curve_fit(f=fit_func, xdata=x, ydata=y, p0=p0, nan_policy=nan_policy, maxfev=800 * 10, bounds=bounds)\n",
    "\n",
    "    # exclude the nan values from the data\n",
    "    mask = ~np.isnan(y)\n",
    "    x, y = x[mask], y[mask]\n",
    "\n",
    "    # calculate the fit points\n",
    "    fit_points = np.array([fit_func(x, *cf_data[0]) for x in x])\n",
    "    # calculate the standard deviation of the residuals between the fit and the datapoints\n",
    "    sigma = np.std(fit_points - y)\n",
    "\n",
    "    # exclude the outliers\n",
    "    mask = ~(np.abs(fit_points - y) > 2 * sigma)\n",
    "    if not mask.all():\n",
    "        print(mask, sigma, y - fit_points)\n",
    "\n",
    "    result = {\"x\": x[mask], \"y\": y[mask], \"p_opt\" : cf_data[0], \"p_cov\" : cf_data[1], \"excluded_points\" : (x[~mask],y[~mask]), \"iteration\" : iteration+1}\n",
    "    return result\n",
    "\n",
    "for idx, kinetic_curve in enumerate(kinetic_curves):\n",
    "    # first make sure the datapoints are in the right format and not sometimes int sometimes float\n",
    "    ydata = np.array(kinetic_curve[\"conversion\"].values, dtype=float)\n",
    "    xdata = np.array(kinetic_curve[\"time\"].values, dtype=float)\n",
    "\n",
    "    # choosing a few test function\n",
    "    # if not idx in (316, 301, 302):\n",
    "    #     continue\n",
    "\n",
    "    # fitting section\n",
    "    p0 = [max(ydata), 0.1] # this is a mandatory initial guess\n",
    "    fit_dic = fit_and_exclude_outliers(x=xdata, y=ydata, fit_func=neg_growth, p0=p0, bounds=([0, -np.inf], [1, np.inf]))\n",
    "        # f=neg_growth, xdata=xdata, ydata=ydata, p0=p0, nan_policy=\"omit\", maxfev=800*10, bounds=([0, -np.inf], [1, np.inf]))\n",
    "\n",
    "\n",
    "        # fit with linear growth\n",
    "    p0_l = [max(ydata)/7]\n",
    "    cv_data_l = curve_fit(f=linear_growth, xdata=xdata, ydata=ydata, p0=p0_l, nan_policy=\"omit\")\n",
    "    popt_l, pcov_l = cv_data_l\n",
    "\n",
    "    popt, pcov = fit_dic[\"p_opt\"], fit_dic[\"p_cov\"]\n",
    "\n",
    "    # calculate the squared error of fit and data points\n",
    "    y_st =[]\n",
    "    x_st = []\n",
    "    for y_val, x_val in zip(ydata, xdata):\n",
    "        if np.isnan(y_val) or np.isnan(x_val):\n",
    "            continue\n",
    "        y_st.append(y_val)\n",
    "        x_st.append(x_val)\n",
    "    y_st = np.array(y_st)\n",
    "    x_st = np.array(x_st)\n",
    "    squared_error = np.sum((y_st - neg_growth(x_st, *popt))**2)\n",
    "    # print(\"{:.6f}\".format(squared_error), str(idx) + \": The optimal parameters are \" + \" and \".join(\"%.3f\" % x for x in popt) + \". The variance is \" + \" and respectively \".join(\"{:.3f} {:.3f}\".format(x, y) for x, y in pcov) + \".\")\n",
    "\n",
    "    # ToDo: fill new dataframe\n",
    "    new_row = pd.DataFrame({\"Experiment\":kinetic_curve[\"experiment\"].iloc[1], \"max_conversion\":max(ydata),\n",
    "                        \"reaction_end\":\"yet to calc\", \"fit_p1\":[popt[0]],\"fit_p2\":[popt[1]], \"p1_err1\":[pcov[0][0]],\"p1_err2\":[pcov[0][1]],\"p2_err1\":[pcov[1][0]],\"p2_err2\":[pcov[1][1]], \"squared_error\":squared_error})\n",
    "    kinetics_df = pd.concat([kinetics_df, new_row])\n",
    "\n",
    "    # filter for inspection\n",
    "    # if not ((popt[1]) < 0.001).any(): continue\n",
    "    # hard_to_fit.append(idx)\n",
    "\n",
    "''' comment out if no plot is needed.\n",
    "    marker_dict = dict(color=colors[idx%len(colors)]) # set same colors per kinetic\n",
    "    fig.add_scatter(x=xdata, y=ydata, mode=\"lines+markers\", opacity=1, name=kinetic_curve[\"experiment\"].iloc[1], marker=marker_dict)\n",
    "    add_fits_to_plot(neg_growth, neg_growth_derivative, popt, marker_dict)\n",
    "    # add_fits_to_plot(linear_growth, linear_growth_derivative, [popt_l], marker_dict)\n",
    "\n",
    "\n",
    "fig.update_layout(\n",
    "    yaxis=dict(\n",
    "        range=[-0.1,1]\n",
    "    ),\n",
    "    xaxis_title=\"Time [h]\",\n",
    "    yaxis_title=\"Conversion [%]\"\n",
    ")\n",
    "fig.show()\n",
    "# '''\n",
    "print(hard_to_fit, len(hard_to_fit)/len(kinetic_curves))\n",
    "kinetics_df.reset_index(drop=True, inplace=True)\n"
   ],
   "metadata": {
    "collapsed": false,
    "pycharm": {
     "name": "#%%\n"
    }
   }
  },
  {
   "cell_type": "code",
   "execution_count": 49,
   "outputs": [
    {
     "data": {
      "text/plain": "      Experiment  max_conversion reaction_end  squared_error    fit_p1  \\\n0    301_4_A_DMF        0.032374  yet to calc       0.000233  0.021583   \n1   302_4_A_DMSO        0.109489  yet to calc       0.000054  0.199226   \n2  316_10_E_DMSO        1.000000  yet to calc       0.071159  1.000000   \n\n      fit_p2   p1_err1       p1_err2       p2_err1       p2_err2  \n0  14.416174  0.000015 -37554.463456 -37554.463456  4.844291e+14  \n1   0.052620  0.001595     -0.000578     -0.000578  2.130924e-04  \n2   0.356366  0.012476     -0.009427     -0.009427  1.357395e-02  ",
      "text/html": "<div>\n<style scoped>\n    .dataframe tbody tr th:only-of-type {\n        vertical-align: middle;\n    }\n\n    .dataframe tbody tr th {\n        vertical-align: top;\n    }\n\n    .dataframe thead th {\n        text-align: right;\n    }\n</style>\n<table border=\"1\" class=\"dataframe\">\n  <thead>\n    <tr style=\"text-align: right;\">\n      <th></th>\n      <th>Experiment</th>\n      <th>max_conversion</th>\n      <th>reaction_end</th>\n      <th>squared_error</th>\n      <th>fit_p1</th>\n      <th>fit_p2</th>\n      <th>p1_err1</th>\n      <th>p1_err2</th>\n      <th>p2_err1</th>\n      <th>p2_err2</th>\n    </tr>\n  </thead>\n  <tbody>\n    <tr>\n      <th>0</th>\n      <td>301_4_A_DMF</td>\n      <td>0.032374</td>\n      <td>yet to calc</td>\n      <td>0.000233</td>\n      <td>0.021583</td>\n      <td>14.416174</td>\n      <td>0.000015</td>\n      <td>-37554.463456</td>\n      <td>-37554.463456</td>\n      <td>4.844291e+14</td>\n    </tr>\n    <tr>\n      <th>1</th>\n      <td>302_4_A_DMSO</td>\n      <td>0.109489</td>\n      <td>yet to calc</td>\n      <td>0.000054</td>\n      <td>0.199226</td>\n      <td>0.052620</td>\n      <td>0.001595</td>\n      <td>-0.000578</td>\n      <td>-0.000578</td>\n      <td>2.130924e-04</td>\n    </tr>\n    <tr>\n      <th>2</th>\n      <td>316_10_E_DMSO</td>\n      <td>1.000000</td>\n      <td>yet to calc</td>\n      <td>0.071159</td>\n      <td>1.000000</td>\n      <td>0.356366</td>\n      <td>0.012476</td>\n      <td>-0.009427</td>\n      <td>-0.009427</td>\n      <td>1.357395e-02</td>\n    </tr>\n  </tbody>\n</table>\n</div>"
     },
     "execution_count": 49,
     "metadata": {},
     "output_type": "execute_result"
    }
   ],
   "source": [
    "kinetics_df"
   ],
   "metadata": {
    "collapsed": false,
    "pycharm": {
     "name": "#%%\n"
    }
   }
  },
  {
   "cell_type": "code",
   "execution_count": 66,
   "outputs": [
    {
     "data": {
      "text/plain": "        Experiment  max_conversion reaction_end  squared_error    fit_p1  \\\n0        0_6_A_DMF        0.516574  yet to calc       0.132619  0.735853   \n1       1_6_A_DMSO        0.697321  yet to calc       0.065994  0.802498   \n2        2_6_A_Tol        0.323281  yet to calc       0.019634  1.000000   \n3        3_7_A_DMF        0.565125  yet to calc       0.050310  0.953088   \n4       4_7_A_DMSO        0.790565  yet to calc       0.075483  1.000000   \n..             ...             ...          ...            ...       ...   \n312    312_9_E_DMF        0.734328  yet to calc       0.001451  0.796486   \n313   313_9_E_DMSO        0.546547  yet to calc       0.000053  0.929680   \n314    314_9_E_Tol        0.360000  yet to calc       0.142720  0.383237   \n315   315_10_E_DMF        0.840426  yet to calc       0.200499  0.928939   \n316  316_10_E_DMSO        1.000000  yet to calc       7.910574  1.000000   \n\n       fit_p2       p1_err1       p1_err2       p2_err1       p2_err2  \n0    0.079203  4.153013e-06 -7.039353e-07 -7.039353e-07  9.499459e-18  \n1    0.133161  3.664366e-07 -1.139481e-07 -1.139481e-07  3.119301e-18  \n2    0.025778  4.337425e-05 -1.333976e-06 -1.333976e-06  3.140197e-18  \n3    0.059934  4.275014e-06 -3.874440e-07 -3.874440e-07  2.739075e-18  \n4    0.097675  1.877854e-06 -3.320342e-07 -3.320342e-07  4.762951e-18  \n..        ...           ...           ...           ...           ...  \n312  0.165271  4.090866e-09 -1.677918e-09 -1.677918e-09  6.627301e-20  \n313  0.204371  1.155602e-08 -3.678407e-09 -3.678407e-09  9.096412e-20  \n314  0.197675  2.617283e-07 -2.749154e-07 -2.749154e-07  3.040122e-17  \n315  0.154520  6.464905e-07 -2.092770e-07 -2.092770e-07  6.363344e-18  \n316  0.356366  5.831019e-06 -4.476423e-06 -4.476423e-06  4.996798e-16  \n\n[317 rows x 10 columns]",
      "text/html": "<div>\n<style scoped>\n    .dataframe tbody tr th:only-of-type {\n        vertical-align: middle;\n    }\n\n    .dataframe tbody tr th {\n        vertical-align: top;\n    }\n\n    .dataframe thead th {\n        text-align: right;\n    }\n</style>\n<table border=\"1\" class=\"dataframe\">\n  <thead>\n    <tr style=\"text-align: right;\">\n      <th></th>\n      <th>Experiment</th>\n      <th>max_conversion</th>\n      <th>reaction_end</th>\n      <th>squared_error</th>\n      <th>fit_p1</th>\n      <th>fit_p2</th>\n      <th>p1_err1</th>\n      <th>p1_err2</th>\n      <th>p2_err1</th>\n      <th>p2_err2</th>\n    </tr>\n  </thead>\n  <tbody>\n    <tr>\n      <th>0</th>\n      <td>0_6_A_DMF</td>\n      <td>0.516574</td>\n      <td>yet to calc</td>\n      <td>0.132619</td>\n      <td>0.735853</td>\n      <td>0.079203</td>\n      <td>4.153013e-06</td>\n      <td>-7.039353e-07</td>\n      <td>-7.039353e-07</td>\n      <td>9.499459e-18</td>\n    </tr>\n    <tr>\n      <th>1</th>\n      <td>1_6_A_DMSO</td>\n      <td>0.697321</td>\n      <td>yet to calc</td>\n      <td>0.065994</td>\n      <td>0.802498</td>\n      <td>0.133161</td>\n      <td>3.664366e-07</td>\n      <td>-1.139481e-07</td>\n      <td>-1.139481e-07</td>\n      <td>3.119301e-18</td>\n    </tr>\n    <tr>\n      <th>2</th>\n      <td>2_6_A_Tol</td>\n      <td>0.323281</td>\n      <td>yet to calc</td>\n      <td>0.019634</td>\n      <td>1.000000</td>\n      <td>0.025778</td>\n      <td>4.337425e-05</td>\n      <td>-1.333976e-06</td>\n      <td>-1.333976e-06</td>\n      <td>3.140197e-18</td>\n    </tr>\n    <tr>\n      <th>3</th>\n      <td>3_7_A_DMF</td>\n      <td>0.565125</td>\n      <td>yet to calc</td>\n      <td>0.050310</td>\n      <td>0.953088</td>\n      <td>0.059934</td>\n      <td>4.275014e-06</td>\n      <td>-3.874440e-07</td>\n      <td>-3.874440e-07</td>\n      <td>2.739075e-18</td>\n    </tr>\n    <tr>\n      <th>4</th>\n      <td>4_7_A_DMSO</td>\n      <td>0.790565</td>\n      <td>yet to calc</td>\n      <td>0.075483</td>\n      <td>1.000000</td>\n      <td>0.097675</td>\n      <td>1.877854e-06</td>\n      <td>-3.320342e-07</td>\n      <td>-3.320342e-07</td>\n      <td>4.762951e-18</td>\n    </tr>\n    <tr>\n      <th>...</th>\n      <td>...</td>\n      <td>...</td>\n      <td>...</td>\n      <td>...</td>\n      <td>...</td>\n      <td>...</td>\n      <td>...</td>\n      <td>...</td>\n      <td>...</td>\n      <td>...</td>\n    </tr>\n    <tr>\n      <th>312</th>\n      <td>312_9_E_DMF</td>\n      <td>0.734328</td>\n      <td>yet to calc</td>\n      <td>0.001451</td>\n      <td>0.796486</td>\n      <td>0.165271</td>\n      <td>4.090866e-09</td>\n      <td>-1.677918e-09</td>\n      <td>-1.677918e-09</td>\n      <td>6.627301e-20</td>\n    </tr>\n    <tr>\n      <th>313</th>\n      <td>313_9_E_DMSO</td>\n      <td>0.546547</td>\n      <td>yet to calc</td>\n      <td>0.000053</td>\n      <td>0.929680</td>\n      <td>0.204371</td>\n      <td>1.155602e-08</td>\n      <td>-3.678407e-09</td>\n      <td>-3.678407e-09</td>\n      <td>9.096412e-20</td>\n    </tr>\n    <tr>\n      <th>314</th>\n      <td>314_9_E_Tol</td>\n      <td>0.360000</td>\n      <td>yet to calc</td>\n      <td>0.142720</td>\n      <td>0.383237</td>\n      <td>0.197675</td>\n      <td>2.617283e-07</td>\n      <td>-2.749154e-07</td>\n      <td>-2.749154e-07</td>\n      <td>3.040122e-17</td>\n    </tr>\n    <tr>\n      <th>315</th>\n      <td>315_10_E_DMF</td>\n      <td>0.840426</td>\n      <td>yet to calc</td>\n      <td>0.200499</td>\n      <td>0.928939</td>\n      <td>0.154520</td>\n      <td>6.464905e-07</td>\n      <td>-2.092770e-07</td>\n      <td>-2.092770e-07</td>\n      <td>6.363344e-18</td>\n    </tr>\n    <tr>\n      <th>316</th>\n      <td>316_10_E_DMSO</td>\n      <td>1.000000</td>\n      <td>yet to calc</td>\n      <td>7.910574</td>\n      <td>1.000000</td>\n      <td>0.356366</td>\n      <td>5.831019e-06</td>\n      <td>-4.476423e-06</td>\n      <td>-4.476423e-06</td>\n      <td>4.996798e-16</td>\n    </tr>\n  </tbody>\n</table>\n<p>317 rows × 10 columns</p>\n</div>"
     },
     "execution_count": 66,
     "metadata": {},
     "output_type": "execute_result"
    }
   ],
   "source": [
    "# normalize the errors by dividing them by their respective standard deviation\n",
    "def normalize_errors(errors):\n",
    "    return errors / np.std(errors)\n",
    "\n",
    "for error in [\"squared_error\", \"p1_err1\", \"p1_err2\", \"p2_err1\", \"p2_err2\"]:\n",
    "    kinetics_df[error] = normalize_errors(kinetics_df[error])\n",
    "\n",
    "kinetics_df"
   ],
   "metadata": {
    "collapsed": false,
    "pycharm": {
     "name": "#%%\n"
    }
   }
  },
  {
   "cell_type": "code",
   "execution_count": 69,
   "outputs": [
    {
     "data": {
      "text/plain": "      Experiment  max_conversion reaction_end  squared_error    fit_p1  \\\n301  301_4_A_DMF        0.032374  yet to calc       0.025892  0.021583   \n\n        fit_p2       p1_err1    p1_err2    p2_err1    p2_err2  \n301  14.416174  6.803620e-09  17.832974  17.832974  17.832643  ",
      "text/html": "<div>\n<style scoped>\n    .dataframe tbody tr th:only-of-type {\n        vertical-align: middle;\n    }\n\n    .dataframe tbody tr th {\n        vertical-align: top;\n    }\n\n    .dataframe thead th {\n        text-align: right;\n    }\n</style>\n<table border=\"1\" class=\"dataframe\">\n  <thead>\n    <tr style=\"text-align: right;\">\n      <th></th>\n      <th>Experiment</th>\n      <th>max_conversion</th>\n      <th>reaction_end</th>\n      <th>squared_error</th>\n      <th>fit_p1</th>\n      <th>fit_p2</th>\n      <th>p1_err1</th>\n      <th>p1_err2</th>\n      <th>p2_err1</th>\n      <th>p2_err2</th>\n    </tr>\n  </thead>\n  <tbody>\n    <tr>\n      <th>301</th>\n      <td>301_4_A_DMF</td>\n      <td>0.032374</td>\n      <td>yet to calc</td>\n      <td>0.025892</td>\n      <td>0.021583</td>\n      <td>14.416174</td>\n      <td>6.803620e-09</td>\n      <td>17.832974</td>\n      <td>17.832974</td>\n      <td>17.832643</td>\n    </tr>\n  </tbody>\n</table>\n</div>"
     },
     "execution_count": 69,
     "metadata": {},
     "output_type": "execute_result"
    }
   ],
   "source": [
    "# drop conversions of less than 0.1 for error analysis\n",
    "kinetics_df[kinetics_df[\"p1_err2\"]>0.1]"
   ],
   "metadata": {
    "collapsed": false,
    "pycharm": {
     "name": "#%%\n"
    }
   }
  },
  {
   "cell_type": "code",
   "execution_count": 96,
   "outputs": [
    {
     "data": {
      "application/vnd.plotly.v1+json": {
       "data": [
        {
         "alignmentgroup": "True",
         "box": {
          "visible": true
         },
         "hovertemplate": "variable=%{x}<br>value=%{y}<extra></extra>",
         "legendgroup": "",
         "marker": {
          "color": "#636efa"
         },
         "name": "",
         "offsetgroup": "",
         "orientation": "v",
         "points": "all",
         "scalegroup": "True",
         "showlegend": false,
         "x": [
          "squared_error",
          "squared_error",
          "squared_error",
          "squared_error",
          "squared_error",
          "squared_error",
          "squared_error",
          "squared_error",
          "squared_error",
          "squared_error",
          "squared_error",
          "squared_error",
          "squared_error",
          "squared_error",
          "squared_error",
          "squared_error",
          "squared_error",
          "squared_error",
          "squared_error",
          "squared_error",
          "squared_error",
          "squared_error",
          "squared_error",
          "squared_error",
          "squared_error",
          "squared_error",
          "squared_error",
          "squared_error",
          "squared_error",
          "squared_error",
          "squared_error",
          "squared_error",
          "squared_error",
          "squared_error",
          "squared_error",
          "squared_error",
          "squared_error",
          "squared_error",
          "squared_error",
          "squared_error",
          "squared_error",
          "squared_error",
          "squared_error",
          "squared_error",
          "squared_error",
          "squared_error",
          "squared_error",
          "squared_error",
          "squared_error",
          "squared_error",
          "squared_error",
          "squared_error",
          "squared_error",
          "squared_error",
          "squared_error",
          "squared_error",
          "squared_error",
          "squared_error",
          "squared_error",
          "squared_error",
          "squared_error",
          "squared_error",
          "squared_error",
          "squared_error",
          "squared_error",
          "squared_error",
          "squared_error",
          "squared_error",
          "squared_error",
          "squared_error",
          "squared_error",
          "squared_error",
          "squared_error",
          "squared_error",
          "squared_error",
          "squared_error",
          "squared_error",
          "squared_error",
          "squared_error",
          "squared_error",
          "squared_error",
          "squared_error",
          "squared_error",
          "squared_error",
          "squared_error",
          "squared_error",
          "squared_error",
          "squared_error",
          "squared_error",
          "squared_error",
          "squared_error",
          "squared_error",
          "squared_error",
          "squared_error",
          "squared_error",
          "squared_error",
          "squared_error",
          "squared_error",
          "squared_error",
          "squared_error",
          "squared_error",
          "squared_error",
          "squared_error",
          "squared_error",
          "squared_error",
          "squared_error",
          "squared_error",
          "squared_error",
          "squared_error",
          "squared_error",
          "squared_error",
          "squared_error",
          "squared_error",
          "squared_error",
          "squared_error",
          "squared_error",
          "squared_error",
          "squared_error",
          "squared_error",
          "squared_error",
          "squared_error",
          "squared_error",
          "squared_error",
          "squared_error",
          "squared_error",
          "squared_error",
          "squared_error",
          "squared_error",
          "squared_error",
          "squared_error",
          "squared_error",
          "squared_error",
          "squared_error",
          "squared_error",
          "squared_error",
          "squared_error",
          "squared_error",
          "squared_error",
          "squared_error",
          "squared_error",
          "squared_error",
          "squared_error",
          "squared_error",
          "squared_error",
          "squared_error",
          "squared_error",
          "squared_error",
          "squared_error",
          "squared_error",
          "squared_error",
          "squared_error",
          "squared_error",
          "squared_error",
          "squared_error",
          "squared_error",
          "squared_error",
          "squared_error",
          "squared_error",
          "squared_error",
          "squared_error",
          "squared_error",
          "squared_error",
          "squared_error",
          "squared_error",
          "squared_error",
          "squared_error",
          "squared_error",
          "squared_error",
          "squared_error",
          "squared_error",
          "squared_error",
          "squared_error",
          "squared_error",
          "squared_error",
          "squared_error",
          "squared_error",
          "squared_error",
          "squared_error",
          "squared_error",
          "squared_error",
          "squared_error",
          "squared_error",
          "squared_error",
          "squared_error",
          "squared_error",
          "squared_error",
          "squared_error",
          "squared_error",
          "squared_error",
          "squared_error",
          "squared_error",
          "squared_error",
          "squared_error",
          "squared_error",
          "squared_error",
          "squared_error",
          "squared_error",
          "squared_error",
          "squared_error",
          "squared_error",
          "squared_error",
          "squared_error",
          "squared_error",
          "squared_error",
          "squared_error",
          "squared_error",
          "squared_error",
          "squared_error",
          "squared_error",
          "squared_error",
          "squared_error",
          "squared_error",
          "squared_error",
          "squared_error",
          "squared_error",
          "squared_error",
          "squared_error",
          "squared_error",
          "squared_error",
          "squared_error",
          "squared_error",
          "squared_error",
          "squared_error",
          "squared_error",
          "squared_error",
          "squared_error",
          "squared_error",
          "squared_error",
          "squared_error",
          "squared_error",
          "squared_error",
          "squared_error",
          "squared_error",
          "squared_error",
          "squared_error",
          "squared_error",
          "squared_error",
          "squared_error",
          "squared_error",
          "squared_error",
          "squared_error",
          "squared_error",
          "squared_error",
          "squared_error",
          "squared_error",
          "squared_error",
          "squared_error",
          "squared_error",
          "squared_error",
          "squared_error",
          "squared_error",
          "squared_error",
          "squared_error",
          "squared_error",
          "squared_error",
          "squared_error",
          "squared_error",
          "squared_error",
          "squared_error",
          "squared_error",
          "squared_error",
          "squared_error",
          "squared_error",
          "squared_error",
          "squared_error",
          "squared_error",
          "squared_error",
          "squared_error",
          "squared_error",
          "squared_error",
          "squared_error",
          "squared_error",
          "squared_error",
          "squared_error",
          "squared_error",
          "squared_error",
          "squared_error",
          "squared_error",
          "squared_error",
          "squared_error",
          "squared_error",
          "squared_error",
          "squared_error",
          "squared_error",
          "squared_error",
          "squared_error",
          "squared_error",
          "squared_error",
          "squared_error",
          "squared_error",
          "squared_error",
          "squared_error",
          "squared_error",
          "squared_error",
          "squared_error",
          "squared_error",
          "squared_error",
          "squared_error",
          "squared_error",
          "squared_error",
          "squared_error",
          "squared_error",
          "squared_error",
          "squared_error",
          "squared_error",
          "squared_error",
          "squared_error",
          "squared_error",
          "squared_error",
          "squared_error",
          "squared_error",
          "squared_error",
          "squared_error",
          "squared_error",
          "squared_error",
          "squared_error",
          "squared_error",
          "p1_err1",
          "p1_err1",
          "p1_err1",
          "p1_err1",
          "p1_err1",
          "p1_err1",
          "p1_err1",
          "p1_err1",
          "p1_err1",
          "p1_err1",
          "p1_err1",
          "p1_err1",
          "p1_err1",
          "p1_err1",
          "p1_err1",
          "p1_err1",
          "p1_err1",
          "p1_err1",
          "p1_err1",
          "p1_err1",
          "p1_err1",
          "p1_err1",
          "p1_err1",
          "p1_err1",
          "p1_err1",
          "p1_err1",
          "p1_err1",
          "p1_err1",
          "p1_err1",
          "p1_err1",
          "p1_err1",
          "p1_err1",
          "p1_err1",
          "p1_err1",
          "p1_err1",
          "p1_err1",
          "p1_err1",
          "p1_err1",
          "p1_err1",
          "p1_err1",
          "p1_err1",
          "p1_err1",
          "p1_err1",
          "p1_err1",
          "p1_err1",
          "p1_err1",
          "p1_err1",
          "p1_err1",
          "p1_err1",
          "p1_err1",
          "p1_err1",
          "p1_err1",
          "p1_err1",
          "p1_err1",
          "p1_err1",
          "p1_err1",
          "p1_err1",
          "p1_err1",
          "p1_err1",
          "p1_err1",
          "p1_err1",
          "p1_err1",
          "p1_err1",
          "p1_err1",
          "p1_err1",
          "p1_err1",
          "p1_err1",
          "p1_err1",
          "p1_err1",
          "p1_err1",
          "p1_err1",
          "p1_err1",
          "p1_err1",
          "p1_err1",
          "p1_err1",
          "p1_err1",
          "p1_err1",
          "p1_err1",
          "p1_err1",
          "p1_err1",
          "p1_err1",
          "p1_err1",
          "p1_err1",
          "p1_err1",
          "p1_err1",
          "p1_err1",
          "p1_err1",
          "p1_err1",
          "p1_err1",
          "p1_err1",
          "p1_err1",
          "p1_err1",
          "p1_err1",
          "p1_err1",
          "p1_err1",
          "p1_err1",
          "p1_err1",
          "p1_err1",
          "p1_err1",
          "p1_err1",
          "p1_err1",
          "p1_err1",
          "p1_err1",
          "p1_err1",
          "p1_err1",
          "p1_err1",
          "p1_err1",
          "p1_err1",
          "p1_err1",
          "p1_err1",
          "p1_err1",
          "p1_err1",
          "p1_err1",
          "p1_err1",
          "p1_err1",
          "p1_err1",
          "p1_err1",
          "p1_err1",
          "p1_err1",
          "p1_err1",
          "p1_err1",
          "p1_err1",
          "p1_err1",
          "p1_err1",
          "p1_err1",
          "p1_err1",
          "p1_err1",
          "p1_err1",
          "p1_err1",
          "p1_err1",
          "p1_err1",
          "p1_err1",
          "p1_err1",
          "p1_err1",
          "p1_err1",
          "p1_err1",
          "p1_err1",
          "p1_err1",
          "p1_err1",
          "p1_err1",
          "p1_err1",
          "p1_err1",
          "p1_err1",
          "p1_err1",
          "p1_err1",
          "p1_err1",
          "p1_err1",
          "p1_err1",
          "p1_err1",
          "p1_err1",
          "p1_err1",
          "p1_err1",
          "p1_err1",
          "p1_err1",
          "p1_err1",
          "p1_err1",
          "p1_err1",
          "p1_err1",
          "p1_err1",
          "p1_err1",
          "p1_err1",
          "p1_err1",
          "p1_err1",
          "p1_err1",
          "p1_err1",
          "p1_err1",
          "p1_err1",
          "p1_err1",
          "p1_err1",
          "p1_err1",
          "p1_err1",
          "p1_err1",
          "p1_err1",
          "p1_err1",
          "p1_err1",
          "p1_err1",
          "p1_err1",
          "p1_err1",
          "p1_err1",
          "p1_err1",
          "p1_err1",
          "p1_err1",
          "p1_err1",
          "p1_err1",
          "p1_err1",
          "p1_err1",
          "p1_err1",
          "p1_err1",
          "p1_err1",
          "p1_err1",
          "p1_err1",
          "p1_err1",
          "p1_err1",
          "p1_err1",
          "p1_err1",
          "p1_err1",
          "p1_err1",
          "p1_err1",
          "p1_err1",
          "p1_err1",
          "p1_err1",
          "p1_err1",
          "p1_err1",
          "p1_err1",
          "p1_err1",
          "p1_err1",
          "p1_err1",
          "p1_err1",
          "p1_err1",
          "p1_err1",
          "p1_err1",
          "p1_err1",
          "p1_err1",
          "p1_err1",
          "p1_err1",
          "p1_err1",
          "p1_err1",
          "p1_err1",
          "p1_err1",
          "p1_err1",
          "p1_err1",
          "p1_err1",
          "p1_err1",
          "p1_err1",
          "p1_err1",
          "p1_err1",
          "p1_err1",
          "p1_err1",
          "p1_err1",
          "p1_err1",
          "p1_err1",
          "p1_err1",
          "p1_err1",
          "p1_err1",
          "p1_err1",
          "p1_err1",
          "p1_err1",
          "p1_err1",
          "p1_err1",
          "p1_err1",
          "p1_err1",
          "p1_err1",
          "p1_err1",
          "p1_err1",
          "p1_err1",
          "p1_err1",
          "p1_err1",
          "p1_err1",
          "p1_err1",
          "p1_err1",
          "p1_err1",
          "p1_err1",
          "p1_err1",
          "p1_err1",
          "p1_err1",
          "p1_err1",
          "p1_err1",
          "p1_err1",
          "p1_err1",
          "p1_err1",
          "p1_err1",
          "p1_err1",
          "p1_err1",
          "p1_err1",
          "p1_err1",
          "p1_err1",
          "p1_err1",
          "p1_err1",
          "p1_err1",
          "p1_err1",
          "p1_err1",
          "p1_err1",
          "p1_err1",
          "p1_err1",
          "p1_err1",
          "p1_err1",
          "p1_err1",
          "p1_err1",
          "p1_err1",
          "p1_err1",
          "p1_err1",
          "p1_err1",
          "p1_err1",
          "p1_err1",
          "p1_err1",
          "p1_err1",
          "p1_err1",
          "p1_err1",
          "p1_err1",
          "p1_err1",
          "p1_err1",
          "p1_err1",
          "p1_err1",
          "p1_err1",
          "p1_err1",
          "p1_err1",
          "p1_err1",
          "p1_err1",
          "p1_err1",
          "p1_err1",
          "p1_err1",
          "p1_err1",
          "p1_err1",
          "p1_err1",
          "p1_err1",
          "p1_err1",
          "p1_err1",
          "p1_err1",
          "p1_err1",
          "p1_err1",
          "p1_err1",
          "p1_err1",
          "p1_err1",
          "p1_err1",
          "p1_err1",
          "p1_err1",
          "p1_err1",
          "p1_err2",
          "p1_err2",
          "p1_err2",
          "p1_err2",
          "p1_err2",
          "p1_err2",
          "p1_err2",
          "p1_err2",
          "p1_err2",
          "p1_err2",
          "p1_err2",
          "p1_err2",
          "p1_err2",
          "p1_err2",
          "p1_err2",
          "p1_err2",
          "p1_err2",
          "p1_err2",
          "p1_err2",
          "p1_err2",
          "p1_err2",
          "p1_err2",
          "p1_err2",
          "p1_err2",
          "p1_err2",
          "p1_err2",
          "p1_err2",
          "p1_err2",
          "p1_err2",
          "p1_err2",
          "p1_err2",
          "p1_err2",
          "p1_err2",
          "p1_err2",
          "p1_err2",
          "p1_err2",
          "p1_err2",
          "p1_err2",
          "p1_err2",
          "p1_err2",
          "p1_err2",
          "p1_err2",
          "p1_err2",
          "p1_err2",
          "p1_err2",
          "p1_err2",
          "p1_err2",
          "p1_err2",
          "p1_err2",
          "p1_err2",
          "p1_err2",
          "p1_err2",
          "p1_err2",
          "p1_err2",
          "p1_err2",
          "p1_err2",
          "p1_err2",
          "p1_err2",
          "p1_err2",
          "p1_err2",
          "p1_err2",
          "p1_err2",
          "p1_err2",
          "p1_err2",
          "p1_err2",
          "p1_err2",
          "p1_err2",
          "p1_err2",
          "p1_err2",
          "p1_err2",
          "p1_err2",
          "p1_err2",
          "p1_err2",
          "p1_err2",
          "p1_err2",
          "p1_err2",
          "p1_err2",
          "p1_err2",
          "p1_err2",
          "p1_err2",
          "p1_err2",
          "p1_err2",
          "p1_err2",
          "p1_err2",
          "p1_err2",
          "p1_err2",
          "p1_err2",
          "p1_err2",
          "p1_err2",
          "p1_err2",
          "p1_err2",
          "p1_err2",
          "p1_err2",
          "p1_err2",
          "p1_err2",
          "p1_err2",
          "p1_err2",
          "p1_err2",
          "p1_err2",
          "p1_err2",
          "p1_err2",
          "p1_err2",
          "p1_err2",
          "p1_err2",
          "p1_err2",
          "p1_err2",
          "p1_err2",
          "p1_err2",
          "p1_err2",
          "p1_err2",
          "p1_err2",
          "p1_err2",
          "p1_err2",
          "p1_err2",
          "p1_err2",
          "p1_err2",
          "p1_err2",
          "p1_err2",
          "p1_err2",
          "p1_err2",
          "p1_err2",
          "p1_err2",
          "p1_err2",
          "p1_err2",
          "p1_err2",
          "p1_err2",
          "p1_err2",
          "p1_err2",
          "p1_err2",
          "p1_err2",
          "p1_err2",
          "p1_err2",
          "p1_err2",
          "p1_err2",
          "p1_err2",
          "p1_err2",
          "p1_err2",
          "p1_err2",
          "p1_err2",
          "p1_err2",
          "p1_err2",
          "p1_err2",
          "p1_err2",
          "p1_err2",
          "p1_err2",
          "p1_err2",
          "p1_err2",
          "p1_err2",
          "p1_err2",
          "p1_err2",
          "p1_err2",
          "p1_err2",
          "p1_err2",
          "p1_err2",
          "p1_err2",
          "p1_err2",
          "p1_err2",
          "p1_err2",
          "p1_err2",
          "p1_err2",
          "p1_err2",
          "p1_err2",
          "p1_err2",
          "p1_err2",
          "p1_err2",
          "p1_err2",
          "p1_err2",
          "p1_err2",
          "p1_err2",
          "p1_err2",
          "p1_err2",
          "p1_err2",
          "p1_err2",
          "p1_err2",
          "p1_err2",
          "p1_err2",
          "p1_err2",
          "p1_err2",
          "p1_err2",
          "p1_err2",
          "p1_err2",
          "p1_err2",
          "p1_err2",
          "p1_err2",
          "p1_err2",
          "p1_err2",
          "p1_err2",
          "p1_err2",
          "p1_err2",
          "p1_err2",
          "p1_err2",
          "p1_err2",
          "p1_err2",
          "p1_err2",
          "p1_err2",
          "p1_err2",
          "p1_err2",
          "p1_err2",
          "p1_err2",
          "p1_err2",
          "p1_err2",
          "p1_err2",
          "p1_err2",
          "p1_err2",
          "p1_err2",
          "p1_err2",
          "p1_err2",
          "p1_err2",
          "p1_err2",
          "p1_err2",
          "p1_err2",
          "p1_err2",
          "p1_err2",
          "p1_err2",
          "p1_err2",
          "p1_err2",
          "p1_err2",
          "p1_err2",
          "p1_err2",
          "p1_err2",
          "p1_err2",
          "p1_err2",
          "p1_err2",
          "p1_err2",
          "p1_err2",
          "p1_err2",
          "p1_err2",
          "p1_err2",
          "p1_err2",
          "p1_err2",
          "p1_err2",
          "p1_err2",
          "p1_err2",
          "p1_err2",
          "p1_err2",
          "p1_err2",
          "p1_err2",
          "p1_err2",
          "p1_err2",
          "p1_err2",
          "p1_err2",
          "p1_err2",
          "p1_err2",
          "p1_err2",
          "p1_err2",
          "p1_err2",
          "p1_err2",
          "p1_err2",
          "p1_err2",
          "p1_err2",
          "p1_err2",
          "p1_err2",
          "p1_err2",
          "p1_err2",
          "p1_err2",
          "p1_err2",
          "p1_err2",
          "p1_err2",
          "p1_err2",
          "p1_err2",
          "p1_err2",
          "p1_err2",
          "p1_err2",
          "p1_err2",
          "p1_err2",
          "p1_err2",
          "p1_err2",
          "p1_err2",
          "p1_err2",
          "p1_err2",
          "p1_err2",
          "p1_err2",
          "p1_err2",
          "p1_err2",
          "p1_err2",
          "p1_err2",
          "p1_err2",
          "p1_err2",
          "p1_err2",
          "p1_err2",
          "p1_err2",
          "p1_err2",
          "p1_err2",
          "p1_err2",
          "p1_err2",
          "p1_err2",
          "p1_err2",
          "p1_err2",
          "p1_err2",
          "p1_err2",
          "p1_err2",
          "p1_err2",
          "p1_err2",
          "p1_err2",
          "p1_err2",
          "p1_err2",
          "p1_err2",
          "p1_err2",
          "p1_err2",
          "p1_err2",
          "p1_err2",
          "p1_err2",
          "p1_err2",
          "p1_err2",
          "p1_err2",
          "p1_err2",
          "p1_err2",
          "p1_err2",
          "p1_err2",
          "p1_err2",
          "p1_err2",
          "p1_err2",
          "p1_err2",
          "p1_err2",
          "p1_err2",
          "p1_err2",
          "p1_err2",
          "p2_err1",
          "p2_err1",
          "p2_err1",
          "p2_err1",
          "p2_err1",
          "p2_err1",
          "p2_err1",
          "p2_err1",
          "p2_err1",
          "p2_err1",
          "p2_err1",
          "p2_err1",
          "p2_err1",
          "p2_err1",
          "p2_err1",
          "p2_err1",
          "p2_err1",
          "p2_err1",
          "p2_err1",
          "p2_err1",
          "p2_err1",
          "p2_err1",
          "p2_err1",
          "p2_err1",
          "p2_err1",
          "p2_err1",
          "p2_err1",
          "p2_err1",
          "p2_err1",
          "p2_err1",
          "p2_err1",
          "p2_err1",
          "p2_err1",
          "p2_err1",
          "p2_err1",
          "p2_err1",
          "p2_err1",
          "p2_err1",
          "p2_err1",
          "p2_err1",
          "p2_err1",
          "p2_err1",
          "p2_err1",
          "p2_err1",
          "p2_err1",
          "p2_err1",
          "p2_err1",
          "p2_err1",
          "p2_err1",
          "p2_err1",
          "p2_err1",
          "p2_err1",
          "p2_err1",
          "p2_err1",
          "p2_err1",
          "p2_err1",
          "p2_err1",
          "p2_err1",
          "p2_err1",
          "p2_err1",
          "p2_err1",
          "p2_err1",
          "p2_err1",
          "p2_err1",
          "p2_err1",
          "p2_err1",
          "p2_err1",
          "p2_err1",
          "p2_err1",
          "p2_err1",
          "p2_err1",
          "p2_err1",
          "p2_err1",
          "p2_err1",
          "p2_err1",
          "p2_err1",
          "p2_err1",
          "p2_err1",
          "p2_err1",
          "p2_err1",
          "p2_err1",
          "p2_err1",
          "p2_err1",
          "p2_err1",
          "p2_err1",
          "p2_err1",
          "p2_err1",
          "p2_err1",
          "p2_err1",
          "p2_err1",
          "p2_err1",
          "p2_err1",
          "p2_err1",
          "p2_err1",
          "p2_err1",
          "p2_err1",
          "p2_err1",
          "p2_err1",
          "p2_err1",
          "p2_err1",
          "p2_err1",
          "p2_err1",
          "p2_err1",
          "p2_err1",
          "p2_err1",
          "p2_err1",
          "p2_err1",
          "p2_err1",
          "p2_err1",
          "p2_err1",
          "p2_err1",
          "p2_err1",
          "p2_err1",
          "p2_err1",
          "p2_err1",
          "p2_err1",
          "p2_err1",
          "p2_err1",
          "p2_err1",
          "p2_err1",
          "p2_err1",
          "p2_err1",
          "p2_err1",
          "p2_err1",
          "p2_err1",
          "p2_err1",
          "p2_err1",
          "p2_err1",
          "p2_err1",
          "p2_err1",
          "p2_err1",
          "p2_err1",
          "p2_err1",
          "p2_err1",
          "p2_err1",
          "p2_err1",
          "p2_err1",
          "p2_err1",
          "p2_err1",
          "p2_err1",
          "p2_err1",
          "p2_err1",
          "p2_err1",
          "p2_err1",
          "p2_err1",
          "p2_err1",
          "p2_err1",
          "p2_err1",
          "p2_err1",
          "p2_err1",
          "p2_err1",
          "p2_err1",
          "p2_err1",
          "p2_err1",
          "p2_err1",
          "p2_err1",
          "p2_err1",
          "p2_err1",
          "p2_err1",
          "p2_err1",
          "p2_err1",
          "p2_err1",
          "p2_err1",
          "p2_err1",
          "p2_err1",
          "p2_err1",
          "p2_err1",
          "p2_err1",
          "p2_err1",
          "p2_err1",
          "p2_err1",
          "p2_err1",
          "p2_err1",
          "p2_err1",
          "p2_err1",
          "p2_err1",
          "p2_err1",
          "p2_err1",
          "p2_err1",
          "p2_err1",
          "p2_err1",
          "p2_err1",
          "p2_err1",
          "p2_err1",
          "p2_err1",
          "p2_err1",
          "p2_err1",
          "p2_err1",
          "p2_err1",
          "p2_err1",
          "p2_err1",
          "p2_err1",
          "p2_err1",
          "p2_err1",
          "p2_err1",
          "p2_err1",
          "p2_err1",
          "p2_err1",
          "p2_err1",
          "p2_err1",
          "p2_err1",
          "p2_err1",
          "p2_err1",
          "p2_err1",
          "p2_err1",
          "p2_err1",
          "p2_err1",
          "p2_err1",
          "p2_err1",
          "p2_err1",
          "p2_err1",
          "p2_err1",
          "p2_err1",
          "p2_err1",
          "p2_err1",
          "p2_err1",
          "p2_err1",
          "p2_err1",
          "p2_err1",
          "p2_err1",
          "p2_err1",
          "p2_err1",
          "p2_err1",
          "p2_err1",
          "p2_err1",
          "p2_err1",
          "p2_err1",
          "p2_err1",
          "p2_err1",
          "p2_err1",
          "p2_err1",
          "p2_err1",
          "p2_err1",
          "p2_err1",
          "p2_err1",
          "p2_err1",
          "p2_err1",
          "p2_err1",
          "p2_err1",
          "p2_err1",
          "p2_err1",
          "p2_err1",
          "p2_err1",
          "p2_err1",
          "p2_err1",
          "p2_err1",
          "p2_err1",
          "p2_err1",
          "p2_err1",
          "p2_err1",
          "p2_err1",
          "p2_err1",
          "p2_err1",
          "p2_err1",
          "p2_err1",
          "p2_err1",
          "p2_err1",
          "p2_err1",
          "p2_err1",
          "p2_err1",
          "p2_err1",
          "p2_err1",
          "p2_err1",
          "p2_err1",
          "p2_err1",
          "p2_err1",
          "p2_err1",
          "p2_err1",
          "p2_err1",
          "p2_err1",
          "p2_err1",
          "p2_err1",
          "p2_err1",
          "p2_err1",
          "p2_err1",
          "p2_err1",
          "p2_err1",
          "p2_err1",
          "p2_err1",
          "p2_err1",
          "p2_err1",
          "p2_err1",
          "p2_err1",
          "p2_err1",
          "p2_err1",
          "p2_err1",
          "p2_err1",
          "p2_err1",
          "p2_err1",
          "p2_err1",
          "p2_err1",
          "p2_err1",
          "p2_err1",
          "p2_err1",
          "p2_err1",
          "p2_err1",
          "p2_err1",
          "p2_err1",
          "p2_err1",
          "p2_err1",
          "p2_err1",
          "p2_err1",
          "p2_err1",
          "p2_err1",
          "p2_err1",
          "p2_err1",
          "p2_err1",
          "p2_err1",
          "p2_err1",
          "p2_err1",
          "p2_err1",
          "p2_err1",
          "p2_err1",
          "p2_err1",
          "p2_err1",
          "p2_err1",
          "p2_err1",
          "p2_err2",
          "p2_err2",
          "p2_err2",
          "p2_err2",
          "p2_err2",
          "p2_err2",
          "p2_err2",
          "p2_err2",
          "p2_err2",
          "p2_err2",
          "p2_err2",
          "p2_err2",
          "p2_err2",
          "p2_err2",
          "p2_err2",
          "p2_err2",
          "p2_err2",
          "p2_err2",
          "p2_err2",
          "p2_err2",
          "p2_err2",
          "p2_err2",
          "p2_err2",
          "p2_err2",
          "p2_err2",
          "p2_err2",
          "p2_err2",
          "p2_err2",
          "p2_err2",
          "p2_err2",
          "p2_err2",
          "p2_err2",
          "p2_err2",
          "p2_err2",
          "p2_err2",
          "p2_err2",
          "p2_err2",
          "p2_err2",
          "p2_err2",
          "p2_err2",
          "p2_err2",
          "p2_err2",
          "p2_err2",
          "p2_err2",
          "p2_err2",
          "p2_err2",
          "p2_err2",
          "p2_err2",
          "p2_err2",
          "p2_err2",
          "p2_err2",
          "p2_err2",
          "p2_err2",
          "p2_err2",
          "p2_err2",
          "p2_err2",
          "p2_err2",
          "p2_err2",
          "p2_err2",
          "p2_err2",
          "p2_err2",
          "p2_err2",
          "p2_err2",
          "p2_err2",
          "p2_err2",
          "p2_err2",
          "p2_err2",
          "p2_err2",
          "p2_err2",
          "p2_err2",
          "p2_err2",
          "p2_err2",
          "p2_err2",
          "p2_err2",
          "p2_err2",
          "p2_err2",
          "p2_err2",
          "p2_err2",
          "p2_err2",
          "p2_err2",
          "p2_err2",
          "p2_err2",
          "p2_err2",
          "p2_err2",
          "p2_err2",
          "p2_err2",
          "p2_err2",
          "p2_err2",
          "p2_err2",
          "p2_err2",
          "p2_err2",
          "p2_err2",
          "p2_err2",
          "p2_err2",
          "p2_err2",
          "p2_err2",
          "p2_err2",
          "p2_err2",
          "p2_err2",
          "p2_err2",
          "p2_err2",
          "p2_err2",
          "p2_err2",
          "p2_err2",
          "p2_err2",
          "p2_err2",
          "p2_err2",
          "p2_err2",
          "p2_err2",
          "p2_err2",
          "p2_err2",
          "p2_err2",
          "p2_err2",
          "p2_err2",
          "p2_err2",
          "p2_err2",
          "p2_err2",
          "p2_err2",
          "p2_err2",
          "p2_err2",
          "p2_err2",
          "p2_err2",
          "p2_err2",
          "p2_err2",
          "p2_err2",
          "p2_err2",
          "p2_err2",
          "p2_err2",
          "p2_err2",
          "p2_err2",
          "p2_err2",
          "p2_err2",
          "p2_err2",
          "p2_err2",
          "p2_err2",
          "p2_err2",
          "p2_err2",
          "p2_err2",
          "p2_err2",
          "p2_err2",
          "p2_err2",
          "p2_err2",
          "p2_err2",
          "p2_err2",
          "p2_err2",
          "p2_err2",
          "p2_err2",
          "p2_err2",
          "p2_err2",
          "p2_err2",
          "p2_err2",
          "p2_err2",
          "p2_err2",
          "p2_err2",
          "p2_err2",
          "p2_err2",
          "p2_err2",
          "p2_err2",
          "p2_err2",
          "p2_err2",
          "p2_err2",
          "p2_err2",
          "p2_err2",
          "p2_err2",
          "p2_err2",
          "p2_err2",
          "p2_err2",
          "p2_err2",
          "p2_err2",
          "p2_err2",
          "p2_err2",
          "p2_err2",
          "p2_err2",
          "p2_err2",
          "p2_err2",
          "p2_err2",
          "p2_err2",
          "p2_err2",
          "p2_err2",
          "p2_err2",
          "p2_err2",
          "p2_err2",
          "p2_err2",
          "p2_err2",
          "p2_err2",
          "p2_err2",
          "p2_err2",
          "p2_err2",
          "p2_err2",
          "p2_err2",
          "p2_err2",
          "p2_err2",
          "p2_err2",
          "p2_err2",
          "p2_err2",
          "p2_err2",
          "p2_err2",
          "p2_err2",
          "p2_err2",
          "p2_err2",
          "p2_err2",
          "p2_err2",
          "p2_err2",
          "p2_err2",
          "p2_err2",
          "p2_err2",
          "p2_err2",
          "p2_err2",
          "p2_err2",
          "p2_err2",
          "p2_err2",
          "p2_err2",
          "p2_err2",
          "p2_err2",
          "p2_err2",
          "p2_err2",
          "p2_err2",
          "p2_err2",
          "p2_err2",
          "p2_err2",
          "p2_err2",
          "p2_err2",
          "p2_err2",
          "p2_err2",
          "p2_err2",
          "p2_err2",
          "p2_err2",
          "p2_err2",
          "p2_err2",
          "p2_err2",
          "p2_err2",
          "p2_err2",
          "p2_err2",
          "p2_err2",
          "p2_err2",
          "p2_err2",
          "p2_err2",
          "p2_err2",
          "p2_err2",
          "p2_err2",
          "p2_err2",
          "p2_err2",
          "p2_err2",
          "p2_err2",
          "p2_err2",
          "p2_err2",
          "p2_err2",
          "p2_err2",
          "p2_err2",
          "p2_err2",
          "p2_err2",
          "p2_err2",
          "p2_err2",
          "p2_err2",
          "p2_err2",
          "p2_err2",
          "p2_err2",
          "p2_err2",
          "p2_err2",
          "p2_err2",
          "p2_err2",
          "p2_err2",
          "p2_err2",
          "p2_err2",
          "p2_err2",
          "p2_err2",
          "p2_err2",
          "p2_err2",
          "p2_err2",
          "p2_err2",
          "p2_err2",
          "p2_err2",
          "p2_err2",
          "p2_err2",
          "p2_err2",
          "p2_err2",
          "p2_err2",
          "p2_err2",
          "p2_err2",
          "p2_err2",
          "p2_err2",
          "p2_err2",
          "p2_err2",
          "p2_err2",
          "p2_err2",
          "p2_err2",
          "p2_err2",
          "p2_err2",
          "p2_err2",
          "p2_err2",
          "p2_err2",
          "p2_err2",
          "p2_err2",
          "p2_err2",
          "p2_err2",
          "p2_err2",
          "p2_err2",
          "p2_err2",
          "p2_err2",
          "p2_err2",
          "p2_err2",
          "p2_err2",
          "p2_err2",
          "p2_err2",
          "p2_err2",
          "p2_err2",
          "p2_err2",
          "p2_err2",
          "p2_err2",
          "p2_err2",
          "p2_err2",
          "p2_err2",
          "p2_err2",
          "p2_err2",
          "p2_err2",
          "p2_err2",
          "p2_err2"
         ],
         "x0": " ",
         "xaxis": "x",
         "y": [
          0.13261861203105513,
          0.06599356018191321,
          0.019634345245335055,
          0.050310023616907104,
          0.07548349654460916,
          0.15124411961365275,
          2.748588925194208E-4,
          2.8036016103732986,
          0.11459709543455451,
          0.136939998923063,
          0.04588841316282737,
          0.07567708895563037,
          0.44045492510006995,
          1.1174393585263902,
          0.3014351168824725,
          0.2690743874246975,
          0.32025551901479477,
          0.9045627558613861,
          0.31200310016486144,
          1.6514787428836009,
          0.12909269136875112,
          4.066234006226646,
          0.13566808801663383,
          0.014200248066909336,
          1.7374716778200492,
          1.245088626269878,
          2.074280018741631,
          0.020273777036355634,
          0.06210023810235174,
          0.009711031854413021,
          0.4142927896778711,
          0.031964989147900816,
          0.1959817667122511,
          0.05866911351574117,
          0.015786310297213023,
          0.014395444911161539,
          0.012335447047371034,
          0.018488988919218137,
          0.027380872690311208,
          0.0056317914317882386,
          0.23037261283373853,
          0.01777686199481391,
          0.1418645001428177,
          0.10721344549289617,
          0.012321997538095184,
          0.0033979448275609074,
          0.007657586640516865,
          0.02492285155830965,
          0.4600674725068236,
          0.21397347291797686,
          0.05113539946895391,
          0.44605950940618505,
          0.21779435429259245,
          0.2138188446722067,
          0.12216549340689128,
          0.16293982178869784,
          0.13755945473042105,
          0.5055079328882485,
          0.09669451504990241,
          2.003705893632125,
          0.1445097374244601,
          0.9178083179818528,
          0.15067796708341383,
          1.0641477747356207,
          2.1641511682337895,
          1.3238359111330429,
          0.11242718633402103,
          0.17543839766951594,
          1.1185803403099215,
          4.252983452452148,
          3.560938155854452,
          0.00813915275124487,
          0.017474573297749874,
          0.14318794749995098,
          0.04307439456704229,
          0.21575328132115476,
          0.06479208473439886,
          0.023229366665816403,
          0.003331799247496889,
          0.012017049020064953,
          0.03936616987759325,
          0.07244476806829098,
          0.008257677381154372,
          0.01251016879992789,
          0.01633632254779494,
          0.13640893761520143,
          0.01125212295302274,
          0.05228465666738813,
          0.10772860709689949,
          0.07846017417286161,
          0.00985309442601891,
          0.007979007661618225,
          0.011717649811338366,
          0.05626774289954238,
          0.04625809652413215,
          0.436434337032213,
          0.2884440620622183,
          0.0033431712991258008,
          1.1355093658075708,
          0.43471155407503115,
          0.1704327162322573,
          1.1018861354282525,
          2.509684929153717,
          0.0557041527454061,
          0.2831927180293223,
          2.027378212637527,
          0.9477198787720115,
          0.5940825867620625,
          0.006524472876476207,
          0.02096621612262674,
          0.0547005837500669,
          0.21626414568394242,
          0.02568226268063326,
          0.15480705234221603,
          0.085711269833237,
          0.19401599288104493,
          0.13624753753264707,
          0.05373600640966982,
          0.00546815098033333,
          0.4412695611005541,
          0.3588016924495184,
          0.0667017026057962,
          0.09353895297183135,
          0.14731587757038078,
          0.0310407046610832,
          0.06667879372320384,
          0.5446750392619055,
          0.011658855343727768,
          0.08221202310206562,
          0.08199859457777181,
          0.14024701414089993,
          0.14032148766302405,
          0.08200387977231229,
          0.3565713010024175,
          2.74603104992331,
          0.14779482628161678,
          2.0007900123093005,
          2.836195917595657,
          0.10369909294778898,
          3.6738729274511606,
          0.4861395868941819,
          4.710037840331332,
          0.01224344545498649,
          0.2720905337788628,
          1.6977762651903745,
          0.03994987765814362,
          0.04746058614597592,
          0.012628923242141023,
          0.02042522937798313,
          0.013648011998062152,
          0.07964730078775073,
          0.003129660100014343,
          0.03127909610317625,
          0.12227901798610608,
          0.010541903394231089,
          0.005336851448427667,
          0.018245621466556016,
          0.015114725570558684,
          0.10719578371635169,
          0.291948438900024,
          0.3259326462197951,
          0.1369311904930159,
          0.01084100965860793,
          0.49148251118383746,
          0.7469750152550599,
          0.5911357029043134,
          0.6681808383221184,
          0.060265473000308475,
          8.187878702080367E-4,
          0.1800931567518792,
          0.8142773260067115,
          0.06972724879916051,
          0.24255566710355386,
          0.004223265245214725,
          0.02791021246604045,
          0.0015106099986183918,
          0.47535102985273797,
          0.016094958094124614,
          0.005351061951445781,
          0.023696683002987252,
          0.024115438483388988,
          0.03145101072782703,
          0.01688946647188049,
          0.008945500282770406,
          0.01514986772304681,
          0.09238789172269053,
          2.5271865893268473,
          0.03685982731190981,
          0.03714425700790267,
          0.01998743925675345,
          0.13328063259584252,
          0.5240255055531873,
          0.47767388238264574,
          0.4129896854729346,
          0.10504355554174478,
          0.2509993403808907,
          0.8216397483720319,
          1.0573119423945578,
          0.29409409963975636,
          0.9341233524882293,
          0.2084596995919791,
          0.15830662221577407,
          0.27664518185517656,
          0.07251895265235553,
          0.35697815051032145,
          0.2779960301559477,
          0.17513999737577146,
          0.6767770890708992,
          0.16918214950964489,
          0.482451048773611,
          2.565655387263671,
          1.0109340922487415,
          0.498067702798656,
          1.0501402385882364,
          0.12163586617475952,
          0.6380521539809133,
          0.004147769315073265,
          0.008548668120813573,
          0.0015611959686112303,
          0.0038519358211818733,
          0.006696790700317153,
          0.00537649240743045,
          0.005055208865365489,
          0.01818772545771535,
          0.014151728124181346,
          5.6971888818975384E-5,
          0.004689689278107483,
          0.014141920621271193,
          0.31758888366215016,
          0.07759299408523218,
          0.15148977656640633,
          0.02547938644058757,
          0.06887494612865747,
          0.6658548443906828,
          4.649836426851641,
          0.045151057982095594,
          0.3067257876832658,
          0.3690386647661719,
          0.15506515408035126,
          0.22706706529707654,
          0.05960761539205877,
          0.41358201209978224,
          0.6560925493840356,
          0.3729467162776075,
          6.805942154373884,
          1.8424510784115855,
          0.17920192705852891,
          0.009436175865369729,
          0.08497050360903285,
          0.4825970677896875,
          0.053547979380574554,
          1.242633861374679,
          0.006339955171486103,
          0.018069087583307213,
          0.004642607082037994,
          0.02583333955583724,
          0.01961940095266457,
          0.012600134224476381,
          0.04401428069041169,
          0.00994576067029012,
          0.005564278491779975,
          0.009989727084082016,
          0.0061149871408601696,
          0.08395835565960157,
          0.06987634079057717,
          0.011246010803336287,
          0.010227051098184073,
          0.07327701624177892,
          0.15325530709916182,
          1.2645075925268725,
          0.04463543912281287,
          0.2547773301507772,
          0.016178231267596852,
          1.1196029050613236,
          0.16382534030981388,
          0.3414972772791418,
          1.7332141193871076,
          0.5357642707193534,
          0.11210098598295772,
          0.460924321747301,
          0.022519950491886265,
          0.9063583209338709,
          2.6630331360126545,
          4.509591878445378,
          0.00568420251526763,
          0.028316781632805845,
          1.1956843610927443,
          1.2789680399814165,
          2.295328675229419,
          0.3815649977461056,
          0.12015944753689793,
          0.31622879342638094,
          3.5395650223808293,
          2.2732096385601652,
          1.5450423552765704,
          3.0533754363798518,
          0.014379882331204456,
          0.007625051953258273,
          0.021689938268088096,
          0.03325034253687068,
          0.057075943547224534,
          0.02589170450865901,
          0.006041525984554455,
          0.2754345993684953,
          0.05549443389676482,
          0.08378199644702011,
          0.016249486135134182,
          0.16383054133401853,
          0.25977560527820115,
          0.06666263052922816,
          0.02381512883031681,
          0.10812742054337748,
          0.0014510178414656146,
          5.313554779283378E-5,
          0.1427204117673804,
          0.2004985267732122,
          7.910573865797225,
          4.153013186109413E-6,
          3.6643660417391154E-7,
          4.337424809452601E-5,
          4.275013506700452E-6,
          1.877854106864833E-6,
          3.5419990790360064E-4,
          1.0143042191261913E-7,
          2.2289767435486658E-4,
          8.342992955541034E-8,
          6.946276530600075E-7,
          2.348583626636265E-8,
          4.375485365284947E-6,
          1.926695014030595E-6,
          0.0019281572546921524,
          2.1179102502533187E-4,
          2.758416955416704E-7,
          0.001947341450048246,
          0.020343440177500425,
          2.076107542921702E-6,
          0.0016273849069794765,
          6.713004341132117E-5,
          4.3618298775946745E-4,
          4.1292081721875167E-8,
          0.5999660548041024,
          0.015420457263411198,
          1.89041937918518E-5,
          0.00458218601037252,
          5.354890172343601E-4,
          4.409222593445975E-5,
          1.193277931076098E-7,
          1.2483366215787092E-6,
          7.156303619164908E-4,
          0.4050004411426226,
          0.001074746015442478,
          8.705208802207103E-6,
          6.573327673489769E-8,
          1.2310112160399063E-7,
          0.15936989748803887,
          0.010675935804809085,
          1.0601405158069333E-4,
          0.015781536893454025,
          0.010304970848709731,
          0.004928939212569218,
          3.0093416611748895,
          1.5160109872142738E-7,
          1.2903685349434231E-6,
          13.670620471338648,
          0.2706231797649021,
          1.485433739958464E-4,
          1.3613482872831679E-5,
          5.958824058127026E-4,
          1.398761019581177E-4,
          1.4273719649376268E-5,
          7.095993616834409E-4,
          5.111774189057081E-7,
          5.6641873626043234E-5,
          3.4926058640346503E-6,
          3.4283386405257376E-4,
          1.1052840012541922E-5,
          2.7527827193032532E-5,
          7.098264860872146E-4,
          0.0022871678892848143,
          6.0170729607798204E-5,
          0.0034425438030802,
          0.005567271808494564,
          0.0011060777387652554,
          10.812790695568241,
          2.0355646118540727E-6,
          4.258929596084865E-4,
          1.4475554971989864E-4,
          0.0024535296956702327,
          6.199043954914896E-7,
          4.388048304773784E-4,
          0.019667259244829215,
          0.08188543816187835,
          0.11016489385085336,
          0.6692546806989783,
          1.648054201828566E-7,
          9.928711256953533E-7,
          4.412412926767735E-8,
          5.065815672396791E-6,
          2.5466221367339507E-7,
          0.045653903570020714,
          6.860627062322025E-4,
          0.11745422172960085,
          0.0189730696843167,
          1.2404223257451141E-5,
          1.1279928353092062E-7,
          1.2348595410339447E-7,
          9.535788578419248E-7,
          4.174162423860486E-9,
          6.119017417860357E-4,
          2.147921146037395E-7,
          0.046884406680972004,
          0.14336557945928322,
          1.1688474943683959E-5,
          1.0016391623725045E-5,
          1.0661260056922693E-7,
          0.022983321817871532,
          1.505506313574559E-5,
          1.6619742287744425E-4,
          2.521619991528512,
          4.1799106550963563E-4,
          2.925685371842384E-5,
          2.6738968697482028E-5,
          2.157485605394107E-4,
          9.136241918429146E-6,
          3.7545274119730576E-4,
          8.566355713432765E-5,
          8.595731236421153E-7,
          0.0014528817556573531,
          4.7001402750328696E-4,
          0.0012597869611973317,
          0.001537494865058723,
          5.362112948068446E-7,
          0.012418395429676071,
          0.039240380416797324,
          0.002595981208270919,
          0.002732303778105521,
          0.11312263888927813,
          0.3918702767165563,
          0.008139125248699535,
          3.3021981989910243E-6,
          8.477748922424191E-7,
          1.4987940264261334E-5,
          1.2460498950797046E-6,
          2.517830187122283E-5,
          3.449576064638716E-6,
          7.314339722331902E-7,
          5.666816877537211E-7,
          5.41353990713607E-6,
          1.1538431898235483E-6,
          1.815255418230356E-7,
          3.53354009886728E-5,
          2.0728278452487544E-5,
          1.4149133128950182E-7,
          8.915242134375154E-5,
          8.364245209288223E-6,
          9.393334337332373E-8,
          5.921983508011349E-5,
          9.489060304416674E-7,
          1.7134300644645784E-5,
          8.095539707841233E-6,
          6.610482266974746E-7,
          2.124700504132225E-6,
          2.3736168771883855E-8,
          0.0039328156589542385,
          2.7065688402552183E-6,
          0.004364211715323981,
          1.0071190659590544E-4,
          2.7269285218431877E-4,
          1.936571639757919E-5,
          5.952867329802493E-4,
          3.0136904527597346E-4,
          3.854943754631215E-4,
          5.19183345656243E-4,
          8.038776866987297E-4,
          8.764343169930587E-4,
          0.010506496166904453,
          0.020939949607008897,
          5.58607138866767E-6,
          4.863038004376275E-7,
          3.238894188930802E-6,
          4.789189282882378E-6,
          8.233154331516145E-5,
          3.658408442056901E-5,
          2.170149495174673E-5,
          6.525874372614498E-7,
          1.9072476205749847E-7,
          2.5758066546847895E-6,
          2.732267548091924E-6,
          1.2385048370137125E-7,
          1.1948034647572773E-5,
          3.7285012263935845E-5,
          4.809431673198804E-6,
          5.4652864240080094E-6,
          0.009654571040945262,
          5.017941234302231E-6,
          6.068097494864113E-5,
          2.290045942698137E-4,
          6.674304745873389E-5,
          2.090601097699814E-6,
          0.0021888772765634675,
          9.936476341091975E-6,
          6.604854600206626E-6,
          0.016714532606505655,
          0.008004204248008065,
          5.7720567864048214E-5,
          1.0258163727063538E-6,
          1.5282497612368885E-6,
          8.823302909325762E-7,
          3.227743304929789E-4,
          1.6756222736817857E-4,
          0.011455094645612326,
          1.2520825359337318E-6,
          1.261657666446277E-6,
          7.928573528782653E-7,
          5.63027370269974E-7,
          2.2393400039957284E-7,
          5.076891079694287E-7,
          1.9798759555332763E-7,
          1.0911756721976177E-7,
          2.058480343858993E-7,
          8.705872271244703E-7,
          3.9307069386041965E-7,
          1.6550371346953497E-7,
          7.174277363069219E-8,
          8.907385763600307E-7,
          4.141967972435057E-6,
          1.804678361238745E-6,
          0.09290560691073116,
          2.7306973722033683E-4,
          0.011048236073634171,
          1.3173089389606957E-5,
          4.3068404012330193E-7,
          1.0488799410204552E-5,
          2.188198753689682E-6,
          5.032560535575727E-7,
          3.4151968366261727E-7,
          1.5050023031121186E-6,
          8.139913231432699E-7,
          1.4664824806466354E-6,
          4.8750383031000215E-6,
          3.325413754030547E-6,
          2.7017472420884467E-6,
          1.727884062903462E-7,
          1.1957217661429327E-5,
          8.102729522959415E-7,
          0.22171037029467203,
          1.6523203928749775E-6,
          7.336533569991418E-7,
          2.7257728509638547E-6,
          5.068680433309887E-7,
          7.830461423105994E-5,
          1.8069306524736307E-5,
          1.6964300995264997E-7,
          3.7663235047840154E-6,
          1.4374212573463585E-6,
          5.620915598221164E-7,
          1.6801216182514113E-7,
          4.21925592022789E-7,
          9.303181817330096E-7,
          3.7777612982821052E-6,
          1.8753476365542995E-6,
          2.569608199814735E-4,
          3.584443097932829E-6,
          6.237742373065095E-7,
          5.6172329227897104E-8,
          3.868630719664143E-8,
          8.061419897138972E-7,
          3.2574019048031685E-8,
          2.1328680712869064E-5,
          1.1763657990748364E-4,
          2.798934598976193E-5,
          1.574631352217869E-4,
          0.08057629945748383,
          5.4282809165535066E-8,
          2.1496285179011356E-6,
          0.4186143313404409,
          6.676406497884333E-8,
          0.0028337898374648255,
          7.796297016320711E-8,
          0.050616358489635534,
          0.052012538464845263,
          7.83335366225855E-7,
          7.910197324885914E-6,
          1.6059692366710394E-6,
          1.5903411772020412E-5,
          6.917784489903781E-5,
          6.0642553597427285E-5,
          4.950397747007799E-7,
          2.0145667308995972E-6,
          9.636626109493566E-9,
          4.3038060497639644E-5,
          9.077594274921682E-7,
          1.1139489562528418E-4,
          6.401540703569715E-7,
          4.488944639667559E-6,
          4.861878479613955E-4,
          3.04275702208759E-4,
          7.047939144275432E-7,
          0.0011397210921993107,
          0.01098610489487103,
          5.097648150437722E-4,
          9.822991680794696E-8,
          1.507523773575008E-8,
          4.6181591548134614E-4,
          1.691521827513165E-5,
          9.487961657913238E-4,
          1.6665639689543144E-5,
          1.3187877298707124E-5,
          0.05795234320515073,
          0.0010266314867512845,
          0.003452108197358595,
          8.131024330638467E-6,
          0.0028936934688431927,
          0.0269414377714258,
          3.8844625125928914E-7,
          2.783129373233072E-7,
          3.4275187922391943E-6,
          2.8489565559915285E-6,
          6.803620239143299E-9,
          7.453013883098055E-7,
          3.6224134884898834E-5,
          0.0052856095451958894,
          7.764380425814998E-7,
          4.7588303489291947E-8,
          1.3358909125697962E-6,
          0.0011707934396747958,
          7.670368918764468E-7,
          5.331067344682491E-7,
          1.2936171025924443E-6,
          4.090865960132978E-9,
          1.1556021899166832E-8,
          2.6172829848993113E-7,
          6.464905075776277E-7,
          5.831018952089648E-6,
          7.039353252315122E-7,
          1.1394814186993553E-7,
          1.3339759166689556E-6,
          3.8744397809269586E-7,
          3.320341523263593E-7,
          1.0613398606222424E-5,
          9.873386959205995E-8,
          1.9173650290758383E-5,
          4.146640720448435E-7,
          2.09017489368729E-7,
          4.344011588743748E-7,
          5.460269373580415E-7,
          5.060863586356647E-7,
          6.06115843718978E-5,
          9.267761360969096E-6,
          1.6733849726090673E-7,
          4.470991850023441E-5,
          3.242454421727264E-4,
          1.7536118153344328E-6,
          6.311496626194932E-5,
          3.8648614331264275E-6,
          3.384550486719507E-5,
          1.7132564050008385E-6,
          0.0015657816072339288,
          4.2457756692038334E-4,
          2.939835073831814E-6,
          1.3393399605452465E-4,
          8.231583265115796E-6,
          1.9232050565316912E-6,
          2.38902094137875E-7,
          0.0,
          1.1320923094611923E-5,
          0.0019183597721823401,
          1.781788904245457E-5,
          1.3489490274400287E-6,
          3.6561072319374415E-7,
          1.633845189488292E-7,
          5.361431906102579E-4,
          7.99303492588887E-5,
          5.574784735136068E-6,
          1.8429629903122182E-4,
          6.842433361008356E-5,
          6.857987919224033E-5,
          0.014492002863079475,
          2.8937545169964944E-6,
          1.3684447141447934E-6,
          0.022773578388820135,
          0.0016004137332742878,
          8.298548175567729E-6,
          1.3128788005822125E-6,
          1.1392542628468861E-5,
          7.821398423939427E-6,
          1.3374403562502226E-6,
          1.920993050682147E-5,
          1.7797303689025873E-7,
          4.677793286030434E-6,
          5.419214303685111E-7,
          2.4616972756814175E-5,
          8.698524828210749E-7,
          1.0118715506453902E-5,
          1.731917873565228E-5,
          6.790073818234885E-5,
          3.3498235587378307E-6,
          9.388663021064944E-5,
          1.609261431841477E-4,
          4.4346388067706894E-5,
          0.022422328125215465,
          0.0,
          2.1423571625888278E-5,
          1.656032751946087E-5,
          1.0171852225611901E-4,
          3.350019049298261E-7,
          1.5724842330563265E-5,
          1.9073711987368806E-4,
          3.9954675985986885E-4,
          7.499705058935226E-4,
          0.0020815446831157236,
          8.439887743528296E-7,
          2.796868918718875E-7,
          2.1039884707139718E-7,
          2.647350270792347E-6,
          9.73885403259018E-7,
          1.72070276710885E-4,
          8.647903548326369E-6,
          4.1072668851348617E-4,
          1.8339170079256225E-4,
          2.330551956199685E-6,
          4.644332944068204E-7,
          1.1504691235790116E-6,
          1.8063783810376153E-6,
          3.397681530772685E-7,
          9.663149326723052E-6,
          3.5056919840861123E-7,
          2.74193099987203E-4,
          5.924779724992837E-4,
          1.5458337595053331E-6,
          1.2025623685206623E-6,
          7.023810549113994E-8,
          4.231510104139069E-4,
          1.7753890720588528E-6,
          6.466146139485725E-6,
          0.05256218758046929,
          3.1494819370423446E-5,
          2.475854089949906E-6,
          2.1484137558459433E-6,
          1.6487393446765903E-5,
          1.7046672724127317E-6,
          1.5985426635786185E-5,
          2.4424563912605768E-6,
          2.9872136856962474E-7,
          2.212472117161627E-5,
          1.4395856417307534E-5,
          1.6096654356976644E-5,
          3.0215145201087476E-5,
          1.7188573240906494E-6,
          1.4530782643886708E-4,
          3.079193384619162E-4,
          3.250541914795819E-5,
          1.841083969171569E-5,
          9.003572207659427E-4,
          0.004238095864714275,
          7.82153317922894E-5,
          3.939738731715047E-7,
          2.2823864149650822E-7,
          8.068263902035048E-7,
          1.87923876425798E-7,
          5.591538870130983E-6,
          1.9472947460533728E-7,
          1.74009129276718E-7,
          1.283388105317843E-7,
          7.719915630219407E-7,
          2.2988868581215144E-7,
          6.692494397398322E-8,
          2.743063740057323E-6,
          4.5355318207645834E-6,
          9.582835738281059E-8,
          9.680143171643014E-6,
          2.7641046535973354E-6,
          6.731331121439948E-8,
          9.339491199423079E-6,
          3.763935884323718E-7,
          6.721490212423237E-6,
          2.277610229792661E-6,
          1.3667710777799913E-6,
          1.0917282945009296E-6,
          2.486486387689056E-8,
          4.43684545291586E-5,
          4.343749700846281E-7,
          3.797920643213859E-5,
          2.3542410276868964E-6,
          7.315939042539728E-6,
          6.973656085596088E-7,
          1.0979816397049625E-5,
          8.821036245867111E-6,
          5.247174341040557E-6,
          5.430628341856905E-6,
          1.0319505137931908E-5,
          1.4357786558432949E-5,
          1.1821218241177732E-4,
          2.3374395382059587E-4,
          8.767714239652133E-7,
          1.7456294668352088E-7,
          2.1068175781240163E-7,
          9.333026555368013E-7,
          1.3375451605517215E-5,
          4.293738753787701E-6,
          2.790750115132501E-6,
          1.5674467129574432E-7,
          7.131051067290096E-8,
          5.268411095752208E-7,
          8.62112913746748E-7,
          5.424844185212777E-8,
          1.4448721805904658E-6,
          1.2885743144415481E-6,
          8.457829322972635E-7,
          3.5540395739381455E-7,
          1.5825256518883728E-4,
          4.252777590023798E-7,
          1.5434545954730862E-6,
          4.5350154063435015E-6,
          1.8885613349183668E-6,
          6.498552960180823E-7,
          2.1211664744387045E-5,
          8.95455726638929E-7,
          1.1275087412574477E-6,
          1.458446159790088E-4,
          2.1236788616299241E-4,
          4.0415987218233434E-6,
          1.377293705010993E-7,
          1.8443295483441024E-7,
          2.3183638228738867E-7,
          1.4332351571486852E-5,
          8.803939326857331E-6,
          1.6676039141319218E-4,
          2.8035674409352006E-7,
          3.1587441422167054E-7,
          5.746448407620318E-7,
          7.797723667478194E-7,
          2.0563085751588429E-7,
          6.87574834441951E-7,
          1.7406181591498217E-7,
          1.0288188180829691E-7,
          2.0194909865440298E-7,
          0.0,
          6.073746565427256E-7,
          1.8417230728499675E-7,
          1.7070824693855344E-7,
          5.147624131853115E-7,
          5.835289168052763E-7,
          1.1009092852852138E-6,
          0.0012782100666661137,
          1.5600961400924616E-5,
          1.709840500401718E-4,
          2.843310687037132E-6,
          1.9526295199370496E-7,
          1.6733720289805945E-6,
          1.6625855473623943E-7,
          1.1120471419193155E-7,
          7.689994367475104E-8,
          1.640280653549129E-7,
          1.0578309541819045E-7,
          1.9773351266902502E-7,
          2.9213150960006607E-7,
          3.571902425337974E-7,
          3.6652172731902384E-7,
          1.2249817976425229E-8,
          5.77997560650416E-7,
          2.5847902660111163E-7,
          0.0013576848132531595,
          8.939898755633826E-7,
          2.138599981272477E-7,
          2.784263237365055E-7,
          1.2205945424368254E-7,
          7.567918257011218E-6,
          6.226648329916076E-6,
          6.18906093267941E-8,
          8.253374531113471E-7,
          4.1521812940661184E-7,
          1.9765781169058317E-7,
          1.3705003608309462E-7,
          1.0757911384630827E-7,
          3.975732863241462E-7,
          1.1149593973451404E-6,
          4.742758669137186E-7,
          3.327477314707985E-5,
          1.6282238249413318E-6,
          8.508861721183931E-7,
          1.044985044975982E-7,
          4.1018962161319515E-7,
          3.6219876395628253E-7,
          3.4282026110826165E-8,
          3.1333059164233094E-6,
          7.064710524754114E-6,
          1.1034003653948722E-6,
          3.967931013232091E-6,
          3.4906424896376237E-4,
          3.001397332176048E-7,
          7.290855118038125E-7,
          0.0013402735362675736,
          3.258453936385333E-7,
          1.8999923327340572E-5,
          1.7348895049040847E-7,
          1.638989904047563E-4,
          3.2857275244336067E-4,
          1.7570370743491004E-7,
          3.87421265264532E-7,
          1.1258464568254204E-7,
          2.05059105335773E-6,
          3.4142899880251664E-6,
          6.237202406849635E-6,
          2.0984676010457E-7,
          5.313025327650271E-7,
          1.3509590666982003E-7,
          4.708720431484945E-6,
          2.1534045991455287E-7,
          5.836520588970787E-6,
          4.647175479454688E-6,
          1.2548630779166246E-6,
          1.2293213679496125E-5,
          1.3461186691178198E-5,
          1.2951611351599396E-7,
          4.106685600272338E-5,
          2.769686956972363E-4,
          3.885608122598972E-5,
          3.5490270910345577E-7,
          2.5511721065199616E-7,
          2.31255385226719E-5,
          2.7780452485817843E-6,
          4.611582084680925E-5,
          1.839237866734196E-6,
          1.1233278044096488E-6,
          7.298219495516029E-4,
          5.732359023863941E-5,
          1.136353091325758E-4,
          1.9592297561983588E-6,
          1.088408454302044E-4,
          1.341199674185474E-4,
          1.8309963477736233E-7,
          5.637815512261151E-7,
          6.120617967111631E-7,
          6.985913154083669E-7,
          17.832973864227696,
          2.7442335324204335E-7,
          2.18783653439733E-5,
          6.621155780967578E-5,
          1.785291524902769E-7,
          1.881597239842725E-8,
          3.037835876803294E-7,
          1.3671283791751937E-4,
          2.227345194585399E-7,
          1.5569241459620961E-6,
          2.4575296796626406E-7,
          1.6779179871333645E-9,
          3.678406810216797E-9,
          2.7491538522496244E-7,
          2.0927698117802357E-7,
          4.476422712346956E-6,
          7.039353252315122E-7,
          1.1394814186993553E-7,
          1.3339759166689556E-6,
          3.8744397809269586E-7,
          3.320341523263593E-7,
          1.0613398606222426E-5,
          9.873386959205995E-8,
          1.917365029075838E-5,
          4.1466407204484355E-7,
          2.09017489368729E-7,
          4.344011588743748E-7,
          5.460269373580415E-7,
          5.060863586356647E-7,
          6.06115843718978E-5,
          9.267761360969096E-6,
          1.6733849726090673E-7,
          4.4709918500234416E-5,
          3.242454421727264E-4,
          1.7536118153344328E-6,
          6.311496626194932E-5,
          3.864861433126428E-6,
          3.3845504867195066E-5,
          1.7132564050008383E-6,
          0.0015657816072339292,
          4.245775669203834E-4,
          2.939835073831814E-6,
          1.3393399605452467E-4,
          8.231583265115798E-6,
          1.9232050565316912E-6,
          2.38902094137875E-7,
          0.0,
          1.1320923094611923E-5,
          0.0019183597721823401,
          1.781788904245457E-5,
          1.3489490274400287E-6,
          3.6561072319374415E-7,
          1.633845189488292E-7,
          5.361431906102579E-4,
          7.993034925888868E-5,
          5.574784735136068E-6,
          1.8429629903122182E-4,
          6.842433361008356E-5,
          6.857987919224033E-5,
          0.014492002863079476,
          2.8937545169964944E-6,
          1.3684447141447932E-6,
          0.02277357838882013,
          0.0016004137332742876,
          8.298548175567729E-6,
          1.3128788005822125E-6,
          1.1392542628468861E-5,
          7.821398423939427E-6,
          1.3374403562502228E-6,
          1.920993050682147E-5,
          1.7797303689025873E-7,
          4.677793286030435E-6,
          5.419214303685111E-7,
          2.4616972756814175E-5,
          8.698524828210747E-7,
          1.0118715506453902E-5,
          1.731917873565228E-5,
          6.790073818234886E-5,
          3.3498235587378307E-6,
          9.388663021064947E-5,
          1.609261431841477E-4,
          4.43463880677069E-5,
          0.022422328125215465,
          0.0,
          2.1423571625888278E-5,
          1.656032751946087E-5,
          1.0171852225611901E-4,
          3.350019049298261E-7,
          1.5724842330563265E-5,
          1.9073711987368806E-4,
          3.9954675985986885E-4,
          7.499705058935226E-4,
          0.002081544683115724,
          8.439887743528296E-7,
          2.796868918718875E-7,
          2.1039884707139718E-7,
          2.647350270792347E-6,
          9.73885403259018E-7,
          1.7207027671088497E-4,
          8.647903548326369E-6,
          4.107266885134861E-4,
          1.8339170079256225E-4,
          2.330551956199685E-6,
          4.644332944068205E-7,
          1.1504691235790118E-6,
          1.8063783810376148E-6,
          3.397681530772685E-7,
          9.663149326723052E-6,
          3.5056919840861123E-7,
          2.741930999872029E-4,
          5.924779724992837E-4,
          1.5458337595053331E-6,
          1.2025623685206623E-6,
          7.023810549113994E-8,
          4.23151010413907E-4,
          1.7753890720588528E-6,
          6.466146139485723E-6,
          0.05256218758046929,
          3.1494819370423446E-5,
          2.475854089949906E-6,
          2.148413755845943E-6,
          1.6487393446765903E-5,
          1.7046672724127317E-6,
          1.5985426635786185E-5,
          2.4424563912605768E-6,
          2.987213685696248E-7,
          2.212472117161627E-5,
          1.4395856417307534E-5,
          1.609665435697664E-5,
          3.0215145201087476E-5,
          1.7188573240906494E-6,
          1.4530782643886706E-4,
          3.079193384619162E-4,
          3.2505419147958185E-5,
          1.841083969171569E-5,
          9.003572207659427E-4,
          0.004238095864714275,
          7.82153317922894E-5,
          3.939738731715047E-7,
          2.2823864149650822E-7,
          8.068263902035048E-7,
          1.87923876425798E-7,
          5.591538870130983E-6,
          1.9472947460533728E-7,
          1.74009129276718E-7,
          1.283388105317843E-7,
          7.719915630219407E-7,
          2.298886858121515E-7,
          6.692494397398322E-8,
          2.743063740057323E-6,
          4.535531820764583E-6,
          9.582835738281059E-8,
          9.680143171643016E-6,
          2.7641046535973354E-6,
          6.731331121439948E-8,
          9.339491199423079E-6,
          3.763935884323718E-7,
          6.721490212423237E-6,
          2.277610229792661E-6,
          1.3667710777799911E-6,
          1.0917282945009298E-6,
          2.486486387689056E-8,
          4.43684545291586E-5,
          4.343749700846282E-7,
          3.797920643213859E-5,
          2.3542410276868964E-6,
          7.315939042539729E-6,
          6.973656085596088E-7,
          1.0979816397049625E-5,
          8.821036245867111E-6,
          5.247174341040557E-6,
          5.430628341856905E-6,
          1.031950513793191E-5,
          1.4357786558432947E-5,
          1.1821218241177732E-4,
          2.3374395382059584E-4,
          8.767714239652133E-7,
          1.7456294668352093E-7,
          2.1068175781240163E-7,
          9.333026555368013E-7,
          1.3375451605517215E-5,
          4.293738753787701E-6,
          2.7907501151325005E-6,
          1.5674467129574435E-7,
          7.131051067290096E-8,
          5.268411095752209E-7,
          8.621129137467478E-7,
          5.4248441852127786E-8,
          1.4448721805904658E-6,
          1.2885743144415481E-6,
          8.457829322972635E-7,
          3.5540395739381455E-7,
          1.5825256518883725E-4,
          4.252777590023799E-7,
          1.5434545954730862E-6,
          4.5350154063435015E-6,
          1.8885613349183668E-6,
          6.498552960180822E-7,
          2.1211664744387045E-5,
          8.954557266389288E-7,
          1.1275087412574477E-6,
          1.458446159790088E-4,
          2.1236788616299241E-4,
          4.0415987218233434E-6,
          1.377293705010993E-7,
          1.8443295483441024E-7,
          2.3183638228738867E-7,
          1.433235157148685E-5,
          8.803939326857331E-6,
          1.6676039141319218E-4,
          2.8035674409352006E-7,
          3.1587441422167054E-7,
          5.746448407620319E-7,
          7.797723667478192E-7,
          2.0563085751588429E-7,
          6.87574834441951E-7,
          1.7406181591498217E-7,
          1.0288188180829691E-7,
          2.0194909865440295E-7,
          0.0,
          6.073746565427257E-7,
          1.8417230728499675E-7,
          1.7070824693855347E-7,
          5.147624131853115E-7,
          5.835289168052763E-7,
          1.1009092852852138E-6,
          0.0012782100666661137,
          1.5600961400924616E-5,
          1.7098405004017185E-4,
          2.843310687037132E-6,
          1.9526295199370493E-7,
          1.6733720289805945E-6,
          1.6625855473623943E-7,
          1.1120471419193154E-7,
          7.689994367475104E-8,
          1.6402806535491288E-7,
          1.0578309541819044E-7,
          1.9773351266902502E-7,
          2.9213150960006607E-7,
          3.571902425337974E-7,
          3.665217273190238E-7,
          1.2249817976425229E-8,
          5.77997560650416E-7,
          2.5847902660111163E-7,
          0.0013576848132531595,
          8.939898755633826E-7,
          2.138599981272477E-7,
          2.7842632373650557E-7,
          1.2205945424368254E-7,
          7.567918257011218E-6,
          6.2266483299160756E-6,
          6.189060932679409E-8,
          8.253374531113471E-7,
          4.1521812940661184E-7,
          1.9765781169058317E-7,
          1.3705003608309462E-7,
          1.0757911384630826E-7,
          3.975732863241462E-7,
          1.1149593973451404E-6,
          4.742758669137186E-7,
          3.3274773147079846E-5,
          1.6282238249413316E-6,
          8.508861721183931E-7,
          1.044985044975982E-7,
          4.1018962161319505E-7,
          3.6219876395628253E-7,
          3.4282026110826165E-8,
          3.13330591642331E-6,
          7.064710524754114E-6,
          1.1034003653948722E-6,
          3.967931013232091E-6,
          3.4906424896376237E-4,
          3.0013973321760485E-7,
          7.290855118038123E-7,
          0.0013402735362675739,
          3.2584539363853334E-7,
          1.8999923327340572E-5,
          1.7348895049040847E-7,
          1.638989904047563E-4,
          3.2857275244336067E-4,
          1.7570370743491004E-7,
          3.87421265264532E-7,
          1.1258464568254204E-7,
          2.05059105335773E-6,
          3.4142899880251664E-6,
          6.237202406849635E-6,
          2.0984676010456994E-7,
          5.313025327650271E-7,
          1.3509590666982006E-7,
          4.7087204314849454E-6,
          2.1534045991455287E-7,
          5.836520588970787E-6,
          4.647175479454688E-6,
          1.2548630779166246E-6,
          1.2293213679496124E-5,
          1.3461186691178198E-5,
          1.2951611351599396E-7,
          4.106685600272338E-5,
          2.769686956972363E-4,
          3.885608122598972E-5,
          3.5490270910345577E-7,
          2.5511721065199616E-7,
          2.31255385226719E-5,
          2.7780452485817847E-6,
          4.611582084680924E-5,
          1.839237866734196E-6,
          1.1233278044096488E-6,
          7.298219495516029E-4,
          5.732359023863941E-5,
          1.1363530913257583E-4,
          1.9592297561983588E-6,
          1.088408454302044E-4,
          1.341199674185474E-4,
          1.8309963477736233E-7,
          5.637815512261151E-7,
          6.12061796711163E-7,
          6.98591315408367E-7,
          17.832973864227696,
          2.7442335324204335E-7,
          2.18783653439733E-5,
          6.621155780967578E-5,
          1.785291524902769E-7,
          1.881597239842725E-8,
          3.0378358768032937E-7,
          1.3671283791751937E-4,
          2.2273451945853995E-7,
          1.5569241459620961E-6,
          2.4575296796626406E-7,
          1.6779179871333645E-9,
          3.678406810216797E-9,
          2.7491538522496244E-7,
          2.0927698117802357E-7,
          4.476422712346956E-6,
          9.499458964125004E-18,
          3.1193012624260767E-18,
          3.140196827106223E-18,
          2.7390749155836596E-18,
          4.762951289598718E-18,
          2.433926673009737E-17,
          7.43081174921873E-18,
          1.2875739782765098E-16,
          3.052986152199605E-16,
          5.572066426963383E-18,
          1.425885461071143E-15,
          5.377539588942672E-18,
          1.1970188781962436E-17,
          1.4590062224257647E-16,
          3.1132276110575094E-17,
          1.311470926836119E-17,
          7.84641167222053E-17,
          3.946723714351398E-16,
          1.3364384514825668E-16,
          1.8770038158940933E-16,
          1.7152813980323544E-17,
          2.0421209177694268E-16,
          1.957194172022198E-14,
          3.118047790293678E-16,
          8.936555804108411E-16,
          3.7344796229100615E-17,
          2.9963600947983114E-16,
          9.662696617607737E-18,
          6.439344982477057E-18,
          3.955411582078013E-17,
          0.0,
          1.3676939282219373E-17,
          6.933905066062679E-16,
          2.2561279378606698E-17,
          1.6060901968449132E-17,
          1.824736318584712E-16,
          1.8136540298318066E-17,
          1.3762913815147754E-16,
          4.567079577926481E-17,
          2.2389481514795156E-17,
          1.6429664739105665E-16,
          3.4672094412693336E-17,
          7.285760163886288E-17,
          5.325182216075661E-15,
          4.657770340311285E-15,
          1.1190839917096435E-16,
          2.8947688711587677E-15,
          7.221966123136913E-16,
          3.571699951971366E-17,
          9.921767023302484E-18,
          1.6640073252625994E-17,
          3.3699140132730487E-17,
          9.813986626541164E-18,
          3.9778770005038364E-17,
          5.616096127696644E-18,
          2.9849682188228053E-17,
          6.7965090118092665E-18,
          1.3582139129177408E-16,
          5.319977739953562E-18,
          3.120938870616709E-16,
          3.230758432038027E-17,
          1.542603081081785E-16,
          1.4350524737906957E-17,
          1.958648756038859E-16,
          3.5595027035187476E-16,
          1.3640609552447382E-16,
          3.547864007560175E-15,
          0.0,
          8.2942277044303E-17,
          1.5038101603226789E-16,
          3.237306921954305E-16,
          1.4145241388436494E-17,
          4.303213505554488E-17,
          1.4119127333537493E-16,
          1.487658798739925E-16,
          3.8963275316256573E-16,
          4.940076613539428E-16,
          3.7092186017442403E-16,
          6.07225193545524E-18,
          9.254332032920368E-17,
          1.0735008483398716E-16,
          3.44938727260321E-16,
          4.948723395257404E-17,
          8.32201792114178E-18,
          1.0959581140016819E-16,
          1.353013310279349E-16,
          3.356625327088695E-17,
          2.5320427155704727E-16,
          1.3102470540063718E-15,
          2.8289426075243537E-16,
          5.572573306514746E-15,
          1.1648994611789083E-17,
          4.6364446087417306E-17,
          1.2237107948728193E-16,
          1.868384384279642E-16,
          1.6353553866910078E-17,
          1.1462208970497042E-17,
          3.681819607449448E-18,
          5.950620043370544E-16,
          1.6618868463008276E-17,
          1.9291706148997407E-17,
          8.360865148380928E-14,
          1.8416967484589393E-16,
          1.6101600805001345E-17,
          1.3443485529134374E-17,
          9.797337529849083E-17,
          2.6650214185868475E-17,
          5.2264363111526374E-17,
          5.3198352887696355E-18,
          8.207589890801755E-18,
          2.5728028476990135E-17,
          3.374954583196314E-17,
          1.570214742892311E-17,
          4.536893955265972E-17,
          4.784694272292752E-16,
          1.2979705221449073E-16,
          1.844064105487695E-16,
          3.107397861386799E-17,
          9.467369765371198E-18,
          5.469171600494851E-16,
          3.497799163181827E-15,
          5.73715301437818E-17,
          3.729991488092908E-18,
          5.389246811768728E-18,
          3.339174278706378E-18,
          2.296635289064617E-18,
          9.868962569445813E-17,
          8.472959189300492E-19,
          3.490674195466892E-18,
          2.4987225031048855E-18,
          8.71202353366587E-18,
          3.880909889410437E-18,
          2.4823015344187943E-18,
          1.6571853651458675E-17,
          8.489379081558721E-17,
          8.634000232738656E-18,
          8.293471341795932E-17,
          8.760158997980248E-17,
          6.516356864051318E-18,
          1.2009908953434999E-16,
          1.554173619543221E-17,
          2.554897348657708E-16,
          4.926580082251805E-17,
          2.794374798391467E-16,
          6.579369280840812E-17,
          4.221633559954046E-18,
          3.8209382534594154E-17,
          5.3854816455048795E-18,
          2.5225377768190896E-17,
          4.205799251771896E-18,
          1.501276582346613E-17,
          1.9194851478273726E-18,
          1.5469004491424812E-17,
          1.9758300242527092E-17,
          5.4533036184469395E-18,
          4.3359988753725105E-18,
          1.0114097893319345E-17,
          1.795640774390828E-17,
          1.0153131564136559E-16,
          1.9917959119423334E-16,
          1.1194909728043978E-17,
          5.837190606182153E-18,
          1.0562760346634896E-18,
          1.5258155202782153E-17,
          1.6967482804916182E-16,
          3.95038362185816E-17,
          2.852955447982285E-17,
          3.1336496123077625E-18,
          2.06979130594961E-18,
          8.830157004626851E-18,
          2.539522352152568E-17,
          2.5157684420359787E-18,
          1.3750407947854882E-17,
          3.4028857714847032E-18,
          1.1511024075675177E-17,
          1.7676441940341395E-18,
          1.9810851751509517E-16,
          2.7772811391547358E-18,
          2.9992813325390702E-18,
          6.861911251311023E-18,
          4.0886926642724306E-18,
          1.5813903179249174E-17,
          1.56896691114787E-17,
          6.18580042264446E-18,
          1.4804152607249695E-17,
          9.712891921299854E-17,
          4.31020356160345E-16,
          2.1674671736693824E-17,
          1.477771477955885E-18,
          1.738908904944952E-18,
          5.268013737510058E-18,
          4.887729871302605E-17,
          3.561827287973296E-17,
          1.8537875385114062E-16,
          5.194025734253285E-18,
          7.007522913831657E-18,
          5.521409620550466E-17,
          1.9633174997005739E-16,
          2.78364301256674E-17,
          1.6401455878497298E-16,
          2.024811278705238E-17,
          1.4864618362599108E-17,
          2.90351699970826E-17,
          0.0,
          1.1561296153160828E-16,
          3.3181682007043886E-17,
          8.192155131004582E-17,
          3.4215407654705816E-17,
          6.595489611644623E-18,
          6.202555009996956E-17,
          1.3427369563043842E-15,
          6.873878797666058E-17,
          2.0208490589004763E-16,
          5.0634093133552083E-17,
          8.6477892921999E-18,
          2.1758424601915197E-17,
          9.70815063651255E-19,
          1.9282552640850443E-18,
          1.337443657908314E-18,
          1.3758267859416155E-18,
          1.067508425975906E-18,
          2.056099595750211E-18,
          1.3424405063526608E-18,
          2.967498888878065E-18,
          3.844361759496555E-18,
          6.64372898406284E-20,
          2.137984625611533E-18,
          6.471284267109339E-18,
          6.344705115899501E-16,
          3.895088051662173E-17,
          5.572013493110036E-18,
          2.211814959192537E-18,
          2.518530757380476E-18,
          5.681598229714068E-17,
          2.0571787150220231E-16,
          2.078005273106937E-18,
          1.4939544044914735E-17,
          1.0961985149124633E-17,
          6.455036262766654E-18,
          1.683362818905685E-17,
          2.3580722849020367E-18,
          1.717977272385963E-17,
          2.8823796036428045E-17,
          1.0651883289229104E-17,
          3.437985314987559E-16,
          7.689934057317286E-17,
          1.0800528552951866E-16,
          1.6941320057569273E-17,
          8.273374542464074E-16,
          1.7506602966188096E-17,
          5.7756617685555306E-18,
          3.738441440345376E-17,
          3.240416535224227E-17,
          3.331747835468474E-18,
          7.634634797603012E-18,
          1.153904901660785E-16,
          1.6077062381962712E-16,
          1.913807900078724E-17,
          3.2743649215071447E-16,
          1.3713277476666512E-16,
          9.721795270460554E-18,
          3.2859741363433646E-17,
          4.0496466597457256E-17,
          1.584012042568894E-16,
          3.27773483860376E-18,
          1.4566134984793797E-18,
          6.113171755140065E-19,
          2.0480575915119064E-17,
          1.2959349876019371E-17,
          5.052515295962572E-17,
          7.393284668294735E-18,
          1.1914292939924013E-17,
          3.0902941712145693E-16,
          4.076786426869933E-17,
          4.480185445805053E-18,
          2.3555587378378236E-17,
          7.97448510899788E-15,
          2.9760196775086215E-17,
          2.3767911296119815E-17,
          4.572611042189413E-17,
          1.894443659794605E-18,
          1.1339429266019933E-16,
          5.339576248901003E-16,
          2.3015988676897226E-16,
          1.0418260955347377E-16,
          7.492248719951837E-16,
          8.912004463987305E-17,
          3.75242222855446E-17,
          1.724382238533707E-16,
          1.6024631147333936E-17,
          7.438801404816152E-18,
          7.015337761506385E-16,
          2.4673391913100897E-16,
          2.865166767167506E-16,
          4.1625382468608504E-17,
          3.1394853674391244E-16,
          5.094964474927157E-17,
          6.791337128271451E-18,
          9.421852482316662E-17,
          8.503627884648024E-18,
          1.3481876658024321E-17,
          17.832643229677483,
          7.84428690900823E-18,
          1.02513326169592E-15,
          6.331788759353559E-17,
          3.456927803816364E-18,
          7.152331082163463E-19,
          5.87042792570521E-18,
          1.2217575289017895E-15,
          5.367366794500589E-18,
          3.7768115005315014E-16,
          3.863146140987067E-18,
          6.627300794239133E-20,
          9.096412124623414E-20,
          3.0401219170654963E-17,
          6.3633444499827524E-18,
          4.996798185984258E-16
         ],
         "y0": " ",
         "yaxis": "y",
         "type": "violin"
        }
       ],
       "layout": {
        "template": {
         "data": {
          "histogram2dcontour": [
           {
            "type": "histogram2dcontour",
            "colorbar": {
             "outlinewidth": 0,
             "ticks": ""
            },
            "colorscale": [
             [
              0.0,
              "#0d0887"
             ],
             [
              0.1111111111111111,
              "#46039f"
             ],
             [
              0.2222222222222222,
              "#7201a8"
             ],
             [
              0.3333333333333333,
              "#9c179e"
             ],
             [
              0.4444444444444444,
              "#bd3786"
             ],
             [
              0.5555555555555556,
              "#d8576b"
             ],
             [
              0.6666666666666666,
              "#ed7953"
             ],
             [
              0.7777777777777778,
              "#fb9f3a"
             ],
             [
              0.8888888888888888,
              "#fdca26"
             ],
             [
              1.0,
              "#f0f921"
             ]
            ]
           }
          ],
          "choropleth": [
           {
            "type": "choropleth",
            "colorbar": {
             "outlinewidth": 0,
             "ticks": ""
            }
           }
          ],
          "histogram2d": [
           {
            "type": "histogram2d",
            "colorbar": {
             "outlinewidth": 0,
             "ticks": ""
            },
            "colorscale": [
             [
              0.0,
              "#0d0887"
             ],
             [
              0.1111111111111111,
              "#46039f"
             ],
             [
              0.2222222222222222,
              "#7201a8"
             ],
             [
              0.3333333333333333,
              "#9c179e"
             ],
             [
              0.4444444444444444,
              "#bd3786"
             ],
             [
              0.5555555555555556,
              "#d8576b"
             ],
             [
              0.6666666666666666,
              "#ed7953"
             ],
             [
              0.7777777777777778,
              "#fb9f3a"
             ],
             [
              0.8888888888888888,
              "#fdca26"
             ],
             [
              1.0,
              "#f0f921"
             ]
            ]
           }
          ],
          "heatmap": [
           {
            "type": "heatmap",
            "colorbar": {
             "outlinewidth": 0,
             "ticks": ""
            },
            "colorscale": [
             [
              0.0,
              "#0d0887"
             ],
             [
              0.1111111111111111,
              "#46039f"
             ],
             [
              0.2222222222222222,
              "#7201a8"
             ],
             [
              0.3333333333333333,
              "#9c179e"
             ],
             [
              0.4444444444444444,
              "#bd3786"
             ],
             [
              0.5555555555555556,
              "#d8576b"
             ],
             [
              0.6666666666666666,
              "#ed7953"
             ],
             [
              0.7777777777777778,
              "#fb9f3a"
             ],
             [
              0.8888888888888888,
              "#fdca26"
             ],
             [
              1.0,
              "#f0f921"
             ]
            ]
           }
          ],
          "heatmapgl": [
           {
            "type": "heatmapgl",
            "colorbar": {
             "outlinewidth": 0,
             "ticks": ""
            },
            "colorscale": [
             [
              0.0,
              "#0d0887"
             ],
             [
              0.1111111111111111,
              "#46039f"
             ],
             [
              0.2222222222222222,
              "#7201a8"
             ],
             [
              0.3333333333333333,
              "#9c179e"
             ],
             [
              0.4444444444444444,
              "#bd3786"
             ],
             [
              0.5555555555555556,
              "#d8576b"
             ],
             [
              0.6666666666666666,
              "#ed7953"
             ],
             [
              0.7777777777777778,
              "#fb9f3a"
             ],
             [
              0.8888888888888888,
              "#fdca26"
             ],
             [
              1.0,
              "#f0f921"
             ]
            ]
           }
          ],
          "contourcarpet": [
           {
            "type": "contourcarpet",
            "colorbar": {
             "outlinewidth": 0,
             "ticks": ""
            }
           }
          ],
          "contour": [
           {
            "type": "contour",
            "colorbar": {
             "outlinewidth": 0,
             "ticks": ""
            },
            "colorscale": [
             [
              0.0,
              "#0d0887"
             ],
             [
              0.1111111111111111,
              "#46039f"
             ],
             [
              0.2222222222222222,
              "#7201a8"
             ],
             [
              0.3333333333333333,
              "#9c179e"
             ],
             [
              0.4444444444444444,
              "#bd3786"
             ],
             [
              0.5555555555555556,
              "#d8576b"
             ],
             [
              0.6666666666666666,
              "#ed7953"
             ],
             [
              0.7777777777777778,
              "#fb9f3a"
             ],
             [
              0.8888888888888888,
              "#fdca26"
             ],
             [
              1.0,
              "#f0f921"
             ]
            ]
           }
          ],
          "surface": [
           {
            "type": "surface",
            "colorbar": {
             "outlinewidth": 0,
             "ticks": ""
            },
            "colorscale": [
             [
              0.0,
              "#0d0887"
             ],
             [
              0.1111111111111111,
              "#46039f"
             ],
             [
              0.2222222222222222,
              "#7201a8"
             ],
             [
              0.3333333333333333,
              "#9c179e"
             ],
             [
              0.4444444444444444,
              "#bd3786"
             ],
             [
              0.5555555555555556,
              "#d8576b"
             ],
             [
              0.6666666666666666,
              "#ed7953"
             ],
             [
              0.7777777777777778,
              "#fb9f3a"
             ],
             [
              0.8888888888888888,
              "#fdca26"
             ],
             [
              1.0,
              "#f0f921"
             ]
            ]
           }
          ],
          "mesh3d": [
           {
            "type": "mesh3d",
            "colorbar": {
             "outlinewidth": 0,
             "ticks": ""
            }
           }
          ],
          "scatter": [
           {
            "fillpattern": {
             "fillmode": "overlay",
             "size": 10,
             "solidity": 0.2
            },
            "type": "scatter"
           }
          ],
          "parcoords": [
           {
            "type": "parcoords",
            "line": {
             "colorbar": {
              "outlinewidth": 0,
              "ticks": ""
             }
            }
           }
          ],
          "scatterpolargl": [
           {
            "type": "scatterpolargl",
            "marker": {
             "colorbar": {
              "outlinewidth": 0,
              "ticks": ""
             }
            }
           }
          ],
          "bar": [
           {
            "error_x": {
             "color": "#2a3f5f"
            },
            "error_y": {
             "color": "#2a3f5f"
            },
            "marker": {
             "line": {
              "color": "#E5ECF6",
              "width": 0.5
             },
             "pattern": {
              "fillmode": "overlay",
              "size": 10,
              "solidity": 0.2
             }
            },
            "type": "bar"
           }
          ],
          "scattergeo": [
           {
            "type": "scattergeo",
            "marker": {
             "colorbar": {
              "outlinewidth": 0,
              "ticks": ""
             }
            }
           }
          ],
          "scatterpolar": [
           {
            "type": "scatterpolar",
            "marker": {
             "colorbar": {
              "outlinewidth": 0,
              "ticks": ""
             }
            }
           }
          ],
          "histogram": [
           {
            "marker": {
             "pattern": {
              "fillmode": "overlay",
              "size": 10,
              "solidity": 0.2
             }
            },
            "type": "histogram"
           }
          ],
          "scattergl": [
           {
            "type": "scattergl",
            "marker": {
             "colorbar": {
              "outlinewidth": 0,
              "ticks": ""
             }
            }
           }
          ],
          "scatter3d": [
           {
            "type": "scatter3d",
            "line": {
             "colorbar": {
              "outlinewidth": 0,
              "ticks": ""
             }
            },
            "marker": {
             "colorbar": {
              "outlinewidth": 0,
              "ticks": ""
             }
            }
           }
          ],
          "scattermapbox": [
           {
            "type": "scattermapbox",
            "marker": {
             "colorbar": {
              "outlinewidth": 0,
              "ticks": ""
             }
            }
           }
          ],
          "scatterternary": [
           {
            "type": "scatterternary",
            "marker": {
             "colorbar": {
              "outlinewidth": 0,
              "ticks": ""
             }
            }
           }
          ],
          "scattercarpet": [
           {
            "type": "scattercarpet",
            "marker": {
             "colorbar": {
              "outlinewidth": 0,
              "ticks": ""
             }
            }
           }
          ],
          "carpet": [
           {
            "aaxis": {
             "endlinecolor": "#2a3f5f",
             "gridcolor": "white",
             "linecolor": "white",
             "minorgridcolor": "white",
             "startlinecolor": "#2a3f5f"
            },
            "baxis": {
             "endlinecolor": "#2a3f5f",
             "gridcolor": "white",
             "linecolor": "white",
             "minorgridcolor": "white",
             "startlinecolor": "#2a3f5f"
            },
            "type": "carpet"
           }
          ],
          "table": [
           {
            "cells": {
             "fill": {
              "color": "#EBF0F8"
             },
             "line": {
              "color": "white"
             }
            },
            "header": {
             "fill": {
              "color": "#C8D4E3"
             },
             "line": {
              "color": "white"
             }
            },
            "type": "table"
           }
          ],
          "barpolar": [
           {
            "marker": {
             "line": {
              "color": "#E5ECF6",
              "width": 0.5
             },
             "pattern": {
              "fillmode": "overlay",
              "size": 10,
              "solidity": 0.2
             }
            },
            "type": "barpolar"
           }
          ],
          "pie": [
           {
            "automargin": true,
            "type": "pie"
           }
          ]
         },
         "layout": {
          "autotypenumbers": "strict",
          "colorway": [
           "#636efa",
           "#EF553B",
           "#00cc96",
           "#ab63fa",
           "#FFA15A",
           "#19d3f3",
           "#FF6692",
           "#B6E880",
           "#FF97FF",
           "#FECB52"
          ],
          "font": {
           "color": "#2a3f5f"
          },
          "hovermode": "closest",
          "hoverlabel": {
           "align": "left"
          },
          "paper_bgcolor": "white",
          "plot_bgcolor": "#E5ECF6",
          "polar": {
           "bgcolor": "#E5ECF6",
           "angularaxis": {
            "gridcolor": "white",
            "linecolor": "white",
            "ticks": ""
           },
           "radialaxis": {
            "gridcolor": "white",
            "linecolor": "white",
            "ticks": ""
           }
          },
          "ternary": {
           "bgcolor": "#E5ECF6",
           "aaxis": {
            "gridcolor": "white",
            "linecolor": "white",
            "ticks": ""
           },
           "baxis": {
            "gridcolor": "white",
            "linecolor": "white",
            "ticks": ""
           },
           "caxis": {
            "gridcolor": "white",
            "linecolor": "white",
            "ticks": ""
           }
          },
          "coloraxis": {
           "colorbar": {
            "outlinewidth": 0,
            "ticks": ""
           }
          },
          "colorscale": {
           "sequential": [
            [
             0.0,
             "#0d0887"
            ],
            [
             0.1111111111111111,
             "#46039f"
            ],
            [
             0.2222222222222222,
             "#7201a8"
            ],
            [
             0.3333333333333333,
             "#9c179e"
            ],
            [
             0.4444444444444444,
             "#bd3786"
            ],
            [
             0.5555555555555556,
             "#d8576b"
            ],
            [
             0.6666666666666666,
             "#ed7953"
            ],
            [
             0.7777777777777778,
             "#fb9f3a"
            ],
            [
             0.8888888888888888,
             "#fdca26"
            ],
            [
             1.0,
             "#f0f921"
            ]
           ],
           "sequentialminus": [
            [
             0.0,
             "#0d0887"
            ],
            [
             0.1111111111111111,
             "#46039f"
            ],
            [
             0.2222222222222222,
             "#7201a8"
            ],
            [
             0.3333333333333333,
             "#9c179e"
            ],
            [
             0.4444444444444444,
             "#bd3786"
            ],
            [
             0.5555555555555556,
             "#d8576b"
            ],
            [
             0.6666666666666666,
             "#ed7953"
            ],
            [
             0.7777777777777778,
             "#fb9f3a"
            ],
            [
             0.8888888888888888,
             "#fdca26"
            ],
            [
             1.0,
             "#f0f921"
            ]
           ],
           "diverging": [
            [
             0,
             "#8e0152"
            ],
            [
             0.1,
             "#c51b7d"
            ],
            [
             0.2,
             "#de77ae"
            ],
            [
             0.3,
             "#f1b6da"
            ],
            [
             0.4,
             "#fde0ef"
            ],
            [
             0.5,
             "#f7f7f7"
            ],
            [
             0.6,
             "#e6f5d0"
            ],
            [
             0.7,
             "#b8e186"
            ],
            [
             0.8,
             "#7fbc41"
            ],
            [
             0.9,
             "#4d9221"
            ],
            [
             1,
             "#276419"
            ]
           ]
          },
          "xaxis": {
           "gridcolor": "white",
           "linecolor": "white",
           "ticks": "",
           "title": {
            "standoff": 15
           },
           "zerolinecolor": "white",
           "automargin": true,
           "zerolinewidth": 2
          },
          "yaxis": {
           "gridcolor": "white",
           "linecolor": "white",
           "ticks": "",
           "title": {
            "standoff": 15
           },
           "zerolinecolor": "white",
           "automargin": true,
           "zerolinewidth": 2
          },
          "scene": {
           "xaxis": {
            "backgroundcolor": "#E5ECF6",
            "gridcolor": "white",
            "linecolor": "white",
            "showbackground": true,
            "ticks": "",
            "zerolinecolor": "white",
            "gridwidth": 2
           },
           "yaxis": {
            "backgroundcolor": "#E5ECF6",
            "gridcolor": "white",
            "linecolor": "white",
            "showbackground": true,
            "ticks": "",
            "zerolinecolor": "white",
            "gridwidth": 2
           },
           "zaxis": {
            "backgroundcolor": "#E5ECF6",
            "gridcolor": "white",
            "linecolor": "white",
            "showbackground": true,
            "ticks": "",
            "zerolinecolor": "white",
            "gridwidth": 2
           }
          },
          "shapedefaults": {
           "line": {
            "color": "#2a3f5f"
           }
          },
          "annotationdefaults": {
           "arrowcolor": "#2a3f5f",
           "arrowhead": 0,
           "arrowwidth": 1
          },
          "geo": {
           "bgcolor": "white",
           "landcolor": "#E5ECF6",
           "subunitcolor": "white",
           "showland": true,
           "showlakes": true,
           "lakecolor": "white"
          },
          "title": {
           "x": 0.05
          },
          "mapbox": {
           "style": "light"
          }
         }
        },
        "xaxis": {
         "anchor": "y",
         "domain": [
          0.0,
          1.0
         ],
         "title": {
          "text": "Error type"
         }
        },
        "yaxis": {
         "anchor": "x",
         "domain": [
          0.0,
          1.0
         ],
         "title": {
          "text": "log(value)"
         },
         "type": "log",
         "range": [
          -22,
          3
         ]
        },
        "legend": {
         "tracegroupgap": 0
        },
        "margin": {
         "t": 60
        },
        "violinmode": "group",
        "title": {
         "text": "Errors normalize by σ"
        }
       },
       "config": {
        "plotlyServerURL": "https://plot.ly"
       }
      },
      "text/html": "<div>                            <div id=\"7e26e42e-7e44-4c53-91b8-4b354415e6dd\" class=\"plotly-graph-div\" style=\"height:525px; width:100%;\"></div>            <script type=\"text/javascript\">                require([\"plotly\"], function(Plotly) {                    window.PLOTLYENV=window.PLOTLYENV || {};                                    if (document.getElementById(\"7e26e42e-7e44-4c53-91b8-4b354415e6dd\")) {                    Plotly.newPlot(                        \"7e26e42e-7e44-4c53-91b8-4b354415e6dd\",                        [{\"alignmentgroup\":\"True\",\"box\":{\"visible\":true},\"hovertemplate\":\"variable=%{x}\\u003cbr\\u003evalue=%{y}\\u003cextra\\u003e\\u003c\\u002fextra\\u003e\",\"legendgroup\":\"\",\"marker\":{\"color\":\"#636efa\"},\"name\":\"\",\"offsetgroup\":\"\",\"orientation\":\"v\",\"points\":\"all\",\"scalegroup\":\"True\",\"showlegend\":false,\"x\":[\"squared_error\",\"squared_error\",\"squared_error\",\"squared_error\",\"squared_error\",\"squared_error\",\"squared_error\",\"squared_error\",\"squared_error\",\"squared_error\",\"squared_error\",\"squared_error\",\"squared_error\",\"squared_error\",\"squared_error\",\"squared_error\",\"squared_error\",\"squared_error\",\"squared_error\",\"squared_error\",\"squared_error\",\"squared_error\",\"squared_error\",\"squared_error\",\"squared_error\",\"squared_error\",\"squared_error\",\"squared_error\",\"squared_error\",\"squared_error\",\"squared_error\",\"squared_error\",\"squared_error\",\"squared_error\",\"squared_error\",\"squared_error\",\"squared_error\",\"squared_error\",\"squared_error\",\"squared_error\",\"squared_error\",\"squared_error\",\"squared_error\",\"squared_error\",\"squared_error\",\"squared_error\",\"squared_error\",\"squared_error\",\"squared_error\",\"squared_error\",\"squared_error\",\"squared_error\",\"squared_error\",\"squared_error\",\"squared_error\",\"squared_error\",\"squared_error\",\"squared_error\",\"squared_error\",\"squared_error\",\"squared_error\",\"squared_error\",\"squared_error\",\"squared_error\",\"squared_error\",\"squared_error\",\"squared_error\",\"squared_error\",\"squared_error\",\"squared_error\",\"squared_error\",\"squared_error\",\"squared_error\",\"squared_error\",\"squared_error\",\"squared_error\",\"squared_error\",\"squared_error\",\"squared_error\",\"squared_error\",\"squared_error\",\"squared_error\",\"squared_error\",\"squared_error\",\"squared_error\",\"squared_error\",\"squared_error\",\"squared_error\",\"squared_error\",\"squared_error\",\"squared_error\",\"squared_error\",\"squared_error\",\"squared_error\",\"squared_error\",\"squared_error\",\"squared_error\",\"squared_error\",\"squared_error\",\"squared_error\",\"squared_error\",\"squared_error\",\"squared_error\",\"squared_error\",\"squared_error\",\"squared_error\",\"squared_error\",\"squared_error\",\"squared_error\",\"squared_error\",\"squared_error\",\"squared_error\",\"squared_error\",\"squared_error\",\"squared_error\",\"squared_error\",\"squared_error\",\"squared_error\",\"squared_error\",\"squared_error\",\"squared_error\",\"squared_error\",\"squared_error\",\"squared_error\",\"squared_error\",\"squared_error\",\"squared_error\",\"squared_error\",\"squared_error\",\"squared_error\",\"squared_error\",\"squared_error\",\"squared_error\",\"squared_error\",\"squared_error\",\"squared_error\",\"squared_error\",\"squared_error\",\"squared_error\",\"squared_error\",\"squared_error\",\"squared_error\",\"squared_error\",\"squared_error\",\"squared_error\",\"squared_error\",\"squared_error\",\"squared_error\",\"squared_error\",\"squared_error\",\"squared_error\",\"squared_error\",\"squared_error\",\"squared_error\",\"squared_error\",\"squared_error\",\"squared_error\",\"squared_error\",\"squared_error\",\"squared_error\",\"squared_error\",\"squared_error\",\"squared_error\",\"squared_error\",\"squared_error\",\"squared_error\",\"squared_error\",\"squared_error\",\"squared_error\",\"squared_error\",\"squared_error\",\"squared_error\",\"squared_error\",\"squared_error\",\"squared_error\",\"squared_error\",\"squared_error\",\"squared_error\",\"squared_error\",\"squared_error\",\"squared_error\",\"squared_error\",\"squared_error\",\"squared_error\",\"squared_error\",\"squared_error\",\"squared_error\",\"squared_error\",\"squared_error\",\"squared_error\",\"squared_error\",\"squared_error\",\"squared_error\",\"squared_error\",\"squared_error\",\"squared_error\",\"squared_error\",\"squared_error\",\"squared_error\",\"squared_error\",\"squared_error\",\"squared_error\",\"squared_error\",\"squared_error\",\"squared_error\",\"squared_error\",\"squared_error\",\"squared_error\",\"squared_error\",\"squared_error\",\"squared_error\",\"squared_error\",\"squared_error\",\"squared_error\",\"squared_error\",\"squared_error\",\"squared_error\",\"squared_error\",\"squared_error\",\"squared_error\",\"squared_error\",\"squared_error\",\"squared_error\",\"squared_error\",\"squared_error\",\"squared_error\",\"squared_error\",\"squared_error\",\"squared_error\",\"squared_error\",\"squared_error\",\"squared_error\",\"squared_error\",\"squared_error\",\"squared_error\",\"squared_error\",\"squared_error\",\"squared_error\",\"squared_error\",\"squared_error\",\"squared_error\",\"squared_error\",\"squared_error\",\"squared_error\",\"squared_error\",\"squared_error\",\"squared_error\",\"squared_error\",\"squared_error\",\"squared_error\",\"squared_error\",\"squared_error\",\"squared_error\",\"squared_error\",\"squared_error\",\"squared_error\",\"squared_error\",\"squared_error\",\"squared_error\",\"squared_error\",\"squared_error\",\"squared_error\",\"squared_error\",\"squared_error\",\"squared_error\",\"squared_error\",\"squared_error\",\"squared_error\",\"squared_error\",\"squared_error\",\"squared_error\",\"squared_error\",\"squared_error\",\"squared_error\",\"squared_error\",\"squared_error\",\"squared_error\",\"squared_error\",\"squared_error\",\"squared_error\",\"squared_error\",\"squared_error\",\"squared_error\",\"squared_error\",\"squared_error\",\"squared_error\",\"squared_error\",\"squared_error\",\"squared_error\",\"squared_error\",\"squared_error\",\"squared_error\",\"squared_error\",\"squared_error\",\"squared_error\",\"squared_error\",\"squared_error\",\"squared_error\",\"squared_error\",\"squared_error\",\"squared_error\",\"squared_error\",\"squared_error\",\"squared_error\",\"squared_error\",\"squared_error\",\"squared_error\",\"squared_error\",\"squared_error\",\"squared_error\",\"squared_error\",\"squared_error\",\"squared_error\",\"squared_error\",\"squared_error\",\"squared_error\",\"squared_error\",\"p1_err1\",\"p1_err1\",\"p1_err1\",\"p1_err1\",\"p1_err1\",\"p1_err1\",\"p1_err1\",\"p1_err1\",\"p1_err1\",\"p1_err1\",\"p1_err1\",\"p1_err1\",\"p1_err1\",\"p1_err1\",\"p1_err1\",\"p1_err1\",\"p1_err1\",\"p1_err1\",\"p1_err1\",\"p1_err1\",\"p1_err1\",\"p1_err1\",\"p1_err1\",\"p1_err1\",\"p1_err1\",\"p1_err1\",\"p1_err1\",\"p1_err1\",\"p1_err1\",\"p1_err1\",\"p1_err1\",\"p1_err1\",\"p1_err1\",\"p1_err1\",\"p1_err1\",\"p1_err1\",\"p1_err1\",\"p1_err1\",\"p1_err1\",\"p1_err1\",\"p1_err1\",\"p1_err1\",\"p1_err1\",\"p1_err1\",\"p1_err1\",\"p1_err1\",\"p1_err1\",\"p1_err1\",\"p1_err1\",\"p1_err1\",\"p1_err1\",\"p1_err1\",\"p1_err1\",\"p1_err1\",\"p1_err1\",\"p1_err1\",\"p1_err1\",\"p1_err1\",\"p1_err1\",\"p1_err1\",\"p1_err1\",\"p1_err1\",\"p1_err1\",\"p1_err1\",\"p1_err1\",\"p1_err1\",\"p1_err1\",\"p1_err1\",\"p1_err1\",\"p1_err1\",\"p1_err1\",\"p1_err1\",\"p1_err1\",\"p1_err1\",\"p1_err1\",\"p1_err1\",\"p1_err1\",\"p1_err1\",\"p1_err1\",\"p1_err1\",\"p1_err1\",\"p1_err1\",\"p1_err1\",\"p1_err1\",\"p1_err1\",\"p1_err1\",\"p1_err1\",\"p1_err1\",\"p1_err1\",\"p1_err1\",\"p1_err1\",\"p1_err1\",\"p1_err1\",\"p1_err1\",\"p1_err1\",\"p1_err1\",\"p1_err1\",\"p1_err1\",\"p1_err1\",\"p1_err1\",\"p1_err1\",\"p1_err1\",\"p1_err1\",\"p1_err1\",\"p1_err1\",\"p1_err1\",\"p1_err1\",\"p1_err1\",\"p1_err1\",\"p1_err1\",\"p1_err1\",\"p1_err1\",\"p1_err1\",\"p1_err1\",\"p1_err1\",\"p1_err1\",\"p1_err1\",\"p1_err1\",\"p1_err1\",\"p1_err1\",\"p1_err1\",\"p1_err1\",\"p1_err1\",\"p1_err1\",\"p1_err1\",\"p1_err1\",\"p1_err1\",\"p1_err1\",\"p1_err1\",\"p1_err1\",\"p1_err1\",\"p1_err1\",\"p1_err1\",\"p1_err1\",\"p1_err1\",\"p1_err1\",\"p1_err1\",\"p1_err1\",\"p1_err1\",\"p1_err1\",\"p1_err1\",\"p1_err1\",\"p1_err1\",\"p1_err1\",\"p1_err1\",\"p1_err1\",\"p1_err1\",\"p1_err1\",\"p1_err1\",\"p1_err1\",\"p1_err1\",\"p1_err1\",\"p1_err1\",\"p1_err1\",\"p1_err1\",\"p1_err1\",\"p1_err1\",\"p1_err1\",\"p1_err1\",\"p1_err1\",\"p1_err1\",\"p1_err1\",\"p1_err1\",\"p1_err1\",\"p1_err1\",\"p1_err1\",\"p1_err1\",\"p1_err1\",\"p1_err1\",\"p1_err1\",\"p1_err1\",\"p1_err1\",\"p1_err1\",\"p1_err1\",\"p1_err1\",\"p1_err1\",\"p1_err1\",\"p1_err1\",\"p1_err1\",\"p1_err1\",\"p1_err1\",\"p1_err1\",\"p1_err1\",\"p1_err1\",\"p1_err1\",\"p1_err1\",\"p1_err1\",\"p1_err1\",\"p1_err1\",\"p1_err1\",\"p1_err1\",\"p1_err1\",\"p1_err1\",\"p1_err1\",\"p1_err1\",\"p1_err1\",\"p1_err1\",\"p1_err1\",\"p1_err1\",\"p1_err1\",\"p1_err1\",\"p1_err1\",\"p1_err1\",\"p1_err1\",\"p1_err1\",\"p1_err1\",\"p1_err1\",\"p1_err1\",\"p1_err1\",\"p1_err1\",\"p1_err1\",\"p1_err1\",\"p1_err1\",\"p1_err1\",\"p1_err1\",\"p1_err1\",\"p1_err1\",\"p1_err1\",\"p1_err1\",\"p1_err1\",\"p1_err1\",\"p1_err1\",\"p1_err1\",\"p1_err1\",\"p1_err1\",\"p1_err1\",\"p1_err1\",\"p1_err1\",\"p1_err1\",\"p1_err1\",\"p1_err1\",\"p1_err1\",\"p1_err1\",\"p1_err1\",\"p1_err1\",\"p1_err1\",\"p1_err1\",\"p1_err1\",\"p1_err1\",\"p1_err1\",\"p1_err1\",\"p1_err1\",\"p1_err1\",\"p1_err1\",\"p1_err1\",\"p1_err1\",\"p1_err1\",\"p1_err1\",\"p1_err1\",\"p1_err1\",\"p1_err1\",\"p1_err1\",\"p1_err1\",\"p1_err1\",\"p1_err1\",\"p1_err1\",\"p1_err1\",\"p1_err1\",\"p1_err1\",\"p1_err1\",\"p1_err1\",\"p1_err1\",\"p1_err1\",\"p1_err1\",\"p1_err1\",\"p1_err1\",\"p1_err1\",\"p1_err1\",\"p1_err1\",\"p1_err1\",\"p1_err1\",\"p1_err1\",\"p1_err1\",\"p1_err1\",\"p1_err1\",\"p1_err1\",\"p1_err1\",\"p1_err1\",\"p1_err1\",\"p1_err1\",\"p1_err1\",\"p1_err1\",\"p1_err1\",\"p1_err1\",\"p1_err1\",\"p1_err1\",\"p1_err1\",\"p1_err1\",\"p1_err1\",\"p1_err1\",\"p1_err1\",\"p1_err1\",\"p1_err1\",\"p1_err1\",\"p1_err1\",\"p1_err1\",\"p1_err1\",\"p1_err1\",\"p1_err1\",\"p1_err1\",\"p1_err1\",\"p1_err1\",\"p1_err1\",\"p1_err1\",\"p1_err1\",\"p1_err1\",\"p1_err1\",\"p1_err1\",\"p1_err1\",\"p1_err1\",\"p1_err1\",\"p1_err1\",\"p1_err1\",\"p1_err1\",\"p1_err1\",\"p1_err1\",\"p1_err1\",\"p1_err2\",\"p1_err2\",\"p1_err2\",\"p1_err2\",\"p1_err2\",\"p1_err2\",\"p1_err2\",\"p1_err2\",\"p1_err2\",\"p1_err2\",\"p1_err2\",\"p1_err2\",\"p1_err2\",\"p1_err2\",\"p1_err2\",\"p1_err2\",\"p1_err2\",\"p1_err2\",\"p1_err2\",\"p1_err2\",\"p1_err2\",\"p1_err2\",\"p1_err2\",\"p1_err2\",\"p1_err2\",\"p1_err2\",\"p1_err2\",\"p1_err2\",\"p1_err2\",\"p1_err2\",\"p1_err2\",\"p1_err2\",\"p1_err2\",\"p1_err2\",\"p1_err2\",\"p1_err2\",\"p1_err2\",\"p1_err2\",\"p1_err2\",\"p1_err2\",\"p1_err2\",\"p1_err2\",\"p1_err2\",\"p1_err2\",\"p1_err2\",\"p1_err2\",\"p1_err2\",\"p1_err2\",\"p1_err2\",\"p1_err2\",\"p1_err2\",\"p1_err2\",\"p1_err2\",\"p1_err2\",\"p1_err2\",\"p1_err2\",\"p1_err2\",\"p1_err2\",\"p1_err2\",\"p1_err2\",\"p1_err2\",\"p1_err2\",\"p1_err2\",\"p1_err2\",\"p1_err2\",\"p1_err2\",\"p1_err2\",\"p1_err2\",\"p1_err2\",\"p1_err2\",\"p1_err2\",\"p1_err2\",\"p1_err2\",\"p1_err2\",\"p1_err2\",\"p1_err2\",\"p1_err2\",\"p1_err2\",\"p1_err2\",\"p1_err2\",\"p1_err2\",\"p1_err2\",\"p1_err2\",\"p1_err2\",\"p1_err2\",\"p1_err2\",\"p1_err2\",\"p1_err2\",\"p1_err2\",\"p1_err2\",\"p1_err2\",\"p1_err2\",\"p1_err2\",\"p1_err2\",\"p1_err2\",\"p1_err2\",\"p1_err2\",\"p1_err2\",\"p1_err2\",\"p1_err2\",\"p1_err2\",\"p1_err2\",\"p1_err2\",\"p1_err2\",\"p1_err2\",\"p1_err2\",\"p1_err2\",\"p1_err2\",\"p1_err2\",\"p1_err2\",\"p1_err2\",\"p1_err2\",\"p1_err2\",\"p1_err2\",\"p1_err2\",\"p1_err2\",\"p1_err2\",\"p1_err2\",\"p1_err2\",\"p1_err2\",\"p1_err2\",\"p1_err2\",\"p1_err2\",\"p1_err2\",\"p1_err2\",\"p1_err2\",\"p1_err2\",\"p1_err2\",\"p1_err2\",\"p1_err2\",\"p1_err2\",\"p1_err2\",\"p1_err2\",\"p1_err2\",\"p1_err2\",\"p1_err2\",\"p1_err2\",\"p1_err2\",\"p1_err2\",\"p1_err2\",\"p1_err2\",\"p1_err2\",\"p1_err2\",\"p1_err2\",\"p1_err2\",\"p1_err2\",\"p1_err2\",\"p1_err2\",\"p1_err2\",\"p1_err2\",\"p1_err2\",\"p1_err2\",\"p1_err2\",\"p1_err2\",\"p1_err2\",\"p1_err2\",\"p1_err2\",\"p1_err2\",\"p1_err2\",\"p1_err2\",\"p1_err2\",\"p1_err2\",\"p1_err2\",\"p1_err2\",\"p1_err2\",\"p1_err2\",\"p1_err2\",\"p1_err2\",\"p1_err2\",\"p1_err2\",\"p1_err2\",\"p1_err2\",\"p1_err2\",\"p1_err2\",\"p1_err2\",\"p1_err2\",\"p1_err2\",\"p1_err2\",\"p1_err2\",\"p1_err2\",\"p1_err2\",\"p1_err2\",\"p1_err2\",\"p1_err2\",\"p1_err2\",\"p1_err2\",\"p1_err2\",\"p1_err2\",\"p1_err2\",\"p1_err2\",\"p1_err2\",\"p1_err2\",\"p1_err2\",\"p1_err2\",\"p1_err2\",\"p1_err2\",\"p1_err2\",\"p1_err2\",\"p1_err2\",\"p1_err2\",\"p1_err2\",\"p1_err2\",\"p1_err2\",\"p1_err2\",\"p1_err2\",\"p1_err2\",\"p1_err2\",\"p1_err2\",\"p1_err2\",\"p1_err2\",\"p1_err2\",\"p1_err2\",\"p1_err2\",\"p1_err2\",\"p1_err2\",\"p1_err2\",\"p1_err2\",\"p1_err2\",\"p1_err2\",\"p1_err2\",\"p1_err2\",\"p1_err2\",\"p1_err2\",\"p1_err2\",\"p1_err2\",\"p1_err2\",\"p1_err2\",\"p1_err2\",\"p1_err2\",\"p1_err2\",\"p1_err2\",\"p1_err2\",\"p1_err2\",\"p1_err2\",\"p1_err2\",\"p1_err2\",\"p1_err2\",\"p1_err2\",\"p1_err2\",\"p1_err2\",\"p1_err2\",\"p1_err2\",\"p1_err2\",\"p1_err2\",\"p1_err2\",\"p1_err2\",\"p1_err2\",\"p1_err2\",\"p1_err2\",\"p1_err2\",\"p1_err2\",\"p1_err2\",\"p1_err2\",\"p1_err2\",\"p1_err2\",\"p1_err2\",\"p1_err2\",\"p1_err2\",\"p1_err2\",\"p1_err2\",\"p1_err2\",\"p1_err2\",\"p1_err2\",\"p1_err2\",\"p1_err2\",\"p1_err2\",\"p1_err2\",\"p1_err2\",\"p1_err2\",\"p1_err2\",\"p1_err2\",\"p1_err2\",\"p1_err2\",\"p1_err2\",\"p1_err2\",\"p1_err2\",\"p1_err2\",\"p1_err2\",\"p1_err2\",\"p1_err2\",\"p1_err2\",\"p1_err2\",\"p1_err2\",\"p1_err2\",\"p1_err2\",\"p1_err2\",\"p1_err2\",\"p1_err2\",\"p1_err2\",\"p1_err2\",\"p1_err2\",\"p1_err2\",\"p1_err2\",\"p1_err2\",\"p1_err2\",\"p1_err2\",\"p1_err2\",\"p1_err2\",\"p1_err2\",\"p1_err2\",\"p1_err2\",\"p1_err2\",\"p1_err2\",\"p1_err2\",\"p1_err2\",\"p1_err2\",\"p1_err2\",\"p1_err2\",\"p1_err2\",\"p1_err2\",\"p1_err2\",\"p1_err2\",\"p1_err2\",\"p1_err2\",\"p1_err2\",\"p1_err2\",\"p1_err2\",\"p2_err1\",\"p2_err1\",\"p2_err1\",\"p2_err1\",\"p2_err1\",\"p2_err1\",\"p2_err1\",\"p2_err1\",\"p2_err1\",\"p2_err1\",\"p2_err1\",\"p2_err1\",\"p2_err1\",\"p2_err1\",\"p2_err1\",\"p2_err1\",\"p2_err1\",\"p2_err1\",\"p2_err1\",\"p2_err1\",\"p2_err1\",\"p2_err1\",\"p2_err1\",\"p2_err1\",\"p2_err1\",\"p2_err1\",\"p2_err1\",\"p2_err1\",\"p2_err1\",\"p2_err1\",\"p2_err1\",\"p2_err1\",\"p2_err1\",\"p2_err1\",\"p2_err1\",\"p2_err1\",\"p2_err1\",\"p2_err1\",\"p2_err1\",\"p2_err1\",\"p2_err1\",\"p2_err1\",\"p2_err1\",\"p2_err1\",\"p2_err1\",\"p2_err1\",\"p2_err1\",\"p2_err1\",\"p2_err1\",\"p2_err1\",\"p2_err1\",\"p2_err1\",\"p2_err1\",\"p2_err1\",\"p2_err1\",\"p2_err1\",\"p2_err1\",\"p2_err1\",\"p2_err1\",\"p2_err1\",\"p2_err1\",\"p2_err1\",\"p2_err1\",\"p2_err1\",\"p2_err1\",\"p2_err1\",\"p2_err1\",\"p2_err1\",\"p2_err1\",\"p2_err1\",\"p2_err1\",\"p2_err1\",\"p2_err1\",\"p2_err1\",\"p2_err1\",\"p2_err1\",\"p2_err1\",\"p2_err1\",\"p2_err1\",\"p2_err1\",\"p2_err1\",\"p2_err1\",\"p2_err1\",\"p2_err1\",\"p2_err1\",\"p2_err1\",\"p2_err1\",\"p2_err1\",\"p2_err1\",\"p2_err1\",\"p2_err1\",\"p2_err1\",\"p2_err1\",\"p2_err1\",\"p2_err1\",\"p2_err1\",\"p2_err1\",\"p2_err1\",\"p2_err1\",\"p2_err1\",\"p2_err1\",\"p2_err1\",\"p2_err1\",\"p2_err1\",\"p2_err1\",\"p2_err1\",\"p2_err1\",\"p2_err1\",\"p2_err1\",\"p2_err1\",\"p2_err1\",\"p2_err1\",\"p2_err1\",\"p2_err1\",\"p2_err1\",\"p2_err1\",\"p2_err1\",\"p2_err1\",\"p2_err1\",\"p2_err1\",\"p2_err1\",\"p2_err1\",\"p2_err1\",\"p2_err1\",\"p2_err1\",\"p2_err1\",\"p2_err1\",\"p2_err1\",\"p2_err1\",\"p2_err1\",\"p2_err1\",\"p2_err1\",\"p2_err1\",\"p2_err1\",\"p2_err1\",\"p2_err1\",\"p2_err1\",\"p2_err1\",\"p2_err1\",\"p2_err1\",\"p2_err1\",\"p2_err1\",\"p2_err1\",\"p2_err1\",\"p2_err1\",\"p2_err1\",\"p2_err1\",\"p2_err1\",\"p2_err1\",\"p2_err1\",\"p2_err1\",\"p2_err1\",\"p2_err1\",\"p2_err1\",\"p2_err1\",\"p2_err1\",\"p2_err1\",\"p2_err1\",\"p2_err1\",\"p2_err1\",\"p2_err1\",\"p2_err1\",\"p2_err1\",\"p2_err1\",\"p2_err1\",\"p2_err1\",\"p2_err1\",\"p2_err1\",\"p2_err1\",\"p2_err1\",\"p2_err1\",\"p2_err1\",\"p2_err1\",\"p2_err1\",\"p2_err1\",\"p2_err1\",\"p2_err1\",\"p2_err1\",\"p2_err1\",\"p2_err1\",\"p2_err1\",\"p2_err1\",\"p2_err1\",\"p2_err1\",\"p2_err1\",\"p2_err1\",\"p2_err1\",\"p2_err1\",\"p2_err1\",\"p2_err1\",\"p2_err1\",\"p2_err1\",\"p2_err1\",\"p2_err1\",\"p2_err1\",\"p2_err1\",\"p2_err1\",\"p2_err1\",\"p2_err1\",\"p2_err1\",\"p2_err1\",\"p2_err1\",\"p2_err1\",\"p2_err1\",\"p2_err1\",\"p2_err1\",\"p2_err1\",\"p2_err1\",\"p2_err1\",\"p2_err1\",\"p2_err1\",\"p2_err1\",\"p2_err1\",\"p2_err1\",\"p2_err1\",\"p2_err1\",\"p2_err1\",\"p2_err1\",\"p2_err1\",\"p2_err1\",\"p2_err1\",\"p2_err1\",\"p2_err1\",\"p2_err1\",\"p2_err1\",\"p2_err1\",\"p2_err1\",\"p2_err1\",\"p2_err1\",\"p2_err1\",\"p2_err1\",\"p2_err1\",\"p2_err1\",\"p2_err1\",\"p2_err1\",\"p2_err1\",\"p2_err1\",\"p2_err1\",\"p2_err1\",\"p2_err1\",\"p2_err1\",\"p2_err1\",\"p2_err1\",\"p2_err1\",\"p2_err1\",\"p2_err1\",\"p2_err1\",\"p2_err1\",\"p2_err1\",\"p2_err1\",\"p2_err1\",\"p2_err1\",\"p2_err1\",\"p2_err1\",\"p2_err1\",\"p2_err1\",\"p2_err1\",\"p2_err1\",\"p2_err1\",\"p2_err1\",\"p2_err1\",\"p2_err1\",\"p2_err1\",\"p2_err1\",\"p2_err1\",\"p2_err1\",\"p2_err1\",\"p2_err1\",\"p2_err1\",\"p2_err1\",\"p2_err1\",\"p2_err1\",\"p2_err1\",\"p2_err1\",\"p2_err1\",\"p2_err1\",\"p2_err1\",\"p2_err1\",\"p2_err1\",\"p2_err1\",\"p2_err1\",\"p2_err1\",\"p2_err1\",\"p2_err1\",\"p2_err1\",\"p2_err1\",\"p2_err1\",\"p2_err1\",\"p2_err1\",\"p2_err1\",\"p2_err1\",\"p2_err1\",\"p2_err1\",\"p2_err1\",\"p2_err1\",\"p2_err1\",\"p2_err1\",\"p2_err1\",\"p2_err1\",\"p2_err1\",\"p2_err1\",\"p2_err1\",\"p2_err1\",\"p2_err1\",\"p2_err1\",\"p2_err1\",\"p2_err1\",\"p2_err1\",\"p2_err1\",\"p2_err1\",\"p2_err1\",\"p2_err1\",\"p2_err1\",\"p2_err1\",\"p2_err1\",\"p2_err1\",\"p2_err1\",\"p2_err2\",\"p2_err2\",\"p2_err2\",\"p2_err2\",\"p2_err2\",\"p2_err2\",\"p2_err2\",\"p2_err2\",\"p2_err2\",\"p2_err2\",\"p2_err2\",\"p2_err2\",\"p2_err2\",\"p2_err2\",\"p2_err2\",\"p2_err2\",\"p2_err2\",\"p2_err2\",\"p2_err2\",\"p2_err2\",\"p2_err2\",\"p2_err2\",\"p2_err2\",\"p2_err2\",\"p2_err2\",\"p2_err2\",\"p2_err2\",\"p2_err2\",\"p2_err2\",\"p2_err2\",\"p2_err2\",\"p2_err2\",\"p2_err2\",\"p2_err2\",\"p2_err2\",\"p2_err2\",\"p2_err2\",\"p2_err2\",\"p2_err2\",\"p2_err2\",\"p2_err2\",\"p2_err2\",\"p2_err2\",\"p2_err2\",\"p2_err2\",\"p2_err2\",\"p2_err2\",\"p2_err2\",\"p2_err2\",\"p2_err2\",\"p2_err2\",\"p2_err2\",\"p2_err2\",\"p2_err2\",\"p2_err2\",\"p2_err2\",\"p2_err2\",\"p2_err2\",\"p2_err2\",\"p2_err2\",\"p2_err2\",\"p2_err2\",\"p2_err2\",\"p2_err2\",\"p2_err2\",\"p2_err2\",\"p2_err2\",\"p2_err2\",\"p2_err2\",\"p2_err2\",\"p2_err2\",\"p2_err2\",\"p2_err2\",\"p2_err2\",\"p2_err2\",\"p2_err2\",\"p2_err2\",\"p2_err2\",\"p2_err2\",\"p2_err2\",\"p2_err2\",\"p2_err2\",\"p2_err2\",\"p2_err2\",\"p2_err2\",\"p2_err2\",\"p2_err2\",\"p2_err2\",\"p2_err2\",\"p2_err2\",\"p2_err2\",\"p2_err2\",\"p2_err2\",\"p2_err2\",\"p2_err2\",\"p2_err2\",\"p2_err2\",\"p2_err2\",\"p2_err2\",\"p2_err2\",\"p2_err2\",\"p2_err2\",\"p2_err2\",\"p2_err2\",\"p2_err2\",\"p2_err2\",\"p2_err2\",\"p2_err2\",\"p2_err2\",\"p2_err2\",\"p2_err2\",\"p2_err2\",\"p2_err2\",\"p2_err2\",\"p2_err2\",\"p2_err2\",\"p2_err2\",\"p2_err2\",\"p2_err2\",\"p2_err2\",\"p2_err2\",\"p2_err2\",\"p2_err2\",\"p2_err2\",\"p2_err2\",\"p2_err2\",\"p2_err2\",\"p2_err2\",\"p2_err2\",\"p2_err2\",\"p2_err2\",\"p2_err2\",\"p2_err2\",\"p2_err2\",\"p2_err2\",\"p2_err2\",\"p2_err2\",\"p2_err2\",\"p2_err2\",\"p2_err2\",\"p2_err2\",\"p2_err2\",\"p2_err2\",\"p2_err2\",\"p2_err2\",\"p2_err2\",\"p2_err2\",\"p2_err2\",\"p2_err2\",\"p2_err2\",\"p2_err2\",\"p2_err2\",\"p2_err2\",\"p2_err2\",\"p2_err2\",\"p2_err2\",\"p2_err2\",\"p2_err2\",\"p2_err2\",\"p2_err2\",\"p2_err2\",\"p2_err2\",\"p2_err2\",\"p2_err2\",\"p2_err2\",\"p2_err2\",\"p2_err2\",\"p2_err2\",\"p2_err2\",\"p2_err2\",\"p2_err2\",\"p2_err2\",\"p2_err2\",\"p2_err2\",\"p2_err2\",\"p2_err2\",\"p2_err2\",\"p2_err2\",\"p2_err2\",\"p2_err2\",\"p2_err2\",\"p2_err2\",\"p2_err2\",\"p2_err2\",\"p2_err2\",\"p2_err2\",\"p2_err2\",\"p2_err2\",\"p2_err2\",\"p2_err2\",\"p2_err2\",\"p2_err2\",\"p2_err2\",\"p2_err2\",\"p2_err2\",\"p2_err2\",\"p2_err2\",\"p2_err2\",\"p2_err2\",\"p2_err2\",\"p2_err2\",\"p2_err2\",\"p2_err2\",\"p2_err2\",\"p2_err2\",\"p2_err2\",\"p2_err2\",\"p2_err2\",\"p2_err2\",\"p2_err2\",\"p2_err2\",\"p2_err2\",\"p2_err2\",\"p2_err2\",\"p2_err2\",\"p2_err2\",\"p2_err2\",\"p2_err2\",\"p2_err2\",\"p2_err2\",\"p2_err2\",\"p2_err2\",\"p2_err2\",\"p2_err2\",\"p2_err2\",\"p2_err2\",\"p2_err2\",\"p2_err2\",\"p2_err2\",\"p2_err2\",\"p2_err2\",\"p2_err2\",\"p2_err2\",\"p2_err2\",\"p2_err2\",\"p2_err2\",\"p2_err2\",\"p2_err2\",\"p2_err2\",\"p2_err2\",\"p2_err2\",\"p2_err2\",\"p2_err2\",\"p2_err2\",\"p2_err2\",\"p2_err2\",\"p2_err2\",\"p2_err2\",\"p2_err2\",\"p2_err2\",\"p2_err2\",\"p2_err2\",\"p2_err2\",\"p2_err2\",\"p2_err2\",\"p2_err2\",\"p2_err2\",\"p2_err2\",\"p2_err2\",\"p2_err2\",\"p2_err2\",\"p2_err2\",\"p2_err2\",\"p2_err2\",\"p2_err2\",\"p2_err2\",\"p2_err2\",\"p2_err2\",\"p2_err2\",\"p2_err2\",\"p2_err2\",\"p2_err2\",\"p2_err2\",\"p2_err2\",\"p2_err2\",\"p2_err2\",\"p2_err2\",\"p2_err2\",\"p2_err2\",\"p2_err2\",\"p2_err2\",\"p2_err2\",\"p2_err2\",\"p2_err2\",\"p2_err2\",\"p2_err2\",\"p2_err2\",\"p2_err2\",\"p2_err2\",\"p2_err2\",\"p2_err2\",\"p2_err2\",\"p2_err2\",\"p2_err2\",\"p2_err2\",\"p2_err2\",\"p2_err2\",\"p2_err2\",\"p2_err2\",\"p2_err2\",\"p2_err2\",\"p2_err2\",\"p2_err2\",\"p2_err2\",\"p2_err2\",\"p2_err2\",\"p2_err2\",\"p2_err2\",\"p2_err2\",\"p2_err2\",\"p2_err2\",\"p2_err2\",\"p2_err2\",\"p2_err2\",\"p2_err2\",\"p2_err2\",\"p2_err2\"],\"x0\":\" \",\"xaxis\":\"x\",\"y\":[0.13261861203105513,0.06599356018191321,0.019634345245335055,0.050310023616907104,0.07548349654460916,0.15124411961365275,0.0002748588925194208,2.8036016103732986,0.11459709543455451,0.136939998923063,0.04588841316282737,0.07567708895563037,0.44045492510006995,1.1174393585263902,0.3014351168824725,0.2690743874246975,0.32025551901479477,0.9045627558613861,0.31200310016486144,1.6514787428836009,0.12909269136875112,4.066234006226646,0.13566808801663383,0.014200248066909336,1.7374716778200492,1.245088626269878,2.074280018741631,0.020273777036355634,0.06210023810235174,0.009711031854413021,0.4142927896778711,0.031964989147900816,0.1959817667122511,0.05866911351574117,0.015786310297213023,0.014395444911161539,0.012335447047371034,0.018488988919218137,0.027380872690311208,0.0056317914317882386,0.23037261283373853,0.01777686199481391,0.1418645001428177,0.10721344549289617,0.012321997538095184,0.0033979448275609074,0.007657586640516865,0.02492285155830965,0.4600674725068236,0.21397347291797686,0.05113539946895391,0.44605950940618505,0.21779435429259245,0.2138188446722067,0.12216549340689128,0.16293982178869784,0.13755945473042105,0.5055079328882485,0.09669451504990241,2.003705893632125,0.1445097374244601,0.9178083179818528,0.15067796708341383,1.0641477747356207,2.1641511682337895,1.3238359111330429,0.11242718633402103,0.17543839766951594,1.1185803403099215,4.252983452452148,3.560938155854452,0.00813915275124487,0.017474573297749874,0.14318794749995098,0.04307439456704229,0.21575328132115476,0.06479208473439886,0.023229366665816403,0.003331799247496889,0.012017049020064953,0.03936616987759325,0.07244476806829098,0.008257677381154372,0.01251016879992789,0.01633632254779494,0.13640893761520143,0.01125212295302274,0.05228465666738813,0.10772860709689949,0.07846017417286161,0.00985309442601891,0.007979007661618225,0.011717649811338366,0.05626774289954238,0.04625809652413215,0.436434337032213,0.2884440620622183,0.0033431712991258008,1.1355093658075708,0.43471155407503115,0.1704327162322573,1.1018861354282525,2.509684929153717,0.0557041527454061,0.2831927180293223,2.027378212637527,0.9477198787720115,0.5940825867620625,0.006524472876476207,0.02096621612262674,0.0547005837500669,0.21626414568394242,0.02568226268063326,0.15480705234221603,0.085711269833237,0.19401599288104493,0.13624753753264707,0.05373600640966982,0.00546815098033333,0.4412695611005541,0.3588016924495184,0.0667017026057962,0.09353895297183135,0.14731587757038078,0.0310407046610832,0.06667879372320384,0.5446750392619055,0.011658855343727768,0.08221202310206562,0.08199859457777181,0.14024701414089993,0.14032148766302405,0.08200387977231229,0.3565713010024175,2.74603104992331,0.14779482628161678,2.0007900123093005,2.836195917595657,0.10369909294778898,3.6738729274511606,0.4861395868941819,4.710037840331332,0.01224344545498649,0.2720905337788628,1.6977762651903745,0.03994987765814362,0.04746058614597592,0.012628923242141023,0.02042522937798313,0.013648011998062152,0.07964730078775073,0.003129660100014343,0.03127909610317625,0.12227901798610608,0.010541903394231089,0.005336851448427667,0.018245621466556016,0.015114725570558684,0.10719578371635169,0.291948438900024,0.3259326462197951,0.1369311904930159,0.01084100965860793,0.49148251118383746,0.7469750152550599,0.5911357029043134,0.6681808383221184,0.060265473000308475,0.0008187878702080367,0.1800931567518792,0.8142773260067115,0.06972724879916051,0.24255566710355386,0.004223265245214725,0.02791021246604045,0.0015106099986183918,0.47535102985273797,0.016094958094124614,0.005351061951445781,0.023696683002987252,0.024115438483388988,0.03145101072782703,0.01688946647188049,0.008945500282770406,0.01514986772304681,0.09238789172269053,2.5271865893268473,0.03685982731190981,0.03714425700790267,0.01998743925675345,0.13328063259584252,0.5240255055531873,0.47767388238264574,0.4129896854729346,0.10504355554174478,0.2509993403808907,0.8216397483720319,1.0573119423945578,0.29409409963975636,0.9341233524882293,0.2084596995919791,0.15830662221577407,0.27664518185517656,0.07251895265235553,0.35697815051032145,0.2779960301559477,0.17513999737577146,0.6767770890708992,0.16918214950964489,0.482451048773611,2.565655387263671,1.0109340922487415,0.498067702798656,1.0501402385882364,0.12163586617475952,0.6380521539809133,0.004147769315073265,0.008548668120813573,0.0015611959686112303,0.0038519358211818733,0.006696790700317153,0.00537649240743045,0.005055208865365489,0.01818772545771535,0.014151728124181346,5.6971888818975384e-05,0.004689689278107483,0.014141920621271193,0.31758888366215016,0.07759299408523218,0.15148977656640633,0.02547938644058757,0.06887494612865747,0.6658548443906828,4.649836426851641,0.045151057982095594,0.3067257876832658,0.3690386647661719,0.15506515408035126,0.22706706529707654,0.05960761539205877,0.41358201209978224,0.6560925493840356,0.3729467162776075,6.805942154373884,1.8424510784115855,0.17920192705852891,0.009436175865369729,0.08497050360903285,0.4825970677896875,0.053547979380574554,1.242633861374679,0.006339955171486103,0.018069087583307213,0.004642607082037994,0.02583333955583724,0.01961940095266457,0.012600134224476381,0.04401428069041169,0.00994576067029012,0.005564278491779975,0.009989727084082016,0.0061149871408601696,0.08395835565960157,0.06987634079057717,0.011246010803336287,0.010227051098184073,0.07327701624177892,0.15325530709916182,1.2645075925268725,0.04463543912281287,0.2547773301507772,0.016178231267596852,1.1196029050613236,0.16382534030981388,0.3414972772791418,1.7332141193871076,0.5357642707193534,0.11210098598295772,0.460924321747301,0.022519950491886265,0.9063583209338709,2.6630331360126545,4.509591878445378,0.00568420251526763,0.028316781632805845,1.1956843610927443,1.2789680399814165,2.295328675229419,0.3815649977461056,0.12015944753689793,0.31622879342638094,3.5395650223808293,2.2732096385601652,1.5450423552765704,3.0533754363798518,0.014379882331204456,0.007625051953258273,0.021689938268088096,0.03325034253687068,0.057075943547224534,0.02589170450865901,0.006041525984554455,0.2754345993684953,0.05549443389676482,0.08378199644702011,0.016249486135134182,0.16383054133401853,0.25977560527820115,0.06666263052922816,0.02381512883031681,0.10812742054337748,0.0014510178414656146,5.313554779283378e-05,0.1427204117673804,0.2004985267732122,7.910573865797225,4.153013186109413e-06,3.6643660417391154e-07,4.337424809452601e-05,4.275013506700452e-06,1.877854106864833e-06,0.00035419990790360064,1.0143042191261913e-07,0.00022289767435486658,8.342992955541034e-08,6.946276530600075e-07,2.348583626636265e-08,4.375485365284947e-06,1.926695014030595e-06,0.0019281572546921524,0.00021179102502533187,2.758416955416704e-07,0.001947341450048246,0.020343440177500425,2.076107542921702e-06,0.0016273849069794765,6.713004341132117e-05,0.00043618298775946745,4.1292081721875167e-08,0.5999660548041024,0.015420457263411198,1.89041937918518e-05,0.00458218601037252,0.0005354890172343601,4.409222593445975e-05,1.193277931076098e-07,1.2483366215787092e-06,0.0007156303619164908,0.4050004411426226,0.001074746015442478,8.705208802207103e-06,6.573327673489769e-08,1.2310112160399063e-07,0.15936989748803887,0.010675935804809085,0.00010601405158069333,0.015781536893454025,0.010304970848709731,0.004928939212569218,3.0093416611748895,1.5160109872142738e-07,1.2903685349434231e-06,13.670620471338648,0.2706231797649021,0.0001485433739958464,1.3613482872831679e-05,0.0005958824058127026,0.0001398761019581177,1.4273719649376268e-05,0.0007095993616834409,5.111774189057081e-07,5.6641873626043234e-05,3.4926058640346503e-06,0.00034283386405257376,1.1052840012541922e-05,2.7527827193032532e-05,0.0007098264860872146,0.0022871678892848143,6.0170729607798204e-05,0.0034425438030802,0.005567271808494564,0.0011060777387652554,10.812790695568241,2.0355646118540727e-06,0.0004258929596084865,0.00014475554971989864,0.0024535296956702327,6.199043954914896e-07,0.0004388048304773784,0.019667259244829215,0.08188543816187835,0.11016489385085336,0.6692546806989783,1.648054201828566e-07,9.928711256953533e-07,4.412412926767735e-08,5.065815672396791e-06,2.5466221367339507e-07,0.045653903570020714,0.0006860627062322025,0.11745422172960085,0.0189730696843167,1.2404223257451141e-05,1.1279928353092062e-07,1.2348595410339447e-07,9.535788578419248e-07,4.174162423860486e-09,0.0006119017417860357,2.147921146037395e-07,0.046884406680972004,0.14336557945928322,1.1688474943683959e-05,1.0016391623725045e-05,1.0661260056922693e-07,0.022983321817871532,1.505506313574559e-05,0.00016619742287744425,2.521619991528512,0.00041799106550963563,2.925685371842384e-05,2.6738968697482028e-05,0.0002157485605394107,9.136241918429146e-06,0.00037545274119730576,8.566355713432765e-05,8.595731236421153e-07,0.0014528817556573531,0.00047001402750328696,0.0012597869611973317,0.001537494865058723,5.362112948068446e-07,0.012418395429676071,0.039240380416797324,0.002595981208270919,0.002732303778105521,0.11312263888927813,0.3918702767165563,0.008139125248699535,3.3021981989910243e-06,8.477748922424191e-07,1.4987940264261334e-05,1.2460498950797046e-06,2.517830187122283e-05,3.449576064638716e-06,7.314339722331902e-07,5.666816877537211e-07,5.41353990713607e-06,1.1538431898235483e-06,1.815255418230356e-07,3.53354009886728e-05,2.0728278452487544e-05,1.4149133128950182e-07,8.915242134375154e-05,8.364245209288223e-06,9.393334337332373e-08,5.921983508011349e-05,9.489060304416674e-07,1.7134300644645784e-05,8.095539707841233e-06,6.610482266974746e-07,2.124700504132225e-06,2.3736168771883855e-08,0.0039328156589542385,2.7065688402552183e-06,0.004364211715323981,0.00010071190659590544,0.00027269285218431877,1.936571639757919e-05,0.0005952867329802493,0.00030136904527597346,0.0003854943754631215,0.000519183345656243,0.0008038776866987297,0.0008764343169930587,0.010506496166904453,0.020939949607008897,5.58607138866767e-06,4.863038004376275e-07,3.238894188930802e-06,4.789189282882378e-06,8.233154331516145e-05,3.658408442056901e-05,2.170149495174673e-05,6.525874372614498e-07,1.9072476205749847e-07,2.5758066546847895e-06,2.732267548091924e-06,1.2385048370137125e-07,1.1948034647572773e-05,3.7285012263935845e-05,4.809431673198804e-06,5.4652864240080094e-06,0.009654571040945262,5.017941234302231e-06,6.068097494864113e-05,0.0002290045942698137,6.674304745873389e-05,2.090601097699814e-06,0.0021888772765634675,9.936476341091975e-06,6.604854600206626e-06,0.016714532606505655,0.008004204248008065,5.7720567864048214e-05,1.0258163727063538e-06,1.5282497612368885e-06,8.823302909325762e-07,0.0003227743304929789,0.00016756222736817857,0.011455094645612326,1.2520825359337318e-06,1.261657666446277e-06,7.928573528782653e-07,5.63027370269974e-07,2.2393400039957284e-07,5.076891079694287e-07,1.9798759555332763e-07,1.0911756721976177e-07,2.058480343858993e-07,8.705872271244703e-07,3.9307069386041965e-07,1.6550371346953497e-07,7.174277363069219e-08,8.907385763600307e-07,4.141967972435057e-06,1.804678361238745e-06,0.09290560691073116,0.00027306973722033683,0.011048236073634171,1.3173089389606957e-05,4.3068404012330193e-07,1.0488799410204552e-05,2.188198753689682e-06,5.032560535575727e-07,3.4151968366261727e-07,1.5050023031121186e-06,8.139913231432699e-07,1.4664824806466354e-06,4.8750383031000215e-06,3.325413754030547e-06,2.7017472420884467e-06,1.727884062903462e-07,1.1957217661429327e-05,8.102729522959415e-07,0.22171037029467203,1.6523203928749775e-06,7.336533569991418e-07,2.7257728509638547e-06,5.068680433309887e-07,7.830461423105994e-05,1.8069306524736307e-05,1.6964300995264997e-07,3.7663235047840154e-06,1.4374212573463585e-06,5.620915598221164e-07,1.6801216182514113e-07,4.21925592022789e-07,9.303181817330096e-07,3.7777612982821052e-06,1.8753476365542995e-06,0.0002569608199814735,3.584443097932829e-06,6.237742373065095e-07,5.6172329227897104e-08,3.868630719664143e-08,8.061419897138972e-07,3.2574019048031685e-08,2.1328680712869064e-05,0.00011763657990748364,2.798934598976193e-05,0.0001574631352217869,0.08057629945748383,5.4282809165535066e-08,2.1496285179011356e-06,0.4186143313404409,6.676406497884333e-08,0.0028337898374648255,7.796297016320711e-08,0.050616358489635534,0.052012538464845263,7.83335366225855e-07,7.910197324885914e-06,1.6059692366710394e-06,1.5903411772020412e-05,6.917784489903781e-05,6.0642553597427285e-05,4.950397747007799e-07,2.0145667308995972e-06,9.636626109493566e-09,4.3038060497639644e-05,9.077594274921682e-07,0.00011139489562528418,6.401540703569715e-07,4.488944639667559e-06,0.0004861878479613955,0.000304275702208759,7.047939144275432e-07,0.0011397210921993107,0.01098610489487103,0.0005097648150437722,9.822991680794696e-08,1.507523773575008e-08,0.00046181591548134614,1.691521827513165e-05,0.0009487961657913238,1.6665639689543144e-05,1.3187877298707124e-05,0.05795234320515073,0.0010266314867512845,0.003452108197358595,8.131024330638467e-06,0.0028936934688431927,0.0269414377714258,3.8844625125928914e-07,2.783129373233072e-07,3.4275187922391943e-06,2.8489565559915285e-06,6.803620239143299e-09,7.453013883098055e-07,3.6224134884898834e-05,0.0052856095451958894,7.764380425814998e-07,4.7588303489291947e-08,1.3358909125697962e-06,0.0011707934396747958,7.670368918764468e-07,5.331067344682491e-07,1.2936171025924443e-06,4.090865960132978e-09,1.1556021899166832e-08,2.6172829848993113e-07,6.464905075776277e-07,5.831018952089648e-06,7.039353252315122e-07,1.1394814186993553e-07,1.3339759166689556e-06,3.8744397809269586e-07,3.320341523263593e-07,1.0613398606222424e-05,9.873386959205995e-08,1.9173650290758383e-05,4.146640720448435e-07,2.09017489368729e-07,4.344011588743748e-07,5.460269373580415e-07,5.060863586356647e-07,6.06115843718978e-05,9.267761360969096e-06,1.6733849726090673e-07,4.470991850023441e-05,0.0003242454421727264,1.7536118153344328e-06,6.311496626194932e-05,3.8648614331264275e-06,3.384550486719507e-05,1.7132564050008385e-06,0.0015657816072339288,0.00042457756692038334,2.939835073831814e-06,0.00013393399605452465,8.231583265115796e-06,1.9232050565316912e-06,2.38902094137875e-07,0.0,1.1320923094611923e-05,0.0019183597721823401,1.781788904245457e-05,1.3489490274400287e-06,3.6561072319374415e-07,1.633845189488292e-07,0.0005361431906102579,7.99303492588887e-05,5.574784735136068e-06,0.00018429629903122182,6.842433361008356e-05,6.857987919224033e-05,0.014492002863079475,2.8937545169964944e-06,1.3684447141447934e-06,0.022773578388820135,0.0016004137332742878,8.298548175567729e-06,1.3128788005822125e-06,1.1392542628468861e-05,7.821398423939427e-06,1.3374403562502226e-06,1.920993050682147e-05,1.7797303689025873e-07,4.677793286030434e-06,5.419214303685111e-07,2.4616972756814175e-05,8.698524828210749e-07,1.0118715506453902e-05,1.731917873565228e-05,6.790073818234885e-05,3.3498235587378307e-06,9.388663021064944e-05,0.0001609261431841477,4.4346388067706894e-05,0.022422328125215465,0.0,2.1423571625888278e-05,1.656032751946087e-05,0.00010171852225611901,3.350019049298261e-07,1.5724842330563265e-05,0.00019073711987368806,0.00039954675985986885,0.0007499705058935226,0.0020815446831157236,8.439887743528296e-07,2.796868918718875e-07,2.1039884707139718e-07,2.647350270792347e-06,9.73885403259018e-07,0.000172070276710885,8.647903548326369e-06,0.00041072668851348617,0.00018339170079256225,2.330551956199685e-06,4.644332944068204e-07,1.1504691235790116e-06,1.8063783810376153e-06,3.397681530772685e-07,9.663149326723052e-06,3.5056919840861123e-07,0.000274193099987203,0.0005924779724992837,1.5458337595053331e-06,1.2025623685206623e-06,7.023810549113994e-08,0.0004231510104139069,1.7753890720588528e-06,6.466146139485725e-06,0.05256218758046929,3.1494819370423446e-05,2.475854089949906e-06,2.1484137558459433e-06,1.6487393446765903e-05,1.7046672724127317e-06,1.5985426635786185e-05,2.4424563912605768e-06,2.9872136856962474e-07,2.212472117161627e-05,1.4395856417307534e-05,1.6096654356976644e-05,3.0215145201087476e-05,1.7188573240906494e-06,0.00014530782643886708,0.0003079193384619162,3.250541914795819e-05,1.841083969171569e-05,0.0009003572207659427,0.004238095864714275,7.82153317922894e-05,3.939738731715047e-07,2.2823864149650822e-07,8.068263902035048e-07,1.87923876425798e-07,5.591538870130983e-06,1.9472947460533728e-07,1.74009129276718e-07,1.283388105317843e-07,7.719915630219407e-07,2.2988868581215144e-07,6.692494397398322e-08,2.743063740057323e-06,4.5355318207645834e-06,9.582835738281059e-08,9.680143171643014e-06,2.7641046535973354e-06,6.731331121439948e-08,9.339491199423079e-06,3.763935884323718e-07,6.721490212423237e-06,2.277610229792661e-06,1.3667710777799913e-06,1.0917282945009296e-06,2.486486387689056e-08,4.43684545291586e-05,4.343749700846281e-07,3.797920643213859e-05,2.3542410276868964e-06,7.315939042539728e-06,6.973656085596088e-07,1.0979816397049625e-05,8.821036245867111e-06,5.247174341040557e-06,5.430628341856905e-06,1.0319505137931908e-05,1.4357786558432949e-05,0.00011821218241177732,0.00023374395382059587,8.767714239652133e-07,1.7456294668352088e-07,2.1068175781240163e-07,9.333026555368013e-07,1.3375451605517215e-05,4.293738753787701e-06,2.790750115132501e-06,1.5674467129574432e-07,7.131051067290096e-08,5.268411095752208e-07,8.62112913746748e-07,5.424844185212777e-08,1.4448721805904658e-06,1.2885743144415481e-06,8.457829322972635e-07,3.5540395739381455e-07,0.00015825256518883728,4.252777590023798e-07,1.5434545954730862e-06,4.5350154063435015e-06,1.8885613349183668e-06,6.498552960180823e-07,2.1211664744387045e-05,8.95455726638929e-07,1.1275087412574477e-06,0.0001458446159790088,0.00021236788616299241,4.0415987218233434e-06,1.377293705010993e-07,1.8443295483441024e-07,2.3183638228738867e-07,1.4332351571486852e-05,8.803939326857331e-06,0.00016676039141319218,2.8035674409352006e-07,3.1587441422167054e-07,5.746448407620318e-07,7.797723667478194e-07,2.0563085751588429e-07,6.87574834441951e-07,1.7406181591498217e-07,1.0288188180829691e-07,2.0194909865440298e-07,0.0,6.073746565427256e-07,1.8417230728499675e-07,1.7070824693855344e-07,5.147624131853115e-07,5.835289168052763e-07,1.1009092852852138e-06,0.0012782100666661137,1.5600961400924616e-05,0.0001709840500401718,2.843310687037132e-06,1.9526295199370496e-07,1.6733720289805945e-06,1.6625855473623943e-07,1.1120471419193155e-07,7.689994367475104e-08,1.640280653549129e-07,1.0578309541819045e-07,1.9773351266902502e-07,2.9213150960006607e-07,3.571902425337974e-07,3.6652172731902384e-07,1.2249817976425229e-08,5.77997560650416e-07,2.5847902660111163e-07,0.0013576848132531595,8.939898755633826e-07,2.138599981272477e-07,2.784263237365055e-07,1.2205945424368254e-07,7.567918257011218e-06,6.226648329916076e-06,6.18906093267941e-08,8.253374531113471e-07,4.1521812940661184e-07,1.9765781169058317e-07,1.3705003608309462e-07,1.0757911384630827e-07,3.975732863241462e-07,1.1149593973451404e-06,4.742758669137186e-07,3.327477314707985e-05,1.6282238249413318e-06,8.508861721183931e-07,1.044985044975982e-07,4.1018962161319515e-07,3.6219876395628253e-07,3.4282026110826165e-08,3.1333059164233094e-06,7.064710524754114e-06,1.1034003653948722e-06,3.967931013232091e-06,0.00034906424896376237,3.001397332176048e-07,7.290855118038125e-07,0.0013402735362675736,3.258453936385333e-07,1.8999923327340572e-05,1.7348895049040847e-07,0.0001638989904047563,0.00032857275244336067,1.7570370743491004e-07,3.87421265264532e-07,1.1258464568254204e-07,2.05059105335773e-06,3.4142899880251664e-06,6.237202406849635e-06,2.0984676010457e-07,5.313025327650271e-07,1.3509590666982003e-07,4.708720431484945e-06,2.1534045991455287e-07,5.836520588970787e-06,4.647175479454688e-06,1.2548630779166246e-06,1.2293213679496125e-05,1.3461186691178198e-05,1.2951611351599396e-07,4.106685600272338e-05,0.0002769686956972363,3.885608122598972e-05,3.5490270910345577e-07,2.5511721065199616e-07,2.31255385226719e-05,2.7780452485817843e-06,4.611582084680925e-05,1.839237866734196e-06,1.1233278044096488e-06,0.0007298219495516029,5.732359023863941e-05,0.0001136353091325758,1.9592297561983588e-06,0.0001088408454302044,0.0001341199674185474,1.8309963477736233e-07,5.637815512261151e-07,6.120617967111631e-07,6.985913154083669e-07,17.832973864227696,2.7442335324204335e-07,2.18783653439733e-05,6.621155780967578e-05,1.785291524902769e-07,1.881597239842725e-08,3.037835876803294e-07,0.00013671283791751937,2.227345194585399e-07,1.5569241459620961e-06,2.4575296796626406e-07,1.6779179871333645e-09,3.678406810216797e-09,2.7491538522496244e-07,2.0927698117802357e-07,4.476422712346956e-06,7.039353252315122e-07,1.1394814186993553e-07,1.3339759166689556e-06,3.8744397809269586e-07,3.320341523263593e-07,1.0613398606222426e-05,9.873386959205995e-08,1.917365029075838e-05,4.1466407204484355e-07,2.09017489368729e-07,4.344011588743748e-07,5.460269373580415e-07,5.060863586356647e-07,6.06115843718978e-05,9.267761360969096e-06,1.6733849726090673e-07,4.4709918500234416e-05,0.0003242454421727264,1.7536118153344328e-06,6.311496626194932e-05,3.864861433126428e-06,3.3845504867195066e-05,1.7132564050008383e-06,0.0015657816072339292,0.0004245775669203834,2.939835073831814e-06,0.00013393399605452467,8.231583265115798e-06,1.9232050565316912e-06,2.38902094137875e-07,0.0,1.1320923094611923e-05,0.0019183597721823401,1.781788904245457e-05,1.3489490274400287e-06,3.6561072319374415e-07,1.633845189488292e-07,0.0005361431906102579,7.993034925888868e-05,5.574784735136068e-06,0.00018429629903122182,6.842433361008356e-05,6.857987919224033e-05,0.014492002863079476,2.8937545169964944e-06,1.3684447141447932e-06,0.02277357838882013,0.0016004137332742876,8.298548175567729e-06,1.3128788005822125e-06,1.1392542628468861e-05,7.821398423939427e-06,1.3374403562502228e-06,1.920993050682147e-05,1.7797303689025873e-07,4.677793286030435e-06,5.419214303685111e-07,2.4616972756814175e-05,8.698524828210747e-07,1.0118715506453902e-05,1.731917873565228e-05,6.790073818234886e-05,3.3498235587378307e-06,9.388663021064947e-05,0.0001609261431841477,4.43463880677069e-05,0.022422328125215465,0.0,2.1423571625888278e-05,1.656032751946087e-05,0.00010171852225611901,3.350019049298261e-07,1.5724842330563265e-05,0.00019073711987368806,0.00039954675985986885,0.0007499705058935226,0.002081544683115724,8.439887743528296e-07,2.796868918718875e-07,2.1039884707139718e-07,2.647350270792347e-06,9.73885403259018e-07,0.00017207027671088497,8.647903548326369e-06,0.0004107266885134861,0.00018339170079256225,2.330551956199685e-06,4.644332944068205e-07,1.1504691235790118e-06,1.8063783810376148e-06,3.397681530772685e-07,9.663149326723052e-06,3.5056919840861123e-07,0.0002741930999872029,0.0005924779724992837,1.5458337595053331e-06,1.2025623685206623e-06,7.023810549113994e-08,0.000423151010413907,1.7753890720588528e-06,6.466146139485723e-06,0.05256218758046929,3.1494819370423446e-05,2.475854089949906e-06,2.148413755845943e-06,1.6487393446765903e-05,1.7046672724127317e-06,1.5985426635786185e-05,2.4424563912605768e-06,2.987213685696248e-07,2.212472117161627e-05,1.4395856417307534e-05,1.609665435697664e-05,3.0215145201087476e-05,1.7188573240906494e-06,0.00014530782643886706,0.0003079193384619162,3.2505419147958185e-05,1.841083969171569e-05,0.0009003572207659427,0.004238095864714275,7.82153317922894e-05,3.939738731715047e-07,2.2823864149650822e-07,8.068263902035048e-07,1.87923876425798e-07,5.591538870130983e-06,1.9472947460533728e-07,1.74009129276718e-07,1.283388105317843e-07,7.719915630219407e-07,2.298886858121515e-07,6.692494397398322e-08,2.743063740057323e-06,4.535531820764583e-06,9.582835738281059e-08,9.680143171643016e-06,2.7641046535973354e-06,6.731331121439948e-08,9.339491199423079e-06,3.763935884323718e-07,6.721490212423237e-06,2.277610229792661e-06,1.3667710777799911e-06,1.0917282945009298e-06,2.486486387689056e-08,4.43684545291586e-05,4.343749700846282e-07,3.797920643213859e-05,2.3542410276868964e-06,7.315939042539729e-06,6.973656085596088e-07,1.0979816397049625e-05,8.821036245867111e-06,5.247174341040557e-06,5.430628341856905e-06,1.031950513793191e-05,1.4357786558432947e-05,0.00011821218241177732,0.00023374395382059584,8.767714239652133e-07,1.7456294668352093e-07,2.1068175781240163e-07,9.333026555368013e-07,1.3375451605517215e-05,4.293738753787701e-06,2.7907501151325005e-06,1.5674467129574435e-07,7.131051067290096e-08,5.268411095752209e-07,8.621129137467478e-07,5.4248441852127786e-08,1.4448721805904658e-06,1.2885743144415481e-06,8.457829322972635e-07,3.5540395739381455e-07,0.00015825256518883725,4.252777590023799e-07,1.5434545954730862e-06,4.5350154063435015e-06,1.8885613349183668e-06,6.498552960180822e-07,2.1211664744387045e-05,8.954557266389288e-07,1.1275087412574477e-06,0.0001458446159790088,0.00021236788616299241,4.0415987218233434e-06,1.377293705010993e-07,1.8443295483441024e-07,2.3183638228738867e-07,1.433235157148685e-05,8.803939326857331e-06,0.00016676039141319218,2.8035674409352006e-07,3.1587441422167054e-07,5.746448407620319e-07,7.797723667478192e-07,2.0563085751588429e-07,6.87574834441951e-07,1.7406181591498217e-07,1.0288188180829691e-07,2.0194909865440295e-07,0.0,6.073746565427257e-07,1.8417230728499675e-07,1.7070824693855347e-07,5.147624131853115e-07,5.835289168052763e-07,1.1009092852852138e-06,0.0012782100666661137,1.5600961400924616e-05,0.00017098405004017185,2.843310687037132e-06,1.9526295199370493e-07,1.6733720289805945e-06,1.6625855473623943e-07,1.1120471419193154e-07,7.689994367475104e-08,1.6402806535491288e-07,1.0578309541819044e-07,1.9773351266902502e-07,2.9213150960006607e-07,3.571902425337974e-07,3.665217273190238e-07,1.2249817976425229e-08,5.77997560650416e-07,2.5847902660111163e-07,0.0013576848132531595,8.939898755633826e-07,2.138599981272477e-07,2.7842632373650557e-07,1.2205945424368254e-07,7.567918257011218e-06,6.2266483299160756e-06,6.189060932679409e-08,8.253374531113471e-07,4.1521812940661184e-07,1.9765781169058317e-07,1.3705003608309462e-07,1.0757911384630826e-07,3.975732863241462e-07,1.1149593973451404e-06,4.742758669137186e-07,3.3274773147079846e-05,1.6282238249413316e-06,8.508861721183931e-07,1.044985044975982e-07,4.1018962161319505e-07,3.6219876395628253e-07,3.4282026110826165e-08,3.13330591642331e-06,7.064710524754114e-06,1.1034003653948722e-06,3.967931013232091e-06,0.00034906424896376237,3.0013973321760485e-07,7.290855118038123e-07,0.0013402735362675739,3.2584539363853334e-07,1.8999923327340572e-05,1.7348895049040847e-07,0.0001638989904047563,0.00032857275244336067,1.7570370743491004e-07,3.87421265264532e-07,1.1258464568254204e-07,2.05059105335773e-06,3.4142899880251664e-06,6.237202406849635e-06,2.0984676010456994e-07,5.313025327650271e-07,1.3509590666982006e-07,4.7087204314849454e-06,2.1534045991455287e-07,5.836520588970787e-06,4.647175479454688e-06,1.2548630779166246e-06,1.2293213679496124e-05,1.3461186691178198e-05,1.2951611351599396e-07,4.106685600272338e-05,0.0002769686956972363,3.885608122598972e-05,3.5490270910345577e-07,2.5511721065199616e-07,2.31255385226719e-05,2.7780452485817847e-06,4.611582084680924e-05,1.839237866734196e-06,1.1233278044096488e-06,0.0007298219495516029,5.732359023863941e-05,0.00011363530913257583,1.9592297561983588e-06,0.0001088408454302044,0.0001341199674185474,1.8309963477736233e-07,5.637815512261151e-07,6.12061796711163e-07,6.98591315408367e-07,17.832973864227696,2.7442335324204335e-07,2.18783653439733e-05,6.621155780967578e-05,1.785291524902769e-07,1.881597239842725e-08,3.0378358768032937e-07,0.00013671283791751937,2.2273451945853995e-07,1.5569241459620961e-06,2.4575296796626406e-07,1.6779179871333645e-09,3.678406810216797e-09,2.7491538522496244e-07,2.0927698117802357e-07,4.476422712346956e-06,9.499458964125004e-18,3.1193012624260767e-18,3.140196827106223e-18,2.7390749155836596e-18,4.762951289598718e-18,2.433926673009737e-17,7.43081174921873e-18,1.2875739782765098e-16,3.052986152199605e-16,5.572066426963383e-18,1.425885461071143e-15,5.377539588942672e-18,1.1970188781962436e-17,1.4590062224257647e-16,3.1132276110575094e-17,1.311470926836119e-17,7.84641167222053e-17,3.946723714351398e-16,1.3364384514825668e-16,1.8770038158940933e-16,1.7152813980323544e-17,2.0421209177694268e-16,1.957194172022198e-14,3.118047790293678e-16,8.936555804108411e-16,3.7344796229100615e-17,2.9963600947983114e-16,9.662696617607737e-18,6.439344982477057e-18,3.955411582078013e-17,0.0,1.3676939282219373e-17,6.933905066062679e-16,2.2561279378606698e-17,1.6060901968449132e-17,1.824736318584712e-16,1.8136540298318066e-17,1.3762913815147754e-16,4.567079577926481e-17,2.2389481514795156e-17,1.6429664739105665e-16,3.4672094412693336e-17,7.285760163886288e-17,5.325182216075661e-15,4.657770340311285e-15,1.1190839917096435e-16,2.8947688711587677e-15,7.221966123136913e-16,3.571699951971366e-17,9.921767023302484e-18,1.6640073252625994e-17,3.3699140132730487e-17,9.813986626541164e-18,3.9778770005038364e-17,5.616096127696644e-18,2.9849682188228053e-17,6.7965090118092665e-18,1.3582139129177408e-16,5.319977739953562e-18,3.120938870616709e-16,3.230758432038027e-17,1.542603081081785e-16,1.4350524737906957e-17,1.958648756038859e-16,3.5595027035187476e-16,1.3640609552447382e-16,3.547864007560175e-15,0.0,8.2942277044303e-17,1.5038101603226789e-16,3.237306921954305e-16,1.4145241388436494e-17,4.303213505554488e-17,1.4119127333537493e-16,1.487658798739925e-16,3.8963275316256573e-16,4.940076613539428e-16,3.7092186017442403e-16,6.07225193545524e-18,9.254332032920368e-17,1.0735008483398716e-16,3.44938727260321e-16,4.948723395257404e-17,8.32201792114178e-18,1.0959581140016819e-16,1.353013310279349e-16,3.356625327088695e-17,2.5320427155704727e-16,1.3102470540063718e-15,2.8289426075243537e-16,5.572573306514746e-15,1.1648994611789083e-17,4.6364446087417306e-17,1.2237107948728193e-16,1.868384384279642e-16,1.6353553866910078e-17,1.1462208970497042e-17,3.681819607449448e-18,5.950620043370544e-16,1.6618868463008276e-17,1.9291706148997407e-17,8.360865148380928e-14,1.8416967484589393e-16,1.6101600805001345e-17,1.3443485529134374e-17,9.797337529849083e-17,2.6650214185868475e-17,5.2264363111526374e-17,5.3198352887696355e-18,8.207589890801755e-18,2.5728028476990135e-17,3.374954583196314e-17,1.570214742892311e-17,4.536893955265972e-17,4.784694272292752e-16,1.2979705221449073e-16,1.844064105487695e-16,3.107397861386799e-17,9.467369765371198e-18,5.469171600494851e-16,3.497799163181827e-15,5.73715301437818e-17,3.729991488092908e-18,5.389246811768728e-18,3.339174278706378e-18,2.296635289064617e-18,9.868962569445813e-17,8.472959189300492e-19,3.490674195466892e-18,2.4987225031048855e-18,8.71202353366587e-18,3.880909889410437e-18,2.4823015344187943e-18,1.6571853651458675e-17,8.489379081558721e-17,8.634000232738656e-18,8.293471341795932e-17,8.760158997980248e-17,6.516356864051318e-18,1.2009908953434999e-16,1.554173619543221e-17,2.554897348657708e-16,4.926580082251805e-17,2.794374798391467e-16,6.579369280840812e-17,4.221633559954046e-18,3.8209382534594154e-17,5.3854816455048795e-18,2.5225377768190896e-17,4.205799251771896e-18,1.501276582346613e-17,1.9194851478273726e-18,1.5469004491424812e-17,1.9758300242527092e-17,5.4533036184469395e-18,4.3359988753725105e-18,1.0114097893319345e-17,1.795640774390828e-17,1.0153131564136559e-16,1.9917959119423334e-16,1.1194909728043978e-17,5.837190606182153e-18,1.0562760346634896e-18,1.5258155202782153e-17,1.6967482804916182e-16,3.95038362185816e-17,2.852955447982285e-17,3.1336496123077625e-18,2.06979130594961e-18,8.830157004626851e-18,2.539522352152568e-17,2.5157684420359787e-18,1.3750407947854882e-17,3.4028857714847032e-18,1.1511024075675177e-17,1.7676441940341395e-18,1.9810851751509517e-16,2.7772811391547358e-18,2.9992813325390702e-18,6.861911251311023e-18,4.0886926642724306e-18,1.5813903179249174e-17,1.56896691114787e-17,6.18580042264446e-18,1.4804152607249695e-17,9.712891921299854e-17,4.31020356160345e-16,2.1674671736693824e-17,1.477771477955885e-18,1.738908904944952e-18,5.268013737510058e-18,4.887729871302605e-17,3.561827287973296e-17,1.8537875385114062e-16,5.194025734253285e-18,7.007522913831657e-18,5.521409620550466e-17,1.9633174997005739e-16,2.78364301256674e-17,1.6401455878497298e-16,2.024811278705238e-17,1.4864618362599108e-17,2.90351699970826e-17,0.0,1.1561296153160828e-16,3.3181682007043886e-17,8.192155131004582e-17,3.4215407654705816e-17,6.595489611644623e-18,6.202555009996956e-17,1.3427369563043842e-15,6.873878797666058e-17,2.0208490589004763e-16,5.0634093133552083e-17,8.6477892921999e-18,2.1758424601915197e-17,9.70815063651255e-19,1.9282552640850443e-18,1.337443657908314e-18,1.3758267859416155e-18,1.067508425975906e-18,2.056099595750211e-18,1.3424405063526608e-18,2.967498888878065e-18,3.844361759496555e-18,6.64372898406284e-20,2.137984625611533e-18,6.471284267109339e-18,6.344705115899501e-16,3.895088051662173e-17,5.572013493110036e-18,2.211814959192537e-18,2.518530757380476e-18,5.681598229714068e-17,2.0571787150220231e-16,2.078005273106937e-18,1.4939544044914735e-17,1.0961985149124633e-17,6.455036262766654e-18,1.683362818905685e-17,2.3580722849020367e-18,1.717977272385963e-17,2.8823796036428045e-17,1.0651883289229104e-17,3.437985314987559e-16,7.689934057317286e-17,1.0800528552951866e-16,1.6941320057569273e-17,8.273374542464074e-16,1.7506602966188096e-17,5.7756617685555306e-18,3.738441440345376e-17,3.240416535224227e-17,3.331747835468474e-18,7.634634797603012e-18,1.153904901660785e-16,1.6077062381962712e-16,1.913807900078724e-17,3.2743649215071447e-16,1.3713277476666512e-16,9.721795270460554e-18,3.2859741363433646e-17,4.0496466597457256e-17,1.584012042568894e-16,3.27773483860376e-18,1.4566134984793797e-18,6.113171755140065e-19,2.0480575915119064e-17,1.2959349876019371e-17,5.052515295962572e-17,7.393284668294735e-18,1.1914292939924013e-17,3.0902941712145693e-16,4.076786426869933e-17,4.480185445805053e-18,2.3555587378378236e-17,7.97448510899788e-15,2.9760196775086215e-17,2.3767911296119815e-17,4.572611042189413e-17,1.894443659794605e-18,1.1339429266019933e-16,5.339576248901003e-16,2.3015988676897226e-16,1.0418260955347377e-16,7.492248719951837e-16,8.912004463987305e-17,3.75242222855446e-17,1.724382238533707e-16,1.6024631147333936e-17,7.438801404816152e-18,7.015337761506385e-16,2.4673391913100897e-16,2.865166767167506e-16,4.1625382468608504e-17,3.1394853674391244e-16,5.094964474927157e-17,6.791337128271451e-18,9.421852482316662e-17,8.503627884648024e-18,1.3481876658024321e-17,17.832643229677483,7.84428690900823e-18,1.02513326169592e-15,6.331788759353559e-17,3.456927803816364e-18,7.152331082163463e-19,5.87042792570521e-18,1.2217575289017895e-15,5.367366794500589e-18,3.7768115005315014e-16,3.863146140987067e-18,6.627300794239133e-20,9.096412124623414e-20,3.0401219170654963e-17,6.3633444499827524e-18,4.996798185984258e-16],\"y0\":\" \",\"yaxis\":\"y\",\"type\":\"violin\"}],                        {\"template\":{\"data\":{\"histogram2dcontour\":[{\"type\":\"histogram2dcontour\",\"colorbar\":{\"outlinewidth\":0,\"ticks\":\"\"},\"colorscale\":[[0.0,\"#0d0887\"],[0.1111111111111111,\"#46039f\"],[0.2222222222222222,\"#7201a8\"],[0.3333333333333333,\"#9c179e\"],[0.4444444444444444,\"#bd3786\"],[0.5555555555555556,\"#d8576b\"],[0.6666666666666666,\"#ed7953\"],[0.7777777777777778,\"#fb9f3a\"],[0.8888888888888888,\"#fdca26\"],[1.0,\"#f0f921\"]]}],\"choropleth\":[{\"type\":\"choropleth\",\"colorbar\":{\"outlinewidth\":0,\"ticks\":\"\"}}],\"histogram2d\":[{\"type\":\"histogram2d\",\"colorbar\":{\"outlinewidth\":0,\"ticks\":\"\"},\"colorscale\":[[0.0,\"#0d0887\"],[0.1111111111111111,\"#46039f\"],[0.2222222222222222,\"#7201a8\"],[0.3333333333333333,\"#9c179e\"],[0.4444444444444444,\"#bd3786\"],[0.5555555555555556,\"#d8576b\"],[0.6666666666666666,\"#ed7953\"],[0.7777777777777778,\"#fb9f3a\"],[0.8888888888888888,\"#fdca26\"],[1.0,\"#f0f921\"]]}],\"heatmap\":[{\"type\":\"heatmap\",\"colorbar\":{\"outlinewidth\":0,\"ticks\":\"\"},\"colorscale\":[[0.0,\"#0d0887\"],[0.1111111111111111,\"#46039f\"],[0.2222222222222222,\"#7201a8\"],[0.3333333333333333,\"#9c179e\"],[0.4444444444444444,\"#bd3786\"],[0.5555555555555556,\"#d8576b\"],[0.6666666666666666,\"#ed7953\"],[0.7777777777777778,\"#fb9f3a\"],[0.8888888888888888,\"#fdca26\"],[1.0,\"#f0f921\"]]}],\"heatmapgl\":[{\"type\":\"heatmapgl\",\"colorbar\":{\"outlinewidth\":0,\"ticks\":\"\"},\"colorscale\":[[0.0,\"#0d0887\"],[0.1111111111111111,\"#46039f\"],[0.2222222222222222,\"#7201a8\"],[0.3333333333333333,\"#9c179e\"],[0.4444444444444444,\"#bd3786\"],[0.5555555555555556,\"#d8576b\"],[0.6666666666666666,\"#ed7953\"],[0.7777777777777778,\"#fb9f3a\"],[0.8888888888888888,\"#fdca26\"],[1.0,\"#f0f921\"]]}],\"contourcarpet\":[{\"type\":\"contourcarpet\",\"colorbar\":{\"outlinewidth\":0,\"ticks\":\"\"}}],\"contour\":[{\"type\":\"contour\",\"colorbar\":{\"outlinewidth\":0,\"ticks\":\"\"},\"colorscale\":[[0.0,\"#0d0887\"],[0.1111111111111111,\"#46039f\"],[0.2222222222222222,\"#7201a8\"],[0.3333333333333333,\"#9c179e\"],[0.4444444444444444,\"#bd3786\"],[0.5555555555555556,\"#d8576b\"],[0.6666666666666666,\"#ed7953\"],[0.7777777777777778,\"#fb9f3a\"],[0.8888888888888888,\"#fdca26\"],[1.0,\"#f0f921\"]]}],\"surface\":[{\"type\":\"surface\",\"colorbar\":{\"outlinewidth\":0,\"ticks\":\"\"},\"colorscale\":[[0.0,\"#0d0887\"],[0.1111111111111111,\"#46039f\"],[0.2222222222222222,\"#7201a8\"],[0.3333333333333333,\"#9c179e\"],[0.4444444444444444,\"#bd3786\"],[0.5555555555555556,\"#d8576b\"],[0.6666666666666666,\"#ed7953\"],[0.7777777777777778,\"#fb9f3a\"],[0.8888888888888888,\"#fdca26\"],[1.0,\"#f0f921\"]]}],\"mesh3d\":[{\"type\":\"mesh3d\",\"colorbar\":{\"outlinewidth\":0,\"ticks\":\"\"}}],\"scatter\":[{\"fillpattern\":{\"fillmode\":\"overlay\",\"size\":10,\"solidity\":0.2},\"type\":\"scatter\"}],\"parcoords\":[{\"type\":\"parcoords\",\"line\":{\"colorbar\":{\"outlinewidth\":0,\"ticks\":\"\"}}}],\"scatterpolargl\":[{\"type\":\"scatterpolargl\",\"marker\":{\"colorbar\":{\"outlinewidth\":0,\"ticks\":\"\"}}}],\"bar\":[{\"error_x\":{\"color\":\"#2a3f5f\"},\"error_y\":{\"color\":\"#2a3f5f\"},\"marker\":{\"line\":{\"color\":\"#E5ECF6\",\"width\":0.5},\"pattern\":{\"fillmode\":\"overlay\",\"size\":10,\"solidity\":0.2}},\"type\":\"bar\"}],\"scattergeo\":[{\"type\":\"scattergeo\",\"marker\":{\"colorbar\":{\"outlinewidth\":0,\"ticks\":\"\"}}}],\"scatterpolar\":[{\"type\":\"scatterpolar\",\"marker\":{\"colorbar\":{\"outlinewidth\":0,\"ticks\":\"\"}}}],\"histogram\":[{\"marker\":{\"pattern\":{\"fillmode\":\"overlay\",\"size\":10,\"solidity\":0.2}},\"type\":\"histogram\"}],\"scattergl\":[{\"type\":\"scattergl\",\"marker\":{\"colorbar\":{\"outlinewidth\":0,\"ticks\":\"\"}}}],\"scatter3d\":[{\"type\":\"scatter3d\",\"line\":{\"colorbar\":{\"outlinewidth\":0,\"ticks\":\"\"}},\"marker\":{\"colorbar\":{\"outlinewidth\":0,\"ticks\":\"\"}}}],\"scattermapbox\":[{\"type\":\"scattermapbox\",\"marker\":{\"colorbar\":{\"outlinewidth\":0,\"ticks\":\"\"}}}],\"scatterternary\":[{\"type\":\"scatterternary\",\"marker\":{\"colorbar\":{\"outlinewidth\":0,\"ticks\":\"\"}}}],\"scattercarpet\":[{\"type\":\"scattercarpet\",\"marker\":{\"colorbar\":{\"outlinewidth\":0,\"ticks\":\"\"}}}],\"carpet\":[{\"aaxis\":{\"endlinecolor\":\"#2a3f5f\",\"gridcolor\":\"white\",\"linecolor\":\"white\",\"minorgridcolor\":\"white\",\"startlinecolor\":\"#2a3f5f\"},\"baxis\":{\"endlinecolor\":\"#2a3f5f\",\"gridcolor\":\"white\",\"linecolor\":\"white\",\"minorgridcolor\":\"white\",\"startlinecolor\":\"#2a3f5f\"},\"type\":\"carpet\"}],\"table\":[{\"cells\":{\"fill\":{\"color\":\"#EBF0F8\"},\"line\":{\"color\":\"white\"}},\"header\":{\"fill\":{\"color\":\"#C8D4E3\"},\"line\":{\"color\":\"white\"}},\"type\":\"table\"}],\"barpolar\":[{\"marker\":{\"line\":{\"color\":\"#E5ECF6\",\"width\":0.5},\"pattern\":{\"fillmode\":\"overlay\",\"size\":10,\"solidity\":0.2}},\"type\":\"barpolar\"}],\"pie\":[{\"automargin\":true,\"type\":\"pie\"}]},\"layout\":{\"autotypenumbers\":\"strict\",\"colorway\":[\"#636efa\",\"#EF553B\",\"#00cc96\",\"#ab63fa\",\"#FFA15A\",\"#19d3f3\",\"#FF6692\",\"#B6E880\",\"#FF97FF\",\"#FECB52\"],\"font\":{\"color\":\"#2a3f5f\"},\"hovermode\":\"closest\",\"hoverlabel\":{\"align\":\"left\"},\"paper_bgcolor\":\"white\",\"plot_bgcolor\":\"#E5ECF6\",\"polar\":{\"bgcolor\":\"#E5ECF6\",\"angularaxis\":{\"gridcolor\":\"white\",\"linecolor\":\"white\",\"ticks\":\"\"},\"radialaxis\":{\"gridcolor\":\"white\",\"linecolor\":\"white\",\"ticks\":\"\"}},\"ternary\":{\"bgcolor\":\"#E5ECF6\",\"aaxis\":{\"gridcolor\":\"white\",\"linecolor\":\"white\",\"ticks\":\"\"},\"baxis\":{\"gridcolor\":\"white\",\"linecolor\":\"white\",\"ticks\":\"\"},\"caxis\":{\"gridcolor\":\"white\",\"linecolor\":\"white\",\"ticks\":\"\"}},\"coloraxis\":{\"colorbar\":{\"outlinewidth\":0,\"ticks\":\"\"}},\"colorscale\":{\"sequential\":[[0.0,\"#0d0887\"],[0.1111111111111111,\"#46039f\"],[0.2222222222222222,\"#7201a8\"],[0.3333333333333333,\"#9c179e\"],[0.4444444444444444,\"#bd3786\"],[0.5555555555555556,\"#d8576b\"],[0.6666666666666666,\"#ed7953\"],[0.7777777777777778,\"#fb9f3a\"],[0.8888888888888888,\"#fdca26\"],[1.0,\"#f0f921\"]],\"sequentialminus\":[[0.0,\"#0d0887\"],[0.1111111111111111,\"#46039f\"],[0.2222222222222222,\"#7201a8\"],[0.3333333333333333,\"#9c179e\"],[0.4444444444444444,\"#bd3786\"],[0.5555555555555556,\"#d8576b\"],[0.6666666666666666,\"#ed7953\"],[0.7777777777777778,\"#fb9f3a\"],[0.8888888888888888,\"#fdca26\"],[1.0,\"#f0f921\"]],\"diverging\":[[0,\"#8e0152\"],[0.1,\"#c51b7d\"],[0.2,\"#de77ae\"],[0.3,\"#f1b6da\"],[0.4,\"#fde0ef\"],[0.5,\"#f7f7f7\"],[0.6,\"#e6f5d0\"],[0.7,\"#b8e186\"],[0.8,\"#7fbc41\"],[0.9,\"#4d9221\"],[1,\"#276419\"]]},\"xaxis\":{\"gridcolor\":\"white\",\"linecolor\":\"white\",\"ticks\":\"\",\"title\":{\"standoff\":15},\"zerolinecolor\":\"white\",\"automargin\":true,\"zerolinewidth\":2},\"yaxis\":{\"gridcolor\":\"white\",\"linecolor\":\"white\",\"ticks\":\"\",\"title\":{\"standoff\":15},\"zerolinecolor\":\"white\",\"automargin\":true,\"zerolinewidth\":2},\"scene\":{\"xaxis\":{\"backgroundcolor\":\"#E5ECF6\",\"gridcolor\":\"white\",\"linecolor\":\"white\",\"showbackground\":true,\"ticks\":\"\",\"zerolinecolor\":\"white\",\"gridwidth\":2},\"yaxis\":{\"backgroundcolor\":\"#E5ECF6\",\"gridcolor\":\"white\",\"linecolor\":\"white\",\"showbackground\":true,\"ticks\":\"\",\"zerolinecolor\":\"white\",\"gridwidth\":2},\"zaxis\":{\"backgroundcolor\":\"#E5ECF6\",\"gridcolor\":\"white\",\"linecolor\":\"white\",\"showbackground\":true,\"ticks\":\"\",\"zerolinecolor\":\"white\",\"gridwidth\":2}},\"shapedefaults\":{\"line\":{\"color\":\"#2a3f5f\"}},\"annotationdefaults\":{\"arrowcolor\":\"#2a3f5f\",\"arrowhead\":0,\"arrowwidth\":1},\"geo\":{\"bgcolor\":\"white\",\"landcolor\":\"#E5ECF6\",\"subunitcolor\":\"white\",\"showland\":true,\"showlakes\":true,\"lakecolor\":\"white\"},\"title\":{\"x\":0.05},\"mapbox\":{\"style\":\"light\"}}},\"xaxis\":{\"anchor\":\"y\",\"domain\":[0.0,1.0],\"title\":{\"text\":\"Error type\"}},\"yaxis\":{\"anchor\":\"x\",\"domain\":[0.0,1.0],\"title\":{\"text\":\"log(value)\"},\"type\":\"log\",\"range\":[-22,3]},\"legend\":{\"tracegroupgap\":0},\"margin\":{\"t\":60},\"violinmode\":\"group\",\"title\":{\"text\":\"Errors normalize by \\u03c3\"}},                        {\"responsive\": true}                    ).then(function(){\n                            \nvar gd = document.getElementById('7e26e42e-7e44-4c53-91b8-4b354415e6dd');\nvar x = new MutationObserver(function (mutations, observer) {{\n        var display = window.getComputedStyle(gd).display;\n        if (!display || display === 'none') {{\n            console.log([gd, 'removed!']);\n            Plotly.purge(gd);\n            observer.disconnect();\n        }}\n}});\n\n// Listen for the removal of the full notebook cells\nvar notebookContainer = gd.closest('#notebook-container');\nif (notebookContainer) {{\n    x.observe(notebookContainer, {childList: true});\n}}\n\n// Listen for the clearing of the current output cell\nvar outputEl = gd.closest('.output');\nif (outputEl) {{\n    x.observe(outputEl, {childList: true});\n}}\n\n                        })                };                });            </script>        </div>"
     },
     "metadata": {},
     "output_type": "display_data"
    }
   ],
   "source": [
    "# violin plots of the errors\n",
    "kinetics_df_positive_errors = kinetics_df\n",
    "for errors in [\"p1_err1\", \"p1_err2\", \"p2_err1\", \"p2_err2\"]:\n",
    "    kinetics_df_positive_errors[errors] = kinetics_df_positive_errors[errors].apply(lambda x: np.absolute(x))\n",
    "fig = px.violin(kinetics_df_positive_errors, y=[\"squared_error\", \"p1_err1\", \"p1_err2\", \"p2_err1\", \"p2_err2\"], box=True, points=\"all\", log_y=True)\n",
    "fig.update_layout(title=\"Errors normalize by \\u03C3\", xaxis_title=\"Error type\", yaxis_title=\"value\", yaxis=dict(title=\"log(value)\", range=(-22, 3)))\n",
    "fig.show()\n"
   ],
   "metadata": {
    "collapsed": false,
    "pycharm": {
     "name": "#%%\n"
    }
   }
  },
  {
   "cell_type": "code",
   "execution_count": 80,
   "outputs": [
    {
     "name": "stdout",
     "output_type": "stream",
     "text": [
      "[0.02158273314332938, 14.41617391397088]\n"
     ]
    },
    {
     "name": "stderr",
     "output_type": "stream",
     "text": [
      "C:\\Users\\fo72qev\\AppData\\Local\\Temp\\ipykernel_3744\\52790876.py:5: FutureWarning:\n",
      "\n",
      "Series.__getitem__ treating keys as positions is deprecated. In a future version, integer keys will always be treated as labels (consistent with DataFrame behavior). To access a value by position, use `ser.iloc[pos]`\n",
      "\n"
     ]
    },
    {
     "data": {
      "application/vnd.plotly.v1+json": {
       "data": [
        {
         "hovertemplate": "<extra></extra>",
         "legendgroup": "",
         "line": {
          "color": "#636efa",
          "dash": "solid"
         },
         "marker": {
          "symbol": "circle"
         },
         "mode": "lines",
         "name": "",
         "orientation": "v",
         "showlegend": false,
         "xaxis": "x",
         "yaxis": "y",
         "type": "scatter"
        },
        {
         "marker": {
          "color": "#EF553B"
         },
         "mode": "lines+markers",
         "name": "301_4_A_DMF",
         "x": [
          0.0,
          1.2513888888888889,
          2.2416666666666667,
          4.273611111111111,
          8.338888888888889,
          15.381944444444445
         ],
         "y": [
          0,
          0.025179856115107868,
          0.014388489208632893,
          0.014388489208632893,
          0.021582733812949506,
          0.03237410071942437
         ],
         "type": "scatter"
        },
        {
         "line": {
          "dash": "dot"
         },
         "marker": {
          "color": "#EF553B"
         },
         "name": "neg_growth fit",
         "opacity": 1,
         "x": [
          -1.0,
          -0.8232323232323232,
          -0.6464646464646464,
          -0.4696969696969697,
          -0.29292929292929293,
          -0.11616161616161613,
          0.06060606060606055,
          0.23737373737373746,
          0.41414141414141414,
          0.5909090909090908,
          0.7676767676767677,
          0.9444444444444444,
          1.121212121212121,
          1.297979797979798,
          1.474747474747475,
          1.6515151515151514,
          1.8282828282828283,
          2.005050505050505,
          2.1818181818181817,
          2.3585858585858586,
          2.5353535353535355,
          2.712121212121212,
          2.888888888888889,
          3.0656565656565657,
          3.242424242424242,
          3.4191919191919196,
          3.595959595959596,
          3.7727272727272725,
          3.94949494949495,
          4.126262626262626,
          4.303030303030303,
          4.47979797979798,
          4.656565656565657,
          4.833333333333333,
          5.01010101010101,
          5.186868686868687,
          5.363636363636363,
          5.540404040404041,
          5.717171717171717,
          5.893939393939394,
          6.070707070707071,
          6.247474747474747,
          6.424242424242424,
          6.601010101010101,
          6.777777777777778,
          6.954545454545454,
          7.1313131313131315,
          7.308080808080808,
          7.484848484848484,
          7.661616161616161,
          7.838383838383839,
          8.015151515151516,
          8.191919191919192,
          8.368686868686869,
          8.545454545454545,
          8.722222222222221,
          8.8989898989899,
          9.075757575757576,
          9.252525252525253,
          9.429292929292929,
          9.606060606060606,
          9.782828282828282,
          9.95959595959596,
          10.136363636363637,
          10.313131313131313,
          10.48989898989899,
          10.666666666666666,
          10.843434343434344,
          11.02020202020202,
          11.196969696969697,
          11.373737373737374,
          11.55050505050505,
          11.727272727272727,
          11.904040404040405,
          12.080808080808081,
          12.257575757575758,
          12.434343434343434,
          12.61111111111111,
          12.787878787878787,
          12.964646464646465,
          13.141414141414142,
          13.318181818181818,
          13.494949494949495,
          13.671717171717171,
          13.848484848484848,
          14.025252525252526,
          14.202020202020202,
          14.378787878787879,
          14.555555555555555,
          14.732323232323232,
          14.909090909090908,
          15.085858585858585,
          15.262626262626263,
          15.439393939393938,
          15.616161616161616,
          15.792929292929294,
          15.969696969696969,
          16.146464646464647,
          16.32323232323232,
          16.5
         ],
         "y": [
          -39352.378235908465,
          -3077.865621198333,
          -240.7106136204185,
          -18.806914388903987,
          -1.4510591039056426,
          -0.09359767483982041,
          0.012574075335705459,
          0.020878134879475898,
          0.021527624077802968,
          0.02157842287284051,
          0.021582396022176813,
          0.021582706775918843,
          0.02158273108104307,
          0.02158273298203084,
          0.021582733130713662,
          0.021582733142342662,
          0.021582733143252205,
          0.021582733143323343,
          0.021582733143328908,
          0.021582733143329345,
          0.021582733143329376,
          0.02158273314332938,
          0.02158273314332938,
          0.02158273314332938,
          0.02158273314332938,
          0.02158273314332938,
          0.02158273314332938,
          0.02158273314332938,
          0.02158273314332938,
          0.02158273314332938,
          0.02158273314332938,
          0.02158273314332938,
          0.02158273314332938,
          0.02158273314332938,
          0.02158273314332938,
          0.02158273314332938,
          0.02158273314332938,
          0.02158273314332938,
          0.02158273314332938,
          0.02158273314332938,
          0.02158273314332938,
          0.02158273314332938,
          0.02158273314332938,
          0.02158273314332938,
          0.02158273314332938,
          0.02158273314332938,
          0.02158273314332938,
          0.02158273314332938,
          0.02158273314332938,
          0.02158273314332938,
          0.02158273314332938,
          0.02158273314332938,
          0.02158273314332938,
          0.02158273314332938,
          0.02158273314332938,
          0.02158273314332938,
          0.02158273314332938,
          0.02158273314332938,
          0.02158273314332938,
          0.02158273314332938,
          0.02158273314332938,
          0.02158273314332938,
          0.02158273314332938,
          0.02158273314332938,
          0.02158273314332938,
          0.02158273314332938,
          0.02158273314332938,
          0.02158273314332938,
          0.02158273314332938,
          0.02158273314332938,
          0.02158273314332938,
          0.02158273314332938,
          0.02158273314332938,
          0.02158273314332938,
          0.02158273314332938,
          0.02158273314332938,
          0.02158273314332938,
          0.02158273314332938,
          0.02158273314332938,
          0.02158273314332938,
          0.02158273314332938,
          0.02158273314332938,
          0.02158273314332938,
          0.02158273314332938,
          0.02158273314332938,
          0.02158273314332938,
          0.02158273314332938,
          0.02158273314332938,
          0.02158273314332938,
          0.02158273314332938,
          0.02158273314332938,
          0.02158273314332938,
          0.02158273314332938,
          0.02158273314332938,
          0.02158273314332938,
          0.02158273314332938,
          0.02158273314332938,
          0.02158273314332938,
          0.02158273314332938,
          0.02158273314332938
         ],
         "type": "scatter"
        },
        {
         "line": {
          "dash": "dash"
         },
         "marker": {
          "color": "#EF553B"
         },
         "name": "neg_growth_derivative",
         "opacity": 0.3,
         "x": [
          -1.0,
          -0.8232323232323232,
          -0.6464646464646464,
          -0.4696969696969697,
          -0.29292929292929293,
          -0.11616161616161613,
          0.06060606060606055,
          0.23737373737373746,
          0.41414141414141414,
          0.5909090909090908,
          0.7676767676767677,
          0.9444444444444444,
          1.121212121212121,
          1.297979797979798,
          1.474747474747475,
          1.6515151515151514,
          1.8282828282828283,
          2.005050505050505,
          2.1818181818181817,
          2.3585858585858586,
          2.5353535353535355,
          2.712121212121212,
          2.888888888888889,
          3.0656565656565657,
          3.242424242424242,
          3.4191919191919196,
          3.595959595959596,
          3.7727272727272725,
          3.94949494949495,
          4.126262626262626,
          4.303030303030303,
          4.47979797979798,
          4.656565656565657,
          4.833333333333333,
          5.01010101010101,
          5.186868686868687,
          5.363636363636363,
          5.540404040404041,
          5.717171717171717,
          5.893939393939394,
          6.070707070707071,
          6.247474747474747,
          6.424242424242424,
          6.601010101010101,
          6.777777777777778,
          6.954545454545454,
          7.1313131313131315,
          7.308080808080808,
          7.484848484848484,
          7.661616161616161,
          7.838383838383839,
          8.015151515151516,
          8.191919191919192,
          8.368686868686869,
          8.545454545454545,
          8.722222222222221,
          8.8989898989899,
          9.075757575757576,
          9.252525252525253,
          9.429292929292929,
          9.606060606060606,
          9.782828282828282,
          9.95959595959596,
          10.136363636363637,
          10.313131313131313,
          10.48989898989899,
          10.666666666666666,
          10.843434343434344,
          11.02020202020202,
          11.196969696969697,
          11.373737373737374,
          11.55050505050505,
          11.727272727272727,
          11.904040404040405,
          12.080808080808081,
          12.257575757575758,
          12.434343434343434,
          12.61111111111111,
          12.787878787878787,
          12.964646464646465,
          13.141414141414142,
          13.318181818181818,
          13.494949494949495,
          13.671717171717171,
          13.848484848484848,
          14.025252525252526,
          14.202020202020202,
          14.378787878787879,
          14.555555555555555,
          14.732323232323232,
          14.909090909090908,
          15.085858585858585,
          15.262626262626263,
          15.439393939393938,
          15.616161616161616,
          15.792929292929294,
          15.969696969696969,
          16.146464646464647,
          16.32323232323232,
          16.5
         ],
         "y": [
          567311.0397176535,
          44371.357219461715,
          3470.437209325134,
          271.4348890501343,
          21.229860835887543,
          1.6604607929672073,
          0.12987037768615806,
          0.010157611111193753,
          7.944618728651311E-4,
          6.213760898375193E-5,
          4.8599971654940614E-6,
          3.801171759728729E-7,
          2.973027813585225E-8,
          2.3253078100796216E-9,
          1.8187036081229272E-10,
          1.4224709519580249E-11,
          1.1125636965402615E-12,
          8.701745207207977E-14,
          6.805935685896892E-15,
          5.323157534214586E-16,
          4.163425492365809E-17,
          3.256358978494744E-18,
          2.546910906960371E-19,
          1.992027049484625E-20,
          1.5580332060434422E-21,
          1.2185916209129723E-22,
          9.531026250270641E-24,
          7.454545052204562E-25,
          5.830457337557829E-26,
          4.560202202417356E-27,
          3.5666917572614347E-28,
          2.789632899298401E-29,
          2.181868308918094E-30,
          1.7065146165498908E-31,
          1.3347240640487528E-32,
          1.0439338227014605E-33,
          8.164967243298896E-35,
          6.386103087610085E-36,
          4.994791948375995E-37,
          3.90659941834702E-38,
          3.055486429297858E-39,
          2.389801543454332E-40,
          1.869146386099026E-41,
          1.4619239920721948E-42,
          1.143421282833154E-43,
          8.943093054944894E-45,
          6.994702179343012E-46,
          5.470798333095063E-47,
          4.2789004640948626E-48,
          3.346675945057692E-49,
          2.6175509281440413E-50,
          2.0472770515909083E-51,
          1.6012461423024416E-52,
          1.2523899519344377E-53,
          9.795374678942333E-55,
          7.661301094971381E-56,
          5.992168384736719E-57,
          4.686682001651887E-58,
          3.665615979777486E-59,
          2.867004952856564E-60,
          2.242383666224432E-61,
          1.7538457690978707E-62,
          1.3717433943681176E-63,
          1.0728879204472784E-64,
          8.391427249204232E-66,
          6.563225285389868E-67,
          5.133325341152883E-68,
          4.014951172981953E-69,
          3.1402320815710766E-70,
          2.456084047170121E-71,
          1.920988223184355E-72,
          1.5024712846715476E-73,
          1.175134721815452E-74,
          9.191134822374756E-76,
          7.18870421874394E-77,
          5.622534033423447E-78,
          4.3975781997787443E-79,
          3.4394979040071324E-80,
          2.6901501904536914E-81,
          2.1040594438992342E-82,
          1.6456576139025653E-83,
          1.2871256988713006E-84,
          1.0067054961488331E-85,
          7.873791634065045E-87,
          6.158364579694838E-88,
          4.816669789985287E-89,
          3.76728392181471E-90,
          2.9465229642837043E-91,
          2.3045774513510346E-92,
          1.8024896780557065E-93,
          1.4097894768486877E-94,
          1.1026450765461036E-95,
          8.624168252050216E-97,
          6.745260067967792E-98,
          5.275701036294214E-99,
          4.126308125098304E-100,
          3.227328202663476E-101,
          2.524204933788855E-102,
          1.9742679230783294E-103,
          1.544143179470482E-104
         ],
         "type": "scatter"
        }
       ],
       "layout": {
        "template": {
         "data": {
          "histogram2dcontour": [
           {
            "type": "histogram2dcontour",
            "colorbar": {
             "outlinewidth": 0,
             "ticks": ""
            },
            "colorscale": [
             [
              0.0,
              "#0d0887"
             ],
             [
              0.1111111111111111,
              "#46039f"
             ],
             [
              0.2222222222222222,
              "#7201a8"
             ],
             [
              0.3333333333333333,
              "#9c179e"
             ],
             [
              0.4444444444444444,
              "#bd3786"
             ],
             [
              0.5555555555555556,
              "#d8576b"
             ],
             [
              0.6666666666666666,
              "#ed7953"
             ],
             [
              0.7777777777777778,
              "#fb9f3a"
             ],
             [
              0.8888888888888888,
              "#fdca26"
             ],
             [
              1.0,
              "#f0f921"
             ]
            ]
           }
          ],
          "choropleth": [
           {
            "type": "choropleth",
            "colorbar": {
             "outlinewidth": 0,
             "ticks": ""
            }
           }
          ],
          "histogram2d": [
           {
            "type": "histogram2d",
            "colorbar": {
             "outlinewidth": 0,
             "ticks": ""
            },
            "colorscale": [
             [
              0.0,
              "#0d0887"
             ],
             [
              0.1111111111111111,
              "#46039f"
             ],
             [
              0.2222222222222222,
              "#7201a8"
             ],
             [
              0.3333333333333333,
              "#9c179e"
             ],
             [
              0.4444444444444444,
              "#bd3786"
             ],
             [
              0.5555555555555556,
              "#d8576b"
             ],
             [
              0.6666666666666666,
              "#ed7953"
             ],
             [
              0.7777777777777778,
              "#fb9f3a"
             ],
             [
              0.8888888888888888,
              "#fdca26"
             ],
             [
              1.0,
              "#f0f921"
             ]
            ]
           }
          ],
          "heatmap": [
           {
            "type": "heatmap",
            "colorbar": {
             "outlinewidth": 0,
             "ticks": ""
            },
            "colorscale": [
             [
              0.0,
              "#0d0887"
             ],
             [
              0.1111111111111111,
              "#46039f"
             ],
             [
              0.2222222222222222,
              "#7201a8"
             ],
             [
              0.3333333333333333,
              "#9c179e"
             ],
             [
              0.4444444444444444,
              "#bd3786"
             ],
             [
              0.5555555555555556,
              "#d8576b"
             ],
             [
              0.6666666666666666,
              "#ed7953"
             ],
             [
              0.7777777777777778,
              "#fb9f3a"
             ],
             [
              0.8888888888888888,
              "#fdca26"
             ],
             [
              1.0,
              "#f0f921"
             ]
            ]
           }
          ],
          "heatmapgl": [
           {
            "type": "heatmapgl",
            "colorbar": {
             "outlinewidth": 0,
             "ticks": ""
            },
            "colorscale": [
             [
              0.0,
              "#0d0887"
             ],
             [
              0.1111111111111111,
              "#46039f"
             ],
             [
              0.2222222222222222,
              "#7201a8"
             ],
             [
              0.3333333333333333,
              "#9c179e"
             ],
             [
              0.4444444444444444,
              "#bd3786"
             ],
             [
              0.5555555555555556,
              "#d8576b"
             ],
             [
              0.6666666666666666,
              "#ed7953"
             ],
             [
              0.7777777777777778,
              "#fb9f3a"
             ],
             [
              0.8888888888888888,
              "#fdca26"
             ],
             [
              1.0,
              "#f0f921"
             ]
            ]
           }
          ],
          "contourcarpet": [
           {
            "type": "contourcarpet",
            "colorbar": {
             "outlinewidth": 0,
             "ticks": ""
            }
           }
          ],
          "contour": [
           {
            "type": "contour",
            "colorbar": {
             "outlinewidth": 0,
             "ticks": ""
            },
            "colorscale": [
             [
              0.0,
              "#0d0887"
             ],
             [
              0.1111111111111111,
              "#46039f"
             ],
             [
              0.2222222222222222,
              "#7201a8"
             ],
             [
              0.3333333333333333,
              "#9c179e"
             ],
             [
              0.4444444444444444,
              "#bd3786"
             ],
             [
              0.5555555555555556,
              "#d8576b"
             ],
             [
              0.6666666666666666,
              "#ed7953"
             ],
             [
              0.7777777777777778,
              "#fb9f3a"
             ],
             [
              0.8888888888888888,
              "#fdca26"
             ],
             [
              1.0,
              "#f0f921"
             ]
            ]
           }
          ],
          "surface": [
           {
            "type": "surface",
            "colorbar": {
             "outlinewidth": 0,
             "ticks": ""
            },
            "colorscale": [
             [
              0.0,
              "#0d0887"
             ],
             [
              0.1111111111111111,
              "#46039f"
             ],
             [
              0.2222222222222222,
              "#7201a8"
             ],
             [
              0.3333333333333333,
              "#9c179e"
             ],
             [
              0.4444444444444444,
              "#bd3786"
             ],
             [
              0.5555555555555556,
              "#d8576b"
             ],
             [
              0.6666666666666666,
              "#ed7953"
             ],
             [
              0.7777777777777778,
              "#fb9f3a"
             ],
             [
              0.8888888888888888,
              "#fdca26"
             ],
             [
              1.0,
              "#f0f921"
             ]
            ]
           }
          ],
          "mesh3d": [
           {
            "type": "mesh3d",
            "colorbar": {
             "outlinewidth": 0,
             "ticks": ""
            }
           }
          ],
          "scatter": [
           {
            "fillpattern": {
             "fillmode": "overlay",
             "size": 10,
             "solidity": 0.2
            },
            "type": "scatter"
           }
          ],
          "parcoords": [
           {
            "type": "parcoords",
            "line": {
             "colorbar": {
              "outlinewidth": 0,
              "ticks": ""
             }
            }
           }
          ],
          "scatterpolargl": [
           {
            "type": "scatterpolargl",
            "marker": {
             "colorbar": {
              "outlinewidth": 0,
              "ticks": ""
             }
            }
           }
          ],
          "bar": [
           {
            "error_x": {
             "color": "#2a3f5f"
            },
            "error_y": {
             "color": "#2a3f5f"
            },
            "marker": {
             "line": {
              "color": "#E5ECF6",
              "width": 0.5
             },
             "pattern": {
              "fillmode": "overlay",
              "size": 10,
              "solidity": 0.2
             }
            },
            "type": "bar"
           }
          ],
          "scattergeo": [
           {
            "type": "scattergeo",
            "marker": {
             "colorbar": {
              "outlinewidth": 0,
              "ticks": ""
             }
            }
           }
          ],
          "scatterpolar": [
           {
            "type": "scatterpolar",
            "marker": {
             "colorbar": {
              "outlinewidth": 0,
              "ticks": ""
             }
            }
           }
          ],
          "histogram": [
           {
            "marker": {
             "pattern": {
              "fillmode": "overlay",
              "size": 10,
              "solidity": 0.2
             }
            },
            "type": "histogram"
           }
          ],
          "scattergl": [
           {
            "type": "scattergl",
            "marker": {
             "colorbar": {
              "outlinewidth": 0,
              "ticks": ""
             }
            }
           }
          ],
          "scatter3d": [
           {
            "type": "scatter3d",
            "line": {
             "colorbar": {
              "outlinewidth": 0,
              "ticks": ""
             }
            },
            "marker": {
             "colorbar": {
              "outlinewidth": 0,
              "ticks": ""
             }
            }
           }
          ],
          "scattermapbox": [
           {
            "type": "scattermapbox",
            "marker": {
             "colorbar": {
              "outlinewidth": 0,
              "ticks": ""
             }
            }
           }
          ],
          "scatterternary": [
           {
            "type": "scatterternary",
            "marker": {
             "colorbar": {
              "outlinewidth": 0,
              "ticks": ""
             }
            }
           }
          ],
          "scattercarpet": [
           {
            "type": "scattercarpet",
            "marker": {
             "colorbar": {
              "outlinewidth": 0,
              "ticks": ""
             }
            }
           }
          ],
          "carpet": [
           {
            "aaxis": {
             "endlinecolor": "#2a3f5f",
             "gridcolor": "white",
             "linecolor": "white",
             "minorgridcolor": "white",
             "startlinecolor": "#2a3f5f"
            },
            "baxis": {
             "endlinecolor": "#2a3f5f",
             "gridcolor": "white",
             "linecolor": "white",
             "minorgridcolor": "white",
             "startlinecolor": "#2a3f5f"
            },
            "type": "carpet"
           }
          ],
          "table": [
           {
            "cells": {
             "fill": {
              "color": "#EBF0F8"
             },
             "line": {
              "color": "white"
             }
            },
            "header": {
             "fill": {
              "color": "#C8D4E3"
             },
             "line": {
              "color": "white"
             }
            },
            "type": "table"
           }
          ],
          "barpolar": [
           {
            "marker": {
             "line": {
              "color": "#E5ECF6",
              "width": 0.5
             },
             "pattern": {
              "fillmode": "overlay",
              "size": 10,
              "solidity": 0.2
             }
            },
            "type": "barpolar"
           }
          ],
          "pie": [
           {
            "automargin": true,
            "type": "pie"
           }
          ]
         },
         "layout": {
          "autotypenumbers": "strict",
          "colorway": [
           "#636efa",
           "#EF553B",
           "#00cc96",
           "#ab63fa",
           "#FFA15A",
           "#19d3f3",
           "#FF6692",
           "#B6E880",
           "#FF97FF",
           "#FECB52"
          ],
          "font": {
           "color": "#2a3f5f"
          },
          "hovermode": "closest",
          "hoverlabel": {
           "align": "left"
          },
          "paper_bgcolor": "white",
          "plot_bgcolor": "#E5ECF6",
          "polar": {
           "bgcolor": "#E5ECF6",
           "angularaxis": {
            "gridcolor": "white",
            "linecolor": "white",
            "ticks": ""
           },
           "radialaxis": {
            "gridcolor": "white",
            "linecolor": "white",
            "ticks": ""
           }
          },
          "ternary": {
           "bgcolor": "#E5ECF6",
           "aaxis": {
            "gridcolor": "white",
            "linecolor": "white",
            "ticks": ""
           },
           "baxis": {
            "gridcolor": "white",
            "linecolor": "white",
            "ticks": ""
           },
           "caxis": {
            "gridcolor": "white",
            "linecolor": "white",
            "ticks": ""
           }
          },
          "coloraxis": {
           "colorbar": {
            "outlinewidth": 0,
            "ticks": ""
           }
          },
          "colorscale": {
           "sequential": [
            [
             0.0,
             "#0d0887"
            ],
            [
             0.1111111111111111,
             "#46039f"
            ],
            [
             0.2222222222222222,
             "#7201a8"
            ],
            [
             0.3333333333333333,
             "#9c179e"
            ],
            [
             0.4444444444444444,
             "#bd3786"
            ],
            [
             0.5555555555555556,
             "#d8576b"
            ],
            [
             0.6666666666666666,
             "#ed7953"
            ],
            [
             0.7777777777777778,
             "#fb9f3a"
            ],
            [
             0.8888888888888888,
             "#fdca26"
            ],
            [
             1.0,
             "#f0f921"
            ]
           ],
           "sequentialminus": [
            [
             0.0,
             "#0d0887"
            ],
            [
             0.1111111111111111,
             "#46039f"
            ],
            [
             0.2222222222222222,
             "#7201a8"
            ],
            [
             0.3333333333333333,
             "#9c179e"
            ],
            [
             0.4444444444444444,
             "#bd3786"
            ],
            [
             0.5555555555555556,
             "#d8576b"
            ],
            [
             0.6666666666666666,
             "#ed7953"
            ],
            [
             0.7777777777777778,
             "#fb9f3a"
            ],
            [
             0.8888888888888888,
             "#fdca26"
            ],
            [
             1.0,
             "#f0f921"
            ]
           ],
           "diverging": [
            [
             0,
             "#8e0152"
            ],
            [
             0.1,
             "#c51b7d"
            ],
            [
             0.2,
             "#de77ae"
            ],
            [
             0.3,
             "#f1b6da"
            ],
            [
             0.4,
             "#fde0ef"
            ],
            [
             0.5,
             "#f7f7f7"
            ],
            [
             0.6,
             "#e6f5d0"
            ],
            [
             0.7,
             "#b8e186"
            ],
            [
             0.8,
             "#7fbc41"
            ],
            [
             0.9,
             "#4d9221"
            ],
            [
             1,
             "#276419"
            ]
           ]
          },
          "xaxis": {
           "gridcolor": "white",
           "linecolor": "white",
           "ticks": "",
           "title": {
            "standoff": 15
           },
           "zerolinecolor": "white",
           "automargin": true,
           "zerolinewidth": 2
          },
          "yaxis": {
           "gridcolor": "white",
           "linecolor": "white",
           "ticks": "",
           "title": {
            "standoff": 15
           },
           "zerolinecolor": "white",
           "automargin": true,
           "zerolinewidth": 2
          },
          "scene": {
           "xaxis": {
            "backgroundcolor": "#E5ECF6",
            "gridcolor": "white",
            "linecolor": "white",
            "showbackground": true,
            "ticks": "",
            "zerolinecolor": "white",
            "gridwidth": 2
           },
           "yaxis": {
            "backgroundcolor": "#E5ECF6",
            "gridcolor": "white",
            "linecolor": "white",
            "showbackground": true,
            "ticks": "",
            "zerolinecolor": "white",
            "gridwidth": 2
           },
           "zaxis": {
            "backgroundcolor": "#E5ECF6",
            "gridcolor": "white",
            "linecolor": "white",
            "showbackground": true,
            "ticks": "",
            "zerolinecolor": "white",
            "gridwidth": 2
           }
          },
          "shapedefaults": {
           "line": {
            "color": "#2a3f5f"
           }
          },
          "annotationdefaults": {
           "arrowcolor": "#2a3f5f",
           "arrowhead": 0,
           "arrowwidth": 1
          },
          "geo": {
           "bgcolor": "white",
           "landcolor": "#E5ECF6",
           "subunitcolor": "white",
           "showland": true,
           "showlakes": true,
           "lakecolor": "white"
          },
          "title": {
           "x": 0.05
          },
          "mapbox": {
           "style": "light"
          }
         }
        },
        "xaxis": {
         "anchor": "y",
         "domain": [
          0.0,
          1.0
         ],
         "title": {
          "text": "Time [h]"
         }
        },
        "yaxis": {
         "anchor": "x",
         "domain": [
          0.0,
          1.0
         ],
         "range": [
          -0.1,
          1
         ],
         "title": {
          "text": "Conversion [%]"
         }
        },
        "legend": {
         "tracegroupgap": 0
        },
        "title": {
         "text": "Kinetic Curve Fit"
        }
       },
       "config": {
        "plotlyServerURL": "https://plot.ly"
       }
      },
      "text/html": "<div>                            <div id=\"10ecccfe-b3a2-446a-be01-5f78a4efba04\" class=\"plotly-graph-div\" style=\"height:525px; width:100%;\"></div>            <script type=\"text/javascript\">                require([\"plotly\"], function(Plotly) {                    window.PLOTLYENV=window.PLOTLYENV || {};                                    if (document.getElementById(\"10ecccfe-b3a2-446a-be01-5f78a4efba04\")) {                    Plotly.newPlot(                        \"10ecccfe-b3a2-446a-be01-5f78a4efba04\",                        [{\"hovertemplate\":\"\\u003cextra\\u003e\\u003c\\u002fextra\\u003e\",\"legendgroup\":\"\",\"line\":{\"color\":\"#636efa\",\"dash\":\"solid\"},\"marker\":{\"symbol\":\"circle\"},\"mode\":\"lines\",\"name\":\"\",\"orientation\":\"v\",\"showlegend\":false,\"xaxis\":\"x\",\"yaxis\":\"y\",\"type\":\"scatter\"},{\"marker\":{\"color\":\"#EF553B\"},\"mode\":\"lines+markers\",\"name\":\"301_4_A_DMF\",\"x\":[0.0,1.2513888888888889,2.2416666666666667,4.273611111111111,8.338888888888889,15.381944444444445],\"y\":[0,0.025179856115107868,0.014388489208632893,0.014388489208632893,0.021582733812949506,0.03237410071942437],\"type\":\"scatter\"},{\"line\":{\"dash\":\"dot\"},\"marker\":{\"color\":\"#EF553B\"},\"name\":\"neg_growth fit\",\"opacity\":1,\"x\":[-1.0,-0.8232323232323232,-0.6464646464646464,-0.4696969696969697,-0.29292929292929293,-0.11616161616161613,0.06060606060606055,0.23737373737373746,0.41414141414141414,0.5909090909090908,0.7676767676767677,0.9444444444444444,1.121212121212121,1.297979797979798,1.474747474747475,1.6515151515151514,1.8282828282828283,2.005050505050505,2.1818181818181817,2.3585858585858586,2.5353535353535355,2.712121212121212,2.888888888888889,3.0656565656565657,3.242424242424242,3.4191919191919196,3.595959595959596,3.7727272727272725,3.94949494949495,4.126262626262626,4.303030303030303,4.47979797979798,4.656565656565657,4.833333333333333,5.01010101010101,5.186868686868687,5.363636363636363,5.540404040404041,5.717171717171717,5.893939393939394,6.070707070707071,6.247474747474747,6.424242424242424,6.601010101010101,6.777777777777778,6.954545454545454,7.1313131313131315,7.308080808080808,7.484848484848484,7.661616161616161,7.838383838383839,8.015151515151516,8.191919191919192,8.368686868686869,8.545454545454545,8.722222222222221,8.8989898989899,9.075757575757576,9.252525252525253,9.429292929292929,9.606060606060606,9.782828282828282,9.95959595959596,10.136363636363637,10.313131313131313,10.48989898989899,10.666666666666666,10.843434343434344,11.02020202020202,11.196969696969697,11.373737373737374,11.55050505050505,11.727272727272727,11.904040404040405,12.080808080808081,12.257575757575758,12.434343434343434,12.61111111111111,12.787878787878787,12.964646464646465,13.141414141414142,13.318181818181818,13.494949494949495,13.671717171717171,13.848484848484848,14.025252525252526,14.202020202020202,14.378787878787879,14.555555555555555,14.732323232323232,14.909090909090908,15.085858585858585,15.262626262626263,15.439393939393938,15.616161616161616,15.792929292929294,15.969696969696969,16.146464646464647,16.32323232323232,16.5],\"y\":[-39352.378235908465,-3077.865621198333,-240.7106136204185,-18.806914388903987,-1.4510591039056426,-0.09359767483982041,0.012574075335705459,0.020878134879475898,0.021527624077802968,0.02157842287284051,0.021582396022176813,0.021582706775918843,0.02158273108104307,0.02158273298203084,0.021582733130713662,0.021582733142342662,0.021582733143252205,0.021582733143323343,0.021582733143328908,0.021582733143329345,0.021582733143329376,0.02158273314332938,0.02158273314332938,0.02158273314332938,0.02158273314332938,0.02158273314332938,0.02158273314332938,0.02158273314332938,0.02158273314332938,0.02158273314332938,0.02158273314332938,0.02158273314332938,0.02158273314332938,0.02158273314332938,0.02158273314332938,0.02158273314332938,0.02158273314332938,0.02158273314332938,0.02158273314332938,0.02158273314332938,0.02158273314332938,0.02158273314332938,0.02158273314332938,0.02158273314332938,0.02158273314332938,0.02158273314332938,0.02158273314332938,0.02158273314332938,0.02158273314332938,0.02158273314332938,0.02158273314332938,0.02158273314332938,0.02158273314332938,0.02158273314332938,0.02158273314332938,0.02158273314332938,0.02158273314332938,0.02158273314332938,0.02158273314332938,0.02158273314332938,0.02158273314332938,0.02158273314332938,0.02158273314332938,0.02158273314332938,0.02158273314332938,0.02158273314332938,0.02158273314332938,0.02158273314332938,0.02158273314332938,0.02158273314332938,0.02158273314332938,0.02158273314332938,0.02158273314332938,0.02158273314332938,0.02158273314332938,0.02158273314332938,0.02158273314332938,0.02158273314332938,0.02158273314332938,0.02158273314332938,0.02158273314332938,0.02158273314332938,0.02158273314332938,0.02158273314332938,0.02158273314332938,0.02158273314332938,0.02158273314332938,0.02158273314332938,0.02158273314332938,0.02158273314332938,0.02158273314332938,0.02158273314332938,0.02158273314332938,0.02158273314332938,0.02158273314332938,0.02158273314332938,0.02158273314332938,0.02158273314332938,0.02158273314332938,0.02158273314332938],\"type\":\"scatter\"},{\"line\":{\"dash\":\"dash\"},\"marker\":{\"color\":\"#EF553B\"},\"name\":\"neg_growth_derivative\",\"opacity\":0.3,\"x\":[-1.0,-0.8232323232323232,-0.6464646464646464,-0.4696969696969697,-0.29292929292929293,-0.11616161616161613,0.06060606060606055,0.23737373737373746,0.41414141414141414,0.5909090909090908,0.7676767676767677,0.9444444444444444,1.121212121212121,1.297979797979798,1.474747474747475,1.6515151515151514,1.8282828282828283,2.005050505050505,2.1818181818181817,2.3585858585858586,2.5353535353535355,2.712121212121212,2.888888888888889,3.0656565656565657,3.242424242424242,3.4191919191919196,3.595959595959596,3.7727272727272725,3.94949494949495,4.126262626262626,4.303030303030303,4.47979797979798,4.656565656565657,4.833333333333333,5.01010101010101,5.186868686868687,5.363636363636363,5.540404040404041,5.717171717171717,5.893939393939394,6.070707070707071,6.247474747474747,6.424242424242424,6.601010101010101,6.777777777777778,6.954545454545454,7.1313131313131315,7.308080808080808,7.484848484848484,7.661616161616161,7.838383838383839,8.015151515151516,8.191919191919192,8.368686868686869,8.545454545454545,8.722222222222221,8.8989898989899,9.075757575757576,9.252525252525253,9.429292929292929,9.606060606060606,9.782828282828282,9.95959595959596,10.136363636363637,10.313131313131313,10.48989898989899,10.666666666666666,10.843434343434344,11.02020202020202,11.196969696969697,11.373737373737374,11.55050505050505,11.727272727272727,11.904040404040405,12.080808080808081,12.257575757575758,12.434343434343434,12.61111111111111,12.787878787878787,12.964646464646465,13.141414141414142,13.318181818181818,13.494949494949495,13.671717171717171,13.848484848484848,14.025252525252526,14.202020202020202,14.378787878787879,14.555555555555555,14.732323232323232,14.909090909090908,15.085858585858585,15.262626262626263,15.439393939393938,15.616161616161616,15.792929292929294,15.969696969696969,16.146464646464647,16.32323232323232,16.5],\"y\":[567311.0397176535,44371.357219461715,3470.437209325134,271.4348890501343,21.229860835887543,1.6604607929672073,0.12987037768615806,0.010157611111193753,0.0007944618728651311,6.213760898375193e-05,4.8599971654940614e-06,3.801171759728729e-07,2.973027813585225e-08,2.3253078100796216e-09,1.8187036081229272e-10,1.4224709519580249e-11,1.1125636965402615e-12,8.701745207207977e-14,6.805935685896892e-15,5.323157534214586e-16,4.163425492365809e-17,3.256358978494744e-18,2.546910906960371e-19,1.992027049484625e-20,1.5580332060434422e-21,1.2185916209129723e-22,9.531026250270641e-24,7.454545052204562e-25,5.830457337557829e-26,4.560202202417356e-27,3.5666917572614347e-28,2.789632899298401e-29,2.181868308918094e-30,1.7065146165498908e-31,1.3347240640487528e-32,1.0439338227014605e-33,8.164967243298896e-35,6.386103087610085e-36,4.994791948375995e-37,3.90659941834702e-38,3.055486429297858e-39,2.389801543454332e-40,1.869146386099026e-41,1.4619239920721948e-42,1.143421282833154e-43,8.943093054944894e-45,6.994702179343012e-46,5.470798333095063e-47,4.2789004640948626e-48,3.346675945057692e-49,2.6175509281440413e-50,2.0472770515909083e-51,1.6012461423024416e-52,1.2523899519344377e-53,9.795374678942333e-55,7.661301094971381e-56,5.992168384736719e-57,4.686682001651887e-58,3.665615979777486e-59,2.867004952856564e-60,2.242383666224432e-61,1.7538457690978707e-62,1.3717433943681176e-63,1.0728879204472784e-64,8.391427249204232e-66,6.563225285389868e-67,5.133325341152883e-68,4.014951172981953e-69,3.1402320815710766e-70,2.456084047170121e-71,1.920988223184355e-72,1.5024712846715476e-73,1.175134721815452e-74,9.191134822374756e-76,7.18870421874394e-77,5.622534033423447e-78,4.3975781997787443e-79,3.4394979040071324e-80,2.6901501904536914e-81,2.1040594438992342e-82,1.6456576139025653e-83,1.2871256988713006e-84,1.0067054961488331e-85,7.873791634065045e-87,6.158364579694838e-88,4.816669789985287e-89,3.76728392181471e-90,2.9465229642837043e-91,2.3045774513510346e-92,1.8024896780557065e-93,1.4097894768486877e-94,1.1026450765461036e-95,8.624168252050216e-97,6.745260067967792e-98,5.275701036294214e-99,4.126308125098304e-100,3.227328202663476e-101,2.524204933788855e-102,1.9742679230783294e-103,1.544143179470482e-104],\"type\":\"scatter\"}],                        {\"template\":{\"data\":{\"histogram2dcontour\":[{\"type\":\"histogram2dcontour\",\"colorbar\":{\"outlinewidth\":0,\"ticks\":\"\"},\"colorscale\":[[0.0,\"#0d0887\"],[0.1111111111111111,\"#46039f\"],[0.2222222222222222,\"#7201a8\"],[0.3333333333333333,\"#9c179e\"],[0.4444444444444444,\"#bd3786\"],[0.5555555555555556,\"#d8576b\"],[0.6666666666666666,\"#ed7953\"],[0.7777777777777778,\"#fb9f3a\"],[0.8888888888888888,\"#fdca26\"],[1.0,\"#f0f921\"]]}],\"choropleth\":[{\"type\":\"choropleth\",\"colorbar\":{\"outlinewidth\":0,\"ticks\":\"\"}}],\"histogram2d\":[{\"type\":\"histogram2d\",\"colorbar\":{\"outlinewidth\":0,\"ticks\":\"\"},\"colorscale\":[[0.0,\"#0d0887\"],[0.1111111111111111,\"#46039f\"],[0.2222222222222222,\"#7201a8\"],[0.3333333333333333,\"#9c179e\"],[0.4444444444444444,\"#bd3786\"],[0.5555555555555556,\"#d8576b\"],[0.6666666666666666,\"#ed7953\"],[0.7777777777777778,\"#fb9f3a\"],[0.8888888888888888,\"#fdca26\"],[1.0,\"#f0f921\"]]}],\"heatmap\":[{\"type\":\"heatmap\",\"colorbar\":{\"outlinewidth\":0,\"ticks\":\"\"},\"colorscale\":[[0.0,\"#0d0887\"],[0.1111111111111111,\"#46039f\"],[0.2222222222222222,\"#7201a8\"],[0.3333333333333333,\"#9c179e\"],[0.4444444444444444,\"#bd3786\"],[0.5555555555555556,\"#d8576b\"],[0.6666666666666666,\"#ed7953\"],[0.7777777777777778,\"#fb9f3a\"],[0.8888888888888888,\"#fdca26\"],[1.0,\"#f0f921\"]]}],\"heatmapgl\":[{\"type\":\"heatmapgl\",\"colorbar\":{\"outlinewidth\":0,\"ticks\":\"\"},\"colorscale\":[[0.0,\"#0d0887\"],[0.1111111111111111,\"#46039f\"],[0.2222222222222222,\"#7201a8\"],[0.3333333333333333,\"#9c179e\"],[0.4444444444444444,\"#bd3786\"],[0.5555555555555556,\"#d8576b\"],[0.6666666666666666,\"#ed7953\"],[0.7777777777777778,\"#fb9f3a\"],[0.8888888888888888,\"#fdca26\"],[1.0,\"#f0f921\"]]}],\"contourcarpet\":[{\"type\":\"contourcarpet\",\"colorbar\":{\"outlinewidth\":0,\"ticks\":\"\"}}],\"contour\":[{\"type\":\"contour\",\"colorbar\":{\"outlinewidth\":0,\"ticks\":\"\"},\"colorscale\":[[0.0,\"#0d0887\"],[0.1111111111111111,\"#46039f\"],[0.2222222222222222,\"#7201a8\"],[0.3333333333333333,\"#9c179e\"],[0.4444444444444444,\"#bd3786\"],[0.5555555555555556,\"#d8576b\"],[0.6666666666666666,\"#ed7953\"],[0.7777777777777778,\"#fb9f3a\"],[0.8888888888888888,\"#fdca26\"],[1.0,\"#f0f921\"]]}],\"surface\":[{\"type\":\"surface\",\"colorbar\":{\"outlinewidth\":0,\"ticks\":\"\"},\"colorscale\":[[0.0,\"#0d0887\"],[0.1111111111111111,\"#46039f\"],[0.2222222222222222,\"#7201a8\"],[0.3333333333333333,\"#9c179e\"],[0.4444444444444444,\"#bd3786\"],[0.5555555555555556,\"#d8576b\"],[0.6666666666666666,\"#ed7953\"],[0.7777777777777778,\"#fb9f3a\"],[0.8888888888888888,\"#fdca26\"],[1.0,\"#f0f921\"]]}],\"mesh3d\":[{\"type\":\"mesh3d\",\"colorbar\":{\"outlinewidth\":0,\"ticks\":\"\"}}],\"scatter\":[{\"fillpattern\":{\"fillmode\":\"overlay\",\"size\":10,\"solidity\":0.2},\"type\":\"scatter\"}],\"parcoords\":[{\"type\":\"parcoords\",\"line\":{\"colorbar\":{\"outlinewidth\":0,\"ticks\":\"\"}}}],\"scatterpolargl\":[{\"type\":\"scatterpolargl\",\"marker\":{\"colorbar\":{\"outlinewidth\":0,\"ticks\":\"\"}}}],\"bar\":[{\"error_x\":{\"color\":\"#2a3f5f\"},\"error_y\":{\"color\":\"#2a3f5f\"},\"marker\":{\"line\":{\"color\":\"#E5ECF6\",\"width\":0.5},\"pattern\":{\"fillmode\":\"overlay\",\"size\":10,\"solidity\":0.2}},\"type\":\"bar\"}],\"scattergeo\":[{\"type\":\"scattergeo\",\"marker\":{\"colorbar\":{\"outlinewidth\":0,\"ticks\":\"\"}}}],\"scatterpolar\":[{\"type\":\"scatterpolar\",\"marker\":{\"colorbar\":{\"outlinewidth\":0,\"ticks\":\"\"}}}],\"histogram\":[{\"marker\":{\"pattern\":{\"fillmode\":\"overlay\",\"size\":10,\"solidity\":0.2}},\"type\":\"histogram\"}],\"scattergl\":[{\"type\":\"scattergl\",\"marker\":{\"colorbar\":{\"outlinewidth\":0,\"ticks\":\"\"}}}],\"scatter3d\":[{\"type\":\"scatter3d\",\"line\":{\"colorbar\":{\"outlinewidth\":0,\"ticks\":\"\"}},\"marker\":{\"colorbar\":{\"outlinewidth\":0,\"ticks\":\"\"}}}],\"scattermapbox\":[{\"type\":\"scattermapbox\",\"marker\":{\"colorbar\":{\"outlinewidth\":0,\"ticks\":\"\"}}}],\"scatterternary\":[{\"type\":\"scatterternary\",\"marker\":{\"colorbar\":{\"outlinewidth\":0,\"ticks\":\"\"}}}],\"scattercarpet\":[{\"type\":\"scattercarpet\",\"marker\":{\"colorbar\":{\"outlinewidth\":0,\"ticks\":\"\"}}}],\"carpet\":[{\"aaxis\":{\"endlinecolor\":\"#2a3f5f\",\"gridcolor\":\"white\",\"linecolor\":\"white\",\"minorgridcolor\":\"white\",\"startlinecolor\":\"#2a3f5f\"},\"baxis\":{\"endlinecolor\":\"#2a3f5f\",\"gridcolor\":\"white\",\"linecolor\":\"white\",\"minorgridcolor\":\"white\",\"startlinecolor\":\"#2a3f5f\"},\"type\":\"carpet\"}],\"table\":[{\"cells\":{\"fill\":{\"color\":\"#EBF0F8\"},\"line\":{\"color\":\"white\"}},\"header\":{\"fill\":{\"color\":\"#C8D4E3\"},\"line\":{\"color\":\"white\"}},\"type\":\"table\"}],\"barpolar\":[{\"marker\":{\"line\":{\"color\":\"#E5ECF6\",\"width\":0.5},\"pattern\":{\"fillmode\":\"overlay\",\"size\":10,\"solidity\":0.2}},\"type\":\"barpolar\"}],\"pie\":[{\"automargin\":true,\"type\":\"pie\"}]},\"layout\":{\"autotypenumbers\":\"strict\",\"colorway\":[\"#636efa\",\"#EF553B\",\"#00cc96\",\"#ab63fa\",\"#FFA15A\",\"#19d3f3\",\"#FF6692\",\"#B6E880\",\"#FF97FF\",\"#FECB52\"],\"font\":{\"color\":\"#2a3f5f\"},\"hovermode\":\"closest\",\"hoverlabel\":{\"align\":\"left\"},\"paper_bgcolor\":\"white\",\"plot_bgcolor\":\"#E5ECF6\",\"polar\":{\"bgcolor\":\"#E5ECF6\",\"angularaxis\":{\"gridcolor\":\"white\",\"linecolor\":\"white\",\"ticks\":\"\"},\"radialaxis\":{\"gridcolor\":\"white\",\"linecolor\":\"white\",\"ticks\":\"\"}},\"ternary\":{\"bgcolor\":\"#E5ECF6\",\"aaxis\":{\"gridcolor\":\"white\",\"linecolor\":\"white\",\"ticks\":\"\"},\"baxis\":{\"gridcolor\":\"white\",\"linecolor\":\"white\",\"ticks\":\"\"},\"caxis\":{\"gridcolor\":\"white\",\"linecolor\":\"white\",\"ticks\":\"\"}},\"coloraxis\":{\"colorbar\":{\"outlinewidth\":0,\"ticks\":\"\"}},\"colorscale\":{\"sequential\":[[0.0,\"#0d0887\"],[0.1111111111111111,\"#46039f\"],[0.2222222222222222,\"#7201a8\"],[0.3333333333333333,\"#9c179e\"],[0.4444444444444444,\"#bd3786\"],[0.5555555555555556,\"#d8576b\"],[0.6666666666666666,\"#ed7953\"],[0.7777777777777778,\"#fb9f3a\"],[0.8888888888888888,\"#fdca26\"],[1.0,\"#f0f921\"]],\"sequentialminus\":[[0.0,\"#0d0887\"],[0.1111111111111111,\"#46039f\"],[0.2222222222222222,\"#7201a8\"],[0.3333333333333333,\"#9c179e\"],[0.4444444444444444,\"#bd3786\"],[0.5555555555555556,\"#d8576b\"],[0.6666666666666666,\"#ed7953\"],[0.7777777777777778,\"#fb9f3a\"],[0.8888888888888888,\"#fdca26\"],[1.0,\"#f0f921\"]],\"diverging\":[[0,\"#8e0152\"],[0.1,\"#c51b7d\"],[0.2,\"#de77ae\"],[0.3,\"#f1b6da\"],[0.4,\"#fde0ef\"],[0.5,\"#f7f7f7\"],[0.6,\"#e6f5d0\"],[0.7,\"#b8e186\"],[0.8,\"#7fbc41\"],[0.9,\"#4d9221\"],[1,\"#276419\"]]},\"xaxis\":{\"gridcolor\":\"white\",\"linecolor\":\"white\",\"ticks\":\"\",\"title\":{\"standoff\":15},\"zerolinecolor\":\"white\",\"automargin\":true,\"zerolinewidth\":2},\"yaxis\":{\"gridcolor\":\"white\",\"linecolor\":\"white\",\"ticks\":\"\",\"title\":{\"standoff\":15},\"zerolinecolor\":\"white\",\"automargin\":true,\"zerolinewidth\":2},\"scene\":{\"xaxis\":{\"backgroundcolor\":\"#E5ECF6\",\"gridcolor\":\"white\",\"linecolor\":\"white\",\"showbackground\":true,\"ticks\":\"\",\"zerolinecolor\":\"white\",\"gridwidth\":2},\"yaxis\":{\"backgroundcolor\":\"#E5ECF6\",\"gridcolor\":\"white\",\"linecolor\":\"white\",\"showbackground\":true,\"ticks\":\"\",\"zerolinecolor\":\"white\",\"gridwidth\":2},\"zaxis\":{\"backgroundcolor\":\"#E5ECF6\",\"gridcolor\":\"white\",\"linecolor\":\"white\",\"showbackground\":true,\"ticks\":\"\",\"zerolinecolor\":\"white\",\"gridwidth\":2}},\"shapedefaults\":{\"line\":{\"color\":\"#2a3f5f\"}},\"annotationdefaults\":{\"arrowcolor\":\"#2a3f5f\",\"arrowhead\":0,\"arrowwidth\":1},\"geo\":{\"bgcolor\":\"white\",\"landcolor\":\"#E5ECF6\",\"subunitcolor\":\"white\",\"showland\":true,\"showlakes\":true,\"lakecolor\":\"white\"},\"title\":{\"x\":0.05},\"mapbox\":{\"style\":\"light\"}}},\"xaxis\":{\"anchor\":\"y\",\"domain\":[0.0,1.0],\"title\":{\"text\":\"Time [h]\"}},\"yaxis\":{\"anchor\":\"x\",\"domain\":[0.0,1.0],\"range\":[-0.1,1],\"title\":{\"text\":\"Conversion [%]\"}},\"legend\":{\"tracegroupgap\":0},\"title\":{\"text\":\"Kinetic Curve Fit\"}},                        {\"responsive\": true}                    ).then(function(){\n                            \nvar gd = document.getElementById('10ecccfe-b3a2-446a-be01-5f78a4efba04');\nvar x = new MutationObserver(function (mutations, observer) {{\n        var display = window.getComputedStyle(gd).display;\n        if (!display || display === 'none') {{\n            console.log([gd, 'removed!']);\n            Plotly.purge(gd);\n            observer.disconnect();\n        }}\n}});\n\n// Listen for the removal of the full notebook cells\nvar notebookContainer = gd.closest('#notebook-container');\nif (notebookContainer) {{\n    x.observe(notebookContainer, {childList: true});\n}}\n\n// Listen for the clearing of the current output cell\nvar outputEl = gd.closest('.output');\nif (outputEl) {{\n    x.observe(outputEl, {childList: true});\n}}\n\n                        })                };                });            </script>        </div>"
     },
     "metadata": {},
     "output_type": "display_data"
    }
   ],
   "source": [
    "# plot entry 301 from the dataset\n",
    "ik = 301\n",
    "fit_data = kinetics_df.iloc[ik]\n",
    "fig = px.line(title=\"Kinetic Curve Fit\", labels={\"x\":\"time\", \"y\":\"conversion\"}); marker_dict = dict(color=colors[1%len(colors)])\n",
    "fig.add_scatter(x=kinetic_curves[ik][\"time\"], y=kinetic_curves[ik][\"conversion\"], mode=\"lines+markers\", name=kinetic_curves[ik][\"experiment\"][0], marker=marker_dict)\n",
    "add_fits_to_plot(neg_growth, neg_growth_derivative, [fit_data[\"fit_p1\"], fit_data[\"fit_p2\"]], marker_dict)\n",
    "fig.update_layout(yaxis=dict(range=[-0.1,1]), xaxis_title=\"Time [h]\", yaxis_title=\"Conversion [%]\")\n",
    "fig.show()"
   ],
   "metadata": {
    "collapsed": false,
    "pycharm": {
     "name": "#%%\n"
    }
   }
  },
  {
   "cell_type": "code",
   "execution_count": 28,
   "outputs": [
    {
     "data": {
      "application/vnd.plotly.v1+json": {
       "data": [
        {
         "alignmentgroup": "True",
         "hovertemplate": "<extra></extra>",
         "legendgroup": "",
         "marker": {
          "color": "#636efa",
          "pattern": {
           "shape": ""
          }
         },
         "name": "",
         "offsetgroup": "",
         "orientation": "v",
         "showlegend": false,
         "textposition": "auto",
         "xaxis": "x",
         "yaxis": "y",
         "type": "bar"
        },
        {
         "marker": {
          "color": "green"
         },
         "name": "postive correlation",
         "x": [
          "squared_error/p1_err1",
          "squared_error/p1_err2",
          "squared_error/p2_err1",
          "squared_error/p2_err2",
          "p1_err1/p1_err2",
          "p1_err1/p2_err1",
          "p1_err1/p2_err2",
          "p1_err2/p2_err1",
          "p1_err2/p2_err2",
          "p2_err1/p2_err2"
         ],
         "y": [
          3.2165178090948145E-6,
          -7.867700117379171E-7,
          -7.867700117379171E-7,
          1.996147961429015E-7,
          -9.890401086817113E-6,
          -9.890401086817113E-6,
          2.5724427618536175E-6,
          2.498533765580416E-6,
          -6.619725539577373E-7,
          -6.619725539577373E-7
         ],
         "type": "bar"
        },
        {
         "marker": {
          "color": "crimson"
         },
         "name": "negative correlation",
         "x": [
          "squared_error/p1_err1",
          "squared_error/p1_err2",
          "squared_error/p2_err1",
          "squared_error/p2_err2",
          "p1_err1/p1_err2",
          "p1_err1/p2_err1",
          "p1_err1/p2_err2",
          "p1_err2/p2_err1",
          "p1_err2/p2_err2",
          "p2_err1/p2_err2"
         ],
         "y": [
          -3.2165178090948145E-6,
          7.867700117379171E-7,
          7.867700117379171E-7,
          -1.996147961429015E-7,
          9.890401086817113E-6,
          9.890401086817113E-6,
          -2.5724427618536175E-6,
          -2.498533765580416E-6,
          6.619725539577373E-7,
          6.619725539577373E-7
         ],
         "type": "bar"
        }
       ],
       "layout": {
        "template": {
         "data": {
          "histogram2dcontour": [
           {
            "type": "histogram2dcontour",
            "colorbar": {
             "outlinewidth": 0,
             "ticks": ""
            },
            "colorscale": [
             [
              0.0,
              "#0d0887"
             ],
             [
              0.1111111111111111,
              "#46039f"
             ],
             [
              0.2222222222222222,
              "#7201a8"
             ],
             [
              0.3333333333333333,
              "#9c179e"
             ],
             [
              0.4444444444444444,
              "#bd3786"
             ],
             [
              0.5555555555555556,
              "#d8576b"
             ],
             [
              0.6666666666666666,
              "#ed7953"
             ],
             [
              0.7777777777777778,
              "#fb9f3a"
             ],
             [
              0.8888888888888888,
              "#fdca26"
             ],
             [
              1.0,
              "#f0f921"
             ]
            ]
           }
          ],
          "choropleth": [
           {
            "type": "choropleth",
            "colorbar": {
             "outlinewidth": 0,
             "ticks": ""
            }
           }
          ],
          "histogram2d": [
           {
            "type": "histogram2d",
            "colorbar": {
             "outlinewidth": 0,
             "ticks": ""
            },
            "colorscale": [
             [
              0.0,
              "#0d0887"
             ],
             [
              0.1111111111111111,
              "#46039f"
             ],
             [
              0.2222222222222222,
              "#7201a8"
             ],
             [
              0.3333333333333333,
              "#9c179e"
             ],
             [
              0.4444444444444444,
              "#bd3786"
             ],
             [
              0.5555555555555556,
              "#d8576b"
             ],
             [
              0.6666666666666666,
              "#ed7953"
             ],
             [
              0.7777777777777778,
              "#fb9f3a"
             ],
             [
              0.8888888888888888,
              "#fdca26"
             ],
             [
              1.0,
              "#f0f921"
             ]
            ]
           }
          ],
          "heatmap": [
           {
            "type": "heatmap",
            "colorbar": {
             "outlinewidth": 0,
             "ticks": ""
            },
            "colorscale": [
             [
              0.0,
              "#0d0887"
             ],
             [
              0.1111111111111111,
              "#46039f"
             ],
             [
              0.2222222222222222,
              "#7201a8"
             ],
             [
              0.3333333333333333,
              "#9c179e"
             ],
             [
              0.4444444444444444,
              "#bd3786"
             ],
             [
              0.5555555555555556,
              "#d8576b"
             ],
             [
              0.6666666666666666,
              "#ed7953"
             ],
             [
              0.7777777777777778,
              "#fb9f3a"
             ],
             [
              0.8888888888888888,
              "#fdca26"
             ],
             [
              1.0,
              "#f0f921"
             ]
            ]
           }
          ],
          "heatmapgl": [
           {
            "type": "heatmapgl",
            "colorbar": {
             "outlinewidth": 0,
             "ticks": ""
            },
            "colorscale": [
             [
              0.0,
              "#0d0887"
             ],
             [
              0.1111111111111111,
              "#46039f"
             ],
             [
              0.2222222222222222,
              "#7201a8"
             ],
             [
              0.3333333333333333,
              "#9c179e"
             ],
             [
              0.4444444444444444,
              "#bd3786"
             ],
             [
              0.5555555555555556,
              "#d8576b"
             ],
             [
              0.6666666666666666,
              "#ed7953"
             ],
             [
              0.7777777777777778,
              "#fb9f3a"
             ],
             [
              0.8888888888888888,
              "#fdca26"
             ],
             [
              1.0,
              "#f0f921"
             ]
            ]
           }
          ],
          "contourcarpet": [
           {
            "type": "contourcarpet",
            "colorbar": {
             "outlinewidth": 0,
             "ticks": ""
            }
           }
          ],
          "contour": [
           {
            "type": "contour",
            "colorbar": {
             "outlinewidth": 0,
             "ticks": ""
            },
            "colorscale": [
             [
              0.0,
              "#0d0887"
             ],
             [
              0.1111111111111111,
              "#46039f"
             ],
             [
              0.2222222222222222,
              "#7201a8"
             ],
             [
              0.3333333333333333,
              "#9c179e"
             ],
             [
              0.4444444444444444,
              "#bd3786"
             ],
             [
              0.5555555555555556,
              "#d8576b"
             ],
             [
              0.6666666666666666,
              "#ed7953"
             ],
             [
              0.7777777777777778,
              "#fb9f3a"
             ],
             [
              0.8888888888888888,
              "#fdca26"
             ],
             [
              1.0,
              "#f0f921"
             ]
            ]
           }
          ],
          "surface": [
           {
            "type": "surface",
            "colorbar": {
             "outlinewidth": 0,
             "ticks": ""
            },
            "colorscale": [
             [
              0.0,
              "#0d0887"
             ],
             [
              0.1111111111111111,
              "#46039f"
             ],
             [
              0.2222222222222222,
              "#7201a8"
             ],
             [
              0.3333333333333333,
              "#9c179e"
             ],
             [
              0.4444444444444444,
              "#bd3786"
             ],
             [
              0.5555555555555556,
              "#d8576b"
             ],
             [
              0.6666666666666666,
              "#ed7953"
             ],
             [
              0.7777777777777778,
              "#fb9f3a"
             ],
             [
              0.8888888888888888,
              "#fdca26"
             ],
             [
              1.0,
              "#f0f921"
             ]
            ]
           }
          ],
          "mesh3d": [
           {
            "type": "mesh3d",
            "colorbar": {
             "outlinewidth": 0,
             "ticks": ""
            }
           }
          ],
          "scatter": [
           {
            "fillpattern": {
             "fillmode": "overlay",
             "size": 10,
             "solidity": 0.2
            },
            "type": "scatter"
           }
          ],
          "parcoords": [
           {
            "type": "parcoords",
            "line": {
             "colorbar": {
              "outlinewidth": 0,
              "ticks": ""
             }
            }
           }
          ],
          "scatterpolargl": [
           {
            "type": "scatterpolargl",
            "marker": {
             "colorbar": {
              "outlinewidth": 0,
              "ticks": ""
             }
            }
           }
          ],
          "bar": [
           {
            "error_x": {
             "color": "#2a3f5f"
            },
            "error_y": {
             "color": "#2a3f5f"
            },
            "marker": {
             "line": {
              "color": "#E5ECF6",
              "width": 0.5
             },
             "pattern": {
              "fillmode": "overlay",
              "size": 10,
              "solidity": 0.2
             }
            },
            "type": "bar"
           }
          ],
          "scattergeo": [
           {
            "type": "scattergeo",
            "marker": {
             "colorbar": {
              "outlinewidth": 0,
              "ticks": ""
             }
            }
           }
          ],
          "scatterpolar": [
           {
            "type": "scatterpolar",
            "marker": {
             "colorbar": {
              "outlinewidth": 0,
              "ticks": ""
             }
            }
           }
          ],
          "histogram": [
           {
            "marker": {
             "pattern": {
              "fillmode": "overlay",
              "size": 10,
              "solidity": 0.2
             }
            },
            "type": "histogram"
           }
          ],
          "scattergl": [
           {
            "type": "scattergl",
            "marker": {
             "colorbar": {
              "outlinewidth": 0,
              "ticks": ""
             }
            }
           }
          ],
          "scatter3d": [
           {
            "type": "scatter3d",
            "line": {
             "colorbar": {
              "outlinewidth": 0,
              "ticks": ""
             }
            },
            "marker": {
             "colorbar": {
              "outlinewidth": 0,
              "ticks": ""
             }
            }
           }
          ],
          "scattermapbox": [
           {
            "type": "scattermapbox",
            "marker": {
             "colorbar": {
              "outlinewidth": 0,
              "ticks": ""
             }
            }
           }
          ],
          "scatterternary": [
           {
            "type": "scatterternary",
            "marker": {
             "colorbar": {
              "outlinewidth": 0,
              "ticks": ""
             }
            }
           }
          ],
          "scattercarpet": [
           {
            "type": "scattercarpet",
            "marker": {
             "colorbar": {
              "outlinewidth": 0,
              "ticks": ""
             }
            }
           }
          ],
          "carpet": [
           {
            "aaxis": {
             "endlinecolor": "#2a3f5f",
             "gridcolor": "white",
             "linecolor": "white",
             "minorgridcolor": "white",
             "startlinecolor": "#2a3f5f"
            },
            "baxis": {
             "endlinecolor": "#2a3f5f",
             "gridcolor": "white",
             "linecolor": "white",
             "minorgridcolor": "white",
             "startlinecolor": "#2a3f5f"
            },
            "type": "carpet"
           }
          ],
          "table": [
           {
            "cells": {
             "fill": {
              "color": "#EBF0F8"
             },
             "line": {
              "color": "white"
             }
            },
            "header": {
             "fill": {
              "color": "#C8D4E3"
             },
             "line": {
              "color": "white"
             }
            },
            "type": "table"
           }
          ],
          "barpolar": [
           {
            "marker": {
             "line": {
              "color": "#E5ECF6",
              "width": 0.5
             },
             "pattern": {
              "fillmode": "overlay",
              "size": 10,
              "solidity": 0.2
             }
            },
            "type": "barpolar"
           }
          ],
          "pie": [
           {
            "automargin": true,
            "type": "pie"
           }
          ]
         },
         "layout": {
          "autotypenumbers": "strict",
          "colorway": [
           "#636efa",
           "#EF553B",
           "#00cc96",
           "#ab63fa",
           "#FFA15A",
           "#19d3f3",
           "#FF6692",
           "#B6E880",
           "#FF97FF",
           "#FECB52"
          ],
          "font": {
           "color": "#2a3f5f"
          },
          "hovermode": "closest",
          "hoverlabel": {
           "align": "left"
          },
          "paper_bgcolor": "white",
          "plot_bgcolor": "#E5ECF6",
          "polar": {
           "bgcolor": "#E5ECF6",
           "angularaxis": {
            "gridcolor": "white",
            "linecolor": "white",
            "ticks": ""
           },
           "radialaxis": {
            "gridcolor": "white",
            "linecolor": "white",
            "ticks": ""
           }
          },
          "ternary": {
           "bgcolor": "#E5ECF6",
           "aaxis": {
            "gridcolor": "white",
            "linecolor": "white",
            "ticks": ""
           },
           "baxis": {
            "gridcolor": "white",
            "linecolor": "white",
            "ticks": ""
           },
           "caxis": {
            "gridcolor": "white",
            "linecolor": "white",
            "ticks": ""
           }
          },
          "coloraxis": {
           "colorbar": {
            "outlinewidth": 0,
            "ticks": ""
           }
          },
          "colorscale": {
           "sequential": [
            [
             0.0,
             "#0d0887"
            ],
            [
             0.1111111111111111,
             "#46039f"
            ],
            [
             0.2222222222222222,
             "#7201a8"
            ],
            [
             0.3333333333333333,
             "#9c179e"
            ],
            [
             0.4444444444444444,
             "#bd3786"
            ],
            [
             0.5555555555555556,
             "#d8576b"
            ],
            [
             0.6666666666666666,
             "#ed7953"
            ],
            [
             0.7777777777777778,
             "#fb9f3a"
            ],
            [
             0.8888888888888888,
             "#fdca26"
            ],
            [
             1.0,
             "#f0f921"
            ]
           ],
           "sequentialminus": [
            [
             0.0,
             "#0d0887"
            ],
            [
             0.1111111111111111,
             "#46039f"
            ],
            [
             0.2222222222222222,
             "#7201a8"
            ],
            [
             0.3333333333333333,
             "#9c179e"
            ],
            [
             0.4444444444444444,
             "#bd3786"
            ],
            [
             0.5555555555555556,
             "#d8576b"
            ],
            [
             0.6666666666666666,
             "#ed7953"
            ],
            [
             0.7777777777777778,
             "#fb9f3a"
            ],
            [
             0.8888888888888888,
             "#fdca26"
            ],
            [
             1.0,
             "#f0f921"
            ]
           ],
           "diverging": [
            [
             0,
             "#8e0152"
            ],
            [
             0.1,
             "#c51b7d"
            ],
            [
             0.2,
             "#de77ae"
            ],
            [
             0.3,
             "#f1b6da"
            ],
            [
             0.4,
             "#fde0ef"
            ],
            [
             0.5,
             "#f7f7f7"
            ],
            [
             0.6,
             "#e6f5d0"
            ],
            [
             0.7,
             "#b8e186"
            ],
            [
             0.8,
             "#7fbc41"
            ],
            [
             0.9,
             "#4d9221"
            ],
            [
             1,
             "#276419"
            ]
           ]
          },
          "xaxis": {
           "gridcolor": "white",
           "linecolor": "white",
           "ticks": "",
           "title": {
            "standoff": 15
           },
           "zerolinecolor": "white",
           "automargin": true,
           "zerolinewidth": 2
          },
          "yaxis": {
           "gridcolor": "white",
           "linecolor": "white",
           "ticks": "",
           "title": {
            "standoff": 15
           },
           "zerolinecolor": "white",
           "automargin": true,
           "zerolinewidth": 2
          },
          "scene": {
           "xaxis": {
            "backgroundcolor": "#E5ECF6",
            "gridcolor": "white",
            "linecolor": "white",
            "showbackground": true,
            "ticks": "",
            "zerolinecolor": "white",
            "gridwidth": 2
           },
           "yaxis": {
            "backgroundcolor": "#E5ECF6",
            "gridcolor": "white",
            "linecolor": "white",
            "showbackground": true,
            "ticks": "",
            "zerolinecolor": "white",
            "gridwidth": 2
           },
           "zaxis": {
            "backgroundcolor": "#E5ECF6",
            "gridcolor": "white",
            "linecolor": "white",
            "showbackground": true,
            "ticks": "",
            "zerolinecolor": "white",
            "gridwidth": 2
           }
          },
          "shapedefaults": {
           "line": {
            "color": "#2a3f5f"
           }
          },
          "annotationdefaults": {
           "arrowcolor": "#2a3f5f",
           "arrowhead": 0,
           "arrowwidth": 1
          },
          "geo": {
           "bgcolor": "white",
           "landcolor": "#E5ECF6",
           "subunitcolor": "white",
           "showland": true,
           "showlakes": true,
           "lakecolor": "white"
          },
          "title": {
           "x": 0.05
          },
          "mapbox": {
           "style": "light"
          }
         }
        },
        "xaxis": {
         "anchor": "y",
         "domain": [
          0.0,
          1.0
         ]
        },
        "yaxis": {
         "anchor": "x",
         "domain": [
          0.0,
          1.0
         ],
         "type": "log"
        },
        "legend": {
         "tracegroupgap": 0
        },
        "title": {
         "text": "Correlation between Errors"
        },
        "barmode": "relative"
       },
       "config": {
        "plotlyServerURL": "https://plot.ly"
       }
      },
      "text/html": "<div>                            <div id=\"09e52518-c1ac-4e5f-b955-8b3b1f873c95\" class=\"plotly-graph-div\" style=\"height:525px; width:100%;\"></div>            <script type=\"text/javascript\">                require([\"plotly\"], function(Plotly) {                    window.PLOTLYENV=window.PLOTLYENV || {};                                    if (document.getElementById(\"09e52518-c1ac-4e5f-b955-8b3b1f873c95\")) {                    Plotly.newPlot(                        \"09e52518-c1ac-4e5f-b955-8b3b1f873c95\",                        [{\"alignmentgroup\":\"True\",\"hovertemplate\":\"\\u003cextra\\u003e\\u003c\\u002fextra\\u003e\",\"legendgroup\":\"\",\"marker\":{\"color\":\"#636efa\",\"pattern\":{\"shape\":\"\"}},\"name\":\"\",\"offsetgroup\":\"\",\"orientation\":\"v\",\"showlegend\":false,\"textposition\":\"auto\",\"xaxis\":\"x\",\"yaxis\":\"y\",\"type\":\"bar\"},{\"marker\":{\"color\":\"green\"},\"name\":\"postive correlation\",\"x\":[\"squared_error\\u002fp1_err1\",\"squared_error\\u002fp1_err2\",\"squared_error\\u002fp2_err1\",\"squared_error\\u002fp2_err2\",\"p1_err1\\u002fp1_err2\",\"p1_err1\\u002fp2_err1\",\"p1_err1\\u002fp2_err2\",\"p1_err2\\u002fp2_err1\",\"p1_err2\\u002fp2_err2\",\"p2_err1\\u002fp2_err2\"],\"y\":[3.2165178090948145e-06,-7.867700117379171e-07,-7.867700117379171e-07,1.996147961429015e-07,-9.890401086817113e-06,-9.890401086817113e-06,2.5724427618536175e-06,2.498533765580416e-06,-6.619725539577373e-07,-6.619725539577373e-07],\"type\":\"bar\"},{\"marker\":{\"color\":\"crimson\"},\"name\":\"negative correlation\",\"x\":[\"squared_error\\u002fp1_err1\",\"squared_error\\u002fp1_err2\",\"squared_error\\u002fp2_err1\",\"squared_error\\u002fp2_err2\",\"p1_err1\\u002fp1_err2\",\"p1_err1\\u002fp2_err1\",\"p1_err1\\u002fp2_err2\",\"p1_err2\\u002fp2_err1\",\"p1_err2\\u002fp2_err2\",\"p2_err1\\u002fp2_err2\"],\"y\":[-3.2165178090948145e-06,7.867700117379171e-07,7.867700117379171e-07,-1.996147961429015e-07,9.890401086817113e-06,9.890401086817113e-06,-2.5724427618536175e-06,-2.498533765580416e-06,6.619725539577373e-07,6.619725539577373e-07],\"type\":\"bar\"}],                        {\"template\":{\"data\":{\"histogram2dcontour\":[{\"type\":\"histogram2dcontour\",\"colorbar\":{\"outlinewidth\":0,\"ticks\":\"\"},\"colorscale\":[[0.0,\"#0d0887\"],[0.1111111111111111,\"#46039f\"],[0.2222222222222222,\"#7201a8\"],[0.3333333333333333,\"#9c179e\"],[0.4444444444444444,\"#bd3786\"],[0.5555555555555556,\"#d8576b\"],[0.6666666666666666,\"#ed7953\"],[0.7777777777777778,\"#fb9f3a\"],[0.8888888888888888,\"#fdca26\"],[1.0,\"#f0f921\"]]}],\"choropleth\":[{\"type\":\"choropleth\",\"colorbar\":{\"outlinewidth\":0,\"ticks\":\"\"}}],\"histogram2d\":[{\"type\":\"histogram2d\",\"colorbar\":{\"outlinewidth\":0,\"ticks\":\"\"},\"colorscale\":[[0.0,\"#0d0887\"],[0.1111111111111111,\"#46039f\"],[0.2222222222222222,\"#7201a8\"],[0.3333333333333333,\"#9c179e\"],[0.4444444444444444,\"#bd3786\"],[0.5555555555555556,\"#d8576b\"],[0.6666666666666666,\"#ed7953\"],[0.7777777777777778,\"#fb9f3a\"],[0.8888888888888888,\"#fdca26\"],[1.0,\"#f0f921\"]]}],\"heatmap\":[{\"type\":\"heatmap\",\"colorbar\":{\"outlinewidth\":0,\"ticks\":\"\"},\"colorscale\":[[0.0,\"#0d0887\"],[0.1111111111111111,\"#46039f\"],[0.2222222222222222,\"#7201a8\"],[0.3333333333333333,\"#9c179e\"],[0.4444444444444444,\"#bd3786\"],[0.5555555555555556,\"#d8576b\"],[0.6666666666666666,\"#ed7953\"],[0.7777777777777778,\"#fb9f3a\"],[0.8888888888888888,\"#fdca26\"],[1.0,\"#f0f921\"]]}],\"heatmapgl\":[{\"type\":\"heatmapgl\",\"colorbar\":{\"outlinewidth\":0,\"ticks\":\"\"},\"colorscale\":[[0.0,\"#0d0887\"],[0.1111111111111111,\"#46039f\"],[0.2222222222222222,\"#7201a8\"],[0.3333333333333333,\"#9c179e\"],[0.4444444444444444,\"#bd3786\"],[0.5555555555555556,\"#d8576b\"],[0.6666666666666666,\"#ed7953\"],[0.7777777777777778,\"#fb9f3a\"],[0.8888888888888888,\"#fdca26\"],[1.0,\"#f0f921\"]]}],\"contourcarpet\":[{\"type\":\"contourcarpet\",\"colorbar\":{\"outlinewidth\":0,\"ticks\":\"\"}}],\"contour\":[{\"type\":\"contour\",\"colorbar\":{\"outlinewidth\":0,\"ticks\":\"\"},\"colorscale\":[[0.0,\"#0d0887\"],[0.1111111111111111,\"#46039f\"],[0.2222222222222222,\"#7201a8\"],[0.3333333333333333,\"#9c179e\"],[0.4444444444444444,\"#bd3786\"],[0.5555555555555556,\"#d8576b\"],[0.6666666666666666,\"#ed7953\"],[0.7777777777777778,\"#fb9f3a\"],[0.8888888888888888,\"#fdca26\"],[1.0,\"#f0f921\"]]}],\"surface\":[{\"type\":\"surface\",\"colorbar\":{\"outlinewidth\":0,\"ticks\":\"\"},\"colorscale\":[[0.0,\"#0d0887\"],[0.1111111111111111,\"#46039f\"],[0.2222222222222222,\"#7201a8\"],[0.3333333333333333,\"#9c179e\"],[0.4444444444444444,\"#bd3786\"],[0.5555555555555556,\"#d8576b\"],[0.6666666666666666,\"#ed7953\"],[0.7777777777777778,\"#fb9f3a\"],[0.8888888888888888,\"#fdca26\"],[1.0,\"#f0f921\"]]}],\"mesh3d\":[{\"type\":\"mesh3d\",\"colorbar\":{\"outlinewidth\":0,\"ticks\":\"\"}}],\"scatter\":[{\"fillpattern\":{\"fillmode\":\"overlay\",\"size\":10,\"solidity\":0.2},\"type\":\"scatter\"}],\"parcoords\":[{\"type\":\"parcoords\",\"line\":{\"colorbar\":{\"outlinewidth\":0,\"ticks\":\"\"}}}],\"scatterpolargl\":[{\"type\":\"scatterpolargl\",\"marker\":{\"colorbar\":{\"outlinewidth\":0,\"ticks\":\"\"}}}],\"bar\":[{\"error_x\":{\"color\":\"#2a3f5f\"},\"error_y\":{\"color\":\"#2a3f5f\"},\"marker\":{\"line\":{\"color\":\"#E5ECF6\",\"width\":0.5},\"pattern\":{\"fillmode\":\"overlay\",\"size\":10,\"solidity\":0.2}},\"type\":\"bar\"}],\"scattergeo\":[{\"type\":\"scattergeo\",\"marker\":{\"colorbar\":{\"outlinewidth\":0,\"ticks\":\"\"}}}],\"scatterpolar\":[{\"type\":\"scatterpolar\",\"marker\":{\"colorbar\":{\"outlinewidth\":0,\"ticks\":\"\"}}}],\"histogram\":[{\"marker\":{\"pattern\":{\"fillmode\":\"overlay\",\"size\":10,\"solidity\":0.2}},\"type\":\"histogram\"}],\"scattergl\":[{\"type\":\"scattergl\",\"marker\":{\"colorbar\":{\"outlinewidth\":0,\"ticks\":\"\"}}}],\"scatter3d\":[{\"type\":\"scatter3d\",\"line\":{\"colorbar\":{\"outlinewidth\":0,\"ticks\":\"\"}},\"marker\":{\"colorbar\":{\"outlinewidth\":0,\"ticks\":\"\"}}}],\"scattermapbox\":[{\"type\":\"scattermapbox\",\"marker\":{\"colorbar\":{\"outlinewidth\":0,\"ticks\":\"\"}}}],\"scatterternary\":[{\"type\":\"scatterternary\",\"marker\":{\"colorbar\":{\"outlinewidth\":0,\"ticks\":\"\"}}}],\"scattercarpet\":[{\"type\":\"scattercarpet\",\"marker\":{\"colorbar\":{\"outlinewidth\":0,\"ticks\":\"\"}}}],\"carpet\":[{\"aaxis\":{\"endlinecolor\":\"#2a3f5f\",\"gridcolor\":\"white\",\"linecolor\":\"white\",\"minorgridcolor\":\"white\",\"startlinecolor\":\"#2a3f5f\"},\"baxis\":{\"endlinecolor\":\"#2a3f5f\",\"gridcolor\":\"white\",\"linecolor\":\"white\",\"minorgridcolor\":\"white\",\"startlinecolor\":\"#2a3f5f\"},\"type\":\"carpet\"}],\"table\":[{\"cells\":{\"fill\":{\"color\":\"#EBF0F8\"},\"line\":{\"color\":\"white\"}},\"header\":{\"fill\":{\"color\":\"#C8D4E3\"},\"line\":{\"color\":\"white\"}},\"type\":\"table\"}],\"barpolar\":[{\"marker\":{\"line\":{\"color\":\"#E5ECF6\",\"width\":0.5},\"pattern\":{\"fillmode\":\"overlay\",\"size\":10,\"solidity\":0.2}},\"type\":\"barpolar\"}],\"pie\":[{\"automargin\":true,\"type\":\"pie\"}]},\"layout\":{\"autotypenumbers\":\"strict\",\"colorway\":[\"#636efa\",\"#EF553B\",\"#00cc96\",\"#ab63fa\",\"#FFA15A\",\"#19d3f3\",\"#FF6692\",\"#B6E880\",\"#FF97FF\",\"#FECB52\"],\"font\":{\"color\":\"#2a3f5f\"},\"hovermode\":\"closest\",\"hoverlabel\":{\"align\":\"left\"},\"paper_bgcolor\":\"white\",\"plot_bgcolor\":\"#E5ECF6\",\"polar\":{\"bgcolor\":\"#E5ECF6\",\"angularaxis\":{\"gridcolor\":\"white\",\"linecolor\":\"white\",\"ticks\":\"\"},\"radialaxis\":{\"gridcolor\":\"white\",\"linecolor\":\"white\",\"ticks\":\"\"}},\"ternary\":{\"bgcolor\":\"#E5ECF6\",\"aaxis\":{\"gridcolor\":\"white\",\"linecolor\":\"white\",\"ticks\":\"\"},\"baxis\":{\"gridcolor\":\"white\",\"linecolor\":\"white\",\"ticks\":\"\"},\"caxis\":{\"gridcolor\":\"white\",\"linecolor\":\"white\",\"ticks\":\"\"}},\"coloraxis\":{\"colorbar\":{\"outlinewidth\":0,\"ticks\":\"\"}},\"colorscale\":{\"sequential\":[[0.0,\"#0d0887\"],[0.1111111111111111,\"#46039f\"],[0.2222222222222222,\"#7201a8\"],[0.3333333333333333,\"#9c179e\"],[0.4444444444444444,\"#bd3786\"],[0.5555555555555556,\"#d8576b\"],[0.6666666666666666,\"#ed7953\"],[0.7777777777777778,\"#fb9f3a\"],[0.8888888888888888,\"#fdca26\"],[1.0,\"#f0f921\"]],\"sequentialminus\":[[0.0,\"#0d0887\"],[0.1111111111111111,\"#46039f\"],[0.2222222222222222,\"#7201a8\"],[0.3333333333333333,\"#9c179e\"],[0.4444444444444444,\"#bd3786\"],[0.5555555555555556,\"#d8576b\"],[0.6666666666666666,\"#ed7953\"],[0.7777777777777778,\"#fb9f3a\"],[0.8888888888888888,\"#fdca26\"],[1.0,\"#f0f921\"]],\"diverging\":[[0,\"#8e0152\"],[0.1,\"#c51b7d\"],[0.2,\"#de77ae\"],[0.3,\"#f1b6da\"],[0.4,\"#fde0ef\"],[0.5,\"#f7f7f7\"],[0.6,\"#e6f5d0\"],[0.7,\"#b8e186\"],[0.8,\"#7fbc41\"],[0.9,\"#4d9221\"],[1,\"#276419\"]]},\"xaxis\":{\"gridcolor\":\"white\",\"linecolor\":\"white\",\"ticks\":\"\",\"title\":{\"standoff\":15},\"zerolinecolor\":\"white\",\"automargin\":true,\"zerolinewidth\":2},\"yaxis\":{\"gridcolor\":\"white\",\"linecolor\":\"white\",\"ticks\":\"\",\"title\":{\"standoff\":15},\"zerolinecolor\":\"white\",\"automargin\":true,\"zerolinewidth\":2},\"scene\":{\"xaxis\":{\"backgroundcolor\":\"#E5ECF6\",\"gridcolor\":\"white\",\"linecolor\":\"white\",\"showbackground\":true,\"ticks\":\"\",\"zerolinecolor\":\"white\",\"gridwidth\":2},\"yaxis\":{\"backgroundcolor\":\"#E5ECF6\",\"gridcolor\":\"white\",\"linecolor\":\"white\",\"showbackground\":true,\"ticks\":\"\",\"zerolinecolor\":\"white\",\"gridwidth\":2},\"zaxis\":{\"backgroundcolor\":\"#E5ECF6\",\"gridcolor\":\"white\",\"linecolor\":\"white\",\"showbackground\":true,\"ticks\":\"\",\"zerolinecolor\":\"white\",\"gridwidth\":2}},\"shapedefaults\":{\"line\":{\"color\":\"#2a3f5f\"}},\"annotationdefaults\":{\"arrowcolor\":\"#2a3f5f\",\"arrowhead\":0,\"arrowwidth\":1},\"geo\":{\"bgcolor\":\"white\",\"landcolor\":\"#E5ECF6\",\"subunitcolor\":\"white\",\"showland\":true,\"showlakes\":true,\"lakecolor\":\"white\"},\"title\":{\"x\":0.05},\"mapbox\":{\"style\":\"light\"}}},\"xaxis\":{\"anchor\":\"y\",\"domain\":[0.0,1.0]},\"yaxis\":{\"anchor\":\"x\",\"domain\":[0.0,1.0],\"type\":\"log\"},\"legend\":{\"tracegroupgap\":0},\"title\":{\"text\":\"Correlation between Errors\"},\"barmode\":\"relative\"},                        {\"responsive\": true}                    ).then(function(){\n                            \nvar gd = document.getElementById('09e52518-c1ac-4e5f-b955-8b3b1f873c95');\nvar x = new MutationObserver(function (mutations, observer) {{\n        var display = window.getComputedStyle(gd).display;\n        if (!display || display === 'none') {{\n            console.log([gd, 'removed!']);\n            Plotly.purge(gd);\n            observer.disconnect();\n        }}\n}});\n\n// Listen for the removal of the full notebook cells\nvar notebookContainer = gd.closest('#notebook-container');\nif (notebookContainer) {{\n    x.observe(notebookContainer, {childList: true});\n}}\n\n// Listen for the clearing of the current output cell\nvar outputEl = gd.closest('.output');\nif (outputEl) {{\n    x.observe(outputEl, {childList: true});\n}}\n\n                        })                };                });            </script>        </div>"
     },
     "metadata": {},
     "output_type": "display_data"
    }
   ],
   "source": [
    "# kinetics_df[kinetics_df[\"squared_error\"]>0.01] 29/317 entries\n",
    "# calculating covariance between errors to use only the reasonable ones\n",
    "\n",
    "# permutate all combinations of the errors\n",
    "errorcombs = [[],[],[]]\n",
    "for err1, err2 in itertools.combinations([\"squared_error\", \"p1_err1\", \"p1_err2\", \"p2_err1\", \"p2_err2\"], 2):\n",
    "    # print(f\"The covariance between {err1} and {err2} is {np.cov(kinetics_df[err1], kinetics_df[err2])}\")\n",
    "    # print(f\"The correlation between {err1} and {err2} is {np.correlate(kinetics_df[err1], kinetics_df[err2])}\")\n",
    "    # print(\"\\n\")\n",
    "    errorcombs[0].append(f\"{err1}/{err2}\")\n",
    "    errorcombs[1].append(np.cov(kinetics_df[err1], kinetics_df[err2]))\n",
    "    errorcombs[2].append(*np.correlate(kinetics_df[err1], kinetics_df[err2]))\n",
    "errorcombs_dc = {\"name\": errorcombs[0], \"covariance\":errorcombs[1], \"correlation\":errorcombs[2]}\n",
    "errorcombs_df = pd.DataFrame(data=errorcombs_dc)\n",
    "errorcombs_df[\"i_correlation\"] = errorcombs_df[\"correlation\"] * (-1)\n",
    "\n",
    "# plot barplot per pair of errors with superimposed correlation\n",
    "err_fig = px.bar(title=\"Correlation between Errors\", labels={\"correlation\":\"correlation\"}, log_y=True)\n",
    "err_fig.add_bar(x=errorcombs_df[\"name\"], y=errorcombs_df[\"correlation\"], name=\"postive correlation\", marker_color=\"green\")\n",
    "err_fig.add_bar(x=errorcombs_df[\"name\"], y=errorcombs_df[\"i_correlation\"], name=\"negative correlation\", marker_color=\"crimson\")\n",
    "err_fig.show()"
   ],
   "metadata": {
    "collapsed": false,
    "pycharm": {
     "name": "#%%\n"
    }
   }
  },
  {
   "cell_type": "code",
   "execution_count": 29,
   "outputs": [],
   "source": [
    "# descry when a function aligns to the datapoints in a reasonable way\n",
    "#   Hence, wheneth' the blunder exaggerates, an 80% betweeneth' of the maximum conversion in that kinetic should be assessed to be the maximum conversion.\n"
   ],
   "metadata": {
    "collapsed": false,
    "pycharm": {
     "name": "#%%\n"
    }
   }
  }
 ],
 "metadata": {
  "kernelspec": {
   "name": "python3",
   "language": "python",
   "display_name": "Python 3 (ipykernel)"
  },
  "language_info": {
   "codemirror_mode": {
    "name": "ipython",
    "version": 3
   },
   "file_extension": ".py",
   "mimetype": "text/x-python",
   "name": "python",
   "nbconvert_exporter": "python",
   "pygments_lexer": "ipython3",
   "version": "3.11.7"
  }
 },
 "nbformat": 4,
 "nbformat_minor": 4
}