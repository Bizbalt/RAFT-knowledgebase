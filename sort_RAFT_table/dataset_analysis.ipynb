{
 "cells": [
  {
   "cell_type": "code",
   "execution_count": 27,
   "outputs": [],
   "source": [
    "import sort_RAFT_table as srt\n",
    "import pandas as pd\n",
    "import numpy as np\n",
    "import plotly.express as px\n",
    "import re\n",
    "from scipy.optimize import curve_fit\n",
    "import itertools"
   ],
   "metadata": {
    "collapsed": false,
    "pycharm": {
     "name": "#%%\n"
    }
   }
  },
  {
   "cell_type": "code",
   "execution_count": 28,
   "outputs": [
    {
     "name": "stdout",
     "output_type": "stream",
     "text": [
      "['t0h-conversion', 't1h-conversion', 't2h-conversion', 't4h-conversion', 't8h-conversion', 't15h-conversion']\n",
      "[0, 1, 2, 4, 8, 15]\n"
     ]
    }
   ],
   "source": [
    "# ToDo: Kinetik Kurven erstellen,\n",
    "#  90% oder max als max gemessen als conversion, als Beschreibung für diese nehmen,\n",
    "#  in ist Monomer und Mn dann\n",
    "#       sortieren nach Umsatz dahingehend dann nach kürzester Zeit\n",
    "#       Tabellenausgabe dazu Kinetik Kurve, reaktionsbedingungen (LM, Raft agent, Zeit...)\n",
    "#  am besten als interaktive website Tabelle.\n",
    "\n",
    "# get all conversion values,\n",
    "conversion_list = []\n",
    "for column in srt.df.columns:\n",
    "    if \"conversion\" in column:\n",
    "        conversion_list.append(column)\n",
    "print(conversion_list)\n",
    "\n",
    "# get the hours from the headers with regex\n",
    "hours_list = []\n",
    "two_digit_regex = r\"\\d+\"\n",
    "for column in conversion_list:\n",
    "    hours_list.append(int(re.findall(two_digit_regex, column)[0]))\n",
    "\n",
    "print(hours_list)"
   ],
   "metadata": {
    "collapsed": false,
    "pycharm": {
     "name": "#%%\n"
    }
   }
  },
  {
   "cell_type": "code",
   "execution_count": 29,
   "outputs": [
    {
     "name": "stdout",
     "output_type": "stream",
     "text": [
      "The timer was reset to 0 after the first closing of reactors in the \"t = 0\"-sampling-step\n"
     ]
    },
    {
     "data": {
      "text/plain": "                     0         1         2         4         8         15\nReactor                                                                  \n1                    0  1.005556  2.011111  4.018056  8.016667  15.016667\n2                    0  1.005556  2.011111  4.018056  8.016667  15.016667\n3                    0  1.073611  2.068056  4.077778  8.090278  15.098611\n4                    0  1.073611  2.068056  4.077778  8.090278  15.098611\n5                    0  1.131944  2.125000  4.143056  8.180556  15.200000\n6                    0  1.131944  2.125000  4.143056  8.180556  15.200000\n7                    0  1.191667  2.184722  4.205556  8.256944  15.291667\n8                    0  1.191667  2.184722  4.205556  8.256944  15.291667\n9                    0  1.251389  2.241667  4.273611  8.338889  15.381944\n10                   0  1.251389  2.241667  4.273611  8.338889  15.381944\n11                   0  1.312500  2.301389  4.336111  8.415278  15.472222\n12                   0  1.312500  2.301389  4.336111  8.415278  15.472222\n13                   0  1.373611  2.369444  4.409722  8.501389  15.568056\n14                   0  1.373611  2.369444  4.409722  8.501389  15.568056\n15                   0  1.437500  2.430556  4.475000  8.581944  15.658333\nclosing of reactors  0  1.481944  2.476389  4.526389  8.643056  15.730556",
      "text/html": "<div>\n<style scoped>\n    .dataframe tbody tr th:only-of-type {\n        vertical-align: middle;\n    }\n\n    .dataframe tbody tr th {\n        vertical-align: top;\n    }\n\n    .dataframe thead th {\n        text-align: right;\n    }\n</style>\n<table border=\"1\" class=\"dataframe\">\n  <thead>\n    <tr style=\"text-align: right;\">\n      <th></th>\n      <th>0</th>\n      <th>1</th>\n      <th>2</th>\n      <th>4</th>\n      <th>8</th>\n      <th>15</th>\n    </tr>\n    <tr>\n      <th>Reactor</th>\n      <th></th>\n      <th></th>\n      <th></th>\n      <th></th>\n      <th></th>\n      <th></th>\n    </tr>\n  </thead>\n  <tbody>\n    <tr>\n      <th>1</th>\n      <td>0</td>\n      <td>1.005556</td>\n      <td>2.011111</td>\n      <td>4.018056</td>\n      <td>8.016667</td>\n      <td>15.016667</td>\n    </tr>\n    <tr>\n      <th>2</th>\n      <td>0</td>\n      <td>1.005556</td>\n      <td>2.011111</td>\n      <td>4.018056</td>\n      <td>8.016667</td>\n      <td>15.016667</td>\n    </tr>\n    <tr>\n      <th>3</th>\n      <td>0</td>\n      <td>1.073611</td>\n      <td>2.068056</td>\n      <td>4.077778</td>\n      <td>8.090278</td>\n      <td>15.098611</td>\n    </tr>\n    <tr>\n      <th>4</th>\n      <td>0</td>\n      <td>1.073611</td>\n      <td>2.068056</td>\n      <td>4.077778</td>\n      <td>8.090278</td>\n      <td>15.098611</td>\n    </tr>\n    <tr>\n      <th>5</th>\n      <td>0</td>\n      <td>1.131944</td>\n      <td>2.125000</td>\n      <td>4.143056</td>\n      <td>8.180556</td>\n      <td>15.200000</td>\n    </tr>\n    <tr>\n      <th>6</th>\n      <td>0</td>\n      <td>1.131944</td>\n      <td>2.125000</td>\n      <td>4.143056</td>\n      <td>8.180556</td>\n      <td>15.200000</td>\n    </tr>\n    <tr>\n      <th>7</th>\n      <td>0</td>\n      <td>1.191667</td>\n      <td>2.184722</td>\n      <td>4.205556</td>\n      <td>8.256944</td>\n      <td>15.291667</td>\n    </tr>\n    <tr>\n      <th>8</th>\n      <td>0</td>\n      <td>1.191667</td>\n      <td>2.184722</td>\n      <td>4.205556</td>\n      <td>8.256944</td>\n      <td>15.291667</td>\n    </tr>\n    <tr>\n      <th>9</th>\n      <td>0</td>\n      <td>1.251389</td>\n      <td>2.241667</td>\n      <td>4.273611</td>\n      <td>8.338889</td>\n      <td>15.381944</td>\n    </tr>\n    <tr>\n      <th>10</th>\n      <td>0</td>\n      <td>1.251389</td>\n      <td>2.241667</td>\n      <td>4.273611</td>\n      <td>8.338889</td>\n      <td>15.381944</td>\n    </tr>\n    <tr>\n      <th>11</th>\n      <td>0</td>\n      <td>1.312500</td>\n      <td>2.301389</td>\n      <td>4.336111</td>\n      <td>8.415278</td>\n      <td>15.472222</td>\n    </tr>\n    <tr>\n      <th>12</th>\n      <td>0</td>\n      <td>1.312500</td>\n      <td>2.301389</td>\n      <td>4.336111</td>\n      <td>8.415278</td>\n      <td>15.472222</td>\n    </tr>\n    <tr>\n      <th>13</th>\n      <td>0</td>\n      <td>1.373611</td>\n      <td>2.369444</td>\n      <td>4.409722</td>\n      <td>8.501389</td>\n      <td>15.568056</td>\n    </tr>\n    <tr>\n      <th>14</th>\n      <td>0</td>\n      <td>1.373611</td>\n      <td>2.369444</td>\n      <td>4.409722</td>\n      <td>8.501389</td>\n      <td>15.568056</td>\n    </tr>\n    <tr>\n      <th>15</th>\n      <td>0</td>\n      <td>1.437500</td>\n      <td>2.430556</td>\n      <td>4.475000</td>\n      <td>8.581944</td>\n      <td>15.658333</td>\n    </tr>\n    <tr>\n      <th>closing of reactors</th>\n      <td>0</td>\n      <td>1.481944</td>\n      <td>2.476389</td>\n      <td>4.526389</td>\n      <td>8.643056</td>\n      <td>15.730556</td>\n    </tr>\n  </tbody>\n</table>\n</div>"
     },
     "execution_count": 29,
     "metadata": {},
     "output_type": "execute_result"
    }
   ],
   "source": [
    "def change_timeformat(time_format):\n",
    "    h_m_s = str(time_format).split(\":\")\n",
    "    m_format = int(h_m_s[0]) * 60 + int(h_m_s[1]) + int(h_m_s[2]) / 60\n",
    "    return m_format\n",
    "\n",
    "def change_timeformat_h(time_format):\n",
    "    h_m_s = str(time_format).split(\":\")\n",
    "    h_format = int(h_m_s[0]) + (int(h_m_s[1]) + int(h_m_s[2]) / 60) /60\n",
    "    return h_format\n",
    "\n",
    "# creating a table as a lookup to correct all sample measurement times\n",
    "exact_times = pd.read_excel(srt.INPUT_FILE_PATH, sheet_name=\"exact sampling times\")\n",
    "\n",
    "time_correction_df = pd.DataFrame(data=exact_times.iloc[3:12, 3:])\n",
    "time_correction_df.columns = exact_times.loc[2][3:]\n",
    "\n",
    "time_correction_df.reset_index(inplace=True, drop=True)\n",
    "ext_time_corr_df_data =[]\n",
    "for row in time_correction_df.iterrows():\n",
    "    reactor_nr = row[1][\"Reactor\"]\n",
    "    if type(reactor_nr) == int or reactor_nr == \"closing of reactors\":\n",
    "        row[1][\"Reactor\"] = str(reactor_nr)\n",
    "        ext_time_corr_df_data.append(row[1])\n",
    "    else:\n",
    "        reactor_nr = (row[1][\"Reactor\"]).split(\"+\")\n",
    "        for nr in reactor_nr:\n",
    "            row[1][\"Reactor\"] = nr\n",
    "            ext_time_corr_df_data.append(row[1].copy())\n",
    "ext_time_corr_df = pd.DataFrame(data=ext_time_corr_df_data, columns=exact_times.loc[2][3:])\n",
    "ext_time_corr_df.reset_index(drop=True, inplace=True)\n",
    "print(\"The timer was reset to 0 after the first closing of reactors in the \\\"t = 0\\\"-sampling-step\")\n",
    "ext_time_corr_df.columns = [\"Reactor\", 0, 1, 2, 4, 6, 8, 10, 15]\n",
    "\n",
    "# change time format to minutes and set\n",
    "time_cols = ext_time_corr_df.columns.difference([\"Reactor\"])\n",
    "ext_time_corr_df[time_cols] = ext_time_corr_df[time_cols].apply(lambda x: [change_timeformat_h(d) for d in x])\n",
    "ext_time_corr_df[0] = ext_time_corr_df[0].apply(lambda x: 0 )\n",
    "\n",
    "# set index to reactor\n",
    "ext_time_corr_df.set_index(\"Reactor\", inplace=True)\n",
    "\n",
    "# Sampling 6h and 10h were only used for sec not NMR -> no conversion for these.\n",
    "skip_hours_mask = [True if h not in hours_list else False for h in ext_time_corr_df.columns]\n",
    "ext_time_corr_df.drop(columns=time_cols[skip_hours_mask], inplace=True)\n",
    "\n",
    "ext_time_corr_df\n",
    "\n"
   ],
   "metadata": {
    "collapsed": false,
    "pycharm": {
     "name": "#%%\n"
    }
   }
  },
  {
   "cell_type": "code",
   "execution_count": 30,
   "outputs": [],
   "source": [
    "# plotting the kinetic curves of the RAFT polymerization\n",
    "# generate a reformatted table with a entries per sample analysis taken described with a column of the right time\n",
    "\n",
    "# create a dataframe with just the information needed to append to\n",
    "kinetic_curves = []\n",
    "for index, polymerisation_kinetic in srt.df.iterrows():\n",
    "    # get the right hours list\n",
    "    # polymerisation_kinetic[\"reactor\"]\n",
    "\n",
    "    kinetic_curve_entries = pd.DataFrame(\n",
    "        {\"conversion\" : polymerisation_kinetic[conversion_list], \"time\" : hours_list, \"reactor\" : polymerisation_kinetic[\"reactor\"]})\n",
    "    kinetic_curve_entries[\"experiment\"] = str(index)+\"_\"+polymerisation_kinetic[\"monomer\"]+\"_\"+polymerisation_kinetic[\"RAFT-Agent\"]+\"_\"+polymerisation_kinetic[\"solvent\"]\n",
    "\n",
    "    # the times are dependent on the current reactor, get current\n",
    "    current_reactor_nr = str(polymerisation_kinetic[\"reactor\"])\n",
    "    current_time_list = ext_time_corr_df.loc[current_reactor_nr]\n",
    "    kinetic_curve_entries[\"time\"] = list(current_time_list)\n",
    "\n",
    "    kinetic_curves.append(kinetic_curve_entries)\n",
    "\n",
    "kinetic_curves_df = pd.concat(kinetic_curves)"
   ],
   "metadata": {
    "collapsed": false,
    "pycharm": {
     "name": "#%%\n"
    }
   }
  },
  {
   "cell_type": "code",
   "execution_count": 31,
   "outputs": [
    {
     "data": {
      "text/plain": "317"
     },
     "execution_count": 31,
     "metadata": {},
     "output_type": "execute_result"
    }
   ],
   "source": [
    "len(kinetic_curves) # was 325 before getting away the average below 0.1, now its 317\n",
    "# kinetic_curves[1][\"experiment\"].iloc[1]\n",
    "# px.line(kinetic_curves_df[:20], x=\"time\", y=\"conversion\", color=\"experiment\")"
   ],
   "metadata": {
    "collapsed": false,
    "pycharm": {
     "name": "#%%\n"
    }
   }
  },
  {
   "cell_type": "code",
   "execution_count": 32,
   "outputs": [
    {
     "name": "stdout",
     "output_type": "stream",
     "text": [
      "visualisation of the functions\n"
     ]
    }
   ],
   "source": [
    "# and fit curve and the derivation\n",
    "# find the maximum of the derivation\n",
    "\n",
    "'''\n",
    "deprecated: more theoretical accurate version but practically worse applicable\n",
    "    # L is responsible for scaling the output range from [0,1] to [0,L]\n",
    "    # b\n",
    "    # k is responsible for scaling the input, which remains in (-inf,inf)\n",
    "    # x0\n",
    "def sigmoid (x, L ,x0, k, b):\n",
    "    y = L / (1 + np.exp(-k*(x-x0)))+b\n",
    "    return (y)\n",
    "\n",
    "\n",
    "def sigmoid_derivative(x, L ,x0, k, b): # ToDo: check if this is the correct derivative\n",
    "    y = (L*k*np.exp(-k*(x-x0)))/((np.exp(-k*(x-x0))+1)**2)\n",
    "    return (y)\n",
    "'''\n",
    "def neg_growth(x, L, k):\n",
    "    y = L * (1 - np.exp(k*(-x)))\n",
    "    return y\n",
    "\n",
    "def neg_growth_derivative(x, L, k):\n",
    "    y = L * k * np.exp(k*(-x))\n",
    "    return y\n",
    "\n",
    "def linear_growth(x, m):\n",
    "    y = m * x\n",
    "    return y\n",
    "\n",
    "def linear_growth_derivative(x, m):\n",
    "    return m\n",
    "\n",
    "xrange = np.arange(-0.2, 5, 0.1)\n",
    "example_fig = px.line()\n",
    "for testparams in ([1,1], [2,1], [1,2]):\n",
    "    example_fig.add_scatter(x=xrange, y=neg_growth(xrange, *testparams))\n",
    "    example_fig.add_scatter(x=xrange, y=neg_growth_derivative(xrange, *testparams), opacity=0.5, line=dict(dash=\"dot\"))\n",
    "\n",
    "print(\"visualisation of the functions\")\n",
    "# example_fig.show()"
   ],
   "metadata": {
    "collapsed": false,
    "pycharm": {
     "name": "#%%\n"
    }
   }
  },
  {
   "cell_type": "code",
   "execution_count": 34,
   "outputs": [
    {
     "name": "stderr",
     "output_type": "stream",
     "text": [
      "C:\\Users\\fo72qev\\AppData\\Local\\mambaforge\\envs\\PFP2\\Lib\\site-packages\\scipy\\optimize\\_minpack_py.py:1010: OptimizeWarning:\n",
      "\n",
      "Covariance of the parameters could not be estimated\n",
      "\n"
     ]
    },
    {
     "name": "stdout",
     "output_type": "stream",
     "text": [
      "[] 0.0\n"
     ]
    },
    {
     "data": {
      "text/plain": "        Experiment  max_conversion reaction_end    fit_p1    fit_p2   p1_err1  \\\n0        0_6_A_DMF        0.516574  yet to calc  0.776540  0.072249  0.002818   \n1       1_6_A_DMSO        0.697321  yet to calc  0.814980  0.128174  0.000055   \n2        2_6_A_Tol        0.323281  yet to calc  1.000000  0.025778  0.004197   \n3        3_7_A_DMF        0.565125  yet to calc  0.953088  0.059934  0.009147   \n4       4_7_A_DMSO        0.790565  yet to calc  1.000000  0.097675  0.004018   \n..             ...             ...          ...       ...       ...       ...   \n309    312_9_E_DMF        0.734328  yet to calc  0.796486  0.165271  0.000009   \n310   313_9_E_DMSO        0.546547  yet to calc  0.929680  0.204371  0.000025   \n311    314_9_E_Tol        0.360000  yet to calc  0.383237  0.197675  0.000560   \n312   315_10_E_DMF        0.840426  yet to calc  0.928939  0.154520  0.001383   \n313  316_10_E_DMSO        1.000000  yet to calc  1.000000  0.356366  0.012476   \n\n      p1_err2   p2_err1   p2_err2  squared_error  \\\n0   -0.000396 -0.000396  0.000057   1.948374e-04   \n1   -0.000016 -0.000016  0.000005   2.663440e-05   \n2   -0.000128 -0.000128  0.000004   3.354045e-06   \n3   -0.000816 -0.000816  0.000074   4.525607e-04   \n4   -0.000699 -0.000699  0.000129   6.790071e-04   \n..        ...       ...       ...            ...   \n309 -0.000004 -0.000004  0.000002   1.305254e-05   \n310 -0.000008 -0.000008  0.000002   4.779775e-07   \n311 -0.000579 -0.000579  0.000826   1.283833e-03   \n312 -0.000441 -0.000441  0.000173   1.803572e-03   \n313 -0.009427 -0.009427  0.013574   7.115907e-02   \n\n                                                 xdata  \\\n0    [0.0, 2.011111111111111, 4.018055555555556, 8....   \n1    [0.0, 2.011111111111111, 4.018055555555556, 8....   \n2    [0.0, 4.0777777777777775, 8.090277777777779, 1...   \n3    [0.0, 1.073611111111111, 2.0680555555555555, 4...   \n4    [0.0, 1.1319444444444444, 2.125, 8.18055555555...   \n..                                                 ...   \n309  [0.0, 1.2513888888888889, 2.2416666666666667, ...   \n310  [0.0, 1.3125, 2.301388888888889, 4.33611111111...   \n311  [0.0, 1.3125, 2.301388888888889, 4.33611111111...   \n312  [0.0, 1.3736111111111111, 2.3694444444444445, ...   \n313  [0.0, 1.3736111111111111, 2.3694444444444445, ...   \n\n                                                 ydata  \n0    [0.0, 0.10436494913029215, 0.2057761732851986,...  \n1    [0.0, 0.18921601058551107, 0.327820046311611, ...  \n2    [0.0, 0.09824902723735407, 0.1877431906614786,...  \n3    [0.0, 0.06908094948265364, 0.09403530127814974...  \n4    [0.0, 0.11448317307692302, 0.18088942307692302...  \n..                                                 ...  \n309  [0.0, 0.14925373134328357, 0.24477611940298516...  \n310  [0.0, 0.21921921921921916, 0.3483483483483484,...  \n311  [0.0, 0.11142857142857143, 0.11714285714285722...  \n312  [0.0, 0.14893617021276595, 0.2695035460992907,...  \n313  [0.0, 0.2989690721649485, 0.4364261168384881, ...  \n\n[314 rows x 12 columns]",
      "text/html": "<div>\n<style scoped>\n    .dataframe tbody tr th:only-of-type {\n        vertical-align: middle;\n    }\n\n    .dataframe tbody tr th {\n        vertical-align: top;\n    }\n\n    .dataframe thead th {\n        text-align: right;\n    }\n</style>\n<table border=\"1\" class=\"dataframe\">\n  <thead>\n    <tr style=\"text-align: right;\">\n      <th></th>\n      <th>Experiment</th>\n      <th>max_conversion</th>\n      <th>reaction_end</th>\n      <th>fit_p1</th>\n      <th>fit_p2</th>\n      <th>p1_err1</th>\n      <th>p1_err2</th>\n      <th>p2_err1</th>\n      <th>p2_err2</th>\n      <th>squared_error</th>\n      <th>xdata</th>\n      <th>ydata</th>\n    </tr>\n  </thead>\n  <tbody>\n    <tr>\n      <th>0</th>\n      <td>0_6_A_DMF</td>\n      <td>0.516574</td>\n      <td>yet to calc</td>\n      <td>0.776540</td>\n      <td>0.072249</td>\n      <td>0.002818</td>\n      <td>-0.000396</td>\n      <td>-0.000396</td>\n      <td>0.000057</td>\n      <td>1.948374e-04</td>\n      <td>[0.0, 2.011111111111111, 4.018055555555556, 8....</td>\n      <td>[0.0, 0.10436494913029215, 0.2057761732851986,...</td>\n    </tr>\n    <tr>\n      <th>1</th>\n      <td>1_6_A_DMSO</td>\n      <td>0.697321</td>\n      <td>yet to calc</td>\n      <td>0.814980</td>\n      <td>0.128174</td>\n      <td>0.000055</td>\n      <td>-0.000016</td>\n      <td>-0.000016</td>\n      <td>0.000005</td>\n      <td>2.663440e-05</td>\n      <td>[0.0, 2.011111111111111, 4.018055555555556, 8....</td>\n      <td>[0.0, 0.18921601058551107, 0.327820046311611, ...</td>\n    </tr>\n    <tr>\n      <th>2</th>\n      <td>2_6_A_Tol</td>\n      <td>0.323281</td>\n      <td>yet to calc</td>\n      <td>1.000000</td>\n      <td>0.025778</td>\n      <td>0.004197</td>\n      <td>-0.000128</td>\n      <td>-0.000128</td>\n      <td>0.000004</td>\n      <td>3.354045e-06</td>\n      <td>[0.0, 4.0777777777777775, 8.090277777777779, 1...</td>\n      <td>[0.0, 0.09824902723735407, 0.1877431906614786,...</td>\n    </tr>\n    <tr>\n      <th>3</th>\n      <td>3_7_A_DMF</td>\n      <td>0.565125</td>\n      <td>yet to calc</td>\n      <td>0.953088</td>\n      <td>0.059934</td>\n      <td>0.009147</td>\n      <td>-0.000816</td>\n      <td>-0.000816</td>\n      <td>0.000074</td>\n      <td>4.525607e-04</td>\n      <td>[0.0, 1.073611111111111, 2.0680555555555555, 4...</td>\n      <td>[0.0, 0.06908094948265364, 0.09403530127814974...</td>\n    </tr>\n    <tr>\n      <th>4</th>\n      <td>4_7_A_DMSO</td>\n      <td>0.790565</td>\n      <td>yet to calc</td>\n      <td>1.000000</td>\n      <td>0.097675</td>\n      <td>0.004018</td>\n      <td>-0.000699</td>\n      <td>-0.000699</td>\n      <td>0.000129</td>\n      <td>6.790071e-04</td>\n      <td>[0.0, 1.1319444444444444, 2.125, 8.18055555555...</td>\n      <td>[0.0, 0.11448317307692302, 0.18088942307692302...</td>\n    </tr>\n    <tr>\n      <th>...</th>\n      <td>...</td>\n      <td>...</td>\n      <td>...</td>\n      <td>...</td>\n      <td>...</td>\n      <td>...</td>\n      <td>...</td>\n      <td>...</td>\n      <td>...</td>\n      <td>...</td>\n      <td>...</td>\n      <td>...</td>\n    </tr>\n    <tr>\n      <th>309</th>\n      <td>312_9_E_DMF</td>\n      <td>0.734328</td>\n      <td>yet to calc</td>\n      <td>0.796486</td>\n      <td>0.165271</td>\n      <td>0.000009</td>\n      <td>-0.000004</td>\n      <td>-0.000004</td>\n      <td>0.000002</td>\n      <td>1.305254e-05</td>\n      <td>[0.0, 1.2513888888888889, 2.2416666666666667, ...</td>\n      <td>[0.0, 0.14925373134328357, 0.24477611940298516...</td>\n    </tr>\n    <tr>\n      <th>310</th>\n      <td>313_9_E_DMSO</td>\n      <td>0.546547</td>\n      <td>yet to calc</td>\n      <td>0.929680</td>\n      <td>0.204371</td>\n      <td>0.000025</td>\n      <td>-0.000008</td>\n      <td>-0.000008</td>\n      <td>0.000002</td>\n      <td>4.779775e-07</td>\n      <td>[0.0, 1.3125, 2.301388888888889, 4.33611111111...</td>\n      <td>[0.0, 0.21921921921921916, 0.3483483483483484,...</td>\n    </tr>\n    <tr>\n      <th>311</th>\n      <td>314_9_E_Tol</td>\n      <td>0.360000</td>\n      <td>yet to calc</td>\n      <td>0.383237</td>\n      <td>0.197675</td>\n      <td>0.000560</td>\n      <td>-0.000579</td>\n      <td>-0.000579</td>\n      <td>0.000826</td>\n      <td>1.283833e-03</td>\n      <td>[0.0, 1.3125, 2.301388888888889, 4.33611111111...</td>\n      <td>[0.0, 0.11142857142857143, 0.11714285714285722...</td>\n    </tr>\n    <tr>\n      <th>312</th>\n      <td>315_10_E_DMF</td>\n      <td>0.840426</td>\n      <td>yet to calc</td>\n      <td>0.928939</td>\n      <td>0.154520</td>\n      <td>0.001383</td>\n      <td>-0.000441</td>\n      <td>-0.000441</td>\n      <td>0.000173</td>\n      <td>1.803572e-03</td>\n      <td>[0.0, 1.3736111111111111, 2.3694444444444445, ...</td>\n      <td>[0.0, 0.14893617021276595, 0.2695035460992907,...</td>\n    </tr>\n    <tr>\n      <th>313</th>\n      <td>316_10_E_DMSO</td>\n      <td>1.000000</td>\n      <td>yet to calc</td>\n      <td>1.000000</td>\n      <td>0.356366</td>\n      <td>0.012476</td>\n      <td>-0.009427</td>\n      <td>-0.009427</td>\n      <td>0.013574</td>\n      <td>7.115907e-02</td>\n      <td>[0.0, 1.3736111111111111, 2.3694444444444445, ...</td>\n      <td>[0.0, 0.2989690721649485, 0.4364261168384881, ...</td>\n    </tr>\n  </tbody>\n</table>\n<p>314 rows × 12 columns</p>\n</div>"
     },
     "execution_count": 34,
     "metadata": {},
     "output_type": "execute_result"
    }
   ],
   "source": [
    "fig = px.line(title=\"Kinetic Curve Fit\", labels={\"x\":\"time\", \"y\":\"conversion\"})\n",
    "hard_to_fit = [] # array for kinetic fits that meet a filter criteria further down the code\n",
    "colors = px.colors.qualitative.Plotly # set up a simple color palette\n",
    "extended_xdata = np.linspace(-1, 16.5, 100) # x data array for\n",
    "\n",
    "# create new dataframe with kinetics per row\n",
    "# kinetic_curve_columns = [\"Experiment\", \"max_conversion\", \"reaction_end\", \"squared_error\"]\n",
    "kinetics_df = pd.DataFrame()\n",
    "\n",
    "def add_fits_to_plot(fit_func, fit_func_derivative, fit_func_params, marker_dic):\n",
    "    fig.add_scatter(\n",
    "        x=extended_xdata, y=fit_func(extended_xdata, *fit_func_params),\n",
    "        opacity=1, line=dict(dash=\"dot\"), name=f\"{fit_func.__name__} fit\", marker=marker_dic)\n",
    "    fig.add_scatter(\n",
    "        x=extended_xdata, y=fit_func_derivative(extended_xdata, *fit_func_params),\n",
    "        opacity=0.3, line=dict(dash=\"dash\"), name=f\"{fit_func_derivative.__name__}\", marker=marker_dic)\n",
    "\n",
    "def fit_and_exclude_outliers(x, y, fit_func, p0, bounds, nan_policy=\"omit\", iteration=1, outliers=None):\n",
    "    outliers = outliers if outliers is not None else []\n",
    "\n",
    "    cf_data = curve_fit(f=fit_func, xdata=x, ydata=y, p0=p0, nan_policy=nan_policy, maxfev=800 * 10, bounds=bounds)\n",
    "\n",
    "    # calculate the fit points\n",
    "    fit_points = np.array([fit_func(x, *cf_data[0]) for x in x])\n",
    "    # calculate the standard deviation of the residuals between the fit and the datapoints\n",
    "    sigma = np.std(fit_points - y)\n",
    "\n",
    "    # exclude the outliers\n",
    "    mask = ~(np.abs(fit_points - y) > 2 * sigma)\n",
    "    if not mask.all():\n",
    "        return fit_and_exclude_outliers(x=x[mask], y=y[mask], fit_func=fit_func, p0=cf_data[0], bounds=bounds, nan_policy=nan_policy, iteration=iteration+1, outliers=outliers + [x[~mask]])\n",
    "\n",
    "    result = {\"x\": x, \"y\": y, \"p_opt\" : cf_data[0], \"p_cov\" : cf_data[1], \"excluded_points\" : (x[~mask],y[~mask]), \"iteration\" : iteration, \"outliers\" : outliers}\n",
    "    return result\n",
    "\n",
    "for idx, kinetic_curve in enumerate(kinetic_curves):\n",
    "    # first make sure the datapoints are in the right format and not sometimes int sometimes float\n",
    "    ydata = np.array(kinetic_curve[\"conversion\"].values, dtype=float)\n",
    "    xdata = np.array(kinetic_curve[\"time\"].values, dtype=float)\n",
    "    # exclude the nan values from the data\n",
    "    mask = ~np.isnan(ydata)\n",
    "    xdata, ydata = xdata[mask], ydata[mask]\n",
    "\n",
    "\n",
    "    # choosing a few test function\n",
    "    # if not idx in (316, 301, 302):\n",
    "    #     continue\n",
    "\n",
    "    # fitting section\n",
    "    p0 = [max(ydata), 0.1] # this is a mandatory initial guess\n",
    "    ng_fit = fit_and_exclude_outliers(x=xdata, y=ydata, fit_func=neg_growth, p0=p0, bounds=([0, -np.inf], [1, np.inf]))\n",
    "        # f=neg_growth, xdata=xdata, ydata=ydata, p0=p0, nan_policy=\"omit\", maxfev=800*10, bounds=([0, -np.inf], [1, np.inf]))\n",
    "    popt, pcov = ng_fit[\"p_opt\"], ng_fit[\"p_cov\"]\n",
    "    ydata, xdata = ng_fit[\"y\"], ng_fit[\"x\"]\n",
    "\n",
    "    # if ng_fit[\"iteration\"] > 1:\n",
    "    #     print(idx, ng_fit[\"p_cov\"])\n",
    "\n",
    "        # fit with linear growth\n",
    "    p0_l = [max(ydata)/7]\n",
    "    l_fit = fit_and_exclude_outliers(x=xdata, y=ydata, fit_func=linear_growth, p0=p0_l, bounds=([0], [np.inf]))\n",
    "    popt_l, pcov_l = l_fit[\"p_opt\"], l_fit[\"p_cov\"]\n",
    "\n",
    "    # calculate the squared error of fit and data points\n",
    "    y_st =[]\n",
    "    x_st = []\n",
    "    for y_val, x_val in zip(ydata, xdata):\n",
    "        if np.isnan(y_val) or np.isnan(x_val):\n",
    "            continue\n",
    "        y_st.append(y_val)\n",
    "        x_st.append(x_val)\n",
    "    y_st = np.array(y_st)\n",
    "    x_st = np.array(x_st)\n",
    "    squared_error = np.sum((y_st - neg_growth(x_st, *popt))**2)\n",
    "    # print(\"{:.6f}\".format(squared_error), str(idx) + \": The optimal parameters are \" + \" and \".join(\"%.3f\" % x for x in popt) + \". The variance is \" + \" and respectively \".join(\"{:.3f} {:.3f}\".format(x, y) for x, y in pcov) + \".\")\n",
    "\n",
    "    # ToDo: fill new dataframe\n",
    "    new_row = pd.DataFrame({\"Experiment\":kinetic_curve[\"experiment\"].iloc[1], \"max_conversion\":max(ydata),\n",
    "                        \"reaction_end\":\"yet to calc\", \"fit_p1\":[popt[0]],\"fit_p2\":[popt[1]],\n",
    "                            \"p1_err1\":[pcov[0][0]],\"p1_err2\":[pcov[0][1]],\"p2_err1\":[pcov[1][0]],\"p2_err2\":[pcov[1][1]], \"squared_error\":squared_error, \"xdata\":[xdata], \"ydata\":[ydata]})\n",
    "    kinetics_df = pd.concat([kinetics_df, new_row])\n",
    "\n",
    "    # filter for inspection\n",
    "    # if not ((popt[1]) < 0.001).any(): continue\n",
    "    # hard_to_fit.append(idx)\n",
    "\n",
    "''' comment out if no plot is needed.\n",
    "    marker_dict = dict(color=colors[idx%len(colors)]) # set same colors per kinetic\n",
    "    fig.add_scatter(x=xdata, y=ydata, mode=\"lines+markers\", opacity=1, name=kinetic_curve[\"experiment\"].iloc[1], marker=marker_dict)\n",
    "    add_fits_to_plot(neg_growth, neg_growth_derivative, popt, marker_dict)\n",
    "    # add_fits_to_plot(linear_growth, linear_growth_derivative, [popt_l], marker_dict)\n",
    "\n",
    "\n",
    "fig.update_layout(\n",
    "    yaxis=dict(\n",
    "        range=[-0.1,1]\n",
    "    ),\n",
    "    xaxis_title=\"Time [h]\",\n",
    "    yaxis_title=\"Conversion [%]\"\n",
    ")\n",
    "fig.show()\n",
    "# '''\n",
    "\n",
    "print(hard_to_fit, len(hard_to_fit)/len(kinetic_curves))\n",
    "kinetics_df.reset_index(drop=True, inplace=True)\n",
    "kinetics_df.drop(axis=\"index\", index=kinetics_df[kinetics_df[\"max_conversion\"] <= 0].index, inplace=True)\n",
    "kinetics_df.reset_index(drop=True, inplace=True)\n",
    "kinetics_df"
   ],
   "metadata": {
    "collapsed": false,
    "pycharm": {
     "name": "#%%\n"
    }
   }
  },
  {
   "cell_type": "code",
   "execution_count": 35,
   "outputs": [
    {
     "data": {
      "text/plain": "        Experiment  max_conversion reaction_end    fit_p1    fit_p2  \\\n0        0_6_A_DMF        0.516574  yet to calc  0.776540  0.072249   \n1       1_6_A_DMSO        0.697321  yet to calc  0.814980  0.128174   \n2        2_6_A_Tol        0.323281  yet to calc  1.000000  0.025778   \n3        3_7_A_DMF        0.565125  yet to calc  0.953088  0.059934   \n4       4_7_A_DMSO        0.790565  yet to calc  1.000000  0.097675   \n..             ...             ...          ...       ...       ...   \n309    312_9_E_DMF        0.734328  yet to calc  0.796486  0.165271   \n310   313_9_E_DMSO        0.546547  yet to calc  0.929680  0.204371   \n311    314_9_E_Tol        0.360000  yet to calc  0.383237  0.197675   \n312   315_10_E_DMF        0.840426  yet to calc  0.928939  0.154520   \n313  316_10_E_DMSO        1.000000  yet to calc  1.000000  0.356366   \n\n          p1_err1       p1_err2       p2_err1       p2_err2  squared_error  \\\n0    1.311623e-06 -1.871387e-07 -1.871387e-07  2.106476e-18       0.021570   \n1    2.564319e-08 -7.581180e-09 -7.581180e-09  1.941992e-19       0.002949   \n2    1.953369e-06 -6.027800e-08 -6.027800e-08  1.423882e-19       0.000371   \n3    4.257136e-06 -3.856118e-07 -3.856118e-07  2.726124e-18       0.050102   \n4    1.870001e-06 -3.304640e-07 -3.304640e-07  4.740432e-18       0.075172   \n..            ...           ...           ...           ...            ...   \n309  4.073759e-09 -1.669983e-09 -1.669983e-09  6.595966e-20       0.001445   \n310  1.150770e-08 -3.661012e-09 -3.661012e-09  9.053404e-20       0.000053   \n311  2.606338e-07 -2.736153e-07 -2.736153e-07  3.025748e-17       0.142131   \n312  6.437870e-07 -2.082873e-07 -2.082873e-07  6.333258e-18       0.199671   \n313  5.806635e-06 -4.455254e-06 -4.455254e-06  4.973173e-16       7.877905   \n\n                                                 xdata  \\\n0    [0.0, 2.011111111111111, 4.018055555555556, 8....   \n1    [0.0, 2.011111111111111, 4.018055555555556, 8....   \n2    [0.0, 4.0777777777777775, 8.090277777777779, 1...   \n3    [0.0, 1.073611111111111, 2.0680555555555555, 4...   \n4    [0.0, 1.1319444444444444, 2.125, 8.18055555555...   \n..                                                 ...   \n309  [0.0, 1.2513888888888889, 2.2416666666666667, ...   \n310  [0.0, 1.3125, 2.301388888888889, 4.33611111111...   \n311  [0.0, 1.3125, 2.301388888888889, 4.33611111111...   \n312  [0.0, 1.3736111111111111, 2.3694444444444445, ...   \n313  [0.0, 1.3736111111111111, 2.3694444444444445, ...   \n\n                                                 ydata  \n0    [0.0, 0.10436494913029215, 0.2057761732851986,...  \n1    [0.0, 0.18921601058551107, 0.327820046311611, ...  \n2    [0.0, 0.09824902723735407, 0.1877431906614786,...  \n3    [0.0, 0.06908094948265364, 0.09403530127814974...  \n4    [0.0, 0.11448317307692302, 0.18088942307692302...  \n..                                                 ...  \n309  [0.0, 0.14925373134328357, 0.24477611940298516...  \n310  [0.0, 0.21921921921921916, 0.3483483483483484,...  \n311  [0.0, 0.11142857142857143, 0.11714285714285722...  \n312  [0.0, 0.14893617021276595, 0.2695035460992907,...  \n313  [0.0, 0.2989690721649485, 0.4364261168384881, ...  \n\n[314 rows x 12 columns]",
      "text/html": "<div>\n<style scoped>\n    .dataframe tbody tr th:only-of-type {\n        vertical-align: middle;\n    }\n\n    .dataframe tbody tr th {\n        vertical-align: top;\n    }\n\n    .dataframe thead th {\n        text-align: right;\n    }\n</style>\n<table border=\"1\" class=\"dataframe\">\n  <thead>\n    <tr style=\"text-align: right;\">\n      <th></th>\n      <th>Experiment</th>\n      <th>max_conversion</th>\n      <th>reaction_end</th>\n      <th>fit_p1</th>\n      <th>fit_p2</th>\n      <th>p1_err1</th>\n      <th>p1_err2</th>\n      <th>p2_err1</th>\n      <th>p2_err2</th>\n      <th>squared_error</th>\n      <th>xdata</th>\n      <th>ydata</th>\n    </tr>\n  </thead>\n  <tbody>\n    <tr>\n      <th>0</th>\n      <td>0_6_A_DMF</td>\n      <td>0.516574</td>\n      <td>yet to calc</td>\n      <td>0.776540</td>\n      <td>0.072249</td>\n      <td>1.311623e-06</td>\n      <td>-1.871387e-07</td>\n      <td>-1.871387e-07</td>\n      <td>2.106476e-18</td>\n      <td>0.021570</td>\n      <td>[0.0, 2.011111111111111, 4.018055555555556, 8....</td>\n      <td>[0.0, 0.10436494913029215, 0.2057761732851986,...</td>\n    </tr>\n    <tr>\n      <th>1</th>\n      <td>1_6_A_DMSO</td>\n      <td>0.697321</td>\n      <td>yet to calc</td>\n      <td>0.814980</td>\n      <td>0.128174</td>\n      <td>2.564319e-08</td>\n      <td>-7.581180e-09</td>\n      <td>-7.581180e-09</td>\n      <td>1.941992e-19</td>\n      <td>0.002949</td>\n      <td>[0.0, 2.011111111111111, 4.018055555555556, 8....</td>\n      <td>[0.0, 0.18921601058551107, 0.327820046311611, ...</td>\n    </tr>\n    <tr>\n      <th>2</th>\n      <td>2_6_A_Tol</td>\n      <td>0.323281</td>\n      <td>yet to calc</td>\n      <td>1.000000</td>\n      <td>0.025778</td>\n      <td>1.953369e-06</td>\n      <td>-6.027800e-08</td>\n      <td>-6.027800e-08</td>\n      <td>1.423882e-19</td>\n      <td>0.000371</td>\n      <td>[0.0, 4.0777777777777775, 8.090277777777779, 1...</td>\n      <td>[0.0, 0.09824902723735407, 0.1877431906614786,...</td>\n    </tr>\n    <tr>\n      <th>3</th>\n      <td>3_7_A_DMF</td>\n      <td>0.565125</td>\n      <td>yet to calc</td>\n      <td>0.953088</td>\n      <td>0.059934</td>\n      <td>4.257136e-06</td>\n      <td>-3.856118e-07</td>\n      <td>-3.856118e-07</td>\n      <td>2.726124e-18</td>\n      <td>0.050102</td>\n      <td>[0.0, 1.073611111111111, 2.0680555555555555, 4...</td>\n      <td>[0.0, 0.06908094948265364, 0.09403530127814974...</td>\n    </tr>\n    <tr>\n      <th>4</th>\n      <td>4_7_A_DMSO</td>\n      <td>0.790565</td>\n      <td>yet to calc</td>\n      <td>1.000000</td>\n      <td>0.097675</td>\n      <td>1.870001e-06</td>\n      <td>-3.304640e-07</td>\n      <td>-3.304640e-07</td>\n      <td>4.740432e-18</td>\n      <td>0.075172</td>\n      <td>[0.0, 1.1319444444444444, 2.125, 8.18055555555...</td>\n      <td>[0.0, 0.11448317307692302, 0.18088942307692302...</td>\n    </tr>\n    <tr>\n      <th>...</th>\n      <td>...</td>\n      <td>...</td>\n      <td>...</td>\n      <td>...</td>\n      <td>...</td>\n      <td>...</td>\n      <td>...</td>\n      <td>...</td>\n      <td>...</td>\n      <td>...</td>\n      <td>...</td>\n      <td>...</td>\n    </tr>\n    <tr>\n      <th>309</th>\n      <td>312_9_E_DMF</td>\n      <td>0.734328</td>\n      <td>yet to calc</td>\n      <td>0.796486</td>\n      <td>0.165271</td>\n      <td>4.073759e-09</td>\n      <td>-1.669983e-09</td>\n      <td>-1.669983e-09</td>\n      <td>6.595966e-20</td>\n      <td>0.001445</td>\n      <td>[0.0, 1.2513888888888889, 2.2416666666666667, ...</td>\n      <td>[0.0, 0.14925373134328357, 0.24477611940298516...</td>\n    </tr>\n    <tr>\n      <th>310</th>\n      <td>313_9_E_DMSO</td>\n      <td>0.546547</td>\n      <td>yet to calc</td>\n      <td>0.929680</td>\n      <td>0.204371</td>\n      <td>1.150770e-08</td>\n      <td>-3.661012e-09</td>\n      <td>-3.661012e-09</td>\n      <td>9.053404e-20</td>\n      <td>0.000053</td>\n      <td>[0.0, 1.3125, 2.301388888888889, 4.33611111111...</td>\n      <td>[0.0, 0.21921921921921916, 0.3483483483483484,...</td>\n    </tr>\n    <tr>\n      <th>311</th>\n      <td>314_9_E_Tol</td>\n      <td>0.360000</td>\n      <td>yet to calc</td>\n      <td>0.383237</td>\n      <td>0.197675</td>\n      <td>2.606338e-07</td>\n      <td>-2.736153e-07</td>\n      <td>-2.736153e-07</td>\n      <td>3.025748e-17</td>\n      <td>0.142131</td>\n      <td>[0.0, 1.3125, 2.301388888888889, 4.33611111111...</td>\n      <td>[0.0, 0.11142857142857143, 0.11714285714285722...</td>\n    </tr>\n    <tr>\n      <th>312</th>\n      <td>315_10_E_DMF</td>\n      <td>0.840426</td>\n      <td>yet to calc</td>\n      <td>0.928939</td>\n      <td>0.154520</td>\n      <td>6.437870e-07</td>\n      <td>-2.082873e-07</td>\n      <td>-2.082873e-07</td>\n      <td>6.333258e-18</td>\n      <td>0.199671</td>\n      <td>[0.0, 1.3736111111111111, 2.3694444444444445, ...</td>\n      <td>[0.0, 0.14893617021276595, 0.2695035460992907,...</td>\n    </tr>\n    <tr>\n      <th>313</th>\n      <td>316_10_E_DMSO</td>\n      <td>1.000000</td>\n      <td>yet to calc</td>\n      <td>1.000000</td>\n      <td>0.356366</td>\n      <td>5.806635e-06</td>\n      <td>-4.455254e-06</td>\n      <td>-4.455254e-06</td>\n      <td>4.973173e-16</td>\n      <td>7.877905</td>\n      <td>[0.0, 1.3736111111111111, 2.3694444444444445, ...</td>\n      <td>[0.0, 0.2989690721649485, 0.4364261168384881, ...</td>\n    </tr>\n  </tbody>\n</table>\n<p>314 rows × 12 columns</p>\n</div>"
     },
     "execution_count": 35,
     "metadata": {},
     "output_type": "execute_result"
    }
   ],
   "source": [
    "# normalize the errors by dividing them by their respective standard deviation\n",
    "def normalize_errors(errors):\n",
    "    return errors / np.std(errors)\n",
    "\n",
    "for error in [\"squared_error\", \"p1_err1\", \"p1_err2\", \"p2_err1\", \"p2_err2\"]:\n",
    "    kinetics_df[error] = normalize_errors(kinetics_df[error])\n",
    "\n",
    "kinetics_df"
   ],
   "metadata": {
    "collapsed": false,
    "pycharm": {
     "name": "#%%\n"
    }
   }
  },
  {
   "cell_type": "code",
   "execution_count": 36,
   "outputs": [
    {
     "data": {
      "application/vnd.plotly.v1+json": {
       "data": [
        {
         "alignmentgroup": "True",
         "box": {
          "visible": true
         },
         "hovertemplate": "variable=%{x}<br>value=%{y}<extra></extra>",
         "legendgroup": "",
         "marker": {
          "color": "#636efa"
         },
         "name": "",
         "offsetgroup": "",
         "orientation": "v",
         "points": "all",
         "scalegroup": "True",
         "showlegend": false,
         "x": [
          "squared_error",
          "squared_error",
          "squared_error",
          "squared_error",
          "squared_error",
          "squared_error",
          "squared_error",
          "squared_error",
          "squared_error",
          "squared_error",
          "squared_error",
          "squared_error",
          "squared_error",
          "squared_error",
          "squared_error",
          "squared_error",
          "squared_error",
          "squared_error",
          "squared_error",
          "squared_error",
          "squared_error",
          "squared_error",
          "squared_error",
          "squared_error",
          "squared_error",
          "squared_error",
          "squared_error",
          "squared_error",
          "squared_error",
          "squared_error",
          "squared_error",
          "squared_error",
          "squared_error",
          "squared_error",
          "squared_error",
          "squared_error",
          "squared_error",
          "squared_error",
          "squared_error",
          "squared_error",
          "squared_error",
          "squared_error",
          "squared_error",
          "squared_error",
          "squared_error",
          "squared_error",
          "squared_error",
          "squared_error",
          "squared_error",
          "squared_error",
          "squared_error",
          "squared_error",
          "squared_error",
          "squared_error",
          "squared_error",
          "squared_error",
          "squared_error",
          "squared_error",
          "squared_error",
          "squared_error",
          "squared_error",
          "squared_error",
          "squared_error",
          "squared_error",
          "squared_error",
          "squared_error",
          "squared_error",
          "squared_error",
          "squared_error",
          "squared_error",
          "squared_error",
          "squared_error",
          "squared_error",
          "squared_error",
          "squared_error",
          "squared_error",
          "squared_error",
          "squared_error",
          "squared_error",
          "squared_error",
          "squared_error",
          "squared_error",
          "squared_error",
          "squared_error",
          "squared_error",
          "squared_error",
          "squared_error",
          "squared_error",
          "squared_error",
          "squared_error",
          "squared_error",
          "squared_error",
          "squared_error",
          "squared_error",
          "squared_error",
          "squared_error",
          "squared_error",
          "squared_error",
          "squared_error",
          "squared_error",
          "squared_error",
          "squared_error",
          "squared_error",
          "squared_error",
          "squared_error",
          "squared_error",
          "squared_error",
          "squared_error",
          "squared_error",
          "squared_error",
          "squared_error",
          "squared_error",
          "squared_error",
          "squared_error",
          "squared_error",
          "squared_error",
          "squared_error",
          "squared_error",
          "squared_error",
          "squared_error",
          "squared_error",
          "squared_error",
          "squared_error",
          "squared_error",
          "squared_error",
          "squared_error",
          "squared_error",
          "squared_error",
          "squared_error",
          "squared_error",
          "squared_error",
          "squared_error",
          "squared_error",
          "squared_error",
          "squared_error",
          "squared_error",
          "squared_error",
          "squared_error",
          "squared_error",
          "squared_error",
          "squared_error",
          "squared_error",
          "squared_error",
          "squared_error",
          "squared_error",
          "squared_error",
          "squared_error",
          "squared_error",
          "squared_error",
          "squared_error",
          "squared_error",
          "squared_error",
          "squared_error",
          "squared_error",
          "squared_error",
          "squared_error",
          "squared_error",
          "squared_error",
          "squared_error",
          "squared_error",
          "squared_error",
          "squared_error",
          "squared_error",
          "squared_error",
          "squared_error",
          "squared_error",
          "squared_error",
          "squared_error",
          "squared_error",
          "squared_error",
          "squared_error",
          "squared_error",
          "squared_error",
          "squared_error",
          "squared_error",
          "squared_error",
          "squared_error",
          "squared_error",
          "squared_error",
          "squared_error",
          "squared_error",
          "squared_error",
          "squared_error",
          "squared_error",
          "squared_error",
          "squared_error",
          "squared_error",
          "squared_error",
          "squared_error",
          "squared_error",
          "squared_error",
          "squared_error",
          "squared_error",
          "squared_error",
          "squared_error",
          "squared_error",
          "squared_error",
          "squared_error",
          "squared_error",
          "squared_error",
          "squared_error",
          "squared_error",
          "squared_error",
          "squared_error",
          "squared_error",
          "squared_error",
          "squared_error",
          "squared_error",
          "squared_error",
          "squared_error",
          "squared_error",
          "squared_error",
          "squared_error",
          "squared_error",
          "squared_error",
          "squared_error",
          "squared_error",
          "squared_error",
          "squared_error",
          "squared_error",
          "squared_error",
          "squared_error",
          "squared_error",
          "squared_error",
          "squared_error",
          "squared_error",
          "squared_error",
          "squared_error",
          "squared_error",
          "squared_error",
          "squared_error",
          "squared_error",
          "squared_error",
          "squared_error",
          "squared_error",
          "squared_error",
          "squared_error",
          "squared_error",
          "squared_error",
          "squared_error",
          "squared_error",
          "squared_error",
          "squared_error",
          "squared_error",
          "squared_error",
          "squared_error",
          "squared_error",
          "squared_error",
          "squared_error",
          "squared_error",
          "squared_error",
          "squared_error",
          "squared_error",
          "squared_error",
          "squared_error",
          "squared_error",
          "squared_error",
          "squared_error",
          "squared_error",
          "squared_error",
          "squared_error",
          "squared_error",
          "squared_error",
          "squared_error",
          "squared_error",
          "squared_error",
          "squared_error",
          "squared_error",
          "squared_error",
          "squared_error",
          "squared_error",
          "squared_error",
          "squared_error",
          "squared_error",
          "squared_error",
          "squared_error",
          "squared_error",
          "squared_error",
          "squared_error",
          "squared_error",
          "squared_error",
          "squared_error",
          "squared_error",
          "squared_error",
          "squared_error",
          "squared_error",
          "squared_error",
          "squared_error",
          "squared_error",
          "squared_error",
          "squared_error",
          "squared_error",
          "squared_error",
          "squared_error",
          "squared_error",
          "squared_error",
          "squared_error",
          "squared_error",
          "squared_error",
          "squared_error",
          "squared_error",
          "squared_error",
          "squared_error",
          "squared_error",
          "squared_error",
          "squared_error",
          "squared_error",
          "squared_error",
          "squared_error",
          "squared_error",
          "squared_error",
          "squared_error",
          "squared_error",
          "squared_error",
          "p1_err1",
          "p1_err1",
          "p1_err1",
          "p1_err1",
          "p1_err1",
          "p1_err1",
          "p1_err1",
          "p1_err1",
          "p1_err1",
          "p1_err1",
          "p1_err1",
          "p1_err1",
          "p1_err1",
          "p1_err1",
          "p1_err1",
          "p1_err1",
          "p1_err1",
          "p1_err1",
          "p1_err1",
          "p1_err1",
          "p1_err1",
          "p1_err1",
          "p1_err1",
          "p1_err1",
          "p1_err1",
          "p1_err1",
          "p1_err1",
          "p1_err1",
          "p1_err1",
          "p1_err1",
          "p1_err1",
          "p1_err1",
          "p1_err1",
          "p1_err1",
          "p1_err1",
          "p1_err1",
          "p1_err1",
          "p1_err1",
          "p1_err1",
          "p1_err1",
          "p1_err1",
          "p1_err1",
          "p1_err1",
          "p1_err1",
          "p1_err1",
          "p1_err1",
          "p1_err1",
          "p1_err1",
          "p1_err1",
          "p1_err1",
          "p1_err1",
          "p1_err1",
          "p1_err1",
          "p1_err1",
          "p1_err1",
          "p1_err1",
          "p1_err1",
          "p1_err1",
          "p1_err1",
          "p1_err1",
          "p1_err1",
          "p1_err1",
          "p1_err1",
          "p1_err1",
          "p1_err1",
          "p1_err1",
          "p1_err1",
          "p1_err1",
          "p1_err1",
          "p1_err1",
          "p1_err1",
          "p1_err1",
          "p1_err1",
          "p1_err1",
          "p1_err1",
          "p1_err1",
          "p1_err1",
          "p1_err1",
          "p1_err1",
          "p1_err1",
          "p1_err1",
          "p1_err1",
          "p1_err1",
          "p1_err1",
          "p1_err1",
          "p1_err1",
          "p1_err1",
          "p1_err1",
          "p1_err1",
          "p1_err1",
          "p1_err1",
          "p1_err1",
          "p1_err1",
          "p1_err1",
          "p1_err1",
          "p1_err1",
          "p1_err1",
          "p1_err1",
          "p1_err1",
          "p1_err1",
          "p1_err1",
          "p1_err1",
          "p1_err1",
          "p1_err1",
          "p1_err1",
          "p1_err1",
          "p1_err1",
          "p1_err1",
          "p1_err1",
          "p1_err1",
          "p1_err1",
          "p1_err1",
          "p1_err1",
          "p1_err1",
          "p1_err1",
          "p1_err1",
          "p1_err1",
          "p1_err1",
          "p1_err1",
          "p1_err1",
          "p1_err1",
          "p1_err1",
          "p1_err1",
          "p1_err1",
          "p1_err1",
          "p1_err1",
          "p1_err1",
          "p1_err1",
          "p1_err1",
          "p1_err1",
          "p1_err1",
          "p1_err1",
          "p1_err1",
          "p1_err1",
          "p1_err1",
          "p1_err1",
          "p1_err1",
          "p1_err1",
          "p1_err1",
          "p1_err1",
          "p1_err1",
          "p1_err1",
          "p1_err1",
          "p1_err1",
          "p1_err1",
          "p1_err1",
          "p1_err1",
          "p1_err1",
          "p1_err1",
          "p1_err1",
          "p1_err1",
          "p1_err1",
          "p1_err1",
          "p1_err1",
          "p1_err1",
          "p1_err1",
          "p1_err1",
          "p1_err1",
          "p1_err1",
          "p1_err1",
          "p1_err1",
          "p1_err1",
          "p1_err1",
          "p1_err1",
          "p1_err1",
          "p1_err1",
          "p1_err1",
          "p1_err1",
          "p1_err1",
          "p1_err1",
          "p1_err1",
          "p1_err1",
          "p1_err1",
          "p1_err1",
          "p1_err1",
          "p1_err1",
          "p1_err1",
          "p1_err1",
          "p1_err1",
          "p1_err1",
          "p1_err1",
          "p1_err1",
          "p1_err1",
          "p1_err1",
          "p1_err1",
          "p1_err1",
          "p1_err1",
          "p1_err1",
          "p1_err1",
          "p1_err1",
          "p1_err1",
          "p1_err1",
          "p1_err1",
          "p1_err1",
          "p1_err1",
          "p1_err1",
          "p1_err1",
          "p1_err1",
          "p1_err1",
          "p1_err1",
          "p1_err1",
          "p1_err1",
          "p1_err1",
          "p1_err1",
          "p1_err1",
          "p1_err1",
          "p1_err1",
          "p1_err1",
          "p1_err1",
          "p1_err1",
          "p1_err1",
          "p1_err1",
          "p1_err1",
          "p1_err1",
          "p1_err1",
          "p1_err1",
          "p1_err1",
          "p1_err1",
          "p1_err1",
          "p1_err1",
          "p1_err1",
          "p1_err1",
          "p1_err1",
          "p1_err1",
          "p1_err1",
          "p1_err1",
          "p1_err1",
          "p1_err1",
          "p1_err1",
          "p1_err1",
          "p1_err1",
          "p1_err1",
          "p1_err1",
          "p1_err1",
          "p1_err1",
          "p1_err1",
          "p1_err1",
          "p1_err1",
          "p1_err1",
          "p1_err1",
          "p1_err1",
          "p1_err1",
          "p1_err1",
          "p1_err1",
          "p1_err1",
          "p1_err1",
          "p1_err1",
          "p1_err1",
          "p1_err1",
          "p1_err1",
          "p1_err1",
          "p1_err1",
          "p1_err1",
          "p1_err1",
          "p1_err1",
          "p1_err1",
          "p1_err1",
          "p1_err1",
          "p1_err1",
          "p1_err1",
          "p1_err1",
          "p1_err1",
          "p1_err1",
          "p1_err1",
          "p1_err1",
          "p1_err1",
          "p1_err1",
          "p1_err1",
          "p1_err1",
          "p1_err1",
          "p1_err1",
          "p1_err1",
          "p1_err1",
          "p1_err1",
          "p1_err1",
          "p1_err1",
          "p1_err1",
          "p1_err1",
          "p1_err1",
          "p1_err1",
          "p1_err1",
          "p1_err1",
          "p1_err1",
          "p1_err1",
          "p1_err1",
          "p1_err1",
          "p1_err1",
          "p1_err1",
          "p1_err1",
          "p1_err1",
          "p1_err1",
          "p1_err1",
          "p1_err1",
          "p1_err1",
          "p1_err1",
          "p1_err1",
          "p1_err1",
          "p1_err1",
          "p1_err1",
          "p1_err1",
          "p1_err1",
          "p1_err1",
          "p1_err1",
          "p1_err1",
          "p1_err1",
          "p1_err1",
          "p1_err1",
          "p1_err1",
          "p1_err1",
          "p1_err1",
          "p1_err1",
          "p1_err1",
          "p1_err1",
          "p1_err1",
          "p1_err2",
          "p1_err2",
          "p1_err2",
          "p1_err2",
          "p1_err2",
          "p1_err2",
          "p1_err2",
          "p1_err2",
          "p1_err2",
          "p1_err2",
          "p1_err2",
          "p1_err2",
          "p1_err2",
          "p1_err2",
          "p1_err2",
          "p1_err2",
          "p1_err2",
          "p1_err2",
          "p1_err2",
          "p1_err2",
          "p1_err2",
          "p1_err2",
          "p1_err2",
          "p1_err2",
          "p1_err2",
          "p1_err2",
          "p1_err2",
          "p1_err2",
          "p1_err2",
          "p1_err2",
          "p1_err2",
          "p1_err2",
          "p1_err2",
          "p1_err2",
          "p1_err2",
          "p1_err2",
          "p1_err2",
          "p1_err2",
          "p1_err2",
          "p1_err2",
          "p1_err2",
          "p1_err2",
          "p1_err2",
          "p1_err2",
          "p1_err2",
          "p1_err2",
          "p1_err2",
          "p1_err2",
          "p1_err2",
          "p1_err2",
          "p1_err2",
          "p1_err2",
          "p1_err2",
          "p1_err2",
          "p1_err2",
          "p1_err2",
          "p1_err2",
          "p1_err2",
          "p1_err2",
          "p1_err2",
          "p1_err2",
          "p1_err2",
          "p1_err2",
          "p1_err2",
          "p1_err2",
          "p1_err2",
          "p1_err2",
          "p1_err2",
          "p1_err2",
          "p1_err2",
          "p1_err2",
          "p1_err2",
          "p1_err2",
          "p1_err2",
          "p1_err2",
          "p1_err2",
          "p1_err2",
          "p1_err2",
          "p1_err2",
          "p1_err2",
          "p1_err2",
          "p1_err2",
          "p1_err2",
          "p1_err2",
          "p1_err2",
          "p1_err2",
          "p1_err2",
          "p1_err2",
          "p1_err2",
          "p1_err2",
          "p1_err2",
          "p1_err2",
          "p1_err2",
          "p1_err2",
          "p1_err2",
          "p1_err2",
          "p1_err2",
          "p1_err2",
          "p1_err2",
          "p1_err2",
          "p1_err2",
          "p1_err2",
          "p1_err2",
          "p1_err2",
          "p1_err2",
          "p1_err2",
          "p1_err2",
          "p1_err2",
          "p1_err2",
          "p1_err2",
          "p1_err2",
          "p1_err2",
          "p1_err2",
          "p1_err2",
          "p1_err2",
          "p1_err2",
          "p1_err2",
          "p1_err2",
          "p1_err2",
          "p1_err2",
          "p1_err2",
          "p1_err2",
          "p1_err2",
          "p1_err2",
          "p1_err2",
          "p1_err2",
          "p1_err2",
          "p1_err2",
          "p1_err2",
          "p1_err2",
          "p1_err2",
          "p1_err2",
          "p1_err2",
          "p1_err2",
          "p1_err2",
          "p1_err2",
          "p1_err2",
          "p1_err2",
          "p1_err2",
          "p1_err2",
          "p1_err2",
          "p1_err2",
          "p1_err2",
          "p1_err2",
          "p1_err2",
          "p1_err2",
          "p1_err2",
          "p1_err2",
          "p1_err2",
          "p1_err2",
          "p1_err2",
          "p1_err2",
          "p1_err2",
          "p1_err2",
          "p1_err2",
          "p1_err2",
          "p1_err2",
          "p1_err2",
          "p1_err2",
          "p1_err2",
          "p1_err2",
          "p1_err2",
          "p1_err2",
          "p1_err2",
          "p1_err2",
          "p1_err2",
          "p1_err2",
          "p1_err2",
          "p1_err2",
          "p1_err2",
          "p1_err2",
          "p1_err2",
          "p1_err2",
          "p1_err2",
          "p1_err2",
          "p1_err2",
          "p1_err2",
          "p1_err2",
          "p1_err2",
          "p1_err2",
          "p1_err2",
          "p1_err2",
          "p1_err2",
          "p1_err2",
          "p1_err2",
          "p1_err2",
          "p1_err2",
          "p1_err2",
          "p1_err2",
          "p1_err2",
          "p1_err2",
          "p1_err2",
          "p1_err2",
          "p1_err2",
          "p1_err2",
          "p1_err2",
          "p1_err2",
          "p1_err2",
          "p1_err2",
          "p1_err2",
          "p1_err2",
          "p1_err2",
          "p1_err2",
          "p1_err2",
          "p1_err2",
          "p1_err2",
          "p1_err2",
          "p1_err2",
          "p1_err2",
          "p1_err2",
          "p1_err2",
          "p1_err2",
          "p1_err2",
          "p1_err2",
          "p1_err2",
          "p1_err2",
          "p1_err2",
          "p1_err2",
          "p1_err2",
          "p1_err2",
          "p1_err2",
          "p1_err2",
          "p1_err2",
          "p1_err2",
          "p1_err2",
          "p1_err2",
          "p1_err2",
          "p1_err2",
          "p1_err2",
          "p1_err2",
          "p1_err2",
          "p1_err2",
          "p1_err2",
          "p1_err2",
          "p1_err2",
          "p1_err2",
          "p1_err2",
          "p1_err2",
          "p1_err2",
          "p1_err2",
          "p1_err2",
          "p1_err2",
          "p1_err2",
          "p1_err2",
          "p1_err2",
          "p1_err2",
          "p1_err2",
          "p1_err2",
          "p1_err2",
          "p1_err2",
          "p1_err2",
          "p1_err2",
          "p1_err2",
          "p1_err2",
          "p1_err2",
          "p1_err2",
          "p1_err2",
          "p1_err2",
          "p1_err2",
          "p1_err2",
          "p1_err2",
          "p1_err2",
          "p1_err2",
          "p1_err2",
          "p1_err2",
          "p1_err2",
          "p1_err2",
          "p1_err2",
          "p1_err2",
          "p1_err2",
          "p1_err2",
          "p1_err2",
          "p1_err2",
          "p1_err2",
          "p1_err2",
          "p1_err2",
          "p1_err2",
          "p1_err2",
          "p1_err2",
          "p1_err2",
          "p1_err2",
          "p1_err2",
          "p1_err2",
          "p1_err2",
          "p1_err2",
          "p1_err2",
          "p1_err2",
          "p1_err2",
          "p1_err2",
          "p1_err2",
          "p1_err2",
          "p1_err2",
          "p1_err2",
          "p1_err2",
          "p1_err2",
          "p1_err2",
          "p1_err2",
          "p1_err2",
          "p1_err2",
          "p1_err2",
          "p1_err2",
          "p1_err2",
          "p1_err2",
          "p1_err2",
          "p1_err2",
          "p1_err2",
          "p1_err2",
          "p1_err2",
          "p1_err2",
          "p1_err2",
          "p1_err2",
          "p1_err2",
          "p1_err2",
          "p1_err2",
          "p2_err1",
          "p2_err1",
          "p2_err1",
          "p2_err1",
          "p2_err1",
          "p2_err1",
          "p2_err1",
          "p2_err1",
          "p2_err1",
          "p2_err1",
          "p2_err1",
          "p2_err1",
          "p2_err1",
          "p2_err1",
          "p2_err1",
          "p2_err1",
          "p2_err1",
          "p2_err1",
          "p2_err1",
          "p2_err1",
          "p2_err1",
          "p2_err1",
          "p2_err1",
          "p2_err1",
          "p2_err1",
          "p2_err1",
          "p2_err1",
          "p2_err1",
          "p2_err1",
          "p2_err1",
          "p2_err1",
          "p2_err1",
          "p2_err1",
          "p2_err1",
          "p2_err1",
          "p2_err1",
          "p2_err1",
          "p2_err1",
          "p2_err1",
          "p2_err1",
          "p2_err1",
          "p2_err1",
          "p2_err1",
          "p2_err1",
          "p2_err1",
          "p2_err1",
          "p2_err1",
          "p2_err1",
          "p2_err1",
          "p2_err1",
          "p2_err1",
          "p2_err1",
          "p2_err1",
          "p2_err1",
          "p2_err1",
          "p2_err1",
          "p2_err1",
          "p2_err1",
          "p2_err1",
          "p2_err1",
          "p2_err1",
          "p2_err1",
          "p2_err1",
          "p2_err1",
          "p2_err1",
          "p2_err1",
          "p2_err1",
          "p2_err1",
          "p2_err1",
          "p2_err1",
          "p2_err1",
          "p2_err1",
          "p2_err1",
          "p2_err1",
          "p2_err1",
          "p2_err1",
          "p2_err1",
          "p2_err1",
          "p2_err1",
          "p2_err1",
          "p2_err1",
          "p2_err1",
          "p2_err1",
          "p2_err1",
          "p2_err1",
          "p2_err1",
          "p2_err1",
          "p2_err1",
          "p2_err1",
          "p2_err1",
          "p2_err1",
          "p2_err1",
          "p2_err1",
          "p2_err1",
          "p2_err1",
          "p2_err1",
          "p2_err1",
          "p2_err1",
          "p2_err1",
          "p2_err1",
          "p2_err1",
          "p2_err1",
          "p2_err1",
          "p2_err1",
          "p2_err1",
          "p2_err1",
          "p2_err1",
          "p2_err1",
          "p2_err1",
          "p2_err1",
          "p2_err1",
          "p2_err1",
          "p2_err1",
          "p2_err1",
          "p2_err1",
          "p2_err1",
          "p2_err1",
          "p2_err1",
          "p2_err1",
          "p2_err1",
          "p2_err1",
          "p2_err1",
          "p2_err1",
          "p2_err1",
          "p2_err1",
          "p2_err1",
          "p2_err1",
          "p2_err1",
          "p2_err1",
          "p2_err1",
          "p2_err1",
          "p2_err1",
          "p2_err1",
          "p2_err1",
          "p2_err1",
          "p2_err1",
          "p2_err1",
          "p2_err1",
          "p2_err1",
          "p2_err1",
          "p2_err1",
          "p2_err1",
          "p2_err1",
          "p2_err1",
          "p2_err1",
          "p2_err1",
          "p2_err1",
          "p2_err1",
          "p2_err1",
          "p2_err1",
          "p2_err1",
          "p2_err1",
          "p2_err1",
          "p2_err1",
          "p2_err1",
          "p2_err1",
          "p2_err1",
          "p2_err1",
          "p2_err1",
          "p2_err1",
          "p2_err1",
          "p2_err1",
          "p2_err1",
          "p2_err1",
          "p2_err1",
          "p2_err1",
          "p2_err1",
          "p2_err1",
          "p2_err1",
          "p2_err1",
          "p2_err1",
          "p2_err1",
          "p2_err1",
          "p2_err1",
          "p2_err1",
          "p2_err1",
          "p2_err1",
          "p2_err1",
          "p2_err1",
          "p2_err1",
          "p2_err1",
          "p2_err1",
          "p2_err1",
          "p2_err1",
          "p2_err1",
          "p2_err1",
          "p2_err1",
          "p2_err1",
          "p2_err1",
          "p2_err1",
          "p2_err1",
          "p2_err1",
          "p2_err1",
          "p2_err1",
          "p2_err1",
          "p2_err1",
          "p2_err1",
          "p2_err1",
          "p2_err1",
          "p2_err1",
          "p2_err1",
          "p2_err1",
          "p2_err1",
          "p2_err1",
          "p2_err1",
          "p2_err1",
          "p2_err1",
          "p2_err1",
          "p2_err1",
          "p2_err1",
          "p2_err1",
          "p2_err1",
          "p2_err1",
          "p2_err1",
          "p2_err1",
          "p2_err1",
          "p2_err1",
          "p2_err1",
          "p2_err1",
          "p2_err1",
          "p2_err1",
          "p2_err1",
          "p2_err1",
          "p2_err1",
          "p2_err1",
          "p2_err1",
          "p2_err1",
          "p2_err1",
          "p2_err1",
          "p2_err1",
          "p2_err1",
          "p2_err1",
          "p2_err1",
          "p2_err1",
          "p2_err1",
          "p2_err1",
          "p2_err1",
          "p2_err1",
          "p2_err1",
          "p2_err1",
          "p2_err1",
          "p2_err1",
          "p2_err1",
          "p2_err1",
          "p2_err1",
          "p2_err1",
          "p2_err1",
          "p2_err1",
          "p2_err1",
          "p2_err1",
          "p2_err1",
          "p2_err1",
          "p2_err1",
          "p2_err1",
          "p2_err1",
          "p2_err1",
          "p2_err1",
          "p2_err1",
          "p2_err1",
          "p2_err1",
          "p2_err1",
          "p2_err1",
          "p2_err1",
          "p2_err1",
          "p2_err1",
          "p2_err1",
          "p2_err1",
          "p2_err1",
          "p2_err1",
          "p2_err1",
          "p2_err1",
          "p2_err1",
          "p2_err1",
          "p2_err1",
          "p2_err1",
          "p2_err1",
          "p2_err1",
          "p2_err1",
          "p2_err1",
          "p2_err1",
          "p2_err1",
          "p2_err1",
          "p2_err1",
          "p2_err1",
          "p2_err1",
          "p2_err1",
          "p2_err1",
          "p2_err1",
          "p2_err1",
          "p2_err1",
          "p2_err1",
          "p2_err1",
          "p2_err1",
          "p2_err1",
          "p2_err1",
          "p2_err1",
          "p2_err1",
          "p2_err1",
          "p2_err1",
          "p2_err1",
          "p2_err1",
          "p2_err1",
          "p2_err1",
          "p2_err1",
          "p2_err1",
          "p2_err1",
          "p2_err1",
          "p2_err1",
          "p2_err1",
          "p2_err1",
          "p2_err1",
          "p2_err1",
          "p2_err1",
          "p2_err1",
          "p2_err2",
          "p2_err2",
          "p2_err2",
          "p2_err2",
          "p2_err2",
          "p2_err2",
          "p2_err2",
          "p2_err2",
          "p2_err2",
          "p2_err2",
          "p2_err2",
          "p2_err2",
          "p2_err2",
          "p2_err2",
          "p2_err2",
          "p2_err2",
          "p2_err2",
          "p2_err2",
          "p2_err2",
          "p2_err2",
          "p2_err2",
          "p2_err2",
          "p2_err2",
          "p2_err2",
          "p2_err2",
          "p2_err2",
          "p2_err2",
          "p2_err2",
          "p2_err2",
          "p2_err2",
          "p2_err2",
          "p2_err2",
          "p2_err2",
          "p2_err2",
          "p2_err2",
          "p2_err2",
          "p2_err2",
          "p2_err2",
          "p2_err2",
          "p2_err2",
          "p2_err2",
          "p2_err2",
          "p2_err2",
          "p2_err2",
          "p2_err2",
          "p2_err2",
          "p2_err2",
          "p2_err2",
          "p2_err2",
          "p2_err2",
          "p2_err2",
          "p2_err2",
          "p2_err2",
          "p2_err2",
          "p2_err2",
          "p2_err2",
          "p2_err2",
          "p2_err2",
          "p2_err2",
          "p2_err2",
          "p2_err2",
          "p2_err2",
          "p2_err2",
          "p2_err2",
          "p2_err2",
          "p2_err2",
          "p2_err2",
          "p2_err2",
          "p2_err2",
          "p2_err2",
          "p2_err2",
          "p2_err2",
          "p2_err2",
          "p2_err2",
          "p2_err2",
          "p2_err2",
          "p2_err2",
          "p2_err2",
          "p2_err2",
          "p2_err2",
          "p2_err2",
          "p2_err2",
          "p2_err2",
          "p2_err2",
          "p2_err2",
          "p2_err2",
          "p2_err2",
          "p2_err2",
          "p2_err2",
          "p2_err2",
          "p2_err2",
          "p2_err2",
          "p2_err2",
          "p2_err2",
          "p2_err2",
          "p2_err2",
          "p2_err2",
          "p2_err2",
          "p2_err2",
          "p2_err2",
          "p2_err2",
          "p2_err2",
          "p2_err2",
          "p2_err2",
          "p2_err2",
          "p2_err2",
          "p2_err2",
          "p2_err2",
          "p2_err2",
          "p2_err2",
          "p2_err2",
          "p2_err2",
          "p2_err2",
          "p2_err2",
          "p2_err2",
          "p2_err2",
          "p2_err2",
          "p2_err2",
          "p2_err2",
          "p2_err2",
          "p2_err2",
          "p2_err2",
          "p2_err2",
          "p2_err2",
          "p2_err2",
          "p2_err2",
          "p2_err2",
          "p2_err2",
          "p2_err2",
          "p2_err2",
          "p2_err2",
          "p2_err2",
          "p2_err2",
          "p2_err2",
          "p2_err2",
          "p2_err2",
          "p2_err2",
          "p2_err2",
          "p2_err2",
          "p2_err2",
          "p2_err2",
          "p2_err2",
          "p2_err2",
          "p2_err2",
          "p2_err2",
          "p2_err2",
          "p2_err2",
          "p2_err2",
          "p2_err2",
          "p2_err2",
          "p2_err2",
          "p2_err2",
          "p2_err2",
          "p2_err2",
          "p2_err2",
          "p2_err2",
          "p2_err2",
          "p2_err2",
          "p2_err2",
          "p2_err2",
          "p2_err2",
          "p2_err2",
          "p2_err2",
          "p2_err2",
          "p2_err2",
          "p2_err2",
          "p2_err2",
          "p2_err2",
          "p2_err2",
          "p2_err2",
          "p2_err2",
          "p2_err2",
          "p2_err2",
          "p2_err2",
          "p2_err2",
          "p2_err2",
          "p2_err2",
          "p2_err2",
          "p2_err2",
          "p2_err2",
          "p2_err2",
          "p2_err2",
          "p2_err2",
          "p2_err2",
          "p2_err2",
          "p2_err2",
          "p2_err2",
          "p2_err2",
          "p2_err2",
          "p2_err2",
          "p2_err2",
          "p2_err2",
          "p2_err2",
          "p2_err2",
          "p2_err2",
          "p2_err2",
          "p2_err2",
          "p2_err2",
          "p2_err2",
          "p2_err2",
          "p2_err2",
          "p2_err2",
          "p2_err2",
          "p2_err2",
          "p2_err2",
          "p2_err2",
          "p2_err2",
          "p2_err2",
          "p2_err2",
          "p2_err2",
          "p2_err2",
          "p2_err2",
          "p2_err2",
          "p2_err2",
          "p2_err2",
          "p2_err2",
          "p2_err2",
          "p2_err2",
          "p2_err2",
          "p2_err2",
          "p2_err2",
          "p2_err2",
          "p2_err2",
          "p2_err2",
          "p2_err2",
          "p2_err2",
          "p2_err2",
          "p2_err2",
          "p2_err2",
          "p2_err2",
          "p2_err2",
          "p2_err2",
          "p2_err2",
          "p2_err2",
          "p2_err2",
          "p2_err2",
          "p2_err2",
          "p2_err2",
          "p2_err2",
          "p2_err2",
          "p2_err2",
          "p2_err2",
          "p2_err2",
          "p2_err2",
          "p2_err2",
          "p2_err2",
          "p2_err2",
          "p2_err2",
          "p2_err2",
          "p2_err2",
          "p2_err2",
          "p2_err2",
          "p2_err2",
          "p2_err2",
          "p2_err2",
          "p2_err2",
          "p2_err2",
          "p2_err2",
          "p2_err2",
          "p2_err2",
          "p2_err2",
          "p2_err2",
          "p2_err2",
          "p2_err2",
          "p2_err2",
          "p2_err2",
          "p2_err2",
          "p2_err2",
          "p2_err2",
          "p2_err2",
          "p2_err2",
          "p2_err2",
          "p2_err2",
          "p2_err2",
          "p2_err2",
          "p2_err2",
          "p2_err2",
          "p2_err2",
          "p2_err2",
          "p2_err2",
          "p2_err2",
          "p2_err2",
          "p2_err2",
          "p2_err2",
          "p2_err2",
          "p2_err2",
          "p2_err2",
          "p2_err2",
          "p2_err2",
          "p2_err2",
          "p2_err2",
          "p2_err2",
          "p2_err2",
          "p2_err2",
          "p2_err2",
          "p2_err2",
          "p2_err2",
          "p2_err2",
          "p2_err2",
          "p2_err2",
          "p2_err2",
          "p2_err2",
          "p2_err2",
          "p2_err2",
          "p2_err2",
          "p2_err2",
          "p2_err2",
          "p2_err2",
          "p2_err2",
          "p2_err2",
          "p2_err2",
          "p2_err2",
          "p2_err2",
          "p2_err2"
         ],
         "x0": " ",
         "xaxis": "x",
         "y": [
          0.02157013812283735,
          0.0029486515594568784,
          3.713208646770069E-4,
          0.050102256654903025,
          0.07517176986211067,
          0.15061952179011784,
          2.737237986957046E-4,
          2.7920234844377494,
          0.11412384003411523,
          0.13637447329799599,
          0.04569890627118631,
          0.07536456278817415,
          0.039740308075254846,
          0.4519591026474085,
          0.30019027034944545,
          0.2679631820622427,
          0.31893294924704013,
          0.9008271532475126,
          0.31071461068310885,
          1.6446585767108317,
          0.1285595730282222,
          4.049441545688277,
          5.960455527796281E-4,
          0.014141604834637536,
          1.7302963837908194,
          0.0794375864718688,
          2.065713796210682,
          0.006489468216099647,
          0.061843780703156256,
          9.87811860895272E-4,
          0.009681909458106507,
          0.19517241435360277,
          0.013411209046104775,
          8.221073095803557E-5,
          0.014335995568051232,
          0.0032395669347901387,
          6.268780198909013E-4,
          0.003169927442409355,
          0.005608533637171938,
          0.01938851479548543,
          0.0067446146730821485,
          0.14127863764282486,
          0.10677068259487671,
          0.012271110978911549,
          0.003383912222860588,
          0.007625962852686868,
          0.024819926837141196,
          0.06546167800984636,
          0.21308981961747056,
          0.05092422392510147,
          0.4442174027546746,
          0.21689492177239372,
          0.2129358299450612,
          0.002211273411246313,
          0.16226692383857352,
          0.13699137091829833,
          0.5034203201237445,
          0.09629519252548155,
          1.9954311233907187,
          0.14391295080091743,
          0.9140180147337128,
          0.15005570731863505,
          1.0597531286117432,
          2.155213801855961,
          1.3183688223568097,
          0.11196289207868229,
          1.1139609022267005,
          4.235419766573204,
          3.5462324322364323,
          0.008105540223982112,
          0.017402407976699,
          0.14259661951580616,
          5.540146348681614E-5,
          0.2148622778872497,
          0.023733709170272288,
          0.02313343558500066,
          0.0033180398063777385,
          0.011967421816822815,
          0.039203598108923765,
          0.07214559052289263,
          0.008223575378822661,
          0.0021535646521247454,
          0.00310879543672093,
          0.03524187501947749,
          4.502519694147093E-4,
          0.0014284768380372005,
          0.10728371671903189,
          0.07813615460669451,
          0.009812403777355703,
          0.001880143983315584,
          0.011669259046872271,
          0.056035372147938606,
          0.001841640703063488,
          0.4346319797721585,
          0.28725286511627524,
          0.003329364894470384,
          1.1308200153700223,
          0.4329163114485123,
          0.16972887462909456,
          1.0973356399529253,
          2.499320600619742,
          0.010583798057473335,
          0.2820232077318384,
          2.019005682040435,
          0.9438060487658342,
          0.5916291843313469,
          2.4300018826370165E-6,
          0.020879631249169132,
          3.7139124767921806E-4,
          0.21537103251664785,
          0.004475441197735918,
          0.15416774055801047,
          0.022638463881114016,
          0.010995467382471041,
          0.13568487158819736,
          0.053514091053656815,
          1.741378375689071E-4,
          0.21998164097247017,
          0.3573199372794193,
          0.06642624238704471,
          0.0931526620760849,
          0.007267231689119812,
          3.012467928069088E-5,
          0.06640342811201953,
          0.5424256768078424,
          0.011610707384711559,
          0.0030462666453761364,
          0.08165996228028463,
          1.8015948508116848E-4,
          0.13974199739250384,
          0.08166522564838309,
          0.3550987567533582,
          2.734690675027924,
          0.1471844731183928,
          0.6120880727729191,
          2.8244831858757458,
          0.10327084338725606,
          3.65870081338622,
          0.48413196022622346,
          4.69058664188902,
          0.012192883294928382,
          0.2709668725374416,
          1.6907649026144544,
          0.03978489533222243,
          0.04726458659977081,
          0.0034708934424226025,
          0.02034087863530779,
          0.0031727123485608116,
          0.07931837870569201,
          9.489442373130539E-5,
          0.031149921789503168,
          0.12177403829702325,
          0.010498368148478912,
          0.005314811677177504,
          0.004776431927009843,
          0.005332770352536098,
          0.1067530937567527,
          0.2907427698136015,
          0.32458663143278793,
          0.0020322303428220883,
          1.7821039582810157E-4,
          0.13384889426787502,
          0.7438902079253266,
          0.5886944703169508,
          0.18071932593859627,
          0.06001659269100158,
          8.154064949653158E-4,
          0.029799860859020814,
          0.8109145781069795,
          0.06943929388261709,
          0.013621828966810976,
          4.3425282697547794E-4,
          0.027794950742112162,
          0.0015043715827397625,
          2.7527857301586463E-4,
          0.01602849021543184,
          0.005328963494613138,
          0.023598822030498068,
          0.005167637248957245,
          0.03132112645266477,
          6.080160973597456E-4,
          0.008908557755541434,
          0.0044130755632586305,
          0.0920063544025066,
          2.516749983610259,
          0.009326330906584085,
          0.036990861146012494,
          0.0029711916339150023,
          0.007829792048186785,
          0.021878781765921892,
          0.47570121681351285,
          0.4112841483628129,
          0.0054208727642499985,
          0.24996278013569853,
          0.8182465956341015,
          1.0529455264327072,
          0.03281607538821567,
          0.9302656725045864,
          0.20759881670282948,
          0.1576528581425677,
          0.27550271113354086,
          0.3555039260814456,
          0.2768479807915804,
          0.17441671595858807,
          0.6739821804296126,
          0.16848347241307668,
          0.48045865478304867,
          2.5550599156848812,
          1.006759204422565,
          0.4960108161974727,
          1.0458034398478677,
          0.0015374669099998228,
          0.6354171689798683,
          0.0011980410128666456,
          0.008513364404437545,
          2.5760428329887024E-4,
          2.4891019631237594E-5,
          0.002127141727424991,
          8.036302346558525E-4,
          0.005034332202769367,
          0.018112615008694533,
          0.01409328526631553,
          5.67366101327699E-5,
          5.452962556807203E-4,
          0.003476817766150526,
          0.12959024308347217,
          0.015118452140014267,
          0.02287747290437158,
          0.025374163378980623,
          0.002295472109730896,
          0.6631050417030876,
          4.630633844169923,
          0.04496459617043671,
          0.028372613961035943,
          0.06383617334015743,
          0.1544247764048945,
          0.22612933895675136,
          0.05936145185898991,
          0.41187402883887536,
          0.6533830623677499,
          0.07333026226521129,
          6.777835430835902,
          1.8348422474931665,
          0.17846187095651359,
          0.009397206979021895,
          0.08461959812090915,
          0.48060407077958384,
          0.053326840525978185,
          0.1544417873509522,
          0.006313772849743383,
          0.007042364338614578,
          0.004623434354619724,
          0.025726654762389195,
          0.019538378066185438,
          0.012548099035055733,
          0.010758161108636127,
          0.009904687334785037,
          0.005541299507576253,
          0.009948472179029416,
          0.001477950029092543,
          0.02511597268136281,
          0.011155732119332925,
          0.0014367551098342212,
          0.01018481610833175,
          0.07297440173367994,
          0.15262240360840904,
          0.33122992287042813,
          3.2376945544627834E-5,
          0.25372516781676574,
          0.016111419492936138,
          0.4101311844343034,
          0.1631487854046793,
          0.12189936872524973,
          1.7260564079372043,
          0.002928626387201177,
          0.11163803884795549,
          0.45902082739054134,
          0.02242694911041585,
          0.9026153031157623,
          2.6520355203367276,
          4.490968468295597,
          0.005660728276873192,
          0.028199840886795068,
          0.35085899216269417,
          1.273686243530859,
          2.2858495807792822,
          0.3799892362041818,
          0.11966322110772885,
          0.31492285295995004,
          3.5249475640962578,
          2.2638218898244777,
          1.5386617429602694,
          3.040765811246197,
          0.014320497257393311,
          0.0014610486111208399,
          0.0013238287990044147,
          0.03311302750185728,
          0.0568402351427797,
          0.02578477868354245,
          0.006016576095656813,
          0.0021422035589683626,
          0.014487765986512465,
          0.007814454267906753,
          0.01618238009689949,
          0.16315396495004297,
          0.25870280140272683,
          0.005902345527459882,
          0.023716778708192283,
          6.88020928493127E-4,
          0.001445025525281654,
          5.291611217055294E-5,
          0.14213101458095342,
          0.1996705214017346,
          7.877905308288276,
          1.3116233623040737E-6,
          2.56431850249319E-8,
          1.953369168307552E-6,
          4.257136314569174E-6,
          1.8700013226314461E-6,
          3.5271871964617194E-4,
          1.010062615824479E-7,
          2.2196556395479144E-4,
          8.308104343427331E-8,
          6.917228687841242E-7,
          2.3387623522323492E-8,
          4.357188021330315E-6,
          1.9743188110836972E-7,
          0.001038738336431583,
          2.109053602572267E-4,
          2.7468818456883086E-7,
          0.0019391980846078444,
          0.02025836826179903,
          2.067425705221813E-6,
          0.0016205795313688459,
          6.684931992776627E-5,
          4.343589637968883E-4,
          3.0278488094829395E-10,
          0.5974571250855958,
          0.015355972209312984,
          2.4819169729260836E-6,
          0.004563024288529935,
          2.3999738674408742E-4,
          4.390784167619001E-5,
          5.564000925306294E-8,
          2.952950104384016E-4,
          0.403306815920571,
          7.671085053039727E-5,
          7.23738714173555E-8,
          6.54583942308386E-8,
          6.852339165420093E-8,
          0.014211022655033061,
          0.0027117266936875547,
          1.0557072349161179E-4,
          0.0034339362885750092,
          0.005610333080154892,
          0.004908327442999745,
          2.996757237995603,
          1.5096713535150866E-7,
          1.2849724897184936E-6,
          13.613452860444118,
          0.26949149150888796,
          3.3490032124021026E-5,
          1.355655419915333E-5,
          5.93390553040854E-4,
          1.3929117001688283E-4,
          1.4214030006711993E-5,
          7.066319689242918E-4,
          1.1212972550274283E-8,
          5.640500942528661E-5,
          3.478000533321118E-6,
          3.414002061595237E-4,
          1.1006619399626712E-5,
          2.741271170745216E-5,
          7.068581435423871E-4,
          0.0022776034423587057,
          5.9919108486089036E-5,
          0.0034281478211981432,
          0.0055439906685375755,
          0.0011014523582332303,
          10.76757391755409,
          4.241119663427702E-4,
          1.441502129717561E-4,
          0.002443269559251822,
          6.173120878967052E-7,
          4.3696984252932115E-4,
          0.01958501497316448,
          7.510537506339252E-7,
          0.1097042078271936,
          0.308421845095031,
          1.6411623916476925E-7,
          9.887191510061893E-7,
          4.3939611596491686E-8,
          5.0446315147479E-6,
          2.5359727076379247E-7,
          0.04546298870989573,
          9.198755318165884E-5,
          0.029466171741205596,
          0.006418009740128839,
          1.4360278934271713E-5,
          7.94360802926961E-9,
          1.2296956225491011E-7,
          9.495911950129662E-7,
          4.156706969387288E-9,
          9.21685892475331E-4,
          2.138938999209002E-7,
          0.04668834612002102,
          2.4840643967343022E-5,
          1.1639596241438373E-5,
          9.974505216292927E-6,
          1.0616676947629492E-7,
          0.022887210481776544,
          1.4992106081737593E-5,
          1.6550242080181417E-4,
          2.5110751160561953,
          4.16243116274958E-4,
          2.444524292918834E-5,
          2.6627152049406436E-5,
          2.148463462042362E-4,
          9.098036108815304E-6,
          3.738826781366676E-4,
          1.1287109989837729E-7,
          8.559785726873291E-7,
          6.583162997588765E-5,
          4.680485293683916E-4,
          3.833031483991823E-4,
          0.0015310653903774316,
          7.967419191604907E-8,
          0.0016717158668915586,
          0.039076285538754,
          0.0025851253700948035,
          2.627635899526472E-4,
          0.07075986939482135,
          0.39023155903381235,
          0.00810508916773196,
          3.2883891124076956E-6,
          6.79309872714389E-8,
          2.190340493192722E-8,
          1.240839180927671E-6,
          2.5073011598014174E-5,
          3.435150675342905E-6,
          4.552195655519308E-8,
          5.643119461392509E-7,
          1.5513047620465186E-8,
          1.1490180643914269E-6,
          1.807664408324028E-7,
          3.518763589938825E-5,
          2.064159722543061E-5,
          1.408996448046736E-7,
          3.523914279620576E-5,
          8.329267724794851E-6,
          9.354053422210438E-8,
          5.897219039593869E-5,
          9.449379083774572E-7,
          1.7062648664089622E-5,
          8.061685892283309E-6,
          6.582838644005628E-7,
          2.1158154610617735E-6,
          2.3636909190848536E-8,
          0.00391636946503185,
          1.4903133067594243E-6,
          0.0043459615153622405,
          4.5339023652862554E-5,
          2.7155250900091487E-4,
          1.5628530828950444E-6,
          5.927973711847815E-4,
          3.001087843864174E-4,
          3.83882320435721E-4,
          5.17012231949325E-4,
          2.892584226978699E-4,
          0.0016977244132148934,
          0.010462560247097907,
          0.020852383216456667,
          5.562711632887313E-6,
          1.1492751389959729E-8,
          9.172033454592986E-8,
          1.8110210971878805E-6,
          8.198725041035474E-5,
          3.6431097604244725E-5,
          4.884628964495085E-6,
          6.498584561763383E-7,
          1.899271918954042E-7,
          8.237659547382939E-7,
          2.720841789592041E-6,
          1.2333256746807493E-7,
          1.8103478706478956E-6,
          1.2357208728549009E-5,
          4.789319658598319E-6,
          5.442431765115979E-6,
          5.7113848849635685E-6,
          4.996957277313912E-6,
          6.042722009004948E-5,
          2.2804694603682207E-4,
          1.5869955468008084E-5,
          2.081858651053771E-6,
          1.7996712937697626E-4,
          9.89492412227929E-6,
          7.432822807825097E-6,
          0.01664463600610365,
          0.007970732377808038,
          1.420639668065831E-4,
          1.021526628040626E-6,
          3.80214695404773E-7,
          8.594027594383802E-8,
          2.886986814361961E-5,
          1.6686151797207704E-4,
          0.011407191889857142,
          1.1672834270137837E-7,
          1.256381683932629E-6,
          7.895417930074284E-7,
          5.606729102296235E-7,
          3.816699874342665E-8,
          5.055660607060923E-7,
          1.9715965377495215E-7,
          1.0866126089206761E-7,
          2.0498722193354216E-7,
          3.914269562899292E-7,
          1.6481161233827595E-7,
          7.144276069594555E-8,
          8.870136981477463E-7,
          4.124647148271866E-6,
          1.7971315823225007E-6,
          0.09251709553358277,
          2.719278179843217E-4,
          0.011002034713406769,
          1.3118002347282669E-5,
          7.713013262227823E-9,
          1.0444937494449486E-5,
          1.058312744105417E-6,
          5.011515443796305E-7,
          9.63704730664249E-8,
          4.1945724469299056E-8,
          3.139194099128594E-7,
          5.596350467419906E-7,
          4.854651935605448E-6,
          3.3115075849614615E-6,
          2.6904491129804885E-6,
          1.7206584213178428E-7,
          9.28634335470302E-7,
          4.1271670006822803E-7,
          0.11073313798375829,
          1.1002614133586593E-6,
          1.7740730094719425E-7,
          2.7143742518982544E-6,
          2.1170594774067565E-8,
          7.79771610823903E-5,
          1.7993744549571697E-5,
          1.689335991688247E-7,
          7.540448833936701E-7,
          2.909244851299912E-7,
          5.597410131409046E-7,
          1.6730957089937403E-7,
          4.201611894397626E-7,
          9.264277900764698E-7,
          3.7619635085325185E-6,
          5.506416427662775E-7,
          2.5588626479192383E-4,
          3.5694537235495794E-6,
          6.21165746860949E-7,
          5.593742856138585E-8,
          3.8524529334297826E-8,
          8.027708763331749E-7,
          3.243780146740957E-8,
          2.4346054777115435E-6,
          1.1714464889080348E-4,
          2.3405392357581216E-5,
          1.5680465806901505E-4,
          0.08023934660707269,
          5.405581006778794E-8,
          2.1406392312087864E-6,
          0.14235403661197663,
          6.648487193881638E-8,
          0.0028219395344647015,
          7.763694569695729E-8,
          6.333611691697495E-5,
          0.023371892946311163,
          1.5006461898292832E-7,
          1.8770657225086985E-6,
          1.5992534168131858E-6,
          1.5836907105463073E-5,
          6.888855794765168E-5,
          2.120956557670979E-5,
          3.6971013119028914E-10,
          2.0061422437130363E-6,
          9.596327800216485E-9,
          2.071050568373188E-5,
          9.03963371720924E-7,
          5.712126759487576E-5,
          6.374770829529658E-7,
          5.3386873473276155E-8,
          4.841547143686534E-4,
          3.030032863015952E-4,
          7.018466170210136E-7,
          0.0011349550223589738,
          0.010940163353944397,
          5.076330876174097E-4,
          9.781914030558905E-8,
          1.5012196315879876E-8,
          1.7600111781844883E-4,
          1.6844482450186748E-5,
          9.448285031575832E-4,
          1.65959475488625E-5,
          1.3132728416509865E-5,
          0.05770999890090176,
          0.00102233833345296,
          0.00343767221922533,
          8.097022125977571E-6,
          0.002881592661669027,
          0.026828774440987718,
          1.4068029341383808E-7,
          6.717989657934362E-8,
          3.4131856417388767E-6,
          2.8370428290184326E-6,
          6.775168954483546E-9,
          7.421846973113702E-7,
          1.2291729018725873E-8,
          0.0021837455777498687,
          1.1612289643872E-7,
          4.73892993824403E-8,
          1.3303045024981066E-6,
          0.0011658974319231708,
          1.1758643709950255E-7,
          5.308773961272989E-7,
          1.693256137036435E-8,
          4.07375883365537E-9,
          1.150769708722393E-8,
          2.606338067249429E-7,
          6.437870225484229E-7,
          5.806634877989239E-6,
          1.8713871353891871E-7,
          7.581180400593679E-9,
          6.027799732668108E-8,
          3.856118028720816E-7,
          3.304640033998364E-7,
          1.0563209141338884E-5,
          9.82669691896006E-8,
          1.9082980441856907E-5,
          4.1270317632665584E-7,
          2.0802907120674955E-7,
          4.3234692888475466E-7,
          5.434448427044089E-7,
          6.107231494785874E-8,
          3.421394578979269E-5,
          9.22393525016019E-6,
          1.665471739587727E-7,
          4.4498490759906454E-5,
          3.2271212510461635E-4,
          1.7453191993788341E-6,
          6.281650330014436E-5,
          3.846584975756409E-6,
          3.368545361113447E-5,
          3.800592448185927E-8,
          0.0015583772173766131,
          4.225697914965152E-4,
          4.4089545397249066E-7,
          1.3330063855603686E-4,
          3.673988001202604E-6,
          1.9141104548654488E-6,
          6.294381567251186E-8,
          4.696143486342627E-6,
          0.0019092880832736155,
          2.807431807729414E-6,
          1.4087090136766677E-8,
          3.6388179476717775E-7,
          7.387014709228212E-8,
          4.9412942809549345E-5,
          2.0642459772901097E-5,
          5.548422259450536E-6,
          4.36241616114001E-5,
          3.7727527547650556E-5,
          6.825557332508687E-5,
          0.014423471952692083,
          2.8800703055482187E-6,
          1.361973506337205E-6,
          0.022665884919911117,
          0.0015928455723255215,
          2.013308309636392E-6,
          1.3066703571888272E-6,
          1.133866868672785E-5,
          7.784411986691292E-6,
          1.3311157642618944E-6,
          1.911908909321225E-5,
          4.411226219802289E-9,
          4.65567257328117E-6,
          5.393587501556741E-7,
          2.450056210123088E-5,
          8.657390567395544E-7,
          1.0070865337491063E-5,
          1.723727845608913E-5,
          6.757964389002939E-5,
          3.3339826525300156E-6,
          9.344265181081542E-5,
          1.6016514312075153E-4,
          4.4136679418365195E-5,
          0.022316295675874693,
          2.132226217396897E-5,
          1.648201575455546E-5,
          1.0123750779598313E-4,
          3.3341772186394774E-7,
          1.5650481473006637E-5,
          1.8983514734490018E-4,
          7.502064392637623E-8,
          7.464239870294176E-4,
          9.843590876284112E-4,
          8.39997654587701E-7,
          2.783642867423901E-7,
          2.094038966376656E-7,
          2.634831274909872E-6,
          9.692800182112158E-7,
          1.7125657740203035E-4,
          1.6045855964773146E-6,
          1.0425216294901542E-4,
          6.298568761138937E-5,
          7.671733485602764E-7,
          2.5288704362333157E-8,
          1.1450286956991415E-6,
          1.7978362384417157E-6,
          3.3816143100641184E-7,
          6.814026513652257E-6,
          3.4891139951444134E-7,
          2.7289647432809987E-4,
          1.9066797456007903E-6,
          1.5385237005819834E-6,
          1.196875598052082E-6,
          6.990595807448046E-8,
          4.211499810014101E-4,
          1.76699347411773E-6,
          6.435568524657494E-6,
          0.05231362741933246,
          3.13458842187861E-5,
          1.157750280355423E-6,
          2.138254169764711E-6,
          1.640942657817657E-5,
          1.696606109218812E-6,
          1.5909833506897684E-5,
          2.621363049083682E-9,
          2.9730875172613803E-7,
          1.0415559485782302E-6,
          1.432778017171158E-5,
          5.0190719940993246E-6,
          3.0072261472200485E-5,
          4.491931382976504E-7,
          2.0992230959664908E-5,
          3.0646322554294634E-4,
          3.235170499348417E-5,
          1.778457711704677E-6,
          5.799946545434916E-4,
          0.004218054427332431,
          7.784546104739511E-5,
          3.921108188751193E-7,
          1.702478465759195E-8,
          1.5092283045437015E-9,
          1.8703520738145233E-7,
          5.5650971661886795E-6,
          1.9380862271895237E-7,
          9.987426792163922E-9,
          1.2773191198181332E-7,
          1.7501647146991872E-9,
          2.2880157031298157E-7,
          6.66084640932176E-8,
          2.730092126876395E-6,
          4.514083845097959E-6,
          9.53751967924892E-8,
          4.1361928490321E-6,
          2.7510335405078095E-6,
          6.699499479241857E-8,
          9.295325886974646E-6,
          3.746136691539287E-7,
          6.689705106681171E-6,
          2.2668396893759885E-6,
          1.3603077843942271E-6,
          1.0865656448227108E-6,
          2.4747280974496645E-8,
          4.415864153021756E-5,
          1.9824456814471143E-7,
          3.779960740658112E-5,
          8.969573166556951E-7,
          7.281342860931097E-6,
          4.0580503133802474E-8,
          1.0927894187215316E-5,
          8.779322643530643E-6,
          5.222361094869527E-6,
          5.404947564136996E-6,
          3.732423141300475E-6,
          1.4061020290582902E-5,
          1.1765317144855164E-4,
          2.3263860723018887E-4,
          8.726252790566264E-7,
          3.89639874351739E-9,
          5.355146876140061E-9,
          3.806674240929409E-7,
          1.33122007295666E-5,
          4.273434187983871E-6,
          8.40764751064E-7,
          1.5600344490186636E-7,
          7.097329198320184E-8,
          1.4397121533301495E-7,
          8.580360871414822E-7,
          5.3991907600627236E-8,
          1.574505900523889E-7,
          2.787458270688695E-7,
          8.417833281784902E-7,
          3.537232955152877E-7,
          1.1650303958070114E-7,
          4.232666724557305E-7,
          1.5361557873256734E-6,
          4.513569872737561E-6,
          5.036529157543264E-7,
          6.467822097458151E-7,
          1.7689346415069864E-6,
          8.912212259465154E-7,
          7.594084343384313E-7,
          1.4515493461456438E-4,
          2.1136362438404442E-4,
          3.7572945577068846E-6,
          1.370780651407085E-7,
          4.185712687454194E-8,
          2.0835442843927595E-8,
          1.342163183552084E-6,
          8.762306573761347E-6,
          1.6597180190295832E-4,
          2.318201907083127E-8,
          3.1438068272166897E-7,
          5.719274155407625E-7,
          7.760849185259935E-7,
          3.501069412203937E-8,
          6.843233770824019E-7,
          1.7323869886062896E-7,
          1.0239536596301972E-7,
          2.0099410604824236E-7,
          6.04502456022731E-7,
          1.833013789526168E-7,
          1.6990098850203054E-7,
          5.123281646454721E-7,
          5.807694798741732E-7,
          1.0957032198236386E-6,
          0.0012721655674783497,
          1.5527186361144038E-5,
          1.7017548736448886E-4,
          2.8298650182956998E-6,
          4.201691796604303E-9,
          1.6654588571680913E-6,
          7.305161852004611E-8,
          1.10678840689494E-7,
          1.9554600145666827E-8,
          3.4054824642890828E-9,
          4.403565066025415E-8,
          5.8261307124274077E-8,
          2.907500553942613E-7,
          3.5550113353115595E-7,
          3.647884908652881E-7,
          1.2191890084336346E-8,
          6.858688139438281E-8,
          1.0829042537017263E-7,
          7.180801825980111E-4,
          3.764628917650156E-7,
          4.858406488472563E-8,
          2.7710967967965894E-7,
          5.949850199436408E-9,
          7.532130496493199E-6,
          6.197203270958877E-6,
          6.159793619929969E-8,
          1.3272309805069402E-7,
          9.756082534327598E-8,
          1.9672311205601126E-7,
          1.3640194321214113E-7,
          1.0707038536479943E-7,
          3.9569321084286725E-7,
          1.1096868906207799E-6,
          1.386068634521386E-7,
          3.3117420811571226E-5,
          1.6205241534679053E-6,
          8.468624354022022E-7,
          1.0400434384120018E-7,
          4.082498850242501E-7,
          3.6048597026795465E-7,
          3.411991059915423E-8,
          4.845364109049631E-7,
          7.031302372101989E-6,
          7.38926969586602E-7,
          3.949167152414486E-6,
          3.474135667915885E-4,
          2.987204091010444E-7,
          7.256377555242808E-7,
          4.929516928260215E-4,
          3.2430451059548085E-7,
          1.8910075012016916E-5,
          1.7266854244663486E-7,
          3.855250881601287E-6,
          1.568242446477284E-4,
          3.978454948545163E-8,
          7.937797512062714E-8,
          1.1205224665273485E-7,
          2.0408940588810825E-6,
          3.3981442279520694E-6,
          2.3354162353735333E-6,
          2.0339264086991267E-10,
          5.287900680211596E-7,
          1.344570546380364E-7,
          2.3492954352604577E-6,
          2.1432214119762932E-7,
          3.0854446352543906E-6,
          4.62519955457074E-6,
          1.1787560758002025E-8,
          1.2235080574431063E-5,
          1.3397530384485677E-5,
          1.2890364764409573E-7,
          4.087265585970626E-5,
          2.7565894458524224E-4,
          3.867233556670011E-5,
          3.532244175668335E-7,
          2.5391079254218366E-7,
          9.073168072280976E-6,
          2.764908212122338E-6,
          4.589774476610786E-5,
          1.8305403356463865E-6,
          1.118015724511032E-6,
          7.263707107479663E-4,
          5.705251398625086E-5,
          1.1309794164372112E-4,
          1.9499647981301813E-6,
          1.0832615037423886E-4,
          1.334857304842078E-4,
          5.6628657758740956E-8,
          7.820478012184627E-8,
          6.091674312781545E-7,
          6.952877624567159E-7,
          17.74864391029541,
          2.731256387434387E-7,
          4.939655724668939E-8,
          2.7707107962037816E-5,
          2.4982121564256878E-8,
          1.8726993964564712E-8,
          3.0234703222135145E-7,
          1.3606633961547993E-4,
          3.0771369130088207E-8,
          1.5495616419566132E-6,
          3.777890794861989E-9,
          1.669983318040345E-9,
          3.6610120739708113E-9,
          2.736153439672447E-7,
          2.0828733591099197E-7,
          4.4552542564299705E-6,
          1.871387135389187E-7,
          7.581180400593679E-9,
          6.02779973266811E-8,
          3.856118028720816E-7,
          3.304640033998364E-7,
          1.0563209141338886E-5,
          9.82669691896006E-8,
          1.9082980441856904E-5,
          4.127031763266559E-7,
          2.0802907120674955E-7,
          4.3234692888475466E-7,
          5.434448427044089E-7,
          6.107231494785874E-8,
          3.421394578979268E-5,
          9.22393525016019E-6,
          1.665471739587727E-7,
          4.449849075990646E-5,
          3.2271212510461635E-4,
          1.7453191993788341E-6,
          6.281650330014436E-5,
          3.846584975756409E-6,
          3.368545361113446E-5,
          3.8005924481859274E-8,
          0.0015583772173766136,
          4.225697914965153E-4,
          4.4089545397249066E-7,
          1.333006385560369E-4,
          3.673988001202604E-6,
          1.9141104548654488E-6,
          6.294381567251184E-8,
          4.696143486342627E-6,
          0.0019092880832736155,
          2.8074318077294147E-6,
          1.4087090136766679E-8,
          3.6388179476717775E-7,
          7.387014709228212E-8,
          4.9412942809549345E-5,
          2.0642459772901097E-5,
          5.548422259450536E-6,
          4.362416161140009E-5,
          3.7727527547650556E-5,
          6.825557332508687E-5,
          0.014423471952692085,
          2.8800703055482187E-6,
          1.3619735063372047E-6,
          0.022665884919911113,
          0.001592845572325521,
          2.0133083096363918E-6,
          1.3066703571888272E-6,
          1.133866868672785E-5,
          7.784411986691292E-6,
          1.3311157642618946E-6,
          1.911908909321225E-5,
          4.411226219802289E-9,
          4.6556725732811706E-6,
          5.393587501556741E-7,
          2.450056210123088E-5,
          8.657390567395542E-7,
          1.0070865337491063E-5,
          1.723727845608913E-5,
          6.757964389002939E-5,
          3.3339826525300156E-6,
          9.344265181081544E-5,
          1.6016514312075153E-4,
          4.41366794183652E-5,
          0.022316295675874693,
          2.132226217396897E-5,
          1.648201575455546E-5,
          1.0123750779598313E-4,
          3.3341772186394774E-7,
          1.5650481473006637E-5,
          1.8983514734490018E-4,
          7.502064392637624E-8,
          7.464239870294176E-4,
          9.843590876284114E-4,
          8.39997654587701E-7,
          2.783642867423901E-7,
          2.094038966376656E-7,
          2.634831274909872E-6,
          9.692800182112158E-7,
          1.7125657740203032E-4,
          1.6045855964773146E-6,
          1.0425216294901542E-4,
          6.298568761138937E-5,
          7.671733485602763E-7,
          2.5288704362333157E-8,
          1.1450286956991417E-6,
          1.7978362384417153E-6,
          3.3816143100641184E-7,
          6.814026513652258E-6,
          3.4891139951444134E-7,
          2.728964743280998E-4,
          1.9066797456007903E-6,
          1.5385237005819834E-6,
          1.196875598052082E-6,
          6.990595807448046E-8,
          4.211499810014102E-4,
          1.76699347411773E-6,
          6.435568524657492E-6,
          0.05231362741933246,
          3.13458842187861E-5,
          1.157750280355423E-6,
          2.1382541697647107E-6,
          1.640942657817657E-5,
          1.696606109218812E-6,
          1.5909833506897684E-5,
          2.621363049083682E-9,
          2.973087517261381E-7,
          1.0415559485782304E-6,
          1.432778017171158E-5,
          5.0190719940993246E-6,
          3.0072261472200485E-5,
          4.491931382976504E-7,
          2.0992230959664904E-5,
          3.0646322554294634E-4,
          3.2351704993484166E-5,
          1.778457711704677E-6,
          5.799946545434917E-4,
          0.004218054427332431,
          7.784546104739511E-5,
          3.921108188751193E-7,
          1.702478465759195E-8,
          1.5092283045437015E-9,
          1.8703520738145233E-7,
          5.5650971661886795E-6,
          1.9380862271895237E-7,
          9.987426792163922E-9,
          1.2773191198181332E-7,
          1.7501647146991872E-9,
          2.2880157031298163E-7,
          6.66084640932176E-8,
          2.730092126876395E-6,
          4.514083845097958E-6,
          9.53751967924892E-8,
          4.136192849032101E-6,
          2.7510335405078095E-6,
          6.699499479241857E-8,
          9.295325886974646E-6,
          3.746136691539287E-7,
          6.689705106681171E-6,
          2.2668396893759885E-6,
          1.360307784394227E-6,
          1.086565644822711E-6,
          2.4747280974496645E-8,
          4.415864153021756E-5,
          1.9824456814471148E-7,
          3.779960740658112E-5,
          8.969573166556951E-7,
          7.281342860931098E-6,
          4.058050313380248E-8,
          1.0927894187215316E-5,
          8.779322643530643E-6,
          5.222361094869527E-6,
          5.404947564136996E-6,
          3.7324231413004756E-6,
          1.4061020290582902E-5,
          1.1765317144855164E-4,
          2.3263860723018884E-4,
          8.726252790566264E-7,
          3.89639874351739E-9,
          5.355146876140061E-9,
          3.806674240929409E-7,
          1.33122007295666E-5,
          4.273434187983871E-6,
          8.40764751064E-7,
          1.5600344490186639E-7,
          7.097329198320184E-8,
          1.4397121533301495E-7,
          8.580360871414819E-7,
          5.399190760062725E-8,
          1.574505900523889E-7,
          2.787458270688695E-7,
          8.417833281784902E-7,
          3.537232955152877E-7,
          1.1650303958070114E-7,
          4.2326667245573057E-7,
          1.5361557873256734E-6,
          4.513569872737561E-6,
          5.036529157543264E-7,
          6.46782209745815E-7,
          1.7689346415069864E-6,
          8.912212259465152E-7,
          7.594084343384311E-7,
          1.4515493461456438E-4,
          2.1136362438404442E-4,
          3.7572945577068846E-6,
          1.370780651407085E-7,
          4.185712687454194E-8,
          2.0835442843927595E-8,
          1.342163183552084E-6,
          8.762306573761347E-6,
          1.6597180190295832E-4,
          2.3182019070831266E-8,
          3.1438068272166897E-7,
          5.719274155407626E-7,
          7.760849185259933E-7,
          3.501069412203937E-8,
          6.843233770824019E-7,
          1.7323869886062896E-7,
          1.0239536596301972E-7,
          2.0099410604824233E-7,
          6.045024560227311E-7,
          1.833013789526168E-7,
          1.6990098850203057E-7,
          5.123281646454721E-7,
          5.807694798741732E-7,
          1.0957032198236386E-6,
          0.0012721655674783497,
          1.5527186361144038E-5,
          1.701754873644889E-4,
          2.8298650182956998E-6,
          4.201691796604304E-9,
          1.6654588571680913E-6,
          7.305161852004611E-8,
          1.1067884068949399E-7,
          1.9554600145666827E-8,
          3.4054824642890828E-9,
          4.403565066025414E-8,
          5.8261307124274077E-8,
          2.907500553942613E-7,
          3.5550113353115595E-7,
          3.6478849086528804E-7,
          1.2191890084336346E-8,
          6.858688139438281E-8,
          1.0829042537017263E-7,
          7.180801825980111E-4,
          3.764628917650156E-7,
          4.8584064884725636E-8,
          2.77109679679659E-7,
          5.949850199436408E-9,
          7.532130496493199E-6,
          6.197203270958876E-6,
          6.159793619929968E-8,
          1.3272309805069405E-7,
          9.756082534327598E-8,
          1.967231120560113E-7,
          1.3640194321214113E-7,
          1.0707038536479942E-7,
          3.9569321084286725E-7,
          1.1096868906207799E-6,
          1.386068634521386E-7,
          3.311742081157122E-5,
          1.620524153467905E-6,
          8.468624354022022E-7,
          1.0400434384120018E-7,
          4.0824988502425E-7,
          3.6048597026795465E-7,
          3.411991059915423E-8,
          4.845364109049631E-7,
          7.031302372101989E-6,
          7.38926969586602E-7,
          3.949167152414486E-6,
          3.474135667915885E-4,
          2.9872040910104443E-7,
          7.256377555242807E-7,
          4.929516928260215E-4,
          3.243045105954809E-7,
          1.8910075012016916E-5,
          1.7266854244663486E-7,
          3.855250881601287E-6,
          1.5682424464772836E-4,
          3.978454948545163E-8,
          7.937797512062714E-8,
          1.1205224665273485E-7,
          2.0408940588810825E-6,
          3.3981442279520694E-6,
          2.3354162353735333E-6,
          2.0339264086991272E-10,
          5.287900680211596E-7,
          1.3445705463803642E-7,
          2.3492954352604577E-6,
          2.1432214119762932E-7,
          3.0854446352543906E-6,
          4.62519955457074E-6,
          1.1787560758002027E-8,
          1.2235080574431061E-5,
          1.3397530384485677E-5,
          1.2890364764409573E-7,
          4.087265585970626E-5,
          2.7565894458524224E-4,
          3.867233556670011E-5,
          3.532244175668335E-7,
          2.5391079254218366E-7,
          9.073168072280976E-6,
          2.764908212122339E-6,
          4.589774476610785E-5,
          1.8305403356463865E-6,
          1.118015724511032E-6,
          7.263707107479663E-4,
          5.705251398625086E-5,
          1.1309794164372115E-4,
          1.9499647981301813E-6,
          1.0832615037423886E-4,
          1.334857304842078E-4,
          5.662865775874095E-8,
          7.820478012184626E-8,
          6.091674312781544E-7,
          6.95287762456716E-7,
          17.74864391029541,
          2.731256387434387E-7,
          4.939655724668939E-8,
          2.7707107962037816E-5,
          2.498212156425688E-8,
          1.8726993964564712E-8,
          3.023470322213514E-7,
          1.3606633961547993E-4,
          3.0771369130088207E-8,
          1.5495616419566132E-6,
          3.77789079486199E-9,
          1.669983318040345E-9,
          3.6610120739708113E-9,
          2.736153439672447E-7,
          2.0828733591099197E-7,
          4.4552542564299705E-6,
          2.1064756921022324E-18,
          1.9419915996486887E-19,
          1.423882438240079E-19,
          2.7261243946426453E-18,
          4.740431752047538E-18,
          2.422418912426639E-17,
          7.39567839721748E-18,
          1.2814862463660368E-16,
          3.0385514389058054E-16,
          5.545721341424992E-18,
          1.4191437836463927E-15,
          5.352114238704343E-18,
          1.7379086228585736E-18,
          8.633131055469784E-17,
          3.098508072303107E-17,
          1.3052702086283428E-17,
          7.809313337270002E-17,
          3.9280633528474796E-16,
          1.3301196852254513E-16,
          1.8681292221085047E-16,
          1.7071714381555476E-17,
          2.0324656397924747E-16,
          1.2229427289125103E-15,
          3.1033054614243424E-16,
          8.894303198156234E-16,
          6.382011725446954E-18,
          2.982193113116382E-16,
          4.297116614899182E-18,
          6.408899348599893E-18,
          5.6243264356655015E-18,
          5.706502611764151E-18,
          6.901121120559708E-16,
          7.860193681994146E-18,
          2.1091884840645005E-19,
          1.8161088488608234E-16,
          6.493617051365157E-18,
          1.3117350535271225E-17,
          1.1998552300473807E-17,
          2.228362261784928E-17,
          4.232426462030366E-17,
          1.9371687599607478E-17,
          7.251312625034102E-17,
          5.300004414836402E-15,
          4.635748104998388E-15,
          1.1137928912045295E-16,
          2.88108221926325E-15,
          7.18782020657915E-16,
          9.316105295102465E-18,
          9.874856275854101E-18,
          1.6561397924728938E-17,
          3.3539808448335827E-17,
          9.767585471684553E-18,
          3.9590693442755556E-17,
          1.5935478679557044E-19,
          2.970855098657237E-17,
          6.7643746836160294E-18,
          1.3517921908897873E-16,
          5.2948245458094294E-18,
          3.106182872535169E-16,
          3.215483200064113E-17,
          1.5353095553035878E-16,
          1.428267454144995E-17,
          1.9493881397677016E-16,
          3.5426731476569305E-16,
          1.3576115880276488E-16,
          3.5310894801953445E-15,
          8.255012066710922E-17,
          1.496700049948637E-16,
          3.222000728302304E-16,
          1.40783617847519E-17,
          4.282867637575384E-17,
          1.4052371198770415E-16,
          5.729432664495963E-19,
          3.877905446488706E-16,
          2.398583349547214E-16,
          3.691681179564441E-16,
          6.043541940923209E-18,
          9.210576960685734E-17,
          1.0684252678446007E-16,
          3.43307834952361E-16,
          4.925325515339281E-17,
          2.138315627491064E-18,
          2.816060877256442E-17,
          4.7206520484988374E-17,
          3.1320407768950224E-18,
          8.886590585189736E-18,
          1.3040521223474118E-15,
          2.815567186402706E-16,
          5.5462258244175E-15,
          3.8466787996702946E-18,
          4.614523202848176E-17,
          1.2179250121676504E-16,
          1.1189497175265839E-17,
          1.6276233220947278E-17,
          1.1408014915249351E-17,
          3.664411729462602E-18,
          5.922485132183834E-16,
          1.6540293392709297E-17,
          1.9200493731604565E-17,
          8.321334444575394E-14,
          1.8329890887406094E-16,
          4.200886472315332E-18,
          1.3379923871921292E-17,
          9.751015092983766E-17,
          2.6524210273038996E-17,
          5.20172538685138E-17,
          4.6515528369436105E-21,
          8.168783882192298E-18,
          1.258691137778959E-18,
          3.3589975826206855E-17,
          5.01966362754671E-18,
          4.515443231212916E-17,
          2.4737468198767193E-16,
          2.013277663260766E-17,
          1.8353452527543068E-16,
          3.0927058860607504E-17,
          9.190739954924212E-19,
          3.6303014807804343E-16,
          3.4812613455951193E-15,
          5.710027388922742E-17,
          3.712355850381239E-18,
          3.6729693382521585E-19,
          8.007357664949586E-21,
          2.2857766509033578E-18,
          9.82230148482394E-17,
          8.432898497718416E-19,
          1.8200403000900519E-19,
          2.4869083837034274E-18,
          1.5467764626176377E-20,
          3.8625606998694526E-18,
          2.470565054404865E-18,
          1.6493500870188027E-17,
          8.449240755678535E-17,
          8.593178128829541E-18,
          3.832781029275844E-17,
          8.718740407380734E-17,
          6.4855471130850736E-18,
          1.1953125337727287E-16,
          1.546825387521032E-17,
          2.5428176310027847E-16,
          4.903286897330212E-17,
          2.781162816076664E-16,
          6.548261603148091E-17,
          4.201673407162159E-18,
          3.802872613639117E-17,
          2.032597476181052E-18,
          2.5106110572842083E-17,
          1.3564465876248033E-18,
          1.4941784508908724E-17,
          8.053889573200025E-20,
          1.539586605133941E-17,
          1.9664881738493522E-17,
          5.427520051043724E-18,
          4.315497996073354E-18,
          3.678963616414105E-18,
          8.893012454613704E-18,
          1.010512691037914E-16,
          1.9823785738034312E-16,
          1.1141979480667042E-17,
          1.200400265432062E-19,
          2.4074941002965738E-20,
          6.6935157165048576E-18,
          1.6887259463768705E-16,
          3.931705956078065E-17,
          1.1682736505688985E-17,
          3.1188335170286213E-18,
          2.060005200612101E-18,
          2.029196111967124E-18,
          2.5275153284619735E-17,
          2.5038737283478034E-18,
          1.0659242630821925E-18,
          4.804573511657969E-19,
          1.145659921949603E-17,
          1.759286659517336E-18,
          1.8163390521352608E-19,
          2.7641499767512993E-18,
          2.9851005390587415E-18,
          6.829467697157065E-18,
          1.2239565167863454E-18,
          1.5739134036164818E-17,
          1.3278117411535203E-18,
          6.1565535636211386E-18,
          5.948450751673516E-18,
          9.666968748658991E-17,
          4.289824644193414E-16,
          7.595808887784209E-18,
          1.4707844801332193E-18,
          3.589780400672985E-19,
          4.289494473216575E-19,
          4.792087774408579E-18,
          3.54498674132788E-17,
          1.8450227127663727E-16,
          3.7511307999452935E-19,
          6.97439089844796E-18,
          5.495304043624462E-17,
          1.95403480931154E-16,
          4.479376757405041E-18,
          1.6323908748767793E-16,
          2.0152378418060552E-17,
          1.4794337498687795E-17,
          2.8897889861028707E-17,
          1.1506633607392206E-16,
          3.3024796897678873E-17,
          8.153422098924112E-17,
          3.405363502453181E-17,
          6.564305715999459E-18,
          6.173228934215769E-17,
          1.336388410314656E-15,
          6.84137866018946E-17,
          2.0112943556293016E-16,
          5.039469191099895E-17,
          2.258649252459274E-19,
          2.1655549382311887E-17,
          3.873617900355082E-19,
          1.919138350182807E-18,
          3.060786484060098E-19,
          2.1217499445746317E-20,
          4.803564455093839E-19,
          4.662903799493151E-19,
          1.3360933619972164E-18,
          2.953468364818936E-18,
          3.826185371845403E-18,
          6.612317009587437E-20,
          3.883228740321429E-19,
          2.215192319907818E-18,
          3.555548874818085E-16,
          1.0118604560647017E-17,
          1.165713854870636E-18,
          2.201357356962053E-18,
          1.4408222578180253E-19,
          5.654735270824657E-17,
          2.047452242819044E-16,
          2.0681803316086956E-18,
          1.886781008089381E-18,
          3.047743027143733E-18,
          6.42451643951525E-18,
          1.6754037721072452E-17,
          2.346923168705066E-18,
          1.7098545662432285E-17,
          2.868751528994479E-17,
          3.061290642883125E-18,
          3.421730301090957E-16,
          7.653575558512558E-17,
          1.0749462964930437E-16,
          1.686122041556031E-17,
          8.234257499824805E-16,
          1.7423830630524786E-17,
          5.7483540712536636E-18,
          7.977551407675847E-18,
          3.225095639122308E-17,
          1.786139149127923E-18,
          7.598537757226047E-18,
          1.148449165672011E-16,
          1.6001049005379605E-16,
          1.9047592942351825E-17,
          1.3032574439180638E-16,
          1.3648440225914038E-16,
          9.675830002216868E-18,
          3.2704378409969926E-17,
          1.7927204862417115E-17,
          8.034613373989753E-17,
          8.829323050963461E-19,
          2.575340791961404E-19,
          6.084268289090073E-19,
          2.038374244562768E-17,
          1.2898077243059802E-17,
          2.0250270129435262E-17,
          9.463052986057516E-21,
          1.1857961402828034E-17,
          3.0756830632267903E-16,
          2.1099336897516447E-17,
          4.459002843202464E-18,
          1.2835615709597074E-17,
          7.936781234667784E-15,
          2.1406073305783755E-19,
          2.365553509523048E-17,
          4.5509914454708006E-17,
          1.885486609314475E-18,
          1.128581572104778E-16,
          5.314330391756274E-16,
          2.290716761412071E-16,
          1.0369002752914302E-16,
          7.45682489003357E-16,
          3.601670314310258E-17,
          3.734680536870913E-17,
          1.7162292493024192E-16,
          1.594886566897302E-17,
          7.403630277213534E-18,
          6.982168797024331E-16,
          2.4556734542089057E-16,
          2.8516200759081344E-16,
          4.142857500479272E-17,
          3.124641680337428E-16,
          5.070875157854861E-17,
          1.7831286960424487E-18,
          7.211581645883559E-18,
          8.463422189517826E-18,
          1.3418133485104674E-17,
          17.748329354848558,
          7.80719862007372E-18,
          1.7932755742694102E-17,
          2.6850926324670554E-17,
          4.4717847856749355E-19,
          7.118514404521811E-19,
          5.842672167966703E-18,
          1.2159809813627408E-15,
          6.589861875421929E-19,
          3.758954494814126E-16,
          6.955669907360841E-20,
          6.595966493293258E-20,
          9.053403707789758E-20,
          3.0257480266960886E-17,
          6.333258151471698E-18,
          4.973173005388632E-16
         ],
         "y0": " ",
         "yaxis": "y",
         "type": "violin"
        }
       ],
       "layout": {
        "template": {
         "data": {
          "histogram2dcontour": [
           {
            "type": "histogram2dcontour",
            "colorbar": {
             "outlinewidth": 0,
             "ticks": ""
            },
            "colorscale": [
             [
              0.0,
              "#0d0887"
             ],
             [
              0.1111111111111111,
              "#46039f"
             ],
             [
              0.2222222222222222,
              "#7201a8"
             ],
             [
              0.3333333333333333,
              "#9c179e"
             ],
             [
              0.4444444444444444,
              "#bd3786"
             ],
             [
              0.5555555555555556,
              "#d8576b"
             ],
             [
              0.6666666666666666,
              "#ed7953"
             ],
             [
              0.7777777777777778,
              "#fb9f3a"
             ],
             [
              0.8888888888888888,
              "#fdca26"
             ],
             [
              1.0,
              "#f0f921"
             ]
            ]
           }
          ],
          "choropleth": [
           {
            "type": "choropleth",
            "colorbar": {
             "outlinewidth": 0,
             "ticks": ""
            }
           }
          ],
          "histogram2d": [
           {
            "type": "histogram2d",
            "colorbar": {
             "outlinewidth": 0,
             "ticks": ""
            },
            "colorscale": [
             [
              0.0,
              "#0d0887"
             ],
             [
              0.1111111111111111,
              "#46039f"
             ],
             [
              0.2222222222222222,
              "#7201a8"
             ],
             [
              0.3333333333333333,
              "#9c179e"
             ],
             [
              0.4444444444444444,
              "#bd3786"
             ],
             [
              0.5555555555555556,
              "#d8576b"
             ],
             [
              0.6666666666666666,
              "#ed7953"
             ],
             [
              0.7777777777777778,
              "#fb9f3a"
             ],
             [
              0.8888888888888888,
              "#fdca26"
             ],
             [
              1.0,
              "#f0f921"
             ]
            ]
           }
          ],
          "heatmap": [
           {
            "type": "heatmap",
            "colorbar": {
             "outlinewidth": 0,
             "ticks": ""
            },
            "colorscale": [
             [
              0.0,
              "#0d0887"
             ],
             [
              0.1111111111111111,
              "#46039f"
             ],
             [
              0.2222222222222222,
              "#7201a8"
             ],
             [
              0.3333333333333333,
              "#9c179e"
             ],
             [
              0.4444444444444444,
              "#bd3786"
             ],
             [
              0.5555555555555556,
              "#d8576b"
             ],
             [
              0.6666666666666666,
              "#ed7953"
             ],
             [
              0.7777777777777778,
              "#fb9f3a"
             ],
             [
              0.8888888888888888,
              "#fdca26"
             ],
             [
              1.0,
              "#f0f921"
             ]
            ]
           }
          ],
          "heatmapgl": [
           {
            "type": "heatmapgl",
            "colorbar": {
             "outlinewidth": 0,
             "ticks": ""
            },
            "colorscale": [
             [
              0.0,
              "#0d0887"
             ],
             [
              0.1111111111111111,
              "#46039f"
             ],
             [
              0.2222222222222222,
              "#7201a8"
             ],
             [
              0.3333333333333333,
              "#9c179e"
             ],
             [
              0.4444444444444444,
              "#bd3786"
             ],
             [
              0.5555555555555556,
              "#d8576b"
             ],
             [
              0.6666666666666666,
              "#ed7953"
             ],
             [
              0.7777777777777778,
              "#fb9f3a"
             ],
             [
              0.8888888888888888,
              "#fdca26"
             ],
             [
              1.0,
              "#f0f921"
             ]
            ]
           }
          ],
          "contourcarpet": [
           {
            "type": "contourcarpet",
            "colorbar": {
             "outlinewidth": 0,
             "ticks": ""
            }
           }
          ],
          "contour": [
           {
            "type": "contour",
            "colorbar": {
             "outlinewidth": 0,
             "ticks": ""
            },
            "colorscale": [
             [
              0.0,
              "#0d0887"
             ],
             [
              0.1111111111111111,
              "#46039f"
             ],
             [
              0.2222222222222222,
              "#7201a8"
             ],
             [
              0.3333333333333333,
              "#9c179e"
             ],
             [
              0.4444444444444444,
              "#bd3786"
             ],
             [
              0.5555555555555556,
              "#d8576b"
             ],
             [
              0.6666666666666666,
              "#ed7953"
             ],
             [
              0.7777777777777778,
              "#fb9f3a"
             ],
             [
              0.8888888888888888,
              "#fdca26"
             ],
             [
              1.0,
              "#f0f921"
             ]
            ]
           }
          ],
          "surface": [
           {
            "type": "surface",
            "colorbar": {
             "outlinewidth": 0,
             "ticks": ""
            },
            "colorscale": [
             [
              0.0,
              "#0d0887"
             ],
             [
              0.1111111111111111,
              "#46039f"
             ],
             [
              0.2222222222222222,
              "#7201a8"
             ],
             [
              0.3333333333333333,
              "#9c179e"
             ],
             [
              0.4444444444444444,
              "#bd3786"
             ],
             [
              0.5555555555555556,
              "#d8576b"
             ],
             [
              0.6666666666666666,
              "#ed7953"
             ],
             [
              0.7777777777777778,
              "#fb9f3a"
             ],
             [
              0.8888888888888888,
              "#fdca26"
             ],
             [
              1.0,
              "#f0f921"
             ]
            ]
           }
          ],
          "mesh3d": [
           {
            "type": "mesh3d",
            "colorbar": {
             "outlinewidth": 0,
             "ticks": ""
            }
           }
          ],
          "scatter": [
           {
            "fillpattern": {
             "fillmode": "overlay",
             "size": 10,
             "solidity": 0.2
            },
            "type": "scatter"
           }
          ],
          "parcoords": [
           {
            "type": "parcoords",
            "line": {
             "colorbar": {
              "outlinewidth": 0,
              "ticks": ""
             }
            }
           }
          ],
          "scatterpolargl": [
           {
            "type": "scatterpolargl",
            "marker": {
             "colorbar": {
              "outlinewidth": 0,
              "ticks": ""
             }
            }
           }
          ],
          "bar": [
           {
            "error_x": {
             "color": "#2a3f5f"
            },
            "error_y": {
             "color": "#2a3f5f"
            },
            "marker": {
             "line": {
              "color": "#E5ECF6",
              "width": 0.5
             },
             "pattern": {
              "fillmode": "overlay",
              "size": 10,
              "solidity": 0.2
             }
            },
            "type": "bar"
           }
          ],
          "scattergeo": [
           {
            "type": "scattergeo",
            "marker": {
             "colorbar": {
              "outlinewidth": 0,
              "ticks": ""
             }
            }
           }
          ],
          "scatterpolar": [
           {
            "type": "scatterpolar",
            "marker": {
             "colorbar": {
              "outlinewidth": 0,
              "ticks": ""
             }
            }
           }
          ],
          "histogram": [
           {
            "marker": {
             "pattern": {
              "fillmode": "overlay",
              "size": 10,
              "solidity": 0.2
             }
            },
            "type": "histogram"
           }
          ],
          "scattergl": [
           {
            "type": "scattergl",
            "marker": {
             "colorbar": {
              "outlinewidth": 0,
              "ticks": ""
             }
            }
           }
          ],
          "scatter3d": [
           {
            "type": "scatter3d",
            "line": {
             "colorbar": {
              "outlinewidth": 0,
              "ticks": ""
             }
            },
            "marker": {
             "colorbar": {
              "outlinewidth": 0,
              "ticks": ""
             }
            }
           }
          ],
          "scattermapbox": [
           {
            "type": "scattermapbox",
            "marker": {
             "colorbar": {
              "outlinewidth": 0,
              "ticks": ""
             }
            }
           }
          ],
          "scatterternary": [
           {
            "type": "scatterternary",
            "marker": {
             "colorbar": {
              "outlinewidth": 0,
              "ticks": ""
             }
            }
           }
          ],
          "scattercarpet": [
           {
            "type": "scattercarpet",
            "marker": {
             "colorbar": {
              "outlinewidth": 0,
              "ticks": ""
             }
            }
           }
          ],
          "carpet": [
           {
            "aaxis": {
             "endlinecolor": "#2a3f5f",
             "gridcolor": "white",
             "linecolor": "white",
             "minorgridcolor": "white",
             "startlinecolor": "#2a3f5f"
            },
            "baxis": {
             "endlinecolor": "#2a3f5f",
             "gridcolor": "white",
             "linecolor": "white",
             "minorgridcolor": "white",
             "startlinecolor": "#2a3f5f"
            },
            "type": "carpet"
           }
          ],
          "table": [
           {
            "cells": {
             "fill": {
              "color": "#EBF0F8"
             },
             "line": {
              "color": "white"
             }
            },
            "header": {
             "fill": {
              "color": "#C8D4E3"
             },
             "line": {
              "color": "white"
             }
            },
            "type": "table"
           }
          ],
          "barpolar": [
           {
            "marker": {
             "line": {
              "color": "#E5ECF6",
              "width": 0.5
             },
             "pattern": {
              "fillmode": "overlay",
              "size": 10,
              "solidity": 0.2
             }
            },
            "type": "barpolar"
           }
          ],
          "pie": [
           {
            "automargin": true,
            "type": "pie"
           }
          ]
         },
         "layout": {
          "autotypenumbers": "strict",
          "colorway": [
           "#636efa",
           "#EF553B",
           "#00cc96",
           "#ab63fa",
           "#FFA15A",
           "#19d3f3",
           "#FF6692",
           "#B6E880",
           "#FF97FF",
           "#FECB52"
          ],
          "font": {
           "color": "#2a3f5f"
          },
          "hovermode": "closest",
          "hoverlabel": {
           "align": "left"
          },
          "paper_bgcolor": "white",
          "plot_bgcolor": "#E5ECF6",
          "polar": {
           "bgcolor": "#E5ECF6",
           "angularaxis": {
            "gridcolor": "white",
            "linecolor": "white",
            "ticks": ""
           },
           "radialaxis": {
            "gridcolor": "white",
            "linecolor": "white",
            "ticks": ""
           }
          },
          "ternary": {
           "bgcolor": "#E5ECF6",
           "aaxis": {
            "gridcolor": "white",
            "linecolor": "white",
            "ticks": ""
           },
           "baxis": {
            "gridcolor": "white",
            "linecolor": "white",
            "ticks": ""
           },
           "caxis": {
            "gridcolor": "white",
            "linecolor": "white",
            "ticks": ""
           }
          },
          "coloraxis": {
           "colorbar": {
            "outlinewidth": 0,
            "ticks": ""
           }
          },
          "colorscale": {
           "sequential": [
            [
             0.0,
             "#0d0887"
            ],
            [
             0.1111111111111111,
             "#46039f"
            ],
            [
             0.2222222222222222,
             "#7201a8"
            ],
            [
             0.3333333333333333,
             "#9c179e"
            ],
            [
             0.4444444444444444,
             "#bd3786"
            ],
            [
             0.5555555555555556,
             "#d8576b"
            ],
            [
             0.6666666666666666,
             "#ed7953"
            ],
            [
             0.7777777777777778,
             "#fb9f3a"
            ],
            [
             0.8888888888888888,
             "#fdca26"
            ],
            [
             1.0,
             "#f0f921"
            ]
           ],
           "sequentialminus": [
            [
             0.0,
             "#0d0887"
            ],
            [
             0.1111111111111111,
             "#46039f"
            ],
            [
             0.2222222222222222,
             "#7201a8"
            ],
            [
             0.3333333333333333,
             "#9c179e"
            ],
            [
             0.4444444444444444,
             "#bd3786"
            ],
            [
             0.5555555555555556,
             "#d8576b"
            ],
            [
             0.6666666666666666,
             "#ed7953"
            ],
            [
             0.7777777777777778,
             "#fb9f3a"
            ],
            [
             0.8888888888888888,
             "#fdca26"
            ],
            [
             1.0,
             "#f0f921"
            ]
           ],
           "diverging": [
            [
             0,
             "#8e0152"
            ],
            [
             0.1,
             "#c51b7d"
            ],
            [
             0.2,
             "#de77ae"
            ],
            [
             0.3,
             "#f1b6da"
            ],
            [
             0.4,
             "#fde0ef"
            ],
            [
             0.5,
             "#f7f7f7"
            ],
            [
             0.6,
             "#e6f5d0"
            ],
            [
             0.7,
             "#b8e186"
            ],
            [
             0.8,
             "#7fbc41"
            ],
            [
             0.9,
             "#4d9221"
            ],
            [
             1,
             "#276419"
            ]
           ]
          },
          "xaxis": {
           "gridcolor": "white",
           "linecolor": "white",
           "ticks": "",
           "title": {
            "standoff": 15
           },
           "zerolinecolor": "white",
           "automargin": true,
           "zerolinewidth": 2
          },
          "yaxis": {
           "gridcolor": "white",
           "linecolor": "white",
           "ticks": "",
           "title": {
            "standoff": 15
           },
           "zerolinecolor": "white",
           "automargin": true,
           "zerolinewidth": 2
          },
          "scene": {
           "xaxis": {
            "backgroundcolor": "#E5ECF6",
            "gridcolor": "white",
            "linecolor": "white",
            "showbackground": true,
            "ticks": "",
            "zerolinecolor": "white",
            "gridwidth": 2
           },
           "yaxis": {
            "backgroundcolor": "#E5ECF6",
            "gridcolor": "white",
            "linecolor": "white",
            "showbackground": true,
            "ticks": "",
            "zerolinecolor": "white",
            "gridwidth": 2
           },
           "zaxis": {
            "backgroundcolor": "#E5ECF6",
            "gridcolor": "white",
            "linecolor": "white",
            "showbackground": true,
            "ticks": "",
            "zerolinecolor": "white",
            "gridwidth": 2
           }
          },
          "shapedefaults": {
           "line": {
            "color": "#2a3f5f"
           }
          },
          "annotationdefaults": {
           "arrowcolor": "#2a3f5f",
           "arrowhead": 0,
           "arrowwidth": 1
          },
          "geo": {
           "bgcolor": "white",
           "landcolor": "#E5ECF6",
           "subunitcolor": "white",
           "showland": true,
           "showlakes": true,
           "lakecolor": "white"
          },
          "title": {
           "x": 0.05
          },
          "mapbox": {
           "style": "light"
          }
         }
        },
        "xaxis": {
         "anchor": "y",
         "domain": [
          0.0,
          1.0
         ],
         "title": {
          "text": "Error type"
         }
        },
        "yaxis": {
         "anchor": "x",
         "domain": [
          0.0,
          1.0
         ],
         "title": {
          "text": "log(value)"
         },
         "type": "log",
         "range": [
          -22,
          3
         ]
        },
        "legend": {
         "tracegroupgap": 0
        },
        "margin": {
         "t": 60
        },
        "violinmode": "group",
        "title": {
         "text": "Errors normalize by σ"
        }
       },
       "config": {
        "plotlyServerURL": "https://plot.ly"
       }
      },
      "text/html": "<div>                            <div id=\"a8571cfc-3c6d-413a-a583-455a5f19a4c7\" class=\"plotly-graph-div\" style=\"height:525px; width:100%;\"></div>            <script type=\"text/javascript\">                require([\"plotly\"], function(Plotly) {                    window.PLOTLYENV=window.PLOTLYENV || {};                                    if (document.getElementById(\"a8571cfc-3c6d-413a-a583-455a5f19a4c7\")) {                    Plotly.newPlot(                        \"a8571cfc-3c6d-413a-a583-455a5f19a4c7\",                        [{\"alignmentgroup\":\"True\",\"box\":{\"visible\":true},\"hovertemplate\":\"variable=%{x}\\u003cbr\\u003evalue=%{y}\\u003cextra\\u003e\\u003c\\u002fextra\\u003e\",\"legendgroup\":\"\",\"marker\":{\"color\":\"#636efa\"},\"name\":\"\",\"offsetgroup\":\"\",\"orientation\":\"v\",\"points\":\"all\",\"scalegroup\":\"True\",\"showlegend\":false,\"x\":[\"squared_error\",\"squared_error\",\"squared_error\",\"squared_error\",\"squared_error\",\"squared_error\",\"squared_error\",\"squared_error\",\"squared_error\",\"squared_error\",\"squared_error\",\"squared_error\",\"squared_error\",\"squared_error\",\"squared_error\",\"squared_error\",\"squared_error\",\"squared_error\",\"squared_error\",\"squared_error\",\"squared_error\",\"squared_error\",\"squared_error\",\"squared_error\",\"squared_error\",\"squared_error\",\"squared_error\",\"squared_error\",\"squared_error\",\"squared_error\",\"squared_error\",\"squared_error\",\"squared_error\",\"squared_error\",\"squared_error\",\"squared_error\",\"squared_error\",\"squared_error\",\"squared_error\",\"squared_error\",\"squared_error\",\"squared_error\",\"squared_error\",\"squared_error\",\"squared_error\",\"squared_error\",\"squared_error\",\"squared_error\",\"squared_error\",\"squared_error\",\"squared_error\",\"squared_error\",\"squared_error\",\"squared_error\",\"squared_error\",\"squared_error\",\"squared_error\",\"squared_error\",\"squared_error\",\"squared_error\",\"squared_error\",\"squared_error\",\"squared_error\",\"squared_error\",\"squared_error\",\"squared_error\",\"squared_error\",\"squared_error\",\"squared_error\",\"squared_error\",\"squared_error\",\"squared_error\",\"squared_error\",\"squared_error\",\"squared_error\",\"squared_error\",\"squared_error\",\"squared_error\",\"squared_error\",\"squared_error\",\"squared_error\",\"squared_error\",\"squared_error\",\"squared_error\",\"squared_error\",\"squared_error\",\"squared_error\",\"squared_error\",\"squared_error\",\"squared_error\",\"squared_error\",\"squared_error\",\"squared_error\",\"squared_error\",\"squared_error\",\"squared_error\",\"squared_error\",\"squared_error\",\"squared_error\",\"squared_error\",\"squared_error\",\"squared_error\",\"squared_error\",\"squared_error\",\"squared_error\",\"squared_error\",\"squared_error\",\"squared_error\",\"squared_error\",\"squared_error\",\"squared_error\",\"squared_error\",\"squared_error\",\"squared_error\",\"squared_error\",\"squared_error\",\"squared_error\",\"squared_error\",\"squared_error\",\"squared_error\",\"squared_error\",\"squared_error\",\"squared_error\",\"squared_error\",\"squared_error\",\"squared_error\",\"squared_error\",\"squared_error\",\"squared_error\",\"squared_error\",\"squared_error\",\"squared_error\",\"squared_error\",\"squared_error\",\"squared_error\",\"squared_error\",\"squared_error\",\"squared_error\",\"squared_error\",\"squared_error\",\"squared_error\",\"squared_error\",\"squared_error\",\"squared_error\",\"squared_error\",\"squared_error\",\"squared_error\",\"squared_error\",\"squared_error\",\"squared_error\",\"squared_error\",\"squared_error\",\"squared_error\",\"squared_error\",\"squared_error\",\"squared_error\",\"squared_error\",\"squared_error\",\"squared_error\",\"squared_error\",\"squared_error\",\"squared_error\",\"squared_error\",\"squared_error\",\"squared_error\",\"squared_error\",\"squared_error\",\"squared_error\",\"squared_error\",\"squared_error\",\"squared_error\",\"squared_error\",\"squared_error\",\"squared_error\",\"squared_error\",\"squared_error\",\"squared_error\",\"squared_error\",\"squared_error\",\"squared_error\",\"squared_error\",\"squared_error\",\"squared_error\",\"squared_error\",\"squared_error\",\"squared_error\",\"squared_error\",\"squared_error\",\"squared_error\",\"squared_error\",\"squared_error\",\"squared_error\",\"squared_error\",\"squared_error\",\"squared_error\",\"squared_error\",\"squared_error\",\"squared_error\",\"squared_error\",\"squared_error\",\"squared_error\",\"squared_error\",\"squared_error\",\"squared_error\",\"squared_error\",\"squared_error\",\"squared_error\",\"squared_error\",\"squared_error\",\"squared_error\",\"squared_error\",\"squared_error\",\"squared_error\",\"squared_error\",\"squared_error\",\"squared_error\",\"squared_error\",\"squared_error\",\"squared_error\",\"squared_error\",\"squared_error\",\"squared_error\",\"squared_error\",\"squared_error\",\"squared_error\",\"squared_error\",\"squared_error\",\"squared_error\",\"squared_error\",\"squared_error\",\"squared_error\",\"squared_error\",\"squared_error\",\"squared_error\",\"squared_error\",\"squared_error\",\"squared_error\",\"squared_error\",\"squared_error\",\"squared_error\",\"squared_error\",\"squared_error\",\"squared_error\",\"squared_error\",\"squared_error\",\"squared_error\",\"squared_error\",\"squared_error\",\"squared_error\",\"squared_error\",\"squared_error\",\"squared_error\",\"squared_error\",\"squared_error\",\"squared_error\",\"squared_error\",\"squared_error\",\"squared_error\",\"squared_error\",\"squared_error\",\"squared_error\",\"squared_error\",\"squared_error\",\"squared_error\",\"squared_error\",\"squared_error\",\"squared_error\",\"squared_error\",\"squared_error\",\"squared_error\",\"squared_error\",\"squared_error\",\"squared_error\",\"squared_error\",\"squared_error\",\"squared_error\",\"squared_error\",\"squared_error\",\"squared_error\",\"squared_error\",\"squared_error\",\"squared_error\",\"squared_error\",\"squared_error\",\"squared_error\",\"squared_error\",\"squared_error\",\"squared_error\",\"squared_error\",\"squared_error\",\"squared_error\",\"squared_error\",\"squared_error\",\"squared_error\",\"squared_error\",\"squared_error\",\"squared_error\",\"squared_error\",\"squared_error\",\"squared_error\",\"squared_error\",\"squared_error\",\"squared_error\",\"squared_error\",\"squared_error\",\"squared_error\",\"squared_error\",\"squared_error\",\"squared_error\",\"squared_error\",\"squared_error\",\"squared_error\",\"squared_error\",\"squared_error\",\"p1_err1\",\"p1_err1\",\"p1_err1\",\"p1_err1\",\"p1_err1\",\"p1_err1\",\"p1_err1\",\"p1_err1\",\"p1_err1\",\"p1_err1\",\"p1_err1\",\"p1_err1\",\"p1_err1\",\"p1_err1\",\"p1_err1\",\"p1_err1\",\"p1_err1\",\"p1_err1\",\"p1_err1\",\"p1_err1\",\"p1_err1\",\"p1_err1\",\"p1_err1\",\"p1_err1\",\"p1_err1\",\"p1_err1\",\"p1_err1\",\"p1_err1\",\"p1_err1\",\"p1_err1\",\"p1_err1\",\"p1_err1\",\"p1_err1\",\"p1_err1\",\"p1_err1\",\"p1_err1\",\"p1_err1\",\"p1_err1\",\"p1_err1\",\"p1_err1\",\"p1_err1\",\"p1_err1\",\"p1_err1\",\"p1_err1\",\"p1_err1\",\"p1_err1\",\"p1_err1\",\"p1_err1\",\"p1_err1\",\"p1_err1\",\"p1_err1\",\"p1_err1\",\"p1_err1\",\"p1_err1\",\"p1_err1\",\"p1_err1\",\"p1_err1\",\"p1_err1\",\"p1_err1\",\"p1_err1\",\"p1_err1\",\"p1_err1\",\"p1_err1\",\"p1_err1\",\"p1_err1\",\"p1_err1\",\"p1_err1\",\"p1_err1\",\"p1_err1\",\"p1_err1\",\"p1_err1\",\"p1_err1\",\"p1_err1\",\"p1_err1\",\"p1_err1\",\"p1_err1\",\"p1_err1\",\"p1_err1\",\"p1_err1\",\"p1_err1\",\"p1_err1\",\"p1_err1\",\"p1_err1\",\"p1_err1\",\"p1_err1\",\"p1_err1\",\"p1_err1\",\"p1_err1\",\"p1_err1\",\"p1_err1\",\"p1_err1\",\"p1_err1\",\"p1_err1\",\"p1_err1\",\"p1_err1\",\"p1_err1\",\"p1_err1\",\"p1_err1\",\"p1_err1\",\"p1_err1\",\"p1_err1\",\"p1_err1\",\"p1_err1\",\"p1_err1\",\"p1_err1\",\"p1_err1\",\"p1_err1\",\"p1_err1\",\"p1_err1\",\"p1_err1\",\"p1_err1\",\"p1_err1\",\"p1_err1\",\"p1_err1\",\"p1_err1\",\"p1_err1\",\"p1_err1\",\"p1_err1\",\"p1_err1\",\"p1_err1\",\"p1_err1\",\"p1_err1\",\"p1_err1\",\"p1_err1\",\"p1_err1\",\"p1_err1\",\"p1_err1\",\"p1_err1\",\"p1_err1\",\"p1_err1\",\"p1_err1\",\"p1_err1\",\"p1_err1\",\"p1_err1\",\"p1_err1\",\"p1_err1\",\"p1_err1\",\"p1_err1\",\"p1_err1\",\"p1_err1\",\"p1_err1\",\"p1_err1\",\"p1_err1\",\"p1_err1\",\"p1_err1\",\"p1_err1\",\"p1_err1\",\"p1_err1\",\"p1_err1\",\"p1_err1\",\"p1_err1\",\"p1_err1\",\"p1_err1\",\"p1_err1\",\"p1_err1\",\"p1_err1\",\"p1_err1\",\"p1_err1\",\"p1_err1\",\"p1_err1\",\"p1_err1\",\"p1_err1\",\"p1_err1\",\"p1_err1\",\"p1_err1\",\"p1_err1\",\"p1_err1\",\"p1_err1\",\"p1_err1\",\"p1_err1\",\"p1_err1\",\"p1_err1\",\"p1_err1\",\"p1_err1\",\"p1_err1\",\"p1_err1\",\"p1_err1\",\"p1_err1\",\"p1_err1\",\"p1_err1\",\"p1_err1\",\"p1_err1\",\"p1_err1\",\"p1_err1\",\"p1_err1\",\"p1_err1\",\"p1_err1\",\"p1_err1\",\"p1_err1\",\"p1_err1\",\"p1_err1\",\"p1_err1\",\"p1_err1\",\"p1_err1\",\"p1_err1\",\"p1_err1\",\"p1_err1\",\"p1_err1\",\"p1_err1\",\"p1_err1\",\"p1_err1\",\"p1_err1\",\"p1_err1\",\"p1_err1\",\"p1_err1\",\"p1_err1\",\"p1_err1\",\"p1_err1\",\"p1_err1\",\"p1_err1\",\"p1_err1\",\"p1_err1\",\"p1_err1\",\"p1_err1\",\"p1_err1\",\"p1_err1\",\"p1_err1\",\"p1_err1\",\"p1_err1\",\"p1_err1\",\"p1_err1\",\"p1_err1\",\"p1_err1\",\"p1_err1\",\"p1_err1\",\"p1_err1\",\"p1_err1\",\"p1_err1\",\"p1_err1\",\"p1_err1\",\"p1_err1\",\"p1_err1\",\"p1_err1\",\"p1_err1\",\"p1_err1\",\"p1_err1\",\"p1_err1\",\"p1_err1\",\"p1_err1\",\"p1_err1\",\"p1_err1\",\"p1_err1\",\"p1_err1\",\"p1_err1\",\"p1_err1\",\"p1_err1\",\"p1_err1\",\"p1_err1\",\"p1_err1\",\"p1_err1\",\"p1_err1\",\"p1_err1\",\"p1_err1\",\"p1_err1\",\"p1_err1\",\"p1_err1\",\"p1_err1\",\"p1_err1\",\"p1_err1\",\"p1_err1\",\"p1_err1\",\"p1_err1\",\"p1_err1\",\"p1_err1\",\"p1_err1\",\"p1_err1\",\"p1_err1\",\"p1_err1\",\"p1_err1\",\"p1_err1\",\"p1_err1\",\"p1_err1\",\"p1_err1\",\"p1_err1\",\"p1_err1\",\"p1_err1\",\"p1_err1\",\"p1_err1\",\"p1_err1\",\"p1_err1\",\"p1_err1\",\"p1_err1\",\"p1_err1\",\"p1_err1\",\"p1_err1\",\"p1_err1\",\"p1_err1\",\"p1_err1\",\"p1_err1\",\"p1_err1\",\"p1_err1\",\"p1_err1\",\"p1_err1\",\"p1_err1\",\"p1_err1\",\"p1_err1\",\"p1_err1\",\"p1_err1\",\"p1_err1\",\"p1_err1\",\"p1_err1\",\"p1_err1\",\"p1_err1\",\"p1_err1\",\"p1_err1\",\"p1_err1\",\"p1_err1\",\"p1_err1\",\"p1_err1\",\"p1_err1\",\"p1_err1\",\"p1_err1\",\"p1_err1\",\"p1_err1\",\"p1_err2\",\"p1_err2\",\"p1_err2\",\"p1_err2\",\"p1_err2\",\"p1_err2\",\"p1_err2\",\"p1_err2\",\"p1_err2\",\"p1_err2\",\"p1_err2\",\"p1_err2\",\"p1_err2\",\"p1_err2\",\"p1_err2\",\"p1_err2\",\"p1_err2\",\"p1_err2\",\"p1_err2\",\"p1_err2\",\"p1_err2\",\"p1_err2\",\"p1_err2\",\"p1_err2\",\"p1_err2\",\"p1_err2\",\"p1_err2\",\"p1_err2\",\"p1_err2\",\"p1_err2\",\"p1_err2\",\"p1_err2\",\"p1_err2\",\"p1_err2\",\"p1_err2\",\"p1_err2\",\"p1_err2\",\"p1_err2\",\"p1_err2\",\"p1_err2\",\"p1_err2\",\"p1_err2\",\"p1_err2\",\"p1_err2\",\"p1_err2\",\"p1_err2\",\"p1_err2\",\"p1_err2\",\"p1_err2\",\"p1_err2\",\"p1_err2\",\"p1_err2\",\"p1_err2\",\"p1_err2\",\"p1_err2\",\"p1_err2\",\"p1_err2\",\"p1_err2\",\"p1_err2\",\"p1_err2\",\"p1_err2\",\"p1_err2\",\"p1_err2\",\"p1_err2\",\"p1_err2\",\"p1_err2\",\"p1_err2\",\"p1_err2\",\"p1_err2\",\"p1_err2\",\"p1_err2\",\"p1_err2\",\"p1_err2\",\"p1_err2\",\"p1_err2\",\"p1_err2\",\"p1_err2\",\"p1_err2\",\"p1_err2\",\"p1_err2\",\"p1_err2\",\"p1_err2\",\"p1_err2\",\"p1_err2\",\"p1_err2\",\"p1_err2\",\"p1_err2\",\"p1_err2\",\"p1_err2\",\"p1_err2\",\"p1_err2\",\"p1_err2\",\"p1_err2\",\"p1_err2\",\"p1_err2\",\"p1_err2\",\"p1_err2\",\"p1_err2\",\"p1_err2\",\"p1_err2\",\"p1_err2\",\"p1_err2\",\"p1_err2\",\"p1_err2\",\"p1_err2\",\"p1_err2\",\"p1_err2\",\"p1_err2\",\"p1_err2\",\"p1_err2\",\"p1_err2\",\"p1_err2\",\"p1_err2\",\"p1_err2\",\"p1_err2\",\"p1_err2\",\"p1_err2\",\"p1_err2\",\"p1_err2\",\"p1_err2\",\"p1_err2\",\"p1_err2\",\"p1_err2\",\"p1_err2\",\"p1_err2\",\"p1_err2\",\"p1_err2\",\"p1_err2\",\"p1_err2\",\"p1_err2\",\"p1_err2\",\"p1_err2\",\"p1_err2\",\"p1_err2\",\"p1_err2\",\"p1_err2\",\"p1_err2\",\"p1_err2\",\"p1_err2\",\"p1_err2\",\"p1_err2\",\"p1_err2\",\"p1_err2\",\"p1_err2\",\"p1_err2\",\"p1_err2\",\"p1_err2\",\"p1_err2\",\"p1_err2\",\"p1_err2\",\"p1_err2\",\"p1_err2\",\"p1_err2\",\"p1_err2\",\"p1_err2\",\"p1_err2\",\"p1_err2\",\"p1_err2\",\"p1_err2\",\"p1_err2\",\"p1_err2\",\"p1_err2\",\"p1_err2\",\"p1_err2\",\"p1_err2\",\"p1_err2\",\"p1_err2\",\"p1_err2\",\"p1_err2\",\"p1_err2\",\"p1_err2\",\"p1_err2\",\"p1_err2\",\"p1_err2\",\"p1_err2\",\"p1_err2\",\"p1_err2\",\"p1_err2\",\"p1_err2\",\"p1_err2\",\"p1_err2\",\"p1_err2\",\"p1_err2\",\"p1_err2\",\"p1_err2\",\"p1_err2\",\"p1_err2\",\"p1_err2\",\"p1_err2\",\"p1_err2\",\"p1_err2\",\"p1_err2\",\"p1_err2\",\"p1_err2\",\"p1_err2\",\"p1_err2\",\"p1_err2\",\"p1_err2\",\"p1_err2\",\"p1_err2\",\"p1_err2\",\"p1_err2\",\"p1_err2\",\"p1_err2\",\"p1_err2\",\"p1_err2\",\"p1_err2\",\"p1_err2\",\"p1_err2\",\"p1_err2\",\"p1_err2\",\"p1_err2\",\"p1_err2\",\"p1_err2\",\"p1_err2\",\"p1_err2\",\"p1_err2\",\"p1_err2\",\"p1_err2\",\"p1_err2\",\"p1_err2\",\"p1_err2\",\"p1_err2\",\"p1_err2\",\"p1_err2\",\"p1_err2\",\"p1_err2\",\"p1_err2\",\"p1_err2\",\"p1_err2\",\"p1_err2\",\"p1_err2\",\"p1_err2\",\"p1_err2\",\"p1_err2\",\"p1_err2\",\"p1_err2\",\"p1_err2\",\"p1_err2\",\"p1_err2\",\"p1_err2\",\"p1_err2\",\"p1_err2\",\"p1_err2\",\"p1_err2\",\"p1_err2\",\"p1_err2\",\"p1_err2\",\"p1_err2\",\"p1_err2\",\"p1_err2\",\"p1_err2\",\"p1_err2\",\"p1_err2\",\"p1_err2\",\"p1_err2\",\"p1_err2\",\"p1_err2\",\"p1_err2\",\"p1_err2\",\"p1_err2\",\"p1_err2\",\"p1_err2\",\"p1_err2\",\"p1_err2\",\"p1_err2\",\"p1_err2\",\"p1_err2\",\"p1_err2\",\"p1_err2\",\"p1_err2\",\"p1_err2\",\"p1_err2\",\"p1_err2\",\"p1_err2\",\"p1_err2\",\"p1_err2\",\"p1_err2\",\"p1_err2\",\"p1_err2\",\"p1_err2\",\"p1_err2\",\"p1_err2\",\"p1_err2\",\"p1_err2\",\"p1_err2\",\"p1_err2\",\"p1_err2\",\"p1_err2\",\"p1_err2\",\"p1_err2\",\"p1_err2\",\"p1_err2\",\"p1_err2\",\"p1_err2\",\"p1_err2\",\"p1_err2\",\"p1_err2\",\"p1_err2\",\"p1_err2\",\"p1_err2\",\"p1_err2\",\"p1_err2\",\"p1_err2\",\"p1_err2\",\"p1_err2\",\"p1_err2\",\"p1_err2\",\"p1_err2\",\"p1_err2\",\"p1_err2\",\"p1_err2\",\"p1_err2\",\"p1_err2\",\"p2_err1\",\"p2_err1\",\"p2_err1\",\"p2_err1\",\"p2_err1\",\"p2_err1\",\"p2_err1\",\"p2_err1\",\"p2_err1\",\"p2_err1\",\"p2_err1\",\"p2_err1\",\"p2_err1\",\"p2_err1\",\"p2_err1\",\"p2_err1\",\"p2_err1\",\"p2_err1\",\"p2_err1\",\"p2_err1\",\"p2_err1\",\"p2_err1\",\"p2_err1\",\"p2_err1\",\"p2_err1\",\"p2_err1\",\"p2_err1\",\"p2_err1\",\"p2_err1\",\"p2_err1\",\"p2_err1\",\"p2_err1\",\"p2_err1\",\"p2_err1\",\"p2_err1\",\"p2_err1\",\"p2_err1\",\"p2_err1\",\"p2_err1\",\"p2_err1\",\"p2_err1\",\"p2_err1\",\"p2_err1\",\"p2_err1\",\"p2_err1\",\"p2_err1\",\"p2_err1\",\"p2_err1\",\"p2_err1\",\"p2_err1\",\"p2_err1\",\"p2_err1\",\"p2_err1\",\"p2_err1\",\"p2_err1\",\"p2_err1\",\"p2_err1\",\"p2_err1\",\"p2_err1\",\"p2_err1\",\"p2_err1\",\"p2_err1\",\"p2_err1\",\"p2_err1\",\"p2_err1\",\"p2_err1\",\"p2_err1\",\"p2_err1\",\"p2_err1\",\"p2_err1\",\"p2_err1\",\"p2_err1\",\"p2_err1\",\"p2_err1\",\"p2_err1\",\"p2_err1\",\"p2_err1\",\"p2_err1\",\"p2_err1\",\"p2_err1\",\"p2_err1\",\"p2_err1\",\"p2_err1\",\"p2_err1\",\"p2_err1\",\"p2_err1\",\"p2_err1\",\"p2_err1\",\"p2_err1\",\"p2_err1\",\"p2_err1\",\"p2_err1\",\"p2_err1\",\"p2_err1\",\"p2_err1\",\"p2_err1\",\"p2_err1\",\"p2_err1\",\"p2_err1\",\"p2_err1\",\"p2_err1\",\"p2_err1\",\"p2_err1\",\"p2_err1\",\"p2_err1\",\"p2_err1\",\"p2_err1\",\"p2_err1\",\"p2_err1\",\"p2_err1\",\"p2_err1\",\"p2_err1\",\"p2_err1\",\"p2_err1\",\"p2_err1\",\"p2_err1\",\"p2_err1\",\"p2_err1\",\"p2_err1\",\"p2_err1\",\"p2_err1\",\"p2_err1\",\"p2_err1\",\"p2_err1\",\"p2_err1\",\"p2_err1\",\"p2_err1\",\"p2_err1\",\"p2_err1\",\"p2_err1\",\"p2_err1\",\"p2_err1\",\"p2_err1\",\"p2_err1\",\"p2_err1\",\"p2_err1\",\"p2_err1\",\"p2_err1\",\"p2_err1\",\"p2_err1\",\"p2_err1\",\"p2_err1\",\"p2_err1\",\"p2_err1\",\"p2_err1\",\"p2_err1\",\"p2_err1\",\"p2_err1\",\"p2_err1\",\"p2_err1\",\"p2_err1\",\"p2_err1\",\"p2_err1\",\"p2_err1\",\"p2_err1\",\"p2_err1\",\"p2_err1\",\"p2_err1\",\"p2_err1\",\"p2_err1\",\"p2_err1\",\"p2_err1\",\"p2_err1\",\"p2_err1\",\"p2_err1\",\"p2_err1\",\"p2_err1\",\"p2_err1\",\"p2_err1\",\"p2_err1\",\"p2_err1\",\"p2_err1\",\"p2_err1\",\"p2_err1\",\"p2_err1\",\"p2_err1\",\"p2_err1\",\"p2_err1\",\"p2_err1\",\"p2_err1\",\"p2_err1\",\"p2_err1\",\"p2_err1\",\"p2_err1\",\"p2_err1\",\"p2_err1\",\"p2_err1\",\"p2_err1\",\"p2_err1\",\"p2_err1\",\"p2_err1\",\"p2_err1\",\"p2_err1\",\"p2_err1\",\"p2_err1\",\"p2_err1\",\"p2_err1\",\"p2_err1\",\"p2_err1\",\"p2_err1\",\"p2_err1\",\"p2_err1\",\"p2_err1\",\"p2_err1\",\"p2_err1\",\"p2_err1\",\"p2_err1\",\"p2_err1\",\"p2_err1\",\"p2_err1\",\"p2_err1\",\"p2_err1\",\"p2_err1\",\"p2_err1\",\"p2_err1\",\"p2_err1\",\"p2_err1\",\"p2_err1\",\"p2_err1\",\"p2_err1\",\"p2_err1\",\"p2_err1\",\"p2_err1\",\"p2_err1\",\"p2_err1\",\"p2_err1\",\"p2_err1\",\"p2_err1\",\"p2_err1\",\"p2_err1\",\"p2_err1\",\"p2_err1\",\"p2_err1\",\"p2_err1\",\"p2_err1\",\"p2_err1\",\"p2_err1\",\"p2_err1\",\"p2_err1\",\"p2_err1\",\"p2_err1\",\"p2_err1\",\"p2_err1\",\"p2_err1\",\"p2_err1\",\"p2_err1\",\"p2_err1\",\"p2_err1\",\"p2_err1\",\"p2_err1\",\"p2_err1\",\"p2_err1\",\"p2_err1\",\"p2_err1\",\"p2_err1\",\"p2_err1\",\"p2_err1\",\"p2_err1\",\"p2_err1\",\"p2_err1\",\"p2_err1\",\"p2_err1\",\"p2_err1\",\"p2_err1\",\"p2_err1\",\"p2_err1\",\"p2_err1\",\"p2_err1\",\"p2_err1\",\"p2_err1\",\"p2_err1\",\"p2_err1\",\"p2_err1\",\"p2_err1\",\"p2_err1\",\"p2_err1\",\"p2_err1\",\"p2_err1\",\"p2_err1\",\"p2_err1\",\"p2_err1\",\"p2_err1\",\"p2_err1\",\"p2_err1\",\"p2_err1\",\"p2_err1\",\"p2_err1\",\"p2_err1\",\"p2_err1\",\"p2_err1\",\"p2_err1\",\"p2_err1\",\"p2_err1\",\"p2_err1\",\"p2_err1\",\"p2_err1\",\"p2_err1\",\"p2_err1\",\"p2_err1\",\"p2_err1\",\"p2_err1\",\"p2_err1\",\"p2_err1\",\"p2_err1\",\"p2_err1\",\"p2_err1\",\"p2_err1\",\"p2_err1\",\"p2_err1\",\"p2_err1\",\"p2_err1\",\"p2_err1\",\"p2_err1\",\"p2_err1\",\"p2_err2\",\"p2_err2\",\"p2_err2\",\"p2_err2\",\"p2_err2\",\"p2_err2\",\"p2_err2\",\"p2_err2\",\"p2_err2\",\"p2_err2\",\"p2_err2\",\"p2_err2\",\"p2_err2\",\"p2_err2\",\"p2_err2\",\"p2_err2\",\"p2_err2\",\"p2_err2\",\"p2_err2\",\"p2_err2\",\"p2_err2\",\"p2_err2\",\"p2_err2\",\"p2_err2\",\"p2_err2\",\"p2_err2\",\"p2_err2\",\"p2_err2\",\"p2_err2\",\"p2_err2\",\"p2_err2\",\"p2_err2\",\"p2_err2\",\"p2_err2\",\"p2_err2\",\"p2_err2\",\"p2_err2\",\"p2_err2\",\"p2_err2\",\"p2_err2\",\"p2_err2\",\"p2_err2\",\"p2_err2\",\"p2_err2\",\"p2_err2\",\"p2_err2\",\"p2_err2\",\"p2_err2\",\"p2_err2\",\"p2_err2\",\"p2_err2\",\"p2_err2\",\"p2_err2\",\"p2_err2\",\"p2_err2\",\"p2_err2\",\"p2_err2\",\"p2_err2\",\"p2_err2\",\"p2_err2\",\"p2_err2\",\"p2_err2\",\"p2_err2\",\"p2_err2\",\"p2_err2\",\"p2_err2\",\"p2_err2\",\"p2_err2\",\"p2_err2\",\"p2_err2\",\"p2_err2\",\"p2_err2\",\"p2_err2\",\"p2_err2\",\"p2_err2\",\"p2_err2\",\"p2_err2\",\"p2_err2\",\"p2_err2\",\"p2_err2\",\"p2_err2\",\"p2_err2\",\"p2_err2\",\"p2_err2\",\"p2_err2\",\"p2_err2\",\"p2_err2\",\"p2_err2\",\"p2_err2\",\"p2_err2\",\"p2_err2\",\"p2_err2\",\"p2_err2\",\"p2_err2\",\"p2_err2\",\"p2_err2\",\"p2_err2\",\"p2_err2\",\"p2_err2\",\"p2_err2\",\"p2_err2\",\"p2_err2\",\"p2_err2\",\"p2_err2\",\"p2_err2\",\"p2_err2\",\"p2_err2\",\"p2_err2\",\"p2_err2\",\"p2_err2\",\"p2_err2\",\"p2_err2\",\"p2_err2\",\"p2_err2\",\"p2_err2\",\"p2_err2\",\"p2_err2\",\"p2_err2\",\"p2_err2\",\"p2_err2\",\"p2_err2\",\"p2_err2\",\"p2_err2\",\"p2_err2\",\"p2_err2\",\"p2_err2\",\"p2_err2\",\"p2_err2\",\"p2_err2\",\"p2_err2\",\"p2_err2\",\"p2_err2\",\"p2_err2\",\"p2_err2\",\"p2_err2\",\"p2_err2\",\"p2_err2\",\"p2_err2\",\"p2_err2\",\"p2_err2\",\"p2_err2\",\"p2_err2\",\"p2_err2\",\"p2_err2\",\"p2_err2\",\"p2_err2\",\"p2_err2\",\"p2_err2\",\"p2_err2\",\"p2_err2\",\"p2_err2\",\"p2_err2\",\"p2_err2\",\"p2_err2\",\"p2_err2\",\"p2_err2\",\"p2_err2\",\"p2_err2\",\"p2_err2\",\"p2_err2\",\"p2_err2\",\"p2_err2\",\"p2_err2\",\"p2_err2\",\"p2_err2\",\"p2_err2\",\"p2_err2\",\"p2_err2\",\"p2_err2\",\"p2_err2\",\"p2_err2\",\"p2_err2\",\"p2_err2\",\"p2_err2\",\"p2_err2\",\"p2_err2\",\"p2_err2\",\"p2_err2\",\"p2_err2\",\"p2_err2\",\"p2_err2\",\"p2_err2\",\"p2_err2\",\"p2_err2\",\"p2_err2\",\"p2_err2\",\"p2_err2\",\"p2_err2\",\"p2_err2\",\"p2_err2\",\"p2_err2\",\"p2_err2\",\"p2_err2\",\"p2_err2\",\"p2_err2\",\"p2_err2\",\"p2_err2\",\"p2_err2\",\"p2_err2\",\"p2_err2\",\"p2_err2\",\"p2_err2\",\"p2_err2\",\"p2_err2\",\"p2_err2\",\"p2_err2\",\"p2_err2\",\"p2_err2\",\"p2_err2\",\"p2_err2\",\"p2_err2\",\"p2_err2\",\"p2_err2\",\"p2_err2\",\"p2_err2\",\"p2_err2\",\"p2_err2\",\"p2_err2\",\"p2_err2\",\"p2_err2\",\"p2_err2\",\"p2_err2\",\"p2_err2\",\"p2_err2\",\"p2_err2\",\"p2_err2\",\"p2_err2\",\"p2_err2\",\"p2_err2\",\"p2_err2\",\"p2_err2\",\"p2_err2\",\"p2_err2\",\"p2_err2\",\"p2_err2\",\"p2_err2\",\"p2_err2\",\"p2_err2\",\"p2_err2\",\"p2_err2\",\"p2_err2\",\"p2_err2\",\"p2_err2\",\"p2_err2\",\"p2_err2\",\"p2_err2\",\"p2_err2\",\"p2_err2\",\"p2_err2\",\"p2_err2\",\"p2_err2\",\"p2_err2\",\"p2_err2\",\"p2_err2\",\"p2_err2\",\"p2_err2\",\"p2_err2\",\"p2_err2\",\"p2_err2\",\"p2_err2\",\"p2_err2\",\"p2_err2\",\"p2_err2\",\"p2_err2\",\"p2_err2\",\"p2_err2\",\"p2_err2\",\"p2_err2\",\"p2_err2\",\"p2_err2\",\"p2_err2\",\"p2_err2\",\"p2_err2\",\"p2_err2\",\"p2_err2\",\"p2_err2\",\"p2_err2\",\"p2_err2\",\"p2_err2\",\"p2_err2\",\"p2_err2\",\"p2_err2\",\"p2_err2\",\"p2_err2\",\"p2_err2\",\"p2_err2\",\"p2_err2\",\"p2_err2\",\"p2_err2\",\"p2_err2\",\"p2_err2\",\"p2_err2\",\"p2_err2\",\"p2_err2\",\"p2_err2\",\"p2_err2\",\"p2_err2\",\"p2_err2\",\"p2_err2\",\"p2_err2\",\"p2_err2\",\"p2_err2\",\"p2_err2\",\"p2_err2\",\"p2_err2\",\"p2_err2\",\"p2_err2\",\"p2_err2\",\"p2_err2\",\"p2_err2\",\"p2_err2\",\"p2_err2\",\"p2_err2\",\"p2_err2\"],\"x0\":\" \",\"xaxis\":\"x\",\"y\":[0.02157013812283735,0.0029486515594568784,0.0003713208646770069,0.050102256654903025,0.07517176986211067,0.15061952179011784,0.0002737237986957046,2.7920234844377494,0.11412384003411523,0.13637447329799599,0.04569890627118631,0.07536456278817415,0.039740308075254846,0.4519591026474085,0.30019027034944545,0.2679631820622427,0.31893294924704013,0.9008271532475126,0.31071461068310885,1.6446585767108317,0.1285595730282222,4.049441545688277,0.0005960455527796281,0.014141604834637536,1.7302963837908194,0.0794375864718688,2.065713796210682,0.006489468216099647,0.061843780703156256,0.000987811860895272,0.009681909458106507,0.19517241435360277,0.013411209046104775,8.221073095803557e-05,0.014335995568051232,0.0032395669347901387,0.0006268780198909013,0.003169927442409355,0.005608533637171938,0.01938851479548543,0.0067446146730821485,0.14127863764282486,0.10677068259487671,0.012271110978911549,0.003383912222860588,0.007625962852686868,0.024819926837141196,0.06546167800984636,0.21308981961747056,0.05092422392510147,0.4442174027546746,0.21689492177239372,0.2129358299450612,0.002211273411246313,0.16226692383857352,0.13699137091829833,0.5034203201237445,0.09629519252548155,1.9954311233907187,0.14391295080091743,0.9140180147337128,0.15005570731863505,1.0597531286117432,2.155213801855961,1.3183688223568097,0.11196289207868229,1.1139609022267005,4.235419766573204,3.5462324322364323,0.008105540223982112,0.017402407976699,0.14259661951580616,5.540146348681614e-05,0.2148622778872497,0.023733709170272288,0.02313343558500066,0.0033180398063777385,0.011967421816822815,0.039203598108923765,0.07214559052289263,0.008223575378822661,0.0021535646521247454,0.00310879543672093,0.03524187501947749,0.0004502519694147093,0.0014284768380372005,0.10728371671903189,0.07813615460669451,0.009812403777355703,0.001880143983315584,0.011669259046872271,0.056035372147938606,0.001841640703063488,0.4346319797721585,0.28725286511627524,0.003329364894470384,1.1308200153700223,0.4329163114485123,0.16972887462909456,1.0973356399529253,2.499320600619742,0.010583798057473335,0.2820232077318384,2.019005682040435,0.9438060487658342,0.5916291843313469,2.4300018826370165e-06,0.020879631249169132,0.00037139124767921806,0.21537103251664785,0.004475441197735918,0.15416774055801047,0.022638463881114016,0.010995467382471041,0.13568487158819736,0.053514091053656815,0.0001741378375689071,0.21998164097247017,0.3573199372794193,0.06642624238704471,0.0931526620760849,0.007267231689119812,3.012467928069088e-05,0.06640342811201953,0.5424256768078424,0.011610707384711559,0.0030462666453761364,0.08165996228028463,0.00018015948508116848,0.13974199739250384,0.08166522564838309,0.3550987567533582,2.734690675027924,0.1471844731183928,0.6120880727729191,2.8244831858757458,0.10327084338725606,3.65870081338622,0.48413196022622346,4.69058664188902,0.012192883294928382,0.2709668725374416,1.6907649026144544,0.03978489533222243,0.04726458659977081,0.0034708934424226025,0.02034087863530779,0.0031727123485608116,0.07931837870569201,9.489442373130539e-05,0.031149921789503168,0.12177403829702325,0.010498368148478912,0.005314811677177504,0.004776431927009843,0.005332770352536098,0.1067530937567527,0.2907427698136015,0.32458663143278793,0.0020322303428220883,0.00017821039582810157,0.13384889426787502,0.7438902079253266,0.5886944703169508,0.18071932593859627,0.06001659269100158,0.0008154064949653158,0.029799860859020814,0.8109145781069795,0.06943929388261709,0.013621828966810976,0.00043425282697547794,0.027794950742112162,0.0015043715827397625,0.00027527857301586463,0.01602849021543184,0.005328963494613138,0.023598822030498068,0.005167637248957245,0.03132112645266477,0.0006080160973597456,0.008908557755541434,0.0044130755632586305,0.0920063544025066,2.516749983610259,0.009326330906584085,0.036990861146012494,0.0029711916339150023,0.007829792048186785,0.021878781765921892,0.47570121681351285,0.4112841483628129,0.0054208727642499985,0.24996278013569853,0.8182465956341015,1.0529455264327072,0.03281607538821567,0.9302656725045864,0.20759881670282948,0.1576528581425677,0.27550271113354086,0.3555039260814456,0.2768479807915804,0.17441671595858807,0.6739821804296126,0.16848347241307668,0.48045865478304867,2.5550599156848812,1.006759204422565,0.4960108161974727,1.0458034398478677,0.0015374669099998228,0.6354171689798683,0.0011980410128666456,0.008513364404437545,0.00025760428329887024,2.4891019631237594e-05,0.002127141727424991,0.0008036302346558525,0.005034332202769367,0.018112615008694533,0.01409328526631553,5.67366101327699e-05,0.0005452962556807203,0.003476817766150526,0.12959024308347217,0.015118452140014267,0.02287747290437158,0.025374163378980623,0.002295472109730896,0.6631050417030876,4.630633844169923,0.04496459617043671,0.028372613961035943,0.06383617334015743,0.1544247764048945,0.22612933895675136,0.05936145185898991,0.41187402883887536,0.6533830623677499,0.07333026226521129,6.777835430835902,1.8348422474931665,0.17846187095651359,0.009397206979021895,0.08461959812090915,0.48060407077958384,0.053326840525978185,0.1544417873509522,0.006313772849743383,0.007042364338614578,0.004623434354619724,0.025726654762389195,0.019538378066185438,0.012548099035055733,0.010758161108636127,0.009904687334785037,0.005541299507576253,0.009948472179029416,0.001477950029092543,0.02511597268136281,0.011155732119332925,0.0014367551098342212,0.01018481610833175,0.07297440173367994,0.15262240360840904,0.33122992287042813,3.2376945544627834e-05,0.25372516781676574,0.016111419492936138,0.4101311844343034,0.1631487854046793,0.12189936872524973,1.7260564079372043,0.002928626387201177,0.11163803884795549,0.45902082739054134,0.02242694911041585,0.9026153031157623,2.6520355203367276,4.490968468295597,0.005660728276873192,0.028199840886795068,0.35085899216269417,1.273686243530859,2.2858495807792822,0.3799892362041818,0.11966322110772885,0.31492285295995004,3.5249475640962578,2.2638218898244777,1.5386617429602694,3.040765811246197,0.014320497257393311,0.0014610486111208399,0.0013238287990044147,0.03311302750185728,0.0568402351427797,0.02578477868354245,0.006016576095656813,0.0021422035589683626,0.014487765986512465,0.007814454267906753,0.01618238009689949,0.16315396495004297,0.25870280140272683,0.005902345527459882,0.023716778708192283,0.000688020928493127,0.001445025525281654,5.291611217055294e-05,0.14213101458095342,0.1996705214017346,7.877905308288276,1.3116233623040737e-06,2.56431850249319e-08,1.953369168307552e-06,4.257136314569174e-06,1.8700013226314461e-06,0.00035271871964617194,1.010062615824479e-07,0.00022196556395479144,8.308104343427331e-08,6.917228687841242e-07,2.3387623522323492e-08,4.357188021330315e-06,1.9743188110836972e-07,0.001038738336431583,0.0002109053602572267,2.7468818456883086e-07,0.0019391980846078444,0.02025836826179903,2.067425705221813e-06,0.0016205795313688459,6.684931992776627e-05,0.0004343589637968883,3.0278488094829395e-10,0.5974571250855958,0.015355972209312984,2.4819169729260836e-06,0.004563024288529935,0.00023999738674408742,4.390784167619001e-05,5.564000925306294e-08,0.0002952950104384016,0.403306815920571,7.671085053039727e-05,7.23738714173555e-08,6.54583942308386e-08,6.852339165420093e-08,0.014211022655033061,0.0027117266936875547,0.00010557072349161179,0.0034339362885750092,0.005610333080154892,0.004908327442999745,2.996757237995603,1.5096713535150866e-07,1.2849724897184936e-06,13.613452860444118,0.26949149150888796,3.3490032124021026e-05,1.355655419915333e-05,0.000593390553040854,0.00013929117001688283,1.4214030006711993e-05,0.0007066319689242918,1.1212972550274283e-08,5.640500942528661e-05,3.478000533321118e-06,0.0003414002061595237,1.1006619399626712e-05,2.741271170745216e-05,0.0007068581435423871,0.0022776034423587057,5.9919108486089036e-05,0.0034281478211981432,0.0055439906685375755,0.0011014523582332303,10.76757391755409,0.0004241119663427702,0.0001441502129717561,0.002443269559251822,6.173120878967052e-07,0.00043696984252932115,0.01958501497316448,7.510537506339252e-07,0.1097042078271936,0.308421845095031,1.6411623916476925e-07,9.887191510061893e-07,4.3939611596491686e-08,5.0446315147479e-06,2.5359727076379247e-07,0.04546298870989573,9.198755318165884e-05,0.029466171741205596,0.006418009740128839,1.4360278934271713e-05,7.94360802926961e-09,1.2296956225491011e-07,9.495911950129662e-07,4.156706969387288e-09,0.000921685892475331,2.138938999209002e-07,0.04668834612002102,2.4840643967343022e-05,1.1639596241438373e-05,9.974505216292927e-06,1.0616676947629492e-07,0.022887210481776544,1.4992106081737593e-05,0.00016550242080181417,2.5110751160561953,0.000416243116274958,2.444524292918834e-05,2.6627152049406436e-05,0.0002148463462042362,9.098036108815304e-06,0.0003738826781366676,1.1287109989837729e-07,8.559785726873291e-07,6.583162997588765e-05,0.0004680485293683916,0.0003833031483991823,0.0015310653903774316,7.967419191604907e-08,0.0016717158668915586,0.039076285538754,0.0025851253700948035,0.0002627635899526472,0.07075986939482135,0.39023155903381235,0.00810508916773196,3.2883891124076956e-06,6.79309872714389e-08,2.190340493192722e-08,1.240839180927671e-06,2.5073011598014174e-05,3.435150675342905e-06,4.552195655519308e-08,5.643119461392509e-07,1.5513047620465186e-08,1.1490180643914269e-06,1.807664408324028e-07,3.518763589938825e-05,2.064159722543061e-05,1.408996448046736e-07,3.523914279620576e-05,8.329267724794851e-06,9.354053422210438e-08,5.897219039593869e-05,9.449379083774572e-07,1.7062648664089622e-05,8.061685892283309e-06,6.582838644005628e-07,2.1158154610617735e-06,2.3636909190848536e-08,0.00391636946503185,1.4903133067594243e-06,0.0043459615153622405,4.5339023652862554e-05,0.00027155250900091487,1.5628530828950444e-06,0.0005927973711847815,0.0003001087843864174,0.000383882320435721,0.000517012231949325,0.0002892584226978699,0.0016977244132148934,0.010462560247097907,0.020852383216456667,5.562711632887313e-06,1.1492751389959729e-08,9.172033454592986e-08,1.8110210971878805e-06,8.198725041035474e-05,3.6431097604244725e-05,4.884628964495085e-06,6.498584561763383e-07,1.899271918954042e-07,8.237659547382939e-07,2.720841789592041e-06,1.2333256746807493e-07,1.8103478706478956e-06,1.2357208728549009e-05,4.789319658598319e-06,5.442431765115979e-06,5.7113848849635685e-06,4.996957277313912e-06,6.042722009004948e-05,0.00022804694603682207,1.5869955468008084e-05,2.081858651053771e-06,0.00017996712937697626,9.89492412227929e-06,7.432822807825097e-06,0.01664463600610365,0.007970732377808038,0.0001420639668065831,1.021526628040626e-06,3.80214695404773e-07,8.594027594383802e-08,2.886986814361961e-05,0.00016686151797207704,0.011407191889857142,1.1672834270137837e-07,1.256381683932629e-06,7.895417930074284e-07,5.606729102296235e-07,3.816699874342665e-08,5.055660607060923e-07,1.9715965377495215e-07,1.0866126089206761e-07,2.0498722193354216e-07,3.914269562899292e-07,1.6481161233827595e-07,7.144276069594555e-08,8.870136981477463e-07,4.124647148271866e-06,1.7971315823225007e-06,0.09251709553358277,0.0002719278179843217,0.011002034713406769,1.3118002347282669e-05,7.713013262227823e-09,1.0444937494449486e-05,1.058312744105417e-06,5.011515443796305e-07,9.63704730664249e-08,4.1945724469299056e-08,3.139194099128594e-07,5.596350467419906e-07,4.854651935605448e-06,3.3115075849614615e-06,2.6904491129804885e-06,1.7206584213178428e-07,9.28634335470302e-07,4.1271670006822803e-07,0.11073313798375829,1.1002614133586593e-06,1.7740730094719425e-07,2.7143742518982544e-06,2.1170594774067565e-08,7.79771610823903e-05,1.7993744549571697e-05,1.689335991688247e-07,7.540448833936701e-07,2.909244851299912e-07,5.597410131409046e-07,1.6730957089937403e-07,4.201611894397626e-07,9.264277900764698e-07,3.7619635085325185e-06,5.506416427662775e-07,0.00025588626479192383,3.5694537235495794e-06,6.21165746860949e-07,5.593742856138585e-08,3.8524529334297826e-08,8.027708763331749e-07,3.243780146740957e-08,2.4346054777115435e-06,0.00011714464889080348,2.3405392357581216e-05,0.00015680465806901505,0.08023934660707269,5.405581006778794e-08,2.1406392312087864e-06,0.14235403661197663,6.648487193881638e-08,0.0028219395344647015,7.763694569695729e-08,6.333611691697495e-05,0.023371892946311163,1.5006461898292832e-07,1.8770657225086985e-06,1.5992534168131858e-06,1.5836907105463073e-05,6.888855794765168e-05,2.120956557670979e-05,3.6971013119028914e-10,2.0061422437130363e-06,9.596327800216485e-09,2.071050568373188e-05,9.03963371720924e-07,5.712126759487576e-05,6.374770829529658e-07,5.3386873473276155e-08,0.0004841547143686534,0.0003030032863015952,7.018466170210136e-07,0.0011349550223589738,0.010940163353944397,0.0005076330876174097,9.781914030558905e-08,1.5012196315879876e-08,0.00017600111781844883,1.6844482450186748e-05,0.0009448285031575832,1.65959475488625e-05,1.3132728416509865e-05,0.05770999890090176,0.00102233833345296,0.00343767221922533,8.097022125977571e-06,0.002881592661669027,0.026828774440987718,1.4068029341383808e-07,6.717989657934362e-08,3.4131856417388767e-06,2.8370428290184326e-06,6.775168954483546e-09,7.421846973113702e-07,1.2291729018725873e-08,0.0021837455777498687,1.1612289643872e-07,4.73892993824403e-08,1.3303045024981066e-06,0.0011658974319231708,1.1758643709950255e-07,5.308773961272989e-07,1.693256137036435e-08,4.07375883365537e-09,1.150769708722393e-08,2.606338067249429e-07,6.437870225484229e-07,5.806634877989239e-06,1.8713871353891871e-07,7.581180400593679e-09,6.027799732668108e-08,3.856118028720816e-07,3.304640033998364e-07,1.0563209141338884e-05,9.82669691896006e-08,1.9082980441856907e-05,4.1270317632665584e-07,2.0802907120674955e-07,4.3234692888475466e-07,5.434448427044089e-07,6.107231494785874e-08,3.421394578979269e-05,9.22393525016019e-06,1.665471739587727e-07,4.4498490759906454e-05,0.00032271212510461635,1.7453191993788341e-06,6.281650330014436e-05,3.846584975756409e-06,3.368545361113447e-05,3.800592448185927e-08,0.0015583772173766131,0.0004225697914965152,4.4089545397249066e-07,0.00013330063855603686,3.673988001202604e-06,1.9141104548654488e-06,6.294381567251186e-08,4.696143486342627e-06,0.0019092880832736155,2.807431807729414e-06,1.4087090136766677e-08,3.6388179476717775e-07,7.387014709228212e-08,4.9412942809549345e-05,2.0642459772901097e-05,5.548422259450536e-06,4.36241616114001e-05,3.7727527547650556e-05,6.825557332508687e-05,0.014423471952692083,2.8800703055482187e-06,1.361973506337205e-06,0.022665884919911117,0.0015928455723255215,2.013308309636392e-06,1.3066703571888272e-06,1.133866868672785e-05,7.784411986691292e-06,1.3311157642618944e-06,1.911908909321225e-05,4.411226219802289e-09,4.65567257328117e-06,5.393587501556741e-07,2.450056210123088e-05,8.657390567395544e-07,1.0070865337491063e-05,1.723727845608913e-05,6.757964389002939e-05,3.3339826525300156e-06,9.344265181081542e-05,0.00016016514312075153,4.4136679418365195e-05,0.022316295675874693,2.132226217396897e-05,1.648201575455546e-05,0.00010123750779598313,3.3341772186394774e-07,1.5650481473006637e-05,0.00018983514734490018,7.502064392637623e-08,0.0007464239870294176,0.0009843590876284112,8.39997654587701e-07,2.783642867423901e-07,2.094038966376656e-07,2.634831274909872e-06,9.692800182112158e-07,0.00017125657740203035,1.6045855964773146e-06,0.00010425216294901542,6.298568761138937e-05,7.671733485602764e-07,2.5288704362333157e-08,1.1450286956991415e-06,1.7978362384417157e-06,3.3816143100641184e-07,6.814026513652257e-06,3.4891139951444134e-07,0.00027289647432809987,1.9066797456007903e-06,1.5385237005819834e-06,1.196875598052082e-06,6.990595807448046e-08,0.0004211499810014101,1.76699347411773e-06,6.435568524657494e-06,0.05231362741933246,3.13458842187861e-05,1.157750280355423e-06,2.138254169764711e-06,1.640942657817657e-05,1.696606109218812e-06,1.5909833506897684e-05,2.621363049083682e-09,2.9730875172613803e-07,1.0415559485782302e-06,1.432778017171158e-05,5.0190719940993246e-06,3.0072261472200485e-05,4.491931382976504e-07,2.0992230959664908e-05,0.00030646322554294634,3.235170499348417e-05,1.778457711704677e-06,0.0005799946545434916,0.004218054427332431,7.784546104739511e-05,3.921108188751193e-07,1.702478465759195e-08,1.5092283045437015e-09,1.8703520738145233e-07,5.5650971661886795e-06,1.9380862271895237e-07,9.987426792163922e-09,1.2773191198181332e-07,1.7501647146991872e-09,2.2880157031298157e-07,6.66084640932176e-08,2.730092126876395e-06,4.514083845097959e-06,9.53751967924892e-08,4.1361928490321e-06,2.7510335405078095e-06,6.699499479241857e-08,9.295325886974646e-06,3.746136691539287e-07,6.689705106681171e-06,2.2668396893759885e-06,1.3603077843942271e-06,1.0865656448227108e-06,2.4747280974496645e-08,4.415864153021756e-05,1.9824456814471143e-07,3.779960740658112e-05,8.969573166556951e-07,7.281342860931097e-06,4.0580503133802474e-08,1.0927894187215316e-05,8.779322643530643e-06,5.222361094869527e-06,5.404947564136996e-06,3.732423141300475e-06,1.4061020290582902e-05,0.00011765317144855164,0.00023263860723018887,8.726252790566264e-07,3.89639874351739e-09,5.355146876140061e-09,3.806674240929409e-07,1.33122007295666e-05,4.273434187983871e-06,8.40764751064e-07,1.5600344490186636e-07,7.097329198320184e-08,1.4397121533301495e-07,8.580360871414822e-07,5.3991907600627236e-08,1.574505900523889e-07,2.787458270688695e-07,8.417833281784902e-07,3.537232955152877e-07,1.1650303958070114e-07,4.232666724557305e-07,1.5361557873256734e-06,4.513569872737561e-06,5.036529157543264e-07,6.467822097458151e-07,1.7689346415069864e-06,8.912212259465154e-07,7.594084343384313e-07,0.00014515493461456438,0.00021136362438404442,3.7572945577068846e-06,1.370780651407085e-07,4.185712687454194e-08,2.0835442843927595e-08,1.342163183552084e-06,8.762306573761347e-06,0.00016597180190295832,2.318201907083127e-08,3.1438068272166897e-07,5.719274155407625e-07,7.760849185259935e-07,3.501069412203937e-08,6.843233770824019e-07,1.7323869886062896e-07,1.0239536596301972e-07,2.0099410604824236e-07,6.04502456022731e-07,1.833013789526168e-07,1.6990098850203054e-07,5.123281646454721e-07,5.807694798741732e-07,1.0957032198236386e-06,0.0012721655674783497,1.5527186361144038e-05,0.00017017548736448886,2.8298650182956998e-06,4.201691796604303e-09,1.6654588571680913e-06,7.305161852004611e-08,1.10678840689494e-07,1.9554600145666827e-08,3.4054824642890828e-09,4.403565066025415e-08,5.8261307124274077e-08,2.907500553942613e-07,3.5550113353115595e-07,3.647884908652881e-07,1.2191890084336346e-08,6.858688139438281e-08,1.0829042537017263e-07,0.0007180801825980111,3.764628917650156e-07,4.858406488472563e-08,2.7710967967965894e-07,5.949850199436408e-09,7.532130496493199e-06,6.197203270958877e-06,6.159793619929969e-08,1.3272309805069402e-07,9.756082534327598e-08,1.9672311205601126e-07,1.3640194321214113e-07,1.0707038536479943e-07,3.9569321084286725e-07,1.1096868906207799e-06,1.386068634521386e-07,3.3117420811571226e-05,1.6205241534679053e-06,8.468624354022022e-07,1.0400434384120018e-07,4.082498850242501e-07,3.6048597026795465e-07,3.411991059915423e-08,4.845364109049631e-07,7.031302372101989e-06,7.38926969586602e-07,3.949167152414486e-06,0.0003474135667915885,2.987204091010444e-07,7.256377555242808e-07,0.0004929516928260215,3.2430451059548085e-07,1.8910075012016916e-05,1.7266854244663486e-07,3.855250881601287e-06,0.0001568242446477284,3.978454948545163e-08,7.937797512062714e-08,1.1205224665273485e-07,2.0408940588810825e-06,3.3981442279520694e-06,2.3354162353735333e-06,2.0339264086991267e-10,5.287900680211596e-07,1.344570546380364e-07,2.3492954352604577e-06,2.1432214119762932e-07,3.0854446352543906e-06,4.62519955457074e-06,1.1787560758002025e-08,1.2235080574431063e-05,1.3397530384485677e-05,1.2890364764409573e-07,4.087265585970626e-05,0.00027565894458524224,3.867233556670011e-05,3.532244175668335e-07,2.5391079254218366e-07,9.073168072280976e-06,2.764908212122338e-06,4.589774476610786e-05,1.8305403356463865e-06,1.118015724511032e-06,0.0007263707107479663,5.705251398625086e-05,0.00011309794164372112,1.9499647981301813e-06,0.00010832615037423886,0.0001334857304842078,5.6628657758740956e-08,7.820478012184627e-08,6.091674312781545e-07,6.952877624567159e-07,17.74864391029541,2.731256387434387e-07,4.939655724668939e-08,2.7707107962037816e-05,2.4982121564256878e-08,1.8726993964564712e-08,3.0234703222135145e-07,0.00013606633961547993,3.0771369130088207e-08,1.5495616419566132e-06,3.777890794861989e-09,1.669983318040345e-09,3.6610120739708113e-09,2.736153439672447e-07,2.0828733591099197e-07,4.4552542564299705e-06,1.871387135389187e-07,7.581180400593679e-09,6.02779973266811e-08,3.856118028720816e-07,3.304640033998364e-07,1.0563209141338886e-05,9.82669691896006e-08,1.9082980441856904e-05,4.127031763266559e-07,2.0802907120674955e-07,4.3234692888475466e-07,5.434448427044089e-07,6.107231494785874e-08,3.421394578979268e-05,9.22393525016019e-06,1.665471739587727e-07,4.449849075990646e-05,0.00032271212510461635,1.7453191993788341e-06,6.281650330014436e-05,3.846584975756409e-06,3.368545361113446e-05,3.8005924481859274e-08,0.0015583772173766136,0.0004225697914965153,4.4089545397249066e-07,0.0001333006385560369,3.673988001202604e-06,1.9141104548654488e-06,6.294381567251184e-08,4.696143486342627e-06,0.0019092880832736155,2.8074318077294147e-06,1.4087090136766679e-08,3.6388179476717775e-07,7.387014709228212e-08,4.9412942809549345e-05,2.0642459772901097e-05,5.548422259450536e-06,4.362416161140009e-05,3.7727527547650556e-05,6.825557332508687e-05,0.014423471952692085,2.8800703055482187e-06,1.3619735063372047e-06,0.022665884919911113,0.001592845572325521,2.0133083096363918e-06,1.3066703571888272e-06,1.133866868672785e-05,7.784411986691292e-06,1.3311157642618946e-06,1.911908909321225e-05,4.411226219802289e-09,4.6556725732811706e-06,5.393587501556741e-07,2.450056210123088e-05,8.657390567395542e-07,1.0070865337491063e-05,1.723727845608913e-05,6.757964389002939e-05,3.3339826525300156e-06,9.344265181081544e-05,0.00016016514312075153,4.41366794183652e-05,0.022316295675874693,2.132226217396897e-05,1.648201575455546e-05,0.00010123750779598313,3.3341772186394774e-07,1.5650481473006637e-05,0.00018983514734490018,7.502064392637624e-08,0.0007464239870294176,0.0009843590876284114,8.39997654587701e-07,2.783642867423901e-07,2.094038966376656e-07,2.634831274909872e-06,9.692800182112158e-07,0.00017125657740203032,1.6045855964773146e-06,0.00010425216294901542,6.298568761138937e-05,7.671733485602763e-07,2.5288704362333157e-08,1.1450286956991417e-06,1.7978362384417153e-06,3.3816143100641184e-07,6.814026513652258e-06,3.4891139951444134e-07,0.0002728964743280998,1.9066797456007903e-06,1.5385237005819834e-06,1.196875598052082e-06,6.990595807448046e-08,0.0004211499810014102,1.76699347411773e-06,6.435568524657492e-06,0.05231362741933246,3.13458842187861e-05,1.157750280355423e-06,2.1382541697647107e-06,1.640942657817657e-05,1.696606109218812e-06,1.5909833506897684e-05,2.621363049083682e-09,2.973087517261381e-07,1.0415559485782304e-06,1.432778017171158e-05,5.0190719940993246e-06,3.0072261472200485e-05,4.491931382976504e-07,2.0992230959664904e-05,0.00030646322554294634,3.2351704993484166e-05,1.778457711704677e-06,0.0005799946545434917,0.004218054427332431,7.784546104739511e-05,3.921108188751193e-07,1.702478465759195e-08,1.5092283045437015e-09,1.8703520738145233e-07,5.5650971661886795e-06,1.9380862271895237e-07,9.987426792163922e-09,1.2773191198181332e-07,1.7501647146991872e-09,2.2880157031298163e-07,6.66084640932176e-08,2.730092126876395e-06,4.514083845097958e-06,9.53751967924892e-08,4.136192849032101e-06,2.7510335405078095e-06,6.699499479241857e-08,9.295325886974646e-06,3.746136691539287e-07,6.689705106681171e-06,2.2668396893759885e-06,1.360307784394227e-06,1.086565644822711e-06,2.4747280974496645e-08,4.415864153021756e-05,1.9824456814471148e-07,3.779960740658112e-05,8.969573166556951e-07,7.281342860931098e-06,4.058050313380248e-08,1.0927894187215316e-05,8.779322643530643e-06,5.222361094869527e-06,5.404947564136996e-06,3.7324231413004756e-06,1.4061020290582902e-05,0.00011765317144855164,0.00023263860723018884,8.726252790566264e-07,3.89639874351739e-09,5.355146876140061e-09,3.806674240929409e-07,1.33122007295666e-05,4.273434187983871e-06,8.40764751064e-07,1.5600344490186639e-07,7.097329198320184e-08,1.4397121533301495e-07,8.580360871414819e-07,5.399190760062725e-08,1.574505900523889e-07,2.787458270688695e-07,8.417833281784902e-07,3.537232955152877e-07,1.1650303958070114e-07,4.2326667245573057e-07,1.5361557873256734e-06,4.513569872737561e-06,5.036529157543264e-07,6.46782209745815e-07,1.7689346415069864e-06,8.912212259465152e-07,7.594084343384311e-07,0.00014515493461456438,0.00021136362438404442,3.7572945577068846e-06,1.370780651407085e-07,4.185712687454194e-08,2.0835442843927595e-08,1.342163183552084e-06,8.762306573761347e-06,0.00016597180190295832,2.3182019070831266e-08,3.1438068272166897e-07,5.719274155407626e-07,7.760849185259933e-07,3.501069412203937e-08,6.843233770824019e-07,1.7323869886062896e-07,1.0239536596301972e-07,2.0099410604824233e-07,6.045024560227311e-07,1.833013789526168e-07,1.6990098850203057e-07,5.123281646454721e-07,5.807694798741732e-07,1.0957032198236386e-06,0.0012721655674783497,1.5527186361144038e-05,0.0001701754873644889,2.8298650182956998e-06,4.201691796604304e-09,1.6654588571680913e-06,7.305161852004611e-08,1.1067884068949399e-07,1.9554600145666827e-08,3.4054824642890828e-09,4.403565066025414e-08,5.8261307124274077e-08,2.907500553942613e-07,3.5550113353115595e-07,3.6478849086528804e-07,1.2191890084336346e-08,6.858688139438281e-08,1.0829042537017263e-07,0.0007180801825980111,3.764628917650156e-07,4.8584064884725636e-08,2.77109679679659e-07,5.949850199436408e-09,7.532130496493199e-06,6.197203270958876e-06,6.159793619929968e-08,1.3272309805069405e-07,9.756082534327598e-08,1.967231120560113e-07,1.3640194321214113e-07,1.0707038536479942e-07,3.9569321084286725e-07,1.1096868906207799e-06,1.386068634521386e-07,3.311742081157122e-05,1.620524153467905e-06,8.468624354022022e-07,1.0400434384120018e-07,4.0824988502425e-07,3.6048597026795465e-07,3.411991059915423e-08,4.845364109049631e-07,7.031302372101989e-06,7.38926969586602e-07,3.949167152414486e-06,0.0003474135667915885,2.9872040910104443e-07,7.256377555242807e-07,0.0004929516928260215,3.243045105954809e-07,1.8910075012016916e-05,1.7266854244663486e-07,3.855250881601287e-06,0.00015682424464772836,3.978454948545163e-08,7.937797512062714e-08,1.1205224665273485e-07,2.0408940588810825e-06,3.3981442279520694e-06,2.3354162353735333e-06,2.0339264086991272e-10,5.287900680211596e-07,1.3445705463803642e-07,2.3492954352604577e-06,2.1432214119762932e-07,3.0854446352543906e-06,4.62519955457074e-06,1.1787560758002027e-08,1.2235080574431061e-05,1.3397530384485677e-05,1.2890364764409573e-07,4.087265585970626e-05,0.00027565894458524224,3.867233556670011e-05,3.532244175668335e-07,2.5391079254218366e-07,9.073168072280976e-06,2.764908212122339e-06,4.589774476610785e-05,1.8305403356463865e-06,1.118015724511032e-06,0.0007263707107479663,5.705251398625086e-05,0.00011309794164372115,1.9499647981301813e-06,0.00010832615037423886,0.0001334857304842078,5.662865775874095e-08,7.820478012184626e-08,6.091674312781544e-07,6.95287762456716e-07,17.74864391029541,2.731256387434387e-07,4.939655724668939e-08,2.7707107962037816e-05,2.498212156425688e-08,1.8726993964564712e-08,3.023470322213514e-07,0.00013606633961547993,3.0771369130088207e-08,1.5495616419566132e-06,3.77789079486199e-09,1.669983318040345e-09,3.6610120739708113e-09,2.736153439672447e-07,2.0828733591099197e-07,4.4552542564299705e-06,2.1064756921022324e-18,1.9419915996486887e-19,1.423882438240079e-19,2.7261243946426453e-18,4.740431752047538e-18,2.422418912426639e-17,7.39567839721748e-18,1.2814862463660368e-16,3.0385514389058054e-16,5.545721341424992e-18,1.4191437836463927e-15,5.352114238704343e-18,1.7379086228585736e-18,8.633131055469784e-17,3.098508072303107e-17,1.3052702086283428e-17,7.809313337270002e-17,3.9280633528474796e-16,1.3301196852254513e-16,1.8681292221085047e-16,1.7071714381555476e-17,2.0324656397924747e-16,1.2229427289125103e-15,3.1033054614243424e-16,8.894303198156234e-16,6.382011725446954e-18,2.982193113116382e-16,4.297116614899182e-18,6.408899348599893e-18,5.6243264356655015e-18,5.706502611764151e-18,6.901121120559708e-16,7.860193681994146e-18,2.1091884840645005e-19,1.8161088488608234e-16,6.493617051365157e-18,1.3117350535271225e-17,1.1998552300473807e-17,2.228362261784928e-17,4.232426462030366e-17,1.9371687599607478e-17,7.251312625034102e-17,5.300004414836402e-15,4.635748104998388e-15,1.1137928912045295e-16,2.88108221926325e-15,7.18782020657915e-16,9.316105295102465e-18,9.874856275854101e-18,1.6561397924728938e-17,3.3539808448335827e-17,9.767585471684553e-18,3.9590693442755556e-17,1.5935478679557044e-19,2.970855098657237e-17,6.7643746836160294e-18,1.3517921908897873e-16,5.2948245458094294e-18,3.106182872535169e-16,3.215483200064113e-17,1.5353095553035878e-16,1.428267454144995e-17,1.9493881397677016e-16,3.5426731476569305e-16,1.3576115880276488e-16,3.5310894801953445e-15,8.255012066710922e-17,1.496700049948637e-16,3.222000728302304e-16,1.40783617847519e-17,4.282867637575384e-17,1.4052371198770415e-16,5.729432664495963e-19,3.877905446488706e-16,2.398583349547214e-16,3.691681179564441e-16,6.043541940923209e-18,9.210576960685734e-17,1.0684252678446007e-16,3.43307834952361e-16,4.925325515339281e-17,2.138315627491064e-18,2.816060877256442e-17,4.7206520484988374e-17,3.1320407768950224e-18,8.886590585189736e-18,1.3040521223474118e-15,2.815567186402706e-16,5.5462258244175e-15,3.8466787996702946e-18,4.614523202848176e-17,1.2179250121676504e-16,1.1189497175265839e-17,1.6276233220947278e-17,1.1408014915249351e-17,3.664411729462602e-18,5.922485132183834e-16,1.6540293392709297e-17,1.9200493731604565e-17,8.321334444575394e-14,1.8329890887406094e-16,4.200886472315332e-18,1.3379923871921292e-17,9.751015092983766e-17,2.6524210273038996e-17,5.20172538685138e-17,4.6515528369436105e-21,8.168783882192298e-18,1.258691137778959e-18,3.3589975826206855e-17,5.01966362754671e-18,4.515443231212916e-17,2.4737468198767193e-16,2.013277663260766e-17,1.8353452527543068e-16,3.0927058860607504e-17,9.190739954924212e-19,3.6303014807804343e-16,3.4812613455951193e-15,5.710027388922742e-17,3.712355850381239e-18,3.6729693382521585e-19,8.007357664949586e-21,2.2857766509033578e-18,9.82230148482394e-17,8.432898497718416e-19,1.8200403000900519e-19,2.4869083837034274e-18,1.5467764626176377e-20,3.8625606998694526e-18,2.470565054404865e-18,1.6493500870188027e-17,8.449240755678535e-17,8.593178128829541e-18,3.832781029275844e-17,8.718740407380734e-17,6.4855471130850736e-18,1.1953125337727287e-16,1.546825387521032e-17,2.5428176310027847e-16,4.903286897330212e-17,2.781162816076664e-16,6.548261603148091e-17,4.201673407162159e-18,3.802872613639117e-17,2.032597476181052e-18,2.5106110572842083e-17,1.3564465876248033e-18,1.4941784508908724e-17,8.053889573200025e-20,1.539586605133941e-17,1.9664881738493522e-17,5.427520051043724e-18,4.315497996073354e-18,3.678963616414105e-18,8.893012454613704e-18,1.010512691037914e-16,1.9823785738034312e-16,1.1141979480667042e-17,1.200400265432062e-19,2.4074941002965738e-20,6.6935157165048576e-18,1.6887259463768705e-16,3.931705956078065e-17,1.1682736505688985e-17,3.1188335170286213e-18,2.060005200612101e-18,2.029196111967124e-18,2.5275153284619735e-17,2.5038737283478034e-18,1.0659242630821925e-18,4.804573511657969e-19,1.145659921949603e-17,1.759286659517336e-18,1.8163390521352608e-19,2.7641499767512993e-18,2.9851005390587415e-18,6.829467697157065e-18,1.2239565167863454e-18,1.5739134036164818e-17,1.3278117411535203e-18,6.1565535636211386e-18,5.948450751673516e-18,9.666968748658991e-17,4.289824644193414e-16,7.595808887784209e-18,1.4707844801332193e-18,3.589780400672985e-19,4.289494473216575e-19,4.792087774408579e-18,3.54498674132788e-17,1.8450227127663727e-16,3.7511307999452935e-19,6.97439089844796e-18,5.495304043624462e-17,1.95403480931154e-16,4.479376757405041e-18,1.6323908748767793e-16,2.0152378418060552e-17,1.4794337498687795e-17,2.8897889861028707e-17,1.1506633607392206e-16,3.3024796897678873e-17,8.153422098924112e-17,3.405363502453181e-17,6.564305715999459e-18,6.173228934215769e-17,1.336388410314656e-15,6.84137866018946e-17,2.0112943556293016e-16,5.039469191099895e-17,2.258649252459274e-19,2.1655549382311887e-17,3.873617900355082e-19,1.919138350182807e-18,3.060786484060098e-19,2.1217499445746317e-20,4.803564455093839e-19,4.662903799493151e-19,1.3360933619972164e-18,2.953468364818936e-18,3.826185371845403e-18,6.612317009587437e-20,3.883228740321429e-19,2.215192319907818e-18,3.555548874818085e-16,1.0118604560647017e-17,1.165713854870636e-18,2.201357356962053e-18,1.4408222578180253e-19,5.654735270824657e-17,2.047452242819044e-16,2.0681803316086956e-18,1.886781008089381e-18,3.047743027143733e-18,6.42451643951525e-18,1.6754037721072452e-17,2.346923168705066e-18,1.7098545662432285e-17,2.868751528994479e-17,3.061290642883125e-18,3.421730301090957e-16,7.653575558512558e-17,1.0749462964930437e-16,1.686122041556031e-17,8.234257499824805e-16,1.7423830630524786e-17,5.7483540712536636e-18,7.977551407675847e-18,3.225095639122308e-17,1.786139149127923e-18,7.598537757226047e-18,1.148449165672011e-16,1.6001049005379605e-16,1.9047592942351825e-17,1.3032574439180638e-16,1.3648440225914038e-16,9.675830002216868e-18,3.2704378409969926e-17,1.7927204862417115e-17,8.034613373989753e-17,8.829323050963461e-19,2.575340791961404e-19,6.084268289090073e-19,2.038374244562768e-17,1.2898077243059802e-17,2.0250270129435262e-17,9.463052986057516e-21,1.1857961402828034e-17,3.0756830632267903e-16,2.1099336897516447e-17,4.459002843202464e-18,1.2835615709597074e-17,7.936781234667784e-15,2.1406073305783755e-19,2.365553509523048e-17,4.5509914454708006e-17,1.885486609314475e-18,1.128581572104778e-16,5.314330391756274e-16,2.290716761412071e-16,1.0369002752914302e-16,7.45682489003357e-16,3.601670314310258e-17,3.734680536870913e-17,1.7162292493024192e-16,1.594886566897302e-17,7.403630277213534e-18,6.982168797024331e-16,2.4556734542089057e-16,2.8516200759081344e-16,4.142857500479272e-17,3.124641680337428e-16,5.070875157854861e-17,1.7831286960424487e-18,7.211581645883559e-18,8.463422189517826e-18,1.3418133485104674e-17,17.748329354848558,7.80719862007372e-18,1.7932755742694102e-17,2.6850926324670554e-17,4.4717847856749355e-19,7.118514404521811e-19,5.842672167966703e-18,1.2159809813627408e-15,6.589861875421929e-19,3.758954494814126e-16,6.955669907360841e-20,6.595966493293258e-20,9.053403707789758e-20,3.0257480266960886e-17,6.333258151471698e-18,4.973173005388632e-16],\"y0\":\" \",\"yaxis\":\"y\",\"type\":\"violin\"}],                        {\"template\":{\"data\":{\"histogram2dcontour\":[{\"type\":\"histogram2dcontour\",\"colorbar\":{\"outlinewidth\":0,\"ticks\":\"\"},\"colorscale\":[[0.0,\"#0d0887\"],[0.1111111111111111,\"#46039f\"],[0.2222222222222222,\"#7201a8\"],[0.3333333333333333,\"#9c179e\"],[0.4444444444444444,\"#bd3786\"],[0.5555555555555556,\"#d8576b\"],[0.6666666666666666,\"#ed7953\"],[0.7777777777777778,\"#fb9f3a\"],[0.8888888888888888,\"#fdca26\"],[1.0,\"#f0f921\"]]}],\"choropleth\":[{\"type\":\"choropleth\",\"colorbar\":{\"outlinewidth\":0,\"ticks\":\"\"}}],\"histogram2d\":[{\"type\":\"histogram2d\",\"colorbar\":{\"outlinewidth\":0,\"ticks\":\"\"},\"colorscale\":[[0.0,\"#0d0887\"],[0.1111111111111111,\"#46039f\"],[0.2222222222222222,\"#7201a8\"],[0.3333333333333333,\"#9c179e\"],[0.4444444444444444,\"#bd3786\"],[0.5555555555555556,\"#d8576b\"],[0.6666666666666666,\"#ed7953\"],[0.7777777777777778,\"#fb9f3a\"],[0.8888888888888888,\"#fdca26\"],[1.0,\"#f0f921\"]]}],\"heatmap\":[{\"type\":\"heatmap\",\"colorbar\":{\"outlinewidth\":0,\"ticks\":\"\"},\"colorscale\":[[0.0,\"#0d0887\"],[0.1111111111111111,\"#46039f\"],[0.2222222222222222,\"#7201a8\"],[0.3333333333333333,\"#9c179e\"],[0.4444444444444444,\"#bd3786\"],[0.5555555555555556,\"#d8576b\"],[0.6666666666666666,\"#ed7953\"],[0.7777777777777778,\"#fb9f3a\"],[0.8888888888888888,\"#fdca26\"],[1.0,\"#f0f921\"]]}],\"heatmapgl\":[{\"type\":\"heatmapgl\",\"colorbar\":{\"outlinewidth\":0,\"ticks\":\"\"},\"colorscale\":[[0.0,\"#0d0887\"],[0.1111111111111111,\"#46039f\"],[0.2222222222222222,\"#7201a8\"],[0.3333333333333333,\"#9c179e\"],[0.4444444444444444,\"#bd3786\"],[0.5555555555555556,\"#d8576b\"],[0.6666666666666666,\"#ed7953\"],[0.7777777777777778,\"#fb9f3a\"],[0.8888888888888888,\"#fdca26\"],[1.0,\"#f0f921\"]]}],\"contourcarpet\":[{\"type\":\"contourcarpet\",\"colorbar\":{\"outlinewidth\":0,\"ticks\":\"\"}}],\"contour\":[{\"type\":\"contour\",\"colorbar\":{\"outlinewidth\":0,\"ticks\":\"\"},\"colorscale\":[[0.0,\"#0d0887\"],[0.1111111111111111,\"#46039f\"],[0.2222222222222222,\"#7201a8\"],[0.3333333333333333,\"#9c179e\"],[0.4444444444444444,\"#bd3786\"],[0.5555555555555556,\"#d8576b\"],[0.6666666666666666,\"#ed7953\"],[0.7777777777777778,\"#fb9f3a\"],[0.8888888888888888,\"#fdca26\"],[1.0,\"#f0f921\"]]}],\"surface\":[{\"type\":\"surface\",\"colorbar\":{\"outlinewidth\":0,\"ticks\":\"\"},\"colorscale\":[[0.0,\"#0d0887\"],[0.1111111111111111,\"#46039f\"],[0.2222222222222222,\"#7201a8\"],[0.3333333333333333,\"#9c179e\"],[0.4444444444444444,\"#bd3786\"],[0.5555555555555556,\"#d8576b\"],[0.6666666666666666,\"#ed7953\"],[0.7777777777777778,\"#fb9f3a\"],[0.8888888888888888,\"#fdca26\"],[1.0,\"#f0f921\"]]}],\"mesh3d\":[{\"type\":\"mesh3d\",\"colorbar\":{\"outlinewidth\":0,\"ticks\":\"\"}}],\"scatter\":[{\"fillpattern\":{\"fillmode\":\"overlay\",\"size\":10,\"solidity\":0.2},\"type\":\"scatter\"}],\"parcoords\":[{\"type\":\"parcoords\",\"line\":{\"colorbar\":{\"outlinewidth\":0,\"ticks\":\"\"}}}],\"scatterpolargl\":[{\"type\":\"scatterpolargl\",\"marker\":{\"colorbar\":{\"outlinewidth\":0,\"ticks\":\"\"}}}],\"bar\":[{\"error_x\":{\"color\":\"#2a3f5f\"},\"error_y\":{\"color\":\"#2a3f5f\"},\"marker\":{\"line\":{\"color\":\"#E5ECF6\",\"width\":0.5},\"pattern\":{\"fillmode\":\"overlay\",\"size\":10,\"solidity\":0.2}},\"type\":\"bar\"}],\"scattergeo\":[{\"type\":\"scattergeo\",\"marker\":{\"colorbar\":{\"outlinewidth\":0,\"ticks\":\"\"}}}],\"scatterpolar\":[{\"type\":\"scatterpolar\",\"marker\":{\"colorbar\":{\"outlinewidth\":0,\"ticks\":\"\"}}}],\"histogram\":[{\"marker\":{\"pattern\":{\"fillmode\":\"overlay\",\"size\":10,\"solidity\":0.2}},\"type\":\"histogram\"}],\"scattergl\":[{\"type\":\"scattergl\",\"marker\":{\"colorbar\":{\"outlinewidth\":0,\"ticks\":\"\"}}}],\"scatter3d\":[{\"type\":\"scatter3d\",\"line\":{\"colorbar\":{\"outlinewidth\":0,\"ticks\":\"\"}},\"marker\":{\"colorbar\":{\"outlinewidth\":0,\"ticks\":\"\"}}}],\"scattermapbox\":[{\"type\":\"scattermapbox\",\"marker\":{\"colorbar\":{\"outlinewidth\":0,\"ticks\":\"\"}}}],\"scatterternary\":[{\"type\":\"scatterternary\",\"marker\":{\"colorbar\":{\"outlinewidth\":0,\"ticks\":\"\"}}}],\"scattercarpet\":[{\"type\":\"scattercarpet\",\"marker\":{\"colorbar\":{\"outlinewidth\":0,\"ticks\":\"\"}}}],\"carpet\":[{\"aaxis\":{\"endlinecolor\":\"#2a3f5f\",\"gridcolor\":\"white\",\"linecolor\":\"white\",\"minorgridcolor\":\"white\",\"startlinecolor\":\"#2a3f5f\"},\"baxis\":{\"endlinecolor\":\"#2a3f5f\",\"gridcolor\":\"white\",\"linecolor\":\"white\",\"minorgridcolor\":\"white\",\"startlinecolor\":\"#2a3f5f\"},\"type\":\"carpet\"}],\"table\":[{\"cells\":{\"fill\":{\"color\":\"#EBF0F8\"},\"line\":{\"color\":\"white\"}},\"header\":{\"fill\":{\"color\":\"#C8D4E3\"},\"line\":{\"color\":\"white\"}},\"type\":\"table\"}],\"barpolar\":[{\"marker\":{\"line\":{\"color\":\"#E5ECF6\",\"width\":0.5},\"pattern\":{\"fillmode\":\"overlay\",\"size\":10,\"solidity\":0.2}},\"type\":\"barpolar\"}],\"pie\":[{\"automargin\":true,\"type\":\"pie\"}]},\"layout\":{\"autotypenumbers\":\"strict\",\"colorway\":[\"#636efa\",\"#EF553B\",\"#00cc96\",\"#ab63fa\",\"#FFA15A\",\"#19d3f3\",\"#FF6692\",\"#B6E880\",\"#FF97FF\",\"#FECB52\"],\"font\":{\"color\":\"#2a3f5f\"},\"hovermode\":\"closest\",\"hoverlabel\":{\"align\":\"left\"},\"paper_bgcolor\":\"white\",\"plot_bgcolor\":\"#E5ECF6\",\"polar\":{\"bgcolor\":\"#E5ECF6\",\"angularaxis\":{\"gridcolor\":\"white\",\"linecolor\":\"white\",\"ticks\":\"\"},\"radialaxis\":{\"gridcolor\":\"white\",\"linecolor\":\"white\",\"ticks\":\"\"}},\"ternary\":{\"bgcolor\":\"#E5ECF6\",\"aaxis\":{\"gridcolor\":\"white\",\"linecolor\":\"white\",\"ticks\":\"\"},\"baxis\":{\"gridcolor\":\"white\",\"linecolor\":\"white\",\"ticks\":\"\"},\"caxis\":{\"gridcolor\":\"white\",\"linecolor\":\"white\",\"ticks\":\"\"}},\"coloraxis\":{\"colorbar\":{\"outlinewidth\":0,\"ticks\":\"\"}},\"colorscale\":{\"sequential\":[[0.0,\"#0d0887\"],[0.1111111111111111,\"#46039f\"],[0.2222222222222222,\"#7201a8\"],[0.3333333333333333,\"#9c179e\"],[0.4444444444444444,\"#bd3786\"],[0.5555555555555556,\"#d8576b\"],[0.6666666666666666,\"#ed7953\"],[0.7777777777777778,\"#fb9f3a\"],[0.8888888888888888,\"#fdca26\"],[1.0,\"#f0f921\"]],\"sequentialminus\":[[0.0,\"#0d0887\"],[0.1111111111111111,\"#46039f\"],[0.2222222222222222,\"#7201a8\"],[0.3333333333333333,\"#9c179e\"],[0.4444444444444444,\"#bd3786\"],[0.5555555555555556,\"#d8576b\"],[0.6666666666666666,\"#ed7953\"],[0.7777777777777778,\"#fb9f3a\"],[0.8888888888888888,\"#fdca26\"],[1.0,\"#f0f921\"]],\"diverging\":[[0,\"#8e0152\"],[0.1,\"#c51b7d\"],[0.2,\"#de77ae\"],[0.3,\"#f1b6da\"],[0.4,\"#fde0ef\"],[0.5,\"#f7f7f7\"],[0.6,\"#e6f5d0\"],[0.7,\"#b8e186\"],[0.8,\"#7fbc41\"],[0.9,\"#4d9221\"],[1,\"#276419\"]]},\"xaxis\":{\"gridcolor\":\"white\",\"linecolor\":\"white\",\"ticks\":\"\",\"title\":{\"standoff\":15},\"zerolinecolor\":\"white\",\"automargin\":true,\"zerolinewidth\":2},\"yaxis\":{\"gridcolor\":\"white\",\"linecolor\":\"white\",\"ticks\":\"\",\"title\":{\"standoff\":15},\"zerolinecolor\":\"white\",\"automargin\":true,\"zerolinewidth\":2},\"scene\":{\"xaxis\":{\"backgroundcolor\":\"#E5ECF6\",\"gridcolor\":\"white\",\"linecolor\":\"white\",\"showbackground\":true,\"ticks\":\"\",\"zerolinecolor\":\"white\",\"gridwidth\":2},\"yaxis\":{\"backgroundcolor\":\"#E5ECF6\",\"gridcolor\":\"white\",\"linecolor\":\"white\",\"showbackground\":true,\"ticks\":\"\",\"zerolinecolor\":\"white\",\"gridwidth\":2},\"zaxis\":{\"backgroundcolor\":\"#E5ECF6\",\"gridcolor\":\"white\",\"linecolor\":\"white\",\"showbackground\":true,\"ticks\":\"\",\"zerolinecolor\":\"white\",\"gridwidth\":2}},\"shapedefaults\":{\"line\":{\"color\":\"#2a3f5f\"}},\"annotationdefaults\":{\"arrowcolor\":\"#2a3f5f\",\"arrowhead\":0,\"arrowwidth\":1},\"geo\":{\"bgcolor\":\"white\",\"landcolor\":\"#E5ECF6\",\"subunitcolor\":\"white\",\"showland\":true,\"showlakes\":true,\"lakecolor\":\"white\"},\"title\":{\"x\":0.05},\"mapbox\":{\"style\":\"light\"}}},\"xaxis\":{\"anchor\":\"y\",\"domain\":[0.0,1.0],\"title\":{\"text\":\"Error type\"}},\"yaxis\":{\"anchor\":\"x\",\"domain\":[0.0,1.0],\"title\":{\"text\":\"log(value)\"},\"type\":\"log\",\"range\":[-22,3]},\"legend\":{\"tracegroupgap\":0},\"margin\":{\"t\":60},\"violinmode\":\"group\",\"title\":{\"text\":\"Errors normalize by \\u03c3\"}},                        {\"responsive\": true}                    ).then(function(){\n                            \nvar gd = document.getElementById('a8571cfc-3c6d-413a-a583-455a5f19a4c7');\nvar x = new MutationObserver(function (mutations, observer) {{\n        var display = window.getComputedStyle(gd).display;\n        if (!display || display === 'none') {{\n            console.log([gd, 'removed!']);\n            Plotly.purge(gd);\n            observer.disconnect();\n        }}\n}});\n\n// Listen for the removal of the full notebook cells\nvar notebookContainer = gd.closest('#notebook-container');\nif (notebookContainer) {{\n    x.observe(notebookContainer, {childList: true});\n}}\n\n// Listen for the clearing of the current output cell\nvar outputEl = gd.closest('.output');\nif (outputEl) {{\n    x.observe(outputEl, {childList: true});\n}}\n\n                        })                };                });            </script>        </div>"
     },
     "metadata": {},
     "output_type": "display_data"
    }
   ],
   "source": [
    "# violin plots of the errors\n",
    "kinetics_df_positive_errors = kinetics_df\n",
    "for errors in [\"p1_err1\", \"p1_err2\", \"p2_err1\", \"p2_err2\"]:\n",
    "    kinetics_df_positive_errors[errors] = kinetics_df_positive_errors[errors].apply(lambda x: np.absolute(x))\n",
    "fig = px.violin(kinetics_df_positive_errors, y=[\"squared_error\", \"p1_err1\", \"p1_err2\", \"p2_err1\", \"p2_err2\"], box=True, points=\"all\", log_y=True)\n",
    "fig.update_layout(title=\"Errors normalize by \\u03C3\", xaxis_title=\"Error type\", yaxis_title=\"value\", yaxis=dict(title=\"log(value)\", range=(-22, 3)))\n",
    "fig.show()\n"
   ],
   "metadata": {
    "collapsed": false,
    "pycharm": {
     "name": "#%%\n"
    }
   }
  },
  {
   "cell_type": "code",
   "execution_count": 43,
   "outputs": [
    {
     "name": "stderr",
     "output_type": "stream",
     "text": [
      "C:\\Users\\fo72qev\\AppData\\Local\\Temp\\ipykernel_32\\1755825589.py:8: FutureWarning:\n",
      "\n",
      "Series.__getitem__ treating keys as positions is deprecated. In a future version, integer keys will always be treated as labels (consistent with DataFrame behavior). To access a value by position, use `ser.iloc[pos]`\n",
      "\n"
     ]
    },
    {
     "data": {
      "application/vnd.plotly.v1+json": {
       "data": [
        {
         "hovertemplate": "<extra></extra>",
         "legendgroup": "",
         "line": {
          "color": "#636efa",
          "dash": "solid"
         },
         "marker": {
          "symbol": "circle"
         },
         "mode": "lines",
         "name": "",
         "orientation": "v",
         "showlegend": false,
         "xaxis": "x",
         "yaxis": "y",
         "type": "scatter"
        },
        {
         "marker": {
          "color": "#636EFA"
         },
         "mode": "lines+markers",
         "name": "30_2_A_DMF",
         "x": [
          0.0,
          2.125,
          4.143055555555556,
          8.180555555555555,
          15.2
         ],
         "y": [
          0.0,
          0.02723880597014927,
          0.05186567164179112,
          0.10559701492537321,
          0.20037313432835835
         ],
         "type": "scatter"
        },
        {
         "line": {
          "dash": "dot"
         },
         "marker": {
          "color": "#636EFA"
         },
         "name": "neg_growth fit",
         "opacity": 1,
         "x": [
          -1.0,
          -0.8232323232323232,
          -0.6464646464646464,
          -0.4696969696969697,
          -0.29292929292929293,
          -0.11616161616161613,
          0.06060606060606055,
          0.23737373737373746,
          0.41414141414141414,
          0.5909090909090908,
          0.7676767676767677,
          0.9444444444444444,
          1.121212121212121,
          1.297979797979798,
          1.474747474747475,
          1.6515151515151514,
          1.8282828282828283,
          2.005050505050505,
          2.1818181818181817,
          2.3585858585858586,
          2.5353535353535355,
          2.712121212121212,
          2.888888888888889,
          3.0656565656565657,
          3.242424242424242,
          3.4191919191919196,
          3.595959595959596,
          3.7727272727272725,
          3.94949494949495,
          4.126262626262626,
          4.303030303030303,
          4.47979797979798,
          4.656565656565657,
          4.833333333333333,
          5.01010101010101,
          5.186868686868687,
          5.363636363636363,
          5.540404040404041,
          5.717171717171717,
          5.893939393939394,
          6.070707070707071,
          6.247474747474747,
          6.424242424242424,
          6.601010101010101,
          6.777777777777778,
          6.954545454545454,
          7.1313131313131315,
          7.308080808080808,
          7.484848484848484,
          7.661616161616161,
          7.838383838383839,
          8.015151515151516,
          8.191919191919192,
          8.368686868686869,
          8.545454545454545,
          8.722222222222221,
          8.8989898989899,
          9.075757575757576,
          9.252525252525253,
          9.429292929292929,
          9.606060606060606,
          9.782828282828282,
          9.95959595959596,
          10.136363636363637,
          10.313131313131313,
          10.48989898989899,
          10.666666666666666,
          10.843434343434344,
          11.02020202020202,
          11.196969696969697,
          11.373737373737374,
          11.55050505050505,
          11.727272727272727,
          11.904040404040405,
          12.080808080808081,
          12.257575757575758,
          12.434343434343434,
          12.61111111111111,
          12.787878787878787,
          12.964646464646465,
          13.141414141414142,
          13.318181818181818,
          13.494949494949495,
          13.671717171717171,
          13.848484848484848,
          14.025252525252526,
          14.202020202020202,
          14.378787878787879,
          14.555555555555555,
          14.732323232323232,
          14.909090909090908,
          15.085858585858585,
          15.262626262626263,
          15.439393939393938,
          15.616161616161616,
          15.792929292929294,
          15.969696969696969,
          16.146464646464647,
          16.32323232323232,
          16.5
         ],
         "y": [
          -0.014396929077914676,
          -0.011837020709717814,
          -0.009283572466414645,
          -0.0067365680453848045,
          -0.0041959911851494605,
          -0.001661825665266292,
          8.659446937731018E-4,
          0.003387336030647336,
          0.005902364443307383,
          0.008411045989080155,
          0.010913396684770314,
          0.013409432506763184,
          0.01589916939112634,
          0.018382623233711533,
          0.020859809890255928,
          0.0233307451764837,
          0.025795444868206948,
          0.028253924701425955,
          0.030706200372430322,
          0.033152287537898555,
          0.03559220181499866,
          0.03802595878148728,
          0.04045357397580961,
          0.042875062897198106,
          0.045290441005771946,
          0.04769972372263553,
          0.050102926429976595,
          0.05250006447116528,
          0.05489115315085102,
          0.05727620773506125,
          0.059655243451298016,
          0.06202827548863587,
          0.06439531899781846,
          0.06675638909135549,
          0.06911150084361882,
          0.07146066929093929,
          0.07380390943170233,
          0.07614123622644352,
          0.07847266459794465,
          0.08079820943132875,
          0.08311788557415499,
          0.08543170783651365,
          0.08773969099112054,
          0.09004184977341155,
          0.09233819888163618,
          0.09462875297695238,
          0.09691352668351892,
          0.09919253458858988,
          0.10146579124260689,
          0.10373331115929284,
          0.10599510881574369,
          0.10825119865252174,
          0.110501595073747,
          0.11274631244719012,
          0.11498536510436295,
          0.1172187673406113,
          0.11944653341520504,
          0.12166867755143006,
          0.12388521393667849,
          0.12609615672253968,
          0.12830152002489,
          0.13050131792398376,
          0.13269556446454242,
          0.13488427365584452,
          0.13706745947181517,
          0.13924513585111517,
          0.1414173166972301,
          0.14358401587855904,
          0.14574524722850288,
          0.1479010245455533,
          0.15005136159337992,
          0.152196272100919,
          0.15433576976246074,
          0.15646986823773676,
          0.15859858115200717,
          0.16072192209614775,
          0.1628399046267369,
          0.1649525422661415,
          0.1670598485026041,
          0.16916183679032845,
          0.17125852054956567,
          0.17334991316669965,
          0.17543602799433308,
          0.17751687835137195,
          0.17959247752311122,
          0.18166283876131936,
          0.1837279752843228,
          0.18578790027709077,
          0.187842626891319,
          0.189892168245514,
          0.19193653742507685,
          0.19397574748238652,
          0.1960098114368831,
          0.19803874227515147,
          0.20006255295100359,
          0.2020812563855617,
          0.20409486546734032,
          0.20610339305232925,
          0.20810685196407472,
          0.21010525499376217
         ],
         "type": "scatter"
        },
        {
         "line": {
          "dash": "dash"
         },
         "marker": {
          "color": "#636EFA"
         },
         "name": "neg_growth_derivative",
         "opacity": 0.3,
         "x": [
          -1.0,
          -0.8232323232323232,
          -0.6464646464646464,
          -0.4696969696969697,
          -0.29292929292929293,
          -0.11616161616161613,
          0.06060606060606055,
          0.23737373737373746,
          0.41414141414141414,
          0.5909090909090908,
          0.7676767676767677,
          0.9444444444444444,
          1.121212121212121,
          1.297979797979798,
          1.474747474747475,
          1.6515151515151514,
          1.8282828282828283,
          2.005050505050505,
          2.1818181818181817,
          2.3585858585858586,
          2.5353535353535355,
          2.712121212121212,
          2.888888888888889,
          3.0656565656565657,
          3.242424242424242,
          3.4191919191919196,
          3.595959595959596,
          3.7727272727272725,
          3.94949494949495,
          4.126262626262626,
          4.303030303030303,
          4.47979797979798,
          4.656565656565657,
          4.833333333333333,
          5.01010101010101,
          5.186868686868687,
          5.363636363636363,
          5.540404040404041,
          5.717171717171717,
          5.893939393939394,
          6.070707070707071,
          6.247474747474747,
          6.424242424242424,
          6.601010101010101,
          6.777777777777778,
          6.954545454545454,
          7.1313131313131315,
          7.308080808080808,
          7.484848484848484,
          7.661616161616161,
          7.838383838383839,
          8.015151515151516,
          8.191919191919192,
          8.368686868686869,
          8.545454545454545,
          8.722222222222221,
          8.8989898989899,
          9.075757575757576,
          9.252525252525253,
          9.429292929292929,
          9.606060606060606,
          9.782828282828282,
          9.95959595959596,
          10.136363636363637,
          10.313131313131313,
          10.48989898989899,
          10.666666666666666,
          10.843434343434344,
          11.02020202020202,
          11.196969696969697,
          11.373737373737374,
          11.55050505050505,
          11.727272727272727,
          11.904040404040405,
          12.080808080808081,
          12.257575757575758,
          12.434343434343434,
          12.61111111111111,
          12.787878787878787,
          12.964646464646465,
          13.141414141414142,
          13.318181818181818,
          13.494949494949495,
          13.671717171717171,
          13.848484848484848,
          14.025252525252526,
          14.202020202020202,
          14.378787878787879,
          14.555555555555555,
          14.732323232323232,
          14.909090909090908,
          15.085858585858585,
          15.262626262626263,
          15.439393939393938,
          15.616161616161616,
          15.792929292929294,
          15.969696969696969,
          16.146464646464647,
          16.32323232323232,
          16.5
         ],
         "y": [
          0.014500071065170487,
          0.014463479024919616,
          0.014426979327485805,
          0.014390571739834879,
          0.014354256029520744,
          0.014318031964683904,
          0.014281899314049974,
          0.014245857846928209,
          0.01420990733321003,
          0.014174047543367554,
          0.014138278248452133,
          0.014102599220092882,
          0.014067010230495232,
          0.01403151105243947,
          0.013996101459279289,
          0.013960781224940341,
          0.013925550123918795,
          0.013890407931279896,
          0.013855354422656526,
          0.013820389374247781,
          0.013785512562817532,
          0.013750723765693,
          0.013716022760763343,
          0.013681409326478234,
          0.013646883241846437,
          0.013612444286434412,
          0.013578092240364902,
          0.013543826884315513,
          0.013509647999517347,
          0.01347555536775357,
          0.013441548771358046,
          0.01340762799321393,
          0.01337379281675229,
          0.013340043025950718,
          0.013306378405331965,
          0.013272798739962545,
          0.01323930381545138,
          0.013205893417948419,
          0.013172567334143286,
          0.0131393253512639,
          0.013106167257075132,
          0.013073092839877447,
          0.013040101888505545,
          0.013007194192327019,
          0.012974369541241013,
          0.01294162772567687,
          0.012908968536592808,
          0.01287639176547457,
          0.012843897204334109,
          0.012811484645708244,
          0.01277915388265735,
          0.012746904708764023,
          0.012714736918131776,
          0.012682650305383713,
          0.012650644665661225,
          0.012618719794622677,
          0.012586875488442109,
          0.012555111543807928,
          0.012523427757921615,
          0.012491823928496426,
          0.01246029985375611,
          0.012428855332433607,
          0.012397490163769773,
          0.012366204147512092,
          0.012334997083913406,
          0.012303868773730629,
          0.012272819018223484,
          0.012241847619153225,
          0.012210954378781386,
          0.012180139099868498,
          0.01214940158567285,
          0.012118741639949217,
          0.01208815906694762,
          0.012057653671412065,
          0.012027225258579305,
          0.01199687363417759,
          0.011966598604425432,
          0.011936399976030364,
          0.01190627755618771,
          0.011876231152579348,
          0.011846260573372484,
          0.011816365627218436,
          0.011786546123251397,
          0.011756801871087233,
          0.011727132680822247,
          0.01169753836303199,
          0.011668018728770038,
          0.01163857358956678,
          0.01160920275742823,
          0.01157990604483482,
          0.011550683264740198,
          0.011521534230570033,
          0.011492458756220845,
          0.01146345665605878,
          0.011434527744918464,
          0.011405671838101785,
          0.011376888751376745,
          0.011348178300976262,
          0.011319540303597006,
          0.011290974576398227
         ],
         "type": "scatter"
        },
        {
         "marker": {
          "color": "#FF97FF"
         },
         "mode": "lines+markers",
         "name": "298_2_A_DMF",
         "x": [
          0.0,
          1.2513888888888889,
          2.2416666666666667,
          4.273611111111111,
          8.338888888888889,
          15.381944444444445
         ],
         "y": [
          0.0,
          0.025179856115107868,
          0.014388489208632893,
          0.014388489208632893,
          0.021582733812949506,
          0.03237410071942437
         ],
         "type": "scatter"
        },
        {
         "line": {
          "dash": "dot"
         },
         "marker": {
          "color": "#FF97FF"
         },
         "name": "neg_growth fit",
         "opacity": 1,
         "x": [
          -1.0,
          -0.8232323232323232,
          -0.6464646464646464,
          -0.4696969696969697,
          -0.29292929292929293,
          -0.11616161616161613,
          0.06060606060606055,
          0.23737373737373746,
          0.41414141414141414,
          0.5909090909090908,
          0.7676767676767677,
          0.9444444444444444,
          1.121212121212121,
          1.297979797979798,
          1.474747474747475,
          1.6515151515151514,
          1.8282828282828283,
          2.005050505050505,
          2.1818181818181817,
          2.3585858585858586,
          2.5353535353535355,
          2.712121212121212,
          2.888888888888889,
          3.0656565656565657,
          3.242424242424242,
          3.4191919191919196,
          3.595959595959596,
          3.7727272727272725,
          3.94949494949495,
          4.126262626262626,
          4.303030303030303,
          4.47979797979798,
          4.656565656565657,
          4.833333333333333,
          5.01010101010101,
          5.186868686868687,
          5.363636363636363,
          5.540404040404041,
          5.717171717171717,
          5.893939393939394,
          6.070707070707071,
          6.247474747474747,
          6.424242424242424,
          6.601010101010101,
          6.777777777777778,
          6.954545454545454,
          7.1313131313131315,
          7.308080808080808,
          7.484848484848484,
          7.661616161616161,
          7.838383838383839,
          8.015151515151516,
          8.191919191919192,
          8.368686868686869,
          8.545454545454545,
          8.722222222222221,
          8.8989898989899,
          9.075757575757576,
          9.252525252525253,
          9.429292929292929,
          9.606060606060606,
          9.782828282828282,
          9.95959595959596,
          10.136363636363637,
          10.313131313131313,
          10.48989898989899,
          10.666666666666666,
          10.843434343434344,
          11.02020202020202,
          11.196969696969697,
          11.373737373737374,
          11.55050505050505,
          11.727272727272727,
          11.904040404040405,
          12.080808080808081,
          12.257575757575758,
          12.434343434343434,
          12.61111111111111,
          12.787878787878787,
          12.964646464646465,
          13.141414141414142,
          13.318181818181818,
          13.494949494949495,
          13.671717171717171,
          13.848484848484848,
          14.025252525252526,
          14.202020202020202,
          14.378787878787879,
          14.555555555555555,
          14.732323232323232,
          14.909090909090908,
          15.085858585858585,
          15.262626262626263,
          15.439393939393938,
          15.616161616161616,
          15.792929292929294,
          15.969696969696969,
          16.146464646464647,
          16.32323232323232,
          16.5
         ],
         "y": [
          -39352.378235908465,
          -3077.865621198333,
          -240.7106136204185,
          -18.806914388903987,
          -1.4510591039056426,
          -0.09359767483982041,
          0.012574075335705459,
          0.020878134879475898,
          0.021527624077802968,
          0.02157842287284051,
          0.021582396022176813,
          0.021582706775918843,
          0.02158273108104307,
          0.02158273298203084,
          0.021582733130713662,
          0.021582733142342662,
          0.021582733143252205,
          0.021582733143323343,
          0.021582733143328908,
          0.021582733143329345,
          0.021582733143329376,
          0.02158273314332938,
          0.02158273314332938,
          0.02158273314332938,
          0.02158273314332938,
          0.02158273314332938,
          0.02158273314332938,
          0.02158273314332938,
          0.02158273314332938,
          0.02158273314332938,
          0.02158273314332938,
          0.02158273314332938,
          0.02158273314332938,
          0.02158273314332938,
          0.02158273314332938,
          0.02158273314332938,
          0.02158273314332938,
          0.02158273314332938,
          0.02158273314332938,
          0.02158273314332938,
          0.02158273314332938,
          0.02158273314332938,
          0.02158273314332938,
          0.02158273314332938,
          0.02158273314332938,
          0.02158273314332938,
          0.02158273314332938,
          0.02158273314332938,
          0.02158273314332938,
          0.02158273314332938,
          0.02158273314332938,
          0.02158273314332938,
          0.02158273314332938,
          0.02158273314332938,
          0.02158273314332938,
          0.02158273314332938,
          0.02158273314332938,
          0.02158273314332938,
          0.02158273314332938,
          0.02158273314332938,
          0.02158273314332938,
          0.02158273314332938,
          0.02158273314332938,
          0.02158273314332938,
          0.02158273314332938,
          0.02158273314332938,
          0.02158273314332938,
          0.02158273314332938,
          0.02158273314332938,
          0.02158273314332938,
          0.02158273314332938,
          0.02158273314332938,
          0.02158273314332938,
          0.02158273314332938,
          0.02158273314332938,
          0.02158273314332938,
          0.02158273314332938,
          0.02158273314332938,
          0.02158273314332938,
          0.02158273314332938,
          0.02158273314332938,
          0.02158273314332938,
          0.02158273314332938,
          0.02158273314332938,
          0.02158273314332938,
          0.02158273314332938,
          0.02158273314332938,
          0.02158273314332938,
          0.02158273314332938,
          0.02158273314332938,
          0.02158273314332938,
          0.02158273314332938,
          0.02158273314332938,
          0.02158273314332938,
          0.02158273314332938,
          0.02158273314332938,
          0.02158273314332938,
          0.02158273314332938,
          0.02158273314332938,
          0.02158273314332938
         ],
         "type": "scatter"
        },
        {
         "line": {
          "dash": "dash"
         },
         "marker": {
          "color": "#FF97FF"
         },
         "name": "neg_growth_derivative",
         "opacity": 0.3,
         "x": [
          -1.0,
          -0.8232323232323232,
          -0.6464646464646464,
          -0.4696969696969697,
          -0.29292929292929293,
          -0.11616161616161613,
          0.06060606060606055,
          0.23737373737373746,
          0.41414141414141414,
          0.5909090909090908,
          0.7676767676767677,
          0.9444444444444444,
          1.121212121212121,
          1.297979797979798,
          1.474747474747475,
          1.6515151515151514,
          1.8282828282828283,
          2.005050505050505,
          2.1818181818181817,
          2.3585858585858586,
          2.5353535353535355,
          2.712121212121212,
          2.888888888888889,
          3.0656565656565657,
          3.242424242424242,
          3.4191919191919196,
          3.595959595959596,
          3.7727272727272725,
          3.94949494949495,
          4.126262626262626,
          4.303030303030303,
          4.47979797979798,
          4.656565656565657,
          4.833333333333333,
          5.01010101010101,
          5.186868686868687,
          5.363636363636363,
          5.540404040404041,
          5.717171717171717,
          5.893939393939394,
          6.070707070707071,
          6.247474747474747,
          6.424242424242424,
          6.601010101010101,
          6.777777777777778,
          6.954545454545454,
          7.1313131313131315,
          7.308080808080808,
          7.484848484848484,
          7.661616161616161,
          7.838383838383839,
          8.015151515151516,
          8.191919191919192,
          8.368686868686869,
          8.545454545454545,
          8.722222222222221,
          8.8989898989899,
          9.075757575757576,
          9.252525252525253,
          9.429292929292929,
          9.606060606060606,
          9.782828282828282,
          9.95959595959596,
          10.136363636363637,
          10.313131313131313,
          10.48989898989899,
          10.666666666666666,
          10.843434343434344,
          11.02020202020202,
          11.196969696969697,
          11.373737373737374,
          11.55050505050505,
          11.727272727272727,
          11.904040404040405,
          12.080808080808081,
          12.257575757575758,
          12.434343434343434,
          12.61111111111111,
          12.787878787878787,
          12.964646464646465,
          13.141414141414142,
          13.318181818181818,
          13.494949494949495,
          13.671717171717171,
          13.848484848484848,
          14.025252525252526,
          14.202020202020202,
          14.378787878787879,
          14.555555555555555,
          14.732323232323232,
          14.909090909090908,
          15.085858585858585,
          15.262626262626263,
          15.439393939393938,
          15.616161616161616,
          15.792929292929294,
          15.969696969696969,
          16.146464646464647,
          16.32323232323232,
          16.5
         ],
         "y": [
          567311.0397176535,
          44371.357219461715,
          3470.437209325134,
          271.4348890501343,
          21.229860835887543,
          1.6604607929672073,
          0.12987037768615806,
          0.010157611111193753,
          7.944618728651311E-4,
          6.213760898375193E-5,
          4.8599971654940614E-6,
          3.801171759728729E-7,
          2.973027813585225E-8,
          2.3253078100796216E-9,
          1.8187036081229272E-10,
          1.4224709519580249E-11,
          1.1125636965402615E-12,
          8.701745207207977E-14,
          6.805935685896892E-15,
          5.323157534214586E-16,
          4.163425492365809E-17,
          3.256358978494744E-18,
          2.546910906960371E-19,
          1.992027049484625E-20,
          1.5580332060434422E-21,
          1.2185916209129723E-22,
          9.531026250270641E-24,
          7.454545052204562E-25,
          5.830457337557829E-26,
          4.560202202417356E-27,
          3.5666917572614347E-28,
          2.789632899298401E-29,
          2.181868308918094E-30,
          1.7065146165498908E-31,
          1.3347240640487528E-32,
          1.0439338227014605E-33,
          8.164967243298896E-35,
          6.386103087610085E-36,
          4.994791948375995E-37,
          3.90659941834702E-38,
          3.055486429297858E-39,
          2.389801543454332E-40,
          1.869146386099026E-41,
          1.4619239920721948E-42,
          1.143421282833154E-43,
          8.943093054944894E-45,
          6.994702179343012E-46,
          5.470798333095063E-47,
          4.2789004640948626E-48,
          3.346675945057692E-49,
          2.6175509281440413E-50,
          2.0472770515909083E-51,
          1.6012461423024416E-52,
          1.2523899519344377E-53,
          9.795374678942333E-55,
          7.661301094971381E-56,
          5.992168384736719E-57,
          4.686682001651887E-58,
          3.665615979777486E-59,
          2.867004952856564E-60,
          2.242383666224432E-61,
          1.7538457690978707E-62,
          1.3717433943681176E-63,
          1.0728879204472784E-64,
          8.391427249204232E-66,
          6.563225285389868E-67,
          5.133325341152883E-68,
          4.014951172981953E-69,
          3.1402320815710766E-70,
          2.456084047170121E-71,
          1.920988223184355E-72,
          1.5024712846715476E-73,
          1.175134721815452E-74,
          9.191134822374756E-76,
          7.18870421874394E-77,
          5.622534033423447E-78,
          4.3975781997787443E-79,
          3.4394979040071324E-80,
          2.6901501904536914E-81,
          2.1040594438992342E-82,
          1.6456576139025653E-83,
          1.2871256988713006E-84,
          1.0067054961488331E-85,
          7.873791634065045E-87,
          6.158364579694838E-88,
          4.816669789985287E-89,
          3.76728392181471E-90,
          2.9465229642837043E-91,
          2.3045774513510346E-92,
          1.8024896780557065E-93,
          1.4097894768486877E-94,
          1.1026450765461036E-95,
          8.624168252050216E-97,
          6.745260067967792E-98,
          5.275701036294214E-99,
          4.126308125098304E-100,
          3.227328202663476E-101,
          2.524204933788855E-102,
          1.9742679230783294E-103,
          1.544143179470482E-104
         ],
         "type": "scatter"
        },
        {
         "marker": {
          "color": "#EF553B"
         },
         "mode": "lines+markers",
         "name": "231_6_G_Tol",
         "x": [
          0.0,
          2.1847222222222222,
          4.205555555555556,
          8.256944444444445,
          15.291666666666666
         ],
         "y": [
          0.0,
          0.14335060449050085,
          0.49870466321243523,
          0.8717616580310881,
          0.9352331606217616
         ],
         "type": "scatter"
        },
        {
         "line": {
          "dash": "dot"
         },
         "marker": {
          "color": "#EF553B"
         },
         "name": "neg_growth fit",
         "opacity": 1,
         "x": [
          -1.0,
          -0.8232323232323232,
          -0.6464646464646464,
          -0.4696969696969697,
          -0.29292929292929293,
          -0.11616161616161613,
          0.06060606060606055,
          0.23737373737373746,
          0.41414141414141414,
          0.5909090909090908,
          0.7676767676767677,
          0.9444444444444444,
          1.121212121212121,
          1.297979797979798,
          1.474747474747475,
          1.6515151515151514,
          1.8282828282828283,
          2.005050505050505,
          2.1818181818181817,
          2.3585858585858586,
          2.5353535353535355,
          2.712121212121212,
          2.888888888888889,
          3.0656565656565657,
          3.242424242424242,
          3.4191919191919196,
          3.595959595959596,
          3.7727272727272725,
          3.94949494949495,
          4.126262626262626,
          4.303030303030303,
          4.47979797979798,
          4.656565656565657,
          4.833333333333333,
          5.01010101010101,
          5.186868686868687,
          5.363636363636363,
          5.540404040404041,
          5.717171717171717,
          5.893939393939394,
          6.070707070707071,
          6.247474747474747,
          6.424242424242424,
          6.601010101010101,
          6.777777777777778,
          6.954545454545454,
          7.1313131313131315,
          7.308080808080808,
          7.484848484848484,
          7.661616161616161,
          7.838383838383839,
          8.015151515151516,
          8.191919191919192,
          8.368686868686869,
          8.545454545454545,
          8.722222222222221,
          8.8989898989899,
          9.075757575757576,
          9.252525252525253,
          9.429292929292929,
          9.606060606060606,
          9.782828282828282,
          9.95959595959596,
          10.136363636363637,
          10.313131313131313,
          10.48989898989899,
          10.666666666666666,
          10.843434343434344,
          11.02020202020202,
          11.196969696969697,
          11.373737373737374,
          11.55050505050505,
          11.727272727272727,
          11.904040404040405,
          12.080808080808081,
          12.257575757575758,
          12.434343434343434,
          12.61111111111111,
          12.787878787878787,
          12.964646464646465,
          13.141414141414142,
          13.318181818181818,
          13.494949494949495,
          13.671717171717171,
          13.848484848484848,
          14.025252525252526,
          14.202020202020202,
          14.378787878787879,
          14.555555555555555,
          14.732323232323232,
          14.909090909090908,
          15.085858585858585,
          15.262626262626263,
          15.439393939393938,
          15.616161616161616,
          15.792929292929294,
          15.969696969696969,
          16.146464646464647,
          16.32323232323232,
          16.5
         ],
         "y": [
          -0.18294167710325301,
          -0.148327523193408,
          -0.11472621689396133,
          -0.08210812118750786,
          -0.050444466267851144,
          -0.019707324164465186,
          0.010130415890528209,
          0.03909507137459455,
          0.06721218968732189,
          0.09450657068373335,
          0.12100228854825044,
          0.14672271302859993,
          0.1716905300483945,
          0.19592776171656598,
          0.21945578575130195,
          0.24229535433561608,
          0.2644666124211846,
          0.2859891154965923,
          0.3068818468356607,
          0.3271632342410719,
          0.3468511662980544,
          0.36596300815247024,
          0.3845156168272171,
          0.4025253560904564,
          0.4200081108887806,
          0.43697930135805113,
          0.4534538964242622,
          0.46944642700643163,
          0.4849709988331579,
          0.5000413048841523,
          0.5146706374677186,
          0.5288718999448313,
          0.5426576181101564,
          0.5560399512400495,
          0.5690307028172785,
          0.5816413309419298,
          0.5938829584376781,
          0.6057663826623384,
          0.6173020850313484,
          0.6285002402625851,
          0.6393707253506667,
          0.6499231282786584,
          0.6601667564748622,
          0.6701106450221538,
          0.679763564627104,
          0.6891340293559157,
          0.6982303041439993,
          0.7070604120858086,
          0.7156321415113696,
          0.7239530528557411,
          0.7320304853274692,
          0.7398715633819131,
          0.747483203005157,
          0.7548721178140463,
          0.7620448249777303,
          0.7690076509659349,
          0.775766737129034,
          0.7823280451148417,
          0.7886973621269043,
          0.7948803060289282,
          0.8008823302998469,
          0.8067087288438971,
          0.8123646406599477,
          0.8178550543741977,
          0.823184812640244,
          0.8283586164103977,
          0.8333810290820164,
          0.8382564805225117,
          0.8429892709765799,
          0.8475835748591029,
          0.8520434444370641,
          0.8563728134037295,
          0.8605755003482418,
          0.8646552121236921,
          0.8686155471166378,
          0.8724599984209506,
          0.8761919569187943,
          0.8798147142714507,
          0.8833314658226293,
          0.8867453134168239,
          0.8900592681352011,
          0.8932762529514331,
          0.8963991053098186,
          0.899430579627965,
          0.902373349726239,
          0.905230011186129,
          0.9080030836395998,
          0.9106950129914575,
          0.913308173576686,
          0.9158448702546578,
          0.918307340442065,
          0.9206977560863656,
          0.9230182255814844,
          0.925270795627457,
          0.9274574530356613,
          0.9295801264812235,
          0.9316406882041476,
          0.9336409556606692,
          0.9355826931262867,
          0.937467613251888
         ],
         "type": "scatter"
        },
        {
         "line": {
          "dash": "dash"
         },
         "marker": {
          "color": "#EF553B"
         },
         "name": "neg_growth_derivative",
         "opacity": 0.3,
         "x": [
          -1.0,
          -0.8232323232323232,
          -0.6464646464646464,
          -0.4696969696969697,
          -0.29292929292929293,
          -0.11616161616161613,
          0.06060606060606055,
          0.23737373737373746,
          0.41414141414141414,
          0.5909090909090908,
          0.7676767676767677,
          0.9444444444444444,
          1.121212121212121,
          1.297979797979798,
          1.474747474747475,
          1.6515151515151514,
          1.8282828282828283,
          2.005050505050505,
          2.1818181818181817,
          2.3585858585858586,
          2.5353535353535355,
          2.712121212121212,
          2.888888888888889,
          3.0656565656565657,
          3.242424242424242,
          3.4191919191919196,
          3.595959595959596,
          3.7727272727272725,
          3.94949494949495,
          4.126262626262626,
          4.303030303030303,
          4.47979797979798,
          4.656565656565657,
          4.833333333333333,
          5.01010101010101,
          5.186868686868687,
          5.363636363636363,
          5.540404040404041,
          5.717171717171717,
          5.893939393939394,
          6.070707070707071,
          6.247474747474747,
          6.424242424242424,
          6.601010101010101,
          6.777777777777778,
          6.954545454545454,
          7.1313131313131315,
          7.308080808080808,
          7.484848484848484,
          7.661616161616161,
          7.838383838383839,
          8.015151515151516,
          8.191919191919192,
          8.368686868686869,
          8.545454545454545,
          8.722222222222221,
          8.8989898989899,
          9.075757575757576,
          9.252525252525253,
          9.429292929292929,
          9.606060606060606,
          9.782828282828282,
          9.95959595959596,
          10.136363636363637,
          10.313131313131313,
          10.48989898989899,
          10.666666666666666,
          10.843434343434344,
          11.02020202020202,
          11.196969696969697,
          11.373737373737374,
          11.55050505050505,
          11.727272727272727,
          11.904040404040405,
          12.080808080808081,
          12.257575757575758,
          12.434343434343434,
          12.61111111111111,
          12.787878787878787,
          12.964646464646465,
          13.141414141414142,
          13.318181818181818,
          13.494949494949495,
          13.671717171717171,
          13.848484848484848,
          14.025252525252526,
          14.202020202020202,
          14.378787878787879,
          14.555555555555555,
          14.732323232323232,
          14.909090909090908,
          15.085858585858585,
          15.262626262626263,
          15.439393939393938,
          15.616161616161616,
          15.792929292929294,
          15.969696969696969,
          16.146464646464647,
          16.32323232323232,
          16.5
         ],
         "y": [
          0.19873926821963825,
          0.19292394211249655,
          0.18727877874186566,
          0.181798798961888,
          0.17647916932190327,
          0.1713151978032493,
          0.16630232968080882,
          0.16143614350565147,
          0.15671234720522856,
          0.15212677429767996,
          0.14767538021691454,
          0.14335423874522307,
          0.13915953855027619,
          0.135087579823454,
          0.13113477101654158,
          0.1272976256739123,
          0.12357275935740496,
          0.11995688666118234,
          0.11644681831393826,
          0.11303945836589697,
          0.10973180145812439,
          0.10652093017174183,
          0.10340401245470492,
          0.10037829912387748,
          0.09744112144019777,
          0.09458988875479758,
          0.09182208622399887,
          0.08913527259117163,
          0.08652707803349735,
          0.08399520207173833,
          0.08153741154116943,
          0.0791515386218826,
          0.07683547892672678,
          0.07458718964519678,
          0.07240468774163399,
          0.07028604820614957,
          0.06822940235672781,
          0.06623293619101137,
          0.06429488878631545,
          0.062413550746459046,
          0.06058726269404369,
          0.058814413806849763,
          0.057093440397059325,
          0.05542282453205259,
          0.05380109269556127,
          0.052226814487998006,
          0.050698601364815694,
          0.04921510541178367,
          0.04777501815610062,
          0.046377069412295774,
          0.04502002616190005,
          0.04370269146589945,
          0.04242390340901111,
          0.04118253407485101,
          0.0399774885510894,
          0.03880770396371648,
          0.0376721485395664,
          0.036569820696273014,
          0.03549974815885431,
          0.034460987102146644,
          0.03345262131833229,
          0.032473761408826005,
          0.03152354399980781,
          0.030601130980710278,
          0.029705708764988334,
          0.028836487572519873,
          0.02799270073300402,
          0.027173604009742783,
          0.02637847494320951,
          0.02560661221382531,
          0.02485733502338129,
          0.024129982494561063,
          0.023423913088033856,
          0.02273850403660412,
          0.022073150795918574,
          0.021427266511246056,
          0.02080028149986008,
          0.02019164274856735,
          0.019600813425939206,
          0.019027272408815674,
          0.018470513822664514,
          0.017930046595389857,
          0.01740539402419692,
          0.016896093355130662,
          0.01640169537491768,
          0.015921764014751195,
          0.015455875965669698,
          0.015003620305190115,
          0.014564598134865995,
          0.01413842222845122,
          0.013724716690358775,
          0.013323116624113392,
          0.01293326781050563,
          0.012554826395163558,
          0.01218745858526633,
          0.011830840355132356,
          0.011484657160422239,
          0.011148603660704384,
          0.010822383450138758,
          0.010505708796041029
         ],
         "type": "scatter"
        },
        {
         "marker": {
          "color": "#AB63FA"
         },
         "mode": "lines+markers",
         "name": "203_14_F_DMF",
         "x": [
          0.0,
          1.3736111111111111,
          2.3694444444444445,
          4.409722222222222,
          8.501388888888888,
          15.568055555555556
         ],
         "y": [
          0.0,
          0.6435364564987671,
          0.7640014089468122,
          0.8809439943642128,
          0.9330750264177528,
          0.9313138429024305
         ],
         "type": "scatter"
        },
        {
         "line": {
          "dash": "dot"
         },
         "marker": {
          "color": "#AB63FA"
         },
         "name": "neg_growth fit",
         "opacity": 1,
         "x": [
          -1.0,
          -0.8232323232323232,
          -0.6464646464646464,
          -0.4696969696969697,
          -0.29292929292929293,
          -0.11616161616161613,
          0.06060606060606055,
          0.23737373737373746,
          0.41414141414141414,
          0.5909090909090908,
          0.7676767676767677,
          0.9444444444444444,
          1.121212121212121,
          1.297979797979798,
          1.474747474747475,
          1.6515151515151514,
          1.8282828282828283,
          2.005050505050505,
          2.1818181818181817,
          2.3585858585858586,
          2.5353535353535355,
          2.712121212121212,
          2.888888888888889,
          3.0656565656565657,
          3.242424242424242,
          3.4191919191919196,
          3.595959595959596,
          3.7727272727272725,
          3.94949494949495,
          4.126262626262626,
          4.303030303030303,
          4.47979797979798,
          4.656565656565657,
          4.833333333333333,
          5.01010101010101,
          5.186868686868687,
          5.363636363636363,
          5.540404040404041,
          5.717171717171717,
          5.893939393939394,
          6.070707070707071,
          6.247474747474747,
          6.424242424242424,
          6.601010101010101,
          6.777777777777778,
          6.954545454545454,
          7.1313131313131315,
          7.308080808080808,
          7.484848484848484,
          7.661616161616161,
          7.838383838383839,
          8.015151515151516,
          8.191919191919192,
          8.368686868686869,
          8.545454545454545,
          8.722222222222221,
          8.8989898989899,
          9.075757575757576,
          9.252525252525253,
          9.429292929292929,
          9.606060606060606,
          9.782828282828282,
          9.95959595959596,
          10.136363636363637,
          10.313131313131313,
          10.48989898989899,
          10.666666666666666,
          10.843434343434344,
          11.02020202020202,
          11.196969696969697,
          11.373737373737374,
          11.55050505050505,
          11.727272727272727,
          11.904040404040405,
          12.080808080808081,
          12.257575757575758,
          12.434343434343434,
          12.61111111111111,
          12.787878787878787,
          12.964646464646465,
          13.141414141414142,
          13.318181818181818,
          13.494949494949495,
          13.671717171717171,
          13.848484848484848,
          14.025252525252526,
          14.202020202020202,
          14.378787878787879,
          14.555555555555555,
          14.732323232323232,
          14.909090909090908,
          15.085858585858585,
          15.262626262626263,
          15.439393939393938,
          15.616161616161616,
          15.792929292929294,
          15.969696969696969,
          16.146464646464647,
          16.32323232323232,
          16.5
         ],
         "y": [
          -1.1597306386631026,
          -0.8806269429199093,
          -0.6389397634291196,
          -0.4296530588060491,
          -0.24842323592397222,
          -0.09148900180230653,
          0.04440669928977622,
          0.16208428365286304,
          0.26398606384345175,
          0.352226937092277,
          0.4286382784560109,
          0.49480594967273683,
          0.5521032125673088,
          0.6017192301003519,
          0.6446837465794183,
          0.6818884592521071,
          0.7141055248329977,
          0.742003585053883,
          0.7661616438359277,
          0.7870810840943515,
          0.8051960735756682,
          0.8208825756930501,
          0.8344661523731481,
          0.8462287208567643,
          0.8564144046858606,
          0.865234600309871,
          0.8728723644650453,
          0.8794862133836869,
          0.8852134126831023,
          0.8901728262135162,
          0.8944673829907116,
          0.8981862134127868,
          0.9014064990966528,
          0.9041950747262794,
          0.9066098151578832,
          0.9087008365704183,
          0.910511536590369,
          0.9120794949778797,
          0.9134372535673075,
          0.9146129916492932,
          0.9156311108114145,
          0.9165127413753645,
          0.917276180941389,
          0.9179372741416519,
          0.9185097414840375,
          0.9190054641112975,
          0.9194347303855156,
          0.9198064494155702,
          0.9201283359591996,
          0.9204070705371802,
          0.9206484380826702,
          0.9208574480032831,
          0.9210384381476953,
          0.9211951648345351,
          0.921330880812041,
          0.9214484027664812,
          0.9215501697804266,
          0.9216382939541327,
          0.9217146042406418,
          0.9217806844043726,
          0.9218379058909955,
          0.9218874562907897,
          0.9219303639862148,
          0.9219675194952384,
          0.9219996939533893,
          0.9220275551181132,
          0.9220516812275921,
          0.9220725730016565,
          0.9220906640338613,
          0.9221063297904041,
          0.9221198954026519,
          0.922131642415007,
          0.9221418146281553,
          0.9221506231589718,
          0.9221582508220982,
          0.9221648559241277,
          0.922170575549142,
          0.9221755284037925,
          0.9221798172809702,
          0.9221835311931974,
          0.9221867472200174,
          0.9221895321077245,
          0.9221919436546349,
          0.9221940319106482,
          0.9221958402159971,
          0.9221974061007421,
          0.9221987620636806,
          0.9221999362468358,
          0.9222009530195239,
          0.9222018334841215,
          0.9222025959140302,
          0.9222032561329273,
          0.9222038278431752,
          0.9222043229102037,
          0.9222047516087685,
          0.9222051228361959,
          0.922205444297041,
          0.9222057226629894,
          0.9222059637113237,
          0.9222061724448263
         ],
         "type": "scatter"
        },
        {
         "line": {
          "dash": "dash"
         },
         "marker": {
          "color": "#AB63FA"
         },
         "name": "neg_growth_derivative",
         "opacity": 0.3,
         "x": [
          -1.0,
          -0.8232323232323232,
          -0.6464646464646464,
          -0.4696969696969697,
          -0.29292929292929293,
          -0.11616161616161613,
          0.06060606060606055,
          0.23737373737373746,
          0.41414141414141414,
          0.5909090909090908,
          0.7676767676767677,
          0.9444444444444444,
          1.121212121212121,
          1.297979797979798,
          1.474747474747475,
          1.6515151515151514,
          1.8282828282828283,
          2.005050505050505,
          2.1818181818181817,
          2.3585858585858586,
          2.5353535353535355,
          2.712121212121212,
          2.888888888888889,
          3.0656565656565657,
          3.242424242424242,
          3.4191919191919196,
          3.595959595959596,
          3.7727272727272725,
          3.94949494949495,
          4.126262626262626,
          4.303030303030303,
          4.47979797979798,
          4.656565656565657,
          4.833333333333333,
          5.01010101010101,
          5.186868686868687,
          5.363636363636363,
          5.540404040404041,
          5.717171717171717,
          5.893939393939394,
          6.070707070707071,
          6.247474747474747,
          6.424242424242424,
          6.601010101010101,
          6.777777777777778,
          6.954545454545454,
          7.1313131313131315,
          7.308080808080808,
          7.484848484848484,
          7.661616161616161,
          7.838383838383839,
          8.015151515151516,
          8.191919191919192,
          8.368686868686869,
          8.545454545454545,
          8.722222222222221,
          8.8989898989899,
          9.075757575757576,
          9.252525252525253,
          9.429292929292929,
          9.606060606060606,
          9.782828282828282,
          9.95959595959596,
          10.136363636363637,
          10.313131313131313,
          10.48989898989899,
          10.666666666666666,
          10.843434343434344,
          11.02020202020202,
          11.196969696969697,
          11.373737373737374,
          11.55050505050505,
          11.727272727272727,
          11.904040404040405,
          12.080808080808081,
          12.257575757575758,
          12.434343434343434,
          12.61111111111111,
          12.787878787878787,
          12.964646464646465,
          13.141414141414142,
          13.318181818181818,
          13.494949494949495,
          13.671717171717171,
          13.848484848484848,
          14.025252525252526,
          14.202020202020202,
          14.378787878787879,
          14.555555555555555,
          14.732323232323232,
          14.909090909090908,
          15.085858585858585,
          15.262626262626263,
          15.439393939393938,
          15.616161616161616,
          15.792929292929294,
          15.969696969696969,
          16.146464646464647,
          16.32323232323232,
          16.5
         ],
         "y": [
          1.6952894969883796,
          1.468019747486533,
          1.2712176786553857,
          1.1007988068912622,
          0.9532262126301987,
          0.825437134158403,
          0.7147794022235558,
          0.6189563961936065,
          0.5359793793682315,
          0.46412622419705424,
          0.40190567077659883,
          0.3480263768371076,
          0.30137011687424253,
          0.2609685741931692,
          0.22598324420080027,
          0.1956880318536654,
          0.16945418208411378,
          0.14673723044682016,
          0.12706570315576654,
          0.110031331989197,
          0.09528058098002541,
          0.0825073090343259,
          0.07144641619589687,
          0.06186834168974811,
          0.053574299555409315,
          0.046392152989100315,
          0.040172841769739634,
          0.034787288622619185,
          0.030123720314577395,
          0.02608534788195174,
          0.022588357846131144,
          0.019560172725850478,
          0.016937944744426628,
          0.014667251469926664,
          0.01270096631723001,
          0.010998280470077592,
          0.009523855923812198,
          0.00824709207082921,
          0.007141490607252829,
          0.006184105579938368,
          0.005355067159926734,
          0.004637169258615985,
          0.004015512427923934,
          0.0034771946330947726,
          0.003011043480364525,
          0.0026073843420655616,
          0.0022578395667755755,
          0.0019551546072639316,
          0.0016930474576475258,
          0.0014660782749339929,
          0.0012695364790423409,
          0.001099342988144198,
          9.51965560291323E-4,
          8.2434548430658E-4,
          7.138340984611814E-4,
          6.18137819429577E-4,
          5.352705406379936E-4,
          4.6351241206902475E-4,
          4.013741460271127E-4,
          3.475661080571089E-4,
          3.0097155152042533E-4,
          2.606234403318984E-4,
          2.2568437883015282E-4,
          1.9542923224054356E-4,
          1.692300770310359E-4,
          1.4654316881663015E-4,
          1.268976573406687E-4,
          1.0988581432068972E-4,
          9.515457134488275E-5,
          8.239819219434573E-5,
          7.135192751053732E-5,
          6.178652011516267E-5,
          5.3503446944409704E-5,
          4.633079884734851E-5,
          4.011971273670918E-5,
          3.4741282043924455E-5,
          3.0083881357185066E-5,
          2.605084971731669E-5,
          2.2558484489972064E-5,
          1.95343041784176E-5,
          1.691554412285864E-5,
          1.4647853865637727E-5,
          1.2684169147070764E-5,
          1.0983735121015115E-5,
          9.511260517720363E-6,
          8.236185199228041E-6,
          7.13204590596597E-6,
          6.1759270310693745E-6,
          5.347985023650421E-6,
          4.63103655035201E-6,
          4.010201867778851E-6,
          3.4725960042605523E-6,
          3.007061341648988E-6,
          2.603936047079944E-6,
          2.2548535486689085E-6,
          1.9525688934051904E-6,
          1.6908083834288056E-6,
          1.4641393700006363E-6,
          1.2678575028346114E-6,
          1.097889094733729E-6
         ],
         "type": "scatter"
        }
       ],
       "layout": {
        "template": {
         "data": {
          "histogram2dcontour": [
           {
            "type": "histogram2dcontour",
            "colorbar": {
             "outlinewidth": 0,
             "ticks": ""
            },
            "colorscale": [
             [
              0.0,
              "#0d0887"
             ],
             [
              0.1111111111111111,
              "#46039f"
             ],
             [
              0.2222222222222222,
              "#7201a8"
             ],
             [
              0.3333333333333333,
              "#9c179e"
             ],
             [
              0.4444444444444444,
              "#bd3786"
             ],
             [
              0.5555555555555556,
              "#d8576b"
             ],
             [
              0.6666666666666666,
              "#ed7953"
             ],
             [
              0.7777777777777778,
              "#fb9f3a"
             ],
             [
              0.8888888888888888,
              "#fdca26"
             ],
             [
              1.0,
              "#f0f921"
             ]
            ]
           }
          ],
          "choropleth": [
           {
            "type": "choropleth",
            "colorbar": {
             "outlinewidth": 0,
             "ticks": ""
            }
           }
          ],
          "histogram2d": [
           {
            "type": "histogram2d",
            "colorbar": {
             "outlinewidth": 0,
             "ticks": ""
            },
            "colorscale": [
             [
              0.0,
              "#0d0887"
             ],
             [
              0.1111111111111111,
              "#46039f"
             ],
             [
              0.2222222222222222,
              "#7201a8"
             ],
             [
              0.3333333333333333,
              "#9c179e"
             ],
             [
              0.4444444444444444,
              "#bd3786"
             ],
             [
              0.5555555555555556,
              "#d8576b"
             ],
             [
              0.6666666666666666,
              "#ed7953"
             ],
             [
              0.7777777777777778,
              "#fb9f3a"
             ],
             [
              0.8888888888888888,
              "#fdca26"
             ],
             [
              1.0,
              "#f0f921"
             ]
            ]
           }
          ],
          "heatmap": [
           {
            "type": "heatmap",
            "colorbar": {
             "outlinewidth": 0,
             "ticks": ""
            },
            "colorscale": [
             [
              0.0,
              "#0d0887"
             ],
             [
              0.1111111111111111,
              "#46039f"
             ],
             [
              0.2222222222222222,
              "#7201a8"
             ],
             [
              0.3333333333333333,
              "#9c179e"
             ],
             [
              0.4444444444444444,
              "#bd3786"
             ],
             [
              0.5555555555555556,
              "#d8576b"
             ],
             [
              0.6666666666666666,
              "#ed7953"
             ],
             [
              0.7777777777777778,
              "#fb9f3a"
             ],
             [
              0.8888888888888888,
              "#fdca26"
             ],
             [
              1.0,
              "#f0f921"
             ]
            ]
           }
          ],
          "heatmapgl": [
           {
            "type": "heatmapgl",
            "colorbar": {
             "outlinewidth": 0,
             "ticks": ""
            },
            "colorscale": [
             [
              0.0,
              "#0d0887"
             ],
             [
              0.1111111111111111,
              "#46039f"
             ],
             [
              0.2222222222222222,
              "#7201a8"
             ],
             [
              0.3333333333333333,
              "#9c179e"
             ],
             [
              0.4444444444444444,
              "#bd3786"
             ],
             [
              0.5555555555555556,
              "#d8576b"
             ],
             [
              0.6666666666666666,
              "#ed7953"
             ],
             [
              0.7777777777777778,
              "#fb9f3a"
             ],
             [
              0.8888888888888888,
              "#fdca26"
             ],
             [
              1.0,
              "#f0f921"
             ]
            ]
           }
          ],
          "contourcarpet": [
           {
            "type": "contourcarpet",
            "colorbar": {
             "outlinewidth": 0,
             "ticks": ""
            }
           }
          ],
          "contour": [
           {
            "type": "contour",
            "colorbar": {
             "outlinewidth": 0,
             "ticks": ""
            },
            "colorscale": [
             [
              0.0,
              "#0d0887"
             ],
             [
              0.1111111111111111,
              "#46039f"
             ],
             [
              0.2222222222222222,
              "#7201a8"
             ],
             [
              0.3333333333333333,
              "#9c179e"
             ],
             [
              0.4444444444444444,
              "#bd3786"
             ],
             [
              0.5555555555555556,
              "#d8576b"
             ],
             [
              0.6666666666666666,
              "#ed7953"
             ],
             [
              0.7777777777777778,
              "#fb9f3a"
             ],
             [
              0.8888888888888888,
              "#fdca26"
             ],
             [
              1.0,
              "#f0f921"
             ]
            ]
           }
          ],
          "surface": [
           {
            "type": "surface",
            "colorbar": {
             "outlinewidth": 0,
             "ticks": ""
            },
            "colorscale": [
             [
              0.0,
              "#0d0887"
             ],
             [
              0.1111111111111111,
              "#46039f"
             ],
             [
              0.2222222222222222,
              "#7201a8"
             ],
             [
              0.3333333333333333,
              "#9c179e"
             ],
             [
              0.4444444444444444,
              "#bd3786"
             ],
             [
              0.5555555555555556,
              "#d8576b"
             ],
             [
              0.6666666666666666,
              "#ed7953"
             ],
             [
              0.7777777777777778,
              "#fb9f3a"
             ],
             [
              0.8888888888888888,
              "#fdca26"
             ],
             [
              1.0,
              "#f0f921"
             ]
            ]
           }
          ],
          "mesh3d": [
           {
            "type": "mesh3d",
            "colorbar": {
             "outlinewidth": 0,
             "ticks": ""
            }
           }
          ],
          "scatter": [
           {
            "fillpattern": {
             "fillmode": "overlay",
             "size": 10,
             "solidity": 0.2
            },
            "type": "scatter"
           }
          ],
          "parcoords": [
           {
            "type": "parcoords",
            "line": {
             "colorbar": {
              "outlinewidth": 0,
              "ticks": ""
             }
            }
           }
          ],
          "scatterpolargl": [
           {
            "type": "scatterpolargl",
            "marker": {
             "colorbar": {
              "outlinewidth": 0,
              "ticks": ""
             }
            }
           }
          ],
          "bar": [
           {
            "error_x": {
             "color": "#2a3f5f"
            },
            "error_y": {
             "color": "#2a3f5f"
            },
            "marker": {
             "line": {
              "color": "#E5ECF6",
              "width": 0.5
             },
             "pattern": {
              "fillmode": "overlay",
              "size": 10,
              "solidity": 0.2
             }
            },
            "type": "bar"
           }
          ],
          "scattergeo": [
           {
            "type": "scattergeo",
            "marker": {
             "colorbar": {
              "outlinewidth": 0,
              "ticks": ""
             }
            }
           }
          ],
          "scatterpolar": [
           {
            "type": "scatterpolar",
            "marker": {
             "colorbar": {
              "outlinewidth": 0,
              "ticks": ""
             }
            }
           }
          ],
          "histogram": [
           {
            "marker": {
             "pattern": {
              "fillmode": "overlay",
              "size": 10,
              "solidity": 0.2
             }
            },
            "type": "histogram"
           }
          ],
          "scattergl": [
           {
            "type": "scattergl",
            "marker": {
             "colorbar": {
              "outlinewidth": 0,
              "ticks": ""
             }
            }
           }
          ],
          "scatter3d": [
           {
            "type": "scatter3d",
            "line": {
             "colorbar": {
              "outlinewidth": 0,
              "ticks": ""
             }
            },
            "marker": {
             "colorbar": {
              "outlinewidth": 0,
              "ticks": ""
             }
            }
           }
          ],
          "scattermapbox": [
           {
            "type": "scattermapbox",
            "marker": {
             "colorbar": {
              "outlinewidth": 0,
              "ticks": ""
             }
            }
           }
          ],
          "scatterternary": [
           {
            "type": "scatterternary",
            "marker": {
             "colorbar": {
              "outlinewidth": 0,
              "ticks": ""
             }
            }
           }
          ],
          "scattercarpet": [
           {
            "type": "scattercarpet",
            "marker": {
             "colorbar": {
              "outlinewidth": 0,
              "ticks": ""
             }
            }
           }
          ],
          "carpet": [
           {
            "aaxis": {
             "endlinecolor": "#2a3f5f",
             "gridcolor": "white",
             "linecolor": "white",
             "minorgridcolor": "white",
             "startlinecolor": "#2a3f5f"
            },
            "baxis": {
             "endlinecolor": "#2a3f5f",
             "gridcolor": "white",
             "linecolor": "white",
             "minorgridcolor": "white",
             "startlinecolor": "#2a3f5f"
            },
            "type": "carpet"
           }
          ],
          "table": [
           {
            "cells": {
             "fill": {
              "color": "#EBF0F8"
             },
             "line": {
              "color": "white"
             }
            },
            "header": {
             "fill": {
              "color": "#C8D4E3"
             },
             "line": {
              "color": "white"
             }
            },
            "type": "table"
           }
          ],
          "barpolar": [
           {
            "marker": {
             "line": {
              "color": "#E5ECF6",
              "width": 0.5
             },
             "pattern": {
              "fillmode": "overlay",
              "size": 10,
              "solidity": 0.2
             }
            },
            "type": "barpolar"
           }
          ],
          "pie": [
           {
            "automargin": true,
            "type": "pie"
           }
          ]
         },
         "layout": {
          "autotypenumbers": "strict",
          "colorway": [
           "#636efa",
           "#EF553B",
           "#00cc96",
           "#ab63fa",
           "#FFA15A",
           "#19d3f3",
           "#FF6692",
           "#B6E880",
           "#FF97FF",
           "#FECB52"
          ],
          "font": {
           "color": "#2a3f5f"
          },
          "hovermode": "closest",
          "hoverlabel": {
           "align": "left"
          },
          "paper_bgcolor": "white",
          "plot_bgcolor": "#E5ECF6",
          "polar": {
           "bgcolor": "#E5ECF6",
           "angularaxis": {
            "gridcolor": "white",
            "linecolor": "white",
            "ticks": ""
           },
           "radialaxis": {
            "gridcolor": "white",
            "linecolor": "white",
            "ticks": ""
           }
          },
          "ternary": {
           "bgcolor": "#E5ECF6",
           "aaxis": {
            "gridcolor": "white",
            "linecolor": "white",
            "ticks": ""
           },
           "baxis": {
            "gridcolor": "white",
            "linecolor": "white",
            "ticks": ""
           },
           "caxis": {
            "gridcolor": "white",
            "linecolor": "white",
            "ticks": ""
           }
          },
          "coloraxis": {
           "colorbar": {
            "outlinewidth": 0,
            "ticks": ""
           }
          },
          "colorscale": {
           "sequential": [
            [
             0.0,
             "#0d0887"
            ],
            [
             0.1111111111111111,
             "#46039f"
            ],
            [
             0.2222222222222222,
             "#7201a8"
            ],
            [
             0.3333333333333333,
             "#9c179e"
            ],
            [
             0.4444444444444444,
             "#bd3786"
            ],
            [
             0.5555555555555556,
             "#d8576b"
            ],
            [
             0.6666666666666666,
             "#ed7953"
            ],
            [
             0.7777777777777778,
             "#fb9f3a"
            ],
            [
             0.8888888888888888,
             "#fdca26"
            ],
            [
             1.0,
             "#f0f921"
            ]
           ],
           "sequentialminus": [
            [
             0.0,
             "#0d0887"
            ],
            [
             0.1111111111111111,
             "#46039f"
            ],
            [
             0.2222222222222222,
             "#7201a8"
            ],
            [
             0.3333333333333333,
             "#9c179e"
            ],
            [
             0.4444444444444444,
             "#bd3786"
            ],
            [
             0.5555555555555556,
             "#d8576b"
            ],
            [
             0.6666666666666666,
             "#ed7953"
            ],
            [
             0.7777777777777778,
             "#fb9f3a"
            ],
            [
             0.8888888888888888,
             "#fdca26"
            ],
            [
             1.0,
             "#f0f921"
            ]
           ],
           "diverging": [
            [
             0,
             "#8e0152"
            ],
            [
             0.1,
             "#c51b7d"
            ],
            [
             0.2,
             "#de77ae"
            ],
            [
             0.3,
             "#f1b6da"
            ],
            [
             0.4,
             "#fde0ef"
            ],
            [
             0.5,
             "#f7f7f7"
            ],
            [
             0.6,
             "#e6f5d0"
            ],
            [
             0.7,
             "#b8e186"
            ],
            [
             0.8,
             "#7fbc41"
            ],
            [
             0.9,
             "#4d9221"
            ],
            [
             1,
             "#276419"
            ]
           ]
          },
          "xaxis": {
           "gridcolor": "white",
           "linecolor": "white",
           "ticks": "",
           "title": {
            "standoff": 15
           },
           "zerolinecolor": "white",
           "automargin": true,
           "zerolinewidth": 2
          },
          "yaxis": {
           "gridcolor": "white",
           "linecolor": "white",
           "ticks": "",
           "title": {
            "standoff": 15
           },
           "zerolinecolor": "white",
           "automargin": true,
           "zerolinewidth": 2
          },
          "scene": {
           "xaxis": {
            "backgroundcolor": "#E5ECF6",
            "gridcolor": "white",
            "linecolor": "white",
            "showbackground": true,
            "ticks": "",
            "zerolinecolor": "white",
            "gridwidth": 2
           },
           "yaxis": {
            "backgroundcolor": "#E5ECF6",
            "gridcolor": "white",
            "linecolor": "white",
            "showbackground": true,
            "ticks": "",
            "zerolinecolor": "white",
            "gridwidth": 2
           },
           "zaxis": {
            "backgroundcolor": "#E5ECF6",
            "gridcolor": "white",
            "linecolor": "white",
            "showbackground": true,
            "ticks": "",
            "zerolinecolor": "white",
            "gridwidth": 2
           }
          },
          "shapedefaults": {
           "line": {
            "color": "#2a3f5f"
           }
          },
          "annotationdefaults": {
           "arrowcolor": "#2a3f5f",
           "arrowhead": 0,
           "arrowwidth": 1
          },
          "geo": {
           "bgcolor": "white",
           "landcolor": "#E5ECF6",
           "subunitcolor": "white",
           "showland": true,
           "showlakes": true,
           "lakecolor": "white"
          },
          "title": {
           "x": 0.05
          },
          "mapbox": {
           "style": "light"
          }
         }
        },
        "xaxis": {
         "anchor": "y",
         "domain": [
          0.0,
          1.0
         ],
         "title": {
          "text": "Time [h]"
         }
        },
        "yaxis": {
         "anchor": "x",
         "domain": [
          0.0,
          1.0
         ],
         "range": [
          -0.1,
          1
         ],
         "title": {
          "text": "Conversion [%]"
         }
        },
        "legend": {
         "tracegroupgap": 0
        },
        "title": {
         "text": "Kinetic Curve Fit"
        }
       },
       "config": {
        "plotlyServerURL": "https://plot.ly"
       }
      },
      "text/html": "<div>                            <div id=\"65d5fb81-3fa7-4469-8c63-380316a7565e\" class=\"plotly-graph-div\" style=\"height:525px; width:100%;\"></div>            <script type=\"text/javascript\">                require([\"plotly\"], function(Plotly) {                    window.PLOTLYENV=window.PLOTLYENV || {};                                    if (document.getElementById(\"65d5fb81-3fa7-4469-8c63-380316a7565e\")) {                    Plotly.newPlot(                        \"65d5fb81-3fa7-4469-8c63-380316a7565e\",                        [{\"hovertemplate\":\"\\u003cextra\\u003e\\u003c\\u002fextra\\u003e\",\"legendgroup\":\"\",\"line\":{\"color\":\"#636efa\",\"dash\":\"solid\"},\"marker\":{\"symbol\":\"circle\"},\"mode\":\"lines\",\"name\":\"\",\"orientation\":\"v\",\"showlegend\":false,\"xaxis\":\"x\",\"yaxis\":\"y\",\"type\":\"scatter\"},{\"marker\":{\"color\":\"#636EFA\"},\"mode\":\"lines+markers\",\"name\":\"30_2_A_DMF\",\"x\":[0.0,2.125,4.143055555555556,8.180555555555555,15.2],\"y\":[0.0,0.02723880597014927,0.05186567164179112,0.10559701492537321,0.20037313432835835],\"type\":\"scatter\"},{\"line\":{\"dash\":\"dot\"},\"marker\":{\"color\":\"#636EFA\"},\"name\":\"neg_growth fit\",\"opacity\":1,\"x\":[-1.0,-0.8232323232323232,-0.6464646464646464,-0.4696969696969697,-0.29292929292929293,-0.11616161616161613,0.06060606060606055,0.23737373737373746,0.41414141414141414,0.5909090909090908,0.7676767676767677,0.9444444444444444,1.121212121212121,1.297979797979798,1.474747474747475,1.6515151515151514,1.8282828282828283,2.005050505050505,2.1818181818181817,2.3585858585858586,2.5353535353535355,2.712121212121212,2.888888888888889,3.0656565656565657,3.242424242424242,3.4191919191919196,3.595959595959596,3.7727272727272725,3.94949494949495,4.126262626262626,4.303030303030303,4.47979797979798,4.656565656565657,4.833333333333333,5.01010101010101,5.186868686868687,5.363636363636363,5.540404040404041,5.717171717171717,5.893939393939394,6.070707070707071,6.247474747474747,6.424242424242424,6.601010101010101,6.777777777777778,6.954545454545454,7.1313131313131315,7.308080808080808,7.484848484848484,7.661616161616161,7.838383838383839,8.015151515151516,8.191919191919192,8.368686868686869,8.545454545454545,8.722222222222221,8.8989898989899,9.075757575757576,9.252525252525253,9.429292929292929,9.606060606060606,9.782828282828282,9.95959595959596,10.136363636363637,10.313131313131313,10.48989898989899,10.666666666666666,10.843434343434344,11.02020202020202,11.196969696969697,11.373737373737374,11.55050505050505,11.727272727272727,11.904040404040405,12.080808080808081,12.257575757575758,12.434343434343434,12.61111111111111,12.787878787878787,12.964646464646465,13.141414141414142,13.318181818181818,13.494949494949495,13.671717171717171,13.848484848484848,14.025252525252526,14.202020202020202,14.378787878787879,14.555555555555555,14.732323232323232,14.909090909090908,15.085858585858585,15.262626262626263,15.439393939393938,15.616161616161616,15.792929292929294,15.969696969696969,16.146464646464647,16.32323232323232,16.5],\"y\":[-0.014396929077914676,-0.011837020709717814,-0.009283572466414645,-0.0067365680453848045,-0.0041959911851494605,-0.001661825665266292,0.0008659446937731018,0.003387336030647336,0.005902364443307383,0.008411045989080155,0.010913396684770314,0.013409432506763184,0.01589916939112634,0.018382623233711533,0.020859809890255928,0.0233307451764837,0.025795444868206948,0.028253924701425955,0.030706200372430322,0.033152287537898555,0.03559220181499866,0.03802595878148728,0.04045357397580961,0.042875062897198106,0.045290441005771946,0.04769972372263553,0.050102926429976595,0.05250006447116528,0.05489115315085102,0.05727620773506125,0.059655243451298016,0.06202827548863587,0.06439531899781846,0.06675638909135549,0.06911150084361882,0.07146066929093929,0.07380390943170233,0.07614123622644352,0.07847266459794465,0.08079820943132875,0.08311788557415499,0.08543170783651365,0.08773969099112054,0.09004184977341155,0.09233819888163618,0.09462875297695238,0.09691352668351892,0.09919253458858988,0.10146579124260689,0.10373331115929284,0.10599510881574369,0.10825119865252174,0.110501595073747,0.11274631244719012,0.11498536510436295,0.1172187673406113,0.11944653341520504,0.12166867755143006,0.12388521393667849,0.12609615672253968,0.12830152002489,0.13050131792398376,0.13269556446454242,0.13488427365584452,0.13706745947181517,0.13924513585111517,0.1414173166972301,0.14358401587855904,0.14574524722850288,0.1479010245455533,0.15005136159337992,0.152196272100919,0.15433576976246074,0.15646986823773676,0.15859858115200717,0.16072192209614775,0.1628399046267369,0.1649525422661415,0.1670598485026041,0.16916183679032845,0.17125852054956567,0.17334991316669965,0.17543602799433308,0.17751687835137195,0.17959247752311122,0.18166283876131936,0.1837279752843228,0.18578790027709077,0.187842626891319,0.189892168245514,0.19193653742507685,0.19397574748238652,0.1960098114368831,0.19803874227515147,0.20006255295100359,0.2020812563855617,0.20409486546734032,0.20610339305232925,0.20810685196407472,0.21010525499376217],\"type\":\"scatter\"},{\"line\":{\"dash\":\"dash\"},\"marker\":{\"color\":\"#636EFA\"},\"name\":\"neg_growth_derivative\",\"opacity\":0.3,\"x\":[-1.0,-0.8232323232323232,-0.6464646464646464,-0.4696969696969697,-0.29292929292929293,-0.11616161616161613,0.06060606060606055,0.23737373737373746,0.41414141414141414,0.5909090909090908,0.7676767676767677,0.9444444444444444,1.121212121212121,1.297979797979798,1.474747474747475,1.6515151515151514,1.8282828282828283,2.005050505050505,2.1818181818181817,2.3585858585858586,2.5353535353535355,2.712121212121212,2.888888888888889,3.0656565656565657,3.242424242424242,3.4191919191919196,3.595959595959596,3.7727272727272725,3.94949494949495,4.126262626262626,4.303030303030303,4.47979797979798,4.656565656565657,4.833333333333333,5.01010101010101,5.186868686868687,5.363636363636363,5.540404040404041,5.717171717171717,5.893939393939394,6.070707070707071,6.247474747474747,6.424242424242424,6.601010101010101,6.777777777777778,6.954545454545454,7.1313131313131315,7.308080808080808,7.484848484848484,7.661616161616161,7.838383838383839,8.015151515151516,8.191919191919192,8.368686868686869,8.545454545454545,8.722222222222221,8.8989898989899,9.075757575757576,9.252525252525253,9.429292929292929,9.606060606060606,9.782828282828282,9.95959595959596,10.136363636363637,10.313131313131313,10.48989898989899,10.666666666666666,10.843434343434344,11.02020202020202,11.196969696969697,11.373737373737374,11.55050505050505,11.727272727272727,11.904040404040405,12.080808080808081,12.257575757575758,12.434343434343434,12.61111111111111,12.787878787878787,12.964646464646465,13.141414141414142,13.318181818181818,13.494949494949495,13.671717171717171,13.848484848484848,14.025252525252526,14.202020202020202,14.378787878787879,14.555555555555555,14.732323232323232,14.909090909090908,15.085858585858585,15.262626262626263,15.439393939393938,15.616161616161616,15.792929292929294,15.969696969696969,16.146464646464647,16.32323232323232,16.5],\"y\":[0.014500071065170487,0.014463479024919616,0.014426979327485805,0.014390571739834879,0.014354256029520744,0.014318031964683904,0.014281899314049974,0.014245857846928209,0.01420990733321003,0.014174047543367554,0.014138278248452133,0.014102599220092882,0.014067010230495232,0.01403151105243947,0.013996101459279289,0.013960781224940341,0.013925550123918795,0.013890407931279896,0.013855354422656526,0.013820389374247781,0.013785512562817532,0.013750723765693,0.013716022760763343,0.013681409326478234,0.013646883241846437,0.013612444286434412,0.013578092240364902,0.013543826884315513,0.013509647999517347,0.01347555536775357,0.013441548771358046,0.01340762799321393,0.01337379281675229,0.013340043025950718,0.013306378405331965,0.013272798739962545,0.01323930381545138,0.013205893417948419,0.013172567334143286,0.0131393253512639,0.013106167257075132,0.013073092839877447,0.013040101888505545,0.013007194192327019,0.012974369541241013,0.01294162772567687,0.012908968536592808,0.01287639176547457,0.012843897204334109,0.012811484645708244,0.01277915388265735,0.012746904708764023,0.012714736918131776,0.012682650305383713,0.012650644665661225,0.012618719794622677,0.012586875488442109,0.012555111543807928,0.012523427757921615,0.012491823928496426,0.01246029985375611,0.012428855332433607,0.012397490163769773,0.012366204147512092,0.012334997083913406,0.012303868773730629,0.012272819018223484,0.012241847619153225,0.012210954378781386,0.012180139099868498,0.01214940158567285,0.012118741639949217,0.01208815906694762,0.012057653671412065,0.012027225258579305,0.01199687363417759,0.011966598604425432,0.011936399976030364,0.01190627755618771,0.011876231152579348,0.011846260573372484,0.011816365627218436,0.011786546123251397,0.011756801871087233,0.011727132680822247,0.01169753836303199,0.011668018728770038,0.01163857358956678,0.01160920275742823,0.01157990604483482,0.011550683264740198,0.011521534230570033,0.011492458756220845,0.01146345665605878,0.011434527744918464,0.011405671838101785,0.011376888751376745,0.011348178300976262,0.011319540303597006,0.011290974576398227],\"type\":\"scatter\"},{\"marker\":{\"color\":\"#FF97FF\"},\"mode\":\"lines+markers\",\"name\":\"298_2_A_DMF\",\"x\":[0.0,1.2513888888888889,2.2416666666666667,4.273611111111111,8.338888888888889,15.381944444444445],\"y\":[0.0,0.025179856115107868,0.014388489208632893,0.014388489208632893,0.021582733812949506,0.03237410071942437],\"type\":\"scatter\"},{\"line\":{\"dash\":\"dot\"},\"marker\":{\"color\":\"#FF97FF\"},\"name\":\"neg_growth fit\",\"opacity\":1,\"x\":[-1.0,-0.8232323232323232,-0.6464646464646464,-0.4696969696969697,-0.29292929292929293,-0.11616161616161613,0.06060606060606055,0.23737373737373746,0.41414141414141414,0.5909090909090908,0.7676767676767677,0.9444444444444444,1.121212121212121,1.297979797979798,1.474747474747475,1.6515151515151514,1.8282828282828283,2.005050505050505,2.1818181818181817,2.3585858585858586,2.5353535353535355,2.712121212121212,2.888888888888889,3.0656565656565657,3.242424242424242,3.4191919191919196,3.595959595959596,3.7727272727272725,3.94949494949495,4.126262626262626,4.303030303030303,4.47979797979798,4.656565656565657,4.833333333333333,5.01010101010101,5.186868686868687,5.363636363636363,5.540404040404041,5.717171717171717,5.893939393939394,6.070707070707071,6.247474747474747,6.424242424242424,6.601010101010101,6.777777777777778,6.954545454545454,7.1313131313131315,7.308080808080808,7.484848484848484,7.661616161616161,7.838383838383839,8.015151515151516,8.191919191919192,8.368686868686869,8.545454545454545,8.722222222222221,8.8989898989899,9.075757575757576,9.252525252525253,9.429292929292929,9.606060606060606,9.782828282828282,9.95959595959596,10.136363636363637,10.313131313131313,10.48989898989899,10.666666666666666,10.843434343434344,11.02020202020202,11.196969696969697,11.373737373737374,11.55050505050505,11.727272727272727,11.904040404040405,12.080808080808081,12.257575757575758,12.434343434343434,12.61111111111111,12.787878787878787,12.964646464646465,13.141414141414142,13.318181818181818,13.494949494949495,13.671717171717171,13.848484848484848,14.025252525252526,14.202020202020202,14.378787878787879,14.555555555555555,14.732323232323232,14.909090909090908,15.085858585858585,15.262626262626263,15.439393939393938,15.616161616161616,15.792929292929294,15.969696969696969,16.146464646464647,16.32323232323232,16.5],\"y\":[-39352.378235908465,-3077.865621198333,-240.7106136204185,-18.806914388903987,-1.4510591039056426,-0.09359767483982041,0.012574075335705459,0.020878134879475898,0.021527624077802968,0.02157842287284051,0.021582396022176813,0.021582706775918843,0.02158273108104307,0.02158273298203084,0.021582733130713662,0.021582733142342662,0.021582733143252205,0.021582733143323343,0.021582733143328908,0.021582733143329345,0.021582733143329376,0.02158273314332938,0.02158273314332938,0.02158273314332938,0.02158273314332938,0.02158273314332938,0.02158273314332938,0.02158273314332938,0.02158273314332938,0.02158273314332938,0.02158273314332938,0.02158273314332938,0.02158273314332938,0.02158273314332938,0.02158273314332938,0.02158273314332938,0.02158273314332938,0.02158273314332938,0.02158273314332938,0.02158273314332938,0.02158273314332938,0.02158273314332938,0.02158273314332938,0.02158273314332938,0.02158273314332938,0.02158273314332938,0.02158273314332938,0.02158273314332938,0.02158273314332938,0.02158273314332938,0.02158273314332938,0.02158273314332938,0.02158273314332938,0.02158273314332938,0.02158273314332938,0.02158273314332938,0.02158273314332938,0.02158273314332938,0.02158273314332938,0.02158273314332938,0.02158273314332938,0.02158273314332938,0.02158273314332938,0.02158273314332938,0.02158273314332938,0.02158273314332938,0.02158273314332938,0.02158273314332938,0.02158273314332938,0.02158273314332938,0.02158273314332938,0.02158273314332938,0.02158273314332938,0.02158273314332938,0.02158273314332938,0.02158273314332938,0.02158273314332938,0.02158273314332938,0.02158273314332938,0.02158273314332938,0.02158273314332938,0.02158273314332938,0.02158273314332938,0.02158273314332938,0.02158273314332938,0.02158273314332938,0.02158273314332938,0.02158273314332938,0.02158273314332938,0.02158273314332938,0.02158273314332938,0.02158273314332938,0.02158273314332938,0.02158273314332938,0.02158273314332938,0.02158273314332938,0.02158273314332938,0.02158273314332938,0.02158273314332938,0.02158273314332938],\"type\":\"scatter\"},{\"line\":{\"dash\":\"dash\"},\"marker\":{\"color\":\"#FF97FF\"},\"name\":\"neg_growth_derivative\",\"opacity\":0.3,\"x\":[-1.0,-0.8232323232323232,-0.6464646464646464,-0.4696969696969697,-0.29292929292929293,-0.11616161616161613,0.06060606060606055,0.23737373737373746,0.41414141414141414,0.5909090909090908,0.7676767676767677,0.9444444444444444,1.121212121212121,1.297979797979798,1.474747474747475,1.6515151515151514,1.8282828282828283,2.005050505050505,2.1818181818181817,2.3585858585858586,2.5353535353535355,2.712121212121212,2.888888888888889,3.0656565656565657,3.242424242424242,3.4191919191919196,3.595959595959596,3.7727272727272725,3.94949494949495,4.126262626262626,4.303030303030303,4.47979797979798,4.656565656565657,4.833333333333333,5.01010101010101,5.186868686868687,5.363636363636363,5.540404040404041,5.717171717171717,5.893939393939394,6.070707070707071,6.247474747474747,6.424242424242424,6.601010101010101,6.777777777777778,6.954545454545454,7.1313131313131315,7.308080808080808,7.484848484848484,7.661616161616161,7.838383838383839,8.015151515151516,8.191919191919192,8.368686868686869,8.545454545454545,8.722222222222221,8.8989898989899,9.075757575757576,9.252525252525253,9.429292929292929,9.606060606060606,9.782828282828282,9.95959595959596,10.136363636363637,10.313131313131313,10.48989898989899,10.666666666666666,10.843434343434344,11.02020202020202,11.196969696969697,11.373737373737374,11.55050505050505,11.727272727272727,11.904040404040405,12.080808080808081,12.257575757575758,12.434343434343434,12.61111111111111,12.787878787878787,12.964646464646465,13.141414141414142,13.318181818181818,13.494949494949495,13.671717171717171,13.848484848484848,14.025252525252526,14.202020202020202,14.378787878787879,14.555555555555555,14.732323232323232,14.909090909090908,15.085858585858585,15.262626262626263,15.439393939393938,15.616161616161616,15.792929292929294,15.969696969696969,16.146464646464647,16.32323232323232,16.5],\"y\":[567311.0397176535,44371.357219461715,3470.437209325134,271.4348890501343,21.229860835887543,1.6604607929672073,0.12987037768615806,0.010157611111193753,0.0007944618728651311,6.213760898375193e-05,4.8599971654940614e-06,3.801171759728729e-07,2.973027813585225e-08,2.3253078100796216e-09,1.8187036081229272e-10,1.4224709519580249e-11,1.1125636965402615e-12,8.701745207207977e-14,6.805935685896892e-15,5.323157534214586e-16,4.163425492365809e-17,3.256358978494744e-18,2.546910906960371e-19,1.992027049484625e-20,1.5580332060434422e-21,1.2185916209129723e-22,9.531026250270641e-24,7.454545052204562e-25,5.830457337557829e-26,4.560202202417356e-27,3.5666917572614347e-28,2.789632899298401e-29,2.181868308918094e-30,1.7065146165498908e-31,1.3347240640487528e-32,1.0439338227014605e-33,8.164967243298896e-35,6.386103087610085e-36,4.994791948375995e-37,3.90659941834702e-38,3.055486429297858e-39,2.389801543454332e-40,1.869146386099026e-41,1.4619239920721948e-42,1.143421282833154e-43,8.943093054944894e-45,6.994702179343012e-46,5.470798333095063e-47,4.2789004640948626e-48,3.346675945057692e-49,2.6175509281440413e-50,2.0472770515909083e-51,1.6012461423024416e-52,1.2523899519344377e-53,9.795374678942333e-55,7.661301094971381e-56,5.992168384736719e-57,4.686682001651887e-58,3.665615979777486e-59,2.867004952856564e-60,2.242383666224432e-61,1.7538457690978707e-62,1.3717433943681176e-63,1.0728879204472784e-64,8.391427249204232e-66,6.563225285389868e-67,5.133325341152883e-68,4.014951172981953e-69,3.1402320815710766e-70,2.456084047170121e-71,1.920988223184355e-72,1.5024712846715476e-73,1.175134721815452e-74,9.191134822374756e-76,7.18870421874394e-77,5.622534033423447e-78,4.3975781997787443e-79,3.4394979040071324e-80,2.6901501904536914e-81,2.1040594438992342e-82,1.6456576139025653e-83,1.2871256988713006e-84,1.0067054961488331e-85,7.873791634065045e-87,6.158364579694838e-88,4.816669789985287e-89,3.76728392181471e-90,2.9465229642837043e-91,2.3045774513510346e-92,1.8024896780557065e-93,1.4097894768486877e-94,1.1026450765461036e-95,8.624168252050216e-97,6.745260067967792e-98,5.275701036294214e-99,4.126308125098304e-100,3.227328202663476e-101,2.524204933788855e-102,1.9742679230783294e-103,1.544143179470482e-104],\"type\":\"scatter\"},{\"marker\":{\"color\":\"#EF553B\"},\"mode\":\"lines+markers\",\"name\":\"231_6_G_Tol\",\"x\":[0.0,2.1847222222222222,4.205555555555556,8.256944444444445,15.291666666666666],\"y\":[0.0,0.14335060449050085,0.49870466321243523,0.8717616580310881,0.9352331606217616],\"type\":\"scatter\"},{\"line\":{\"dash\":\"dot\"},\"marker\":{\"color\":\"#EF553B\"},\"name\":\"neg_growth fit\",\"opacity\":1,\"x\":[-1.0,-0.8232323232323232,-0.6464646464646464,-0.4696969696969697,-0.29292929292929293,-0.11616161616161613,0.06060606060606055,0.23737373737373746,0.41414141414141414,0.5909090909090908,0.7676767676767677,0.9444444444444444,1.121212121212121,1.297979797979798,1.474747474747475,1.6515151515151514,1.8282828282828283,2.005050505050505,2.1818181818181817,2.3585858585858586,2.5353535353535355,2.712121212121212,2.888888888888889,3.0656565656565657,3.242424242424242,3.4191919191919196,3.595959595959596,3.7727272727272725,3.94949494949495,4.126262626262626,4.303030303030303,4.47979797979798,4.656565656565657,4.833333333333333,5.01010101010101,5.186868686868687,5.363636363636363,5.540404040404041,5.717171717171717,5.893939393939394,6.070707070707071,6.247474747474747,6.424242424242424,6.601010101010101,6.777777777777778,6.954545454545454,7.1313131313131315,7.308080808080808,7.484848484848484,7.661616161616161,7.838383838383839,8.015151515151516,8.191919191919192,8.368686868686869,8.545454545454545,8.722222222222221,8.8989898989899,9.075757575757576,9.252525252525253,9.429292929292929,9.606060606060606,9.782828282828282,9.95959595959596,10.136363636363637,10.313131313131313,10.48989898989899,10.666666666666666,10.843434343434344,11.02020202020202,11.196969696969697,11.373737373737374,11.55050505050505,11.727272727272727,11.904040404040405,12.080808080808081,12.257575757575758,12.434343434343434,12.61111111111111,12.787878787878787,12.964646464646465,13.141414141414142,13.318181818181818,13.494949494949495,13.671717171717171,13.848484848484848,14.025252525252526,14.202020202020202,14.378787878787879,14.555555555555555,14.732323232323232,14.909090909090908,15.085858585858585,15.262626262626263,15.439393939393938,15.616161616161616,15.792929292929294,15.969696969696969,16.146464646464647,16.32323232323232,16.5],\"y\":[-0.18294167710325301,-0.148327523193408,-0.11472621689396133,-0.08210812118750786,-0.050444466267851144,-0.019707324164465186,0.010130415890528209,0.03909507137459455,0.06721218968732189,0.09450657068373335,0.12100228854825044,0.14672271302859993,0.1716905300483945,0.19592776171656598,0.21945578575130195,0.24229535433561608,0.2644666124211846,0.2859891154965923,0.3068818468356607,0.3271632342410719,0.3468511662980544,0.36596300815247024,0.3845156168272171,0.4025253560904564,0.4200081108887806,0.43697930135805113,0.4534538964242622,0.46944642700643163,0.4849709988331579,0.5000413048841523,0.5146706374677186,0.5288718999448313,0.5426576181101564,0.5560399512400495,0.5690307028172785,0.5816413309419298,0.5938829584376781,0.6057663826623384,0.6173020850313484,0.6285002402625851,0.6393707253506667,0.6499231282786584,0.6601667564748622,0.6701106450221538,0.679763564627104,0.6891340293559157,0.6982303041439993,0.7070604120858086,0.7156321415113696,0.7239530528557411,0.7320304853274692,0.7398715633819131,0.747483203005157,0.7548721178140463,0.7620448249777303,0.7690076509659349,0.775766737129034,0.7823280451148417,0.7886973621269043,0.7948803060289282,0.8008823302998469,0.8067087288438971,0.8123646406599477,0.8178550543741977,0.823184812640244,0.8283586164103977,0.8333810290820164,0.8382564805225117,0.8429892709765799,0.8475835748591029,0.8520434444370641,0.8563728134037295,0.8605755003482418,0.8646552121236921,0.8686155471166378,0.8724599984209506,0.8761919569187943,0.8798147142714507,0.8833314658226293,0.8867453134168239,0.8900592681352011,0.8932762529514331,0.8963991053098186,0.899430579627965,0.902373349726239,0.905230011186129,0.9080030836395998,0.9106950129914575,0.913308173576686,0.9158448702546578,0.918307340442065,0.9206977560863656,0.9230182255814844,0.925270795627457,0.9274574530356613,0.9295801264812235,0.9316406882041476,0.9336409556606692,0.9355826931262867,0.937467613251888],\"type\":\"scatter\"},{\"line\":{\"dash\":\"dash\"},\"marker\":{\"color\":\"#EF553B\"},\"name\":\"neg_growth_derivative\",\"opacity\":0.3,\"x\":[-1.0,-0.8232323232323232,-0.6464646464646464,-0.4696969696969697,-0.29292929292929293,-0.11616161616161613,0.06060606060606055,0.23737373737373746,0.41414141414141414,0.5909090909090908,0.7676767676767677,0.9444444444444444,1.121212121212121,1.297979797979798,1.474747474747475,1.6515151515151514,1.8282828282828283,2.005050505050505,2.1818181818181817,2.3585858585858586,2.5353535353535355,2.712121212121212,2.888888888888889,3.0656565656565657,3.242424242424242,3.4191919191919196,3.595959595959596,3.7727272727272725,3.94949494949495,4.126262626262626,4.303030303030303,4.47979797979798,4.656565656565657,4.833333333333333,5.01010101010101,5.186868686868687,5.363636363636363,5.540404040404041,5.717171717171717,5.893939393939394,6.070707070707071,6.247474747474747,6.424242424242424,6.601010101010101,6.777777777777778,6.954545454545454,7.1313131313131315,7.308080808080808,7.484848484848484,7.661616161616161,7.838383838383839,8.015151515151516,8.191919191919192,8.368686868686869,8.545454545454545,8.722222222222221,8.8989898989899,9.075757575757576,9.252525252525253,9.429292929292929,9.606060606060606,9.782828282828282,9.95959595959596,10.136363636363637,10.313131313131313,10.48989898989899,10.666666666666666,10.843434343434344,11.02020202020202,11.196969696969697,11.373737373737374,11.55050505050505,11.727272727272727,11.904040404040405,12.080808080808081,12.257575757575758,12.434343434343434,12.61111111111111,12.787878787878787,12.964646464646465,13.141414141414142,13.318181818181818,13.494949494949495,13.671717171717171,13.848484848484848,14.025252525252526,14.202020202020202,14.378787878787879,14.555555555555555,14.732323232323232,14.909090909090908,15.085858585858585,15.262626262626263,15.439393939393938,15.616161616161616,15.792929292929294,15.969696969696969,16.146464646464647,16.32323232323232,16.5],\"y\":[0.19873926821963825,0.19292394211249655,0.18727877874186566,0.181798798961888,0.17647916932190327,0.1713151978032493,0.16630232968080882,0.16143614350565147,0.15671234720522856,0.15212677429767996,0.14767538021691454,0.14335423874522307,0.13915953855027619,0.135087579823454,0.13113477101654158,0.1272976256739123,0.12357275935740496,0.11995688666118234,0.11644681831393826,0.11303945836589697,0.10973180145812439,0.10652093017174183,0.10340401245470492,0.10037829912387748,0.09744112144019777,0.09458988875479758,0.09182208622399887,0.08913527259117163,0.08652707803349735,0.08399520207173833,0.08153741154116943,0.0791515386218826,0.07683547892672678,0.07458718964519678,0.07240468774163399,0.07028604820614957,0.06822940235672781,0.06623293619101137,0.06429488878631545,0.062413550746459046,0.06058726269404369,0.058814413806849763,0.057093440397059325,0.05542282453205259,0.05380109269556127,0.052226814487998006,0.050698601364815694,0.04921510541178367,0.04777501815610062,0.046377069412295774,0.04502002616190005,0.04370269146589945,0.04242390340901111,0.04118253407485101,0.0399774885510894,0.03880770396371648,0.0376721485395664,0.036569820696273014,0.03549974815885431,0.034460987102146644,0.03345262131833229,0.032473761408826005,0.03152354399980781,0.030601130980710278,0.029705708764988334,0.028836487572519873,0.02799270073300402,0.027173604009742783,0.02637847494320951,0.02560661221382531,0.02485733502338129,0.024129982494561063,0.023423913088033856,0.02273850403660412,0.022073150795918574,0.021427266511246056,0.02080028149986008,0.02019164274856735,0.019600813425939206,0.019027272408815674,0.018470513822664514,0.017930046595389857,0.01740539402419692,0.016896093355130662,0.01640169537491768,0.015921764014751195,0.015455875965669698,0.015003620305190115,0.014564598134865995,0.01413842222845122,0.013724716690358775,0.013323116624113392,0.01293326781050563,0.012554826395163558,0.01218745858526633,0.011830840355132356,0.011484657160422239,0.011148603660704384,0.010822383450138758,0.010505708796041029],\"type\":\"scatter\"},{\"marker\":{\"color\":\"#AB63FA\"},\"mode\":\"lines+markers\",\"name\":\"203_14_F_DMF\",\"x\":[0.0,1.3736111111111111,2.3694444444444445,4.409722222222222,8.501388888888888,15.568055555555556],\"y\":[0.0,0.6435364564987671,0.7640014089468122,0.8809439943642128,0.9330750264177528,0.9313138429024305],\"type\":\"scatter\"},{\"line\":{\"dash\":\"dot\"},\"marker\":{\"color\":\"#AB63FA\"},\"name\":\"neg_growth fit\",\"opacity\":1,\"x\":[-1.0,-0.8232323232323232,-0.6464646464646464,-0.4696969696969697,-0.29292929292929293,-0.11616161616161613,0.06060606060606055,0.23737373737373746,0.41414141414141414,0.5909090909090908,0.7676767676767677,0.9444444444444444,1.121212121212121,1.297979797979798,1.474747474747475,1.6515151515151514,1.8282828282828283,2.005050505050505,2.1818181818181817,2.3585858585858586,2.5353535353535355,2.712121212121212,2.888888888888889,3.0656565656565657,3.242424242424242,3.4191919191919196,3.595959595959596,3.7727272727272725,3.94949494949495,4.126262626262626,4.303030303030303,4.47979797979798,4.656565656565657,4.833333333333333,5.01010101010101,5.186868686868687,5.363636363636363,5.540404040404041,5.717171717171717,5.893939393939394,6.070707070707071,6.247474747474747,6.424242424242424,6.601010101010101,6.777777777777778,6.954545454545454,7.1313131313131315,7.308080808080808,7.484848484848484,7.661616161616161,7.838383838383839,8.015151515151516,8.191919191919192,8.368686868686869,8.545454545454545,8.722222222222221,8.8989898989899,9.075757575757576,9.252525252525253,9.429292929292929,9.606060606060606,9.782828282828282,9.95959595959596,10.136363636363637,10.313131313131313,10.48989898989899,10.666666666666666,10.843434343434344,11.02020202020202,11.196969696969697,11.373737373737374,11.55050505050505,11.727272727272727,11.904040404040405,12.080808080808081,12.257575757575758,12.434343434343434,12.61111111111111,12.787878787878787,12.964646464646465,13.141414141414142,13.318181818181818,13.494949494949495,13.671717171717171,13.848484848484848,14.025252525252526,14.202020202020202,14.378787878787879,14.555555555555555,14.732323232323232,14.909090909090908,15.085858585858585,15.262626262626263,15.439393939393938,15.616161616161616,15.792929292929294,15.969696969696969,16.146464646464647,16.32323232323232,16.5],\"y\":[-1.1597306386631026,-0.8806269429199093,-0.6389397634291196,-0.4296530588060491,-0.24842323592397222,-0.09148900180230653,0.04440669928977622,0.16208428365286304,0.26398606384345175,0.352226937092277,0.4286382784560109,0.49480594967273683,0.5521032125673088,0.6017192301003519,0.6446837465794183,0.6818884592521071,0.7141055248329977,0.742003585053883,0.7661616438359277,0.7870810840943515,0.8051960735756682,0.8208825756930501,0.8344661523731481,0.8462287208567643,0.8564144046858606,0.865234600309871,0.8728723644650453,0.8794862133836869,0.8852134126831023,0.8901728262135162,0.8944673829907116,0.8981862134127868,0.9014064990966528,0.9041950747262794,0.9066098151578832,0.9087008365704183,0.910511536590369,0.9120794949778797,0.9134372535673075,0.9146129916492932,0.9156311108114145,0.9165127413753645,0.917276180941389,0.9179372741416519,0.9185097414840375,0.9190054641112975,0.9194347303855156,0.9198064494155702,0.9201283359591996,0.9204070705371802,0.9206484380826702,0.9208574480032831,0.9210384381476953,0.9211951648345351,0.921330880812041,0.9214484027664812,0.9215501697804266,0.9216382939541327,0.9217146042406418,0.9217806844043726,0.9218379058909955,0.9218874562907897,0.9219303639862148,0.9219675194952384,0.9219996939533893,0.9220275551181132,0.9220516812275921,0.9220725730016565,0.9220906640338613,0.9221063297904041,0.9221198954026519,0.922131642415007,0.9221418146281553,0.9221506231589718,0.9221582508220982,0.9221648559241277,0.922170575549142,0.9221755284037925,0.9221798172809702,0.9221835311931974,0.9221867472200174,0.9221895321077245,0.9221919436546349,0.9221940319106482,0.9221958402159971,0.9221974061007421,0.9221987620636806,0.9221999362468358,0.9222009530195239,0.9222018334841215,0.9222025959140302,0.9222032561329273,0.9222038278431752,0.9222043229102037,0.9222047516087685,0.9222051228361959,0.922205444297041,0.9222057226629894,0.9222059637113237,0.9222061724448263],\"type\":\"scatter\"},{\"line\":{\"dash\":\"dash\"},\"marker\":{\"color\":\"#AB63FA\"},\"name\":\"neg_growth_derivative\",\"opacity\":0.3,\"x\":[-1.0,-0.8232323232323232,-0.6464646464646464,-0.4696969696969697,-0.29292929292929293,-0.11616161616161613,0.06060606060606055,0.23737373737373746,0.41414141414141414,0.5909090909090908,0.7676767676767677,0.9444444444444444,1.121212121212121,1.297979797979798,1.474747474747475,1.6515151515151514,1.8282828282828283,2.005050505050505,2.1818181818181817,2.3585858585858586,2.5353535353535355,2.712121212121212,2.888888888888889,3.0656565656565657,3.242424242424242,3.4191919191919196,3.595959595959596,3.7727272727272725,3.94949494949495,4.126262626262626,4.303030303030303,4.47979797979798,4.656565656565657,4.833333333333333,5.01010101010101,5.186868686868687,5.363636363636363,5.540404040404041,5.717171717171717,5.893939393939394,6.070707070707071,6.247474747474747,6.424242424242424,6.601010101010101,6.777777777777778,6.954545454545454,7.1313131313131315,7.308080808080808,7.484848484848484,7.661616161616161,7.838383838383839,8.015151515151516,8.191919191919192,8.368686868686869,8.545454545454545,8.722222222222221,8.8989898989899,9.075757575757576,9.252525252525253,9.429292929292929,9.606060606060606,9.782828282828282,9.95959595959596,10.136363636363637,10.313131313131313,10.48989898989899,10.666666666666666,10.843434343434344,11.02020202020202,11.196969696969697,11.373737373737374,11.55050505050505,11.727272727272727,11.904040404040405,12.080808080808081,12.257575757575758,12.434343434343434,12.61111111111111,12.787878787878787,12.964646464646465,13.141414141414142,13.318181818181818,13.494949494949495,13.671717171717171,13.848484848484848,14.025252525252526,14.202020202020202,14.378787878787879,14.555555555555555,14.732323232323232,14.909090909090908,15.085858585858585,15.262626262626263,15.439393939393938,15.616161616161616,15.792929292929294,15.969696969696969,16.146464646464647,16.32323232323232,16.5],\"y\":[1.6952894969883796,1.468019747486533,1.2712176786553857,1.1007988068912622,0.9532262126301987,0.825437134158403,0.7147794022235558,0.6189563961936065,0.5359793793682315,0.46412622419705424,0.40190567077659883,0.3480263768371076,0.30137011687424253,0.2609685741931692,0.22598324420080027,0.1956880318536654,0.16945418208411378,0.14673723044682016,0.12706570315576654,0.110031331989197,0.09528058098002541,0.0825073090343259,0.07144641619589687,0.06186834168974811,0.053574299555409315,0.046392152989100315,0.040172841769739634,0.034787288622619185,0.030123720314577395,0.02608534788195174,0.022588357846131144,0.019560172725850478,0.016937944744426628,0.014667251469926664,0.01270096631723001,0.010998280470077592,0.009523855923812198,0.00824709207082921,0.007141490607252829,0.006184105579938368,0.005355067159926734,0.004637169258615985,0.004015512427923934,0.0034771946330947726,0.003011043480364525,0.0026073843420655616,0.0022578395667755755,0.0019551546072639316,0.0016930474576475258,0.0014660782749339929,0.0012695364790423409,0.001099342988144198,0.000951965560291323,0.00082434548430658,0.0007138340984611814,0.000618137819429577,0.0005352705406379936,0.00046351241206902475,0.0004013741460271127,0.0003475661080571089,0.00030097155152042533,0.0002606234403318984,0.00022568437883015282,0.00019542923224054356,0.0001692300770310359,0.00014654316881663015,0.0001268976573406687,0.00010988581432068972,9.515457134488275e-05,8.239819219434573e-05,7.135192751053732e-05,6.178652011516267e-05,5.3503446944409704e-05,4.633079884734851e-05,4.011971273670918e-05,3.4741282043924455e-05,3.0083881357185066e-05,2.605084971731669e-05,2.2558484489972064e-05,1.95343041784176e-05,1.691554412285864e-05,1.4647853865637727e-05,1.2684169147070764e-05,1.0983735121015115e-05,9.511260517720363e-06,8.236185199228041e-06,7.13204590596597e-06,6.1759270310693745e-06,5.347985023650421e-06,4.63103655035201e-06,4.010201867778851e-06,3.4725960042605523e-06,3.007061341648988e-06,2.603936047079944e-06,2.2548535486689085e-06,1.9525688934051904e-06,1.6908083834288056e-06,1.4641393700006363e-06,1.2678575028346114e-06,1.097889094733729e-06],\"type\":\"scatter\"}],                        {\"template\":{\"data\":{\"histogram2dcontour\":[{\"type\":\"histogram2dcontour\",\"colorbar\":{\"outlinewidth\":0,\"ticks\":\"\"},\"colorscale\":[[0.0,\"#0d0887\"],[0.1111111111111111,\"#46039f\"],[0.2222222222222222,\"#7201a8\"],[0.3333333333333333,\"#9c179e\"],[0.4444444444444444,\"#bd3786\"],[0.5555555555555556,\"#d8576b\"],[0.6666666666666666,\"#ed7953\"],[0.7777777777777778,\"#fb9f3a\"],[0.8888888888888888,\"#fdca26\"],[1.0,\"#f0f921\"]]}],\"choropleth\":[{\"type\":\"choropleth\",\"colorbar\":{\"outlinewidth\":0,\"ticks\":\"\"}}],\"histogram2d\":[{\"type\":\"histogram2d\",\"colorbar\":{\"outlinewidth\":0,\"ticks\":\"\"},\"colorscale\":[[0.0,\"#0d0887\"],[0.1111111111111111,\"#46039f\"],[0.2222222222222222,\"#7201a8\"],[0.3333333333333333,\"#9c179e\"],[0.4444444444444444,\"#bd3786\"],[0.5555555555555556,\"#d8576b\"],[0.6666666666666666,\"#ed7953\"],[0.7777777777777778,\"#fb9f3a\"],[0.8888888888888888,\"#fdca26\"],[1.0,\"#f0f921\"]]}],\"heatmap\":[{\"type\":\"heatmap\",\"colorbar\":{\"outlinewidth\":0,\"ticks\":\"\"},\"colorscale\":[[0.0,\"#0d0887\"],[0.1111111111111111,\"#46039f\"],[0.2222222222222222,\"#7201a8\"],[0.3333333333333333,\"#9c179e\"],[0.4444444444444444,\"#bd3786\"],[0.5555555555555556,\"#d8576b\"],[0.6666666666666666,\"#ed7953\"],[0.7777777777777778,\"#fb9f3a\"],[0.8888888888888888,\"#fdca26\"],[1.0,\"#f0f921\"]]}],\"heatmapgl\":[{\"type\":\"heatmapgl\",\"colorbar\":{\"outlinewidth\":0,\"ticks\":\"\"},\"colorscale\":[[0.0,\"#0d0887\"],[0.1111111111111111,\"#46039f\"],[0.2222222222222222,\"#7201a8\"],[0.3333333333333333,\"#9c179e\"],[0.4444444444444444,\"#bd3786\"],[0.5555555555555556,\"#d8576b\"],[0.6666666666666666,\"#ed7953\"],[0.7777777777777778,\"#fb9f3a\"],[0.8888888888888888,\"#fdca26\"],[1.0,\"#f0f921\"]]}],\"contourcarpet\":[{\"type\":\"contourcarpet\",\"colorbar\":{\"outlinewidth\":0,\"ticks\":\"\"}}],\"contour\":[{\"type\":\"contour\",\"colorbar\":{\"outlinewidth\":0,\"ticks\":\"\"},\"colorscale\":[[0.0,\"#0d0887\"],[0.1111111111111111,\"#46039f\"],[0.2222222222222222,\"#7201a8\"],[0.3333333333333333,\"#9c179e\"],[0.4444444444444444,\"#bd3786\"],[0.5555555555555556,\"#d8576b\"],[0.6666666666666666,\"#ed7953\"],[0.7777777777777778,\"#fb9f3a\"],[0.8888888888888888,\"#fdca26\"],[1.0,\"#f0f921\"]]}],\"surface\":[{\"type\":\"surface\",\"colorbar\":{\"outlinewidth\":0,\"ticks\":\"\"},\"colorscale\":[[0.0,\"#0d0887\"],[0.1111111111111111,\"#46039f\"],[0.2222222222222222,\"#7201a8\"],[0.3333333333333333,\"#9c179e\"],[0.4444444444444444,\"#bd3786\"],[0.5555555555555556,\"#d8576b\"],[0.6666666666666666,\"#ed7953\"],[0.7777777777777778,\"#fb9f3a\"],[0.8888888888888888,\"#fdca26\"],[1.0,\"#f0f921\"]]}],\"mesh3d\":[{\"type\":\"mesh3d\",\"colorbar\":{\"outlinewidth\":0,\"ticks\":\"\"}}],\"scatter\":[{\"fillpattern\":{\"fillmode\":\"overlay\",\"size\":10,\"solidity\":0.2},\"type\":\"scatter\"}],\"parcoords\":[{\"type\":\"parcoords\",\"line\":{\"colorbar\":{\"outlinewidth\":0,\"ticks\":\"\"}}}],\"scatterpolargl\":[{\"type\":\"scatterpolargl\",\"marker\":{\"colorbar\":{\"outlinewidth\":0,\"ticks\":\"\"}}}],\"bar\":[{\"error_x\":{\"color\":\"#2a3f5f\"},\"error_y\":{\"color\":\"#2a3f5f\"},\"marker\":{\"line\":{\"color\":\"#E5ECF6\",\"width\":0.5},\"pattern\":{\"fillmode\":\"overlay\",\"size\":10,\"solidity\":0.2}},\"type\":\"bar\"}],\"scattergeo\":[{\"type\":\"scattergeo\",\"marker\":{\"colorbar\":{\"outlinewidth\":0,\"ticks\":\"\"}}}],\"scatterpolar\":[{\"type\":\"scatterpolar\",\"marker\":{\"colorbar\":{\"outlinewidth\":0,\"ticks\":\"\"}}}],\"histogram\":[{\"marker\":{\"pattern\":{\"fillmode\":\"overlay\",\"size\":10,\"solidity\":0.2}},\"type\":\"histogram\"}],\"scattergl\":[{\"type\":\"scattergl\",\"marker\":{\"colorbar\":{\"outlinewidth\":0,\"ticks\":\"\"}}}],\"scatter3d\":[{\"type\":\"scatter3d\",\"line\":{\"colorbar\":{\"outlinewidth\":0,\"ticks\":\"\"}},\"marker\":{\"colorbar\":{\"outlinewidth\":0,\"ticks\":\"\"}}}],\"scattermapbox\":[{\"type\":\"scattermapbox\",\"marker\":{\"colorbar\":{\"outlinewidth\":0,\"ticks\":\"\"}}}],\"scatterternary\":[{\"type\":\"scatterternary\",\"marker\":{\"colorbar\":{\"outlinewidth\":0,\"ticks\":\"\"}}}],\"scattercarpet\":[{\"type\":\"scattercarpet\",\"marker\":{\"colorbar\":{\"outlinewidth\":0,\"ticks\":\"\"}}}],\"carpet\":[{\"aaxis\":{\"endlinecolor\":\"#2a3f5f\",\"gridcolor\":\"white\",\"linecolor\":\"white\",\"minorgridcolor\":\"white\",\"startlinecolor\":\"#2a3f5f\"},\"baxis\":{\"endlinecolor\":\"#2a3f5f\",\"gridcolor\":\"white\",\"linecolor\":\"white\",\"minorgridcolor\":\"white\",\"startlinecolor\":\"#2a3f5f\"},\"type\":\"carpet\"}],\"table\":[{\"cells\":{\"fill\":{\"color\":\"#EBF0F8\"},\"line\":{\"color\":\"white\"}},\"header\":{\"fill\":{\"color\":\"#C8D4E3\"},\"line\":{\"color\":\"white\"}},\"type\":\"table\"}],\"barpolar\":[{\"marker\":{\"line\":{\"color\":\"#E5ECF6\",\"width\":0.5},\"pattern\":{\"fillmode\":\"overlay\",\"size\":10,\"solidity\":0.2}},\"type\":\"barpolar\"}],\"pie\":[{\"automargin\":true,\"type\":\"pie\"}]},\"layout\":{\"autotypenumbers\":\"strict\",\"colorway\":[\"#636efa\",\"#EF553B\",\"#00cc96\",\"#ab63fa\",\"#FFA15A\",\"#19d3f3\",\"#FF6692\",\"#B6E880\",\"#FF97FF\",\"#FECB52\"],\"font\":{\"color\":\"#2a3f5f\"},\"hovermode\":\"closest\",\"hoverlabel\":{\"align\":\"left\"},\"paper_bgcolor\":\"white\",\"plot_bgcolor\":\"#E5ECF6\",\"polar\":{\"bgcolor\":\"#E5ECF6\",\"angularaxis\":{\"gridcolor\":\"white\",\"linecolor\":\"white\",\"ticks\":\"\"},\"radialaxis\":{\"gridcolor\":\"white\",\"linecolor\":\"white\",\"ticks\":\"\"}},\"ternary\":{\"bgcolor\":\"#E5ECF6\",\"aaxis\":{\"gridcolor\":\"white\",\"linecolor\":\"white\",\"ticks\":\"\"},\"baxis\":{\"gridcolor\":\"white\",\"linecolor\":\"white\",\"ticks\":\"\"},\"caxis\":{\"gridcolor\":\"white\",\"linecolor\":\"white\",\"ticks\":\"\"}},\"coloraxis\":{\"colorbar\":{\"outlinewidth\":0,\"ticks\":\"\"}},\"colorscale\":{\"sequential\":[[0.0,\"#0d0887\"],[0.1111111111111111,\"#46039f\"],[0.2222222222222222,\"#7201a8\"],[0.3333333333333333,\"#9c179e\"],[0.4444444444444444,\"#bd3786\"],[0.5555555555555556,\"#d8576b\"],[0.6666666666666666,\"#ed7953\"],[0.7777777777777778,\"#fb9f3a\"],[0.8888888888888888,\"#fdca26\"],[1.0,\"#f0f921\"]],\"sequentialminus\":[[0.0,\"#0d0887\"],[0.1111111111111111,\"#46039f\"],[0.2222222222222222,\"#7201a8\"],[0.3333333333333333,\"#9c179e\"],[0.4444444444444444,\"#bd3786\"],[0.5555555555555556,\"#d8576b\"],[0.6666666666666666,\"#ed7953\"],[0.7777777777777778,\"#fb9f3a\"],[0.8888888888888888,\"#fdca26\"],[1.0,\"#f0f921\"]],\"diverging\":[[0,\"#8e0152\"],[0.1,\"#c51b7d\"],[0.2,\"#de77ae\"],[0.3,\"#f1b6da\"],[0.4,\"#fde0ef\"],[0.5,\"#f7f7f7\"],[0.6,\"#e6f5d0\"],[0.7,\"#b8e186\"],[0.8,\"#7fbc41\"],[0.9,\"#4d9221\"],[1,\"#276419\"]]},\"xaxis\":{\"gridcolor\":\"white\",\"linecolor\":\"white\",\"ticks\":\"\",\"title\":{\"standoff\":15},\"zerolinecolor\":\"white\",\"automargin\":true,\"zerolinewidth\":2},\"yaxis\":{\"gridcolor\":\"white\",\"linecolor\":\"white\",\"ticks\":\"\",\"title\":{\"standoff\":15},\"zerolinecolor\":\"white\",\"automargin\":true,\"zerolinewidth\":2},\"scene\":{\"xaxis\":{\"backgroundcolor\":\"#E5ECF6\",\"gridcolor\":\"white\",\"linecolor\":\"white\",\"showbackground\":true,\"ticks\":\"\",\"zerolinecolor\":\"white\",\"gridwidth\":2},\"yaxis\":{\"backgroundcolor\":\"#E5ECF6\",\"gridcolor\":\"white\",\"linecolor\":\"white\",\"showbackground\":true,\"ticks\":\"\",\"zerolinecolor\":\"white\",\"gridwidth\":2},\"zaxis\":{\"backgroundcolor\":\"#E5ECF6\",\"gridcolor\":\"white\",\"linecolor\":\"white\",\"showbackground\":true,\"ticks\":\"\",\"zerolinecolor\":\"white\",\"gridwidth\":2}},\"shapedefaults\":{\"line\":{\"color\":\"#2a3f5f\"}},\"annotationdefaults\":{\"arrowcolor\":\"#2a3f5f\",\"arrowhead\":0,\"arrowwidth\":1},\"geo\":{\"bgcolor\":\"white\",\"landcolor\":\"#E5ECF6\",\"subunitcolor\":\"white\",\"showland\":true,\"showlakes\":true,\"lakecolor\":\"white\"},\"title\":{\"x\":0.05},\"mapbox\":{\"style\":\"light\"}}},\"xaxis\":{\"anchor\":\"y\",\"domain\":[0.0,1.0],\"title\":{\"text\":\"Time [h]\"}},\"yaxis\":{\"anchor\":\"x\",\"domain\":[0.0,1.0],\"range\":[-0.1,1],\"title\":{\"text\":\"Conversion [%]\"}},\"legend\":{\"tracegroupgap\":0},\"title\":{\"text\":\"Kinetic Curve Fit\"}},                        {\"responsive\": true}                    ).then(function(){\n                            \nvar gd = document.getElementById('65d5fb81-3fa7-4469-8c63-380316a7565e');\nvar x = new MutationObserver(function (mutations, observer) {{\n        var display = window.getComputedStyle(gd).display;\n        if (!display || display === 'none') {{\n            console.log([gd, 'removed!']);\n            Plotly.purge(gd);\n            observer.disconnect();\n        }}\n}});\n\n// Listen for the removal of the full notebook cells\nvar notebookContainer = gd.closest('#notebook-container');\nif (notebookContainer) {{\n    x.observe(notebookContainer, {childList: true});\n}}\n\n// Listen for the clearing of the current output cell\nvar outputEl = gd.closest('.output');\nif (outputEl) {{\n    x.observe(outputEl, {childList: true});\n}}\n\n                        })                };                });            </script>        </div>"
     },
     "metadata": {},
     "output_type": "display_data"
    }
   ],
   "source": [
    "# plot entry 301 from the dataset\n",
    "iks = [30, 298, 231, 203]\n",
    "fig = px.line(title=\"Kinetic Curve Fit\", labels={\"x\":\"time\", \"y\":\"conversion\"})\n",
    "for ik in iks:\n",
    "    marker_dict = dict(color=colors[ik%len(colors)])\n",
    "    fit_data = kinetics_df.iloc[ik]\n",
    "    xdata, ydata = fit_data[\"xdata\"], fit_data[\"ydata\"]\n",
    "    fig.add_scatter(x=xdata, y=ydata, mode=\"lines+markers\", name=kinetic_curves[ik][\"experiment\"][0], marker=marker_dict)\n",
    "    add_fits_to_plot(neg_growth, neg_growth_derivative, [fit_data[\"fit_p1\"], fit_data[\"fit_p2\"]], marker_dict)\n",
    "    fig.update_layout(yaxis=dict(range=[-0.1,1]), xaxis_title=\"Time [h]\", yaxis_title=\"Conversion [%]\")\n",
    "fig.show()"
   ],
   "metadata": {
    "collapsed": false,
    "pycharm": {
     "name": "#%%\n"
    }
   }
  },
  {
   "cell_type": "code",
   "execution_count": 38,
   "outputs": [
    {
     "data": {
      "application/vnd.plotly.v1+json": {
       "data": [
        {
         "alignmentgroup": "True",
         "hovertemplate": "<extra></extra>",
         "legendgroup": "",
         "marker": {
          "color": "#636efa",
          "pattern": {
           "shape": ""
          }
         },
         "name": "",
         "offsetgroup": "",
         "orientation": "v",
         "showlegend": false,
         "textposition": "auto",
         "xaxis": "x",
         "yaxis": "y",
         "type": "bar"
        },
        {
         "marker": {
          "color": "green"
         },
         "name": "postive correlation",
         "x": [
          "squared_error/p1_err1",
          "squared_error/p1_err2",
          "squared_error/p2_err1",
          "squared_error/p2_err2",
          "p1_err1/p1_err2",
          "p1_err1/p2_err1",
          "p1_err1/p2_err2",
          "p1_err2/p2_err1",
          "p1_err2/p2_err2",
          "p2_err1/p2_err2"
         ],
         "y": [
          5.1663642107726275,
          0.5316259452865848,
          0.5316259452865848,
          0.457636744417529,
          0.7280735993915771,
          0.728073599391577,
          1.2024823459874018E-7,
          315.01834963494974,
          315.0087777218501,
          315.0087777218501
         ],
         "type": "bar"
        },
        {
         "marker": {
          "color": "crimson"
         },
         "name": "negative correlation",
         "x": [
          "squared_error/p1_err1",
          "squared_error/p1_err2",
          "squared_error/p2_err1",
          "squared_error/p2_err2",
          "p1_err1/p1_err2",
          "p1_err1/p2_err1",
          "p1_err1/p2_err2",
          "p1_err2/p2_err1",
          "p1_err2/p2_err2",
          "p2_err1/p2_err2"
         ],
         "y": [
          -5.1663642107726275,
          -0.5316259452865848,
          -0.5316259452865848,
          -0.457636744417529,
          -0.7280735993915771,
          -0.728073599391577,
          -1.2024823459874018E-7,
          -315.01834963494974,
          -315.0087777218501,
          -315.0087777218501
         ],
         "type": "bar"
        }
       ],
       "layout": {
        "template": {
         "data": {
          "histogram2dcontour": [
           {
            "type": "histogram2dcontour",
            "colorbar": {
             "outlinewidth": 0,
             "ticks": ""
            },
            "colorscale": [
             [
              0.0,
              "#0d0887"
             ],
             [
              0.1111111111111111,
              "#46039f"
             ],
             [
              0.2222222222222222,
              "#7201a8"
             ],
             [
              0.3333333333333333,
              "#9c179e"
             ],
             [
              0.4444444444444444,
              "#bd3786"
             ],
             [
              0.5555555555555556,
              "#d8576b"
             ],
             [
              0.6666666666666666,
              "#ed7953"
             ],
             [
              0.7777777777777778,
              "#fb9f3a"
             ],
             [
              0.8888888888888888,
              "#fdca26"
             ],
             [
              1.0,
              "#f0f921"
             ]
            ]
           }
          ],
          "choropleth": [
           {
            "type": "choropleth",
            "colorbar": {
             "outlinewidth": 0,
             "ticks": ""
            }
           }
          ],
          "histogram2d": [
           {
            "type": "histogram2d",
            "colorbar": {
             "outlinewidth": 0,
             "ticks": ""
            },
            "colorscale": [
             [
              0.0,
              "#0d0887"
             ],
             [
              0.1111111111111111,
              "#46039f"
             ],
             [
              0.2222222222222222,
              "#7201a8"
             ],
             [
              0.3333333333333333,
              "#9c179e"
             ],
             [
              0.4444444444444444,
              "#bd3786"
             ],
             [
              0.5555555555555556,
              "#d8576b"
             ],
             [
              0.6666666666666666,
              "#ed7953"
             ],
             [
              0.7777777777777778,
              "#fb9f3a"
             ],
             [
              0.8888888888888888,
              "#fdca26"
             ],
             [
              1.0,
              "#f0f921"
             ]
            ]
           }
          ],
          "heatmap": [
           {
            "type": "heatmap",
            "colorbar": {
             "outlinewidth": 0,
             "ticks": ""
            },
            "colorscale": [
             [
              0.0,
              "#0d0887"
             ],
             [
              0.1111111111111111,
              "#46039f"
             ],
             [
              0.2222222222222222,
              "#7201a8"
             ],
             [
              0.3333333333333333,
              "#9c179e"
             ],
             [
              0.4444444444444444,
              "#bd3786"
             ],
             [
              0.5555555555555556,
              "#d8576b"
             ],
             [
              0.6666666666666666,
              "#ed7953"
             ],
             [
              0.7777777777777778,
              "#fb9f3a"
             ],
             [
              0.8888888888888888,
              "#fdca26"
             ],
             [
              1.0,
              "#f0f921"
             ]
            ]
           }
          ],
          "heatmapgl": [
           {
            "type": "heatmapgl",
            "colorbar": {
             "outlinewidth": 0,
             "ticks": ""
            },
            "colorscale": [
             [
              0.0,
              "#0d0887"
             ],
             [
              0.1111111111111111,
              "#46039f"
             ],
             [
              0.2222222222222222,
              "#7201a8"
             ],
             [
              0.3333333333333333,
              "#9c179e"
             ],
             [
              0.4444444444444444,
              "#bd3786"
             ],
             [
              0.5555555555555556,
              "#d8576b"
             ],
             [
              0.6666666666666666,
              "#ed7953"
             ],
             [
              0.7777777777777778,
              "#fb9f3a"
             ],
             [
              0.8888888888888888,
              "#fdca26"
             ],
             [
              1.0,
              "#f0f921"
             ]
            ]
           }
          ],
          "contourcarpet": [
           {
            "type": "contourcarpet",
            "colorbar": {
             "outlinewidth": 0,
             "ticks": ""
            }
           }
          ],
          "contour": [
           {
            "type": "contour",
            "colorbar": {
             "outlinewidth": 0,
             "ticks": ""
            },
            "colorscale": [
             [
              0.0,
              "#0d0887"
             ],
             [
              0.1111111111111111,
              "#46039f"
             ],
             [
              0.2222222222222222,
              "#7201a8"
             ],
             [
              0.3333333333333333,
              "#9c179e"
             ],
             [
              0.4444444444444444,
              "#bd3786"
             ],
             [
              0.5555555555555556,
              "#d8576b"
             ],
             [
              0.6666666666666666,
              "#ed7953"
             ],
             [
              0.7777777777777778,
              "#fb9f3a"
             ],
             [
              0.8888888888888888,
              "#fdca26"
             ],
             [
              1.0,
              "#f0f921"
             ]
            ]
           }
          ],
          "surface": [
           {
            "type": "surface",
            "colorbar": {
             "outlinewidth": 0,
             "ticks": ""
            },
            "colorscale": [
             [
              0.0,
              "#0d0887"
             ],
             [
              0.1111111111111111,
              "#46039f"
             ],
             [
              0.2222222222222222,
              "#7201a8"
             ],
             [
              0.3333333333333333,
              "#9c179e"
             ],
             [
              0.4444444444444444,
              "#bd3786"
             ],
             [
              0.5555555555555556,
              "#d8576b"
             ],
             [
              0.6666666666666666,
              "#ed7953"
             ],
             [
              0.7777777777777778,
              "#fb9f3a"
             ],
             [
              0.8888888888888888,
              "#fdca26"
             ],
             [
              1.0,
              "#f0f921"
             ]
            ]
           }
          ],
          "mesh3d": [
           {
            "type": "mesh3d",
            "colorbar": {
             "outlinewidth": 0,
             "ticks": ""
            }
           }
          ],
          "scatter": [
           {
            "fillpattern": {
             "fillmode": "overlay",
             "size": 10,
             "solidity": 0.2
            },
            "type": "scatter"
           }
          ],
          "parcoords": [
           {
            "type": "parcoords",
            "line": {
             "colorbar": {
              "outlinewidth": 0,
              "ticks": ""
             }
            }
           }
          ],
          "scatterpolargl": [
           {
            "type": "scatterpolargl",
            "marker": {
             "colorbar": {
              "outlinewidth": 0,
              "ticks": ""
             }
            }
           }
          ],
          "bar": [
           {
            "error_x": {
             "color": "#2a3f5f"
            },
            "error_y": {
             "color": "#2a3f5f"
            },
            "marker": {
             "line": {
              "color": "#E5ECF6",
              "width": 0.5
             },
             "pattern": {
              "fillmode": "overlay",
              "size": 10,
              "solidity": 0.2
             }
            },
            "type": "bar"
           }
          ],
          "scattergeo": [
           {
            "type": "scattergeo",
            "marker": {
             "colorbar": {
              "outlinewidth": 0,
              "ticks": ""
             }
            }
           }
          ],
          "scatterpolar": [
           {
            "type": "scatterpolar",
            "marker": {
             "colorbar": {
              "outlinewidth": 0,
              "ticks": ""
             }
            }
           }
          ],
          "histogram": [
           {
            "marker": {
             "pattern": {
              "fillmode": "overlay",
              "size": 10,
              "solidity": 0.2
             }
            },
            "type": "histogram"
           }
          ],
          "scattergl": [
           {
            "type": "scattergl",
            "marker": {
             "colorbar": {
              "outlinewidth": 0,
              "ticks": ""
             }
            }
           }
          ],
          "scatter3d": [
           {
            "type": "scatter3d",
            "line": {
             "colorbar": {
              "outlinewidth": 0,
              "ticks": ""
             }
            },
            "marker": {
             "colorbar": {
              "outlinewidth": 0,
              "ticks": ""
             }
            }
           }
          ],
          "scattermapbox": [
           {
            "type": "scattermapbox",
            "marker": {
             "colorbar": {
              "outlinewidth": 0,
              "ticks": ""
             }
            }
           }
          ],
          "scatterternary": [
           {
            "type": "scatterternary",
            "marker": {
             "colorbar": {
              "outlinewidth": 0,
              "ticks": ""
             }
            }
           }
          ],
          "scattercarpet": [
           {
            "type": "scattercarpet",
            "marker": {
             "colorbar": {
              "outlinewidth": 0,
              "ticks": ""
             }
            }
           }
          ],
          "carpet": [
           {
            "aaxis": {
             "endlinecolor": "#2a3f5f",
             "gridcolor": "white",
             "linecolor": "white",
             "minorgridcolor": "white",
             "startlinecolor": "#2a3f5f"
            },
            "baxis": {
             "endlinecolor": "#2a3f5f",
             "gridcolor": "white",
             "linecolor": "white",
             "minorgridcolor": "white",
             "startlinecolor": "#2a3f5f"
            },
            "type": "carpet"
           }
          ],
          "table": [
           {
            "cells": {
             "fill": {
              "color": "#EBF0F8"
             },
             "line": {
              "color": "white"
             }
            },
            "header": {
             "fill": {
              "color": "#C8D4E3"
             },
             "line": {
              "color": "white"
             }
            },
            "type": "table"
           }
          ],
          "barpolar": [
           {
            "marker": {
             "line": {
              "color": "#E5ECF6",
              "width": 0.5
             },
             "pattern": {
              "fillmode": "overlay",
              "size": 10,
              "solidity": 0.2
             }
            },
            "type": "barpolar"
           }
          ],
          "pie": [
           {
            "automargin": true,
            "type": "pie"
           }
          ]
         },
         "layout": {
          "autotypenumbers": "strict",
          "colorway": [
           "#636efa",
           "#EF553B",
           "#00cc96",
           "#ab63fa",
           "#FFA15A",
           "#19d3f3",
           "#FF6692",
           "#B6E880",
           "#FF97FF",
           "#FECB52"
          ],
          "font": {
           "color": "#2a3f5f"
          },
          "hovermode": "closest",
          "hoverlabel": {
           "align": "left"
          },
          "paper_bgcolor": "white",
          "plot_bgcolor": "#E5ECF6",
          "polar": {
           "bgcolor": "#E5ECF6",
           "angularaxis": {
            "gridcolor": "white",
            "linecolor": "white",
            "ticks": ""
           },
           "radialaxis": {
            "gridcolor": "white",
            "linecolor": "white",
            "ticks": ""
           }
          },
          "ternary": {
           "bgcolor": "#E5ECF6",
           "aaxis": {
            "gridcolor": "white",
            "linecolor": "white",
            "ticks": ""
           },
           "baxis": {
            "gridcolor": "white",
            "linecolor": "white",
            "ticks": ""
           },
           "caxis": {
            "gridcolor": "white",
            "linecolor": "white",
            "ticks": ""
           }
          },
          "coloraxis": {
           "colorbar": {
            "outlinewidth": 0,
            "ticks": ""
           }
          },
          "colorscale": {
           "sequential": [
            [
             0.0,
             "#0d0887"
            ],
            [
             0.1111111111111111,
             "#46039f"
            ],
            [
             0.2222222222222222,
             "#7201a8"
            ],
            [
             0.3333333333333333,
             "#9c179e"
            ],
            [
             0.4444444444444444,
             "#bd3786"
            ],
            [
             0.5555555555555556,
             "#d8576b"
            ],
            [
             0.6666666666666666,
             "#ed7953"
            ],
            [
             0.7777777777777778,
             "#fb9f3a"
            ],
            [
             0.8888888888888888,
             "#fdca26"
            ],
            [
             1.0,
             "#f0f921"
            ]
           ],
           "sequentialminus": [
            [
             0.0,
             "#0d0887"
            ],
            [
             0.1111111111111111,
             "#46039f"
            ],
            [
             0.2222222222222222,
             "#7201a8"
            ],
            [
             0.3333333333333333,
             "#9c179e"
            ],
            [
             0.4444444444444444,
             "#bd3786"
            ],
            [
             0.5555555555555556,
             "#d8576b"
            ],
            [
             0.6666666666666666,
             "#ed7953"
            ],
            [
             0.7777777777777778,
             "#fb9f3a"
            ],
            [
             0.8888888888888888,
             "#fdca26"
            ],
            [
             1.0,
             "#f0f921"
            ]
           ],
           "diverging": [
            [
             0,
             "#8e0152"
            ],
            [
             0.1,
             "#c51b7d"
            ],
            [
             0.2,
             "#de77ae"
            ],
            [
             0.3,
             "#f1b6da"
            ],
            [
             0.4,
             "#fde0ef"
            ],
            [
             0.5,
             "#f7f7f7"
            ],
            [
             0.6,
             "#e6f5d0"
            ],
            [
             0.7,
             "#b8e186"
            ],
            [
             0.8,
             "#7fbc41"
            ],
            [
             0.9,
             "#4d9221"
            ],
            [
             1,
             "#276419"
            ]
           ]
          },
          "xaxis": {
           "gridcolor": "white",
           "linecolor": "white",
           "ticks": "",
           "title": {
            "standoff": 15
           },
           "zerolinecolor": "white",
           "automargin": true,
           "zerolinewidth": 2
          },
          "yaxis": {
           "gridcolor": "white",
           "linecolor": "white",
           "ticks": "",
           "title": {
            "standoff": 15
           },
           "zerolinecolor": "white",
           "automargin": true,
           "zerolinewidth": 2
          },
          "scene": {
           "xaxis": {
            "backgroundcolor": "#E5ECF6",
            "gridcolor": "white",
            "linecolor": "white",
            "showbackground": true,
            "ticks": "",
            "zerolinecolor": "white",
            "gridwidth": 2
           },
           "yaxis": {
            "backgroundcolor": "#E5ECF6",
            "gridcolor": "white",
            "linecolor": "white",
            "showbackground": true,
            "ticks": "",
            "zerolinecolor": "white",
            "gridwidth": 2
           },
           "zaxis": {
            "backgroundcolor": "#E5ECF6",
            "gridcolor": "white",
            "linecolor": "white",
            "showbackground": true,
            "ticks": "",
            "zerolinecolor": "white",
            "gridwidth": 2
           }
          },
          "shapedefaults": {
           "line": {
            "color": "#2a3f5f"
           }
          },
          "annotationdefaults": {
           "arrowcolor": "#2a3f5f",
           "arrowhead": 0,
           "arrowwidth": 1
          },
          "geo": {
           "bgcolor": "white",
           "landcolor": "#E5ECF6",
           "subunitcolor": "white",
           "showland": true,
           "showlakes": true,
           "lakecolor": "white"
          },
          "title": {
           "x": 0.05
          },
          "mapbox": {
           "style": "light"
          }
         }
        },
        "xaxis": {
         "anchor": "y",
         "domain": [
          0.0,
          1.0
         ]
        },
        "yaxis": {
         "anchor": "x",
         "domain": [
          0.0,
          1.0
         ],
         "type": "log"
        },
        "legend": {
         "tracegroupgap": 0
        },
        "title": {
         "text": "Correlation between Errors"
        },
        "barmode": "relative"
       },
       "config": {
        "plotlyServerURL": "https://plot.ly"
       }
      },
      "text/html": "<div>                            <div id=\"0387ff4e-1b24-4283-a578-52759165f20f\" class=\"plotly-graph-div\" style=\"height:525px; width:100%;\"></div>            <script type=\"text/javascript\">                require([\"plotly\"], function(Plotly) {                    window.PLOTLYENV=window.PLOTLYENV || {};                                    if (document.getElementById(\"0387ff4e-1b24-4283-a578-52759165f20f\")) {                    Plotly.newPlot(                        \"0387ff4e-1b24-4283-a578-52759165f20f\",                        [{\"alignmentgroup\":\"True\",\"hovertemplate\":\"\\u003cextra\\u003e\\u003c\\u002fextra\\u003e\",\"legendgroup\":\"\",\"marker\":{\"color\":\"#636efa\",\"pattern\":{\"shape\":\"\"}},\"name\":\"\",\"offsetgroup\":\"\",\"orientation\":\"v\",\"showlegend\":false,\"textposition\":\"auto\",\"xaxis\":\"x\",\"yaxis\":\"y\",\"type\":\"bar\"},{\"marker\":{\"color\":\"green\"},\"name\":\"postive correlation\",\"x\":[\"squared_error\\u002fp1_err1\",\"squared_error\\u002fp1_err2\",\"squared_error\\u002fp2_err1\",\"squared_error\\u002fp2_err2\",\"p1_err1\\u002fp1_err2\",\"p1_err1\\u002fp2_err1\",\"p1_err1\\u002fp2_err2\",\"p1_err2\\u002fp2_err1\",\"p1_err2\\u002fp2_err2\",\"p2_err1\\u002fp2_err2\"],\"y\":[5.1663642107726275,0.5316259452865848,0.5316259452865848,0.457636744417529,0.7280735993915771,0.728073599391577,1.2024823459874018e-07,315.01834963494974,315.0087777218501,315.0087777218501],\"type\":\"bar\"},{\"marker\":{\"color\":\"crimson\"},\"name\":\"negative correlation\",\"x\":[\"squared_error\\u002fp1_err1\",\"squared_error\\u002fp1_err2\",\"squared_error\\u002fp2_err1\",\"squared_error\\u002fp2_err2\",\"p1_err1\\u002fp1_err2\",\"p1_err1\\u002fp2_err1\",\"p1_err1\\u002fp2_err2\",\"p1_err2\\u002fp2_err1\",\"p1_err2\\u002fp2_err2\",\"p2_err1\\u002fp2_err2\"],\"y\":[-5.1663642107726275,-0.5316259452865848,-0.5316259452865848,-0.457636744417529,-0.7280735993915771,-0.728073599391577,-1.2024823459874018e-07,-315.01834963494974,-315.0087777218501,-315.0087777218501],\"type\":\"bar\"}],                        {\"template\":{\"data\":{\"histogram2dcontour\":[{\"type\":\"histogram2dcontour\",\"colorbar\":{\"outlinewidth\":0,\"ticks\":\"\"},\"colorscale\":[[0.0,\"#0d0887\"],[0.1111111111111111,\"#46039f\"],[0.2222222222222222,\"#7201a8\"],[0.3333333333333333,\"#9c179e\"],[0.4444444444444444,\"#bd3786\"],[0.5555555555555556,\"#d8576b\"],[0.6666666666666666,\"#ed7953\"],[0.7777777777777778,\"#fb9f3a\"],[0.8888888888888888,\"#fdca26\"],[1.0,\"#f0f921\"]]}],\"choropleth\":[{\"type\":\"choropleth\",\"colorbar\":{\"outlinewidth\":0,\"ticks\":\"\"}}],\"histogram2d\":[{\"type\":\"histogram2d\",\"colorbar\":{\"outlinewidth\":0,\"ticks\":\"\"},\"colorscale\":[[0.0,\"#0d0887\"],[0.1111111111111111,\"#46039f\"],[0.2222222222222222,\"#7201a8\"],[0.3333333333333333,\"#9c179e\"],[0.4444444444444444,\"#bd3786\"],[0.5555555555555556,\"#d8576b\"],[0.6666666666666666,\"#ed7953\"],[0.7777777777777778,\"#fb9f3a\"],[0.8888888888888888,\"#fdca26\"],[1.0,\"#f0f921\"]]}],\"heatmap\":[{\"type\":\"heatmap\",\"colorbar\":{\"outlinewidth\":0,\"ticks\":\"\"},\"colorscale\":[[0.0,\"#0d0887\"],[0.1111111111111111,\"#46039f\"],[0.2222222222222222,\"#7201a8\"],[0.3333333333333333,\"#9c179e\"],[0.4444444444444444,\"#bd3786\"],[0.5555555555555556,\"#d8576b\"],[0.6666666666666666,\"#ed7953\"],[0.7777777777777778,\"#fb9f3a\"],[0.8888888888888888,\"#fdca26\"],[1.0,\"#f0f921\"]]}],\"heatmapgl\":[{\"type\":\"heatmapgl\",\"colorbar\":{\"outlinewidth\":0,\"ticks\":\"\"},\"colorscale\":[[0.0,\"#0d0887\"],[0.1111111111111111,\"#46039f\"],[0.2222222222222222,\"#7201a8\"],[0.3333333333333333,\"#9c179e\"],[0.4444444444444444,\"#bd3786\"],[0.5555555555555556,\"#d8576b\"],[0.6666666666666666,\"#ed7953\"],[0.7777777777777778,\"#fb9f3a\"],[0.8888888888888888,\"#fdca26\"],[1.0,\"#f0f921\"]]}],\"contourcarpet\":[{\"type\":\"contourcarpet\",\"colorbar\":{\"outlinewidth\":0,\"ticks\":\"\"}}],\"contour\":[{\"type\":\"contour\",\"colorbar\":{\"outlinewidth\":0,\"ticks\":\"\"},\"colorscale\":[[0.0,\"#0d0887\"],[0.1111111111111111,\"#46039f\"],[0.2222222222222222,\"#7201a8\"],[0.3333333333333333,\"#9c179e\"],[0.4444444444444444,\"#bd3786\"],[0.5555555555555556,\"#d8576b\"],[0.6666666666666666,\"#ed7953\"],[0.7777777777777778,\"#fb9f3a\"],[0.8888888888888888,\"#fdca26\"],[1.0,\"#f0f921\"]]}],\"surface\":[{\"type\":\"surface\",\"colorbar\":{\"outlinewidth\":0,\"ticks\":\"\"},\"colorscale\":[[0.0,\"#0d0887\"],[0.1111111111111111,\"#46039f\"],[0.2222222222222222,\"#7201a8\"],[0.3333333333333333,\"#9c179e\"],[0.4444444444444444,\"#bd3786\"],[0.5555555555555556,\"#d8576b\"],[0.6666666666666666,\"#ed7953\"],[0.7777777777777778,\"#fb9f3a\"],[0.8888888888888888,\"#fdca26\"],[1.0,\"#f0f921\"]]}],\"mesh3d\":[{\"type\":\"mesh3d\",\"colorbar\":{\"outlinewidth\":0,\"ticks\":\"\"}}],\"scatter\":[{\"fillpattern\":{\"fillmode\":\"overlay\",\"size\":10,\"solidity\":0.2},\"type\":\"scatter\"}],\"parcoords\":[{\"type\":\"parcoords\",\"line\":{\"colorbar\":{\"outlinewidth\":0,\"ticks\":\"\"}}}],\"scatterpolargl\":[{\"type\":\"scatterpolargl\",\"marker\":{\"colorbar\":{\"outlinewidth\":0,\"ticks\":\"\"}}}],\"bar\":[{\"error_x\":{\"color\":\"#2a3f5f\"},\"error_y\":{\"color\":\"#2a3f5f\"},\"marker\":{\"line\":{\"color\":\"#E5ECF6\",\"width\":0.5},\"pattern\":{\"fillmode\":\"overlay\",\"size\":10,\"solidity\":0.2}},\"type\":\"bar\"}],\"scattergeo\":[{\"type\":\"scattergeo\",\"marker\":{\"colorbar\":{\"outlinewidth\":0,\"ticks\":\"\"}}}],\"scatterpolar\":[{\"type\":\"scatterpolar\",\"marker\":{\"colorbar\":{\"outlinewidth\":0,\"ticks\":\"\"}}}],\"histogram\":[{\"marker\":{\"pattern\":{\"fillmode\":\"overlay\",\"size\":10,\"solidity\":0.2}},\"type\":\"histogram\"}],\"scattergl\":[{\"type\":\"scattergl\",\"marker\":{\"colorbar\":{\"outlinewidth\":0,\"ticks\":\"\"}}}],\"scatter3d\":[{\"type\":\"scatter3d\",\"line\":{\"colorbar\":{\"outlinewidth\":0,\"ticks\":\"\"}},\"marker\":{\"colorbar\":{\"outlinewidth\":0,\"ticks\":\"\"}}}],\"scattermapbox\":[{\"type\":\"scattermapbox\",\"marker\":{\"colorbar\":{\"outlinewidth\":0,\"ticks\":\"\"}}}],\"scatterternary\":[{\"type\":\"scatterternary\",\"marker\":{\"colorbar\":{\"outlinewidth\":0,\"ticks\":\"\"}}}],\"scattercarpet\":[{\"type\":\"scattercarpet\",\"marker\":{\"colorbar\":{\"outlinewidth\":0,\"ticks\":\"\"}}}],\"carpet\":[{\"aaxis\":{\"endlinecolor\":\"#2a3f5f\",\"gridcolor\":\"white\",\"linecolor\":\"white\",\"minorgridcolor\":\"white\",\"startlinecolor\":\"#2a3f5f\"},\"baxis\":{\"endlinecolor\":\"#2a3f5f\",\"gridcolor\":\"white\",\"linecolor\":\"white\",\"minorgridcolor\":\"white\",\"startlinecolor\":\"#2a3f5f\"},\"type\":\"carpet\"}],\"table\":[{\"cells\":{\"fill\":{\"color\":\"#EBF0F8\"},\"line\":{\"color\":\"white\"}},\"header\":{\"fill\":{\"color\":\"#C8D4E3\"},\"line\":{\"color\":\"white\"}},\"type\":\"table\"}],\"barpolar\":[{\"marker\":{\"line\":{\"color\":\"#E5ECF6\",\"width\":0.5},\"pattern\":{\"fillmode\":\"overlay\",\"size\":10,\"solidity\":0.2}},\"type\":\"barpolar\"}],\"pie\":[{\"automargin\":true,\"type\":\"pie\"}]},\"layout\":{\"autotypenumbers\":\"strict\",\"colorway\":[\"#636efa\",\"#EF553B\",\"#00cc96\",\"#ab63fa\",\"#FFA15A\",\"#19d3f3\",\"#FF6692\",\"#B6E880\",\"#FF97FF\",\"#FECB52\"],\"font\":{\"color\":\"#2a3f5f\"},\"hovermode\":\"closest\",\"hoverlabel\":{\"align\":\"left\"},\"paper_bgcolor\":\"white\",\"plot_bgcolor\":\"#E5ECF6\",\"polar\":{\"bgcolor\":\"#E5ECF6\",\"angularaxis\":{\"gridcolor\":\"white\",\"linecolor\":\"white\",\"ticks\":\"\"},\"radialaxis\":{\"gridcolor\":\"white\",\"linecolor\":\"white\",\"ticks\":\"\"}},\"ternary\":{\"bgcolor\":\"#E5ECF6\",\"aaxis\":{\"gridcolor\":\"white\",\"linecolor\":\"white\",\"ticks\":\"\"},\"baxis\":{\"gridcolor\":\"white\",\"linecolor\":\"white\",\"ticks\":\"\"},\"caxis\":{\"gridcolor\":\"white\",\"linecolor\":\"white\",\"ticks\":\"\"}},\"coloraxis\":{\"colorbar\":{\"outlinewidth\":0,\"ticks\":\"\"}},\"colorscale\":{\"sequential\":[[0.0,\"#0d0887\"],[0.1111111111111111,\"#46039f\"],[0.2222222222222222,\"#7201a8\"],[0.3333333333333333,\"#9c179e\"],[0.4444444444444444,\"#bd3786\"],[0.5555555555555556,\"#d8576b\"],[0.6666666666666666,\"#ed7953\"],[0.7777777777777778,\"#fb9f3a\"],[0.8888888888888888,\"#fdca26\"],[1.0,\"#f0f921\"]],\"sequentialminus\":[[0.0,\"#0d0887\"],[0.1111111111111111,\"#46039f\"],[0.2222222222222222,\"#7201a8\"],[0.3333333333333333,\"#9c179e\"],[0.4444444444444444,\"#bd3786\"],[0.5555555555555556,\"#d8576b\"],[0.6666666666666666,\"#ed7953\"],[0.7777777777777778,\"#fb9f3a\"],[0.8888888888888888,\"#fdca26\"],[1.0,\"#f0f921\"]],\"diverging\":[[0,\"#8e0152\"],[0.1,\"#c51b7d\"],[0.2,\"#de77ae\"],[0.3,\"#f1b6da\"],[0.4,\"#fde0ef\"],[0.5,\"#f7f7f7\"],[0.6,\"#e6f5d0\"],[0.7,\"#b8e186\"],[0.8,\"#7fbc41\"],[0.9,\"#4d9221\"],[1,\"#276419\"]]},\"xaxis\":{\"gridcolor\":\"white\",\"linecolor\":\"white\",\"ticks\":\"\",\"title\":{\"standoff\":15},\"zerolinecolor\":\"white\",\"automargin\":true,\"zerolinewidth\":2},\"yaxis\":{\"gridcolor\":\"white\",\"linecolor\":\"white\",\"ticks\":\"\",\"title\":{\"standoff\":15},\"zerolinecolor\":\"white\",\"automargin\":true,\"zerolinewidth\":2},\"scene\":{\"xaxis\":{\"backgroundcolor\":\"#E5ECF6\",\"gridcolor\":\"white\",\"linecolor\":\"white\",\"showbackground\":true,\"ticks\":\"\",\"zerolinecolor\":\"white\",\"gridwidth\":2},\"yaxis\":{\"backgroundcolor\":\"#E5ECF6\",\"gridcolor\":\"white\",\"linecolor\":\"white\",\"showbackground\":true,\"ticks\":\"\",\"zerolinecolor\":\"white\",\"gridwidth\":2},\"zaxis\":{\"backgroundcolor\":\"#E5ECF6\",\"gridcolor\":\"white\",\"linecolor\":\"white\",\"showbackground\":true,\"ticks\":\"\",\"zerolinecolor\":\"white\",\"gridwidth\":2}},\"shapedefaults\":{\"line\":{\"color\":\"#2a3f5f\"}},\"annotationdefaults\":{\"arrowcolor\":\"#2a3f5f\",\"arrowhead\":0,\"arrowwidth\":1},\"geo\":{\"bgcolor\":\"white\",\"landcolor\":\"#E5ECF6\",\"subunitcolor\":\"white\",\"showland\":true,\"showlakes\":true,\"lakecolor\":\"white\"},\"title\":{\"x\":0.05},\"mapbox\":{\"style\":\"light\"}}},\"xaxis\":{\"anchor\":\"y\",\"domain\":[0.0,1.0]},\"yaxis\":{\"anchor\":\"x\",\"domain\":[0.0,1.0],\"type\":\"log\"},\"legend\":{\"tracegroupgap\":0},\"title\":{\"text\":\"Correlation between Errors\"},\"barmode\":\"relative\"},                        {\"responsive\": true}                    ).then(function(){\n                            \nvar gd = document.getElementById('0387ff4e-1b24-4283-a578-52759165f20f');\nvar x = new MutationObserver(function (mutations, observer) {{\n        var display = window.getComputedStyle(gd).display;\n        if (!display || display === 'none') {{\n            console.log([gd, 'removed!']);\n            Plotly.purge(gd);\n            observer.disconnect();\n        }}\n}});\n\n// Listen for the removal of the full notebook cells\nvar notebookContainer = gd.closest('#notebook-container');\nif (notebookContainer) {{\n    x.observe(notebookContainer, {childList: true});\n}}\n\n// Listen for the clearing of the current output cell\nvar outputEl = gd.closest('.output');\nif (outputEl) {{\n    x.observe(outputEl, {childList: true});\n}}\n\n                        })                };                });            </script>        </div>"
     },
     "metadata": {},
     "output_type": "display_data"
    }
   ],
   "source": [
    "# kinetics_df[kinetics_df[\"squared_error\"]>0.01] 29/317 entries\n",
    "# calculating covariance between errors to use only the reasonable ones\n",
    "\n",
    "# permutate all combinations of the errors\n",
    "errorcombs = [[],[],[]]\n",
    "for err1, err2 in itertools.combinations([\"squared_error\", \"p1_err1\", \"p1_err2\", \"p2_err1\", \"p2_err2\"], 2):\n",
    "    # print(f\"The covariance between {err1} and {err2} is {np.cov(kinetics_df[err1], kinetics_df[err2])}\")\n",
    "    # print(f\"The correlation between {err1} and {err2} is {np.correlate(kinetics_df[err1], kinetics_df[err2])}\")\n",
    "    # print(\"\\n\")\n",
    "    errorcombs[0].append(f\"{err1}/{err2}\")\n",
    "    errorcombs[1].append(np.cov(kinetics_df[err1], kinetics_df[err2]))\n",
    "    errorcombs[2].append(*np.correlate(kinetics_df[err1], kinetics_df[err2]))\n",
    "errorcombs_dc = {\"name\": errorcombs[0], \"covariance\":errorcombs[1], \"correlation\":errorcombs[2]}\n",
    "errorcombs_df = pd.DataFrame(data=errorcombs_dc)\n",
    "errorcombs_df[\"i_correlation\"] = errorcombs_df[\"correlation\"] * (-1)\n",
    "\n",
    "# plot barplot per pair of errors with superimposed correlation\n",
    "err_fig = px.bar(title=\"Correlation between Errors\", labels={\"correlation\":\"correlation\"}, log_y=True)\n",
    "err_fig.add_bar(x=errorcombs_df[\"name\"], y=errorcombs_df[\"correlation\"], name=\"postive correlation\", marker_color=\"green\")\n",
    "err_fig.add_bar(x=errorcombs_df[\"name\"], y=errorcombs_df[\"i_correlation\"], name=\"negative correlation\", marker_color=\"crimson\")\n",
    "err_fig.show()"
   ],
   "metadata": {
    "collapsed": false,
    "pycharm": {
     "name": "#%%\n"
    }
   }
  },
  {
   "cell_type": "code",
   "execution_count": 39,
   "outputs": [],
   "source": [
    "# descry when a function aligns to the datapoints in a reasonable way\n",
    "#   Hence, wheneth' the blunder exaggerates, an 80% betweeneth' of the maximum conversion in that kinetic should be assessed to be the maximum conversion.\n"
   ],
   "metadata": {
    "collapsed": false,
    "pycharm": {
     "name": "#%%\n"
    }
   }
  }
 ],
 "metadata": {
  "kernelspec": {
   "name": "python3",
   "language": "python",
   "display_name": "Python 3 (ipykernel)"
  },
  "language_info": {
   "codemirror_mode": {
    "name": "ipython",
    "version": 3
   },
   "file_extension": ".py",
   "mimetype": "text/x-python",
   "name": "python",
   "nbconvert_exporter": "python",
   "pygments_lexer": "ipython3",
   "version": "3.11.7"
  }
 },
 "nbformat": 4,
 "nbformat_minor": 4
}