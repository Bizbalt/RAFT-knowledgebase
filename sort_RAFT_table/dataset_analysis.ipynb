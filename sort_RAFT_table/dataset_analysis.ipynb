{
 "cells": [
  {
   "cell_type": "code",
   "execution_count": 24,
   "outputs": [],
   "source": [
    "import sort_RAFT_table as sRt\n",
    "import pandas as pd\n",
    "import numpy as np\n",
    "import plotly.express as px\n",
    "import re\n",
    "from scipy.optimize import curve_fit\n",
    "import itertools\n",
    "from tqdm import tqdm"
   ],
   "metadata": {
    "collapsed": false,
    "pycharm": {
     "name": "#%%\n"
    }
   }
  },
  {
   "cell_type": "code",
   "execution_count": 25,
   "outputs": [
    {
     "name": "stdout",
     "output_type": "stream",
     "text": [
      "['t0h-conversion', 't1h-conversion', 't2h-conversion', 't4h-conversion', 't6h-conversion', 't8h-conversion', 't10h-conversion', 't15h-conversion']\n",
      "['t0h-Mn', 't1h-Mn', 't2h-Mn', 't4h-Mn', 't6h-Mn', 't8h-Mn', 't10h-Mn', 't15h-Mn']\n",
      "['t0h-Mw', 't1h-Mw', 't2h-Mw', 't4h-Mw', 't6h-Mw', 't8h-Mw', 't10h-Mw', 't15h-Mw']\n"
     ]
    }
   ],
   "source": [
    "# ToDo:\n",
    "#  in ist Monomer und Mn dann\n",
    "#       sortieren nach Umsatz dahingehend dann nach kürzester Zeit\n",
    "#       Tabellenausgabe dazu Kinetik Kurve, Reaktionsbedingungen (LM, Raft agent, Zeit...)\n",
    "#  am besten als interaktive website Tabelle.\n",
    "\n",
    "# rectify/balance the table\n",
    "sRt.df[\"t6h-conversion\"] = np.nan\n",
    "sRt.df[\"t10h-conversion\"] = np.nan\n",
    "\n",
    "# get all conversion headers, sort them by the hours\n",
    "conversion_list = []\n",
    "for column in sRt.df.columns:\n",
    "    if \"conversion\" in column:\n",
    "        conversion_list.append(column)\n",
    "\n",
    "conversion_list.sort(key=lambda x: int(re.findall(r\"\\d+\", x)[0]))\n",
    "\n",
    "# get all the Mn and Mw headers\n",
    "Mn_list = []\n",
    "Mw_list = []\n",
    "for column in sRt.df.columns:\n",
    "    if \"Mn\" in column:\n",
    "        Mn_list.append(column)\n",
    "    if \"Mw\" in column:\n",
    "        Mw_list.append(column)\n",
    "\n",
    "print(conversion_list, Mn_list, Mw_list, sep=\"\\n\")"
   ],
   "metadata": {
    "collapsed": false,
    "pycharm": {
     "name": "#%%\n"
    }
   }
  },
  {
   "cell_type": "code",
   "execution_count": 26,
   "outputs": [
    {
     "name": "stdout",
     "output_type": "stream",
     "text": [
      "The timer was reset to 0 after the first closing of reactors in the \"t = 0\"-sampling-step\n"
     ]
    },
    {
     "data": {
      "text/plain": "                     0         1         2         4         6         8  \\\nReactor                                                                    \n1                    0  1.005556  2.011111  4.018056  6.008333  8.016667   \n2                    0  1.005556  2.011111  4.018056  6.008333  8.016667   \n3                    0  1.073611  2.068056  4.077778  6.063889  8.090278   \n4                    0  1.073611  2.068056  4.077778  6.063889  8.090278   \n5                    0  1.131944  2.125000  4.143056  6.120833  8.180556   \n6                    0  1.131944  2.125000  4.143056  6.120833  8.180556   \n7                    0  1.191667  2.184722  4.205556  6.180556  8.256944   \n8                    0  1.191667  2.184722  4.205556  6.180556  8.256944   \n9                    0  1.251389  2.241667  4.273611  6.237500  8.338889   \n10                   0  1.251389  2.241667  4.273611  6.237500  8.338889   \n11                   0  1.312500  2.301389  4.336111  6.295833  8.415278   \n12                   0  1.312500  2.301389  4.336111  6.295833  8.415278   \n13                   0  1.373611  2.369444  4.409722  6.358333  8.501389   \n14                   0  1.373611  2.369444  4.409722  6.358333  8.501389   \n15                   0  1.437500  2.430556  4.475000  6.416667  8.581944   \nclosing of reactors  0  1.481944  2.476389  4.526389  6.461111  8.643056   \n\n                            10         15  \nReactor                                    \n1                    10.011111  15.016667  \n2                    10.011111  15.016667  \n3                    10.084722  15.098611  \n4                    10.084722  15.098611  \n5                    10.158333  15.200000  \n6                    10.158333  15.200000  \n7                    10.233333  15.291667  \n8                    10.233333  15.291667  \n9                    10.306944  15.381944  \n10                   10.306944  15.381944  \n11                   10.383333  15.472222  \n12                   10.383333  15.472222  \n13                   10.466667  15.568056  \n14                   10.466667  15.568056  \n15                   10.541667  15.658333  \nclosing of reactors  10.604167  15.730556  ",
      "text/html": "<div>\n<style scoped>\n    .dataframe tbody tr th:only-of-type {\n        vertical-align: middle;\n    }\n\n    .dataframe tbody tr th {\n        vertical-align: top;\n    }\n\n    .dataframe thead th {\n        text-align: right;\n    }\n</style>\n<table border=\"1\" class=\"dataframe\">\n  <thead>\n    <tr style=\"text-align: right;\">\n      <th></th>\n      <th>0</th>\n      <th>1</th>\n      <th>2</th>\n      <th>4</th>\n      <th>6</th>\n      <th>8</th>\n      <th>10</th>\n      <th>15</th>\n    </tr>\n    <tr>\n      <th>Reactor</th>\n      <th></th>\n      <th></th>\n      <th></th>\n      <th></th>\n      <th></th>\n      <th></th>\n      <th></th>\n      <th></th>\n    </tr>\n  </thead>\n  <tbody>\n    <tr>\n      <th>1</th>\n      <td>0</td>\n      <td>1.005556</td>\n      <td>2.011111</td>\n      <td>4.018056</td>\n      <td>6.008333</td>\n      <td>8.016667</td>\n      <td>10.011111</td>\n      <td>15.016667</td>\n    </tr>\n    <tr>\n      <th>2</th>\n      <td>0</td>\n      <td>1.005556</td>\n      <td>2.011111</td>\n      <td>4.018056</td>\n      <td>6.008333</td>\n      <td>8.016667</td>\n      <td>10.011111</td>\n      <td>15.016667</td>\n    </tr>\n    <tr>\n      <th>3</th>\n      <td>0</td>\n      <td>1.073611</td>\n      <td>2.068056</td>\n      <td>4.077778</td>\n      <td>6.063889</td>\n      <td>8.090278</td>\n      <td>10.084722</td>\n      <td>15.098611</td>\n    </tr>\n    <tr>\n      <th>4</th>\n      <td>0</td>\n      <td>1.073611</td>\n      <td>2.068056</td>\n      <td>4.077778</td>\n      <td>6.063889</td>\n      <td>8.090278</td>\n      <td>10.084722</td>\n      <td>15.098611</td>\n    </tr>\n    <tr>\n      <th>5</th>\n      <td>0</td>\n      <td>1.131944</td>\n      <td>2.125000</td>\n      <td>4.143056</td>\n      <td>6.120833</td>\n      <td>8.180556</td>\n      <td>10.158333</td>\n      <td>15.200000</td>\n    </tr>\n    <tr>\n      <th>6</th>\n      <td>0</td>\n      <td>1.131944</td>\n      <td>2.125000</td>\n      <td>4.143056</td>\n      <td>6.120833</td>\n      <td>8.180556</td>\n      <td>10.158333</td>\n      <td>15.200000</td>\n    </tr>\n    <tr>\n      <th>7</th>\n      <td>0</td>\n      <td>1.191667</td>\n      <td>2.184722</td>\n      <td>4.205556</td>\n      <td>6.180556</td>\n      <td>8.256944</td>\n      <td>10.233333</td>\n      <td>15.291667</td>\n    </tr>\n    <tr>\n      <th>8</th>\n      <td>0</td>\n      <td>1.191667</td>\n      <td>2.184722</td>\n      <td>4.205556</td>\n      <td>6.180556</td>\n      <td>8.256944</td>\n      <td>10.233333</td>\n      <td>15.291667</td>\n    </tr>\n    <tr>\n      <th>9</th>\n      <td>0</td>\n      <td>1.251389</td>\n      <td>2.241667</td>\n      <td>4.273611</td>\n      <td>6.237500</td>\n      <td>8.338889</td>\n      <td>10.306944</td>\n      <td>15.381944</td>\n    </tr>\n    <tr>\n      <th>10</th>\n      <td>0</td>\n      <td>1.251389</td>\n      <td>2.241667</td>\n      <td>4.273611</td>\n      <td>6.237500</td>\n      <td>8.338889</td>\n      <td>10.306944</td>\n      <td>15.381944</td>\n    </tr>\n    <tr>\n      <th>11</th>\n      <td>0</td>\n      <td>1.312500</td>\n      <td>2.301389</td>\n      <td>4.336111</td>\n      <td>6.295833</td>\n      <td>8.415278</td>\n      <td>10.383333</td>\n      <td>15.472222</td>\n    </tr>\n    <tr>\n      <th>12</th>\n      <td>0</td>\n      <td>1.312500</td>\n      <td>2.301389</td>\n      <td>4.336111</td>\n      <td>6.295833</td>\n      <td>8.415278</td>\n      <td>10.383333</td>\n      <td>15.472222</td>\n    </tr>\n    <tr>\n      <th>13</th>\n      <td>0</td>\n      <td>1.373611</td>\n      <td>2.369444</td>\n      <td>4.409722</td>\n      <td>6.358333</td>\n      <td>8.501389</td>\n      <td>10.466667</td>\n      <td>15.568056</td>\n    </tr>\n    <tr>\n      <th>14</th>\n      <td>0</td>\n      <td>1.373611</td>\n      <td>2.369444</td>\n      <td>4.409722</td>\n      <td>6.358333</td>\n      <td>8.501389</td>\n      <td>10.466667</td>\n      <td>15.568056</td>\n    </tr>\n    <tr>\n      <th>15</th>\n      <td>0</td>\n      <td>1.437500</td>\n      <td>2.430556</td>\n      <td>4.475000</td>\n      <td>6.416667</td>\n      <td>8.581944</td>\n      <td>10.541667</td>\n      <td>15.658333</td>\n    </tr>\n    <tr>\n      <th>closing of reactors</th>\n      <td>0</td>\n      <td>1.481944</td>\n      <td>2.476389</td>\n      <td>4.526389</td>\n      <td>6.461111</td>\n      <td>8.643056</td>\n      <td>10.604167</td>\n      <td>15.730556</td>\n    </tr>\n  </tbody>\n</table>\n</div>"
     },
     "execution_count": 26,
     "metadata": {},
     "output_type": "execute_result"
    }
   ],
   "source": [
    "def change_timeformat(time_format):\n",
    "    h_m_s = str(time_format).split(\":\")\n",
    "    m_format = int(h_m_s[0]) * 60 + int(h_m_s[1]) + int(h_m_s[2]) / 60\n",
    "    return m_format\n",
    "\n",
    "def change_timeformat_h(time_format):\n",
    "    h_m_s = str(time_format).split(\":\")\n",
    "    h_format = int(h_m_s[0]) + (int(h_m_s[1]) + int(h_m_s[2]) / 60) /60\n",
    "    return h_format\n",
    "\n",
    "# creating a table as a lookup to correct all sample measurement times\n",
    "\n",
    "# get the hours from the headers with regex\n",
    "hours_list = []\n",
    "two_digit_regex = r\"\\d+\"\n",
    "for column in conversion_list:\n",
    "    hours_list.append(int(re.findall(two_digit_regex, column)[0]))\n",
    "hours_list.sort()\n",
    "\n",
    "exact_times = pd.read_excel(sRt.INPUT_FILE_PATH, sheet_name=\"exact sampling times\")\n",
    "\n",
    "time_correction_df = pd.DataFrame(data=exact_times.iloc[3:12, 3:])\n",
    "time_correction_df.columns = exact_times.loc[2][3:]\n",
    "\n",
    "time_correction_df.reset_index(inplace=True, drop=True)\n",
    "ext_time_corr_df_data =[]\n",
    "for row in time_correction_df.iterrows():\n",
    "    reactor_nr = row[1][\"Reactor\"]\n",
    "    if type(reactor_nr) == int or reactor_nr == \"closing of reactors\": # that applies to reactor 15 and the closing of reactors\n",
    "        row[1][\"Reactor\"] = str(reactor_nr)\n",
    "        ext_time_corr_df_data.append(row[1])\n",
    "    else: # that applies to all reactors which are described per row in pairs like \"3+4\"\n",
    "        reactor_nr_s = (row[1][\"Reactor\"]).split(\"+\")\n",
    "        for reactor_nr in reactor_nr_s:\n",
    "            row[1][\"Reactor\"] = reactor_nr\n",
    "            ext_time_corr_df_data.append(row[1].copy())\n",
    "ext_time_corr_df = pd.DataFrame(data=ext_time_corr_df_data, columns=exact_times.loc[2][3:])\n",
    "ext_time_corr_df.reset_index(drop=True, inplace=True)\n",
    "print(\"The timer was reset to 0 after the first closing of reactors in the \\\"t = 0\\\"-sampling-step\")\n",
    "ext_time_corr_df.columns = [\"Reactor\", 0, 1, 2, 4, 6, 8, 10, 15]\n",
    "\n",
    "# change time format to minutes and set\n",
    "time_cols = ext_time_corr_df.columns.difference([\"Reactor\"])\n",
    "ext_time_corr_df[time_cols] = ext_time_corr_df[time_cols].apply(lambda x: [change_timeformat_h(d) for d in x])\n",
    "ext_time_corr_df[0] = ext_time_corr_df[0].apply(lambda x: 0 )\n",
    "\n",
    "# set index to reactor\n",
    "ext_time_corr_df.set_index(\"Reactor\", inplace=True)\n",
    "\n",
    "ext_time_corr_df"
   ],
   "metadata": {
    "collapsed": false,
    "pycharm": {
     "name": "#%%\n"
    }
   }
  },
  {
   "cell_type": "code",
   "execution_count": 27,
   "outputs": [
    {
     "data": {
      "text/plain": "{'1': 'Styrene',\n '2': '4-Chlorostyrene',\n '3': '4-Bromostyrene',\n '4': '4-Methylstyrene',\n '5': '4-Methoxystyrene',\n '16': '4-tert-Butylstyrene',\n '6': 'Methyl methacrylate',\n '7': 'Butyl methacrylate',\n '8': 'Lauryl methacrylate',\n '9': '(2-Dimethylaminoethyl)methacrylate',\n '10': 'Benzyl methacrylate',\n '11': 'Methyl acrylate ',\n '12': 'Butyl acrylate',\n '13': 'Lauryl acrylate',\n '14': 'Dimethylaminoethylacrylate',\n '15': 'Benzyl acrylate',\n 'A': '2-Cyan-2-propylbenzodithioat',\n 'B': '4-Cyano-4-(phenylcarbonothioylthio)pentanoic acid',\n 'C': '2-Phenyl-2-propyl benzodithioate',\n 'D': '2-Cyano-2-propyl dodecyl trithiocarbonate',\n 'E': '2-(Dodecylthiocarbonothioylthio)-2-methylpropionic acid',\n 'F': 'Cyanomethyl dodecyl trithiocarbonate',\n 'G': 'Benzyl 1H-pyrrole-1-carbodithioate',\n 'H': '2-Cyanopropan-2-yl N-methyl-N-(pyridin-4-yl)carbamodithioate',\n 'I': 'S,S-Dibenzyl trithiocarbonate',\n 'J': 'Cyanomethyl methyl(phenyl)carbamodithioate',\n 'DMF': 'Dimethylformamide',\n 'Tol': 'Toluene',\n 'DMSO': 'Dimethylsulfoxide'}"
     },
     "execution_count": 27,
     "metadata": {},
     "output_type": "execute_result"
    }
   ],
   "source": [
    "# replace the \"sample determiner\" with columns describing for the experiment number (next cell) and the actual reagents that made out the \"determiner\"\n",
    "reaction_descriptors_dict = {}\n",
    "abbreviation_keys = pd.read_excel(sRt.INPUT_FILE_PATH, sheet_name=\"Legend for Abbreviations\")\n",
    "abbreviation_keys.dropna(inplace=True)\n",
    "for row in abbreviation_keys.itertuples():\n",
    "    reaction_descriptors_dict[str(row.Symbol)] = row.Name\n",
    "\n",
    "reaction_descriptors_dict"
   ],
   "metadata": {
    "collapsed": false,
    "pycharm": {
     "name": "#%%\n"
    }
   }
  },
  {
   "cell_type": "code",
   "execution_count": 28,
   "outputs": [],
   "source": [
    "# plotting the kinetic curves of the RAFT polymerization\n",
    "# generate a reformatted table with all entries attributing to a sample analysis taken, described with a column of the right time\n",
    "\n",
    "# ToDo: implement Mn too, and the different columns for the reaction substances: Monomer, Raft-Agent, Solvent\n",
    "#    maybe also just do that later in the kinetic_curves_df\n",
    "\n",
    "# create a dataframe with just the information needed to append to\n",
    "kinetic_curves = []\n",
    "for index, polymerisation_kinetic in sRt.df.iterrows():\n",
    "\n",
    "    kinetic_curve_entries = pd.DataFrame(index=range(len(polymerisation_kinetic[conversion_list])),\n",
    "        data={\"time\" : hours_list, \"conversion\" : polymerisation_kinetic[conversion_list].values,\n",
    "         \"Mn\" : polymerisation_kinetic[Mn_list].values, \"Mw\" : polymerisation_kinetic[Mw_list].values,\n",
    "         # , \"reactor\" : polymerisation_kinetic[\"reactor\"] reactor is not needed since the time is corrected\n",
    "         })\n",
    "\n",
    "    kinetic_curve_entries[\"exp_nr\"] = str(index)\n",
    "    kinetic_curve_entries[\"monomer\"] = reaction_descriptors_dict[polymerisation_kinetic[\"monomer\"]]\n",
    "    kinetic_curve_entries[\"RAFT-Agent\"] = reaction_descriptors_dict[polymerisation_kinetic[\"RAFT-Agent\"]]\n",
    "    kinetic_curve_entries[\"solvent\"] = reaction_descriptors_dict[polymerisation_kinetic[\"solvent\"]]\n",
    "\n",
    "    # the times are dependent on the current reactor, get current\n",
    "    current_reactor_nr = str(polymerisation_kinetic[\"reactor\"])\n",
    "    current_time_list = ext_time_corr_df.loc[current_reactor_nr]\n",
    "    kinetic_curve_entries[\"time\"] = list(current_time_list)\n",
    "\n",
    "    kinetic_curves.append(kinetic_curve_entries)\n"
   ],
   "metadata": {
    "collapsed": false,
    "pycharm": {
     "name": "#%%\n"
    }
   }
  },
  {
   "cell_type": "code",
   "execution_count": 29,
   "outputs": [],
   "source": [
    "# reset Nans of Mn_t0 and Mw_t0 to 0 where the values are NaN\n",
    "for kinetic_curve in kinetic_curves:\n",
    "    kinetic_curve[\"Mn\"].fillna(0, inplace=True)\n",
    "    kinetic_curve[\"Mw\"].fillna(0, inplace=True)\n"
   ],
   "metadata": {
    "collapsed": false,
    "pycharm": {
     "name": "#%%\n"
    }
   }
  },
  {
   "cell_type": "code",
   "execution_count": 30,
   "outputs": [
    {
     "name": "stdout",
     "output_type": "stream",
     "text": [
      "functions loaded\n"
     ]
    }
   ],
   "source": [
    "'''\n",
    "deprecated: more theoretical accurate version but practically worse applicable\n",
    "    # L is responsible for scaling the output range from [0,1] to [0,L]\n",
    "    # b\n",
    "    # k is responsible for scaling the input, which remains in (-inf,inf)\n",
    "    # x0\n",
    "def sigmoid (x, L ,x0, k, b):\n",
    "    y = L / (1 + np.exp(-k*(x-x0)))+b\n",
    "    return (y)\n",
    "\n",
    "def sigmoid_derivative(x, L ,x0, k, b): # ToDo: check if this is the correct derivative\n",
    "    y = (L*k*np.exp(-k*(x-x0)))/((np.exp(-k*(x-x0))+1)**2)\n",
    "    return (y)\n",
    "\n",
    "\n",
    "'''\n",
    "def neg_growth(x, l, k):\n",
    "    y = l * (1 - np.exp(k * (-x)))\n",
    "    return y\n",
    "\n",
    "def neg_growth_derivative(x, l, k):\n",
    "    y = l * k * np.exp(k*(-x))\n",
    "    return y\n",
    "\n",
    "def linear_growth(x, m):\n",
    "    y = m * x\n",
    "    return y\n",
    "\n",
    "def linear_growth_derivative(m):\n",
    "    return m\n",
    "\n",
    "'''\n",
    "xrange = np.arange(-0.2, 5, 0.1)\n",
    "example_fig = px.line()\n",
    "for testparams in ([1,1], [2,1], [1,2]):\n",
    "    example_fig.add_scatter(x=xrange, y=neg_growth(xrange, *testparams))\n",
    "    example_fig.add_scatter(x=xrange, y=neg_growth_derivative(xrange, *testparams), opacity=0.5, line=dict(dash=\"dot\"))\n",
    "\n",
    "print(\"visualisation of the functions\")\n",
    "example_fig.show()\n",
    "# '''\n",
    "print(\"functions loaded\")"
   ],
   "metadata": {
    "collapsed": false,
    "pycharm": {
     "name": "#%%\n"
    }
   }
  },
  {
   "cell_type": "code",
   "execution_count": 31,
   "outputs": [
    {
     "name": "stdout",
     "output_type": "stream",
     "text": [
      "        time conversion     Mn     Mw exp_nr          monomer  \\\n",
      "0   0.000000          0    0.0    0.0    301  4-Methylstyrene   \n",
      "1   1.251389    0.02518  225.0  266.0    301  4-Methylstyrene   \n",
      "2   2.241667   0.014388  234.0  265.0    301  4-Methylstyrene   \n",
      "3   4.273611   0.014388  280.0  330.0    301  4-Methylstyrene   \n",
      "4   6.237500        NaN  321.0  368.0    301  4-Methylstyrene   \n",
      "5   8.338889   0.021583  352.0  416.0    301  4-Methylstyrene   \n",
      "6  10.306944        NaN  357.0  429.0    301  4-Methylstyrene   \n",
      "7  15.381944   0.032374  491.0  680.0    301  4-Methylstyrene   \n",
      "\n",
      "                     RAFT-Agent            solvent  \n",
      "0  2-Cyan-2-propylbenzodithioat  Dimethylformamide  \n",
      "1  2-Cyan-2-propylbenzodithioat  Dimethylformamide  \n",
      "2  2-Cyan-2-propylbenzodithioat  Dimethylformamide  \n",
      "3  2-Cyan-2-propylbenzodithioat  Dimethylformamide  \n",
      "4  2-Cyan-2-propylbenzodithioat  Dimethylformamide  \n",
      "5  2-Cyan-2-propylbenzodithioat  Dimethylformamide  \n",
      "6  2-Cyan-2-propylbenzodithioat  Dimethylformamide  \n",
      "7  2-Cyan-2-propylbenzodithioat  Dimethylformamide  \n"
     ]
    },
    {
     "data": {
      "application/vnd.plotly.v1+json": {
       "data": [
        {
         "hovertemplate": "time=%{x}<br>conversion=%{y}<extra></extra>",
         "legendgroup": "",
         "line": {
          "color": "#636efa",
          "dash": "solid"
         },
         "marker": {
          "symbol": "circle"
         },
         "mode": "lines",
         "name": "",
         "orientation": "h",
         "showlegend": false,
         "x": [
          0.0,
          1.2513888888888889,
          2.2416666666666667,
          4.273611111111111,
          8.338888888888889,
          15.381944444444445
         ],
         "xaxis": "x",
         "y": [
          0,
          0.025179856115107868,
          0.014388489208632893,
          0.014388489208632893,
          0.021582733812949506,
          0.03237410071942437
         ],
         "yaxis": "y",
         "type": "scatter"
        }
       ],
       "layout": {
        "template": {
         "data": {
          "histogram2dcontour": [
           {
            "type": "histogram2dcontour",
            "colorbar": {
             "outlinewidth": 0,
             "ticks": ""
            },
            "colorscale": [
             [
              0.0,
              "#0d0887"
             ],
             [
              0.1111111111111111,
              "#46039f"
             ],
             [
              0.2222222222222222,
              "#7201a8"
             ],
             [
              0.3333333333333333,
              "#9c179e"
             ],
             [
              0.4444444444444444,
              "#bd3786"
             ],
             [
              0.5555555555555556,
              "#d8576b"
             ],
             [
              0.6666666666666666,
              "#ed7953"
             ],
             [
              0.7777777777777778,
              "#fb9f3a"
             ],
             [
              0.8888888888888888,
              "#fdca26"
             ],
             [
              1.0,
              "#f0f921"
             ]
            ]
           }
          ],
          "choropleth": [
           {
            "type": "choropleth",
            "colorbar": {
             "outlinewidth": 0,
             "ticks": ""
            }
           }
          ],
          "histogram2d": [
           {
            "type": "histogram2d",
            "colorbar": {
             "outlinewidth": 0,
             "ticks": ""
            },
            "colorscale": [
             [
              0.0,
              "#0d0887"
             ],
             [
              0.1111111111111111,
              "#46039f"
             ],
             [
              0.2222222222222222,
              "#7201a8"
             ],
             [
              0.3333333333333333,
              "#9c179e"
             ],
             [
              0.4444444444444444,
              "#bd3786"
             ],
             [
              0.5555555555555556,
              "#d8576b"
             ],
             [
              0.6666666666666666,
              "#ed7953"
             ],
             [
              0.7777777777777778,
              "#fb9f3a"
             ],
             [
              0.8888888888888888,
              "#fdca26"
             ],
             [
              1.0,
              "#f0f921"
             ]
            ]
           }
          ],
          "heatmap": [
           {
            "type": "heatmap",
            "colorbar": {
             "outlinewidth": 0,
             "ticks": ""
            },
            "colorscale": [
             [
              0.0,
              "#0d0887"
             ],
             [
              0.1111111111111111,
              "#46039f"
             ],
             [
              0.2222222222222222,
              "#7201a8"
             ],
             [
              0.3333333333333333,
              "#9c179e"
             ],
             [
              0.4444444444444444,
              "#bd3786"
             ],
             [
              0.5555555555555556,
              "#d8576b"
             ],
             [
              0.6666666666666666,
              "#ed7953"
             ],
             [
              0.7777777777777778,
              "#fb9f3a"
             ],
             [
              0.8888888888888888,
              "#fdca26"
             ],
             [
              1.0,
              "#f0f921"
             ]
            ]
           }
          ],
          "heatmapgl": [
           {
            "type": "heatmapgl",
            "colorbar": {
             "outlinewidth": 0,
             "ticks": ""
            },
            "colorscale": [
             [
              0.0,
              "#0d0887"
             ],
             [
              0.1111111111111111,
              "#46039f"
             ],
             [
              0.2222222222222222,
              "#7201a8"
             ],
             [
              0.3333333333333333,
              "#9c179e"
             ],
             [
              0.4444444444444444,
              "#bd3786"
             ],
             [
              0.5555555555555556,
              "#d8576b"
             ],
             [
              0.6666666666666666,
              "#ed7953"
             ],
             [
              0.7777777777777778,
              "#fb9f3a"
             ],
             [
              0.8888888888888888,
              "#fdca26"
             ],
             [
              1.0,
              "#f0f921"
             ]
            ]
           }
          ],
          "contourcarpet": [
           {
            "type": "contourcarpet",
            "colorbar": {
             "outlinewidth": 0,
             "ticks": ""
            }
           }
          ],
          "contour": [
           {
            "type": "contour",
            "colorbar": {
             "outlinewidth": 0,
             "ticks": ""
            },
            "colorscale": [
             [
              0.0,
              "#0d0887"
             ],
             [
              0.1111111111111111,
              "#46039f"
             ],
             [
              0.2222222222222222,
              "#7201a8"
             ],
             [
              0.3333333333333333,
              "#9c179e"
             ],
             [
              0.4444444444444444,
              "#bd3786"
             ],
             [
              0.5555555555555556,
              "#d8576b"
             ],
             [
              0.6666666666666666,
              "#ed7953"
             ],
             [
              0.7777777777777778,
              "#fb9f3a"
             ],
             [
              0.8888888888888888,
              "#fdca26"
             ],
             [
              1.0,
              "#f0f921"
             ]
            ]
           }
          ],
          "surface": [
           {
            "type": "surface",
            "colorbar": {
             "outlinewidth": 0,
             "ticks": ""
            },
            "colorscale": [
             [
              0.0,
              "#0d0887"
             ],
             [
              0.1111111111111111,
              "#46039f"
             ],
             [
              0.2222222222222222,
              "#7201a8"
             ],
             [
              0.3333333333333333,
              "#9c179e"
             ],
             [
              0.4444444444444444,
              "#bd3786"
             ],
             [
              0.5555555555555556,
              "#d8576b"
             ],
             [
              0.6666666666666666,
              "#ed7953"
             ],
             [
              0.7777777777777778,
              "#fb9f3a"
             ],
             [
              0.8888888888888888,
              "#fdca26"
             ],
             [
              1.0,
              "#f0f921"
             ]
            ]
           }
          ],
          "mesh3d": [
           {
            "type": "mesh3d",
            "colorbar": {
             "outlinewidth": 0,
             "ticks": ""
            }
           }
          ],
          "scatter": [
           {
            "fillpattern": {
             "fillmode": "overlay",
             "size": 10,
             "solidity": 0.2
            },
            "type": "scatter"
           }
          ],
          "parcoords": [
           {
            "type": "parcoords",
            "line": {
             "colorbar": {
              "outlinewidth": 0,
              "ticks": ""
             }
            }
           }
          ],
          "scatterpolargl": [
           {
            "type": "scatterpolargl",
            "marker": {
             "colorbar": {
              "outlinewidth": 0,
              "ticks": ""
             }
            }
           }
          ],
          "bar": [
           {
            "error_x": {
             "color": "#2a3f5f"
            },
            "error_y": {
             "color": "#2a3f5f"
            },
            "marker": {
             "line": {
              "color": "#E5ECF6",
              "width": 0.5
             },
             "pattern": {
              "fillmode": "overlay",
              "size": 10,
              "solidity": 0.2
             }
            },
            "type": "bar"
           }
          ],
          "scattergeo": [
           {
            "type": "scattergeo",
            "marker": {
             "colorbar": {
              "outlinewidth": 0,
              "ticks": ""
             }
            }
           }
          ],
          "scatterpolar": [
           {
            "type": "scatterpolar",
            "marker": {
             "colorbar": {
              "outlinewidth": 0,
              "ticks": ""
             }
            }
           }
          ],
          "histogram": [
           {
            "marker": {
             "pattern": {
              "fillmode": "overlay",
              "size": 10,
              "solidity": 0.2
             }
            },
            "type": "histogram"
           }
          ],
          "scattergl": [
           {
            "type": "scattergl",
            "marker": {
             "colorbar": {
              "outlinewidth": 0,
              "ticks": ""
             }
            }
           }
          ],
          "scatter3d": [
           {
            "type": "scatter3d",
            "line": {
             "colorbar": {
              "outlinewidth": 0,
              "ticks": ""
             }
            },
            "marker": {
             "colorbar": {
              "outlinewidth": 0,
              "ticks": ""
             }
            }
           }
          ],
          "scattermapbox": [
           {
            "type": "scattermapbox",
            "marker": {
             "colorbar": {
              "outlinewidth": 0,
              "ticks": ""
             }
            }
           }
          ],
          "scatterternary": [
           {
            "type": "scatterternary",
            "marker": {
             "colorbar": {
              "outlinewidth": 0,
              "ticks": ""
             }
            }
           }
          ],
          "scattercarpet": [
           {
            "type": "scattercarpet",
            "marker": {
             "colorbar": {
              "outlinewidth": 0,
              "ticks": ""
             }
            }
           }
          ],
          "carpet": [
           {
            "aaxis": {
             "endlinecolor": "#2a3f5f",
             "gridcolor": "white",
             "linecolor": "white",
             "minorgridcolor": "white",
             "startlinecolor": "#2a3f5f"
            },
            "baxis": {
             "endlinecolor": "#2a3f5f",
             "gridcolor": "white",
             "linecolor": "white",
             "minorgridcolor": "white",
             "startlinecolor": "#2a3f5f"
            },
            "type": "carpet"
           }
          ],
          "table": [
           {
            "cells": {
             "fill": {
              "color": "#EBF0F8"
             },
             "line": {
              "color": "white"
             }
            },
            "header": {
             "fill": {
              "color": "#C8D4E3"
             },
             "line": {
              "color": "white"
             }
            },
            "type": "table"
           }
          ],
          "barpolar": [
           {
            "marker": {
             "line": {
              "color": "#E5ECF6",
              "width": 0.5
             },
             "pattern": {
              "fillmode": "overlay",
              "size": 10,
              "solidity": 0.2
             }
            },
            "type": "barpolar"
           }
          ],
          "pie": [
           {
            "automargin": true,
            "type": "pie"
           }
          ]
         },
         "layout": {
          "autotypenumbers": "strict",
          "colorway": [
           "#636efa",
           "#EF553B",
           "#00cc96",
           "#ab63fa",
           "#FFA15A",
           "#19d3f3",
           "#FF6692",
           "#B6E880",
           "#FF97FF",
           "#FECB52"
          ],
          "font": {
           "color": "#2a3f5f"
          },
          "hovermode": "closest",
          "hoverlabel": {
           "align": "left"
          },
          "paper_bgcolor": "white",
          "plot_bgcolor": "#E5ECF6",
          "polar": {
           "bgcolor": "#E5ECF6",
           "angularaxis": {
            "gridcolor": "white",
            "linecolor": "white",
            "ticks": ""
           },
           "radialaxis": {
            "gridcolor": "white",
            "linecolor": "white",
            "ticks": ""
           }
          },
          "ternary": {
           "bgcolor": "#E5ECF6",
           "aaxis": {
            "gridcolor": "white",
            "linecolor": "white",
            "ticks": ""
           },
           "baxis": {
            "gridcolor": "white",
            "linecolor": "white",
            "ticks": ""
           },
           "caxis": {
            "gridcolor": "white",
            "linecolor": "white",
            "ticks": ""
           }
          },
          "coloraxis": {
           "colorbar": {
            "outlinewidth": 0,
            "ticks": ""
           }
          },
          "colorscale": {
           "sequential": [
            [
             0.0,
             "#0d0887"
            ],
            [
             0.1111111111111111,
             "#46039f"
            ],
            [
             0.2222222222222222,
             "#7201a8"
            ],
            [
             0.3333333333333333,
             "#9c179e"
            ],
            [
             0.4444444444444444,
             "#bd3786"
            ],
            [
             0.5555555555555556,
             "#d8576b"
            ],
            [
             0.6666666666666666,
             "#ed7953"
            ],
            [
             0.7777777777777778,
             "#fb9f3a"
            ],
            [
             0.8888888888888888,
             "#fdca26"
            ],
            [
             1.0,
             "#f0f921"
            ]
           ],
           "sequentialminus": [
            [
             0.0,
             "#0d0887"
            ],
            [
             0.1111111111111111,
             "#46039f"
            ],
            [
             0.2222222222222222,
             "#7201a8"
            ],
            [
             0.3333333333333333,
             "#9c179e"
            ],
            [
             0.4444444444444444,
             "#bd3786"
            ],
            [
             0.5555555555555556,
             "#d8576b"
            ],
            [
             0.6666666666666666,
             "#ed7953"
            ],
            [
             0.7777777777777778,
             "#fb9f3a"
            ],
            [
             0.8888888888888888,
             "#fdca26"
            ],
            [
             1.0,
             "#f0f921"
            ]
           ],
           "diverging": [
            [
             0,
             "#8e0152"
            ],
            [
             0.1,
             "#c51b7d"
            ],
            [
             0.2,
             "#de77ae"
            ],
            [
             0.3,
             "#f1b6da"
            ],
            [
             0.4,
             "#fde0ef"
            ],
            [
             0.5,
             "#f7f7f7"
            ],
            [
             0.6,
             "#e6f5d0"
            ],
            [
             0.7,
             "#b8e186"
            ],
            [
             0.8,
             "#7fbc41"
            ],
            [
             0.9,
             "#4d9221"
            ],
            [
             1,
             "#276419"
            ]
           ]
          },
          "xaxis": {
           "gridcolor": "white",
           "linecolor": "white",
           "ticks": "",
           "title": {
            "standoff": 15
           },
           "zerolinecolor": "white",
           "automargin": true,
           "zerolinewidth": 2
          },
          "yaxis": {
           "gridcolor": "white",
           "linecolor": "white",
           "ticks": "",
           "title": {
            "standoff": 15
           },
           "zerolinecolor": "white",
           "automargin": true,
           "zerolinewidth": 2
          },
          "scene": {
           "xaxis": {
            "backgroundcolor": "#E5ECF6",
            "gridcolor": "white",
            "linecolor": "white",
            "showbackground": true,
            "ticks": "",
            "zerolinecolor": "white",
            "gridwidth": 2
           },
           "yaxis": {
            "backgroundcolor": "#E5ECF6",
            "gridcolor": "white",
            "linecolor": "white",
            "showbackground": true,
            "ticks": "",
            "zerolinecolor": "white",
            "gridwidth": 2
           },
           "zaxis": {
            "backgroundcolor": "#E5ECF6",
            "gridcolor": "white",
            "linecolor": "white",
            "showbackground": true,
            "ticks": "",
            "zerolinecolor": "white",
            "gridwidth": 2
           }
          },
          "shapedefaults": {
           "line": {
            "color": "#2a3f5f"
           }
          },
          "annotationdefaults": {
           "arrowcolor": "#2a3f5f",
           "arrowhead": 0,
           "arrowwidth": 1
          },
          "geo": {
           "bgcolor": "white",
           "landcolor": "#E5ECF6",
           "subunitcolor": "white",
           "showland": true,
           "showlakes": true,
           "lakecolor": "white"
          },
          "title": {
           "x": 0.05
          },
          "mapbox": {
           "style": "light"
          }
         }
        },
        "xaxis": {
         "anchor": "y",
         "domain": [
          0.0,
          1.0
         ],
         "title": {
          "text": "time"
         }
        },
        "yaxis": {
         "anchor": "x",
         "domain": [
          0.0,
          1.0
         ],
         "title": {
          "text": "conversion"
         }
        },
        "legend": {
         "tracegroupgap": 0
        },
        "title": {
         "text": "kinetic 301 "
        }
       },
       "config": {
        "plotlyServerURL": "https://plot.ly"
       }
      },
      "text/html": "<div>                            <div id=\"4658615b-3ef1-47b1-b6a4-cc8265c06bee\" class=\"plotly-graph-div\" style=\"height:525px; width:100%;\"></div>            <script type=\"text/javascript\">                require([\"plotly\"], function(Plotly) {                    window.PLOTLYENV=window.PLOTLYENV || {};                                    if (document.getElementById(\"4658615b-3ef1-47b1-b6a4-cc8265c06bee\")) {                    Plotly.newPlot(                        \"4658615b-3ef1-47b1-b6a4-cc8265c06bee\",                        [{\"hovertemplate\":\"time=%{x}\\u003cbr\\u003econversion=%{y}\\u003cextra\\u003e\\u003c\\u002fextra\\u003e\",\"legendgroup\":\"\",\"line\":{\"color\":\"#636efa\",\"dash\":\"solid\"},\"marker\":{\"symbol\":\"circle\"},\"mode\":\"lines\",\"name\":\"\",\"orientation\":\"h\",\"showlegend\":false,\"x\":[0.0,1.2513888888888889,2.2416666666666667,4.273611111111111,8.338888888888889,15.381944444444445],\"xaxis\":\"x\",\"y\":[0,0.025179856115107868,0.014388489208632893,0.014388489208632893,0.021582733812949506,0.03237410071942437],\"yaxis\":\"y\",\"type\":\"scatter\"}],                        {\"template\":{\"data\":{\"histogram2dcontour\":[{\"type\":\"histogram2dcontour\",\"colorbar\":{\"outlinewidth\":0,\"ticks\":\"\"},\"colorscale\":[[0.0,\"#0d0887\"],[0.1111111111111111,\"#46039f\"],[0.2222222222222222,\"#7201a8\"],[0.3333333333333333,\"#9c179e\"],[0.4444444444444444,\"#bd3786\"],[0.5555555555555556,\"#d8576b\"],[0.6666666666666666,\"#ed7953\"],[0.7777777777777778,\"#fb9f3a\"],[0.8888888888888888,\"#fdca26\"],[1.0,\"#f0f921\"]]}],\"choropleth\":[{\"type\":\"choropleth\",\"colorbar\":{\"outlinewidth\":0,\"ticks\":\"\"}}],\"histogram2d\":[{\"type\":\"histogram2d\",\"colorbar\":{\"outlinewidth\":0,\"ticks\":\"\"},\"colorscale\":[[0.0,\"#0d0887\"],[0.1111111111111111,\"#46039f\"],[0.2222222222222222,\"#7201a8\"],[0.3333333333333333,\"#9c179e\"],[0.4444444444444444,\"#bd3786\"],[0.5555555555555556,\"#d8576b\"],[0.6666666666666666,\"#ed7953\"],[0.7777777777777778,\"#fb9f3a\"],[0.8888888888888888,\"#fdca26\"],[1.0,\"#f0f921\"]]}],\"heatmap\":[{\"type\":\"heatmap\",\"colorbar\":{\"outlinewidth\":0,\"ticks\":\"\"},\"colorscale\":[[0.0,\"#0d0887\"],[0.1111111111111111,\"#46039f\"],[0.2222222222222222,\"#7201a8\"],[0.3333333333333333,\"#9c179e\"],[0.4444444444444444,\"#bd3786\"],[0.5555555555555556,\"#d8576b\"],[0.6666666666666666,\"#ed7953\"],[0.7777777777777778,\"#fb9f3a\"],[0.8888888888888888,\"#fdca26\"],[1.0,\"#f0f921\"]]}],\"heatmapgl\":[{\"type\":\"heatmapgl\",\"colorbar\":{\"outlinewidth\":0,\"ticks\":\"\"},\"colorscale\":[[0.0,\"#0d0887\"],[0.1111111111111111,\"#46039f\"],[0.2222222222222222,\"#7201a8\"],[0.3333333333333333,\"#9c179e\"],[0.4444444444444444,\"#bd3786\"],[0.5555555555555556,\"#d8576b\"],[0.6666666666666666,\"#ed7953\"],[0.7777777777777778,\"#fb9f3a\"],[0.8888888888888888,\"#fdca26\"],[1.0,\"#f0f921\"]]}],\"contourcarpet\":[{\"type\":\"contourcarpet\",\"colorbar\":{\"outlinewidth\":0,\"ticks\":\"\"}}],\"contour\":[{\"type\":\"contour\",\"colorbar\":{\"outlinewidth\":0,\"ticks\":\"\"},\"colorscale\":[[0.0,\"#0d0887\"],[0.1111111111111111,\"#46039f\"],[0.2222222222222222,\"#7201a8\"],[0.3333333333333333,\"#9c179e\"],[0.4444444444444444,\"#bd3786\"],[0.5555555555555556,\"#d8576b\"],[0.6666666666666666,\"#ed7953\"],[0.7777777777777778,\"#fb9f3a\"],[0.8888888888888888,\"#fdca26\"],[1.0,\"#f0f921\"]]}],\"surface\":[{\"type\":\"surface\",\"colorbar\":{\"outlinewidth\":0,\"ticks\":\"\"},\"colorscale\":[[0.0,\"#0d0887\"],[0.1111111111111111,\"#46039f\"],[0.2222222222222222,\"#7201a8\"],[0.3333333333333333,\"#9c179e\"],[0.4444444444444444,\"#bd3786\"],[0.5555555555555556,\"#d8576b\"],[0.6666666666666666,\"#ed7953\"],[0.7777777777777778,\"#fb9f3a\"],[0.8888888888888888,\"#fdca26\"],[1.0,\"#f0f921\"]]}],\"mesh3d\":[{\"type\":\"mesh3d\",\"colorbar\":{\"outlinewidth\":0,\"ticks\":\"\"}}],\"scatter\":[{\"fillpattern\":{\"fillmode\":\"overlay\",\"size\":10,\"solidity\":0.2},\"type\":\"scatter\"}],\"parcoords\":[{\"type\":\"parcoords\",\"line\":{\"colorbar\":{\"outlinewidth\":0,\"ticks\":\"\"}}}],\"scatterpolargl\":[{\"type\":\"scatterpolargl\",\"marker\":{\"colorbar\":{\"outlinewidth\":0,\"ticks\":\"\"}}}],\"bar\":[{\"error_x\":{\"color\":\"#2a3f5f\"},\"error_y\":{\"color\":\"#2a3f5f\"},\"marker\":{\"line\":{\"color\":\"#E5ECF6\",\"width\":0.5},\"pattern\":{\"fillmode\":\"overlay\",\"size\":10,\"solidity\":0.2}},\"type\":\"bar\"}],\"scattergeo\":[{\"type\":\"scattergeo\",\"marker\":{\"colorbar\":{\"outlinewidth\":0,\"ticks\":\"\"}}}],\"scatterpolar\":[{\"type\":\"scatterpolar\",\"marker\":{\"colorbar\":{\"outlinewidth\":0,\"ticks\":\"\"}}}],\"histogram\":[{\"marker\":{\"pattern\":{\"fillmode\":\"overlay\",\"size\":10,\"solidity\":0.2}},\"type\":\"histogram\"}],\"scattergl\":[{\"type\":\"scattergl\",\"marker\":{\"colorbar\":{\"outlinewidth\":0,\"ticks\":\"\"}}}],\"scatter3d\":[{\"type\":\"scatter3d\",\"line\":{\"colorbar\":{\"outlinewidth\":0,\"ticks\":\"\"}},\"marker\":{\"colorbar\":{\"outlinewidth\":0,\"ticks\":\"\"}}}],\"scattermapbox\":[{\"type\":\"scattermapbox\",\"marker\":{\"colorbar\":{\"outlinewidth\":0,\"ticks\":\"\"}}}],\"scatterternary\":[{\"type\":\"scatterternary\",\"marker\":{\"colorbar\":{\"outlinewidth\":0,\"ticks\":\"\"}}}],\"scattercarpet\":[{\"type\":\"scattercarpet\",\"marker\":{\"colorbar\":{\"outlinewidth\":0,\"ticks\":\"\"}}}],\"carpet\":[{\"aaxis\":{\"endlinecolor\":\"#2a3f5f\",\"gridcolor\":\"white\",\"linecolor\":\"white\",\"minorgridcolor\":\"white\",\"startlinecolor\":\"#2a3f5f\"},\"baxis\":{\"endlinecolor\":\"#2a3f5f\",\"gridcolor\":\"white\",\"linecolor\":\"white\",\"minorgridcolor\":\"white\",\"startlinecolor\":\"#2a3f5f\"},\"type\":\"carpet\"}],\"table\":[{\"cells\":{\"fill\":{\"color\":\"#EBF0F8\"},\"line\":{\"color\":\"white\"}},\"header\":{\"fill\":{\"color\":\"#C8D4E3\"},\"line\":{\"color\":\"white\"}},\"type\":\"table\"}],\"barpolar\":[{\"marker\":{\"line\":{\"color\":\"#E5ECF6\",\"width\":0.5},\"pattern\":{\"fillmode\":\"overlay\",\"size\":10,\"solidity\":0.2}},\"type\":\"barpolar\"}],\"pie\":[{\"automargin\":true,\"type\":\"pie\"}]},\"layout\":{\"autotypenumbers\":\"strict\",\"colorway\":[\"#636efa\",\"#EF553B\",\"#00cc96\",\"#ab63fa\",\"#FFA15A\",\"#19d3f3\",\"#FF6692\",\"#B6E880\",\"#FF97FF\",\"#FECB52\"],\"font\":{\"color\":\"#2a3f5f\"},\"hovermode\":\"closest\",\"hoverlabel\":{\"align\":\"left\"},\"paper_bgcolor\":\"white\",\"plot_bgcolor\":\"#E5ECF6\",\"polar\":{\"bgcolor\":\"#E5ECF6\",\"angularaxis\":{\"gridcolor\":\"white\",\"linecolor\":\"white\",\"ticks\":\"\"},\"radialaxis\":{\"gridcolor\":\"white\",\"linecolor\":\"white\",\"ticks\":\"\"}},\"ternary\":{\"bgcolor\":\"#E5ECF6\",\"aaxis\":{\"gridcolor\":\"white\",\"linecolor\":\"white\",\"ticks\":\"\"},\"baxis\":{\"gridcolor\":\"white\",\"linecolor\":\"white\",\"ticks\":\"\"},\"caxis\":{\"gridcolor\":\"white\",\"linecolor\":\"white\",\"ticks\":\"\"}},\"coloraxis\":{\"colorbar\":{\"outlinewidth\":0,\"ticks\":\"\"}},\"colorscale\":{\"sequential\":[[0.0,\"#0d0887\"],[0.1111111111111111,\"#46039f\"],[0.2222222222222222,\"#7201a8\"],[0.3333333333333333,\"#9c179e\"],[0.4444444444444444,\"#bd3786\"],[0.5555555555555556,\"#d8576b\"],[0.6666666666666666,\"#ed7953\"],[0.7777777777777778,\"#fb9f3a\"],[0.8888888888888888,\"#fdca26\"],[1.0,\"#f0f921\"]],\"sequentialminus\":[[0.0,\"#0d0887\"],[0.1111111111111111,\"#46039f\"],[0.2222222222222222,\"#7201a8\"],[0.3333333333333333,\"#9c179e\"],[0.4444444444444444,\"#bd3786\"],[0.5555555555555556,\"#d8576b\"],[0.6666666666666666,\"#ed7953\"],[0.7777777777777778,\"#fb9f3a\"],[0.8888888888888888,\"#fdca26\"],[1.0,\"#f0f921\"]],\"diverging\":[[0,\"#8e0152\"],[0.1,\"#c51b7d\"],[0.2,\"#de77ae\"],[0.3,\"#f1b6da\"],[0.4,\"#fde0ef\"],[0.5,\"#f7f7f7\"],[0.6,\"#e6f5d0\"],[0.7,\"#b8e186\"],[0.8,\"#7fbc41\"],[0.9,\"#4d9221\"],[1,\"#276419\"]]},\"xaxis\":{\"gridcolor\":\"white\",\"linecolor\":\"white\",\"ticks\":\"\",\"title\":{\"standoff\":15},\"zerolinecolor\":\"white\",\"automargin\":true,\"zerolinewidth\":2},\"yaxis\":{\"gridcolor\":\"white\",\"linecolor\":\"white\",\"ticks\":\"\",\"title\":{\"standoff\":15},\"zerolinecolor\":\"white\",\"automargin\":true,\"zerolinewidth\":2},\"scene\":{\"xaxis\":{\"backgroundcolor\":\"#E5ECF6\",\"gridcolor\":\"white\",\"linecolor\":\"white\",\"showbackground\":true,\"ticks\":\"\",\"zerolinecolor\":\"white\",\"gridwidth\":2},\"yaxis\":{\"backgroundcolor\":\"#E5ECF6\",\"gridcolor\":\"white\",\"linecolor\":\"white\",\"showbackground\":true,\"ticks\":\"\",\"zerolinecolor\":\"white\",\"gridwidth\":2},\"zaxis\":{\"backgroundcolor\":\"#E5ECF6\",\"gridcolor\":\"white\",\"linecolor\":\"white\",\"showbackground\":true,\"ticks\":\"\",\"zerolinecolor\":\"white\",\"gridwidth\":2}},\"shapedefaults\":{\"line\":{\"color\":\"#2a3f5f\"}},\"annotationdefaults\":{\"arrowcolor\":\"#2a3f5f\",\"arrowhead\":0,\"arrowwidth\":1},\"geo\":{\"bgcolor\":\"white\",\"landcolor\":\"#E5ECF6\",\"subunitcolor\":\"white\",\"showland\":true,\"showlakes\":true,\"lakecolor\":\"white\"},\"title\":{\"x\":0.05},\"mapbox\":{\"style\":\"light\"}}},\"xaxis\":{\"anchor\":\"y\",\"domain\":[0.0,1.0],\"title\":{\"text\":\"time\"}},\"yaxis\":{\"anchor\":\"x\",\"domain\":[0.0,1.0],\"title\":{\"text\":\"conversion\"}},\"legend\":{\"tracegroupgap\":0},\"title\":{\"text\":\"kinetic 301 \"}},                        {\"responsive\": true}                    ).then(function(){\n                            \nvar gd = document.getElementById('4658615b-3ef1-47b1-b6a4-cc8265c06bee');\nvar x = new MutationObserver(function (mutations, observer) {{\n        var display = window.getComputedStyle(gd).display;\n        if (!display || display === 'none') {{\n            console.log([gd, 'removed!']);\n            Plotly.purge(gd);\n            observer.disconnect();\n        }}\n}});\n\n// Listen for the removal of the full notebook cells\nvar notebookContainer = gd.closest('#notebook-container');\nif (notebookContainer) {{\n    x.observe(notebookContainer, {childList: true});\n}}\n\n// Listen for the clearing of the current output cell\nvar outputEl = gd.closest('.output');\nif (outputEl) {{\n    x.observe(outputEl, {childList: true});\n}}\n\n                        })                };                });            </script>        </div>"
     },
     "metadata": {},
     "output_type": "display_data"
    }
   ],
   "source": [
    " # manually exclude experiment 301 as it disturbs the covariance plotting and has an unreasonable conversion value course.\n",
    "if kinetic_curves[301][\"exp_nr\"].iloc[1] == \"301\":\n",
    "    print(kinetic_curves[301])\n",
    "    fig = px.line(kinetic_curves[301].dropna(subset=\"conversion\"), x=\"time\", y=\"conversion\", title=f\"kinetic 301 \", labels={\"x\":\"time\", \"y\":\"conversion\"})\n",
    "    fig.show()\n",
    "    kinetic_curves.pop(301)\n",
    "else:\n",
    "    print(\"Cell was already run. Experiment is deleted.\")"
   ],
   "metadata": {
    "collapsed": false,
    "pycharm": {
     "name": "#%%\n"
    }
   }
  },
  {
   "cell_type": "code",
   "execution_count": 32,
   "outputs": [
    {
     "name": "stderr",
     "output_type": "stream",
     "text": [
      "C:\\Users\\fo72qev\\AppData\\Local\\mambaforge\\envs\\PFP2\\Lib\\site-packages\\scipy\\optimize\\_minpack_py.py:1010: OptimizeWarning:\n",
      "\n",
      "Covariance of the parameters could not be estimated\n",
      "\n"
     ]
    },
    {
     "data": {
      "text/plain": "    exp_nr   max_con theo_max_con theo_react_end  \\\n0        0  0.516574  yet to calc    yet to calc   \n1        1  0.697321  yet to calc    yet to calc   \n2        2  0.323281  yet to calc    yet to calc   \n3        3  0.565125  yet to calc    yet to calc   \n4        4  0.790565  yet to calc    yet to calc   \n..     ...       ...          ...            ...   \n308    312  0.734328  yet to calc    yet to calc   \n309    313  0.546547  yet to calc    yet to calc   \n310    314  0.360000  yet to calc    yet to calc   \n311    315  0.840426  yet to calc    yet to calc   \n312    316  1.000000  yet to calc    yet to calc   \n\n                                monomer  \\\n0                   Methyl methacrylate   \n1                   Methyl methacrylate   \n2                   Methyl methacrylate   \n3                    Butyl methacrylate   \n4                    Butyl methacrylate   \n..                                  ...   \n308  (2-Dimethylaminoethyl)methacrylate   \n309  (2-Dimethylaminoethyl)methacrylate   \n310  (2-Dimethylaminoethyl)methacrylate   \n311                 Benzyl methacrylate   \n312                 Benzyl methacrylate   \n\n                                            RAFT-Agent            solvent  \\\n0                         2-Cyan-2-propylbenzodithioat  Dimethylformamide   \n1                         2-Cyan-2-propylbenzodithioat  Dimethylsulfoxide   \n2                         2-Cyan-2-propylbenzodithioat            Toluene   \n3                         2-Cyan-2-propylbenzodithioat  Dimethylformamide   \n4                         2-Cyan-2-propylbenzodithioat  Dimethylsulfoxide   \n..                                                 ...                ...   \n308  2-(Dodecylthiocarbonothioylthio)-2-methylpropi...  Dimethylformamide   \n309  2-(Dodecylthiocarbonothioylthio)-2-methylpropi...  Dimethylsulfoxide   \n310  2-(Dodecylthiocarbonothioylthio)-2-methylpropi...            Toluene   \n311  2-(Dodecylthiocarbonothioylthio)-2-methylpropi...  Dimethylformamide   \n312  2-(Dodecylthiocarbonothioylthio)-2-methylpropi...  Dimethylsulfoxide   \n\n       fit_p1    fit_p2  p1_variance  p1_p2_covariance  p2_variance  \\\n0    0.776540  0.072249     0.002818         -0.000396     0.000057   \n1    0.814980  0.128174     0.000055         -0.000016     0.000005   \n2    1.000000  0.025778     0.004197         -0.000128     0.000004   \n3    0.953088  0.059934     0.009147         -0.000816     0.000074   \n4    1.000000  0.097675     0.004018         -0.000699     0.000129   \n..        ...       ...          ...               ...          ...   \n308  0.796486  0.165271     0.000009         -0.000004     0.000002   \n309  0.929680  0.204371     0.000025         -0.000008     0.000002   \n310  0.383237  0.197675     0.000560         -0.000579     0.000826   \n311  0.928939  0.154520     0.001383         -0.000441     0.000173   \n312  1.000000  0.356366     0.012476         -0.009427     0.013574   \n\n     squared_error                                              xdata  \\\n0     1.948374e-04  [0.0, 2.011111111111111, 4.018055555555556, 8....   \n1     2.663440e-05  [0.0, 2.011111111111111, 4.018055555555556, 8....   \n2     3.354045e-06  [0.0, 4.0777777777777775, 8.090277777777779, 1...   \n3     4.525607e-04  [0.0, 1.073611111111111, 2.0680555555555555, 4...   \n4     6.790071e-04  [0.0, 1.1319444444444444, 2.125, 8.18055555555...   \n..             ...                                                ...   \n308   1.305254e-05  [0.0, 1.2513888888888889, 2.2416666666666667, ...   \n309   4.779775e-07  [0.0, 1.3125, 2.301388888888889, 4.33611111111...   \n310   1.283833e-03  [0.0, 1.3125, 2.301388888888889, 4.33611111111...   \n311   1.803572e-03  [0.0, 1.3736111111111111, 2.3694444444444445, ...   \n312   7.115907e-02  [0.0, 1.3736111111111111, 2.3694444444444445, ...   \n\n                                                 ydata  \n0    [0.0, 0.10436494913029215, 0.2057761732851986,...  \n1    [0.0, 0.18921601058551107, 0.327820046311611, ...  \n2    [0.0, 0.09824902723735407, 0.1877431906614786,...  \n3    [0.0, 0.06908094948265364, 0.09403530127814974...  \n4    [0.0, 0.11448317307692302, 0.18088942307692302...  \n..                                                 ...  \n308  [0.0, 0.14925373134328357, 0.24477611940298516...  \n309  [0.0, 0.21921921921921916, 0.3483483483483484,...  \n310  [0.0, 0.11142857142857143, 0.11714285714285722...  \n311  [0.0, 0.14893617021276595, 0.2695035460992907,...  \n312  [0.0, 0.2989690721649485, 0.4364261168384881, ...  \n\n[313 rows x 15 columns]",
      "text/html": "<div>\n<style scoped>\n    .dataframe tbody tr th:only-of-type {\n        vertical-align: middle;\n    }\n\n    .dataframe tbody tr th {\n        vertical-align: top;\n    }\n\n    .dataframe thead th {\n        text-align: right;\n    }\n</style>\n<table border=\"1\" class=\"dataframe\">\n  <thead>\n    <tr style=\"text-align: right;\">\n      <th></th>\n      <th>exp_nr</th>\n      <th>max_con</th>\n      <th>theo_max_con</th>\n      <th>theo_react_end</th>\n      <th>monomer</th>\n      <th>RAFT-Agent</th>\n      <th>solvent</th>\n      <th>fit_p1</th>\n      <th>fit_p2</th>\n      <th>p1_variance</th>\n      <th>p1_p2_covariance</th>\n      <th>p2_variance</th>\n      <th>squared_error</th>\n      <th>xdata</th>\n      <th>ydata</th>\n    </tr>\n  </thead>\n  <tbody>\n    <tr>\n      <th>0</th>\n      <td>0</td>\n      <td>0.516574</td>\n      <td>yet to calc</td>\n      <td>yet to calc</td>\n      <td>Methyl methacrylate</td>\n      <td>2-Cyan-2-propylbenzodithioat</td>\n      <td>Dimethylformamide</td>\n      <td>0.776540</td>\n      <td>0.072249</td>\n      <td>0.002818</td>\n      <td>-0.000396</td>\n      <td>0.000057</td>\n      <td>1.948374e-04</td>\n      <td>[0.0, 2.011111111111111, 4.018055555555556, 8....</td>\n      <td>[0.0, 0.10436494913029215, 0.2057761732851986,...</td>\n    </tr>\n    <tr>\n      <th>1</th>\n      <td>1</td>\n      <td>0.697321</td>\n      <td>yet to calc</td>\n      <td>yet to calc</td>\n      <td>Methyl methacrylate</td>\n      <td>2-Cyan-2-propylbenzodithioat</td>\n      <td>Dimethylsulfoxide</td>\n      <td>0.814980</td>\n      <td>0.128174</td>\n      <td>0.000055</td>\n      <td>-0.000016</td>\n      <td>0.000005</td>\n      <td>2.663440e-05</td>\n      <td>[0.0, 2.011111111111111, 4.018055555555556, 8....</td>\n      <td>[0.0, 0.18921601058551107, 0.327820046311611, ...</td>\n    </tr>\n    <tr>\n      <th>2</th>\n      <td>2</td>\n      <td>0.323281</td>\n      <td>yet to calc</td>\n      <td>yet to calc</td>\n      <td>Methyl methacrylate</td>\n      <td>2-Cyan-2-propylbenzodithioat</td>\n      <td>Toluene</td>\n      <td>1.000000</td>\n      <td>0.025778</td>\n      <td>0.004197</td>\n      <td>-0.000128</td>\n      <td>0.000004</td>\n      <td>3.354045e-06</td>\n      <td>[0.0, 4.0777777777777775, 8.090277777777779, 1...</td>\n      <td>[0.0, 0.09824902723735407, 0.1877431906614786,...</td>\n    </tr>\n    <tr>\n      <th>3</th>\n      <td>3</td>\n      <td>0.565125</td>\n      <td>yet to calc</td>\n      <td>yet to calc</td>\n      <td>Butyl methacrylate</td>\n      <td>2-Cyan-2-propylbenzodithioat</td>\n      <td>Dimethylformamide</td>\n      <td>0.953088</td>\n      <td>0.059934</td>\n      <td>0.009147</td>\n      <td>-0.000816</td>\n      <td>0.000074</td>\n      <td>4.525607e-04</td>\n      <td>[0.0, 1.073611111111111, 2.0680555555555555, 4...</td>\n      <td>[0.0, 0.06908094948265364, 0.09403530127814974...</td>\n    </tr>\n    <tr>\n      <th>4</th>\n      <td>4</td>\n      <td>0.790565</td>\n      <td>yet to calc</td>\n      <td>yet to calc</td>\n      <td>Butyl methacrylate</td>\n      <td>2-Cyan-2-propylbenzodithioat</td>\n      <td>Dimethylsulfoxide</td>\n      <td>1.000000</td>\n      <td>0.097675</td>\n      <td>0.004018</td>\n      <td>-0.000699</td>\n      <td>0.000129</td>\n      <td>6.790071e-04</td>\n      <td>[0.0, 1.1319444444444444, 2.125, 8.18055555555...</td>\n      <td>[0.0, 0.11448317307692302, 0.18088942307692302...</td>\n    </tr>\n    <tr>\n      <th>...</th>\n      <td>...</td>\n      <td>...</td>\n      <td>...</td>\n      <td>...</td>\n      <td>...</td>\n      <td>...</td>\n      <td>...</td>\n      <td>...</td>\n      <td>...</td>\n      <td>...</td>\n      <td>...</td>\n      <td>...</td>\n      <td>...</td>\n      <td>...</td>\n      <td>...</td>\n    </tr>\n    <tr>\n      <th>308</th>\n      <td>312</td>\n      <td>0.734328</td>\n      <td>yet to calc</td>\n      <td>yet to calc</td>\n      <td>(2-Dimethylaminoethyl)methacrylate</td>\n      <td>2-(Dodecylthiocarbonothioylthio)-2-methylpropi...</td>\n      <td>Dimethylformamide</td>\n      <td>0.796486</td>\n      <td>0.165271</td>\n      <td>0.000009</td>\n      <td>-0.000004</td>\n      <td>0.000002</td>\n      <td>1.305254e-05</td>\n      <td>[0.0, 1.2513888888888889, 2.2416666666666667, ...</td>\n      <td>[0.0, 0.14925373134328357, 0.24477611940298516...</td>\n    </tr>\n    <tr>\n      <th>309</th>\n      <td>313</td>\n      <td>0.546547</td>\n      <td>yet to calc</td>\n      <td>yet to calc</td>\n      <td>(2-Dimethylaminoethyl)methacrylate</td>\n      <td>2-(Dodecylthiocarbonothioylthio)-2-methylpropi...</td>\n      <td>Dimethylsulfoxide</td>\n      <td>0.929680</td>\n      <td>0.204371</td>\n      <td>0.000025</td>\n      <td>-0.000008</td>\n      <td>0.000002</td>\n      <td>4.779775e-07</td>\n      <td>[0.0, 1.3125, 2.301388888888889, 4.33611111111...</td>\n      <td>[0.0, 0.21921921921921916, 0.3483483483483484,...</td>\n    </tr>\n    <tr>\n      <th>310</th>\n      <td>314</td>\n      <td>0.360000</td>\n      <td>yet to calc</td>\n      <td>yet to calc</td>\n      <td>(2-Dimethylaminoethyl)methacrylate</td>\n      <td>2-(Dodecylthiocarbonothioylthio)-2-methylpropi...</td>\n      <td>Toluene</td>\n      <td>0.383237</td>\n      <td>0.197675</td>\n      <td>0.000560</td>\n      <td>-0.000579</td>\n      <td>0.000826</td>\n      <td>1.283833e-03</td>\n      <td>[0.0, 1.3125, 2.301388888888889, 4.33611111111...</td>\n      <td>[0.0, 0.11142857142857143, 0.11714285714285722...</td>\n    </tr>\n    <tr>\n      <th>311</th>\n      <td>315</td>\n      <td>0.840426</td>\n      <td>yet to calc</td>\n      <td>yet to calc</td>\n      <td>Benzyl methacrylate</td>\n      <td>2-(Dodecylthiocarbonothioylthio)-2-methylpropi...</td>\n      <td>Dimethylformamide</td>\n      <td>0.928939</td>\n      <td>0.154520</td>\n      <td>0.001383</td>\n      <td>-0.000441</td>\n      <td>0.000173</td>\n      <td>1.803572e-03</td>\n      <td>[0.0, 1.3736111111111111, 2.3694444444444445, ...</td>\n      <td>[0.0, 0.14893617021276595, 0.2695035460992907,...</td>\n    </tr>\n    <tr>\n      <th>312</th>\n      <td>316</td>\n      <td>1.000000</td>\n      <td>yet to calc</td>\n      <td>yet to calc</td>\n      <td>Benzyl methacrylate</td>\n      <td>2-(Dodecylthiocarbonothioylthio)-2-methylpropi...</td>\n      <td>Dimethylsulfoxide</td>\n      <td>1.000000</td>\n      <td>0.356366</td>\n      <td>0.012476</td>\n      <td>-0.009427</td>\n      <td>0.013574</td>\n      <td>7.115907e-02</td>\n      <td>[0.0, 1.3736111111111111, 2.3694444444444445, ...</td>\n      <td>[0.0, 0.2989690721649485, 0.4364261168384881, ...</td>\n    </tr>\n  </tbody>\n</table>\n<p>313 rows × 15 columns</p>\n</div>"
     },
     "execution_count": 32,
     "metadata": {},
     "output_type": "execute_result"
    }
   ],
   "source": [
    "fig = px.line(title=\"Kinetic Curve Fit\", labels={\"x\":\"time\", \"y\":\"conversion\"})\n",
    "colors = px.colors.qualitative.Plotly # set up a simple color palette\n",
    "extended_xdata = np.linspace(-1, 16.5, 100) # x data array for plotting the fits\n",
    "\n",
    "kinetics_df = pd.DataFrame() # create new dataframe with kinetics per row\n",
    "\n",
    "def add_fits_to_plot(fit_func, fit_func_derivative, fit_func_params, marker_dic):\n",
    "    fig.add_scatter(\n",
    "        x=extended_xdata, y=fit_func(extended_xdata, *fit_func_params),\n",
    "        opacity=1, line=dict(dash=\"dot\"), name=f\"{fit_func.__name__} fit\", marker=marker_dic)\n",
    "    fig.add_scatter(\n",
    "        x=extended_xdata, y=fit_func_derivative(extended_xdata, *fit_func_params),\n",
    "        opacity=0.3, line=dict(dash=\"dash\"), name=f\"{fit_func_derivative.__name__}\", marker=marker_dic)\n",
    "\n",
    "def fit_and_exclude_outliers(x, y, fit_func, p0, bounds, nan_policy=\"omit\", iteration=1, outliers=None):\n",
    "    outliers = outliers if outliers is not None else []\n",
    "\n",
    "    cf_data = curve_fit(f=fit_func, xdata=x, ydata=y, p0=p0, nan_policy=nan_policy, maxfev=800 * 10, bounds=bounds)\n",
    "\n",
    "    # calculate the fit points\n",
    "    fit_points = np.array([fit_func(x, *cf_data[0]) for x in x])\n",
    "    # calculate the standard deviation of the residuals between the fit and the data points\n",
    "    sigma = np.std(fit_points - y)\n",
    "\n",
    "    # exclude the outliers\n",
    "    msk = ~(np.abs(fit_points - y) > 2 * sigma)\n",
    "    if not msk.all():\n",
    "        return fit_and_exclude_outliers(x=x[msk], y=y[msk], fit_func=fit_func, p0=cf_data[0], bounds=bounds, nan_policy=nan_policy, iteration=iteration+1, outliers=outliers + [x[~msk]])\n",
    "\n",
    "    result = {\"x\": x, \"y\": y, \"p_opt\" : cf_data[0], \"p_cov\" : cf_data[1], \"excluded_points\" : (x[~msk],y[~msk]), \"iteration\" : iteration, \"outliers\" : outliers}\n",
    "    return result\n",
    "\n",
    "# ToDo: this is exclusively for conversion yet, adding Mn, Mw support later\n",
    "for idx, kinetic_curve in enumerate(kinetic_curves):\n",
    "    # first make sure the datapoints are in the right format and not sometimes int sometimes float\n",
    "    ydata = np.array(kinetic_curve[\"conversion\"].values, dtype=float)\n",
    "    xdata = np.array(kinetic_curve[\"time\"].values, dtype=float)\n",
    "    # exclude the nan values from the data\n",
    "    mask = ~np.isnan(ydata)\n",
    "    xdata, ydata = xdata[mask], ydata[mask]\n",
    "\n",
    "    # fitting section\n",
    "    p_initial = [max(ydata), 0.1] # this is a mandatory initial guess\n",
    "    ng_fit = fit_and_exclude_outliers(x=xdata, y=ydata, fit_func=neg_growth, p0=p_initial, bounds=([0, -np.inf], [1, np.inf]))\n",
    "\n",
    "    popt, pcov = ng_fit[\"p_opt\"], ng_fit[\"p_cov\"]\n",
    "    ydata, xdata = ng_fit[\"y\"], ng_fit[\"x\"]\n",
    "\n",
    "    # fit with linear growth\n",
    "    # l_fit = fit_and_exclude_outliers(\n",
    "    #     x=xdata, y=ydata, fit_func=linear_growth, p0=[max(ydata)/7], bounds=([0], [np.inf]))\n",
    "\n",
    "    # calculate the squared error of fit and data points\n",
    "    y_st =[]\n",
    "    x_st = []\n",
    "    for y_val, x_val in zip(ydata, xdata):\n",
    "        if np.isnan(y_val) or np.isnan(x_val):\n",
    "            continue\n",
    "        y_st.append(y_val)\n",
    "        x_st.append(x_val)\n",
    "    y_st = np.array(y_st)\n",
    "    x_st = np.array(x_st)\n",
    "    squared_error = np.sum((y_st - neg_growth(x_st, *popt))**2)\n",
    "\n",
    "    new_row = pd.DataFrame({\"exp_nr\":kinetic_curve[\"exp_nr\"].iloc[1], \"max_con\":max(ydata),\n",
    "                        \"theo_max_con\":\"yet to calc\", \"theo_react_end\":\"yet to calc\",\n",
    "                            \"monomer\":kinetic_curve[\"monomer\"].iloc[1], \"RAFT-Agent\":kinetic_curve[\"RAFT-Agent\"].iloc[1],\n",
    "                            \"solvent\":kinetic_curve[\"solvent\"].iloc[1],\n",
    "                            \"fit_p1\":[popt[0]],\"fit_p2\":[popt[1]],\n",
    "                            \"p1_variance\":[pcov[0][0]],\"p1_p2_covariance\":[pcov[0][1]],\"p2_variance\":[pcov[1][1]],\n",
    "                            \"squared_error\":squared_error, \"xdata\":[xdata], \"ydata\":[ydata]})\n",
    "    kinetics_df = pd.concat([kinetics_df, new_row])\n",
    "\n",
    "''' comment out here if plot is needed.\n",
    "    marker_dict = dict(color=colors[idx%len(colors)]) # set same colors per kinetic\n",
    "    fig.add_scatter(x=xdata, y=ydata, mode=\"lines+markers\", opacity=1, name=kinetic_curve[\"exp_nr\"].iloc[1], marker=marker_dict)\n",
    "    add_fits_to_plot(neg_growth, neg_growth_derivative, popt, marker_dict)\n",
    "\n",
    "fig.update_layout(\n",
    "    yaxis=dict(\n",
    "        range=[-0.1,1]\n",
    "    ),\n",
    "    xaxis_title=\"Time [h]\",\n",
    "    yaxis_title=\"Conversion [%]\"\n",
    ")\n",
    "fig.show()\n",
    "# '''\n",
    "\n",
    "kinetics_df.reset_index(drop=True, inplace=True)\n",
    "kinetics_df.drop(axis=\"index\", index=kinetics_df[kinetics_df[\"max_con\"] <= 0].index, inplace=True)\n",
    "kinetics_df.reset_index(drop=True, inplace=True)\n",
    "kinetics_df"
   ],
   "metadata": {
    "collapsed": false,
    "pycharm": {
     "name": "#%%\n"
    }
   }
  },
  {
   "cell_type": "code",
   "execution_count": 33,
   "outputs": [],
   "source": [
    "# normalize the errors by dividing them by their respective standard deviation\n",
    "def normalize_errors(err):\n",
    "    return err / np.std(err)\n",
    "\n",
    "for error in [\"squared_error\", \"p1_variance\", \"p2_variance\", \"p1_p2_covariance\"]:\n",
    "    kinetics_df[error] = normalize_errors(kinetics_df[error])"
   ],
   "metadata": {
    "collapsed": false,
    "pycharm": {
     "name": "#%%\n"
    }
   }
  },
  {
   "cell_type": "code",
   "execution_count": 34,
   "outputs": [
    {
     "data": {
      "application/vnd.plotly.v1+json": {
       "data": [
        {
         "alignmentgroup": "True",
         "hovertemplate": "<extra></extra>",
         "legendgroup": "",
         "marker": {
          "color": "#636efa",
          "pattern": {
           "shape": ""
          }
         },
         "name": "",
         "offsetgroup": "",
         "orientation": "v",
         "showlegend": false,
         "textposition": "auto",
         "xaxis": "x",
         "yaxis": "y",
         "type": "bar"
        },
        {
         "marker": {
          "color": "green"
         },
         "name": "positive correlation",
         "x": [
          "squared_error/p1_variance",
          "squared_error/p2_variance",
          "squared_error/p1_p2_covariance",
          "p1_variance/p2_variance",
          "p1_variance/p1_p2_covariance",
          "p2_variance/p1_p2_covariance"
         ],
         "y": [
          5.151405970321539,
          29.294165370663166,
          -20.844785678314615,
          64.07727397788364,
          -205.08844485315444,
          -273.2737122701452
         ],
         "type": "bar"
        },
        {
         "marker": {
          "color": "crimson"
         },
         "name": "negative correlation",
         "x": [
          "squared_error/p1_variance",
          "squared_error/p2_variance",
          "squared_error/p1_p2_covariance",
          "p1_variance/p2_variance",
          "p1_variance/p1_p2_covariance",
          "p2_variance/p1_p2_covariance"
         ],
         "y": [
          -5.151405970321539,
          -29.294165370663166,
          20.844785678314615,
          -64.07727397788364,
          205.08844485315444,
          273.2737122701452
         ],
         "type": "bar"
        }
       ],
       "layout": {
        "template": {
         "data": {
          "histogram2dcontour": [
           {
            "type": "histogram2dcontour",
            "colorbar": {
             "outlinewidth": 0,
             "ticks": ""
            },
            "colorscale": [
             [
              0.0,
              "#0d0887"
             ],
             [
              0.1111111111111111,
              "#46039f"
             ],
             [
              0.2222222222222222,
              "#7201a8"
             ],
             [
              0.3333333333333333,
              "#9c179e"
             ],
             [
              0.4444444444444444,
              "#bd3786"
             ],
             [
              0.5555555555555556,
              "#d8576b"
             ],
             [
              0.6666666666666666,
              "#ed7953"
             ],
             [
              0.7777777777777778,
              "#fb9f3a"
             ],
             [
              0.8888888888888888,
              "#fdca26"
             ],
             [
              1.0,
              "#f0f921"
             ]
            ]
           }
          ],
          "choropleth": [
           {
            "type": "choropleth",
            "colorbar": {
             "outlinewidth": 0,
             "ticks": ""
            }
           }
          ],
          "histogram2d": [
           {
            "type": "histogram2d",
            "colorbar": {
             "outlinewidth": 0,
             "ticks": ""
            },
            "colorscale": [
             [
              0.0,
              "#0d0887"
             ],
             [
              0.1111111111111111,
              "#46039f"
             ],
             [
              0.2222222222222222,
              "#7201a8"
             ],
             [
              0.3333333333333333,
              "#9c179e"
             ],
             [
              0.4444444444444444,
              "#bd3786"
             ],
             [
              0.5555555555555556,
              "#d8576b"
             ],
             [
              0.6666666666666666,
              "#ed7953"
             ],
             [
              0.7777777777777778,
              "#fb9f3a"
             ],
             [
              0.8888888888888888,
              "#fdca26"
             ],
             [
              1.0,
              "#f0f921"
             ]
            ]
           }
          ],
          "heatmap": [
           {
            "type": "heatmap",
            "colorbar": {
             "outlinewidth": 0,
             "ticks": ""
            },
            "colorscale": [
             [
              0.0,
              "#0d0887"
             ],
             [
              0.1111111111111111,
              "#46039f"
             ],
             [
              0.2222222222222222,
              "#7201a8"
             ],
             [
              0.3333333333333333,
              "#9c179e"
             ],
             [
              0.4444444444444444,
              "#bd3786"
             ],
             [
              0.5555555555555556,
              "#d8576b"
             ],
             [
              0.6666666666666666,
              "#ed7953"
             ],
             [
              0.7777777777777778,
              "#fb9f3a"
             ],
             [
              0.8888888888888888,
              "#fdca26"
             ],
             [
              1.0,
              "#f0f921"
             ]
            ]
           }
          ],
          "heatmapgl": [
           {
            "type": "heatmapgl",
            "colorbar": {
             "outlinewidth": 0,
             "ticks": ""
            },
            "colorscale": [
             [
              0.0,
              "#0d0887"
             ],
             [
              0.1111111111111111,
              "#46039f"
             ],
             [
              0.2222222222222222,
              "#7201a8"
             ],
             [
              0.3333333333333333,
              "#9c179e"
             ],
             [
              0.4444444444444444,
              "#bd3786"
             ],
             [
              0.5555555555555556,
              "#d8576b"
             ],
             [
              0.6666666666666666,
              "#ed7953"
             ],
             [
              0.7777777777777778,
              "#fb9f3a"
             ],
             [
              0.8888888888888888,
              "#fdca26"
             ],
             [
              1.0,
              "#f0f921"
             ]
            ]
           }
          ],
          "contourcarpet": [
           {
            "type": "contourcarpet",
            "colorbar": {
             "outlinewidth": 0,
             "ticks": ""
            }
           }
          ],
          "contour": [
           {
            "type": "contour",
            "colorbar": {
             "outlinewidth": 0,
             "ticks": ""
            },
            "colorscale": [
             [
              0.0,
              "#0d0887"
             ],
             [
              0.1111111111111111,
              "#46039f"
             ],
             [
              0.2222222222222222,
              "#7201a8"
             ],
             [
              0.3333333333333333,
              "#9c179e"
             ],
             [
              0.4444444444444444,
              "#bd3786"
             ],
             [
              0.5555555555555556,
              "#d8576b"
             ],
             [
              0.6666666666666666,
              "#ed7953"
             ],
             [
              0.7777777777777778,
              "#fb9f3a"
             ],
             [
              0.8888888888888888,
              "#fdca26"
             ],
             [
              1.0,
              "#f0f921"
             ]
            ]
           }
          ],
          "surface": [
           {
            "type": "surface",
            "colorbar": {
             "outlinewidth": 0,
             "ticks": ""
            },
            "colorscale": [
             [
              0.0,
              "#0d0887"
             ],
             [
              0.1111111111111111,
              "#46039f"
             ],
             [
              0.2222222222222222,
              "#7201a8"
             ],
             [
              0.3333333333333333,
              "#9c179e"
             ],
             [
              0.4444444444444444,
              "#bd3786"
             ],
             [
              0.5555555555555556,
              "#d8576b"
             ],
             [
              0.6666666666666666,
              "#ed7953"
             ],
             [
              0.7777777777777778,
              "#fb9f3a"
             ],
             [
              0.8888888888888888,
              "#fdca26"
             ],
             [
              1.0,
              "#f0f921"
             ]
            ]
           }
          ],
          "mesh3d": [
           {
            "type": "mesh3d",
            "colorbar": {
             "outlinewidth": 0,
             "ticks": ""
            }
           }
          ],
          "scatter": [
           {
            "fillpattern": {
             "fillmode": "overlay",
             "size": 10,
             "solidity": 0.2
            },
            "type": "scatter"
           }
          ],
          "parcoords": [
           {
            "type": "parcoords",
            "line": {
             "colorbar": {
              "outlinewidth": 0,
              "ticks": ""
             }
            }
           }
          ],
          "scatterpolargl": [
           {
            "type": "scatterpolargl",
            "marker": {
             "colorbar": {
              "outlinewidth": 0,
              "ticks": ""
             }
            }
           }
          ],
          "bar": [
           {
            "error_x": {
             "color": "#2a3f5f"
            },
            "error_y": {
             "color": "#2a3f5f"
            },
            "marker": {
             "line": {
              "color": "#E5ECF6",
              "width": 0.5
             },
             "pattern": {
              "fillmode": "overlay",
              "size": 10,
              "solidity": 0.2
             }
            },
            "type": "bar"
           }
          ],
          "scattergeo": [
           {
            "type": "scattergeo",
            "marker": {
             "colorbar": {
              "outlinewidth": 0,
              "ticks": ""
             }
            }
           }
          ],
          "scatterpolar": [
           {
            "type": "scatterpolar",
            "marker": {
             "colorbar": {
              "outlinewidth": 0,
              "ticks": ""
             }
            }
           }
          ],
          "histogram": [
           {
            "marker": {
             "pattern": {
              "fillmode": "overlay",
              "size": 10,
              "solidity": 0.2
             }
            },
            "type": "histogram"
           }
          ],
          "scattergl": [
           {
            "type": "scattergl",
            "marker": {
             "colorbar": {
              "outlinewidth": 0,
              "ticks": ""
             }
            }
           }
          ],
          "scatter3d": [
           {
            "type": "scatter3d",
            "line": {
             "colorbar": {
              "outlinewidth": 0,
              "ticks": ""
             }
            },
            "marker": {
             "colorbar": {
              "outlinewidth": 0,
              "ticks": ""
             }
            }
           }
          ],
          "scattermapbox": [
           {
            "type": "scattermapbox",
            "marker": {
             "colorbar": {
              "outlinewidth": 0,
              "ticks": ""
             }
            }
           }
          ],
          "scatterternary": [
           {
            "type": "scatterternary",
            "marker": {
             "colorbar": {
              "outlinewidth": 0,
              "ticks": ""
             }
            }
           }
          ],
          "scattercarpet": [
           {
            "type": "scattercarpet",
            "marker": {
             "colorbar": {
              "outlinewidth": 0,
              "ticks": ""
             }
            }
           }
          ],
          "carpet": [
           {
            "aaxis": {
             "endlinecolor": "#2a3f5f",
             "gridcolor": "white",
             "linecolor": "white",
             "minorgridcolor": "white",
             "startlinecolor": "#2a3f5f"
            },
            "baxis": {
             "endlinecolor": "#2a3f5f",
             "gridcolor": "white",
             "linecolor": "white",
             "minorgridcolor": "white",
             "startlinecolor": "#2a3f5f"
            },
            "type": "carpet"
           }
          ],
          "table": [
           {
            "cells": {
             "fill": {
              "color": "#EBF0F8"
             },
             "line": {
              "color": "white"
             }
            },
            "header": {
             "fill": {
              "color": "#C8D4E3"
             },
             "line": {
              "color": "white"
             }
            },
            "type": "table"
           }
          ],
          "barpolar": [
           {
            "marker": {
             "line": {
              "color": "#E5ECF6",
              "width": 0.5
             },
             "pattern": {
              "fillmode": "overlay",
              "size": 10,
              "solidity": 0.2
             }
            },
            "type": "barpolar"
           }
          ],
          "pie": [
           {
            "automargin": true,
            "type": "pie"
           }
          ]
         },
         "layout": {
          "autotypenumbers": "strict",
          "colorway": [
           "#636efa",
           "#EF553B",
           "#00cc96",
           "#ab63fa",
           "#FFA15A",
           "#19d3f3",
           "#FF6692",
           "#B6E880",
           "#FF97FF",
           "#FECB52"
          ],
          "font": {
           "color": "#2a3f5f"
          },
          "hovermode": "closest",
          "hoverlabel": {
           "align": "left"
          },
          "paper_bgcolor": "white",
          "plot_bgcolor": "#E5ECF6",
          "polar": {
           "bgcolor": "#E5ECF6",
           "angularaxis": {
            "gridcolor": "white",
            "linecolor": "white",
            "ticks": ""
           },
           "radialaxis": {
            "gridcolor": "white",
            "linecolor": "white",
            "ticks": ""
           }
          },
          "ternary": {
           "bgcolor": "#E5ECF6",
           "aaxis": {
            "gridcolor": "white",
            "linecolor": "white",
            "ticks": ""
           },
           "baxis": {
            "gridcolor": "white",
            "linecolor": "white",
            "ticks": ""
           },
           "caxis": {
            "gridcolor": "white",
            "linecolor": "white",
            "ticks": ""
           }
          },
          "coloraxis": {
           "colorbar": {
            "outlinewidth": 0,
            "ticks": ""
           }
          },
          "colorscale": {
           "sequential": [
            [
             0.0,
             "#0d0887"
            ],
            [
             0.1111111111111111,
             "#46039f"
            ],
            [
             0.2222222222222222,
             "#7201a8"
            ],
            [
             0.3333333333333333,
             "#9c179e"
            ],
            [
             0.4444444444444444,
             "#bd3786"
            ],
            [
             0.5555555555555556,
             "#d8576b"
            ],
            [
             0.6666666666666666,
             "#ed7953"
            ],
            [
             0.7777777777777778,
             "#fb9f3a"
            ],
            [
             0.8888888888888888,
             "#fdca26"
            ],
            [
             1.0,
             "#f0f921"
            ]
           ],
           "sequentialminus": [
            [
             0.0,
             "#0d0887"
            ],
            [
             0.1111111111111111,
             "#46039f"
            ],
            [
             0.2222222222222222,
             "#7201a8"
            ],
            [
             0.3333333333333333,
             "#9c179e"
            ],
            [
             0.4444444444444444,
             "#bd3786"
            ],
            [
             0.5555555555555556,
             "#d8576b"
            ],
            [
             0.6666666666666666,
             "#ed7953"
            ],
            [
             0.7777777777777778,
             "#fb9f3a"
            ],
            [
             0.8888888888888888,
             "#fdca26"
            ],
            [
             1.0,
             "#f0f921"
            ]
           ],
           "diverging": [
            [
             0,
             "#8e0152"
            ],
            [
             0.1,
             "#c51b7d"
            ],
            [
             0.2,
             "#de77ae"
            ],
            [
             0.3,
             "#f1b6da"
            ],
            [
             0.4,
             "#fde0ef"
            ],
            [
             0.5,
             "#f7f7f7"
            ],
            [
             0.6,
             "#e6f5d0"
            ],
            [
             0.7,
             "#b8e186"
            ],
            [
             0.8,
             "#7fbc41"
            ],
            [
             0.9,
             "#4d9221"
            ],
            [
             1,
             "#276419"
            ]
           ]
          },
          "xaxis": {
           "gridcolor": "white",
           "linecolor": "white",
           "ticks": "",
           "title": {
            "standoff": 15
           },
           "zerolinecolor": "white",
           "automargin": true,
           "zerolinewidth": 2
          },
          "yaxis": {
           "gridcolor": "white",
           "linecolor": "white",
           "ticks": "",
           "title": {
            "standoff": 15
           },
           "zerolinecolor": "white",
           "automargin": true,
           "zerolinewidth": 2
          },
          "scene": {
           "xaxis": {
            "backgroundcolor": "#E5ECF6",
            "gridcolor": "white",
            "linecolor": "white",
            "showbackground": true,
            "ticks": "",
            "zerolinecolor": "white",
            "gridwidth": 2
           },
           "yaxis": {
            "backgroundcolor": "#E5ECF6",
            "gridcolor": "white",
            "linecolor": "white",
            "showbackground": true,
            "ticks": "",
            "zerolinecolor": "white",
            "gridwidth": 2
           },
           "zaxis": {
            "backgroundcolor": "#E5ECF6",
            "gridcolor": "white",
            "linecolor": "white",
            "showbackground": true,
            "ticks": "",
            "zerolinecolor": "white",
            "gridwidth": 2
           }
          },
          "shapedefaults": {
           "line": {
            "color": "#2a3f5f"
           }
          },
          "annotationdefaults": {
           "arrowcolor": "#2a3f5f",
           "arrowhead": 0,
           "arrowwidth": 1
          },
          "geo": {
           "bgcolor": "white",
           "landcolor": "#E5ECF6",
           "subunitcolor": "white",
           "showland": true,
           "showlakes": true,
           "lakecolor": "white"
          },
          "title": {
           "x": 0.05
          },
          "mapbox": {
           "style": "light"
          }
         }
        },
        "xaxis": {
         "anchor": "y",
         "domain": [
          0.0,
          1.0
         ]
        },
        "yaxis": {
         "anchor": "x",
         "domain": [
          0.0,
          1.0
         ],
         "type": "log"
        },
        "legend": {
         "tracegroupgap": 0
        },
        "title": {
         "text": "Correlation between Errors"
        },
        "barmode": "relative"
       },
       "config": {
        "plotlyServerURL": "https://plot.ly"
       }
      },
      "text/html": "<div>                            <div id=\"72a6bed2-58cd-4018-b963-0c71a08829f5\" class=\"plotly-graph-div\" style=\"height:525px; width:100%;\"></div>            <script type=\"text/javascript\">                require([\"plotly\"], function(Plotly) {                    window.PLOTLYENV=window.PLOTLYENV || {};                                    if (document.getElementById(\"72a6bed2-58cd-4018-b963-0c71a08829f5\")) {                    Plotly.newPlot(                        \"72a6bed2-58cd-4018-b963-0c71a08829f5\",                        [{\"alignmentgroup\":\"True\",\"hovertemplate\":\"\\u003cextra\\u003e\\u003c\\u002fextra\\u003e\",\"legendgroup\":\"\",\"marker\":{\"color\":\"#636efa\",\"pattern\":{\"shape\":\"\"}},\"name\":\"\",\"offsetgroup\":\"\",\"orientation\":\"v\",\"showlegend\":false,\"textposition\":\"auto\",\"xaxis\":\"x\",\"yaxis\":\"y\",\"type\":\"bar\"},{\"marker\":{\"color\":\"green\"},\"name\":\"positive correlation\",\"x\":[\"squared_error\\u002fp1_variance\",\"squared_error\\u002fp2_variance\",\"squared_error\\u002fp1_p2_covariance\",\"p1_variance\\u002fp2_variance\",\"p1_variance\\u002fp1_p2_covariance\",\"p2_variance\\u002fp1_p2_covariance\"],\"y\":[5.151405970321539,29.294165370663166,-20.844785678314615,64.07727397788364,-205.08844485315444,-273.2737122701452],\"type\":\"bar\"},{\"marker\":{\"color\":\"crimson\"},\"name\":\"negative correlation\",\"x\":[\"squared_error\\u002fp1_variance\",\"squared_error\\u002fp2_variance\",\"squared_error\\u002fp1_p2_covariance\",\"p1_variance\\u002fp2_variance\",\"p1_variance\\u002fp1_p2_covariance\",\"p2_variance\\u002fp1_p2_covariance\"],\"y\":[-5.151405970321539,-29.294165370663166,20.844785678314615,-64.07727397788364,205.08844485315444,273.2737122701452],\"type\":\"bar\"}],                        {\"template\":{\"data\":{\"histogram2dcontour\":[{\"type\":\"histogram2dcontour\",\"colorbar\":{\"outlinewidth\":0,\"ticks\":\"\"},\"colorscale\":[[0.0,\"#0d0887\"],[0.1111111111111111,\"#46039f\"],[0.2222222222222222,\"#7201a8\"],[0.3333333333333333,\"#9c179e\"],[0.4444444444444444,\"#bd3786\"],[0.5555555555555556,\"#d8576b\"],[0.6666666666666666,\"#ed7953\"],[0.7777777777777778,\"#fb9f3a\"],[0.8888888888888888,\"#fdca26\"],[1.0,\"#f0f921\"]]}],\"choropleth\":[{\"type\":\"choropleth\",\"colorbar\":{\"outlinewidth\":0,\"ticks\":\"\"}}],\"histogram2d\":[{\"type\":\"histogram2d\",\"colorbar\":{\"outlinewidth\":0,\"ticks\":\"\"},\"colorscale\":[[0.0,\"#0d0887\"],[0.1111111111111111,\"#46039f\"],[0.2222222222222222,\"#7201a8\"],[0.3333333333333333,\"#9c179e\"],[0.4444444444444444,\"#bd3786\"],[0.5555555555555556,\"#d8576b\"],[0.6666666666666666,\"#ed7953\"],[0.7777777777777778,\"#fb9f3a\"],[0.8888888888888888,\"#fdca26\"],[1.0,\"#f0f921\"]]}],\"heatmap\":[{\"type\":\"heatmap\",\"colorbar\":{\"outlinewidth\":0,\"ticks\":\"\"},\"colorscale\":[[0.0,\"#0d0887\"],[0.1111111111111111,\"#46039f\"],[0.2222222222222222,\"#7201a8\"],[0.3333333333333333,\"#9c179e\"],[0.4444444444444444,\"#bd3786\"],[0.5555555555555556,\"#d8576b\"],[0.6666666666666666,\"#ed7953\"],[0.7777777777777778,\"#fb9f3a\"],[0.8888888888888888,\"#fdca26\"],[1.0,\"#f0f921\"]]}],\"heatmapgl\":[{\"type\":\"heatmapgl\",\"colorbar\":{\"outlinewidth\":0,\"ticks\":\"\"},\"colorscale\":[[0.0,\"#0d0887\"],[0.1111111111111111,\"#46039f\"],[0.2222222222222222,\"#7201a8\"],[0.3333333333333333,\"#9c179e\"],[0.4444444444444444,\"#bd3786\"],[0.5555555555555556,\"#d8576b\"],[0.6666666666666666,\"#ed7953\"],[0.7777777777777778,\"#fb9f3a\"],[0.8888888888888888,\"#fdca26\"],[1.0,\"#f0f921\"]]}],\"contourcarpet\":[{\"type\":\"contourcarpet\",\"colorbar\":{\"outlinewidth\":0,\"ticks\":\"\"}}],\"contour\":[{\"type\":\"contour\",\"colorbar\":{\"outlinewidth\":0,\"ticks\":\"\"},\"colorscale\":[[0.0,\"#0d0887\"],[0.1111111111111111,\"#46039f\"],[0.2222222222222222,\"#7201a8\"],[0.3333333333333333,\"#9c179e\"],[0.4444444444444444,\"#bd3786\"],[0.5555555555555556,\"#d8576b\"],[0.6666666666666666,\"#ed7953\"],[0.7777777777777778,\"#fb9f3a\"],[0.8888888888888888,\"#fdca26\"],[1.0,\"#f0f921\"]]}],\"surface\":[{\"type\":\"surface\",\"colorbar\":{\"outlinewidth\":0,\"ticks\":\"\"},\"colorscale\":[[0.0,\"#0d0887\"],[0.1111111111111111,\"#46039f\"],[0.2222222222222222,\"#7201a8\"],[0.3333333333333333,\"#9c179e\"],[0.4444444444444444,\"#bd3786\"],[0.5555555555555556,\"#d8576b\"],[0.6666666666666666,\"#ed7953\"],[0.7777777777777778,\"#fb9f3a\"],[0.8888888888888888,\"#fdca26\"],[1.0,\"#f0f921\"]]}],\"mesh3d\":[{\"type\":\"mesh3d\",\"colorbar\":{\"outlinewidth\":0,\"ticks\":\"\"}}],\"scatter\":[{\"fillpattern\":{\"fillmode\":\"overlay\",\"size\":10,\"solidity\":0.2},\"type\":\"scatter\"}],\"parcoords\":[{\"type\":\"parcoords\",\"line\":{\"colorbar\":{\"outlinewidth\":0,\"ticks\":\"\"}}}],\"scatterpolargl\":[{\"type\":\"scatterpolargl\",\"marker\":{\"colorbar\":{\"outlinewidth\":0,\"ticks\":\"\"}}}],\"bar\":[{\"error_x\":{\"color\":\"#2a3f5f\"},\"error_y\":{\"color\":\"#2a3f5f\"},\"marker\":{\"line\":{\"color\":\"#E5ECF6\",\"width\":0.5},\"pattern\":{\"fillmode\":\"overlay\",\"size\":10,\"solidity\":0.2}},\"type\":\"bar\"}],\"scattergeo\":[{\"type\":\"scattergeo\",\"marker\":{\"colorbar\":{\"outlinewidth\":0,\"ticks\":\"\"}}}],\"scatterpolar\":[{\"type\":\"scatterpolar\",\"marker\":{\"colorbar\":{\"outlinewidth\":0,\"ticks\":\"\"}}}],\"histogram\":[{\"marker\":{\"pattern\":{\"fillmode\":\"overlay\",\"size\":10,\"solidity\":0.2}},\"type\":\"histogram\"}],\"scattergl\":[{\"type\":\"scattergl\",\"marker\":{\"colorbar\":{\"outlinewidth\":0,\"ticks\":\"\"}}}],\"scatter3d\":[{\"type\":\"scatter3d\",\"line\":{\"colorbar\":{\"outlinewidth\":0,\"ticks\":\"\"}},\"marker\":{\"colorbar\":{\"outlinewidth\":0,\"ticks\":\"\"}}}],\"scattermapbox\":[{\"type\":\"scattermapbox\",\"marker\":{\"colorbar\":{\"outlinewidth\":0,\"ticks\":\"\"}}}],\"scatterternary\":[{\"type\":\"scatterternary\",\"marker\":{\"colorbar\":{\"outlinewidth\":0,\"ticks\":\"\"}}}],\"scattercarpet\":[{\"type\":\"scattercarpet\",\"marker\":{\"colorbar\":{\"outlinewidth\":0,\"ticks\":\"\"}}}],\"carpet\":[{\"aaxis\":{\"endlinecolor\":\"#2a3f5f\",\"gridcolor\":\"white\",\"linecolor\":\"white\",\"minorgridcolor\":\"white\",\"startlinecolor\":\"#2a3f5f\"},\"baxis\":{\"endlinecolor\":\"#2a3f5f\",\"gridcolor\":\"white\",\"linecolor\":\"white\",\"minorgridcolor\":\"white\",\"startlinecolor\":\"#2a3f5f\"},\"type\":\"carpet\"}],\"table\":[{\"cells\":{\"fill\":{\"color\":\"#EBF0F8\"},\"line\":{\"color\":\"white\"}},\"header\":{\"fill\":{\"color\":\"#C8D4E3\"},\"line\":{\"color\":\"white\"}},\"type\":\"table\"}],\"barpolar\":[{\"marker\":{\"line\":{\"color\":\"#E5ECF6\",\"width\":0.5},\"pattern\":{\"fillmode\":\"overlay\",\"size\":10,\"solidity\":0.2}},\"type\":\"barpolar\"}],\"pie\":[{\"automargin\":true,\"type\":\"pie\"}]},\"layout\":{\"autotypenumbers\":\"strict\",\"colorway\":[\"#636efa\",\"#EF553B\",\"#00cc96\",\"#ab63fa\",\"#FFA15A\",\"#19d3f3\",\"#FF6692\",\"#B6E880\",\"#FF97FF\",\"#FECB52\"],\"font\":{\"color\":\"#2a3f5f\"},\"hovermode\":\"closest\",\"hoverlabel\":{\"align\":\"left\"},\"paper_bgcolor\":\"white\",\"plot_bgcolor\":\"#E5ECF6\",\"polar\":{\"bgcolor\":\"#E5ECF6\",\"angularaxis\":{\"gridcolor\":\"white\",\"linecolor\":\"white\",\"ticks\":\"\"},\"radialaxis\":{\"gridcolor\":\"white\",\"linecolor\":\"white\",\"ticks\":\"\"}},\"ternary\":{\"bgcolor\":\"#E5ECF6\",\"aaxis\":{\"gridcolor\":\"white\",\"linecolor\":\"white\",\"ticks\":\"\"},\"baxis\":{\"gridcolor\":\"white\",\"linecolor\":\"white\",\"ticks\":\"\"},\"caxis\":{\"gridcolor\":\"white\",\"linecolor\":\"white\",\"ticks\":\"\"}},\"coloraxis\":{\"colorbar\":{\"outlinewidth\":0,\"ticks\":\"\"}},\"colorscale\":{\"sequential\":[[0.0,\"#0d0887\"],[0.1111111111111111,\"#46039f\"],[0.2222222222222222,\"#7201a8\"],[0.3333333333333333,\"#9c179e\"],[0.4444444444444444,\"#bd3786\"],[0.5555555555555556,\"#d8576b\"],[0.6666666666666666,\"#ed7953\"],[0.7777777777777778,\"#fb9f3a\"],[0.8888888888888888,\"#fdca26\"],[1.0,\"#f0f921\"]],\"sequentialminus\":[[0.0,\"#0d0887\"],[0.1111111111111111,\"#46039f\"],[0.2222222222222222,\"#7201a8\"],[0.3333333333333333,\"#9c179e\"],[0.4444444444444444,\"#bd3786\"],[0.5555555555555556,\"#d8576b\"],[0.6666666666666666,\"#ed7953\"],[0.7777777777777778,\"#fb9f3a\"],[0.8888888888888888,\"#fdca26\"],[1.0,\"#f0f921\"]],\"diverging\":[[0,\"#8e0152\"],[0.1,\"#c51b7d\"],[0.2,\"#de77ae\"],[0.3,\"#f1b6da\"],[0.4,\"#fde0ef\"],[0.5,\"#f7f7f7\"],[0.6,\"#e6f5d0\"],[0.7,\"#b8e186\"],[0.8,\"#7fbc41\"],[0.9,\"#4d9221\"],[1,\"#276419\"]]},\"xaxis\":{\"gridcolor\":\"white\",\"linecolor\":\"white\",\"ticks\":\"\",\"title\":{\"standoff\":15},\"zerolinecolor\":\"white\",\"automargin\":true,\"zerolinewidth\":2},\"yaxis\":{\"gridcolor\":\"white\",\"linecolor\":\"white\",\"ticks\":\"\",\"title\":{\"standoff\":15},\"zerolinecolor\":\"white\",\"automargin\":true,\"zerolinewidth\":2},\"scene\":{\"xaxis\":{\"backgroundcolor\":\"#E5ECF6\",\"gridcolor\":\"white\",\"linecolor\":\"white\",\"showbackground\":true,\"ticks\":\"\",\"zerolinecolor\":\"white\",\"gridwidth\":2},\"yaxis\":{\"backgroundcolor\":\"#E5ECF6\",\"gridcolor\":\"white\",\"linecolor\":\"white\",\"showbackground\":true,\"ticks\":\"\",\"zerolinecolor\":\"white\",\"gridwidth\":2},\"zaxis\":{\"backgroundcolor\":\"#E5ECF6\",\"gridcolor\":\"white\",\"linecolor\":\"white\",\"showbackground\":true,\"ticks\":\"\",\"zerolinecolor\":\"white\",\"gridwidth\":2}},\"shapedefaults\":{\"line\":{\"color\":\"#2a3f5f\"}},\"annotationdefaults\":{\"arrowcolor\":\"#2a3f5f\",\"arrowhead\":0,\"arrowwidth\":1},\"geo\":{\"bgcolor\":\"white\",\"landcolor\":\"#E5ECF6\",\"subunitcolor\":\"white\",\"showland\":true,\"showlakes\":true,\"lakecolor\":\"white\"},\"title\":{\"x\":0.05},\"mapbox\":{\"style\":\"light\"}}},\"xaxis\":{\"anchor\":\"y\",\"domain\":[0.0,1.0]},\"yaxis\":{\"anchor\":\"x\",\"domain\":[0.0,1.0],\"type\":\"log\"},\"legend\":{\"tracegroupgap\":0},\"title\":{\"text\":\"Correlation between Errors\"},\"barmode\":\"relative\"},                        {\"responsive\": true}                    ).then(function(){\n                            \nvar gd = document.getElementById('72a6bed2-58cd-4018-b963-0c71a08829f5');\nvar x = new MutationObserver(function (mutations, observer) {{\n        var display = window.getComputedStyle(gd).display;\n        if (!display || display === 'none') {{\n            console.log([gd, 'removed!']);\n            Plotly.purge(gd);\n            observer.disconnect();\n        }}\n}});\n\n// Listen for the removal of the full notebook cells\nvar notebookContainer = gd.closest('#notebook-container');\nif (notebookContainer) {{\n    x.observe(notebookContainer, {childList: true});\n}}\n\n// Listen for the clearing of the current output cell\nvar outputEl = gd.closest('.output');\nif (outputEl) {{\n    x.observe(outputEl, {childList: true});\n}}\n\n                        })                };                });            </script>        </div>"
     },
     "metadata": {},
     "output_type": "display_data"
    }
   ],
   "source": [
    "# kinetics_df[kinetics_df[\"squared_error\"]>0.01] 29/317 entries\n",
    "# calculating covariance between errors to use only the reasonable ones\n",
    "\n",
    "# permutate all combinations of the errors\n",
    "errorcombs = [[],[],[]]\n",
    "for err1, err2 in itertools.combinations([\"squared_error\", \"p1_variance\", \"p2_variance\", \"p1_p2_covariance\"], 2):\n",
    "    # print(f\"The covariance between {err1} and {err2} is {np.cov(kinetics_df[err1], kinetics_df[err2])}\")\n",
    "    # print(f\"The correlation between {err1} and {err2} is {np.correlate(kinetics_df[err1], kinetics_df[err2])}\")\n",
    "    # print(\"\\n\")\n",
    "    errorcombs[0].append(f\"{err1}/{err2}\")\n",
    "    errorcombs[1].append(np.cov(kinetics_df[err1], kinetics_df[err2]))\n",
    "    errorcombs[2].append(*np.correlate(kinetics_df[err1], kinetics_df[err2]))\n",
    "errorcombs_dc = {\"name\": errorcombs[0], \"covariance\":errorcombs[1], \"correlation\":errorcombs[2]}\n",
    "errorcombs_df = pd.DataFrame(data=errorcombs_dc)\n",
    "errorcombs_df[\"i_correlation\"] = errorcombs_df[\"correlation\"] * (-1)\n",
    "\n",
    "# plot bar plot per a pair of errors with superimposed correlation\n",
    "err_fig = px.bar(title=\"Correlation between Errors\", labels={\"correlation\":\"correlation\"}, log_y=True)\n",
    "err_fig.add_bar(x=errorcombs_df[\"name\"], y=errorcombs_df[\"correlation\"], name=\"positive correlation\", marker_color=\"green\")\n",
    "err_fig.add_bar(x=errorcombs_df[\"name\"], y=errorcombs_df[\"i_correlation\"], name=\"negative correlation\", marker_color=\"crimson\")\n",
    "err_fig.show()"
   ],
   "metadata": {
    "collapsed": false,
    "pycharm": {
     "name": "#%%\n"
    }
   }
  },
  {
   "cell_type": "code",
   "execution_count": 35,
   "outputs": [
    {
     "data": {
      "application/vnd.plotly.v1+json": {
       "data": [
        {
         "alignmentgroup": "True",
         "box": {
          "visible": true
         },
         "hovertemplate": "variable=%{x}<br>value=%{y}<extra></extra>",
         "legendgroup": "",
         "marker": {
          "color": "#636efa"
         },
         "name": "",
         "offsetgroup": "",
         "orientation": "v",
         "points": "all",
         "scalegroup": "True",
         "showlegend": false,
         "x": [
          "squared_error",
          "squared_error",
          "squared_error",
          "squared_error",
          "squared_error",
          "squared_error",
          "squared_error",
          "squared_error",
          "squared_error",
          "squared_error",
          "squared_error",
          "squared_error",
          "squared_error",
          "squared_error",
          "squared_error",
          "squared_error",
          "squared_error",
          "squared_error",
          "squared_error",
          "squared_error",
          "squared_error",
          "squared_error",
          "squared_error",
          "squared_error",
          "squared_error",
          "squared_error",
          "squared_error",
          "squared_error",
          "squared_error",
          "squared_error",
          "squared_error",
          "squared_error",
          "squared_error",
          "squared_error",
          "squared_error",
          "squared_error",
          "squared_error",
          "squared_error",
          "squared_error",
          "squared_error",
          "squared_error",
          "squared_error",
          "squared_error",
          "squared_error",
          "squared_error",
          "squared_error",
          "squared_error",
          "squared_error",
          "squared_error",
          "squared_error",
          "squared_error",
          "squared_error",
          "squared_error",
          "squared_error",
          "squared_error",
          "squared_error",
          "squared_error",
          "squared_error",
          "squared_error",
          "squared_error",
          "squared_error",
          "squared_error",
          "squared_error",
          "squared_error",
          "squared_error",
          "squared_error",
          "squared_error",
          "squared_error",
          "squared_error",
          "squared_error",
          "squared_error",
          "squared_error",
          "squared_error",
          "squared_error",
          "squared_error",
          "squared_error",
          "squared_error",
          "squared_error",
          "squared_error",
          "squared_error",
          "squared_error",
          "squared_error",
          "squared_error",
          "squared_error",
          "squared_error",
          "squared_error",
          "squared_error",
          "squared_error",
          "squared_error",
          "squared_error",
          "squared_error",
          "squared_error",
          "squared_error",
          "squared_error",
          "squared_error",
          "squared_error",
          "squared_error",
          "squared_error",
          "squared_error",
          "squared_error",
          "squared_error",
          "squared_error",
          "squared_error",
          "squared_error",
          "squared_error",
          "squared_error",
          "squared_error",
          "squared_error",
          "squared_error",
          "squared_error",
          "squared_error",
          "squared_error",
          "squared_error",
          "squared_error",
          "squared_error",
          "squared_error",
          "squared_error",
          "squared_error",
          "squared_error",
          "squared_error",
          "squared_error",
          "squared_error",
          "squared_error",
          "squared_error",
          "squared_error",
          "squared_error",
          "squared_error",
          "squared_error",
          "squared_error",
          "squared_error",
          "squared_error",
          "squared_error",
          "squared_error",
          "squared_error",
          "squared_error",
          "squared_error",
          "squared_error",
          "squared_error",
          "squared_error",
          "squared_error",
          "squared_error",
          "squared_error",
          "squared_error",
          "squared_error",
          "squared_error",
          "squared_error",
          "squared_error",
          "squared_error",
          "squared_error",
          "squared_error",
          "squared_error",
          "squared_error",
          "squared_error",
          "squared_error",
          "squared_error",
          "squared_error",
          "squared_error",
          "squared_error",
          "squared_error",
          "squared_error",
          "squared_error",
          "squared_error",
          "squared_error",
          "squared_error",
          "squared_error",
          "squared_error",
          "squared_error",
          "squared_error",
          "squared_error",
          "squared_error",
          "squared_error",
          "squared_error",
          "squared_error",
          "squared_error",
          "squared_error",
          "squared_error",
          "squared_error",
          "squared_error",
          "squared_error",
          "squared_error",
          "squared_error",
          "squared_error",
          "squared_error",
          "squared_error",
          "squared_error",
          "squared_error",
          "squared_error",
          "squared_error",
          "squared_error",
          "squared_error",
          "squared_error",
          "squared_error",
          "squared_error",
          "squared_error",
          "squared_error",
          "squared_error",
          "squared_error",
          "squared_error",
          "squared_error",
          "squared_error",
          "squared_error",
          "squared_error",
          "squared_error",
          "squared_error",
          "squared_error",
          "squared_error",
          "squared_error",
          "squared_error",
          "squared_error",
          "squared_error",
          "squared_error",
          "squared_error",
          "squared_error",
          "squared_error",
          "squared_error",
          "squared_error",
          "squared_error",
          "squared_error",
          "squared_error",
          "squared_error",
          "squared_error",
          "squared_error",
          "squared_error",
          "squared_error",
          "squared_error",
          "squared_error",
          "squared_error",
          "squared_error",
          "squared_error",
          "squared_error",
          "squared_error",
          "squared_error",
          "squared_error",
          "squared_error",
          "squared_error",
          "squared_error",
          "squared_error",
          "squared_error",
          "squared_error",
          "squared_error",
          "squared_error",
          "squared_error",
          "squared_error",
          "squared_error",
          "squared_error",
          "squared_error",
          "squared_error",
          "squared_error",
          "squared_error",
          "squared_error",
          "squared_error",
          "squared_error",
          "squared_error",
          "squared_error",
          "squared_error",
          "squared_error",
          "squared_error",
          "squared_error",
          "squared_error",
          "squared_error",
          "squared_error",
          "squared_error",
          "squared_error",
          "squared_error",
          "squared_error",
          "squared_error",
          "squared_error",
          "squared_error",
          "squared_error",
          "squared_error",
          "squared_error",
          "squared_error",
          "squared_error",
          "squared_error",
          "squared_error",
          "squared_error",
          "squared_error",
          "squared_error",
          "squared_error",
          "squared_error",
          "squared_error",
          "squared_error",
          "squared_error",
          "squared_error",
          "squared_error",
          "squared_error",
          "squared_error",
          "squared_error",
          "squared_error",
          "squared_error",
          "squared_error",
          "squared_error",
          "squared_error",
          "squared_error",
          "squared_error",
          "squared_error",
          "squared_error",
          "squared_error",
          "squared_error",
          "squared_error",
          "squared_error",
          "squared_error",
          "squared_error",
          "squared_error",
          "squared_error",
          "squared_error",
          "squared_error",
          "squared_error",
          "squared_error",
          "squared_error",
          "squared_error",
          "squared_error",
          "squared_error",
          "p1_variance",
          "p1_variance",
          "p1_variance",
          "p1_variance",
          "p1_variance",
          "p1_variance",
          "p1_variance",
          "p1_variance",
          "p1_variance",
          "p1_variance",
          "p1_variance",
          "p1_variance",
          "p1_variance",
          "p1_variance",
          "p1_variance",
          "p1_variance",
          "p1_variance",
          "p1_variance",
          "p1_variance",
          "p1_variance",
          "p1_variance",
          "p1_variance",
          "p1_variance",
          "p1_variance",
          "p1_variance",
          "p1_variance",
          "p1_variance",
          "p1_variance",
          "p1_variance",
          "p1_variance",
          "p1_variance",
          "p1_variance",
          "p1_variance",
          "p1_variance",
          "p1_variance",
          "p1_variance",
          "p1_variance",
          "p1_variance",
          "p1_variance",
          "p1_variance",
          "p1_variance",
          "p1_variance",
          "p1_variance",
          "p1_variance",
          "p1_variance",
          "p1_variance",
          "p1_variance",
          "p1_variance",
          "p1_variance",
          "p1_variance",
          "p1_variance",
          "p1_variance",
          "p1_variance",
          "p1_variance",
          "p1_variance",
          "p1_variance",
          "p1_variance",
          "p1_variance",
          "p1_variance",
          "p1_variance",
          "p1_variance",
          "p1_variance",
          "p1_variance",
          "p1_variance",
          "p1_variance",
          "p1_variance",
          "p1_variance",
          "p1_variance",
          "p1_variance",
          "p1_variance",
          "p1_variance",
          "p1_variance",
          "p1_variance",
          "p1_variance",
          "p1_variance",
          "p1_variance",
          "p1_variance",
          "p1_variance",
          "p1_variance",
          "p1_variance",
          "p1_variance",
          "p1_variance",
          "p1_variance",
          "p1_variance",
          "p1_variance",
          "p1_variance",
          "p1_variance",
          "p1_variance",
          "p1_variance",
          "p1_variance",
          "p1_variance",
          "p1_variance",
          "p1_variance",
          "p1_variance",
          "p1_variance",
          "p1_variance",
          "p1_variance",
          "p1_variance",
          "p1_variance",
          "p1_variance",
          "p1_variance",
          "p1_variance",
          "p1_variance",
          "p1_variance",
          "p1_variance",
          "p1_variance",
          "p1_variance",
          "p1_variance",
          "p1_variance",
          "p1_variance",
          "p1_variance",
          "p1_variance",
          "p1_variance",
          "p1_variance",
          "p1_variance",
          "p1_variance",
          "p1_variance",
          "p1_variance",
          "p1_variance",
          "p1_variance",
          "p1_variance",
          "p1_variance",
          "p1_variance",
          "p1_variance",
          "p1_variance",
          "p1_variance",
          "p1_variance",
          "p1_variance",
          "p1_variance",
          "p1_variance",
          "p1_variance",
          "p1_variance",
          "p1_variance",
          "p1_variance",
          "p1_variance",
          "p1_variance",
          "p1_variance",
          "p1_variance",
          "p1_variance",
          "p1_variance",
          "p1_variance",
          "p1_variance",
          "p1_variance",
          "p1_variance",
          "p1_variance",
          "p1_variance",
          "p1_variance",
          "p1_variance",
          "p1_variance",
          "p1_variance",
          "p1_variance",
          "p1_variance",
          "p1_variance",
          "p1_variance",
          "p1_variance",
          "p1_variance",
          "p1_variance",
          "p1_variance",
          "p1_variance",
          "p1_variance",
          "p1_variance",
          "p1_variance",
          "p1_variance",
          "p1_variance",
          "p1_variance",
          "p1_variance",
          "p1_variance",
          "p1_variance",
          "p1_variance",
          "p1_variance",
          "p1_variance",
          "p1_variance",
          "p1_variance",
          "p1_variance",
          "p1_variance",
          "p1_variance",
          "p1_variance",
          "p1_variance",
          "p1_variance",
          "p1_variance",
          "p1_variance",
          "p1_variance",
          "p1_variance",
          "p1_variance",
          "p1_variance",
          "p1_variance",
          "p1_variance",
          "p1_variance",
          "p1_variance",
          "p1_variance",
          "p1_variance",
          "p1_variance",
          "p1_variance",
          "p1_variance",
          "p1_variance",
          "p1_variance",
          "p1_variance",
          "p1_variance",
          "p1_variance",
          "p1_variance",
          "p1_variance",
          "p1_variance",
          "p1_variance",
          "p1_variance",
          "p1_variance",
          "p1_variance",
          "p1_variance",
          "p1_variance",
          "p1_variance",
          "p1_variance",
          "p1_variance",
          "p1_variance",
          "p1_variance",
          "p1_variance",
          "p1_variance",
          "p1_variance",
          "p1_variance",
          "p1_variance",
          "p1_variance",
          "p1_variance",
          "p1_variance",
          "p1_variance",
          "p1_variance",
          "p1_variance",
          "p1_variance",
          "p1_variance",
          "p1_variance",
          "p1_variance",
          "p1_variance",
          "p1_variance",
          "p1_variance",
          "p1_variance",
          "p1_variance",
          "p1_variance",
          "p1_variance",
          "p1_variance",
          "p1_variance",
          "p1_variance",
          "p1_variance",
          "p1_variance",
          "p1_variance",
          "p1_variance",
          "p1_variance",
          "p1_variance",
          "p1_variance",
          "p1_variance",
          "p1_variance",
          "p1_variance",
          "p1_variance",
          "p1_variance",
          "p1_variance",
          "p1_variance",
          "p1_variance",
          "p1_variance",
          "p1_variance",
          "p1_variance",
          "p1_variance",
          "p1_variance",
          "p1_variance",
          "p1_variance",
          "p1_variance",
          "p1_variance",
          "p1_variance",
          "p1_variance",
          "p1_variance",
          "p1_variance",
          "p1_variance",
          "p1_variance",
          "p1_variance",
          "p1_variance",
          "p1_variance",
          "p1_variance",
          "p1_variance",
          "p1_variance",
          "p1_variance",
          "p1_variance",
          "p1_variance",
          "p1_variance",
          "p1_variance",
          "p1_variance",
          "p1_variance",
          "p1_variance",
          "p1_variance",
          "p1_variance",
          "p1_variance",
          "p1_variance",
          "p1_variance",
          "p1_variance",
          "p1_variance",
          "p1_variance",
          "p1_variance",
          "p1_variance",
          "p1_variance",
          "p1_variance",
          "p1_variance",
          "p1_variance",
          "p1_variance",
          "p1_variance",
          "p1_variance",
          "p1_variance",
          "p1_variance",
          "p1_variance",
          "p1_variance",
          "p1_variance",
          "p1_variance",
          "p1_variance",
          "p1_variance",
          "p1_variance",
          "p1_variance",
          "p1_variance",
          "p1_variance",
          "p1_variance",
          "p1_variance",
          "p2_variance",
          "p2_variance",
          "p2_variance",
          "p2_variance",
          "p2_variance",
          "p2_variance",
          "p2_variance",
          "p2_variance",
          "p2_variance",
          "p2_variance",
          "p2_variance",
          "p2_variance",
          "p2_variance",
          "p2_variance",
          "p2_variance",
          "p2_variance",
          "p2_variance",
          "p2_variance",
          "p2_variance",
          "p2_variance",
          "p2_variance",
          "p2_variance",
          "p2_variance",
          "p2_variance",
          "p2_variance",
          "p2_variance",
          "p2_variance",
          "p2_variance",
          "p2_variance",
          "p2_variance",
          "p2_variance",
          "p2_variance",
          "p2_variance",
          "p2_variance",
          "p2_variance",
          "p2_variance",
          "p2_variance",
          "p2_variance",
          "p2_variance",
          "p2_variance",
          "p2_variance",
          "p2_variance",
          "p2_variance",
          "p2_variance",
          "p2_variance",
          "p2_variance",
          "p2_variance",
          "p2_variance",
          "p2_variance",
          "p2_variance",
          "p2_variance",
          "p2_variance",
          "p2_variance",
          "p2_variance",
          "p2_variance",
          "p2_variance",
          "p2_variance",
          "p2_variance",
          "p2_variance",
          "p2_variance",
          "p2_variance",
          "p2_variance",
          "p2_variance",
          "p2_variance",
          "p2_variance",
          "p2_variance",
          "p2_variance",
          "p2_variance",
          "p2_variance",
          "p2_variance",
          "p2_variance",
          "p2_variance",
          "p2_variance",
          "p2_variance",
          "p2_variance",
          "p2_variance",
          "p2_variance",
          "p2_variance",
          "p2_variance",
          "p2_variance",
          "p2_variance",
          "p2_variance",
          "p2_variance",
          "p2_variance",
          "p2_variance",
          "p2_variance",
          "p2_variance",
          "p2_variance",
          "p2_variance",
          "p2_variance",
          "p2_variance",
          "p2_variance",
          "p2_variance",
          "p2_variance",
          "p2_variance",
          "p2_variance",
          "p2_variance",
          "p2_variance",
          "p2_variance",
          "p2_variance",
          "p2_variance",
          "p2_variance",
          "p2_variance",
          "p2_variance",
          "p2_variance",
          "p2_variance",
          "p2_variance",
          "p2_variance",
          "p2_variance",
          "p2_variance",
          "p2_variance",
          "p2_variance",
          "p2_variance",
          "p2_variance",
          "p2_variance",
          "p2_variance",
          "p2_variance",
          "p2_variance",
          "p2_variance",
          "p2_variance",
          "p2_variance",
          "p2_variance",
          "p2_variance",
          "p2_variance",
          "p2_variance",
          "p2_variance",
          "p2_variance",
          "p2_variance",
          "p2_variance",
          "p2_variance",
          "p2_variance",
          "p2_variance",
          "p2_variance",
          "p2_variance",
          "p2_variance",
          "p2_variance",
          "p2_variance",
          "p2_variance",
          "p2_variance",
          "p2_variance",
          "p2_variance",
          "p2_variance",
          "p2_variance",
          "p2_variance",
          "p2_variance",
          "p2_variance",
          "p2_variance",
          "p2_variance",
          "p2_variance",
          "p2_variance",
          "p2_variance",
          "p2_variance",
          "p2_variance",
          "p2_variance",
          "p2_variance",
          "p2_variance",
          "p2_variance",
          "p2_variance",
          "p2_variance",
          "p2_variance",
          "p2_variance",
          "p2_variance",
          "p2_variance",
          "p2_variance",
          "p2_variance",
          "p2_variance",
          "p2_variance",
          "p2_variance",
          "p2_variance",
          "p2_variance",
          "p2_variance",
          "p2_variance",
          "p2_variance",
          "p2_variance",
          "p2_variance",
          "p2_variance",
          "p2_variance",
          "p2_variance",
          "p2_variance",
          "p2_variance",
          "p2_variance",
          "p2_variance",
          "p2_variance",
          "p2_variance",
          "p2_variance",
          "p2_variance",
          "p2_variance",
          "p2_variance",
          "p2_variance",
          "p2_variance",
          "p2_variance",
          "p2_variance",
          "p2_variance",
          "p2_variance",
          "p2_variance",
          "p2_variance",
          "p2_variance",
          "p2_variance",
          "p2_variance",
          "p2_variance",
          "p2_variance",
          "p2_variance",
          "p2_variance",
          "p2_variance",
          "p2_variance",
          "p2_variance",
          "p2_variance",
          "p2_variance",
          "p2_variance",
          "p2_variance",
          "p2_variance",
          "p2_variance",
          "p2_variance",
          "p2_variance",
          "p2_variance",
          "p2_variance",
          "p2_variance",
          "p2_variance",
          "p2_variance",
          "p2_variance",
          "p2_variance",
          "p2_variance",
          "p2_variance",
          "p2_variance",
          "p2_variance",
          "p2_variance",
          "p2_variance",
          "p2_variance",
          "p2_variance",
          "p2_variance",
          "p2_variance",
          "p2_variance",
          "p2_variance",
          "p2_variance",
          "p2_variance",
          "p2_variance",
          "p2_variance",
          "p2_variance",
          "p2_variance",
          "p2_variance",
          "p2_variance",
          "p2_variance",
          "p2_variance",
          "p2_variance",
          "p2_variance",
          "p2_variance",
          "p2_variance",
          "p2_variance",
          "p2_variance",
          "p2_variance",
          "p2_variance",
          "p2_variance",
          "p2_variance",
          "p2_variance",
          "p2_variance",
          "p2_variance",
          "p2_variance",
          "p2_variance",
          "p2_variance",
          "p2_variance",
          "p2_variance",
          "p2_variance",
          "p2_variance",
          "p2_variance",
          "p2_variance",
          "p2_variance",
          "p2_variance",
          "p2_variance",
          "p2_variance",
          "p2_variance",
          "p2_variance",
          "p2_variance",
          "p2_variance",
          "p2_variance",
          "p2_variance",
          "p2_variance",
          "p2_variance",
          "p2_variance",
          "p2_variance",
          "p2_variance",
          "p2_variance",
          "p2_variance",
          "p2_variance",
          "p2_variance",
          "p2_variance",
          "p2_variance",
          "p2_variance",
          "p2_variance",
          "p2_variance",
          "p2_variance",
          "p2_variance",
          "p2_variance",
          "p2_variance",
          "p2_variance",
          "p2_variance",
          "p2_variance",
          "p2_variance",
          "p2_variance",
          "p2_variance",
          "p2_variance",
          "p2_variance",
          "p2_variance",
          "p2_variance",
          "p2_variance",
          "p2_variance",
          "p2_variance",
          "p2_variance",
          "p2_variance",
          "p2_variance",
          "p2_variance",
          "p2_variance",
          "p2_variance",
          "p2_variance",
          "p1_p2_covariance",
          "p1_p2_covariance",
          "p1_p2_covariance",
          "p1_p2_covariance",
          "p1_p2_covariance",
          "p1_p2_covariance",
          "p1_p2_covariance",
          "p1_p2_covariance",
          "p1_p2_covariance",
          "p1_p2_covariance",
          "p1_p2_covariance",
          "p1_p2_covariance",
          "p1_p2_covariance",
          "p1_p2_covariance",
          "p1_p2_covariance",
          "p1_p2_covariance",
          "p1_p2_covariance",
          "p1_p2_covariance",
          "p1_p2_covariance",
          "p1_p2_covariance",
          "p1_p2_covariance",
          "p1_p2_covariance",
          "p1_p2_covariance",
          "p1_p2_covariance",
          "p1_p2_covariance",
          "p1_p2_covariance",
          "p1_p2_covariance",
          "p1_p2_covariance",
          "p1_p2_covariance",
          "p1_p2_covariance",
          "p1_p2_covariance",
          "p1_p2_covariance",
          "p1_p2_covariance",
          "p1_p2_covariance",
          "p1_p2_covariance",
          "p1_p2_covariance",
          "p1_p2_covariance",
          "p1_p2_covariance",
          "p1_p2_covariance",
          "p1_p2_covariance",
          "p1_p2_covariance",
          "p1_p2_covariance",
          "p1_p2_covariance",
          "p1_p2_covariance",
          "p1_p2_covariance",
          "p1_p2_covariance",
          "p1_p2_covariance",
          "p1_p2_covariance",
          "p1_p2_covariance",
          "p1_p2_covariance",
          "p1_p2_covariance",
          "p1_p2_covariance",
          "p1_p2_covariance",
          "p1_p2_covariance",
          "p1_p2_covariance",
          "p1_p2_covariance",
          "p1_p2_covariance",
          "p1_p2_covariance",
          "p1_p2_covariance",
          "p1_p2_covariance",
          "p1_p2_covariance",
          "p1_p2_covariance",
          "p1_p2_covariance",
          "p1_p2_covariance",
          "p1_p2_covariance",
          "p1_p2_covariance",
          "p1_p2_covariance",
          "p1_p2_covariance",
          "p1_p2_covariance",
          "p1_p2_covariance",
          "p1_p2_covariance",
          "p1_p2_covariance",
          "p1_p2_covariance",
          "p1_p2_covariance",
          "p1_p2_covariance",
          "p1_p2_covariance",
          "p1_p2_covariance",
          "p1_p2_covariance",
          "p1_p2_covariance",
          "p1_p2_covariance",
          "p1_p2_covariance",
          "p1_p2_covariance",
          "p1_p2_covariance",
          "p1_p2_covariance",
          "p1_p2_covariance",
          "p1_p2_covariance",
          "p1_p2_covariance",
          "p1_p2_covariance",
          "p1_p2_covariance",
          "p1_p2_covariance",
          "p1_p2_covariance",
          "p1_p2_covariance",
          "p1_p2_covariance",
          "p1_p2_covariance",
          "p1_p2_covariance",
          "p1_p2_covariance",
          "p1_p2_covariance",
          "p1_p2_covariance",
          "p1_p2_covariance",
          "p1_p2_covariance",
          "p1_p2_covariance",
          "p1_p2_covariance",
          "p1_p2_covariance",
          "p1_p2_covariance",
          "p1_p2_covariance",
          "p1_p2_covariance",
          "p1_p2_covariance",
          "p1_p2_covariance",
          "p1_p2_covariance",
          "p1_p2_covariance",
          "p1_p2_covariance",
          "p1_p2_covariance",
          "p1_p2_covariance",
          "p1_p2_covariance",
          "p1_p2_covariance",
          "p1_p2_covariance",
          "p1_p2_covariance",
          "p1_p2_covariance",
          "p1_p2_covariance",
          "p1_p2_covariance",
          "p1_p2_covariance",
          "p1_p2_covariance",
          "p1_p2_covariance",
          "p1_p2_covariance",
          "p1_p2_covariance",
          "p1_p2_covariance",
          "p1_p2_covariance",
          "p1_p2_covariance",
          "p1_p2_covariance",
          "p1_p2_covariance",
          "p1_p2_covariance",
          "p1_p2_covariance",
          "p1_p2_covariance",
          "p1_p2_covariance",
          "p1_p2_covariance",
          "p1_p2_covariance",
          "p1_p2_covariance",
          "p1_p2_covariance",
          "p1_p2_covariance",
          "p1_p2_covariance",
          "p1_p2_covariance",
          "p1_p2_covariance",
          "p1_p2_covariance",
          "p1_p2_covariance",
          "p1_p2_covariance",
          "p1_p2_covariance",
          "p1_p2_covariance",
          "p1_p2_covariance",
          "p1_p2_covariance",
          "p1_p2_covariance",
          "p1_p2_covariance",
          "p1_p2_covariance",
          "p1_p2_covariance",
          "p1_p2_covariance",
          "p1_p2_covariance",
          "p1_p2_covariance",
          "p1_p2_covariance",
          "p1_p2_covariance",
          "p1_p2_covariance",
          "p1_p2_covariance",
          "p1_p2_covariance",
          "p1_p2_covariance",
          "p1_p2_covariance",
          "p1_p2_covariance",
          "p1_p2_covariance",
          "p1_p2_covariance",
          "p1_p2_covariance",
          "p1_p2_covariance",
          "p1_p2_covariance",
          "p1_p2_covariance",
          "p1_p2_covariance",
          "p1_p2_covariance",
          "p1_p2_covariance",
          "p1_p2_covariance",
          "p1_p2_covariance",
          "p1_p2_covariance",
          "p1_p2_covariance",
          "p1_p2_covariance",
          "p1_p2_covariance",
          "p1_p2_covariance",
          "p1_p2_covariance",
          "p1_p2_covariance",
          "p1_p2_covariance",
          "p1_p2_covariance",
          "p1_p2_covariance",
          "p1_p2_covariance",
          "p1_p2_covariance",
          "p1_p2_covariance",
          "p1_p2_covariance",
          "p1_p2_covariance",
          "p1_p2_covariance",
          "p1_p2_covariance",
          "p1_p2_covariance",
          "p1_p2_covariance",
          "p1_p2_covariance",
          "p1_p2_covariance",
          "p1_p2_covariance",
          "p1_p2_covariance",
          "p1_p2_covariance",
          "p1_p2_covariance",
          "p1_p2_covariance",
          "p1_p2_covariance",
          "p1_p2_covariance",
          "p1_p2_covariance",
          "p1_p2_covariance",
          "p1_p2_covariance",
          "p1_p2_covariance",
          "p1_p2_covariance",
          "p1_p2_covariance",
          "p1_p2_covariance",
          "p1_p2_covariance",
          "p1_p2_covariance",
          "p1_p2_covariance",
          "p1_p2_covariance",
          "p1_p2_covariance",
          "p1_p2_covariance",
          "p1_p2_covariance",
          "p1_p2_covariance",
          "p1_p2_covariance",
          "p1_p2_covariance",
          "p1_p2_covariance",
          "p1_p2_covariance",
          "p1_p2_covariance",
          "p1_p2_covariance",
          "p1_p2_covariance",
          "p1_p2_covariance",
          "p1_p2_covariance",
          "p1_p2_covariance",
          "p1_p2_covariance",
          "p1_p2_covariance",
          "p1_p2_covariance",
          "p1_p2_covariance",
          "p1_p2_covariance",
          "p1_p2_covariance",
          "p1_p2_covariance",
          "p1_p2_covariance",
          "p1_p2_covariance",
          "p1_p2_covariance",
          "p1_p2_covariance",
          "p1_p2_covariance",
          "p1_p2_covariance",
          "p1_p2_covariance",
          "p1_p2_covariance",
          "p1_p2_covariance",
          "p1_p2_covariance",
          "p1_p2_covariance",
          "p1_p2_covariance",
          "p1_p2_covariance",
          "p1_p2_covariance",
          "p1_p2_covariance",
          "p1_p2_covariance",
          "p1_p2_covariance",
          "p1_p2_covariance",
          "p1_p2_covariance",
          "p1_p2_covariance",
          "p1_p2_covariance",
          "p1_p2_covariance",
          "p1_p2_covariance",
          "p1_p2_covariance",
          "p1_p2_covariance",
          "p1_p2_covariance",
          "p1_p2_covariance",
          "p1_p2_covariance",
          "p1_p2_covariance",
          "p1_p2_covariance",
          "p1_p2_covariance",
          "p1_p2_covariance",
          "p1_p2_covariance",
          "p1_p2_covariance",
          "p1_p2_covariance",
          "p1_p2_covariance",
          "p1_p2_covariance",
          "p1_p2_covariance",
          "p1_p2_covariance",
          "p1_p2_covariance",
          "p1_p2_covariance",
          "p1_p2_covariance",
          "p1_p2_covariance",
          "p1_p2_covariance",
          "p1_p2_covariance",
          "p1_p2_covariance",
          "p1_p2_covariance",
          "p1_p2_covariance",
          "p1_p2_covariance",
          "p1_p2_covariance",
          "p1_p2_covariance",
          "p1_p2_covariance",
          "p1_p2_covariance",
          "p1_p2_covariance",
          "p1_p2_covariance",
          "p1_p2_covariance",
          "p1_p2_covariance",
          "p1_p2_covariance",
          "p1_p2_covariance",
          "p1_p2_covariance",
          "p1_p2_covariance",
          "p1_p2_covariance",
          "p1_p2_covariance",
          "p1_p2_covariance",
          "p1_p2_covariance",
          "p1_p2_covariance",
          "p1_p2_covariance",
          "p1_p2_covariance",
          "p1_p2_covariance",
          "p1_p2_covariance",
          "p1_p2_covariance",
          "p1_p2_covariance",
          "p1_p2_covariance",
          "p1_p2_covariance",
          "p1_p2_covariance",
          "p1_p2_covariance",
          "p1_p2_covariance",
          "p1_p2_covariance"
         ],
         "x0": " ",
         "xaxis": "x",
         "y": [
          0.021541635286369185,
          0.0029447552036374496,
          3.708302003232214E-4,
          0.050036051402994663,
          0.07507243769042032,
          0.15042049276331937,
          2.7336209935807226E-4,
          2.788334097362942,
          0.11397303649585845,
          0.1361942677152265,
          0.045638519617897215,
          0.07526497585941119,
          0.039687795129078385,
          0.45136188271679445,
          0.2997935981475162,
          0.26760909481837275,
          0.31851151042059733,
          0.8996367979104779,
          0.3103040315905627,
          1.642485320601344,
          0.12838969407494094,
          4.044090603125607,
          5.95257936640051E-4,
          0.014122918081325913,
          1.7280099656609127,
          0.07933261743904485,
          2.0629841566419356,
          0.006480893015965299,
          0.06176206017091317,
          9.865065637399144E-4,
          0.00966911575783382,
          0.19491451301900134,
          0.013393487439682756,
          8.21020974848941E-5,
          0.014317051946320231,
          0.003235286162639114,
          6.260496616493044E-4,
          0.0031657386920642063,
          0.005601122506275319,
          0.01936289476174113,
          0.006735702321757698,
          0.14109195168456876,
          0.10662959553793414,
          0.01225489590103292,
          0.0033794407124714773,
          0.007615885885591683,
          0.02478712972143604,
          0.06537517677871743,
          0.21280824217707592,
          0.05085693252351009,
          0.4436304127263806,
          0.21660831626014118,
          0.21265445598701913,
          0.0022083514288246788,
          0.16205250390449502,
          0.13681035016541312,
          0.5027550992068675,
          0.09616794780828995,
          1.9927943555281487,
          0.14372278385442083,
          0.9128102289580933,
          0.1498574233177417,
          1.0583527680786105,
          2.1523658967475927,
          1.3166267263751166,
          0.11181494402265929,
          1.1124889114008987,
          4.229823071907033,
          3.541546431501596,
          0.00809482954210448,
          0.017379412389656977,
          0.14240819197288426,
          5.532825584925401E-5,
          0.21457835831589966,
          0.02370234738540977,
          0.02310286700321082,
          0.0033136553399706406,
          0.011951608034590736,
          0.03915179437268903,
          0.07205025715243099,
          0.008212708724985241,
          0.0021507189262071104,
          0.0031046874663666736,
          0.0351953063144098,
          4.4965700529437714E-4,
          0.0014265892450379685,
          0.10714195173746685,
          0.0780329052893131,
          0.009799437641551063,
          0.0018776595561789627,
          0.011653839257697834,
          0.055961326861827324,
          0.0018392071542612687,
          0.43405765594665807,
          0.2868732884351805,
          0.0033249654630625033,
          1.1293257468683804,
          0.43234425471158516,
          0.16950459445388527,
          1.0958856177918175,
          2.496017991894879,
          0.010569812599265961,
          0.28165054153357716,
          2.0163377626949135,
          0.9425589010047749,
          0.5908474039924934,
          2.4267908718459075E-6,
          0.020852040850275,
          3.7090049032115083E-4,
          0.2150864406756108,
          0.004469527338127996,
          0.15396402290572808,
          0.022608549356217644,
          0.01098093794334975,
          0.135505577246916,
          0.053443377394923684,
          1.7390773137863233E-4,
          0.21969095666145974,
          0.3568477737874152,
          0.0663384665780457,
          0.09302956990678081,
          0.007257628750314708,
          3.0084872451346365E-5,
          0.0663156824498627,
          0.5417089141114636,
          0.011595364965855384,
          0.0030422413007289615,
          0.08155205659430262,
          1.7992142187025093E-4,
          0.13955734195466055,
          0.08155731300737282,
          0.35462952833506295,
          2.7310770476761914,
          0.14698998317381962,
          0.6112792580058087,
          2.820750906467258,
          0.10313438102692098,
          3.653866196640791,
          0.48349222699814876,
          4.684388488533109,
          0.012176771587314289,
          0.2706088162091862,
          1.6885307214863183,
          0.03973232346832895,
          0.04720213105243417,
          0.0034663069948243346,
          0.02031400014551513,
          0.00316851991823345,
          0.0792135671943195,
          9.4769029993632E-5,
          0.03110876020204804,
          0.12161312576693735,
          0.010484495577574887,
          0.005307788671240732,
          0.004770120337471493,
          0.005325723615959122,
          0.10661202994174644,
          0.29035858156338695,
          0.3241577218160393,
          0.002029544948375505,
          1.7797490814877893E-4,
          0.13367202599178724,
          0.7429072294749328,
          0.5879165679168085,
          0.1804805229525175,
          0.05993728660973746,
          8.143290147077151E-4,
          0.029760483245581268,
          0.8098430334799676,
          0.069347536619556,
          0.01360382904667939,
          4.336790041634666E-4,
          0.027758222422101807,
          0.0015023837022280105,
          2.749148191954126E-4,
          0.01600731012688348,
          0.0053219217884280965,
          0.02356763848585194,
          0.005160808719691692,
          0.031279738634923636,
          6.072126633115089E-4,
          0.008896785964214584,
          0.004407244113761882,
          0.09188477696713589,
          2.513424343653501,
          0.009314007068731747,
          0.036941981326140357,
          0.002967265493582716,
          0.007819445740663936,
          0.02184987108694314,
          0.47507262399165295,
          0.4107406764223008,
          0.005413709608917648,
          0.24963247866962715,
          0.81716536246011,
          1.0515541614827526,
          0.032772712141073225,
          0.9290364170318421,
          0.20732449508792983,
          0.15744453524686872,
          0.2751386611363987,
          0.3550341622713492,
          0.27648215315162245,
          0.17418624125768578,
          0.6730915786280922,
          0.1682608379155862,
          0.47982377547031513,
          2.5516836528845044,
          1.0054288701983214,
          0.49535538621830405,
          1.0444215124696528,
          0.0015354352972367807,
          0.6345775270845148,
          0.0011964579183645415,
          0.00850211482262997,
          2.572638843306971E-4,
          2.4858128573329905E-5,
          0.002124330916828594,
          8.025683155791723E-4,
          0.005027679823137638,
          0.018088680952238163,
          0.014074662362606828,
          5.666163822896646E-5,
          5.445756997939727E-4,
          0.0034722234901355164,
          0.12941900220010633,
          0.015098474578139391,
          0.022847242552331885,
          0.0253406338936714,
          0.002292438866930674,
          0.6622288129808955,
          4.624514912596434,
          0.044905179836419534,
          0.02833512231534965,
          0.06375182005511557,
          0.1542207191047773,
          0.22583053106167747,
          0.05928301148252064,
          0.41132977742877197,
          0.6525196802942703,
          0.07323336346643633,
          6.768879181515982,
          1.832417682187773,
          0.17822605097730398,
          0.009384789485343588,
          0.08450778156445009,
          0.47996899931377524,
          0.05325637430057806,
          0.15423770757252675,
          0.00630542981392189,
          0.007033058540109735,
          0.004617324936470403,
          0.025692659494051577,
          0.019512560002726494,
          0.01253151794444121,
          0.01074394524664065,
          0.009891599255248226,
          0.005533977220032886,
          0.009935326242085844,
          0.0014759970620903176,
          0.025082784369911165,
          0.011140990905972621,
          0.001434856577905163,
          0.010171357865906925,
          0.07287797316993445,
          0.15242072796838044,
          0.33079223479114117,
          3.233416256479981E-5,
          0.25338989472185297,
          0.016090129821425367,
          0.40958923602331715,
          0.1629332001764398,
          0.12173829058321085,
          1.7237755925223892,
          0.0029247564926963123,
          0.11149052005383424,
          0.4584142760785337,
          0.022397314081686145,
          0.9014225849128533,
          2.6485311137208103,
          4.485034090912079,
          0.005653248175844279,
          0.028162577543897248,
          0.35039536618032685,
          1.2720031912247323,
          2.282829053213778,
          0.3794871174417746,
          0.11950509781695233,
          0.3145067130851431,
          3.5202896892413946,
          2.26083046970694,
          1.5366285513418538,
          3.036747735415511,
          0.014301574115170216,
          0.0014591179776961643,
          0.0013220794881954163,
          0.033069271861421584,
          0.056765126308619226,
          0.006008625776397095,
          0.0021393728456286947,
          0.014468621814956818,
          0.007804128227766552,
          0.016160996657862574,
          0.1629383728775388,
          0.2583609508498817,
          0.005894546152769292,
          0.023685439295286274,
          6.871117758534992E-4,
          0.0014431160648041702,
          5.284618868266709E-5,
          0.1419432022896002,
          0.19940667625681172,
          7.867495423778723,
          1.3095562534633064E-6,
          2.560277155259381E-8,
          1.9502906727629177E-6,
          4.250427098825456E-6,
          1.867054214202798E-6,
          3.5216283751976333E-4,
          1.0084707645179945E-7,
          2.216157478469182E-4,
          8.295010831652619E-8,
          6.906327185942763E-7,
          2.335076479844211E-8,
          4.350321124827377E-6,
          1.9712072990550342E-7,
          0.0010371012923988281,
          2.1057297494961287E-4,
          2.742552779958806E-7,
          0.0019361419225876358,
          0.020226441221356622,
          2.064167457407908E-6,
          0.001618025509861807,
          6.674396588773207E-5,
          4.33674417241882E-4,
          3.023076941870278E-10,
          0.5965155370194344,
          0.015331771309249197,
          2.478005489901129E-6,
          0.004555832995573025,
          2.3961915261517692E-4,
          4.38386432383485E-5,
          5.555232100479528E-8,
          2.948296276583637E-4,
          0.4026712073238572,
          7.658995479014786E-5,
          7.225981072451715E-8,
          6.535523227954542E-8,
          6.84153992893509E-8,
          0.014188626187105743,
          0.002707453032220882,
          1.054043448023268E-4,
          0.0034285244300607813,
          0.005601491236190428,
          0.004900591954792991,
          2.992034370472557,
          1.5072921224864303E-7,
          1.2829473824583013E-6,
          13.591998158149277,
          0.2690667748862509,
          3.3437252077956936E-5,
          1.3535189168733175E-5,
          5.924553738625387E-4,
          1.3907164815012E-4,
          1.419162879922039E-5,
          7.055183221014978E-4,
          1.1195300987418588E-8,
          5.631611554233399E-5,
          3.4725192298789525E-6,
          3.4086216192771585E-4,
          1.0989273047829529E-5,
          2.736950947398451E-5,
          7.057441402700466E-4,
          0.002274013955965911,
          5.9824676408678555E-5,
          0.0034227450852662307,
          0.005535253379729351,
          0.0010997164773600898,
          10.750604299691007,
          4.234435689809221E-4,
          1.439230332887799E-4,
          0.0024394189842685925,
          6.163392085541459E-7,
          4.362811812484986E-4,
          0.019554149132587753,
          7.498700954075502E-7,
          0.1095313147967808,
          0.30793577451943394,
          1.6385759317031621E-7,
          9.871609368443961E-7,
          4.387036308948778E-8,
          5.036681212319442E-6,
          2.53197603316981E-7,
          0.04539133937168568,
          9.184258146959026E-5,
          0.02941973326972029,
          0.0064078950036463725,
          1.433764723953827E-5,
          7.931088961024249E-9,
          1.2277576312279045E-7,
          9.480946462240838E-7,
          4.150156029558185E-9,
          9.202333222394673E-4,
          2.1355680469660044E-7,
          0.04661476562748087,
          2.4801495293851077E-5,
          1.1621252322760853E-5,
          9.95878546891159E-6,
          1.0599945142289074E-7,
          0.022851140405192764,
          1.4968478632033707E-5,
          1.6524159019522383E-4,
          2.507117680010597,
          4.155871201633539E-4,
          2.440671740484508E-5,
          2.6585187852223262E-5,
          2.145077499315492E-4,
          9.083697670346873E-6,
          3.7329344176622936E-4,
          1.1269321586918676E-7,
          8.54629556707619E-7,
          6.572787980778586E-5,
          4.6731088830406504E-4,
          3.82699065436404E-4,
          0.0015286524425029118,
          7.954862597141588E-8,
          0.0016690812548931628,
          0.03901470159810231,
          0.0025810512313895976,
          2.6234947645373177E-4,
          0.07064835235738413,
          0.389616556946469,
          0.00809231560639161,
          3.283206635180239E-6,
          6.782392853157003E-8,
          2.186888532570569E-8,
          1.2388836274398461E-6,
          2.5033496714833174E-5,
          3.4297369029639987E-6,
          4.545021428408945E-8,
          5.634225946330639E-7,
          1.548859917070048E-8,
          1.147207220312733E-6,
          1.8048155424171084E-7,
          3.513218044217105E-5,
          2.0609066218940076E-5,
          1.406775879933912E-7,
          3.518360616449531E-5,
          8.31614085968565E-6,
          9.339311502325681E-8,
          5.887925065452335E-5,
          9.434486931343313E-7,
          1.7035758054396234E-5,
          8.048980734188112E-6,
          6.572464138374326E-7,
          2.1124809513460343E-6,
          2.3599657594573986E-8,
          0.00391019729535453,
          1.4879645838710914E-6,
          0.004339112311750726,
          4.5267569682677116E-5,
          2.7112454422976117E-4,
          1.5603900378492487E-6,
          5.918631268567397E-4,
          2.9963581513379035E-4,
          3.832773247020425E-4,
          5.161974244472919E-4,
          2.8880255353602843E-4,
          0.0016950488119374212,
          0.010446071328552079,
          0.020819520012783557,
          5.5539448399759836E-6,
          1.1474638897695795E-8,
          9.157578396847981E-8,
          1.808166941163824E-6,
          8.185803910242581E-5,
          3.637368246046114E-5,
          4.876930824917394E-6,
          6.488342839950424E-7,
          1.89627868027934E-7,
          8.224677056092365E-7,
          2.716553762800787E-6,
          1.2313819624239017E-7,
          1.80749477562395E-6,
          1.233773385783222E-5,
          4.781771725790718E-6,
          5.433854532397905E-6,
          5.702383784092664E-6,
          4.9890821091355045E-6,
          6.0331987232461676E-5,
          2.2768754571519725E-4,
          1.5844944534081993E-5,
          2.0785776570226323E-6,
          1.7968350249530105E-4,
          9.879329794120972E-6,
          7.4211087333586865E-6,
          0.01661840418130668,
          0.007958170561787459,
          1.4184007503232826E-4,
          1.0199167095346056E-6,
          3.796154798213602E-7,
          8.580483469653556E-8,
          2.882436944224955E-5,
          1.6659854543827127E-4,
          0.011389214238740565,
          1.165443796856981E-7,
          1.2544016355735685E-6,
          7.882974809073344E-7,
          5.597892938174559E-7,
          3.810684783212426E-8,
          5.047692922863519E-7,
          1.9684893160037537E-7,
          1.0849001153840838E-7,
          2.0466416356870882E-7,
          3.908100702652397E-7,
          1.6455187044077946E-7,
          7.133016742680463E-8,
          8.856157710369468E-7,
          4.118146734486722E-6,
          1.7942993160724429E-6,
          0.09237128926663457,
          2.714992617289508E-4,
          0.010984695587041588,
          1.3097328471378506E-5,
          7.700857609651386E-9,
          1.0428476349233139E-5,
          1.0566448509491119E-6,
          5.003617332053834E-7,
          9.62185939046245E-8,
          4.187961831384711E-8,
          3.1342467521525577E-7,
          5.587530659951003E-7,
          4.847001039606379E-6,
          3.3062886731900847E-6,
          2.686208984825629E-6,
          1.7179466762110776E-7,
          9.271708145390198E-7,
          4.1206626156281385E-7,
          0.11055862336693259,
          1.098527409405944E-6,
          1.7712770833643103E-7,
          2.710096417899176E-6,
          2.1137230071303425E-8,
          7.785426964595828E-5,
          1.7965386539562184E-5,
          1.686673610501844E-7,
          7.528565141639085E-7,
          2.904659902659233E-7,
          5.588588653917436E-7,
          1.6704589223742678E-7,
          4.1949901847346283E-7,
          9.249677466446148E-7,
          3.75603468151508E-6,
          5.497738355583781E-7,
          2.554829899072396E-4,
          3.5638282905474573E-6,
          6.201867941800037E-7,
          5.58492715824602E-8,
          3.846381495739511E-8,
          8.015057152943658E-7,
          3.238667972917631E-8,
          2.4307685572575517E-6,
          1.1696002977960878E-4,
          2.3368505630145227E-5,
          1.5655753507297558E-4,
          0.08011288998277354,
          5.3970618505867536E-8,
          2.1372655994125733E-6,
          0.14212968768982673,
          6.638009226615136E-8,
          0.0028174921783658013,
          7.751459043748825E-8,
          6.323629965923033E-5,
          0.023335059013702704,
          1.498281182392689E-7,
          1.8741074806374321E-6,
          1.5967330051069511E-6,
          1.5811948255515012E-5,
          6.877999008338983E-5,
          2.1176139456245273E-5,
          3.69127470723368E-10,
          2.0029805781869425E-6,
          9.581204057681217E-9,
          2.0677866078014273E-5,
          9.025387320483493E-7,
          5.7031244894278396E-5,
          6.364724237254541E-7,
          5.3302736150543754E-8,
          4.83391690074383E-4,
          3.0252575533508717E-4,
          7.007405118778739E-7,
          0.0011331663415318268,
          0.01092292173638991,
          5.068330615783517E-4,
          9.766497805479875E-8,
          1.498853720411369E-8,
          1.7572374134202775E-4,
          1.6817935668853298E-5,
          9.433394603362848E-4,
          1.656979245671859E-5,
          1.3112031332428138E-5,
          0.05761904836406535,
          0.0010207271357051372,
          0.003432254472911679,
          8.084261278236117E-6,
          0.002877051292677274,
          0.026786492488387773,
          1.4045858229874581E-7,
          6.707402155292059E-8,
          3.4078064860925297E-6,
          2.832571670237609E-6,
          7.410150196482645E-7,
          1.2272357343553596E-8,
          0.002180304010666294,
          1.1593988760192836E-7,
          4.731461419267734E-8,
          1.328207952316814E-6,
          0.0011640599860845097,
          1.1740112173331714E-7,
          5.300407372277726E-7,
          1.6905875777295903E-8,
          4.067338619482446E-9,
          1.1489561040650249E-8,
          2.6022304974884153E-7,
          6.427724189021876E-7,
          5.797483663824897E-6,
          4.43887438549905E-4,
          4.092265009681644E-5,
          3.0004786225461335E-5,
          5.744630138592671E-4,
          9.989282648389076E-4,
          0.005104646258978627,
          0.0015584555532200319,
          0.027004140117499423,
          0.06402992544252757,
          0.001168623046725009,
          0.29904930848176403,
          0.0011278251579888848,
          3.6622108193643725E-4,
          0.018192179692582647,
          0.006529336259124888,
          0.0027505328055568933,
          0.01645618844362224,
          0.08277417995823697,
          0.028028969062078156,
          0.039366183924695666,
          0.0035974398360712066,
          0.042829165803845895,
          0.25770480877870927,
          0.06539445565283684,
          0.18742535122138923,
          0.001344850476188937,
          0.06284231369037573,
          9.055106092557104E-4,
          0.0013505163750240393,
          0.0011851871182071596,
          0.0012025037065043888,
          0.14542398893151948,
          0.0016563406134179099,
          4.444590920847474E-5,
          0.038269983749213046,
          0.0013683685269483636,
          0.002764155860660263,
          0.0025283969176255294,
          0.0046957200610173435,
          0.008918787660951166,
          0.004082102072774072,
          0.015280340520040335,
          1.1168443067373126,
          0.976868786003747,
          0.0234704191178427,
          0.6071165270766261,
          0.15146546016258616,
          0.001963137828843051,
          0.002080880721658286,
          0.0034899033163193318,
          0.007067681681495381,
          0.0020582760637111114,
          0.00834275542253273,
          3.35800637987704E-5,
          0.0062603393193197375,
          0.001425423973777533,
          0.028485663296071415,
          0.001115752777980049,
          0.06545508994605127,
          0.006775832290532029,
          0.032352835992366547,
          0.003009718954562931,
          0.04107851381078523,
          0.0746530384864581,
          0.02860829263848989,
          0.7440894146232365,
          0.01739538782825428,
          0.03153923655231869,
          0.0678956636268949,
          0.0029666651151221074,
          0.009025079911529094,
          0.02961188244593296,
          1.2073356456580659E-4,
          0.08171722664706904,
          0.050544187296859236,
          0.07779301270286018,
          0.0012735263748750293,
          0.019409003531226775,
          0.02251440912438115,
          0.07234360029050893,
          0.010378900336830178,
          4.505969141998415E-4,
          0.00593414894030163,
          0.009947601835377904,
          6.599998106326654E-4,
          0.0018726282705711517,
          0.27479659912271465,
          0.05933108609433717,
          1.1687293539870278,
          8.105920261561706E-4,
          0.00972396164988345,
          0.02566474495879075,
          0.0023579086425788653,
          0.0034298119369594506,
          0.002403955829471487,
          7.721837676465528E-4,
          0.12480166588351924,
          0.003485456060319599,
          0.004046027216630147,
          17.5351457686814,
          0.03862569288321537,
          8.85232496546891E-4,
          0.0028194866704455788,
          0.020547842679192723,
          0.005589318595890519,
          0.01096134442313523,
          9.801992407564107E-7,
          0.0017213683343838503,
          2.6523789814853074E-4,
          0.007078253210493048,
          0.0010577694479778953,
          0.00951517521581413,
          0.05212807076829816,
          0.004242482685108468,
          0.038675343188356075,
          0.006517109592571054,
          1.9367201968032878E-4,
          0.07649958798524539,
          0.7335893727199092,
          0.01203246465753998,
          7.822868004552827E-4,
          7.73987071173838E-5,
          1.6873517680615694E-6,
          4.816706627428908E-4,
          0.020698061046278745,
          1.7770239304151916E-4,
          3.835282932025235E-5,
          5.240541803967912E-4,
          3.2594472586361274E-6,
          8.139387422019057E-4,
          5.20610229627781E-4,
          0.003475595698273586,
          0.01780467655426231,
          0.0018107988821852916,
          0.008076634161916327,
          0.018372580140962585,
          0.0013666679878698294,
          0.02518824313388862,
          0.003259550355719708,
          0.05358356657792298,
          0.010332459422587002,
          0.05860609943172307,
          0.01379883509158971,
          8.853983235226179E-4,
          0.00801360960360859,
          4.283194392832427E-4,
          0.005290489302066297,
          2.858374314823621E-4,
          0.00314861001144762,
          1.6971572121222665E-5,
          0.003244296419564294,
          0.004143885456174091,
          0.0011437150602633794,
          9.093840288432252E-4,
          7.752502164307419E-4,
          0.0018739815200674525,
          0.021294045391966564,
          0.04177370527754055,
          0.0023478954685268987,
          2.5295454443411824E-5,
          5.073195923937535E-6,
          0.0014104922062156298,
          0.035585705430187,
          0.00828509387750484,
          0.0024618465820454723,
          6.572167086133351E-4,
          4.3409493654617985E-4,
          4.276026862468053E-4,
          0.005326110855458935,
          5.276292054524057E-4,
          2.2461706660168113E-4,
          1.0124445477394445E-4,
          0.0024141937650178804,
          3.707259722464763E-4,
          3.827483471152033E-5,
          5.82475960937111E-4,
          6.290358047162395E-4,
          0.0014391407098198982,
          2.579184393960654E-4,
          0.0033166316224302115,
          2.79803348724577E-4,
          0.0012973407677559121,
          0.0012534882682958904,
          0.020370735881133372,
          0.09039740075229204,
          0.001600628083938744,
          3.099313027883748E-4,
          7.564570685461528E-5,
          9.03904432189228E-5,
          0.0010098134886928967,
          0.0074701791727347314,
          0.03887927162448904,
          7.904576581140829E-5,
          0.001469679675376756,
          0.011579988533088722,
          0.04117643083158616,
          9.439174079242135E-4,
          0.034398583704431634,
          0.004246613274589424,
          0.0031175392158366384,
          0.006089512619586763,
          0.024247372696811032,
          0.006959155787319702,
          0.01718131220064402,
          0.007175957871731823,
          0.001383264407492667,
          0.013008546879819432,
          0.281610668751815,
          0.014416506494745239,
          0.04238303356822421,
          0.010619429786327338,
          4.759542372199123E-5,
          0.004563369224599093,
          8.16268772602684E-5,
          4.044107461954006E-4,
          6.449847379922523E-5,
          4.471061079279369E-6,
          1.0122319141281083E-4,
          9.82591174216684E-5,
          2.815484946463327E-4,
          6.223701095687875E-4,
          8.0627354518893E-4,
          1.3933815952732516E-5,
          8.182940184438632E-5,
          4.6679676792186846E-4,
          0.07492436245997752,
          0.00213224461927805,
          2.4564524483273716E-4,
          4.638813930673408E-4,
          3.036175085363836E-5,
          0.011915950250245473,
          0.04314497124394519,
          4.3581764237729564E-4,
          3.97592239932079E-4,
          6.422361533766551E-4,
          0.001353807289089656,
          0.003530497369259178,
          4.945557728179846E-4,
          0.003603093862170854,
          0.006045181403307082,
          6.450909769436035E-4,
          0.07210446835225792,
          0.016128009751804045,
          0.022651823608408693,
          0.0035530834602791094,
          0.17351652732863285,
          0.0036716395908620164,
          0.0012113228622259698,
          0.0016810708395687296,
          0.0067960881186327595,
          3.763844675600566E-4,
          0.0016012031254031272,
          0.024200714034642825,
          0.03371823697628858,
          0.004013807172530837,
          0.027462914037928037,
          0.028760698235431818,
          0.002038940877234638,
          0.006891635548512097,
          0.003777713209116648,
          0.016930952318561256,
          1.8605605599514288E-4,
          5.4268911425033945E-5,
          1.2821084413270942E-4,
          0.004295367497557395,
          0.002717949459899475,
          0.004267241521656459,
          1.9941034053191625E-6,
          0.00249877087747069,
          0.0648123822100486,
          0.004446161256763999,
          9.396241114847983E-4,
          0.002704787242931759,
          1.672479538119756,
          4.510798337118764E-5,
          0.004984816544676097,
          0.0095900842490924,
          3.973194775361921E-4,
          0.023782053840662207,
          0.11198631505927292,
          0.04827116683467475,
          0.021850098197499942,
          0.1571340658030027,
          0.007589625725635107,
          0.007869911737074808,
          0.03616526923588656,
          0.0033608273554354244,
          0.0015601312144471417,
          0.14713186743404327,
          0.05174721947139783,
          0.06009081120461917,
          0.00873004331860933,
          0.06584406347870346,
          0.010685610061705368,
          3.757500893358046E-4,
          0.0015196617348525294,
          0.00178345604041709,
          0.0028275383975020765,
          0.001645173220231343,
          0.003778882919280922,
          0.005658165889897096,
          9.423175884259611E-5,
          1.5000501250267623E-4,
          0.0012311980587524822,
          0.2562377933750735,
          1.388649733412992E-4,
          0.07921063075090617,
          1.4657346914341763E-5,
          1.3899361300234017E-5,
          1.9077799934156425E-5,
          0.006376012532701815,
          0.0013345768712509983,
          0.10479727039358383,
          5.279765145973295E-5,
          2.1388867801565866E-6,
          1.700629780637537E-5,
          1.0879308285169615E-4,
          9.323417341898108E-5,
          0.002980209834694036,
          2.7724168298281375E-5,
          0.005383902299683851,
          1.1643640189654256E-4,
          5.8691471087737996E-5,
          1.2197851545129906E-4,
          1.533226922965336E-4,
          1.723039951210042E-5,
          0.009652818226176365,
          0.0026023590160238115,
          4.698813770807544E-5,
          0.012554408231181343,
          0.09104712745372076,
          4.924088288958977E-4,
          0.01772248929385982,
          0.001085241257779599,
          0.00950371414546359,
          1.072265335296764E-5,
          0.4396666815213927,
          0.11922008090648302,
          1.2439032025396063E-4,
          0.03760825604039332,
          0.0010365462831633443,
          5.400300917981869E-4,
          1.7758408073761944E-5,
          0.0013249281365036673,
          0.5386695507871898,
          7.920638294365506E-4,
          3.974406262914542E-6,
          1.0266237172066507E-4,
          2.0841065996995913E-5,
          0.013940928003204109,
          0.005823879921748701,
          0.00156538248589045,
          0.012307732785085988,
          0.010644108919152491,
          0.019257020113332798,
          4.069310035302227,
          8.125574088668605E-4,
          3.842550861077039E-4,
          6.39475108809599,
          0.449391276483965,
          5.680168918712795E-4,
          3.68652347699681E-4,
          0.0031989910907170172,
          0.002196224731484114,
          3.7554915733371044E-4,
          0.0053940896732790206,
          1.2445441141430127E-6,
          0.0013135100332065557,
          1.5216987850327513E-4,
          0.006912370582900848,
          2.4425191403972647E-4,
          0.002841304334798578,
          0.004863172364651792,
          0.019066319397010315,
          9.406201994889101E-4,
          0.026363078320267495,
          0.04518756831535578,
          0.012452329998710748,
          6.296121089462019,
          0.006015673322239331,
          0.004650089266440699,
          0.02856224962855005,
          9.406750926397659E-5,
          0.00441548758331593,
          0.053558399300627155,
          2.1165656936536563E-5,
          0.2105894219485887,
          0.27771831406235004,
          2.3698946388605617E-4,
          7.85352229495015E-5,
          5.907935210148873E-5,
          7.433678509228628E-4,
          2.7346403959198167E-4,
          0.04831680689083475,
          4.5270350243429625E-4,
          0.029412777608737246,
          0.017770221450016336,
          2.1644346218110556E-4,
          7.134730027483168E-6,
          3.230482076299155E-4,
          5.072255189954723E-4,
          9.540585715145462E-5,
          0.0019224488087034536,
          9.843875761206408E-5,
          0.07699258300805048,
          5.379336576054165E-4,
          4.3406538695144357E-4,
          3.376758313210877E-4,
          1.972264498124566E-5,
          0.11881950820700339,
          4.985238159109642E-4,
          0.0018156740392437853,
          14.759301348439758,
          0.008843648854818214,
          3.266373623269641E-4,
          6.032680050676926E-4,
          0.00462960960212258,
          4.786653510918756E-4,
          0.004488658858418795,
          7.395680455298205E-7,
          8.388004573035825E-5,
          2.9385532746760315E-4,
          0.00404231240769099,
          0.001416036312233453,
          0.008484320265913328,
          1.2673135507587397E-4,
          0.005922561252084833,
          0.08646280751565062,
          0.009127422178302258,
          5.017582338938649E-4,
          0.16363453098509753,
          1.1900443434766168,
          0.02196262570356843,
          1.106266573979284E-4,
          4.803221255133901E-6,
          4.2580024458643325E-7,
          5.276844915347306E-5,
          0.001570086995702638,
          5.4679440286299054E-5,
          2.81776372606412E-6,
          3.603714507580255E-5,
          4.937758994725243E-7,
          6.455203914989028E-5,
          1.8792319370788386E-5,
          7.702439000565431E-4,
          0.0012735634493069642,
          2.6908309365427204E-5,
          0.0011669486461870996,
          7.761521241598128E-4,
          1.8901371702873885E-5,
          0.0026225005350539402,
          1.0569016726690021E-4,
          0.0018873738731643788,
          6.395459794045899E-4,
          3.8378513414046494E-4,
          3.065539626654471E-4,
          6.981977650475965E-6,
          0.012458526193527806,
          5.593095845725685E-5,
          0.010664444889177695,
          2.5305955610940953E-4,
          0.002054293284699237,
          1.1449022064980278E-5,
          0.00308309882853526,
          0.002476919971394768,
          0.0014733904902389328,
          0.001524903812006223,
          0.0010530326536291029,
          0.003967051148484231,
          0.033193618903343484,
          0.06563458660339037,
          2.461947315300016E-4,
          1.0992952709680212E-6,
          1.5108534890260437E-6,
          1.0739811981850377E-4,
          0.0037557858606070294,
          0.0012056686963724172,
          2.3720588566018152E-4,
          4.4013423811067546E-5,
          2.0023773073013297E-5,
          4.061875762443913E-5,
          2.4207866673908518E-4,
          1.5232796385293002E-5,
          4.442170846700029E-5,
          7.864286734223214E-5,
          2.3749325794386735E-4,
          9.97963431330329E-5,
          3.28691309321313E-5,
          1.1941669269940272E-4,
          4.3339732497522644E-4,
          0.0012734184417185765,
          1.4209615209920192E-4,
          1.824773775278393E-4,
          4.990714796054762E-4,
          2.514412265170043E-4,
          2.1425273837550213E-4,
          0.04095272164968832,
          0.059632252250007484,
          0.0010600496537457697,
          3.8673985565090226E-5,
          1.1809197327672597E-5,
          5.878326448226328E-6,
          3.786659779112531E-4,
          0.002472119208880672,
          0.04682580735596344,
          6.540368584825656E-6,
          8.869656843376564E-5,
          1.6135851195593032E-4,
          2.1895769323523268E-4,
          9.877605711093724E-6,
          1.9306890843529318E-4,
          4.887602500205781E-5,
          2.8888917429065255E-5,
          5.670668861570833E-5,
          1.7054894402169303E-4,
          5.17150200245232E-5,
          4.7934353100748245E-5,
          1.4454370962815698E-4,
          1.6385313330942631E-4,
          3.091319567691942E-4,
          0.35891747335767965,
          0.004380702197546693,
          0.04801179776728515,
          7.983929358528735E-4,
          1.185427936439233E-6,
          4.698777425495074E-4,
          2.0610133628970615E-5,
          3.122594328124384E-5,
          5.516960886399635E-6,
          9.607925201664629E-7,
          1.242382664386083E-5,
          1.6437326777370197E-5,
          8.202963350718861E-5,
          1.0029792653145757E-4,
          1.0291817888991748E-4,
          3.4397113837928328E-6,
          1.9350492423993128E-5,
          3.055209703539802E-5,
          0.20259275317218922,
          1.0621189047983295E-4,
          1.3707075760929247E-5,
          7.818125927643594E-5,
          1.6786377929339332E-6,
          0.0021250482766644067,
          0.0017484237875620395,
          1.7378693614953896E-5,
          3.744531390122644E-5,
          2.7524943156814698E-5,
          5.55017083744525E-5,
          3.8483230540361694E-5,
          3.0207885804314458E-5,
          1.116373615912431E-4,
          3.1307718521986195E-4,
          3.91053071172838E-5,
          0.009343454425804892,
          4.572002650808199E-4,
          2.3892623206158456E-4,
          2.9342860130776334E-5,
          1.1517998991429291E-4,
          1.0170430401282483E-4,
          9.626287974223734E-6,
          1.367027915214876E-4,
          0.001983749086065131,
          2.0847428015644958E-4,
          0.0011141828803159083,
          0.09801617241549694,
          8.427831818105225E-5,
          2.0472497954960163E-4,
          0.13907700428271313,
          9.149638892691516E-5,
          0.005335120300237816,
          4.871516614471971E-5,
          0.0010876861793446154,
          0.04424499694781057,
          1.1224458785106117E-5,
          2.2394995587733595E-5,
          3.1613423819015246E-5,
          5.757996897025463E-4,
          9.587221754626653E-4,
          6.588935558916845E-4,
          5.738338988790258E-8,
          1.4918812456698576E-4,
          3.7934516983867974E-5,
          6.628093098493357E-4,
          6.046694185862729E-5,
          8.704998948097689E-4,
          0.0013049126468594246,
          3.325637505421811E-6,
          0.003451896764355052,
          0.0037798600101744823,
          3.636772814934313E-5,
          0.011531447435463929,
          0.07777196178567657,
          0.010910668646655186,
          9.965559414771965E-5,
          7.163613168538101E-5,
          0.002559822905997711,
          7.800666005509832E-4,
          0.012949181305795284,
          5.164523619766192E-4,
          3.1542700830289864E-4,
          0.2049317690145067,
          0.016096288637365064,
          0.031908446899078256,
          5.501457171715295E-4,
          0.03056217617016077,
          0.03766047623004182,
          1.597670561284859E-5,
          2.2064000789978652E-5,
          1.7186507863086313E-4,
          1.9616230256265442E-4,
          7.705723741706735E-5,
          1.3936305126299103E-5,
          0.007817036899917747,
          7.048233484836932E-6,
          5.283467442582288E-6,
          8.530150135817697E-5,
          0.03838854632783254,
          8.681560279783093E-6,
          4.371795335142256E-4,
          1.0658604928294266E-6,
          4.7115423368092024E-7,
          1.0328853705152056E-6,
          7.719539849146813E-5,
          5.8764335593328966E-5,
          0.0012569657926314738
         ],
         "y0": " ",
         "yaxis": "y",
         "type": "violin"
        }
       ],
       "layout": {
        "template": {
         "data": {
          "histogram2dcontour": [
           {
            "type": "histogram2dcontour",
            "colorbar": {
             "outlinewidth": 0,
             "ticks": ""
            },
            "colorscale": [
             [
              0.0,
              "#0d0887"
             ],
             [
              0.1111111111111111,
              "#46039f"
             ],
             [
              0.2222222222222222,
              "#7201a8"
             ],
             [
              0.3333333333333333,
              "#9c179e"
             ],
             [
              0.4444444444444444,
              "#bd3786"
             ],
             [
              0.5555555555555556,
              "#d8576b"
             ],
             [
              0.6666666666666666,
              "#ed7953"
             ],
             [
              0.7777777777777778,
              "#fb9f3a"
             ],
             [
              0.8888888888888888,
              "#fdca26"
             ],
             [
              1.0,
              "#f0f921"
             ]
            ]
           }
          ],
          "choropleth": [
           {
            "type": "choropleth",
            "colorbar": {
             "outlinewidth": 0,
             "ticks": ""
            }
           }
          ],
          "histogram2d": [
           {
            "type": "histogram2d",
            "colorbar": {
             "outlinewidth": 0,
             "ticks": ""
            },
            "colorscale": [
             [
              0.0,
              "#0d0887"
             ],
             [
              0.1111111111111111,
              "#46039f"
             ],
             [
              0.2222222222222222,
              "#7201a8"
             ],
             [
              0.3333333333333333,
              "#9c179e"
             ],
             [
              0.4444444444444444,
              "#bd3786"
             ],
             [
              0.5555555555555556,
              "#d8576b"
             ],
             [
              0.6666666666666666,
              "#ed7953"
             ],
             [
              0.7777777777777778,
              "#fb9f3a"
             ],
             [
              0.8888888888888888,
              "#fdca26"
             ],
             [
              1.0,
              "#f0f921"
             ]
            ]
           }
          ],
          "heatmap": [
           {
            "type": "heatmap",
            "colorbar": {
             "outlinewidth": 0,
             "ticks": ""
            },
            "colorscale": [
             [
              0.0,
              "#0d0887"
             ],
             [
              0.1111111111111111,
              "#46039f"
             ],
             [
              0.2222222222222222,
              "#7201a8"
             ],
             [
              0.3333333333333333,
              "#9c179e"
             ],
             [
              0.4444444444444444,
              "#bd3786"
             ],
             [
              0.5555555555555556,
              "#d8576b"
             ],
             [
              0.6666666666666666,
              "#ed7953"
             ],
             [
              0.7777777777777778,
              "#fb9f3a"
             ],
             [
              0.8888888888888888,
              "#fdca26"
             ],
             [
              1.0,
              "#f0f921"
             ]
            ]
           }
          ],
          "heatmapgl": [
           {
            "type": "heatmapgl",
            "colorbar": {
             "outlinewidth": 0,
             "ticks": ""
            },
            "colorscale": [
             [
              0.0,
              "#0d0887"
             ],
             [
              0.1111111111111111,
              "#46039f"
             ],
             [
              0.2222222222222222,
              "#7201a8"
             ],
             [
              0.3333333333333333,
              "#9c179e"
             ],
             [
              0.4444444444444444,
              "#bd3786"
             ],
             [
              0.5555555555555556,
              "#d8576b"
             ],
             [
              0.6666666666666666,
              "#ed7953"
             ],
             [
              0.7777777777777778,
              "#fb9f3a"
             ],
             [
              0.8888888888888888,
              "#fdca26"
             ],
             [
              1.0,
              "#f0f921"
             ]
            ]
           }
          ],
          "contourcarpet": [
           {
            "type": "contourcarpet",
            "colorbar": {
             "outlinewidth": 0,
             "ticks": ""
            }
           }
          ],
          "contour": [
           {
            "type": "contour",
            "colorbar": {
             "outlinewidth": 0,
             "ticks": ""
            },
            "colorscale": [
             [
              0.0,
              "#0d0887"
             ],
             [
              0.1111111111111111,
              "#46039f"
             ],
             [
              0.2222222222222222,
              "#7201a8"
             ],
             [
              0.3333333333333333,
              "#9c179e"
             ],
             [
              0.4444444444444444,
              "#bd3786"
             ],
             [
              0.5555555555555556,
              "#d8576b"
             ],
             [
              0.6666666666666666,
              "#ed7953"
             ],
             [
              0.7777777777777778,
              "#fb9f3a"
             ],
             [
              0.8888888888888888,
              "#fdca26"
             ],
             [
              1.0,
              "#f0f921"
             ]
            ]
           }
          ],
          "surface": [
           {
            "type": "surface",
            "colorbar": {
             "outlinewidth": 0,
             "ticks": ""
            },
            "colorscale": [
             [
              0.0,
              "#0d0887"
             ],
             [
              0.1111111111111111,
              "#46039f"
             ],
             [
              0.2222222222222222,
              "#7201a8"
             ],
             [
              0.3333333333333333,
              "#9c179e"
             ],
             [
              0.4444444444444444,
              "#bd3786"
             ],
             [
              0.5555555555555556,
              "#d8576b"
             ],
             [
              0.6666666666666666,
              "#ed7953"
             ],
             [
              0.7777777777777778,
              "#fb9f3a"
             ],
             [
              0.8888888888888888,
              "#fdca26"
             ],
             [
              1.0,
              "#f0f921"
             ]
            ]
           }
          ],
          "mesh3d": [
           {
            "type": "mesh3d",
            "colorbar": {
             "outlinewidth": 0,
             "ticks": ""
            }
           }
          ],
          "scatter": [
           {
            "fillpattern": {
             "fillmode": "overlay",
             "size": 10,
             "solidity": 0.2
            },
            "type": "scatter"
           }
          ],
          "parcoords": [
           {
            "type": "parcoords",
            "line": {
             "colorbar": {
              "outlinewidth": 0,
              "ticks": ""
             }
            }
           }
          ],
          "scatterpolargl": [
           {
            "type": "scatterpolargl",
            "marker": {
             "colorbar": {
              "outlinewidth": 0,
              "ticks": ""
             }
            }
           }
          ],
          "bar": [
           {
            "error_x": {
             "color": "#2a3f5f"
            },
            "error_y": {
             "color": "#2a3f5f"
            },
            "marker": {
             "line": {
              "color": "#E5ECF6",
              "width": 0.5
             },
             "pattern": {
              "fillmode": "overlay",
              "size": 10,
              "solidity": 0.2
             }
            },
            "type": "bar"
           }
          ],
          "scattergeo": [
           {
            "type": "scattergeo",
            "marker": {
             "colorbar": {
              "outlinewidth": 0,
              "ticks": ""
             }
            }
           }
          ],
          "scatterpolar": [
           {
            "type": "scatterpolar",
            "marker": {
             "colorbar": {
              "outlinewidth": 0,
              "ticks": ""
             }
            }
           }
          ],
          "histogram": [
           {
            "marker": {
             "pattern": {
              "fillmode": "overlay",
              "size": 10,
              "solidity": 0.2
             }
            },
            "type": "histogram"
           }
          ],
          "scattergl": [
           {
            "type": "scattergl",
            "marker": {
             "colorbar": {
              "outlinewidth": 0,
              "ticks": ""
             }
            }
           }
          ],
          "scatter3d": [
           {
            "type": "scatter3d",
            "line": {
             "colorbar": {
              "outlinewidth": 0,
              "ticks": ""
             }
            },
            "marker": {
             "colorbar": {
              "outlinewidth": 0,
              "ticks": ""
             }
            }
           }
          ],
          "scattermapbox": [
           {
            "type": "scattermapbox",
            "marker": {
             "colorbar": {
              "outlinewidth": 0,
              "ticks": ""
             }
            }
           }
          ],
          "scatterternary": [
           {
            "type": "scatterternary",
            "marker": {
             "colorbar": {
              "outlinewidth": 0,
              "ticks": ""
             }
            }
           }
          ],
          "scattercarpet": [
           {
            "type": "scattercarpet",
            "marker": {
             "colorbar": {
              "outlinewidth": 0,
              "ticks": ""
             }
            }
           }
          ],
          "carpet": [
           {
            "aaxis": {
             "endlinecolor": "#2a3f5f",
             "gridcolor": "white",
             "linecolor": "white",
             "minorgridcolor": "white",
             "startlinecolor": "#2a3f5f"
            },
            "baxis": {
             "endlinecolor": "#2a3f5f",
             "gridcolor": "white",
             "linecolor": "white",
             "minorgridcolor": "white",
             "startlinecolor": "#2a3f5f"
            },
            "type": "carpet"
           }
          ],
          "table": [
           {
            "cells": {
             "fill": {
              "color": "#EBF0F8"
             },
             "line": {
              "color": "white"
             }
            },
            "header": {
             "fill": {
              "color": "#C8D4E3"
             },
             "line": {
              "color": "white"
             }
            },
            "type": "table"
           }
          ],
          "barpolar": [
           {
            "marker": {
             "line": {
              "color": "#E5ECF6",
              "width": 0.5
             },
             "pattern": {
              "fillmode": "overlay",
              "size": 10,
              "solidity": 0.2
             }
            },
            "type": "barpolar"
           }
          ],
          "pie": [
           {
            "automargin": true,
            "type": "pie"
           }
          ]
         },
         "layout": {
          "autotypenumbers": "strict",
          "colorway": [
           "#636efa",
           "#EF553B",
           "#00cc96",
           "#ab63fa",
           "#FFA15A",
           "#19d3f3",
           "#FF6692",
           "#B6E880",
           "#FF97FF",
           "#FECB52"
          ],
          "font": {
           "color": "#2a3f5f"
          },
          "hovermode": "closest",
          "hoverlabel": {
           "align": "left"
          },
          "paper_bgcolor": "white",
          "plot_bgcolor": "#E5ECF6",
          "polar": {
           "bgcolor": "#E5ECF6",
           "angularaxis": {
            "gridcolor": "white",
            "linecolor": "white",
            "ticks": ""
           },
           "radialaxis": {
            "gridcolor": "white",
            "linecolor": "white",
            "ticks": ""
           }
          },
          "ternary": {
           "bgcolor": "#E5ECF6",
           "aaxis": {
            "gridcolor": "white",
            "linecolor": "white",
            "ticks": ""
           },
           "baxis": {
            "gridcolor": "white",
            "linecolor": "white",
            "ticks": ""
           },
           "caxis": {
            "gridcolor": "white",
            "linecolor": "white",
            "ticks": ""
           }
          },
          "coloraxis": {
           "colorbar": {
            "outlinewidth": 0,
            "ticks": ""
           }
          },
          "colorscale": {
           "sequential": [
            [
             0.0,
             "#0d0887"
            ],
            [
             0.1111111111111111,
             "#46039f"
            ],
            [
             0.2222222222222222,
             "#7201a8"
            ],
            [
             0.3333333333333333,
             "#9c179e"
            ],
            [
             0.4444444444444444,
             "#bd3786"
            ],
            [
             0.5555555555555556,
             "#d8576b"
            ],
            [
             0.6666666666666666,
             "#ed7953"
            ],
            [
             0.7777777777777778,
             "#fb9f3a"
            ],
            [
             0.8888888888888888,
             "#fdca26"
            ],
            [
             1.0,
             "#f0f921"
            ]
           ],
           "sequentialminus": [
            [
             0.0,
             "#0d0887"
            ],
            [
             0.1111111111111111,
             "#46039f"
            ],
            [
             0.2222222222222222,
             "#7201a8"
            ],
            [
             0.3333333333333333,
             "#9c179e"
            ],
            [
             0.4444444444444444,
             "#bd3786"
            ],
            [
             0.5555555555555556,
             "#d8576b"
            ],
            [
             0.6666666666666666,
             "#ed7953"
            ],
            [
             0.7777777777777778,
             "#fb9f3a"
            ],
            [
             0.8888888888888888,
             "#fdca26"
            ],
            [
             1.0,
             "#f0f921"
            ]
           ],
           "diverging": [
            [
             0,
             "#8e0152"
            ],
            [
             0.1,
             "#c51b7d"
            ],
            [
             0.2,
             "#de77ae"
            ],
            [
             0.3,
             "#f1b6da"
            ],
            [
             0.4,
             "#fde0ef"
            ],
            [
             0.5,
             "#f7f7f7"
            ],
            [
             0.6,
             "#e6f5d0"
            ],
            [
             0.7,
             "#b8e186"
            ],
            [
             0.8,
             "#7fbc41"
            ],
            [
             0.9,
             "#4d9221"
            ],
            [
             1,
             "#276419"
            ]
           ]
          },
          "xaxis": {
           "gridcolor": "white",
           "linecolor": "white",
           "ticks": "",
           "title": {
            "standoff": 15
           },
           "zerolinecolor": "white",
           "automargin": true,
           "zerolinewidth": 2
          },
          "yaxis": {
           "gridcolor": "white",
           "linecolor": "white",
           "ticks": "",
           "title": {
            "standoff": 15
           },
           "zerolinecolor": "white",
           "automargin": true,
           "zerolinewidth": 2
          },
          "scene": {
           "xaxis": {
            "backgroundcolor": "#E5ECF6",
            "gridcolor": "white",
            "linecolor": "white",
            "showbackground": true,
            "ticks": "",
            "zerolinecolor": "white",
            "gridwidth": 2
           },
           "yaxis": {
            "backgroundcolor": "#E5ECF6",
            "gridcolor": "white",
            "linecolor": "white",
            "showbackground": true,
            "ticks": "",
            "zerolinecolor": "white",
            "gridwidth": 2
           },
           "zaxis": {
            "backgroundcolor": "#E5ECF6",
            "gridcolor": "white",
            "linecolor": "white",
            "showbackground": true,
            "ticks": "",
            "zerolinecolor": "white",
            "gridwidth": 2
           }
          },
          "shapedefaults": {
           "line": {
            "color": "#2a3f5f"
           }
          },
          "annotationdefaults": {
           "arrowcolor": "#2a3f5f",
           "arrowhead": 0,
           "arrowwidth": 1
          },
          "geo": {
           "bgcolor": "white",
           "landcolor": "#E5ECF6",
           "subunitcolor": "white",
           "showland": true,
           "showlakes": true,
           "lakecolor": "white"
          },
          "title": {
           "x": 0.05
          },
          "mapbox": {
           "style": "light"
          }
         }
        },
        "xaxis": {
         "anchor": "y",
         "domain": [
          0.0,
          1.0
         ],
         "title": {
          "text": "Error type"
         }
        },
        "yaxis": {
         "anchor": "x",
         "domain": [
          0.0,
          1.0
         ],
         "title": {
          "text": "log(value)"
         },
         "type": "log",
         "range": [
          -22,
          3
         ]
        },
        "legend": {
         "tracegroupgap": 0
        },
        "margin": {
         "t": 60
        },
        "violinmode": "group",
        "title": {
         "text": "Errors normalize by σ"
        }
       },
       "config": {
        "plotlyServerURL": "https://plot.ly"
       }
      },
      "text/html": "<div>                            <div id=\"abe2ac32-68c6-44ba-896b-c1ed30c1912a\" class=\"plotly-graph-div\" style=\"height:525px; width:100%;\"></div>            <script type=\"text/javascript\">                require([\"plotly\"], function(Plotly) {                    window.PLOTLYENV=window.PLOTLYENV || {};                                    if (document.getElementById(\"abe2ac32-68c6-44ba-896b-c1ed30c1912a\")) {                    Plotly.newPlot(                        \"abe2ac32-68c6-44ba-896b-c1ed30c1912a\",                        [{\"alignmentgroup\":\"True\",\"box\":{\"visible\":true},\"hovertemplate\":\"variable=%{x}\\u003cbr\\u003evalue=%{y}\\u003cextra\\u003e\\u003c\\u002fextra\\u003e\",\"legendgroup\":\"\",\"marker\":{\"color\":\"#636efa\"},\"name\":\"\",\"offsetgroup\":\"\",\"orientation\":\"v\",\"points\":\"all\",\"scalegroup\":\"True\",\"showlegend\":false,\"x\":[\"squared_error\",\"squared_error\",\"squared_error\",\"squared_error\",\"squared_error\",\"squared_error\",\"squared_error\",\"squared_error\",\"squared_error\",\"squared_error\",\"squared_error\",\"squared_error\",\"squared_error\",\"squared_error\",\"squared_error\",\"squared_error\",\"squared_error\",\"squared_error\",\"squared_error\",\"squared_error\",\"squared_error\",\"squared_error\",\"squared_error\",\"squared_error\",\"squared_error\",\"squared_error\",\"squared_error\",\"squared_error\",\"squared_error\",\"squared_error\",\"squared_error\",\"squared_error\",\"squared_error\",\"squared_error\",\"squared_error\",\"squared_error\",\"squared_error\",\"squared_error\",\"squared_error\",\"squared_error\",\"squared_error\",\"squared_error\",\"squared_error\",\"squared_error\",\"squared_error\",\"squared_error\",\"squared_error\",\"squared_error\",\"squared_error\",\"squared_error\",\"squared_error\",\"squared_error\",\"squared_error\",\"squared_error\",\"squared_error\",\"squared_error\",\"squared_error\",\"squared_error\",\"squared_error\",\"squared_error\",\"squared_error\",\"squared_error\",\"squared_error\",\"squared_error\",\"squared_error\",\"squared_error\",\"squared_error\",\"squared_error\",\"squared_error\",\"squared_error\",\"squared_error\",\"squared_error\",\"squared_error\",\"squared_error\",\"squared_error\",\"squared_error\",\"squared_error\",\"squared_error\",\"squared_error\",\"squared_error\",\"squared_error\",\"squared_error\",\"squared_error\",\"squared_error\",\"squared_error\",\"squared_error\",\"squared_error\",\"squared_error\",\"squared_error\",\"squared_error\",\"squared_error\",\"squared_error\",\"squared_error\",\"squared_error\",\"squared_error\",\"squared_error\",\"squared_error\",\"squared_error\",\"squared_error\",\"squared_error\",\"squared_error\",\"squared_error\",\"squared_error\",\"squared_error\",\"squared_error\",\"squared_error\",\"squared_error\",\"squared_error\",\"squared_error\",\"squared_error\",\"squared_error\",\"squared_error\",\"squared_error\",\"squared_error\",\"squared_error\",\"squared_error\",\"squared_error\",\"squared_error\",\"squared_error\",\"squared_error\",\"squared_error\",\"squared_error\",\"squared_error\",\"squared_error\",\"squared_error\",\"squared_error\",\"squared_error\",\"squared_error\",\"squared_error\",\"squared_error\",\"squared_error\",\"squared_error\",\"squared_error\",\"squared_error\",\"squared_error\",\"squared_error\",\"squared_error\",\"squared_error\",\"squared_error\",\"squared_error\",\"squared_error\",\"squared_error\",\"squared_error\",\"squared_error\",\"squared_error\",\"squared_error\",\"squared_error\",\"squared_error\",\"squared_error\",\"squared_error\",\"squared_error\",\"squared_error\",\"squared_error\",\"squared_error\",\"squared_error\",\"squared_error\",\"squared_error\",\"squared_error\",\"squared_error\",\"squared_error\",\"squared_error\",\"squared_error\",\"squared_error\",\"squared_error\",\"squared_error\",\"squared_error\",\"squared_error\",\"squared_error\",\"squared_error\",\"squared_error\",\"squared_error\",\"squared_error\",\"squared_error\",\"squared_error\",\"squared_error\",\"squared_error\",\"squared_error\",\"squared_error\",\"squared_error\",\"squared_error\",\"squared_error\",\"squared_error\",\"squared_error\",\"squared_error\",\"squared_error\",\"squared_error\",\"squared_error\",\"squared_error\",\"squared_error\",\"squared_error\",\"squared_error\",\"squared_error\",\"squared_error\",\"squared_error\",\"squared_error\",\"squared_error\",\"squared_error\",\"squared_error\",\"squared_error\",\"squared_error\",\"squared_error\",\"squared_error\",\"squared_error\",\"squared_error\",\"squared_error\",\"squared_error\",\"squared_error\",\"squared_error\",\"squared_error\",\"squared_error\",\"squared_error\",\"squared_error\",\"squared_error\",\"squared_error\",\"squared_error\",\"squared_error\",\"squared_error\",\"squared_error\",\"squared_error\",\"squared_error\",\"squared_error\",\"squared_error\",\"squared_error\",\"squared_error\",\"squared_error\",\"squared_error\",\"squared_error\",\"squared_error\",\"squared_error\",\"squared_error\",\"squared_error\",\"squared_error\",\"squared_error\",\"squared_error\",\"squared_error\",\"squared_error\",\"squared_error\",\"squared_error\",\"squared_error\",\"squared_error\",\"squared_error\",\"squared_error\",\"squared_error\",\"squared_error\",\"squared_error\",\"squared_error\",\"squared_error\",\"squared_error\",\"squared_error\",\"squared_error\",\"squared_error\",\"squared_error\",\"squared_error\",\"squared_error\",\"squared_error\",\"squared_error\",\"squared_error\",\"squared_error\",\"squared_error\",\"squared_error\",\"squared_error\",\"squared_error\",\"squared_error\",\"squared_error\",\"squared_error\",\"squared_error\",\"squared_error\",\"squared_error\",\"squared_error\",\"squared_error\",\"squared_error\",\"squared_error\",\"squared_error\",\"squared_error\",\"squared_error\",\"squared_error\",\"squared_error\",\"squared_error\",\"squared_error\",\"squared_error\",\"squared_error\",\"squared_error\",\"squared_error\",\"squared_error\",\"squared_error\",\"squared_error\",\"squared_error\",\"squared_error\",\"squared_error\",\"squared_error\",\"squared_error\",\"squared_error\",\"squared_error\",\"squared_error\",\"squared_error\",\"squared_error\",\"squared_error\",\"squared_error\",\"squared_error\",\"squared_error\",\"squared_error\",\"squared_error\",\"squared_error\",\"squared_error\",\"squared_error\",\"squared_error\",\"squared_error\",\"squared_error\",\"squared_error\",\"squared_error\",\"squared_error\",\"squared_error\",\"squared_error\",\"p1_variance\",\"p1_variance\",\"p1_variance\",\"p1_variance\",\"p1_variance\",\"p1_variance\",\"p1_variance\",\"p1_variance\",\"p1_variance\",\"p1_variance\",\"p1_variance\",\"p1_variance\",\"p1_variance\",\"p1_variance\",\"p1_variance\",\"p1_variance\",\"p1_variance\",\"p1_variance\",\"p1_variance\",\"p1_variance\",\"p1_variance\",\"p1_variance\",\"p1_variance\",\"p1_variance\",\"p1_variance\",\"p1_variance\",\"p1_variance\",\"p1_variance\",\"p1_variance\",\"p1_variance\",\"p1_variance\",\"p1_variance\",\"p1_variance\",\"p1_variance\",\"p1_variance\",\"p1_variance\",\"p1_variance\",\"p1_variance\",\"p1_variance\",\"p1_variance\",\"p1_variance\",\"p1_variance\",\"p1_variance\",\"p1_variance\",\"p1_variance\",\"p1_variance\",\"p1_variance\",\"p1_variance\",\"p1_variance\",\"p1_variance\",\"p1_variance\",\"p1_variance\",\"p1_variance\",\"p1_variance\",\"p1_variance\",\"p1_variance\",\"p1_variance\",\"p1_variance\",\"p1_variance\",\"p1_variance\",\"p1_variance\",\"p1_variance\",\"p1_variance\",\"p1_variance\",\"p1_variance\",\"p1_variance\",\"p1_variance\",\"p1_variance\",\"p1_variance\",\"p1_variance\",\"p1_variance\",\"p1_variance\",\"p1_variance\",\"p1_variance\",\"p1_variance\",\"p1_variance\",\"p1_variance\",\"p1_variance\",\"p1_variance\",\"p1_variance\",\"p1_variance\",\"p1_variance\",\"p1_variance\",\"p1_variance\",\"p1_variance\",\"p1_variance\",\"p1_variance\",\"p1_variance\",\"p1_variance\",\"p1_variance\",\"p1_variance\",\"p1_variance\",\"p1_variance\",\"p1_variance\",\"p1_variance\",\"p1_variance\",\"p1_variance\",\"p1_variance\",\"p1_variance\",\"p1_variance\",\"p1_variance\",\"p1_variance\",\"p1_variance\",\"p1_variance\",\"p1_variance\",\"p1_variance\",\"p1_variance\",\"p1_variance\",\"p1_variance\",\"p1_variance\",\"p1_variance\",\"p1_variance\",\"p1_variance\",\"p1_variance\",\"p1_variance\",\"p1_variance\",\"p1_variance\",\"p1_variance\",\"p1_variance\",\"p1_variance\",\"p1_variance\",\"p1_variance\",\"p1_variance\",\"p1_variance\",\"p1_variance\",\"p1_variance\",\"p1_variance\",\"p1_variance\",\"p1_variance\",\"p1_variance\",\"p1_variance\",\"p1_variance\",\"p1_variance\",\"p1_variance\",\"p1_variance\",\"p1_variance\",\"p1_variance\",\"p1_variance\",\"p1_variance\",\"p1_variance\",\"p1_variance\",\"p1_variance\",\"p1_variance\",\"p1_variance\",\"p1_variance\",\"p1_variance\",\"p1_variance\",\"p1_variance\",\"p1_variance\",\"p1_variance\",\"p1_variance\",\"p1_variance\",\"p1_variance\",\"p1_variance\",\"p1_variance\",\"p1_variance\",\"p1_variance\",\"p1_variance\",\"p1_variance\",\"p1_variance\",\"p1_variance\",\"p1_variance\",\"p1_variance\",\"p1_variance\",\"p1_variance\",\"p1_variance\",\"p1_variance\",\"p1_variance\",\"p1_variance\",\"p1_variance\",\"p1_variance\",\"p1_variance\",\"p1_variance\",\"p1_variance\",\"p1_variance\",\"p1_variance\",\"p1_variance\",\"p1_variance\",\"p1_variance\",\"p1_variance\",\"p1_variance\",\"p1_variance\",\"p1_variance\",\"p1_variance\",\"p1_variance\",\"p1_variance\",\"p1_variance\",\"p1_variance\",\"p1_variance\",\"p1_variance\",\"p1_variance\",\"p1_variance\",\"p1_variance\",\"p1_variance\",\"p1_variance\",\"p1_variance\",\"p1_variance\",\"p1_variance\",\"p1_variance\",\"p1_variance\",\"p1_variance\",\"p1_variance\",\"p1_variance\",\"p1_variance\",\"p1_variance\",\"p1_variance\",\"p1_variance\",\"p1_variance\",\"p1_variance\",\"p1_variance\",\"p1_variance\",\"p1_variance\",\"p1_variance\",\"p1_variance\",\"p1_variance\",\"p1_variance\",\"p1_variance\",\"p1_variance\",\"p1_variance\",\"p1_variance\",\"p1_variance\",\"p1_variance\",\"p1_variance\",\"p1_variance\",\"p1_variance\",\"p1_variance\",\"p1_variance\",\"p1_variance\",\"p1_variance\",\"p1_variance\",\"p1_variance\",\"p1_variance\",\"p1_variance\",\"p1_variance\",\"p1_variance\",\"p1_variance\",\"p1_variance\",\"p1_variance\",\"p1_variance\",\"p1_variance\",\"p1_variance\",\"p1_variance\",\"p1_variance\",\"p1_variance\",\"p1_variance\",\"p1_variance\",\"p1_variance\",\"p1_variance\",\"p1_variance\",\"p1_variance\",\"p1_variance\",\"p1_variance\",\"p1_variance\",\"p1_variance\",\"p1_variance\",\"p1_variance\",\"p1_variance\",\"p1_variance\",\"p1_variance\",\"p1_variance\",\"p1_variance\",\"p1_variance\",\"p1_variance\",\"p1_variance\",\"p1_variance\",\"p1_variance\",\"p1_variance\",\"p1_variance\",\"p1_variance\",\"p1_variance\",\"p1_variance\",\"p1_variance\",\"p1_variance\",\"p1_variance\",\"p1_variance\",\"p1_variance\",\"p1_variance\",\"p1_variance\",\"p1_variance\",\"p1_variance\",\"p1_variance\",\"p1_variance\",\"p1_variance\",\"p1_variance\",\"p1_variance\",\"p1_variance\",\"p1_variance\",\"p1_variance\",\"p1_variance\",\"p1_variance\",\"p1_variance\",\"p1_variance\",\"p1_variance\",\"p1_variance\",\"p1_variance\",\"p1_variance\",\"p1_variance\",\"p1_variance\",\"p1_variance\",\"p1_variance\",\"p1_variance\",\"p1_variance\",\"p1_variance\",\"p1_variance\",\"p1_variance\",\"p1_variance\",\"p1_variance\",\"p1_variance\",\"p1_variance\",\"p1_variance\",\"p1_variance\",\"p1_variance\",\"p1_variance\",\"p2_variance\",\"p2_variance\",\"p2_variance\",\"p2_variance\",\"p2_variance\",\"p2_variance\",\"p2_variance\",\"p2_variance\",\"p2_variance\",\"p2_variance\",\"p2_variance\",\"p2_variance\",\"p2_variance\",\"p2_variance\",\"p2_variance\",\"p2_variance\",\"p2_variance\",\"p2_variance\",\"p2_variance\",\"p2_variance\",\"p2_variance\",\"p2_variance\",\"p2_variance\",\"p2_variance\",\"p2_variance\",\"p2_variance\",\"p2_variance\",\"p2_variance\",\"p2_variance\",\"p2_variance\",\"p2_variance\",\"p2_variance\",\"p2_variance\",\"p2_variance\",\"p2_variance\",\"p2_variance\",\"p2_variance\",\"p2_variance\",\"p2_variance\",\"p2_variance\",\"p2_variance\",\"p2_variance\",\"p2_variance\",\"p2_variance\",\"p2_variance\",\"p2_variance\",\"p2_variance\",\"p2_variance\",\"p2_variance\",\"p2_variance\",\"p2_variance\",\"p2_variance\",\"p2_variance\",\"p2_variance\",\"p2_variance\",\"p2_variance\",\"p2_variance\",\"p2_variance\",\"p2_variance\",\"p2_variance\",\"p2_variance\",\"p2_variance\",\"p2_variance\",\"p2_variance\",\"p2_variance\",\"p2_variance\",\"p2_variance\",\"p2_variance\",\"p2_variance\",\"p2_variance\",\"p2_variance\",\"p2_variance\",\"p2_variance\",\"p2_variance\",\"p2_variance\",\"p2_variance\",\"p2_variance\",\"p2_variance\",\"p2_variance\",\"p2_variance\",\"p2_variance\",\"p2_variance\",\"p2_variance\",\"p2_variance\",\"p2_variance\",\"p2_variance\",\"p2_variance\",\"p2_variance\",\"p2_variance\",\"p2_variance\",\"p2_variance\",\"p2_variance\",\"p2_variance\",\"p2_variance\",\"p2_variance\",\"p2_variance\",\"p2_variance\",\"p2_variance\",\"p2_variance\",\"p2_variance\",\"p2_variance\",\"p2_variance\",\"p2_variance\",\"p2_variance\",\"p2_variance\",\"p2_variance\",\"p2_variance\",\"p2_variance\",\"p2_variance\",\"p2_variance\",\"p2_variance\",\"p2_variance\",\"p2_variance\",\"p2_variance\",\"p2_variance\",\"p2_variance\",\"p2_variance\",\"p2_variance\",\"p2_variance\",\"p2_variance\",\"p2_variance\",\"p2_variance\",\"p2_variance\",\"p2_variance\",\"p2_variance\",\"p2_variance\",\"p2_variance\",\"p2_variance\",\"p2_variance\",\"p2_variance\",\"p2_variance\",\"p2_variance\",\"p2_variance\",\"p2_variance\",\"p2_variance\",\"p2_variance\",\"p2_variance\",\"p2_variance\",\"p2_variance\",\"p2_variance\",\"p2_variance\",\"p2_variance\",\"p2_variance\",\"p2_variance\",\"p2_variance\",\"p2_variance\",\"p2_variance\",\"p2_variance\",\"p2_variance\",\"p2_variance\",\"p2_variance\",\"p2_variance\",\"p2_variance\",\"p2_variance\",\"p2_variance\",\"p2_variance\",\"p2_variance\",\"p2_variance\",\"p2_variance\",\"p2_variance\",\"p2_variance\",\"p2_variance\",\"p2_variance\",\"p2_variance\",\"p2_variance\",\"p2_variance\",\"p2_variance\",\"p2_variance\",\"p2_variance\",\"p2_variance\",\"p2_variance\",\"p2_variance\",\"p2_variance\",\"p2_variance\",\"p2_variance\",\"p2_variance\",\"p2_variance\",\"p2_variance\",\"p2_variance\",\"p2_variance\",\"p2_variance\",\"p2_variance\",\"p2_variance\",\"p2_variance\",\"p2_variance\",\"p2_variance\",\"p2_variance\",\"p2_variance\",\"p2_variance\",\"p2_variance\",\"p2_variance\",\"p2_variance\",\"p2_variance\",\"p2_variance\",\"p2_variance\",\"p2_variance\",\"p2_variance\",\"p2_variance\",\"p2_variance\",\"p2_variance\",\"p2_variance\",\"p2_variance\",\"p2_variance\",\"p2_variance\",\"p2_variance\",\"p2_variance\",\"p2_variance\",\"p2_variance\",\"p2_variance\",\"p2_variance\",\"p2_variance\",\"p2_variance\",\"p2_variance\",\"p2_variance\",\"p2_variance\",\"p2_variance\",\"p2_variance\",\"p2_variance\",\"p2_variance\",\"p2_variance\",\"p2_variance\",\"p2_variance\",\"p2_variance\",\"p2_variance\",\"p2_variance\",\"p2_variance\",\"p2_variance\",\"p2_variance\",\"p2_variance\",\"p2_variance\",\"p2_variance\",\"p2_variance\",\"p2_variance\",\"p2_variance\",\"p2_variance\",\"p2_variance\",\"p2_variance\",\"p2_variance\",\"p2_variance\",\"p2_variance\",\"p2_variance\",\"p2_variance\",\"p2_variance\",\"p2_variance\",\"p2_variance\",\"p2_variance\",\"p2_variance\",\"p2_variance\",\"p2_variance\",\"p2_variance\",\"p2_variance\",\"p2_variance\",\"p2_variance\",\"p2_variance\",\"p2_variance\",\"p2_variance\",\"p2_variance\",\"p2_variance\",\"p2_variance\",\"p2_variance\",\"p2_variance\",\"p2_variance\",\"p2_variance\",\"p2_variance\",\"p2_variance\",\"p2_variance\",\"p2_variance\",\"p2_variance\",\"p2_variance\",\"p2_variance\",\"p2_variance\",\"p2_variance\",\"p2_variance\",\"p2_variance\",\"p2_variance\",\"p2_variance\",\"p2_variance\",\"p2_variance\",\"p2_variance\",\"p2_variance\",\"p2_variance\",\"p2_variance\",\"p2_variance\",\"p2_variance\",\"p2_variance\",\"p2_variance\",\"p2_variance\",\"p2_variance\",\"p2_variance\",\"p2_variance\",\"p2_variance\",\"p2_variance\",\"p2_variance\",\"p2_variance\",\"p2_variance\",\"p2_variance\",\"p2_variance\",\"p2_variance\",\"p2_variance\",\"p2_variance\",\"p2_variance\",\"p2_variance\",\"p2_variance\",\"p2_variance\",\"p2_variance\",\"p2_variance\",\"p2_variance\",\"p2_variance\",\"p2_variance\",\"p2_variance\",\"p2_variance\",\"p2_variance\",\"p2_variance\",\"p1_p2_covariance\",\"p1_p2_covariance\",\"p1_p2_covariance\",\"p1_p2_covariance\",\"p1_p2_covariance\",\"p1_p2_covariance\",\"p1_p2_covariance\",\"p1_p2_covariance\",\"p1_p2_covariance\",\"p1_p2_covariance\",\"p1_p2_covariance\",\"p1_p2_covariance\",\"p1_p2_covariance\",\"p1_p2_covariance\",\"p1_p2_covariance\",\"p1_p2_covariance\",\"p1_p2_covariance\",\"p1_p2_covariance\",\"p1_p2_covariance\",\"p1_p2_covariance\",\"p1_p2_covariance\",\"p1_p2_covariance\",\"p1_p2_covariance\",\"p1_p2_covariance\",\"p1_p2_covariance\",\"p1_p2_covariance\",\"p1_p2_covariance\",\"p1_p2_covariance\",\"p1_p2_covariance\",\"p1_p2_covariance\",\"p1_p2_covariance\",\"p1_p2_covariance\",\"p1_p2_covariance\",\"p1_p2_covariance\",\"p1_p2_covariance\",\"p1_p2_covariance\",\"p1_p2_covariance\",\"p1_p2_covariance\",\"p1_p2_covariance\",\"p1_p2_covariance\",\"p1_p2_covariance\",\"p1_p2_covariance\",\"p1_p2_covariance\",\"p1_p2_covariance\",\"p1_p2_covariance\",\"p1_p2_covariance\",\"p1_p2_covariance\",\"p1_p2_covariance\",\"p1_p2_covariance\",\"p1_p2_covariance\",\"p1_p2_covariance\",\"p1_p2_covariance\",\"p1_p2_covariance\",\"p1_p2_covariance\",\"p1_p2_covariance\",\"p1_p2_covariance\",\"p1_p2_covariance\",\"p1_p2_covariance\",\"p1_p2_covariance\",\"p1_p2_covariance\",\"p1_p2_covariance\",\"p1_p2_covariance\",\"p1_p2_covariance\",\"p1_p2_covariance\",\"p1_p2_covariance\",\"p1_p2_covariance\",\"p1_p2_covariance\",\"p1_p2_covariance\",\"p1_p2_covariance\",\"p1_p2_covariance\",\"p1_p2_covariance\",\"p1_p2_covariance\",\"p1_p2_covariance\",\"p1_p2_covariance\",\"p1_p2_covariance\",\"p1_p2_covariance\",\"p1_p2_covariance\",\"p1_p2_covariance\",\"p1_p2_covariance\",\"p1_p2_covariance\",\"p1_p2_covariance\",\"p1_p2_covariance\",\"p1_p2_covariance\",\"p1_p2_covariance\",\"p1_p2_covariance\",\"p1_p2_covariance\",\"p1_p2_covariance\",\"p1_p2_covariance\",\"p1_p2_covariance\",\"p1_p2_covariance\",\"p1_p2_covariance\",\"p1_p2_covariance\",\"p1_p2_covariance\",\"p1_p2_covariance\",\"p1_p2_covariance\",\"p1_p2_covariance\",\"p1_p2_covariance\",\"p1_p2_covariance\",\"p1_p2_covariance\",\"p1_p2_covariance\",\"p1_p2_covariance\",\"p1_p2_covariance\",\"p1_p2_covariance\",\"p1_p2_covariance\",\"p1_p2_covariance\",\"p1_p2_covariance\",\"p1_p2_covariance\",\"p1_p2_covariance\",\"p1_p2_covariance\",\"p1_p2_covariance\",\"p1_p2_covariance\",\"p1_p2_covariance\",\"p1_p2_covariance\",\"p1_p2_covariance\",\"p1_p2_covariance\",\"p1_p2_covariance\",\"p1_p2_covariance\",\"p1_p2_covariance\",\"p1_p2_covariance\",\"p1_p2_covariance\",\"p1_p2_covariance\",\"p1_p2_covariance\",\"p1_p2_covariance\",\"p1_p2_covariance\",\"p1_p2_covariance\",\"p1_p2_covariance\",\"p1_p2_covariance\",\"p1_p2_covariance\",\"p1_p2_covariance\",\"p1_p2_covariance\",\"p1_p2_covariance\",\"p1_p2_covariance\",\"p1_p2_covariance\",\"p1_p2_covariance\",\"p1_p2_covariance\",\"p1_p2_covariance\",\"p1_p2_covariance\",\"p1_p2_covariance\",\"p1_p2_covariance\",\"p1_p2_covariance\",\"p1_p2_covariance\",\"p1_p2_covariance\",\"p1_p2_covariance\",\"p1_p2_covariance\",\"p1_p2_covariance\",\"p1_p2_covariance\",\"p1_p2_covariance\",\"p1_p2_covariance\",\"p1_p2_covariance\",\"p1_p2_covariance\",\"p1_p2_covariance\",\"p1_p2_covariance\",\"p1_p2_covariance\",\"p1_p2_covariance\",\"p1_p2_covariance\",\"p1_p2_covariance\",\"p1_p2_covariance\",\"p1_p2_covariance\",\"p1_p2_covariance\",\"p1_p2_covariance\",\"p1_p2_covariance\",\"p1_p2_covariance\",\"p1_p2_covariance\",\"p1_p2_covariance\",\"p1_p2_covariance\",\"p1_p2_covariance\",\"p1_p2_covariance\",\"p1_p2_covariance\",\"p1_p2_covariance\",\"p1_p2_covariance\",\"p1_p2_covariance\",\"p1_p2_covariance\",\"p1_p2_covariance\",\"p1_p2_covariance\",\"p1_p2_covariance\",\"p1_p2_covariance\",\"p1_p2_covariance\",\"p1_p2_covariance\",\"p1_p2_covariance\",\"p1_p2_covariance\",\"p1_p2_covariance\",\"p1_p2_covariance\",\"p1_p2_covariance\",\"p1_p2_covariance\",\"p1_p2_covariance\",\"p1_p2_covariance\",\"p1_p2_covariance\",\"p1_p2_covariance\",\"p1_p2_covariance\",\"p1_p2_covariance\",\"p1_p2_covariance\",\"p1_p2_covariance\",\"p1_p2_covariance\",\"p1_p2_covariance\",\"p1_p2_covariance\",\"p1_p2_covariance\",\"p1_p2_covariance\",\"p1_p2_covariance\",\"p1_p2_covariance\",\"p1_p2_covariance\",\"p1_p2_covariance\",\"p1_p2_covariance\",\"p1_p2_covariance\",\"p1_p2_covariance\",\"p1_p2_covariance\",\"p1_p2_covariance\",\"p1_p2_covariance\",\"p1_p2_covariance\",\"p1_p2_covariance\",\"p1_p2_covariance\",\"p1_p2_covariance\",\"p1_p2_covariance\",\"p1_p2_covariance\",\"p1_p2_covariance\",\"p1_p2_covariance\",\"p1_p2_covariance\",\"p1_p2_covariance\",\"p1_p2_covariance\",\"p1_p2_covariance\",\"p1_p2_covariance\",\"p1_p2_covariance\",\"p1_p2_covariance\",\"p1_p2_covariance\",\"p1_p2_covariance\",\"p1_p2_covariance\",\"p1_p2_covariance\",\"p1_p2_covariance\",\"p1_p2_covariance\",\"p1_p2_covariance\",\"p1_p2_covariance\",\"p1_p2_covariance\",\"p1_p2_covariance\",\"p1_p2_covariance\",\"p1_p2_covariance\",\"p1_p2_covariance\",\"p1_p2_covariance\",\"p1_p2_covariance\",\"p1_p2_covariance\",\"p1_p2_covariance\",\"p1_p2_covariance\",\"p1_p2_covariance\",\"p1_p2_covariance\",\"p1_p2_covariance\",\"p1_p2_covariance\",\"p1_p2_covariance\",\"p1_p2_covariance\",\"p1_p2_covariance\",\"p1_p2_covariance\",\"p1_p2_covariance\",\"p1_p2_covariance\",\"p1_p2_covariance\",\"p1_p2_covariance\",\"p1_p2_covariance\",\"p1_p2_covariance\",\"p1_p2_covariance\",\"p1_p2_covariance\",\"p1_p2_covariance\",\"p1_p2_covariance\",\"p1_p2_covariance\",\"p1_p2_covariance\",\"p1_p2_covariance\",\"p1_p2_covariance\",\"p1_p2_covariance\",\"p1_p2_covariance\",\"p1_p2_covariance\",\"p1_p2_covariance\",\"p1_p2_covariance\",\"p1_p2_covariance\",\"p1_p2_covariance\",\"p1_p2_covariance\",\"p1_p2_covariance\",\"p1_p2_covariance\",\"p1_p2_covariance\",\"p1_p2_covariance\",\"p1_p2_covariance\",\"p1_p2_covariance\",\"p1_p2_covariance\",\"p1_p2_covariance\",\"p1_p2_covariance\",\"p1_p2_covariance\",\"p1_p2_covariance\",\"p1_p2_covariance\",\"p1_p2_covariance\",\"p1_p2_covariance\",\"p1_p2_covariance\",\"p1_p2_covariance\",\"p1_p2_covariance\",\"p1_p2_covariance\",\"p1_p2_covariance\",\"p1_p2_covariance\",\"p1_p2_covariance\",\"p1_p2_covariance\",\"p1_p2_covariance\",\"p1_p2_covariance\",\"p1_p2_covariance\",\"p1_p2_covariance\",\"p1_p2_covariance\",\"p1_p2_covariance\",\"p1_p2_covariance\",\"p1_p2_covariance\",\"p1_p2_covariance\",\"p1_p2_covariance\",\"p1_p2_covariance\",\"p1_p2_covariance\",\"p1_p2_covariance\",\"p1_p2_covariance\",\"p1_p2_covariance\",\"p1_p2_covariance\",\"p1_p2_covariance\",\"p1_p2_covariance\",\"p1_p2_covariance\",\"p1_p2_covariance\",\"p1_p2_covariance\"],\"x0\":\" \",\"xaxis\":\"x\",\"y\":[0.021541635286369185,0.0029447552036374496,0.0003708302003232214,0.050036051402994663,0.07507243769042032,0.15042049276331937,0.00027336209935807226,2.788334097362942,0.11397303649585845,0.1361942677152265,0.045638519617897215,0.07526497585941119,0.039687795129078385,0.45136188271679445,0.2997935981475162,0.26760909481837275,0.31851151042059733,0.8996367979104779,0.3103040315905627,1.642485320601344,0.12838969407494094,4.044090603125607,0.000595257936640051,0.014122918081325913,1.7280099656609127,0.07933261743904485,2.0629841566419356,0.006480893015965299,0.06176206017091317,0.0009865065637399144,0.00966911575783382,0.19491451301900134,0.013393487439682756,8.21020974848941e-05,0.014317051946320231,0.003235286162639114,0.0006260496616493044,0.0031657386920642063,0.005601122506275319,0.01936289476174113,0.006735702321757698,0.14109195168456876,0.10662959553793414,0.01225489590103292,0.0033794407124714773,0.007615885885591683,0.02478712972143604,0.06537517677871743,0.21280824217707592,0.05085693252351009,0.4436304127263806,0.21660831626014118,0.21265445598701913,0.0022083514288246788,0.16205250390449502,0.13681035016541312,0.5027550992068675,0.09616794780828995,1.9927943555281487,0.14372278385442083,0.9128102289580933,0.1498574233177417,1.0583527680786105,2.1523658967475927,1.3166267263751166,0.11181494402265929,1.1124889114008987,4.229823071907033,3.541546431501596,0.00809482954210448,0.017379412389656977,0.14240819197288426,5.532825584925401e-05,0.21457835831589966,0.02370234738540977,0.02310286700321082,0.0033136553399706406,0.011951608034590736,0.03915179437268903,0.07205025715243099,0.008212708724985241,0.0021507189262071104,0.0031046874663666736,0.0351953063144098,0.00044965700529437714,0.0014265892450379685,0.10714195173746685,0.0780329052893131,0.009799437641551063,0.0018776595561789627,0.011653839257697834,0.055961326861827324,0.0018392071542612687,0.43405765594665807,0.2868732884351805,0.0033249654630625033,1.1293257468683804,0.43234425471158516,0.16950459445388527,1.0958856177918175,2.496017991894879,0.010569812599265961,0.28165054153357716,2.0163377626949135,0.9425589010047749,0.5908474039924934,2.4267908718459075e-06,0.020852040850275,0.00037090049032115083,0.2150864406756108,0.004469527338127996,0.15396402290572808,0.022608549356217644,0.01098093794334975,0.135505577246916,0.053443377394923684,0.00017390773137863233,0.21969095666145974,0.3568477737874152,0.0663384665780457,0.09302956990678081,0.007257628750314708,3.0084872451346365e-05,0.0663156824498627,0.5417089141114636,0.011595364965855384,0.0030422413007289615,0.08155205659430262,0.00017992142187025093,0.13955734195466055,0.08155731300737282,0.35462952833506295,2.7310770476761914,0.14698998317381962,0.6112792580058087,2.820750906467258,0.10313438102692098,3.653866196640791,0.48349222699814876,4.684388488533109,0.012176771587314289,0.2706088162091862,1.6885307214863183,0.03973232346832895,0.04720213105243417,0.0034663069948243346,0.02031400014551513,0.00316851991823345,0.0792135671943195,9.4769029993632e-05,0.03110876020204804,0.12161312576693735,0.010484495577574887,0.005307788671240732,0.004770120337471493,0.005325723615959122,0.10661202994174644,0.29035858156338695,0.3241577218160393,0.002029544948375505,0.00017797490814877893,0.13367202599178724,0.7429072294749328,0.5879165679168085,0.1804805229525175,0.05993728660973746,0.0008143290147077151,0.029760483245581268,0.8098430334799676,0.069347536619556,0.01360382904667939,0.0004336790041634666,0.027758222422101807,0.0015023837022280105,0.0002749148191954126,0.01600731012688348,0.0053219217884280965,0.02356763848585194,0.005160808719691692,0.031279738634923636,0.0006072126633115089,0.008896785964214584,0.004407244113761882,0.09188477696713589,2.513424343653501,0.009314007068731747,0.036941981326140357,0.002967265493582716,0.007819445740663936,0.02184987108694314,0.47507262399165295,0.4107406764223008,0.005413709608917648,0.24963247866962715,0.81716536246011,1.0515541614827526,0.032772712141073225,0.9290364170318421,0.20732449508792983,0.15744453524686872,0.2751386611363987,0.3550341622713492,0.27648215315162245,0.17418624125768578,0.6730915786280922,0.1682608379155862,0.47982377547031513,2.5516836528845044,1.0054288701983214,0.49535538621830405,1.0444215124696528,0.0015354352972367807,0.6345775270845148,0.0011964579183645415,0.00850211482262997,0.0002572638843306971,2.4858128573329905e-05,0.002124330916828594,0.0008025683155791723,0.005027679823137638,0.018088680952238163,0.014074662362606828,5.666163822896646e-05,0.0005445756997939727,0.0034722234901355164,0.12941900220010633,0.015098474578139391,0.022847242552331885,0.0253406338936714,0.002292438866930674,0.6622288129808955,4.624514912596434,0.044905179836419534,0.02833512231534965,0.06375182005511557,0.1542207191047773,0.22583053106167747,0.05928301148252064,0.41132977742877197,0.6525196802942703,0.07323336346643633,6.768879181515982,1.832417682187773,0.17822605097730398,0.009384789485343588,0.08450778156445009,0.47996899931377524,0.05325637430057806,0.15423770757252675,0.00630542981392189,0.007033058540109735,0.004617324936470403,0.025692659494051577,0.019512560002726494,0.01253151794444121,0.01074394524664065,0.009891599255248226,0.005533977220032886,0.009935326242085844,0.0014759970620903176,0.025082784369911165,0.011140990905972621,0.001434856577905163,0.010171357865906925,0.07287797316993445,0.15242072796838044,0.33079223479114117,3.233416256479981e-05,0.25338989472185297,0.016090129821425367,0.40958923602331715,0.1629332001764398,0.12173829058321085,1.7237755925223892,0.0029247564926963123,0.11149052005383424,0.4584142760785337,0.022397314081686145,0.9014225849128533,2.6485311137208103,4.485034090912079,0.005653248175844279,0.028162577543897248,0.35039536618032685,1.2720031912247323,2.282829053213778,0.3794871174417746,0.11950509781695233,0.3145067130851431,3.5202896892413946,2.26083046970694,1.5366285513418538,3.036747735415511,0.014301574115170216,0.0014591179776961643,0.0013220794881954163,0.033069271861421584,0.056765126308619226,0.006008625776397095,0.0021393728456286947,0.014468621814956818,0.007804128227766552,0.016160996657862574,0.1629383728775388,0.2583609508498817,0.005894546152769292,0.023685439295286274,0.0006871117758534992,0.0014431160648041702,5.284618868266709e-05,0.1419432022896002,0.19940667625681172,7.867495423778723,1.3095562534633064e-06,2.560277155259381e-08,1.9502906727629177e-06,4.250427098825456e-06,1.867054214202798e-06,0.00035216283751976333,1.0084707645179945e-07,0.0002216157478469182,8.295010831652619e-08,6.906327185942763e-07,2.335076479844211e-08,4.350321124827377e-06,1.9712072990550342e-07,0.0010371012923988281,0.00021057297494961287,2.742552779958806e-07,0.0019361419225876358,0.020226441221356622,2.064167457407908e-06,0.001618025509861807,6.674396588773207e-05,0.000433674417241882,3.023076941870278e-10,0.5965155370194344,0.015331771309249197,2.478005489901129e-06,0.004555832995573025,0.00023961915261517692,4.38386432383485e-05,5.555232100479528e-08,0.0002948296276583637,0.4026712073238572,7.658995479014786e-05,7.225981072451715e-08,6.535523227954542e-08,6.84153992893509e-08,0.014188626187105743,0.002707453032220882,0.0001054043448023268,0.0034285244300607813,0.005601491236190428,0.004900591954792991,2.992034370472557,1.5072921224864303e-07,1.2829473824583013e-06,13.591998158149277,0.2690667748862509,3.3437252077956936e-05,1.3535189168733175e-05,0.0005924553738625387,0.00013907164815012,1.419162879922039e-05,0.0007055183221014978,1.1195300987418588e-08,5.631611554233399e-05,3.4725192298789525e-06,0.00034086216192771585,1.0989273047829529e-05,2.736950947398451e-05,0.0007057441402700466,0.002274013955965911,5.9824676408678555e-05,0.0034227450852662307,0.005535253379729351,0.0010997164773600898,10.750604299691007,0.0004234435689809221,0.0001439230332887799,0.0024394189842685925,6.163392085541459e-07,0.0004362811812484986,0.019554149132587753,7.498700954075502e-07,0.1095313147967808,0.30793577451943394,1.6385759317031621e-07,9.871609368443961e-07,4.387036308948778e-08,5.036681212319442e-06,2.53197603316981e-07,0.04539133937168568,9.184258146959026e-05,0.02941973326972029,0.0064078950036463725,1.433764723953827e-05,7.931088961024249e-09,1.2277576312279045e-07,9.480946462240838e-07,4.150156029558185e-09,0.0009202333222394673,2.1355680469660044e-07,0.04661476562748087,2.4801495293851077e-05,1.1621252322760853e-05,9.95878546891159e-06,1.0599945142289074e-07,0.022851140405192764,1.4968478632033707e-05,0.00016524159019522383,2.507117680010597,0.0004155871201633539,2.440671740484508e-05,2.6585187852223262e-05,0.0002145077499315492,9.083697670346873e-06,0.00037329344176622936,1.1269321586918676e-07,8.54629556707619e-07,6.572787980778586e-05,0.00046731088830406504,0.000382699065436404,0.0015286524425029118,7.954862597141588e-08,0.0016690812548931628,0.03901470159810231,0.0025810512313895976,0.00026234947645373177,0.07064835235738413,0.389616556946469,0.00809231560639161,3.283206635180239e-06,6.782392853157003e-08,2.186888532570569e-08,1.2388836274398461e-06,2.5033496714833174e-05,3.4297369029639987e-06,4.545021428408945e-08,5.634225946330639e-07,1.548859917070048e-08,1.147207220312733e-06,1.8048155424171084e-07,3.513218044217105e-05,2.0609066218940076e-05,1.406775879933912e-07,3.518360616449531e-05,8.31614085968565e-06,9.339311502325681e-08,5.887925065452335e-05,9.434486931343313e-07,1.7035758054396234e-05,8.048980734188112e-06,6.572464138374326e-07,2.1124809513460343e-06,2.3599657594573986e-08,0.00391019729535453,1.4879645838710914e-06,0.004339112311750726,4.5267569682677116e-05,0.00027112454422976117,1.5603900378492487e-06,0.0005918631268567397,0.00029963581513379035,0.0003832773247020425,0.0005161974244472919,0.00028880255353602843,0.0016950488119374212,0.010446071328552079,0.020819520012783557,5.5539448399759836e-06,1.1474638897695795e-08,9.157578396847981e-08,1.808166941163824e-06,8.185803910242581e-05,3.637368246046114e-05,4.876930824917394e-06,6.488342839950424e-07,1.89627868027934e-07,8.224677056092365e-07,2.716553762800787e-06,1.2313819624239017e-07,1.80749477562395e-06,1.233773385783222e-05,4.781771725790718e-06,5.433854532397905e-06,5.702383784092664e-06,4.9890821091355045e-06,6.0331987232461676e-05,0.00022768754571519725,1.5844944534081993e-05,2.0785776570226323e-06,0.00017968350249530105,9.879329794120972e-06,7.4211087333586865e-06,0.01661840418130668,0.007958170561787459,0.00014184007503232826,1.0199167095346056e-06,3.796154798213602e-07,8.580483469653556e-08,2.882436944224955e-05,0.00016659854543827127,0.011389214238740565,1.165443796856981e-07,1.2544016355735685e-06,7.882974809073344e-07,5.597892938174559e-07,3.810684783212426e-08,5.047692922863519e-07,1.9684893160037537e-07,1.0849001153840838e-07,2.0466416356870882e-07,3.908100702652397e-07,1.6455187044077946e-07,7.133016742680463e-08,8.856157710369468e-07,4.118146734486722e-06,1.7942993160724429e-06,0.09237128926663457,0.0002714992617289508,0.010984695587041588,1.3097328471378506e-05,7.700857609651386e-09,1.0428476349233139e-05,1.0566448509491119e-06,5.003617332053834e-07,9.62185939046245e-08,4.187961831384711e-08,3.1342467521525577e-07,5.587530659951003e-07,4.847001039606379e-06,3.3062886731900847e-06,2.686208984825629e-06,1.7179466762110776e-07,9.271708145390198e-07,4.1206626156281385e-07,0.11055862336693259,1.098527409405944e-06,1.7712770833643103e-07,2.710096417899176e-06,2.1137230071303425e-08,7.785426964595828e-05,1.7965386539562184e-05,1.686673610501844e-07,7.528565141639085e-07,2.904659902659233e-07,5.588588653917436e-07,1.6704589223742678e-07,4.1949901847346283e-07,9.249677466446148e-07,3.75603468151508e-06,5.497738355583781e-07,0.0002554829899072396,3.5638282905474573e-06,6.201867941800037e-07,5.58492715824602e-08,3.846381495739511e-08,8.015057152943658e-07,3.238667972917631e-08,2.4307685572575517e-06,0.00011696002977960878,2.3368505630145227e-05,0.00015655753507297558,0.08011288998277354,5.3970618505867536e-08,2.1372655994125733e-06,0.14212968768982673,6.638009226615136e-08,0.0028174921783658013,7.751459043748825e-08,6.323629965923033e-05,0.023335059013702704,1.498281182392689e-07,1.8741074806374321e-06,1.5967330051069511e-06,1.5811948255515012e-05,6.877999008338983e-05,2.1176139456245273e-05,3.69127470723368e-10,2.0029805781869425e-06,9.581204057681217e-09,2.0677866078014273e-05,9.025387320483493e-07,5.7031244894278396e-05,6.364724237254541e-07,5.3302736150543754e-08,0.000483391690074383,0.00030252575533508717,7.007405118778739e-07,0.0011331663415318268,0.01092292173638991,0.0005068330615783517,9.766497805479875e-08,1.498853720411369e-08,0.00017572374134202775,1.6817935668853298e-05,0.0009433394603362848,1.656979245671859e-05,1.3112031332428138e-05,0.05761904836406535,0.0010207271357051372,0.003432254472911679,8.084261278236117e-06,0.002877051292677274,0.026786492488387773,1.4045858229874581e-07,6.707402155292059e-08,3.4078064860925297e-06,2.832571670237609e-06,7.410150196482645e-07,1.2272357343553596e-08,0.002180304010666294,1.1593988760192836e-07,4.731461419267734e-08,1.328207952316814e-06,0.0011640599860845097,1.1740112173331714e-07,5.300407372277726e-07,1.6905875777295903e-08,4.067338619482446e-09,1.1489561040650249e-08,2.6022304974884153e-07,6.427724189021876e-07,5.797483663824897e-06,0.000443887438549905,4.092265009681644e-05,3.0004786225461335e-05,0.0005744630138592671,0.0009989282648389076,0.005104646258978627,0.0015584555532200319,0.027004140117499423,0.06402992544252757,0.001168623046725009,0.29904930848176403,0.0011278251579888848,0.00036622108193643725,0.018192179692582647,0.006529336259124888,0.0027505328055568933,0.01645618844362224,0.08277417995823697,0.028028969062078156,0.039366183924695666,0.0035974398360712066,0.042829165803845895,0.25770480877870927,0.06539445565283684,0.18742535122138923,0.001344850476188937,0.06284231369037573,0.0009055106092557104,0.0013505163750240393,0.0011851871182071596,0.0012025037065043888,0.14542398893151948,0.0016563406134179099,4.444590920847474e-05,0.038269983749213046,0.0013683685269483636,0.002764155860660263,0.0025283969176255294,0.0046957200610173435,0.008918787660951166,0.004082102072774072,0.015280340520040335,1.1168443067373126,0.976868786003747,0.0234704191178427,0.6071165270766261,0.15146546016258616,0.001963137828843051,0.002080880721658286,0.0034899033163193318,0.007067681681495381,0.0020582760637111114,0.00834275542253273,3.35800637987704e-05,0.0062603393193197375,0.001425423973777533,0.028485663296071415,0.001115752777980049,0.06545508994605127,0.006775832290532029,0.032352835992366547,0.003009718954562931,0.04107851381078523,0.0746530384864581,0.02860829263848989,0.7440894146232365,0.01739538782825428,0.03153923655231869,0.0678956636268949,0.0029666651151221074,0.009025079911529094,0.02961188244593296,0.00012073356456580659,0.08171722664706904,0.050544187296859236,0.07779301270286018,0.0012735263748750293,0.019409003531226775,0.02251440912438115,0.07234360029050893,0.010378900336830178,0.0004505969141998415,0.00593414894030163,0.009947601835377904,0.0006599998106326654,0.0018726282705711517,0.27479659912271465,0.05933108609433717,1.1687293539870278,0.0008105920261561706,0.00972396164988345,0.02566474495879075,0.0023579086425788653,0.0034298119369594506,0.002403955829471487,0.0007721837676465528,0.12480166588351924,0.003485456060319599,0.004046027216630147,17.5351457686814,0.03862569288321537,0.000885232496546891,0.0028194866704455788,0.020547842679192723,0.005589318595890519,0.01096134442313523,9.801992407564107e-07,0.0017213683343838503,0.00026523789814853074,0.007078253210493048,0.0010577694479778953,0.00951517521581413,0.05212807076829816,0.004242482685108468,0.038675343188356075,0.006517109592571054,0.00019367201968032878,0.07649958798524539,0.7335893727199092,0.01203246465753998,0.0007822868004552827,7.73987071173838e-05,1.6873517680615694e-06,0.0004816706627428908,0.020698061046278745,0.00017770239304151916,3.835282932025235e-05,0.0005240541803967912,3.2594472586361274e-06,0.0008139387422019057,0.000520610229627781,0.003475595698273586,0.01780467655426231,0.0018107988821852916,0.008076634161916327,0.018372580140962585,0.0013666679878698294,0.02518824313388862,0.003259550355719708,0.05358356657792298,0.010332459422587002,0.05860609943172307,0.01379883509158971,0.0008853983235226179,0.00801360960360859,0.0004283194392832427,0.005290489302066297,0.0002858374314823621,0.00314861001144762,1.6971572121222665e-05,0.003244296419564294,0.004143885456174091,0.0011437150602633794,0.0009093840288432252,0.0007752502164307419,0.0018739815200674525,0.021294045391966564,0.04177370527754055,0.0023478954685268987,2.5295454443411824e-05,5.073195923937535e-06,0.0014104922062156298,0.035585705430187,0.00828509387750484,0.0024618465820454723,0.0006572167086133351,0.00043409493654617985,0.0004276026862468053,0.005326110855458935,0.0005276292054524057,0.00022461706660168113,0.00010124445477394445,0.0024141937650178804,0.0003707259722464763,3.827483471152033e-05,0.000582475960937111,0.0006290358047162395,0.0014391407098198982,0.0002579184393960654,0.0033166316224302115,0.000279803348724577,0.0012973407677559121,0.0012534882682958904,0.020370735881133372,0.09039740075229204,0.001600628083938744,0.0003099313027883748,7.564570685461528e-05,9.03904432189228e-05,0.0010098134886928967,0.0074701791727347314,0.03887927162448904,7.904576581140829e-05,0.001469679675376756,0.011579988533088722,0.04117643083158616,0.0009439174079242135,0.034398583704431634,0.004246613274589424,0.0031175392158366384,0.006089512619586763,0.024247372696811032,0.006959155787319702,0.01718131220064402,0.007175957871731823,0.001383264407492667,0.013008546879819432,0.281610668751815,0.014416506494745239,0.04238303356822421,0.010619429786327338,4.759542372199123e-05,0.004563369224599093,8.16268772602684e-05,0.0004044107461954006,6.449847379922523e-05,4.471061079279369e-06,0.00010122319141281083,9.82591174216684e-05,0.0002815484946463327,0.0006223701095687875,0.00080627354518893,1.3933815952732516e-05,8.182940184438632e-05,0.00046679676792186846,0.07492436245997752,0.00213224461927805,0.00024564524483273716,0.0004638813930673408,3.036175085363836e-05,0.011915950250245473,0.04314497124394519,0.00043581764237729564,0.000397592239932079,0.0006422361533766551,0.001353807289089656,0.003530497369259178,0.0004945557728179846,0.003603093862170854,0.006045181403307082,0.0006450909769436035,0.07210446835225792,0.016128009751804045,0.022651823608408693,0.0035530834602791094,0.17351652732863285,0.0036716395908620164,0.0012113228622259698,0.0016810708395687296,0.0067960881186327595,0.0003763844675600566,0.0016012031254031272,0.024200714034642825,0.03371823697628858,0.004013807172530837,0.027462914037928037,0.028760698235431818,0.002038940877234638,0.006891635548512097,0.003777713209116648,0.016930952318561256,0.00018605605599514288,5.4268911425033945e-05,0.00012821084413270942,0.004295367497557395,0.002717949459899475,0.004267241521656459,1.9941034053191625e-06,0.00249877087747069,0.0648123822100486,0.004446161256763999,0.0009396241114847983,0.002704787242931759,1.672479538119756,4.510798337118764e-05,0.004984816544676097,0.0095900842490924,0.0003973194775361921,0.023782053840662207,0.11198631505927292,0.04827116683467475,0.021850098197499942,0.1571340658030027,0.007589625725635107,0.007869911737074808,0.03616526923588656,0.0033608273554354244,0.0015601312144471417,0.14713186743404327,0.05174721947139783,0.06009081120461917,0.00873004331860933,0.06584406347870346,0.010685610061705368,0.0003757500893358046,0.0015196617348525294,0.00178345604041709,0.0028275383975020765,0.001645173220231343,0.003778882919280922,0.005658165889897096,9.423175884259611e-05,0.00015000501250267623,0.0012311980587524822,0.2562377933750735,0.0001388649733412992,0.07921063075090617,1.4657346914341763e-05,1.3899361300234017e-05,1.9077799934156425e-05,0.006376012532701815,0.0013345768712509983,0.10479727039358383,5.279765145973295e-05,2.1388867801565866e-06,1.700629780637537e-05,0.00010879308285169615,9.323417341898108e-05,0.002980209834694036,2.7724168298281375e-05,0.005383902299683851,0.00011643640189654256,5.8691471087737996e-05,0.00012197851545129906,0.0001533226922965336,1.723039951210042e-05,0.009652818226176365,0.0026023590160238115,4.698813770807544e-05,0.012554408231181343,0.09104712745372076,0.0004924088288958977,0.01772248929385982,0.001085241257779599,0.00950371414546359,1.072265335296764e-05,0.4396666815213927,0.11922008090648302,0.00012439032025396063,0.03760825604039332,0.0010365462831633443,0.0005400300917981869,1.7758408073761944e-05,0.0013249281365036673,0.5386695507871898,0.0007920638294365506,3.974406262914542e-06,0.00010266237172066507,2.0841065996995913e-05,0.013940928003204109,0.005823879921748701,0.00156538248589045,0.012307732785085988,0.010644108919152491,0.019257020113332798,4.069310035302227,0.0008125574088668605,0.0003842550861077039,6.39475108809599,0.449391276483965,0.0005680168918712795,0.000368652347699681,0.0031989910907170172,0.002196224731484114,0.00037554915733371044,0.0053940896732790206,1.2445441141430127e-06,0.0013135100332065557,0.00015216987850327513,0.006912370582900848,0.00024425191403972647,0.002841304334798578,0.004863172364651792,0.019066319397010315,0.0009406201994889101,0.026363078320267495,0.04518756831535578,0.012452329998710748,6.296121089462019,0.006015673322239331,0.004650089266440699,0.02856224962855005,9.406750926397659e-05,0.00441548758331593,0.053558399300627155,2.1165656936536563e-05,0.2105894219485887,0.27771831406235004,0.00023698946388605617,7.85352229495015e-05,5.907935210148873e-05,0.0007433678509228628,0.00027346403959198167,0.04831680689083475,0.00045270350243429625,0.029412777608737246,0.017770221450016336,0.00021644346218110556,7.134730027483168e-06,0.0003230482076299155,0.0005072255189954723,9.540585715145462e-05,0.0019224488087034536,9.843875761206408e-05,0.07699258300805048,0.0005379336576054165,0.00043406538695144357,0.0003376758313210877,1.972264498124566e-05,0.11881950820700339,0.0004985238159109642,0.0018156740392437853,14.759301348439758,0.008843648854818214,0.0003266373623269641,0.0006032680050676926,0.00462960960212258,0.0004786653510918756,0.004488658858418795,7.395680455298205e-07,8.388004573035825e-05,0.00029385532746760315,0.00404231240769099,0.001416036312233453,0.008484320265913328,0.00012673135507587397,0.005922561252084833,0.08646280751565062,0.009127422178302258,0.0005017582338938649,0.16363453098509753,1.1900443434766168,0.02196262570356843,0.0001106266573979284,4.803221255133901e-06,4.2580024458643325e-07,5.276844915347306e-05,0.001570086995702638,5.4679440286299054e-05,2.81776372606412e-06,3.603714507580255e-05,4.937758994725243e-07,6.455203914989028e-05,1.8792319370788386e-05,0.0007702439000565431,0.0012735634493069642,2.6908309365427204e-05,0.0011669486461870996,0.0007761521241598128,1.8901371702873885e-05,0.0026225005350539402,0.00010569016726690021,0.0018873738731643788,0.0006395459794045899,0.00038378513414046494,0.0003065539626654471,6.981977650475965e-06,0.012458526193527806,5.593095845725685e-05,0.010664444889177695,0.00025305955610940953,0.002054293284699237,1.1449022064980278e-05,0.00308309882853526,0.002476919971394768,0.0014733904902389328,0.001524903812006223,0.0010530326536291029,0.003967051148484231,0.033193618903343484,0.06563458660339037,0.0002461947315300016,1.0992952709680212e-06,1.5108534890260437e-06,0.00010739811981850377,0.0037557858606070294,0.0012056686963724172,0.00023720588566018152,4.4013423811067546e-05,2.0023773073013297e-05,4.061875762443913e-05,0.00024207866673908518,1.5232796385293002e-05,4.442170846700029e-05,7.864286734223214e-05,0.00023749325794386735,9.97963431330329e-05,3.28691309321313e-05,0.00011941669269940272,0.00043339732497522644,0.0012734184417185765,0.00014209615209920192,0.0001824773775278393,0.0004990714796054762,0.0002514412265170043,0.00021425273837550213,0.04095272164968832,0.059632252250007484,0.0010600496537457697,3.8673985565090226e-05,1.1809197327672597e-05,5.878326448226328e-06,0.0003786659779112531,0.002472119208880672,0.04682580735596344,6.540368584825656e-06,8.869656843376564e-05,0.00016135851195593032,0.00021895769323523268,9.877605711093724e-06,0.00019306890843529318,4.887602500205781e-05,2.8888917429065255e-05,5.670668861570833e-05,0.00017054894402169303,5.17150200245232e-05,4.7934353100748245e-05,0.00014454370962815698,0.00016385313330942631,0.0003091319567691942,0.35891747335767965,0.004380702197546693,0.04801179776728515,0.0007983929358528735,1.185427936439233e-06,0.0004698777425495074,2.0610133628970615e-05,3.122594328124384e-05,5.516960886399635e-06,9.607925201664629e-07,1.242382664386083e-05,1.6437326777370197e-05,8.202963350718861e-05,0.00010029792653145757,0.00010291817888991748,3.4397113837928328e-06,1.9350492423993128e-05,3.055209703539802e-05,0.20259275317218922,0.00010621189047983295,1.3707075760929247e-05,7.818125927643594e-05,1.6786377929339332e-06,0.0021250482766644067,0.0017484237875620395,1.7378693614953896e-05,3.744531390122644e-05,2.7524943156814698e-05,5.55017083744525e-05,3.8483230540361694e-05,3.0207885804314458e-05,0.0001116373615912431,0.00031307718521986195,3.91053071172838e-05,0.009343454425804892,0.0004572002650808199,0.00023892623206158456,2.9342860130776334e-05,0.00011517998991429291,0.00010170430401282483,9.626287974223734e-06,0.0001367027915214876,0.001983749086065131,0.00020847428015644958,0.0011141828803159083,0.09801617241549694,8.427831818105225e-05,0.00020472497954960163,0.13907700428271313,9.149638892691516e-05,0.005335120300237816,4.871516614471971e-05,0.0010876861793446154,0.04424499694781057,1.1224458785106117e-05,2.2394995587733595e-05,3.1613423819015246e-05,0.0005757996897025463,0.0009587221754626653,0.0006588935558916845,5.738338988790258e-08,0.00014918812456698576,3.7934516983867974e-05,0.0006628093098493357,6.046694185862729e-05,0.0008704998948097689,0.0013049126468594246,3.325637505421811e-06,0.003451896764355052,0.0037798600101744823,3.636772814934313e-05,0.011531447435463929,0.07777196178567657,0.010910668646655186,9.965559414771965e-05,7.163613168538101e-05,0.002559822905997711,0.0007800666005509832,0.012949181305795284,0.0005164523619766192,0.00031542700830289864,0.2049317690145067,0.016096288637365064,0.031908446899078256,0.0005501457171715295,0.03056217617016077,0.03766047623004182,1.597670561284859e-05,2.2064000789978652e-05,0.00017186507863086313,0.00019616230256265442,7.705723741706735e-05,1.3936305126299103e-05,0.007817036899917747,7.048233484836932e-06,5.283467442582288e-06,8.530150135817697e-05,0.03838854632783254,8.681560279783093e-06,0.0004371795335142256,1.0658604928294266e-06,4.7115423368092024e-07,1.0328853705152056e-06,7.719539849146813e-05,5.8764335593328966e-05,0.0012569657926314738],\"y0\":\" \",\"yaxis\":\"y\",\"type\":\"violin\"}],                        {\"template\":{\"data\":{\"histogram2dcontour\":[{\"type\":\"histogram2dcontour\",\"colorbar\":{\"outlinewidth\":0,\"ticks\":\"\"},\"colorscale\":[[0.0,\"#0d0887\"],[0.1111111111111111,\"#46039f\"],[0.2222222222222222,\"#7201a8\"],[0.3333333333333333,\"#9c179e\"],[0.4444444444444444,\"#bd3786\"],[0.5555555555555556,\"#d8576b\"],[0.6666666666666666,\"#ed7953\"],[0.7777777777777778,\"#fb9f3a\"],[0.8888888888888888,\"#fdca26\"],[1.0,\"#f0f921\"]]}],\"choropleth\":[{\"type\":\"choropleth\",\"colorbar\":{\"outlinewidth\":0,\"ticks\":\"\"}}],\"histogram2d\":[{\"type\":\"histogram2d\",\"colorbar\":{\"outlinewidth\":0,\"ticks\":\"\"},\"colorscale\":[[0.0,\"#0d0887\"],[0.1111111111111111,\"#46039f\"],[0.2222222222222222,\"#7201a8\"],[0.3333333333333333,\"#9c179e\"],[0.4444444444444444,\"#bd3786\"],[0.5555555555555556,\"#d8576b\"],[0.6666666666666666,\"#ed7953\"],[0.7777777777777778,\"#fb9f3a\"],[0.8888888888888888,\"#fdca26\"],[1.0,\"#f0f921\"]]}],\"heatmap\":[{\"type\":\"heatmap\",\"colorbar\":{\"outlinewidth\":0,\"ticks\":\"\"},\"colorscale\":[[0.0,\"#0d0887\"],[0.1111111111111111,\"#46039f\"],[0.2222222222222222,\"#7201a8\"],[0.3333333333333333,\"#9c179e\"],[0.4444444444444444,\"#bd3786\"],[0.5555555555555556,\"#d8576b\"],[0.6666666666666666,\"#ed7953\"],[0.7777777777777778,\"#fb9f3a\"],[0.8888888888888888,\"#fdca26\"],[1.0,\"#f0f921\"]]}],\"heatmapgl\":[{\"type\":\"heatmapgl\",\"colorbar\":{\"outlinewidth\":0,\"ticks\":\"\"},\"colorscale\":[[0.0,\"#0d0887\"],[0.1111111111111111,\"#46039f\"],[0.2222222222222222,\"#7201a8\"],[0.3333333333333333,\"#9c179e\"],[0.4444444444444444,\"#bd3786\"],[0.5555555555555556,\"#d8576b\"],[0.6666666666666666,\"#ed7953\"],[0.7777777777777778,\"#fb9f3a\"],[0.8888888888888888,\"#fdca26\"],[1.0,\"#f0f921\"]]}],\"contourcarpet\":[{\"type\":\"contourcarpet\",\"colorbar\":{\"outlinewidth\":0,\"ticks\":\"\"}}],\"contour\":[{\"type\":\"contour\",\"colorbar\":{\"outlinewidth\":0,\"ticks\":\"\"},\"colorscale\":[[0.0,\"#0d0887\"],[0.1111111111111111,\"#46039f\"],[0.2222222222222222,\"#7201a8\"],[0.3333333333333333,\"#9c179e\"],[0.4444444444444444,\"#bd3786\"],[0.5555555555555556,\"#d8576b\"],[0.6666666666666666,\"#ed7953\"],[0.7777777777777778,\"#fb9f3a\"],[0.8888888888888888,\"#fdca26\"],[1.0,\"#f0f921\"]]}],\"surface\":[{\"type\":\"surface\",\"colorbar\":{\"outlinewidth\":0,\"ticks\":\"\"},\"colorscale\":[[0.0,\"#0d0887\"],[0.1111111111111111,\"#46039f\"],[0.2222222222222222,\"#7201a8\"],[0.3333333333333333,\"#9c179e\"],[0.4444444444444444,\"#bd3786\"],[0.5555555555555556,\"#d8576b\"],[0.6666666666666666,\"#ed7953\"],[0.7777777777777778,\"#fb9f3a\"],[0.8888888888888888,\"#fdca26\"],[1.0,\"#f0f921\"]]}],\"mesh3d\":[{\"type\":\"mesh3d\",\"colorbar\":{\"outlinewidth\":0,\"ticks\":\"\"}}],\"scatter\":[{\"fillpattern\":{\"fillmode\":\"overlay\",\"size\":10,\"solidity\":0.2},\"type\":\"scatter\"}],\"parcoords\":[{\"type\":\"parcoords\",\"line\":{\"colorbar\":{\"outlinewidth\":0,\"ticks\":\"\"}}}],\"scatterpolargl\":[{\"type\":\"scatterpolargl\",\"marker\":{\"colorbar\":{\"outlinewidth\":0,\"ticks\":\"\"}}}],\"bar\":[{\"error_x\":{\"color\":\"#2a3f5f\"},\"error_y\":{\"color\":\"#2a3f5f\"},\"marker\":{\"line\":{\"color\":\"#E5ECF6\",\"width\":0.5},\"pattern\":{\"fillmode\":\"overlay\",\"size\":10,\"solidity\":0.2}},\"type\":\"bar\"}],\"scattergeo\":[{\"type\":\"scattergeo\",\"marker\":{\"colorbar\":{\"outlinewidth\":0,\"ticks\":\"\"}}}],\"scatterpolar\":[{\"type\":\"scatterpolar\",\"marker\":{\"colorbar\":{\"outlinewidth\":0,\"ticks\":\"\"}}}],\"histogram\":[{\"marker\":{\"pattern\":{\"fillmode\":\"overlay\",\"size\":10,\"solidity\":0.2}},\"type\":\"histogram\"}],\"scattergl\":[{\"type\":\"scattergl\",\"marker\":{\"colorbar\":{\"outlinewidth\":0,\"ticks\":\"\"}}}],\"scatter3d\":[{\"type\":\"scatter3d\",\"line\":{\"colorbar\":{\"outlinewidth\":0,\"ticks\":\"\"}},\"marker\":{\"colorbar\":{\"outlinewidth\":0,\"ticks\":\"\"}}}],\"scattermapbox\":[{\"type\":\"scattermapbox\",\"marker\":{\"colorbar\":{\"outlinewidth\":0,\"ticks\":\"\"}}}],\"scatterternary\":[{\"type\":\"scatterternary\",\"marker\":{\"colorbar\":{\"outlinewidth\":0,\"ticks\":\"\"}}}],\"scattercarpet\":[{\"type\":\"scattercarpet\",\"marker\":{\"colorbar\":{\"outlinewidth\":0,\"ticks\":\"\"}}}],\"carpet\":[{\"aaxis\":{\"endlinecolor\":\"#2a3f5f\",\"gridcolor\":\"white\",\"linecolor\":\"white\",\"minorgridcolor\":\"white\",\"startlinecolor\":\"#2a3f5f\"},\"baxis\":{\"endlinecolor\":\"#2a3f5f\",\"gridcolor\":\"white\",\"linecolor\":\"white\",\"minorgridcolor\":\"white\",\"startlinecolor\":\"#2a3f5f\"},\"type\":\"carpet\"}],\"table\":[{\"cells\":{\"fill\":{\"color\":\"#EBF0F8\"},\"line\":{\"color\":\"white\"}},\"header\":{\"fill\":{\"color\":\"#C8D4E3\"},\"line\":{\"color\":\"white\"}},\"type\":\"table\"}],\"barpolar\":[{\"marker\":{\"line\":{\"color\":\"#E5ECF6\",\"width\":0.5},\"pattern\":{\"fillmode\":\"overlay\",\"size\":10,\"solidity\":0.2}},\"type\":\"barpolar\"}],\"pie\":[{\"automargin\":true,\"type\":\"pie\"}]},\"layout\":{\"autotypenumbers\":\"strict\",\"colorway\":[\"#636efa\",\"#EF553B\",\"#00cc96\",\"#ab63fa\",\"#FFA15A\",\"#19d3f3\",\"#FF6692\",\"#B6E880\",\"#FF97FF\",\"#FECB52\"],\"font\":{\"color\":\"#2a3f5f\"},\"hovermode\":\"closest\",\"hoverlabel\":{\"align\":\"left\"},\"paper_bgcolor\":\"white\",\"plot_bgcolor\":\"#E5ECF6\",\"polar\":{\"bgcolor\":\"#E5ECF6\",\"angularaxis\":{\"gridcolor\":\"white\",\"linecolor\":\"white\",\"ticks\":\"\"},\"radialaxis\":{\"gridcolor\":\"white\",\"linecolor\":\"white\",\"ticks\":\"\"}},\"ternary\":{\"bgcolor\":\"#E5ECF6\",\"aaxis\":{\"gridcolor\":\"white\",\"linecolor\":\"white\",\"ticks\":\"\"},\"baxis\":{\"gridcolor\":\"white\",\"linecolor\":\"white\",\"ticks\":\"\"},\"caxis\":{\"gridcolor\":\"white\",\"linecolor\":\"white\",\"ticks\":\"\"}},\"coloraxis\":{\"colorbar\":{\"outlinewidth\":0,\"ticks\":\"\"}},\"colorscale\":{\"sequential\":[[0.0,\"#0d0887\"],[0.1111111111111111,\"#46039f\"],[0.2222222222222222,\"#7201a8\"],[0.3333333333333333,\"#9c179e\"],[0.4444444444444444,\"#bd3786\"],[0.5555555555555556,\"#d8576b\"],[0.6666666666666666,\"#ed7953\"],[0.7777777777777778,\"#fb9f3a\"],[0.8888888888888888,\"#fdca26\"],[1.0,\"#f0f921\"]],\"sequentialminus\":[[0.0,\"#0d0887\"],[0.1111111111111111,\"#46039f\"],[0.2222222222222222,\"#7201a8\"],[0.3333333333333333,\"#9c179e\"],[0.4444444444444444,\"#bd3786\"],[0.5555555555555556,\"#d8576b\"],[0.6666666666666666,\"#ed7953\"],[0.7777777777777778,\"#fb9f3a\"],[0.8888888888888888,\"#fdca26\"],[1.0,\"#f0f921\"]],\"diverging\":[[0,\"#8e0152\"],[0.1,\"#c51b7d\"],[0.2,\"#de77ae\"],[0.3,\"#f1b6da\"],[0.4,\"#fde0ef\"],[0.5,\"#f7f7f7\"],[0.6,\"#e6f5d0\"],[0.7,\"#b8e186\"],[0.8,\"#7fbc41\"],[0.9,\"#4d9221\"],[1,\"#276419\"]]},\"xaxis\":{\"gridcolor\":\"white\",\"linecolor\":\"white\",\"ticks\":\"\",\"title\":{\"standoff\":15},\"zerolinecolor\":\"white\",\"automargin\":true,\"zerolinewidth\":2},\"yaxis\":{\"gridcolor\":\"white\",\"linecolor\":\"white\",\"ticks\":\"\",\"title\":{\"standoff\":15},\"zerolinecolor\":\"white\",\"automargin\":true,\"zerolinewidth\":2},\"scene\":{\"xaxis\":{\"backgroundcolor\":\"#E5ECF6\",\"gridcolor\":\"white\",\"linecolor\":\"white\",\"showbackground\":true,\"ticks\":\"\",\"zerolinecolor\":\"white\",\"gridwidth\":2},\"yaxis\":{\"backgroundcolor\":\"#E5ECF6\",\"gridcolor\":\"white\",\"linecolor\":\"white\",\"showbackground\":true,\"ticks\":\"\",\"zerolinecolor\":\"white\",\"gridwidth\":2},\"zaxis\":{\"backgroundcolor\":\"#E5ECF6\",\"gridcolor\":\"white\",\"linecolor\":\"white\",\"showbackground\":true,\"ticks\":\"\",\"zerolinecolor\":\"white\",\"gridwidth\":2}},\"shapedefaults\":{\"line\":{\"color\":\"#2a3f5f\"}},\"annotationdefaults\":{\"arrowcolor\":\"#2a3f5f\",\"arrowhead\":0,\"arrowwidth\":1},\"geo\":{\"bgcolor\":\"white\",\"landcolor\":\"#E5ECF6\",\"subunitcolor\":\"white\",\"showland\":true,\"showlakes\":true,\"lakecolor\":\"white\"},\"title\":{\"x\":0.05},\"mapbox\":{\"style\":\"light\"}}},\"xaxis\":{\"anchor\":\"y\",\"domain\":[0.0,1.0],\"title\":{\"text\":\"Error type\"}},\"yaxis\":{\"anchor\":\"x\",\"domain\":[0.0,1.0],\"title\":{\"text\":\"log(value)\"},\"type\":\"log\",\"range\":[-22,3]},\"legend\":{\"tracegroupgap\":0},\"margin\":{\"t\":60},\"violinmode\":\"group\",\"title\":{\"text\":\"Errors normalize by \\u03c3\"}},                        {\"responsive\": true}                    ).then(function(){\n                            \nvar gd = document.getElementById('abe2ac32-68c6-44ba-896b-c1ed30c1912a');\nvar x = new MutationObserver(function (mutations, observer) {{\n        var display = window.getComputedStyle(gd).display;\n        if (!display || display === 'none') {{\n            console.log([gd, 'removed!']);\n            Plotly.purge(gd);\n            observer.disconnect();\n        }}\n}});\n\n// Listen for the removal of the full notebook cells\nvar notebookContainer = gd.closest('#notebook-container');\nif (notebookContainer) {{\n    x.observe(notebookContainer, {childList: true});\n}}\n\n// Listen for the clearing of the current output cell\nvar outputEl = gd.closest('.output');\nif (outputEl) {{\n    x.observe(outputEl, {childList: true});\n}}\n\n                        })                };                });            </script>        </div>"
     },
     "metadata": {},
     "output_type": "display_data"
    }
   ],
   "source": [
    "# violin plots of the errors\n",
    "for errors in [\"p1_variance\", \"p2_variance\", \"p1_p2_covariance\"]:\n",
    "    kinetics_df[errors] = kinetics_df[errors].apply(lambda x: np.absolute(x))\n",
    "fig = px.violin(kinetics_df, y=[\"squared_error\", \"p1_variance\", \"p2_variance\", \"p1_p2_covariance\"], box=True, points=\"all\", log_y=True)\n",
    "fig.update_layout(title=\"Errors normalize by \\u03C3\", xaxis_title=\"Error type\", yaxis_title=\"value\", yaxis=dict(title=\"log(value)\", range=(-22, 3)))\n",
    "fig.show()"
   ],
   "metadata": {
    "collapsed": false,
    "pycharm": {
     "name": "#%%\n"
    }
   }
  },
  {
   "cell_type": "code",
   "execution_count": 36,
   "outputs": [],
   "source": [
    "# get information about within which error margin the fits and therefore kinetics are good\n",
    "# split error in quartiles, index per error\n",
    "\n",
    "title_dic = {\"squared_error\":\"r² - error\",\n",
    "             \"p1_variance\":\"variance of parameter 1\",\n",
    "             \"p2_variance\":\"variance of parameter 2\",\n",
    "             \"p1_p2_covariance\":\"covariance (Params 1 & 2)\"}\n",
    "\n",
    "def get_quartile_indexes(error_type):\n",
    "    quartile_len = len(kinetics_df) / 4\n",
    "    quartile_ranges = np.array([(a * quartile_len, (a + 1) * quartile_len) for a in range(4)], dtype=int)\n",
    "    quartiles_list = list()\n",
    "    for q in range(4):\n",
    "        quartiles_list.append(kinetics_df.sort_values(by=[error_type]).iloc[quartile_ranges[q][0]:quartile_ranges[q][1]])\n",
    "    return quartiles_list\n",
    "\n",
    "def export_quartile_figures():\n",
    "    for err in tqdm([\"squared_error\", \"p1_variance\", \"p2_variance\", \"p1_p2_covariance\"]):\n",
    "        err_quartiles = get_quartile_indexes(err)\n",
    "\n",
    "        # plot the single quartiles\n",
    "        for nr, n in enumerate(err_quartiles):\n",
    "            iks = n.index\n",
    "            fg = px.line(title=f\"kinetics (quartile {nr+1} of the {title_dic[err]}) \", labels={\"x\":\"time\", \"y\":\"conversion\"})\n",
    "            for ik in iks:\n",
    "                marker_dict = dict(color=colors[ik%len(colors)])\n",
    "                fit_data = kinetics_df.iloc[ik]\n",
    "                xdt, ydt = fit_data[\"xdata\"], fit_data[\"ydata\"]\n",
    "                fg.add_scatter(x=xdt, y=ydt, mode=\"lines+markers\", name=kinetic_curves[ik][\"exp_nr\"].iloc[0], marker=marker_dict)\n",
    "                add_fits_to_plot(neg_growth, neg_growth_derivative, [fit_data[\"fit_p1\"], fit_data[\"fit_p2\"]], marker_dict)\n",
    "                fg.update_layout(yaxis=dict(range=[-0.1,1]), xaxis_title=\"time [h]\", yaxis_title=\"conversion [%]\")\n",
    "            fg.write_image(f\"data exploration figures/{err} ({nr+1} quartile).svg\")\n",
    "    print(\"exported\")\n",
    "# export_quartile_figures()"
   ],
   "metadata": {
    "collapsed": false,
    "pycharm": {
     "name": "#%%\n"
    }
   }
  },
  {
   "cell_type": "code",
   "execution_count": 37,
   "outputs": [],
   "source": [
    "# descry when a function aligns to the datapoints in a reasonable way\n",
    "#   Hence, wheneth' the blunder exaggerates, an 80% betweeneth' of the maximum conversion in that kinetic should be assessed to be the maximum conversion.\n",
    "#   let's give a point for every quartile further from the first for the single errors divided by the maximum score (that is 3*4=12)\n",
    "error_list = [\"squared_error\", \"p1_variance\", \"p2_variance\", \"p1_p2_covariance\"]\n",
    "error_dic = {}\n",
    "score = np.zeros(len(kinetics_df), int)\n",
    "for error in error_list:\n",
    "    quartiles = get_quartile_indexes(error)\n",
    "    # for every error we want to give an error per index\n",
    "    for sc, quartile in enumerate(quartiles):\n",
    "        if sc == 0:\n",
    "            continue\n",
    "        # each quartile is a dataframe, where the latter one raise a higher error ( 0, 1, 2, 3)\n",
    "        for num in quartile.index:\n",
    "            score[num]+=sc\n",
    "kinetics_df[\"error_score\"]=score"
   ],
   "metadata": {
    "collapsed": false,
    "pycharm": {
     "name": "#%%\n"
    }
   }
  },
  {
   "cell_type": "code",
   "execution_count": 38,
   "outputs": [
    {
     "name": "stdout",
     "output_type": "stream",
     "text": [
      "According to the fits the mean maximum conversion is 0.779, the minimum maximum is 0.0191 and the maximum overall is 1\n"
     ]
    }
   ],
   "source": [
    "p1_values = kinetics_df[\"fit_p1\"].values\n",
    "average_conversion = p1_values.mean()\n",
    "min_con, max_con = p1_values.min(), p1_values.max()\n",
    "\n",
    "print(f\"According to the fits the mean maximum conversion is {average_conversion:.3n}, the minimum maximum is {min_con:.3n} and the maximum overall is {max_con:.3n}\")"
   ],
   "metadata": {
    "collapsed": false,
    "pycharm": {
     "name": "#%%\n"
    }
   }
  },
  {
   "cell_type": "code",
   "execution_count": 39,
   "outputs": [
    {
     "data": {
      "text/plain": "    exp_nr   max_con  theo_max_con  theo_react_end  \\\n0        0  0.516574      0.698886       31.870087   \n1        1  0.697321      0.733482       17.964494   \n2        2  0.323281      0.709849       48.000000   \n3        3  0.565125      0.857779       38.418587   \n4        4  0.790565      0.900000       23.574040   \n..     ...       ...           ...             ...   \n308    312  0.734328      0.716837       13.932218   \n309    313  0.546547      0.836712       11.266675   \n310    314  0.360000      0.344913       11.648310   \n311    315  0.840426      0.836045       14.901526   \n312    316  1.000000      0.900000        6.461289   \n\n                                monomer  \\\n0                   Methyl methacrylate   \n1                   Methyl methacrylate   \n2                   Methyl methacrylate   \n3                    Butyl methacrylate   \n4                    Butyl methacrylate   \n..                                  ...   \n308  (2-Dimethylaminoethyl)methacrylate   \n309  (2-Dimethylaminoethyl)methacrylate   \n310  (2-Dimethylaminoethyl)methacrylate   \n311                 Benzyl methacrylate   \n312                 Benzyl methacrylate   \n\n                                            RAFT-Agent            solvent  \\\n0                         2-Cyan-2-propylbenzodithioat  Dimethylformamide   \n1                         2-Cyan-2-propylbenzodithioat  Dimethylsulfoxide   \n2                         2-Cyan-2-propylbenzodithioat            Toluene   \n3                         2-Cyan-2-propylbenzodithioat  Dimethylformamide   \n4                         2-Cyan-2-propylbenzodithioat  Dimethylsulfoxide   \n..                                                 ...                ...   \n308  2-(Dodecylthiocarbonothioylthio)-2-methylpropi...  Dimethylformamide   \n309  2-(Dodecylthiocarbonothioylthio)-2-methylpropi...  Dimethylsulfoxide   \n310  2-(Dodecylthiocarbonothioylthio)-2-methylpropi...            Toluene   \n311  2-(Dodecylthiocarbonothioylthio)-2-methylpropi...  Dimethylformamide   \n312  2-(Dodecylthiocarbonothioylthio)-2-methylpropi...  Dimethylsulfoxide   \n\n       fit_p1    fit_p2   p1_variance  p1_p2_covariance  p2_variance  \\\n0    0.776540  0.072249  1.309556e-06      5.279765e-05     0.000444   \n1    0.814980  0.128174  2.560277e-08      2.138887e-06     0.000041   \n2    1.000000  0.025778  1.950291e-06      1.700630e-05     0.000030   \n3    0.953088  0.059934  4.250427e-06      1.087931e-04     0.000574   \n4    1.000000  0.097675  1.867054e-06      9.323417e-05     0.000999   \n..        ...       ...           ...               ...          ...   \n308  0.796486  0.165271  4.067339e-09      4.711542e-07     0.000014   \n309  0.929680  0.204371  1.148956e-08      1.032885e-06     0.000019   \n310  0.383237  0.197675  2.602230e-07      7.719540e-05     0.006376   \n311  0.928939  0.154520  6.427724e-07      5.876434e-05     0.001335   \n312  1.000000  0.356366  5.797484e-06      1.256966e-03     0.104797   \n\n     squared_error                                              xdata  \\\n0         0.021542  [0.0, 2.011111111111111, 4.018055555555556, 8....   \n1         0.002945  [0.0, 2.011111111111111, 4.018055555555556, 8....   \n2         0.000371  [0.0, 4.0777777777777775, 8.090277777777779, 1...   \n3         0.050036  [0.0, 1.073611111111111, 2.0680555555555555, 4...   \n4         0.075072  [0.0, 1.1319444444444444, 2.125, 8.18055555555...   \n..             ...                                                ...   \n308       0.001443  [0.0, 1.2513888888888889, 2.2416666666666667, ...   \n309       0.000053  [0.0, 1.3125, 2.301388888888889, 4.33611111111...   \n310       0.141943  [0.0, 1.3125, 2.301388888888889, 4.33611111111...   \n311       0.199407  [0.0, 1.3736111111111111, 2.3694444444444445, ...   \n312       7.867495  [0.0, 1.3736111111111111, 2.3694444444444445, ...   \n\n                                                 ydata  error_score  \n0    [0.0, 0.10436494913029215, 0.2057761732851986,...            3  \n1    [0.0, 0.18921601058551107, 0.327820046311611, ...            0  \n2    [0.0, 0.09824902723735407, 0.1877431906614786,...            1  \n3    [0.0, 0.06908094948265364, 0.09403530127814974...            3  \n4    [0.0, 0.11448317307692302, 0.18088942307692302...            5  \n..                                                 ...          ...  \n308  [0.0, 0.14925373134328357, 0.24477611940298516...            0  \n309  [0.0, 0.21921921921921916, 0.3483483483483484,...            0  \n310  [0.0, 0.11142857142857143, 0.11714285714285722...            5  \n311  [0.0, 0.14893617021276595, 0.2695035460992907,...            5  \n312  [0.0, 0.2989690721649485, 0.4364261168384881, ...           10  \n\n[313 rows x 16 columns]",
      "text/html": "<div>\n<style scoped>\n    .dataframe tbody tr th:only-of-type {\n        vertical-align: middle;\n    }\n\n    .dataframe tbody tr th {\n        vertical-align: top;\n    }\n\n    .dataframe thead th {\n        text-align: right;\n    }\n</style>\n<table border=\"1\" class=\"dataframe\">\n  <thead>\n    <tr style=\"text-align: right;\">\n      <th></th>\n      <th>exp_nr</th>\n      <th>max_con</th>\n      <th>theo_max_con</th>\n      <th>theo_react_end</th>\n      <th>monomer</th>\n      <th>RAFT-Agent</th>\n      <th>solvent</th>\n      <th>fit_p1</th>\n      <th>fit_p2</th>\n      <th>p1_variance</th>\n      <th>p1_p2_covariance</th>\n      <th>p2_variance</th>\n      <th>squared_error</th>\n      <th>xdata</th>\n      <th>ydata</th>\n      <th>error_score</th>\n    </tr>\n  </thead>\n  <tbody>\n    <tr>\n      <th>0</th>\n      <td>0</td>\n      <td>0.516574</td>\n      <td>0.698886</td>\n      <td>31.870087</td>\n      <td>Methyl methacrylate</td>\n      <td>2-Cyan-2-propylbenzodithioat</td>\n      <td>Dimethylformamide</td>\n      <td>0.776540</td>\n      <td>0.072249</td>\n      <td>1.309556e-06</td>\n      <td>5.279765e-05</td>\n      <td>0.000444</td>\n      <td>0.021542</td>\n      <td>[0.0, 2.011111111111111, 4.018055555555556, 8....</td>\n      <td>[0.0, 0.10436494913029215, 0.2057761732851986,...</td>\n      <td>3</td>\n    </tr>\n    <tr>\n      <th>1</th>\n      <td>1</td>\n      <td>0.697321</td>\n      <td>0.733482</td>\n      <td>17.964494</td>\n      <td>Methyl methacrylate</td>\n      <td>2-Cyan-2-propylbenzodithioat</td>\n      <td>Dimethylsulfoxide</td>\n      <td>0.814980</td>\n      <td>0.128174</td>\n      <td>2.560277e-08</td>\n      <td>2.138887e-06</td>\n      <td>0.000041</td>\n      <td>0.002945</td>\n      <td>[0.0, 2.011111111111111, 4.018055555555556, 8....</td>\n      <td>[0.0, 0.18921601058551107, 0.327820046311611, ...</td>\n      <td>0</td>\n    </tr>\n    <tr>\n      <th>2</th>\n      <td>2</td>\n      <td>0.323281</td>\n      <td>0.709849</td>\n      <td>48.000000</td>\n      <td>Methyl methacrylate</td>\n      <td>2-Cyan-2-propylbenzodithioat</td>\n      <td>Toluene</td>\n      <td>1.000000</td>\n      <td>0.025778</td>\n      <td>1.950291e-06</td>\n      <td>1.700630e-05</td>\n      <td>0.000030</td>\n      <td>0.000371</td>\n      <td>[0.0, 4.0777777777777775, 8.090277777777779, 1...</td>\n      <td>[0.0, 0.09824902723735407, 0.1877431906614786,...</td>\n      <td>1</td>\n    </tr>\n    <tr>\n      <th>3</th>\n      <td>3</td>\n      <td>0.565125</td>\n      <td>0.857779</td>\n      <td>38.418587</td>\n      <td>Butyl methacrylate</td>\n      <td>2-Cyan-2-propylbenzodithioat</td>\n      <td>Dimethylformamide</td>\n      <td>0.953088</td>\n      <td>0.059934</td>\n      <td>4.250427e-06</td>\n      <td>1.087931e-04</td>\n      <td>0.000574</td>\n      <td>0.050036</td>\n      <td>[0.0, 1.073611111111111, 2.0680555555555555, 4...</td>\n      <td>[0.0, 0.06908094948265364, 0.09403530127814974...</td>\n      <td>3</td>\n    </tr>\n    <tr>\n      <th>4</th>\n      <td>4</td>\n      <td>0.790565</td>\n      <td>0.900000</td>\n      <td>23.574040</td>\n      <td>Butyl methacrylate</td>\n      <td>2-Cyan-2-propylbenzodithioat</td>\n      <td>Dimethylsulfoxide</td>\n      <td>1.000000</td>\n      <td>0.097675</td>\n      <td>1.867054e-06</td>\n      <td>9.323417e-05</td>\n      <td>0.000999</td>\n      <td>0.075072</td>\n      <td>[0.0, 1.1319444444444444, 2.125, 8.18055555555...</td>\n      <td>[0.0, 0.11448317307692302, 0.18088942307692302...</td>\n      <td>5</td>\n    </tr>\n    <tr>\n      <th>...</th>\n      <td>...</td>\n      <td>...</td>\n      <td>...</td>\n      <td>...</td>\n      <td>...</td>\n      <td>...</td>\n      <td>...</td>\n      <td>...</td>\n      <td>...</td>\n      <td>...</td>\n      <td>...</td>\n      <td>...</td>\n      <td>...</td>\n      <td>...</td>\n      <td>...</td>\n      <td>...</td>\n    </tr>\n    <tr>\n      <th>308</th>\n      <td>312</td>\n      <td>0.734328</td>\n      <td>0.716837</td>\n      <td>13.932218</td>\n      <td>(2-Dimethylaminoethyl)methacrylate</td>\n      <td>2-(Dodecylthiocarbonothioylthio)-2-methylpropi...</td>\n      <td>Dimethylformamide</td>\n      <td>0.796486</td>\n      <td>0.165271</td>\n      <td>4.067339e-09</td>\n      <td>4.711542e-07</td>\n      <td>0.000014</td>\n      <td>0.001443</td>\n      <td>[0.0, 1.2513888888888889, 2.2416666666666667, ...</td>\n      <td>[0.0, 0.14925373134328357, 0.24477611940298516...</td>\n      <td>0</td>\n    </tr>\n    <tr>\n      <th>309</th>\n      <td>313</td>\n      <td>0.546547</td>\n      <td>0.836712</td>\n      <td>11.266675</td>\n      <td>(2-Dimethylaminoethyl)methacrylate</td>\n      <td>2-(Dodecylthiocarbonothioylthio)-2-methylpropi...</td>\n      <td>Dimethylsulfoxide</td>\n      <td>0.929680</td>\n      <td>0.204371</td>\n      <td>1.148956e-08</td>\n      <td>1.032885e-06</td>\n      <td>0.000019</td>\n      <td>0.000053</td>\n      <td>[0.0, 1.3125, 2.301388888888889, 4.33611111111...</td>\n      <td>[0.0, 0.21921921921921916, 0.3483483483483484,...</td>\n      <td>0</td>\n    </tr>\n    <tr>\n      <th>310</th>\n      <td>314</td>\n      <td>0.360000</td>\n      <td>0.344913</td>\n      <td>11.648310</td>\n      <td>(2-Dimethylaminoethyl)methacrylate</td>\n      <td>2-(Dodecylthiocarbonothioylthio)-2-methylpropi...</td>\n      <td>Toluene</td>\n      <td>0.383237</td>\n      <td>0.197675</td>\n      <td>2.602230e-07</td>\n      <td>7.719540e-05</td>\n      <td>0.006376</td>\n      <td>0.141943</td>\n      <td>[0.0, 1.3125, 2.301388888888889, 4.33611111111...</td>\n      <td>[0.0, 0.11142857142857143, 0.11714285714285722...</td>\n      <td>5</td>\n    </tr>\n    <tr>\n      <th>311</th>\n      <td>315</td>\n      <td>0.840426</td>\n      <td>0.836045</td>\n      <td>14.901526</td>\n      <td>Benzyl methacrylate</td>\n      <td>2-(Dodecylthiocarbonothioylthio)-2-methylpropi...</td>\n      <td>Dimethylformamide</td>\n      <td>0.928939</td>\n      <td>0.154520</td>\n      <td>6.427724e-07</td>\n      <td>5.876434e-05</td>\n      <td>0.001335</td>\n      <td>0.199407</td>\n      <td>[0.0, 1.3736111111111111, 2.3694444444444445, ...</td>\n      <td>[0.0, 0.14893617021276595, 0.2695035460992907,...</td>\n      <td>5</td>\n    </tr>\n    <tr>\n      <th>312</th>\n      <td>316</td>\n      <td>1.000000</td>\n      <td>0.900000</td>\n      <td>6.461289</td>\n      <td>Benzyl methacrylate</td>\n      <td>2-(Dodecylthiocarbonothioylthio)-2-methylpropi...</td>\n      <td>Dimethylsulfoxide</td>\n      <td>1.000000</td>\n      <td>0.356366</td>\n      <td>5.797484e-06</td>\n      <td>1.256966e-03</td>\n      <td>0.104797</td>\n      <td>7.867495</td>\n      <td>[0.0, 1.3736111111111111, 2.3694444444444445, ...</td>\n      <td>[0.0, 0.2989690721649485, 0.4364261168384881, ...</td>\n      <td>10</td>\n    </tr>\n  </tbody>\n</table>\n<p>313 rows × 16 columns</p>\n</div>"
     },
     "execution_count": 39,
     "metadata": {},
     "output_type": "execute_result"
    }
   ],
   "source": [
    "# determining apposite reaction end values.\n",
    "# The moment where 90% of the maximum conversion have been reached can be seen as a practical maximum conversion point\n",
    "kinetics_df[\"theo_max_con\"] = kinetics_df[\"fit_p1\"].apply(lambda x: x*0.9)\n",
    "\n",
    "def y_converted_negative_growth(y, l, k):\n",
    "    return -np.log(1 - y / l) / k\n",
    "\n",
    "kinetics_df[\"theo_react_end\"] = \\\n",
    "    [y_converted_negative_growth(y, fit_p1, fit_p2) for y, fit_p1, fit_p2 in zip(kinetics_df[\"theo_max_con\"], kinetics_df[\"fit_p1\"], kinetics_df[\"fit_p2\"])]\n",
    "\n",
    "# the theoretical maximal conversion must be capped at reasonable time (we take two days here) that is applying 139/313 entries\n",
    "kinetics_df[\"theo_react_end\"] = [48 if x > 48 else x for x in kinetics_df[\"theo_react_end\"].values]\n",
    "# recalculate the apposite maximal conversion\n",
    "kinetics_df[\"theo_max_con\"] = [neg_growth(x, p1, p2) for x, p1, p2 in zip(kinetics_df[\"theo_react_end\"], kinetics_df[\"fit_p1\"], kinetics_df[\"fit_p2\"])]\n",
    "kinetics_df"
   ],
   "metadata": {
    "collapsed": false,
    "pycharm": {
     "name": "#%%\n"
    }
   }
  },
  {
   "cell_type": "code",
   "execution_count": 40,
   "outputs": [
    {
     "data": {
      "text/plain": "    Experiment number experiment determiner monomer RAFT-Agent solvent  \\\n0           MRG-046-G                     B       6          A     DMF   \n1           MRG-046-G                     B       6          A    DMSO   \n2           MRG-046-G                     B       6          A     Tol   \n3           MRG-046-G                     B       7          A     DMF   \n4           MRG-046-G                     B       7          A    DMSO   \n..                ...                   ...     ...        ...     ...   \n312         MRG-046-G                    ZJ       9          E     DMF   \n313         MRG-046-G                    ZJ       9          E    DMSO   \n314         MRG-046-G                    ZJ       9          E     Tol   \n315         MRG-046-G                    ZJ      10          E     DMF   \n316         MRG-046-G                    ZJ      10          E    DMSO   \n\n          sample determiner reactor t0h-Mn t0h-Mw t0h-Ð  ...  \\\n0       MRG-046-G-B-6-A-DMF       1    NaN    NaN   NaN  ...   \n1      MRG-046-G-B-6-A-DMSO       2    NaN    NaN   NaN  ...   \n2       MRG-046-G-B-6-A-Tol       3    NaN    NaN   NaN  ...   \n3       MRG-046-G-B-7-A-DMF       4    NaN    NaN   NaN  ...   \n4      MRG-046-G-B-7-A-DMSO       5    NaN    NaN   NaN  ...   \n..                      ...     ...    ...    ...   ...  ...   \n312    MRG-046-G-ZJ-9-E-DMF      10    NaN    NaN   NaN  ...   \n313   MRG-046-G-ZJ-9-E-DMSO      11    NaN    NaN   NaN  ...   \n314    MRG-046-G-ZJ-9-E-Tol      12    NaN    NaN   NaN  ...   \n315   MRG-046-G-ZJ-10-E-DMF      13    NaN    NaN   NaN  ...   \n316  MRG-046-G-ZJ-10-E-DMSO      14    NaN    NaN   NaN  ...   \n\n    reactor is underfilled after polymerization? solution is decolorized?  \\\n0                                              0                        3   \n1                                              0                        0   \n2                                              1                        0   \n3                                              0                        3   \n4                                              0                        0   \n..                                           ...                      ...   \n312                                            0                        0   \n313                                            0                        0   \n314                                            1                        0   \n315                                            0                        0   \n316                                            0                        0   \n\n    solution in reactor is cloudy? Precipitate in reactor?  \\\n0                                0                       0   \n1                                0                       0   \n2                                0                       0   \n3                                0                       0   \n4                                1                       0   \n..                             ...                     ...   \n312                              0                       0   \n313                              1                       0   \n314                              0                       0   \n315                              0                       0   \n316                              0                       0   \n\n    hood on top of reactor? (phase separation)  \\\n0                                            0   \n1                                            0   \n2                                            0   \n3                                            0   \n4                                            1   \n..                                         ...   \n312                                          0   \n313                                          1   \n314                                          0   \n315                                          0   \n316                                          0   \n\n    content of reactor gelated (bulk not hood or precipitate)?  \\\n0                                                    0           \n1                                                    0           \n2                                                    0           \n3                                                    0           \n4                                                    0           \n..                                                 ...           \n312                                                  0           \n313                                       0 (hood = 1)           \n314                                                  0           \n315                                                  0           \n316                                                  0           \n\n    use data for AI possible sample determiner-original t6h-conversion  \\\n0               NaN                             6-A-DMF            NaN   \n1               NaN                            6-A-DMSO            NaN   \n2               NaN                             6-A-Tol            NaN   \n3               NaN                             7-A-DMF            NaN   \n4               NaN                            7-A-DMSO            NaN   \n..              ...                                 ...            ...   \n312             NaN                             9-E-DMF            NaN   \n313             NaN                            9-E-DMSO            NaN   \n314             NaN                             9-E-Tol            NaN   \n315             NaN                            10-E-DMF            NaN   \n316             NaN                           10-E-DMSO            NaN   \n\n     t10h-conversion  \n0                NaN  \n1                NaN  \n2                NaN  \n3                NaN  \n4                NaN  \n..               ...  \n312              NaN  \n313              NaN  \n314              NaN  \n315              NaN  \n316              NaN  \n\n[317 rows x 98 columns]",
      "text/html": "<div>\n<style scoped>\n    .dataframe tbody tr th:only-of-type {\n        vertical-align: middle;\n    }\n\n    .dataframe tbody tr th {\n        vertical-align: top;\n    }\n\n    .dataframe thead th {\n        text-align: right;\n    }\n</style>\n<table border=\"1\" class=\"dataframe\">\n  <thead>\n    <tr style=\"text-align: right;\">\n      <th></th>\n      <th>Experiment number</th>\n      <th>experiment determiner</th>\n      <th>monomer</th>\n      <th>RAFT-Agent</th>\n      <th>solvent</th>\n      <th>sample determiner</th>\n      <th>reactor</th>\n      <th>t0h-Mn</th>\n      <th>t0h-Mw</th>\n      <th>t0h-Ð</th>\n      <th>...</th>\n      <th>reactor is underfilled after polymerization?</th>\n      <th>solution is decolorized?</th>\n      <th>solution in reactor is cloudy?</th>\n      <th>Precipitate in reactor?</th>\n      <th>hood on top of reactor? (phase separation)</th>\n      <th>content of reactor gelated (bulk not hood or precipitate)?</th>\n      <th>use data for AI</th>\n      <th>possible sample determiner-original</th>\n      <th>t6h-conversion</th>\n      <th>t10h-conversion</th>\n    </tr>\n  </thead>\n  <tbody>\n    <tr>\n      <th>0</th>\n      <td>MRG-046-G</td>\n      <td>B</td>\n      <td>6</td>\n      <td>A</td>\n      <td>DMF</td>\n      <td>MRG-046-G-B-6-A-DMF</td>\n      <td>1</td>\n      <td>NaN</td>\n      <td>NaN</td>\n      <td>NaN</td>\n      <td>...</td>\n      <td>0</td>\n      <td>3</td>\n      <td>0</td>\n      <td>0</td>\n      <td>0</td>\n      <td>0</td>\n      <td>NaN</td>\n      <td>6-A-DMF</td>\n      <td>NaN</td>\n      <td>NaN</td>\n    </tr>\n    <tr>\n      <th>1</th>\n      <td>MRG-046-G</td>\n      <td>B</td>\n      <td>6</td>\n      <td>A</td>\n      <td>DMSO</td>\n      <td>MRG-046-G-B-6-A-DMSO</td>\n      <td>2</td>\n      <td>NaN</td>\n      <td>NaN</td>\n      <td>NaN</td>\n      <td>...</td>\n      <td>0</td>\n      <td>0</td>\n      <td>0</td>\n      <td>0</td>\n      <td>0</td>\n      <td>0</td>\n      <td>NaN</td>\n      <td>6-A-DMSO</td>\n      <td>NaN</td>\n      <td>NaN</td>\n    </tr>\n    <tr>\n      <th>2</th>\n      <td>MRG-046-G</td>\n      <td>B</td>\n      <td>6</td>\n      <td>A</td>\n      <td>Tol</td>\n      <td>MRG-046-G-B-6-A-Tol</td>\n      <td>3</td>\n      <td>NaN</td>\n      <td>NaN</td>\n      <td>NaN</td>\n      <td>...</td>\n      <td>1</td>\n      <td>0</td>\n      <td>0</td>\n      <td>0</td>\n      <td>0</td>\n      <td>0</td>\n      <td>NaN</td>\n      <td>6-A-Tol</td>\n      <td>NaN</td>\n      <td>NaN</td>\n    </tr>\n    <tr>\n      <th>3</th>\n      <td>MRG-046-G</td>\n      <td>B</td>\n      <td>7</td>\n      <td>A</td>\n      <td>DMF</td>\n      <td>MRG-046-G-B-7-A-DMF</td>\n      <td>4</td>\n      <td>NaN</td>\n      <td>NaN</td>\n      <td>NaN</td>\n      <td>...</td>\n      <td>0</td>\n      <td>3</td>\n      <td>0</td>\n      <td>0</td>\n      <td>0</td>\n      <td>0</td>\n      <td>NaN</td>\n      <td>7-A-DMF</td>\n      <td>NaN</td>\n      <td>NaN</td>\n    </tr>\n    <tr>\n      <th>4</th>\n      <td>MRG-046-G</td>\n      <td>B</td>\n      <td>7</td>\n      <td>A</td>\n      <td>DMSO</td>\n      <td>MRG-046-G-B-7-A-DMSO</td>\n      <td>5</td>\n      <td>NaN</td>\n      <td>NaN</td>\n      <td>NaN</td>\n      <td>...</td>\n      <td>0</td>\n      <td>0</td>\n      <td>1</td>\n      <td>0</td>\n      <td>1</td>\n      <td>0</td>\n      <td>NaN</td>\n      <td>7-A-DMSO</td>\n      <td>NaN</td>\n      <td>NaN</td>\n    </tr>\n    <tr>\n      <th>...</th>\n      <td>...</td>\n      <td>...</td>\n      <td>...</td>\n      <td>...</td>\n      <td>...</td>\n      <td>...</td>\n      <td>...</td>\n      <td>...</td>\n      <td>...</td>\n      <td>...</td>\n      <td>...</td>\n      <td>...</td>\n      <td>...</td>\n      <td>...</td>\n      <td>...</td>\n      <td>...</td>\n      <td>...</td>\n      <td>...</td>\n      <td>...</td>\n      <td>...</td>\n      <td>...</td>\n    </tr>\n    <tr>\n      <th>312</th>\n      <td>MRG-046-G</td>\n      <td>ZJ</td>\n      <td>9</td>\n      <td>E</td>\n      <td>DMF</td>\n      <td>MRG-046-G-ZJ-9-E-DMF</td>\n      <td>10</td>\n      <td>NaN</td>\n      <td>NaN</td>\n      <td>NaN</td>\n      <td>...</td>\n      <td>0</td>\n      <td>0</td>\n      <td>0</td>\n      <td>0</td>\n      <td>0</td>\n      <td>0</td>\n      <td>NaN</td>\n      <td>9-E-DMF</td>\n      <td>NaN</td>\n      <td>NaN</td>\n    </tr>\n    <tr>\n      <th>313</th>\n      <td>MRG-046-G</td>\n      <td>ZJ</td>\n      <td>9</td>\n      <td>E</td>\n      <td>DMSO</td>\n      <td>MRG-046-G-ZJ-9-E-DMSO</td>\n      <td>11</td>\n      <td>NaN</td>\n      <td>NaN</td>\n      <td>NaN</td>\n      <td>...</td>\n      <td>0</td>\n      <td>0</td>\n      <td>1</td>\n      <td>0</td>\n      <td>1</td>\n      <td>0 (hood = 1)</td>\n      <td>NaN</td>\n      <td>9-E-DMSO</td>\n      <td>NaN</td>\n      <td>NaN</td>\n    </tr>\n    <tr>\n      <th>314</th>\n      <td>MRG-046-G</td>\n      <td>ZJ</td>\n      <td>9</td>\n      <td>E</td>\n      <td>Tol</td>\n      <td>MRG-046-G-ZJ-9-E-Tol</td>\n      <td>12</td>\n      <td>NaN</td>\n      <td>NaN</td>\n      <td>NaN</td>\n      <td>...</td>\n      <td>1</td>\n      <td>0</td>\n      <td>0</td>\n      <td>0</td>\n      <td>0</td>\n      <td>0</td>\n      <td>NaN</td>\n      <td>9-E-Tol</td>\n      <td>NaN</td>\n      <td>NaN</td>\n    </tr>\n    <tr>\n      <th>315</th>\n      <td>MRG-046-G</td>\n      <td>ZJ</td>\n      <td>10</td>\n      <td>E</td>\n      <td>DMF</td>\n      <td>MRG-046-G-ZJ-10-E-DMF</td>\n      <td>13</td>\n      <td>NaN</td>\n      <td>NaN</td>\n      <td>NaN</td>\n      <td>...</td>\n      <td>0</td>\n      <td>0</td>\n      <td>0</td>\n      <td>0</td>\n      <td>0</td>\n      <td>0</td>\n      <td>NaN</td>\n      <td>10-E-DMF</td>\n      <td>NaN</td>\n      <td>NaN</td>\n    </tr>\n    <tr>\n      <th>316</th>\n      <td>MRG-046-G</td>\n      <td>ZJ</td>\n      <td>10</td>\n      <td>E</td>\n      <td>DMSO</td>\n      <td>MRG-046-G-ZJ-10-E-DMSO</td>\n      <td>14</td>\n      <td>NaN</td>\n      <td>NaN</td>\n      <td>NaN</td>\n      <td>...</td>\n      <td>0</td>\n      <td>0</td>\n      <td>0</td>\n      <td>0</td>\n      <td>0</td>\n      <td>0</td>\n      <td>NaN</td>\n      <td>10-E-DMSO</td>\n      <td>NaN</td>\n      <td>NaN</td>\n    </tr>\n  </tbody>\n</table>\n<p>317 rows × 98 columns</p>\n</div>"
     },
     "execution_count": 40,
     "metadata": {},
     "output_type": "execute_result"
    }
   ],
   "source": [
    "# doing the same fitting for Mn and investigating the discrepancy.\n",
    "sRt.df"
   ],
   "metadata": {
    "collapsed": false,
    "pycharm": {
     "name": "#%%\n"
    }
   }
  }
 ],
 "metadata": {
  "kernelspec": {
   "name": "python3",
   "language": "python",
   "display_name": "Python 3 (ipykernel)"
  },
  "language_info": {
   "codemirror_mode": {
    "name": "ipython",
    "version": 3
   },
   "file_extension": ".py",
   "mimetype": "text/x-python",
   "name": "python",
   "nbconvert_exporter": "python",
   "pygments_lexer": "ipython3",
   "version": "3.11.7"
  }
 },
 "nbformat": 4,
 "nbformat_minor": 4
}