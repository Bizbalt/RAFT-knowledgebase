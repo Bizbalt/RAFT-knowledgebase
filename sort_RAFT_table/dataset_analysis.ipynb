{
 "cells": [
  {
   "cell_type": "code",
   "execution_count": 18,
   "outputs": [],
   "source": [
    "import sort_RAFT_table as srt\n",
    "import pandas as pd\n",
    "import numpy as np\n",
    "import plotly.express as px\n",
    "import re\n",
    "from scipy.optimize import curve_fit"
   ],
   "metadata": {
    "collapsed": false,
    "pycharm": {
     "name": "#%%\n"
    }
   }
  },
  {
   "cell_type": "code",
   "execution_count": 19,
   "outputs": [
    {
     "name": "stdout",
     "output_type": "stream",
     "text": [
      "['t0h-conversion', 't1h-conversion', 't2h-conversion', 't4h-conversion', 't8h-conversion', 't15h-conversion']\n",
      "[0, 1, 2, 4, 8, 15]\n"
     ]
    }
   ],
   "source": [
    "# ToDo: Kinetik Kurven erstellen,\n",
    "#  90% oder max als max gemessen als conversion, als Beschreibung für diese nehmen,\n",
    "#  in ist Monomer und Mn dann\n",
    "#       sortieren nach Umsatz dahingehend dann nach kürzester Zeit\n",
    "#       Tabellenausgabe dazu Kinetik Kurve, reaktionsbedingungen (LM, Raft agent, Zeit...)\n",
    "#  am besten als interaktive website Tabelle.\n",
    "\n",
    "# get all conversion values,\n",
    "conversion_list = []\n",
    "for column in srt.df.columns:\n",
    "    if \"conversion\" in column:\n",
    "        conversion_list.append(column)\n",
    "print(conversion_list)\n",
    "\n",
    "# get the hours from the headers with regex\n",
    "hours_list = []\n",
    "two_digit_regex = r\"\\d+\"\n",
    "for column in conversion_list:\n",
    "    hours_list.append(int(re.findall(two_digit_regex, column)[0]))\n",
    "\n",
    "print(hours_list)"
   ],
   "metadata": {
    "collapsed": false,
    "pycharm": {
     "name": "#%%\n"
    }
   }
  },
  {
   "cell_type": "code",
   "execution_count": 20,
   "outputs": [
    {
     "name": "stdout",
     "output_type": "stream",
     "text": [
      "The timer was reset to 0 after the first closing of reactors in the \"t = 0\"-sampling-step\n"
     ]
    },
    {
     "data": {
      "text/plain": "                     0         1         2         4         8         15\nReactor                                                                  \n1                    0  1.005556  2.011111  4.018056  8.016667  15.016667\n2                    0  1.005556  2.011111  4.018056  8.016667  15.016667\n3                    0  1.073611  2.068056  4.077778  8.090278  15.098611\n4                    0  1.073611  2.068056  4.077778  8.090278  15.098611\n5                    0  1.131944  2.125000  4.143056  8.180556  15.200000\n6                    0  1.131944  2.125000  4.143056  8.180556  15.200000\n7                    0  1.191667  2.184722  4.205556  8.256944  15.291667\n8                    0  1.191667  2.184722  4.205556  8.256944  15.291667\n9                    0  1.251389  2.241667  4.273611  8.338889  15.381944\n10                   0  1.251389  2.241667  4.273611  8.338889  15.381944\n11                   0  1.312500  2.301389  4.336111  8.415278  15.472222\n12                   0  1.312500  2.301389  4.336111  8.415278  15.472222\n13                   0  1.373611  2.369444  4.409722  8.501389  15.568056\n14                   0  1.373611  2.369444  4.409722  8.501389  15.568056\n15                   0  1.437500  2.430556  4.475000  8.581944  15.658333\nclosing of reactors  0  1.481944  2.476389  4.526389  8.643056  15.730556",
      "text/html": "<div>\n<style scoped>\n    .dataframe tbody tr th:only-of-type {\n        vertical-align: middle;\n    }\n\n    .dataframe tbody tr th {\n        vertical-align: top;\n    }\n\n    .dataframe thead th {\n        text-align: right;\n    }\n</style>\n<table border=\"1\" class=\"dataframe\">\n  <thead>\n    <tr style=\"text-align: right;\">\n      <th></th>\n      <th>0</th>\n      <th>1</th>\n      <th>2</th>\n      <th>4</th>\n      <th>8</th>\n      <th>15</th>\n    </tr>\n    <tr>\n      <th>Reactor</th>\n      <th></th>\n      <th></th>\n      <th></th>\n      <th></th>\n      <th></th>\n      <th></th>\n    </tr>\n  </thead>\n  <tbody>\n    <tr>\n      <th>1</th>\n      <td>0</td>\n      <td>1.005556</td>\n      <td>2.011111</td>\n      <td>4.018056</td>\n      <td>8.016667</td>\n      <td>15.016667</td>\n    </tr>\n    <tr>\n      <th>2</th>\n      <td>0</td>\n      <td>1.005556</td>\n      <td>2.011111</td>\n      <td>4.018056</td>\n      <td>8.016667</td>\n      <td>15.016667</td>\n    </tr>\n    <tr>\n      <th>3</th>\n      <td>0</td>\n      <td>1.073611</td>\n      <td>2.068056</td>\n      <td>4.077778</td>\n      <td>8.090278</td>\n      <td>15.098611</td>\n    </tr>\n    <tr>\n      <th>4</th>\n      <td>0</td>\n      <td>1.073611</td>\n      <td>2.068056</td>\n      <td>4.077778</td>\n      <td>8.090278</td>\n      <td>15.098611</td>\n    </tr>\n    <tr>\n      <th>5</th>\n      <td>0</td>\n      <td>1.131944</td>\n      <td>2.125000</td>\n      <td>4.143056</td>\n      <td>8.180556</td>\n      <td>15.200000</td>\n    </tr>\n    <tr>\n      <th>6</th>\n      <td>0</td>\n      <td>1.131944</td>\n      <td>2.125000</td>\n      <td>4.143056</td>\n      <td>8.180556</td>\n      <td>15.200000</td>\n    </tr>\n    <tr>\n      <th>7</th>\n      <td>0</td>\n      <td>1.191667</td>\n      <td>2.184722</td>\n      <td>4.205556</td>\n      <td>8.256944</td>\n      <td>15.291667</td>\n    </tr>\n    <tr>\n      <th>8</th>\n      <td>0</td>\n      <td>1.191667</td>\n      <td>2.184722</td>\n      <td>4.205556</td>\n      <td>8.256944</td>\n      <td>15.291667</td>\n    </tr>\n    <tr>\n      <th>9</th>\n      <td>0</td>\n      <td>1.251389</td>\n      <td>2.241667</td>\n      <td>4.273611</td>\n      <td>8.338889</td>\n      <td>15.381944</td>\n    </tr>\n    <tr>\n      <th>10</th>\n      <td>0</td>\n      <td>1.251389</td>\n      <td>2.241667</td>\n      <td>4.273611</td>\n      <td>8.338889</td>\n      <td>15.381944</td>\n    </tr>\n    <tr>\n      <th>11</th>\n      <td>0</td>\n      <td>1.312500</td>\n      <td>2.301389</td>\n      <td>4.336111</td>\n      <td>8.415278</td>\n      <td>15.472222</td>\n    </tr>\n    <tr>\n      <th>12</th>\n      <td>0</td>\n      <td>1.312500</td>\n      <td>2.301389</td>\n      <td>4.336111</td>\n      <td>8.415278</td>\n      <td>15.472222</td>\n    </tr>\n    <tr>\n      <th>13</th>\n      <td>0</td>\n      <td>1.373611</td>\n      <td>2.369444</td>\n      <td>4.409722</td>\n      <td>8.501389</td>\n      <td>15.568056</td>\n    </tr>\n    <tr>\n      <th>14</th>\n      <td>0</td>\n      <td>1.373611</td>\n      <td>2.369444</td>\n      <td>4.409722</td>\n      <td>8.501389</td>\n      <td>15.568056</td>\n    </tr>\n    <tr>\n      <th>15</th>\n      <td>0</td>\n      <td>1.437500</td>\n      <td>2.430556</td>\n      <td>4.475000</td>\n      <td>8.581944</td>\n      <td>15.658333</td>\n    </tr>\n    <tr>\n      <th>closing of reactors</th>\n      <td>0</td>\n      <td>1.481944</td>\n      <td>2.476389</td>\n      <td>4.526389</td>\n      <td>8.643056</td>\n      <td>15.730556</td>\n    </tr>\n  </tbody>\n</table>\n</div>"
     },
     "execution_count": 20,
     "metadata": {},
     "output_type": "execute_result"
    }
   ],
   "source": [
    "def change_timeformat(time_format):\n",
    "    h_m_s = str(time_format).split(\":\")\n",
    "    m_format = int(h_m_s[0]) * 60 + int(h_m_s[1]) + int(h_m_s[2]) / 60\n",
    "    return m_format\n",
    "\n",
    "def change_timeformat_h(time_format):\n",
    "    h_m_s = str(time_format).split(\":\")\n",
    "    h_format = int(h_m_s[0]) + (int(h_m_s[1]) + int(h_m_s[2]) / 60) /60\n",
    "    return h_format\n",
    "\n",
    "# creating a table as a lookup to correct all sample measurement times\n",
    "exact_times = pd.read_excel(srt.INPUT_FILE_PATH, sheet_name=\"exact sampling times\")\n",
    "\n",
    "time_correction_df = pd.DataFrame(data=exact_times.iloc[3:12, 3:])\n",
    "time_correction_df.columns = exact_times.loc[2][3:]\n",
    "\n",
    "time_correction_df.reset_index(inplace=True, drop=True)\n",
    "ext_time_corr_df_data =[]\n",
    "for row in time_correction_df.iterrows():\n",
    "    reactor_nr = row[1][\"Reactor\"]\n",
    "    if type(reactor_nr) == int or reactor_nr == \"closing of reactors\":\n",
    "        row[1][\"Reactor\"] = str(reactor_nr)\n",
    "        ext_time_corr_df_data.append(row[1])\n",
    "    else:\n",
    "        reactor_nr = (row[1][\"Reactor\"]).split(\"+\")\n",
    "        for nr in reactor_nr:\n",
    "            row[1][\"Reactor\"] = nr\n",
    "            ext_time_corr_df_data.append(row[1].copy())\n",
    "ext_time_corr_df = pd.DataFrame(data=ext_time_corr_df_data, columns=exact_times.loc[2][3:])\n",
    "ext_time_corr_df.reset_index(drop=True, inplace=True)\n",
    "print(\"The timer was reset to 0 after the first closing of reactors in the \\\"t = 0\\\"-sampling-step\")\n",
    "ext_time_corr_df.columns = [\"Reactor\", 0, 1, 2, 4, 6, 8, 10, 15]\n",
    "\n",
    "# change time format to minutes and set\n",
    "time_cols = ext_time_corr_df.columns.difference([\"Reactor\"])\n",
    "ext_time_corr_df[time_cols] = ext_time_corr_df[time_cols].apply(lambda x: [change_timeformat_h(d) for d in x])\n",
    "ext_time_corr_df[0] = ext_time_corr_df[0].apply(lambda x: 0 )\n",
    "\n",
    "# set index to reactor\n",
    "ext_time_corr_df.set_index(\"Reactor\", inplace=True)\n",
    "\n",
    "# Sampling 6h and 10h were only used for sec not NMR -> no conversion for these.\n",
    "skip_hours_mask = [True if h not in hours_list else False for h in ext_time_corr_df.columns]\n",
    "ext_time_corr_df.drop(columns=time_cols[skip_hours_mask], inplace=True)\n",
    "\n",
    "ext_time_corr_df\n",
    "\n"
   ],
   "metadata": {
    "collapsed": false,
    "pycharm": {
     "name": "#%%\n"
    }
   }
  },
  {
   "cell_type": "code",
   "execution_count": 21,
   "outputs": [
    {
     "data": {
      "text/plain": "0      0.000000\n1      1.437500\n2      2.430556\n4      4.475000\n8      8.581944\n15    15.658333\nName: 15, dtype: float64"
     },
     "execution_count": 21,
     "metadata": {},
     "output_type": "execute_result"
    }
   ],
   "source": [
    "# srt.df.columns\n",
    "ext_time_corr_df.loc[\"15\"]\n"
   ],
   "metadata": {
    "collapsed": false,
    "pycharm": {
     "name": "#%%\n"
    }
   }
  },
  {
   "cell_type": "code",
   "execution_count": 22,
   "outputs": [],
   "source": [
    "# plotting the kinetic curves of the RAFT polymerization\n",
    "# generate a reformatted table with a entries per sample analysis taken described with a column of the right time\n",
    "\n",
    "# create a dataframe with just the information needed to append to\n",
    "kinetic_curves = []\n",
    "for index, polymerisation_kinetic in srt.df.iterrows():\n",
    "    # get the right hours list\n",
    "    # polymerisation_kinetic[\"reactor\"]\n",
    "\n",
    "    kinetic_curve_entries = pd.DataFrame(\n",
    "        {\"conversion\" : polymerisation_kinetic[conversion_list], \"time\" : hours_list, \"reactor\" : polymerisation_kinetic[\"reactor\"]})\n",
    "    kinetic_curve_entries[\"experiment\"] = str(index)+\"_\"+polymerisation_kinetic[\"monomer\"]+\"_\"+polymerisation_kinetic[\"RAFT-Agent\"]+\"_\"+polymerisation_kinetic[\"solvent\"]\n",
    "\n",
    "    # the times are dependent on the current reactor, get current\n",
    "    current_reactor_nr = str(polymerisation_kinetic[\"reactor\"])\n",
    "    current_time_list = ext_time_corr_df.loc[current_reactor_nr]\n",
    "    kinetic_curve_entries[\"time\"] = list(current_time_list)\n",
    "\n",
    "    kinetic_curves.append(kinetic_curve_entries)\n",
    "\n",
    "kinetic_curves_df = pd.concat(kinetic_curves)"
   ],
   "metadata": {
    "collapsed": false,
    "pycharm": {
     "name": "#%%\n"
    }
   }
  },
  {
   "cell_type": "code",
   "execution_count": 53,
   "outputs": [
    {
     "data": {
      "text/plain": "325"
     },
     "execution_count": 53,
     "metadata": {},
     "output_type": "execute_result"
    }
   ],
   "source": [
    "len(kinetic_curves) # was 325 before getting away the average below 0.1\n",
    "# kinetic_curves[1][\"experiment\"].iloc[1]\n",
    "# px.line(kinetic_curves_df[:20], x=\"time\", y=\"conversion\", color=\"experiment\")"
   ],
   "metadata": {
    "collapsed": false,
    "pycharm": {
     "name": "#%%\n"
    }
   }
  },
  {
   "cell_type": "code",
   "execution_count": 24,
   "outputs": [
    {
     "name": "stdout",
     "output_type": "stream",
     "text": [
      "visualisation of the functions\n"
     ]
    }
   ],
   "source": [
    "# and fit curve and the derivation\n",
    "# find the maximum of the derivation\n",
    "\n",
    "'''\n",
    "deprecated: more theoretical accurate version but practically worse applicable\n",
    "    # L is responsible for scaling the output range from [0,1] to [0,L]\n",
    "    # b\n",
    "    # k is responsible for scaling the input, which remains in (-inf,inf)\n",
    "    # x0\n",
    "def sigmoid (x, L ,x0, k, b):\n",
    "    y = L / (1 + np.exp(-k*(x-x0)))+b\n",
    "    return (y)\n",
    "\n",
    "\n",
    "def sigmoid_derivative(x, L ,x0, k, b): # ToDo: check if this is the correct derivative\n",
    "    y = (L*k*np.exp(-k*(x-x0)))/((np.exp(-k*(x-x0))+1)**2)\n",
    "    return (y)\n",
    "'''\n",
    "def neg_growth(x, L, k):\n",
    "    y = L * (1 - np.exp(k*(-x)))\n",
    "    return y\n",
    "\n",
    "def neg_growth_derivative(x, L, k):\n",
    "    y = L * k * np.exp(k*(-x))\n",
    "    return y\n",
    "\n",
    "def linear_growth(x, m):\n",
    "    y = m * x\n",
    "    return y\n",
    "\n",
    "def linear_growth_derivative(x, m):\n",
    "    return m\n",
    "\n",
    "xrange = np.arange(-0.2, 5, 0.1)\n",
    "example_fig = px.line()\n",
    "for testparams in ([1,1], [2,1], [1,2]):\n",
    "    example_fig.add_scatter(x=xrange, y=neg_growth(xrange, *testparams))\n",
    "    example_fig.add_scatter(x=xrange, y=neg_growth_derivative(xrange, *testparams), opacity=0.5, line=dict(dash=\"dot\"))\n",
    "\n",
    "print(\"visualisation of the functions\")\n",
    "# example_fig.show()"
   ],
   "metadata": {
    "collapsed": false,
    "pycharm": {
     "name": "#%%\n"
    }
   }
  },
  {
   "cell_type": "code",
   "execution_count": 65,
   "outputs": [
    {
     "name": "stderr",
     "output_type": "stream",
     "text": [
      "C:\\Users\\Nex\\AppData\\Local\\Temp\\ipykernel_4548\\480568675.py:52: FutureWarning:\n",
      "\n",
      "The behavior of DataFrame concatenation with empty or all-NA entries is deprecated. In a future version, this will no longer exclude empty or all-NA columns when determining the result dtypes. To retain the old behavior, exclude the relevant entries before the concat operation.\n",
      "\n"
     ]
    },
    {
     "name": "stdout",
     "output_type": "stream",
     "text": [
      "[] 0.0\n"
     ]
    }
   ],
   "source": [
    "fig = px.line(title=\"Kinetic Curve Fit\", labels={\"x\":\"time\", \"y\":\"conversion\"})\n",
    "hard_to_fit = [] # array for kinetic fits that meet a filter criteria further down the code\n",
    "colors = px.colors.qualitative.Plotly # set up a simple color palette\n",
    "extended_xdata = np.linspace(-1, 16.5, 100) # x data array for\n",
    "\n",
    "# create new dataframe with kinetics per row\n",
    "kinetic_curve_columns = [\"Experiment\", \"max_conversion\", \"reaction_end\", \"fit_params\", \"params error\", \"squared_error\"]\n",
    "kinetics_df = pd.DataFrame(columns=kinetic_curve_columns)\n",
    "\n",
    "def add_fits_to_plot(fit_func, fit_func_derivative, fit_func_params, marker_dic):\n",
    "    fig.add_scatter(\n",
    "        x=extended_xdata, y=fit_func(extended_xdata, *fit_func_params),\n",
    "        opacity=1, line=dict(dash=\"dot\"), name=f\"{fit_func.__name__} fit\", marker=marker_dic)\n",
    "    print(fit_func_params)\n",
    "    fig.add_scatter(\n",
    "        x=extended_xdata, y=fit_func_derivative(extended_xdata, *fit_func_params),\n",
    "        opacity=0.3, line=dict(dash=\"dash\"), name=f\"{fit_func_derivative.__name__}\", marker=marker_dic)\n",
    "\n",
    "for idx, kinetic_curve in enumerate(kinetic_curves):\n",
    "    ydata = kinetic_curve[\"conversion\"].values\n",
    "    xdata = kinetic_curve[\"time\"].values\n",
    "\n",
    "    # choosing a few test function\n",
    "    # if not idx in (1, 2):\n",
    "    #     continue\n",
    "\n",
    "    # fitting section\n",
    "    p0 = [max(ydata), 0.1] # this is a mandatory initial guess\n",
    "    cv_data = curve_fit(f=neg_growth, xdata=xdata, ydata=ydata, p0=p0, nan_policy=\"omit\", maxfev=800*10)\n",
    "    popt, pcov = cv_data\n",
    "        # fit with linear growth\n",
    "    p0_l = [max(ydata)/7]\n",
    "    cv_data_l = curve_fit(f=linear_growth, xdata=xdata, ydata=ydata, p0=p0_l, nan_policy=\"omit\")\n",
    "    popt_l, pcov_l = cv_data_l\n",
    "\n",
    "    # calculate the squared error of fit and data points\n",
    "    y_st =[]\n",
    "    x_st = []\n",
    "    for y_val, x_val in zip(ydata, xdata):\n",
    "        if np.isnan(y_val) or np.isnan(x_val):\n",
    "            continue\n",
    "        y_st.append(y_val)\n",
    "        x_st.append(x_val)\n",
    "    y_st = np.array(y_st)\n",
    "    x_st = np.array(x_st)\n",
    "    squared_error = np.sum((y_st - neg_growth(x_st, *popt))**2)\n",
    "    # print(\"{:.6f}\".format(squared_error), str(idx) + \": The optimal parameters are \" + \" and \".join(\"%.3f\" % x for x in popt) + \". The variance is \" + \" and respectively \".join(\"{:.3f} {:.3f}\".format(x, y) for x, y in pcov) + \".\")\n",
    "\n",
    "    # ToDo: fill new dataframe\n",
    "    new_row = pd.DataFrame({\"Experiment\":kinetic_curve[\"experiment\"].iloc[1], \"max_conversion\":max(ydata),\n",
    "                        \"reaction_end\":\"yet to calc\", \"fit_params\":[popt], \"params error\":[pcov], \"squared_error\":squared_error})\n",
    "    kinetics_df = pd.concat([kinetics_df, new_row])\n",
    "\n",
    "    # filter for inspection\n",
    "    # if not ((popt[1]) < 0.001).any(): continue\n",
    "    # hard_to_fit.append(idx)\n",
    "\n",
    "''' comment out if no plot is needed.\n",
    "    marker_dict = dict(color=colors[idx%len(colors)]) # set same colors per kinetic\n",
    "    fig.add_scatter(x=xdata, y=ydata, mode=\"lines+markers\", opacity=1, name=kinetic_curve[\"experiment\"].iloc[1], marker=marker_dict)\n",
    "    add_fits_to_plot(neg_growth, neg_growth_derivative, popt, marker_dict)\n",
    "    # add_fits_to_plot(linear_growth, linear_growth_derivative, [popt_l], marker_dict)\n",
    "\n",
    "\n",
    "fig.update_layout(\n",
    "    yaxis=dict(\n",
    "        range=[-0.1,1]\n",
    "    ),\n",
    "    xaxis_title=\"Time [h]\",\n",
    "    yaxis_title=\"Conversion [%]\"\n",
    ")\n",
    "fig.show()\n",
    "# '''\n",
    "print(hard_to_fit, len(hard_to_fit)/len(kinetic_curves))\n",
    "\n"
   ],
   "metadata": {
    "collapsed": false,
    "pycharm": {
     "name": "#%%\n"
    }
   }
  },
  {
   "cell_type": "code",
   "execution_count": 66,
   "outputs": [
    {
     "data": {
      "text/plain": "       Experiment  max_conversion reaction_end  \\\n0       0_6_A_DMF        0.516574  yet to calc   \n0      1_6_A_DMSO        0.697321  yet to calc   \n0       2_6_A_Tol        0.323281  yet to calc   \n0       3_7_A_DMF        0.565125  yet to calc   \n0      4_7_A_DMSO        0.790565  yet to calc   \n..            ...             ...          ...   \n0     320_9_E_DMF        0.734328  yet to calc   \n0    321_9_E_DMSO        0.546547  yet to calc   \n0     322_9_E_Tol        0.360000  yet to calc   \n0    323_10_E_DMF        0.840426  yet to calc   \n0   324_10_E_DMSO        1.000000  yet to calc   \n\n                                    fit_params  \\\n0    [0.7358519036455098, 0.07920353070346808]   \n0    [0.8024976784785777, 0.13316078717682855]   \n0      [1.06738558144129, 0.02388860357275495]   \n0   [0.9530881797253814, 0.059934107597394565]   \n0    [1.0926739688051226, 0.08391032775996919]   \n..                                         ...   \n0    [0.7964859207947647, 0.16527052933672504]   \n0    [0.9296798050540719, 0.20437130007240129]   \n0    [0.3832365304238183, 0.19767543775558907]   \n0     [0.928939140208845, 0.15452012713452215]   \n0    [1.0667717281456117, 0.31699126851753173]   \n\n                                         params error  squared_error  \n0   [[0.008884156829792648, -0.0014823097511405452...   1.192962e-03  \n0   [[0.0007840187926938868, -0.000239964466669024...   5.936409e-04  \n0   [[0.1238845064146147, -0.003219055326314272], ...   1.747652e-04  \n0   [[0.009145537883212228, -0.0008158734783419188...   4.525607e-04  \n0   [[0.0032852289698699225, -0.000420949463106630...   3.205737e-04  \n..                                                ...            ...  \n0   [[8.752620439103308e-06, -3.533527798428389e-0...   1.305254e-05  \n0   [[2.472470977510398e-05, -7.746357491004986e-0...   4.779775e-07  \n0   [[0.0005599788887519543, -0.000578943653394831...   1.283833e-03  \n0   [[0.001383263577535527, -0.0004407239685077047...   1.803572e-03  \n0   [[0.012881421631211816, -0.008021485798171902]...   6.442391e-02  \n\n[325 rows x 6 columns]",
      "text/html": "<div>\n<style scoped>\n    .dataframe tbody tr th:only-of-type {\n        vertical-align: middle;\n    }\n\n    .dataframe tbody tr th {\n        vertical-align: top;\n    }\n\n    .dataframe thead th {\n        text-align: right;\n    }\n</style>\n<table border=\"1\" class=\"dataframe\">\n  <thead>\n    <tr style=\"text-align: right;\">\n      <th></th>\n      <th>Experiment</th>\n      <th>max_conversion</th>\n      <th>reaction_end</th>\n      <th>fit_params</th>\n      <th>params error</th>\n      <th>squared_error</th>\n    </tr>\n  </thead>\n  <tbody>\n    <tr>\n      <th>0</th>\n      <td>0_6_A_DMF</td>\n      <td>0.516574</td>\n      <td>yet to calc</td>\n      <td>[0.7358519036455098, 0.07920353070346808]</td>\n      <td>[[0.008884156829792648, -0.0014823097511405452...</td>\n      <td>1.192962e-03</td>\n    </tr>\n    <tr>\n      <th>0</th>\n      <td>1_6_A_DMSO</td>\n      <td>0.697321</td>\n      <td>yet to calc</td>\n      <td>[0.8024976784785777, 0.13316078717682855]</td>\n      <td>[[0.0007840187926938868, -0.000239964466669024...</td>\n      <td>5.936409e-04</td>\n    </tr>\n    <tr>\n      <th>0</th>\n      <td>2_6_A_Tol</td>\n      <td>0.323281</td>\n      <td>yet to calc</td>\n      <td>[1.06738558144129, 0.02388860357275495]</td>\n      <td>[[0.1238845064146147, -0.003219055326314272], ...</td>\n      <td>1.747652e-04</td>\n    </tr>\n    <tr>\n      <th>0</th>\n      <td>3_7_A_DMF</td>\n      <td>0.565125</td>\n      <td>yet to calc</td>\n      <td>[0.9530881797253814, 0.059934107597394565]</td>\n      <td>[[0.009145537883212228, -0.0008158734783419188...</td>\n      <td>4.525607e-04</td>\n    </tr>\n    <tr>\n      <th>0</th>\n      <td>4_7_A_DMSO</td>\n      <td>0.790565</td>\n      <td>yet to calc</td>\n      <td>[1.0926739688051226, 0.08391032775996919]</td>\n      <td>[[0.0032852289698699225, -0.000420949463106630...</td>\n      <td>3.205737e-04</td>\n    </tr>\n    <tr>\n      <th>...</th>\n      <td>...</td>\n      <td>...</td>\n      <td>...</td>\n      <td>...</td>\n      <td>...</td>\n      <td>...</td>\n    </tr>\n    <tr>\n      <th>0</th>\n      <td>320_9_E_DMF</td>\n      <td>0.734328</td>\n      <td>yet to calc</td>\n      <td>[0.7964859207947647, 0.16527052933672504]</td>\n      <td>[[8.752620439103308e-06, -3.533527798428389e-0...</td>\n      <td>1.305254e-05</td>\n    </tr>\n    <tr>\n      <th>0</th>\n      <td>321_9_E_DMSO</td>\n      <td>0.546547</td>\n      <td>yet to calc</td>\n      <td>[0.9296798050540719, 0.20437130007240129]</td>\n      <td>[[2.472470977510398e-05, -7.746357491004986e-0...</td>\n      <td>4.779775e-07</td>\n    </tr>\n    <tr>\n      <th>0</th>\n      <td>322_9_E_Tol</td>\n      <td>0.360000</td>\n      <td>yet to calc</td>\n      <td>[0.3832365304238183, 0.19767543775558907]</td>\n      <td>[[0.0005599788887519543, -0.000578943653394831...</td>\n      <td>1.283833e-03</td>\n    </tr>\n    <tr>\n      <th>0</th>\n      <td>323_10_E_DMF</td>\n      <td>0.840426</td>\n      <td>yet to calc</td>\n      <td>[0.928939140208845, 0.15452012713452215]</td>\n      <td>[[0.001383263577535527, -0.0004407239685077047...</td>\n      <td>1.803572e-03</td>\n    </tr>\n    <tr>\n      <th>0</th>\n      <td>324_10_E_DMSO</td>\n      <td>1.000000</td>\n      <td>yet to calc</td>\n      <td>[1.0667717281456117, 0.31699126851753173]</td>\n      <td>[[0.012881421631211816, -0.008021485798171902]...</td>\n      <td>6.442391e-02</td>\n    </tr>\n  </tbody>\n</table>\n<p>325 rows × 6 columns</p>\n</div>"
     },
     "execution_count": 66,
     "metadata": {},
     "output_type": "execute_result"
    }
   ],
   "source": [
    "kinetics_df"
   ],
   "metadata": {
    "collapsed": false,
    "pycharm": {
     "name": "#%%\n"
    }
   }
  }
 ],
 "metadata": {
  "kernelspec": {
   "name": "python3",
   "language": "python",
   "display_name": "Python 3 (ipykernel)"
  },
  "language_info": {
   "codemirror_mode": {
    "name": "ipython",
    "version": 3
   },
   "file_extension": ".py",
   "mimetype": "text/x-python",
   "name": "python",
   "nbconvert_exporter": "python",
   "pygments_lexer": "ipython3",
   "version": "3.11.7"
  }
 },
 "nbformat": 4,
 "nbformat_minor": 4
}