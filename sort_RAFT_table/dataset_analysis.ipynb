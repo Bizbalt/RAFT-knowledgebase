{
 "cells": [
  {
   "cell_type": "code",
   "execution_count": 62,
   "outputs": [],
   "source": [
    "import sort_RAFT_table as sRt\n",
    "import pandas as pd\n",
    "import numpy as np\n",
    "import plotly.express as px\n",
    "import re\n",
    "from scipy.optimize import curve_fit\n",
    "import itertools\n",
    "from tqdm import tqdm"
   ],
   "metadata": {
    "collapsed": false,
    "pycharm": {
     "name": "#%%\n"
    }
   }
  },
  {
   "cell_type": "code",
   "execution_count": 63,
   "outputs": [
    {
     "name": "stdout",
     "output_type": "stream",
     "text": [
      "['t0h-conversion', 't1h-conversion', 't2h-conversion', 't4h-conversion', 't6h-conversion', 't8h-conversion', 't10h-conversion', 't15h-conversion']\n",
      "['t0h-Mn', 't1h-Mn', 't2h-Mn', 't4h-Mn', 't6h-Mn', 't8h-Mn', 't10h-Mn', 't15h-Mn']\n",
      "['t0h-Mw', 't1h-Mw', 't2h-Mw', 't4h-Mw', 't6h-Mw', 't8h-Mw', 't10h-Mw', 't15h-Mw']\n"
     ]
    }
   ],
   "source": [
    "# rectify/balance the table\n",
    "sRt.df[\"t6h-conversion\"] = np.nan\n",
    "sRt.df[\"t10h-conversion\"] = np.nan\n",
    "\n",
    "# get all conversion headers, sort them by the hours\n",
    "conversion_list = []\n",
    "for column in sRt.df.columns:\n",
    "    if \"conversion\" in column:\n",
    "        conversion_list.append(column)\n",
    "\n",
    "conversion_list.sort(key=lambda x: int(re.findall(r\"\\d+\", x)[0]))\n",
    "\n",
    "# get all the Mn and Mw headers\n",
    "Mn_list = []\n",
    "Mw_list = []\n",
    "for column in sRt.df.columns:\n",
    "    if \"Mn\" in column:\n",
    "        Mn_list.append(column)\n",
    "    if \"Mw\" in column:\n",
    "        Mw_list.append(column)\n",
    "\n",
    "print(conversion_list, Mn_list, Mw_list, sep=\"\\n\")"
   ],
   "metadata": {
    "collapsed": false,
    "pycharm": {
     "name": "#%%\n"
    }
   }
  },
  {
   "cell_type": "code",
   "execution_count": 64,
   "outputs": [
    {
     "name": "stdout",
     "output_type": "stream",
     "text": [
      "The timer was reset to 0 after the first closing of reactors in the \"t = 0\"-sampling-step\n"
     ]
    },
    {
     "data": {
      "text/plain": "                     0         1         2         4         6         8  \\\nReactor                                                                    \n1                    0  1.005556  2.011111  4.018056  6.008333  8.016667   \n2                    0  1.005556  2.011111  4.018056  6.008333  8.016667   \n3                    0  1.073611  2.068056  4.077778  6.063889  8.090278   \n4                    0  1.073611  2.068056  4.077778  6.063889  8.090278   \n5                    0  1.131944  2.125000  4.143056  6.120833  8.180556   \n6                    0  1.131944  2.125000  4.143056  6.120833  8.180556   \n7                    0  1.191667  2.184722  4.205556  6.180556  8.256944   \n8                    0  1.191667  2.184722  4.205556  6.180556  8.256944   \n9                    0  1.251389  2.241667  4.273611  6.237500  8.338889   \n10                   0  1.251389  2.241667  4.273611  6.237500  8.338889   \n11                   0  1.312500  2.301389  4.336111  6.295833  8.415278   \n12                   0  1.312500  2.301389  4.336111  6.295833  8.415278   \n13                   0  1.373611  2.369444  4.409722  6.358333  8.501389   \n14                   0  1.373611  2.369444  4.409722  6.358333  8.501389   \n15                   0  1.437500  2.430556  4.475000  6.416667  8.581944   \nclosing of reactors  0  1.481944  2.476389  4.526389  6.461111  8.643056   \n\n                            10         15  \nReactor                                    \n1                    10.011111  15.016667  \n2                    10.011111  15.016667  \n3                    10.084722  15.098611  \n4                    10.084722  15.098611  \n5                    10.158333  15.200000  \n6                    10.158333  15.200000  \n7                    10.233333  15.291667  \n8                    10.233333  15.291667  \n9                    10.306944  15.381944  \n10                   10.306944  15.381944  \n11                   10.383333  15.472222  \n12                   10.383333  15.472222  \n13                   10.466667  15.568056  \n14                   10.466667  15.568056  \n15                   10.541667  15.658333  \nclosing of reactors  10.604167  15.730556  ",
      "text/html": "<div>\n<style scoped>\n    .dataframe tbody tr th:only-of-type {\n        vertical-align: middle;\n    }\n\n    .dataframe tbody tr th {\n        vertical-align: top;\n    }\n\n    .dataframe thead th {\n        text-align: right;\n    }\n</style>\n<table border=\"1\" class=\"dataframe\">\n  <thead>\n    <tr style=\"text-align: right;\">\n      <th></th>\n      <th>0</th>\n      <th>1</th>\n      <th>2</th>\n      <th>4</th>\n      <th>6</th>\n      <th>8</th>\n      <th>10</th>\n      <th>15</th>\n    </tr>\n    <tr>\n      <th>Reactor</th>\n      <th></th>\n      <th></th>\n      <th></th>\n      <th></th>\n      <th></th>\n      <th></th>\n      <th></th>\n      <th></th>\n    </tr>\n  </thead>\n  <tbody>\n    <tr>\n      <th>1</th>\n      <td>0</td>\n      <td>1.005556</td>\n      <td>2.011111</td>\n      <td>4.018056</td>\n      <td>6.008333</td>\n      <td>8.016667</td>\n      <td>10.011111</td>\n      <td>15.016667</td>\n    </tr>\n    <tr>\n      <th>2</th>\n      <td>0</td>\n      <td>1.005556</td>\n      <td>2.011111</td>\n      <td>4.018056</td>\n      <td>6.008333</td>\n      <td>8.016667</td>\n      <td>10.011111</td>\n      <td>15.016667</td>\n    </tr>\n    <tr>\n      <th>3</th>\n      <td>0</td>\n      <td>1.073611</td>\n      <td>2.068056</td>\n      <td>4.077778</td>\n      <td>6.063889</td>\n      <td>8.090278</td>\n      <td>10.084722</td>\n      <td>15.098611</td>\n    </tr>\n    <tr>\n      <th>4</th>\n      <td>0</td>\n      <td>1.073611</td>\n      <td>2.068056</td>\n      <td>4.077778</td>\n      <td>6.063889</td>\n      <td>8.090278</td>\n      <td>10.084722</td>\n      <td>15.098611</td>\n    </tr>\n    <tr>\n      <th>5</th>\n      <td>0</td>\n      <td>1.131944</td>\n      <td>2.125000</td>\n      <td>4.143056</td>\n      <td>6.120833</td>\n      <td>8.180556</td>\n      <td>10.158333</td>\n      <td>15.200000</td>\n    </tr>\n    <tr>\n      <th>6</th>\n      <td>0</td>\n      <td>1.131944</td>\n      <td>2.125000</td>\n      <td>4.143056</td>\n      <td>6.120833</td>\n      <td>8.180556</td>\n      <td>10.158333</td>\n      <td>15.200000</td>\n    </tr>\n    <tr>\n      <th>7</th>\n      <td>0</td>\n      <td>1.191667</td>\n      <td>2.184722</td>\n      <td>4.205556</td>\n      <td>6.180556</td>\n      <td>8.256944</td>\n      <td>10.233333</td>\n      <td>15.291667</td>\n    </tr>\n    <tr>\n      <th>8</th>\n      <td>0</td>\n      <td>1.191667</td>\n      <td>2.184722</td>\n      <td>4.205556</td>\n      <td>6.180556</td>\n      <td>8.256944</td>\n      <td>10.233333</td>\n      <td>15.291667</td>\n    </tr>\n    <tr>\n      <th>9</th>\n      <td>0</td>\n      <td>1.251389</td>\n      <td>2.241667</td>\n      <td>4.273611</td>\n      <td>6.237500</td>\n      <td>8.338889</td>\n      <td>10.306944</td>\n      <td>15.381944</td>\n    </tr>\n    <tr>\n      <th>10</th>\n      <td>0</td>\n      <td>1.251389</td>\n      <td>2.241667</td>\n      <td>4.273611</td>\n      <td>6.237500</td>\n      <td>8.338889</td>\n      <td>10.306944</td>\n      <td>15.381944</td>\n    </tr>\n    <tr>\n      <th>11</th>\n      <td>0</td>\n      <td>1.312500</td>\n      <td>2.301389</td>\n      <td>4.336111</td>\n      <td>6.295833</td>\n      <td>8.415278</td>\n      <td>10.383333</td>\n      <td>15.472222</td>\n    </tr>\n    <tr>\n      <th>12</th>\n      <td>0</td>\n      <td>1.312500</td>\n      <td>2.301389</td>\n      <td>4.336111</td>\n      <td>6.295833</td>\n      <td>8.415278</td>\n      <td>10.383333</td>\n      <td>15.472222</td>\n    </tr>\n    <tr>\n      <th>13</th>\n      <td>0</td>\n      <td>1.373611</td>\n      <td>2.369444</td>\n      <td>4.409722</td>\n      <td>6.358333</td>\n      <td>8.501389</td>\n      <td>10.466667</td>\n      <td>15.568056</td>\n    </tr>\n    <tr>\n      <th>14</th>\n      <td>0</td>\n      <td>1.373611</td>\n      <td>2.369444</td>\n      <td>4.409722</td>\n      <td>6.358333</td>\n      <td>8.501389</td>\n      <td>10.466667</td>\n      <td>15.568056</td>\n    </tr>\n    <tr>\n      <th>15</th>\n      <td>0</td>\n      <td>1.437500</td>\n      <td>2.430556</td>\n      <td>4.475000</td>\n      <td>6.416667</td>\n      <td>8.581944</td>\n      <td>10.541667</td>\n      <td>15.658333</td>\n    </tr>\n    <tr>\n      <th>closing of reactors</th>\n      <td>0</td>\n      <td>1.481944</td>\n      <td>2.476389</td>\n      <td>4.526389</td>\n      <td>6.461111</td>\n      <td>8.643056</td>\n      <td>10.604167</td>\n      <td>15.730556</td>\n    </tr>\n  </tbody>\n</table>\n</div>"
     },
     "execution_count": 64,
     "metadata": {},
     "output_type": "execute_result"
    }
   ],
   "source": [
    "def change_timeformat(time_format):\n",
    "    h_m_s = str(time_format).split(\":\")\n",
    "    m_format = int(h_m_s[0]) * 60 + int(h_m_s[1]) + int(h_m_s[2]) / 60\n",
    "    return m_format\n",
    "\n",
    "def change_timeformat_h(time_format):\n",
    "    h_m_s = str(time_format).split(\":\")\n",
    "    h_format = int(h_m_s[0]) + (int(h_m_s[1]) + int(h_m_s[2]) / 60) /60\n",
    "    return h_format\n",
    "\n",
    "# creating a table as a lookup to correct all sample measurement times\n",
    "\n",
    "# get the hours from the headers with regex\n",
    "hours_list = []\n",
    "two_digit_regex = r\"\\d+\"\n",
    "for column in conversion_list:\n",
    "    hours_list.append(int(re.findall(two_digit_regex, column)[0]))\n",
    "hours_list.sort()\n",
    "\n",
    "exact_times = pd.read_excel(sRt.INPUT_FILE_PATH, sheet_name=\"exact sampling times\")\n",
    "\n",
    "time_correction_df = pd.DataFrame(data=exact_times.iloc[3:12, 3:])\n",
    "time_correction_df.columns = exact_times.loc[2][3:]\n",
    "\n",
    "time_correction_df.reset_index(inplace=True, drop=True)\n",
    "ext_time_corr_df_data =[]\n",
    "for row in time_correction_df.iterrows():\n",
    "    reactor_nr = row[1][\"Reactor\"]\n",
    "    if type(reactor_nr) == int or reactor_nr == \"closing of reactors\": # that applies to reactor 15 and the closing of reactors\n",
    "        row[1][\"Reactor\"] = str(reactor_nr)\n",
    "        ext_time_corr_df_data.append(row[1])\n",
    "    else: # that applies to all reactors which are described per row in pairs like \"3+4\"\n",
    "        reactor_nr_s = (row[1][\"Reactor\"]).split(\"+\")\n",
    "        for reactor_nr in reactor_nr_s:\n",
    "            row[1][\"Reactor\"] = reactor_nr\n",
    "            ext_time_corr_df_data.append(row[1].copy())\n",
    "ext_time_corr_df = pd.DataFrame(data=ext_time_corr_df_data, columns=exact_times.loc[2][3:])\n",
    "ext_time_corr_df.reset_index(drop=True, inplace=True)\n",
    "print(\"The timer was reset to 0 after the first closing of reactors in the \\\"t = 0\\\"-sampling-step\")\n",
    "ext_time_corr_df.columns = [\"Reactor\", 0, 1, 2, 4, 6, 8, 10, 15]\n",
    "\n",
    "# change time format to minutes and set\n",
    "time_cols = ext_time_corr_df.columns.difference([\"Reactor\"])\n",
    "ext_time_corr_df[time_cols] = ext_time_corr_df[time_cols].apply(lambda x: [change_timeformat_h(d) for d in x])\n",
    "ext_time_corr_df[0] = ext_time_corr_df[0].apply(lambda x: 0 )\n",
    "\n",
    "# set index to reactor\n",
    "ext_time_corr_df.set_index(\"Reactor\", inplace=True)\n",
    "\n",
    "ext_time_corr_df"
   ],
   "metadata": {
    "collapsed": false,
    "pycharm": {
     "name": "#%%\n"
    }
   }
  },
  {
   "cell_type": "code",
   "execution_count": 65,
   "outputs": [
    {
     "data": {
      "text/plain": "{'1': 'Styrene',\n '2': '4-Chlorostyrene',\n '3': '4-Bromostyrene',\n '4': '4-Methylstyrene',\n '5': '4-Methoxystyrene',\n '16': '4-tert-Butylstyrene',\n '6': 'Methyl methacrylate',\n '7': 'Butyl methacrylate',\n '8': 'Lauryl methacrylate',\n '9': '(2-Dimethylaminoethyl)methacrylate',\n '10': 'Benzyl methacrylate',\n '11': 'Methyl acrylate ',\n '12': 'Butyl acrylate',\n '13': 'Lauryl acrylate',\n '14': 'Dimethylaminoethylacrylate',\n '15': 'Benzyl acrylate',\n 'A': '2-Cyan-2-propylbenzodithioat',\n 'B': '4-Cyano-4-(phenylcarbonothioylthio)pentanoic acid',\n 'C': '2-Phenyl-2-propyl benzodithioate',\n 'D': '2-Cyano-2-propyl dodecyl trithiocarbonate',\n 'E': '2-(Dodecylthiocarbonothioylthio)-2-methylpropionic acid',\n 'F': 'Cyanomethyl dodecyl trithiocarbonate',\n 'G': 'Benzyl 1H-pyrrole-1-carbodithioate',\n 'H': '2-Cyanopropan-2-yl N-methyl-N-(pyridin-4-yl)carbamodithioate',\n 'I': 'S,S-Dibenzyl trithiocarbonate',\n 'J': 'Cyanomethyl methyl(phenyl)carbamodithioate',\n 'DMF': 'Dimethylformamide',\n 'Tol': 'Toluene',\n 'DMSO': 'Dimethylsulfoxide'}"
     },
     "execution_count": 65,
     "metadata": {},
     "output_type": "execute_result"
    }
   ],
   "source": [
    "# replace the \"sample determiner\" with columns describing for the experiment number (next cell) and the actual reagents that made out the \"determiner\"\n",
    "reaction_descriptors_dict = {}\n",
    "abbreviation_keys = pd.read_excel(sRt.INPUT_FILE_PATH, sheet_name=\"Legend for Abbreviations\")\n",
    "abbreviation_keys.dropna(inplace=True)\n",
    "for row in abbreviation_keys.itertuples():\n",
    "    reaction_descriptors_dict[str(row.Symbol)] = row.Name\n",
    "\n",
    "reaction_descriptors_dict"
   ],
   "metadata": {
    "collapsed": false,
    "pycharm": {
     "name": "#%%\n"
    }
   }
  },
  {
   "cell_type": "code",
   "execution_count": 66,
   "outputs": [],
   "source": [
    "# generate a reformatted table with all entries attributing to a sample analysis taken, described with a column of the right time\n",
    "kinetic_curves = []\n",
    "for index, polymerisation_kinetic in sRt.df.iterrows():\n",
    "\n",
    "    kinetic_curve_entries = pd.DataFrame(index=range(len(polymerisation_kinetic[conversion_list])),\n",
    "        data={\"time\" : hours_list, \"conversion\" : polymerisation_kinetic[conversion_list].values,\n",
    "         \"Mn\" : polymerisation_kinetic[Mn_list].values, \"Mw\" : polymerisation_kinetic[Mw_list].values,\n",
    "         # , \"reactor\" : polymerisation_kinetic[\"reactor\"] reactor is not needed since the time is corrected\n",
    "         })\n",
    "\n",
    "    kinetic_curve_entries[\"exp_nr\"] = str(index)\n",
    "    kinetic_curve_entries[\"monomer\"] = reaction_descriptors_dict[polymerisation_kinetic[\"monomer\"]]\n",
    "    kinetic_curve_entries[\"RAFT-Agent\"] = reaction_descriptors_dict[polymerisation_kinetic[\"RAFT-Agent\"]]\n",
    "    kinetic_curve_entries[\"solvent\"] = reaction_descriptors_dict[polymerisation_kinetic[\"solvent\"]]\n",
    "\n",
    "    # the times are dependent on the current reactor, get current\n",
    "    current_reactor_nr = str(polymerisation_kinetic[\"reactor\"])\n",
    "    current_time_list = ext_time_corr_df.loc[current_reactor_nr]\n",
    "    kinetic_curve_entries[\"time\"] = list(current_time_list)\n",
    "\n",
    "    kinetic_curves.append(kinetic_curve_entries)\n"
   ],
   "metadata": {
    "collapsed": false,
    "pycharm": {
     "name": "#%%\n"
    }
   }
  },
  {
   "cell_type": "code",
   "execution_count": 67,
   "outputs": [
    {
     "name": "stdout",
     "output_type": "stream",
     "text": [
      "        time conversion     Mn     Mw exp_nr          monomer  \\\n",
      "0   0.000000          0    NaN    NaN    301  4-Methylstyrene   \n",
      "1   1.251389    0.02518  225.0  266.0    301  4-Methylstyrene   \n",
      "2   2.241667   0.014388  234.0  265.0    301  4-Methylstyrene   \n",
      "3   4.273611   0.014388  280.0  330.0    301  4-Methylstyrene   \n",
      "4   6.237500        NaN  321.0  368.0    301  4-Methylstyrene   \n",
      "5   8.338889   0.021583  352.0  416.0    301  4-Methylstyrene   \n",
      "6  10.306944        NaN  357.0  429.0    301  4-Methylstyrene   \n",
      "7  15.381944   0.032374  491.0  680.0    301  4-Methylstyrene   \n",
      "\n",
      "                     RAFT-Agent            solvent  \n",
      "0  2-Cyan-2-propylbenzodithioat  Dimethylformamide  \n",
      "1  2-Cyan-2-propylbenzodithioat  Dimethylformamide  \n",
      "2  2-Cyan-2-propylbenzodithioat  Dimethylformamide  \n",
      "3  2-Cyan-2-propylbenzodithioat  Dimethylformamide  \n",
      "4  2-Cyan-2-propylbenzodithioat  Dimethylformamide  \n",
      "5  2-Cyan-2-propylbenzodithioat  Dimethylformamide  \n",
      "6  2-Cyan-2-propylbenzodithioat  Dimethylformamide  \n",
      "7  2-Cyan-2-propylbenzodithioat  Dimethylformamide  \n"
     ]
    },
    {
     "data": {
      "application/vnd.plotly.v1+json": {
       "data": [
        {
         "hovertemplate": "time=%{x}<br>conversion=%{y}<extra></extra>",
         "legendgroup": "",
         "line": {
          "color": "#636efa",
          "dash": "solid"
         },
         "marker": {
          "symbol": "circle"
         },
         "mode": "lines",
         "name": "",
         "orientation": "h",
         "showlegend": false,
         "x": [
          0.0,
          1.2513888888888889,
          2.2416666666666667,
          4.273611111111111,
          8.338888888888889,
          15.381944444444445
         ],
         "xaxis": "x",
         "y": [
          0,
          0.025179856115107868,
          0.014388489208632893,
          0.014388489208632893,
          0.021582733812949506,
          0.03237410071942437
         ],
         "yaxis": "y",
         "type": "scatter"
        },
        {
         "line": {
          "dash": "dot"
         },
         "mode": "lines+markers",
         "name": "Mn",
         "x": [
          0.0,
          1.2513888888888889,
          2.2416666666666667,
          4.273611111111111,
          6.2375,
          8.338888888888889,
          10.306944444444444,
          15.381944444444445
         ],
         "y": [
          0,
          0.025179856115107868,
          0.014388489208632893,
          0.014388489208632893,
          null,
          0.021582733812949506,
          null,
          0.03237410071942437
         ],
         "type": "scatter"
        }
       ],
       "layout": {
        "template": {
         "data": {
          "histogram2dcontour": [
           {
            "type": "histogram2dcontour",
            "colorbar": {
             "outlinewidth": 0,
             "ticks": ""
            },
            "colorscale": [
             [
              0.0,
              "#0d0887"
             ],
             [
              0.1111111111111111,
              "#46039f"
             ],
             [
              0.2222222222222222,
              "#7201a8"
             ],
             [
              0.3333333333333333,
              "#9c179e"
             ],
             [
              0.4444444444444444,
              "#bd3786"
             ],
             [
              0.5555555555555556,
              "#d8576b"
             ],
             [
              0.6666666666666666,
              "#ed7953"
             ],
             [
              0.7777777777777778,
              "#fb9f3a"
             ],
             [
              0.8888888888888888,
              "#fdca26"
             ],
             [
              1.0,
              "#f0f921"
             ]
            ]
           }
          ],
          "choropleth": [
           {
            "type": "choropleth",
            "colorbar": {
             "outlinewidth": 0,
             "ticks": ""
            }
           }
          ],
          "histogram2d": [
           {
            "type": "histogram2d",
            "colorbar": {
             "outlinewidth": 0,
             "ticks": ""
            },
            "colorscale": [
             [
              0.0,
              "#0d0887"
             ],
             [
              0.1111111111111111,
              "#46039f"
             ],
             [
              0.2222222222222222,
              "#7201a8"
             ],
             [
              0.3333333333333333,
              "#9c179e"
             ],
             [
              0.4444444444444444,
              "#bd3786"
             ],
             [
              0.5555555555555556,
              "#d8576b"
             ],
             [
              0.6666666666666666,
              "#ed7953"
             ],
             [
              0.7777777777777778,
              "#fb9f3a"
             ],
             [
              0.8888888888888888,
              "#fdca26"
             ],
             [
              1.0,
              "#f0f921"
             ]
            ]
           }
          ],
          "heatmap": [
           {
            "type": "heatmap",
            "colorbar": {
             "outlinewidth": 0,
             "ticks": ""
            },
            "colorscale": [
             [
              0.0,
              "#0d0887"
             ],
             [
              0.1111111111111111,
              "#46039f"
             ],
             [
              0.2222222222222222,
              "#7201a8"
             ],
             [
              0.3333333333333333,
              "#9c179e"
             ],
             [
              0.4444444444444444,
              "#bd3786"
             ],
             [
              0.5555555555555556,
              "#d8576b"
             ],
             [
              0.6666666666666666,
              "#ed7953"
             ],
             [
              0.7777777777777778,
              "#fb9f3a"
             ],
             [
              0.8888888888888888,
              "#fdca26"
             ],
             [
              1.0,
              "#f0f921"
             ]
            ]
           }
          ],
          "heatmapgl": [
           {
            "type": "heatmapgl",
            "colorbar": {
             "outlinewidth": 0,
             "ticks": ""
            },
            "colorscale": [
             [
              0.0,
              "#0d0887"
             ],
             [
              0.1111111111111111,
              "#46039f"
             ],
             [
              0.2222222222222222,
              "#7201a8"
             ],
             [
              0.3333333333333333,
              "#9c179e"
             ],
             [
              0.4444444444444444,
              "#bd3786"
             ],
             [
              0.5555555555555556,
              "#d8576b"
             ],
             [
              0.6666666666666666,
              "#ed7953"
             ],
             [
              0.7777777777777778,
              "#fb9f3a"
             ],
             [
              0.8888888888888888,
              "#fdca26"
             ],
             [
              1.0,
              "#f0f921"
             ]
            ]
           }
          ],
          "contourcarpet": [
           {
            "type": "contourcarpet",
            "colorbar": {
             "outlinewidth": 0,
             "ticks": ""
            }
           }
          ],
          "contour": [
           {
            "type": "contour",
            "colorbar": {
             "outlinewidth": 0,
             "ticks": ""
            },
            "colorscale": [
             [
              0.0,
              "#0d0887"
             ],
             [
              0.1111111111111111,
              "#46039f"
             ],
             [
              0.2222222222222222,
              "#7201a8"
             ],
             [
              0.3333333333333333,
              "#9c179e"
             ],
             [
              0.4444444444444444,
              "#bd3786"
             ],
             [
              0.5555555555555556,
              "#d8576b"
             ],
             [
              0.6666666666666666,
              "#ed7953"
             ],
             [
              0.7777777777777778,
              "#fb9f3a"
             ],
             [
              0.8888888888888888,
              "#fdca26"
             ],
             [
              1.0,
              "#f0f921"
             ]
            ]
           }
          ],
          "surface": [
           {
            "type": "surface",
            "colorbar": {
             "outlinewidth": 0,
             "ticks": ""
            },
            "colorscale": [
             [
              0.0,
              "#0d0887"
             ],
             [
              0.1111111111111111,
              "#46039f"
             ],
             [
              0.2222222222222222,
              "#7201a8"
             ],
             [
              0.3333333333333333,
              "#9c179e"
             ],
             [
              0.4444444444444444,
              "#bd3786"
             ],
             [
              0.5555555555555556,
              "#d8576b"
             ],
             [
              0.6666666666666666,
              "#ed7953"
             ],
             [
              0.7777777777777778,
              "#fb9f3a"
             ],
             [
              0.8888888888888888,
              "#fdca26"
             ],
             [
              1.0,
              "#f0f921"
             ]
            ]
           }
          ],
          "mesh3d": [
           {
            "type": "mesh3d",
            "colorbar": {
             "outlinewidth": 0,
             "ticks": ""
            }
           }
          ],
          "scatter": [
           {
            "fillpattern": {
             "fillmode": "overlay",
             "size": 10,
             "solidity": 0.2
            },
            "type": "scatter"
           }
          ],
          "parcoords": [
           {
            "type": "parcoords",
            "line": {
             "colorbar": {
              "outlinewidth": 0,
              "ticks": ""
             }
            }
           }
          ],
          "scatterpolargl": [
           {
            "type": "scatterpolargl",
            "marker": {
             "colorbar": {
              "outlinewidth": 0,
              "ticks": ""
             }
            }
           }
          ],
          "bar": [
           {
            "error_x": {
             "color": "#2a3f5f"
            },
            "error_y": {
             "color": "#2a3f5f"
            },
            "marker": {
             "line": {
              "color": "#E5ECF6",
              "width": 0.5
             },
             "pattern": {
              "fillmode": "overlay",
              "size": 10,
              "solidity": 0.2
             }
            },
            "type": "bar"
           }
          ],
          "scattergeo": [
           {
            "type": "scattergeo",
            "marker": {
             "colorbar": {
              "outlinewidth": 0,
              "ticks": ""
             }
            }
           }
          ],
          "scatterpolar": [
           {
            "type": "scatterpolar",
            "marker": {
             "colorbar": {
              "outlinewidth": 0,
              "ticks": ""
             }
            }
           }
          ],
          "histogram": [
           {
            "marker": {
             "pattern": {
              "fillmode": "overlay",
              "size": 10,
              "solidity": 0.2
             }
            },
            "type": "histogram"
           }
          ],
          "scattergl": [
           {
            "type": "scattergl",
            "marker": {
             "colorbar": {
              "outlinewidth": 0,
              "ticks": ""
             }
            }
           }
          ],
          "scatter3d": [
           {
            "type": "scatter3d",
            "line": {
             "colorbar": {
              "outlinewidth": 0,
              "ticks": ""
             }
            },
            "marker": {
             "colorbar": {
              "outlinewidth": 0,
              "ticks": ""
             }
            }
           }
          ],
          "scattermapbox": [
           {
            "type": "scattermapbox",
            "marker": {
             "colorbar": {
              "outlinewidth": 0,
              "ticks": ""
             }
            }
           }
          ],
          "scatterternary": [
           {
            "type": "scatterternary",
            "marker": {
             "colorbar": {
              "outlinewidth": 0,
              "ticks": ""
             }
            }
           }
          ],
          "scattercarpet": [
           {
            "type": "scattercarpet",
            "marker": {
             "colorbar": {
              "outlinewidth": 0,
              "ticks": ""
             }
            }
           }
          ],
          "carpet": [
           {
            "aaxis": {
             "endlinecolor": "#2a3f5f",
             "gridcolor": "white",
             "linecolor": "white",
             "minorgridcolor": "white",
             "startlinecolor": "#2a3f5f"
            },
            "baxis": {
             "endlinecolor": "#2a3f5f",
             "gridcolor": "white",
             "linecolor": "white",
             "minorgridcolor": "white",
             "startlinecolor": "#2a3f5f"
            },
            "type": "carpet"
           }
          ],
          "table": [
           {
            "cells": {
             "fill": {
              "color": "#EBF0F8"
             },
             "line": {
              "color": "white"
             }
            },
            "header": {
             "fill": {
              "color": "#C8D4E3"
             },
             "line": {
              "color": "white"
             }
            },
            "type": "table"
           }
          ],
          "barpolar": [
           {
            "marker": {
             "line": {
              "color": "#E5ECF6",
              "width": 0.5
             },
             "pattern": {
              "fillmode": "overlay",
              "size": 10,
              "solidity": 0.2
             }
            },
            "type": "barpolar"
           }
          ],
          "pie": [
           {
            "automargin": true,
            "type": "pie"
           }
          ]
         },
         "layout": {
          "autotypenumbers": "strict",
          "colorway": [
           "#636efa",
           "#EF553B",
           "#00cc96",
           "#ab63fa",
           "#FFA15A",
           "#19d3f3",
           "#FF6692",
           "#B6E880",
           "#FF97FF",
           "#FECB52"
          ],
          "font": {
           "color": "#2a3f5f"
          },
          "hovermode": "closest",
          "hoverlabel": {
           "align": "left"
          },
          "paper_bgcolor": "white",
          "plot_bgcolor": "#E5ECF6",
          "polar": {
           "bgcolor": "#E5ECF6",
           "angularaxis": {
            "gridcolor": "white",
            "linecolor": "white",
            "ticks": ""
           },
           "radialaxis": {
            "gridcolor": "white",
            "linecolor": "white",
            "ticks": ""
           }
          },
          "ternary": {
           "bgcolor": "#E5ECF6",
           "aaxis": {
            "gridcolor": "white",
            "linecolor": "white",
            "ticks": ""
           },
           "baxis": {
            "gridcolor": "white",
            "linecolor": "white",
            "ticks": ""
           },
           "caxis": {
            "gridcolor": "white",
            "linecolor": "white",
            "ticks": ""
           }
          },
          "coloraxis": {
           "colorbar": {
            "outlinewidth": 0,
            "ticks": ""
           }
          },
          "colorscale": {
           "sequential": [
            [
             0.0,
             "#0d0887"
            ],
            [
             0.1111111111111111,
             "#46039f"
            ],
            [
             0.2222222222222222,
             "#7201a8"
            ],
            [
             0.3333333333333333,
             "#9c179e"
            ],
            [
             0.4444444444444444,
             "#bd3786"
            ],
            [
             0.5555555555555556,
             "#d8576b"
            ],
            [
             0.6666666666666666,
             "#ed7953"
            ],
            [
             0.7777777777777778,
             "#fb9f3a"
            ],
            [
             0.8888888888888888,
             "#fdca26"
            ],
            [
             1.0,
             "#f0f921"
            ]
           ],
           "sequentialminus": [
            [
             0.0,
             "#0d0887"
            ],
            [
             0.1111111111111111,
             "#46039f"
            ],
            [
             0.2222222222222222,
             "#7201a8"
            ],
            [
             0.3333333333333333,
             "#9c179e"
            ],
            [
             0.4444444444444444,
             "#bd3786"
            ],
            [
             0.5555555555555556,
             "#d8576b"
            ],
            [
             0.6666666666666666,
             "#ed7953"
            ],
            [
             0.7777777777777778,
             "#fb9f3a"
            ],
            [
             0.8888888888888888,
             "#fdca26"
            ],
            [
             1.0,
             "#f0f921"
            ]
           ],
           "diverging": [
            [
             0,
             "#8e0152"
            ],
            [
             0.1,
             "#c51b7d"
            ],
            [
             0.2,
             "#de77ae"
            ],
            [
             0.3,
             "#f1b6da"
            ],
            [
             0.4,
             "#fde0ef"
            ],
            [
             0.5,
             "#f7f7f7"
            ],
            [
             0.6,
             "#e6f5d0"
            ],
            [
             0.7,
             "#b8e186"
            ],
            [
             0.8,
             "#7fbc41"
            ],
            [
             0.9,
             "#4d9221"
            ],
            [
             1,
             "#276419"
            ]
           ]
          },
          "xaxis": {
           "gridcolor": "white",
           "linecolor": "white",
           "ticks": "",
           "title": {
            "standoff": 15
           },
           "zerolinecolor": "white",
           "automargin": true,
           "zerolinewidth": 2
          },
          "yaxis": {
           "gridcolor": "white",
           "linecolor": "white",
           "ticks": "",
           "title": {
            "standoff": 15
           },
           "zerolinecolor": "white",
           "automargin": true,
           "zerolinewidth": 2
          },
          "scene": {
           "xaxis": {
            "backgroundcolor": "#E5ECF6",
            "gridcolor": "white",
            "linecolor": "white",
            "showbackground": true,
            "ticks": "",
            "zerolinecolor": "white",
            "gridwidth": 2
           },
           "yaxis": {
            "backgroundcolor": "#E5ECF6",
            "gridcolor": "white",
            "linecolor": "white",
            "showbackground": true,
            "ticks": "",
            "zerolinecolor": "white",
            "gridwidth": 2
           },
           "zaxis": {
            "backgroundcolor": "#E5ECF6",
            "gridcolor": "white",
            "linecolor": "white",
            "showbackground": true,
            "ticks": "",
            "zerolinecolor": "white",
            "gridwidth": 2
           }
          },
          "shapedefaults": {
           "line": {
            "color": "#2a3f5f"
           }
          },
          "annotationdefaults": {
           "arrowcolor": "#2a3f5f",
           "arrowhead": 0,
           "arrowwidth": 1
          },
          "geo": {
           "bgcolor": "white",
           "landcolor": "#E5ECF6",
           "subunitcolor": "white",
           "showland": true,
           "showlakes": true,
           "lakecolor": "white"
          },
          "title": {
           "x": 0.05
          },
          "mapbox": {
           "style": "light"
          }
         }
        },
        "xaxis": {
         "anchor": "y",
         "domain": [
          0.0,
          1.0
         ],
         "title": {
          "text": "time"
         }
        },
        "yaxis": {
         "anchor": "x",
         "domain": [
          0.0,
          1.0
         ],
         "title": {
          "text": "conversion"
         }
        },
        "legend": {
         "tracegroupgap": 0
        },
        "title": {
         "text": "kinetic 301 "
        }
       },
       "config": {
        "plotlyServerURL": "https://plot.ly"
       }
      },
      "text/html": "<div>                            <div id=\"d75f97df-13ab-4b18-88e0-5dc7b3993160\" class=\"plotly-graph-div\" style=\"height:525px; width:100%;\"></div>            <script type=\"text/javascript\">                require([\"plotly\"], function(Plotly) {                    window.PLOTLYENV=window.PLOTLYENV || {};                                    if (document.getElementById(\"d75f97df-13ab-4b18-88e0-5dc7b3993160\")) {                    Plotly.newPlot(                        \"d75f97df-13ab-4b18-88e0-5dc7b3993160\",                        [{\"hovertemplate\":\"time=%{x}\\u003cbr\\u003econversion=%{y}\\u003cextra\\u003e\\u003c\\u002fextra\\u003e\",\"legendgroup\":\"\",\"line\":{\"color\":\"#636efa\",\"dash\":\"solid\"},\"marker\":{\"symbol\":\"circle\"},\"mode\":\"lines\",\"name\":\"\",\"orientation\":\"h\",\"showlegend\":false,\"x\":[0.0,1.2513888888888889,2.2416666666666667,4.273611111111111,8.338888888888889,15.381944444444445],\"xaxis\":\"x\",\"y\":[0,0.025179856115107868,0.014388489208632893,0.014388489208632893,0.021582733812949506,0.03237410071942437],\"yaxis\":\"y\",\"type\":\"scatter\"},{\"line\":{\"dash\":\"dot\"},\"mode\":\"lines+markers\",\"name\":\"Mn\",\"x\":[0.0,1.2513888888888889,2.2416666666666667,4.273611111111111,6.2375,8.338888888888889,10.306944444444444,15.381944444444445],\"y\":[0,0.025179856115107868,0.014388489208632893,0.014388489208632893,null,0.021582733812949506,null,0.03237410071942437],\"type\":\"scatter\"}],                        {\"template\":{\"data\":{\"histogram2dcontour\":[{\"type\":\"histogram2dcontour\",\"colorbar\":{\"outlinewidth\":0,\"ticks\":\"\"},\"colorscale\":[[0.0,\"#0d0887\"],[0.1111111111111111,\"#46039f\"],[0.2222222222222222,\"#7201a8\"],[0.3333333333333333,\"#9c179e\"],[0.4444444444444444,\"#bd3786\"],[0.5555555555555556,\"#d8576b\"],[0.6666666666666666,\"#ed7953\"],[0.7777777777777778,\"#fb9f3a\"],[0.8888888888888888,\"#fdca26\"],[1.0,\"#f0f921\"]]}],\"choropleth\":[{\"type\":\"choropleth\",\"colorbar\":{\"outlinewidth\":0,\"ticks\":\"\"}}],\"histogram2d\":[{\"type\":\"histogram2d\",\"colorbar\":{\"outlinewidth\":0,\"ticks\":\"\"},\"colorscale\":[[0.0,\"#0d0887\"],[0.1111111111111111,\"#46039f\"],[0.2222222222222222,\"#7201a8\"],[0.3333333333333333,\"#9c179e\"],[0.4444444444444444,\"#bd3786\"],[0.5555555555555556,\"#d8576b\"],[0.6666666666666666,\"#ed7953\"],[0.7777777777777778,\"#fb9f3a\"],[0.8888888888888888,\"#fdca26\"],[1.0,\"#f0f921\"]]}],\"heatmap\":[{\"type\":\"heatmap\",\"colorbar\":{\"outlinewidth\":0,\"ticks\":\"\"},\"colorscale\":[[0.0,\"#0d0887\"],[0.1111111111111111,\"#46039f\"],[0.2222222222222222,\"#7201a8\"],[0.3333333333333333,\"#9c179e\"],[0.4444444444444444,\"#bd3786\"],[0.5555555555555556,\"#d8576b\"],[0.6666666666666666,\"#ed7953\"],[0.7777777777777778,\"#fb9f3a\"],[0.8888888888888888,\"#fdca26\"],[1.0,\"#f0f921\"]]}],\"heatmapgl\":[{\"type\":\"heatmapgl\",\"colorbar\":{\"outlinewidth\":0,\"ticks\":\"\"},\"colorscale\":[[0.0,\"#0d0887\"],[0.1111111111111111,\"#46039f\"],[0.2222222222222222,\"#7201a8\"],[0.3333333333333333,\"#9c179e\"],[0.4444444444444444,\"#bd3786\"],[0.5555555555555556,\"#d8576b\"],[0.6666666666666666,\"#ed7953\"],[0.7777777777777778,\"#fb9f3a\"],[0.8888888888888888,\"#fdca26\"],[1.0,\"#f0f921\"]]}],\"contourcarpet\":[{\"type\":\"contourcarpet\",\"colorbar\":{\"outlinewidth\":0,\"ticks\":\"\"}}],\"contour\":[{\"type\":\"contour\",\"colorbar\":{\"outlinewidth\":0,\"ticks\":\"\"},\"colorscale\":[[0.0,\"#0d0887\"],[0.1111111111111111,\"#46039f\"],[0.2222222222222222,\"#7201a8\"],[0.3333333333333333,\"#9c179e\"],[0.4444444444444444,\"#bd3786\"],[0.5555555555555556,\"#d8576b\"],[0.6666666666666666,\"#ed7953\"],[0.7777777777777778,\"#fb9f3a\"],[0.8888888888888888,\"#fdca26\"],[1.0,\"#f0f921\"]]}],\"surface\":[{\"type\":\"surface\",\"colorbar\":{\"outlinewidth\":0,\"ticks\":\"\"},\"colorscale\":[[0.0,\"#0d0887\"],[0.1111111111111111,\"#46039f\"],[0.2222222222222222,\"#7201a8\"],[0.3333333333333333,\"#9c179e\"],[0.4444444444444444,\"#bd3786\"],[0.5555555555555556,\"#d8576b\"],[0.6666666666666666,\"#ed7953\"],[0.7777777777777778,\"#fb9f3a\"],[0.8888888888888888,\"#fdca26\"],[1.0,\"#f0f921\"]]}],\"mesh3d\":[{\"type\":\"mesh3d\",\"colorbar\":{\"outlinewidth\":0,\"ticks\":\"\"}}],\"scatter\":[{\"fillpattern\":{\"fillmode\":\"overlay\",\"size\":10,\"solidity\":0.2},\"type\":\"scatter\"}],\"parcoords\":[{\"type\":\"parcoords\",\"line\":{\"colorbar\":{\"outlinewidth\":0,\"ticks\":\"\"}}}],\"scatterpolargl\":[{\"type\":\"scatterpolargl\",\"marker\":{\"colorbar\":{\"outlinewidth\":0,\"ticks\":\"\"}}}],\"bar\":[{\"error_x\":{\"color\":\"#2a3f5f\"},\"error_y\":{\"color\":\"#2a3f5f\"},\"marker\":{\"line\":{\"color\":\"#E5ECF6\",\"width\":0.5},\"pattern\":{\"fillmode\":\"overlay\",\"size\":10,\"solidity\":0.2}},\"type\":\"bar\"}],\"scattergeo\":[{\"type\":\"scattergeo\",\"marker\":{\"colorbar\":{\"outlinewidth\":0,\"ticks\":\"\"}}}],\"scatterpolar\":[{\"type\":\"scatterpolar\",\"marker\":{\"colorbar\":{\"outlinewidth\":0,\"ticks\":\"\"}}}],\"histogram\":[{\"marker\":{\"pattern\":{\"fillmode\":\"overlay\",\"size\":10,\"solidity\":0.2}},\"type\":\"histogram\"}],\"scattergl\":[{\"type\":\"scattergl\",\"marker\":{\"colorbar\":{\"outlinewidth\":0,\"ticks\":\"\"}}}],\"scatter3d\":[{\"type\":\"scatter3d\",\"line\":{\"colorbar\":{\"outlinewidth\":0,\"ticks\":\"\"}},\"marker\":{\"colorbar\":{\"outlinewidth\":0,\"ticks\":\"\"}}}],\"scattermapbox\":[{\"type\":\"scattermapbox\",\"marker\":{\"colorbar\":{\"outlinewidth\":0,\"ticks\":\"\"}}}],\"scatterternary\":[{\"type\":\"scatterternary\",\"marker\":{\"colorbar\":{\"outlinewidth\":0,\"ticks\":\"\"}}}],\"scattercarpet\":[{\"type\":\"scattercarpet\",\"marker\":{\"colorbar\":{\"outlinewidth\":0,\"ticks\":\"\"}}}],\"carpet\":[{\"aaxis\":{\"endlinecolor\":\"#2a3f5f\",\"gridcolor\":\"white\",\"linecolor\":\"white\",\"minorgridcolor\":\"white\",\"startlinecolor\":\"#2a3f5f\"},\"baxis\":{\"endlinecolor\":\"#2a3f5f\",\"gridcolor\":\"white\",\"linecolor\":\"white\",\"minorgridcolor\":\"white\",\"startlinecolor\":\"#2a3f5f\"},\"type\":\"carpet\"}],\"table\":[{\"cells\":{\"fill\":{\"color\":\"#EBF0F8\"},\"line\":{\"color\":\"white\"}},\"header\":{\"fill\":{\"color\":\"#C8D4E3\"},\"line\":{\"color\":\"white\"}},\"type\":\"table\"}],\"barpolar\":[{\"marker\":{\"line\":{\"color\":\"#E5ECF6\",\"width\":0.5},\"pattern\":{\"fillmode\":\"overlay\",\"size\":10,\"solidity\":0.2}},\"type\":\"barpolar\"}],\"pie\":[{\"automargin\":true,\"type\":\"pie\"}]},\"layout\":{\"autotypenumbers\":\"strict\",\"colorway\":[\"#636efa\",\"#EF553B\",\"#00cc96\",\"#ab63fa\",\"#FFA15A\",\"#19d3f3\",\"#FF6692\",\"#B6E880\",\"#FF97FF\",\"#FECB52\"],\"font\":{\"color\":\"#2a3f5f\"},\"hovermode\":\"closest\",\"hoverlabel\":{\"align\":\"left\"},\"paper_bgcolor\":\"white\",\"plot_bgcolor\":\"#E5ECF6\",\"polar\":{\"bgcolor\":\"#E5ECF6\",\"angularaxis\":{\"gridcolor\":\"white\",\"linecolor\":\"white\",\"ticks\":\"\"},\"radialaxis\":{\"gridcolor\":\"white\",\"linecolor\":\"white\",\"ticks\":\"\"}},\"ternary\":{\"bgcolor\":\"#E5ECF6\",\"aaxis\":{\"gridcolor\":\"white\",\"linecolor\":\"white\",\"ticks\":\"\"},\"baxis\":{\"gridcolor\":\"white\",\"linecolor\":\"white\",\"ticks\":\"\"},\"caxis\":{\"gridcolor\":\"white\",\"linecolor\":\"white\",\"ticks\":\"\"}},\"coloraxis\":{\"colorbar\":{\"outlinewidth\":0,\"ticks\":\"\"}},\"colorscale\":{\"sequential\":[[0.0,\"#0d0887\"],[0.1111111111111111,\"#46039f\"],[0.2222222222222222,\"#7201a8\"],[0.3333333333333333,\"#9c179e\"],[0.4444444444444444,\"#bd3786\"],[0.5555555555555556,\"#d8576b\"],[0.6666666666666666,\"#ed7953\"],[0.7777777777777778,\"#fb9f3a\"],[0.8888888888888888,\"#fdca26\"],[1.0,\"#f0f921\"]],\"sequentialminus\":[[0.0,\"#0d0887\"],[0.1111111111111111,\"#46039f\"],[0.2222222222222222,\"#7201a8\"],[0.3333333333333333,\"#9c179e\"],[0.4444444444444444,\"#bd3786\"],[0.5555555555555556,\"#d8576b\"],[0.6666666666666666,\"#ed7953\"],[0.7777777777777778,\"#fb9f3a\"],[0.8888888888888888,\"#fdca26\"],[1.0,\"#f0f921\"]],\"diverging\":[[0,\"#8e0152\"],[0.1,\"#c51b7d\"],[0.2,\"#de77ae\"],[0.3,\"#f1b6da\"],[0.4,\"#fde0ef\"],[0.5,\"#f7f7f7\"],[0.6,\"#e6f5d0\"],[0.7,\"#b8e186\"],[0.8,\"#7fbc41\"],[0.9,\"#4d9221\"],[1,\"#276419\"]]},\"xaxis\":{\"gridcolor\":\"white\",\"linecolor\":\"white\",\"ticks\":\"\",\"title\":{\"standoff\":15},\"zerolinecolor\":\"white\",\"automargin\":true,\"zerolinewidth\":2},\"yaxis\":{\"gridcolor\":\"white\",\"linecolor\":\"white\",\"ticks\":\"\",\"title\":{\"standoff\":15},\"zerolinecolor\":\"white\",\"automargin\":true,\"zerolinewidth\":2},\"scene\":{\"xaxis\":{\"backgroundcolor\":\"#E5ECF6\",\"gridcolor\":\"white\",\"linecolor\":\"white\",\"showbackground\":true,\"ticks\":\"\",\"zerolinecolor\":\"white\",\"gridwidth\":2},\"yaxis\":{\"backgroundcolor\":\"#E5ECF6\",\"gridcolor\":\"white\",\"linecolor\":\"white\",\"showbackground\":true,\"ticks\":\"\",\"zerolinecolor\":\"white\",\"gridwidth\":2},\"zaxis\":{\"backgroundcolor\":\"#E5ECF6\",\"gridcolor\":\"white\",\"linecolor\":\"white\",\"showbackground\":true,\"ticks\":\"\",\"zerolinecolor\":\"white\",\"gridwidth\":2}},\"shapedefaults\":{\"line\":{\"color\":\"#2a3f5f\"}},\"annotationdefaults\":{\"arrowcolor\":\"#2a3f5f\",\"arrowhead\":0,\"arrowwidth\":1},\"geo\":{\"bgcolor\":\"white\",\"landcolor\":\"#E5ECF6\",\"subunitcolor\":\"white\",\"showland\":true,\"showlakes\":true,\"lakecolor\":\"white\"},\"title\":{\"x\":0.05},\"mapbox\":{\"style\":\"light\"}}},\"xaxis\":{\"anchor\":\"y\",\"domain\":[0.0,1.0],\"title\":{\"text\":\"time\"}},\"yaxis\":{\"anchor\":\"x\",\"domain\":[0.0,1.0],\"title\":{\"text\":\"conversion\"}},\"legend\":{\"tracegroupgap\":0},\"title\":{\"text\":\"kinetic 301 \"}},                        {\"responsive\": true}                    ).then(function(){\n                            \nvar gd = document.getElementById('d75f97df-13ab-4b18-88e0-5dc7b3993160');\nvar x = new MutationObserver(function (mutations, observer) {{\n        var display = window.getComputedStyle(gd).display;\n        if (!display || display === 'none') {{\n            console.log([gd, 'removed!']);\n            Plotly.purge(gd);\n            observer.disconnect();\n        }}\n}});\n\n// Listen for the removal of the full notebook cells\nvar notebookContainer = gd.closest('#notebook-container');\nif (notebookContainer) {{\n    x.observe(notebookContainer, {childList: true});\n}}\n\n// Listen for the clearing of the current output cell\nvar outputEl = gd.closest('.output');\nif (outputEl) {{\n    x.observe(outputEl, {childList: true});\n}}\n\n                        })                };                });            </script>        </div>"
     },
     "metadata": {},
     "output_type": "display_data"
    }
   ],
   "source": [
    " # manually exclude experiment 301 as it disturbs the covariance plotting and has an unreasonable conversion value course.\n",
    "if kinetic_curves[301][\"exp_nr\"].iloc[1] == \"301\":\n",
    "    print(kinetic_curves[301])\n",
    "    fig = px.line(kinetic_curves[301].dropna(subset=\"conversion\"), x=\"time\", y=\"conversion\", title=f\"kinetic 301 \", labels={\"x\":\"Time\", \"y\":\"Conversion\"})\n",
    "    fig.add_scatter(x=kinetic_curves[301][\"time\"], y=kinetic_curves[301][\"conversion\"], mode=\"lines+markers\", line=dict(dash=\"dot\"), name=\"Mn\")\n",
    "    fig.show()\n",
    "    kinetic_curves.pop(301)\n",
    "else:\n",
    "    print(\"Cell was already run. Experiment is deleted.\")"
   ],
   "metadata": {
    "collapsed": false,
    "pycharm": {
     "name": "#%%\n"
    }
   }
  },
  {
   "cell_type": "code",
   "execution_count": 68,
   "outputs": [
    {
     "name": "stdout",
     "output_type": "stream",
     "text": [
      "functions loaded\n"
     ]
    }
   ],
   "source": [
    "'''\n",
    "deprecated: more theoretical accurate version but practically worse applicable\n",
    "    # L is responsible for scaling the output range from [0,1] to [0,L]\n",
    "    # b\n",
    "    # k is responsible for scaling the input, which remains in (-inf,inf)\n",
    "    # x0\n",
    "def sigmoid (x, L ,x0, k, b):\n",
    "    y = L / (1 + np.exp(-k*(x-x0)))+b\n",
    "    return (y)\n",
    "\n",
    "def sigmoid_derivative(x, L ,x0, k, b):\n",
    "    y = (L*k*np.exp(-k*(x-x0)))/((np.exp(-k*(x-x0))+1)**2)\n",
    "    return (y)\n",
    "\n",
    "\n",
    "'''\n",
    "def neg_growth(x, l, k):\n",
    "    y = l * (1 - np.exp(k * (-x)))\n",
    "    return y\n",
    "\n",
    "def neg_growth_derivative(x, l, k):\n",
    "    y = l * k * np.exp(k*(-x))\n",
    "    return y\n",
    "\n",
    "# as the Mn values do not all start at 0\n",
    "def neg_growth_abscissae(x, l, k, b):\n",
    "    y = l * (1 - np.exp(k * (-x))) + b\n",
    "    return y\n",
    "\n",
    "def linear_growth(x, m):\n",
    "    y = m * x\n",
    "    return y\n",
    "\n",
    "def linear_growth_derivative(m):\n",
    "    return m\n",
    "\n",
    "'''\n",
    "xrange = np.arange(-0.2, 5, 0.1)\n",
    "example_fig = px.line()\n",
    "for testparams in ([1,1], [2,1], [1,2]):\n",
    "    example_fig.add_scatter(x=xrange, y=neg_growth(xrange, *testparams))\n",
    "    example_fig.add_scatter(x=xrange, y=neg_growth_derivative(xrange, *testparams), opacity=0.5, line=dict(dash=\"dot\"))\n",
    "\n",
    "print(\"visualisation of the functions\")\n",
    "example_fig.show()\n",
    "# '''\n",
    "print(\"functions loaded\")"
   ],
   "metadata": {
    "collapsed": false,
    "pycharm": {
     "name": "#%%\n"
    }
   }
  },
  {
   "cell_type": "code",
   "execution_count": 69,
   "outputs": [
    {
     "data": {
      "application/vnd.plotly.v1+json": {
       "data": [
        {
         "hovertemplate": "<extra></extra>",
         "legendgroup": "",
         "line": {
          "color": "#636efa",
          "dash": "solid"
         },
         "marker": {
          "symbol": "circle"
         },
         "mode": "lines",
         "name": "",
         "orientation": "v",
         "showlegend": false,
         "xaxis": "x",
         "yaxis": "y",
         "type": "scatter"
        },
        {
         "fill": "tozeroy",
         "fillcolor": "orange",
         "line": {
          "color": "darkgoldenrod"
         },
         "name": "min Mw",
         "opacity": 0.8,
         "y": [
          160.0,
          170.0,
          180.0,
          190.0,
          190.0,
          190.0,
          190.0,
          190.0,
          200.0,
          200.0,
          210.0,
          210.0,
          210.0,
          210.0,
          210,
          210,
          210,
          210,
          210,
          220,
          220,
          220,
          220,
          220,
          220,
          220,
          230.0,
          230.0,
          230,
          230,
          230,
          230,
          230,
          230,
          230,
          230,
          240,
          240,
          240,
          240,
          240,
          240.0,
          240.0,
          250.0,
          250.0,
          250,
          250,
          260.0,
          260.0,
          260.0,
          262.0,
          270.0,
          270.0,
          270.0,
          270.0,
          270.0,
          270.0,
          270.0,
          270.0,
          270.0,
          270.0,
          280.0,
          280.0,
          280.0,
          280.0,
          280.0,
          290.0,
          290.0,
          290.0,
          290,
          290,
          290.0,
          294.0,
          300.0,
          300.0,
          300,
          300,
          300,
          300,
          300,
          300,
          300,
          300,
          300,
          300.0,
          310.0,
          310.0,
          310.0,
          310,
          310,
          310,
          310,
          310,
          310,
          310,
          310,
          310,
          310.0,
          314.0,
          320.0,
          320.0,
          320.0,
          320.0,
          320.0,
          320.0,
          329.0,
          330.0,
          330.0,
          330.0,
          330.0,
          330,
          330,
          330.0,
          330.0,
          340.0,
          340.0,
          340,
          340,
          340,
          340,
          340,
          340.0,
          350,
          350,
          350,
          350,
          350.0,
          360.0,
          360.0,
          360,
          360,
          360,
          360.0,
          370.0,
          370,
          370.0,
          380.0,
          380.0,
          390.0,
          390.0,
          390.0,
          391.0,
          399.0,
          400.0,
          400.0,
          400.0,
          400.0,
          400.0,
          410.0,
          410.0,
          420.0,
          420.0,
          440.0,
          450.0,
          450.0,
          459.0,
          460.0,
          460.0,
          500.0,
          500.0,
          510.0,
          510.0,
          510.0,
          510.0,
          520.0,
          540.0,
          540.0,
          540.0,
          580.0,
          590.0,
          610.0,
          620.0,
          640.0,
          660.0,
          710.0,
          716.0,
          910.0,
          972.0,
          980.0,
          1000.0,
          1020.0,
          1028.0,
          1040.0,
          1100.0,
          1300.0,
          1410.0,
          1620.0,
          1660.0,
          1800.0,
          1860.0,
          1910.0,
          1920.0,
          1941.0,
          1980.0,
          2000.0,
          2000.0,
          2100.0,
          2200.0,
          2200.0,
          2200.0,
          2300.0,
          2400.0,
          2500.0,
          2500.0,
          2700.0,
          2700.0,
          2700.0,
          2700.0,
          2700.0,
          2800.0,
          2900.0,
          3000.0,
          3000.0,
          3000.0,
          3032.0,
          3100.0,
          3100.0,
          3200.0,
          3300.0,
          3300.0,
          3400.0,
          3600.0,
          3700.0,
          3800.0,
          3800.0,
          3800.0,
          3900.0,
          3900.0,
          3900.0,
          4000.0,
          4100.0,
          4100.0,
          4100.0,
          4100.0,
          4200.0,
          4300.0,
          4300.0,
          4400.0,
          4500.0,
          4524.0,
          4600.0,
          5000.0,
          5000.0,
          5100.0,
          5100.0,
          5300.0,
          5300.0,
          5400.0,
          5500.0,
          5500.0,
          5600.0,
          5600.0,
          5900.0,
          5900.0,
          6400.0,
          6700.0,
          6700.0,
          6900.0,
          6900.0,
          6900.0,
          7000.0,
          7600.0,
          7800.0,
          8200.0,
          8900.0,
          10800.0,
          13100.0,
          15434,
          17598.0,
          18100.0,
          21700.0,
          25163.0,
          28000.0,
          29000.0,
          30000.0,
          31558.0,
          34000.0,
          35000.0,
          36000.0,
          39000.0,
          40362.0,
          42722.0,
          43006.0,
          43336.0,
          45000.0,
          45174.0,
          45248.0,
          46000.0,
          46362.0,
          48000.0,
          51000.0,
          51000.0,
          52000.0,
          52000.0,
          53000.0,
          55972.0,
          56000.0,
          57000.0,
          62000.0,
          63000.0,
          64000.0,
          67000.0,
          72000.0,
          72000.0,
          73000.0,
          73000.0,
          74000.0,
          75000.0,
          78000.0,
          78000.0,
          78000.0,
          79000.0,
          81000.0,
          83000.0,
          83000.0,
          84000.0
         ],
         "type": "scatter"
        },
        {
         "line": {
          "color": "darkgoldenrod"
         },
         "name": "max Mw",
         "opacity": 0.8,
         "y": [
          390.0,
          530.0,
          590.0,
          630.0,
          670.0,
          820.0,
          850.0,
          910.0,
          930.0,
          1000.0,
          1040.0,
          1060.0,
          1090.0,
          1090.0,
          1180.0,
          1199.0,
          1220.0,
          1250.0,
          1330.0,
          1370.0,
          1420.0,
          1430.0,
          1440.0,
          1454.0,
          1460.0,
          1470.0,
          1470.0,
          1550.0,
          1640.0,
          1670.0,
          1700.0,
          1700.0,
          1710.0,
          1740.0,
          1800.0,
          1830.0,
          1870.0,
          1900.0,
          1950.0,
          2000.0,
          2000.0,
          2000.0,
          2064.0,
          2065.0,
          2100.0,
          2200.0,
          2200.0,
          2300.0,
          2300.0,
          2400.0,
          2400.0,
          2500.0,
          2500.0,
          2500.0,
          2600.0,
          2600.0,
          2600.0,
          2600.0,
          2700.0,
          2700.0,
          2700.0,
          2700.0,
          2800.0,
          2900.0,
          2900.0,
          2900.0,
          2900.0,
          3000.0,
          3100.0,
          3100.0,
          3200.0,
          3200.0,
          3200.0,
          3300.0,
          3300.0,
          3300.0,
          3400.0,
          3400.0,
          3500.0,
          3600.0,
          3600.0,
          3680.0,
          3700.0,
          3700.0,
          3800.0,
          3900.0,
          4000.0,
          4100.0,
          4100.0,
          4100.0,
          4100.0,
          4100.0,
          4200.0,
          4300.0,
          4300.0,
          4500.0,
          4500.0,
          4500.0,
          4600.0,
          4700.0,
          4764.0,
          4827.0,
          4900.0,
          4900.0,
          4900.0,
          5000.0,
          5000.0,
          5000.0,
          5100.0,
          5200.0,
          5443.0,
          5500.0,
          5500.0,
          5800.0,
          5800.0,
          5800.0,
          5900.0,
          5900.0,
          6000.0,
          6000.0,
          6000.0,
          6000.0,
          6100.0,
          6100.0,
          6100.0,
          6500.0,
          6500.0,
          6500.0,
          6600.0,
          6600.0,
          6700.0,
          6700.0,
          6800.0,
          7043.0,
          7100.0,
          7300.0,
          7400.0,
          7600.0,
          7600.0,
          7700.0,
          7738.0,
          7800.0,
          7832.0,
          8000.0,
          8100.0,
          8300.0,
          8600.0,
          8700.0,
          8700.0,
          8800.0,
          8900.0,
          9000.0,
          9200.0,
          9200.0,
          9300.0,
          9600.0,
          9800.0,
          10300.0,
          10700.0,
          10700.0,
          10900.0,
          11000.0,
          11000.0,
          11200.0,
          11300.0,
          11300.0,
          11400.0,
          11600.0,
          11700.0,
          11700.0,
          11900.0,
          12000.0,
          12100.0,
          12300.0,
          12444.0,
          12700.0,
          12700.0,
          12800.0,
          13000.0,
          13100.0,
          13300.0,
          13500.0,
          13700.0,
          13700.0,
          13800.0,
          13800.0,
          14000.0,
          14000.0,
          14100.0,
          14100.0,
          14200.0,
          14600.0,
          14700.0,
          14800.0,
          15000.0,
          15100.0,
          15300.0,
          15400.0,
          15700.0,
          16009.0,
          16200.0,
          16400.0,
          16500.0,
          16800.0,
          16800.0,
          16900.0,
          16900.0,
          16900.0,
          17100.0,
          17600.0,
          17700.0,
          17800.0,
          17900.0,
          18300.0,
          18400.0,
          18400.0,
          18486.0,
          18600.0,
          18600.0,
          18700.0,
          18800.0,
          18900.0,
          19200.0,
          19400.0,
          19400.0,
          19400.0,
          19600.0,
          19700.0,
          19800.0,
          20000.0,
          20000.0,
          20000.0,
          20000.0,
          20000.0,
          20700.0,
          20904.0,
          21000.0,
          21000.0,
          21000.0,
          21000.0,
          21000.0,
          21200.0,
          22000.0,
          22000.0,
          22000.0,
          22000.0,
          22000.0,
          22000.0,
          22300.0,
          22385.0,
          23000.0,
          23000.0,
          24000.0,
          24000.0,
          25000.0,
          25000.0,
          25000.0,
          25000.0,
          25000.0,
          26000.0,
          29000.0,
          29334.0,
          30000.0,
          30000.0,
          31000.0,
          31000.0,
          33000.0,
          35000.0,
          35000.0,
          41000.0,
          43485.0,
          47000.0,
          49000.0,
          49849.0,
          50043.0,
          54924.0,
          55000.0,
          55000.0,
          55414.0,
          55558.0,
          60000.0,
          62306.0,
          65000.0,
          67000.0,
          68321.0,
          69000.0,
          71000.0,
          72000.0,
          72000.0,
          73770.0,
          73900.0,
          75000.0,
          77888.0,
          79000.0,
          79000.0,
          79000.0,
          82000.0,
          82000.0,
          84000.0,
          85000.0,
          93000.0,
          94000.0,
          96000.0,
          97000.0,
          99000.0,
          100000.0,
          100000.0,
          100000.0,
          100000.0,
          100000.0,
          100000.0,
          100000.0,
          100000.0,
          100000.0,
          100000.0,
          100000.0
         ],
         "type": "scatter"
        },
        {
         "fill": "tozeroy",
         "fillcolor": "red",
         "line": {
          "color": "firebrick"
         },
         "name": "min Mn",
         "opacity": 0.8,
         "y": [
          150.0,
          170.0,
          170.0,
          170.0,
          180.0,
          180.0,
          180.0,
          180.0,
          180.0,
          190.0,
          200.0,
          200.0,
          200.0,
          200.0,
          200.0,
          210,
          210,
          210,
          210,
          210,
          210,
          210,
          210,
          210,
          210,
          220.0,
          220,
          220,
          220,
          220,
          220,
          220,
          220,
          220,
          220,
          220,
          220,
          230.0,
          230.0,
          230.0,
          230,
          230,
          230,
          230,
          230,
          230.0,
          230.0,
          231.0,
          232.0,
          240.0,
          240.0,
          240.0,
          240,
          240.0,
          250.0,
          250.0,
          250.0,
          250.0,
          250.0,
          250.0,
          250.0,
          250.0,
          260.0,
          260.0,
          260.0,
          260.0,
          260.0,
          260.0,
          260.0,
          260.0,
          260.0,
          270.0,
          270.0,
          270.0,
          270.0,
          270.0,
          270.0,
          272.0,
          279.0,
          280.0,
          280.0,
          280.0,
          280.0,
          280,
          280.0,
          290.0,
          290.0,
          290,
          290,
          290,
          290,
          290,
          290,
          290,
          290,
          290.0,
          290.0,
          290.0,
          300.0,
          300.0,
          300.0,
          300,
          300,
          300,
          300,
          300,
          300,
          300,
          300,
          300,
          300,
          300,
          300,
          300.0,
          300.0,
          310.0,
          310.0,
          310.0,
          310.0,
          310.0,
          310.0,
          320.0,
          320,
          320,
          330.0,
          330,
          330,
          330,
          330,
          330,
          330,
          330,
          330,
          330.0,
          330.0,
          330.0,
          340.0,
          340,
          340,
          349.0,
          350.0,
          350.0,
          350.0,
          350,
          350,
          350.0,
          360.0,
          360.0,
          360.0,
          360.0,
          370.0,
          370.0,
          370.0,
          380.0,
          390.0,
          390.0,
          390.0,
          390.0,
          390.0,
          401.0,
          410.0,
          420.0,
          420.0,
          430.0,
          440.0,
          440.0,
          470.0,
          470.0,
          480.0,
          490.0,
          500.0,
          510.0,
          530.0,
          550.0,
          560.0,
          620.0,
          620.0,
          637.0,
          650.0,
          710.0,
          733.0,
          800.0,
          850.0,
          850.0,
          870.0,
          880.0,
          970.0,
          1150.0,
          1150.0,
          1170.0,
          1190.0,
          1200.0,
          1217.0,
          1240.0,
          1260.0,
          1310.0,
          1370.0,
          1420.0,
          1470.0,
          1510.0,
          1520.0,
          1550.0,
          1580.0,
          1600.0,
          1600.0,
          1670.0,
          1728.0,
          1800.0,
          1860.0,
          1900.0,
          1940.0,
          1950.0,
          2009.0,
          2100.0,
          2100.0,
          2100.0,
          2100.0,
          2100.0,
          2200.0,
          2200.0,
          2200.0,
          2300.0,
          2300.0,
          2300.0,
          2300.0,
          2400.0,
          2400.0,
          2400.0,
          2400.0,
          2500.0,
          2500.0,
          2600.0,
          2600.0,
          2700.0,
          3000.0,
          3100.0,
          3100.0,
          3200.0,
          3200.0,
          3238.0,
          3300.0,
          3400.0,
          3400.0,
          3700.0,
          3700.0,
          3800.0,
          3800.0,
          3800.0,
          3800.0,
          3900.0,
          3900.0,
          3900.0,
          3900.0,
          3900.0,
          4000.0,
          4200.0,
          4300.0,
          4500.0,
          4600.0,
          4700.0,
          4900.0,
          5000.0,
          5400.0,
          5400.0,
          5600.0,
          5700.0,
          7400.0,
          8400.0,
          8450,
          8500.0,
          9192.0,
          13100.0,
          13350.0,
          14000.0,
          14300.0,
          14500.0,
          15400.0,
          15600.0,
          16689.0,
          17800.0,
          18900.0,
          19800.0,
          21181.0,
          21638.0,
          22483.0,
          23454.0,
          23751.0,
          24908.0,
          25000.0,
          25960.0,
          26000.0,
          26000.0,
          26561.0,
          28000.0,
          30000.0,
          30000.0,
          31000.0,
          31000.0,
          33000.0,
          36000.0,
          36000.0,
          39000.0,
          39000.0,
          39000.0,
          39000.0,
          39000.0,
          40000.0,
          41000.0,
          41000.0,
          42000.0,
          42000.0,
          45000.0,
          46000.0,
          46000.0,
          49000.0,
          52000.0
         ],
         "type": "scatter"
        },
        {
         "line": {
          "color": "firebrick"
         },
         "name": "max Mn",
         "opacity": 0.8,
         "y": [
          300.0,
          390.0,
          440.0,
          470.0,
          500.0,
          550.0,
          600.0,
          610.0,
          620.0,
          630.0,
          650.0,
          700.0,
          720.0,
          720.0,
          723.0,
          730.0,
          740.0,
          740.0,
          754.0,
          770.0,
          800.0,
          860.0,
          870.0,
          870.0,
          910.0,
          960.0,
          970.0,
          1010.0,
          1050.0,
          1070.0,
          1080.0,
          1080.0,
          1120.0,
          1180.0,
          1180.0,
          1190.0,
          1200.0,
          1200.0,
          1210.0,
          1220.0,
          1290.0,
          1290.0,
          1290.0,
          1290.0,
          1320.0,
          1350.0,
          1380.0,
          1390.0,
          1410.0,
          1428.0,
          1460.0,
          1470.0,
          1500.0,
          1500.0,
          1510.0,
          1510.0,
          1590.0,
          1610.0,
          1630.0,
          1660.0,
          1690.0,
          1700.0,
          1722.0,
          1800.0,
          1810.0,
          1810.0,
          1870.0,
          1880.0,
          1970.0,
          1970.0,
          1990.0,
          2000.0,
          2100.0,
          2100.0,
          2300.0,
          2300.0,
          2300.0,
          2400.0,
          2400.0,
          2480.0,
          2500.0,
          2500.0,
          2600.0,
          2600.0,
          2700.0,
          2700.0,
          2700.0,
          2900.0,
          2900.0,
          2900.0,
          2900.0,
          2921.0,
          3000.0,
          3000.0,
          3100.0,
          3100.0,
          3100.0,
          3200.0,
          3200.0,
          3300.0,
          3300.0,
          3300.0,
          3400.0,
          3400.0,
          3431.0,
          3500.0,
          3500.0,
          3500.0,
          3500.0,
          3500.0,
          3500.0,
          3682.0,
          3700.0,
          3700.0,
          3700.0,
          3700.0,
          3800.0,
          3800.0,
          4200.0,
          4200.0,
          4300.0,
          4300.0,
          4400.0,
          4400.0,
          4409.0,
          4500.0,
          4500.0,
          4600.0,
          4600.0,
          4600.0,
          4605.0,
          4700.0,
          4800.0,
          4800.0,
          4900.0,
          5000.0,
          5000.0,
          5000.0,
          5200.0,
          5300.0,
          5400.0,
          5400.0,
          5600.0,
          5600.0,
          5700.0,
          5800.0,
          5800.0,
          5800.0,
          6000.0,
          6040.0,
          6100.0,
          6300.0,
          6300.0,
          6500.0,
          6544.0,
          6700.0,
          6700.0,
          6900.0,
          7015.0,
          7100.0,
          7100.0,
          7200.0,
          7200.0,
          7200.0,
          7300.0,
          7400.0,
          7400.0,
          7600.0,
          7600.0,
          7800.0,
          8000.0,
          8200.0,
          8300.0,
          8400.0,
          8500.0,
          8600.0,
          8700.0,
          8700.0,
          8700.0,
          8700.0,
          8700.0,
          9000.0,
          9000.0,
          9100.0,
          9200.0,
          9200.0,
          9200.0,
          9200.0,
          9300.0,
          9300.0,
          9300.0,
          9400.0,
          9500.0,
          9600.0,
          9700.0,
          9700.0,
          9700.0,
          10000.0,
          10179.0,
          10200.0,
          10300.0,
          10600.0,
          10600.0,
          10700.0,
          10800.0,
          10800.0,
          10900.0,
          11000.0,
          11000.0,
          11200.0,
          11200.0,
          11300.0,
          11400.0,
          11700.0,
          11700.0,
          12200.0,
          12400.0,
          12400.0,
          12500.0,
          12500.0,
          12600.0,
          12600.0,
          12600.0,
          12800.0,
          12932.0,
          13200.0,
          13200.0,
          13300.0,
          13400.0,
          13500.0,
          13800.0,
          13900.0,
          13900.0,
          14000.0,
          14000.0,
          14100.0,
          14200.0,
          14200.0,
          14300.0,
          14500.0,
          14600.0,
          14700.0,
          14800.0,
          14948.0,
          15000.0,
          15000.0,
          15000.0,
          15000.0,
          15300.0,
          15600.0,
          15700.0,
          15800.0,
          15800.0,
          16000.0,
          16000.0,
          16200.0,
          16200.0,
          16300.0,
          16600.0,
          16800.0,
          17000.0,
          17100.0,
          17400.0,
          17500.0,
          19210.0,
          20000.0,
          20000.0,
          21000.0,
          21300.0,
          24214.0,
          24900.0,
          27000.0,
          27000.0,
          29000.0,
          29000.0,
          29137.0,
          29415.0,
          30000.0,
          30000.0,
          33000.0,
          33149.0,
          33464.0,
          37000.0,
          38000.0,
          38713.0,
          40389.0,
          42372.0,
          43977.0,
          46000.0,
          46000.0,
          46000.0,
          48000.0,
          49000.0,
          49000.0,
          49905.0,
          50000.0,
          54000.0,
          56000.0,
          61000.0,
          64000.0,
          65000.0,
          74000.0,
          74000.0,
          76000.0,
          77000.0,
          77000.0,
          81000.0,
          82000.0,
          82000.0,
          83000.0,
          85000.0,
          88000.0,
          88000.0,
          89000.0,
          90000.0,
          90000.0
         ],
         "type": "scatter"
        }
       ],
       "layout": {
        "template": {
         "data": {
          "histogram2dcontour": [
           {
            "type": "histogram2dcontour",
            "colorbar": {
             "outlinewidth": 0,
             "ticks": ""
            },
            "colorscale": [
             [
              0.0,
              "#0d0887"
             ],
             [
              0.1111111111111111,
              "#46039f"
             ],
             [
              0.2222222222222222,
              "#7201a8"
             ],
             [
              0.3333333333333333,
              "#9c179e"
             ],
             [
              0.4444444444444444,
              "#bd3786"
             ],
             [
              0.5555555555555556,
              "#d8576b"
             ],
             [
              0.6666666666666666,
              "#ed7953"
             ],
             [
              0.7777777777777778,
              "#fb9f3a"
             ],
             [
              0.8888888888888888,
              "#fdca26"
             ],
             [
              1.0,
              "#f0f921"
             ]
            ]
           }
          ],
          "choropleth": [
           {
            "type": "choropleth",
            "colorbar": {
             "outlinewidth": 0,
             "ticks": ""
            }
           }
          ],
          "histogram2d": [
           {
            "type": "histogram2d",
            "colorbar": {
             "outlinewidth": 0,
             "ticks": ""
            },
            "colorscale": [
             [
              0.0,
              "#0d0887"
             ],
             [
              0.1111111111111111,
              "#46039f"
             ],
             [
              0.2222222222222222,
              "#7201a8"
             ],
             [
              0.3333333333333333,
              "#9c179e"
             ],
             [
              0.4444444444444444,
              "#bd3786"
             ],
             [
              0.5555555555555556,
              "#d8576b"
             ],
             [
              0.6666666666666666,
              "#ed7953"
             ],
             [
              0.7777777777777778,
              "#fb9f3a"
             ],
             [
              0.8888888888888888,
              "#fdca26"
             ],
             [
              1.0,
              "#f0f921"
             ]
            ]
           }
          ],
          "heatmap": [
           {
            "type": "heatmap",
            "colorbar": {
             "outlinewidth": 0,
             "ticks": ""
            },
            "colorscale": [
             [
              0.0,
              "#0d0887"
             ],
             [
              0.1111111111111111,
              "#46039f"
             ],
             [
              0.2222222222222222,
              "#7201a8"
             ],
             [
              0.3333333333333333,
              "#9c179e"
             ],
             [
              0.4444444444444444,
              "#bd3786"
             ],
             [
              0.5555555555555556,
              "#d8576b"
             ],
             [
              0.6666666666666666,
              "#ed7953"
             ],
             [
              0.7777777777777778,
              "#fb9f3a"
             ],
             [
              0.8888888888888888,
              "#fdca26"
             ],
             [
              1.0,
              "#f0f921"
             ]
            ]
           }
          ],
          "heatmapgl": [
           {
            "type": "heatmapgl",
            "colorbar": {
             "outlinewidth": 0,
             "ticks": ""
            },
            "colorscale": [
             [
              0.0,
              "#0d0887"
             ],
             [
              0.1111111111111111,
              "#46039f"
             ],
             [
              0.2222222222222222,
              "#7201a8"
             ],
             [
              0.3333333333333333,
              "#9c179e"
             ],
             [
              0.4444444444444444,
              "#bd3786"
             ],
             [
              0.5555555555555556,
              "#d8576b"
             ],
             [
              0.6666666666666666,
              "#ed7953"
             ],
             [
              0.7777777777777778,
              "#fb9f3a"
             ],
             [
              0.8888888888888888,
              "#fdca26"
             ],
             [
              1.0,
              "#f0f921"
             ]
            ]
           }
          ],
          "contourcarpet": [
           {
            "type": "contourcarpet",
            "colorbar": {
             "outlinewidth": 0,
             "ticks": ""
            }
           }
          ],
          "contour": [
           {
            "type": "contour",
            "colorbar": {
             "outlinewidth": 0,
             "ticks": ""
            },
            "colorscale": [
             [
              0.0,
              "#0d0887"
             ],
             [
              0.1111111111111111,
              "#46039f"
             ],
             [
              0.2222222222222222,
              "#7201a8"
             ],
             [
              0.3333333333333333,
              "#9c179e"
             ],
             [
              0.4444444444444444,
              "#bd3786"
             ],
             [
              0.5555555555555556,
              "#d8576b"
             ],
             [
              0.6666666666666666,
              "#ed7953"
             ],
             [
              0.7777777777777778,
              "#fb9f3a"
             ],
             [
              0.8888888888888888,
              "#fdca26"
             ],
             [
              1.0,
              "#f0f921"
             ]
            ]
           }
          ],
          "surface": [
           {
            "type": "surface",
            "colorbar": {
             "outlinewidth": 0,
             "ticks": ""
            },
            "colorscale": [
             [
              0.0,
              "#0d0887"
             ],
             [
              0.1111111111111111,
              "#46039f"
             ],
             [
              0.2222222222222222,
              "#7201a8"
             ],
             [
              0.3333333333333333,
              "#9c179e"
             ],
             [
              0.4444444444444444,
              "#bd3786"
             ],
             [
              0.5555555555555556,
              "#d8576b"
             ],
             [
              0.6666666666666666,
              "#ed7953"
             ],
             [
              0.7777777777777778,
              "#fb9f3a"
             ],
             [
              0.8888888888888888,
              "#fdca26"
             ],
             [
              1.0,
              "#f0f921"
             ]
            ]
           }
          ],
          "mesh3d": [
           {
            "type": "mesh3d",
            "colorbar": {
             "outlinewidth": 0,
             "ticks": ""
            }
           }
          ],
          "scatter": [
           {
            "fillpattern": {
             "fillmode": "overlay",
             "size": 10,
             "solidity": 0.2
            },
            "type": "scatter"
           }
          ],
          "parcoords": [
           {
            "type": "parcoords",
            "line": {
             "colorbar": {
              "outlinewidth": 0,
              "ticks": ""
             }
            }
           }
          ],
          "scatterpolargl": [
           {
            "type": "scatterpolargl",
            "marker": {
             "colorbar": {
              "outlinewidth": 0,
              "ticks": ""
             }
            }
           }
          ],
          "bar": [
           {
            "error_x": {
             "color": "#2a3f5f"
            },
            "error_y": {
             "color": "#2a3f5f"
            },
            "marker": {
             "line": {
              "color": "#E5ECF6",
              "width": 0.5
             },
             "pattern": {
              "fillmode": "overlay",
              "size": 10,
              "solidity": 0.2
             }
            },
            "type": "bar"
           }
          ],
          "scattergeo": [
           {
            "type": "scattergeo",
            "marker": {
             "colorbar": {
              "outlinewidth": 0,
              "ticks": ""
             }
            }
           }
          ],
          "scatterpolar": [
           {
            "type": "scatterpolar",
            "marker": {
             "colorbar": {
              "outlinewidth": 0,
              "ticks": ""
             }
            }
           }
          ],
          "histogram": [
           {
            "marker": {
             "pattern": {
              "fillmode": "overlay",
              "size": 10,
              "solidity": 0.2
             }
            },
            "type": "histogram"
           }
          ],
          "scattergl": [
           {
            "type": "scattergl",
            "marker": {
             "colorbar": {
              "outlinewidth": 0,
              "ticks": ""
             }
            }
           }
          ],
          "scatter3d": [
           {
            "type": "scatter3d",
            "line": {
             "colorbar": {
              "outlinewidth": 0,
              "ticks": ""
             }
            },
            "marker": {
             "colorbar": {
              "outlinewidth": 0,
              "ticks": ""
             }
            }
           }
          ],
          "scattermapbox": [
           {
            "type": "scattermapbox",
            "marker": {
             "colorbar": {
              "outlinewidth": 0,
              "ticks": ""
             }
            }
           }
          ],
          "scatterternary": [
           {
            "type": "scatterternary",
            "marker": {
             "colorbar": {
              "outlinewidth": 0,
              "ticks": ""
             }
            }
           }
          ],
          "scattercarpet": [
           {
            "type": "scattercarpet",
            "marker": {
             "colorbar": {
              "outlinewidth": 0,
              "ticks": ""
             }
            }
           }
          ],
          "carpet": [
           {
            "aaxis": {
             "endlinecolor": "#2a3f5f",
             "gridcolor": "white",
             "linecolor": "white",
             "minorgridcolor": "white",
             "startlinecolor": "#2a3f5f"
            },
            "baxis": {
             "endlinecolor": "#2a3f5f",
             "gridcolor": "white",
             "linecolor": "white",
             "minorgridcolor": "white",
             "startlinecolor": "#2a3f5f"
            },
            "type": "carpet"
           }
          ],
          "table": [
           {
            "cells": {
             "fill": {
              "color": "#EBF0F8"
             },
             "line": {
              "color": "white"
             }
            },
            "header": {
             "fill": {
              "color": "#C8D4E3"
             },
             "line": {
              "color": "white"
             }
            },
            "type": "table"
           }
          ],
          "barpolar": [
           {
            "marker": {
             "line": {
              "color": "#E5ECF6",
              "width": 0.5
             },
             "pattern": {
              "fillmode": "overlay",
              "size": 10,
              "solidity": 0.2
             }
            },
            "type": "barpolar"
           }
          ],
          "pie": [
           {
            "automargin": true,
            "type": "pie"
           }
          ]
         },
         "layout": {
          "autotypenumbers": "strict",
          "colorway": [
           "#636efa",
           "#EF553B",
           "#00cc96",
           "#ab63fa",
           "#FFA15A",
           "#19d3f3",
           "#FF6692",
           "#B6E880",
           "#FF97FF",
           "#FECB52"
          ],
          "font": {
           "color": "#2a3f5f"
          },
          "hovermode": "closest",
          "hoverlabel": {
           "align": "left"
          },
          "paper_bgcolor": "white",
          "plot_bgcolor": "#E5ECF6",
          "polar": {
           "bgcolor": "#E5ECF6",
           "angularaxis": {
            "gridcolor": "white",
            "linecolor": "white",
            "ticks": ""
           },
           "radialaxis": {
            "gridcolor": "white",
            "linecolor": "white",
            "ticks": ""
           }
          },
          "ternary": {
           "bgcolor": "#E5ECF6",
           "aaxis": {
            "gridcolor": "white",
            "linecolor": "white",
            "ticks": ""
           },
           "baxis": {
            "gridcolor": "white",
            "linecolor": "white",
            "ticks": ""
           },
           "caxis": {
            "gridcolor": "white",
            "linecolor": "white",
            "ticks": ""
           }
          },
          "coloraxis": {
           "colorbar": {
            "outlinewidth": 0,
            "ticks": ""
           }
          },
          "colorscale": {
           "sequential": [
            [
             0.0,
             "#0d0887"
            ],
            [
             0.1111111111111111,
             "#46039f"
            ],
            [
             0.2222222222222222,
             "#7201a8"
            ],
            [
             0.3333333333333333,
             "#9c179e"
            ],
            [
             0.4444444444444444,
             "#bd3786"
            ],
            [
             0.5555555555555556,
             "#d8576b"
            ],
            [
             0.6666666666666666,
             "#ed7953"
            ],
            [
             0.7777777777777778,
             "#fb9f3a"
            ],
            [
             0.8888888888888888,
             "#fdca26"
            ],
            [
             1.0,
             "#f0f921"
            ]
           ],
           "sequentialminus": [
            [
             0.0,
             "#0d0887"
            ],
            [
             0.1111111111111111,
             "#46039f"
            ],
            [
             0.2222222222222222,
             "#7201a8"
            ],
            [
             0.3333333333333333,
             "#9c179e"
            ],
            [
             0.4444444444444444,
             "#bd3786"
            ],
            [
             0.5555555555555556,
             "#d8576b"
            ],
            [
             0.6666666666666666,
             "#ed7953"
            ],
            [
             0.7777777777777778,
             "#fb9f3a"
            ],
            [
             0.8888888888888888,
             "#fdca26"
            ],
            [
             1.0,
             "#f0f921"
            ]
           ],
           "diverging": [
            [
             0,
             "#8e0152"
            ],
            [
             0.1,
             "#c51b7d"
            ],
            [
             0.2,
             "#de77ae"
            ],
            [
             0.3,
             "#f1b6da"
            ],
            [
             0.4,
             "#fde0ef"
            ],
            [
             0.5,
             "#f7f7f7"
            ],
            [
             0.6,
             "#e6f5d0"
            ],
            [
             0.7,
             "#b8e186"
            ],
            [
             0.8,
             "#7fbc41"
            ],
            [
             0.9,
             "#4d9221"
            ],
            [
             1,
             "#276419"
            ]
           ]
          },
          "xaxis": {
           "gridcolor": "white",
           "linecolor": "white",
           "ticks": "",
           "title": {
            "standoff": 15
           },
           "zerolinecolor": "white",
           "automargin": true,
           "zerolinewidth": 2
          },
          "yaxis": {
           "gridcolor": "white",
           "linecolor": "white",
           "ticks": "",
           "title": {
            "standoff": 15
           },
           "zerolinecolor": "white",
           "automargin": true,
           "zerolinewidth": 2
          },
          "scene": {
           "xaxis": {
            "backgroundcolor": "#E5ECF6",
            "gridcolor": "white",
            "linecolor": "white",
            "showbackground": true,
            "ticks": "",
            "zerolinecolor": "white",
            "gridwidth": 2
           },
           "yaxis": {
            "backgroundcolor": "#E5ECF6",
            "gridcolor": "white",
            "linecolor": "white",
            "showbackground": true,
            "ticks": "",
            "zerolinecolor": "white",
            "gridwidth": 2
           },
           "zaxis": {
            "backgroundcolor": "#E5ECF6",
            "gridcolor": "white",
            "linecolor": "white",
            "showbackground": true,
            "ticks": "",
            "zerolinecolor": "white",
            "gridwidth": 2
           }
          },
          "shapedefaults": {
           "line": {
            "color": "#2a3f5f"
           }
          },
          "annotationdefaults": {
           "arrowcolor": "#2a3f5f",
           "arrowhead": 0,
           "arrowwidth": 1
          },
          "geo": {
           "bgcolor": "white",
           "landcolor": "#E5ECF6",
           "subunitcolor": "white",
           "showland": true,
           "showlakes": true,
           "lakecolor": "white"
          },
          "title": {
           "x": 0.05
          },
          "mapbox": {
           "style": "light"
          }
         }
        },
        "xaxis": {
         "anchor": "y",
         "domain": [
          0.0,
          1.0
         ]
        },
        "yaxis": {
         "anchor": "x",
         "domain": [
          0.0,
          1.0
         ],
         "title": {
          "text": "$\\text{Mn and Mw }[g/mol] \\cdot 10^{-5}$"
         }
        },
        "legend": {
         "tracegroupgap": 0
        },
        "margin": {
         "t": 60
        },
        "title": {
         "text": "Mn and Mw comparison"
        }
       },
       "config": {
        "plotlyServerURL": "https://plot.ly"
       }
      },
      "text/html": "<div>                            <div id=\"747315c0-1b63-42a2-bb01-c1e7df73a06a\" class=\"plotly-graph-div\" style=\"height:525px; width:100%;\"></div>            <script type=\"text/javascript\">                require([\"plotly\"], function(Plotly) {                    window.PLOTLYENV=window.PLOTLYENV || {};                                    if (document.getElementById(\"747315c0-1b63-42a2-bb01-c1e7df73a06a\")) {                    Plotly.newPlot(                        \"747315c0-1b63-42a2-bb01-c1e7df73a06a\",                        [{\"hovertemplate\":\"\\u003cextra\\u003e\\u003c\\u002fextra\\u003e\",\"legendgroup\":\"\",\"line\":{\"color\":\"#636efa\",\"dash\":\"solid\"},\"marker\":{\"symbol\":\"circle\"},\"mode\":\"lines\",\"name\":\"\",\"orientation\":\"v\",\"showlegend\":false,\"xaxis\":\"x\",\"yaxis\":\"y\",\"type\":\"scatter\"},{\"fill\":\"tozeroy\",\"fillcolor\":\"orange\",\"line\":{\"color\":\"darkgoldenrod\"},\"name\":\"min Mw\",\"opacity\":0.8,\"y\":[160.0,170.0,180.0,190.0,190.0,190.0,190.0,190.0,200.0,200.0,210.0,210.0,210.0,210.0,210,210,210,210,210,220,220,220,220,220,220,220,230.0,230.0,230,230,230,230,230,230,230,230,240,240,240,240,240,240.0,240.0,250.0,250.0,250,250,260.0,260.0,260.0,262.0,270.0,270.0,270.0,270.0,270.0,270.0,270.0,270.0,270.0,270.0,280.0,280.0,280.0,280.0,280.0,290.0,290.0,290.0,290,290,290.0,294.0,300.0,300.0,300,300,300,300,300,300,300,300,300,300.0,310.0,310.0,310.0,310,310,310,310,310,310,310,310,310,310.0,314.0,320.0,320.0,320.0,320.0,320.0,320.0,329.0,330.0,330.0,330.0,330.0,330,330,330.0,330.0,340.0,340.0,340,340,340,340,340,340.0,350,350,350,350,350.0,360.0,360.0,360,360,360,360.0,370.0,370,370.0,380.0,380.0,390.0,390.0,390.0,391.0,399.0,400.0,400.0,400.0,400.0,400.0,410.0,410.0,420.0,420.0,440.0,450.0,450.0,459.0,460.0,460.0,500.0,500.0,510.0,510.0,510.0,510.0,520.0,540.0,540.0,540.0,580.0,590.0,610.0,620.0,640.0,660.0,710.0,716.0,910.0,972.0,980.0,1000.0,1020.0,1028.0,1040.0,1100.0,1300.0,1410.0,1620.0,1660.0,1800.0,1860.0,1910.0,1920.0,1941.0,1980.0,2000.0,2000.0,2100.0,2200.0,2200.0,2200.0,2300.0,2400.0,2500.0,2500.0,2700.0,2700.0,2700.0,2700.0,2700.0,2800.0,2900.0,3000.0,3000.0,3000.0,3032.0,3100.0,3100.0,3200.0,3300.0,3300.0,3400.0,3600.0,3700.0,3800.0,3800.0,3800.0,3900.0,3900.0,3900.0,4000.0,4100.0,4100.0,4100.0,4100.0,4200.0,4300.0,4300.0,4400.0,4500.0,4524.0,4600.0,5000.0,5000.0,5100.0,5100.0,5300.0,5300.0,5400.0,5500.0,5500.0,5600.0,5600.0,5900.0,5900.0,6400.0,6700.0,6700.0,6900.0,6900.0,6900.0,7000.0,7600.0,7800.0,8200.0,8900.0,10800.0,13100.0,15434,17598.0,18100.0,21700.0,25163.0,28000.0,29000.0,30000.0,31558.0,34000.0,35000.0,36000.0,39000.0,40362.0,42722.0,43006.0,43336.0,45000.0,45174.0,45248.0,46000.0,46362.0,48000.0,51000.0,51000.0,52000.0,52000.0,53000.0,55972.0,56000.0,57000.0,62000.0,63000.0,64000.0,67000.0,72000.0,72000.0,73000.0,73000.0,74000.0,75000.0,78000.0,78000.0,78000.0,79000.0,81000.0,83000.0,83000.0,84000.0],\"type\":\"scatter\"},{\"line\":{\"color\":\"darkgoldenrod\"},\"name\":\"max Mw\",\"opacity\":0.8,\"y\":[390.0,530.0,590.0,630.0,670.0,820.0,850.0,910.0,930.0,1000.0,1040.0,1060.0,1090.0,1090.0,1180.0,1199.0,1220.0,1250.0,1330.0,1370.0,1420.0,1430.0,1440.0,1454.0,1460.0,1470.0,1470.0,1550.0,1640.0,1670.0,1700.0,1700.0,1710.0,1740.0,1800.0,1830.0,1870.0,1900.0,1950.0,2000.0,2000.0,2000.0,2064.0,2065.0,2100.0,2200.0,2200.0,2300.0,2300.0,2400.0,2400.0,2500.0,2500.0,2500.0,2600.0,2600.0,2600.0,2600.0,2700.0,2700.0,2700.0,2700.0,2800.0,2900.0,2900.0,2900.0,2900.0,3000.0,3100.0,3100.0,3200.0,3200.0,3200.0,3300.0,3300.0,3300.0,3400.0,3400.0,3500.0,3600.0,3600.0,3680.0,3700.0,3700.0,3800.0,3900.0,4000.0,4100.0,4100.0,4100.0,4100.0,4100.0,4200.0,4300.0,4300.0,4500.0,4500.0,4500.0,4600.0,4700.0,4764.0,4827.0,4900.0,4900.0,4900.0,5000.0,5000.0,5000.0,5100.0,5200.0,5443.0,5500.0,5500.0,5800.0,5800.0,5800.0,5900.0,5900.0,6000.0,6000.0,6000.0,6000.0,6100.0,6100.0,6100.0,6500.0,6500.0,6500.0,6600.0,6600.0,6700.0,6700.0,6800.0,7043.0,7100.0,7300.0,7400.0,7600.0,7600.0,7700.0,7738.0,7800.0,7832.0,8000.0,8100.0,8300.0,8600.0,8700.0,8700.0,8800.0,8900.0,9000.0,9200.0,9200.0,9300.0,9600.0,9800.0,10300.0,10700.0,10700.0,10900.0,11000.0,11000.0,11200.0,11300.0,11300.0,11400.0,11600.0,11700.0,11700.0,11900.0,12000.0,12100.0,12300.0,12444.0,12700.0,12700.0,12800.0,13000.0,13100.0,13300.0,13500.0,13700.0,13700.0,13800.0,13800.0,14000.0,14000.0,14100.0,14100.0,14200.0,14600.0,14700.0,14800.0,15000.0,15100.0,15300.0,15400.0,15700.0,16009.0,16200.0,16400.0,16500.0,16800.0,16800.0,16900.0,16900.0,16900.0,17100.0,17600.0,17700.0,17800.0,17900.0,18300.0,18400.0,18400.0,18486.0,18600.0,18600.0,18700.0,18800.0,18900.0,19200.0,19400.0,19400.0,19400.0,19600.0,19700.0,19800.0,20000.0,20000.0,20000.0,20000.0,20000.0,20700.0,20904.0,21000.0,21000.0,21000.0,21000.0,21000.0,21200.0,22000.0,22000.0,22000.0,22000.0,22000.0,22000.0,22300.0,22385.0,23000.0,23000.0,24000.0,24000.0,25000.0,25000.0,25000.0,25000.0,25000.0,26000.0,29000.0,29334.0,30000.0,30000.0,31000.0,31000.0,33000.0,35000.0,35000.0,41000.0,43485.0,47000.0,49000.0,49849.0,50043.0,54924.0,55000.0,55000.0,55414.0,55558.0,60000.0,62306.0,65000.0,67000.0,68321.0,69000.0,71000.0,72000.0,72000.0,73770.0,73900.0,75000.0,77888.0,79000.0,79000.0,79000.0,82000.0,82000.0,84000.0,85000.0,93000.0,94000.0,96000.0,97000.0,99000.0,100000.0,100000.0,100000.0,100000.0,100000.0,100000.0,100000.0,100000.0,100000.0,100000.0,100000.0],\"type\":\"scatter\"},{\"fill\":\"tozeroy\",\"fillcolor\":\"red\",\"line\":{\"color\":\"firebrick\"},\"name\":\"min Mn\",\"opacity\":0.8,\"y\":[150.0,170.0,170.0,170.0,180.0,180.0,180.0,180.0,180.0,190.0,200.0,200.0,200.0,200.0,200.0,210,210,210,210,210,210,210,210,210,210,220.0,220,220,220,220,220,220,220,220,220,220,220,230.0,230.0,230.0,230,230,230,230,230,230.0,230.0,231.0,232.0,240.0,240.0,240.0,240,240.0,250.0,250.0,250.0,250.0,250.0,250.0,250.0,250.0,260.0,260.0,260.0,260.0,260.0,260.0,260.0,260.0,260.0,270.0,270.0,270.0,270.0,270.0,270.0,272.0,279.0,280.0,280.0,280.0,280.0,280,280.0,290.0,290.0,290,290,290,290,290,290,290,290,290.0,290.0,290.0,300.0,300.0,300.0,300,300,300,300,300,300,300,300,300,300,300,300,300.0,300.0,310.0,310.0,310.0,310.0,310.0,310.0,320.0,320,320,330.0,330,330,330,330,330,330,330,330,330.0,330.0,330.0,340.0,340,340,349.0,350.0,350.0,350.0,350,350,350.0,360.0,360.0,360.0,360.0,370.0,370.0,370.0,380.0,390.0,390.0,390.0,390.0,390.0,401.0,410.0,420.0,420.0,430.0,440.0,440.0,470.0,470.0,480.0,490.0,500.0,510.0,530.0,550.0,560.0,620.0,620.0,637.0,650.0,710.0,733.0,800.0,850.0,850.0,870.0,880.0,970.0,1150.0,1150.0,1170.0,1190.0,1200.0,1217.0,1240.0,1260.0,1310.0,1370.0,1420.0,1470.0,1510.0,1520.0,1550.0,1580.0,1600.0,1600.0,1670.0,1728.0,1800.0,1860.0,1900.0,1940.0,1950.0,2009.0,2100.0,2100.0,2100.0,2100.0,2100.0,2200.0,2200.0,2200.0,2300.0,2300.0,2300.0,2300.0,2400.0,2400.0,2400.0,2400.0,2500.0,2500.0,2600.0,2600.0,2700.0,3000.0,3100.0,3100.0,3200.0,3200.0,3238.0,3300.0,3400.0,3400.0,3700.0,3700.0,3800.0,3800.0,3800.0,3800.0,3900.0,3900.0,3900.0,3900.0,3900.0,4000.0,4200.0,4300.0,4500.0,4600.0,4700.0,4900.0,5000.0,5400.0,5400.0,5600.0,5700.0,7400.0,8400.0,8450,8500.0,9192.0,13100.0,13350.0,14000.0,14300.0,14500.0,15400.0,15600.0,16689.0,17800.0,18900.0,19800.0,21181.0,21638.0,22483.0,23454.0,23751.0,24908.0,25000.0,25960.0,26000.0,26000.0,26561.0,28000.0,30000.0,30000.0,31000.0,31000.0,33000.0,36000.0,36000.0,39000.0,39000.0,39000.0,39000.0,39000.0,40000.0,41000.0,41000.0,42000.0,42000.0,45000.0,46000.0,46000.0,49000.0,52000.0],\"type\":\"scatter\"},{\"line\":{\"color\":\"firebrick\"},\"name\":\"max Mn\",\"opacity\":0.8,\"y\":[300.0,390.0,440.0,470.0,500.0,550.0,600.0,610.0,620.0,630.0,650.0,700.0,720.0,720.0,723.0,730.0,740.0,740.0,754.0,770.0,800.0,860.0,870.0,870.0,910.0,960.0,970.0,1010.0,1050.0,1070.0,1080.0,1080.0,1120.0,1180.0,1180.0,1190.0,1200.0,1200.0,1210.0,1220.0,1290.0,1290.0,1290.0,1290.0,1320.0,1350.0,1380.0,1390.0,1410.0,1428.0,1460.0,1470.0,1500.0,1500.0,1510.0,1510.0,1590.0,1610.0,1630.0,1660.0,1690.0,1700.0,1722.0,1800.0,1810.0,1810.0,1870.0,1880.0,1970.0,1970.0,1990.0,2000.0,2100.0,2100.0,2300.0,2300.0,2300.0,2400.0,2400.0,2480.0,2500.0,2500.0,2600.0,2600.0,2700.0,2700.0,2700.0,2900.0,2900.0,2900.0,2900.0,2921.0,3000.0,3000.0,3100.0,3100.0,3100.0,3200.0,3200.0,3300.0,3300.0,3300.0,3400.0,3400.0,3431.0,3500.0,3500.0,3500.0,3500.0,3500.0,3500.0,3682.0,3700.0,3700.0,3700.0,3700.0,3800.0,3800.0,4200.0,4200.0,4300.0,4300.0,4400.0,4400.0,4409.0,4500.0,4500.0,4600.0,4600.0,4600.0,4605.0,4700.0,4800.0,4800.0,4900.0,5000.0,5000.0,5000.0,5200.0,5300.0,5400.0,5400.0,5600.0,5600.0,5700.0,5800.0,5800.0,5800.0,6000.0,6040.0,6100.0,6300.0,6300.0,6500.0,6544.0,6700.0,6700.0,6900.0,7015.0,7100.0,7100.0,7200.0,7200.0,7200.0,7300.0,7400.0,7400.0,7600.0,7600.0,7800.0,8000.0,8200.0,8300.0,8400.0,8500.0,8600.0,8700.0,8700.0,8700.0,8700.0,8700.0,9000.0,9000.0,9100.0,9200.0,9200.0,9200.0,9200.0,9300.0,9300.0,9300.0,9400.0,9500.0,9600.0,9700.0,9700.0,9700.0,10000.0,10179.0,10200.0,10300.0,10600.0,10600.0,10700.0,10800.0,10800.0,10900.0,11000.0,11000.0,11200.0,11200.0,11300.0,11400.0,11700.0,11700.0,12200.0,12400.0,12400.0,12500.0,12500.0,12600.0,12600.0,12600.0,12800.0,12932.0,13200.0,13200.0,13300.0,13400.0,13500.0,13800.0,13900.0,13900.0,14000.0,14000.0,14100.0,14200.0,14200.0,14300.0,14500.0,14600.0,14700.0,14800.0,14948.0,15000.0,15000.0,15000.0,15000.0,15300.0,15600.0,15700.0,15800.0,15800.0,16000.0,16000.0,16200.0,16200.0,16300.0,16600.0,16800.0,17000.0,17100.0,17400.0,17500.0,19210.0,20000.0,20000.0,21000.0,21300.0,24214.0,24900.0,27000.0,27000.0,29000.0,29000.0,29137.0,29415.0,30000.0,30000.0,33000.0,33149.0,33464.0,37000.0,38000.0,38713.0,40389.0,42372.0,43977.0,46000.0,46000.0,46000.0,48000.0,49000.0,49000.0,49905.0,50000.0,54000.0,56000.0,61000.0,64000.0,65000.0,74000.0,74000.0,76000.0,77000.0,77000.0,81000.0,82000.0,82000.0,83000.0,85000.0,88000.0,88000.0,89000.0,90000.0,90000.0],\"type\":\"scatter\"}],                        {\"template\":{\"data\":{\"histogram2dcontour\":[{\"type\":\"histogram2dcontour\",\"colorbar\":{\"outlinewidth\":0,\"ticks\":\"\"},\"colorscale\":[[0.0,\"#0d0887\"],[0.1111111111111111,\"#46039f\"],[0.2222222222222222,\"#7201a8\"],[0.3333333333333333,\"#9c179e\"],[0.4444444444444444,\"#bd3786\"],[0.5555555555555556,\"#d8576b\"],[0.6666666666666666,\"#ed7953\"],[0.7777777777777778,\"#fb9f3a\"],[0.8888888888888888,\"#fdca26\"],[1.0,\"#f0f921\"]]}],\"choropleth\":[{\"type\":\"choropleth\",\"colorbar\":{\"outlinewidth\":0,\"ticks\":\"\"}}],\"histogram2d\":[{\"type\":\"histogram2d\",\"colorbar\":{\"outlinewidth\":0,\"ticks\":\"\"},\"colorscale\":[[0.0,\"#0d0887\"],[0.1111111111111111,\"#46039f\"],[0.2222222222222222,\"#7201a8\"],[0.3333333333333333,\"#9c179e\"],[0.4444444444444444,\"#bd3786\"],[0.5555555555555556,\"#d8576b\"],[0.6666666666666666,\"#ed7953\"],[0.7777777777777778,\"#fb9f3a\"],[0.8888888888888888,\"#fdca26\"],[1.0,\"#f0f921\"]]}],\"heatmap\":[{\"type\":\"heatmap\",\"colorbar\":{\"outlinewidth\":0,\"ticks\":\"\"},\"colorscale\":[[0.0,\"#0d0887\"],[0.1111111111111111,\"#46039f\"],[0.2222222222222222,\"#7201a8\"],[0.3333333333333333,\"#9c179e\"],[0.4444444444444444,\"#bd3786\"],[0.5555555555555556,\"#d8576b\"],[0.6666666666666666,\"#ed7953\"],[0.7777777777777778,\"#fb9f3a\"],[0.8888888888888888,\"#fdca26\"],[1.0,\"#f0f921\"]]}],\"heatmapgl\":[{\"type\":\"heatmapgl\",\"colorbar\":{\"outlinewidth\":0,\"ticks\":\"\"},\"colorscale\":[[0.0,\"#0d0887\"],[0.1111111111111111,\"#46039f\"],[0.2222222222222222,\"#7201a8\"],[0.3333333333333333,\"#9c179e\"],[0.4444444444444444,\"#bd3786\"],[0.5555555555555556,\"#d8576b\"],[0.6666666666666666,\"#ed7953\"],[0.7777777777777778,\"#fb9f3a\"],[0.8888888888888888,\"#fdca26\"],[1.0,\"#f0f921\"]]}],\"contourcarpet\":[{\"type\":\"contourcarpet\",\"colorbar\":{\"outlinewidth\":0,\"ticks\":\"\"}}],\"contour\":[{\"type\":\"contour\",\"colorbar\":{\"outlinewidth\":0,\"ticks\":\"\"},\"colorscale\":[[0.0,\"#0d0887\"],[0.1111111111111111,\"#46039f\"],[0.2222222222222222,\"#7201a8\"],[0.3333333333333333,\"#9c179e\"],[0.4444444444444444,\"#bd3786\"],[0.5555555555555556,\"#d8576b\"],[0.6666666666666666,\"#ed7953\"],[0.7777777777777778,\"#fb9f3a\"],[0.8888888888888888,\"#fdca26\"],[1.0,\"#f0f921\"]]}],\"surface\":[{\"type\":\"surface\",\"colorbar\":{\"outlinewidth\":0,\"ticks\":\"\"},\"colorscale\":[[0.0,\"#0d0887\"],[0.1111111111111111,\"#46039f\"],[0.2222222222222222,\"#7201a8\"],[0.3333333333333333,\"#9c179e\"],[0.4444444444444444,\"#bd3786\"],[0.5555555555555556,\"#d8576b\"],[0.6666666666666666,\"#ed7953\"],[0.7777777777777778,\"#fb9f3a\"],[0.8888888888888888,\"#fdca26\"],[1.0,\"#f0f921\"]]}],\"mesh3d\":[{\"type\":\"mesh3d\",\"colorbar\":{\"outlinewidth\":0,\"ticks\":\"\"}}],\"scatter\":[{\"fillpattern\":{\"fillmode\":\"overlay\",\"size\":10,\"solidity\":0.2},\"type\":\"scatter\"}],\"parcoords\":[{\"type\":\"parcoords\",\"line\":{\"colorbar\":{\"outlinewidth\":0,\"ticks\":\"\"}}}],\"scatterpolargl\":[{\"type\":\"scatterpolargl\",\"marker\":{\"colorbar\":{\"outlinewidth\":0,\"ticks\":\"\"}}}],\"bar\":[{\"error_x\":{\"color\":\"#2a3f5f\"},\"error_y\":{\"color\":\"#2a3f5f\"},\"marker\":{\"line\":{\"color\":\"#E5ECF6\",\"width\":0.5},\"pattern\":{\"fillmode\":\"overlay\",\"size\":10,\"solidity\":0.2}},\"type\":\"bar\"}],\"scattergeo\":[{\"type\":\"scattergeo\",\"marker\":{\"colorbar\":{\"outlinewidth\":0,\"ticks\":\"\"}}}],\"scatterpolar\":[{\"type\":\"scatterpolar\",\"marker\":{\"colorbar\":{\"outlinewidth\":0,\"ticks\":\"\"}}}],\"histogram\":[{\"marker\":{\"pattern\":{\"fillmode\":\"overlay\",\"size\":10,\"solidity\":0.2}},\"type\":\"histogram\"}],\"scattergl\":[{\"type\":\"scattergl\",\"marker\":{\"colorbar\":{\"outlinewidth\":0,\"ticks\":\"\"}}}],\"scatter3d\":[{\"type\":\"scatter3d\",\"line\":{\"colorbar\":{\"outlinewidth\":0,\"ticks\":\"\"}},\"marker\":{\"colorbar\":{\"outlinewidth\":0,\"ticks\":\"\"}}}],\"scattermapbox\":[{\"type\":\"scattermapbox\",\"marker\":{\"colorbar\":{\"outlinewidth\":0,\"ticks\":\"\"}}}],\"scatterternary\":[{\"type\":\"scatterternary\",\"marker\":{\"colorbar\":{\"outlinewidth\":0,\"ticks\":\"\"}}}],\"scattercarpet\":[{\"type\":\"scattercarpet\",\"marker\":{\"colorbar\":{\"outlinewidth\":0,\"ticks\":\"\"}}}],\"carpet\":[{\"aaxis\":{\"endlinecolor\":\"#2a3f5f\",\"gridcolor\":\"white\",\"linecolor\":\"white\",\"minorgridcolor\":\"white\",\"startlinecolor\":\"#2a3f5f\"},\"baxis\":{\"endlinecolor\":\"#2a3f5f\",\"gridcolor\":\"white\",\"linecolor\":\"white\",\"minorgridcolor\":\"white\",\"startlinecolor\":\"#2a3f5f\"},\"type\":\"carpet\"}],\"table\":[{\"cells\":{\"fill\":{\"color\":\"#EBF0F8\"},\"line\":{\"color\":\"white\"}},\"header\":{\"fill\":{\"color\":\"#C8D4E3\"},\"line\":{\"color\":\"white\"}},\"type\":\"table\"}],\"barpolar\":[{\"marker\":{\"line\":{\"color\":\"#E5ECF6\",\"width\":0.5},\"pattern\":{\"fillmode\":\"overlay\",\"size\":10,\"solidity\":0.2}},\"type\":\"barpolar\"}],\"pie\":[{\"automargin\":true,\"type\":\"pie\"}]},\"layout\":{\"autotypenumbers\":\"strict\",\"colorway\":[\"#636efa\",\"#EF553B\",\"#00cc96\",\"#ab63fa\",\"#FFA15A\",\"#19d3f3\",\"#FF6692\",\"#B6E880\",\"#FF97FF\",\"#FECB52\"],\"font\":{\"color\":\"#2a3f5f\"},\"hovermode\":\"closest\",\"hoverlabel\":{\"align\":\"left\"},\"paper_bgcolor\":\"white\",\"plot_bgcolor\":\"#E5ECF6\",\"polar\":{\"bgcolor\":\"#E5ECF6\",\"angularaxis\":{\"gridcolor\":\"white\",\"linecolor\":\"white\",\"ticks\":\"\"},\"radialaxis\":{\"gridcolor\":\"white\",\"linecolor\":\"white\",\"ticks\":\"\"}},\"ternary\":{\"bgcolor\":\"#E5ECF6\",\"aaxis\":{\"gridcolor\":\"white\",\"linecolor\":\"white\",\"ticks\":\"\"},\"baxis\":{\"gridcolor\":\"white\",\"linecolor\":\"white\",\"ticks\":\"\"},\"caxis\":{\"gridcolor\":\"white\",\"linecolor\":\"white\",\"ticks\":\"\"}},\"coloraxis\":{\"colorbar\":{\"outlinewidth\":0,\"ticks\":\"\"}},\"colorscale\":{\"sequential\":[[0.0,\"#0d0887\"],[0.1111111111111111,\"#46039f\"],[0.2222222222222222,\"#7201a8\"],[0.3333333333333333,\"#9c179e\"],[0.4444444444444444,\"#bd3786\"],[0.5555555555555556,\"#d8576b\"],[0.6666666666666666,\"#ed7953\"],[0.7777777777777778,\"#fb9f3a\"],[0.8888888888888888,\"#fdca26\"],[1.0,\"#f0f921\"]],\"sequentialminus\":[[0.0,\"#0d0887\"],[0.1111111111111111,\"#46039f\"],[0.2222222222222222,\"#7201a8\"],[0.3333333333333333,\"#9c179e\"],[0.4444444444444444,\"#bd3786\"],[0.5555555555555556,\"#d8576b\"],[0.6666666666666666,\"#ed7953\"],[0.7777777777777778,\"#fb9f3a\"],[0.8888888888888888,\"#fdca26\"],[1.0,\"#f0f921\"]],\"diverging\":[[0,\"#8e0152\"],[0.1,\"#c51b7d\"],[0.2,\"#de77ae\"],[0.3,\"#f1b6da\"],[0.4,\"#fde0ef\"],[0.5,\"#f7f7f7\"],[0.6,\"#e6f5d0\"],[0.7,\"#b8e186\"],[0.8,\"#7fbc41\"],[0.9,\"#4d9221\"],[1,\"#276419\"]]},\"xaxis\":{\"gridcolor\":\"white\",\"linecolor\":\"white\",\"ticks\":\"\",\"title\":{\"standoff\":15},\"zerolinecolor\":\"white\",\"automargin\":true,\"zerolinewidth\":2},\"yaxis\":{\"gridcolor\":\"white\",\"linecolor\":\"white\",\"ticks\":\"\",\"title\":{\"standoff\":15},\"zerolinecolor\":\"white\",\"automargin\":true,\"zerolinewidth\":2},\"scene\":{\"xaxis\":{\"backgroundcolor\":\"#E5ECF6\",\"gridcolor\":\"white\",\"linecolor\":\"white\",\"showbackground\":true,\"ticks\":\"\",\"zerolinecolor\":\"white\",\"gridwidth\":2},\"yaxis\":{\"backgroundcolor\":\"#E5ECF6\",\"gridcolor\":\"white\",\"linecolor\":\"white\",\"showbackground\":true,\"ticks\":\"\",\"zerolinecolor\":\"white\",\"gridwidth\":2},\"zaxis\":{\"backgroundcolor\":\"#E5ECF6\",\"gridcolor\":\"white\",\"linecolor\":\"white\",\"showbackground\":true,\"ticks\":\"\",\"zerolinecolor\":\"white\",\"gridwidth\":2}},\"shapedefaults\":{\"line\":{\"color\":\"#2a3f5f\"}},\"annotationdefaults\":{\"arrowcolor\":\"#2a3f5f\",\"arrowhead\":0,\"arrowwidth\":1},\"geo\":{\"bgcolor\":\"white\",\"landcolor\":\"#E5ECF6\",\"subunitcolor\":\"white\",\"showland\":true,\"showlakes\":true,\"lakecolor\":\"white\"},\"title\":{\"x\":0.05},\"mapbox\":{\"style\":\"light\"}}},\"xaxis\":{\"anchor\":\"y\",\"domain\":[0.0,1.0]},\"yaxis\":{\"anchor\":\"x\",\"domain\":[0.0,1.0],\"title\":{\"text\":\"$\\\\text{Mn and Mw }[g\\u002fmol] \\\\cdot 10^{-5}$\"}},\"legend\":{\"tracegroupgap\":0},\"margin\":{\"t\":60},\"title\":{\"text\":\"Mn and Mw comparison\"}},                        {\"responsive\": true}                    ).then(function(){\n                            \nvar gd = document.getElementById('747315c0-1b63-42a2-bb01-c1e7df73a06a');\nvar x = new MutationObserver(function (mutations, observer) {{\n        var display = window.getComputedStyle(gd).display;\n        if (!display || display === 'none') {{\n            console.log([gd, 'removed!']);\n            Plotly.purge(gd);\n            observer.disconnect();\n        }}\n}});\n\n// Listen for the removal of the full notebook cells\nvar notebookContainer = gd.closest('#notebook-container');\nif (notebookContainer) {{\n    x.observe(notebookContainer, {childList: true});\n}}\n\n// Listen for the clearing of the current output cell\nvar outputEl = gd.closest('.output');\nif (outputEl) {{\n    x.observe(outputEl, {childList: true});\n}}\n\n                        })                };                });            </script>        </div>"
     },
     "metadata": {},
     "output_type": "display_data"
    }
   ],
   "source": [
    "# checking out max and min of Mn/Mw\n",
    "min_Mn, max_Mn = [], []\n",
    "min_Mw, max_Mw = [], []\n",
    "\n",
    "for kc in kinetic_curves:\n",
    "    min_Mn.append(kc[\"Mn\"].min()); max_Mn.append(kc[\"Mn\"].max()); min_Mw.append(kc[\"Mw\"].min()); max_Mw.append(kc[\"Mw\"].max())\n",
    "\n",
    "for _ in (min_Mn, max_Mn, min_Mw, max_Mw):\n",
    "    _.sort()\n",
    "    _ = [j/100000 for j in _]\n",
    "\n",
    "molar_wg_comparison = px.line()\n",
    "molar_wg_comparison.add_scatter(y=min_Mw, name=\"min Mw\", line_color=\"darkgoldenrod\", opacity=0.8, fill=\"tozeroy\", fillcolor=\"orange\")\n",
    "molar_wg_comparison.add_scatter(y=max_Mw, name=\"max Mw\", line_color=\"darkgoldenrod\", opacity=0.8)\n",
    "molar_wg_comparison.add_scatter(y=min_Mn, name=\"min Mn\", line_color=\"firebrick\", opacity=0.8, fill=\"tozeroy\", fillcolor=\"red\")\n",
    "molar_wg_comparison.add_scatter(y=max_Mn, name=\"max Mn\", line_color=\"firebrick\", opacity=0.8)\n",
    "molar_wg_comparison.update_layout(title=\"Mn and Mw comparison\", yaxis_title=\"$\\\\text{Mn and Mw }[g/mol] \\cdot 10^{-5}$\")\n",
    "molar_wg_comparison.show()"
   ],
   "metadata": {
    "collapsed": false,
    "pycharm": {
     "name": "#%%\n"
    }
   }
  },
  {
   "cell_type": "code",
   "execution_count": 70,
   "outputs": [],
   "source": [
    "fig = px.line(title=\"Kinetic Curve Fit\")\n",
    "colors = px.colors.qualitative.Plotly # set up a simple color palette\n",
    "extended_xdata = np.linspace(-1, 16.5, 100) # x data array for plotting the fits\n",
    "\n",
    "\n",
    "def add_fits_to_plot(figure, fit_func, fit_func_params,  fit_func_derivative=None, *args, **kwargs):\n",
    "    figure.add_scatter(\n",
    "        x=extended_xdata, y=fit_func(extended_xdata, *fit_func_params),\n",
    "        opacity=1, line=dict(dash=\"dot\"), name=f\"{fit_func.__name__} fit\", *args, **kwargs)\n",
    "    if fit_func_derivative:\n",
    "        figure.add_scatter(\n",
    "            x=extended_xdata, y=fit_func_derivative(extended_xdata, *fit_func_params),\n",
    "            opacity=0.3, line=dict(dash=\"dash\"), name=f\"{fit_func_derivative.__name__}\", *args, **kwargs)\n",
    "\n",
    "def fit_and_exclude_outliers(x, y, fit_func, p0, bounds, nan_policy=\"omit\", iteration=1, outliers=None):\n",
    "    outliers = outliers if outliers is not None else []\n",
    "\n",
    "    # exclude the nan values from the data\n",
    "    mask = ~np.isnan(y)\n",
    "    x, y = x[mask], y[mask]\n",
    "\n",
    "    cf_data = curve_fit(f=fit_func, xdata=x, ydata=y, p0=p0, nan_policy=nan_policy, maxfev=800 * 10, bounds=bounds)\n",
    "\n",
    "    # calculate the fit points\n",
    "    fit_points = np.array([fit_func(x, *cf_data[0]) for x in x])\n",
    "    # calculate the standard deviation of the residuals between the fit and the data points\n",
    "    sigma = np.std(fit_points - y)\n",
    "\n",
    "    # exclude the outliers\n",
    "    msk = ~(np.abs(fit_points - y) > 2 * sigma)\n",
    "    if not msk.all():\n",
    "        return fit_and_exclude_outliers(x=x[msk], y=y[msk], fit_func=fit_func, p0=cf_data[0], bounds=bounds, nan_policy=nan_policy, iteration=iteration+1, outliers=outliers + [x[~msk]])\n",
    "\n",
    "    # calculate the squared error of fit and data points\n",
    "    sq_err = np.mean(np.square(y - fit_points))\n",
    "\n",
    "    result = {\"x\": x, \"y\": y, \"p_opt\" : cf_data[0], \"p_cov\" : cf_data[1], \"sq_err\": sq_err, \"excluded_points\" : (x[~msk],y[~msk]), \"iteration\" : iteration, \"outliers\" : outliers}\n",
    "    return result"
   ],
   "metadata": {
    "collapsed": false,
    "pycharm": {
     "name": "#%%\n"
    }
   }
  },
  {
   "cell_type": "code",
   "execution_count": 71,
   "outputs": [
    {
     "name": "stderr",
     "output_type": "stream",
     "text": [
      "C:\\Users\\fo72qev\\AppData\\Local\\mambaforge\\envs\\PFP2\\Lib\\site-packages\\scipy\\optimize\\_minpack_py.py:1010: OptimizeWarning:\n",
      "\n",
      "Covariance of the parameters could not be estimated\n",
      "\n"
     ]
    }
   ],
   "source": [
    "kinetics_df = pd.DataFrame() # create new dataframe with kinetics per row\n",
    "\n",
    "for idx, kinetic_curve in enumerate(kinetic_curves):\n",
    "    # first make sure the datapoints are in the right format and not sometimes int sometimes float\n",
    "    xdata = np.array(kinetic_curve[\"time\"].values, dtype=float)\n",
    "    ydata_conv = np.array(kinetic_curve[\"conversion\"].values, dtype=float)\n",
    "    ydata_Mn = np.array(kinetic_curve[\"Mn\"].values, dtype=float)/100000 # make it more comparable to conversion\n",
    "    ydata_Mw = np.array(kinetic_curve[\"Mw\"].values, dtype=float)/100000\n",
    "\n",
    "\n",
    "    # fitting section for conversion\n",
    "    p_initial = [max(ydata_conv), 0.1] # this is a mandatory initial guess\n",
    "    ng_fit = fit_and_exclude_outliers(x=xdata, y=ydata_conv, fit_func=neg_growth, p0=p_initial, bounds=([0, -np.inf], [1, np.inf]))\n",
    "    # l_fit = fit_and_exclude_outliers(x=xdata, y=ydata, fit_func=linear_growth, p0=[max(ydata)/7], bounds=([0], [np.inf]))\n",
    "\n",
    "    popt, pcov = ng_fit[\"p_opt\"], ng_fit[\"p_cov\"]\n",
    "    conv_time_data = np.array([ng_fit[\"x\"], ng_fit[\"y\"]])\n",
    "    squared_error = ng_fit[\"sq_err\"]\n",
    "\n",
    "    # fitting section for Mn\n",
    "    p_initial = [max(ydata_Mn[~np.isnan(ydata_Mn)]), 0.1, 0]\n",
    "    ng_fit_Mn = fit_and_exclude_outliers(x=xdata, y=ydata_Mn, fit_func=neg_growth_abscissae, p0=p_initial, bounds=([0, -np.inf, -np.inf], [1, np.inf, np.inf]))\n",
    "\n",
    "    popt_Mn, pcov_Mn = ng_fit_Mn[\"p_opt\"], ng_fit_Mn[\"p_cov\"]\n",
    "    Mn_time_data = np.array([ng_fit_Mn[\"x\"], ng_fit_Mn[\"y\"]])\n",
    "    squared_error_Mn = ng_fit_Mn[\"sq_err\"]\n",
    "\n",
    "    # fitting section for Mw\n",
    "    ng_fit_Mw = fit_and_exclude_outliers(x=xdata, y=ydata_Mw, fit_func=neg_growth_abscissae, p0=p_initial, bounds=([0, -np.inf, -np.inf], [1, np.inf, np.inf]))\n",
    "\n",
    "    popt_Mw, pcov_Mw = ng_fit_Mw[\"p_opt\"], ng_fit_Mw[\"p_cov\"]\n",
    "    Mw_time_data = np.array([ng_fit_Mw[\"x\"],ng_fit_Mw[\"y\"]])\n",
    "    squared_error_Mw = ng_fit_Mw[\"sq_err\"]\n",
    "\n",
    "\n",
    "    new_row = pd.DataFrame({\"exp_nr\":kinetic_curve[\"exp_nr\"].iloc[1], \"max_con\":max(ydata_conv),\n",
    "                        \"theo_max_con\":\"yet to calc\", \"theo_react_end\":\"yet to calc\",\n",
    "                            \"monomer\":kinetic_curve[\"monomer\"].iloc[1], \"RAFT-Agent\":kinetic_curve[\"RAFT-Agent\"].iloc[1],\n",
    "                            \"solvent\":kinetic_curve[\"solvent\"].iloc[1],\n",
    "                            \"fit_p1\":[popt[0]],\"fit_p2\":[popt[1]],\n",
    "                            \"p1_variance\":[pcov[0][0]],\"p1_p2_covariance\":[pcov[0][1]],\"p2_variance\":[pcov[1][1]],\n",
    "                            \"squared_error\":squared_error, \"conv_time_data\":[conv_time_data],\n",
    "                            \"Mn_time_data\":[Mn_time_data], \"Mw_time_data\":[Mw_time_data]})\n",
    "    kinetics_df = pd.concat([kinetics_df, new_row])\n",
    "\n",
    "''' comment out here if plot is needed.\n",
    "    marker_dict = dict(color=colors[idx%len(colors)]) # set same colors per kinetic\n",
    "    fig.add_scatter(x=xdata, y=ydata, mode=\"lines+markers\", opacity=1, name=kinetic_curve[\"exp_nr\"].iloc[1], marker=marker_dict)\n",
    "    add_fits_to_plot(neg_growth, neg_growth_derivative, popt, marker_dict)\n",
    "\n",
    "fig.update_layout(\n",
    "    yaxis=dict(\n",
    "        range=[-0.1,1]\n",
    "    ),\n",
    "\n",
    ")\n",
    "fig.show()\n",
    "# '''\n",
    "\n",
    "kinetics_df.reset_index(drop=True, inplace=True)\n",
    "kinetics_df.drop(axis=\"index\", index=kinetics_df[kinetics_df[\"max_con\"] <= 0].index, inplace=True)\n",
    "kinetics_df.reset_index(drop=True, inplace=True)\n",
    "# kinetics_df"
   ],
   "metadata": {
    "collapsed": false,
    "pycharm": {
     "name": "#%%\n"
    }
   }
  },
  {
   "cell_type": "code",
   "execution_count": 72,
   "outputs": [
    {
     "data": {
      "application/vnd.plotly.v1+json": {
       "data": [
        {
         "hovertemplate": "<extra></extra>",
         "legendgroup": "",
         "line": {
          "color": "#636efa",
          "dash": "solid"
         },
         "marker": {
          "symbol": "circle"
         },
         "mode": "lines",
         "name": "",
         "orientation": "v",
         "showlegend": false,
         "xaxis": "x",
         "yaxis": "y",
         "type": "scatter"
        },
        {
         "legendgroup": "0",
         "marker": {
          "color": "#636EFA"
         },
         "mode": "lines+markers",
         "opacity": 0.5,
         "showlegend": false,
         "x": [
          0.0,
          2.011111111111111,
          4.018055555555556,
          8.016666666666667,
          15.016666666666667
         ],
         "y": [
          0.0,
          0.10436494913029215,
          0.2057761732851986,
          0.3321299638989169,
          0.5165736790285527
         ],
         "type": "scatter"
        },
        {
         "legendgroup": "0",
         "marker": {
          "color": "#636EFA"
         },
         "mode": "lines+markers",
         "opacity": 0.5,
         "showlegend": false,
         "x": [
          0.0,
          2.011111111111111,
          4.018055555555556,
          8.016666666666667,
          15.016666666666667
         ],
         "y": [
          0.0,
          0.18921601058551107,
          0.327820046311611,
          0.5203440291101555,
          0.6973205425074429
         ],
         "type": "scatter"
        },
        {
         "legendgroup": "0",
         "marker": {
          "color": "#636EFA"
         },
         "mode": "lines+markers",
         "opacity": 0.5,
         "showlegend": false,
         "x": [
          0.0,
          4.0777777777777775,
          8.090277777777779,
          15.098611111111111
         ],
         "y": [
          0.0,
          0.09824902723735407,
          0.1877431906614786,
          0.3232814526588845
         ],
         "type": "scatter"
        },
        {
         "legendgroup": "0",
         "marker": {
          "color": "#636EFA"
         },
         "mode": "lines+markers",
         "opacity": 0.5,
         "showlegend": false,
         "x": [
          0.0,
          1.073611111111111,
          2.0680555555555555,
          4.0777777777777775,
          8.090277777777779,
          15.098611111111111
         ],
         "y": [
          0.0,
          0.06908094948265364,
          0.09403530127814974,
          0.20572124163116257,
          0.3740109555690809,
          0.5651247717589775
         ],
         "type": "scatter"
        },
        {
         "legendgroup": "0",
         "marker": {
          "color": "#636EFA"
         },
         "mode": "lines+markers",
         "opacity": 0.5,
         "showlegend": false,
         "x": [
          0.0,
          1.1319444444444444,
          2.125,
          8.180555555555555,
          15.2
         ],
         "y": [
          0.0,
          0.11448317307692302,
          0.18088942307692302,
          0.5345552884615384,
          0.7905649038461539
         ],
         "type": "scatter"
        },
        {
         "legendgroup": "0",
         "marker": {
          "color": "#636EFA"
         },
         "mode": "lines+markers",
         "opacity": 0.5,
         "showlegend": false,
         "x": [
          0.0,
          1.1319444444444444,
          2.125,
          4.143055555555556,
          8.180555555555555,
          15.2
         ],
         "y": [
          0.0,
          0.053034947884733286,
          0.05211526670754141,
          0.07541385652973631,
          0.17841814837522985,
          0.3289393010423053
         ],
         "type": "scatter"
        },
        {
         "legendgroup": "0",
         "marker": {
          "color": "#636EFA"
         },
         "mode": "lines+markers",
         "opacity": 0.5,
         "showlegend": false,
         "x": [
          0.0,
          1.1916666666666667,
          2.1847222222222222,
          4.205555555555556
         ],
         "y": [
          0.0,
          0.052168982137794195,
          0.08477459597391546,
          0.14006237595690396
         ],
         "type": "scatter"
        },
        {
         "legendgroup": "0",
         "marker": {
          "color": "#636EFA"
         },
         "mode": "lines+markers",
         "opacity": 0.5,
         "showlegend": false,
         "x": [
          0.0,
          1.2513888888888889,
          2.2416666666666667,
          4.273611111111111,
          8.338888888888889,
          15.381944444444445
         ],
         "y": [
          0.0,
          -0.02573529411764719,
          0.06832107843137247,
          0.13817401960784303,
          0.4099264705882353,
          0.6681985294117647
         ],
         "type": "scatter"
        },
        {
         "legendgroup": "0",
         "marker": {
          "color": "#636EFA"
         },
         "mode": "lines+markers",
         "opacity": 0.5,
         "showlegend": false,
         "x": [
          0.0,
          1.2513888888888889,
          2.2416666666666667,
          4.273611111111111,
          8.338888888888889,
          15.381944444444445
         ],
         "y": [
          0.0,
          0.05710989327949234,
          0.08191520046149414,
          0.12460340351889243,
          0.17623305451398907,
          0.13931352754542836
         ],
         "type": "scatter"
        },
        {
         "legendgroup": "0",
         "marker": {
          "color": "#636EFA"
         },
         "mode": "lines+markers",
         "opacity": 0.5,
         "showlegend": false,
         "x": [
          0.0,
          1.3125,
          2.301388888888889,
          4.336111111111111,
          8.415277777777778,
          15.472222222222221
         ],
         "y": [
          0.0,
          0.12694224567575485,
          0.18733509234828505,
          0.3685136323658751,
          0.5675754910583406,
          0.7074171797126942
         ],
         "type": "scatter"
        },
        {
         "legendgroup": "0",
         "marker": {
          "color": "#636EFA"
         },
         "mode": "lines+markers",
         "opacity": 0.5,
         "showlegend": false,
         "x": [
          0.0,
          1.3125,
          2.301388888888889,
          4.336111111111111,
          8.415277777777778,
          15.472222222222221
         ],
         "y": [
          0.0,
          0.02538217479088556,
          0.0522065186039804,
          0.0784539948081916,
          0.06807037784828385,
          0.061436400346120634
         ],
         "type": "scatter"
        },
        {
         "legendgroup": "0",
         "marker": {
          "color": "#636EFA"
         },
         "mode": "lines+markers",
         "opacity": 0.5,
         "showlegend": false,
         "x": [
          0.0,
          1.3736111111111111,
          2.3694444444444445,
          8.501388888888888,
          15.568055555555556
         ],
         "y": [
          0.0,
          0.07821229050279321,
          0.14769553072625696,
          0.47451117318435754,
          0.6651536312849162
         ],
         "type": "scatter"
        },
        {
         "legendgroup": "0",
         "marker": {
          "color": "#636EFA"
         },
         "mode": "lines+markers",
         "opacity": 0.5,
         "showlegend": false,
         "x": [
          0.0,
          2.3694444444444445,
          4.409722222222222,
          8.501388888888888,
          15.568055555555556
         ],
         "y": [
          0.0,
          0.28002868411617066,
          0.46324847615632847,
          0.7113660810326281,
          0.8669774112585156
         ],
         "type": "scatter"
        },
        {
         "legendgroup": "0",
         "marker": {
          "color": "#636EFA"
         },
         "mode": "lines+markers",
         "opacity": 0.5,
         "showlegend": false,
         "x": [
          0.0,
          1.4375,
          4.475,
          8.581944444444444,
          15.658333333333333
         ],
         "y": [
          0.0,
          0.025009061254077536,
          0.09387459224356642,
          0.16382747372236317,
          0.3856469735411381
         ],
         "type": "scatter"
        },
        {
         "legendgroup": "0",
         "marker": {
          "color": "#636EFA"
         },
         "mode": "lines+markers",
         "opacity": 0.5,
         "showlegend": false,
         "x": [
          0.0,
          1.0055555555555555,
          2.011111111111111,
          4.018055555555556,
          8.016666666666667,
          15.016666666666667
         ],
         "y": [
          0.0,
          0.007199696854869098,
          0.038272072754831354,
          0.10685865858279642,
          0.23721106479727172,
          0.4297082228116711
         ],
         "type": "scatter"
        },
        {
         "legendgroup": "0",
         "marker": {
          "color": "#636EFA"
         },
         "mode": "lines+markers",
         "opacity": 0.5,
         "showlegend": false,
         "x": [
          0.0,
          1.0055555555555555,
          2.011111111111111,
          4.018055555555556,
          8.016666666666667,
          15.016666666666667
         ],
         "y": [
          0.0,
          0.2771231206826493,
          0.4116212921576595,
          0.7029662738724096,
          0.8780983340105648,
          1.0
         ],
         "type": "scatter"
        },
        {
         "legendgroup": "0",
         "marker": {
          "color": "#636EFA"
         },
         "mode": "lines+markers",
         "opacity": 0.5,
         "showlegend": false,
         "x": [
          0.0,
          1.073611111111111,
          2.0680555555555555,
          4.0777777777777775,
          8.090277777777779,
          15.098611111111111
         ],
         "y": [
          0.0,
          0.016788321167883313,
          0.019343065693430805,
          0.04452554744525561,
          0.1273722627737227,
          0.2886861313868614
         ],
         "type": "scatter"
        },
        {
         "legendgroup": "0",
         "marker": {
          "color": "#636EFA"
         },
         "mode": "lines+markers",
         "opacity": 0.5,
         "showlegend": false,
         "x": [
          0.0,
          1.073611111111111,
          2.0680555555555555,
          4.0777777777777775,
          8.090277777777779,
          15.098611111111111
         ],
         "y": [
          0.0,
          -5.592841163311046E-4,
          0.008389261744966459,
          0.006152125279642151,
          0.06040268456375841,
          0.24440715883668906
         ],
         "type": "scatter"
        },
        {
         "legendgroup": "0",
         "marker": {
          "color": "#636EFA"
         },
         "mode": "lines+markers",
         "opacity": 0.5,
         "showlegend": false,
         "x": [
          0.0,
          1.1319444444444444,
          2.125,
          8.180555555555555,
          15.2
         ],
         "y": [
          0.0,
          0.03328149300155514,
          0.06998444790046643,
          0.2902021772939346,
          0.30855365474339036
         ],
         "type": "scatter"
        },
        {
         "legendgroup": "0",
         "marker": {
          "color": "#636EFA"
         },
         "mode": "lines+markers",
         "opacity": 0.5,
         "showlegend": false,
         "x": [
          0.0,
          1.1319444444444444,
          2.125,
          4.143055555555556,
          8.180555555555555,
          15.2
         ],
         "y": [
          0.0,
          0.009223445403153896,
          0.03034811068134491,
          0.052365367450163736,
          0.1731627491817912,
          0.4525438857482892
         ],
         "type": "scatter"
        },
        {
         "legendgroup": "0",
         "marker": {
          "color": "#636EFA"
         },
         "mode": "lines+markers",
         "opacity": 0.5,
         "showlegend": false,
         "x": [
          0.0,
          1.1916666666666667,
          2.1847222222222222,
          4.205555555555556,
          15.291666666666666
         ],
         "y": [
          0.0,
          0.05354558610709115,
          0.06946454413892911,
          0.13950795947901595,
          0.4917510853835022
         ],
         "type": "scatter"
        },
        {
         "legendgroup": "0",
         "marker": {
          "color": "#636EFA"
         },
         "mode": "lines+markers",
         "opacity": 0.5,
         "showlegend": false,
         "x": [
          0.0,
          1.2513888888888889,
          2.2416666666666667,
          4.273611111111111,
          8.338888888888889,
          15.381944444444445
         ],
         "y": [
          0.0,
          0.002850807728856486,
          -0.009819448843839229,
          0.11054798859676918,
          0.39436173582515044,
          0.6496674057649667
         ],
         "type": "scatter"
        },
        {
         "legendgroup": "0",
         "marker": {
          "color": "#636EFA"
         },
         "mode": "lines+markers",
         "opacity": 0.5,
         "showlegend": false,
         "x": [
          0.0,
          1.2513888888888889,
          2.2416666666666667,
          4.273611111111111,
          8.338888888888889
         ],
         "y": [
          0.0,
          0.19796828543111977,
          0.20267591674925667,
          0.20441030723488596,
          0.20639246778989095
         ],
         "type": "scatter"
        },
        {
         "legendgroup": "0",
         "marker": {
          "color": "#636EFA"
         },
         "mode": "lines+markers",
         "opacity": 0.5,
         "showlegend": false,
         "x": [
          0.0,
          1.3125,
          2.301388888888889,
          4.336111111111111,
          15.472222222222221
         ],
         "y": [
          0.0,
          0.008618036318867373,
          -0.003693444136657398,
          0.008310249307479256,
          0.040012311480455476
         ],
         "type": "scatter"
        },
        {
         "legendgroup": "0",
         "marker": {
          "color": "#636EFA"
         },
         "mode": "lines+markers",
         "opacity": 0.5,
         "showlegend": false,
         "x": [
          0.0,
          2.3694444444444445,
          8.501388888888888,
          15.568055555555556
         ],
         "y": [
          0.0,
          -0.00111358574610243,
          0.08945805493689685,
          0.37119524870081666
         ],
         "type": "scatter"
        },
        {
         "legendgroup": "0",
         "marker": {
          "color": "#636EFA"
         },
         "mode": "lines+markers",
         "opacity": 0.5,
         "showlegend": false,
         "x": [
          0.0,
          4.409722222222222,
          8.501388888888888,
          15.568055555555556
         ],
         "y": [
          0.0,
          0.33287764866712244,
          0.5857826384142174,
          0.7853725222146275
         ],
         "type": "scatter"
        },
        {
         "legendgroup": "0",
         "marker": {
          "color": "#636EFA"
         },
         "mode": "lines+markers",
         "opacity": 0.5,
         "showlegend": false,
         "x": [
          0.0,
          1.4375,
          2.4305555555555554,
          4.475,
          8.581944444444444,
          15.658333333333333
         ],
         "y": [
          0.0,
          0.021403508771929758,
          -0.006666666666666821,
          0.029824561403508754,
          0.1378947368421053,
          0.39719298245614043
         ],
         "type": "scatter"
        },
        {
         "legendgroup": "0",
         "marker": {
          "color": "#636EFA"
         },
         "mode": "lines+markers",
         "opacity": 0.5,
         "showlegend": false,
         "x": [
          0.0,
          2.011111111111111,
          4.018055555555556,
          8.016666666666667,
          15.016666666666667
         ],
         "y": [
          0.0,
          0.026455026455026398,
          0.050264550264550234,
          0.09977324263038545,
          0.1916099773242631
         ],
         "type": "scatter"
        },
        {
         "legendgroup": "0",
         "marker": {
          "color": "#636EFA"
         },
         "mode": "lines+markers",
         "opacity": 0.5,
         "showlegend": false,
         "x": [
          0.0,
          1.0055555555555555,
          2.011111111111111,
          4.018055555555556,
          8.016666666666667,
          15.016666666666667
         ],
         "y": [
          0.0,
          0.037663335895465,
          0.05956956187548035,
          0.11913912375096081,
          0.23020753266717897,
          0.42044581091468103
         ],
         "type": "scatter"
        },
        {
         "legendgroup": "0",
         "marker": {
          "color": "#636EFA"
         },
         "mode": "lines+markers",
         "opacity": 0.5,
         "showlegend": false,
         "x": [
          0.0,
          1.073611111111111,
          4.0777777777777775,
          8.090277777777779,
          15.098611111111111
         ],
         "y": [
          0.0,
          0.01056205205582783,
          0.026027913994718932,
          0.04828366654092786,
          0.07091663523198788
         ],
         "type": "scatter"
        },
        {
         "legendgroup": "0",
         "marker": {
          "color": "#636EFA"
         },
         "name": "conv over time",
         "x": [
          null
         ],
         "y": [
          null
         ],
         "type": "scatter"
        },
        {
         "legendgroup": "1",
         "marker": {
          "color": "#EF553B"
         },
         "mode": "lines+markers",
         "opacity": 0.5,
         "showlegend": false,
         "x": [
          1.0055555555555555,
          2.011111111111111,
          4.018055555555556,
          6.008333333333334,
          8.016666666666667,
          10.011111111111111,
          15.016666666666667
         ],
         "y": [
          0.023,
          0.029,
          0.042,
          0.054,
          0.069,
          0.081,
          0.087
         ],
         "type": "scatter"
        },
        {
         "legendgroup": "1",
         "marker": {
          "color": "#EF553B"
         },
         "mode": "lines+markers",
         "opacity": 0.5,
         "showlegend": false,
         "x": [
          1.0055555555555555,
          2.011111111111111,
          4.018055555555556,
          6.008333333333334,
          8.016666666666667,
          10.011111111111111,
          15.016666666666667
         ],
         "y": [
          0.03,
          0.037,
          0.06,
          0.064,
          0.07,
          0.086,
          0.092
         ],
         "type": "scatter"
        },
        {
         "legendgroup": "1",
         "marker": {
          "color": "#EF553B"
         },
         "mode": "lines+markers",
         "opacity": 0.5,
         "showlegend": false,
         "x": [
          1.073611111111111,
          2.0680555555555555,
          4.0777777777777775,
          6.063888888888889,
          8.090277777777779,
          10.084722222222222,
          15.098611111111111
         ],
         "y": [
          0.0142,
          0.0189,
          0.028,
          0.037,
          0.05,
          0.05,
          0.072
         ],
         "type": "scatter"
        },
        {
         "legendgroup": "1",
         "marker": {
          "color": "#EF553B"
         },
         "mode": "lines+markers",
         "opacity": 0.5,
         "showlegend": false,
         "x": [
          1.073611111111111,
          2.0680555555555555,
          4.0777777777777775,
          6.063888888888889,
          8.090277777777779,
          10.084722222222222,
          15.098611111111111
         ],
         "y": [
          0.034,
          0.04,
          0.06,
          0.077,
          0.095,
          0.106,
          0.126
         ],
         "type": "scatter"
        },
        {
         "legendgroup": "1",
         "marker": {
          "color": "#EF553B"
         },
         "mode": "lines+markers",
         "opacity": 0.5,
         "showlegend": false,
         "x": [
          1.1319444444444444,
          2.125,
          4.143055555555556,
          6.120833333333334,
          8.180555555555555,
          10.158333333333333,
          15.2
         ],
         "y": [
          0.038,
          0.047,
          0.064,
          0.087,
          0.1,
          0.114,
          0.163
         ],
         "type": "scatter"
        },
        {
         "legendgroup": "1",
         "marker": {
          "color": "#EF553B"
         },
         "mode": "lines+markers",
         "opacity": 0.5,
         "showlegend": false,
         "x": [
          1.1319444444444444,
          2.125,
          4.143055555555556,
          6.120833333333334,
          8.180555555555555,
          10.158333333333333,
          15.2
         ],
         "y": [
          0.0194,
          0.021,
          0.032,
          0.045,
          0.058,
          0.064,
          0.102
         ],
         "type": "scatter"
        },
        {
         "legendgroup": "1",
         "marker": {
          "color": "#EF553B"
         },
         "mode": "lines+markers",
         "opacity": 0.5,
         "showlegend": false,
         "x": [
          1.1916666666666667,
          2.1847222222222222,
          4.205555555555556,
          6.180555555555555,
          8.256944444444445,
          10.233333333333333,
          15.291666666666666
         ],
         "y": [
          0.054,
          0.054,
          0.083,
          0.098,
          0.1,
          0.141,
          0.15
         ],
         "type": "scatter"
        },
        {
         "legendgroup": "1",
         "marker": {
          "color": "#EF553B"
         },
         "mode": "lines+markers",
         "opacity": 0.5,
         "showlegend": false,
         "x": [
          1.2513888888888889,
          2.2416666666666667,
          4.273611111111111,
          6.2375,
          8.338888888888889,
          10.306944444444444,
          15.381944444444445
         ],
         "y": [
          0.032,
          0.039,
          0.073,
          0.111,
          0.145,
          0.169,
          0.2
         ],
         "type": "scatter"
        },
        {
         "legendgroup": "1",
         "marker": {
          "color": "#EF553B"
         },
         "mode": "lines+markers",
         "opacity": 0.5,
         "showlegend": false,
         "x": [
          1.2513888888888889,
          2.2416666666666667,
          4.273611111111111,
          6.2375,
          8.338888888888889,
          10.306944444444444,
          15.381944444444445
         ],
         "y": [
          0.042,
          0.047,
          0.069,
          0.084,
          0.092,
          0.105,
          0.109
         ],
         "type": "scatter"
        },
        {
         "legendgroup": "1",
         "marker": {
          "color": "#EF553B"
         },
         "mode": "lines+markers",
         "opacity": 0.5,
         "showlegend": false,
         "x": [
          1.3125,
          2.301388888888889,
          4.336111111111111,
          6.295833333333333,
          8.415277777777778,
          10.383333333333333,
          15.472222222222221
         ],
         "y": [
          0.05,
          0.063,
          0.093,
          0.116,
          0.139,
          0.146,
          0.137
         ],
         "type": "scatter"
        },
        {
         "legendgroup": "1",
         "marker": {
          "color": "#EF553B"
         },
         "mode": "lines+markers",
         "opacity": 0.5,
         "showlegend": false,
         "x": [
          1.3125,
          2.301388888888889,
          4.336111111111111,
          6.295833333333333,
          8.415277777777778,
          10.383333333333333,
          15.472222222222221
         ],
         "y": [
          0.021,
          0.026,
          0.027,
          0.028,
          0.028,
          0.036,
          0.037
         ],
         "type": "scatter"
        },
        {
         "legendgroup": "1",
         "marker": {
          "color": "#EF553B"
         },
         "mode": "lines+markers",
         "opacity": 0.5,
         "showlegend": false,
         "x": [
          1.3736111111111111,
          2.3694444444444445,
          4.409722222222222,
          6.358333333333333,
          8.501388888888888,
          10.466666666666667,
          15.568055555555556
         ],
         "y": [
          0.039,
          0.052,
          0.071,
          0.098,
          0.109,
          0.115,
          0.145
         ],
         "type": "scatter"
        },
        {
         "legendgroup": "1",
         "marker": {
          "color": "#EF553B"
         },
         "mode": "lines+markers",
         "opacity": 0.5,
         "showlegend": false,
         "x": [
          1.3736111111111111,
          2.3694444444444445,
          4.409722222222222,
          8.501388888888888,
          10.466666666666667,
          15.568055555555556
         ],
         "y": [
          0.049,
          0.069,
          0.1,
          0.135,
          0.143,
          0.158
         ],
         "type": "scatter"
        },
        {
         "legendgroup": "1",
         "marker": {
          "color": "#EF553B"
         },
         "mode": "lines+markers",
         "opacity": 0.5,
         "showlegend": false,
         "x": [
          1.4375,
          2.4305555555555554,
          4.475,
          6.416666666666667,
          8.581944444444444,
          10.541666666666666,
          15.658333333333333
         ],
         "y": [
          0.023,
          0.024,
          0.039,
          0.052,
          0.068,
          0.077,
          0.124
         ],
         "type": "scatter"
        },
        {
         "legendgroup": "1",
         "marker": {
          "color": "#EF553B"
         },
         "mode": "lines+markers",
         "opacity": 0.5,
         "showlegend": false,
         "x": [
          1.0055555555555555,
          2.011111111111111,
          4.018055555555556,
          6.008333333333334,
          8.016666666666667,
          10.011111111111111,
          15.016666666666667
         ],
         "y": [
          0.0025,
          0.0033,
          0.0106,
          0.0172,
          0.024,
          0.03,
          0.042
         ],
         "type": "scatter"
        },
        {
         "legendgroup": "1",
         "marker": {
          "color": "#EF553B"
         },
         "mode": "lines+markers",
         "opacity": 0.5,
         "showlegend": false,
         "x": [
          1.0055555555555555,
          2.011111111111111,
          4.018055555555556,
          6.008333333333334,
          8.016666666666667,
          10.011111111111111,
          15.016666666666667
         ],
         "y": [
          0.0035,
          0.0056,
          0.0102,
          0.0122,
          0.0127,
          0.0129,
          0.0125
         ],
         "type": "scatter"
        },
        {
         "legendgroup": "1",
         "marker": {
          "color": "#EF553B"
         },
         "mode": "lines+markers",
         "opacity": 0.5,
         "showlegend": false,
         "x": [
          4.0777777777777775,
          6.063888888888889,
          8.090277777777779,
          10.084722222222222,
          15.098611111111111
         ],
         "y": [
          0.0053,
          0.011,
          0.0175,
          0.023,
          0.037
         ],
         "type": "scatter"
        },
        {
         "legendgroup": "1",
         "marker": {
          "color": "#EF553B"
         },
         "mode": "lines+markers",
         "opacity": 0.5,
         "showlegend": false,
         "x": [
          1.073611111111111,
          2.0680555555555555,
          4.0777777777777775,
          6.063888888888889,
          8.090277777777779,
          10.084722222222222,
          15.098611111111111
         ],
         "y": [
          0.0026,
          0.0027,
          0.0028,
          0.0037,
          0.0116,
          0.02,
          0.054
         ],
         "type": "scatter"
        },
        {
         "legendgroup": "1",
         "marker": {
          "color": "#EF553B"
         },
         "mode": "lines+markers",
         "opacity": 0.5,
         "showlegend": false,
         "x": [
          1.1319444444444444,
          2.125,
          4.143055555555556,
          6.120833333333334,
          8.180555555555555,
          10.158333333333333,
          15.2
         ],
         "y": [
          0.0056,
          0.0116,
          0.03,
          0.045,
          0.053,
          0.057,
          0.056
         ],
         "type": "scatter"
        },
        {
         "legendgroup": "1",
         "marker": {
          "color": "#EF553B"
         },
         "mode": "lines+markers",
         "opacity": 0.5,
         "showlegend": false,
         "x": [
          1.1319444444444444,
          2.125,
          4.143055555555556,
          6.120833333333334,
          8.180555555555555,
          10.158333333333333,
          15.2
         ],
         "y": [
          0.0028,
          0.0028,
          0.0077,
          0.02,
          0.038,
          0.049,
          0.092
         ],
         "type": "scatter"
        },
        {
         "legendgroup": "1",
         "marker": {
          "color": "#EF553B"
         },
         "mode": "lines+markers",
         "opacity": 0.5,
         "showlegend": false,
         "x": [
          1.1916666666666667,
          2.1847222222222222,
          4.205555555555556,
          6.180555555555555,
          8.256944444444445,
          10.233333333333333,
          15.291666666666666
         ],
         "y": [
          0.0047,
          0.0077,
          0.035,
          0.058,
          0.083,
          0.099,
          0.157
         ],
         "type": "scatter"
        },
        {
         "legendgroup": "1",
         "marker": {
          "color": "#EF553B"
         },
         "mode": "lines+markers",
         "opacity": 0.5,
         "showlegend": false,
         "x": [
          4.273611111111111,
          6.2375,
          8.338888888888889,
          10.306944444444444,
          15.381944444444445
         ],
         "y": [
          0.0071,
          0.04,
          0.094,
          0.117,
          0.139
         ],
         "type": "scatter"
        },
        {
         "legendgroup": "1",
         "marker": {
          "color": "#EF553B"
         },
         "mode": "lines+markers",
         "opacity": 0.5,
         "showlegend": false,
         "x": [
          1.2513888888888889,
          2.2416666666666667,
          4.273611111111111,
          6.2375,
          8.338888888888889,
          10.306944444444444,
          15.381944444444445
         ],
         "y": [
          0.0033,
          0.0041,
          0.0065,
          0.0094,
          0.0128,
          0.0193,
          0.031
         ],
         "type": "scatter"
        },
        {
         "legendgroup": "1",
         "marker": {
          "color": "#EF553B"
         },
         "mode": "lines+markers",
         "opacity": 0.5,
         "showlegend": false,
         "x": [
          1.3125,
          2.301388888888889,
          4.336111111111111,
          6.295833333333333,
          10.383333333333333
         ],
         "y": [
          0.0035,
          0.0042,
          0.0053,
          0.0062,
          0.0058
         ],
         "type": "scatter"
        },
        {
         "legendgroup": "1",
         "marker": {
          "color": "#EF553B"
         },
         "mode": "lines+markers",
         "opacity": 0.5,
         "showlegend": false,
         "x": [
          6.358333333333333,
          8.501388888888888,
          10.466666666666667,
          15.568055555555556
         ],
         "y": [
          0.0152,
          0.029,
          0.042,
          0.072
         ],
         "type": "scatter"
        },
        {
         "legendgroup": "1",
         "marker": {
          "color": "#EF553B"
         },
         "mode": "lines+markers",
         "opacity": 0.5,
         "showlegend": false,
         "x": [
          1.3736111111111111,
          2.3694444444444445,
          4.409722222222222,
          6.358333333333333,
          8.501388888888888,
          10.466666666666667,
          15.568055555555556
         ],
         "y": [
          0.0088,
          0.0191,
          0.065,
          0.095,
          0.115,
          0.128,
          0.124
         ],
         "type": "scatter"
        },
        {
         "legendgroup": "1",
         "marker": {
          "color": "#EF553B"
         },
         "mode": "lines+markers",
         "opacity": 0.5,
         "showlegend": false,
         "x": [
          6.416666666666667,
          8.581944444444444,
          10.541666666666666,
          15.658333333333333
         ],
         "y": [
          0.0147,
          0.03,
          0.046,
          0.09
         ],
         "type": "scatter"
        },
        {
         "legendgroup": "1",
         "marker": {
          "color": "#EF553B"
         },
         "mode": "lines+markers",
         "opacity": 0.5,
         "showlegend": false,
         "x": [
          1.0055555555555555,
          2.011111111111111,
          4.018055555555556,
          6.008333333333334,
          8.016666666666667,
          10.011111111111111,
          15.016666666666667
         ],
         "y": [
          0.0025,
          0.0027,
          0.0029,
          0.0035,
          0.0042,
          0.0047,
          0.0074
         ],
         "type": "scatter"
        },
        {
         "legendgroup": "1",
         "marker": {
          "color": "#EF553B"
         },
         "mode": "lines+markers",
         "opacity": 0.5,
         "showlegend": false,
         "x": [
          1.0055555555555555,
          2.011111111111111,
          4.018055555555556,
          6.008333333333334,
          8.016666666666667,
          10.011111111111111,
          15.016666666666667
         ],
         "y": [
          0.0026,
          0.0034,
          0.0048,
          0.0069,
          0.0077,
          0.0095,
          0.0118
         ],
         "type": "scatter"
        },
        {
         "legendgroup": "1",
         "marker": {
          "color": "#EF553B"
         },
         "mode": "lines+markers",
         "opacity": 0.5,
         "showlegend": false,
         "x": [
          1.073611111111111,
          2.0680555555555555,
          4.0777777777777775,
          6.063888888888889,
          8.090277777777779,
          10.084722222222222,
          15.098611111111111
         ],
         "y": [
          0.0025,
          0.003,
          0.004,
          0.0048,
          0.009,
          0.0092,
          0.0108
         ],
         "type": "scatter"
        },
        {
         "legendgroup": "1",
         "marker": {
          "color": "#EF553B"
         },
         "name": "Mn over time",
         "x": [
          null
         ],
         "y": [
          null
         ],
         "type": "scatter"
        },
        {
         "legendgroup": "2",
         "marker": {
          "color": "#00CC96"
         },
         "mode": "lines+markers",
         "opacity": 0.5,
         "showlegend": false,
         "x": [
          1.0055555555555555,
          2.011111111111111,
          4.018055555555556,
          6.008333333333334,
          8.016666666666667,
          10.011111111111111,
          15.016666666666667
         ],
         "y": [
          0.032,
          0.038,
          0.056,
          0.07,
          0.085,
          0.098,
          0.127
         ],
         "type": "scatter"
        },
        {
         "legendgroup": "2",
         "marker": {
          "color": "#00CC96"
         },
         "mode": "lines+markers",
         "opacity": 0.5,
         "showlegend": false,
         "x": [
          1.0055555555555555,
          2.011111111111111,
          6.008333333333334,
          8.016666666666667,
          10.011111111111111,
          15.016666666666667
         ],
         "y": [
          0.041,
          0.049,
          0.082,
          0.093,
          0.103,
          0.121
         ],
         "type": "scatter"
        },
        {
         "legendgroup": "2",
         "marker": {
          "color": "#00CC96"
         },
         "mode": "lines+markers",
         "opacity": 0.5,
         "showlegend": false,
         "x": [
          1.073611111111111,
          2.0680555555555555,
          4.0777777777777775,
          6.063888888888889,
          8.090277777777779,
          10.084722222222222,
          15.098611111111111
         ],
         "y": [
          0.0198,
          0.024,
          0.035,
          0.046,
          0.059,
          0.064,
          0.107
         ],
         "type": "scatter"
        },
        {
         "legendgroup": "2",
         "marker": {
          "color": "#00CC96"
         },
         "mode": "lines+markers",
         "opacity": 0.5,
         "showlegend": false,
         "x": [
          1.073611111111111,
          2.0680555555555555,
          4.0777777777777775,
          6.063888888888889,
          8.090277777777779,
          10.084722222222222,
          15.098611111111111
         ],
         "y": [
          0.043,
          0.049,
          0.076,
          0.099,
          0.12,
          0.133,
          0.178
         ],
         "type": "scatter"
        },
        {
         "legendgroup": "2",
         "marker": {
          "color": "#00CC96"
         },
         "mode": "lines+markers",
         "opacity": 0.5,
         "showlegend": false,
         "x": [
          1.1319444444444444,
          2.125,
          4.143055555555556,
          6.120833333333334,
          8.180555555555555,
          10.158333333333333,
          15.2
         ],
         "y": [
          0.051,
          0.058,
          0.072,
          0.093,
          0.116,
          0.141,
          0.22
         ],
         "type": "scatter"
        },
        {
         "legendgroup": "2",
         "marker": {
          "color": "#00CC96"
         },
         "mode": "lines+markers",
         "opacity": 0.5,
         "showlegend": false,
         "x": [
          1.1319444444444444,
          2.125,
          4.143055555555556,
          6.120833333333334,
          8.180555555555555,
          10.158333333333333,
          15.2
         ],
         "y": [
          0.024,
          0.027,
          0.04,
          0.055,
          0.071,
          0.084,
          0.128
         ],
         "type": "scatter"
        },
        {
         "legendgroup": "2",
         "marker": {
          "color": "#00CC96"
         },
         "mode": "lines+markers",
         "opacity": 0.5,
         "showlegend": false,
         "x": [
          1.1916666666666667,
          2.1847222222222222,
          4.205555555555556,
          8.256944444444445,
          10.233333333333333,
          15.291666666666666
         ],
         "y": [
          0.067,
          0.064,
          0.091,
          0.13,
          0.21,
          0.21
         ],
         "type": "scatter"
        },
        {
         "legendgroup": "2",
         "marker": {
          "color": "#00CC96"
         },
         "mode": "lines+markers",
         "opacity": 0.5,
         "showlegend": false,
         "x": [
          1.2513888888888889,
          2.2416666666666667,
          4.273611111111111,
          6.2375,
          8.338888888888889,
          10.306944444444444,
          15.381944444444445
         ],
         "y": [
          0.041,
          0.047,
          0.088,
          0.132,
          0.17,
          0.199,
          0.25
         ],
         "type": "scatter"
        },
        {
         "legendgroup": "2",
         "marker": {
          "color": "#00CC96"
         },
         "mode": "lines+markers",
         "opacity": 0.5,
         "showlegend": false,
         "x": [
          1.2513888888888889,
          2.2416666666666667,
          4.273611111111111,
          6.2375,
          8.338888888888889,
          10.306944444444444,
          15.381944444444445
         ],
         "y": [
          0.056,
          0.063,
          0.089,
          0.11,
          0.127,
          0.14,
          0.168
         ],
         "type": "scatter"
        },
        {
         "legendgroup": "2",
         "marker": {
          "color": "#00CC96"
         },
         "mode": "lines+markers",
         "opacity": 0.5,
         "showlegend": false,
         "x": [
          1.3125,
          2.301388888888889,
          4.336111111111111,
          6.295833333333333,
          8.415277777777778,
          10.383333333333333,
          15.472222222222221
         ],
         "y": [
          0.069,
          0.085,
          0.121,
          0.15,
          0.175,
          0.192,
          0.21
         ],
         "type": "scatter"
        },
        {
         "legendgroup": "2",
         "marker": {
          "color": "#00CC96"
         },
         "mode": "lines+markers",
         "opacity": 0.5,
         "showlegend": false,
         "x": [
          1.3125,
          2.301388888888889,
          4.336111111111111,
          6.295833333333333,
          8.415277777777778,
          10.383333333333333,
          15.472222222222221
         ],
         "y": [
          0.029,
          0.032,
          0.033,
          0.034,
          0.035,
          0.041,
          0.049
         ],
         "type": "scatter"
        },
        {
         "legendgroup": "2",
         "marker": {
          "color": "#00CC96"
         },
         "mode": "lines+markers",
         "opacity": 0.5,
         "showlegend": false,
         "x": [
          1.3736111111111111,
          2.3694444444444445,
          4.409722222222222,
          6.358333333333333,
          8.501388888888888,
          10.466666666666667,
          15.568055555555556
         ],
         "y": [
          0.055,
          0.065,
          0.093,
          0.121,
          0.141,
          0.155,
          0.2
         ],
         "type": "scatter"
        },
        {
         "legendgroup": "2",
         "marker": {
          "color": "#00CC96"
         },
         "mode": "lines+markers",
         "opacity": 0.5,
         "showlegend": false,
         "x": [
          1.3736111111111111,
          2.3694444444444445,
          4.409722222222222,
          8.501388888888888,
          10.466666666666667,
          15.568055555555556
         ],
         "y": [
          0.069,
          0.09,
          0.125,
          0.167,
          0.177,
          0.194
         ],
         "type": "scatter"
        },
        {
         "legendgroup": "2",
         "marker": {
          "color": "#00CC96"
         },
         "mode": "lines+markers",
         "opacity": 0.5,
         "showlegend": false,
         "x": [
          1.4375,
          2.4305555555555554,
          4.475,
          6.416666666666667,
          8.581944444444444,
          10.541666666666666,
          15.658333333333333
         ],
         "y": [
          0.031,
          0.032,
          0.05,
          0.068,
          0.089,
          0.103,
          0.179
         ],
         "type": "scatter"
        },
        {
         "legendgroup": "2",
         "marker": {
          "color": "#00CC96"
         },
         "mode": "lines+markers",
         "opacity": 0.5,
         "showlegend": false,
         "x": [
          1.0055555555555555,
          2.011111111111111,
          4.018055555555556,
          6.008333333333334,
          8.016666666666667,
          10.011111111111111,
          15.016666666666667
         ],
         "y": [
          0.0026,
          0.0036,
          0.0115,
          0.0191,
          0.03,
          0.044,
          0.055
         ],
         "type": "scatter"
        },
        {
         "legendgroup": "2",
         "marker": {
          "color": "#00CC96"
         },
         "mode": "lines+markers",
         "opacity": 0.5,
         "showlegend": false,
         "x": [
          1.0055555555555555,
          2.011111111111111,
          4.018055555555556,
          6.008333333333334,
          8.016666666666667,
          10.011111111111111,
          15.016666666666667
         ],
         "y": [
          0.0036,
          0.0063,
          0.0112,
          0.0132,
          0.0136,
          0.0137,
          0.0133
         ],
         "type": "scatter"
        },
        {
         "legendgroup": "2",
         "marker": {
          "color": "#00CC96"
         },
         "mode": "lines+markers",
         "opacity": 0.5,
         "showlegend": false,
         "x": [
          4.0777777777777775,
          6.063888888888889,
          8.090277777777779,
          10.084722222222222,
          15.098611111111111
         ],
         "y": [
          0.0061,
          0.0121,
          0.0191,
          0.025,
          0.051
         ],
         "type": "scatter"
        },
        {
         "legendgroup": "2",
         "marker": {
          "color": "#00CC96"
         },
         "mode": "lines+markers",
         "opacity": 0.5,
         "showlegend": false,
         "x": [
          1.073611111111111,
          2.0680555555555555,
          4.0777777777777775,
          6.063888888888889,
          8.090277777777779,
          10.084722222222222,
          15.098611111111111
         ],
         "y": [
          0.0027,
          0.0027,
          0.003,
          0.0042,
          0.013,
          0.022,
          0.059
         ],
         "type": "scatter"
        },
        {
         "legendgroup": "2",
         "marker": {
          "color": "#00CC96"
         },
         "mode": "lines+markers",
         "opacity": 0.5,
         "showlegend": false,
         "x": [
          1.1319444444444444,
          2.125,
          4.143055555555556,
          6.120833333333334,
          8.180555555555555,
          10.158333333333333,
          15.2
         ],
         "y": [
          0.0066,
          0.0122,
          0.033,
          0.048,
          0.06,
          0.065,
          0.073
         ],
         "type": "scatter"
        },
        {
         "legendgroup": "2",
         "marker": {
          "color": "#00CC96"
         },
         "mode": "lines+markers",
         "opacity": 0.5,
         "showlegend": false,
         "x": [
          1.1319444444444444,
          2.125,
          4.143055555555556,
          6.120833333333334,
          8.180555555555555,
          10.158333333333333,
          15.2
         ],
         "y": [
          0.0029,
          0.0029,
          0.0084,
          0.022,
          0.042,
          0.057,
          0.113
         ],
         "type": "scatter"
        },
        {
         "legendgroup": "2",
         "marker": {
          "color": "#00CC96"
         },
         "mode": "lines+markers",
         "opacity": 0.5,
         "showlegend": false,
         "x": [
          1.1916666666666667,
          2.1847222222222222,
          4.205555555555556,
          6.180555555555555,
          8.256944444444445,
          10.233333333333333,
          15.291666666666666
         ],
         "y": [
          0.0051,
          0.008,
          0.038,
          0.062,
          0.113,
          0.162,
          0.31
         ],
         "type": "scatter"
        },
        {
         "legendgroup": "2",
         "marker": {
          "color": "#00CC96"
         },
         "mode": "lines+markers",
         "opacity": 0.5,
         "showlegend": false,
         "x": [
          4.273611111111111,
          6.2375,
          8.338888888888889,
          10.306944444444444,
          15.381944444444445
         ],
         "y": [
          0.0071,
          0.045,
          0.105,
          0.143,
          0.169
         ],
         "type": "scatter"
        },
        {
         "legendgroup": "2",
         "marker": {
          "color": "#00CC96"
         },
         "mode": "lines+markers",
         "opacity": 0.5,
         "showlegend": false,
         "x": [
          1.2513888888888889,
          2.2416666666666667,
          4.273611111111111,
          6.2375,
          8.338888888888889,
          10.306944444444444,
          15.381944444444445
         ],
         "y": [
          0.0036,
          0.0045,
          0.0072,
          0.011,
          0.0155,
          0.021,
          0.036
         ],
         "type": "scatter"
        },
        {
         "legendgroup": "2",
         "marker": {
          "color": "#00CC96"
         },
         "mode": "lines+markers",
         "opacity": 0.5,
         "showlegend": false,
         "x": [
          1.3125,
          2.301388888888889,
          4.336111111111111,
          6.295833333333333,
          10.383333333333333
         ],
         "y": [
          0.0038,
          0.0046,
          0.0056,
          0.0067,
          0.0061
         ],
         "type": "scatter"
        },
        {
         "legendgroup": "2",
         "marker": {
          "color": "#00CC96"
         },
         "mode": "lines+markers",
         "opacity": 0.5,
         "showlegend": false,
         "x": [
          6.358333333333333,
          8.501388888888888,
          10.466666666666667,
          15.568055555555556
         ],
         "y": [
          0.0166,
          0.034,
          0.047,
          0.096
         ],
         "type": "scatter"
        },
        {
         "legendgroup": "2",
         "marker": {
          "color": "#00CC96"
         },
         "mode": "lines+markers",
         "opacity": 0.5,
         "showlegend": false,
         "x": [
          1.3736111111111111,
          4.409722222222222,
          6.358333333333333,
          8.501388888888888,
          10.466666666666667,
          15.568055555555556
         ],
         "y": [
          0.01,
          0.072,
          0.107,
          0.132,
          0.149,
          0.183
         ],
         "type": "scatter"
        },
        {
         "legendgroup": "2",
         "marker": {
          "color": "#00CC96"
         },
         "mode": "lines+markers",
         "opacity": 0.5,
         "showlegend": false,
         "x": [
          6.416666666666667,
          8.581944444444444,
          10.541666666666666,
          15.658333333333333
         ],
         "y": [
          0.0162,
          0.034,
          0.05,
          0.119
         ],
         "type": "scatter"
        },
        {
         "legendgroup": "2",
         "marker": {
          "color": "#00CC96"
         },
         "mode": "lines+markers",
         "opacity": 0.5,
         "showlegend": false,
         "x": [
          1.0055555555555555,
          2.011111111111111,
          4.018055555555556,
          6.008333333333334,
          8.016666666666667,
          10.011111111111111,
          15.016666666666667
         ],
         "y": [
          0.0027,
          0.0029,
          0.0032,
          0.0038,
          0.0048,
          0.0055,
          0.01
         ],
         "type": "scatter"
        },
        {
         "legendgroup": "2",
         "marker": {
          "color": "#00CC96"
         },
         "mode": "lines+markers",
         "opacity": 0.5,
         "showlegend": false,
         "x": [
          1.0055555555555555,
          2.011111111111111,
          4.018055555555556,
          6.008333333333334,
          8.016666666666667,
          10.011111111111111,
          15.016666666666667
         ],
         "y": [
          0.0028,
          0.0036,
          0.0055,
          0.0078,
          0.0094,
          0.0113,
          0.0147
         ],
         "type": "scatter"
        },
        {
         "legendgroup": "2",
         "marker": {
          "color": "#00CC96"
         },
         "mode": "lines+markers",
         "opacity": 0.5,
         "showlegend": false,
         "x": [
          1.073611111111111,
          2.0680555555555555,
          4.0777777777777775,
          6.063888888888889,
          8.090277777777779,
          10.084722222222222,
          15.098611111111111
         ],
         "y": [
          0.0027,
          0.0032,
          0.0046,
          0.0061,
          0.0094,
          0.0113,
          0.018
         ],
         "type": "scatter"
        },
        {
         "legendgroup": "2",
         "marker": {
          "color": "#00CC96"
         },
         "name": "Mw over time",
         "x": [
          null
         ],
         "y": [
          null
         ],
         "type": "scatter"
        },
        {
         "legendgroup": "threshold",
         "line": {
          "dash": "dash"
         },
         "mode": "lines",
         "name": "SEC limit",
         "x": [
          0,
          16
         ],
         "y": [
          0.01,
          0.01
         ],
         "type": "scatter"
        }
       ],
       "layout": {
        "template": {
         "data": {
          "histogram2dcontour": [
           {
            "type": "histogram2dcontour",
            "colorbar": {
             "outlinewidth": 0,
             "ticks": ""
            },
            "colorscale": [
             [
              0.0,
              "#0d0887"
             ],
             [
              0.1111111111111111,
              "#46039f"
             ],
             [
              0.2222222222222222,
              "#7201a8"
             ],
             [
              0.3333333333333333,
              "#9c179e"
             ],
             [
              0.4444444444444444,
              "#bd3786"
             ],
             [
              0.5555555555555556,
              "#d8576b"
             ],
             [
              0.6666666666666666,
              "#ed7953"
             ],
             [
              0.7777777777777778,
              "#fb9f3a"
             ],
             [
              0.8888888888888888,
              "#fdca26"
             ],
             [
              1.0,
              "#f0f921"
             ]
            ]
           }
          ],
          "choropleth": [
           {
            "type": "choropleth",
            "colorbar": {
             "outlinewidth": 0,
             "ticks": ""
            }
           }
          ],
          "histogram2d": [
           {
            "type": "histogram2d",
            "colorbar": {
             "outlinewidth": 0,
             "ticks": ""
            },
            "colorscale": [
             [
              0.0,
              "#0d0887"
             ],
             [
              0.1111111111111111,
              "#46039f"
             ],
             [
              0.2222222222222222,
              "#7201a8"
             ],
             [
              0.3333333333333333,
              "#9c179e"
             ],
             [
              0.4444444444444444,
              "#bd3786"
             ],
             [
              0.5555555555555556,
              "#d8576b"
             ],
             [
              0.6666666666666666,
              "#ed7953"
             ],
             [
              0.7777777777777778,
              "#fb9f3a"
             ],
             [
              0.8888888888888888,
              "#fdca26"
             ],
             [
              1.0,
              "#f0f921"
             ]
            ]
           }
          ],
          "heatmap": [
           {
            "type": "heatmap",
            "colorbar": {
             "outlinewidth": 0,
             "ticks": ""
            },
            "colorscale": [
             [
              0.0,
              "#0d0887"
             ],
             [
              0.1111111111111111,
              "#46039f"
             ],
             [
              0.2222222222222222,
              "#7201a8"
             ],
             [
              0.3333333333333333,
              "#9c179e"
             ],
             [
              0.4444444444444444,
              "#bd3786"
             ],
             [
              0.5555555555555556,
              "#d8576b"
             ],
             [
              0.6666666666666666,
              "#ed7953"
             ],
             [
              0.7777777777777778,
              "#fb9f3a"
             ],
             [
              0.8888888888888888,
              "#fdca26"
             ],
             [
              1.0,
              "#f0f921"
             ]
            ]
           }
          ],
          "heatmapgl": [
           {
            "type": "heatmapgl",
            "colorbar": {
             "outlinewidth": 0,
             "ticks": ""
            },
            "colorscale": [
             [
              0.0,
              "#0d0887"
             ],
             [
              0.1111111111111111,
              "#46039f"
             ],
             [
              0.2222222222222222,
              "#7201a8"
             ],
             [
              0.3333333333333333,
              "#9c179e"
             ],
             [
              0.4444444444444444,
              "#bd3786"
             ],
             [
              0.5555555555555556,
              "#d8576b"
             ],
             [
              0.6666666666666666,
              "#ed7953"
             ],
             [
              0.7777777777777778,
              "#fb9f3a"
             ],
             [
              0.8888888888888888,
              "#fdca26"
             ],
             [
              1.0,
              "#f0f921"
             ]
            ]
           }
          ],
          "contourcarpet": [
           {
            "type": "contourcarpet",
            "colorbar": {
             "outlinewidth": 0,
             "ticks": ""
            }
           }
          ],
          "contour": [
           {
            "type": "contour",
            "colorbar": {
             "outlinewidth": 0,
             "ticks": ""
            },
            "colorscale": [
             [
              0.0,
              "#0d0887"
             ],
             [
              0.1111111111111111,
              "#46039f"
             ],
             [
              0.2222222222222222,
              "#7201a8"
             ],
             [
              0.3333333333333333,
              "#9c179e"
             ],
             [
              0.4444444444444444,
              "#bd3786"
             ],
             [
              0.5555555555555556,
              "#d8576b"
             ],
             [
              0.6666666666666666,
              "#ed7953"
             ],
             [
              0.7777777777777778,
              "#fb9f3a"
             ],
             [
              0.8888888888888888,
              "#fdca26"
             ],
             [
              1.0,
              "#f0f921"
             ]
            ]
           }
          ],
          "surface": [
           {
            "type": "surface",
            "colorbar": {
             "outlinewidth": 0,
             "ticks": ""
            },
            "colorscale": [
             [
              0.0,
              "#0d0887"
             ],
             [
              0.1111111111111111,
              "#46039f"
             ],
             [
              0.2222222222222222,
              "#7201a8"
             ],
             [
              0.3333333333333333,
              "#9c179e"
             ],
             [
              0.4444444444444444,
              "#bd3786"
             ],
             [
              0.5555555555555556,
              "#d8576b"
             ],
             [
              0.6666666666666666,
              "#ed7953"
             ],
             [
              0.7777777777777778,
              "#fb9f3a"
             ],
             [
              0.8888888888888888,
              "#fdca26"
             ],
             [
              1.0,
              "#f0f921"
             ]
            ]
           }
          ],
          "mesh3d": [
           {
            "type": "mesh3d",
            "colorbar": {
             "outlinewidth": 0,
             "ticks": ""
            }
           }
          ],
          "scatter": [
           {
            "fillpattern": {
             "fillmode": "overlay",
             "size": 10,
             "solidity": 0.2
            },
            "type": "scatter"
           }
          ],
          "parcoords": [
           {
            "type": "parcoords",
            "line": {
             "colorbar": {
              "outlinewidth": 0,
              "ticks": ""
             }
            }
           }
          ],
          "scatterpolargl": [
           {
            "type": "scatterpolargl",
            "marker": {
             "colorbar": {
              "outlinewidth": 0,
              "ticks": ""
             }
            }
           }
          ],
          "bar": [
           {
            "error_x": {
             "color": "#2a3f5f"
            },
            "error_y": {
             "color": "#2a3f5f"
            },
            "marker": {
             "line": {
              "color": "#E5ECF6",
              "width": 0.5
             },
             "pattern": {
              "fillmode": "overlay",
              "size": 10,
              "solidity": 0.2
             }
            },
            "type": "bar"
           }
          ],
          "scattergeo": [
           {
            "type": "scattergeo",
            "marker": {
             "colorbar": {
              "outlinewidth": 0,
              "ticks": ""
             }
            }
           }
          ],
          "scatterpolar": [
           {
            "type": "scatterpolar",
            "marker": {
             "colorbar": {
              "outlinewidth": 0,
              "ticks": ""
             }
            }
           }
          ],
          "histogram": [
           {
            "marker": {
             "pattern": {
              "fillmode": "overlay",
              "size": 10,
              "solidity": 0.2
             }
            },
            "type": "histogram"
           }
          ],
          "scattergl": [
           {
            "type": "scattergl",
            "marker": {
             "colorbar": {
              "outlinewidth": 0,
              "ticks": ""
             }
            }
           }
          ],
          "scatter3d": [
           {
            "type": "scatter3d",
            "line": {
             "colorbar": {
              "outlinewidth": 0,
              "ticks": ""
             }
            },
            "marker": {
             "colorbar": {
              "outlinewidth": 0,
              "ticks": ""
             }
            }
           }
          ],
          "scattermapbox": [
           {
            "type": "scattermapbox",
            "marker": {
             "colorbar": {
              "outlinewidth": 0,
              "ticks": ""
             }
            }
           }
          ],
          "scatterternary": [
           {
            "type": "scatterternary",
            "marker": {
             "colorbar": {
              "outlinewidth": 0,
              "ticks": ""
             }
            }
           }
          ],
          "scattercarpet": [
           {
            "type": "scattercarpet",
            "marker": {
             "colorbar": {
              "outlinewidth": 0,
              "ticks": ""
             }
            }
           }
          ],
          "carpet": [
           {
            "aaxis": {
             "endlinecolor": "#2a3f5f",
             "gridcolor": "white",
             "linecolor": "white",
             "minorgridcolor": "white",
             "startlinecolor": "#2a3f5f"
            },
            "baxis": {
             "endlinecolor": "#2a3f5f",
             "gridcolor": "white",
             "linecolor": "white",
             "minorgridcolor": "white",
             "startlinecolor": "#2a3f5f"
            },
            "type": "carpet"
           }
          ],
          "table": [
           {
            "cells": {
             "fill": {
              "color": "#EBF0F8"
             },
             "line": {
              "color": "white"
             }
            },
            "header": {
             "fill": {
              "color": "#C8D4E3"
             },
             "line": {
              "color": "white"
             }
            },
            "type": "table"
           }
          ],
          "barpolar": [
           {
            "marker": {
             "line": {
              "color": "#E5ECF6",
              "width": 0.5
             },
             "pattern": {
              "fillmode": "overlay",
              "size": 10,
              "solidity": 0.2
             }
            },
            "type": "barpolar"
           }
          ],
          "pie": [
           {
            "automargin": true,
            "type": "pie"
           }
          ]
         },
         "layout": {
          "autotypenumbers": "strict",
          "colorway": [
           "#636efa",
           "#EF553B",
           "#00cc96",
           "#ab63fa",
           "#FFA15A",
           "#19d3f3",
           "#FF6692",
           "#B6E880",
           "#FF97FF",
           "#FECB52"
          ],
          "font": {
           "color": "#2a3f5f"
          },
          "hovermode": "closest",
          "hoverlabel": {
           "align": "left"
          },
          "paper_bgcolor": "white",
          "plot_bgcolor": "#E5ECF6",
          "polar": {
           "bgcolor": "#E5ECF6",
           "angularaxis": {
            "gridcolor": "white",
            "linecolor": "white",
            "ticks": ""
           },
           "radialaxis": {
            "gridcolor": "white",
            "linecolor": "white",
            "ticks": ""
           }
          },
          "ternary": {
           "bgcolor": "#E5ECF6",
           "aaxis": {
            "gridcolor": "white",
            "linecolor": "white",
            "ticks": ""
           },
           "baxis": {
            "gridcolor": "white",
            "linecolor": "white",
            "ticks": ""
           },
           "caxis": {
            "gridcolor": "white",
            "linecolor": "white",
            "ticks": ""
           }
          },
          "coloraxis": {
           "colorbar": {
            "outlinewidth": 0,
            "ticks": ""
           }
          },
          "colorscale": {
           "sequential": [
            [
             0.0,
             "#0d0887"
            ],
            [
             0.1111111111111111,
             "#46039f"
            ],
            [
             0.2222222222222222,
             "#7201a8"
            ],
            [
             0.3333333333333333,
             "#9c179e"
            ],
            [
             0.4444444444444444,
             "#bd3786"
            ],
            [
             0.5555555555555556,
             "#d8576b"
            ],
            [
             0.6666666666666666,
             "#ed7953"
            ],
            [
             0.7777777777777778,
             "#fb9f3a"
            ],
            [
             0.8888888888888888,
             "#fdca26"
            ],
            [
             1.0,
             "#f0f921"
            ]
           ],
           "sequentialminus": [
            [
             0.0,
             "#0d0887"
            ],
            [
             0.1111111111111111,
             "#46039f"
            ],
            [
             0.2222222222222222,
             "#7201a8"
            ],
            [
             0.3333333333333333,
             "#9c179e"
            ],
            [
             0.4444444444444444,
             "#bd3786"
            ],
            [
             0.5555555555555556,
             "#d8576b"
            ],
            [
             0.6666666666666666,
             "#ed7953"
            ],
            [
             0.7777777777777778,
             "#fb9f3a"
            ],
            [
             0.8888888888888888,
             "#fdca26"
            ],
            [
             1.0,
             "#f0f921"
            ]
           ],
           "diverging": [
            [
             0,
             "#8e0152"
            ],
            [
             0.1,
             "#c51b7d"
            ],
            [
             0.2,
             "#de77ae"
            ],
            [
             0.3,
             "#f1b6da"
            ],
            [
             0.4,
             "#fde0ef"
            ],
            [
             0.5,
             "#f7f7f7"
            ],
            [
             0.6,
             "#e6f5d0"
            ],
            [
             0.7,
             "#b8e186"
            ],
            [
             0.8,
             "#7fbc41"
            ],
            [
             0.9,
             "#4d9221"
            ],
            [
             1,
             "#276419"
            ]
           ]
          },
          "xaxis": {
           "gridcolor": "white",
           "linecolor": "white",
           "ticks": "",
           "title": {
            "standoff": 15
           },
           "zerolinecolor": "white",
           "automargin": true,
           "zerolinewidth": 2
          },
          "yaxis": {
           "gridcolor": "white",
           "linecolor": "white",
           "ticks": "",
           "title": {
            "standoff": 15
           },
           "zerolinecolor": "white",
           "automargin": true,
           "zerolinewidth": 2
          },
          "scene": {
           "xaxis": {
            "backgroundcolor": "#E5ECF6",
            "gridcolor": "white",
            "linecolor": "white",
            "showbackground": true,
            "ticks": "",
            "zerolinecolor": "white",
            "gridwidth": 2
           },
           "yaxis": {
            "backgroundcolor": "#E5ECF6",
            "gridcolor": "white",
            "linecolor": "white",
            "showbackground": true,
            "ticks": "",
            "zerolinecolor": "white",
            "gridwidth": 2
           },
           "zaxis": {
            "backgroundcolor": "#E5ECF6",
            "gridcolor": "white",
            "linecolor": "white",
            "showbackground": true,
            "ticks": "",
            "zerolinecolor": "white",
            "gridwidth": 2
           }
          },
          "shapedefaults": {
           "line": {
            "color": "#2a3f5f"
           }
          },
          "annotationdefaults": {
           "arrowcolor": "#2a3f5f",
           "arrowhead": 0,
           "arrowwidth": 1
          },
          "geo": {
           "bgcolor": "white",
           "landcolor": "#E5ECF6",
           "subunitcolor": "white",
           "showland": true,
           "showlakes": true,
           "lakecolor": "white"
          },
          "title": {
           "x": 0.05
          },
          "mapbox": {
           "style": "light"
          }
         }
        },
        "xaxis": {
         "anchor": "y",
         "domain": [
          0.0,
          1.0
         ],
         "title": {
          "text": "Time [h]"
         }
        },
        "yaxis": {
         "anchor": "x",
         "domain": [
          0.0,
          1.0
         ],
         "title": {
          "text": "$\\text{Mn, Mw }[g/mol] \\cdot 10^{-5}/ \\ [ \\%]$"
         }
        },
        "legend": {
         "tracegroupgap": 0,
         "orientation": "h",
         "yanchor": "bottom",
         "y": 1.05,
         "xanchor": "left",
         "x": -0.1
        },
        "title": {
         "text": "Mn Conversion difference"
        }
       },
       "config": {
        "plotlyServerURL": "https://plot.ly"
       }
      },
      "text/html": "<div>                            <div id=\"3465c078-6f97-493f-9180-8c9a88eab8f7\" class=\"plotly-graph-div\" style=\"height:525px; width:100%;\"></div>            <script type=\"text/javascript\">                require([\"plotly\"], function(Plotly) {                    window.PLOTLYENV=window.PLOTLYENV || {};                                    if (document.getElementById(\"3465c078-6f97-493f-9180-8c9a88eab8f7\")) {                    Plotly.newPlot(                        \"3465c078-6f97-493f-9180-8c9a88eab8f7\",                        [{\"hovertemplate\":\"\\u003cextra\\u003e\\u003c\\u002fextra\\u003e\",\"legendgroup\":\"\",\"line\":{\"color\":\"#636efa\",\"dash\":\"solid\"},\"marker\":{\"symbol\":\"circle\"},\"mode\":\"lines\",\"name\":\"\",\"orientation\":\"v\",\"showlegend\":false,\"xaxis\":\"x\",\"yaxis\":\"y\",\"type\":\"scatter\"},{\"legendgroup\":\"0\",\"marker\":{\"color\":\"#636EFA\"},\"mode\":\"lines+markers\",\"opacity\":0.5,\"showlegend\":false,\"x\":[0.0,2.011111111111111,4.018055555555556,8.016666666666667,15.016666666666667],\"y\":[0.0,0.10436494913029215,0.2057761732851986,0.3321299638989169,0.5165736790285527],\"type\":\"scatter\"},{\"legendgroup\":\"0\",\"marker\":{\"color\":\"#636EFA\"},\"mode\":\"lines+markers\",\"opacity\":0.5,\"showlegend\":false,\"x\":[0.0,2.011111111111111,4.018055555555556,8.016666666666667,15.016666666666667],\"y\":[0.0,0.18921601058551107,0.327820046311611,0.5203440291101555,0.6973205425074429],\"type\":\"scatter\"},{\"legendgroup\":\"0\",\"marker\":{\"color\":\"#636EFA\"},\"mode\":\"lines+markers\",\"opacity\":0.5,\"showlegend\":false,\"x\":[0.0,4.0777777777777775,8.090277777777779,15.098611111111111],\"y\":[0.0,0.09824902723735407,0.1877431906614786,0.3232814526588845],\"type\":\"scatter\"},{\"legendgroup\":\"0\",\"marker\":{\"color\":\"#636EFA\"},\"mode\":\"lines+markers\",\"opacity\":0.5,\"showlegend\":false,\"x\":[0.0,1.073611111111111,2.0680555555555555,4.0777777777777775,8.090277777777779,15.098611111111111],\"y\":[0.0,0.06908094948265364,0.09403530127814974,0.20572124163116257,0.3740109555690809,0.5651247717589775],\"type\":\"scatter\"},{\"legendgroup\":\"0\",\"marker\":{\"color\":\"#636EFA\"},\"mode\":\"lines+markers\",\"opacity\":0.5,\"showlegend\":false,\"x\":[0.0,1.1319444444444444,2.125,8.180555555555555,15.2],\"y\":[0.0,0.11448317307692302,0.18088942307692302,0.5345552884615384,0.7905649038461539],\"type\":\"scatter\"},{\"legendgroup\":\"0\",\"marker\":{\"color\":\"#636EFA\"},\"mode\":\"lines+markers\",\"opacity\":0.5,\"showlegend\":false,\"x\":[0.0,1.1319444444444444,2.125,4.143055555555556,8.180555555555555,15.2],\"y\":[0.0,0.053034947884733286,0.05211526670754141,0.07541385652973631,0.17841814837522985,0.3289393010423053],\"type\":\"scatter\"},{\"legendgroup\":\"0\",\"marker\":{\"color\":\"#636EFA\"},\"mode\":\"lines+markers\",\"opacity\":0.5,\"showlegend\":false,\"x\":[0.0,1.1916666666666667,2.1847222222222222,4.205555555555556],\"y\":[0.0,0.052168982137794195,0.08477459597391546,0.14006237595690396],\"type\":\"scatter\"},{\"legendgroup\":\"0\",\"marker\":{\"color\":\"#636EFA\"},\"mode\":\"lines+markers\",\"opacity\":0.5,\"showlegend\":false,\"x\":[0.0,1.2513888888888889,2.2416666666666667,4.273611111111111,8.338888888888889,15.381944444444445],\"y\":[0.0,-0.02573529411764719,0.06832107843137247,0.13817401960784303,0.4099264705882353,0.6681985294117647],\"type\":\"scatter\"},{\"legendgroup\":\"0\",\"marker\":{\"color\":\"#636EFA\"},\"mode\":\"lines+markers\",\"opacity\":0.5,\"showlegend\":false,\"x\":[0.0,1.2513888888888889,2.2416666666666667,4.273611111111111,8.338888888888889,15.381944444444445],\"y\":[0.0,0.05710989327949234,0.08191520046149414,0.12460340351889243,0.17623305451398907,0.13931352754542836],\"type\":\"scatter\"},{\"legendgroup\":\"0\",\"marker\":{\"color\":\"#636EFA\"},\"mode\":\"lines+markers\",\"opacity\":0.5,\"showlegend\":false,\"x\":[0.0,1.3125,2.301388888888889,4.336111111111111,8.415277777777778,15.472222222222221],\"y\":[0.0,0.12694224567575485,0.18733509234828505,0.3685136323658751,0.5675754910583406,0.7074171797126942],\"type\":\"scatter\"},{\"legendgroup\":\"0\",\"marker\":{\"color\":\"#636EFA\"},\"mode\":\"lines+markers\",\"opacity\":0.5,\"showlegend\":false,\"x\":[0.0,1.3125,2.301388888888889,4.336111111111111,8.415277777777778,15.472222222222221],\"y\":[0.0,0.02538217479088556,0.0522065186039804,0.0784539948081916,0.06807037784828385,0.061436400346120634],\"type\":\"scatter\"},{\"legendgroup\":\"0\",\"marker\":{\"color\":\"#636EFA\"},\"mode\":\"lines+markers\",\"opacity\":0.5,\"showlegend\":false,\"x\":[0.0,1.3736111111111111,2.3694444444444445,8.501388888888888,15.568055555555556],\"y\":[0.0,0.07821229050279321,0.14769553072625696,0.47451117318435754,0.6651536312849162],\"type\":\"scatter\"},{\"legendgroup\":\"0\",\"marker\":{\"color\":\"#636EFA\"},\"mode\":\"lines+markers\",\"opacity\":0.5,\"showlegend\":false,\"x\":[0.0,2.3694444444444445,4.409722222222222,8.501388888888888,15.568055555555556],\"y\":[0.0,0.28002868411617066,0.46324847615632847,0.7113660810326281,0.8669774112585156],\"type\":\"scatter\"},{\"legendgroup\":\"0\",\"marker\":{\"color\":\"#636EFA\"},\"mode\":\"lines+markers\",\"opacity\":0.5,\"showlegend\":false,\"x\":[0.0,1.4375,4.475,8.581944444444444,15.658333333333333],\"y\":[0.0,0.025009061254077536,0.09387459224356642,0.16382747372236317,0.3856469735411381],\"type\":\"scatter\"},{\"legendgroup\":\"0\",\"marker\":{\"color\":\"#636EFA\"},\"mode\":\"lines+markers\",\"opacity\":0.5,\"showlegend\":false,\"x\":[0.0,1.0055555555555555,2.011111111111111,4.018055555555556,8.016666666666667,15.016666666666667],\"y\":[0.0,0.007199696854869098,0.038272072754831354,0.10685865858279642,0.23721106479727172,0.4297082228116711],\"type\":\"scatter\"},{\"legendgroup\":\"0\",\"marker\":{\"color\":\"#636EFA\"},\"mode\":\"lines+markers\",\"opacity\":0.5,\"showlegend\":false,\"x\":[0.0,1.0055555555555555,2.011111111111111,4.018055555555556,8.016666666666667,15.016666666666667],\"y\":[0.0,0.2771231206826493,0.4116212921576595,0.7029662738724096,0.8780983340105648,1.0],\"type\":\"scatter\"},{\"legendgroup\":\"0\",\"marker\":{\"color\":\"#636EFA\"},\"mode\":\"lines+markers\",\"opacity\":0.5,\"showlegend\":false,\"x\":[0.0,1.073611111111111,2.0680555555555555,4.0777777777777775,8.090277777777779,15.098611111111111],\"y\":[0.0,0.016788321167883313,0.019343065693430805,0.04452554744525561,0.1273722627737227,0.2886861313868614],\"type\":\"scatter\"},{\"legendgroup\":\"0\",\"marker\":{\"color\":\"#636EFA\"},\"mode\":\"lines+markers\",\"opacity\":0.5,\"showlegend\":false,\"x\":[0.0,1.073611111111111,2.0680555555555555,4.0777777777777775,8.090277777777779,15.098611111111111],\"y\":[0.0,-0.0005592841163311046,0.008389261744966459,0.006152125279642151,0.06040268456375841,0.24440715883668906],\"type\":\"scatter\"},{\"legendgroup\":\"0\",\"marker\":{\"color\":\"#636EFA\"},\"mode\":\"lines+markers\",\"opacity\":0.5,\"showlegend\":false,\"x\":[0.0,1.1319444444444444,2.125,8.180555555555555,15.2],\"y\":[0.0,0.03328149300155514,0.06998444790046643,0.2902021772939346,0.30855365474339036],\"type\":\"scatter\"},{\"legendgroup\":\"0\",\"marker\":{\"color\":\"#636EFA\"},\"mode\":\"lines+markers\",\"opacity\":0.5,\"showlegend\":false,\"x\":[0.0,1.1319444444444444,2.125,4.143055555555556,8.180555555555555,15.2],\"y\":[0.0,0.009223445403153896,0.03034811068134491,0.052365367450163736,0.1731627491817912,0.4525438857482892],\"type\":\"scatter\"},{\"legendgroup\":\"0\",\"marker\":{\"color\":\"#636EFA\"},\"mode\":\"lines+markers\",\"opacity\":0.5,\"showlegend\":false,\"x\":[0.0,1.1916666666666667,2.1847222222222222,4.205555555555556,15.291666666666666],\"y\":[0.0,0.05354558610709115,0.06946454413892911,0.13950795947901595,0.4917510853835022],\"type\":\"scatter\"},{\"legendgroup\":\"0\",\"marker\":{\"color\":\"#636EFA\"},\"mode\":\"lines+markers\",\"opacity\":0.5,\"showlegend\":false,\"x\":[0.0,1.2513888888888889,2.2416666666666667,4.273611111111111,8.338888888888889,15.381944444444445],\"y\":[0.0,0.002850807728856486,-0.009819448843839229,0.11054798859676918,0.39436173582515044,0.6496674057649667],\"type\":\"scatter\"},{\"legendgroup\":\"0\",\"marker\":{\"color\":\"#636EFA\"},\"mode\":\"lines+markers\",\"opacity\":0.5,\"showlegend\":false,\"x\":[0.0,1.2513888888888889,2.2416666666666667,4.273611111111111,8.338888888888889],\"y\":[0.0,0.19796828543111977,0.20267591674925667,0.20441030723488596,0.20639246778989095],\"type\":\"scatter\"},{\"legendgroup\":\"0\",\"marker\":{\"color\":\"#636EFA\"},\"mode\":\"lines+markers\",\"opacity\":0.5,\"showlegend\":false,\"x\":[0.0,1.3125,2.301388888888889,4.336111111111111,15.472222222222221],\"y\":[0.0,0.008618036318867373,-0.003693444136657398,0.008310249307479256,0.040012311480455476],\"type\":\"scatter\"},{\"legendgroup\":\"0\",\"marker\":{\"color\":\"#636EFA\"},\"mode\":\"lines+markers\",\"opacity\":0.5,\"showlegend\":false,\"x\":[0.0,2.3694444444444445,8.501388888888888,15.568055555555556],\"y\":[0.0,-0.00111358574610243,0.08945805493689685,0.37119524870081666],\"type\":\"scatter\"},{\"legendgroup\":\"0\",\"marker\":{\"color\":\"#636EFA\"},\"mode\":\"lines+markers\",\"opacity\":0.5,\"showlegend\":false,\"x\":[0.0,4.409722222222222,8.501388888888888,15.568055555555556],\"y\":[0.0,0.33287764866712244,0.5857826384142174,0.7853725222146275],\"type\":\"scatter\"},{\"legendgroup\":\"0\",\"marker\":{\"color\":\"#636EFA\"},\"mode\":\"lines+markers\",\"opacity\":0.5,\"showlegend\":false,\"x\":[0.0,1.4375,2.4305555555555554,4.475,8.581944444444444,15.658333333333333],\"y\":[0.0,0.021403508771929758,-0.006666666666666821,0.029824561403508754,0.1378947368421053,0.39719298245614043],\"type\":\"scatter\"},{\"legendgroup\":\"0\",\"marker\":{\"color\":\"#636EFA\"},\"mode\":\"lines+markers\",\"opacity\":0.5,\"showlegend\":false,\"x\":[0.0,2.011111111111111,4.018055555555556,8.016666666666667,15.016666666666667],\"y\":[0.0,0.026455026455026398,0.050264550264550234,0.09977324263038545,0.1916099773242631],\"type\":\"scatter\"},{\"legendgroup\":\"0\",\"marker\":{\"color\":\"#636EFA\"},\"mode\":\"lines+markers\",\"opacity\":0.5,\"showlegend\":false,\"x\":[0.0,1.0055555555555555,2.011111111111111,4.018055555555556,8.016666666666667,15.016666666666667],\"y\":[0.0,0.037663335895465,0.05956956187548035,0.11913912375096081,0.23020753266717897,0.42044581091468103],\"type\":\"scatter\"},{\"legendgroup\":\"0\",\"marker\":{\"color\":\"#636EFA\"},\"mode\":\"lines+markers\",\"opacity\":0.5,\"showlegend\":false,\"x\":[0.0,1.073611111111111,4.0777777777777775,8.090277777777779,15.098611111111111],\"y\":[0.0,0.01056205205582783,0.026027913994718932,0.04828366654092786,0.07091663523198788],\"type\":\"scatter\"},{\"legendgroup\":\"0\",\"marker\":{\"color\":\"#636EFA\"},\"name\":\"conv over time\",\"x\":[null],\"y\":[null],\"type\":\"scatter\"},{\"legendgroup\":\"1\",\"marker\":{\"color\":\"#EF553B\"},\"mode\":\"lines+markers\",\"opacity\":0.5,\"showlegend\":false,\"x\":[1.0055555555555555,2.011111111111111,4.018055555555556,6.008333333333334,8.016666666666667,10.011111111111111,15.016666666666667],\"y\":[0.023,0.029,0.042,0.054,0.069,0.081,0.087],\"type\":\"scatter\"},{\"legendgroup\":\"1\",\"marker\":{\"color\":\"#EF553B\"},\"mode\":\"lines+markers\",\"opacity\":0.5,\"showlegend\":false,\"x\":[1.0055555555555555,2.011111111111111,4.018055555555556,6.008333333333334,8.016666666666667,10.011111111111111,15.016666666666667],\"y\":[0.03,0.037,0.06,0.064,0.07,0.086,0.092],\"type\":\"scatter\"},{\"legendgroup\":\"1\",\"marker\":{\"color\":\"#EF553B\"},\"mode\":\"lines+markers\",\"opacity\":0.5,\"showlegend\":false,\"x\":[1.073611111111111,2.0680555555555555,4.0777777777777775,6.063888888888889,8.090277777777779,10.084722222222222,15.098611111111111],\"y\":[0.0142,0.0189,0.028,0.037,0.05,0.05,0.072],\"type\":\"scatter\"},{\"legendgroup\":\"1\",\"marker\":{\"color\":\"#EF553B\"},\"mode\":\"lines+markers\",\"opacity\":0.5,\"showlegend\":false,\"x\":[1.073611111111111,2.0680555555555555,4.0777777777777775,6.063888888888889,8.090277777777779,10.084722222222222,15.098611111111111],\"y\":[0.034,0.04,0.06,0.077,0.095,0.106,0.126],\"type\":\"scatter\"},{\"legendgroup\":\"1\",\"marker\":{\"color\":\"#EF553B\"},\"mode\":\"lines+markers\",\"opacity\":0.5,\"showlegend\":false,\"x\":[1.1319444444444444,2.125,4.143055555555556,6.120833333333334,8.180555555555555,10.158333333333333,15.2],\"y\":[0.038,0.047,0.064,0.087,0.1,0.114,0.163],\"type\":\"scatter\"},{\"legendgroup\":\"1\",\"marker\":{\"color\":\"#EF553B\"},\"mode\":\"lines+markers\",\"opacity\":0.5,\"showlegend\":false,\"x\":[1.1319444444444444,2.125,4.143055555555556,6.120833333333334,8.180555555555555,10.158333333333333,15.2],\"y\":[0.0194,0.021,0.032,0.045,0.058,0.064,0.102],\"type\":\"scatter\"},{\"legendgroup\":\"1\",\"marker\":{\"color\":\"#EF553B\"},\"mode\":\"lines+markers\",\"opacity\":0.5,\"showlegend\":false,\"x\":[1.1916666666666667,2.1847222222222222,4.205555555555556,6.180555555555555,8.256944444444445,10.233333333333333,15.291666666666666],\"y\":[0.054,0.054,0.083,0.098,0.1,0.141,0.15],\"type\":\"scatter\"},{\"legendgroup\":\"1\",\"marker\":{\"color\":\"#EF553B\"},\"mode\":\"lines+markers\",\"opacity\":0.5,\"showlegend\":false,\"x\":[1.2513888888888889,2.2416666666666667,4.273611111111111,6.2375,8.338888888888889,10.306944444444444,15.381944444444445],\"y\":[0.032,0.039,0.073,0.111,0.145,0.169,0.2],\"type\":\"scatter\"},{\"legendgroup\":\"1\",\"marker\":{\"color\":\"#EF553B\"},\"mode\":\"lines+markers\",\"opacity\":0.5,\"showlegend\":false,\"x\":[1.2513888888888889,2.2416666666666667,4.273611111111111,6.2375,8.338888888888889,10.306944444444444,15.381944444444445],\"y\":[0.042,0.047,0.069,0.084,0.092,0.105,0.109],\"type\":\"scatter\"},{\"legendgroup\":\"1\",\"marker\":{\"color\":\"#EF553B\"},\"mode\":\"lines+markers\",\"opacity\":0.5,\"showlegend\":false,\"x\":[1.3125,2.301388888888889,4.336111111111111,6.295833333333333,8.415277777777778,10.383333333333333,15.472222222222221],\"y\":[0.05,0.063,0.093,0.116,0.139,0.146,0.137],\"type\":\"scatter\"},{\"legendgroup\":\"1\",\"marker\":{\"color\":\"#EF553B\"},\"mode\":\"lines+markers\",\"opacity\":0.5,\"showlegend\":false,\"x\":[1.3125,2.301388888888889,4.336111111111111,6.295833333333333,8.415277777777778,10.383333333333333,15.472222222222221],\"y\":[0.021,0.026,0.027,0.028,0.028,0.036,0.037],\"type\":\"scatter\"},{\"legendgroup\":\"1\",\"marker\":{\"color\":\"#EF553B\"},\"mode\":\"lines+markers\",\"opacity\":0.5,\"showlegend\":false,\"x\":[1.3736111111111111,2.3694444444444445,4.409722222222222,6.358333333333333,8.501388888888888,10.466666666666667,15.568055555555556],\"y\":[0.039,0.052,0.071,0.098,0.109,0.115,0.145],\"type\":\"scatter\"},{\"legendgroup\":\"1\",\"marker\":{\"color\":\"#EF553B\"},\"mode\":\"lines+markers\",\"opacity\":0.5,\"showlegend\":false,\"x\":[1.3736111111111111,2.3694444444444445,4.409722222222222,8.501388888888888,10.466666666666667,15.568055555555556],\"y\":[0.049,0.069,0.1,0.135,0.143,0.158],\"type\":\"scatter\"},{\"legendgroup\":\"1\",\"marker\":{\"color\":\"#EF553B\"},\"mode\":\"lines+markers\",\"opacity\":0.5,\"showlegend\":false,\"x\":[1.4375,2.4305555555555554,4.475,6.416666666666667,8.581944444444444,10.541666666666666,15.658333333333333],\"y\":[0.023,0.024,0.039,0.052,0.068,0.077,0.124],\"type\":\"scatter\"},{\"legendgroup\":\"1\",\"marker\":{\"color\":\"#EF553B\"},\"mode\":\"lines+markers\",\"opacity\":0.5,\"showlegend\":false,\"x\":[1.0055555555555555,2.011111111111111,4.018055555555556,6.008333333333334,8.016666666666667,10.011111111111111,15.016666666666667],\"y\":[0.0025,0.0033,0.0106,0.0172,0.024,0.03,0.042],\"type\":\"scatter\"},{\"legendgroup\":\"1\",\"marker\":{\"color\":\"#EF553B\"},\"mode\":\"lines+markers\",\"opacity\":0.5,\"showlegend\":false,\"x\":[1.0055555555555555,2.011111111111111,4.018055555555556,6.008333333333334,8.016666666666667,10.011111111111111,15.016666666666667],\"y\":[0.0035,0.0056,0.0102,0.0122,0.0127,0.0129,0.0125],\"type\":\"scatter\"},{\"legendgroup\":\"1\",\"marker\":{\"color\":\"#EF553B\"},\"mode\":\"lines+markers\",\"opacity\":0.5,\"showlegend\":false,\"x\":[4.0777777777777775,6.063888888888889,8.090277777777779,10.084722222222222,15.098611111111111],\"y\":[0.0053,0.011,0.0175,0.023,0.037],\"type\":\"scatter\"},{\"legendgroup\":\"1\",\"marker\":{\"color\":\"#EF553B\"},\"mode\":\"lines+markers\",\"opacity\":0.5,\"showlegend\":false,\"x\":[1.073611111111111,2.0680555555555555,4.0777777777777775,6.063888888888889,8.090277777777779,10.084722222222222,15.098611111111111],\"y\":[0.0026,0.0027,0.0028,0.0037,0.0116,0.02,0.054],\"type\":\"scatter\"},{\"legendgroup\":\"1\",\"marker\":{\"color\":\"#EF553B\"},\"mode\":\"lines+markers\",\"opacity\":0.5,\"showlegend\":false,\"x\":[1.1319444444444444,2.125,4.143055555555556,6.120833333333334,8.180555555555555,10.158333333333333,15.2],\"y\":[0.0056,0.0116,0.03,0.045,0.053,0.057,0.056],\"type\":\"scatter\"},{\"legendgroup\":\"1\",\"marker\":{\"color\":\"#EF553B\"},\"mode\":\"lines+markers\",\"opacity\":0.5,\"showlegend\":false,\"x\":[1.1319444444444444,2.125,4.143055555555556,6.120833333333334,8.180555555555555,10.158333333333333,15.2],\"y\":[0.0028,0.0028,0.0077,0.02,0.038,0.049,0.092],\"type\":\"scatter\"},{\"legendgroup\":\"1\",\"marker\":{\"color\":\"#EF553B\"},\"mode\":\"lines+markers\",\"opacity\":0.5,\"showlegend\":false,\"x\":[1.1916666666666667,2.1847222222222222,4.205555555555556,6.180555555555555,8.256944444444445,10.233333333333333,15.291666666666666],\"y\":[0.0047,0.0077,0.035,0.058,0.083,0.099,0.157],\"type\":\"scatter\"},{\"legendgroup\":\"1\",\"marker\":{\"color\":\"#EF553B\"},\"mode\":\"lines+markers\",\"opacity\":0.5,\"showlegend\":false,\"x\":[4.273611111111111,6.2375,8.338888888888889,10.306944444444444,15.381944444444445],\"y\":[0.0071,0.04,0.094,0.117,0.139],\"type\":\"scatter\"},{\"legendgroup\":\"1\",\"marker\":{\"color\":\"#EF553B\"},\"mode\":\"lines+markers\",\"opacity\":0.5,\"showlegend\":false,\"x\":[1.2513888888888889,2.2416666666666667,4.273611111111111,6.2375,8.338888888888889,10.306944444444444,15.381944444444445],\"y\":[0.0033,0.0041,0.0065,0.0094,0.0128,0.0193,0.031],\"type\":\"scatter\"},{\"legendgroup\":\"1\",\"marker\":{\"color\":\"#EF553B\"},\"mode\":\"lines+markers\",\"opacity\":0.5,\"showlegend\":false,\"x\":[1.3125,2.301388888888889,4.336111111111111,6.295833333333333,10.383333333333333],\"y\":[0.0035,0.0042,0.0053,0.0062,0.0058],\"type\":\"scatter\"},{\"legendgroup\":\"1\",\"marker\":{\"color\":\"#EF553B\"},\"mode\":\"lines+markers\",\"opacity\":0.5,\"showlegend\":false,\"x\":[6.358333333333333,8.501388888888888,10.466666666666667,15.568055555555556],\"y\":[0.0152,0.029,0.042,0.072],\"type\":\"scatter\"},{\"legendgroup\":\"1\",\"marker\":{\"color\":\"#EF553B\"},\"mode\":\"lines+markers\",\"opacity\":0.5,\"showlegend\":false,\"x\":[1.3736111111111111,2.3694444444444445,4.409722222222222,6.358333333333333,8.501388888888888,10.466666666666667,15.568055555555556],\"y\":[0.0088,0.0191,0.065,0.095,0.115,0.128,0.124],\"type\":\"scatter\"},{\"legendgroup\":\"1\",\"marker\":{\"color\":\"#EF553B\"},\"mode\":\"lines+markers\",\"opacity\":0.5,\"showlegend\":false,\"x\":[6.416666666666667,8.581944444444444,10.541666666666666,15.658333333333333],\"y\":[0.0147,0.03,0.046,0.09],\"type\":\"scatter\"},{\"legendgroup\":\"1\",\"marker\":{\"color\":\"#EF553B\"},\"mode\":\"lines+markers\",\"opacity\":0.5,\"showlegend\":false,\"x\":[1.0055555555555555,2.011111111111111,4.018055555555556,6.008333333333334,8.016666666666667,10.011111111111111,15.016666666666667],\"y\":[0.0025,0.0027,0.0029,0.0035,0.0042,0.0047,0.0074],\"type\":\"scatter\"},{\"legendgroup\":\"1\",\"marker\":{\"color\":\"#EF553B\"},\"mode\":\"lines+markers\",\"opacity\":0.5,\"showlegend\":false,\"x\":[1.0055555555555555,2.011111111111111,4.018055555555556,6.008333333333334,8.016666666666667,10.011111111111111,15.016666666666667],\"y\":[0.0026,0.0034,0.0048,0.0069,0.0077,0.0095,0.0118],\"type\":\"scatter\"},{\"legendgroup\":\"1\",\"marker\":{\"color\":\"#EF553B\"},\"mode\":\"lines+markers\",\"opacity\":0.5,\"showlegend\":false,\"x\":[1.073611111111111,2.0680555555555555,4.0777777777777775,6.063888888888889,8.090277777777779,10.084722222222222,15.098611111111111],\"y\":[0.0025,0.003,0.004,0.0048,0.009,0.0092,0.0108],\"type\":\"scatter\"},{\"legendgroup\":\"1\",\"marker\":{\"color\":\"#EF553B\"},\"name\":\"Mn over time\",\"x\":[null],\"y\":[null],\"type\":\"scatter\"},{\"legendgroup\":\"2\",\"marker\":{\"color\":\"#00CC96\"},\"mode\":\"lines+markers\",\"opacity\":0.5,\"showlegend\":false,\"x\":[1.0055555555555555,2.011111111111111,4.018055555555556,6.008333333333334,8.016666666666667,10.011111111111111,15.016666666666667],\"y\":[0.032,0.038,0.056,0.07,0.085,0.098,0.127],\"type\":\"scatter\"},{\"legendgroup\":\"2\",\"marker\":{\"color\":\"#00CC96\"},\"mode\":\"lines+markers\",\"opacity\":0.5,\"showlegend\":false,\"x\":[1.0055555555555555,2.011111111111111,6.008333333333334,8.016666666666667,10.011111111111111,15.016666666666667],\"y\":[0.041,0.049,0.082,0.093,0.103,0.121],\"type\":\"scatter\"},{\"legendgroup\":\"2\",\"marker\":{\"color\":\"#00CC96\"},\"mode\":\"lines+markers\",\"opacity\":0.5,\"showlegend\":false,\"x\":[1.073611111111111,2.0680555555555555,4.0777777777777775,6.063888888888889,8.090277777777779,10.084722222222222,15.098611111111111],\"y\":[0.0198,0.024,0.035,0.046,0.059,0.064,0.107],\"type\":\"scatter\"},{\"legendgroup\":\"2\",\"marker\":{\"color\":\"#00CC96\"},\"mode\":\"lines+markers\",\"opacity\":0.5,\"showlegend\":false,\"x\":[1.073611111111111,2.0680555555555555,4.0777777777777775,6.063888888888889,8.090277777777779,10.084722222222222,15.098611111111111],\"y\":[0.043,0.049,0.076,0.099,0.12,0.133,0.178],\"type\":\"scatter\"},{\"legendgroup\":\"2\",\"marker\":{\"color\":\"#00CC96\"},\"mode\":\"lines+markers\",\"opacity\":0.5,\"showlegend\":false,\"x\":[1.1319444444444444,2.125,4.143055555555556,6.120833333333334,8.180555555555555,10.158333333333333,15.2],\"y\":[0.051,0.058,0.072,0.093,0.116,0.141,0.22],\"type\":\"scatter\"},{\"legendgroup\":\"2\",\"marker\":{\"color\":\"#00CC96\"},\"mode\":\"lines+markers\",\"opacity\":0.5,\"showlegend\":false,\"x\":[1.1319444444444444,2.125,4.143055555555556,6.120833333333334,8.180555555555555,10.158333333333333,15.2],\"y\":[0.024,0.027,0.04,0.055,0.071,0.084,0.128],\"type\":\"scatter\"},{\"legendgroup\":\"2\",\"marker\":{\"color\":\"#00CC96\"},\"mode\":\"lines+markers\",\"opacity\":0.5,\"showlegend\":false,\"x\":[1.1916666666666667,2.1847222222222222,4.205555555555556,8.256944444444445,10.233333333333333,15.291666666666666],\"y\":[0.067,0.064,0.091,0.13,0.21,0.21],\"type\":\"scatter\"},{\"legendgroup\":\"2\",\"marker\":{\"color\":\"#00CC96\"},\"mode\":\"lines+markers\",\"opacity\":0.5,\"showlegend\":false,\"x\":[1.2513888888888889,2.2416666666666667,4.273611111111111,6.2375,8.338888888888889,10.306944444444444,15.381944444444445],\"y\":[0.041,0.047,0.088,0.132,0.17,0.199,0.25],\"type\":\"scatter\"},{\"legendgroup\":\"2\",\"marker\":{\"color\":\"#00CC96\"},\"mode\":\"lines+markers\",\"opacity\":0.5,\"showlegend\":false,\"x\":[1.2513888888888889,2.2416666666666667,4.273611111111111,6.2375,8.338888888888889,10.306944444444444,15.381944444444445],\"y\":[0.056,0.063,0.089,0.11,0.127,0.14,0.168],\"type\":\"scatter\"},{\"legendgroup\":\"2\",\"marker\":{\"color\":\"#00CC96\"},\"mode\":\"lines+markers\",\"opacity\":0.5,\"showlegend\":false,\"x\":[1.3125,2.301388888888889,4.336111111111111,6.295833333333333,8.415277777777778,10.383333333333333,15.472222222222221],\"y\":[0.069,0.085,0.121,0.15,0.175,0.192,0.21],\"type\":\"scatter\"},{\"legendgroup\":\"2\",\"marker\":{\"color\":\"#00CC96\"},\"mode\":\"lines+markers\",\"opacity\":0.5,\"showlegend\":false,\"x\":[1.3125,2.301388888888889,4.336111111111111,6.295833333333333,8.415277777777778,10.383333333333333,15.472222222222221],\"y\":[0.029,0.032,0.033,0.034,0.035,0.041,0.049],\"type\":\"scatter\"},{\"legendgroup\":\"2\",\"marker\":{\"color\":\"#00CC96\"},\"mode\":\"lines+markers\",\"opacity\":0.5,\"showlegend\":false,\"x\":[1.3736111111111111,2.3694444444444445,4.409722222222222,6.358333333333333,8.501388888888888,10.466666666666667,15.568055555555556],\"y\":[0.055,0.065,0.093,0.121,0.141,0.155,0.2],\"type\":\"scatter\"},{\"legendgroup\":\"2\",\"marker\":{\"color\":\"#00CC96\"},\"mode\":\"lines+markers\",\"opacity\":0.5,\"showlegend\":false,\"x\":[1.3736111111111111,2.3694444444444445,4.409722222222222,8.501388888888888,10.466666666666667,15.568055555555556],\"y\":[0.069,0.09,0.125,0.167,0.177,0.194],\"type\":\"scatter\"},{\"legendgroup\":\"2\",\"marker\":{\"color\":\"#00CC96\"},\"mode\":\"lines+markers\",\"opacity\":0.5,\"showlegend\":false,\"x\":[1.4375,2.4305555555555554,4.475,6.416666666666667,8.581944444444444,10.541666666666666,15.658333333333333],\"y\":[0.031,0.032,0.05,0.068,0.089,0.103,0.179],\"type\":\"scatter\"},{\"legendgroup\":\"2\",\"marker\":{\"color\":\"#00CC96\"},\"mode\":\"lines+markers\",\"opacity\":0.5,\"showlegend\":false,\"x\":[1.0055555555555555,2.011111111111111,4.018055555555556,6.008333333333334,8.016666666666667,10.011111111111111,15.016666666666667],\"y\":[0.0026,0.0036,0.0115,0.0191,0.03,0.044,0.055],\"type\":\"scatter\"},{\"legendgroup\":\"2\",\"marker\":{\"color\":\"#00CC96\"},\"mode\":\"lines+markers\",\"opacity\":0.5,\"showlegend\":false,\"x\":[1.0055555555555555,2.011111111111111,4.018055555555556,6.008333333333334,8.016666666666667,10.011111111111111,15.016666666666667],\"y\":[0.0036,0.0063,0.0112,0.0132,0.0136,0.0137,0.0133],\"type\":\"scatter\"},{\"legendgroup\":\"2\",\"marker\":{\"color\":\"#00CC96\"},\"mode\":\"lines+markers\",\"opacity\":0.5,\"showlegend\":false,\"x\":[4.0777777777777775,6.063888888888889,8.090277777777779,10.084722222222222,15.098611111111111],\"y\":[0.0061,0.0121,0.0191,0.025,0.051],\"type\":\"scatter\"},{\"legendgroup\":\"2\",\"marker\":{\"color\":\"#00CC96\"},\"mode\":\"lines+markers\",\"opacity\":0.5,\"showlegend\":false,\"x\":[1.073611111111111,2.0680555555555555,4.0777777777777775,6.063888888888889,8.090277777777779,10.084722222222222,15.098611111111111],\"y\":[0.0027,0.0027,0.003,0.0042,0.013,0.022,0.059],\"type\":\"scatter\"},{\"legendgroup\":\"2\",\"marker\":{\"color\":\"#00CC96\"},\"mode\":\"lines+markers\",\"opacity\":0.5,\"showlegend\":false,\"x\":[1.1319444444444444,2.125,4.143055555555556,6.120833333333334,8.180555555555555,10.158333333333333,15.2],\"y\":[0.0066,0.0122,0.033,0.048,0.06,0.065,0.073],\"type\":\"scatter\"},{\"legendgroup\":\"2\",\"marker\":{\"color\":\"#00CC96\"},\"mode\":\"lines+markers\",\"opacity\":0.5,\"showlegend\":false,\"x\":[1.1319444444444444,2.125,4.143055555555556,6.120833333333334,8.180555555555555,10.158333333333333,15.2],\"y\":[0.0029,0.0029,0.0084,0.022,0.042,0.057,0.113],\"type\":\"scatter\"},{\"legendgroup\":\"2\",\"marker\":{\"color\":\"#00CC96\"},\"mode\":\"lines+markers\",\"opacity\":0.5,\"showlegend\":false,\"x\":[1.1916666666666667,2.1847222222222222,4.205555555555556,6.180555555555555,8.256944444444445,10.233333333333333,15.291666666666666],\"y\":[0.0051,0.008,0.038,0.062,0.113,0.162,0.31],\"type\":\"scatter\"},{\"legendgroup\":\"2\",\"marker\":{\"color\":\"#00CC96\"},\"mode\":\"lines+markers\",\"opacity\":0.5,\"showlegend\":false,\"x\":[4.273611111111111,6.2375,8.338888888888889,10.306944444444444,15.381944444444445],\"y\":[0.0071,0.045,0.105,0.143,0.169],\"type\":\"scatter\"},{\"legendgroup\":\"2\",\"marker\":{\"color\":\"#00CC96\"},\"mode\":\"lines+markers\",\"opacity\":0.5,\"showlegend\":false,\"x\":[1.2513888888888889,2.2416666666666667,4.273611111111111,6.2375,8.338888888888889,10.306944444444444,15.381944444444445],\"y\":[0.0036,0.0045,0.0072,0.011,0.0155,0.021,0.036],\"type\":\"scatter\"},{\"legendgroup\":\"2\",\"marker\":{\"color\":\"#00CC96\"},\"mode\":\"lines+markers\",\"opacity\":0.5,\"showlegend\":false,\"x\":[1.3125,2.301388888888889,4.336111111111111,6.295833333333333,10.383333333333333],\"y\":[0.0038,0.0046,0.0056,0.0067,0.0061],\"type\":\"scatter\"},{\"legendgroup\":\"2\",\"marker\":{\"color\":\"#00CC96\"},\"mode\":\"lines+markers\",\"opacity\":0.5,\"showlegend\":false,\"x\":[6.358333333333333,8.501388888888888,10.466666666666667,15.568055555555556],\"y\":[0.0166,0.034,0.047,0.096],\"type\":\"scatter\"},{\"legendgroup\":\"2\",\"marker\":{\"color\":\"#00CC96\"},\"mode\":\"lines+markers\",\"opacity\":0.5,\"showlegend\":false,\"x\":[1.3736111111111111,4.409722222222222,6.358333333333333,8.501388888888888,10.466666666666667,15.568055555555556],\"y\":[0.01,0.072,0.107,0.132,0.149,0.183],\"type\":\"scatter\"},{\"legendgroup\":\"2\",\"marker\":{\"color\":\"#00CC96\"},\"mode\":\"lines+markers\",\"opacity\":0.5,\"showlegend\":false,\"x\":[6.416666666666667,8.581944444444444,10.541666666666666,15.658333333333333],\"y\":[0.0162,0.034,0.05,0.119],\"type\":\"scatter\"},{\"legendgroup\":\"2\",\"marker\":{\"color\":\"#00CC96\"},\"mode\":\"lines+markers\",\"opacity\":0.5,\"showlegend\":false,\"x\":[1.0055555555555555,2.011111111111111,4.018055555555556,6.008333333333334,8.016666666666667,10.011111111111111,15.016666666666667],\"y\":[0.0027,0.0029,0.0032,0.0038,0.0048,0.0055,0.01],\"type\":\"scatter\"},{\"legendgroup\":\"2\",\"marker\":{\"color\":\"#00CC96\"},\"mode\":\"lines+markers\",\"opacity\":0.5,\"showlegend\":false,\"x\":[1.0055555555555555,2.011111111111111,4.018055555555556,6.008333333333334,8.016666666666667,10.011111111111111,15.016666666666667],\"y\":[0.0028,0.0036,0.0055,0.0078,0.0094,0.0113,0.0147],\"type\":\"scatter\"},{\"legendgroup\":\"2\",\"marker\":{\"color\":\"#00CC96\"},\"mode\":\"lines+markers\",\"opacity\":0.5,\"showlegend\":false,\"x\":[1.073611111111111,2.0680555555555555,4.0777777777777775,6.063888888888889,8.090277777777779,10.084722222222222,15.098611111111111],\"y\":[0.0027,0.0032,0.0046,0.0061,0.0094,0.0113,0.018],\"type\":\"scatter\"},{\"legendgroup\":\"2\",\"marker\":{\"color\":\"#00CC96\"},\"name\":\"Mw over time\",\"x\":[null],\"y\":[null],\"type\":\"scatter\"},{\"legendgroup\":\"threshold\",\"line\":{\"dash\":\"dash\"},\"mode\":\"lines\",\"name\":\"SEC limit\",\"x\":[0,16],\"y\":[0.01,0.01],\"type\":\"scatter\"}],                        {\"template\":{\"data\":{\"histogram2dcontour\":[{\"type\":\"histogram2dcontour\",\"colorbar\":{\"outlinewidth\":0,\"ticks\":\"\"},\"colorscale\":[[0.0,\"#0d0887\"],[0.1111111111111111,\"#46039f\"],[0.2222222222222222,\"#7201a8\"],[0.3333333333333333,\"#9c179e\"],[0.4444444444444444,\"#bd3786\"],[0.5555555555555556,\"#d8576b\"],[0.6666666666666666,\"#ed7953\"],[0.7777777777777778,\"#fb9f3a\"],[0.8888888888888888,\"#fdca26\"],[1.0,\"#f0f921\"]]}],\"choropleth\":[{\"type\":\"choropleth\",\"colorbar\":{\"outlinewidth\":0,\"ticks\":\"\"}}],\"histogram2d\":[{\"type\":\"histogram2d\",\"colorbar\":{\"outlinewidth\":0,\"ticks\":\"\"},\"colorscale\":[[0.0,\"#0d0887\"],[0.1111111111111111,\"#46039f\"],[0.2222222222222222,\"#7201a8\"],[0.3333333333333333,\"#9c179e\"],[0.4444444444444444,\"#bd3786\"],[0.5555555555555556,\"#d8576b\"],[0.6666666666666666,\"#ed7953\"],[0.7777777777777778,\"#fb9f3a\"],[0.8888888888888888,\"#fdca26\"],[1.0,\"#f0f921\"]]}],\"heatmap\":[{\"type\":\"heatmap\",\"colorbar\":{\"outlinewidth\":0,\"ticks\":\"\"},\"colorscale\":[[0.0,\"#0d0887\"],[0.1111111111111111,\"#46039f\"],[0.2222222222222222,\"#7201a8\"],[0.3333333333333333,\"#9c179e\"],[0.4444444444444444,\"#bd3786\"],[0.5555555555555556,\"#d8576b\"],[0.6666666666666666,\"#ed7953\"],[0.7777777777777778,\"#fb9f3a\"],[0.8888888888888888,\"#fdca26\"],[1.0,\"#f0f921\"]]}],\"heatmapgl\":[{\"type\":\"heatmapgl\",\"colorbar\":{\"outlinewidth\":0,\"ticks\":\"\"},\"colorscale\":[[0.0,\"#0d0887\"],[0.1111111111111111,\"#46039f\"],[0.2222222222222222,\"#7201a8\"],[0.3333333333333333,\"#9c179e\"],[0.4444444444444444,\"#bd3786\"],[0.5555555555555556,\"#d8576b\"],[0.6666666666666666,\"#ed7953\"],[0.7777777777777778,\"#fb9f3a\"],[0.8888888888888888,\"#fdca26\"],[1.0,\"#f0f921\"]]}],\"contourcarpet\":[{\"type\":\"contourcarpet\",\"colorbar\":{\"outlinewidth\":0,\"ticks\":\"\"}}],\"contour\":[{\"type\":\"contour\",\"colorbar\":{\"outlinewidth\":0,\"ticks\":\"\"},\"colorscale\":[[0.0,\"#0d0887\"],[0.1111111111111111,\"#46039f\"],[0.2222222222222222,\"#7201a8\"],[0.3333333333333333,\"#9c179e\"],[0.4444444444444444,\"#bd3786\"],[0.5555555555555556,\"#d8576b\"],[0.6666666666666666,\"#ed7953\"],[0.7777777777777778,\"#fb9f3a\"],[0.8888888888888888,\"#fdca26\"],[1.0,\"#f0f921\"]]}],\"surface\":[{\"type\":\"surface\",\"colorbar\":{\"outlinewidth\":0,\"ticks\":\"\"},\"colorscale\":[[0.0,\"#0d0887\"],[0.1111111111111111,\"#46039f\"],[0.2222222222222222,\"#7201a8\"],[0.3333333333333333,\"#9c179e\"],[0.4444444444444444,\"#bd3786\"],[0.5555555555555556,\"#d8576b\"],[0.6666666666666666,\"#ed7953\"],[0.7777777777777778,\"#fb9f3a\"],[0.8888888888888888,\"#fdca26\"],[1.0,\"#f0f921\"]]}],\"mesh3d\":[{\"type\":\"mesh3d\",\"colorbar\":{\"outlinewidth\":0,\"ticks\":\"\"}}],\"scatter\":[{\"fillpattern\":{\"fillmode\":\"overlay\",\"size\":10,\"solidity\":0.2},\"type\":\"scatter\"}],\"parcoords\":[{\"type\":\"parcoords\",\"line\":{\"colorbar\":{\"outlinewidth\":0,\"ticks\":\"\"}}}],\"scatterpolargl\":[{\"type\":\"scatterpolargl\",\"marker\":{\"colorbar\":{\"outlinewidth\":0,\"ticks\":\"\"}}}],\"bar\":[{\"error_x\":{\"color\":\"#2a3f5f\"},\"error_y\":{\"color\":\"#2a3f5f\"},\"marker\":{\"line\":{\"color\":\"#E5ECF6\",\"width\":0.5},\"pattern\":{\"fillmode\":\"overlay\",\"size\":10,\"solidity\":0.2}},\"type\":\"bar\"}],\"scattergeo\":[{\"type\":\"scattergeo\",\"marker\":{\"colorbar\":{\"outlinewidth\":0,\"ticks\":\"\"}}}],\"scatterpolar\":[{\"type\":\"scatterpolar\",\"marker\":{\"colorbar\":{\"outlinewidth\":0,\"ticks\":\"\"}}}],\"histogram\":[{\"marker\":{\"pattern\":{\"fillmode\":\"overlay\",\"size\":10,\"solidity\":0.2}},\"type\":\"histogram\"}],\"scattergl\":[{\"type\":\"scattergl\",\"marker\":{\"colorbar\":{\"outlinewidth\":0,\"ticks\":\"\"}}}],\"scatter3d\":[{\"type\":\"scatter3d\",\"line\":{\"colorbar\":{\"outlinewidth\":0,\"ticks\":\"\"}},\"marker\":{\"colorbar\":{\"outlinewidth\":0,\"ticks\":\"\"}}}],\"scattermapbox\":[{\"type\":\"scattermapbox\",\"marker\":{\"colorbar\":{\"outlinewidth\":0,\"ticks\":\"\"}}}],\"scatterternary\":[{\"type\":\"scatterternary\",\"marker\":{\"colorbar\":{\"outlinewidth\":0,\"ticks\":\"\"}}}],\"scattercarpet\":[{\"type\":\"scattercarpet\",\"marker\":{\"colorbar\":{\"outlinewidth\":0,\"ticks\":\"\"}}}],\"carpet\":[{\"aaxis\":{\"endlinecolor\":\"#2a3f5f\",\"gridcolor\":\"white\",\"linecolor\":\"white\",\"minorgridcolor\":\"white\",\"startlinecolor\":\"#2a3f5f\"},\"baxis\":{\"endlinecolor\":\"#2a3f5f\",\"gridcolor\":\"white\",\"linecolor\":\"white\",\"minorgridcolor\":\"white\",\"startlinecolor\":\"#2a3f5f\"},\"type\":\"carpet\"}],\"table\":[{\"cells\":{\"fill\":{\"color\":\"#EBF0F8\"},\"line\":{\"color\":\"white\"}},\"header\":{\"fill\":{\"color\":\"#C8D4E3\"},\"line\":{\"color\":\"white\"}},\"type\":\"table\"}],\"barpolar\":[{\"marker\":{\"line\":{\"color\":\"#E5ECF6\",\"width\":0.5},\"pattern\":{\"fillmode\":\"overlay\",\"size\":10,\"solidity\":0.2}},\"type\":\"barpolar\"}],\"pie\":[{\"automargin\":true,\"type\":\"pie\"}]},\"layout\":{\"autotypenumbers\":\"strict\",\"colorway\":[\"#636efa\",\"#EF553B\",\"#00cc96\",\"#ab63fa\",\"#FFA15A\",\"#19d3f3\",\"#FF6692\",\"#B6E880\",\"#FF97FF\",\"#FECB52\"],\"font\":{\"color\":\"#2a3f5f\"},\"hovermode\":\"closest\",\"hoverlabel\":{\"align\":\"left\"},\"paper_bgcolor\":\"white\",\"plot_bgcolor\":\"#E5ECF6\",\"polar\":{\"bgcolor\":\"#E5ECF6\",\"angularaxis\":{\"gridcolor\":\"white\",\"linecolor\":\"white\",\"ticks\":\"\"},\"radialaxis\":{\"gridcolor\":\"white\",\"linecolor\":\"white\",\"ticks\":\"\"}},\"ternary\":{\"bgcolor\":\"#E5ECF6\",\"aaxis\":{\"gridcolor\":\"white\",\"linecolor\":\"white\",\"ticks\":\"\"},\"baxis\":{\"gridcolor\":\"white\",\"linecolor\":\"white\",\"ticks\":\"\"},\"caxis\":{\"gridcolor\":\"white\",\"linecolor\":\"white\",\"ticks\":\"\"}},\"coloraxis\":{\"colorbar\":{\"outlinewidth\":0,\"ticks\":\"\"}},\"colorscale\":{\"sequential\":[[0.0,\"#0d0887\"],[0.1111111111111111,\"#46039f\"],[0.2222222222222222,\"#7201a8\"],[0.3333333333333333,\"#9c179e\"],[0.4444444444444444,\"#bd3786\"],[0.5555555555555556,\"#d8576b\"],[0.6666666666666666,\"#ed7953\"],[0.7777777777777778,\"#fb9f3a\"],[0.8888888888888888,\"#fdca26\"],[1.0,\"#f0f921\"]],\"sequentialminus\":[[0.0,\"#0d0887\"],[0.1111111111111111,\"#46039f\"],[0.2222222222222222,\"#7201a8\"],[0.3333333333333333,\"#9c179e\"],[0.4444444444444444,\"#bd3786\"],[0.5555555555555556,\"#d8576b\"],[0.6666666666666666,\"#ed7953\"],[0.7777777777777778,\"#fb9f3a\"],[0.8888888888888888,\"#fdca26\"],[1.0,\"#f0f921\"]],\"diverging\":[[0,\"#8e0152\"],[0.1,\"#c51b7d\"],[0.2,\"#de77ae\"],[0.3,\"#f1b6da\"],[0.4,\"#fde0ef\"],[0.5,\"#f7f7f7\"],[0.6,\"#e6f5d0\"],[0.7,\"#b8e186\"],[0.8,\"#7fbc41\"],[0.9,\"#4d9221\"],[1,\"#276419\"]]},\"xaxis\":{\"gridcolor\":\"white\",\"linecolor\":\"white\",\"ticks\":\"\",\"title\":{\"standoff\":15},\"zerolinecolor\":\"white\",\"automargin\":true,\"zerolinewidth\":2},\"yaxis\":{\"gridcolor\":\"white\",\"linecolor\":\"white\",\"ticks\":\"\",\"title\":{\"standoff\":15},\"zerolinecolor\":\"white\",\"automargin\":true,\"zerolinewidth\":2},\"scene\":{\"xaxis\":{\"backgroundcolor\":\"#E5ECF6\",\"gridcolor\":\"white\",\"linecolor\":\"white\",\"showbackground\":true,\"ticks\":\"\",\"zerolinecolor\":\"white\",\"gridwidth\":2},\"yaxis\":{\"backgroundcolor\":\"#E5ECF6\",\"gridcolor\":\"white\",\"linecolor\":\"white\",\"showbackground\":true,\"ticks\":\"\",\"zerolinecolor\":\"white\",\"gridwidth\":2},\"zaxis\":{\"backgroundcolor\":\"#E5ECF6\",\"gridcolor\":\"white\",\"linecolor\":\"white\",\"showbackground\":true,\"ticks\":\"\",\"zerolinecolor\":\"white\",\"gridwidth\":2}},\"shapedefaults\":{\"line\":{\"color\":\"#2a3f5f\"}},\"annotationdefaults\":{\"arrowcolor\":\"#2a3f5f\",\"arrowhead\":0,\"arrowwidth\":1},\"geo\":{\"bgcolor\":\"white\",\"landcolor\":\"#E5ECF6\",\"subunitcolor\":\"white\",\"showland\":true,\"showlakes\":true,\"lakecolor\":\"white\"},\"title\":{\"x\":0.05},\"mapbox\":{\"style\":\"light\"}}},\"xaxis\":{\"anchor\":\"y\",\"domain\":[0.0,1.0],\"title\":{\"text\":\"Time [h]\"}},\"yaxis\":{\"anchor\":\"x\",\"domain\":[0.0,1.0],\"title\":{\"text\":\"$\\\\text{Mn, Mw }[g\\u002fmol] \\\\cdot 10^{-5}\\u002f \\\\ [ \\\\%]$\"}},\"legend\":{\"tracegroupgap\":0,\"orientation\":\"h\",\"yanchor\":\"bottom\",\"y\":1.05,\"xanchor\":\"left\",\"x\":-0.1},\"title\":{\"text\":\"Mn Conversion difference\"}},                        {\"responsive\": true}                    ).then(function(){\n                            \nvar gd = document.getElementById('3465c078-6f97-493f-9180-8c9a88eab8f7');\nvar x = new MutationObserver(function (mutations, observer) {{\n        var display = window.getComputedStyle(gd).display;\n        if (!display || display === 'none') {{\n            console.log([gd, 'removed!']);\n            Plotly.purge(gd);\n            observer.disconnect();\n        }}\n}});\n\n// Listen for the removal of the full notebook cells\nvar notebookContainer = gd.closest('#notebook-container');\nif (notebookContainer) {{\n    x.observe(notebookContainer, {childList: true});\n}}\n\n// Listen for the clearing of the current output cell\nvar outputEl = gd.closest('.output');\nif (outputEl) {{\n    x.observe(outputEl, {childList: true});\n}}\n\n                        })                };                });            </script>        </div>"
     },
     "metadata": {},
     "output_type": "display_data"
    }
   ],
   "source": [
    "# plot Mn Conversion difference\n",
    "fig = px.line(title=\"Mn Conversion difference\")\n",
    "data_type_list = [\"conv_time_data\", \"Mn_time_data\", \"Mw_time_data\"]\n",
    "data_list_name = [\"conv over time\", \"Mn over time\", \"Mw over time\"]\n",
    "for idx, data in (enumerate(data_type_list)):\n",
    "    for kin in kinetics_df[data].head(30):\n",
    "        fig.add_scatter(x=kin[0], y=kin[1], mode=\"lines+markers\", opacity=0.5, marker=dict(color=colors[idx%len(colors)]), showlegend=False, legendgroup=str(idx))\n",
    "    # custom legend\n",
    "    fig.add_scatter(x=[None], y=[None], marker=dict(color=colors[idx%len(colors)]), name= data_list_name[idx], legendgroup=str(idx))\n",
    "# adding a threshold line because the SEC peaks smear into syspeak at that point\n",
    "fig.add_scatter(x=[0, 16], y=[1000*10**(-5), 1000*10**(-5)], mode=\"lines\", line=dict(dash=\"dash\"), name=\"SEC limit\", legendgroup=\"threshold\")\n",
    "fig.update_layout(legend=dict(orientation=\"h\", yanchor=\"bottom\", y=1.05, xanchor=\"left\", x=-0.1 ), yaxis_title=\"$\\\\text{Mn, Mw }[g/mol] \\cdot 10^{-5}/ \\ [ \\%]$\", xaxis_title=\"Time [h]\")"
   ],
   "metadata": {
    "collapsed": false,
    "pycharm": {
     "name": "#%%\n"
    }
   }
  },
  {
   "cell_type": "code",
   "execution_count": 73,
   "outputs": [],
   "source": [
    "# normalize the errors by dividing them by their respective standard deviation\n",
    "def normalize_errors(err):\n",
    "    return err / np.std(err)\n",
    "\n",
    "for error in [\"squared_error\", \"p1_variance\", \"p2_variance\", \"p1_p2_covariance\"]:\n",
    "    kinetics_df[error] = normalize_errors(kinetics_df[error])"
   ],
   "metadata": {
    "collapsed": false,
    "pycharm": {
     "name": "#%%\n"
    }
   }
  },
  {
   "cell_type": "code",
   "execution_count": 74,
   "outputs": [
    {
     "data": {
      "application/vnd.plotly.v1+json": {
       "data": [
        {
         "alignmentgroup": "True",
         "hovertemplate": "<extra></extra>",
         "legendgroup": "",
         "marker": {
          "color": "#636efa",
          "pattern": {
           "shape": ""
          }
         },
         "name": "",
         "offsetgroup": "",
         "orientation": "v",
         "showlegend": false,
         "textposition": "auto",
         "xaxis": "x",
         "yaxis": "y",
         "type": "bar"
        },
        {
         "marker": {
          "color": "green"
         },
         "name": "positive correlation",
         "x": [
          "squared_error/p1_variance",
          "squared_error/p2_variance",
          "squared_error/p1_p2_covariance",
          "p1_variance/p2_variance",
          "p1_variance/p1_p2_covariance",
          "p2_variance/p1_p2_covariance"
         ],
         "y": [
          6.477400438201634,
          36.99028498985006,
          -27.590070630610267,
          64.07727397788364,
          -205.08844485315444,
          -273.2737122701452
         ],
         "type": "bar"
        },
        {
         "marker": {
          "color": "crimson"
         },
         "name": "negative correlation",
         "x": [
          "squared_error/p1_variance",
          "squared_error/p2_variance",
          "squared_error/p1_p2_covariance",
          "p1_variance/p2_variance",
          "p1_variance/p1_p2_covariance",
          "p2_variance/p1_p2_covariance"
         ],
         "y": [
          -6.477400438201634,
          -36.99028498985006,
          27.590070630610267,
          -64.07727397788364,
          205.08844485315444,
          273.2737122701452
         ],
         "type": "bar"
        }
       ],
       "layout": {
        "template": {
         "data": {
          "histogram2dcontour": [
           {
            "type": "histogram2dcontour",
            "colorbar": {
             "outlinewidth": 0,
             "ticks": ""
            },
            "colorscale": [
             [
              0.0,
              "#0d0887"
             ],
             [
              0.1111111111111111,
              "#46039f"
             ],
             [
              0.2222222222222222,
              "#7201a8"
             ],
             [
              0.3333333333333333,
              "#9c179e"
             ],
             [
              0.4444444444444444,
              "#bd3786"
             ],
             [
              0.5555555555555556,
              "#d8576b"
             ],
             [
              0.6666666666666666,
              "#ed7953"
             ],
             [
              0.7777777777777778,
              "#fb9f3a"
             ],
             [
              0.8888888888888888,
              "#fdca26"
             ],
             [
              1.0,
              "#f0f921"
             ]
            ]
           }
          ],
          "choropleth": [
           {
            "type": "choropleth",
            "colorbar": {
             "outlinewidth": 0,
             "ticks": ""
            }
           }
          ],
          "histogram2d": [
           {
            "type": "histogram2d",
            "colorbar": {
             "outlinewidth": 0,
             "ticks": ""
            },
            "colorscale": [
             [
              0.0,
              "#0d0887"
             ],
             [
              0.1111111111111111,
              "#46039f"
             ],
             [
              0.2222222222222222,
              "#7201a8"
             ],
             [
              0.3333333333333333,
              "#9c179e"
             ],
             [
              0.4444444444444444,
              "#bd3786"
             ],
             [
              0.5555555555555556,
              "#d8576b"
             ],
             [
              0.6666666666666666,
              "#ed7953"
             ],
             [
              0.7777777777777778,
              "#fb9f3a"
             ],
             [
              0.8888888888888888,
              "#fdca26"
             ],
             [
              1.0,
              "#f0f921"
             ]
            ]
           }
          ],
          "heatmap": [
           {
            "type": "heatmap",
            "colorbar": {
             "outlinewidth": 0,
             "ticks": ""
            },
            "colorscale": [
             [
              0.0,
              "#0d0887"
             ],
             [
              0.1111111111111111,
              "#46039f"
             ],
             [
              0.2222222222222222,
              "#7201a8"
             ],
             [
              0.3333333333333333,
              "#9c179e"
             ],
             [
              0.4444444444444444,
              "#bd3786"
             ],
             [
              0.5555555555555556,
              "#d8576b"
             ],
             [
              0.6666666666666666,
              "#ed7953"
             ],
             [
              0.7777777777777778,
              "#fb9f3a"
             ],
             [
              0.8888888888888888,
              "#fdca26"
             ],
             [
              1.0,
              "#f0f921"
             ]
            ]
           }
          ],
          "heatmapgl": [
           {
            "type": "heatmapgl",
            "colorbar": {
             "outlinewidth": 0,
             "ticks": ""
            },
            "colorscale": [
             [
              0.0,
              "#0d0887"
             ],
             [
              0.1111111111111111,
              "#46039f"
             ],
             [
              0.2222222222222222,
              "#7201a8"
             ],
             [
              0.3333333333333333,
              "#9c179e"
             ],
             [
              0.4444444444444444,
              "#bd3786"
             ],
             [
              0.5555555555555556,
              "#d8576b"
             ],
             [
              0.6666666666666666,
              "#ed7953"
             ],
             [
              0.7777777777777778,
              "#fb9f3a"
             ],
             [
              0.8888888888888888,
              "#fdca26"
             ],
             [
              1.0,
              "#f0f921"
             ]
            ]
           }
          ],
          "contourcarpet": [
           {
            "type": "contourcarpet",
            "colorbar": {
             "outlinewidth": 0,
             "ticks": ""
            }
           }
          ],
          "contour": [
           {
            "type": "contour",
            "colorbar": {
             "outlinewidth": 0,
             "ticks": ""
            },
            "colorscale": [
             [
              0.0,
              "#0d0887"
             ],
             [
              0.1111111111111111,
              "#46039f"
             ],
             [
              0.2222222222222222,
              "#7201a8"
             ],
             [
              0.3333333333333333,
              "#9c179e"
             ],
             [
              0.4444444444444444,
              "#bd3786"
             ],
             [
              0.5555555555555556,
              "#d8576b"
             ],
             [
              0.6666666666666666,
              "#ed7953"
             ],
             [
              0.7777777777777778,
              "#fb9f3a"
             ],
             [
              0.8888888888888888,
              "#fdca26"
             ],
             [
              1.0,
              "#f0f921"
             ]
            ]
           }
          ],
          "surface": [
           {
            "type": "surface",
            "colorbar": {
             "outlinewidth": 0,
             "ticks": ""
            },
            "colorscale": [
             [
              0.0,
              "#0d0887"
             ],
             [
              0.1111111111111111,
              "#46039f"
             ],
             [
              0.2222222222222222,
              "#7201a8"
             ],
             [
              0.3333333333333333,
              "#9c179e"
             ],
             [
              0.4444444444444444,
              "#bd3786"
             ],
             [
              0.5555555555555556,
              "#d8576b"
             ],
             [
              0.6666666666666666,
              "#ed7953"
             ],
             [
              0.7777777777777778,
              "#fb9f3a"
             ],
             [
              0.8888888888888888,
              "#fdca26"
             ],
             [
              1.0,
              "#f0f921"
             ]
            ]
           }
          ],
          "mesh3d": [
           {
            "type": "mesh3d",
            "colorbar": {
             "outlinewidth": 0,
             "ticks": ""
            }
           }
          ],
          "scatter": [
           {
            "fillpattern": {
             "fillmode": "overlay",
             "size": 10,
             "solidity": 0.2
            },
            "type": "scatter"
           }
          ],
          "parcoords": [
           {
            "type": "parcoords",
            "line": {
             "colorbar": {
              "outlinewidth": 0,
              "ticks": ""
             }
            }
           }
          ],
          "scatterpolargl": [
           {
            "type": "scatterpolargl",
            "marker": {
             "colorbar": {
              "outlinewidth": 0,
              "ticks": ""
             }
            }
           }
          ],
          "bar": [
           {
            "error_x": {
             "color": "#2a3f5f"
            },
            "error_y": {
             "color": "#2a3f5f"
            },
            "marker": {
             "line": {
              "color": "#E5ECF6",
              "width": 0.5
             },
             "pattern": {
              "fillmode": "overlay",
              "size": 10,
              "solidity": 0.2
             }
            },
            "type": "bar"
           }
          ],
          "scattergeo": [
           {
            "type": "scattergeo",
            "marker": {
             "colorbar": {
              "outlinewidth": 0,
              "ticks": ""
             }
            }
           }
          ],
          "scatterpolar": [
           {
            "type": "scatterpolar",
            "marker": {
             "colorbar": {
              "outlinewidth": 0,
              "ticks": ""
             }
            }
           }
          ],
          "histogram": [
           {
            "marker": {
             "pattern": {
              "fillmode": "overlay",
              "size": 10,
              "solidity": 0.2
             }
            },
            "type": "histogram"
           }
          ],
          "scattergl": [
           {
            "type": "scattergl",
            "marker": {
             "colorbar": {
              "outlinewidth": 0,
              "ticks": ""
             }
            }
           }
          ],
          "scatter3d": [
           {
            "type": "scatter3d",
            "line": {
             "colorbar": {
              "outlinewidth": 0,
              "ticks": ""
             }
            },
            "marker": {
             "colorbar": {
              "outlinewidth": 0,
              "ticks": ""
             }
            }
           }
          ],
          "scattermapbox": [
           {
            "type": "scattermapbox",
            "marker": {
             "colorbar": {
              "outlinewidth": 0,
              "ticks": ""
             }
            }
           }
          ],
          "scatterternary": [
           {
            "type": "scatterternary",
            "marker": {
             "colorbar": {
              "outlinewidth": 0,
              "ticks": ""
             }
            }
           }
          ],
          "scattercarpet": [
           {
            "type": "scattercarpet",
            "marker": {
             "colorbar": {
              "outlinewidth": 0,
              "ticks": ""
             }
            }
           }
          ],
          "carpet": [
           {
            "aaxis": {
             "endlinecolor": "#2a3f5f",
             "gridcolor": "white",
             "linecolor": "white",
             "minorgridcolor": "white",
             "startlinecolor": "#2a3f5f"
            },
            "baxis": {
             "endlinecolor": "#2a3f5f",
             "gridcolor": "white",
             "linecolor": "white",
             "minorgridcolor": "white",
             "startlinecolor": "#2a3f5f"
            },
            "type": "carpet"
           }
          ],
          "table": [
           {
            "cells": {
             "fill": {
              "color": "#EBF0F8"
             },
             "line": {
              "color": "white"
             }
            },
            "header": {
             "fill": {
              "color": "#C8D4E3"
             },
             "line": {
              "color": "white"
             }
            },
            "type": "table"
           }
          ],
          "barpolar": [
           {
            "marker": {
             "line": {
              "color": "#E5ECF6",
              "width": 0.5
             },
             "pattern": {
              "fillmode": "overlay",
              "size": 10,
              "solidity": 0.2
             }
            },
            "type": "barpolar"
           }
          ],
          "pie": [
           {
            "automargin": true,
            "type": "pie"
           }
          ]
         },
         "layout": {
          "autotypenumbers": "strict",
          "colorway": [
           "#636efa",
           "#EF553B",
           "#00cc96",
           "#ab63fa",
           "#FFA15A",
           "#19d3f3",
           "#FF6692",
           "#B6E880",
           "#FF97FF",
           "#FECB52"
          ],
          "font": {
           "color": "#2a3f5f"
          },
          "hovermode": "closest",
          "hoverlabel": {
           "align": "left"
          },
          "paper_bgcolor": "white",
          "plot_bgcolor": "#E5ECF6",
          "polar": {
           "bgcolor": "#E5ECF6",
           "angularaxis": {
            "gridcolor": "white",
            "linecolor": "white",
            "ticks": ""
           },
           "radialaxis": {
            "gridcolor": "white",
            "linecolor": "white",
            "ticks": ""
           }
          },
          "ternary": {
           "bgcolor": "#E5ECF6",
           "aaxis": {
            "gridcolor": "white",
            "linecolor": "white",
            "ticks": ""
           },
           "baxis": {
            "gridcolor": "white",
            "linecolor": "white",
            "ticks": ""
           },
           "caxis": {
            "gridcolor": "white",
            "linecolor": "white",
            "ticks": ""
           }
          },
          "coloraxis": {
           "colorbar": {
            "outlinewidth": 0,
            "ticks": ""
           }
          },
          "colorscale": {
           "sequential": [
            [
             0.0,
             "#0d0887"
            ],
            [
             0.1111111111111111,
             "#46039f"
            ],
            [
             0.2222222222222222,
             "#7201a8"
            ],
            [
             0.3333333333333333,
             "#9c179e"
            ],
            [
             0.4444444444444444,
             "#bd3786"
            ],
            [
             0.5555555555555556,
             "#d8576b"
            ],
            [
             0.6666666666666666,
             "#ed7953"
            ],
            [
             0.7777777777777778,
             "#fb9f3a"
            ],
            [
             0.8888888888888888,
             "#fdca26"
            ],
            [
             1.0,
             "#f0f921"
            ]
           ],
           "sequentialminus": [
            [
             0.0,
             "#0d0887"
            ],
            [
             0.1111111111111111,
             "#46039f"
            ],
            [
             0.2222222222222222,
             "#7201a8"
            ],
            [
             0.3333333333333333,
             "#9c179e"
            ],
            [
             0.4444444444444444,
             "#bd3786"
            ],
            [
             0.5555555555555556,
             "#d8576b"
            ],
            [
             0.6666666666666666,
             "#ed7953"
            ],
            [
             0.7777777777777778,
             "#fb9f3a"
            ],
            [
             0.8888888888888888,
             "#fdca26"
            ],
            [
             1.0,
             "#f0f921"
            ]
           ],
           "diverging": [
            [
             0,
             "#8e0152"
            ],
            [
             0.1,
             "#c51b7d"
            ],
            [
             0.2,
             "#de77ae"
            ],
            [
             0.3,
             "#f1b6da"
            ],
            [
             0.4,
             "#fde0ef"
            ],
            [
             0.5,
             "#f7f7f7"
            ],
            [
             0.6,
             "#e6f5d0"
            ],
            [
             0.7,
             "#b8e186"
            ],
            [
             0.8,
             "#7fbc41"
            ],
            [
             0.9,
             "#4d9221"
            ],
            [
             1,
             "#276419"
            ]
           ]
          },
          "xaxis": {
           "gridcolor": "white",
           "linecolor": "white",
           "ticks": "",
           "title": {
            "standoff": 15
           },
           "zerolinecolor": "white",
           "automargin": true,
           "zerolinewidth": 2
          },
          "yaxis": {
           "gridcolor": "white",
           "linecolor": "white",
           "ticks": "",
           "title": {
            "standoff": 15
           },
           "zerolinecolor": "white",
           "automargin": true,
           "zerolinewidth": 2
          },
          "scene": {
           "xaxis": {
            "backgroundcolor": "#E5ECF6",
            "gridcolor": "white",
            "linecolor": "white",
            "showbackground": true,
            "ticks": "",
            "zerolinecolor": "white",
            "gridwidth": 2
           },
           "yaxis": {
            "backgroundcolor": "#E5ECF6",
            "gridcolor": "white",
            "linecolor": "white",
            "showbackground": true,
            "ticks": "",
            "zerolinecolor": "white",
            "gridwidth": 2
           },
           "zaxis": {
            "backgroundcolor": "#E5ECF6",
            "gridcolor": "white",
            "linecolor": "white",
            "showbackground": true,
            "ticks": "",
            "zerolinecolor": "white",
            "gridwidth": 2
           }
          },
          "shapedefaults": {
           "line": {
            "color": "#2a3f5f"
           }
          },
          "annotationdefaults": {
           "arrowcolor": "#2a3f5f",
           "arrowhead": 0,
           "arrowwidth": 1
          },
          "geo": {
           "bgcolor": "white",
           "landcolor": "#E5ECF6",
           "subunitcolor": "white",
           "showland": true,
           "showlakes": true,
           "lakecolor": "white"
          },
          "title": {
           "x": 0.05
          },
          "mapbox": {
           "style": "light"
          }
         }
        },
        "xaxis": {
         "anchor": "y",
         "domain": [
          0.0,
          1.0
         ]
        },
        "yaxis": {
         "anchor": "x",
         "domain": [
          0.0,
          1.0
         ],
         "type": "log"
        },
        "legend": {
         "tracegroupgap": 0
        },
        "title": {
         "text": "Correlation between Errors"
        },
        "barmode": "relative"
       },
       "config": {
        "plotlyServerURL": "https://plot.ly"
       }
      },
      "text/html": "<div>                            <div id=\"39a94a00-4dd6-4c22-8849-da393b1c1b72\" class=\"plotly-graph-div\" style=\"height:525px; width:100%;\"></div>            <script type=\"text/javascript\">                require([\"plotly\"], function(Plotly) {                    window.PLOTLYENV=window.PLOTLYENV || {};                                    if (document.getElementById(\"39a94a00-4dd6-4c22-8849-da393b1c1b72\")) {                    Plotly.newPlot(                        \"39a94a00-4dd6-4c22-8849-da393b1c1b72\",                        [{\"alignmentgroup\":\"True\",\"hovertemplate\":\"\\u003cextra\\u003e\\u003c\\u002fextra\\u003e\",\"legendgroup\":\"\",\"marker\":{\"color\":\"#636efa\",\"pattern\":{\"shape\":\"\"}},\"name\":\"\",\"offsetgroup\":\"\",\"orientation\":\"v\",\"showlegend\":false,\"textposition\":\"auto\",\"xaxis\":\"x\",\"yaxis\":\"y\",\"type\":\"bar\"},{\"marker\":{\"color\":\"green\"},\"name\":\"positive correlation\",\"x\":[\"squared_error\\u002fp1_variance\",\"squared_error\\u002fp2_variance\",\"squared_error\\u002fp1_p2_covariance\",\"p1_variance\\u002fp2_variance\",\"p1_variance\\u002fp1_p2_covariance\",\"p2_variance\\u002fp1_p2_covariance\"],\"y\":[6.477400438201634,36.99028498985006,-27.590070630610267,64.07727397788364,-205.08844485315444,-273.2737122701452],\"type\":\"bar\"},{\"marker\":{\"color\":\"crimson\"},\"name\":\"negative correlation\",\"x\":[\"squared_error\\u002fp1_variance\",\"squared_error\\u002fp2_variance\",\"squared_error\\u002fp1_p2_covariance\",\"p1_variance\\u002fp2_variance\",\"p1_variance\\u002fp1_p2_covariance\",\"p2_variance\\u002fp1_p2_covariance\"],\"y\":[-6.477400438201634,-36.99028498985006,27.590070630610267,-64.07727397788364,205.08844485315444,273.2737122701452],\"type\":\"bar\"}],                        {\"template\":{\"data\":{\"histogram2dcontour\":[{\"type\":\"histogram2dcontour\",\"colorbar\":{\"outlinewidth\":0,\"ticks\":\"\"},\"colorscale\":[[0.0,\"#0d0887\"],[0.1111111111111111,\"#46039f\"],[0.2222222222222222,\"#7201a8\"],[0.3333333333333333,\"#9c179e\"],[0.4444444444444444,\"#bd3786\"],[0.5555555555555556,\"#d8576b\"],[0.6666666666666666,\"#ed7953\"],[0.7777777777777778,\"#fb9f3a\"],[0.8888888888888888,\"#fdca26\"],[1.0,\"#f0f921\"]]}],\"choropleth\":[{\"type\":\"choropleth\",\"colorbar\":{\"outlinewidth\":0,\"ticks\":\"\"}}],\"histogram2d\":[{\"type\":\"histogram2d\",\"colorbar\":{\"outlinewidth\":0,\"ticks\":\"\"},\"colorscale\":[[0.0,\"#0d0887\"],[0.1111111111111111,\"#46039f\"],[0.2222222222222222,\"#7201a8\"],[0.3333333333333333,\"#9c179e\"],[0.4444444444444444,\"#bd3786\"],[0.5555555555555556,\"#d8576b\"],[0.6666666666666666,\"#ed7953\"],[0.7777777777777778,\"#fb9f3a\"],[0.8888888888888888,\"#fdca26\"],[1.0,\"#f0f921\"]]}],\"heatmap\":[{\"type\":\"heatmap\",\"colorbar\":{\"outlinewidth\":0,\"ticks\":\"\"},\"colorscale\":[[0.0,\"#0d0887\"],[0.1111111111111111,\"#46039f\"],[0.2222222222222222,\"#7201a8\"],[0.3333333333333333,\"#9c179e\"],[0.4444444444444444,\"#bd3786\"],[0.5555555555555556,\"#d8576b\"],[0.6666666666666666,\"#ed7953\"],[0.7777777777777778,\"#fb9f3a\"],[0.8888888888888888,\"#fdca26\"],[1.0,\"#f0f921\"]]}],\"heatmapgl\":[{\"type\":\"heatmapgl\",\"colorbar\":{\"outlinewidth\":0,\"ticks\":\"\"},\"colorscale\":[[0.0,\"#0d0887\"],[0.1111111111111111,\"#46039f\"],[0.2222222222222222,\"#7201a8\"],[0.3333333333333333,\"#9c179e\"],[0.4444444444444444,\"#bd3786\"],[0.5555555555555556,\"#d8576b\"],[0.6666666666666666,\"#ed7953\"],[0.7777777777777778,\"#fb9f3a\"],[0.8888888888888888,\"#fdca26\"],[1.0,\"#f0f921\"]]}],\"contourcarpet\":[{\"type\":\"contourcarpet\",\"colorbar\":{\"outlinewidth\":0,\"ticks\":\"\"}}],\"contour\":[{\"type\":\"contour\",\"colorbar\":{\"outlinewidth\":0,\"ticks\":\"\"},\"colorscale\":[[0.0,\"#0d0887\"],[0.1111111111111111,\"#46039f\"],[0.2222222222222222,\"#7201a8\"],[0.3333333333333333,\"#9c179e\"],[0.4444444444444444,\"#bd3786\"],[0.5555555555555556,\"#d8576b\"],[0.6666666666666666,\"#ed7953\"],[0.7777777777777778,\"#fb9f3a\"],[0.8888888888888888,\"#fdca26\"],[1.0,\"#f0f921\"]]}],\"surface\":[{\"type\":\"surface\",\"colorbar\":{\"outlinewidth\":0,\"ticks\":\"\"},\"colorscale\":[[0.0,\"#0d0887\"],[0.1111111111111111,\"#46039f\"],[0.2222222222222222,\"#7201a8\"],[0.3333333333333333,\"#9c179e\"],[0.4444444444444444,\"#bd3786\"],[0.5555555555555556,\"#d8576b\"],[0.6666666666666666,\"#ed7953\"],[0.7777777777777778,\"#fb9f3a\"],[0.8888888888888888,\"#fdca26\"],[1.0,\"#f0f921\"]]}],\"mesh3d\":[{\"type\":\"mesh3d\",\"colorbar\":{\"outlinewidth\":0,\"ticks\":\"\"}}],\"scatter\":[{\"fillpattern\":{\"fillmode\":\"overlay\",\"size\":10,\"solidity\":0.2},\"type\":\"scatter\"}],\"parcoords\":[{\"type\":\"parcoords\",\"line\":{\"colorbar\":{\"outlinewidth\":0,\"ticks\":\"\"}}}],\"scatterpolargl\":[{\"type\":\"scatterpolargl\",\"marker\":{\"colorbar\":{\"outlinewidth\":0,\"ticks\":\"\"}}}],\"bar\":[{\"error_x\":{\"color\":\"#2a3f5f\"},\"error_y\":{\"color\":\"#2a3f5f\"},\"marker\":{\"line\":{\"color\":\"#E5ECF6\",\"width\":0.5},\"pattern\":{\"fillmode\":\"overlay\",\"size\":10,\"solidity\":0.2}},\"type\":\"bar\"}],\"scattergeo\":[{\"type\":\"scattergeo\",\"marker\":{\"colorbar\":{\"outlinewidth\":0,\"ticks\":\"\"}}}],\"scatterpolar\":[{\"type\":\"scatterpolar\",\"marker\":{\"colorbar\":{\"outlinewidth\":0,\"ticks\":\"\"}}}],\"histogram\":[{\"marker\":{\"pattern\":{\"fillmode\":\"overlay\",\"size\":10,\"solidity\":0.2}},\"type\":\"histogram\"}],\"scattergl\":[{\"type\":\"scattergl\",\"marker\":{\"colorbar\":{\"outlinewidth\":0,\"ticks\":\"\"}}}],\"scatter3d\":[{\"type\":\"scatter3d\",\"line\":{\"colorbar\":{\"outlinewidth\":0,\"ticks\":\"\"}},\"marker\":{\"colorbar\":{\"outlinewidth\":0,\"ticks\":\"\"}}}],\"scattermapbox\":[{\"type\":\"scattermapbox\",\"marker\":{\"colorbar\":{\"outlinewidth\":0,\"ticks\":\"\"}}}],\"scatterternary\":[{\"type\":\"scatterternary\",\"marker\":{\"colorbar\":{\"outlinewidth\":0,\"ticks\":\"\"}}}],\"scattercarpet\":[{\"type\":\"scattercarpet\",\"marker\":{\"colorbar\":{\"outlinewidth\":0,\"ticks\":\"\"}}}],\"carpet\":[{\"aaxis\":{\"endlinecolor\":\"#2a3f5f\",\"gridcolor\":\"white\",\"linecolor\":\"white\",\"minorgridcolor\":\"white\",\"startlinecolor\":\"#2a3f5f\"},\"baxis\":{\"endlinecolor\":\"#2a3f5f\",\"gridcolor\":\"white\",\"linecolor\":\"white\",\"minorgridcolor\":\"white\",\"startlinecolor\":\"#2a3f5f\"},\"type\":\"carpet\"}],\"table\":[{\"cells\":{\"fill\":{\"color\":\"#EBF0F8\"},\"line\":{\"color\":\"white\"}},\"header\":{\"fill\":{\"color\":\"#C8D4E3\"},\"line\":{\"color\":\"white\"}},\"type\":\"table\"}],\"barpolar\":[{\"marker\":{\"line\":{\"color\":\"#E5ECF6\",\"width\":0.5},\"pattern\":{\"fillmode\":\"overlay\",\"size\":10,\"solidity\":0.2}},\"type\":\"barpolar\"}],\"pie\":[{\"automargin\":true,\"type\":\"pie\"}]},\"layout\":{\"autotypenumbers\":\"strict\",\"colorway\":[\"#636efa\",\"#EF553B\",\"#00cc96\",\"#ab63fa\",\"#FFA15A\",\"#19d3f3\",\"#FF6692\",\"#B6E880\",\"#FF97FF\",\"#FECB52\"],\"font\":{\"color\":\"#2a3f5f\"},\"hovermode\":\"closest\",\"hoverlabel\":{\"align\":\"left\"},\"paper_bgcolor\":\"white\",\"plot_bgcolor\":\"#E5ECF6\",\"polar\":{\"bgcolor\":\"#E5ECF6\",\"angularaxis\":{\"gridcolor\":\"white\",\"linecolor\":\"white\",\"ticks\":\"\"},\"radialaxis\":{\"gridcolor\":\"white\",\"linecolor\":\"white\",\"ticks\":\"\"}},\"ternary\":{\"bgcolor\":\"#E5ECF6\",\"aaxis\":{\"gridcolor\":\"white\",\"linecolor\":\"white\",\"ticks\":\"\"},\"baxis\":{\"gridcolor\":\"white\",\"linecolor\":\"white\",\"ticks\":\"\"},\"caxis\":{\"gridcolor\":\"white\",\"linecolor\":\"white\",\"ticks\":\"\"}},\"coloraxis\":{\"colorbar\":{\"outlinewidth\":0,\"ticks\":\"\"}},\"colorscale\":{\"sequential\":[[0.0,\"#0d0887\"],[0.1111111111111111,\"#46039f\"],[0.2222222222222222,\"#7201a8\"],[0.3333333333333333,\"#9c179e\"],[0.4444444444444444,\"#bd3786\"],[0.5555555555555556,\"#d8576b\"],[0.6666666666666666,\"#ed7953\"],[0.7777777777777778,\"#fb9f3a\"],[0.8888888888888888,\"#fdca26\"],[1.0,\"#f0f921\"]],\"sequentialminus\":[[0.0,\"#0d0887\"],[0.1111111111111111,\"#46039f\"],[0.2222222222222222,\"#7201a8\"],[0.3333333333333333,\"#9c179e\"],[0.4444444444444444,\"#bd3786\"],[0.5555555555555556,\"#d8576b\"],[0.6666666666666666,\"#ed7953\"],[0.7777777777777778,\"#fb9f3a\"],[0.8888888888888888,\"#fdca26\"],[1.0,\"#f0f921\"]],\"diverging\":[[0,\"#8e0152\"],[0.1,\"#c51b7d\"],[0.2,\"#de77ae\"],[0.3,\"#f1b6da\"],[0.4,\"#fde0ef\"],[0.5,\"#f7f7f7\"],[0.6,\"#e6f5d0\"],[0.7,\"#b8e186\"],[0.8,\"#7fbc41\"],[0.9,\"#4d9221\"],[1,\"#276419\"]]},\"xaxis\":{\"gridcolor\":\"white\",\"linecolor\":\"white\",\"ticks\":\"\",\"title\":{\"standoff\":15},\"zerolinecolor\":\"white\",\"automargin\":true,\"zerolinewidth\":2},\"yaxis\":{\"gridcolor\":\"white\",\"linecolor\":\"white\",\"ticks\":\"\",\"title\":{\"standoff\":15},\"zerolinecolor\":\"white\",\"automargin\":true,\"zerolinewidth\":2},\"scene\":{\"xaxis\":{\"backgroundcolor\":\"#E5ECF6\",\"gridcolor\":\"white\",\"linecolor\":\"white\",\"showbackground\":true,\"ticks\":\"\",\"zerolinecolor\":\"white\",\"gridwidth\":2},\"yaxis\":{\"backgroundcolor\":\"#E5ECF6\",\"gridcolor\":\"white\",\"linecolor\":\"white\",\"showbackground\":true,\"ticks\":\"\",\"zerolinecolor\":\"white\",\"gridwidth\":2},\"zaxis\":{\"backgroundcolor\":\"#E5ECF6\",\"gridcolor\":\"white\",\"linecolor\":\"white\",\"showbackground\":true,\"ticks\":\"\",\"zerolinecolor\":\"white\",\"gridwidth\":2}},\"shapedefaults\":{\"line\":{\"color\":\"#2a3f5f\"}},\"annotationdefaults\":{\"arrowcolor\":\"#2a3f5f\",\"arrowhead\":0,\"arrowwidth\":1},\"geo\":{\"bgcolor\":\"white\",\"landcolor\":\"#E5ECF6\",\"subunitcolor\":\"white\",\"showland\":true,\"showlakes\":true,\"lakecolor\":\"white\"},\"title\":{\"x\":0.05},\"mapbox\":{\"style\":\"light\"}}},\"xaxis\":{\"anchor\":\"y\",\"domain\":[0.0,1.0]},\"yaxis\":{\"anchor\":\"x\",\"domain\":[0.0,1.0],\"type\":\"log\"},\"legend\":{\"tracegroupgap\":0},\"title\":{\"text\":\"Correlation between Errors\"},\"barmode\":\"relative\"},                        {\"responsive\": true}                    ).then(function(){\n                            \nvar gd = document.getElementById('39a94a00-4dd6-4c22-8849-da393b1c1b72');\nvar x = new MutationObserver(function (mutations, observer) {{\n        var display = window.getComputedStyle(gd).display;\n        if (!display || display === 'none') {{\n            console.log([gd, 'removed!']);\n            Plotly.purge(gd);\n            observer.disconnect();\n        }}\n}});\n\n// Listen for the removal of the full notebook cells\nvar notebookContainer = gd.closest('#notebook-container');\nif (notebookContainer) {{\n    x.observe(notebookContainer, {childList: true});\n}}\n\n// Listen for the clearing of the current output cell\nvar outputEl = gd.closest('.output');\nif (outputEl) {{\n    x.observe(outputEl, {childList: true});\n}}\n\n                        })                };                });            </script>        </div>"
     },
     "metadata": {},
     "output_type": "display_data"
    }
   ],
   "source": [
    "# kinetics_df[kinetics_df[\"squared_error\"]>0.01] 29/317 entries\n",
    "# calculating covariance between errors to use only the reasonable ones\n",
    "\n",
    "# permutate all combinations of the errors\n",
    "errorcombs = [[],[],[]]\n",
    "for err1, err2 in itertools.combinations([\"squared_error\", \"p1_variance\", \"p2_variance\", \"p1_p2_covariance\"], 2):\n",
    "    # print(f\"The covariance between {err1} and {err2} is {np.cov(kinetics_df[err1], kinetics_df[err2])}\")\n",
    "    # print(f\"The correlation between {err1} and {err2} is {np.correlate(kinetics_df[err1], kinetics_df[err2])}\")\n",
    "    # print(\"\\n\")\n",
    "    errorcombs[0].append(f\"{err1}/{err2}\")\n",
    "    errorcombs[1].append(np.cov(kinetics_df[err1], kinetics_df[err2]))\n",
    "    errorcombs[2].append(*np.correlate(kinetics_df[err1], kinetics_df[err2]))\n",
    "errorcombs_dc = {\"name\": errorcombs[0], \"covariance\":errorcombs[1], \"correlation\":errorcombs[2]}\n",
    "errorcombs_df = pd.DataFrame(data=errorcombs_dc)\n",
    "errorcombs_df[\"i_correlation\"] = errorcombs_df[\"correlation\"] * (-1)\n",
    "\n",
    "# plot bar plot per a pair of errors with superimposed correlation\n",
    "err_fig = px.bar(title=\"Correlation between Errors\", labels={\"correlation\":\"correlation\"}, log_y=True)\n",
    "err_fig.add_bar(x=errorcombs_df[\"name\"], y=errorcombs_df[\"correlation\"], name=\"positive correlation\", marker_color=\"green\")\n",
    "err_fig.add_bar(x=errorcombs_df[\"name\"], y=errorcombs_df[\"i_correlation\"], name=\"negative correlation\", marker_color=\"crimson\")\n",
    "err_fig.show()"
   ],
   "metadata": {
    "collapsed": false,
    "pycharm": {
     "name": "#%%\n"
    }
   }
  },
  {
   "cell_type": "code",
   "execution_count": 75,
   "outputs": [
    {
     "data": {
      "application/vnd.plotly.v1+json": {
       "data": [
        {
         "alignmentgroup": "True",
         "box": {
          "visible": true
         },
         "hovertemplate": "variable=%{x}<br>value=%{y}<extra></extra>",
         "legendgroup": "",
         "marker": {
          "color": "#636efa"
         },
         "name": "",
         "offsetgroup": "",
         "orientation": "v",
         "points": "all",
         "scalegroup": "True",
         "showlegend": false,
         "x": [
          "squared_error",
          "squared_error",
          "squared_error",
          "squared_error",
          "squared_error",
          "squared_error",
          "squared_error",
          "squared_error",
          "squared_error",
          "squared_error",
          "squared_error",
          "squared_error",
          "squared_error",
          "squared_error",
          "squared_error",
          "squared_error",
          "squared_error",
          "squared_error",
          "squared_error",
          "squared_error",
          "squared_error",
          "squared_error",
          "squared_error",
          "squared_error",
          "squared_error",
          "squared_error",
          "squared_error",
          "squared_error",
          "squared_error",
          "squared_error",
          "squared_error",
          "squared_error",
          "squared_error",
          "squared_error",
          "squared_error",
          "squared_error",
          "squared_error",
          "squared_error",
          "squared_error",
          "squared_error",
          "squared_error",
          "squared_error",
          "squared_error",
          "squared_error",
          "squared_error",
          "squared_error",
          "squared_error",
          "squared_error",
          "squared_error",
          "squared_error",
          "squared_error",
          "squared_error",
          "squared_error",
          "squared_error",
          "squared_error",
          "squared_error",
          "squared_error",
          "squared_error",
          "squared_error",
          "squared_error",
          "squared_error",
          "squared_error",
          "squared_error",
          "squared_error",
          "squared_error",
          "squared_error",
          "squared_error",
          "squared_error",
          "squared_error",
          "squared_error",
          "squared_error",
          "squared_error",
          "squared_error",
          "squared_error",
          "squared_error",
          "squared_error",
          "squared_error",
          "squared_error",
          "squared_error",
          "squared_error",
          "squared_error",
          "squared_error",
          "squared_error",
          "squared_error",
          "squared_error",
          "squared_error",
          "squared_error",
          "squared_error",
          "squared_error",
          "squared_error",
          "squared_error",
          "squared_error",
          "squared_error",
          "squared_error",
          "squared_error",
          "squared_error",
          "squared_error",
          "squared_error",
          "squared_error",
          "squared_error",
          "squared_error",
          "squared_error",
          "squared_error",
          "squared_error",
          "squared_error",
          "squared_error",
          "squared_error",
          "squared_error",
          "squared_error",
          "squared_error",
          "squared_error",
          "squared_error",
          "squared_error",
          "squared_error",
          "squared_error",
          "squared_error",
          "squared_error",
          "squared_error",
          "squared_error",
          "squared_error",
          "squared_error",
          "squared_error",
          "squared_error",
          "squared_error",
          "squared_error",
          "squared_error",
          "squared_error",
          "squared_error",
          "squared_error",
          "squared_error",
          "squared_error",
          "squared_error",
          "squared_error",
          "squared_error",
          "squared_error",
          "squared_error",
          "squared_error",
          "squared_error",
          "squared_error",
          "squared_error",
          "squared_error",
          "squared_error",
          "squared_error",
          "squared_error",
          "squared_error",
          "squared_error",
          "squared_error",
          "squared_error",
          "squared_error",
          "squared_error",
          "squared_error",
          "squared_error",
          "squared_error",
          "squared_error",
          "squared_error",
          "squared_error",
          "squared_error",
          "squared_error",
          "squared_error",
          "squared_error",
          "squared_error",
          "squared_error",
          "squared_error",
          "squared_error",
          "squared_error",
          "squared_error",
          "squared_error",
          "squared_error",
          "squared_error",
          "squared_error",
          "squared_error",
          "squared_error",
          "squared_error",
          "squared_error",
          "squared_error",
          "squared_error",
          "squared_error",
          "squared_error",
          "squared_error",
          "squared_error",
          "squared_error",
          "squared_error",
          "squared_error",
          "squared_error",
          "squared_error",
          "squared_error",
          "squared_error",
          "squared_error",
          "squared_error",
          "squared_error",
          "squared_error",
          "squared_error",
          "squared_error",
          "squared_error",
          "squared_error",
          "squared_error",
          "squared_error",
          "squared_error",
          "squared_error",
          "squared_error",
          "squared_error",
          "squared_error",
          "squared_error",
          "squared_error",
          "squared_error",
          "squared_error",
          "squared_error",
          "squared_error",
          "squared_error",
          "squared_error",
          "squared_error",
          "squared_error",
          "squared_error",
          "squared_error",
          "squared_error",
          "squared_error",
          "squared_error",
          "squared_error",
          "squared_error",
          "squared_error",
          "squared_error",
          "squared_error",
          "squared_error",
          "squared_error",
          "squared_error",
          "squared_error",
          "squared_error",
          "squared_error",
          "squared_error",
          "squared_error",
          "squared_error",
          "squared_error",
          "squared_error",
          "squared_error",
          "squared_error",
          "squared_error",
          "squared_error",
          "squared_error",
          "squared_error",
          "squared_error",
          "squared_error",
          "squared_error",
          "squared_error",
          "squared_error",
          "squared_error",
          "squared_error",
          "squared_error",
          "squared_error",
          "squared_error",
          "squared_error",
          "squared_error",
          "squared_error",
          "squared_error",
          "squared_error",
          "squared_error",
          "squared_error",
          "squared_error",
          "squared_error",
          "squared_error",
          "squared_error",
          "squared_error",
          "squared_error",
          "squared_error",
          "squared_error",
          "squared_error",
          "squared_error",
          "squared_error",
          "squared_error",
          "squared_error",
          "squared_error",
          "squared_error",
          "squared_error",
          "squared_error",
          "squared_error",
          "squared_error",
          "squared_error",
          "squared_error",
          "squared_error",
          "squared_error",
          "squared_error",
          "squared_error",
          "squared_error",
          "squared_error",
          "squared_error",
          "squared_error",
          "squared_error",
          "squared_error",
          "squared_error",
          "squared_error",
          "squared_error",
          "squared_error",
          "squared_error",
          "squared_error",
          "squared_error",
          "squared_error",
          "squared_error",
          "squared_error",
          "squared_error",
          "squared_error",
          "squared_error",
          "squared_error",
          "squared_error",
          "squared_error",
          "squared_error",
          "squared_error",
          "squared_error",
          "squared_error",
          "squared_error",
          "squared_error",
          "squared_error",
          "squared_error",
          "squared_error",
          "squared_error",
          "p1_variance",
          "p1_variance",
          "p1_variance",
          "p1_variance",
          "p1_variance",
          "p1_variance",
          "p1_variance",
          "p1_variance",
          "p1_variance",
          "p1_variance",
          "p1_variance",
          "p1_variance",
          "p1_variance",
          "p1_variance",
          "p1_variance",
          "p1_variance",
          "p1_variance",
          "p1_variance",
          "p1_variance",
          "p1_variance",
          "p1_variance",
          "p1_variance",
          "p1_variance",
          "p1_variance",
          "p1_variance",
          "p1_variance",
          "p1_variance",
          "p1_variance",
          "p1_variance",
          "p1_variance",
          "p1_variance",
          "p1_variance",
          "p1_variance",
          "p1_variance",
          "p1_variance",
          "p1_variance",
          "p1_variance",
          "p1_variance",
          "p1_variance",
          "p1_variance",
          "p1_variance",
          "p1_variance",
          "p1_variance",
          "p1_variance",
          "p1_variance",
          "p1_variance",
          "p1_variance",
          "p1_variance",
          "p1_variance",
          "p1_variance",
          "p1_variance",
          "p1_variance",
          "p1_variance",
          "p1_variance",
          "p1_variance",
          "p1_variance",
          "p1_variance",
          "p1_variance",
          "p1_variance",
          "p1_variance",
          "p1_variance",
          "p1_variance",
          "p1_variance",
          "p1_variance",
          "p1_variance",
          "p1_variance",
          "p1_variance",
          "p1_variance",
          "p1_variance",
          "p1_variance",
          "p1_variance",
          "p1_variance",
          "p1_variance",
          "p1_variance",
          "p1_variance",
          "p1_variance",
          "p1_variance",
          "p1_variance",
          "p1_variance",
          "p1_variance",
          "p1_variance",
          "p1_variance",
          "p1_variance",
          "p1_variance",
          "p1_variance",
          "p1_variance",
          "p1_variance",
          "p1_variance",
          "p1_variance",
          "p1_variance",
          "p1_variance",
          "p1_variance",
          "p1_variance",
          "p1_variance",
          "p1_variance",
          "p1_variance",
          "p1_variance",
          "p1_variance",
          "p1_variance",
          "p1_variance",
          "p1_variance",
          "p1_variance",
          "p1_variance",
          "p1_variance",
          "p1_variance",
          "p1_variance",
          "p1_variance",
          "p1_variance",
          "p1_variance",
          "p1_variance",
          "p1_variance",
          "p1_variance",
          "p1_variance",
          "p1_variance",
          "p1_variance",
          "p1_variance",
          "p1_variance",
          "p1_variance",
          "p1_variance",
          "p1_variance",
          "p1_variance",
          "p1_variance",
          "p1_variance",
          "p1_variance",
          "p1_variance",
          "p1_variance",
          "p1_variance",
          "p1_variance",
          "p1_variance",
          "p1_variance",
          "p1_variance",
          "p1_variance",
          "p1_variance",
          "p1_variance",
          "p1_variance",
          "p1_variance",
          "p1_variance",
          "p1_variance",
          "p1_variance",
          "p1_variance",
          "p1_variance",
          "p1_variance",
          "p1_variance",
          "p1_variance",
          "p1_variance",
          "p1_variance",
          "p1_variance",
          "p1_variance",
          "p1_variance",
          "p1_variance",
          "p1_variance",
          "p1_variance",
          "p1_variance",
          "p1_variance",
          "p1_variance",
          "p1_variance",
          "p1_variance",
          "p1_variance",
          "p1_variance",
          "p1_variance",
          "p1_variance",
          "p1_variance",
          "p1_variance",
          "p1_variance",
          "p1_variance",
          "p1_variance",
          "p1_variance",
          "p1_variance",
          "p1_variance",
          "p1_variance",
          "p1_variance",
          "p1_variance",
          "p1_variance",
          "p1_variance",
          "p1_variance",
          "p1_variance",
          "p1_variance",
          "p1_variance",
          "p1_variance",
          "p1_variance",
          "p1_variance",
          "p1_variance",
          "p1_variance",
          "p1_variance",
          "p1_variance",
          "p1_variance",
          "p1_variance",
          "p1_variance",
          "p1_variance",
          "p1_variance",
          "p1_variance",
          "p1_variance",
          "p1_variance",
          "p1_variance",
          "p1_variance",
          "p1_variance",
          "p1_variance",
          "p1_variance",
          "p1_variance",
          "p1_variance",
          "p1_variance",
          "p1_variance",
          "p1_variance",
          "p1_variance",
          "p1_variance",
          "p1_variance",
          "p1_variance",
          "p1_variance",
          "p1_variance",
          "p1_variance",
          "p1_variance",
          "p1_variance",
          "p1_variance",
          "p1_variance",
          "p1_variance",
          "p1_variance",
          "p1_variance",
          "p1_variance",
          "p1_variance",
          "p1_variance",
          "p1_variance",
          "p1_variance",
          "p1_variance",
          "p1_variance",
          "p1_variance",
          "p1_variance",
          "p1_variance",
          "p1_variance",
          "p1_variance",
          "p1_variance",
          "p1_variance",
          "p1_variance",
          "p1_variance",
          "p1_variance",
          "p1_variance",
          "p1_variance",
          "p1_variance",
          "p1_variance",
          "p1_variance",
          "p1_variance",
          "p1_variance",
          "p1_variance",
          "p1_variance",
          "p1_variance",
          "p1_variance",
          "p1_variance",
          "p1_variance",
          "p1_variance",
          "p1_variance",
          "p1_variance",
          "p1_variance",
          "p1_variance",
          "p1_variance",
          "p1_variance",
          "p1_variance",
          "p1_variance",
          "p1_variance",
          "p1_variance",
          "p1_variance",
          "p1_variance",
          "p1_variance",
          "p1_variance",
          "p1_variance",
          "p1_variance",
          "p1_variance",
          "p1_variance",
          "p1_variance",
          "p1_variance",
          "p1_variance",
          "p1_variance",
          "p1_variance",
          "p1_variance",
          "p1_variance",
          "p1_variance",
          "p1_variance",
          "p1_variance",
          "p1_variance",
          "p1_variance",
          "p1_variance",
          "p1_variance",
          "p1_variance",
          "p1_variance",
          "p1_variance",
          "p1_variance",
          "p1_variance",
          "p1_variance",
          "p1_variance",
          "p1_variance",
          "p1_variance",
          "p1_variance",
          "p1_variance",
          "p1_variance",
          "p1_variance",
          "p1_variance",
          "p1_variance",
          "p1_variance",
          "p1_variance",
          "p1_variance",
          "p1_variance",
          "p1_variance",
          "p1_variance",
          "p1_variance",
          "p1_variance",
          "p1_variance",
          "p1_variance",
          "p1_variance",
          "p1_variance",
          "p1_variance",
          "p1_variance",
          "p1_variance",
          "p1_variance",
          "p1_variance",
          "p1_variance",
          "p2_variance",
          "p2_variance",
          "p2_variance",
          "p2_variance",
          "p2_variance",
          "p2_variance",
          "p2_variance",
          "p2_variance",
          "p2_variance",
          "p2_variance",
          "p2_variance",
          "p2_variance",
          "p2_variance",
          "p2_variance",
          "p2_variance",
          "p2_variance",
          "p2_variance",
          "p2_variance",
          "p2_variance",
          "p2_variance",
          "p2_variance",
          "p2_variance",
          "p2_variance",
          "p2_variance",
          "p2_variance",
          "p2_variance",
          "p2_variance",
          "p2_variance",
          "p2_variance",
          "p2_variance",
          "p2_variance",
          "p2_variance",
          "p2_variance",
          "p2_variance",
          "p2_variance",
          "p2_variance",
          "p2_variance",
          "p2_variance",
          "p2_variance",
          "p2_variance",
          "p2_variance",
          "p2_variance",
          "p2_variance",
          "p2_variance",
          "p2_variance",
          "p2_variance",
          "p2_variance",
          "p2_variance",
          "p2_variance",
          "p2_variance",
          "p2_variance",
          "p2_variance",
          "p2_variance",
          "p2_variance",
          "p2_variance",
          "p2_variance",
          "p2_variance",
          "p2_variance",
          "p2_variance",
          "p2_variance",
          "p2_variance",
          "p2_variance",
          "p2_variance",
          "p2_variance",
          "p2_variance",
          "p2_variance",
          "p2_variance",
          "p2_variance",
          "p2_variance",
          "p2_variance",
          "p2_variance",
          "p2_variance",
          "p2_variance",
          "p2_variance",
          "p2_variance",
          "p2_variance",
          "p2_variance",
          "p2_variance",
          "p2_variance",
          "p2_variance",
          "p2_variance",
          "p2_variance",
          "p2_variance",
          "p2_variance",
          "p2_variance",
          "p2_variance",
          "p2_variance",
          "p2_variance",
          "p2_variance",
          "p2_variance",
          "p2_variance",
          "p2_variance",
          "p2_variance",
          "p2_variance",
          "p2_variance",
          "p2_variance",
          "p2_variance",
          "p2_variance",
          "p2_variance",
          "p2_variance",
          "p2_variance",
          "p2_variance",
          "p2_variance",
          "p2_variance",
          "p2_variance",
          "p2_variance",
          "p2_variance",
          "p2_variance",
          "p2_variance",
          "p2_variance",
          "p2_variance",
          "p2_variance",
          "p2_variance",
          "p2_variance",
          "p2_variance",
          "p2_variance",
          "p2_variance",
          "p2_variance",
          "p2_variance",
          "p2_variance",
          "p2_variance",
          "p2_variance",
          "p2_variance",
          "p2_variance",
          "p2_variance",
          "p2_variance",
          "p2_variance",
          "p2_variance",
          "p2_variance",
          "p2_variance",
          "p2_variance",
          "p2_variance",
          "p2_variance",
          "p2_variance",
          "p2_variance",
          "p2_variance",
          "p2_variance",
          "p2_variance",
          "p2_variance",
          "p2_variance",
          "p2_variance",
          "p2_variance",
          "p2_variance",
          "p2_variance",
          "p2_variance",
          "p2_variance",
          "p2_variance",
          "p2_variance",
          "p2_variance",
          "p2_variance",
          "p2_variance",
          "p2_variance",
          "p2_variance",
          "p2_variance",
          "p2_variance",
          "p2_variance",
          "p2_variance",
          "p2_variance",
          "p2_variance",
          "p2_variance",
          "p2_variance",
          "p2_variance",
          "p2_variance",
          "p2_variance",
          "p2_variance",
          "p2_variance",
          "p2_variance",
          "p2_variance",
          "p2_variance",
          "p2_variance",
          "p2_variance",
          "p2_variance",
          "p2_variance",
          "p2_variance",
          "p2_variance",
          "p2_variance",
          "p2_variance",
          "p2_variance",
          "p2_variance",
          "p2_variance",
          "p2_variance",
          "p2_variance",
          "p2_variance",
          "p2_variance",
          "p2_variance",
          "p2_variance",
          "p2_variance",
          "p2_variance",
          "p2_variance",
          "p2_variance",
          "p2_variance",
          "p2_variance",
          "p2_variance",
          "p2_variance",
          "p2_variance",
          "p2_variance",
          "p2_variance",
          "p2_variance",
          "p2_variance",
          "p2_variance",
          "p2_variance",
          "p2_variance",
          "p2_variance",
          "p2_variance",
          "p2_variance",
          "p2_variance",
          "p2_variance",
          "p2_variance",
          "p2_variance",
          "p2_variance",
          "p2_variance",
          "p2_variance",
          "p2_variance",
          "p2_variance",
          "p2_variance",
          "p2_variance",
          "p2_variance",
          "p2_variance",
          "p2_variance",
          "p2_variance",
          "p2_variance",
          "p2_variance",
          "p2_variance",
          "p2_variance",
          "p2_variance",
          "p2_variance",
          "p2_variance",
          "p2_variance",
          "p2_variance",
          "p2_variance",
          "p2_variance",
          "p2_variance",
          "p2_variance",
          "p2_variance",
          "p2_variance",
          "p2_variance",
          "p2_variance",
          "p2_variance",
          "p2_variance",
          "p2_variance",
          "p2_variance",
          "p2_variance",
          "p2_variance",
          "p2_variance",
          "p2_variance",
          "p2_variance",
          "p2_variance",
          "p2_variance",
          "p2_variance",
          "p2_variance",
          "p2_variance",
          "p2_variance",
          "p2_variance",
          "p2_variance",
          "p2_variance",
          "p2_variance",
          "p2_variance",
          "p2_variance",
          "p2_variance",
          "p2_variance",
          "p2_variance",
          "p2_variance",
          "p2_variance",
          "p2_variance",
          "p2_variance",
          "p2_variance",
          "p2_variance",
          "p2_variance",
          "p2_variance",
          "p2_variance",
          "p2_variance",
          "p2_variance",
          "p2_variance",
          "p2_variance",
          "p2_variance",
          "p2_variance",
          "p2_variance",
          "p2_variance",
          "p2_variance",
          "p2_variance",
          "p2_variance",
          "p2_variance",
          "p2_variance",
          "p2_variance",
          "p2_variance",
          "p2_variance",
          "p2_variance",
          "p2_variance",
          "p2_variance",
          "p2_variance",
          "p2_variance",
          "p2_variance",
          "p2_variance",
          "p2_variance",
          "p2_variance",
          "p2_variance",
          "p2_variance",
          "p2_variance",
          "p2_variance",
          "p2_variance",
          "p2_variance",
          "p2_variance",
          "p2_variance",
          "p2_variance",
          "p2_variance",
          "p2_variance",
          "p2_variance",
          "p2_variance",
          "p2_variance",
          "p2_variance",
          "p2_variance",
          "p2_variance",
          "p2_variance",
          "p1_p2_covariance",
          "p1_p2_covariance",
          "p1_p2_covariance",
          "p1_p2_covariance",
          "p1_p2_covariance",
          "p1_p2_covariance",
          "p1_p2_covariance",
          "p1_p2_covariance",
          "p1_p2_covariance",
          "p1_p2_covariance",
          "p1_p2_covariance",
          "p1_p2_covariance",
          "p1_p2_covariance",
          "p1_p2_covariance",
          "p1_p2_covariance",
          "p1_p2_covariance",
          "p1_p2_covariance",
          "p1_p2_covariance",
          "p1_p2_covariance",
          "p1_p2_covariance",
          "p1_p2_covariance",
          "p1_p2_covariance",
          "p1_p2_covariance",
          "p1_p2_covariance",
          "p1_p2_covariance",
          "p1_p2_covariance",
          "p1_p2_covariance",
          "p1_p2_covariance",
          "p1_p2_covariance",
          "p1_p2_covariance",
          "p1_p2_covariance",
          "p1_p2_covariance",
          "p1_p2_covariance",
          "p1_p2_covariance",
          "p1_p2_covariance",
          "p1_p2_covariance",
          "p1_p2_covariance",
          "p1_p2_covariance",
          "p1_p2_covariance",
          "p1_p2_covariance",
          "p1_p2_covariance",
          "p1_p2_covariance",
          "p1_p2_covariance",
          "p1_p2_covariance",
          "p1_p2_covariance",
          "p1_p2_covariance",
          "p1_p2_covariance",
          "p1_p2_covariance",
          "p1_p2_covariance",
          "p1_p2_covariance",
          "p1_p2_covariance",
          "p1_p2_covariance",
          "p1_p2_covariance",
          "p1_p2_covariance",
          "p1_p2_covariance",
          "p1_p2_covariance",
          "p1_p2_covariance",
          "p1_p2_covariance",
          "p1_p2_covariance",
          "p1_p2_covariance",
          "p1_p2_covariance",
          "p1_p2_covariance",
          "p1_p2_covariance",
          "p1_p2_covariance",
          "p1_p2_covariance",
          "p1_p2_covariance",
          "p1_p2_covariance",
          "p1_p2_covariance",
          "p1_p2_covariance",
          "p1_p2_covariance",
          "p1_p2_covariance",
          "p1_p2_covariance",
          "p1_p2_covariance",
          "p1_p2_covariance",
          "p1_p2_covariance",
          "p1_p2_covariance",
          "p1_p2_covariance",
          "p1_p2_covariance",
          "p1_p2_covariance",
          "p1_p2_covariance",
          "p1_p2_covariance",
          "p1_p2_covariance",
          "p1_p2_covariance",
          "p1_p2_covariance",
          "p1_p2_covariance",
          "p1_p2_covariance",
          "p1_p2_covariance",
          "p1_p2_covariance",
          "p1_p2_covariance",
          "p1_p2_covariance",
          "p1_p2_covariance",
          "p1_p2_covariance",
          "p1_p2_covariance",
          "p1_p2_covariance",
          "p1_p2_covariance",
          "p1_p2_covariance",
          "p1_p2_covariance",
          "p1_p2_covariance",
          "p1_p2_covariance",
          "p1_p2_covariance",
          "p1_p2_covariance",
          "p1_p2_covariance",
          "p1_p2_covariance",
          "p1_p2_covariance",
          "p1_p2_covariance",
          "p1_p2_covariance",
          "p1_p2_covariance",
          "p1_p2_covariance",
          "p1_p2_covariance",
          "p1_p2_covariance",
          "p1_p2_covariance",
          "p1_p2_covariance",
          "p1_p2_covariance",
          "p1_p2_covariance",
          "p1_p2_covariance",
          "p1_p2_covariance",
          "p1_p2_covariance",
          "p1_p2_covariance",
          "p1_p2_covariance",
          "p1_p2_covariance",
          "p1_p2_covariance",
          "p1_p2_covariance",
          "p1_p2_covariance",
          "p1_p2_covariance",
          "p1_p2_covariance",
          "p1_p2_covariance",
          "p1_p2_covariance",
          "p1_p2_covariance",
          "p1_p2_covariance",
          "p1_p2_covariance",
          "p1_p2_covariance",
          "p1_p2_covariance",
          "p1_p2_covariance",
          "p1_p2_covariance",
          "p1_p2_covariance",
          "p1_p2_covariance",
          "p1_p2_covariance",
          "p1_p2_covariance",
          "p1_p2_covariance",
          "p1_p2_covariance",
          "p1_p2_covariance",
          "p1_p2_covariance",
          "p1_p2_covariance",
          "p1_p2_covariance",
          "p1_p2_covariance",
          "p1_p2_covariance",
          "p1_p2_covariance",
          "p1_p2_covariance",
          "p1_p2_covariance",
          "p1_p2_covariance",
          "p1_p2_covariance",
          "p1_p2_covariance",
          "p1_p2_covariance",
          "p1_p2_covariance",
          "p1_p2_covariance",
          "p1_p2_covariance",
          "p1_p2_covariance",
          "p1_p2_covariance",
          "p1_p2_covariance",
          "p1_p2_covariance",
          "p1_p2_covariance",
          "p1_p2_covariance",
          "p1_p2_covariance",
          "p1_p2_covariance",
          "p1_p2_covariance",
          "p1_p2_covariance",
          "p1_p2_covariance",
          "p1_p2_covariance",
          "p1_p2_covariance",
          "p1_p2_covariance",
          "p1_p2_covariance",
          "p1_p2_covariance",
          "p1_p2_covariance",
          "p1_p2_covariance",
          "p1_p2_covariance",
          "p1_p2_covariance",
          "p1_p2_covariance",
          "p1_p2_covariance",
          "p1_p2_covariance",
          "p1_p2_covariance",
          "p1_p2_covariance",
          "p1_p2_covariance",
          "p1_p2_covariance",
          "p1_p2_covariance",
          "p1_p2_covariance",
          "p1_p2_covariance",
          "p1_p2_covariance",
          "p1_p2_covariance",
          "p1_p2_covariance",
          "p1_p2_covariance",
          "p1_p2_covariance",
          "p1_p2_covariance",
          "p1_p2_covariance",
          "p1_p2_covariance",
          "p1_p2_covariance",
          "p1_p2_covariance",
          "p1_p2_covariance",
          "p1_p2_covariance",
          "p1_p2_covariance",
          "p1_p2_covariance",
          "p1_p2_covariance",
          "p1_p2_covariance",
          "p1_p2_covariance",
          "p1_p2_covariance",
          "p1_p2_covariance",
          "p1_p2_covariance",
          "p1_p2_covariance",
          "p1_p2_covariance",
          "p1_p2_covariance",
          "p1_p2_covariance",
          "p1_p2_covariance",
          "p1_p2_covariance",
          "p1_p2_covariance",
          "p1_p2_covariance",
          "p1_p2_covariance",
          "p1_p2_covariance",
          "p1_p2_covariance",
          "p1_p2_covariance",
          "p1_p2_covariance",
          "p1_p2_covariance",
          "p1_p2_covariance",
          "p1_p2_covariance",
          "p1_p2_covariance",
          "p1_p2_covariance",
          "p1_p2_covariance",
          "p1_p2_covariance",
          "p1_p2_covariance",
          "p1_p2_covariance",
          "p1_p2_covariance",
          "p1_p2_covariance",
          "p1_p2_covariance",
          "p1_p2_covariance",
          "p1_p2_covariance",
          "p1_p2_covariance",
          "p1_p2_covariance",
          "p1_p2_covariance",
          "p1_p2_covariance",
          "p1_p2_covariance",
          "p1_p2_covariance",
          "p1_p2_covariance",
          "p1_p2_covariance",
          "p1_p2_covariance",
          "p1_p2_covariance",
          "p1_p2_covariance",
          "p1_p2_covariance",
          "p1_p2_covariance",
          "p1_p2_covariance",
          "p1_p2_covariance",
          "p1_p2_covariance",
          "p1_p2_covariance",
          "p1_p2_covariance",
          "p1_p2_covariance",
          "p1_p2_covariance",
          "p1_p2_covariance",
          "p1_p2_covariance",
          "p1_p2_covariance",
          "p1_p2_covariance",
          "p1_p2_covariance",
          "p1_p2_covariance",
          "p1_p2_covariance",
          "p1_p2_covariance",
          "p1_p2_covariance",
          "p1_p2_covariance",
          "p1_p2_covariance",
          "p1_p2_covariance",
          "p1_p2_covariance",
          "p1_p2_covariance",
          "p1_p2_covariance",
          "p1_p2_covariance",
          "p1_p2_covariance",
          "p1_p2_covariance",
          "p1_p2_covariance",
          "p1_p2_covariance",
          "p1_p2_covariance",
          "p1_p2_covariance",
          "p1_p2_covariance",
          "p1_p2_covariance",
          "p1_p2_covariance",
          "p1_p2_covariance",
          "p1_p2_covariance",
          "p1_p2_covariance",
          "p1_p2_covariance",
          "p1_p2_covariance",
          "p1_p2_covariance",
          "p1_p2_covariance",
          "p1_p2_covariance",
          "p1_p2_covariance",
          "p1_p2_covariance",
          "p1_p2_covariance",
          "p1_p2_covariance",
          "p1_p2_covariance",
          "p1_p2_covariance",
          "p1_p2_covariance",
          "p1_p2_covariance",
          "p1_p2_covariance",
          "p1_p2_covariance",
          "p1_p2_covariance",
          "p1_p2_covariance",
          "p1_p2_covariance",
          "p1_p2_covariance",
          "p1_p2_covariance",
          "p1_p2_covariance",
          "p1_p2_covariance",
          "p1_p2_covariance",
          "p1_p2_covariance",
          "p1_p2_covariance",
          "p1_p2_covariance",
          "p1_p2_covariance",
          "p1_p2_covariance",
          "p1_p2_covariance",
          "p1_p2_covariance",
          "p1_p2_covariance",
          "p1_p2_covariance"
         ],
         "x0": " ",
         "xaxis": "x",
         "y": [
          0.024205287940869194,
          0.003308878210584137,
          5.208548269820489E-4,
          0.04685256463947842,
          0.08435524724854179,
          0.14085016028810415,
          3.8395462084937E-4,
          2.6109295172188607,
          0.10672163190039903,
          0.1275290626004947,
          0.042734820804018456,
          0.08457159302536313,
          0.04459524525723624,
          0.5071733966086608,
          0.28071957202577463,
          0.25058277105254767,
          0.2982465784561448,
          0.8423984316162756,
          0.3486735493388863,
          1.5379840633920037,
          0.14426525527941259,
          3.7867899460090015,
          6.688623943316525E-4,
          0.015869236210684163,
          2.4271009505242027,
          0.11142775505940711,
          1.9317291400716181,
          0.007282264297951022,
          0.057832519459196895,
          0.001108489449080575,
          0.010864715140732988,
          0.18251329919787898,
          0.015049610472937238,
          1.1531766760928504E-4,
          0.01340614582791783,
          0.0036353337198751145,
          8.793269477952481E-4,
          0.004446483261849444,
          0.0052447574682760725,
          0.0271964289645445,
          0.0075685811227754,
          0.13211513700730956,
          0.11981449080828538,
          0.013770230533871256,
          0.0037973131768797848,
          0.008557600587648762,
          0.02785209220001431,
          0.07345890676718428,
          0.19926856022492784,
          0.04762121813394611,
          0.4154049331530033,
          0.20282685892395283,
          0.19912455850600194,
          0.0024814171022176294,
          0.22761314695948207,
          0.15372713700804286,
          0.5649214545816224,
          0.09004937169491005,
          2.239206102102188,
          0.13457858547771057,
          0.8547337181222202,
          0.14032291549448594,
          0.9910162790105025,
          2.0154240687973237,
          1.2328578509666936,
          0.12564101472246297,
          1.0417080718922203,
          3.9607053980726477,
          3.3162195747466936,
          0.007579805235077177,
          0.0162736670770512,
          0.13334763300689792,
          7.771208791102647E-5,
          0.200926054741145,
          0.02663317504504328,
          0.021632973411655435,
          0.0031028277942738575,
          0.0111912005900781,
          0.03666080606209053,
          0.06746614162929886,
          0.007690184489249083,
          0.0024166582618572663,
          0.0034885863162563728,
          0.039547254058583114,
          6.315721359526044E-4,
          0.002003736194492931,
          0.10032516712697882,
          0.07306815059461357,
          0.009175959586288022,
          0.0021098347274032263,
          0.010912377012361535,
          0.05240085119801883,
          0.0020666276334169696,
          0.4064412321169717,
          0.2686213022985383,
          0.003113418323669833,
          1.268968419462722,
          0.4048368440833706,
          0.15872005775147802,
          1.5392417158838658,
          2.804654029104066,
          0.011876784378024906,
          0.2637308467181773,
          1.8880505697943757,
          0.8825896648031443,
          0.553255411076852,
          3.4085836012686907E-6,
          0.019525353508292265,
          6.946047383965197E-4,
          0.20140181093958717,
          0.00502219050414577,
          0.14416823736241155,
          0.025404127394120343,
          0.01542343241623489,
          0.12688418927859269,
          0.050043103397200514,
          2.442645751589451E-4,
          0.24685604381021609,
          0.40097248889215575,
          0.06211775722266012,
          0.08711066951177242,
          0.008155044467792008,
          4.2256135076822045E-5,
          0.0620964227086744,
          0.6086919619561345,
          0.010857623080716715,
          0.0034184185968622713,
          0.07636339990725734,
          2.0216895166987397E-4,
          0.1306781650730575,
          0.07636832188703467,
          0.3320666286307287,
          2.5573153820844134,
          0.13763791296279326,
          0.6868647739883516,
          2.6412838437769857,
          0.09657257353699196,
          3.421393122796894,
          0.4527305849070329,
          5.263619529552817,
          0.013682446041951147,
          0.25339163858750874,
          1.581099878106049,
          0.037204399655427906,
          0.044198949242484444,
          0.0038949205938076086,
          0.01902154503037301,
          0.003560311738067069,
          0.0741736942310639,
          1.064873501188761E-4,
          0.03495540093237469,
          0.11387562919610064,
          0.009817431491631515,
          0.004970086664294895,
          0.00535995223882349,
          0.005984256622307032,
          0.1197947532021137,
          0.2718848476223216,
          0.3035335560843849,
          0.0022805009559998765,
          1.9998174886550304E-4,
          0.15020075475968714,
          0.8347687240890533,
          0.5505110461073269,
          0.20279718636535587,
          0.0561238450368527,
          0.001143777388390579,
          0.033440407686900535,
          0.758317693143959,
          0.06493537861106852,
          0.015285961107214308,
          4.873040059464969E-4,
          0.025992137145952058,
          0.0014067962508673073,
          3.089084124475744E-4,
          0.014988863257485167,
          0.004983320578003336,
          0.022068174338236265,
          0.005798949773647422,
          0.029289600901861692,
          8.528691741254071E-4,
          0.008330738093514317,
          0.004952205873934271,
          0.08603871271862862,
          2.353510583379413,
          0.010465696776725163,
          0.03459158985294762,
          0.0033341719286568033,
          0.00878633089710411,
          0.030689546899498273,
          0.44484666954921587,
          0.38460776884938536,
          0.006083122203587763,
          0.2337498966251746,
          0.7651741472852048,
          0.9846502260135279,
          0.03682510280358582,
          0.8699275334665731,
          0.19413371029659415,
          0.14742730607125926,
          0.25763327729216345,
          0.3324455181938257,
          0.25889129115858395,
          0.16310384011127355,
          0.6302668938035711,
          0.15755543380589335,
          0.449295534428123,
          2.3893356876501333,
          0.9414596038356707,
          0.46383896413772263,
          0.9779713836675274,
          0.0021566174636999075,
          0.5942032549096821,
          0.0013444015757462936,
          0.007961177453656888,
          2.890749153547927E-4,
          3.491483769626652E-5,
          0.0023870073390418797,
          9.018069850576573E-4,
          0.004707799422519167,
          0.016937809235420955,
          0.013179178005309253,
          5.3056606052301445E-5,
          6.119132296077042E-4,
          0.0039015686718529446,
          0.14542183876150644,
          0.01696542160209211,
          0.025672335330271207,
          0.02372836493323969,
          0.0025759020670082797,
          0.6200952592445275,
          5.196342504093485,
          0.04204813893062972,
          0.03183879892891768,
          0.07163481976528462,
          0.14440860155825502,
          0.2114623208157813,
          0.05551119741917729,
          0.38515938897549357,
          0.6110038590632942,
          0.08228876898241262,
          7.605860346601607,
          1.7158321948659505,
          0.166886621540111,
          0.008787692946602931,
          0.07913107024369133,
          0.44943151856999913,
          0.049867998161676544,
          0.17330941098491903,
          0.005904254025903981,
          0.007902705844066795,
          0.004323552897991218,
          0.024057993305864958,
          0.018271095603573716,
          0.01173421439261643,
          0.012072448765318532,
          0.009262257522315137,
          0.005181884224370948,
          0.009303202429434176,
          0.0016585061167747053,
          0.028184304949987155,
          0.012518589663260664,
          0.0016122785554735183,
          0.009524216810104838,
          0.081889434189865,
          0.14272313280714818,
          0.37169514687632316,
          3.633232597262902E-5,
          0.2372682513619712,
          0.015066413643319837,
          0.46023550504071575,
          0.1525667609480239,
          0.1367913966522496,
          1.6141023343775835,
          0.003286406631693246,
          0.1043970627386217,
          0.4292481900429048,
          0.020972310490913266,
          0.8440705999552051,
          2.480021339130834,
          4.199678906760135,
          0.005293566701506448,
          0.026370765633812538,
          0.3937222322628341,
          1.191073437399833,
          2.1375866555724357,
          0.35534268195123714,
          0.11190172212271815,
          0.4417448726826287,
          3.2963152684945976,
          2.1169877068778273,
          1.4388623104720726,
          2.8435381205725894,
          0.013391652756140553,
          0.001639539910518431,
          0.001485556424434331,
          0.03096527711567202,
          0.053153509820792186,
          0.005626333807112369,
          0.00240390922290317,
          0.020322108354523156,
          0.008769119352795136,
          0.015132771658028623,
          0.15257160454190882,
          0.36288454456120545,
          0.0066234148434778295,
          0.03326772030807447,
          9.650926079309726E-4,
          0.0013512994493498427,
          7.422586520455964E-5,
          0.13291222776244146,
          0.1867196536676884,
          7.366934991023929,
          1.3095562534633064E-6,
          2.560277155259381E-8,
          1.9502906727629177E-6,
          4.250427098825456E-6,
          1.867054214202798E-6,
          3.5216283751976333E-4,
          1.0084707645179945E-7,
          2.216157478469182E-4,
          8.295010831652619E-8,
          6.906327185942763E-7,
          2.335076479844211E-8,
          4.350321124827377E-6,
          1.9712072990550342E-7,
          0.0010371012923988281,
          2.1057297494961287E-4,
          2.742552779958806E-7,
          0.0019361419225876358,
          0.020226441221356622,
          2.064167457407908E-6,
          0.001618025509861807,
          6.674396588773207E-5,
          4.33674417241882E-4,
          3.023076941870278E-10,
          0.5965155370194344,
          0.015331771309249197,
          2.478005489901129E-6,
          0.004555832995573025,
          2.3961915261517692E-4,
          4.38386432383485E-5,
          5.555232100479528E-8,
          2.948296276583637E-4,
          0.4026712073238572,
          7.658995479014786E-5,
          7.225981072451715E-8,
          6.535523227954542E-8,
          6.84153992893509E-8,
          0.014188626187105743,
          0.002707453032220882,
          1.054043448023268E-4,
          0.0034285244300607813,
          0.005601491236190428,
          0.004900591954792991,
          2.992034370472557,
          1.5072921224864303E-7,
          1.2829473824583013E-6,
          13.591998158149277,
          0.2690667748862509,
          3.3437252077956936E-5,
          1.3535189168733175E-5,
          5.924553738625387E-4,
          1.3907164815012E-4,
          1.419162879922039E-5,
          7.055183221014978E-4,
          1.1195300987418588E-8,
          5.631611554233399E-5,
          3.4725192298789525E-6,
          3.4086216192771585E-4,
          1.0989273047829529E-5,
          2.736950947398451E-5,
          7.057441402700466E-4,
          0.002274013955965911,
          5.9824676408678555E-5,
          0.0034227450852662307,
          0.005535253379729351,
          0.0010997164773600898,
          10.750604299691007,
          4.234435689809221E-4,
          1.439230332887799E-4,
          0.0024394189842685925,
          6.163392085541459E-7,
          4.362811812484986E-4,
          0.019554149132587753,
          7.498700954075502E-7,
          0.1095313147967808,
          0.30793577451943394,
          1.6385759317031621E-7,
          9.871609368443961E-7,
          4.387036308948778E-8,
          5.036681212319442E-6,
          2.53197603316981E-7,
          0.04539133937168568,
          9.184258146959026E-5,
          0.02941973326972029,
          0.0064078950036463725,
          1.433764723953827E-5,
          7.931088961024249E-9,
          1.2277576312279045E-7,
          9.480946462240838E-7,
          4.150156029558185E-9,
          9.202333222394673E-4,
          2.1355680469660044E-7,
          0.04661476562748087,
          2.4801495293851077E-5,
          1.1621252322760853E-5,
          9.95878546891159E-6,
          1.0599945142289074E-7,
          0.022851140405192764,
          1.4968478632033707E-5,
          1.6524159019522383E-4,
          2.507117680010597,
          4.155871201633539E-4,
          2.440671740484508E-5,
          2.6585187852223262E-5,
          2.145077499315492E-4,
          9.083697670346873E-6,
          3.7329344176622936E-4,
          1.1269321586918676E-7,
          8.54629556707619E-7,
          6.572787980778586E-5,
          4.6731088830406504E-4,
          3.82699065436404E-4,
          0.0015286524425029118,
          7.954862597141588E-8,
          0.0016690812548931628,
          0.03901470159810231,
          0.0025810512313895976,
          2.6234947645373177E-4,
          0.07064835235738413,
          0.389616556946469,
          0.00809231560639161,
          3.283206635180239E-6,
          6.782392853157003E-8,
          2.186888532570569E-8,
          1.2388836274398461E-6,
          2.5033496714833174E-5,
          3.4297369029639987E-6,
          4.545021428408945E-8,
          5.634225946330639E-7,
          1.548859917070048E-8,
          1.147207220312733E-6,
          1.8048155424171084E-7,
          3.513218044217105E-5,
          2.0609066218940076E-5,
          1.406775879933912E-7,
          3.518360616449531E-5,
          8.31614085968565E-6,
          9.339311502325681E-8,
          5.887925065452335E-5,
          9.434486931343313E-7,
          1.7035758054396234E-5,
          8.048980734188112E-6,
          6.572464138374326E-7,
          2.1124809513460343E-6,
          2.3599657594573986E-8,
          0.00391019729535453,
          1.4879645838710914E-6,
          0.004339112311750726,
          4.5267569682677116E-5,
          2.7112454422976117E-4,
          1.5603900378492487E-6,
          5.918631268567397E-4,
          2.9963581513379035E-4,
          3.832773247020425E-4,
          5.161974244472919E-4,
          2.8880255353602843E-4,
          0.0016950488119374212,
          0.010446071328552079,
          0.020819520012783557,
          5.5539448399759836E-6,
          1.1474638897695795E-8,
          9.157578396847981E-8,
          1.808166941163824E-6,
          8.185803910242581E-5,
          3.637368246046114E-5,
          4.876930824917394E-6,
          6.488342839950424E-7,
          1.89627868027934E-7,
          8.224677056092365E-7,
          2.716553762800787E-6,
          1.2313819624239017E-7,
          1.80749477562395E-6,
          1.233773385783222E-5,
          4.781771725790718E-6,
          5.433854532397905E-6,
          5.702383784092664E-6,
          4.9890821091355045E-6,
          6.0331987232461676E-5,
          2.2768754571519725E-4,
          1.5844944534081993E-5,
          2.0785776570226323E-6,
          1.7968350249530105E-4,
          9.879329794120972E-6,
          7.4211087333586865E-6,
          0.01661840418130668,
          0.007958170561787459,
          1.4184007503232826E-4,
          1.0199167095346056E-6,
          3.796154798213602E-7,
          8.580483469653556E-8,
          2.882436944224955E-5,
          1.6659854543827127E-4,
          0.011389214238740565,
          1.165443796856981E-7,
          1.2544016355735685E-6,
          7.882974809073344E-7,
          5.597892938174559E-7,
          3.810684783212426E-8,
          5.047692922863519E-7,
          1.9684893160037537E-7,
          1.0849001153840838E-7,
          2.0466416356870882E-7,
          3.908100702652397E-7,
          1.6455187044077946E-7,
          7.133016742680463E-8,
          8.856157710369468E-7,
          4.118146734486722E-6,
          1.7942993160724429E-6,
          0.09237128926663457,
          2.714992617289508E-4,
          0.010984695587041588,
          1.3097328471378506E-5,
          7.700857609651386E-9,
          1.0428476349233139E-5,
          1.0566448509491119E-6,
          5.003617332053834E-7,
          9.62185939046245E-8,
          4.187961831384711E-8,
          3.1342467521525577E-7,
          5.587530659951003E-7,
          4.847001039606379E-6,
          3.3062886731900847E-6,
          2.686208984825629E-6,
          1.7179466762110776E-7,
          9.271708145390198E-7,
          4.1206626156281385E-7,
          0.11055862336693259,
          1.098527409405944E-6,
          1.7712770833643103E-7,
          2.710096417899176E-6,
          2.1137230071303425E-8,
          7.785426964595828E-5,
          1.7965386539562184E-5,
          1.686673610501844E-7,
          7.528565141639085E-7,
          2.904659902659233E-7,
          5.588588653917436E-7,
          1.6704589223742678E-7,
          4.1949901847346283E-7,
          9.249677466446148E-7,
          3.75603468151508E-6,
          5.497738355583781E-7,
          2.554829899072396E-4,
          3.5638282905474573E-6,
          6.201867941800037E-7,
          5.58492715824602E-8,
          3.846381495739511E-8,
          8.015057152943658E-7,
          3.238667972917631E-8,
          2.4307685572575517E-6,
          1.1696002977960878E-4,
          2.3368505630145227E-5,
          1.5655753507297558E-4,
          0.08011288998277354,
          5.3970618505867536E-8,
          2.1372655994125733E-6,
          0.14212968768982673,
          6.638009226615136E-8,
          0.0028174921783658013,
          7.751459043748825E-8,
          6.323629965923033E-5,
          0.023335059013702704,
          1.498281182392689E-7,
          1.8741074806374321E-6,
          1.5967330051069511E-6,
          1.5811948255515012E-5,
          6.877999008338983E-5,
          2.1176139456245273E-5,
          3.69127470723368E-10,
          2.0029805781869425E-6,
          9.581204057681217E-9,
          2.0677866078014273E-5,
          9.025387320483493E-7,
          5.7031244894278396E-5,
          6.364724237254541E-7,
          5.3302736150543754E-8,
          4.83391690074383E-4,
          3.0252575533508717E-4,
          7.007405118778739E-7,
          0.0011331663415318268,
          0.01092292173638991,
          5.068330615783517E-4,
          9.766497805479875E-8,
          1.498853720411369E-8,
          1.7572374134202775E-4,
          1.6817935668853298E-5,
          9.433394603362848E-4,
          1.656979245671859E-5,
          1.3112031332428138E-5,
          0.05761904836406535,
          0.0010207271357051372,
          0.003432254472911679,
          8.084261278236117E-6,
          0.002877051292677274,
          0.026786492488387773,
          1.4045858229874581E-7,
          6.707402155292059E-8,
          3.4078064860925297E-6,
          2.832571670237609E-6,
          7.410150196482645E-7,
          1.2272357343553596E-8,
          0.002180304010666294,
          1.1593988760192836E-7,
          4.731461419267734E-8,
          1.328207952316814E-6,
          0.0011640599860845097,
          1.1740112173331714E-7,
          5.300407372277726E-7,
          1.6905875777295903E-8,
          4.067338619482446E-9,
          1.1489561040650249E-8,
          2.6022304974884153E-7,
          6.427724189021876E-7,
          5.797483663824897E-6,
          4.43887438549905E-4,
          4.092265009681644E-5,
          3.0004786225461335E-5,
          5.744630138592671E-4,
          9.989282648389076E-4,
          0.005104646258978627,
          0.0015584555532200319,
          0.027004140117499423,
          0.06402992544252757,
          0.001168623046725009,
          0.29904930848176403,
          0.0011278251579888848,
          3.6622108193643725E-4,
          0.018192179692582647,
          0.006529336259124888,
          0.0027505328055568933,
          0.01645618844362224,
          0.08277417995823697,
          0.028028969062078156,
          0.039366183924695666,
          0.0035974398360712066,
          0.042829165803845895,
          0.25770480877870927,
          0.06539445565283684,
          0.18742535122138923,
          0.001344850476188937,
          0.06284231369037573,
          9.055106092557104E-4,
          0.0013505163750240393,
          0.0011851871182071596,
          0.0012025037065043888,
          0.14542398893151948,
          0.0016563406134179099,
          4.444590920847474E-5,
          0.038269983749213046,
          0.0013683685269483636,
          0.002764155860660263,
          0.0025283969176255294,
          0.0046957200610173435,
          0.008918787660951166,
          0.004082102072774072,
          0.015280340520040335,
          1.1168443067373126,
          0.976868786003747,
          0.0234704191178427,
          0.6071165270766261,
          0.15146546016258616,
          0.001963137828843051,
          0.002080880721658286,
          0.0034899033163193318,
          0.007067681681495381,
          0.0020582760637111114,
          0.00834275542253273,
          3.35800637987704E-5,
          0.0062603393193197375,
          0.001425423973777533,
          0.028485663296071415,
          0.001115752777980049,
          0.06545508994605127,
          0.006775832290532029,
          0.032352835992366547,
          0.003009718954562931,
          0.04107851381078523,
          0.0746530384864581,
          0.02860829263848989,
          0.7440894146232365,
          0.01739538782825428,
          0.03153923655231869,
          0.0678956636268949,
          0.0029666651151221074,
          0.009025079911529094,
          0.02961188244593296,
          1.2073356456580659E-4,
          0.08171722664706904,
          0.050544187296859236,
          0.07779301270286018,
          0.0012735263748750293,
          0.019409003531226775,
          0.02251440912438115,
          0.07234360029050893,
          0.010378900336830178,
          4.505969141998415E-4,
          0.00593414894030163,
          0.009947601835377904,
          6.599998106326654E-4,
          0.0018726282705711517,
          0.27479659912271465,
          0.05933108609433717,
          1.1687293539870278,
          8.105920261561706E-4,
          0.00972396164988345,
          0.02566474495879075,
          0.0023579086425788653,
          0.0034298119369594506,
          0.002403955829471487,
          7.721837676465528E-4,
          0.12480166588351924,
          0.003485456060319599,
          0.004046027216630147,
          17.5351457686814,
          0.03862569288321537,
          8.85232496546891E-4,
          0.0028194866704455788,
          0.020547842679192723,
          0.005589318595890519,
          0.01096134442313523,
          9.801992407564107E-7,
          0.0017213683343838503,
          2.6523789814853074E-4,
          0.007078253210493048,
          0.0010577694479778953,
          0.00951517521581413,
          0.05212807076829816,
          0.004242482685108468,
          0.038675343188356075,
          0.006517109592571054,
          1.9367201968032878E-4,
          0.07649958798524539,
          0.7335893727199092,
          0.01203246465753998,
          7.822868004552827E-4,
          7.73987071173838E-5,
          1.6873517680615694E-6,
          4.816706627428908E-4,
          0.020698061046278745,
          1.7770239304151916E-4,
          3.835282932025235E-5,
          5.240541803967912E-4,
          3.2594472586361274E-6,
          8.139387422019057E-4,
          5.20610229627781E-4,
          0.003475595698273586,
          0.01780467655426231,
          0.0018107988821852916,
          0.008076634161916327,
          0.018372580140962585,
          0.0013666679878698294,
          0.02518824313388862,
          0.003259550355719708,
          0.05358356657792298,
          0.010332459422587002,
          0.05860609943172307,
          0.01379883509158971,
          8.853983235226179E-4,
          0.00801360960360859,
          4.283194392832427E-4,
          0.005290489302066297,
          2.858374314823621E-4,
          0.00314861001144762,
          1.6971572121222665E-5,
          0.003244296419564294,
          0.004143885456174091,
          0.0011437150602633794,
          9.093840288432252E-4,
          7.752502164307419E-4,
          0.0018739815200674525,
          0.021294045391966564,
          0.04177370527754055,
          0.0023478954685268987,
          2.5295454443411824E-5,
          5.073195923937535E-6,
          0.0014104922062156298,
          0.035585705430187,
          0.00828509387750484,
          0.0024618465820454723,
          6.572167086133351E-4,
          4.3409493654617985E-4,
          4.276026862468053E-4,
          0.005326110855458935,
          5.276292054524057E-4,
          2.2461706660168113E-4,
          1.0124445477394445E-4,
          0.0024141937650178804,
          3.707259722464763E-4,
          3.827483471152033E-5,
          5.82475960937111E-4,
          6.290358047162395E-4,
          0.0014391407098198982,
          2.579184393960654E-4,
          0.0033166316224302115,
          2.79803348724577E-4,
          0.0012973407677559121,
          0.0012534882682958904,
          0.020370735881133372,
          0.09039740075229204,
          0.001600628083938744,
          3.099313027883748E-4,
          7.564570685461528E-5,
          9.03904432189228E-5,
          0.0010098134886928967,
          0.0074701791727347314,
          0.03887927162448904,
          7.904576581140829E-5,
          0.001469679675376756,
          0.011579988533088722,
          0.04117643083158616,
          9.439174079242135E-4,
          0.034398583704431634,
          0.004246613274589424,
          0.0031175392158366384,
          0.006089512619586763,
          0.024247372696811032,
          0.006959155787319702,
          0.01718131220064402,
          0.007175957871731823,
          0.001383264407492667,
          0.013008546879819432,
          0.281610668751815,
          0.014416506494745239,
          0.04238303356822421,
          0.010619429786327338,
          4.759542372199123E-5,
          0.004563369224599093,
          8.16268772602684E-5,
          4.044107461954006E-4,
          6.449847379922523E-5,
          4.471061079279369E-6,
          1.0122319141281083E-4,
          9.82591174216684E-5,
          2.815484946463327E-4,
          6.223701095687875E-4,
          8.0627354518893E-4,
          1.3933815952732516E-5,
          8.182940184438632E-5,
          4.6679676792186846E-4,
          0.07492436245997752,
          0.00213224461927805,
          2.4564524483273716E-4,
          4.638813930673408E-4,
          3.036175085363836E-5,
          0.011915950250245473,
          0.04314497124394519,
          4.3581764237729564E-4,
          3.97592239932079E-4,
          6.422361533766551E-4,
          0.001353807289089656,
          0.003530497369259178,
          4.945557728179846E-4,
          0.003603093862170854,
          0.006045181403307082,
          6.450909769436035E-4,
          0.07210446835225792,
          0.016128009751804045,
          0.022651823608408693,
          0.0035530834602791094,
          0.17351652732863285,
          0.0036716395908620164,
          0.0012113228622259698,
          0.0016810708395687296,
          0.0067960881186327595,
          3.763844675600566E-4,
          0.0016012031254031272,
          0.024200714034642825,
          0.03371823697628858,
          0.004013807172530837,
          0.027462914037928037,
          0.028760698235431818,
          0.002038940877234638,
          0.006891635548512097,
          0.003777713209116648,
          0.016930952318561256,
          1.8605605599514288E-4,
          5.4268911425033945E-5,
          1.2821084413270942E-4,
          0.004295367497557395,
          0.002717949459899475,
          0.004267241521656459,
          1.9941034053191625E-6,
          0.00249877087747069,
          0.0648123822100486,
          0.004446161256763999,
          9.396241114847983E-4,
          0.002704787242931759,
          1.672479538119756,
          4.510798337118764E-5,
          0.004984816544676097,
          0.0095900842490924,
          3.973194775361921E-4,
          0.023782053840662207,
          0.11198631505927292,
          0.04827116683467475,
          0.021850098197499942,
          0.1571340658030027,
          0.007589625725635107,
          0.007869911737074808,
          0.03616526923588656,
          0.0033608273554354244,
          0.0015601312144471417,
          0.14713186743404327,
          0.05174721947139783,
          0.06009081120461917,
          0.00873004331860933,
          0.06584406347870346,
          0.010685610061705368,
          3.757500893358046E-4,
          0.0015196617348525294,
          0.00178345604041709,
          0.0028275383975020765,
          0.001645173220231343,
          0.003778882919280922,
          0.005658165889897096,
          9.423175884259611E-5,
          1.5000501250267623E-4,
          0.0012311980587524822,
          0.2562377933750735,
          1.388649733412992E-4,
          0.07921063075090617,
          1.4657346914341763E-5,
          1.3899361300234017E-5,
          1.9077799934156425E-5,
          0.006376012532701815,
          0.0013345768712509983,
          0.10479727039358383,
          5.279765145973295E-5,
          2.1388867801565866E-6,
          1.700629780637537E-5,
          1.0879308285169615E-4,
          9.323417341898108E-5,
          0.002980209834694036,
          2.7724168298281375E-5,
          0.005383902299683851,
          1.1643640189654256E-4,
          5.8691471087737996E-5,
          1.2197851545129906E-4,
          1.533226922965336E-4,
          1.723039951210042E-5,
          0.009652818226176365,
          0.0026023590160238115,
          4.698813770807544E-5,
          0.012554408231181343,
          0.09104712745372076,
          4.924088288958977E-4,
          0.01772248929385982,
          0.001085241257779599,
          0.00950371414546359,
          1.072265335296764E-5,
          0.4396666815213927,
          0.11922008090648302,
          1.2439032025396063E-4,
          0.03760825604039332,
          0.0010365462831633443,
          5.400300917981869E-4,
          1.7758408073761944E-5,
          0.0013249281365036673,
          0.5386695507871898,
          7.920638294365506E-4,
          3.974406262914542E-6,
          1.0266237172066507E-4,
          2.0841065996995913E-5,
          0.013940928003204109,
          0.005823879921748701,
          0.00156538248589045,
          0.012307732785085988,
          0.010644108919152491,
          0.019257020113332798,
          4.069310035302227,
          8.125574088668605E-4,
          3.842550861077039E-4,
          6.39475108809599,
          0.449391276483965,
          5.680168918712795E-4,
          3.68652347699681E-4,
          0.0031989910907170172,
          0.002196224731484114,
          3.7554915733371044E-4,
          0.0053940896732790206,
          1.2445441141430127E-6,
          0.0013135100332065557,
          1.5216987850327513E-4,
          0.006912370582900848,
          2.4425191403972647E-4,
          0.002841304334798578,
          0.004863172364651792,
          0.019066319397010315,
          9.406201994889101E-4,
          0.026363078320267495,
          0.04518756831535578,
          0.012452329998710748,
          6.296121089462019,
          0.006015673322239331,
          0.004650089266440699,
          0.02856224962855005,
          9.406750926397659E-5,
          0.00441548758331593,
          0.053558399300627155,
          2.1165656936536563E-5,
          0.2105894219485887,
          0.27771831406235004,
          2.3698946388605617E-4,
          7.85352229495015E-5,
          5.907935210148873E-5,
          7.433678509228628E-4,
          2.7346403959198167E-4,
          0.04831680689083475,
          4.5270350243429625E-4,
          0.029412777608737246,
          0.017770221450016336,
          2.1644346218110556E-4,
          7.134730027483168E-6,
          3.230482076299155E-4,
          5.072255189954723E-4,
          9.540585715145462E-5,
          0.0019224488087034536,
          9.843875761206408E-5,
          0.07699258300805048,
          5.379336576054165E-4,
          4.3406538695144357E-4,
          3.376758313210877E-4,
          1.972264498124566E-5,
          0.11881950820700339,
          4.985238159109642E-4,
          0.0018156740392437853,
          14.759301348439758,
          0.008843648854818214,
          3.266373623269641E-4,
          6.032680050676926E-4,
          0.00462960960212258,
          4.786653510918756E-4,
          0.004488658858418795,
          7.395680455298205E-7,
          8.388004573035825E-5,
          2.9385532746760315E-4,
          0.00404231240769099,
          0.001416036312233453,
          0.008484320265913328,
          1.2673135507587397E-4,
          0.005922561252084833,
          0.08646280751565062,
          0.009127422178302258,
          5.017582338938649E-4,
          0.16363453098509753,
          1.1900443434766168,
          0.02196262570356843,
          1.106266573979284E-4,
          4.803221255133901E-6,
          4.2580024458643325E-7,
          5.276844915347306E-5,
          0.001570086995702638,
          5.4679440286299054E-5,
          2.81776372606412E-6,
          3.603714507580255E-5,
          4.937758994725243E-7,
          6.455203914989028E-5,
          1.8792319370788386E-5,
          7.702439000565431E-4,
          0.0012735634493069642,
          2.6908309365427204E-5,
          0.0011669486461870996,
          7.761521241598128E-4,
          1.8901371702873885E-5,
          0.0026225005350539402,
          1.0569016726690021E-4,
          0.0018873738731643788,
          6.395459794045899E-4,
          3.8378513414046494E-4,
          3.065539626654471E-4,
          6.981977650475965E-6,
          0.012458526193527806,
          5.593095845725685E-5,
          0.010664444889177695,
          2.5305955610940953E-4,
          0.002054293284699237,
          1.1449022064980278E-5,
          0.00308309882853526,
          0.002476919971394768,
          0.0014733904902389328,
          0.001524903812006223,
          0.0010530326536291029,
          0.003967051148484231,
          0.033193618903343484,
          0.06563458660339037,
          2.461947315300016E-4,
          1.0992952709680212E-6,
          1.5108534890260437E-6,
          1.0739811981850377E-4,
          0.0037557858606070294,
          0.0012056686963724172,
          2.3720588566018152E-4,
          4.4013423811067546E-5,
          2.0023773073013297E-5,
          4.061875762443913E-5,
          2.4207866673908518E-4,
          1.5232796385293002E-5,
          4.442170846700029E-5,
          7.864286734223214E-5,
          2.3749325794386735E-4,
          9.97963431330329E-5,
          3.28691309321313E-5,
          1.1941669269940272E-4,
          4.3339732497522644E-4,
          0.0012734184417185765,
          1.4209615209920192E-4,
          1.824773775278393E-4,
          4.990714796054762E-4,
          2.514412265170043E-4,
          2.1425273837550213E-4,
          0.04095272164968832,
          0.059632252250007484,
          0.0010600496537457697,
          3.8673985565090226E-5,
          1.1809197327672597E-5,
          5.878326448226328E-6,
          3.786659779112531E-4,
          0.002472119208880672,
          0.04682580735596344,
          6.540368584825656E-6,
          8.869656843376564E-5,
          1.6135851195593032E-4,
          2.1895769323523268E-4,
          9.877605711093724E-6,
          1.9306890843529318E-4,
          4.887602500205781E-5,
          2.8888917429065255E-5,
          5.670668861570833E-5,
          1.7054894402169303E-4,
          5.17150200245232E-5,
          4.7934353100748245E-5,
          1.4454370962815698E-4,
          1.6385313330942631E-4,
          3.091319567691942E-4,
          0.35891747335767965,
          0.004380702197546693,
          0.04801179776728515,
          7.983929358528735E-4,
          1.185427936439233E-6,
          4.698777425495074E-4,
          2.0610133628970615E-5,
          3.122594328124384E-5,
          5.516960886399635E-6,
          9.607925201664629E-7,
          1.242382664386083E-5,
          1.6437326777370197E-5,
          8.202963350718861E-5,
          1.0029792653145757E-4,
          1.0291817888991748E-4,
          3.4397113837928328E-6,
          1.9350492423993128E-5,
          3.055209703539802E-5,
          0.20259275317218922,
          1.0621189047983295E-4,
          1.3707075760929247E-5,
          7.818125927643594E-5,
          1.6786377929339332E-6,
          0.0021250482766644067,
          0.0017484237875620395,
          1.7378693614953896E-5,
          3.744531390122644E-5,
          2.7524943156814698E-5,
          5.55017083744525E-5,
          3.8483230540361694E-5,
          3.0207885804314458E-5,
          1.116373615912431E-4,
          3.1307718521986195E-4,
          3.91053071172838E-5,
          0.009343454425804892,
          4.572002650808199E-4,
          2.3892623206158456E-4,
          2.9342860130776334E-5,
          1.1517998991429291E-4,
          1.0170430401282483E-4,
          9.626287974223734E-6,
          1.367027915214876E-4,
          0.001983749086065131,
          2.0847428015644958E-4,
          0.0011141828803159083,
          0.09801617241549694,
          8.427831818105225E-5,
          2.0472497954960163E-4,
          0.13907700428271313,
          9.149638892691516E-5,
          0.005335120300237816,
          4.871516614471971E-5,
          0.0010876861793446154,
          0.04424499694781057,
          1.1224458785106117E-5,
          2.2394995587733595E-5,
          3.1613423819015246E-5,
          5.757996897025463E-4,
          9.587221754626653E-4,
          6.588935558916845E-4,
          5.738338988790258E-8,
          1.4918812456698576E-4,
          3.7934516983867974E-5,
          6.628093098493357E-4,
          6.046694185862729E-5,
          8.704998948097689E-4,
          0.0013049126468594246,
          3.325637505421811E-6,
          0.003451896764355052,
          0.0037798600101744823,
          3.636772814934313E-5,
          0.011531447435463929,
          0.07777196178567657,
          0.010910668646655186,
          9.965559414771965E-5,
          7.163613168538101E-5,
          0.002559822905997711,
          7.800666005509832E-4,
          0.012949181305795284,
          5.164523619766192E-4,
          3.1542700830289864E-4,
          0.2049317690145067,
          0.016096288637365064,
          0.031908446899078256,
          5.501457171715295E-4,
          0.03056217617016077,
          0.03766047623004182,
          1.597670561284859E-5,
          2.2064000789978652E-5,
          1.7186507863086313E-4,
          1.9616230256265442E-4,
          7.705723741706735E-5,
          1.3936305126299103E-5,
          0.007817036899917747,
          7.048233484836932E-6,
          5.283467442582288E-6,
          8.530150135817697E-5,
          0.03838854632783254,
          8.681560279783093E-6,
          4.371795335142256E-4,
          1.0658604928294266E-6,
          4.7115423368092024E-7,
          1.0328853705152056E-6,
          7.719539849146813E-5,
          5.8764335593328966E-5,
          0.0012569657926314738
         ],
         "y0": " ",
         "yaxis": "y",
         "type": "violin"
        }
       ],
       "layout": {
        "template": {
         "data": {
          "histogram2dcontour": [
           {
            "type": "histogram2dcontour",
            "colorbar": {
             "outlinewidth": 0,
             "ticks": ""
            },
            "colorscale": [
             [
              0.0,
              "#0d0887"
             ],
             [
              0.1111111111111111,
              "#46039f"
             ],
             [
              0.2222222222222222,
              "#7201a8"
             ],
             [
              0.3333333333333333,
              "#9c179e"
             ],
             [
              0.4444444444444444,
              "#bd3786"
             ],
             [
              0.5555555555555556,
              "#d8576b"
             ],
             [
              0.6666666666666666,
              "#ed7953"
             ],
             [
              0.7777777777777778,
              "#fb9f3a"
             ],
             [
              0.8888888888888888,
              "#fdca26"
             ],
             [
              1.0,
              "#f0f921"
             ]
            ]
           }
          ],
          "choropleth": [
           {
            "type": "choropleth",
            "colorbar": {
             "outlinewidth": 0,
             "ticks": ""
            }
           }
          ],
          "histogram2d": [
           {
            "type": "histogram2d",
            "colorbar": {
             "outlinewidth": 0,
             "ticks": ""
            },
            "colorscale": [
             [
              0.0,
              "#0d0887"
             ],
             [
              0.1111111111111111,
              "#46039f"
             ],
             [
              0.2222222222222222,
              "#7201a8"
             ],
             [
              0.3333333333333333,
              "#9c179e"
             ],
             [
              0.4444444444444444,
              "#bd3786"
             ],
             [
              0.5555555555555556,
              "#d8576b"
             ],
             [
              0.6666666666666666,
              "#ed7953"
             ],
             [
              0.7777777777777778,
              "#fb9f3a"
             ],
             [
              0.8888888888888888,
              "#fdca26"
             ],
             [
              1.0,
              "#f0f921"
             ]
            ]
           }
          ],
          "heatmap": [
           {
            "type": "heatmap",
            "colorbar": {
             "outlinewidth": 0,
             "ticks": ""
            },
            "colorscale": [
             [
              0.0,
              "#0d0887"
             ],
             [
              0.1111111111111111,
              "#46039f"
             ],
             [
              0.2222222222222222,
              "#7201a8"
             ],
             [
              0.3333333333333333,
              "#9c179e"
             ],
             [
              0.4444444444444444,
              "#bd3786"
             ],
             [
              0.5555555555555556,
              "#d8576b"
             ],
             [
              0.6666666666666666,
              "#ed7953"
             ],
             [
              0.7777777777777778,
              "#fb9f3a"
             ],
             [
              0.8888888888888888,
              "#fdca26"
             ],
             [
              1.0,
              "#f0f921"
             ]
            ]
           }
          ],
          "heatmapgl": [
           {
            "type": "heatmapgl",
            "colorbar": {
             "outlinewidth": 0,
             "ticks": ""
            },
            "colorscale": [
             [
              0.0,
              "#0d0887"
             ],
             [
              0.1111111111111111,
              "#46039f"
             ],
             [
              0.2222222222222222,
              "#7201a8"
             ],
             [
              0.3333333333333333,
              "#9c179e"
             ],
             [
              0.4444444444444444,
              "#bd3786"
             ],
             [
              0.5555555555555556,
              "#d8576b"
             ],
             [
              0.6666666666666666,
              "#ed7953"
             ],
             [
              0.7777777777777778,
              "#fb9f3a"
             ],
             [
              0.8888888888888888,
              "#fdca26"
             ],
             [
              1.0,
              "#f0f921"
             ]
            ]
           }
          ],
          "contourcarpet": [
           {
            "type": "contourcarpet",
            "colorbar": {
             "outlinewidth": 0,
             "ticks": ""
            }
           }
          ],
          "contour": [
           {
            "type": "contour",
            "colorbar": {
             "outlinewidth": 0,
             "ticks": ""
            },
            "colorscale": [
             [
              0.0,
              "#0d0887"
             ],
             [
              0.1111111111111111,
              "#46039f"
             ],
             [
              0.2222222222222222,
              "#7201a8"
             ],
             [
              0.3333333333333333,
              "#9c179e"
             ],
             [
              0.4444444444444444,
              "#bd3786"
             ],
             [
              0.5555555555555556,
              "#d8576b"
             ],
             [
              0.6666666666666666,
              "#ed7953"
             ],
             [
              0.7777777777777778,
              "#fb9f3a"
             ],
             [
              0.8888888888888888,
              "#fdca26"
             ],
             [
              1.0,
              "#f0f921"
             ]
            ]
           }
          ],
          "surface": [
           {
            "type": "surface",
            "colorbar": {
             "outlinewidth": 0,
             "ticks": ""
            },
            "colorscale": [
             [
              0.0,
              "#0d0887"
             ],
             [
              0.1111111111111111,
              "#46039f"
             ],
             [
              0.2222222222222222,
              "#7201a8"
             ],
             [
              0.3333333333333333,
              "#9c179e"
             ],
             [
              0.4444444444444444,
              "#bd3786"
             ],
             [
              0.5555555555555556,
              "#d8576b"
             ],
             [
              0.6666666666666666,
              "#ed7953"
             ],
             [
              0.7777777777777778,
              "#fb9f3a"
             ],
             [
              0.8888888888888888,
              "#fdca26"
             ],
             [
              1.0,
              "#f0f921"
             ]
            ]
           }
          ],
          "mesh3d": [
           {
            "type": "mesh3d",
            "colorbar": {
             "outlinewidth": 0,
             "ticks": ""
            }
           }
          ],
          "scatter": [
           {
            "fillpattern": {
             "fillmode": "overlay",
             "size": 10,
             "solidity": 0.2
            },
            "type": "scatter"
           }
          ],
          "parcoords": [
           {
            "type": "parcoords",
            "line": {
             "colorbar": {
              "outlinewidth": 0,
              "ticks": ""
             }
            }
           }
          ],
          "scatterpolargl": [
           {
            "type": "scatterpolargl",
            "marker": {
             "colorbar": {
              "outlinewidth": 0,
              "ticks": ""
             }
            }
           }
          ],
          "bar": [
           {
            "error_x": {
             "color": "#2a3f5f"
            },
            "error_y": {
             "color": "#2a3f5f"
            },
            "marker": {
             "line": {
              "color": "#E5ECF6",
              "width": 0.5
             },
             "pattern": {
              "fillmode": "overlay",
              "size": 10,
              "solidity": 0.2
             }
            },
            "type": "bar"
           }
          ],
          "scattergeo": [
           {
            "type": "scattergeo",
            "marker": {
             "colorbar": {
              "outlinewidth": 0,
              "ticks": ""
             }
            }
           }
          ],
          "scatterpolar": [
           {
            "type": "scatterpolar",
            "marker": {
             "colorbar": {
              "outlinewidth": 0,
              "ticks": ""
             }
            }
           }
          ],
          "histogram": [
           {
            "marker": {
             "pattern": {
              "fillmode": "overlay",
              "size": 10,
              "solidity": 0.2
             }
            },
            "type": "histogram"
           }
          ],
          "scattergl": [
           {
            "type": "scattergl",
            "marker": {
             "colorbar": {
              "outlinewidth": 0,
              "ticks": ""
             }
            }
           }
          ],
          "scatter3d": [
           {
            "type": "scatter3d",
            "line": {
             "colorbar": {
              "outlinewidth": 0,
              "ticks": ""
             }
            },
            "marker": {
             "colorbar": {
              "outlinewidth": 0,
              "ticks": ""
             }
            }
           }
          ],
          "scattermapbox": [
           {
            "type": "scattermapbox",
            "marker": {
             "colorbar": {
              "outlinewidth": 0,
              "ticks": ""
             }
            }
           }
          ],
          "scatterternary": [
           {
            "type": "scatterternary",
            "marker": {
             "colorbar": {
              "outlinewidth": 0,
              "ticks": ""
             }
            }
           }
          ],
          "scattercarpet": [
           {
            "type": "scattercarpet",
            "marker": {
             "colorbar": {
              "outlinewidth": 0,
              "ticks": ""
             }
            }
           }
          ],
          "carpet": [
           {
            "aaxis": {
             "endlinecolor": "#2a3f5f",
             "gridcolor": "white",
             "linecolor": "white",
             "minorgridcolor": "white",
             "startlinecolor": "#2a3f5f"
            },
            "baxis": {
             "endlinecolor": "#2a3f5f",
             "gridcolor": "white",
             "linecolor": "white",
             "minorgridcolor": "white",
             "startlinecolor": "#2a3f5f"
            },
            "type": "carpet"
           }
          ],
          "table": [
           {
            "cells": {
             "fill": {
              "color": "#EBF0F8"
             },
             "line": {
              "color": "white"
             }
            },
            "header": {
             "fill": {
              "color": "#C8D4E3"
             },
             "line": {
              "color": "white"
             }
            },
            "type": "table"
           }
          ],
          "barpolar": [
           {
            "marker": {
             "line": {
              "color": "#E5ECF6",
              "width": 0.5
             },
             "pattern": {
              "fillmode": "overlay",
              "size": 10,
              "solidity": 0.2
             }
            },
            "type": "barpolar"
           }
          ],
          "pie": [
           {
            "automargin": true,
            "type": "pie"
           }
          ]
         },
         "layout": {
          "autotypenumbers": "strict",
          "colorway": [
           "#636efa",
           "#EF553B",
           "#00cc96",
           "#ab63fa",
           "#FFA15A",
           "#19d3f3",
           "#FF6692",
           "#B6E880",
           "#FF97FF",
           "#FECB52"
          ],
          "font": {
           "color": "#2a3f5f"
          },
          "hovermode": "closest",
          "hoverlabel": {
           "align": "left"
          },
          "paper_bgcolor": "white",
          "plot_bgcolor": "#E5ECF6",
          "polar": {
           "bgcolor": "#E5ECF6",
           "angularaxis": {
            "gridcolor": "white",
            "linecolor": "white",
            "ticks": ""
           },
           "radialaxis": {
            "gridcolor": "white",
            "linecolor": "white",
            "ticks": ""
           }
          },
          "ternary": {
           "bgcolor": "#E5ECF6",
           "aaxis": {
            "gridcolor": "white",
            "linecolor": "white",
            "ticks": ""
           },
           "baxis": {
            "gridcolor": "white",
            "linecolor": "white",
            "ticks": ""
           },
           "caxis": {
            "gridcolor": "white",
            "linecolor": "white",
            "ticks": ""
           }
          },
          "coloraxis": {
           "colorbar": {
            "outlinewidth": 0,
            "ticks": ""
           }
          },
          "colorscale": {
           "sequential": [
            [
             0.0,
             "#0d0887"
            ],
            [
             0.1111111111111111,
             "#46039f"
            ],
            [
             0.2222222222222222,
             "#7201a8"
            ],
            [
             0.3333333333333333,
             "#9c179e"
            ],
            [
             0.4444444444444444,
             "#bd3786"
            ],
            [
             0.5555555555555556,
             "#d8576b"
            ],
            [
             0.6666666666666666,
             "#ed7953"
            ],
            [
             0.7777777777777778,
             "#fb9f3a"
            ],
            [
             0.8888888888888888,
             "#fdca26"
            ],
            [
             1.0,
             "#f0f921"
            ]
           ],
           "sequentialminus": [
            [
             0.0,
             "#0d0887"
            ],
            [
             0.1111111111111111,
             "#46039f"
            ],
            [
             0.2222222222222222,
             "#7201a8"
            ],
            [
             0.3333333333333333,
             "#9c179e"
            ],
            [
             0.4444444444444444,
             "#bd3786"
            ],
            [
             0.5555555555555556,
             "#d8576b"
            ],
            [
             0.6666666666666666,
             "#ed7953"
            ],
            [
             0.7777777777777778,
             "#fb9f3a"
            ],
            [
             0.8888888888888888,
             "#fdca26"
            ],
            [
             1.0,
             "#f0f921"
            ]
           ],
           "diverging": [
            [
             0,
             "#8e0152"
            ],
            [
             0.1,
             "#c51b7d"
            ],
            [
             0.2,
             "#de77ae"
            ],
            [
             0.3,
             "#f1b6da"
            ],
            [
             0.4,
             "#fde0ef"
            ],
            [
             0.5,
             "#f7f7f7"
            ],
            [
             0.6,
             "#e6f5d0"
            ],
            [
             0.7,
             "#b8e186"
            ],
            [
             0.8,
             "#7fbc41"
            ],
            [
             0.9,
             "#4d9221"
            ],
            [
             1,
             "#276419"
            ]
           ]
          },
          "xaxis": {
           "gridcolor": "white",
           "linecolor": "white",
           "ticks": "",
           "title": {
            "standoff": 15
           },
           "zerolinecolor": "white",
           "automargin": true,
           "zerolinewidth": 2
          },
          "yaxis": {
           "gridcolor": "white",
           "linecolor": "white",
           "ticks": "",
           "title": {
            "standoff": 15
           },
           "zerolinecolor": "white",
           "automargin": true,
           "zerolinewidth": 2
          },
          "scene": {
           "xaxis": {
            "backgroundcolor": "#E5ECF6",
            "gridcolor": "white",
            "linecolor": "white",
            "showbackground": true,
            "ticks": "",
            "zerolinecolor": "white",
            "gridwidth": 2
           },
           "yaxis": {
            "backgroundcolor": "#E5ECF6",
            "gridcolor": "white",
            "linecolor": "white",
            "showbackground": true,
            "ticks": "",
            "zerolinecolor": "white",
            "gridwidth": 2
           },
           "zaxis": {
            "backgroundcolor": "#E5ECF6",
            "gridcolor": "white",
            "linecolor": "white",
            "showbackground": true,
            "ticks": "",
            "zerolinecolor": "white",
            "gridwidth": 2
           }
          },
          "shapedefaults": {
           "line": {
            "color": "#2a3f5f"
           }
          },
          "annotationdefaults": {
           "arrowcolor": "#2a3f5f",
           "arrowhead": 0,
           "arrowwidth": 1
          },
          "geo": {
           "bgcolor": "white",
           "landcolor": "#E5ECF6",
           "subunitcolor": "white",
           "showland": true,
           "showlakes": true,
           "lakecolor": "white"
          },
          "title": {
           "x": 0.05
          },
          "mapbox": {
           "style": "light"
          }
         }
        },
        "xaxis": {
         "anchor": "y",
         "domain": [
          0.0,
          1.0
         ],
         "title": {
          "text": "Error type"
         }
        },
        "yaxis": {
         "anchor": "x",
         "domain": [
          0.0,
          1.0
         ],
         "title": {
          "text": "log(value)"
         },
         "type": "log",
         "range": [
          -22,
          3
         ]
        },
        "legend": {
         "tracegroupgap": 0
        },
        "margin": {
         "t": 60
        },
        "violinmode": "group",
        "title": {
         "text": "Errors normalize by σ"
        }
       },
       "config": {
        "plotlyServerURL": "https://plot.ly"
       }
      },
      "text/html": "<div>                            <div id=\"d0343e6c-63bb-4232-8832-5d5c93aabdaa\" class=\"plotly-graph-div\" style=\"height:525px; width:100%;\"></div>            <script type=\"text/javascript\">                require([\"plotly\"], function(Plotly) {                    window.PLOTLYENV=window.PLOTLYENV || {};                                    if (document.getElementById(\"d0343e6c-63bb-4232-8832-5d5c93aabdaa\")) {                    Plotly.newPlot(                        \"d0343e6c-63bb-4232-8832-5d5c93aabdaa\",                        [{\"alignmentgroup\":\"True\",\"box\":{\"visible\":true},\"hovertemplate\":\"variable=%{x}\\u003cbr\\u003evalue=%{y}\\u003cextra\\u003e\\u003c\\u002fextra\\u003e\",\"legendgroup\":\"\",\"marker\":{\"color\":\"#636efa\"},\"name\":\"\",\"offsetgroup\":\"\",\"orientation\":\"v\",\"points\":\"all\",\"scalegroup\":\"True\",\"showlegend\":false,\"x\":[\"squared_error\",\"squared_error\",\"squared_error\",\"squared_error\",\"squared_error\",\"squared_error\",\"squared_error\",\"squared_error\",\"squared_error\",\"squared_error\",\"squared_error\",\"squared_error\",\"squared_error\",\"squared_error\",\"squared_error\",\"squared_error\",\"squared_error\",\"squared_error\",\"squared_error\",\"squared_error\",\"squared_error\",\"squared_error\",\"squared_error\",\"squared_error\",\"squared_error\",\"squared_error\",\"squared_error\",\"squared_error\",\"squared_error\",\"squared_error\",\"squared_error\",\"squared_error\",\"squared_error\",\"squared_error\",\"squared_error\",\"squared_error\",\"squared_error\",\"squared_error\",\"squared_error\",\"squared_error\",\"squared_error\",\"squared_error\",\"squared_error\",\"squared_error\",\"squared_error\",\"squared_error\",\"squared_error\",\"squared_error\",\"squared_error\",\"squared_error\",\"squared_error\",\"squared_error\",\"squared_error\",\"squared_error\",\"squared_error\",\"squared_error\",\"squared_error\",\"squared_error\",\"squared_error\",\"squared_error\",\"squared_error\",\"squared_error\",\"squared_error\",\"squared_error\",\"squared_error\",\"squared_error\",\"squared_error\",\"squared_error\",\"squared_error\",\"squared_error\",\"squared_error\",\"squared_error\",\"squared_error\",\"squared_error\",\"squared_error\",\"squared_error\",\"squared_error\",\"squared_error\",\"squared_error\",\"squared_error\",\"squared_error\",\"squared_error\",\"squared_error\",\"squared_error\",\"squared_error\",\"squared_error\",\"squared_error\",\"squared_error\",\"squared_error\",\"squared_error\",\"squared_error\",\"squared_error\",\"squared_error\",\"squared_error\",\"squared_error\",\"squared_error\",\"squared_error\",\"squared_error\",\"squared_error\",\"squared_error\",\"squared_error\",\"squared_error\",\"squared_error\",\"squared_error\",\"squared_error\",\"squared_error\",\"squared_error\",\"squared_error\",\"squared_error\",\"squared_error\",\"squared_error\",\"squared_error\",\"squared_error\",\"squared_error\",\"squared_error\",\"squared_error\",\"squared_error\",\"squared_error\",\"squared_error\",\"squared_error\",\"squared_error\",\"squared_error\",\"squared_error\",\"squared_error\",\"squared_error\",\"squared_error\",\"squared_error\",\"squared_error\",\"squared_error\",\"squared_error\",\"squared_error\",\"squared_error\",\"squared_error\",\"squared_error\",\"squared_error\",\"squared_error\",\"squared_error\",\"squared_error\",\"squared_error\",\"squared_error\",\"squared_error\",\"squared_error\",\"squared_error\",\"squared_error\",\"squared_error\",\"squared_error\",\"squared_error\",\"squared_error\",\"squared_error\",\"squared_error\",\"squared_error\",\"squared_error\",\"squared_error\",\"squared_error\",\"squared_error\",\"squared_error\",\"squared_error\",\"squared_error\",\"squared_error\",\"squared_error\",\"squared_error\",\"squared_error\",\"squared_error\",\"squared_error\",\"squared_error\",\"squared_error\",\"squared_error\",\"squared_error\",\"squared_error\",\"squared_error\",\"squared_error\",\"squared_error\",\"squared_error\",\"squared_error\",\"squared_error\",\"squared_error\",\"squared_error\",\"squared_error\",\"squared_error\",\"squared_error\",\"squared_error\",\"squared_error\",\"squared_error\",\"squared_error\",\"squared_error\",\"squared_error\",\"squared_error\",\"squared_error\",\"squared_error\",\"squared_error\",\"squared_error\",\"squared_error\",\"squared_error\",\"squared_error\",\"squared_error\",\"squared_error\",\"squared_error\",\"squared_error\",\"squared_error\",\"squared_error\",\"squared_error\",\"squared_error\",\"squared_error\",\"squared_error\",\"squared_error\",\"squared_error\",\"squared_error\",\"squared_error\",\"squared_error\",\"squared_error\",\"squared_error\",\"squared_error\",\"squared_error\",\"squared_error\",\"squared_error\",\"squared_error\",\"squared_error\",\"squared_error\",\"squared_error\",\"squared_error\",\"squared_error\",\"squared_error\",\"squared_error\",\"squared_error\",\"squared_error\",\"squared_error\",\"squared_error\",\"squared_error\",\"squared_error\",\"squared_error\",\"squared_error\",\"squared_error\",\"squared_error\",\"squared_error\",\"squared_error\",\"squared_error\",\"squared_error\",\"squared_error\",\"squared_error\",\"squared_error\",\"squared_error\",\"squared_error\",\"squared_error\",\"squared_error\",\"squared_error\",\"squared_error\",\"squared_error\",\"squared_error\",\"squared_error\",\"squared_error\",\"squared_error\",\"squared_error\",\"squared_error\",\"squared_error\",\"squared_error\",\"squared_error\",\"squared_error\",\"squared_error\",\"squared_error\",\"squared_error\",\"squared_error\",\"squared_error\",\"squared_error\",\"squared_error\",\"squared_error\",\"squared_error\",\"squared_error\",\"squared_error\",\"squared_error\",\"squared_error\",\"squared_error\",\"squared_error\",\"squared_error\",\"squared_error\",\"squared_error\",\"squared_error\",\"squared_error\",\"squared_error\",\"squared_error\",\"squared_error\",\"squared_error\",\"squared_error\",\"squared_error\",\"squared_error\",\"squared_error\",\"squared_error\",\"squared_error\",\"squared_error\",\"squared_error\",\"squared_error\",\"squared_error\",\"squared_error\",\"squared_error\",\"squared_error\",\"squared_error\",\"squared_error\",\"squared_error\",\"squared_error\",\"squared_error\",\"squared_error\",\"squared_error\",\"squared_error\",\"squared_error\",\"squared_error\",\"squared_error\",\"squared_error\",\"squared_error\",\"squared_error\",\"squared_error\",\"squared_error\",\"squared_error\",\"squared_error\",\"squared_error\",\"p1_variance\",\"p1_variance\",\"p1_variance\",\"p1_variance\",\"p1_variance\",\"p1_variance\",\"p1_variance\",\"p1_variance\",\"p1_variance\",\"p1_variance\",\"p1_variance\",\"p1_variance\",\"p1_variance\",\"p1_variance\",\"p1_variance\",\"p1_variance\",\"p1_variance\",\"p1_variance\",\"p1_variance\",\"p1_variance\",\"p1_variance\",\"p1_variance\",\"p1_variance\",\"p1_variance\",\"p1_variance\",\"p1_variance\",\"p1_variance\",\"p1_variance\",\"p1_variance\",\"p1_variance\",\"p1_variance\",\"p1_variance\",\"p1_variance\",\"p1_variance\",\"p1_variance\",\"p1_variance\",\"p1_variance\",\"p1_variance\",\"p1_variance\",\"p1_variance\",\"p1_variance\",\"p1_variance\",\"p1_variance\",\"p1_variance\",\"p1_variance\",\"p1_variance\",\"p1_variance\",\"p1_variance\",\"p1_variance\",\"p1_variance\",\"p1_variance\",\"p1_variance\",\"p1_variance\",\"p1_variance\",\"p1_variance\",\"p1_variance\",\"p1_variance\",\"p1_variance\",\"p1_variance\",\"p1_variance\",\"p1_variance\",\"p1_variance\",\"p1_variance\",\"p1_variance\",\"p1_variance\",\"p1_variance\",\"p1_variance\",\"p1_variance\",\"p1_variance\",\"p1_variance\",\"p1_variance\",\"p1_variance\",\"p1_variance\",\"p1_variance\",\"p1_variance\",\"p1_variance\",\"p1_variance\",\"p1_variance\",\"p1_variance\",\"p1_variance\",\"p1_variance\",\"p1_variance\",\"p1_variance\",\"p1_variance\",\"p1_variance\",\"p1_variance\",\"p1_variance\",\"p1_variance\",\"p1_variance\",\"p1_variance\",\"p1_variance\",\"p1_variance\",\"p1_variance\",\"p1_variance\",\"p1_variance\",\"p1_variance\",\"p1_variance\",\"p1_variance\",\"p1_variance\",\"p1_variance\",\"p1_variance\",\"p1_variance\",\"p1_variance\",\"p1_variance\",\"p1_variance\",\"p1_variance\",\"p1_variance\",\"p1_variance\",\"p1_variance\",\"p1_variance\",\"p1_variance\",\"p1_variance\",\"p1_variance\",\"p1_variance\",\"p1_variance\",\"p1_variance\",\"p1_variance\",\"p1_variance\",\"p1_variance\",\"p1_variance\",\"p1_variance\",\"p1_variance\",\"p1_variance\",\"p1_variance\",\"p1_variance\",\"p1_variance\",\"p1_variance\",\"p1_variance\",\"p1_variance\",\"p1_variance\",\"p1_variance\",\"p1_variance\",\"p1_variance\",\"p1_variance\",\"p1_variance\",\"p1_variance\",\"p1_variance\",\"p1_variance\",\"p1_variance\",\"p1_variance\",\"p1_variance\",\"p1_variance\",\"p1_variance\",\"p1_variance\",\"p1_variance\",\"p1_variance\",\"p1_variance\",\"p1_variance\",\"p1_variance\",\"p1_variance\",\"p1_variance\",\"p1_variance\",\"p1_variance\",\"p1_variance\",\"p1_variance\",\"p1_variance\",\"p1_variance\",\"p1_variance\",\"p1_variance\",\"p1_variance\",\"p1_variance\",\"p1_variance\",\"p1_variance\",\"p1_variance\",\"p1_variance\",\"p1_variance\",\"p1_variance\",\"p1_variance\",\"p1_variance\",\"p1_variance\",\"p1_variance\",\"p1_variance\",\"p1_variance\",\"p1_variance\",\"p1_variance\",\"p1_variance\",\"p1_variance\",\"p1_variance\",\"p1_variance\",\"p1_variance\",\"p1_variance\",\"p1_variance\",\"p1_variance\",\"p1_variance\",\"p1_variance\",\"p1_variance\",\"p1_variance\",\"p1_variance\",\"p1_variance\",\"p1_variance\",\"p1_variance\",\"p1_variance\",\"p1_variance\",\"p1_variance\",\"p1_variance\",\"p1_variance\",\"p1_variance\",\"p1_variance\",\"p1_variance\",\"p1_variance\",\"p1_variance\",\"p1_variance\",\"p1_variance\",\"p1_variance\",\"p1_variance\",\"p1_variance\",\"p1_variance\",\"p1_variance\",\"p1_variance\",\"p1_variance\",\"p1_variance\",\"p1_variance\",\"p1_variance\",\"p1_variance\",\"p1_variance\",\"p1_variance\",\"p1_variance\",\"p1_variance\",\"p1_variance\",\"p1_variance\",\"p1_variance\",\"p1_variance\",\"p1_variance\",\"p1_variance\",\"p1_variance\",\"p1_variance\",\"p1_variance\",\"p1_variance\",\"p1_variance\",\"p1_variance\",\"p1_variance\",\"p1_variance\",\"p1_variance\",\"p1_variance\",\"p1_variance\",\"p1_variance\",\"p1_variance\",\"p1_variance\",\"p1_variance\",\"p1_variance\",\"p1_variance\",\"p1_variance\",\"p1_variance\",\"p1_variance\",\"p1_variance\",\"p1_variance\",\"p1_variance\",\"p1_variance\",\"p1_variance\",\"p1_variance\",\"p1_variance\",\"p1_variance\",\"p1_variance\",\"p1_variance\",\"p1_variance\",\"p1_variance\",\"p1_variance\",\"p1_variance\",\"p1_variance\",\"p1_variance\",\"p1_variance\",\"p1_variance\",\"p1_variance\",\"p1_variance\",\"p1_variance\",\"p1_variance\",\"p1_variance\",\"p1_variance\",\"p1_variance\",\"p1_variance\",\"p1_variance\",\"p1_variance\",\"p1_variance\",\"p1_variance\",\"p1_variance\",\"p1_variance\",\"p1_variance\",\"p1_variance\",\"p1_variance\",\"p1_variance\",\"p1_variance\",\"p1_variance\",\"p1_variance\",\"p1_variance\",\"p1_variance\",\"p1_variance\",\"p1_variance\",\"p1_variance\",\"p1_variance\",\"p1_variance\",\"p1_variance\",\"p1_variance\",\"p1_variance\",\"p1_variance\",\"p1_variance\",\"p1_variance\",\"p1_variance\",\"p1_variance\",\"p1_variance\",\"p1_variance\",\"p1_variance\",\"p1_variance\",\"p1_variance\",\"p1_variance\",\"p1_variance\",\"p1_variance\",\"p1_variance\",\"p1_variance\",\"p1_variance\",\"p1_variance\",\"p1_variance\",\"p1_variance\",\"p1_variance\",\"p2_variance\",\"p2_variance\",\"p2_variance\",\"p2_variance\",\"p2_variance\",\"p2_variance\",\"p2_variance\",\"p2_variance\",\"p2_variance\",\"p2_variance\",\"p2_variance\",\"p2_variance\",\"p2_variance\",\"p2_variance\",\"p2_variance\",\"p2_variance\",\"p2_variance\",\"p2_variance\",\"p2_variance\",\"p2_variance\",\"p2_variance\",\"p2_variance\",\"p2_variance\",\"p2_variance\",\"p2_variance\",\"p2_variance\",\"p2_variance\",\"p2_variance\",\"p2_variance\",\"p2_variance\",\"p2_variance\",\"p2_variance\",\"p2_variance\",\"p2_variance\",\"p2_variance\",\"p2_variance\",\"p2_variance\",\"p2_variance\",\"p2_variance\",\"p2_variance\",\"p2_variance\",\"p2_variance\",\"p2_variance\",\"p2_variance\",\"p2_variance\",\"p2_variance\",\"p2_variance\",\"p2_variance\",\"p2_variance\",\"p2_variance\",\"p2_variance\",\"p2_variance\",\"p2_variance\",\"p2_variance\",\"p2_variance\",\"p2_variance\",\"p2_variance\",\"p2_variance\",\"p2_variance\",\"p2_variance\",\"p2_variance\",\"p2_variance\",\"p2_variance\",\"p2_variance\",\"p2_variance\",\"p2_variance\",\"p2_variance\",\"p2_variance\",\"p2_variance\",\"p2_variance\",\"p2_variance\",\"p2_variance\",\"p2_variance\",\"p2_variance\",\"p2_variance\",\"p2_variance\",\"p2_variance\",\"p2_variance\",\"p2_variance\",\"p2_variance\",\"p2_variance\",\"p2_variance\",\"p2_variance\",\"p2_variance\",\"p2_variance\",\"p2_variance\",\"p2_variance\",\"p2_variance\",\"p2_variance\",\"p2_variance\",\"p2_variance\",\"p2_variance\",\"p2_variance\",\"p2_variance\",\"p2_variance\",\"p2_variance\",\"p2_variance\",\"p2_variance\",\"p2_variance\",\"p2_variance\",\"p2_variance\",\"p2_variance\",\"p2_variance\",\"p2_variance\",\"p2_variance\",\"p2_variance\",\"p2_variance\",\"p2_variance\",\"p2_variance\",\"p2_variance\",\"p2_variance\",\"p2_variance\",\"p2_variance\",\"p2_variance\",\"p2_variance\",\"p2_variance\",\"p2_variance\",\"p2_variance\",\"p2_variance\",\"p2_variance\",\"p2_variance\",\"p2_variance\",\"p2_variance\",\"p2_variance\",\"p2_variance\",\"p2_variance\",\"p2_variance\",\"p2_variance\",\"p2_variance\",\"p2_variance\",\"p2_variance\",\"p2_variance\",\"p2_variance\",\"p2_variance\",\"p2_variance\",\"p2_variance\",\"p2_variance\",\"p2_variance\",\"p2_variance\",\"p2_variance\",\"p2_variance\",\"p2_variance\",\"p2_variance\",\"p2_variance\",\"p2_variance\",\"p2_variance\",\"p2_variance\",\"p2_variance\",\"p2_variance\",\"p2_variance\",\"p2_variance\",\"p2_variance\",\"p2_variance\",\"p2_variance\",\"p2_variance\",\"p2_variance\",\"p2_variance\",\"p2_variance\",\"p2_variance\",\"p2_variance\",\"p2_variance\",\"p2_variance\",\"p2_variance\",\"p2_variance\",\"p2_variance\",\"p2_variance\",\"p2_variance\",\"p2_variance\",\"p2_variance\",\"p2_variance\",\"p2_variance\",\"p2_variance\",\"p2_variance\",\"p2_variance\",\"p2_variance\",\"p2_variance\",\"p2_variance\",\"p2_variance\",\"p2_variance\",\"p2_variance\",\"p2_variance\",\"p2_variance\",\"p2_variance\",\"p2_variance\",\"p2_variance\",\"p2_variance\",\"p2_variance\",\"p2_variance\",\"p2_variance\",\"p2_variance\",\"p2_variance\",\"p2_variance\",\"p2_variance\",\"p2_variance\",\"p2_variance\",\"p2_variance\",\"p2_variance\",\"p2_variance\",\"p2_variance\",\"p2_variance\",\"p2_variance\",\"p2_variance\",\"p2_variance\",\"p2_variance\",\"p2_variance\",\"p2_variance\",\"p2_variance\",\"p2_variance\",\"p2_variance\",\"p2_variance\",\"p2_variance\",\"p2_variance\",\"p2_variance\",\"p2_variance\",\"p2_variance\",\"p2_variance\",\"p2_variance\",\"p2_variance\",\"p2_variance\",\"p2_variance\",\"p2_variance\",\"p2_variance\",\"p2_variance\",\"p2_variance\",\"p2_variance\",\"p2_variance\",\"p2_variance\",\"p2_variance\",\"p2_variance\",\"p2_variance\",\"p2_variance\",\"p2_variance\",\"p2_variance\",\"p2_variance\",\"p2_variance\",\"p2_variance\",\"p2_variance\",\"p2_variance\",\"p2_variance\",\"p2_variance\",\"p2_variance\",\"p2_variance\",\"p2_variance\",\"p2_variance\",\"p2_variance\",\"p2_variance\",\"p2_variance\",\"p2_variance\",\"p2_variance\",\"p2_variance\",\"p2_variance\",\"p2_variance\",\"p2_variance\",\"p2_variance\",\"p2_variance\",\"p2_variance\",\"p2_variance\",\"p2_variance\",\"p2_variance\",\"p2_variance\",\"p2_variance\",\"p2_variance\",\"p2_variance\",\"p2_variance\",\"p2_variance\",\"p2_variance\",\"p2_variance\",\"p2_variance\",\"p2_variance\",\"p2_variance\",\"p2_variance\",\"p2_variance\",\"p2_variance\",\"p2_variance\",\"p2_variance\",\"p2_variance\",\"p2_variance\",\"p2_variance\",\"p2_variance\",\"p2_variance\",\"p2_variance\",\"p2_variance\",\"p2_variance\",\"p2_variance\",\"p2_variance\",\"p2_variance\",\"p2_variance\",\"p2_variance\",\"p2_variance\",\"p2_variance\",\"p2_variance\",\"p2_variance\",\"p2_variance\",\"p2_variance\",\"p2_variance\",\"p2_variance\",\"p2_variance\",\"p2_variance\",\"p2_variance\",\"p2_variance\",\"p2_variance\",\"p2_variance\",\"p2_variance\",\"p2_variance\",\"p2_variance\",\"p2_variance\",\"p2_variance\",\"p2_variance\",\"p2_variance\",\"p2_variance\",\"p2_variance\",\"p2_variance\",\"p2_variance\",\"p1_p2_covariance\",\"p1_p2_covariance\",\"p1_p2_covariance\",\"p1_p2_covariance\",\"p1_p2_covariance\",\"p1_p2_covariance\",\"p1_p2_covariance\",\"p1_p2_covariance\",\"p1_p2_covariance\",\"p1_p2_covariance\",\"p1_p2_covariance\",\"p1_p2_covariance\",\"p1_p2_covariance\",\"p1_p2_covariance\",\"p1_p2_covariance\",\"p1_p2_covariance\",\"p1_p2_covariance\",\"p1_p2_covariance\",\"p1_p2_covariance\",\"p1_p2_covariance\",\"p1_p2_covariance\",\"p1_p2_covariance\",\"p1_p2_covariance\",\"p1_p2_covariance\",\"p1_p2_covariance\",\"p1_p2_covariance\",\"p1_p2_covariance\",\"p1_p2_covariance\",\"p1_p2_covariance\",\"p1_p2_covariance\",\"p1_p2_covariance\",\"p1_p2_covariance\",\"p1_p2_covariance\",\"p1_p2_covariance\",\"p1_p2_covariance\",\"p1_p2_covariance\",\"p1_p2_covariance\",\"p1_p2_covariance\",\"p1_p2_covariance\",\"p1_p2_covariance\",\"p1_p2_covariance\",\"p1_p2_covariance\",\"p1_p2_covariance\",\"p1_p2_covariance\",\"p1_p2_covariance\",\"p1_p2_covariance\",\"p1_p2_covariance\",\"p1_p2_covariance\",\"p1_p2_covariance\",\"p1_p2_covariance\",\"p1_p2_covariance\",\"p1_p2_covariance\",\"p1_p2_covariance\",\"p1_p2_covariance\",\"p1_p2_covariance\",\"p1_p2_covariance\",\"p1_p2_covariance\",\"p1_p2_covariance\",\"p1_p2_covariance\",\"p1_p2_covariance\",\"p1_p2_covariance\",\"p1_p2_covariance\",\"p1_p2_covariance\",\"p1_p2_covariance\",\"p1_p2_covariance\",\"p1_p2_covariance\",\"p1_p2_covariance\",\"p1_p2_covariance\",\"p1_p2_covariance\",\"p1_p2_covariance\",\"p1_p2_covariance\",\"p1_p2_covariance\",\"p1_p2_covariance\",\"p1_p2_covariance\",\"p1_p2_covariance\",\"p1_p2_covariance\",\"p1_p2_covariance\",\"p1_p2_covariance\",\"p1_p2_covariance\",\"p1_p2_covariance\",\"p1_p2_covariance\",\"p1_p2_covariance\",\"p1_p2_covariance\",\"p1_p2_covariance\",\"p1_p2_covariance\",\"p1_p2_covariance\",\"p1_p2_covariance\",\"p1_p2_covariance\",\"p1_p2_covariance\",\"p1_p2_covariance\",\"p1_p2_covariance\",\"p1_p2_covariance\",\"p1_p2_covariance\",\"p1_p2_covariance\",\"p1_p2_covariance\",\"p1_p2_covariance\",\"p1_p2_covariance\",\"p1_p2_covariance\",\"p1_p2_covariance\",\"p1_p2_covariance\",\"p1_p2_covariance\",\"p1_p2_covariance\",\"p1_p2_covariance\",\"p1_p2_covariance\",\"p1_p2_covariance\",\"p1_p2_covariance\",\"p1_p2_covariance\",\"p1_p2_covariance\",\"p1_p2_covariance\",\"p1_p2_covariance\",\"p1_p2_covariance\",\"p1_p2_covariance\",\"p1_p2_covariance\",\"p1_p2_covariance\",\"p1_p2_covariance\",\"p1_p2_covariance\",\"p1_p2_covariance\",\"p1_p2_covariance\",\"p1_p2_covariance\",\"p1_p2_covariance\",\"p1_p2_covariance\",\"p1_p2_covariance\",\"p1_p2_covariance\",\"p1_p2_covariance\",\"p1_p2_covariance\",\"p1_p2_covariance\",\"p1_p2_covariance\",\"p1_p2_covariance\",\"p1_p2_covariance\",\"p1_p2_covariance\",\"p1_p2_covariance\",\"p1_p2_covariance\",\"p1_p2_covariance\",\"p1_p2_covariance\",\"p1_p2_covariance\",\"p1_p2_covariance\",\"p1_p2_covariance\",\"p1_p2_covariance\",\"p1_p2_covariance\",\"p1_p2_covariance\",\"p1_p2_covariance\",\"p1_p2_covariance\",\"p1_p2_covariance\",\"p1_p2_covariance\",\"p1_p2_covariance\",\"p1_p2_covariance\",\"p1_p2_covariance\",\"p1_p2_covariance\",\"p1_p2_covariance\",\"p1_p2_covariance\",\"p1_p2_covariance\",\"p1_p2_covariance\",\"p1_p2_covariance\",\"p1_p2_covariance\",\"p1_p2_covariance\",\"p1_p2_covariance\",\"p1_p2_covariance\",\"p1_p2_covariance\",\"p1_p2_covariance\",\"p1_p2_covariance\",\"p1_p2_covariance\",\"p1_p2_covariance\",\"p1_p2_covariance\",\"p1_p2_covariance\",\"p1_p2_covariance\",\"p1_p2_covariance\",\"p1_p2_covariance\",\"p1_p2_covariance\",\"p1_p2_covariance\",\"p1_p2_covariance\",\"p1_p2_covariance\",\"p1_p2_covariance\",\"p1_p2_covariance\",\"p1_p2_covariance\",\"p1_p2_covariance\",\"p1_p2_covariance\",\"p1_p2_covariance\",\"p1_p2_covariance\",\"p1_p2_covariance\",\"p1_p2_covariance\",\"p1_p2_covariance\",\"p1_p2_covariance\",\"p1_p2_covariance\",\"p1_p2_covariance\",\"p1_p2_covariance\",\"p1_p2_covariance\",\"p1_p2_covariance\",\"p1_p2_covariance\",\"p1_p2_covariance\",\"p1_p2_covariance\",\"p1_p2_covariance\",\"p1_p2_covariance\",\"p1_p2_covariance\",\"p1_p2_covariance\",\"p1_p2_covariance\",\"p1_p2_covariance\",\"p1_p2_covariance\",\"p1_p2_covariance\",\"p1_p2_covariance\",\"p1_p2_covariance\",\"p1_p2_covariance\",\"p1_p2_covariance\",\"p1_p2_covariance\",\"p1_p2_covariance\",\"p1_p2_covariance\",\"p1_p2_covariance\",\"p1_p2_covariance\",\"p1_p2_covariance\",\"p1_p2_covariance\",\"p1_p2_covariance\",\"p1_p2_covariance\",\"p1_p2_covariance\",\"p1_p2_covariance\",\"p1_p2_covariance\",\"p1_p2_covariance\",\"p1_p2_covariance\",\"p1_p2_covariance\",\"p1_p2_covariance\",\"p1_p2_covariance\",\"p1_p2_covariance\",\"p1_p2_covariance\",\"p1_p2_covariance\",\"p1_p2_covariance\",\"p1_p2_covariance\",\"p1_p2_covariance\",\"p1_p2_covariance\",\"p1_p2_covariance\",\"p1_p2_covariance\",\"p1_p2_covariance\",\"p1_p2_covariance\",\"p1_p2_covariance\",\"p1_p2_covariance\",\"p1_p2_covariance\",\"p1_p2_covariance\",\"p1_p2_covariance\",\"p1_p2_covariance\",\"p1_p2_covariance\",\"p1_p2_covariance\",\"p1_p2_covariance\",\"p1_p2_covariance\",\"p1_p2_covariance\",\"p1_p2_covariance\",\"p1_p2_covariance\",\"p1_p2_covariance\",\"p1_p2_covariance\",\"p1_p2_covariance\",\"p1_p2_covariance\",\"p1_p2_covariance\",\"p1_p2_covariance\",\"p1_p2_covariance\",\"p1_p2_covariance\",\"p1_p2_covariance\",\"p1_p2_covariance\",\"p1_p2_covariance\",\"p1_p2_covariance\",\"p1_p2_covariance\",\"p1_p2_covariance\",\"p1_p2_covariance\",\"p1_p2_covariance\",\"p1_p2_covariance\",\"p1_p2_covariance\",\"p1_p2_covariance\",\"p1_p2_covariance\",\"p1_p2_covariance\",\"p1_p2_covariance\",\"p1_p2_covariance\",\"p1_p2_covariance\",\"p1_p2_covariance\",\"p1_p2_covariance\",\"p1_p2_covariance\",\"p1_p2_covariance\",\"p1_p2_covariance\",\"p1_p2_covariance\",\"p1_p2_covariance\",\"p1_p2_covariance\",\"p1_p2_covariance\",\"p1_p2_covariance\",\"p1_p2_covariance\",\"p1_p2_covariance\",\"p1_p2_covariance\",\"p1_p2_covariance\",\"p1_p2_covariance\",\"p1_p2_covariance\",\"p1_p2_covariance\",\"p1_p2_covariance\",\"p1_p2_covariance\",\"p1_p2_covariance\",\"p1_p2_covariance\",\"p1_p2_covariance\",\"p1_p2_covariance\",\"p1_p2_covariance\",\"p1_p2_covariance\",\"p1_p2_covariance\",\"p1_p2_covariance\",\"p1_p2_covariance\",\"p1_p2_covariance\",\"p1_p2_covariance\",\"p1_p2_covariance\",\"p1_p2_covariance\",\"p1_p2_covariance\",\"p1_p2_covariance\",\"p1_p2_covariance\",\"p1_p2_covariance\",\"p1_p2_covariance\",\"p1_p2_covariance\",\"p1_p2_covariance\",\"p1_p2_covariance\",\"p1_p2_covariance\",\"p1_p2_covariance\",\"p1_p2_covariance\",\"p1_p2_covariance\",\"p1_p2_covariance\",\"p1_p2_covariance\"],\"x0\":\" \",\"xaxis\":\"x\",\"y\":[0.024205287940869194,0.003308878210584137,0.0005208548269820489,0.04685256463947842,0.08435524724854179,0.14085016028810415,0.00038395462084937,2.6109295172188607,0.10672163190039903,0.1275290626004947,0.042734820804018456,0.08457159302536313,0.04459524525723624,0.5071733966086608,0.28071957202577463,0.25058277105254767,0.2982465784561448,0.8423984316162756,0.3486735493388863,1.5379840633920037,0.14426525527941259,3.7867899460090015,0.0006688623943316525,0.015869236210684163,2.4271009505242027,0.11142775505940711,1.9317291400716181,0.007282264297951022,0.057832519459196895,0.001108489449080575,0.010864715140732988,0.18251329919787898,0.015049610472937238,0.00011531766760928504,0.01340614582791783,0.0036353337198751145,0.0008793269477952481,0.004446483261849444,0.0052447574682760725,0.0271964289645445,0.0075685811227754,0.13211513700730956,0.11981449080828538,0.013770230533871256,0.0037973131768797848,0.008557600587648762,0.02785209220001431,0.07345890676718428,0.19926856022492784,0.04762121813394611,0.4154049331530033,0.20282685892395283,0.19912455850600194,0.0024814171022176294,0.22761314695948207,0.15372713700804286,0.5649214545816224,0.09004937169491005,2.239206102102188,0.13457858547771057,0.8547337181222202,0.14032291549448594,0.9910162790105025,2.0154240687973237,1.2328578509666936,0.12564101472246297,1.0417080718922203,3.9607053980726477,3.3162195747466936,0.007579805235077177,0.0162736670770512,0.13334763300689792,7.771208791102647e-05,0.200926054741145,0.02663317504504328,0.021632973411655435,0.0031028277942738575,0.0111912005900781,0.03666080606209053,0.06746614162929886,0.007690184489249083,0.0024166582618572663,0.0034885863162563728,0.039547254058583114,0.0006315721359526044,0.002003736194492931,0.10032516712697882,0.07306815059461357,0.009175959586288022,0.0021098347274032263,0.010912377012361535,0.05240085119801883,0.0020666276334169696,0.4064412321169717,0.2686213022985383,0.003113418323669833,1.268968419462722,0.4048368440833706,0.15872005775147802,1.5392417158838658,2.804654029104066,0.011876784378024906,0.2637308467181773,1.8880505697943757,0.8825896648031443,0.553255411076852,3.4085836012686907e-06,0.019525353508292265,0.0006946047383965197,0.20140181093958717,0.00502219050414577,0.14416823736241155,0.025404127394120343,0.01542343241623489,0.12688418927859269,0.050043103397200514,0.0002442645751589451,0.24685604381021609,0.40097248889215575,0.06211775722266012,0.08711066951177242,0.008155044467792008,4.2256135076822045e-05,0.0620964227086744,0.6086919619561345,0.010857623080716715,0.0034184185968622713,0.07636339990725734,0.00020216895166987397,0.1306781650730575,0.07636832188703467,0.3320666286307287,2.5573153820844134,0.13763791296279326,0.6868647739883516,2.6412838437769857,0.09657257353699196,3.421393122796894,0.4527305849070329,5.263619529552817,0.013682446041951147,0.25339163858750874,1.581099878106049,0.037204399655427906,0.044198949242484444,0.0038949205938076086,0.01902154503037301,0.003560311738067069,0.0741736942310639,0.0001064873501188761,0.03495540093237469,0.11387562919610064,0.009817431491631515,0.004970086664294895,0.00535995223882349,0.005984256622307032,0.1197947532021137,0.2718848476223216,0.3035335560843849,0.0022805009559998765,0.00019998174886550304,0.15020075475968714,0.8347687240890533,0.5505110461073269,0.20279718636535587,0.0561238450368527,0.001143777388390579,0.033440407686900535,0.758317693143959,0.06493537861106852,0.015285961107214308,0.0004873040059464969,0.025992137145952058,0.0014067962508673073,0.0003089084124475744,0.014988863257485167,0.004983320578003336,0.022068174338236265,0.005798949773647422,0.029289600901861692,0.0008528691741254071,0.008330738093514317,0.004952205873934271,0.08603871271862862,2.353510583379413,0.010465696776725163,0.03459158985294762,0.0033341719286568033,0.00878633089710411,0.030689546899498273,0.44484666954921587,0.38460776884938536,0.006083122203587763,0.2337498966251746,0.7651741472852048,0.9846502260135279,0.03682510280358582,0.8699275334665731,0.19413371029659415,0.14742730607125926,0.25763327729216345,0.3324455181938257,0.25889129115858395,0.16310384011127355,0.6302668938035711,0.15755543380589335,0.449295534428123,2.3893356876501333,0.9414596038356707,0.46383896413772263,0.9779713836675274,0.0021566174636999075,0.5942032549096821,0.0013444015757462936,0.007961177453656888,0.0002890749153547927,3.491483769626652e-05,0.0023870073390418797,0.0009018069850576573,0.004707799422519167,0.016937809235420955,0.013179178005309253,5.3056606052301445e-05,0.0006119132296077042,0.0039015686718529446,0.14542183876150644,0.01696542160209211,0.025672335330271207,0.02372836493323969,0.0025759020670082797,0.6200952592445275,5.196342504093485,0.04204813893062972,0.03183879892891768,0.07163481976528462,0.14440860155825502,0.2114623208157813,0.05551119741917729,0.38515938897549357,0.6110038590632942,0.08228876898241262,7.605860346601607,1.7158321948659505,0.166886621540111,0.008787692946602931,0.07913107024369133,0.44943151856999913,0.049867998161676544,0.17330941098491903,0.005904254025903981,0.007902705844066795,0.004323552897991218,0.024057993305864958,0.018271095603573716,0.01173421439261643,0.012072448765318532,0.009262257522315137,0.005181884224370948,0.009303202429434176,0.0016585061167747053,0.028184304949987155,0.012518589663260664,0.0016122785554735183,0.009524216810104838,0.081889434189865,0.14272313280714818,0.37169514687632316,3.633232597262902e-05,0.2372682513619712,0.015066413643319837,0.46023550504071575,0.1525667609480239,0.1367913966522496,1.6141023343775835,0.003286406631693246,0.1043970627386217,0.4292481900429048,0.020972310490913266,0.8440705999552051,2.480021339130834,4.199678906760135,0.005293566701506448,0.026370765633812538,0.3937222322628341,1.191073437399833,2.1375866555724357,0.35534268195123714,0.11190172212271815,0.4417448726826287,3.2963152684945976,2.1169877068778273,1.4388623104720726,2.8435381205725894,0.013391652756140553,0.001639539910518431,0.001485556424434331,0.03096527711567202,0.053153509820792186,0.005626333807112369,0.00240390922290317,0.020322108354523156,0.008769119352795136,0.015132771658028623,0.15257160454190882,0.36288454456120545,0.0066234148434778295,0.03326772030807447,0.0009650926079309726,0.0013512994493498427,7.422586520455964e-05,0.13291222776244146,0.1867196536676884,7.366934991023929,1.3095562534633064e-06,2.560277155259381e-08,1.9502906727629177e-06,4.250427098825456e-06,1.867054214202798e-06,0.00035216283751976333,1.0084707645179945e-07,0.0002216157478469182,8.295010831652619e-08,6.906327185942763e-07,2.335076479844211e-08,4.350321124827377e-06,1.9712072990550342e-07,0.0010371012923988281,0.00021057297494961287,2.742552779958806e-07,0.0019361419225876358,0.020226441221356622,2.064167457407908e-06,0.001618025509861807,6.674396588773207e-05,0.000433674417241882,3.023076941870278e-10,0.5965155370194344,0.015331771309249197,2.478005489901129e-06,0.004555832995573025,0.00023961915261517692,4.38386432383485e-05,5.555232100479528e-08,0.0002948296276583637,0.4026712073238572,7.658995479014786e-05,7.225981072451715e-08,6.535523227954542e-08,6.84153992893509e-08,0.014188626187105743,0.002707453032220882,0.0001054043448023268,0.0034285244300607813,0.005601491236190428,0.004900591954792991,2.992034370472557,1.5072921224864303e-07,1.2829473824583013e-06,13.591998158149277,0.2690667748862509,3.3437252077956936e-05,1.3535189168733175e-05,0.0005924553738625387,0.00013907164815012,1.419162879922039e-05,0.0007055183221014978,1.1195300987418588e-08,5.631611554233399e-05,3.4725192298789525e-06,0.00034086216192771585,1.0989273047829529e-05,2.736950947398451e-05,0.0007057441402700466,0.002274013955965911,5.9824676408678555e-05,0.0034227450852662307,0.005535253379729351,0.0010997164773600898,10.750604299691007,0.0004234435689809221,0.0001439230332887799,0.0024394189842685925,6.163392085541459e-07,0.0004362811812484986,0.019554149132587753,7.498700954075502e-07,0.1095313147967808,0.30793577451943394,1.6385759317031621e-07,9.871609368443961e-07,4.387036308948778e-08,5.036681212319442e-06,2.53197603316981e-07,0.04539133937168568,9.184258146959026e-05,0.02941973326972029,0.0064078950036463725,1.433764723953827e-05,7.931088961024249e-09,1.2277576312279045e-07,9.480946462240838e-07,4.150156029558185e-09,0.0009202333222394673,2.1355680469660044e-07,0.04661476562748087,2.4801495293851077e-05,1.1621252322760853e-05,9.95878546891159e-06,1.0599945142289074e-07,0.022851140405192764,1.4968478632033707e-05,0.00016524159019522383,2.507117680010597,0.0004155871201633539,2.440671740484508e-05,2.6585187852223262e-05,0.0002145077499315492,9.083697670346873e-06,0.00037329344176622936,1.1269321586918676e-07,8.54629556707619e-07,6.572787980778586e-05,0.00046731088830406504,0.000382699065436404,0.0015286524425029118,7.954862597141588e-08,0.0016690812548931628,0.03901470159810231,0.0025810512313895976,0.00026234947645373177,0.07064835235738413,0.389616556946469,0.00809231560639161,3.283206635180239e-06,6.782392853157003e-08,2.186888532570569e-08,1.2388836274398461e-06,2.5033496714833174e-05,3.4297369029639987e-06,4.545021428408945e-08,5.634225946330639e-07,1.548859917070048e-08,1.147207220312733e-06,1.8048155424171084e-07,3.513218044217105e-05,2.0609066218940076e-05,1.406775879933912e-07,3.518360616449531e-05,8.31614085968565e-06,9.339311502325681e-08,5.887925065452335e-05,9.434486931343313e-07,1.7035758054396234e-05,8.048980734188112e-06,6.572464138374326e-07,2.1124809513460343e-06,2.3599657594573986e-08,0.00391019729535453,1.4879645838710914e-06,0.004339112311750726,4.5267569682677116e-05,0.00027112454422976117,1.5603900378492487e-06,0.0005918631268567397,0.00029963581513379035,0.0003832773247020425,0.0005161974244472919,0.00028880255353602843,0.0016950488119374212,0.010446071328552079,0.020819520012783557,5.5539448399759836e-06,1.1474638897695795e-08,9.157578396847981e-08,1.808166941163824e-06,8.185803910242581e-05,3.637368246046114e-05,4.876930824917394e-06,6.488342839950424e-07,1.89627868027934e-07,8.224677056092365e-07,2.716553762800787e-06,1.2313819624239017e-07,1.80749477562395e-06,1.233773385783222e-05,4.781771725790718e-06,5.433854532397905e-06,5.702383784092664e-06,4.9890821091355045e-06,6.0331987232461676e-05,0.00022768754571519725,1.5844944534081993e-05,2.0785776570226323e-06,0.00017968350249530105,9.879329794120972e-06,7.4211087333586865e-06,0.01661840418130668,0.007958170561787459,0.00014184007503232826,1.0199167095346056e-06,3.796154798213602e-07,8.580483469653556e-08,2.882436944224955e-05,0.00016659854543827127,0.011389214238740565,1.165443796856981e-07,1.2544016355735685e-06,7.882974809073344e-07,5.597892938174559e-07,3.810684783212426e-08,5.047692922863519e-07,1.9684893160037537e-07,1.0849001153840838e-07,2.0466416356870882e-07,3.908100702652397e-07,1.6455187044077946e-07,7.133016742680463e-08,8.856157710369468e-07,4.118146734486722e-06,1.7942993160724429e-06,0.09237128926663457,0.0002714992617289508,0.010984695587041588,1.3097328471378506e-05,7.700857609651386e-09,1.0428476349233139e-05,1.0566448509491119e-06,5.003617332053834e-07,9.62185939046245e-08,4.187961831384711e-08,3.1342467521525577e-07,5.587530659951003e-07,4.847001039606379e-06,3.3062886731900847e-06,2.686208984825629e-06,1.7179466762110776e-07,9.271708145390198e-07,4.1206626156281385e-07,0.11055862336693259,1.098527409405944e-06,1.7712770833643103e-07,2.710096417899176e-06,2.1137230071303425e-08,7.785426964595828e-05,1.7965386539562184e-05,1.686673610501844e-07,7.528565141639085e-07,2.904659902659233e-07,5.588588653917436e-07,1.6704589223742678e-07,4.1949901847346283e-07,9.249677466446148e-07,3.75603468151508e-06,5.497738355583781e-07,0.0002554829899072396,3.5638282905474573e-06,6.201867941800037e-07,5.58492715824602e-08,3.846381495739511e-08,8.015057152943658e-07,3.238667972917631e-08,2.4307685572575517e-06,0.00011696002977960878,2.3368505630145227e-05,0.00015655753507297558,0.08011288998277354,5.3970618505867536e-08,2.1372655994125733e-06,0.14212968768982673,6.638009226615136e-08,0.0028174921783658013,7.751459043748825e-08,6.323629965923033e-05,0.023335059013702704,1.498281182392689e-07,1.8741074806374321e-06,1.5967330051069511e-06,1.5811948255515012e-05,6.877999008338983e-05,2.1176139456245273e-05,3.69127470723368e-10,2.0029805781869425e-06,9.581204057681217e-09,2.0677866078014273e-05,9.025387320483493e-07,5.7031244894278396e-05,6.364724237254541e-07,5.3302736150543754e-08,0.000483391690074383,0.00030252575533508717,7.007405118778739e-07,0.0011331663415318268,0.01092292173638991,0.0005068330615783517,9.766497805479875e-08,1.498853720411369e-08,0.00017572374134202775,1.6817935668853298e-05,0.0009433394603362848,1.656979245671859e-05,1.3112031332428138e-05,0.05761904836406535,0.0010207271357051372,0.003432254472911679,8.084261278236117e-06,0.002877051292677274,0.026786492488387773,1.4045858229874581e-07,6.707402155292059e-08,3.4078064860925297e-06,2.832571670237609e-06,7.410150196482645e-07,1.2272357343553596e-08,0.002180304010666294,1.1593988760192836e-07,4.731461419267734e-08,1.328207952316814e-06,0.0011640599860845097,1.1740112173331714e-07,5.300407372277726e-07,1.6905875777295903e-08,4.067338619482446e-09,1.1489561040650249e-08,2.6022304974884153e-07,6.427724189021876e-07,5.797483663824897e-06,0.000443887438549905,4.092265009681644e-05,3.0004786225461335e-05,0.0005744630138592671,0.0009989282648389076,0.005104646258978627,0.0015584555532200319,0.027004140117499423,0.06402992544252757,0.001168623046725009,0.29904930848176403,0.0011278251579888848,0.00036622108193643725,0.018192179692582647,0.006529336259124888,0.0027505328055568933,0.01645618844362224,0.08277417995823697,0.028028969062078156,0.039366183924695666,0.0035974398360712066,0.042829165803845895,0.25770480877870927,0.06539445565283684,0.18742535122138923,0.001344850476188937,0.06284231369037573,0.0009055106092557104,0.0013505163750240393,0.0011851871182071596,0.0012025037065043888,0.14542398893151948,0.0016563406134179099,4.444590920847474e-05,0.038269983749213046,0.0013683685269483636,0.002764155860660263,0.0025283969176255294,0.0046957200610173435,0.008918787660951166,0.004082102072774072,0.015280340520040335,1.1168443067373126,0.976868786003747,0.0234704191178427,0.6071165270766261,0.15146546016258616,0.001963137828843051,0.002080880721658286,0.0034899033163193318,0.007067681681495381,0.0020582760637111114,0.00834275542253273,3.35800637987704e-05,0.0062603393193197375,0.001425423973777533,0.028485663296071415,0.001115752777980049,0.06545508994605127,0.006775832290532029,0.032352835992366547,0.003009718954562931,0.04107851381078523,0.0746530384864581,0.02860829263848989,0.7440894146232365,0.01739538782825428,0.03153923655231869,0.0678956636268949,0.0029666651151221074,0.009025079911529094,0.02961188244593296,0.00012073356456580659,0.08171722664706904,0.050544187296859236,0.07779301270286018,0.0012735263748750293,0.019409003531226775,0.02251440912438115,0.07234360029050893,0.010378900336830178,0.0004505969141998415,0.00593414894030163,0.009947601835377904,0.0006599998106326654,0.0018726282705711517,0.27479659912271465,0.05933108609433717,1.1687293539870278,0.0008105920261561706,0.00972396164988345,0.02566474495879075,0.0023579086425788653,0.0034298119369594506,0.002403955829471487,0.0007721837676465528,0.12480166588351924,0.003485456060319599,0.004046027216630147,17.5351457686814,0.03862569288321537,0.000885232496546891,0.0028194866704455788,0.020547842679192723,0.005589318595890519,0.01096134442313523,9.801992407564107e-07,0.0017213683343838503,0.00026523789814853074,0.007078253210493048,0.0010577694479778953,0.00951517521581413,0.05212807076829816,0.004242482685108468,0.038675343188356075,0.006517109592571054,0.00019367201968032878,0.07649958798524539,0.7335893727199092,0.01203246465753998,0.0007822868004552827,7.73987071173838e-05,1.6873517680615694e-06,0.0004816706627428908,0.020698061046278745,0.00017770239304151916,3.835282932025235e-05,0.0005240541803967912,3.2594472586361274e-06,0.0008139387422019057,0.000520610229627781,0.003475595698273586,0.01780467655426231,0.0018107988821852916,0.008076634161916327,0.018372580140962585,0.0013666679878698294,0.02518824313388862,0.003259550355719708,0.05358356657792298,0.010332459422587002,0.05860609943172307,0.01379883509158971,0.0008853983235226179,0.00801360960360859,0.0004283194392832427,0.005290489302066297,0.0002858374314823621,0.00314861001144762,1.6971572121222665e-05,0.003244296419564294,0.004143885456174091,0.0011437150602633794,0.0009093840288432252,0.0007752502164307419,0.0018739815200674525,0.021294045391966564,0.04177370527754055,0.0023478954685268987,2.5295454443411824e-05,5.073195923937535e-06,0.0014104922062156298,0.035585705430187,0.00828509387750484,0.0024618465820454723,0.0006572167086133351,0.00043409493654617985,0.0004276026862468053,0.005326110855458935,0.0005276292054524057,0.00022461706660168113,0.00010124445477394445,0.0024141937650178804,0.0003707259722464763,3.827483471152033e-05,0.000582475960937111,0.0006290358047162395,0.0014391407098198982,0.0002579184393960654,0.0033166316224302115,0.000279803348724577,0.0012973407677559121,0.0012534882682958904,0.020370735881133372,0.09039740075229204,0.001600628083938744,0.0003099313027883748,7.564570685461528e-05,9.03904432189228e-05,0.0010098134886928967,0.0074701791727347314,0.03887927162448904,7.904576581140829e-05,0.001469679675376756,0.011579988533088722,0.04117643083158616,0.0009439174079242135,0.034398583704431634,0.004246613274589424,0.0031175392158366384,0.006089512619586763,0.024247372696811032,0.006959155787319702,0.01718131220064402,0.007175957871731823,0.001383264407492667,0.013008546879819432,0.281610668751815,0.014416506494745239,0.04238303356822421,0.010619429786327338,4.759542372199123e-05,0.004563369224599093,8.16268772602684e-05,0.0004044107461954006,6.449847379922523e-05,4.471061079279369e-06,0.00010122319141281083,9.82591174216684e-05,0.0002815484946463327,0.0006223701095687875,0.00080627354518893,1.3933815952732516e-05,8.182940184438632e-05,0.00046679676792186846,0.07492436245997752,0.00213224461927805,0.00024564524483273716,0.0004638813930673408,3.036175085363836e-05,0.011915950250245473,0.04314497124394519,0.00043581764237729564,0.000397592239932079,0.0006422361533766551,0.001353807289089656,0.003530497369259178,0.0004945557728179846,0.003603093862170854,0.006045181403307082,0.0006450909769436035,0.07210446835225792,0.016128009751804045,0.022651823608408693,0.0035530834602791094,0.17351652732863285,0.0036716395908620164,0.0012113228622259698,0.0016810708395687296,0.0067960881186327595,0.0003763844675600566,0.0016012031254031272,0.024200714034642825,0.03371823697628858,0.004013807172530837,0.027462914037928037,0.028760698235431818,0.002038940877234638,0.006891635548512097,0.003777713209116648,0.016930952318561256,0.00018605605599514288,5.4268911425033945e-05,0.00012821084413270942,0.004295367497557395,0.002717949459899475,0.004267241521656459,1.9941034053191625e-06,0.00249877087747069,0.0648123822100486,0.004446161256763999,0.0009396241114847983,0.002704787242931759,1.672479538119756,4.510798337118764e-05,0.004984816544676097,0.0095900842490924,0.0003973194775361921,0.023782053840662207,0.11198631505927292,0.04827116683467475,0.021850098197499942,0.1571340658030027,0.007589625725635107,0.007869911737074808,0.03616526923588656,0.0033608273554354244,0.0015601312144471417,0.14713186743404327,0.05174721947139783,0.06009081120461917,0.00873004331860933,0.06584406347870346,0.010685610061705368,0.0003757500893358046,0.0015196617348525294,0.00178345604041709,0.0028275383975020765,0.001645173220231343,0.003778882919280922,0.005658165889897096,9.423175884259611e-05,0.00015000501250267623,0.0012311980587524822,0.2562377933750735,0.0001388649733412992,0.07921063075090617,1.4657346914341763e-05,1.3899361300234017e-05,1.9077799934156425e-05,0.006376012532701815,0.0013345768712509983,0.10479727039358383,5.279765145973295e-05,2.1388867801565866e-06,1.700629780637537e-05,0.00010879308285169615,9.323417341898108e-05,0.002980209834694036,2.7724168298281375e-05,0.005383902299683851,0.00011643640189654256,5.8691471087737996e-05,0.00012197851545129906,0.0001533226922965336,1.723039951210042e-05,0.009652818226176365,0.0026023590160238115,4.698813770807544e-05,0.012554408231181343,0.09104712745372076,0.0004924088288958977,0.01772248929385982,0.001085241257779599,0.00950371414546359,1.072265335296764e-05,0.4396666815213927,0.11922008090648302,0.00012439032025396063,0.03760825604039332,0.0010365462831633443,0.0005400300917981869,1.7758408073761944e-05,0.0013249281365036673,0.5386695507871898,0.0007920638294365506,3.974406262914542e-06,0.00010266237172066507,2.0841065996995913e-05,0.013940928003204109,0.005823879921748701,0.00156538248589045,0.012307732785085988,0.010644108919152491,0.019257020113332798,4.069310035302227,0.0008125574088668605,0.0003842550861077039,6.39475108809599,0.449391276483965,0.0005680168918712795,0.000368652347699681,0.0031989910907170172,0.002196224731484114,0.00037554915733371044,0.0053940896732790206,1.2445441141430127e-06,0.0013135100332065557,0.00015216987850327513,0.006912370582900848,0.00024425191403972647,0.002841304334798578,0.004863172364651792,0.019066319397010315,0.0009406201994889101,0.026363078320267495,0.04518756831535578,0.012452329998710748,6.296121089462019,0.006015673322239331,0.004650089266440699,0.02856224962855005,9.406750926397659e-05,0.00441548758331593,0.053558399300627155,2.1165656936536563e-05,0.2105894219485887,0.27771831406235004,0.00023698946388605617,7.85352229495015e-05,5.907935210148873e-05,0.0007433678509228628,0.00027346403959198167,0.04831680689083475,0.00045270350243429625,0.029412777608737246,0.017770221450016336,0.00021644346218110556,7.134730027483168e-06,0.0003230482076299155,0.0005072255189954723,9.540585715145462e-05,0.0019224488087034536,9.843875761206408e-05,0.07699258300805048,0.0005379336576054165,0.00043406538695144357,0.0003376758313210877,1.972264498124566e-05,0.11881950820700339,0.0004985238159109642,0.0018156740392437853,14.759301348439758,0.008843648854818214,0.0003266373623269641,0.0006032680050676926,0.00462960960212258,0.0004786653510918756,0.004488658858418795,7.395680455298205e-07,8.388004573035825e-05,0.00029385532746760315,0.00404231240769099,0.001416036312233453,0.008484320265913328,0.00012673135507587397,0.005922561252084833,0.08646280751565062,0.009127422178302258,0.0005017582338938649,0.16363453098509753,1.1900443434766168,0.02196262570356843,0.0001106266573979284,4.803221255133901e-06,4.2580024458643325e-07,5.276844915347306e-05,0.001570086995702638,5.4679440286299054e-05,2.81776372606412e-06,3.603714507580255e-05,4.937758994725243e-07,6.455203914989028e-05,1.8792319370788386e-05,0.0007702439000565431,0.0012735634493069642,2.6908309365427204e-05,0.0011669486461870996,0.0007761521241598128,1.8901371702873885e-05,0.0026225005350539402,0.00010569016726690021,0.0018873738731643788,0.0006395459794045899,0.00038378513414046494,0.0003065539626654471,6.981977650475965e-06,0.012458526193527806,5.593095845725685e-05,0.010664444889177695,0.00025305955610940953,0.002054293284699237,1.1449022064980278e-05,0.00308309882853526,0.002476919971394768,0.0014733904902389328,0.001524903812006223,0.0010530326536291029,0.003967051148484231,0.033193618903343484,0.06563458660339037,0.0002461947315300016,1.0992952709680212e-06,1.5108534890260437e-06,0.00010739811981850377,0.0037557858606070294,0.0012056686963724172,0.00023720588566018152,4.4013423811067546e-05,2.0023773073013297e-05,4.061875762443913e-05,0.00024207866673908518,1.5232796385293002e-05,4.442170846700029e-05,7.864286734223214e-05,0.00023749325794386735,9.97963431330329e-05,3.28691309321313e-05,0.00011941669269940272,0.00043339732497522644,0.0012734184417185765,0.00014209615209920192,0.0001824773775278393,0.0004990714796054762,0.0002514412265170043,0.00021425273837550213,0.04095272164968832,0.059632252250007484,0.0010600496537457697,3.8673985565090226e-05,1.1809197327672597e-05,5.878326448226328e-06,0.0003786659779112531,0.002472119208880672,0.04682580735596344,6.540368584825656e-06,8.869656843376564e-05,0.00016135851195593032,0.00021895769323523268,9.877605711093724e-06,0.00019306890843529318,4.887602500205781e-05,2.8888917429065255e-05,5.670668861570833e-05,0.00017054894402169303,5.17150200245232e-05,4.7934353100748245e-05,0.00014454370962815698,0.00016385313330942631,0.0003091319567691942,0.35891747335767965,0.004380702197546693,0.04801179776728515,0.0007983929358528735,1.185427936439233e-06,0.0004698777425495074,2.0610133628970615e-05,3.122594328124384e-05,5.516960886399635e-06,9.607925201664629e-07,1.242382664386083e-05,1.6437326777370197e-05,8.202963350718861e-05,0.00010029792653145757,0.00010291817888991748,3.4397113837928328e-06,1.9350492423993128e-05,3.055209703539802e-05,0.20259275317218922,0.00010621189047983295,1.3707075760929247e-05,7.818125927643594e-05,1.6786377929339332e-06,0.0021250482766644067,0.0017484237875620395,1.7378693614953896e-05,3.744531390122644e-05,2.7524943156814698e-05,5.55017083744525e-05,3.8483230540361694e-05,3.0207885804314458e-05,0.0001116373615912431,0.00031307718521986195,3.91053071172838e-05,0.009343454425804892,0.0004572002650808199,0.00023892623206158456,2.9342860130776334e-05,0.00011517998991429291,0.00010170430401282483,9.626287974223734e-06,0.0001367027915214876,0.001983749086065131,0.00020847428015644958,0.0011141828803159083,0.09801617241549694,8.427831818105225e-05,0.00020472497954960163,0.13907700428271313,9.149638892691516e-05,0.005335120300237816,4.871516614471971e-05,0.0010876861793446154,0.04424499694781057,1.1224458785106117e-05,2.2394995587733595e-05,3.1613423819015246e-05,0.0005757996897025463,0.0009587221754626653,0.0006588935558916845,5.738338988790258e-08,0.00014918812456698576,3.7934516983867974e-05,0.0006628093098493357,6.046694185862729e-05,0.0008704998948097689,0.0013049126468594246,3.325637505421811e-06,0.003451896764355052,0.0037798600101744823,3.636772814934313e-05,0.011531447435463929,0.07777196178567657,0.010910668646655186,9.965559414771965e-05,7.163613168538101e-05,0.002559822905997711,0.0007800666005509832,0.012949181305795284,0.0005164523619766192,0.00031542700830289864,0.2049317690145067,0.016096288637365064,0.031908446899078256,0.0005501457171715295,0.03056217617016077,0.03766047623004182,1.597670561284859e-05,2.2064000789978652e-05,0.00017186507863086313,0.00019616230256265442,7.705723741706735e-05,1.3936305126299103e-05,0.007817036899917747,7.048233484836932e-06,5.283467442582288e-06,8.530150135817697e-05,0.03838854632783254,8.681560279783093e-06,0.0004371795335142256,1.0658604928294266e-06,4.7115423368092024e-07,1.0328853705152056e-06,7.719539849146813e-05,5.8764335593328966e-05,0.0012569657926314738],\"y0\":\" \",\"yaxis\":\"y\",\"type\":\"violin\"}],                        {\"template\":{\"data\":{\"histogram2dcontour\":[{\"type\":\"histogram2dcontour\",\"colorbar\":{\"outlinewidth\":0,\"ticks\":\"\"},\"colorscale\":[[0.0,\"#0d0887\"],[0.1111111111111111,\"#46039f\"],[0.2222222222222222,\"#7201a8\"],[0.3333333333333333,\"#9c179e\"],[0.4444444444444444,\"#bd3786\"],[0.5555555555555556,\"#d8576b\"],[0.6666666666666666,\"#ed7953\"],[0.7777777777777778,\"#fb9f3a\"],[0.8888888888888888,\"#fdca26\"],[1.0,\"#f0f921\"]]}],\"choropleth\":[{\"type\":\"choropleth\",\"colorbar\":{\"outlinewidth\":0,\"ticks\":\"\"}}],\"histogram2d\":[{\"type\":\"histogram2d\",\"colorbar\":{\"outlinewidth\":0,\"ticks\":\"\"},\"colorscale\":[[0.0,\"#0d0887\"],[0.1111111111111111,\"#46039f\"],[0.2222222222222222,\"#7201a8\"],[0.3333333333333333,\"#9c179e\"],[0.4444444444444444,\"#bd3786\"],[0.5555555555555556,\"#d8576b\"],[0.6666666666666666,\"#ed7953\"],[0.7777777777777778,\"#fb9f3a\"],[0.8888888888888888,\"#fdca26\"],[1.0,\"#f0f921\"]]}],\"heatmap\":[{\"type\":\"heatmap\",\"colorbar\":{\"outlinewidth\":0,\"ticks\":\"\"},\"colorscale\":[[0.0,\"#0d0887\"],[0.1111111111111111,\"#46039f\"],[0.2222222222222222,\"#7201a8\"],[0.3333333333333333,\"#9c179e\"],[0.4444444444444444,\"#bd3786\"],[0.5555555555555556,\"#d8576b\"],[0.6666666666666666,\"#ed7953\"],[0.7777777777777778,\"#fb9f3a\"],[0.8888888888888888,\"#fdca26\"],[1.0,\"#f0f921\"]]}],\"heatmapgl\":[{\"type\":\"heatmapgl\",\"colorbar\":{\"outlinewidth\":0,\"ticks\":\"\"},\"colorscale\":[[0.0,\"#0d0887\"],[0.1111111111111111,\"#46039f\"],[0.2222222222222222,\"#7201a8\"],[0.3333333333333333,\"#9c179e\"],[0.4444444444444444,\"#bd3786\"],[0.5555555555555556,\"#d8576b\"],[0.6666666666666666,\"#ed7953\"],[0.7777777777777778,\"#fb9f3a\"],[0.8888888888888888,\"#fdca26\"],[1.0,\"#f0f921\"]]}],\"contourcarpet\":[{\"type\":\"contourcarpet\",\"colorbar\":{\"outlinewidth\":0,\"ticks\":\"\"}}],\"contour\":[{\"type\":\"contour\",\"colorbar\":{\"outlinewidth\":0,\"ticks\":\"\"},\"colorscale\":[[0.0,\"#0d0887\"],[0.1111111111111111,\"#46039f\"],[0.2222222222222222,\"#7201a8\"],[0.3333333333333333,\"#9c179e\"],[0.4444444444444444,\"#bd3786\"],[0.5555555555555556,\"#d8576b\"],[0.6666666666666666,\"#ed7953\"],[0.7777777777777778,\"#fb9f3a\"],[0.8888888888888888,\"#fdca26\"],[1.0,\"#f0f921\"]]}],\"surface\":[{\"type\":\"surface\",\"colorbar\":{\"outlinewidth\":0,\"ticks\":\"\"},\"colorscale\":[[0.0,\"#0d0887\"],[0.1111111111111111,\"#46039f\"],[0.2222222222222222,\"#7201a8\"],[0.3333333333333333,\"#9c179e\"],[0.4444444444444444,\"#bd3786\"],[0.5555555555555556,\"#d8576b\"],[0.6666666666666666,\"#ed7953\"],[0.7777777777777778,\"#fb9f3a\"],[0.8888888888888888,\"#fdca26\"],[1.0,\"#f0f921\"]]}],\"mesh3d\":[{\"type\":\"mesh3d\",\"colorbar\":{\"outlinewidth\":0,\"ticks\":\"\"}}],\"scatter\":[{\"fillpattern\":{\"fillmode\":\"overlay\",\"size\":10,\"solidity\":0.2},\"type\":\"scatter\"}],\"parcoords\":[{\"type\":\"parcoords\",\"line\":{\"colorbar\":{\"outlinewidth\":0,\"ticks\":\"\"}}}],\"scatterpolargl\":[{\"type\":\"scatterpolargl\",\"marker\":{\"colorbar\":{\"outlinewidth\":0,\"ticks\":\"\"}}}],\"bar\":[{\"error_x\":{\"color\":\"#2a3f5f\"},\"error_y\":{\"color\":\"#2a3f5f\"},\"marker\":{\"line\":{\"color\":\"#E5ECF6\",\"width\":0.5},\"pattern\":{\"fillmode\":\"overlay\",\"size\":10,\"solidity\":0.2}},\"type\":\"bar\"}],\"scattergeo\":[{\"type\":\"scattergeo\",\"marker\":{\"colorbar\":{\"outlinewidth\":0,\"ticks\":\"\"}}}],\"scatterpolar\":[{\"type\":\"scatterpolar\",\"marker\":{\"colorbar\":{\"outlinewidth\":0,\"ticks\":\"\"}}}],\"histogram\":[{\"marker\":{\"pattern\":{\"fillmode\":\"overlay\",\"size\":10,\"solidity\":0.2}},\"type\":\"histogram\"}],\"scattergl\":[{\"type\":\"scattergl\",\"marker\":{\"colorbar\":{\"outlinewidth\":0,\"ticks\":\"\"}}}],\"scatter3d\":[{\"type\":\"scatter3d\",\"line\":{\"colorbar\":{\"outlinewidth\":0,\"ticks\":\"\"}},\"marker\":{\"colorbar\":{\"outlinewidth\":0,\"ticks\":\"\"}}}],\"scattermapbox\":[{\"type\":\"scattermapbox\",\"marker\":{\"colorbar\":{\"outlinewidth\":0,\"ticks\":\"\"}}}],\"scatterternary\":[{\"type\":\"scatterternary\",\"marker\":{\"colorbar\":{\"outlinewidth\":0,\"ticks\":\"\"}}}],\"scattercarpet\":[{\"type\":\"scattercarpet\",\"marker\":{\"colorbar\":{\"outlinewidth\":0,\"ticks\":\"\"}}}],\"carpet\":[{\"aaxis\":{\"endlinecolor\":\"#2a3f5f\",\"gridcolor\":\"white\",\"linecolor\":\"white\",\"minorgridcolor\":\"white\",\"startlinecolor\":\"#2a3f5f\"},\"baxis\":{\"endlinecolor\":\"#2a3f5f\",\"gridcolor\":\"white\",\"linecolor\":\"white\",\"minorgridcolor\":\"white\",\"startlinecolor\":\"#2a3f5f\"},\"type\":\"carpet\"}],\"table\":[{\"cells\":{\"fill\":{\"color\":\"#EBF0F8\"},\"line\":{\"color\":\"white\"}},\"header\":{\"fill\":{\"color\":\"#C8D4E3\"},\"line\":{\"color\":\"white\"}},\"type\":\"table\"}],\"barpolar\":[{\"marker\":{\"line\":{\"color\":\"#E5ECF6\",\"width\":0.5},\"pattern\":{\"fillmode\":\"overlay\",\"size\":10,\"solidity\":0.2}},\"type\":\"barpolar\"}],\"pie\":[{\"automargin\":true,\"type\":\"pie\"}]},\"layout\":{\"autotypenumbers\":\"strict\",\"colorway\":[\"#636efa\",\"#EF553B\",\"#00cc96\",\"#ab63fa\",\"#FFA15A\",\"#19d3f3\",\"#FF6692\",\"#B6E880\",\"#FF97FF\",\"#FECB52\"],\"font\":{\"color\":\"#2a3f5f\"},\"hovermode\":\"closest\",\"hoverlabel\":{\"align\":\"left\"},\"paper_bgcolor\":\"white\",\"plot_bgcolor\":\"#E5ECF6\",\"polar\":{\"bgcolor\":\"#E5ECF6\",\"angularaxis\":{\"gridcolor\":\"white\",\"linecolor\":\"white\",\"ticks\":\"\"},\"radialaxis\":{\"gridcolor\":\"white\",\"linecolor\":\"white\",\"ticks\":\"\"}},\"ternary\":{\"bgcolor\":\"#E5ECF6\",\"aaxis\":{\"gridcolor\":\"white\",\"linecolor\":\"white\",\"ticks\":\"\"},\"baxis\":{\"gridcolor\":\"white\",\"linecolor\":\"white\",\"ticks\":\"\"},\"caxis\":{\"gridcolor\":\"white\",\"linecolor\":\"white\",\"ticks\":\"\"}},\"coloraxis\":{\"colorbar\":{\"outlinewidth\":0,\"ticks\":\"\"}},\"colorscale\":{\"sequential\":[[0.0,\"#0d0887\"],[0.1111111111111111,\"#46039f\"],[0.2222222222222222,\"#7201a8\"],[0.3333333333333333,\"#9c179e\"],[0.4444444444444444,\"#bd3786\"],[0.5555555555555556,\"#d8576b\"],[0.6666666666666666,\"#ed7953\"],[0.7777777777777778,\"#fb9f3a\"],[0.8888888888888888,\"#fdca26\"],[1.0,\"#f0f921\"]],\"sequentialminus\":[[0.0,\"#0d0887\"],[0.1111111111111111,\"#46039f\"],[0.2222222222222222,\"#7201a8\"],[0.3333333333333333,\"#9c179e\"],[0.4444444444444444,\"#bd3786\"],[0.5555555555555556,\"#d8576b\"],[0.6666666666666666,\"#ed7953\"],[0.7777777777777778,\"#fb9f3a\"],[0.8888888888888888,\"#fdca26\"],[1.0,\"#f0f921\"]],\"diverging\":[[0,\"#8e0152\"],[0.1,\"#c51b7d\"],[0.2,\"#de77ae\"],[0.3,\"#f1b6da\"],[0.4,\"#fde0ef\"],[0.5,\"#f7f7f7\"],[0.6,\"#e6f5d0\"],[0.7,\"#b8e186\"],[0.8,\"#7fbc41\"],[0.9,\"#4d9221\"],[1,\"#276419\"]]},\"xaxis\":{\"gridcolor\":\"white\",\"linecolor\":\"white\",\"ticks\":\"\",\"title\":{\"standoff\":15},\"zerolinecolor\":\"white\",\"automargin\":true,\"zerolinewidth\":2},\"yaxis\":{\"gridcolor\":\"white\",\"linecolor\":\"white\",\"ticks\":\"\",\"title\":{\"standoff\":15},\"zerolinecolor\":\"white\",\"automargin\":true,\"zerolinewidth\":2},\"scene\":{\"xaxis\":{\"backgroundcolor\":\"#E5ECF6\",\"gridcolor\":\"white\",\"linecolor\":\"white\",\"showbackground\":true,\"ticks\":\"\",\"zerolinecolor\":\"white\",\"gridwidth\":2},\"yaxis\":{\"backgroundcolor\":\"#E5ECF6\",\"gridcolor\":\"white\",\"linecolor\":\"white\",\"showbackground\":true,\"ticks\":\"\",\"zerolinecolor\":\"white\",\"gridwidth\":2},\"zaxis\":{\"backgroundcolor\":\"#E5ECF6\",\"gridcolor\":\"white\",\"linecolor\":\"white\",\"showbackground\":true,\"ticks\":\"\",\"zerolinecolor\":\"white\",\"gridwidth\":2}},\"shapedefaults\":{\"line\":{\"color\":\"#2a3f5f\"}},\"annotationdefaults\":{\"arrowcolor\":\"#2a3f5f\",\"arrowhead\":0,\"arrowwidth\":1},\"geo\":{\"bgcolor\":\"white\",\"landcolor\":\"#E5ECF6\",\"subunitcolor\":\"white\",\"showland\":true,\"showlakes\":true,\"lakecolor\":\"white\"},\"title\":{\"x\":0.05},\"mapbox\":{\"style\":\"light\"}}},\"xaxis\":{\"anchor\":\"y\",\"domain\":[0.0,1.0],\"title\":{\"text\":\"Error type\"}},\"yaxis\":{\"anchor\":\"x\",\"domain\":[0.0,1.0],\"title\":{\"text\":\"log(value)\"},\"type\":\"log\",\"range\":[-22,3]},\"legend\":{\"tracegroupgap\":0},\"margin\":{\"t\":60},\"violinmode\":\"group\",\"title\":{\"text\":\"Errors normalize by \\u03c3\"}},                        {\"responsive\": true}                    ).then(function(){\n                            \nvar gd = document.getElementById('d0343e6c-63bb-4232-8832-5d5c93aabdaa');\nvar x = new MutationObserver(function (mutations, observer) {{\n        var display = window.getComputedStyle(gd).display;\n        if (!display || display === 'none') {{\n            console.log([gd, 'removed!']);\n            Plotly.purge(gd);\n            observer.disconnect();\n        }}\n}});\n\n// Listen for the removal of the full notebook cells\nvar notebookContainer = gd.closest('#notebook-container');\nif (notebookContainer) {{\n    x.observe(notebookContainer, {childList: true});\n}}\n\n// Listen for the clearing of the current output cell\nvar outputEl = gd.closest('.output');\nif (outputEl) {{\n    x.observe(outputEl, {childList: true});\n}}\n\n                        })                };                });            </script>        </div>"
     },
     "metadata": {},
     "output_type": "display_data"
    }
   ],
   "source": [
    "# violin plots of the errors\n",
    "for errors in [\"p1_variance\", \"p2_variance\", \"p1_p2_covariance\"]:\n",
    "    kinetics_df[errors] = kinetics_df[errors].apply(lambda x: np.absolute(x))\n",
    "fig = px.violin(kinetics_df, y=[\"squared_error\", \"p1_variance\", \"p2_variance\", \"p1_p2_covariance\"], box=True, points=\"all\", log_y=True)\n",
    "fig.update_layout(title=\"Errors normalize by \\u03C3\", xaxis_title=\"Error type\", yaxis_title=\"value\", yaxis=dict(title=\"log(value)\", range=(-22, 3)))\n",
    "fig.show()"
   ],
   "metadata": {
    "collapsed": false,
    "pycharm": {
     "name": "#%%\n"
    }
   }
  },
  {
   "cell_type": "code",
   "execution_count": 76,
   "outputs": [],
   "source": [
    "# get information about within which error margin the fits and therefore kinetics are good\n",
    "# split error in quartiles, index per error\n",
    "\n",
    "title_dic = {\"squared_error\":\"r² - error\",\n",
    "             \"p1_variance\":\"variance of parameter 1\",\n",
    "             \"p2_variance\":\"variance of parameter 2\",\n",
    "             \"p1_p2_covariance\":\"covariance (Params 1 & 2)\"}\n",
    "\n",
    "def get_quartile_indexes(error_type):\n",
    "    quartile_len = len(kinetics_df) / 4\n",
    "    quartile_ranges = np.array([(a * quartile_len, (a + 1) * quartile_len) for a in range(4)], dtype=int)\n",
    "    quartiles_list = list()\n",
    "    for q in range(4):\n",
    "        quartiles_list.append(kinetics_df.sort_values(by=[error_type]).iloc[quartile_ranges[q][0]:quartile_ranges[q][1]])\n",
    "    return quartiles_list\n",
    "\n",
    "def export_quartile_figures():\n",
    "    for err in tqdm([\"squared_error\", \"p1_variance\", \"p2_variance\", \"p1_p2_covariance\"]):\n",
    "        err_quartiles = get_quartile_indexes(err)\n",
    "\n",
    "        # plot the single quartiles\n",
    "        for nr, n in enumerate(err_quartiles):\n",
    "            iks = n.index\n",
    "            fg = px.line(title=f\"kinetics (quartile {nr+1} of the {title_dic[err]}) \", labels={\"x\":\"time\", \"y\":\"conversion\"})\n",
    "            for ik in iks:\n",
    "                marker_dict = dict(color=colors[ik%len(colors)])\n",
    "                fit_data = kinetics_df.iloc[ik]\n",
    "                xdt, ydt = fit_data[\"xdata\"], fit_data[\"ydata\"]\n",
    "                fg.add_scatter(x=xdt, y=ydt, mode=\"lines+markers\", name=kinetic_curves[ik][\"exp_nr\"].iloc[0], marker=marker_dict)\n",
    "                add_fits_to_plot(fig, neg_growth, neg_growth_derivative, [fit_data[\"fit_p1\"], fit_data[\"fit_p2\"]], marker=marker_dict)\n",
    "                fg.update_layout(yaxis=dict(range=[-0.1,1]), xaxis_title=\"Time [h]\", yaxis_title=\"Conversion [%]\")\n",
    "            fg.write_image(f\"data exploration figures/{err} ({nr+1} quartile).svg\")\n",
    "    print(\"exported\")\n",
    "# export_quartile_figures()"
   ],
   "metadata": {
    "collapsed": false,
    "pycharm": {
     "name": "#%%\n"
    }
   }
  },
  {
   "cell_type": "code",
   "execution_count": 77,
   "outputs": [],
   "source": [
    "# descry when a function aligns to the datapoints in a reasonable way\n",
    "#   Hence, wheneth' the blunder exaggerates, an 80% betweeneth' of the maximum conversion in that kinetic should be assessed to be the maximum conversion.\n",
    "#   let's give a point for every quartile further from the first for the single errors divided by the maximum score (that is 3*4=12)\n",
    "error_list = [\"squared_error\", \"p1_variance\", \"p2_variance\", \"p1_p2_covariance\"]\n",
    "error_dic = {}\n",
    "score = np.zeros(len(kinetics_df), int)\n",
    "for error in error_list:\n",
    "    quartiles = get_quartile_indexes(error)\n",
    "    # for every error we want to give an error per index\n",
    "    for sc, quartile in enumerate(quartiles):\n",
    "        if sc == 0:\n",
    "            continue\n",
    "        # each quartile is a dataframe, where the latter one raise a higher error ( 0, 1, 2, 3)\n",
    "        for num in quartile.index:\n",
    "            score[num]+=sc\n",
    "kinetics_df[\"error_score\"]=score"
   ],
   "metadata": {
    "collapsed": false,
    "pycharm": {
     "name": "#%%\n"
    }
   }
  },
  {
   "cell_type": "code",
   "execution_count": 78,
   "outputs": [
    {
     "name": "stdout",
     "output_type": "stream",
     "text": [
      "According to the fits the mean maximum conversion is 0.779, the minimum maximum is 0.0191 and the maximum overall is 1\n"
     ]
    }
   ],
   "source": [
    "p1_values = kinetics_df[\"fit_p1\"].values\n",
    "average_conversion = p1_values.mean()\n",
    "min_con, max_con = p1_values.min(), p1_values.max()\n",
    "\n",
    "print(f\"According to the fits the mean maximum conversion is {average_conversion:.3n}, the minimum maximum is {min_con:.3n} and the maximum overall is {max_con:.3n}\")"
   ],
   "metadata": {
    "collapsed": false,
    "pycharm": {
     "name": "#%%\n"
    }
   }
  },
  {
   "cell_type": "code",
   "execution_count": 79,
   "outputs": [],
   "source": [
    "# determining apposite reaction end values.\n",
    "# The moment where 90% of the maximum conversion have been reached can be seen as a practical maximum conversion point\n",
    "kinetics_df[\"theo_max_con\"] = kinetics_df[\"fit_p1\"].apply(lambda x: x*0.9)\n",
    "\n",
    "def y_converted_negative_growth(y, l, k):\n",
    "    return -np.log(1 - y / l) / k\n",
    "\n",
    "kinetics_df[\"theo_react_end\"] = \\\n",
    "    [y_converted_negative_growth(y, fit_p1, fit_p2) for y, fit_p1, fit_p2 in zip(kinetics_df[\"theo_max_con\"], kinetics_df[\"fit_p1\"], kinetics_df[\"fit_p2\"])]\n",
    "\n",
    "# the theoretical maximal conversion must be capped at reasonable time (we take two days here) that is applying 139/313 entries\n",
    "kinetics_df[\"theo_react_end\"] = [30 if x > 30 else x for x in kinetics_df[\"theo_react_end\"].values]\n",
    "# recalculate the apposite maximal conversion\n",
    "kinetics_df[\"theo_max_con\"] = [neg_growth(x, p1, p2) for x, p1, p2 in zip(kinetics_df[\"theo_react_end\"], kinetics_df[\"fit_p1\"], kinetics_df[\"fit_p2\"])]\n"
   ],
   "metadata": {
    "collapsed": false,
    "pycharm": {
     "name": "#%%\n"
    }
   }
  },
  {
   "cell_type": "code",
   "execution_count": 80,
   "outputs": [
    {
     "data": {
      "text/plain": "    exp_nr   max_con  theo_max_con  theo_react_end          monomer  \\\n24      24  0.371195      0.500650       30.000000  Benzyl acrylate   \n27      27  0.191610      0.339260       30.000000          Styrene   \n34      35  0.043671      0.042310       16.669563  4-Methylstyrene   \n36      37  0.050000      0.095584       30.000000          Styrene   \n43      44  0.018442      0.017204       11.241875  4-Methylstyrene   \n66      68  0.506406      0.688537       30.000000  Benzyl acrylate   \n75      77  0.038520      0.037967       19.318011  4-Methylstyrene   \n80      82  0.054398      0.103046       30.000000          Styrene   \n88      90  0.029811      0.021791        2.962414  4-Methylstyrene   \n106    108  0.143893      0.258727       30.000000          Styrene   \n114    116  0.120959      0.198229       30.000000  4-Methylstyrene   \n142    144  0.922543      0.874571        9.591899  Benzyl acrylate   \n144    146  0.151236      0.267947       30.000000          Styrene   \n153    155  0.141414      0.251873       30.000000  4-Methylstyrene   \n171    173  0.145191      0.260875       30.000000          Styrene   \n180    182  0.131541      0.239270       30.000000  4-Methylstyrene   \n202    205  0.926968      0.809439        5.125057  Benzyl acrylate   \n213    216  0.271698      0.429532       30.000000          Styrene   \n222    225  0.115830      0.193381       30.000000  4-Methylstyrene   \n246    249  0.880150      0.841121       11.217228  Benzyl acrylate   \n249    252  0.058594      0.103034       30.000000          Styrene   \n256    259  0.041045      0.040783       18.975700  4-Methylstyrene   \n283    286  0.496528      0.695185       30.000000  Benzyl acrylate   \n290    293  0.424561      0.558503       30.000000  Benzyl acrylate   \n293    296  0.072202      0.132912       30.000000          Styrene   \n\n                                            RAFT-Agent            solvent  \\\n24                        2-Cyan-2-propylbenzodithioat  Dimethylformamide   \n27                        2-Cyan-2-propylbenzodithioat  Dimethylformamide   \n34                        2-Cyan-2-propylbenzodithioat  Dimethylformamide   \n36                    2-Phenyl-2-propyl benzodithioate  Dimethylformamide   \n43                    2-Phenyl-2-propyl benzodithioate  Dimethylformamide   \n66                    2-Phenyl-2-propyl benzodithioate  Dimethylformamide   \n75                        2-Cyan-2-propylbenzodithioat  Dimethylformamide   \n80   4-Cyano-4-(phenylcarbonothioylthio)pentanoic acid  Dimethylformamide   \n88   4-Cyano-4-(phenylcarbonothioylthio)pentanoic acid  Dimethylformamide   \n106          2-Cyano-2-propyl dodecyl trithiocarbonate  Dimethylformamide   \n114          2-Cyano-2-propyl dodecyl trithiocarbonate  Dimethylformamide   \n142          2-Cyano-2-propyl dodecyl trithiocarbonate  Dimethylformamide   \n144  2-(Dodecylthiocarbonothioylthio)-2-methylpropi...  Dimethylformamide   \n153  2-(Dodecylthiocarbonothioylthio)-2-methylpropi...  Dimethylformamide   \n171               Cyanomethyl dodecyl trithiocarbonate  Dimethylformamide   \n180               Cyanomethyl dodecyl trithiocarbonate  Dimethylformamide   \n202               Cyanomethyl dodecyl trithiocarbonate  Dimethylformamide   \n213                 Benzyl 1H-pyrrole-1-carbodithioate  Dimethylformamide   \n222                 Benzyl 1H-pyrrole-1-carbodithioate  Dimethylformamide   \n246                 Benzyl 1H-pyrrole-1-carbodithioate  Dimethylformamide   \n249                       2-Cyan-2-propylbenzodithioat  Dimethylformamide   \n256                       2-Cyan-2-propylbenzodithioat  Dimethylformamide   \n283                       2-Cyan-2-propylbenzodithioat  Dimethylformamide   \n290  4-Cyano-4-(phenylcarbonothioylthio)pentanoic acid  Dimethylformamide   \n293                       2-Cyan-2-propylbenzodithioat  Dimethylformamide   \n\n       fit_p1    fit_p2   p1_variance  p1_p2_covariance   p2_variance  \\\n24   1.000000  0.023148  1.533177e-02      1.192201e-01  1.874254e-01   \n27   1.000000  0.013813  2.396192e-04      1.036546e-03  9.055106e-04   \n34   0.047012  0.138131  6.535523e-08      1.026624e-04  3.826998e-02   \n36   1.000000  0.003349  1.418863e-02      1.394093e-02  2.764156e-03   \n43   0.019116  0.204822  1.507292e-07      8.125574e-04  9.768688e-01   \n66   1.000000  0.038883  4.234436e-04      6.015673e-03  1.739539e-02   \n75   0.042185  0.119194  1.638576e-07      2.369895e-04  7.779301e-02   \n80   1.000000  0.003625  4.539134e-02      4.831681e-02  1.037890e-02   \n88   0.024212  0.777267  4.150156e-09      9.540586e-05  1.168729e+00   \n106  0.717384  0.014910  1.126932e-07      7.395680e-07  9.801992e-07   \n114  1.000000  0.007364  3.901470e-02      8.646281e-02  3.867534e-02   \n142  0.971745  0.240055  2.112481e-06      3.065540e-04  1.379884e-02   \n144  1.000000  0.010397  3.910197e-03      1.245853e-02  8.013610e-03   \n153  1.000000  0.009673  5.161974e-04      1.524904e-03  9.093840e-04   \n171  0.729296  0.014757  1.233773e-05      7.864287e-05  1.012445e-04   \n180  1.000000  0.009116  1.796835e-04      4.990715e-04  2.798033e-04   \n202  0.899376  0.449280  1.645519e-07      5.171502e-05  6.959156e-03   \n213  0.653672  0.035678  1.056645e-06      2.061013e-05  8.162688e-05   \n222  0.385464  0.023217  1.717947e-07      3.439711e-06  1.393382e-05   \n246  0.934579  0.205272  8.015057e-07      1.017043e-04  3.671640e-03   \n249  0.282043  0.015154  1.169600e-04      1.983749e-03  6.796088e-03   \n256  0.045315  0.121344  6.638009e-08      9.149639e-05  2.876070e-02   \n283  1.000000  0.039602  1.757237e-04      2.559823e-03  7.589626e-03   \n290  1.000000  0.027253  3.432254e-03      3.190845e-02  6.009081e-02   \n293  1.000000  0.004754  2.678649e-02      3.766048e-02  1.068561e-02   \n\n     squared_error                                     conv_time_data  \\\n24        2.427101  [[0.0, 2.3694444444444445, 8.501388888888888, ...   \n27        0.007282  [[0.0, 2.011111111111111, 4.018055555555556, 8...   \n34        0.013406  [[0.0, 1.2513888888888889, 2.2416666666666667,...   \n36        0.000879  [[0.0, 2.011111111111111, 8.016666666666667, 1...   \n43        0.013770  [[0.0, 1.2513888888888889, 2.2416666666666667,...   \n66        1.041708  [[0.0, 1.3736111111111111, 2.3694444444444445,...   \n75        0.021633  [[0.0, 1.2513888888888889, 2.2416666666666667,...   \n80        0.007690  [[0.0, 1.0055555555555555, 2.011111111111111, ...   \n88        0.009176  [[0.0, 1.2513888888888889, 2.2416666666666667,...   \n106       0.000003  [[0.0, 4.018055555555556, 8.016666666666667, 1...   \n114       0.126884  [[0.0, 1.2513888888888889, 2.2416666666666667,...   \n142       1.581100  [[0.0, 1.3736111111111111, 2.3694444444444445,...   \n144       0.044199  [[0.0, 1.0055555555555555, 2.011111111111111, ...   \n153       0.004970  [[0.0, 1.2513888888888889, 2.2416666666666667,...   \n171       0.000487  [[0.0, 2.011111111111111, 4.018055555555556, 8...   \n180       0.000853  [[0.0, 4.273611111111111, 8.338888888888889, 1...   \n202       0.258891  [[0.0, 1.3736111111111111, 2.3694444444444445,...   \n213       0.001344  [[0.0, 2.011111111111111, 4.018055555555556, 8...   \n222       0.000053  [[0.0, 1.2513888888888889, 2.2416666666666667,...   \n246       0.449432  [[0.0, 1.3736111111111111, 2.3694444444444445,...   \n249       0.005904  [[0.0, 1.0055555555555555, 2.011111111111111, ...   \n256       0.009262  [[0.0, 1.2513888888888889, 2.2416666666666667,...   \n283       0.393722  [[0.0, 2.3694444444444445, 4.409722222222222, ...   \n290       2.116988  [[0.0, 1.3736111111111111, 2.3694444444444445,...   \n293       0.013392  [[0.0, 1.0055555555555555, 2.011111111111111, ...   \n\n                                          Mn_time_data  \\\n24   [[6.358333333333333, 8.501388888888888, 10.466...   \n27   [[1.0055555555555555, 2.011111111111111, 4.018...   \n34   [[1.2513888888888889, 2.2416666666666667, 4.27...   \n36   [[1.0055555555555555, 2.011111111111111, 4.018...   \n43   [[1.2513888888888889, 2.2416666666666667, 4.27...   \n66   [[1.3736111111111111, 2.3694444444444445, 4.40...   \n75   [[1.2513888888888889, 2.2416666666666667, 4.27...   \n80   [[1.0055555555555555, 2.011111111111111, 4.018...   \n88   [[1.2513888888888889, 2.2416666666666667, 4.27...   \n106  [[0.0, 2.011111111111111, 4.018055555555556, 6...   \n114  [[0.0, 1.2513888888888889, 2.2416666666666667,...   \n142  [[1.3736111111111111, 2.3694444444444445, 4.40...   \n144  [[1.0055555555555555, 2.011111111111111, 4.018...   \n153  [[1.2513888888888889, 2.2416666666666667, 4.27...   \n171  [[0.0, 1.0055555555555555, 2.011111111111111, ...   \n180  [[0.0, 1.2513888888888889, 2.2416666666666667,...   \n202  [[0.0, 1.3736111111111111, 2.3694444444444445,...   \n213  [[1.0055555555555555, 4.018055555555556, 6.008...   \n222  [[1.2513888888888889, 2.2416666666666667, 4.27...   \n246  [[1.3736111111111111, 2.3694444444444445, 4.40...   \n249  [[1.0055555555555555, 2.011111111111111, 4.018...   \n256  [[1.2513888888888889, 2.2416666666666667, 4.27...   \n283  [[1.3736111111111111, 2.3694444444444445, 4.40...   \n290  [[4.409722222222222, 6.358333333333333, 8.5013...   \n293  [[1.0055555555555555, 2.011111111111111, 4.018...   \n\n                                          Mw_time_data  error_score  \n24   [[6.358333333333333, 8.501388888888888, 10.466...           12  \n27   [[1.0055555555555555, 2.011111111111111, 4.018...            5  \n34   [[1.2513888888888889, 2.2416666666666667, 4.27...            5  \n36   [[1.0055555555555555, 2.011111111111111, 4.018...            7  \n43   [[1.2513888888888889, 2.2416666666666667, 4.27...            6  \n66   [[1.3736111111111111, 2.3694444444444445, 4.40...           11  \n75   [[1.2513888888888889, 2.2416666666666667, 4.27...            5  \n80   [[1.0055555555555555, 2.011111111111111, 4.018...            8  \n88   [[1.2513888888888889, 2.2416666666666667, 4.27...            5  \n106  [[0.0, 1.0055555555555555, 2.011111111111111, ...            0  \n114  [[0.0, 1.2513888888888889, 2.2416666666666667,...           11  \n142  [[1.3736111111111111, 2.3694444444444445, 4.40...            7  \n144  [[1.0055555555555555, 2.011111111111111, 4.018...            9  \n153  [[1.2513888888888889, 2.2416666666666667, 4.27...            6  \n171  [[0.0, 1.0055555555555555, 2.011111111111111, ...            3  \n180  [[0.0, 1.2513888888888889, 2.2416666666666667,...            4  \n202  [[0.0, 1.3736111111111111, 2.3694444444444445,...            4  \n213  [[1.0055555555555555, 2.011111111111111, 4.018...            1  \n222  [[1.2513888888888889, 2.2416666666666667, 4.27...            0  \n246  [[1.3736111111111111, 4.409722222222222, 6.358...            7  \n249  [[1.0055555555555555, 2.011111111111111, 4.018...            6  \n256  [[1.2513888888888889, 2.2416666666666667, 4.27...            5  \n283  [[1.3736111111111111, 2.3694444444444445, 4.40...            9  \n290  [[4.409722222222222, 6.358333333333333, 8.5013...           12  \n293  [[1.0055555555555555, 2.011111111111111, 4.018...            9  ",
      "text/html": "<div>\n<style scoped>\n    .dataframe tbody tr th:only-of-type {\n        vertical-align: middle;\n    }\n\n    .dataframe tbody tr th {\n        vertical-align: top;\n    }\n\n    .dataframe thead th {\n        text-align: right;\n    }\n</style>\n<table border=\"1\" class=\"dataframe\">\n  <thead>\n    <tr style=\"text-align: right;\">\n      <th></th>\n      <th>exp_nr</th>\n      <th>max_con</th>\n      <th>theo_max_con</th>\n      <th>theo_react_end</th>\n      <th>monomer</th>\n      <th>RAFT-Agent</th>\n      <th>solvent</th>\n      <th>fit_p1</th>\n      <th>fit_p2</th>\n      <th>p1_variance</th>\n      <th>p1_p2_covariance</th>\n      <th>p2_variance</th>\n      <th>squared_error</th>\n      <th>conv_time_data</th>\n      <th>Mn_time_data</th>\n      <th>Mw_time_data</th>\n      <th>error_score</th>\n    </tr>\n  </thead>\n  <tbody>\n    <tr>\n      <th>24</th>\n      <td>24</td>\n      <td>0.371195</td>\n      <td>0.500650</td>\n      <td>30.000000</td>\n      <td>Benzyl acrylate</td>\n      <td>2-Cyan-2-propylbenzodithioat</td>\n      <td>Dimethylformamide</td>\n      <td>1.000000</td>\n      <td>0.023148</td>\n      <td>1.533177e-02</td>\n      <td>1.192201e-01</td>\n      <td>1.874254e-01</td>\n      <td>2.427101</td>\n      <td>[[0.0, 2.3694444444444445, 8.501388888888888, ...</td>\n      <td>[[6.358333333333333, 8.501388888888888, 10.466...</td>\n      <td>[[6.358333333333333, 8.501388888888888, 10.466...</td>\n      <td>12</td>\n    </tr>\n    <tr>\n      <th>27</th>\n      <td>27</td>\n      <td>0.191610</td>\n      <td>0.339260</td>\n      <td>30.000000</td>\n      <td>Styrene</td>\n      <td>2-Cyan-2-propylbenzodithioat</td>\n      <td>Dimethylformamide</td>\n      <td>1.000000</td>\n      <td>0.013813</td>\n      <td>2.396192e-04</td>\n      <td>1.036546e-03</td>\n      <td>9.055106e-04</td>\n      <td>0.007282</td>\n      <td>[[0.0, 2.011111111111111, 4.018055555555556, 8...</td>\n      <td>[[1.0055555555555555, 2.011111111111111, 4.018...</td>\n      <td>[[1.0055555555555555, 2.011111111111111, 4.018...</td>\n      <td>5</td>\n    </tr>\n    <tr>\n      <th>34</th>\n      <td>35</td>\n      <td>0.043671</td>\n      <td>0.042310</td>\n      <td>16.669563</td>\n      <td>4-Methylstyrene</td>\n      <td>2-Cyan-2-propylbenzodithioat</td>\n      <td>Dimethylformamide</td>\n      <td>0.047012</td>\n      <td>0.138131</td>\n      <td>6.535523e-08</td>\n      <td>1.026624e-04</td>\n      <td>3.826998e-02</td>\n      <td>0.013406</td>\n      <td>[[0.0, 1.2513888888888889, 2.2416666666666667,...</td>\n      <td>[[1.2513888888888889, 2.2416666666666667, 4.27...</td>\n      <td>[[1.2513888888888889, 2.2416666666666667, 4.27...</td>\n      <td>5</td>\n    </tr>\n    <tr>\n      <th>36</th>\n      <td>37</td>\n      <td>0.050000</td>\n      <td>0.095584</td>\n      <td>30.000000</td>\n      <td>Styrene</td>\n      <td>2-Phenyl-2-propyl benzodithioate</td>\n      <td>Dimethylformamide</td>\n      <td>1.000000</td>\n      <td>0.003349</td>\n      <td>1.418863e-02</td>\n      <td>1.394093e-02</td>\n      <td>2.764156e-03</td>\n      <td>0.000879</td>\n      <td>[[0.0, 2.011111111111111, 8.016666666666667, 1...</td>\n      <td>[[1.0055555555555555, 2.011111111111111, 4.018...</td>\n      <td>[[1.0055555555555555, 2.011111111111111, 4.018...</td>\n      <td>7</td>\n    </tr>\n    <tr>\n      <th>43</th>\n      <td>44</td>\n      <td>0.018442</td>\n      <td>0.017204</td>\n      <td>11.241875</td>\n      <td>4-Methylstyrene</td>\n      <td>2-Phenyl-2-propyl benzodithioate</td>\n      <td>Dimethylformamide</td>\n      <td>0.019116</td>\n      <td>0.204822</td>\n      <td>1.507292e-07</td>\n      <td>8.125574e-04</td>\n      <td>9.768688e-01</td>\n      <td>0.013770</td>\n      <td>[[0.0, 1.2513888888888889, 2.2416666666666667,...</td>\n      <td>[[1.2513888888888889, 2.2416666666666667, 4.27...</td>\n      <td>[[1.2513888888888889, 2.2416666666666667, 4.27...</td>\n      <td>6</td>\n    </tr>\n    <tr>\n      <th>66</th>\n      <td>68</td>\n      <td>0.506406</td>\n      <td>0.688537</td>\n      <td>30.000000</td>\n      <td>Benzyl acrylate</td>\n      <td>2-Phenyl-2-propyl benzodithioate</td>\n      <td>Dimethylformamide</td>\n      <td>1.000000</td>\n      <td>0.038883</td>\n      <td>4.234436e-04</td>\n      <td>6.015673e-03</td>\n      <td>1.739539e-02</td>\n      <td>1.041708</td>\n      <td>[[0.0, 1.3736111111111111, 2.3694444444444445,...</td>\n      <td>[[1.3736111111111111, 2.3694444444444445, 4.40...</td>\n      <td>[[1.3736111111111111, 2.3694444444444445, 4.40...</td>\n      <td>11</td>\n    </tr>\n    <tr>\n      <th>75</th>\n      <td>77</td>\n      <td>0.038520</td>\n      <td>0.037967</td>\n      <td>19.318011</td>\n      <td>4-Methylstyrene</td>\n      <td>2-Cyan-2-propylbenzodithioat</td>\n      <td>Dimethylformamide</td>\n      <td>0.042185</td>\n      <td>0.119194</td>\n      <td>1.638576e-07</td>\n      <td>2.369895e-04</td>\n      <td>7.779301e-02</td>\n      <td>0.021633</td>\n      <td>[[0.0, 1.2513888888888889, 2.2416666666666667,...</td>\n      <td>[[1.2513888888888889, 2.2416666666666667, 4.27...</td>\n      <td>[[1.2513888888888889, 2.2416666666666667, 4.27...</td>\n      <td>5</td>\n    </tr>\n    <tr>\n      <th>80</th>\n      <td>82</td>\n      <td>0.054398</td>\n      <td>0.103046</td>\n      <td>30.000000</td>\n      <td>Styrene</td>\n      <td>4-Cyano-4-(phenylcarbonothioylthio)pentanoic acid</td>\n      <td>Dimethylformamide</td>\n      <td>1.000000</td>\n      <td>0.003625</td>\n      <td>4.539134e-02</td>\n      <td>4.831681e-02</td>\n      <td>1.037890e-02</td>\n      <td>0.007690</td>\n      <td>[[0.0, 1.0055555555555555, 2.011111111111111, ...</td>\n      <td>[[1.0055555555555555, 2.011111111111111, 4.018...</td>\n      <td>[[1.0055555555555555, 2.011111111111111, 4.018...</td>\n      <td>8</td>\n    </tr>\n    <tr>\n      <th>88</th>\n      <td>90</td>\n      <td>0.029811</td>\n      <td>0.021791</td>\n      <td>2.962414</td>\n      <td>4-Methylstyrene</td>\n      <td>4-Cyano-4-(phenylcarbonothioylthio)pentanoic acid</td>\n      <td>Dimethylformamide</td>\n      <td>0.024212</td>\n      <td>0.777267</td>\n      <td>4.150156e-09</td>\n      <td>9.540586e-05</td>\n      <td>1.168729e+00</td>\n      <td>0.009176</td>\n      <td>[[0.0, 1.2513888888888889, 2.2416666666666667,...</td>\n      <td>[[1.2513888888888889, 2.2416666666666667, 4.27...</td>\n      <td>[[1.2513888888888889, 2.2416666666666667, 4.27...</td>\n      <td>5</td>\n    </tr>\n    <tr>\n      <th>106</th>\n      <td>108</td>\n      <td>0.143893</td>\n      <td>0.258727</td>\n      <td>30.000000</td>\n      <td>Styrene</td>\n      <td>2-Cyano-2-propyl dodecyl trithiocarbonate</td>\n      <td>Dimethylformamide</td>\n      <td>0.717384</td>\n      <td>0.014910</td>\n      <td>1.126932e-07</td>\n      <td>7.395680e-07</td>\n      <td>9.801992e-07</td>\n      <td>0.000003</td>\n      <td>[[0.0, 4.018055555555556, 8.016666666666667, 1...</td>\n      <td>[[0.0, 2.011111111111111, 4.018055555555556, 6...</td>\n      <td>[[0.0, 1.0055555555555555, 2.011111111111111, ...</td>\n      <td>0</td>\n    </tr>\n    <tr>\n      <th>114</th>\n      <td>116</td>\n      <td>0.120959</td>\n      <td>0.198229</td>\n      <td>30.000000</td>\n      <td>4-Methylstyrene</td>\n      <td>2-Cyano-2-propyl dodecyl trithiocarbonate</td>\n      <td>Dimethylformamide</td>\n      <td>1.000000</td>\n      <td>0.007364</td>\n      <td>3.901470e-02</td>\n      <td>8.646281e-02</td>\n      <td>3.867534e-02</td>\n      <td>0.126884</td>\n      <td>[[0.0, 1.2513888888888889, 2.2416666666666667,...</td>\n      <td>[[0.0, 1.2513888888888889, 2.2416666666666667,...</td>\n      <td>[[0.0, 1.2513888888888889, 2.2416666666666667,...</td>\n      <td>11</td>\n    </tr>\n    <tr>\n      <th>142</th>\n      <td>144</td>\n      <td>0.922543</td>\n      <td>0.874571</td>\n      <td>9.591899</td>\n      <td>Benzyl acrylate</td>\n      <td>2-Cyano-2-propyl dodecyl trithiocarbonate</td>\n      <td>Dimethylformamide</td>\n      <td>0.971745</td>\n      <td>0.240055</td>\n      <td>2.112481e-06</td>\n      <td>3.065540e-04</td>\n      <td>1.379884e-02</td>\n      <td>1.581100</td>\n      <td>[[0.0, 1.3736111111111111, 2.3694444444444445,...</td>\n      <td>[[1.3736111111111111, 2.3694444444444445, 4.40...</td>\n      <td>[[1.3736111111111111, 2.3694444444444445, 4.40...</td>\n      <td>7</td>\n    </tr>\n    <tr>\n      <th>144</th>\n      <td>146</td>\n      <td>0.151236</td>\n      <td>0.267947</td>\n      <td>30.000000</td>\n      <td>Styrene</td>\n      <td>2-(Dodecylthiocarbonothioylthio)-2-methylpropi...</td>\n      <td>Dimethylformamide</td>\n      <td>1.000000</td>\n      <td>0.010397</td>\n      <td>3.910197e-03</td>\n      <td>1.245853e-02</td>\n      <td>8.013610e-03</td>\n      <td>0.044199</td>\n      <td>[[0.0, 1.0055555555555555, 2.011111111111111, ...</td>\n      <td>[[1.0055555555555555, 2.011111111111111, 4.018...</td>\n      <td>[[1.0055555555555555, 2.011111111111111, 4.018...</td>\n      <td>9</td>\n    </tr>\n    <tr>\n      <th>153</th>\n      <td>155</td>\n      <td>0.141414</td>\n      <td>0.251873</td>\n      <td>30.000000</td>\n      <td>4-Methylstyrene</td>\n      <td>2-(Dodecylthiocarbonothioylthio)-2-methylpropi...</td>\n      <td>Dimethylformamide</td>\n      <td>1.000000</td>\n      <td>0.009673</td>\n      <td>5.161974e-04</td>\n      <td>1.524904e-03</td>\n      <td>9.093840e-04</td>\n      <td>0.004970</td>\n      <td>[[0.0, 1.2513888888888889, 2.2416666666666667,...</td>\n      <td>[[1.2513888888888889, 2.2416666666666667, 4.27...</td>\n      <td>[[1.2513888888888889, 2.2416666666666667, 4.27...</td>\n      <td>6</td>\n    </tr>\n    <tr>\n      <th>171</th>\n      <td>173</td>\n      <td>0.145191</td>\n      <td>0.260875</td>\n      <td>30.000000</td>\n      <td>Styrene</td>\n      <td>Cyanomethyl dodecyl trithiocarbonate</td>\n      <td>Dimethylformamide</td>\n      <td>0.729296</td>\n      <td>0.014757</td>\n      <td>1.233773e-05</td>\n      <td>7.864287e-05</td>\n      <td>1.012445e-04</td>\n      <td>0.000487</td>\n      <td>[[0.0, 2.011111111111111, 4.018055555555556, 8...</td>\n      <td>[[0.0, 1.0055555555555555, 2.011111111111111, ...</td>\n      <td>[[0.0, 1.0055555555555555, 2.011111111111111, ...</td>\n      <td>3</td>\n    </tr>\n    <tr>\n      <th>180</th>\n      <td>182</td>\n      <td>0.131541</td>\n      <td>0.239270</td>\n      <td>30.000000</td>\n      <td>4-Methylstyrene</td>\n      <td>Cyanomethyl dodecyl trithiocarbonate</td>\n      <td>Dimethylformamide</td>\n      <td>1.000000</td>\n      <td>0.009116</td>\n      <td>1.796835e-04</td>\n      <td>4.990715e-04</td>\n      <td>2.798033e-04</td>\n      <td>0.000853</td>\n      <td>[[0.0, 4.273611111111111, 8.338888888888889, 1...</td>\n      <td>[[0.0, 1.2513888888888889, 2.2416666666666667,...</td>\n      <td>[[0.0, 1.2513888888888889, 2.2416666666666667,...</td>\n      <td>4</td>\n    </tr>\n    <tr>\n      <th>202</th>\n      <td>205</td>\n      <td>0.926968</td>\n      <td>0.809439</td>\n      <td>5.125057</td>\n      <td>Benzyl acrylate</td>\n      <td>Cyanomethyl dodecyl trithiocarbonate</td>\n      <td>Dimethylformamide</td>\n      <td>0.899376</td>\n      <td>0.449280</td>\n      <td>1.645519e-07</td>\n      <td>5.171502e-05</td>\n      <td>6.959156e-03</td>\n      <td>0.258891</td>\n      <td>[[0.0, 1.3736111111111111, 2.3694444444444445,...</td>\n      <td>[[0.0, 1.3736111111111111, 2.3694444444444445,...</td>\n      <td>[[0.0, 1.3736111111111111, 2.3694444444444445,...</td>\n      <td>4</td>\n    </tr>\n    <tr>\n      <th>213</th>\n      <td>216</td>\n      <td>0.271698</td>\n      <td>0.429532</td>\n      <td>30.000000</td>\n      <td>Styrene</td>\n      <td>Benzyl 1H-pyrrole-1-carbodithioate</td>\n      <td>Dimethylformamide</td>\n      <td>0.653672</td>\n      <td>0.035678</td>\n      <td>1.056645e-06</td>\n      <td>2.061013e-05</td>\n      <td>8.162688e-05</td>\n      <td>0.001344</td>\n      <td>[[0.0, 2.011111111111111, 4.018055555555556, 8...</td>\n      <td>[[1.0055555555555555, 4.018055555555556, 6.008...</td>\n      <td>[[1.0055555555555555, 2.011111111111111, 4.018...</td>\n      <td>1</td>\n    </tr>\n    <tr>\n      <th>222</th>\n      <td>225</td>\n      <td>0.115830</td>\n      <td>0.193381</td>\n      <td>30.000000</td>\n      <td>4-Methylstyrene</td>\n      <td>Benzyl 1H-pyrrole-1-carbodithioate</td>\n      <td>Dimethylformamide</td>\n      <td>0.385464</td>\n      <td>0.023217</td>\n      <td>1.717947e-07</td>\n      <td>3.439711e-06</td>\n      <td>1.393382e-05</td>\n      <td>0.000053</td>\n      <td>[[0.0, 1.2513888888888889, 2.2416666666666667,...</td>\n      <td>[[1.2513888888888889, 2.2416666666666667, 4.27...</td>\n      <td>[[1.2513888888888889, 2.2416666666666667, 4.27...</td>\n      <td>0</td>\n    </tr>\n    <tr>\n      <th>246</th>\n      <td>249</td>\n      <td>0.880150</td>\n      <td>0.841121</td>\n      <td>11.217228</td>\n      <td>Benzyl acrylate</td>\n      <td>Benzyl 1H-pyrrole-1-carbodithioate</td>\n      <td>Dimethylformamide</td>\n      <td>0.934579</td>\n      <td>0.205272</td>\n      <td>8.015057e-07</td>\n      <td>1.017043e-04</td>\n      <td>3.671640e-03</td>\n      <td>0.449432</td>\n      <td>[[0.0, 1.3736111111111111, 2.3694444444444445,...</td>\n      <td>[[1.3736111111111111, 2.3694444444444445, 4.40...</td>\n      <td>[[1.3736111111111111, 4.409722222222222, 6.358...</td>\n      <td>7</td>\n    </tr>\n    <tr>\n      <th>249</th>\n      <td>252</td>\n      <td>0.058594</td>\n      <td>0.103034</td>\n      <td>30.000000</td>\n      <td>Styrene</td>\n      <td>2-Cyan-2-propylbenzodithioat</td>\n      <td>Dimethylformamide</td>\n      <td>0.282043</td>\n      <td>0.015154</td>\n      <td>1.169600e-04</td>\n      <td>1.983749e-03</td>\n      <td>6.796088e-03</td>\n      <td>0.005904</td>\n      <td>[[0.0, 1.0055555555555555, 2.011111111111111, ...</td>\n      <td>[[1.0055555555555555, 2.011111111111111, 4.018...</td>\n      <td>[[1.0055555555555555, 2.011111111111111, 4.018...</td>\n      <td>6</td>\n    </tr>\n    <tr>\n      <th>256</th>\n      <td>259</td>\n      <td>0.041045</td>\n      <td>0.040783</td>\n      <td>18.975700</td>\n      <td>4-Methylstyrene</td>\n      <td>2-Cyan-2-propylbenzodithioat</td>\n      <td>Dimethylformamide</td>\n      <td>0.045315</td>\n      <td>0.121344</td>\n      <td>6.638009e-08</td>\n      <td>9.149639e-05</td>\n      <td>2.876070e-02</td>\n      <td>0.009262</td>\n      <td>[[0.0, 1.2513888888888889, 2.2416666666666667,...</td>\n      <td>[[1.2513888888888889, 2.2416666666666667, 4.27...</td>\n      <td>[[1.2513888888888889, 2.2416666666666667, 4.27...</td>\n      <td>5</td>\n    </tr>\n    <tr>\n      <th>283</th>\n      <td>286</td>\n      <td>0.496528</td>\n      <td>0.695185</td>\n      <td>30.000000</td>\n      <td>Benzyl acrylate</td>\n      <td>2-Cyan-2-propylbenzodithioat</td>\n      <td>Dimethylformamide</td>\n      <td>1.000000</td>\n      <td>0.039602</td>\n      <td>1.757237e-04</td>\n      <td>2.559823e-03</td>\n      <td>7.589626e-03</td>\n      <td>0.393722</td>\n      <td>[[0.0, 2.3694444444444445, 4.409722222222222, ...</td>\n      <td>[[1.3736111111111111, 2.3694444444444445, 4.40...</td>\n      <td>[[1.3736111111111111, 2.3694444444444445, 4.40...</td>\n      <td>9</td>\n    </tr>\n    <tr>\n      <th>290</th>\n      <td>293</td>\n      <td>0.424561</td>\n      <td>0.558503</td>\n      <td>30.000000</td>\n      <td>Benzyl acrylate</td>\n      <td>4-Cyano-4-(phenylcarbonothioylthio)pentanoic acid</td>\n      <td>Dimethylformamide</td>\n      <td>1.000000</td>\n      <td>0.027253</td>\n      <td>3.432254e-03</td>\n      <td>3.190845e-02</td>\n      <td>6.009081e-02</td>\n      <td>2.116988</td>\n      <td>[[0.0, 1.3736111111111111, 2.3694444444444445,...</td>\n      <td>[[4.409722222222222, 6.358333333333333, 8.5013...</td>\n      <td>[[4.409722222222222, 6.358333333333333, 8.5013...</td>\n      <td>12</td>\n    </tr>\n    <tr>\n      <th>293</th>\n      <td>296</td>\n      <td>0.072202</td>\n      <td>0.132912</td>\n      <td>30.000000</td>\n      <td>Styrene</td>\n      <td>2-Cyan-2-propylbenzodithioat</td>\n      <td>Dimethylformamide</td>\n      <td>1.000000</td>\n      <td>0.004754</td>\n      <td>2.678649e-02</td>\n      <td>3.766048e-02</td>\n      <td>1.068561e-02</td>\n      <td>0.013392</td>\n      <td>[[0.0, 1.0055555555555555, 2.011111111111111, ...</td>\n      <td>[[1.0055555555555555, 2.011111111111111, 4.018...</td>\n      <td>[[1.0055555555555555, 2.011111111111111, 4.018...</td>\n      <td>9</td>\n    </tr>\n  </tbody>\n</table>\n</div>"
     },
     "execution_count": 80,
     "metadata": {},
     "output_type": "execute_result"
    }
   ],
   "source": [
    "# searching manually for interesting experiments to be reproduced by MR.\n",
    "search_queue_monomer = kinetics_df[\"monomer\"].apply(lambda x: x in [\"Styrene\",  \"4-Methylstyrene\", \"Benzyl acrylate\"])\n",
    "search_queue_solvent = kinetics_df[\"solvent\"].apply(lambda x: x in [\"Dimethylformamide\"])\n",
    "kinetics_df[search_queue_monomer & search_queue_solvent]"
   ],
   "metadata": {
    "collapsed": false,
    "pycharm": {
     "name": "#%%\n"
    }
   }
  },
  {
   "cell_type": "code",
   "execution_count": 81,
   "outputs": [
    {
     "data": {
      "text/plain": "    exp_nr   max_con  theo_max_con  theo_react_end          monomer  \\\n88      90  0.029811      0.021791        2.962414  4-Methylstyrene   \n144    146  0.151236      0.267947       30.000000          Styrene   \n202    205  0.926968      0.809439        5.125057  Benzyl acrylate   \n\n                                            RAFT-Agent            solvent  \\\n88   4-Cyano-4-(phenylcarbonothioylthio)pentanoic acid  Dimethylformamide   \n144  2-(Dodecylthiocarbonothioylthio)-2-methylpropi...  Dimethylformamide   \n202               Cyanomethyl dodecyl trithiocarbonate  Dimethylformamide   \n\n       fit_p1    fit_p2   p1_variance  p1_p2_covariance  p2_variance  \\\n88   0.024212  0.777267  4.150156e-09          0.000095     1.168729   \n144  1.000000  0.010397  3.910197e-03          0.012459     0.008014   \n202  0.899376  0.449280  1.645519e-07          0.000052     0.006959   \n\n     squared_error                                     conv_time_data  \\\n88        0.009176  [[0.0, 1.2513888888888889, 2.2416666666666667,...   \n144       0.044199  [[0.0, 1.0055555555555555, 2.011111111111111, ...   \n202       0.258891  [[0.0, 1.3736111111111111, 2.3694444444444445,...   \n\n                                          Mn_time_data  \\\n88   [[1.2513888888888889, 2.2416666666666667, 4.27...   \n144  [[1.0055555555555555, 2.011111111111111, 4.018...   \n202  [[0.0, 1.3736111111111111, 2.3694444444444445,...   \n\n                                          Mw_time_data  error_score  \n88   [[1.2513888888888889, 2.2416666666666667, 4.27...            5  \n144  [[1.0055555555555555, 2.011111111111111, 4.018...            9  \n202  [[0.0, 1.3736111111111111, 2.3694444444444445,...            4  ",
      "text/html": "<div>\n<style scoped>\n    .dataframe tbody tr th:only-of-type {\n        vertical-align: middle;\n    }\n\n    .dataframe tbody tr th {\n        vertical-align: top;\n    }\n\n    .dataframe thead th {\n        text-align: right;\n    }\n</style>\n<table border=\"1\" class=\"dataframe\">\n  <thead>\n    <tr style=\"text-align: right;\">\n      <th></th>\n      <th>exp_nr</th>\n      <th>max_con</th>\n      <th>theo_max_con</th>\n      <th>theo_react_end</th>\n      <th>monomer</th>\n      <th>RAFT-Agent</th>\n      <th>solvent</th>\n      <th>fit_p1</th>\n      <th>fit_p2</th>\n      <th>p1_variance</th>\n      <th>p1_p2_covariance</th>\n      <th>p2_variance</th>\n      <th>squared_error</th>\n      <th>conv_time_data</th>\n      <th>Mn_time_data</th>\n      <th>Mw_time_data</th>\n      <th>error_score</th>\n    </tr>\n  </thead>\n  <tbody>\n    <tr>\n      <th>88</th>\n      <td>90</td>\n      <td>0.029811</td>\n      <td>0.021791</td>\n      <td>2.962414</td>\n      <td>4-Methylstyrene</td>\n      <td>4-Cyano-4-(phenylcarbonothioylthio)pentanoic acid</td>\n      <td>Dimethylformamide</td>\n      <td>0.024212</td>\n      <td>0.777267</td>\n      <td>4.150156e-09</td>\n      <td>0.000095</td>\n      <td>1.168729</td>\n      <td>0.009176</td>\n      <td>[[0.0, 1.2513888888888889, 2.2416666666666667,...</td>\n      <td>[[1.2513888888888889, 2.2416666666666667, 4.27...</td>\n      <td>[[1.2513888888888889, 2.2416666666666667, 4.27...</td>\n      <td>5</td>\n    </tr>\n    <tr>\n      <th>144</th>\n      <td>146</td>\n      <td>0.151236</td>\n      <td>0.267947</td>\n      <td>30.000000</td>\n      <td>Styrene</td>\n      <td>2-(Dodecylthiocarbonothioylthio)-2-methylpropi...</td>\n      <td>Dimethylformamide</td>\n      <td>1.000000</td>\n      <td>0.010397</td>\n      <td>3.910197e-03</td>\n      <td>0.012459</td>\n      <td>0.008014</td>\n      <td>0.044199</td>\n      <td>[[0.0, 1.0055555555555555, 2.011111111111111, ...</td>\n      <td>[[1.0055555555555555, 2.011111111111111, 4.018...</td>\n      <td>[[1.0055555555555555, 2.011111111111111, 4.018...</td>\n      <td>9</td>\n    </tr>\n    <tr>\n      <th>202</th>\n      <td>205</td>\n      <td>0.926968</td>\n      <td>0.809439</td>\n      <td>5.125057</td>\n      <td>Benzyl acrylate</td>\n      <td>Cyanomethyl dodecyl trithiocarbonate</td>\n      <td>Dimethylformamide</td>\n      <td>0.899376</td>\n      <td>0.449280</td>\n      <td>1.645519e-07</td>\n      <td>0.000052</td>\n      <td>0.006959</td>\n      <td>0.258891</td>\n      <td>[[0.0, 1.3736111111111111, 2.3694444444444445,...</td>\n      <td>[[0.0, 1.3736111111111111, 2.3694444444444445,...</td>\n      <td>[[0.0, 1.3736111111111111, 2.3694444444444445,...</td>\n      <td>4</td>\n    </tr>\n  </tbody>\n</table>\n</div>"
     },
     "execution_count": 81,
     "metadata": {},
     "output_type": "execute_result"
    }
   ],
   "source": [
    "# one longrun test for the theo react end cap (146) for up to 72h\n",
    "# two to see reproducible exp from within the second quantile in average (score of 4/5)\n",
    "#   one \"fast\" fit point (202)\n",
    "#   one for a weak conversion (90)\n",
    "kinetics_df[kinetics_df['exp_nr'].isin([\"205\", \"90\", \"146\"])]"
   ],
   "metadata": {
    "collapsed": false,
    "pycharm": {
     "name": "#%%\n"
    }
   }
  },
  {
   "cell_type": "code",
   "execution_count": 82,
   "outputs": [
    {
     "data": {
      "text/plain": "    exp_nr   max_con  theo_max_con  theo_react_end  \\\n0        0  0.516574      0.687652       30.000000   \n1        1  0.697321      0.733482       17.964494   \n2        2  0.323281      0.538534       30.000000   \n3        3  0.565125      0.795232       30.000000   \n4        4  0.790565      0.900000       23.574040   \n..     ...       ...           ...             ...   \n308    312  0.734328      0.716837       13.932218   \n309    313  0.546547      0.836712       11.266675   \n310    314  0.360000      0.344913       11.648310   \n311    315  0.840426      0.836045       14.901526   \n312    316  1.000000      0.900000        6.461289   \n\n                                monomer  \\\n0                   Methyl methacrylate   \n1                   Methyl methacrylate   \n2                   Methyl methacrylate   \n3                    Butyl methacrylate   \n4                    Butyl methacrylate   \n..                                  ...   \n308  (2-Dimethylaminoethyl)methacrylate   \n309  (2-Dimethylaminoethyl)methacrylate   \n310  (2-Dimethylaminoethyl)methacrylate   \n311                 Benzyl methacrylate   \n312                 Benzyl methacrylate   \n\n                                            RAFT-Agent            solvent  \\\n0                         2-Cyan-2-propylbenzodithioat  Dimethylformamide   \n1                         2-Cyan-2-propylbenzodithioat  Dimethylsulfoxide   \n2                         2-Cyan-2-propylbenzodithioat            Toluene   \n3                         2-Cyan-2-propylbenzodithioat  Dimethylformamide   \n4                         2-Cyan-2-propylbenzodithioat  Dimethylsulfoxide   \n..                                                 ...                ...   \n308  2-(Dodecylthiocarbonothioylthio)-2-methylpropi...  Dimethylformamide   \n309  2-(Dodecylthiocarbonothioylthio)-2-methylpropi...  Dimethylsulfoxide   \n310  2-(Dodecylthiocarbonothioylthio)-2-methylpropi...            Toluene   \n311  2-(Dodecylthiocarbonothioylthio)-2-methylpropi...  Dimethylformamide   \n312  2-(Dodecylthiocarbonothioylthio)-2-methylpropi...  Dimethylsulfoxide   \n\n       fit_p1    fit_p2   p1_variance  p1_p2_covariance  p2_variance  \\\n0    0.776540  0.072249  1.309556e-06      5.279765e-05     0.000444   \n1    0.814980  0.128174  2.560277e-08      2.138887e-06     0.000041   \n2    1.000000  0.025778  1.950291e-06      1.700630e-05     0.000030   \n3    0.953088  0.059934  4.250427e-06      1.087931e-04     0.000574   \n4    1.000000  0.097675  1.867054e-06      9.323417e-05     0.000999   \n..        ...       ...           ...               ...          ...   \n308  0.796486  0.165271  4.067339e-09      4.711542e-07     0.000014   \n309  0.929680  0.204371  1.148956e-08      1.032885e-06     0.000019   \n310  0.383237  0.197675  2.602230e-07      7.719540e-05     0.006376   \n311  0.928939  0.154520  6.427724e-07      5.876434e-05     0.001335   \n312  1.000000  0.356366  5.797484e-06      1.256966e-03     0.104797   \n\n     squared_error                                     conv_time_data  \\\n0         0.024205  [[0.0, 2.011111111111111, 4.018055555555556, 8...   \n1         0.003309  [[0.0, 2.011111111111111, 4.018055555555556, 8...   \n2         0.000521  [[0.0, 4.0777777777777775, 8.090277777777779, ...   \n3         0.046853  [[0.0, 1.073611111111111, 2.0680555555555555, ...   \n4         0.084355  [[0.0, 1.1319444444444444, 2.125, 8.1805555555...   \n..             ...                                                ...   \n308       0.001351  [[0.0, 1.2513888888888889, 2.2416666666666667,...   \n309       0.000074  [[0.0, 1.3125, 2.301388888888889, 4.3361111111...   \n310       0.132912  [[0.0, 1.3125, 2.301388888888889, 4.3361111111...   \n311       0.186720  [[0.0, 1.3736111111111111, 2.3694444444444445,...   \n312       7.366935  [[0.0, 1.3736111111111111, 2.3694444444444445,...   \n\n                                          Mn_time_data  \\\n0    [[1.0055555555555555, 2.011111111111111, 4.018...   \n1    [[1.0055555555555555, 2.011111111111111, 4.018...   \n2    [[1.073611111111111, 2.0680555555555555, 4.077...   \n3    [[1.073611111111111, 2.0680555555555555, 4.077...   \n4    [[1.1319444444444444, 2.125, 4.143055555555556...   \n..                                                 ...   \n308  [[1.2513888888888889, 2.2416666666666667, 4.27...   \n309  [[1.3125, 2.301388888888889, 4.336111111111111...   \n310  [[1.3125, 2.301388888888889, 4.336111111111111...   \n311  [[1.3736111111111111, 2.3694444444444445, 4.40...   \n312  [[1.3736111111111111, 2.3694444444444445, 4.40...   \n\n                                          Mw_time_data  error_score     score  \n0    [[1.0055555555555555, 2.011111111111111, 4.018...            3  1.895676  \n1    [[1.0055555555555555, 2.011111111111111, 6.008...            0  2.167049  \n2    [[1.073611111111111, 2.0680555555555555, 4.077...            1  1.792611  \n3    [[1.073611111111111, 2.0680555555555555, 4.077...            3  2.030151  \n4    [[1.1319444444444444, 2.125, 4.143055555555556...            5  1.880905  \n..                                                 ...          ...       ...  \n308  [[1.2513888888888889, 2.2416666666666667, 4.27...            0  2.166092  \n309  [[1.3125, 2.301388888888889, 4.336111111111111...            0  2.234521  \n310  [[1.3125, 2.301388888888889, 4.336111111111111...            5  1.501869  \n311  [[1.3736111111111111, 2.3694444444444445, 4.40...            5  2.012342  \n312  [[1.3736111111111111, 2.3694444444444445, 4.40...           10  1.751891  \n\n[313 rows x 18 columns]",
      "text/html": "<div>\n<style scoped>\n    .dataframe tbody tr th:only-of-type {\n        vertical-align: middle;\n    }\n\n    .dataframe tbody tr th {\n        vertical-align: top;\n    }\n\n    .dataframe thead th {\n        text-align: right;\n    }\n</style>\n<table border=\"1\" class=\"dataframe\">\n  <thead>\n    <tr style=\"text-align: right;\">\n      <th></th>\n      <th>exp_nr</th>\n      <th>max_con</th>\n      <th>theo_max_con</th>\n      <th>theo_react_end</th>\n      <th>monomer</th>\n      <th>RAFT-Agent</th>\n      <th>solvent</th>\n      <th>fit_p1</th>\n      <th>fit_p2</th>\n      <th>p1_variance</th>\n      <th>p1_p2_covariance</th>\n      <th>p2_variance</th>\n      <th>squared_error</th>\n      <th>conv_time_data</th>\n      <th>Mn_time_data</th>\n      <th>Mw_time_data</th>\n      <th>error_score</th>\n      <th>score</th>\n    </tr>\n  </thead>\n  <tbody>\n    <tr>\n      <th>0</th>\n      <td>0</td>\n      <td>0.516574</td>\n      <td>0.687652</td>\n      <td>30.000000</td>\n      <td>Methyl methacrylate</td>\n      <td>2-Cyan-2-propylbenzodithioat</td>\n      <td>Dimethylformamide</td>\n      <td>0.776540</td>\n      <td>0.072249</td>\n      <td>1.309556e-06</td>\n      <td>5.279765e-05</td>\n      <td>0.000444</td>\n      <td>0.024205</td>\n      <td>[[0.0, 2.011111111111111, 4.018055555555556, 8...</td>\n      <td>[[1.0055555555555555, 2.011111111111111, 4.018...</td>\n      <td>[[1.0055555555555555, 2.011111111111111, 4.018...</td>\n      <td>3</td>\n      <td>1.895676</td>\n    </tr>\n    <tr>\n      <th>1</th>\n      <td>1</td>\n      <td>0.697321</td>\n      <td>0.733482</td>\n      <td>17.964494</td>\n      <td>Methyl methacrylate</td>\n      <td>2-Cyan-2-propylbenzodithioat</td>\n      <td>Dimethylsulfoxide</td>\n      <td>0.814980</td>\n      <td>0.128174</td>\n      <td>2.560277e-08</td>\n      <td>2.138887e-06</td>\n      <td>0.000041</td>\n      <td>0.003309</td>\n      <td>[[0.0, 2.011111111111111, 4.018055555555556, 8...</td>\n      <td>[[1.0055555555555555, 2.011111111111111, 4.018...</td>\n      <td>[[1.0055555555555555, 2.011111111111111, 6.008...</td>\n      <td>0</td>\n      <td>2.167049</td>\n    </tr>\n    <tr>\n      <th>2</th>\n      <td>2</td>\n      <td>0.323281</td>\n      <td>0.538534</td>\n      <td>30.000000</td>\n      <td>Methyl methacrylate</td>\n      <td>2-Cyan-2-propylbenzodithioat</td>\n      <td>Toluene</td>\n      <td>1.000000</td>\n      <td>0.025778</td>\n      <td>1.950291e-06</td>\n      <td>1.700630e-05</td>\n      <td>0.000030</td>\n      <td>0.000521</td>\n      <td>[[0.0, 4.0777777777777775, 8.090277777777779, ...</td>\n      <td>[[1.073611111111111, 2.0680555555555555, 4.077...</td>\n      <td>[[1.073611111111111, 2.0680555555555555, 4.077...</td>\n      <td>1</td>\n      <td>1.792611</td>\n    </tr>\n    <tr>\n      <th>3</th>\n      <td>3</td>\n      <td>0.565125</td>\n      <td>0.795232</td>\n      <td>30.000000</td>\n      <td>Butyl methacrylate</td>\n      <td>2-Cyan-2-propylbenzodithioat</td>\n      <td>Dimethylformamide</td>\n      <td>0.953088</td>\n      <td>0.059934</td>\n      <td>4.250427e-06</td>\n      <td>1.087931e-04</td>\n      <td>0.000574</td>\n      <td>0.046853</td>\n      <td>[[0.0, 1.073611111111111, 2.0680555555555555, ...</td>\n      <td>[[1.073611111111111, 2.0680555555555555, 4.077...</td>\n      <td>[[1.073611111111111, 2.0680555555555555, 4.077...</td>\n      <td>3</td>\n      <td>2.030151</td>\n    </tr>\n    <tr>\n      <th>4</th>\n      <td>4</td>\n      <td>0.790565</td>\n      <td>0.900000</td>\n      <td>23.574040</td>\n      <td>Butyl methacrylate</td>\n      <td>2-Cyan-2-propylbenzodithioat</td>\n      <td>Dimethylsulfoxide</td>\n      <td>1.000000</td>\n      <td>0.097675</td>\n      <td>1.867054e-06</td>\n      <td>9.323417e-05</td>\n      <td>0.000999</td>\n      <td>0.084355</td>\n      <td>[[0.0, 1.1319444444444444, 2.125, 8.1805555555...</td>\n      <td>[[1.1319444444444444, 2.125, 4.143055555555556...</td>\n      <td>[[1.1319444444444444, 2.125, 4.143055555555556...</td>\n      <td>5</td>\n      <td>1.880905</td>\n    </tr>\n    <tr>\n      <th>...</th>\n      <td>...</td>\n      <td>...</td>\n      <td>...</td>\n      <td>...</td>\n      <td>...</td>\n      <td>...</td>\n      <td>...</td>\n      <td>...</td>\n      <td>...</td>\n      <td>...</td>\n      <td>...</td>\n      <td>...</td>\n      <td>...</td>\n      <td>...</td>\n      <td>...</td>\n      <td>...</td>\n      <td>...</td>\n      <td>...</td>\n    </tr>\n    <tr>\n      <th>308</th>\n      <td>312</td>\n      <td>0.734328</td>\n      <td>0.716837</td>\n      <td>13.932218</td>\n      <td>(2-Dimethylaminoethyl)methacrylate</td>\n      <td>2-(Dodecylthiocarbonothioylthio)-2-methylpropi...</td>\n      <td>Dimethylformamide</td>\n      <td>0.796486</td>\n      <td>0.165271</td>\n      <td>4.067339e-09</td>\n      <td>4.711542e-07</td>\n      <td>0.000014</td>\n      <td>0.001351</td>\n      <td>[[0.0, 1.2513888888888889, 2.2416666666666667,...</td>\n      <td>[[1.2513888888888889, 2.2416666666666667, 4.27...</td>\n      <td>[[1.2513888888888889, 2.2416666666666667, 4.27...</td>\n      <td>0</td>\n      <td>2.166092</td>\n    </tr>\n    <tr>\n      <th>309</th>\n      <td>313</td>\n      <td>0.546547</td>\n      <td>0.836712</td>\n      <td>11.266675</td>\n      <td>(2-Dimethylaminoethyl)methacrylate</td>\n      <td>2-(Dodecylthiocarbonothioylthio)-2-methylpropi...</td>\n      <td>Dimethylsulfoxide</td>\n      <td>0.929680</td>\n      <td>0.204371</td>\n      <td>1.148956e-08</td>\n      <td>1.032885e-06</td>\n      <td>0.000019</td>\n      <td>0.000074</td>\n      <td>[[0.0, 1.3125, 2.301388888888889, 4.3361111111...</td>\n      <td>[[1.3125, 2.301388888888889, 4.336111111111111...</td>\n      <td>[[1.3125, 2.301388888888889, 4.336111111111111...</td>\n      <td>0</td>\n      <td>2.234521</td>\n    </tr>\n    <tr>\n      <th>310</th>\n      <td>314</td>\n      <td>0.360000</td>\n      <td>0.344913</td>\n      <td>11.648310</td>\n      <td>(2-Dimethylaminoethyl)methacrylate</td>\n      <td>2-(Dodecylthiocarbonothioylthio)-2-methylpropi...</td>\n      <td>Toluene</td>\n      <td>0.383237</td>\n      <td>0.197675</td>\n      <td>2.602230e-07</td>\n      <td>7.719540e-05</td>\n      <td>0.006376</td>\n      <td>0.132912</td>\n      <td>[[0.0, 1.3125, 2.301388888888889, 4.3361111111...</td>\n      <td>[[1.3125, 2.301388888888889, 4.336111111111111...</td>\n      <td>[[1.3125, 2.301388888888889, 4.336111111111111...</td>\n      <td>5</td>\n      <td>1.501869</td>\n    </tr>\n    <tr>\n      <th>311</th>\n      <td>315</td>\n      <td>0.840426</td>\n      <td>0.836045</td>\n      <td>14.901526</td>\n      <td>Benzyl methacrylate</td>\n      <td>2-(Dodecylthiocarbonothioylthio)-2-methylpropi...</td>\n      <td>Dimethylformamide</td>\n      <td>0.928939</td>\n      <td>0.154520</td>\n      <td>6.427724e-07</td>\n      <td>5.876434e-05</td>\n      <td>0.001335</td>\n      <td>0.186720</td>\n      <td>[[0.0, 1.3736111111111111, 2.3694444444444445,...</td>\n      <td>[[1.3736111111111111, 2.3694444444444445, 4.40...</td>\n      <td>[[1.3736111111111111, 2.3694444444444445, 4.40...</td>\n      <td>5</td>\n      <td>2.012342</td>\n    </tr>\n    <tr>\n      <th>312</th>\n      <td>316</td>\n      <td>1.000000</td>\n      <td>0.900000</td>\n      <td>6.461289</td>\n      <td>Benzyl methacrylate</td>\n      <td>2-(Dodecylthiocarbonothioylthio)-2-methylpropi...</td>\n      <td>Dimethylsulfoxide</td>\n      <td>1.000000</td>\n      <td>0.356366</td>\n      <td>5.797484e-06</td>\n      <td>1.256966e-03</td>\n      <td>0.104797</td>\n      <td>7.366935</td>\n      <td>[[0.0, 1.3736111111111111, 2.3694444444444445,...</td>\n      <td>[[1.3736111111111111, 2.3694444444444445, 4.40...</td>\n      <td>[[1.3736111111111111, 2.3694444444444445, 4.40...</td>\n      <td>10</td>\n      <td>1.751891</td>\n    </tr>\n  </tbody>\n</table>\n<p>313 rows × 18 columns</p>\n</div>"
     },
     "execution_count": 82,
     "metadata": {},
     "output_type": "execute_result"
    }
   ],
   "source": [
    "# to find the optimal threshold parameters for search one has to keep in mind that with high conversion (assuming around 80%, research/citation needed) increasing side reaction take place. After that the reactions should be sorted after time then error score. Maybe a multiple-decreasing-threshold-sorting-algorithm would be good.\n",
    "# so first priority would be sorting after nearest to 80% conversion.\n",
    "\n",
    "# create a score ingesting the importance of the different kinetic descriptors\n",
    "    # Conversion*1 + time*(-0.8) + error_score*(0.5)\n",
    "    # while spanning between the optimum and the least bearable values like in the following:\n",
    "        #  Conversion: |con-0.8| - 0 (0.8 is the optimum)\n",
    "        #     using a linear decreasing function -x*m+b\n",
    "        #  Time: 0 - np.inf (0 is the optimum) (more than 72 is not bearable)\n",
    "        #     using a negative potential function -x**2+b\n",
    "        #  Error: 0 - 12 (0 is the optimum) (the error is more negligible)\n",
    "        #     using a linear decreasing function -x*m+b\n",
    "score = []\n",
    "for row in kinetics_df.itertuples():\n",
    "    score.append(((0.8-np.abs(row.theo_max_con - 0.8))/0.8*1 + (-(row.theo_react_end/72)**2+1)*0.8 + ((12-row.error_score)/12)*0.5))\n",
    "kinetics_df[\"score\"] = score\n",
    "kinetics_df"
   ],
   "metadata": {
    "collapsed": false,
    "pycharm": {
     "name": "#%%\n"
    }
   }
  },
  {
   "cell_type": "markdown",
   "source": [
    "# Interface:\n",
    "- Give in Monomer ~~and Mn~~\n",
    "    - The dataset will then be filtered for that one and the results, sorted via conversion (100% conversion, 80% time, 50% Fit) be given out.\n",
    "        - Tabular data with kinetic curve and fit as hover, reaction properties (solvent, Raft agent, time...)\n",
    "- Table should be interactive,\n",
    "- optionally, solvent and or raft agent can be chosen\n",
    "- Mn search is also just optionally after \"main\" search, as the Mn data is hard to plot...\n",
    "- if the queued monomer is not in the dataset the closest ones should be searched for and displayed instead.\n",
    "- same goes with solvent via polarity comparison maybe just as a highly experimental suggestion: \"Suggestion: Less polar solvents than Toluene might prove more useful but are not tried out in the dataset.\""
   ],
   "metadata": {
    "collapsed": false,
    "pycharm": {
     "name": "#%% md\n"
    }
   }
  },
  {
   "cell_type": "code",
   "execution_count": 83,
   "outputs": [],
   "source": [
    "def color_variant(hex_color, brightness_offset=1):\n",
    "    \"\"\" takes a color like #87c95f and produces a lighter or darker variant \"\"\"\n",
    "    if len(hex_color) != 7:\n",
    "        raise Exception(\"Passed %s into color_variant(), needs to be in #87c95f format.\" % hex_color)\n",
    "    rgb_hex = [hex_color[x:x+2] for x in [1, 3, 5]]\n",
    "    new_rgb_int = [int(hex_value, 16) + brightness_offset for hex_value in rgb_hex]\n",
    "    new_rgb_int = [min([255, max([0, i])]) for i in new_rgb_int] # make sure new values are between 0 and 255\n",
    "    # hex() produces \"0x88\", we want just \"88\"; also we zfill to pad with leading zeros if necessary, e.g. 9 -> 09\n",
    "    return \"#\" + \"\".join([hex(i)[2:].zfill(2) for i in new_rgb_int])"
   ],
   "metadata": {
    "collapsed": false,
    "pycharm": {
     "name": "#%%\n"
    }
   }
  },
  {
   "cell_type": "code",
   "execution_count": 84,
   "outputs": [
    {
     "data": {
      "application/vnd.plotly.v1+json": {
       "data": [
        {
         "hovertemplate": "<extra></extra>",
         "legendgroup": "",
         "line": {
          "color": "#636efa",
          "dash": "solid"
         },
         "marker": {
          "symbol": "circle"
         },
         "mode": "lines",
         "name": "",
         "orientation": "v",
         "showlegend": false,
         "xaxis": "x",
         "yaxis": "y",
         "type": "scatter"
        },
        {
         "legendgroup": "90",
         "marker": {
          "color": "#FF97FF"
         },
         "mode": "lines+markers",
         "name": "90",
         "x": [
          0.0,
          1.2513888888888889,
          2.2416666666666667,
          4.273611111111111,
          8.338888888888889,
          15.381944444444445
         ],
         "y": [
          0.0,
          0.012452830188679265,
          0.024150943396226476,
          0.021132075471698153,
          0.01886792452830177,
          0.02981132075471693
         ],
         "type": "scatter"
        },
        {
         "legendgroup": "90",
         "line": {
          "dash": "dot"
         },
         "marker": {
          "color": "#FF97FF"
         },
         "name": "neg_growth fit",
         "opacity": 1,
         "showlegend": false,
         "x": [
          -1.0,
          -0.8232323232323232,
          -0.6464646464646464,
          -0.4696969696969697,
          -0.29292929292929293,
          -0.11616161616161613,
          0.06060606060606055,
          0.23737373737373746,
          0.41414141414141414,
          0.5909090909090908,
          0.7676767676767677,
          0.9444444444444444,
          1.121212121212121,
          1.297979797979798,
          1.474747474747475,
          1.6515151515151514,
          1.8282828282828283,
          2.005050505050505,
          2.1818181818181817,
          2.3585858585858586,
          2.5353535353535355,
          2.712121212121212,
          2.888888888888889,
          3.0656565656565657,
          3.242424242424242,
          3.4191919191919196,
          3.595959595959596,
          3.7727272727272725,
          3.94949494949495,
          4.126262626262626,
          4.303030303030303,
          4.47979797979798,
          4.656565656565657,
          4.833333333333333,
          5.01010101010101,
          5.186868686868687,
          5.363636363636363,
          5.540404040404041,
          5.717171717171717,
          5.893939393939394,
          6.070707070707071,
          6.247474747474747,
          6.424242424242424,
          6.601010101010101,
          6.777777777777778,
          6.954545454545454,
          7.1313131313131315,
          7.308080808080808,
          7.484848484848484,
          7.661616161616161,
          7.838383838383839,
          8.015151515151516,
          8.191919191919192,
          8.368686868686869,
          8.545454545454545,
          8.722222222222221,
          8.8989898989899,
          9.075757575757576,
          9.252525252525253,
          9.429292929292929,
          9.606060606060606,
          9.782828282828282,
          9.95959595959596,
          10.136363636363637,
          10.313131313131313,
          10.48989898989899,
          10.666666666666666,
          10.843434343434344,
          11.02020202020202,
          11.196969696969697,
          11.373737373737374,
          11.55050505050505,
          11.727272727272727,
          11.904040404040405,
          12.080808080808081,
          12.257575757575758,
          12.434343434343434,
          12.61111111111111,
          12.787878787878787,
          12.964646464646465,
          13.141414141414142,
          13.318181818181818,
          13.494949494949495,
          13.671717171717171,
          13.848484848484848,
          14.025252525252526,
          14.202020202020202,
          14.378787878787879,
          14.555555555555555,
          14.732323232323232,
          14.909090909090908,
          15.085858585858585,
          15.262626262626263,
          15.439393939393938,
          15.616161616161616,
          15.792929292929294,
          15.969696969696969,
          16.146464646464647,
          16.32323232323232,
          16.5
         ],
         "y": [
          -0.028461837557025735,
          -0.021699828933287466,
          -0.015805890812127407,
          -0.010668584945034452,
          -0.006190778929847927,
          -0.002287809702713558,
          0.0011141172088798426,
          0.004079322937729671,
          0.006663871413606716,
          0.008916629378818602,
          0.01088019032464434,
          0.012591679817750811,
          0.014083457443110963,
          0.015383728635244266,
          0.016517077965834733,
          0.01750493397073664,
          0.018365974304975295,
          0.01911647888611557,
          0.01977063770297352,
          0.020340819109491835,
          0.02083780367648239,
          0.021270988022732824,
          0.021648562479365762,
          0.021977665946597797,
          0.022264520870815933,
          0.022514550894018874,
          0.022732483400052215,
          0.02292243889650642,
          0.023088008922244784,
          0.02323232395357955,
          0.023358112593016418,
          0.02346775315966449,
          0.023563318656745356,
          0.02364661596641385,
          0.023719220012957315,
          0.023782503540306088,
          0.02383766306686644,
          0.02388574150841085,
          0.023927647896762647,
          0.023964174567101357,
          0.02399601213885372,
          0.02402376257341804,
          0.02404795055560771,
          0.02406903341400591,
          0.024087409767798173,
          0.024103427063570902,
          0.024117388144575938,
          0.024129556976668125,
          0.0241401636391776,
          0.024149408675080596,
          0.024157466882718623,
          0.02416449062075694,
          0.024170612688870215,
          0.024175948838621116,
          0.024180599962005767,
          0.024184653999045406,
          0.024188187600491674,
          0.02419126757708266,
          0.02419395216275121,
          0.024196292115669316,
          0.024198331677946317,
          0.024200109412126178,
          0.02420165893029969,
          0.024203009529617216,
          0.024204186746217625,
          0.024205212838046854,
          0.02420610720569479,
          0.024206886759207333,
          0.02420756623780914,
          0.02420815848858203,
          0.02420867470936817,
          0.024209124660490633,
          0.024209516849294423,
          0.024209858690997083,
          0.024210156648890188,
          0.02421041635654252,
          0.024210642724315407,
          0.02421084003220427,
          0.024211012010761604,
          0.024211161911631522,
          0.024211292569029458,
          0.024211406453329427,
          0.024211505717772044,
          0.0242115922391764,
          0.0242116676534256,
          0.02421173338639682,
          0.024211790680920744,
          0.02421184062028011,
          0.024211884148691607,
          0.024211922089158434,
          0.024211955159031042,
          0.02421198398357027,
          0.02421200910776931,
          0.024212031006658048,
          0.024212050094284565,
          0.024212066731543677,
          0.024212081233000445,
          0.024212093872837747,
          0.024212104890040338,
          0.024212114492913384
         ],
         "type": "scatter"
        },
        {
         "legendgroup": "90",
         "line": {
          "dash": "dash"
         },
         "marker": {
          "color": "#FF97FF"
         },
         "name": "neg_growth_derivative",
         "opacity": 0.3,
         "showlegend": false,
         "x": [
          -1.0,
          -0.8232323232323232,
          -0.6464646464646464,
          -0.4696969696969697,
          -0.29292929292929293,
          -0.11616161616161613,
          0.06060606060606055,
          0.23737373737373746,
          0.41414141414141414,
          0.5909090909090908,
          0.7676767676767677,
          0.9444444444444444,
          1.121212121212121,
          1.297979797979798,
          1.474747474747475,
          1.6515151515151514,
          1.8282828282828283,
          2.005050505050505,
          2.1818181818181817,
          2.3585858585858586,
          2.5353535353535355,
          2.712121212121212,
          2.888888888888889,
          3.0656565656565657,
          3.242424242424242,
          3.4191919191919196,
          3.595959595959596,
          3.7727272727272725,
          3.94949494949495,
          4.126262626262626,
          4.303030303030303,
          4.47979797979798,
          4.656565656565657,
          4.833333333333333,
          5.01010101010101,
          5.186868686868687,
          5.363636363636363,
          5.540404040404041,
          5.717171717171717,
          5.893939393939394,
          6.070707070707071,
          6.247474747474747,
          6.424242424242424,
          6.601010101010101,
          6.777777777777778,
          6.954545454545454,
          7.1313131313131315,
          7.308080808080808,
          7.484848484848484,
          7.661616161616161,
          7.838383838383839,
          8.015151515151516,
          8.191919191919192,
          8.368686868686869,
          8.545454545454545,
          8.722222222222221,
          8.8989898989899,
          9.075757575757576,
          9.252525252525253,
          9.429292929292929,
          9.606060606060606,
          9.782828282828282,
          9.95959595959596,
          10.136363636363637,
          10.313131313131313,
          10.48989898989899,
          10.666666666666666,
          10.843434343434344,
          11.02020202020202,
          11.196969696969697,
          11.373737373737374,
          11.55050505050505,
          11.727272727272727,
          11.904040404040405,
          12.080808080808081,
          12.257575757575758,
          12.434343434343434,
          12.61111111111111,
          12.787878787878787,
          12.964646464646465,
          13.141414141414142,
          13.318181818181818,
          13.494949494949495,
          13.671717171717171,
          13.848484848484848,
          14.025252525252526,
          14.202020202020202,
          14.378787878787879,
          14.555555555555555,
          14.732323232323232,
          14.909090909090908,
          15.085858585858585,
          15.262626262626263,
          15.439393939393938,
          15.616161616161616,
          15.792929292929294,
          15.969696969696969,
          16.146464646464647,
          16.32323232323232,
          16.5
         ],
         "y": [
          0.04094174918700579,
          0.03568586639081568,
          0.031104705718517006,
          0.027111649952389738,
          0.023631201329879017,
          0.020597554087410055,
          0.017953350253393768,
          0.0156485951658721,
          0.013639712210207988,
          0.011888718904495266,
          0.01036250875471718,
          0.009032225301498886,
          0.007872716523390109,
          0.006862059280936472,
          0.005981144810077529,
          0.005213317427685535,
          0.004544059618154843,
          0.003960717546890766,
          0.003452261810908717,
          0.0030090789029918745,
          0.0026227894465650067,
          0.0022860897646030756,
          0.0019926137870760305,
          0.0017368126859773003,
          0.0015138499621635839,
          0.0013195100003850588,
          0.0011501183635317476,
          0.0010024723190782446,
          8.737802841719194E-4,
          7.616090444368357E-4,
          6.63837748545335E-4,
          5.786178087204781E-4,
          5.043379489975236E-4,
          4.3959374040266486E-4,
          3.831610470425939E-4,
          3.3397288104306883E-4,
          2.9109922872668414E-4,
          2.537294665980456E-4,
          2.2115703467072548E-4,
          1.9276607735053353E-4,
          1.68019799290746E-4,
          1.4645031606036593E-4,
          1.276498077293106E-4,
          1.1126280810902084E-4,
          9.697948385912278E-5,
          8.452977638643049E-5,
          7.367829577562538E-5,
          6.421987020980661E-5,
          5.5975666732628084E-5,
          4.878981000624608E-5,
          4.252643513503755E-5,
          3.7067118832047795E-5,
          3.2308640358550456E-5,
          2.816102990221232E-5,
          2.454586749403145E-5,
          2.139480030122115E-5,
          1.8648250262103577E-5,
          1.625428762792415E-5,
          1.416764911334289E-5,
          1.2348882091514955E-5,
          1.0763598652829508E-5,
          9.38182542359834E-6,
          8.17743685154388E-6,
          7.127661243065445E-6,
          6.212650212799339E-6,
          5.415103404941835E-6,
          4.719941390841637E-6,
          4.114020558249956E-6,
          3.5858846015639336E-6,
          3.125547914423451E-6,
          2.7243067892079227E-6,
          2.374574853731989E-6,
          2.0697396336980402E-6,
          1.8040375288940032E-6,
          1.572444839278174E-6,
          1.3705827805524794E-6,
          1.1946346933284355E-6,
          1.0412738805376247E-6,
          9.076007086894414E-7,
          7.910877837330058E-7,
          6.895321649486947E-7,
          6.010137133647108E-7,
          5.238587871811841E-7,
          4.566085977815461E-7,
          3.9799162802994146E-7,
          3.468995913600915E-7,
          3.0236647710776875E-7,
          2.6355028589140204E-7,
          2.2971710970685277E-7,
          2.002272557344688E-7,
          1.745231514975851E-7,
          1.5211880269208342E-7,
          1.325906043634171E-7,
          1.1556933169558231E-7,
          1.0073315897976715E-7,
          8.780157477047109E-8,
          7.653007818133709E-8,
          6.670555604215996E-8,
          5.8142253511755254E-8,
          5.067826196199634E-8
         ],
         "type": "scatter"
        },
        {
         "legendgroup": "90",
         "marker": {
          "color": "#ffb5ff"
         },
         "mode": "lines+markers",
         "name": "Mn of 90",
         "x": [
          1.2513888888888889,
          2.2416666666666667,
          4.273611111111111,
          6.2375,
          8.338888888888889,
          10.306944444444444,
          15.381944444444445
         ],
         "y": [
          0.0027,
          0.0028,
          0.0029,
          0.0032,
          0.0039,
          0.0038,
          0.0035
         ],
         "type": "scatter"
        },
        {
         "legendgroup": "90",
         "marker": {
          "color": "#c379c3"
         },
         "mode": "lines+markers",
         "name": "Mw of 90",
         "opacity": 0.5,
         "x": [
          1.2513888888888889,
          2.2416666666666667,
          4.273611111111111,
          6.2375,
          8.338888888888889,
          10.306944444444444,
          15.381944444444445
         ],
         "y": [
          0.0029,
          0.0034,
          0.0033,
          0.0037,
          0.0044,
          0.0046,
          0.0053
         ],
         "type": "scatter"
        },
        {
         "legendgroup": "145",
         "marker": {
          "color": "#AB63FA"
         },
         "mode": "lines+markers",
         "name": "145",
         "x": [
          0.0,
          1.3736111111111111,
          2.3694444444444445,
          4.409722222222222,
          8.501388888888888,
          15.568055555555556
         ],
         "y": [
          0.0,
          0.4283204497540408,
          0.6370344342937456,
          0.8341531974701335,
          0.9307800421644413,
          0.9581869290231905
         ],
         "type": "scatter"
        },
        {
         "legendgroup": "145",
         "line": {
          "dash": "dot"
         },
         "marker": {
          "color": "#AB63FA"
         },
         "name": "neg_growth fit",
         "opacity": 1,
         "showlegend": false,
         "x": [
          -1.0,
          -0.8232323232323232,
          -0.6464646464646464,
          -0.4696969696969697,
          -0.29292929292929293,
          -0.11616161616161613,
          0.06060606060606055,
          0.23737373737373746,
          0.41414141414141414,
          0.5909090909090908,
          0.7676767676767677,
          0.9444444444444444,
          1.121212121212121,
          1.297979797979798,
          1.474747474747475,
          1.6515151515151514,
          1.8282828282828283,
          2.005050505050505,
          2.1818181818181817,
          2.3585858585858586,
          2.5353535353535355,
          2.712121212121212,
          2.888888888888889,
          3.0656565656565657,
          3.242424242424242,
          3.4191919191919196,
          3.595959595959596,
          3.7727272727272725,
          3.94949494949495,
          4.126262626262626,
          4.303030303030303,
          4.47979797979798,
          4.656565656565657,
          4.833333333333333,
          5.01010101010101,
          5.186868686868687,
          5.363636363636363,
          5.540404040404041,
          5.717171717171717,
          5.893939393939394,
          6.070707070707071,
          6.247474747474747,
          6.424242424242424,
          6.601010101010101,
          6.777777777777778,
          6.954545454545454,
          7.1313131313131315,
          7.308080808080808,
          7.484848484848484,
          7.661616161616161,
          7.838383838383839,
          8.015151515151516,
          8.191919191919192,
          8.368686868686869,
          8.545454545454545,
          8.722222222222221,
          8.8989898989899,
          9.075757575757576,
          9.252525252525253,
          9.429292929292929,
          9.606060606060606,
          9.782828282828282,
          9.95959595959596,
          10.136363636363637,
          10.313131313131313,
          10.48989898989899,
          10.666666666666666,
          10.843434343434344,
          11.02020202020202,
          11.196969696969697,
          11.373737373737374,
          11.55050505050505,
          11.727272727272727,
          11.904040404040405,
          12.080808080808081,
          12.257575757575758,
          12.434343434343434,
          12.61111111111111,
          12.787878787878787,
          12.964646464646465,
          13.141414141414142,
          13.318181818181818,
          13.494949494949495,
          13.671717171717171,
          13.848484848484848,
          14.025252525252526,
          14.202020202020202,
          14.378787878787879,
          14.555555555555555,
          14.732323232323232,
          14.909090909090908,
          15.085858585858585,
          15.262626262626263,
          15.439393939393938,
          15.616161616161616,
          15.792929292929294,
          15.969696969696969,
          16.146464646464647,
          16.32323232323232,
          16.5
         ],
         "y": [
          -0.5451545861582507,
          -0.430104586049953,
          -0.3238592086668,
          -0.22574464800045502,
          -0.13513866351574697,
          -0.051466633913935425,
          0.025802087103802704,
          0.09715753618433752,
          0.16305224812496763,
          0.2239041258398419,
          0.2800990906916847,
          0.3319935299971779,
          0.37991655722802786,
          0.4241720992418652,
          0.46504082378015427,
          0.5027819194572628,
          0.5376347395293499,
          0.5698203198678148,
          0.5995427807642696,
          0.626990621457249,
          0.6523379155905235,
          0.6757454151845829,
          0.6973615701226609,
          0.7173234696168542,
          0.7357577116251007,
          0.7527812057328359,
          0.7685019145911903,
          0.7830195386139135,
          0.796426148275357,
          0.8088067680195367,
          0.8202399154834177,
          0.8307980994541595,
          0.8405482797183601,
          0.8495522917196523,
          0.8578672387178203,
          0.8655458539365053,
          0.8726368349962295,
          0.8791851527537089,
          0.8852323365061063,
          0.8908167373689828,
          0.8959737714982886,
          0.9007361446988983,
          0.905134059844156,
          0.90919540842188,
          0.9129459474216075,
          0.9164094626848946,
          0.9196079197546372,
          0.9225616031800932,
          0.9252892451610802,
          0.9278081443472019,
          0.9301342755455305,
          0.9322823910325058,
          0.9342661141125705,
          0.9360980255168883,
          0.9377897431900828,
          0.9393519959710052,
          0.9407946916348099,
          0.9421269797278624,
          0.9433573095939746,
          0.9444934839599702,
          0.9455427084204191,
          0.94651163713537,
          0.9474064150308973,
          0.948232716770097,
          0.9489957827416832,
          0.9497004522944265,
          0.9503511944282041,
          0.9509521361363072,
          0.9515070885787461,
          0.9520195712525499,
          0.9524928343123443,
          0.9529298791827662,
          0.9533334775934367,
          0.9537061891572138,
          0.954050377603205,
          0.9543682257674887,
          0.9546617494366157,
          0.954932810131687,
          0.9551831269140812,
          0.9554142872877083,
          0.9556277572669254,
          0.9558248906739705,
          0.9560069377248753,
          0.9561750529583103,
          0.9563303025576438,
          0.9564736711126569,
          0.9566060678637903,
          0.9567283324685295,
          0.9568412403264945,
          0.9569455074970095,
          0.9570417952403348,
          0.957130714211368,
          0.9572128283324025,
          0.9572886583695134,
          0.9573586852352435,
          0.9574233530385414,
          0.9574830719012922,
          0.9575382205593007,
          0.9575891487642268,
          0.957636179501704
         ],
         "type": "scatter"
        },
        {
         "legendgroup": "145",
         "line": {
          "dash": "dash"
         },
         "marker": {
          "color": "#AB63FA"
         },
         "name": "neg_growth_derivative",
         "opacity": 0.3,
         "showlegend": false,
         "x": [
          -1.0,
          -0.8232323232323232,
          -0.6464646464646464,
          -0.4696969696969697,
          -0.29292929292929293,
          -0.11616161616161613,
          0.06060606060606055,
          0.23737373737373746,
          0.41414141414141414,
          0.5909090909090908,
          0.7676767676767677,
          0.9444444444444444,
          1.121212121212121,
          1.297979797979798,
          1.474747474747475,
          1.6515151515151514,
          1.8282828282828283,
          2.005050505050505,
          2.1818181818181817,
          2.3585858585858586,
          2.5353535353535355,
          2.712121212121212,
          2.888888888888889,
          3.0656565656565657,
          3.242424242424242,
          3.4191919191919196,
          3.595959595959596,
          3.7727272727272725,
          3.94949494949495,
          4.126262626262626,
          4.303030303030303,
          4.47979797979798,
          4.656565656565657,
          4.833333333333333,
          5.01010101010101,
          5.186868686868687,
          5.363636363636363,
          5.540404040404041,
          5.717171717171717,
          5.893939393939394,
          6.070707070707071,
          6.247474747474747,
          6.424242424242424,
          6.601010101010101,
          6.777777777777778,
          6.954545454545454,
          7.1313131313131315,
          7.308080808080808,
          7.484848484848484,
          7.661616161616161,
          7.838383838383839,
          8.015151515151516,
          8.191919191919192,
          8.368686868686869,
          8.545454545454545,
          8.722222222222221,
          8.8989898989899,
          9.075757575757576,
          9.252525252525253,
          9.429292929292929,
          9.606060606060606,
          9.782828282828282,
          9.95959595959596,
          10.136363636363637,
          10.313131313131313,
          10.48989898989899,
          10.666666666666666,
          10.843434343434344,
          11.02020202020202,
          11.196969696969697,
          11.373737373737374,
          11.55050505050505,
          11.727272727272727,
          11.904040404040405,
          12.080808080808081,
          12.257575757575758,
          12.434343434343434,
          12.61111111111111,
          12.787878787878787,
          12.964646464646465,
          13.141414141414142,
          13.318181818181818,
          13.494949494949495,
          13.671717171717171,
          13.848484848484848,
          14.025252525252526,
          14.202020202020202,
          14.378787878787879,
          14.555555555555555,
          14.732323232323232,
          14.909090909090908,
          15.085858585858585,
          15.262626262626263,
          15.439393939393938,
          15.616161616161616,
          15.792929292929294,
          15.969696969696969,
          16.146464646464647,
          16.32323232323232,
          16.5
         ],
         "y": [
          0.67710709418258,
          0.6252889933291689,
          0.5774364624707019,
          0.533246021836099,
          0.49243741655551043,
          0.45475183928966945,
          0.4199502888790453,
          0.38781205460338175,
          0.35813331643882806,
          0.3307258524355197,
          0.305415845017826,
          0.2820427786368436,
          0.2604584217840717,
          0.24052588691021906,
          0.22211876228716917,
          0.2051203103073886,
          0.18942272713640912,
          0.1749264590231173,
          0.1615395709319023,
          0.14917716349254243,
          0.13776083457013716,
          0.1272181820403727,
          0.11748234461673158,
          0.10849157781758258,
          0.10018886238394208,
          0.09252154266450081,
          0.08544099267456154,
          0.07890230771103915,
          0.07286401956775314,
          0.06728783354491306,
          0.062138385584916286,
          0.05738301799421855,
          0.05299157232891037,
          0.04893619813048279,
          0.045191176298789944,
          0.04173275598204232,
          0.03853900394939097,
          0.03558966549082645,
          0.032866035962222616,
          0.030350842160866486,
          0.028028132779160223,
          0.025883177241754943,
          0.023902372284543387,
          0.022073155683037398,
          0.02038392658299749,
          0.018823971928052657,
          0.017383398517716184,
          0.01605307026491078,
          0.014824550255091279,
          0.01369004723950532,
          0.012642366223253307,
          0.011674862834778026,
          0.010781401187396228,
          0.009956314965630935,
          0.009194371489554647,
          0.008490738529240392,
          0.007840953658858441,
          0.007240895956063075,
          0.006686759867187362,
          0.006175031072499789,
          0.005702464198460422,
          0.005266062235628364,
          0.004863057531689242,
          0.004490894239060877,
          0.004147212105760247,
          0.003829831506733729,
          0.0035367396207196277,
          0.0032660776649769407,
          0.0030161291069232673,
          0.0027853087779203113,
          0.002572152820166828,
          0.002375309402942416,
          0.002193530149324765,
          0.002025662219008768,
          0.0018706409970169083,
          0.001727483341932866,
          0.0015952813508387845,
          0.0014731966014135483,
          0.0013604548346755905,
          0.0012563410446482742,
          0.00116019494380664,
          0.0010714067755474264,
          9.89413447125181E-4,
          9.136949585295961E-4,
          8.437711046560858E-4,
          7.791984298548469E-4,
          7.195674155442058E-4,
          6.644998830521538E-4,
          6.136465952149544E-4,
          5.666850415221995E-4,
          5.233173927617527E-4,
          4.832686121929872E-4,
          4.46284711269403E-4,
          4.121311388484687E-4,
          3.8059129367307224E-4,
          3.5146515069078675E-4,
          3.2456799249908205E-4,
          2.9972923787133666E-4,
          2.7679135993419484E-4,
          2.5560888713535655E-4
         ],
         "type": "scatter"
        },
        {
         "legendgroup": "145",
         "marker": {
          "color": "#c981ff"
         },
         "mode": "lines+markers",
         "name": "Mn of 145",
         "x": [
          0.0,
          1.3736111111111111,
          2.3694444444444445,
          4.409722222222222,
          6.358333333333333,
          8.501388888888888,
          10.466666666666667,
          15.568055555555556
         ],
         "y": [
          0.0029,
          0.094,
          0.086,
          0.135,
          0.096,
          0.1,
          0.123,
          0.111
         ],
         "type": "scatter"
        },
        {
         "legendgroup": "145",
         "marker": {
          "color": "#8d45c3"
         },
         "mode": "lines+markers",
         "name": "Mw of 145",
         "opacity": 0.5,
         "x": [
          0.0,
          1.3736111111111111,
          2.3694444444444445,
          4.409722222222222,
          6.358333333333333,
          8.501388888888888,
          10.466666666666667,
          15.568055555555556
         ],
         "y": [
          0.0033,
          0.117,
          0.157,
          0.2,
          0.21,
          0.217,
          0.22,
          0.223
         ],
         "type": "scatter"
        },
        {
         "legendgroup": "253",
         "marker": {
          "color": "#636EFA"
         },
         "mode": "lines+markers",
         "name": "253",
         "x": [
          0.0,
          2.011111111111111,
          4.018055555555556,
          8.016666666666667,
          15.016666666666667
         ],
         "y": [
          0.0,
          0.05343511450381688,
          0.09541984732824427,
          0.1717557251908397,
          0.30534351145038163
         ],
         "type": "scatter"
        },
        {
         "legendgroup": "253",
         "line": {
          "dash": "dot"
         },
         "marker": {
          "color": "#636EFA"
         },
         "name": "neg_growth fit",
         "opacity": 1,
         "showlegend": false,
         "x": [
          -1.0,
          -0.8232323232323232,
          -0.6464646464646464,
          -0.4696969696969697,
          -0.29292929292929293,
          -0.11616161616161613,
          0.06060606060606055,
          0.23737373737373746,
          0.41414141414141414,
          0.5909090909090908,
          0.7676767676767677,
          0.9444444444444444,
          1.121212121212121,
          1.297979797979798,
          1.474747474747475,
          1.6515151515151514,
          1.8282828282828283,
          2.005050505050505,
          2.1818181818181817,
          2.3585858585858586,
          2.5353535353535355,
          2.712121212121212,
          2.888888888888889,
          3.0656565656565657,
          3.242424242424242,
          3.4191919191919196,
          3.595959595959596,
          3.7727272727272725,
          3.94949494949495,
          4.126262626262626,
          4.303030303030303,
          4.47979797979798,
          4.656565656565657,
          4.833333333333333,
          5.01010101010101,
          5.186868686868687,
          5.363636363636363,
          5.540404040404041,
          5.717171717171717,
          5.893939393939394,
          6.070707070707071,
          6.247474747474747,
          6.424242424242424,
          6.601010101010101,
          6.777777777777778,
          6.954545454545454,
          7.1313131313131315,
          7.308080808080808,
          7.484848484848484,
          7.661616161616161,
          7.838383838383839,
          8.015151515151516,
          8.191919191919192,
          8.368686868686869,
          8.545454545454545,
          8.722222222222221,
          8.8989898989899,
          9.075757575757576,
          9.252525252525253,
          9.429292929292929,
          9.606060606060606,
          9.782828282828282,
          9.95959595959596,
          10.136363636363637,
          10.313131313131313,
          10.48989898989899,
          10.666666666666666,
          10.843434343434344,
          11.02020202020202,
          11.196969696969697,
          11.373737373737374,
          11.55050505050505,
          11.727272727272727,
          11.904040404040405,
          12.080808080808081,
          12.257575757575758,
          12.434343434343434,
          12.61111111111111,
          12.787878787878787,
          12.964646464646465,
          13.141414141414142,
          13.318181818181818,
          13.494949494949495,
          13.671717171717171,
          13.848484848484848,
          14.025252525252526,
          14.202020202020202,
          14.378787878787879,
          14.555555555555555,
          14.732323232323232,
          14.909090909090908,
          15.085858585858585,
          15.262626262626263,
          15.439393939393938,
          15.616161616161616,
          15.792929292929294,
          15.969696969696969,
          16.146464646464647,
          16.32323232323232,
          16.5
         ],
         "y": [
          -0.02467348258429251,
          -0.02026624672865781,
          -0.01587877079939942,
          -0.011510966202508657,
          -0.007162744741190287,
          -0.002834018614080627,
          0.0014752995865244447,
          0.005765296876435415,
          0.010036059881325174,
          0.014287674838479193,
          0.018520227598536346,
          0.02273380362722217,
          0.026928488007075545,
          0.031104365439165674,
          0.03526152024480322,
          0.03940003636724227,
          0.043519997373376314,
          0.04762148645542441,
          0.05170458643261206,
          0.05576937975284326,
          0.059815948494365154,
          0.06384437436742524,
          0.06785473871592193,
          0.07184712251904657,
          0.07582160639291871,
          0.07977827059221401,
          0.08371719501178476,
          0.08763845918827312,
          0.09154214230171724,
          0.09542832317715004,
          0.09929708028619089,
          0.10314849174863022,
          0.1069826353340067,
          0.11079958846317788,
          0.11459942820988342,
          0.11838223130230162,
          0.12214807412459798,
          0.12589703271846872,
          0.12962918278467522,
          0.13334459968457324,
          0.13704335844163457,
          0.14072553374296154,
          0.14439119994079566,
          0.14804043105401865,
          0.15167330076964708,
          0.15528988244432054,
          0.15889024910578273,
          0.1624744734543557,
          0.16604262786440882,
          0.16959478438581893,
          0.17313101474542641,
          0.17665139034848268,
          0.18015598228009247,
          0.18364486130664895,
          0.18711809787726286,
          0.1905757621251853,
          0.194017923869223,
          0.19744465261514926,
          0.2008560175571067,
          0.20425208757900462,
          0.2076329312559101,
          0.21099861685543259,
          0.21434921233910245,
          0.2176847853637431,
          0.22100540328283724,
          0.22431113314788712,
          0.22760204170976817,
          0.23087819542007723,
          0.23413966043247358,
          0.237386502604016,
          0.2406187874964914,
          0.24383658037773934,
          0.24703994622296974,
          0.2502289497160749,
          0.2534036552509357,
          0.25656412693272185,
          0.259710428579186,
          0.26284262372195333,
          0.265960775607803,
          0.2690649471999467,
          0.27215520117929876,
          0.275231599945743,
          0.27829420561939155,
          0.2813430800418404,
          0.28437828477741717,
          0.28739988111442494,
          0.2904079300663792,
          0.2934024923732404,
          0.29638362850264016,
          0.29935139865110233,
          0.30230586274525834,
          0.30524708044305765,
          0.30817511113497187,
          0.3110900139451947,
          0.31399184773283517,
          0.3168806710931061,
          0.319756542358508,
          0.3226195196000063,
          0.325469660628204,
          0.32830702299450953
         ],
         "type": "scatter"
        },
        {
         "legendgroup": "253",
         "line": {
          "dash": "dash"
         },
         "marker": {
          "color": "#636EFA"
         },
         "name": "neg_growth_derivative",
         "opacity": 0.3,
         "showlegend": false,
         "x": [
          -1.0,
          -0.8232323232323232,
          -0.6464646464646464,
          -0.4696969696969697,
          -0.29292929292929293,
          -0.11616161616161613,
          0.06060606060606055,
          0.23737373737373746,
          0.41414141414141414,
          0.5909090909090908,
          0.7676767676767677,
          0.9444444444444444,
          1.121212121212121,
          1.297979797979798,
          1.474747474747475,
          1.6515151515151514,
          1.8282828282828283,
          2.005050505050505,
          2.1818181818181817,
          2.3585858585858586,
          2.5353535353535355,
          2.712121212121212,
          2.888888888888889,
          3.0656565656565657,
          3.242424242424242,
          3.4191919191919196,
          3.595959595959596,
          3.7727272727272725,
          3.94949494949495,
          4.126262626262626,
          4.303030303030303,
          4.47979797979798,
          4.656565656565657,
          4.833333333333333,
          5.01010101010101,
          5.186868686868687,
          5.363636363636363,
          5.540404040404041,
          5.717171717171717,
          5.893939393939394,
          6.070707070707071,
          6.247474747474747,
          6.424242424242424,
          6.601010101010101,
          6.777777777777778,
          6.954545454545454,
          7.1313131313131315,
          7.308080808080808,
          7.484848484848484,
          7.661616161616161,
          7.838383838383839,
          8.015151515151516,
          8.191919191919192,
          8.368686868686869,
          8.545454545454545,
          8.722222222222221,
          8.8989898989899,
          9.075757575757576,
          9.252525252525253,
          9.429292929292929,
          9.606060606060606,
          9.782828282828282,
          9.95959595959596,
          10.136363636363637,
          10.313131313131313,
          10.48989898989899,
          10.666666666666666,
          10.843434343434344,
          11.02020202020202,
          11.196969696969697,
          11.373737373737374,
          11.55050505050505,
          11.727272727272727,
          11.904040404040405,
          12.080808080808081,
          12.257575757575758,
          12.434343434343434,
          12.61111111111111,
          12.787878787878787,
          12.964646464646465,
          13.141414141414142,
          13.318181818181818,
          13.494949494949495,
          13.671717171717171,
          13.848484848484848,
          14.025252525252526,
          14.202020202020202,
          14.378787878787879,
          14.555555555555555,
          14.732323232323232,
          14.909090909090908,
          15.085858585858585,
          15.262626262626263,
          15.439393939393938,
          15.616161616161616,
          15.792929292929294,
          15.969696969696969,
          16.146464646464647,
          16.32323232323232,
          16.5
         ],
         "y": [
          0.024988422830407416,
          0.024876386758012313,
          0.02476485300149377,
          0.024653819308708923,
          0.024543283437612452,
          0.02443324315621127,
          0.024323696242519493,
          0.024214640484513543,
          0.024106073680087495,
          0.02399799363700861,
          0.023890398172873063,
          0.023783285115061885,
          0.02367665230069707,
          0.023570497576597935,
          0.023464818799237612,
          0.02335961383469979,
          0.02325488055863559,
          0.023150616856220718,
          0.023046820622112718,
          0.02294348976040848,
          0.022840622184601922,
          0.022738215817541846,
          0.02263626859139,
          0.022534778447579333,
          0.022433743336772408,
          0.022333161218820043,
          0.02223303006272009,
          0.022133347846576456,
          0.022034112557558237,
          0.021935322191859116,
          0.02183697475465686,
          0.02173906826007307,
          0.021641600731133078,
          0.02154457019972601,
          0.02144797470656505,
          0.021351812301147896,
          0.02125608104171735,
          0.02116077899522212,
          0.021065904237277798,
          0.020971454852127973,
          0.020877428932605576,
          0.020783824580094357,
          0.020690639904490542,
          0.020597873024164683,
          0.020505522065923647,
          0.0204135851649728,
          0.020322060464878347,
          0.02023094611752986,
          0.020140240283102937,
          0.02004994113002207,
          0.019960046834923657,
          0.019870555582619177,
          0.019781465566058542,
          0.019692774986293612,
          0.019604482052441863,
          0.01951658498165022,
          0.01942908199905908,
          0.019341971337766443,
          0.01925525123879225,
          0.01916891995104287,
          0.019082975731275726,
          0.018997416844064106,
          0.01891224156176212,
          0.0188274481644698,
          0.0187430349399984,
          0.01865900018383579,
          0.01857534219911206,
          0.018492059296565243,
          0.018409149794507224,
          0.018326612018789747,
          0.018244444302770654,
          0.018162644987280194,
          0.01808121242058754,
          0.018000144958367433,
          0.01791944096366698,
          0.01783909880687259,
          0.017759116865677087,
          0.017679493525046927,
          0.017600227177189613,
          0.0175213162215212,
          0.017442759064634012,
          0.01736455412026443,
          0.01728669980926089,
          0.017209194559551975,
          0.01713203680611469,
          0.017055224990942836,
          0.016978757563015583,
          0.016902632978266118,
          0.01682684969955049,
          0.016751406196616553,
          0.016676300946073086,
          0.01660153243135902,
          0.01652709914271281,
          0.016452999577141962,
          0.016379232238392667,
          0.01630579563691962,
          0.0162326882898559,
          0.01615990872098306,
          0.016087455460701297,
          0.016015327045999797
         ],
         "type": "scatter"
        },
        {
         "legendgroup": "253",
         "marker": {
          "color": "#818cff"
         },
         "mode": "lines+markers",
         "name": "Mn of 253",
         "x": [
          1.0055555555555555,
          2.011111111111111,
          4.018055555555556,
          6.008333333333334,
          8.016666666666667,
          10.011111111111111,
          15.016666666666667
         ],
         "y": [
          0.0026,
          0.0031,
          0.0051,
          0.007,
          0.0088,
          0.0092,
          0.0129
         ],
         "type": "scatter"
        },
        {
         "legendgroup": "253",
         "marker": {
          "color": "#4550c3"
         },
         "mode": "lines+markers",
         "name": "Mw of 253",
         "opacity": 0.5,
         "x": [
          1.0055555555555555,
          2.011111111111111,
          4.018055555555556,
          6.008333333333334,
          8.016666666666667,
          10.011111111111111,
          15.016666666666667
         ],
         "y": [
          0.0029,
          0.0034,
          0.0058,
          0.0083,
          0.0108,
          0.012,
          0.017
         ],
         "type": "scatter"
        }
       ],
       "layout": {
        "template": {
         "data": {
          "histogram2dcontour": [
           {
            "type": "histogram2dcontour",
            "colorbar": {
             "outlinewidth": 0,
             "ticks": ""
            },
            "colorscale": [
             [
              0.0,
              "#0d0887"
             ],
             [
              0.1111111111111111,
              "#46039f"
             ],
             [
              0.2222222222222222,
              "#7201a8"
             ],
             [
              0.3333333333333333,
              "#9c179e"
             ],
             [
              0.4444444444444444,
              "#bd3786"
             ],
             [
              0.5555555555555556,
              "#d8576b"
             ],
             [
              0.6666666666666666,
              "#ed7953"
             ],
             [
              0.7777777777777778,
              "#fb9f3a"
             ],
             [
              0.8888888888888888,
              "#fdca26"
             ],
             [
              1.0,
              "#f0f921"
             ]
            ]
           }
          ],
          "choropleth": [
           {
            "type": "choropleth",
            "colorbar": {
             "outlinewidth": 0,
             "ticks": ""
            }
           }
          ],
          "histogram2d": [
           {
            "type": "histogram2d",
            "colorbar": {
             "outlinewidth": 0,
             "ticks": ""
            },
            "colorscale": [
             [
              0.0,
              "#0d0887"
             ],
             [
              0.1111111111111111,
              "#46039f"
             ],
             [
              0.2222222222222222,
              "#7201a8"
             ],
             [
              0.3333333333333333,
              "#9c179e"
             ],
             [
              0.4444444444444444,
              "#bd3786"
             ],
             [
              0.5555555555555556,
              "#d8576b"
             ],
             [
              0.6666666666666666,
              "#ed7953"
             ],
             [
              0.7777777777777778,
              "#fb9f3a"
             ],
             [
              0.8888888888888888,
              "#fdca26"
             ],
             [
              1.0,
              "#f0f921"
             ]
            ]
           }
          ],
          "heatmap": [
           {
            "type": "heatmap",
            "colorbar": {
             "outlinewidth": 0,
             "ticks": ""
            },
            "colorscale": [
             [
              0.0,
              "#0d0887"
             ],
             [
              0.1111111111111111,
              "#46039f"
             ],
             [
              0.2222222222222222,
              "#7201a8"
             ],
             [
              0.3333333333333333,
              "#9c179e"
             ],
             [
              0.4444444444444444,
              "#bd3786"
             ],
             [
              0.5555555555555556,
              "#d8576b"
             ],
             [
              0.6666666666666666,
              "#ed7953"
             ],
             [
              0.7777777777777778,
              "#fb9f3a"
             ],
             [
              0.8888888888888888,
              "#fdca26"
             ],
             [
              1.0,
              "#f0f921"
             ]
            ]
           }
          ],
          "heatmapgl": [
           {
            "type": "heatmapgl",
            "colorbar": {
             "outlinewidth": 0,
             "ticks": ""
            },
            "colorscale": [
             [
              0.0,
              "#0d0887"
             ],
             [
              0.1111111111111111,
              "#46039f"
             ],
             [
              0.2222222222222222,
              "#7201a8"
             ],
             [
              0.3333333333333333,
              "#9c179e"
             ],
             [
              0.4444444444444444,
              "#bd3786"
             ],
             [
              0.5555555555555556,
              "#d8576b"
             ],
             [
              0.6666666666666666,
              "#ed7953"
             ],
             [
              0.7777777777777778,
              "#fb9f3a"
             ],
             [
              0.8888888888888888,
              "#fdca26"
             ],
             [
              1.0,
              "#f0f921"
             ]
            ]
           }
          ],
          "contourcarpet": [
           {
            "type": "contourcarpet",
            "colorbar": {
             "outlinewidth": 0,
             "ticks": ""
            }
           }
          ],
          "contour": [
           {
            "type": "contour",
            "colorbar": {
             "outlinewidth": 0,
             "ticks": ""
            },
            "colorscale": [
             [
              0.0,
              "#0d0887"
             ],
             [
              0.1111111111111111,
              "#46039f"
             ],
             [
              0.2222222222222222,
              "#7201a8"
             ],
             [
              0.3333333333333333,
              "#9c179e"
             ],
             [
              0.4444444444444444,
              "#bd3786"
             ],
             [
              0.5555555555555556,
              "#d8576b"
             ],
             [
              0.6666666666666666,
              "#ed7953"
             ],
             [
              0.7777777777777778,
              "#fb9f3a"
             ],
             [
              0.8888888888888888,
              "#fdca26"
             ],
             [
              1.0,
              "#f0f921"
             ]
            ]
           }
          ],
          "surface": [
           {
            "type": "surface",
            "colorbar": {
             "outlinewidth": 0,
             "ticks": ""
            },
            "colorscale": [
             [
              0.0,
              "#0d0887"
             ],
             [
              0.1111111111111111,
              "#46039f"
             ],
             [
              0.2222222222222222,
              "#7201a8"
             ],
             [
              0.3333333333333333,
              "#9c179e"
             ],
             [
              0.4444444444444444,
              "#bd3786"
             ],
             [
              0.5555555555555556,
              "#d8576b"
             ],
             [
              0.6666666666666666,
              "#ed7953"
             ],
             [
              0.7777777777777778,
              "#fb9f3a"
             ],
             [
              0.8888888888888888,
              "#fdca26"
             ],
             [
              1.0,
              "#f0f921"
             ]
            ]
           }
          ],
          "mesh3d": [
           {
            "type": "mesh3d",
            "colorbar": {
             "outlinewidth": 0,
             "ticks": ""
            }
           }
          ],
          "scatter": [
           {
            "fillpattern": {
             "fillmode": "overlay",
             "size": 10,
             "solidity": 0.2
            },
            "type": "scatter"
           }
          ],
          "parcoords": [
           {
            "type": "parcoords",
            "line": {
             "colorbar": {
              "outlinewidth": 0,
              "ticks": ""
             }
            }
           }
          ],
          "scatterpolargl": [
           {
            "type": "scatterpolargl",
            "marker": {
             "colorbar": {
              "outlinewidth": 0,
              "ticks": ""
             }
            }
           }
          ],
          "bar": [
           {
            "error_x": {
             "color": "#2a3f5f"
            },
            "error_y": {
             "color": "#2a3f5f"
            },
            "marker": {
             "line": {
              "color": "#E5ECF6",
              "width": 0.5
             },
             "pattern": {
              "fillmode": "overlay",
              "size": 10,
              "solidity": 0.2
             }
            },
            "type": "bar"
           }
          ],
          "scattergeo": [
           {
            "type": "scattergeo",
            "marker": {
             "colorbar": {
              "outlinewidth": 0,
              "ticks": ""
             }
            }
           }
          ],
          "scatterpolar": [
           {
            "type": "scatterpolar",
            "marker": {
             "colorbar": {
              "outlinewidth": 0,
              "ticks": ""
             }
            }
           }
          ],
          "histogram": [
           {
            "marker": {
             "pattern": {
              "fillmode": "overlay",
              "size": 10,
              "solidity": 0.2
             }
            },
            "type": "histogram"
           }
          ],
          "scattergl": [
           {
            "type": "scattergl",
            "marker": {
             "colorbar": {
              "outlinewidth": 0,
              "ticks": ""
             }
            }
           }
          ],
          "scatter3d": [
           {
            "type": "scatter3d",
            "line": {
             "colorbar": {
              "outlinewidth": 0,
              "ticks": ""
             }
            },
            "marker": {
             "colorbar": {
              "outlinewidth": 0,
              "ticks": ""
             }
            }
           }
          ],
          "scattermapbox": [
           {
            "type": "scattermapbox",
            "marker": {
             "colorbar": {
              "outlinewidth": 0,
              "ticks": ""
             }
            }
           }
          ],
          "scatterternary": [
           {
            "type": "scatterternary",
            "marker": {
             "colorbar": {
              "outlinewidth": 0,
              "ticks": ""
             }
            }
           }
          ],
          "scattercarpet": [
           {
            "type": "scattercarpet",
            "marker": {
             "colorbar": {
              "outlinewidth": 0,
              "ticks": ""
             }
            }
           }
          ],
          "carpet": [
           {
            "aaxis": {
             "endlinecolor": "#2a3f5f",
             "gridcolor": "white",
             "linecolor": "white",
             "minorgridcolor": "white",
             "startlinecolor": "#2a3f5f"
            },
            "baxis": {
             "endlinecolor": "#2a3f5f",
             "gridcolor": "white",
             "linecolor": "white",
             "minorgridcolor": "white",
             "startlinecolor": "#2a3f5f"
            },
            "type": "carpet"
           }
          ],
          "table": [
           {
            "cells": {
             "fill": {
              "color": "#EBF0F8"
             },
             "line": {
              "color": "white"
             }
            },
            "header": {
             "fill": {
              "color": "#C8D4E3"
             },
             "line": {
              "color": "white"
             }
            },
            "type": "table"
           }
          ],
          "barpolar": [
           {
            "marker": {
             "line": {
              "color": "#E5ECF6",
              "width": 0.5
             },
             "pattern": {
              "fillmode": "overlay",
              "size": 10,
              "solidity": 0.2
             }
            },
            "type": "barpolar"
           }
          ],
          "pie": [
           {
            "automargin": true,
            "type": "pie"
           }
          ]
         },
         "layout": {
          "autotypenumbers": "strict",
          "colorway": [
           "#636efa",
           "#EF553B",
           "#00cc96",
           "#ab63fa",
           "#FFA15A",
           "#19d3f3",
           "#FF6692",
           "#B6E880",
           "#FF97FF",
           "#FECB52"
          ],
          "font": {
           "color": "#2a3f5f"
          },
          "hovermode": "closest",
          "hoverlabel": {
           "align": "left"
          },
          "paper_bgcolor": "white",
          "plot_bgcolor": "#E5ECF6",
          "polar": {
           "bgcolor": "#E5ECF6",
           "angularaxis": {
            "gridcolor": "white",
            "linecolor": "white",
            "ticks": ""
           },
           "radialaxis": {
            "gridcolor": "white",
            "linecolor": "white",
            "ticks": ""
           }
          },
          "ternary": {
           "bgcolor": "#E5ECF6",
           "aaxis": {
            "gridcolor": "white",
            "linecolor": "white",
            "ticks": ""
           },
           "baxis": {
            "gridcolor": "white",
            "linecolor": "white",
            "ticks": ""
           },
           "caxis": {
            "gridcolor": "white",
            "linecolor": "white",
            "ticks": ""
           }
          },
          "coloraxis": {
           "colorbar": {
            "outlinewidth": 0,
            "ticks": ""
           }
          },
          "colorscale": {
           "sequential": [
            [
             0.0,
             "#0d0887"
            ],
            [
             0.1111111111111111,
             "#46039f"
            ],
            [
             0.2222222222222222,
             "#7201a8"
            ],
            [
             0.3333333333333333,
             "#9c179e"
            ],
            [
             0.4444444444444444,
             "#bd3786"
            ],
            [
             0.5555555555555556,
             "#d8576b"
            ],
            [
             0.6666666666666666,
             "#ed7953"
            ],
            [
             0.7777777777777778,
             "#fb9f3a"
            ],
            [
             0.8888888888888888,
             "#fdca26"
            ],
            [
             1.0,
             "#f0f921"
            ]
           ],
           "sequentialminus": [
            [
             0.0,
             "#0d0887"
            ],
            [
             0.1111111111111111,
             "#46039f"
            ],
            [
             0.2222222222222222,
             "#7201a8"
            ],
            [
             0.3333333333333333,
             "#9c179e"
            ],
            [
             0.4444444444444444,
             "#bd3786"
            ],
            [
             0.5555555555555556,
             "#d8576b"
            ],
            [
             0.6666666666666666,
             "#ed7953"
            ],
            [
             0.7777777777777778,
             "#fb9f3a"
            ],
            [
             0.8888888888888888,
             "#fdca26"
            ],
            [
             1.0,
             "#f0f921"
            ]
           ],
           "diverging": [
            [
             0,
             "#8e0152"
            ],
            [
             0.1,
             "#c51b7d"
            ],
            [
             0.2,
             "#de77ae"
            ],
            [
             0.3,
             "#f1b6da"
            ],
            [
             0.4,
             "#fde0ef"
            ],
            [
             0.5,
             "#f7f7f7"
            ],
            [
             0.6,
             "#e6f5d0"
            ],
            [
             0.7,
             "#b8e186"
            ],
            [
             0.8,
             "#7fbc41"
            ],
            [
             0.9,
             "#4d9221"
            ],
            [
             1,
             "#276419"
            ]
           ]
          },
          "xaxis": {
           "gridcolor": "white",
           "linecolor": "white",
           "ticks": "",
           "title": {
            "standoff": 15
           },
           "zerolinecolor": "white",
           "automargin": true,
           "zerolinewidth": 2
          },
          "yaxis": {
           "gridcolor": "white",
           "linecolor": "white",
           "ticks": "",
           "title": {
            "standoff": 15
           },
           "zerolinecolor": "white",
           "automargin": true,
           "zerolinewidth": 2
          },
          "scene": {
           "xaxis": {
            "backgroundcolor": "#E5ECF6",
            "gridcolor": "white",
            "linecolor": "white",
            "showbackground": true,
            "ticks": "",
            "zerolinecolor": "white",
            "gridwidth": 2
           },
           "yaxis": {
            "backgroundcolor": "#E5ECF6",
            "gridcolor": "white",
            "linecolor": "white",
            "showbackground": true,
            "ticks": "",
            "zerolinecolor": "white",
            "gridwidth": 2
           },
           "zaxis": {
            "backgroundcolor": "#E5ECF6",
            "gridcolor": "white",
            "linecolor": "white",
            "showbackground": true,
            "ticks": "",
            "zerolinecolor": "white",
            "gridwidth": 2
           }
          },
          "shapedefaults": {
           "line": {
            "color": "#2a3f5f"
           }
          },
          "annotationdefaults": {
           "arrowcolor": "#2a3f5f",
           "arrowhead": 0,
           "arrowwidth": 1
          },
          "geo": {
           "bgcolor": "white",
           "landcolor": "#E5ECF6",
           "subunitcolor": "white",
           "showland": true,
           "showlakes": true,
           "lakecolor": "white"
          },
          "title": {
           "x": 0.05
          },
          "mapbox": {
           "style": "light"
          }
         }
        },
        "xaxis": {
         "anchor": "y",
         "domain": [
          0.0,
          1.0
         ],
         "title": {
          "text": "Time [h]"
         }
        },
        "yaxis": {
         "anchor": "x",
         "domain": [
          0.0,
          1.0
         ],
         "range": [
          -0.1,
          1
         ],
         "title": {
          "text": "Conversion [%]"
         }
        },
        "legend": {
         "tracegroupgap": 0
        },
        "title": {
         "text": "Kinetic Curve Fit for ['145', '90', '253']"
        }
       },
       "config": {
        "plotlyServerURL": "https://plot.ly"
       }
      },
      "text/html": "<div>                            <div id=\"8b092532-ba28-47a6-9120-dca53a25c752\" class=\"plotly-graph-div\" style=\"height:525px; width:100%;\"></div>            <script type=\"text/javascript\">                require([\"plotly\"], function(Plotly) {                    window.PLOTLYENV=window.PLOTLYENV || {};                                    if (document.getElementById(\"8b092532-ba28-47a6-9120-dca53a25c752\")) {                    Plotly.newPlot(                        \"8b092532-ba28-47a6-9120-dca53a25c752\",                        [{\"hovertemplate\":\"\\u003cextra\\u003e\\u003c\\u002fextra\\u003e\",\"legendgroup\":\"\",\"line\":{\"color\":\"#636efa\",\"dash\":\"solid\"},\"marker\":{\"symbol\":\"circle\"},\"mode\":\"lines\",\"name\":\"\",\"orientation\":\"v\",\"showlegend\":false,\"xaxis\":\"x\",\"yaxis\":\"y\",\"type\":\"scatter\"},{\"legendgroup\":\"90\",\"marker\":{\"color\":\"#FF97FF\"},\"mode\":\"lines+markers\",\"name\":\"90\",\"x\":[0.0,1.2513888888888889,2.2416666666666667,4.273611111111111,8.338888888888889,15.381944444444445],\"y\":[0.0,0.012452830188679265,0.024150943396226476,0.021132075471698153,0.01886792452830177,0.02981132075471693],\"type\":\"scatter\"},{\"legendgroup\":\"90\",\"line\":{\"dash\":\"dot\"},\"marker\":{\"color\":\"#FF97FF\"},\"name\":\"neg_growth fit\",\"opacity\":1,\"showlegend\":false,\"x\":[-1.0,-0.8232323232323232,-0.6464646464646464,-0.4696969696969697,-0.29292929292929293,-0.11616161616161613,0.06060606060606055,0.23737373737373746,0.41414141414141414,0.5909090909090908,0.7676767676767677,0.9444444444444444,1.121212121212121,1.297979797979798,1.474747474747475,1.6515151515151514,1.8282828282828283,2.005050505050505,2.1818181818181817,2.3585858585858586,2.5353535353535355,2.712121212121212,2.888888888888889,3.0656565656565657,3.242424242424242,3.4191919191919196,3.595959595959596,3.7727272727272725,3.94949494949495,4.126262626262626,4.303030303030303,4.47979797979798,4.656565656565657,4.833333333333333,5.01010101010101,5.186868686868687,5.363636363636363,5.540404040404041,5.717171717171717,5.893939393939394,6.070707070707071,6.247474747474747,6.424242424242424,6.601010101010101,6.777777777777778,6.954545454545454,7.1313131313131315,7.308080808080808,7.484848484848484,7.661616161616161,7.838383838383839,8.015151515151516,8.191919191919192,8.368686868686869,8.545454545454545,8.722222222222221,8.8989898989899,9.075757575757576,9.252525252525253,9.429292929292929,9.606060606060606,9.782828282828282,9.95959595959596,10.136363636363637,10.313131313131313,10.48989898989899,10.666666666666666,10.843434343434344,11.02020202020202,11.196969696969697,11.373737373737374,11.55050505050505,11.727272727272727,11.904040404040405,12.080808080808081,12.257575757575758,12.434343434343434,12.61111111111111,12.787878787878787,12.964646464646465,13.141414141414142,13.318181818181818,13.494949494949495,13.671717171717171,13.848484848484848,14.025252525252526,14.202020202020202,14.378787878787879,14.555555555555555,14.732323232323232,14.909090909090908,15.085858585858585,15.262626262626263,15.439393939393938,15.616161616161616,15.792929292929294,15.969696969696969,16.146464646464647,16.32323232323232,16.5],\"y\":[-0.028461837557025735,-0.021699828933287466,-0.015805890812127407,-0.010668584945034452,-0.006190778929847927,-0.002287809702713558,0.0011141172088798426,0.004079322937729671,0.006663871413606716,0.008916629378818602,0.01088019032464434,0.012591679817750811,0.014083457443110963,0.015383728635244266,0.016517077965834733,0.01750493397073664,0.018365974304975295,0.01911647888611557,0.01977063770297352,0.020340819109491835,0.02083780367648239,0.021270988022732824,0.021648562479365762,0.021977665946597797,0.022264520870815933,0.022514550894018874,0.022732483400052215,0.02292243889650642,0.023088008922244784,0.02323232395357955,0.023358112593016418,0.02346775315966449,0.023563318656745356,0.02364661596641385,0.023719220012957315,0.023782503540306088,0.02383766306686644,0.02388574150841085,0.023927647896762647,0.023964174567101357,0.02399601213885372,0.02402376257341804,0.02404795055560771,0.02406903341400591,0.024087409767798173,0.024103427063570902,0.024117388144575938,0.024129556976668125,0.0241401636391776,0.024149408675080596,0.024157466882718623,0.02416449062075694,0.024170612688870215,0.024175948838621116,0.024180599962005767,0.024184653999045406,0.024188187600491674,0.02419126757708266,0.02419395216275121,0.024196292115669316,0.024198331677946317,0.024200109412126178,0.02420165893029969,0.024203009529617216,0.024204186746217625,0.024205212838046854,0.02420610720569479,0.024206886759207333,0.02420756623780914,0.02420815848858203,0.02420867470936817,0.024209124660490633,0.024209516849294423,0.024209858690997083,0.024210156648890188,0.02421041635654252,0.024210642724315407,0.02421084003220427,0.024211012010761604,0.024211161911631522,0.024211292569029458,0.024211406453329427,0.024211505717772044,0.0242115922391764,0.0242116676534256,0.02421173338639682,0.024211790680920744,0.02421184062028011,0.024211884148691607,0.024211922089158434,0.024211955159031042,0.02421198398357027,0.02421200910776931,0.024212031006658048,0.024212050094284565,0.024212066731543677,0.024212081233000445,0.024212093872837747,0.024212104890040338,0.024212114492913384],\"type\":\"scatter\"},{\"legendgroup\":\"90\",\"line\":{\"dash\":\"dash\"},\"marker\":{\"color\":\"#FF97FF\"},\"name\":\"neg_growth_derivative\",\"opacity\":0.3,\"showlegend\":false,\"x\":[-1.0,-0.8232323232323232,-0.6464646464646464,-0.4696969696969697,-0.29292929292929293,-0.11616161616161613,0.06060606060606055,0.23737373737373746,0.41414141414141414,0.5909090909090908,0.7676767676767677,0.9444444444444444,1.121212121212121,1.297979797979798,1.474747474747475,1.6515151515151514,1.8282828282828283,2.005050505050505,2.1818181818181817,2.3585858585858586,2.5353535353535355,2.712121212121212,2.888888888888889,3.0656565656565657,3.242424242424242,3.4191919191919196,3.595959595959596,3.7727272727272725,3.94949494949495,4.126262626262626,4.303030303030303,4.47979797979798,4.656565656565657,4.833333333333333,5.01010101010101,5.186868686868687,5.363636363636363,5.540404040404041,5.717171717171717,5.893939393939394,6.070707070707071,6.247474747474747,6.424242424242424,6.601010101010101,6.777777777777778,6.954545454545454,7.1313131313131315,7.308080808080808,7.484848484848484,7.661616161616161,7.838383838383839,8.015151515151516,8.191919191919192,8.368686868686869,8.545454545454545,8.722222222222221,8.8989898989899,9.075757575757576,9.252525252525253,9.429292929292929,9.606060606060606,9.782828282828282,9.95959595959596,10.136363636363637,10.313131313131313,10.48989898989899,10.666666666666666,10.843434343434344,11.02020202020202,11.196969696969697,11.373737373737374,11.55050505050505,11.727272727272727,11.904040404040405,12.080808080808081,12.257575757575758,12.434343434343434,12.61111111111111,12.787878787878787,12.964646464646465,13.141414141414142,13.318181818181818,13.494949494949495,13.671717171717171,13.848484848484848,14.025252525252526,14.202020202020202,14.378787878787879,14.555555555555555,14.732323232323232,14.909090909090908,15.085858585858585,15.262626262626263,15.439393939393938,15.616161616161616,15.792929292929294,15.969696969696969,16.146464646464647,16.32323232323232,16.5],\"y\":[0.04094174918700579,0.03568586639081568,0.031104705718517006,0.027111649952389738,0.023631201329879017,0.020597554087410055,0.017953350253393768,0.0156485951658721,0.013639712210207988,0.011888718904495266,0.01036250875471718,0.009032225301498886,0.007872716523390109,0.006862059280936472,0.005981144810077529,0.005213317427685535,0.004544059618154843,0.003960717546890766,0.003452261810908717,0.0030090789029918745,0.0026227894465650067,0.0022860897646030756,0.0019926137870760305,0.0017368126859773003,0.0015138499621635839,0.0013195100003850588,0.0011501183635317476,0.0010024723190782446,0.0008737802841719194,0.0007616090444368357,0.000663837748545335,0.0005786178087204781,0.0005043379489975236,0.00043959374040266486,0.0003831610470425939,0.00033397288104306883,0.00029109922872668414,0.0002537294665980456,0.00022115703467072548,0.00019276607735053353,0.000168019799290746,0.00014645031606036593,0.0001276498077293106,0.00011126280810902084,9.697948385912278e-05,8.452977638643049e-05,7.367829577562538e-05,6.421987020980661e-05,5.5975666732628084e-05,4.878981000624608e-05,4.252643513503755e-05,3.7067118832047795e-05,3.2308640358550456e-05,2.816102990221232e-05,2.454586749403145e-05,2.139480030122115e-05,1.8648250262103577e-05,1.625428762792415e-05,1.416764911334289e-05,1.2348882091514955e-05,1.0763598652829508e-05,9.38182542359834e-06,8.17743685154388e-06,7.127661243065445e-06,6.212650212799339e-06,5.415103404941835e-06,4.719941390841637e-06,4.114020558249956e-06,3.5858846015639336e-06,3.125547914423451e-06,2.7243067892079227e-06,2.374574853731989e-06,2.0697396336980402e-06,1.8040375288940032e-06,1.572444839278174e-06,1.3705827805524794e-06,1.1946346933284355e-06,1.0412738805376247e-06,9.076007086894414e-07,7.910877837330058e-07,6.895321649486947e-07,6.010137133647108e-07,5.238587871811841e-07,4.566085977815461e-07,3.9799162802994146e-07,3.468995913600915e-07,3.0236647710776875e-07,2.6355028589140204e-07,2.2971710970685277e-07,2.002272557344688e-07,1.745231514975851e-07,1.5211880269208342e-07,1.325906043634171e-07,1.1556933169558231e-07,1.0073315897976715e-07,8.780157477047109e-08,7.653007818133709e-08,6.670555604215996e-08,5.8142253511755254e-08,5.067826196199634e-08],\"type\":\"scatter\"},{\"legendgroup\":\"90\",\"marker\":{\"color\":\"#ffb5ff\"},\"mode\":\"lines+markers\",\"name\":\"Mn of 90\",\"x\":[1.2513888888888889,2.2416666666666667,4.273611111111111,6.2375,8.338888888888889,10.306944444444444,15.381944444444445],\"y\":[0.0027,0.0028,0.0029,0.0032,0.0039,0.0038,0.0035],\"type\":\"scatter\"},{\"legendgroup\":\"90\",\"marker\":{\"color\":\"#c379c3\"},\"mode\":\"lines+markers\",\"name\":\"Mw of 90\",\"opacity\":0.5,\"x\":[1.2513888888888889,2.2416666666666667,4.273611111111111,6.2375,8.338888888888889,10.306944444444444,15.381944444444445],\"y\":[0.0029,0.0034,0.0033,0.0037,0.0044,0.0046,0.0053],\"type\":\"scatter\"},{\"legendgroup\":\"145\",\"marker\":{\"color\":\"#AB63FA\"},\"mode\":\"lines+markers\",\"name\":\"145\",\"x\":[0.0,1.3736111111111111,2.3694444444444445,4.409722222222222,8.501388888888888,15.568055555555556],\"y\":[0.0,0.4283204497540408,0.6370344342937456,0.8341531974701335,0.9307800421644413,0.9581869290231905],\"type\":\"scatter\"},{\"legendgroup\":\"145\",\"line\":{\"dash\":\"dot\"},\"marker\":{\"color\":\"#AB63FA\"},\"name\":\"neg_growth fit\",\"opacity\":1,\"showlegend\":false,\"x\":[-1.0,-0.8232323232323232,-0.6464646464646464,-0.4696969696969697,-0.29292929292929293,-0.11616161616161613,0.06060606060606055,0.23737373737373746,0.41414141414141414,0.5909090909090908,0.7676767676767677,0.9444444444444444,1.121212121212121,1.297979797979798,1.474747474747475,1.6515151515151514,1.8282828282828283,2.005050505050505,2.1818181818181817,2.3585858585858586,2.5353535353535355,2.712121212121212,2.888888888888889,3.0656565656565657,3.242424242424242,3.4191919191919196,3.595959595959596,3.7727272727272725,3.94949494949495,4.126262626262626,4.303030303030303,4.47979797979798,4.656565656565657,4.833333333333333,5.01010101010101,5.186868686868687,5.363636363636363,5.540404040404041,5.717171717171717,5.893939393939394,6.070707070707071,6.247474747474747,6.424242424242424,6.601010101010101,6.777777777777778,6.954545454545454,7.1313131313131315,7.308080808080808,7.484848484848484,7.661616161616161,7.838383838383839,8.015151515151516,8.191919191919192,8.368686868686869,8.545454545454545,8.722222222222221,8.8989898989899,9.075757575757576,9.252525252525253,9.429292929292929,9.606060606060606,9.782828282828282,9.95959595959596,10.136363636363637,10.313131313131313,10.48989898989899,10.666666666666666,10.843434343434344,11.02020202020202,11.196969696969697,11.373737373737374,11.55050505050505,11.727272727272727,11.904040404040405,12.080808080808081,12.257575757575758,12.434343434343434,12.61111111111111,12.787878787878787,12.964646464646465,13.141414141414142,13.318181818181818,13.494949494949495,13.671717171717171,13.848484848484848,14.025252525252526,14.202020202020202,14.378787878787879,14.555555555555555,14.732323232323232,14.909090909090908,15.085858585858585,15.262626262626263,15.439393939393938,15.616161616161616,15.792929292929294,15.969696969696969,16.146464646464647,16.32323232323232,16.5],\"y\":[-0.5451545861582507,-0.430104586049953,-0.3238592086668,-0.22574464800045502,-0.13513866351574697,-0.051466633913935425,0.025802087103802704,0.09715753618433752,0.16305224812496763,0.2239041258398419,0.2800990906916847,0.3319935299971779,0.37991655722802786,0.4241720992418652,0.46504082378015427,0.5027819194572628,0.5376347395293499,0.5698203198678148,0.5995427807642696,0.626990621457249,0.6523379155905235,0.6757454151845829,0.6973615701226609,0.7173234696168542,0.7357577116251007,0.7527812057328359,0.7685019145911903,0.7830195386139135,0.796426148275357,0.8088067680195367,0.8202399154834177,0.8307980994541595,0.8405482797183601,0.8495522917196523,0.8578672387178203,0.8655458539365053,0.8726368349962295,0.8791851527537089,0.8852323365061063,0.8908167373689828,0.8959737714982886,0.9007361446988983,0.905134059844156,0.90919540842188,0.9129459474216075,0.9164094626848946,0.9196079197546372,0.9225616031800932,0.9252892451610802,0.9278081443472019,0.9301342755455305,0.9322823910325058,0.9342661141125705,0.9360980255168883,0.9377897431900828,0.9393519959710052,0.9407946916348099,0.9421269797278624,0.9433573095939746,0.9444934839599702,0.9455427084204191,0.94651163713537,0.9474064150308973,0.948232716770097,0.9489957827416832,0.9497004522944265,0.9503511944282041,0.9509521361363072,0.9515070885787461,0.9520195712525499,0.9524928343123443,0.9529298791827662,0.9533334775934367,0.9537061891572138,0.954050377603205,0.9543682257674887,0.9546617494366157,0.954932810131687,0.9551831269140812,0.9554142872877083,0.9556277572669254,0.9558248906739705,0.9560069377248753,0.9561750529583103,0.9563303025576438,0.9564736711126569,0.9566060678637903,0.9567283324685295,0.9568412403264945,0.9569455074970095,0.9570417952403348,0.957130714211368,0.9572128283324025,0.9572886583695134,0.9573586852352435,0.9574233530385414,0.9574830719012922,0.9575382205593007,0.9575891487642268,0.957636179501704],\"type\":\"scatter\"},{\"legendgroup\":\"145\",\"line\":{\"dash\":\"dash\"},\"marker\":{\"color\":\"#AB63FA\"},\"name\":\"neg_growth_derivative\",\"opacity\":0.3,\"showlegend\":false,\"x\":[-1.0,-0.8232323232323232,-0.6464646464646464,-0.4696969696969697,-0.29292929292929293,-0.11616161616161613,0.06060606060606055,0.23737373737373746,0.41414141414141414,0.5909090909090908,0.7676767676767677,0.9444444444444444,1.121212121212121,1.297979797979798,1.474747474747475,1.6515151515151514,1.8282828282828283,2.005050505050505,2.1818181818181817,2.3585858585858586,2.5353535353535355,2.712121212121212,2.888888888888889,3.0656565656565657,3.242424242424242,3.4191919191919196,3.595959595959596,3.7727272727272725,3.94949494949495,4.126262626262626,4.303030303030303,4.47979797979798,4.656565656565657,4.833333333333333,5.01010101010101,5.186868686868687,5.363636363636363,5.540404040404041,5.717171717171717,5.893939393939394,6.070707070707071,6.247474747474747,6.424242424242424,6.601010101010101,6.777777777777778,6.954545454545454,7.1313131313131315,7.308080808080808,7.484848484848484,7.661616161616161,7.838383838383839,8.015151515151516,8.191919191919192,8.368686868686869,8.545454545454545,8.722222222222221,8.8989898989899,9.075757575757576,9.252525252525253,9.429292929292929,9.606060606060606,9.782828282828282,9.95959595959596,10.136363636363637,10.313131313131313,10.48989898989899,10.666666666666666,10.843434343434344,11.02020202020202,11.196969696969697,11.373737373737374,11.55050505050505,11.727272727272727,11.904040404040405,12.080808080808081,12.257575757575758,12.434343434343434,12.61111111111111,12.787878787878787,12.964646464646465,13.141414141414142,13.318181818181818,13.494949494949495,13.671717171717171,13.848484848484848,14.025252525252526,14.202020202020202,14.378787878787879,14.555555555555555,14.732323232323232,14.909090909090908,15.085858585858585,15.262626262626263,15.439393939393938,15.616161616161616,15.792929292929294,15.969696969696969,16.146464646464647,16.32323232323232,16.5],\"y\":[0.67710709418258,0.6252889933291689,0.5774364624707019,0.533246021836099,0.49243741655551043,0.45475183928966945,0.4199502888790453,0.38781205460338175,0.35813331643882806,0.3307258524355197,0.305415845017826,0.2820427786368436,0.2604584217840717,0.24052588691021906,0.22211876228716917,0.2051203103073886,0.18942272713640912,0.1749264590231173,0.1615395709319023,0.14917716349254243,0.13776083457013716,0.1272181820403727,0.11748234461673158,0.10849157781758258,0.10018886238394208,0.09252154266450081,0.08544099267456154,0.07890230771103915,0.07286401956775314,0.06728783354491306,0.062138385584916286,0.05738301799421855,0.05299157232891037,0.04893619813048279,0.045191176298789944,0.04173275598204232,0.03853900394939097,0.03558966549082645,0.032866035962222616,0.030350842160866486,0.028028132779160223,0.025883177241754943,0.023902372284543387,0.022073155683037398,0.02038392658299749,0.018823971928052657,0.017383398517716184,0.01605307026491078,0.014824550255091279,0.01369004723950532,0.012642366223253307,0.011674862834778026,0.010781401187396228,0.009956314965630935,0.009194371489554647,0.008490738529240392,0.007840953658858441,0.007240895956063075,0.006686759867187362,0.006175031072499789,0.005702464198460422,0.005266062235628364,0.004863057531689242,0.004490894239060877,0.004147212105760247,0.003829831506733729,0.0035367396207196277,0.0032660776649769407,0.0030161291069232673,0.0027853087779203113,0.002572152820166828,0.002375309402942416,0.002193530149324765,0.002025662219008768,0.0018706409970169083,0.001727483341932866,0.0015952813508387845,0.0014731966014135483,0.0013604548346755905,0.0012563410446482742,0.00116019494380664,0.0010714067755474264,0.000989413447125181,0.0009136949585295961,0.0008437711046560858,0.0007791984298548469,0.0007195674155442058,0.0006644998830521538,0.0006136465952149544,0.0005666850415221995,0.0005233173927617527,0.0004832686121929872,0.000446284711269403,0.0004121311388484687,0.00038059129367307224,0.00035146515069078675,0.00032456799249908205,0.00029972923787133666,0.00027679135993419484,0.00025560888713535655],\"type\":\"scatter\"},{\"legendgroup\":\"145\",\"marker\":{\"color\":\"#c981ff\"},\"mode\":\"lines+markers\",\"name\":\"Mn of 145\",\"x\":[0.0,1.3736111111111111,2.3694444444444445,4.409722222222222,6.358333333333333,8.501388888888888,10.466666666666667,15.568055555555556],\"y\":[0.0029,0.094,0.086,0.135,0.096,0.1,0.123,0.111],\"type\":\"scatter\"},{\"legendgroup\":\"145\",\"marker\":{\"color\":\"#8d45c3\"},\"mode\":\"lines+markers\",\"name\":\"Mw of 145\",\"opacity\":0.5,\"x\":[0.0,1.3736111111111111,2.3694444444444445,4.409722222222222,6.358333333333333,8.501388888888888,10.466666666666667,15.568055555555556],\"y\":[0.0033,0.117,0.157,0.2,0.21,0.217,0.22,0.223],\"type\":\"scatter\"},{\"legendgroup\":\"253\",\"marker\":{\"color\":\"#636EFA\"},\"mode\":\"lines+markers\",\"name\":\"253\",\"x\":[0.0,2.011111111111111,4.018055555555556,8.016666666666667,15.016666666666667],\"y\":[0.0,0.05343511450381688,0.09541984732824427,0.1717557251908397,0.30534351145038163],\"type\":\"scatter\"},{\"legendgroup\":\"253\",\"line\":{\"dash\":\"dot\"},\"marker\":{\"color\":\"#636EFA\"},\"name\":\"neg_growth fit\",\"opacity\":1,\"showlegend\":false,\"x\":[-1.0,-0.8232323232323232,-0.6464646464646464,-0.4696969696969697,-0.29292929292929293,-0.11616161616161613,0.06060606060606055,0.23737373737373746,0.41414141414141414,0.5909090909090908,0.7676767676767677,0.9444444444444444,1.121212121212121,1.297979797979798,1.474747474747475,1.6515151515151514,1.8282828282828283,2.005050505050505,2.1818181818181817,2.3585858585858586,2.5353535353535355,2.712121212121212,2.888888888888889,3.0656565656565657,3.242424242424242,3.4191919191919196,3.595959595959596,3.7727272727272725,3.94949494949495,4.126262626262626,4.303030303030303,4.47979797979798,4.656565656565657,4.833333333333333,5.01010101010101,5.186868686868687,5.363636363636363,5.540404040404041,5.717171717171717,5.893939393939394,6.070707070707071,6.247474747474747,6.424242424242424,6.601010101010101,6.777777777777778,6.954545454545454,7.1313131313131315,7.308080808080808,7.484848484848484,7.661616161616161,7.838383838383839,8.015151515151516,8.191919191919192,8.368686868686869,8.545454545454545,8.722222222222221,8.8989898989899,9.075757575757576,9.252525252525253,9.429292929292929,9.606060606060606,9.782828282828282,9.95959595959596,10.136363636363637,10.313131313131313,10.48989898989899,10.666666666666666,10.843434343434344,11.02020202020202,11.196969696969697,11.373737373737374,11.55050505050505,11.727272727272727,11.904040404040405,12.080808080808081,12.257575757575758,12.434343434343434,12.61111111111111,12.787878787878787,12.964646464646465,13.141414141414142,13.318181818181818,13.494949494949495,13.671717171717171,13.848484848484848,14.025252525252526,14.202020202020202,14.378787878787879,14.555555555555555,14.732323232323232,14.909090909090908,15.085858585858585,15.262626262626263,15.439393939393938,15.616161616161616,15.792929292929294,15.969696969696969,16.146464646464647,16.32323232323232,16.5],\"y\":[-0.02467348258429251,-0.02026624672865781,-0.01587877079939942,-0.011510966202508657,-0.007162744741190287,-0.002834018614080627,0.0014752995865244447,0.005765296876435415,0.010036059881325174,0.014287674838479193,0.018520227598536346,0.02273380362722217,0.026928488007075545,0.031104365439165674,0.03526152024480322,0.03940003636724227,0.043519997373376314,0.04762148645542441,0.05170458643261206,0.05576937975284326,0.059815948494365154,0.06384437436742524,0.06785473871592193,0.07184712251904657,0.07582160639291871,0.07977827059221401,0.08371719501178476,0.08763845918827312,0.09154214230171724,0.09542832317715004,0.09929708028619089,0.10314849174863022,0.1069826353340067,0.11079958846317788,0.11459942820988342,0.11838223130230162,0.12214807412459798,0.12589703271846872,0.12962918278467522,0.13334459968457324,0.13704335844163457,0.14072553374296154,0.14439119994079566,0.14804043105401865,0.15167330076964708,0.15528988244432054,0.15889024910578273,0.1624744734543557,0.16604262786440882,0.16959478438581893,0.17313101474542641,0.17665139034848268,0.18015598228009247,0.18364486130664895,0.18711809787726286,0.1905757621251853,0.194017923869223,0.19744465261514926,0.2008560175571067,0.20425208757900462,0.2076329312559101,0.21099861685543259,0.21434921233910245,0.2176847853637431,0.22100540328283724,0.22431113314788712,0.22760204170976817,0.23087819542007723,0.23413966043247358,0.237386502604016,0.2406187874964914,0.24383658037773934,0.24703994622296974,0.2502289497160749,0.2534036552509357,0.25656412693272185,0.259710428579186,0.26284262372195333,0.265960775607803,0.2690649471999467,0.27215520117929876,0.275231599945743,0.27829420561939155,0.2813430800418404,0.28437828477741717,0.28739988111442494,0.2904079300663792,0.2934024923732404,0.29638362850264016,0.29935139865110233,0.30230586274525834,0.30524708044305765,0.30817511113497187,0.3110900139451947,0.31399184773283517,0.3168806710931061,0.319756542358508,0.3226195196000063,0.325469660628204,0.32830702299450953],\"type\":\"scatter\"},{\"legendgroup\":\"253\",\"line\":{\"dash\":\"dash\"},\"marker\":{\"color\":\"#636EFA\"},\"name\":\"neg_growth_derivative\",\"opacity\":0.3,\"showlegend\":false,\"x\":[-1.0,-0.8232323232323232,-0.6464646464646464,-0.4696969696969697,-0.29292929292929293,-0.11616161616161613,0.06060606060606055,0.23737373737373746,0.41414141414141414,0.5909090909090908,0.7676767676767677,0.9444444444444444,1.121212121212121,1.297979797979798,1.474747474747475,1.6515151515151514,1.8282828282828283,2.005050505050505,2.1818181818181817,2.3585858585858586,2.5353535353535355,2.712121212121212,2.888888888888889,3.0656565656565657,3.242424242424242,3.4191919191919196,3.595959595959596,3.7727272727272725,3.94949494949495,4.126262626262626,4.303030303030303,4.47979797979798,4.656565656565657,4.833333333333333,5.01010101010101,5.186868686868687,5.363636363636363,5.540404040404041,5.717171717171717,5.893939393939394,6.070707070707071,6.247474747474747,6.424242424242424,6.601010101010101,6.777777777777778,6.954545454545454,7.1313131313131315,7.308080808080808,7.484848484848484,7.661616161616161,7.838383838383839,8.015151515151516,8.191919191919192,8.368686868686869,8.545454545454545,8.722222222222221,8.8989898989899,9.075757575757576,9.252525252525253,9.429292929292929,9.606060606060606,9.782828282828282,9.95959595959596,10.136363636363637,10.313131313131313,10.48989898989899,10.666666666666666,10.843434343434344,11.02020202020202,11.196969696969697,11.373737373737374,11.55050505050505,11.727272727272727,11.904040404040405,12.080808080808081,12.257575757575758,12.434343434343434,12.61111111111111,12.787878787878787,12.964646464646465,13.141414141414142,13.318181818181818,13.494949494949495,13.671717171717171,13.848484848484848,14.025252525252526,14.202020202020202,14.378787878787879,14.555555555555555,14.732323232323232,14.909090909090908,15.085858585858585,15.262626262626263,15.439393939393938,15.616161616161616,15.792929292929294,15.969696969696969,16.146464646464647,16.32323232323232,16.5],\"y\":[0.024988422830407416,0.024876386758012313,0.02476485300149377,0.024653819308708923,0.024543283437612452,0.02443324315621127,0.024323696242519493,0.024214640484513543,0.024106073680087495,0.02399799363700861,0.023890398172873063,0.023783285115061885,0.02367665230069707,0.023570497576597935,0.023464818799237612,0.02335961383469979,0.02325488055863559,0.023150616856220718,0.023046820622112718,0.02294348976040848,0.022840622184601922,0.022738215817541846,0.02263626859139,0.022534778447579333,0.022433743336772408,0.022333161218820043,0.02223303006272009,0.022133347846576456,0.022034112557558237,0.021935322191859116,0.02183697475465686,0.02173906826007307,0.021641600731133078,0.02154457019972601,0.02144797470656505,0.021351812301147896,0.02125608104171735,0.02116077899522212,0.021065904237277798,0.020971454852127973,0.020877428932605576,0.020783824580094357,0.020690639904490542,0.020597873024164683,0.020505522065923647,0.0204135851649728,0.020322060464878347,0.02023094611752986,0.020140240283102937,0.02004994113002207,0.019960046834923657,0.019870555582619177,0.019781465566058542,0.019692774986293612,0.019604482052441863,0.01951658498165022,0.01942908199905908,0.019341971337766443,0.01925525123879225,0.01916891995104287,0.019082975731275726,0.018997416844064106,0.01891224156176212,0.0188274481644698,0.0187430349399984,0.01865900018383579,0.01857534219911206,0.018492059296565243,0.018409149794507224,0.018326612018789747,0.018244444302770654,0.018162644987280194,0.01808121242058754,0.018000144958367433,0.01791944096366698,0.01783909880687259,0.017759116865677087,0.017679493525046927,0.017600227177189613,0.0175213162215212,0.017442759064634012,0.01736455412026443,0.01728669980926089,0.017209194559551975,0.01713203680611469,0.017055224990942836,0.016978757563015583,0.016902632978266118,0.01682684969955049,0.016751406196616553,0.016676300946073086,0.01660153243135902,0.01652709914271281,0.016452999577141962,0.016379232238392667,0.01630579563691962,0.0162326882898559,0.01615990872098306,0.016087455460701297,0.016015327045999797],\"type\":\"scatter\"},{\"legendgroup\":\"253\",\"marker\":{\"color\":\"#818cff\"},\"mode\":\"lines+markers\",\"name\":\"Mn of 253\",\"x\":[1.0055555555555555,2.011111111111111,4.018055555555556,6.008333333333334,8.016666666666667,10.011111111111111,15.016666666666667],\"y\":[0.0026,0.0031,0.0051,0.007,0.0088,0.0092,0.0129],\"type\":\"scatter\"},{\"legendgroup\":\"253\",\"marker\":{\"color\":\"#4550c3\"},\"mode\":\"lines+markers\",\"name\":\"Mw of 253\",\"opacity\":0.5,\"x\":[1.0055555555555555,2.011111111111111,4.018055555555556,6.008333333333334,8.016666666666667,10.011111111111111,15.016666666666667],\"y\":[0.0029,0.0034,0.0058,0.0083,0.0108,0.012,0.017],\"type\":\"scatter\"}],                        {\"template\":{\"data\":{\"histogram2dcontour\":[{\"type\":\"histogram2dcontour\",\"colorbar\":{\"outlinewidth\":0,\"ticks\":\"\"},\"colorscale\":[[0.0,\"#0d0887\"],[0.1111111111111111,\"#46039f\"],[0.2222222222222222,\"#7201a8\"],[0.3333333333333333,\"#9c179e\"],[0.4444444444444444,\"#bd3786\"],[0.5555555555555556,\"#d8576b\"],[0.6666666666666666,\"#ed7953\"],[0.7777777777777778,\"#fb9f3a\"],[0.8888888888888888,\"#fdca26\"],[1.0,\"#f0f921\"]]}],\"choropleth\":[{\"type\":\"choropleth\",\"colorbar\":{\"outlinewidth\":0,\"ticks\":\"\"}}],\"histogram2d\":[{\"type\":\"histogram2d\",\"colorbar\":{\"outlinewidth\":0,\"ticks\":\"\"},\"colorscale\":[[0.0,\"#0d0887\"],[0.1111111111111111,\"#46039f\"],[0.2222222222222222,\"#7201a8\"],[0.3333333333333333,\"#9c179e\"],[0.4444444444444444,\"#bd3786\"],[0.5555555555555556,\"#d8576b\"],[0.6666666666666666,\"#ed7953\"],[0.7777777777777778,\"#fb9f3a\"],[0.8888888888888888,\"#fdca26\"],[1.0,\"#f0f921\"]]}],\"heatmap\":[{\"type\":\"heatmap\",\"colorbar\":{\"outlinewidth\":0,\"ticks\":\"\"},\"colorscale\":[[0.0,\"#0d0887\"],[0.1111111111111111,\"#46039f\"],[0.2222222222222222,\"#7201a8\"],[0.3333333333333333,\"#9c179e\"],[0.4444444444444444,\"#bd3786\"],[0.5555555555555556,\"#d8576b\"],[0.6666666666666666,\"#ed7953\"],[0.7777777777777778,\"#fb9f3a\"],[0.8888888888888888,\"#fdca26\"],[1.0,\"#f0f921\"]]}],\"heatmapgl\":[{\"type\":\"heatmapgl\",\"colorbar\":{\"outlinewidth\":0,\"ticks\":\"\"},\"colorscale\":[[0.0,\"#0d0887\"],[0.1111111111111111,\"#46039f\"],[0.2222222222222222,\"#7201a8\"],[0.3333333333333333,\"#9c179e\"],[0.4444444444444444,\"#bd3786\"],[0.5555555555555556,\"#d8576b\"],[0.6666666666666666,\"#ed7953\"],[0.7777777777777778,\"#fb9f3a\"],[0.8888888888888888,\"#fdca26\"],[1.0,\"#f0f921\"]]}],\"contourcarpet\":[{\"type\":\"contourcarpet\",\"colorbar\":{\"outlinewidth\":0,\"ticks\":\"\"}}],\"contour\":[{\"type\":\"contour\",\"colorbar\":{\"outlinewidth\":0,\"ticks\":\"\"},\"colorscale\":[[0.0,\"#0d0887\"],[0.1111111111111111,\"#46039f\"],[0.2222222222222222,\"#7201a8\"],[0.3333333333333333,\"#9c179e\"],[0.4444444444444444,\"#bd3786\"],[0.5555555555555556,\"#d8576b\"],[0.6666666666666666,\"#ed7953\"],[0.7777777777777778,\"#fb9f3a\"],[0.8888888888888888,\"#fdca26\"],[1.0,\"#f0f921\"]]}],\"surface\":[{\"type\":\"surface\",\"colorbar\":{\"outlinewidth\":0,\"ticks\":\"\"},\"colorscale\":[[0.0,\"#0d0887\"],[0.1111111111111111,\"#46039f\"],[0.2222222222222222,\"#7201a8\"],[0.3333333333333333,\"#9c179e\"],[0.4444444444444444,\"#bd3786\"],[0.5555555555555556,\"#d8576b\"],[0.6666666666666666,\"#ed7953\"],[0.7777777777777778,\"#fb9f3a\"],[0.8888888888888888,\"#fdca26\"],[1.0,\"#f0f921\"]]}],\"mesh3d\":[{\"type\":\"mesh3d\",\"colorbar\":{\"outlinewidth\":0,\"ticks\":\"\"}}],\"scatter\":[{\"fillpattern\":{\"fillmode\":\"overlay\",\"size\":10,\"solidity\":0.2},\"type\":\"scatter\"}],\"parcoords\":[{\"type\":\"parcoords\",\"line\":{\"colorbar\":{\"outlinewidth\":0,\"ticks\":\"\"}}}],\"scatterpolargl\":[{\"type\":\"scatterpolargl\",\"marker\":{\"colorbar\":{\"outlinewidth\":0,\"ticks\":\"\"}}}],\"bar\":[{\"error_x\":{\"color\":\"#2a3f5f\"},\"error_y\":{\"color\":\"#2a3f5f\"},\"marker\":{\"line\":{\"color\":\"#E5ECF6\",\"width\":0.5},\"pattern\":{\"fillmode\":\"overlay\",\"size\":10,\"solidity\":0.2}},\"type\":\"bar\"}],\"scattergeo\":[{\"type\":\"scattergeo\",\"marker\":{\"colorbar\":{\"outlinewidth\":0,\"ticks\":\"\"}}}],\"scatterpolar\":[{\"type\":\"scatterpolar\",\"marker\":{\"colorbar\":{\"outlinewidth\":0,\"ticks\":\"\"}}}],\"histogram\":[{\"marker\":{\"pattern\":{\"fillmode\":\"overlay\",\"size\":10,\"solidity\":0.2}},\"type\":\"histogram\"}],\"scattergl\":[{\"type\":\"scattergl\",\"marker\":{\"colorbar\":{\"outlinewidth\":0,\"ticks\":\"\"}}}],\"scatter3d\":[{\"type\":\"scatter3d\",\"line\":{\"colorbar\":{\"outlinewidth\":0,\"ticks\":\"\"}},\"marker\":{\"colorbar\":{\"outlinewidth\":0,\"ticks\":\"\"}}}],\"scattermapbox\":[{\"type\":\"scattermapbox\",\"marker\":{\"colorbar\":{\"outlinewidth\":0,\"ticks\":\"\"}}}],\"scatterternary\":[{\"type\":\"scatterternary\",\"marker\":{\"colorbar\":{\"outlinewidth\":0,\"ticks\":\"\"}}}],\"scattercarpet\":[{\"type\":\"scattercarpet\",\"marker\":{\"colorbar\":{\"outlinewidth\":0,\"ticks\":\"\"}}}],\"carpet\":[{\"aaxis\":{\"endlinecolor\":\"#2a3f5f\",\"gridcolor\":\"white\",\"linecolor\":\"white\",\"minorgridcolor\":\"white\",\"startlinecolor\":\"#2a3f5f\"},\"baxis\":{\"endlinecolor\":\"#2a3f5f\",\"gridcolor\":\"white\",\"linecolor\":\"white\",\"minorgridcolor\":\"white\",\"startlinecolor\":\"#2a3f5f\"},\"type\":\"carpet\"}],\"table\":[{\"cells\":{\"fill\":{\"color\":\"#EBF0F8\"},\"line\":{\"color\":\"white\"}},\"header\":{\"fill\":{\"color\":\"#C8D4E3\"},\"line\":{\"color\":\"white\"}},\"type\":\"table\"}],\"barpolar\":[{\"marker\":{\"line\":{\"color\":\"#E5ECF6\",\"width\":0.5},\"pattern\":{\"fillmode\":\"overlay\",\"size\":10,\"solidity\":0.2}},\"type\":\"barpolar\"}],\"pie\":[{\"automargin\":true,\"type\":\"pie\"}]},\"layout\":{\"autotypenumbers\":\"strict\",\"colorway\":[\"#636efa\",\"#EF553B\",\"#00cc96\",\"#ab63fa\",\"#FFA15A\",\"#19d3f3\",\"#FF6692\",\"#B6E880\",\"#FF97FF\",\"#FECB52\"],\"font\":{\"color\":\"#2a3f5f\"},\"hovermode\":\"closest\",\"hoverlabel\":{\"align\":\"left\"},\"paper_bgcolor\":\"white\",\"plot_bgcolor\":\"#E5ECF6\",\"polar\":{\"bgcolor\":\"#E5ECF6\",\"angularaxis\":{\"gridcolor\":\"white\",\"linecolor\":\"white\",\"ticks\":\"\"},\"radialaxis\":{\"gridcolor\":\"white\",\"linecolor\":\"white\",\"ticks\":\"\"}},\"ternary\":{\"bgcolor\":\"#E5ECF6\",\"aaxis\":{\"gridcolor\":\"white\",\"linecolor\":\"white\",\"ticks\":\"\"},\"baxis\":{\"gridcolor\":\"white\",\"linecolor\":\"white\",\"ticks\":\"\"},\"caxis\":{\"gridcolor\":\"white\",\"linecolor\":\"white\",\"ticks\":\"\"}},\"coloraxis\":{\"colorbar\":{\"outlinewidth\":0,\"ticks\":\"\"}},\"colorscale\":{\"sequential\":[[0.0,\"#0d0887\"],[0.1111111111111111,\"#46039f\"],[0.2222222222222222,\"#7201a8\"],[0.3333333333333333,\"#9c179e\"],[0.4444444444444444,\"#bd3786\"],[0.5555555555555556,\"#d8576b\"],[0.6666666666666666,\"#ed7953\"],[0.7777777777777778,\"#fb9f3a\"],[0.8888888888888888,\"#fdca26\"],[1.0,\"#f0f921\"]],\"sequentialminus\":[[0.0,\"#0d0887\"],[0.1111111111111111,\"#46039f\"],[0.2222222222222222,\"#7201a8\"],[0.3333333333333333,\"#9c179e\"],[0.4444444444444444,\"#bd3786\"],[0.5555555555555556,\"#d8576b\"],[0.6666666666666666,\"#ed7953\"],[0.7777777777777778,\"#fb9f3a\"],[0.8888888888888888,\"#fdca26\"],[1.0,\"#f0f921\"]],\"diverging\":[[0,\"#8e0152\"],[0.1,\"#c51b7d\"],[0.2,\"#de77ae\"],[0.3,\"#f1b6da\"],[0.4,\"#fde0ef\"],[0.5,\"#f7f7f7\"],[0.6,\"#e6f5d0\"],[0.7,\"#b8e186\"],[0.8,\"#7fbc41\"],[0.9,\"#4d9221\"],[1,\"#276419\"]]},\"xaxis\":{\"gridcolor\":\"white\",\"linecolor\":\"white\",\"ticks\":\"\",\"title\":{\"standoff\":15},\"zerolinecolor\":\"white\",\"automargin\":true,\"zerolinewidth\":2},\"yaxis\":{\"gridcolor\":\"white\",\"linecolor\":\"white\",\"ticks\":\"\",\"title\":{\"standoff\":15},\"zerolinecolor\":\"white\",\"automargin\":true,\"zerolinewidth\":2},\"scene\":{\"xaxis\":{\"backgroundcolor\":\"#E5ECF6\",\"gridcolor\":\"white\",\"linecolor\":\"white\",\"showbackground\":true,\"ticks\":\"\",\"zerolinecolor\":\"white\",\"gridwidth\":2},\"yaxis\":{\"backgroundcolor\":\"#E5ECF6\",\"gridcolor\":\"white\",\"linecolor\":\"white\",\"showbackground\":true,\"ticks\":\"\",\"zerolinecolor\":\"white\",\"gridwidth\":2},\"zaxis\":{\"backgroundcolor\":\"#E5ECF6\",\"gridcolor\":\"white\",\"linecolor\":\"white\",\"showbackground\":true,\"ticks\":\"\",\"zerolinecolor\":\"white\",\"gridwidth\":2}},\"shapedefaults\":{\"line\":{\"color\":\"#2a3f5f\"}},\"annotationdefaults\":{\"arrowcolor\":\"#2a3f5f\",\"arrowhead\":0,\"arrowwidth\":1},\"geo\":{\"bgcolor\":\"white\",\"landcolor\":\"#E5ECF6\",\"subunitcolor\":\"white\",\"showland\":true,\"showlakes\":true,\"lakecolor\":\"white\"},\"title\":{\"x\":0.05},\"mapbox\":{\"style\":\"light\"}}},\"xaxis\":{\"anchor\":\"y\",\"domain\":[0.0,1.0],\"title\":{\"text\":\"Time [h]\"}},\"yaxis\":{\"anchor\":\"x\",\"domain\":[0.0,1.0],\"range\":[-0.1,1],\"title\":{\"text\":\"Conversion [%]\"}},\"legend\":{\"tracegroupgap\":0},\"title\":{\"text\":\"Kinetic Curve Fit for ['145', '90', '253']\"}},                        {\"responsive\": true}                    ).then(function(){\n                            \nvar gd = document.getElementById('8b092532-ba28-47a6-9120-dca53a25c752');\nvar x = new MutationObserver(function (mutations, observer) {{\n        var display = window.getComputedStyle(gd).display;\n        if (!display || display === 'none') {{\n            console.log([gd, 'removed!']);\n            Plotly.purge(gd);\n            observer.disconnect();\n        }}\n}});\n\n// Listen for the removal of the full notebook cells\nvar notebookContainer = gd.closest('#notebook-container');\nif (notebookContainer) {{\n    x.observe(notebookContainer, {childList: true});\n}}\n\n// Listen for the clearing of the current output cell\nvar outputEl = gd.closest('.output');\nif (outputEl) {{\n    x.observe(outputEl, {childList: true});\n}}\n\n                        })                };                });            </script>        </div>"
     },
     "metadata": {},
     "output_type": "display_data"
    }
   ],
   "source": [
    "# Some search functions:\n",
    "def search_for_exp(exp_nr: str | list) -> pd.DataFrame:\n",
    "    if type(exp_nr) == str:\n",
    "        return kinetics_df[kinetics_df['exp_nr'] == exp_nr]\n",
    "    else:\n",
    "        return kinetics_df[kinetics_df['exp_nr'].isin(exp_nr)]\n",
    "\n",
    "def plot_exp(exp_nr: str | list, plot_mn: bool=False, plot_mw: bool=False, fit_curves: tuple=(True, True)):\n",
    "    plot_data = search_for_exp(exp_nr)\n",
    "    exp_fig = px.line(title=f\"Kinetic Curve Fit for {exp_nr}\")\n",
    "    for kinetic_to_plot in plot_data.itertuples():\n",
    "        x_data, ydata = kinetic_to_plot.conv_time_data\n",
    "        marker_dict = dict(color=colors[int(kinetic_to_plot.Index)%len(colors)])\n",
    "        exp_fig.add_scatter(x=x_data, y=ydata, mode=\"lines+markers\", name=kinetic_to_plot.exp_nr, marker=marker_dict, legendgroup=str(kinetic_to_plot.exp_nr))\n",
    "        if fit_curves[0]:\n",
    "            if fit_curves[1]:\n",
    "                add_fits_to_plot(exp_fig, neg_growth, [kinetic_to_plot.fit_p1, kinetic_to_plot.fit_p2], fit_func_derivative=neg_growth_derivative, marker=marker_dict, legendgroup=str(kinetic_to_plot.exp_nr), showlegend=False)\n",
    "            else:\n",
    "                add_fits_to_plot(exp_fig, neg_growth, [kinetic_to_plot.fit_p1, kinetic_to_plot.fit_p2], marker=marker_dict, legendgroup=str(kinetic_to_plot.exp_nr), showlegend=False)\n",
    "\n",
    "        if plot_mn:\n",
    "            marker_dict[\"color\"] = color_variant(marker_dict[\"color\"], 30)\n",
    "            x2_data, y2_data = kinetic_to_plot.Mn_time_data\n",
    "            exp_fig.add_scatter(x=x2_data, y=y2_data, mode=\"lines+markers\", name=\"Mn of \" + kinetic_to_plot.exp_nr, marker=marker_dict, legendgroup=str(kinetic_to_plot.exp_nr))\n",
    "        if plot_mw:\n",
    "            marker_dict[\"color\"] = color_variant(marker_dict[\"color\"], -60)\n",
    "            x2_data, y2_data = kinetic_to_plot.Mw_time_data\n",
    "            exp_fig.add_scatter(x=x2_data, y=y2_data, mode=\"lines+markers\", name=\"Mw of \" + kinetic_to_plot.exp_nr, marker=marker_dict, legendgroup=str(kinetic_to_plot.exp_nr), opacity=0.5)\n",
    "\n",
    "    exp_fig.update_layout(yaxis=dict(range=[-0.1,1]), xaxis_title=\"Time [h]\", yaxis_title=\"Conversion [%]\")\n",
    "    exp_fig.show()\n",
    "\n",
    "def find_optimal_synthesis(monomer: str | list):\n",
    "    search_q_monomer = [x in monomer for x in kinetics_df[\"monomer\"]]\n",
    "    result_df = kinetics_df[search_q_monomer].sort_values(by=[\"score\"], ascending=False)\n",
    "    return result_df\n",
    "\n",
    "def refine_search(dataframe: pd.DataFrame, monomer: str | list = None, solvent: str | list = None, raft_agent: str | list = None):\n",
    "    len_df = len(dataframe)\n",
    "    search_q_monomer, search_q_solvent, search_q_raft_agent = [np.array([True] * len_df) for _ in range(3)]\n",
    "    if monomer:\n",
    "        search_q_monomer = dataframe[\"monomer\"].apply(lambda x: x in [*monomer])\n",
    "    if solvent:\n",
    "        search_q_solvent = dataframe[\"solvent\"].apply(lambda x: x in [*solvent])\n",
    "    if raft_agent:\n",
    "        search_q_raft_agent = dataframe[\"RAFT-Agent\"].apply(lambda x: x in [*raft_agent])\n",
    "    return dataframe[search_q_monomer & search_q_solvent & search_q_raft_agent]\n",
    "\n",
    "# search_for_exp([\"145\", \"90\", \"253\"])\n",
    "plot_exp([\"145\", \"90\", \"253\"], True, True)\n",
    "# find_optimal_synthesis([\"Styrene\", \"4-Methylstyrene\", \"Benzyl acrylate\"])\n",
    "# refine_search(kinetics_df, solvent=[\"Dimethylformamide\"], monomer=[\"Styrene\", \"4-Methylstyrene\", \"Benzyl acrylate\"], raft_agent=[\"2-Cyan-2-propylbenzodithioat\"])\n",
    "# refine_search(find_optimal_synthesis([\"Styrene\", \"4-Methylstyrene\", \"Benzyl acrylate\"]), solvent=[\"Dimethylformamide\"], raft_agent=[\"2-Cyan-2-propylbenzodithioat\"])"
   ],
   "metadata": {
    "collapsed": false,
    "pycharm": {
     "name": "#%%\n"
    }
   }
  },
  {
   "cell_type": "code",
   "execution_count": 85,
   "outputs": [
    {
     "data": {
      "text/plain": "<IPython.core.display.Markdown object>",
      "text/markdown": "<span style=\"font-family: monospace\">#636EFA <span style=\"color: #636EFA\">██████</span></span><br><span style=\"font-family: monospace\">#EF553B <span style=\"color: #EF553B\">██████</span></span><br><span style=\"font-family: monospace\">#00CC96 <span style=\"color: #00CC96\">██████</span></span><br><span style=\"font-family: monospace\">#AB63FA <span style=\"color: #AB63FA\">██████</span></span><br><span style=\"font-family: monospace\">#FFA15A <span style=\"color: #FFA15A\">██████</span></span><br><span style=\"font-family: monospace\">#19D3F3 <span style=\"color: #19D3F3\">██████</span></span><br><span style=\"font-family: monospace\">#FF6692 <span style=\"color: #FF6692\">██████</span></span><br><span style=\"font-family: monospace\">#B6E880 <span style=\"color: #B6E880\">██████</span></span><br><span style=\"font-family: monospace\">#FF97FF <span style=\"color: #FF97FF\">██████</span></span><br><span style=\"font-family: monospace\">#FECB52 <span style=\"color: #FECB52\">██████</span></span>"
     },
     "metadata": {},
     "output_type": "display_data"
    }
   ],
   "source": [
    "from IPython.display import Markdown, display\n",
    "def display_color(hex_color, width=6):\n",
    "    if type(hex_color) == str:\n",
    "        display(Markdown(f'<span style=\"font-family: monospace\">{hex_color} <span style=\"color: {hex_color}\">{chr(9608)*width}</span></span>'))\n",
    "    else:\n",
    "        display(Markdown('<br>'.join(\n",
    "            f'<span style=\"font-family: monospace\">{color} <span style=\"color: {color}\">{chr(9608)*width}</span></span>'\n",
    "            for color in hex_color)))\n",
    "display_color(colors)"
   ],
   "metadata": {
    "collapsed": false,
    "pycharm": {
     "name": "#%%\n"
    }
   }
  },
  {
   "cell_type": "code",
   "execution_count": 86,
   "outputs": [
    {
     "data": {
      "text/plain": "  exp_nr          monomer                                         RAFT-Agent  \\\n0   146b          Styrene  2-(Dodecylthiocarbonothioylthio)-2-methylpropi...   \n0    90b  4-Methylstyrene  4-Cyano-4-(phenylcarbonothioylthio)pentanoic acid   \n0   205b  Benzyl acrylate               Cyanomethyl dodecyl trithiocarbonate   \n\n             solvent                                     conv_time_data  \\\n0  Dimethylformamide  [[0.0, 15.0, 60.0, 72.0, 84.0], [0.0, 0.05, 0....   \n0  Dimethylformamide              [[0.0, 2.95, 10.0], [0.0, 0.02, 0.1]]   \n0  Dimethylformamide               [[0.0, 5.62, 8.0], [0.0, 0.85, 0.9]]   \n\n                                        Mn_time_data  \\\n0  [[0.0, 15.0, 60.0, 72.0, 84.0], [0.0, 0.03, 0....   \n0          [[0.0, 2.95, 10.0], [0.0, 0.0087, 0.022]]   \n0            [[0.0, 5.62, 8.0], [0.0, 0.077, 0.071]]   \n\n                                        Mw_time_data  \n0  [[0.0, 15.0, 60.0, 72.0, 84.0], [0.0, 0.034, 0...  \n0          [[0.0, 2.95, 10.0], [0.0, 0.0097, 0.025]]  \n0            [[0.0, 5.62, 8.0], [0.0, 0.148, 0.151]]  ",
      "text/html": "<div>\n<style scoped>\n    .dataframe tbody tr th:only-of-type {\n        vertical-align: middle;\n    }\n\n    .dataframe tbody tr th {\n        vertical-align: top;\n    }\n\n    .dataframe thead th {\n        text-align: right;\n    }\n</style>\n<table border=\"1\" class=\"dataframe\">\n  <thead>\n    <tr style=\"text-align: right;\">\n      <th></th>\n      <th>exp_nr</th>\n      <th>monomer</th>\n      <th>RAFT-Agent</th>\n      <th>solvent</th>\n      <th>conv_time_data</th>\n      <th>Mn_time_data</th>\n      <th>Mw_time_data</th>\n    </tr>\n  </thead>\n  <tbody>\n    <tr>\n      <th>0</th>\n      <td>146b</td>\n      <td>Styrene</td>\n      <td>2-(Dodecylthiocarbonothioylthio)-2-methylpropi...</td>\n      <td>Dimethylformamide</td>\n      <td>[[0.0, 15.0, 60.0, 72.0, 84.0], [0.0, 0.05, 0....</td>\n      <td>[[0.0, 15.0, 60.0, 72.0, 84.0], [0.0, 0.03, 0....</td>\n      <td>[[0.0, 15.0, 60.0, 72.0, 84.0], [0.0, 0.034, 0...</td>\n    </tr>\n    <tr>\n      <th>0</th>\n      <td>90b</td>\n      <td>4-Methylstyrene</td>\n      <td>4-Cyano-4-(phenylcarbonothioylthio)pentanoic acid</td>\n      <td>Dimethylformamide</td>\n      <td>[[0.0, 2.95, 10.0], [0.0, 0.02, 0.1]]</td>\n      <td>[[0.0, 2.95, 10.0], [0.0, 0.0087, 0.022]]</td>\n      <td>[[0.0, 2.95, 10.0], [0.0, 0.0097, 0.025]]</td>\n    </tr>\n    <tr>\n      <th>0</th>\n      <td>205b</td>\n      <td>Benzyl acrylate</td>\n      <td>Cyanomethyl dodecyl trithiocarbonate</td>\n      <td>Dimethylformamide</td>\n      <td>[[0.0, 5.62, 8.0], [0.0, 0.85, 0.9]]</td>\n      <td>[[0.0, 5.62, 8.0], [0.0, 0.077, 0.071]]</td>\n      <td>[[0.0, 5.62, 8.0], [0.0, 0.148, 0.151]]</td>\n    </tr>\n  </tbody>\n</table>\n</div>"
     },
     "execution_count": 86,
     "metadata": {},
     "output_type": "execute_result"
    }
   ],
   "source": [
    "# manually typing in the proof experimental data from michael\n",
    "# \"MRG-046-G-ZL-1-E-DMF\" -> exp\n",
    "# \"MRG-046-G-ZL-4-B-DMF\" -> exp\n",
    "# \"MRG-046-G-ZL-15-F-DMF\" -> exp\n",
    "# \"exp\", \"monomer\", \"RAFT-Agent\", \"solvent\", \"time\", \"conversion\", \"Mn\", \"Mw\"\n",
    "\n",
    "# ToDo: the explicit reactor time is not given\n",
    "\"\"\"\n",
    "M. Ringleb:\n",
    "146 evaluation of the observations was done after ca. 90 hno addition of NMR solvent and SEC eluent to vials for 15 h sample -->\n",
    "potential eNAplanation for problems with evaluation or deviations (sample stood for 5 h without being quenched) --> for NMR additon of 400 yL of CDCl3 prior to filling to NMR tube\n",
    "\n",
    "90 evaluation of this points was done after 20 h time in the reactor\n",
    "double addition of NMR solvent and SEC eluent to the vials for t =10h\n",
    "also for NMR sampling for t=10 h sample the septum was pushed through the lid, so the vial stood open for ca. 9hours before it was filled to the NMR tube \"\n",
    "\n",
    "205 evaluation of this points was done after 20 h time in the reactor\"\"\"\n",
    "\n",
    "proof_data = [\n",
    "    [\"146b\", \"1\", \"E\", \"DMF\", 0, 0.0, 0.0, 0.0],\n",
    "    [\"146b\", \"1\", \"E\", \"DMF\", 15, 0.05, 3000, 3400],\n",
    "    [\"146b\", \"1\", \"E\", \"DMF\", 60, 0.24, 3500, 3900],\n",
    "    [\"146b\", \"1\", \"E\", \"DMF\", 72, 0.24, 3500, 4100],\n",
    "    [\"146b\", \"1\", \"E\", \"DMF\", 84, 0.24, 3700, 4200],\n",
    "    [\"90b\", \"4\", \"B\", \"DMF\", 0, 0.0, 0.0, 0.0],\n",
    "    [\"90b\", \"4\", \"B\", \"DMF\", 2.95, 0.02, 870, 970],\n",
    "    [\"90b\", \"4\", \"B\", \"DMF\", 10, 0.10, 2200, 2500],\n",
    "    [\"205b\", \"15\", \"F\", \"DMF\", 0, 0.0, 0.0, 0.0],\n",
    "    [\"205b\", \"15\", \"F\", \"DMF\", 5.62, 0.85, 7700, 14800],\n",
    "    [\"205b\", \"15\", \"F\", \"DMF\", 8, 0.90, 7100, 15100],\n",
    "    ]\n",
    "\n",
    "proof_df_points = pd.DataFrame(data=proof_data, columns=[\"exp_nr\", \"monomer\", \"RAFT-Agent\", \"solvent\", \"time\", \"conversion\", \"Mn\", \"Mw\"])\n",
    "# reformatting to kinetics_df format\n",
    "proof_df = pd.DataFrame()\n",
    "for kinetic_nr in proof_df_points[\"exp_nr\"].unique():\n",
    "    kinetic = proof_df_points[proof_df_points[\"exp_nr\"] == kinetic_nr]\n",
    "    proof_kinetic = pd.DataFrame({\"exp_nr\":kinetic[\"exp_nr\"].iloc[0],\n",
    "                                  \"monomer\":reaction_descriptors_dict[kinetic[\"monomer\"].iloc[0]],\n",
    "                                  \"RAFT-Agent\":reaction_descriptors_dict[kinetic[\"RAFT-Agent\"].iloc[0]],\n",
    "                                  \"solvent\":reaction_descriptors_dict[kinetic[\"solvent\"].iloc[0]],\n",
    "\n",
    "                                  \"conv_time_data\":[[kinetic[\"time\"].values, kinetic[\"conversion\"].values]],\n",
    "                                  \"Mn_time_data\":[[kinetic[\"time\"].values, kinetic[\"Mn\"].values/100000]],\n",
    "                                  \"Mw_time_data\":[[kinetic[\"time\"].values, kinetic[\"Mw\"].values/100000]]})\n",
    "\n",
    "    proof_df = pd.concat([proof_df, proof_kinetic])\n",
    "proof_df"
   ],
   "metadata": {
    "collapsed": false,
    "pycharm": {
     "name": "#%%\n"
    }
   }
  },
  {
   "cell_type": "code",
   "execution_count": 93,
   "outputs": [
    {
     "data": {
      "application/vnd.plotly.v1+json": {
       "data": [
        {
         "hovertemplate": "<extra></extra>",
         "legendgroup": "",
         "line": {
          "color": "#636efa",
          "dash": "solid"
         },
         "marker": {
          "symbol": "circle"
         },
         "mode": "lines",
         "name": "",
         "orientation": "v",
         "showlegend": false,
         "xaxis": "x",
         "yaxis": "y",
         "type": "scatter"
        },
        {
         "legendgroup": "0",
         "marker": {
          "color": "#636EFA"
         },
         "mode": "lines+markers",
         "name": "146b",
         "opacity": 0.5,
         "showlegend": false,
         "x": [
          0.0,
          15.0,
          60.0,
          72.0,
          84.0
         ],
         "y": [
          0.0,
          0.05,
          0.24,
          0.24,
          0.24
         ],
         "type": "scatter"
        },
        {
         "legendgroup": "0",
         "marker": {
          "color": "#636EFA"
         },
         "mode": "lines+markers",
         "name": "90b",
         "opacity": 0.5,
         "showlegend": false,
         "x": [
          0.0,
          2.95,
          10.0
         ],
         "y": [
          0.0,
          0.02,
          0.1
         ],
         "type": "scatter"
        },
        {
         "legendgroup": "0",
         "marker": {
          "color": "#636EFA"
         },
         "mode": "lines+markers",
         "name": "205b",
         "opacity": 0.5,
         "showlegend": false,
         "x": [
          0.0,
          5.62,
          8.0
         ],
         "y": [
          0.0,
          0.85,
          0.9
         ],
         "type": "scatter"
        },
        {
         "legendgroup": "0",
         "marker": {
          "color": "#636EFA"
         },
         "mode": "lines+markers",
         "name": "90",
         "opacity": 0.5,
         "showlegend": false,
         "x": [
          0.0,
          1.2513888888888889,
          2.2416666666666667,
          4.273611111111111,
          8.338888888888889,
          15.381944444444445
         ],
         "y": [
          0.0,
          0.012452830188679265,
          0.024150943396226476,
          0.021132075471698153,
          0.01886792452830177,
          0.02981132075471693
         ],
         "type": "scatter"
        },
        {
         "legendgroup": "0",
         "marker": {
          "color": "#636EFA"
         },
         "mode": "lines+markers",
         "name": "146",
         "opacity": 0.5,
         "showlegend": false,
         "x": [
          0.0,
          1.0055555555555555,
          2.011111111111111,
          4.018055555555556,
          8.016666666666667,
          15.016666666666667
         ],
         "y": [
          0.0,
          0.01807451125046111,
          0.009221689413500544,
          0.027296200663961545,
          0.07746219107340468,
          0.15123570638140893
         ],
         "type": "scatter"
        },
        {
         "legendgroup": "0",
         "marker": {
          "color": "#636EFA"
         },
         "mode": "lines+markers",
         "name": "205",
         "opacity": 0.5,
         "showlegend": false,
         "x": [
          0.0,
          1.3736111111111111,
          2.3694444444444445,
          4.409722222222222,
          8.501388888888888,
          15.568055555555556
         ],
         "y": [
          0.0,
          0.4360527253295333,
          0.5742785892411828,
          0.7776986106163164,
          0.8482365514784467,
          0.9269682935518347
         ],
         "type": "scatter"
        },
        {
         "legendgroup": "0",
         "marker": {
          "color": "#636EFA"
         },
         "name": "conv over time",
         "x": [
          null
         ],
         "y": [
          null
         ],
         "type": "scatter"
        },
        {
         "legendgroup": "1",
         "marker": {
          "color": "#EF553B"
         },
         "mode": "lines+markers",
         "name": "146b",
         "opacity": 0.5,
         "showlegend": false,
         "x": [
          0.0,
          15.0,
          60.0,
          72.0,
          84.0
         ],
         "y": [
          0.0,
          0.03,
          0.035,
          0.035,
          0.037
         ],
         "type": "scatter"
        },
        {
         "legendgroup": "1",
         "marker": {
          "color": "#EF553B"
         },
         "mode": "lines+markers",
         "name": "90b",
         "opacity": 0.5,
         "showlegend": false,
         "x": [
          0.0,
          2.95,
          10.0
         ],
         "y": [
          0.0,
          0.0087,
          0.022
         ],
         "type": "scatter"
        },
        {
         "legendgroup": "1",
         "marker": {
          "color": "#EF553B"
         },
         "mode": "lines+markers",
         "name": "205b",
         "opacity": 0.5,
         "showlegend": false,
         "x": [
          0.0,
          5.62,
          8.0
         ],
         "y": [
          0.0,
          0.077,
          0.071
         ],
         "type": "scatter"
        },
        {
         "legendgroup": "1",
         "marker": {
          "color": "#EF553B"
         },
         "mode": "lines+markers",
         "name": "90",
         "opacity": 0.5,
         "showlegend": false,
         "x": [
          1.2513888888888889,
          2.2416666666666667,
          4.273611111111111,
          6.2375,
          8.338888888888889,
          10.306944444444444,
          15.381944444444445
         ],
         "y": [
          0.0027,
          0.0028,
          0.0029,
          0.0032,
          0.0039,
          0.0038,
          0.0035
         ],
         "type": "scatter"
        },
        {
         "legendgroup": "1",
         "marker": {
          "color": "#EF553B"
         },
         "mode": "lines+markers",
         "name": "146",
         "opacity": 0.5,
         "showlegend": false,
         "x": [
          1.0055555555555555,
          2.011111111111111,
          4.018055555555556,
          6.008333333333334,
          8.016666666666667,
          10.011111111111111,
          15.016666666666667
         ],
         "y": [
          0.0036,
          0.004,
          0.0051,
          0.0072,
          0.0096,
          0.0111,
          0.0163
         ],
         "type": "scatter"
        },
        {
         "legendgroup": "1",
         "marker": {
          "color": "#EF553B"
         },
         "mode": "lines+markers",
         "name": "205",
         "opacity": 0.5,
         "showlegend": false,
         "x": [
          0.0,
          1.3736111111111111,
          2.3694444444444445,
          4.409722222222222,
          6.358333333333333,
          8.501388888888888,
          10.466666666666667,
          15.568055555555556
         ],
         "y": [
          0.0021,
          0.068,
          0.09,
          0.084,
          0.093,
          0.079,
          0.077,
          0.075
         ],
         "type": "scatter"
        },
        {
         "legendgroup": "1",
         "marker": {
          "color": "#EF553B"
         },
         "name": "Mn over time",
         "x": [
          null
         ],
         "y": [
          null
         ],
         "type": "scatter"
        },
        {
         "legendgroup": "2",
         "marker": {
          "color": "#00CC96"
         },
         "mode": "lines+markers",
         "name": "146b",
         "opacity": 0.5,
         "showlegend": false,
         "x": [
          0.0,
          15.0,
          60.0,
          72.0,
          84.0
         ],
         "y": [
          0.0,
          0.034,
          0.039,
          0.041,
          0.042
         ],
         "type": "scatter"
        },
        {
         "legendgroup": "2",
         "marker": {
          "color": "#00CC96"
         },
         "mode": "lines+markers",
         "name": "90b",
         "opacity": 0.5,
         "showlegend": false,
         "x": [
          0.0,
          2.95,
          10.0
         ],
         "y": [
          0.0,
          0.0097,
          0.025
         ],
         "type": "scatter"
        },
        {
         "legendgroup": "2",
         "marker": {
          "color": "#00CC96"
         },
         "mode": "lines+markers",
         "name": "205b",
         "opacity": 0.5,
         "showlegend": false,
         "x": [
          0.0,
          5.62,
          8.0
         ],
         "y": [
          0.0,
          0.148,
          0.151
         ],
         "type": "scatter"
        },
        {
         "legendgroup": "2",
         "marker": {
          "color": "#00CC96"
         },
         "mode": "lines+markers",
         "name": "90",
         "opacity": 0.5,
         "showlegend": false,
         "x": [
          1.2513888888888889,
          2.2416666666666667,
          4.273611111111111,
          6.2375,
          8.338888888888889,
          10.306944444444444,
          15.381944444444445
         ],
         "y": [
          0.0029,
          0.0034,
          0.0033,
          0.0037,
          0.0044,
          0.0046,
          0.0053
         ],
         "type": "scatter"
        },
        {
         "legendgroup": "2",
         "marker": {
          "color": "#00CC96"
         },
         "mode": "lines+markers",
         "name": "146",
         "opacity": 0.5,
         "showlegend": false,
         "x": [
          1.0055555555555555,
          2.011111111111111,
          4.018055555555556,
          6.008333333333334,
          8.016666666666667,
          10.011111111111111,
          15.016666666666667
         ],
         "y": [
          0.004,
          0.0045,
          0.0063,
          0.0096,
          0.0133,
          0.0165,
          0.027
         ],
         "type": "scatter"
        },
        {
         "legendgroup": "2",
         "marker": {
          "color": "#00CC96"
         },
         "mode": "lines+markers",
         "name": "205",
         "opacity": 0.5,
         "showlegend": false,
         "x": [
          0.0,
          1.3736111111111111,
          2.3694444444444445,
          4.409722222222222,
          6.358333333333333,
          8.501388888888888,
          10.466666666666667,
          15.568055555555556
         ],
         "y": [
          0.0022,
          0.093,
          0.117,
          0.14,
          0.149,
          0.149,
          0.15,
          0.15
         ],
         "type": "scatter"
        },
        {
         "legendgroup": "2",
         "marker": {
          "color": "#00CC96"
         },
         "name": "Mw over time",
         "x": [
          null
         ],
         "y": [
          null
         ],
         "type": "scatter"
        },
        {
         "legendgroup": "threshold",
         "line": {
          "dash": "dash"
         },
         "mode": "lines",
         "name": "SEC limit",
         "x": [
          0,
          84
         ],
         "y": [
          0.01,
          0.01
         ],
         "type": "scatter"
        }
       ],
       "layout": {
        "template": {
         "data": {
          "histogram2dcontour": [
           {
            "type": "histogram2dcontour",
            "colorbar": {
             "outlinewidth": 0,
             "ticks": ""
            },
            "colorscale": [
             [
              0.0,
              "#0d0887"
             ],
             [
              0.1111111111111111,
              "#46039f"
             ],
             [
              0.2222222222222222,
              "#7201a8"
             ],
             [
              0.3333333333333333,
              "#9c179e"
             ],
             [
              0.4444444444444444,
              "#bd3786"
             ],
             [
              0.5555555555555556,
              "#d8576b"
             ],
             [
              0.6666666666666666,
              "#ed7953"
             ],
             [
              0.7777777777777778,
              "#fb9f3a"
             ],
             [
              0.8888888888888888,
              "#fdca26"
             ],
             [
              1.0,
              "#f0f921"
             ]
            ]
           }
          ],
          "choropleth": [
           {
            "type": "choropleth",
            "colorbar": {
             "outlinewidth": 0,
             "ticks": ""
            }
           }
          ],
          "histogram2d": [
           {
            "type": "histogram2d",
            "colorbar": {
             "outlinewidth": 0,
             "ticks": ""
            },
            "colorscale": [
             [
              0.0,
              "#0d0887"
             ],
             [
              0.1111111111111111,
              "#46039f"
             ],
             [
              0.2222222222222222,
              "#7201a8"
             ],
             [
              0.3333333333333333,
              "#9c179e"
             ],
             [
              0.4444444444444444,
              "#bd3786"
             ],
             [
              0.5555555555555556,
              "#d8576b"
             ],
             [
              0.6666666666666666,
              "#ed7953"
             ],
             [
              0.7777777777777778,
              "#fb9f3a"
             ],
             [
              0.8888888888888888,
              "#fdca26"
             ],
             [
              1.0,
              "#f0f921"
             ]
            ]
           }
          ],
          "heatmap": [
           {
            "type": "heatmap",
            "colorbar": {
             "outlinewidth": 0,
             "ticks": ""
            },
            "colorscale": [
             [
              0.0,
              "#0d0887"
             ],
             [
              0.1111111111111111,
              "#46039f"
             ],
             [
              0.2222222222222222,
              "#7201a8"
             ],
             [
              0.3333333333333333,
              "#9c179e"
             ],
             [
              0.4444444444444444,
              "#bd3786"
             ],
             [
              0.5555555555555556,
              "#d8576b"
             ],
             [
              0.6666666666666666,
              "#ed7953"
             ],
             [
              0.7777777777777778,
              "#fb9f3a"
             ],
             [
              0.8888888888888888,
              "#fdca26"
             ],
             [
              1.0,
              "#f0f921"
             ]
            ]
           }
          ],
          "heatmapgl": [
           {
            "type": "heatmapgl",
            "colorbar": {
             "outlinewidth": 0,
             "ticks": ""
            },
            "colorscale": [
             [
              0.0,
              "#0d0887"
             ],
             [
              0.1111111111111111,
              "#46039f"
             ],
             [
              0.2222222222222222,
              "#7201a8"
             ],
             [
              0.3333333333333333,
              "#9c179e"
             ],
             [
              0.4444444444444444,
              "#bd3786"
             ],
             [
              0.5555555555555556,
              "#d8576b"
             ],
             [
              0.6666666666666666,
              "#ed7953"
             ],
             [
              0.7777777777777778,
              "#fb9f3a"
             ],
             [
              0.8888888888888888,
              "#fdca26"
             ],
             [
              1.0,
              "#f0f921"
             ]
            ]
           }
          ],
          "contourcarpet": [
           {
            "type": "contourcarpet",
            "colorbar": {
             "outlinewidth": 0,
             "ticks": ""
            }
           }
          ],
          "contour": [
           {
            "type": "contour",
            "colorbar": {
             "outlinewidth": 0,
             "ticks": ""
            },
            "colorscale": [
             [
              0.0,
              "#0d0887"
             ],
             [
              0.1111111111111111,
              "#46039f"
             ],
             [
              0.2222222222222222,
              "#7201a8"
             ],
             [
              0.3333333333333333,
              "#9c179e"
             ],
             [
              0.4444444444444444,
              "#bd3786"
             ],
             [
              0.5555555555555556,
              "#d8576b"
             ],
             [
              0.6666666666666666,
              "#ed7953"
             ],
             [
              0.7777777777777778,
              "#fb9f3a"
             ],
             [
              0.8888888888888888,
              "#fdca26"
             ],
             [
              1.0,
              "#f0f921"
             ]
            ]
           }
          ],
          "surface": [
           {
            "type": "surface",
            "colorbar": {
             "outlinewidth": 0,
             "ticks": ""
            },
            "colorscale": [
             [
              0.0,
              "#0d0887"
             ],
             [
              0.1111111111111111,
              "#46039f"
             ],
             [
              0.2222222222222222,
              "#7201a8"
             ],
             [
              0.3333333333333333,
              "#9c179e"
             ],
             [
              0.4444444444444444,
              "#bd3786"
             ],
             [
              0.5555555555555556,
              "#d8576b"
             ],
             [
              0.6666666666666666,
              "#ed7953"
             ],
             [
              0.7777777777777778,
              "#fb9f3a"
             ],
             [
              0.8888888888888888,
              "#fdca26"
             ],
             [
              1.0,
              "#f0f921"
             ]
            ]
           }
          ],
          "mesh3d": [
           {
            "type": "mesh3d",
            "colorbar": {
             "outlinewidth": 0,
             "ticks": ""
            }
           }
          ],
          "scatter": [
           {
            "fillpattern": {
             "fillmode": "overlay",
             "size": 10,
             "solidity": 0.2
            },
            "type": "scatter"
           }
          ],
          "parcoords": [
           {
            "type": "parcoords",
            "line": {
             "colorbar": {
              "outlinewidth": 0,
              "ticks": ""
             }
            }
           }
          ],
          "scatterpolargl": [
           {
            "type": "scatterpolargl",
            "marker": {
             "colorbar": {
              "outlinewidth": 0,
              "ticks": ""
             }
            }
           }
          ],
          "bar": [
           {
            "error_x": {
             "color": "#2a3f5f"
            },
            "error_y": {
             "color": "#2a3f5f"
            },
            "marker": {
             "line": {
              "color": "#E5ECF6",
              "width": 0.5
             },
             "pattern": {
              "fillmode": "overlay",
              "size": 10,
              "solidity": 0.2
             }
            },
            "type": "bar"
           }
          ],
          "scattergeo": [
           {
            "type": "scattergeo",
            "marker": {
             "colorbar": {
              "outlinewidth": 0,
              "ticks": ""
             }
            }
           }
          ],
          "scatterpolar": [
           {
            "type": "scatterpolar",
            "marker": {
             "colorbar": {
              "outlinewidth": 0,
              "ticks": ""
             }
            }
           }
          ],
          "histogram": [
           {
            "marker": {
             "pattern": {
              "fillmode": "overlay",
              "size": 10,
              "solidity": 0.2
             }
            },
            "type": "histogram"
           }
          ],
          "scattergl": [
           {
            "type": "scattergl",
            "marker": {
             "colorbar": {
              "outlinewidth": 0,
              "ticks": ""
             }
            }
           }
          ],
          "scatter3d": [
           {
            "type": "scatter3d",
            "line": {
             "colorbar": {
              "outlinewidth": 0,
              "ticks": ""
             }
            },
            "marker": {
             "colorbar": {
              "outlinewidth": 0,
              "ticks": ""
             }
            }
           }
          ],
          "scattermapbox": [
           {
            "type": "scattermapbox",
            "marker": {
             "colorbar": {
              "outlinewidth": 0,
              "ticks": ""
             }
            }
           }
          ],
          "scatterternary": [
           {
            "type": "scatterternary",
            "marker": {
             "colorbar": {
              "outlinewidth": 0,
              "ticks": ""
             }
            }
           }
          ],
          "scattercarpet": [
           {
            "type": "scattercarpet",
            "marker": {
             "colorbar": {
              "outlinewidth": 0,
              "ticks": ""
             }
            }
           }
          ],
          "carpet": [
           {
            "aaxis": {
             "endlinecolor": "#2a3f5f",
             "gridcolor": "white",
             "linecolor": "white",
             "minorgridcolor": "white",
             "startlinecolor": "#2a3f5f"
            },
            "baxis": {
             "endlinecolor": "#2a3f5f",
             "gridcolor": "white",
             "linecolor": "white",
             "minorgridcolor": "white",
             "startlinecolor": "#2a3f5f"
            },
            "type": "carpet"
           }
          ],
          "table": [
           {
            "cells": {
             "fill": {
              "color": "#EBF0F8"
             },
             "line": {
              "color": "white"
             }
            },
            "header": {
             "fill": {
              "color": "#C8D4E3"
             },
             "line": {
              "color": "white"
             }
            },
            "type": "table"
           }
          ],
          "barpolar": [
           {
            "marker": {
             "line": {
              "color": "#E5ECF6",
              "width": 0.5
             },
             "pattern": {
              "fillmode": "overlay",
              "size": 10,
              "solidity": 0.2
             }
            },
            "type": "barpolar"
           }
          ],
          "pie": [
           {
            "automargin": true,
            "type": "pie"
           }
          ]
         },
         "layout": {
          "autotypenumbers": "strict",
          "colorway": [
           "#636efa",
           "#EF553B",
           "#00cc96",
           "#ab63fa",
           "#FFA15A",
           "#19d3f3",
           "#FF6692",
           "#B6E880",
           "#FF97FF",
           "#FECB52"
          ],
          "font": {
           "color": "#2a3f5f"
          },
          "hovermode": "closest",
          "hoverlabel": {
           "align": "left"
          },
          "paper_bgcolor": "white",
          "plot_bgcolor": "#E5ECF6",
          "polar": {
           "bgcolor": "#E5ECF6",
           "angularaxis": {
            "gridcolor": "white",
            "linecolor": "white",
            "ticks": ""
           },
           "radialaxis": {
            "gridcolor": "white",
            "linecolor": "white",
            "ticks": ""
           }
          },
          "ternary": {
           "bgcolor": "#E5ECF6",
           "aaxis": {
            "gridcolor": "white",
            "linecolor": "white",
            "ticks": ""
           },
           "baxis": {
            "gridcolor": "white",
            "linecolor": "white",
            "ticks": ""
           },
           "caxis": {
            "gridcolor": "white",
            "linecolor": "white",
            "ticks": ""
           }
          },
          "coloraxis": {
           "colorbar": {
            "outlinewidth": 0,
            "ticks": ""
           }
          },
          "colorscale": {
           "sequential": [
            [
             0.0,
             "#0d0887"
            ],
            [
             0.1111111111111111,
             "#46039f"
            ],
            [
             0.2222222222222222,
             "#7201a8"
            ],
            [
             0.3333333333333333,
             "#9c179e"
            ],
            [
             0.4444444444444444,
             "#bd3786"
            ],
            [
             0.5555555555555556,
             "#d8576b"
            ],
            [
             0.6666666666666666,
             "#ed7953"
            ],
            [
             0.7777777777777778,
             "#fb9f3a"
            ],
            [
             0.8888888888888888,
             "#fdca26"
            ],
            [
             1.0,
             "#f0f921"
            ]
           ],
           "sequentialminus": [
            [
             0.0,
             "#0d0887"
            ],
            [
             0.1111111111111111,
             "#46039f"
            ],
            [
             0.2222222222222222,
             "#7201a8"
            ],
            [
             0.3333333333333333,
             "#9c179e"
            ],
            [
             0.4444444444444444,
             "#bd3786"
            ],
            [
             0.5555555555555556,
             "#d8576b"
            ],
            [
             0.6666666666666666,
             "#ed7953"
            ],
            [
             0.7777777777777778,
             "#fb9f3a"
            ],
            [
             0.8888888888888888,
             "#fdca26"
            ],
            [
             1.0,
             "#f0f921"
            ]
           ],
           "diverging": [
            [
             0,
             "#8e0152"
            ],
            [
             0.1,
             "#c51b7d"
            ],
            [
             0.2,
             "#de77ae"
            ],
            [
             0.3,
             "#f1b6da"
            ],
            [
             0.4,
             "#fde0ef"
            ],
            [
             0.5,
             "#f7f7f7"
            ],
            [
             0.6,
             "#e6f5d0"
            ],
            [
             0.7,
             "#b8e186"
            ],
            [
             0.8,
             "#7fbc41"
            ],
            [
             0.9,
             "#4d9221"
            ],
            [
             1,
             "#276419"
            ]
           ]
          },
          "xaxis": {
           "gridcolor": "white",
           "linecolor": "white",
           "ticks": "",
           "title": {
            "standoff": 15
           },
           "zerolinecolor": "white",
           "automargin": true,
           "zerolinewidth": 2
          },
          "yaxis": {
           "gridcolor": "white",
           "linecolor": "white",
           "ticks": "",
           "title": {
            "standoff": 15
           },
           "zerolinecolor": "white",
           "automargin": true,
           "zerolinewidth": 2
          },
          "scene": {
           "xaxis": {
            "backgroundcolor": "#E5ECF6",
            "gridcolor": "white",
            "linecolor": "white",
            "showbackground": true,
            "ticks": "",
            "zerolinecolor": "white",
            "gridwidth": 2
           },
           "yaxis": {
            "backgroundcolor": "#E5ECF6",
            "gridcolor": "white",
            "linecolor": "white",
            "showbackground": true,
            "ticks": "",
            "zerolinecolor": "white",
            "gridwidth": 2
           },
           "zaxis": {
            "backgroundcolor": "#E5ECF6",
            "gridcolor": "white",
            "linecolor": "white",
            "showbackground": true,
            "ticks": "",
            "zerolinecolor": "white",
            "gridwidth": 2
           }
          },
          "shapedefaults": {
           "line": {
            "color": "#2a3f5f"
           }
          },
          "annotationdefaults": {
           "arrowcolor": "#2a3f5f",
           "arrowhead": 0,
           "arrowwidth": 1
          },
          "geo": {
           "bgcolor": "white",
           "landcolor": "#E5ECF6",
           "subunitcolor": "white",
           "showland": true,
           "showlakes": true,
           "lakecolor": "white"
          },
          "title": {
           "x": 0.05
          },
          "mapbox": {
           "style": "light"
          }
         }
        },
        "xaxis": {
         "anchor": "y",
         "domain": [
          0.0,
          1.0
         ],
         "title": {
          "text": "Time [h]"
         }
        },
        "yaxis": {
         "anchor": "x",
         "domain": [
          0.0,
          1.0
         ],
         "title": {
          "text": "$\\text{Mn, Mw }[g/mol] \\cdot 10^{-5}/ \\ [ \\%]$"
         }
        },
        "legend": {
         "tracegroupgap": 0,
         "orientation": "h",
         "yanchor": "bottom",
         "y": 1.05,
         "xanchor": "left",
         "x": -0.1
        },
        "margin": {
         "t": 60
        }
       },
       "config": {
        "plotlyServerURL": "https://plot.ly"
       }
      },
      "text/html": "<div>                            <div id=\"e2eb6d8e-142c-49f2-a8bb-585971470702\" class=\"plotly-graph-div\" style=\"height:525px; width:100%;\"></div>            <script type=\"text/javascript\">                require([\"plotly\"], function(Plotly) {                    window.PLOTLYENV=window.PLOTLYENV || {};                                    if (document.getElementById(\"e2eb6d8e-142c-49f2-a8bb-585971470702\")) {                    Plotly.newPlot(                        \"e2eb6d8e-142c-49f2-a8bb-585971470702\",                        [{\"hovertemplate\":\"\\u003cextra\\u003e\\u003c\\u002fextra\\u003e\",\"legendgroup\":\"\",\"line\":{\"color\":\"#636efa\",\"dash\":\"solid\"},\"marker\":{\"symbol\":\"circle\"},\"mode\":\"lines\",\"name\":\"\",\"orientation\":\"v\",\"showlegend\":false,\"xaxis\":\"x\",\"yaxis\":\"y\",\"type\":\"scatter\"},{\"legendgroup\":\"0\",\"marker\":{\"color\":\"#636EFA\"},\"mode\":\"lines+markers\",\"name\":\"146b\",\"opacity\":0.5,\"showlegend\":false,\"x\":[0.0,15.0,60.0,72.0,84.0],\"y\":[0.0,0.05,0.24,0.24,0.24],\"type\":\"scatter\"},{\"legendgroup\":\"0\",\"marker\":{\"color\":\"#636EFA\"},\"mode\":\"lines+markers\",\"name\":\"90b\",\"opacity\":0.5,\"showlegend\":false,\"x\":[0.0,2.95,10.0],\"y\":[0.0,0.02,0.1],\"type\":\"scatter\"},{\"legendgroup\":\"0\",\"marker\":{\"color\":\"#636EFA\"},\"mode\":\"lines+markers\",\"name\":\"205b\",\"opacity\":0.5,\"showlegend\":false,\"x\":[0.0,5.62,8.0],\"y\":[0.0,0.85,0.9],\"type\":\"scatter\"},{\"legendgroup\":\"0\",\"marker\":{\"color\":\"#636EFA\"},\"mode\":\"lines+markers\",\"name\":\"90\",\"opacity\":0.5,\"showlegend\":false,\"x\":[0.0,1.2513888888888889,2.2416666666666667,4.273611111111111,8.338888888888889,15.381944444444445],\"y\":[0.0,0.012452830188679265,0.024150943396226476,0.021132075471698153,0.01886792452830177,0.02981132075471693],\"type\":\"scatter\"},{\"legendgroup\":\"0\",\"marker\":{\"color\":\"#636EFA\"},\"mode\":\"lines+markers\",\"name\":\"146\",\"opacity\":0.5,\"showlegend\":false,\"x\":[0.0,1.0055555555555555,2.011111111111111,4.018055555555556,8.016666666666667,15.016666666666667],\"y\":[0.0,0.01807451125046111,0.009221689413500544,0.027296200663961545,0.07746219107340468,0.15123570638140893],\"type\":\"scatter\"},{\"legendgroup\":\"0\",\"marker\":{\"color\":\"#636EFA\"},\"mode\":\"lines+markers\",\"name\":\"205\",\"opacity\":0.5,\"showlegend\":false,\"x\":[0.0,1.3736111111111111,2.3694444444444445,4.409722222222222,8.501388888888888,15.568055555555556],\"y\":[0.0,0.4360527253295333,0.5742785892411828,0.7776986106163164,0.8482365514784467,0.9269682935518347],\"type\":\"scatter\"},{\"legendgroup\":\"0\",\"marker\":{\"color\":\"#636EFA\"},\"name\":\"conv over time\",\"x\":[null],\"y\":[null],\"type\":\"scatter\"},{\"legendgroup\":\"1\",\"marker\":{\"color\":\"#EF553B\"},\"mode\":\"lines+markers\",\"name\":\"146b\",\"opacity\":0.5,\"showlegend\":false,\"x\":[0.0,15.0,60.0,72.0,84.0],\"y\":[0.0,0.03,0.035,0.035,0.037],\"type\":\"scatter\"},{\"legendgroup\":\"1\",\"marker\":{\"color\":\"#EF553B\"},\"mode\":\"lines+markers\",\"name\":\"90b\",\"opacity\":0.5,\"showlegend\":false,\"x\":[0.0,2.95,10.0],\"y\":[0.0,0.0087,0.022],\"type\":\"scatter\"},{\"legendgroup\":\"1\",\"marker\":{\"color\":\"#EF553B\"},\"mode\":\"lines+markers\",\"name\":\"205b\",\"opacity\":0.5,\"showlegend\":false,\"x\":[0.0,5.62,8.0],\"y\":[0.0,0.077,0.071],\"type\":\"scatter\"},{\"legendgroup\":\"1\",\"marker\":{\"color\":\"#EF553B\"},\"mode\":\"lines+markers\",\"name\":\"90\",\"opacity\":0.5,\"showlegend\":false,\"x\":[1.2513888888888889,2.2416666666666667,4.273611111111111,6.2375,8.338888888888889,10.306944444444444,15.381944444444445],\"y\":[0.0027,0.0028,0.0029,0.0032,0.0039,0.0038,0.0035],\"type\":\"scatter\"},{\"legendgroup\":\"1\",\"marker\":{\"color\":\"#EF553B\"},\"mode\":\"lines+markers\",\"name\":\"146\",\"opacity\":0.5,\"showlegend\":false,\"x\":[1.0055555555555555,2.011111111111111,4.018055555555556,6.008333333333334,8.016666666666667,10.011111111111111,15.016666666666667],\"y\":[0.0036,0.004,0.0051,0.0072,0.0096,0.0111,0.0163],\"type\":\"scatter\"},{\"legendgroup\":\"1\",\"marker\":{\"color\":\"#EF553B\"},\"mode\":\"lines+markers\",\"name\":\"205\",\"opacity\":0.5,\"showlegend\":false,\"x\":[0.0,1.3736111111111111,2.3694444444444445,4.409722222222222,6.358333333333333,8.501388888888888,10.466666666666667,15.568055555555556],\"y\":[0.0021,0.068,0.09,0.084,0.093,0.079,0.077,0.075],\"type\":\"scatter\"},{\"legendgroup\":\"1\",\"marker\":{\"color\":\"#EF553B\"},\"name\":\"Mn over time\",\"x\":[null],\"y\":[null],\"type\":\"scatter\"},{\"legendgroup\":\"2\",\"marker\":{\"color\":\"#00CC96\"},\"mode\":\"lines+markers\",\"name\":\"146b\",\"opacity\":0.5,\"showlegend\":false,\"x\":[0.0,15.0,60.0,72.0,84.0],\"y\":[0.0,0.034,0.039,0.041,0.042],\"type\":\"scatter\"},{\"legendgroup\":\"2\",\"marker\":{\"color\":\"#00CC96\"},\"mode\":\"lines+markers\",\"name\":\"90b\",\"opacity\":0.5,\"showlegend\":false,\"x\":[0.0,2.95,10.0],\"y\":[0.0,0.0097,0.025],\"type\":\"scatter\"},{\"legendgroup\":\"2\",\"marker\":{\"color\":\"#00CC96\"},\"mode\":\"lines+markers\",\"name\":\"205b\",\"opacity\":0.5,\"showlegend\":false,\"x\":[0.0,5.62,8.0],\"y\":[0.0,0.148,0.151],\"type\":\"scatter\"},{\"legendgroup\":\"2\",\"marker\":{\"color\":\"#00CC96\"},\"mode\":\"lines+markers\",\"name\":\"90\",\"opacity\":0.5,\"showlegend\":false,\"x\":[1.2513888888888889,2.2416666666666667,4.273611111111111,6.2375,8.338888888888889,10.306944444444444,15.381944444444445],\"y\":[0.0029,0.0034,0.0033,0.0037,0.0044,0.0046,0.0053],\"type\":\"scatter\"},{\"legendgroup\":\"2\",\"marker\":{\"color\":\"#00CC96\"},\"mode\":\"lines+markers\",\"name\":\"146\",\"opacity\":0.5,\"showlegend\":false,\"x\":[1.0055555555555555,2.011111111111111,4.018055555555556,6.008333333333334,8.016666666666667,10.011111111111111,15.016666666666667],\"y\":[0.004,0.0045,0.0063,0.0096,0.0133,0.0165,0.027],\"type\":\"scatter\"},{\"legendgroup\":\"2\",\"marker\":{\"color\":\"#00CC96\"},\"mode\":\"lines+markers\",\"name\":\"205\",\"opacity\":0.5,\"showlegend\":false,\"x\":[0.0,1.3736111111111111,2.3694444444444445,4.409722222222222,6.358333333333333,8.501388888888888,10.466666666666667,15.568055555555556],\"y\":[0.0022,0.093,0.117,0.14,0.149,0.149,0.15,0.15],\"type\":\"scatter\"},{\"legendgroup\":\"2\",\"marker\":{\"color\":\"#00CC96\"},\"name\":\"Mw over time\",\"x\":[null],\"y\":[null],\"type\":\"scatter\"},{\"legendgroup\":\"threshold\",\"line\":{\"dash\":\"dash\"},\"mode\":\"lines\",\"name\":\"SEC limit\",\"x\":[0,84],\"y\":[0.01,0.01],\"type\":\"scatter\"}],                        {\"template\":{\"data\":{\"histogram2dcontour\":[{\"type\":\"histogram2dcontour\",\"colorbar\":{\"outlinewidth\":0,\"ticks\":\"\"},\"colorscale\":[[0.0,\"#0d0887\"],[0.1111111111111111,\"#46039f\"],[0.2222222222222222,\"#7201a8\"],[0.3333333333333333,\"#9c179e\"],[0.4444444444444444,\"#bd3786\"],[0.5555555555555556,\"#d8576b\"],[0.6666666666666666,\"#ed7953\"],[0.7777777777777778,\"#fb9f3a\"],[0.8888888888888888,\"#fdca26\"],[1.0,\"#f0f921\"]]}],\"choropleth\":[{\"type\":\"choropleth\",\"colorbar\":{\"outlinewidth\":0,\"ticks\":\"\"}}],\"histogram2d\":[{\"type\":\"histogram2d\",\"colorbar\":{\"outlinewidth\":0,\"ticks\":\"\"},\"colorscale\":[[0.0,\"#0d0887\"],[0.1111111111111111,\"#46039f\"],[0.2222222222222222,\"#7201a8\"],[0.3333333333333333,\"#9c179e\"],[0.4444444444444444,\"#bd3786\"],[0.5555555555555556,\"#d8576b\"],[0.6666666666666666,\"#ed7953\"],[0.7777777777777778,\"#fb9f3a\"],[0.8888888888888888,\"#fdca26\"],[1.0,\"#f0f921\"]]}],\"heatmap\":[{\"type\":\"heatmap\",\"colorbar\":{\"outlinewidth\":0,\"ticks\":\"\"},\"colorscale\":[[0.0,\"#0d0887\"],[0.1111111111111111,\"#46039f\"],[0.2222222222222222,\"#7201a8\"],[0.3333333333333333,\"#9c179e\"],[0.4444444444444444,\"#bd3786\"],[0.5555555555555556,\"#d8576b\"],[0.6666666666666666,\"#ed7953\"],[0.7777777777777778,\"#fb9f3a\"],[0.8888888888888888,\"#fdca26\"],[1.0,\"#f0f921\"]]}],\"heatmapgl\":[{\"type\":\"heatmapgl\",\"colorbar\":{\"outlinewidth\":0,\"ticks\":\"\"},\"colorscale\":[[0.0,\"#0d0887\"],[0.1111111111111111,\"#46039f\"],[0.2222222222222222,\"#7201a8\"],[0.3333333333333333,\"#9c179e\"],[0.4444444444444444,\"#bd3786\"],[0.5555555555555556,\"#d8576b\"],[0.6666666666666666,\"#ed7953\"],[0.7777777777777778,\"#fb9f3a\"],[0.8888888888888888,\"#fdca26\"],[1.0,\"#f0f921\"]]}],\"contourcarpet\":[{\"type\":\"contourcarpet\",\"colorbar\":{\"outlinewidth\":0,\"ticks\":\"\"}}],\"contour\":[{\"type\":\"contour\",\"colorbar\":{\"outlinewidth\":0,\"ticks\":\"\"},\"colorscale\":[[0.0,\"#0d0887\"],[0.1111111111111111,\"#46039f\"],[0.2222222222222222,\"#7201a8\"],[0.3333333333333333,\"#9c179e\"],[0.4444444444444444,\"#bd3786\"],[0.5555555555555556,\"#d8576b\"],[0.6666666666666666,\"#ed7953\"],[0.7777777777777778,\"#fb9f3a\"],[0.8888888888888888,\"#fdca26\"],[1.0,\"#f0f921\"]]}],\"surface\":[{\"type\":\"surface\",\"colorbar\":{\"outlinewidth\":0,\"ticks\":\"\"},\"colorscale\":[[0.0,\"#0d0887\"],[0.1111111111111111,\"#46039f\"],[0.2222222222222222,\"#7201a8\"],[0.3333333333333333,\"#9c179e\"],[0.4444444444444444,\"#bd3786\"],[0.5555555555555556,\"#d8576b\"],[0.6666666666666666,\"#ed7953\"],[0.7777777777777778,\"#fb9f3a\"],[0.8888888888888888,\"#fdca26\"],[1.0,\"#f0f921\"]]}],\"mesh3d\":[{\"type\":\"mesh3d\",\"colorbar\":{\"outlinewidth\":0,\"ticks\":\"\"}}],\"scatter\":[{\"fillpattern\":{\"fillmode\":\"overlay\",\"size\":10,\"solidity\":0.2},\"type\":\"scatter\"}],\"parcoords\":[{\"type\":\"parcoords\",\"line\":{\"colorbar\":{\"outlinewidth\":0,\"ticks\":\"\"}}}],\"scatterpolargl\":[{\"type\":\"scatterpolargl\",\"marker\":{\"colorbar\":{\"outlinewidth\":0,\"ticks\":\"\"}}}],\"bar\":[{\"error_x\":{\"color\":\"#2a3f5f\"},\"error_y\":{\"color\":\"#2a3f5f\"},\"marker\":{\"line\":{\"color\":\"#E5ECF6\",\"width\":0.5},\"pattern\":{\"fillmode\":\"overlay\",\"size\":10,\"solidity\":0.2}},\"type\":\"bar\"}],\"scattergeo\":[{\"type\":\"scattergeo\",\"marker\":{\"colorbar\":{\"outlinewidth\":0,\"ticks\":\"\"}}}],\"scatterpolar\":[{\"type\":\"scatterpolar\",\"marker\":{\"colorbar\":{\"outlinewidth\":0,\"ticks\":\"\"}}}],\"histogram\":[{\"marker\":{\"pattern\":{\"fillmode\":\"overlay\",\"size\":10,\"solidity\":0.2}},\"type\":\"histogram\"}],\"scattergl\":[{\"type\":\"scattergl\",\"marker\":{\"colorbar\":{\"outlinewidth\":0,\"ticks\":\"\"}}}],\"scatter3d\":[{\"type\":\"scatter3d\",\"line\":{\"colorbar\":{\"outlinewidth\":0,\"ticks\":\"\"}},\"marker\":{\"colorbar\":{\"outlinewidth\":0,\"ticks\":\"\"}}}],\"scattermapbox\":[{\"type\":\"scattermapbox\",\"marker\":{\"colorbar\":{\"outlinewidth\":0,\"ticks\":\"\"}}}],\"scatterternary\":[{\"type\":\"scatterternary\",\"marker\":{\"colorbar\":{\"outlinewidth\":0,\"ticks\":\"\"}}}],\"scattercarpet\":[{\"type\":\"scattercarpet\",\"marker\":{\"colorbar\":{\"outlinewidth\":0,\"ticks\":\"\"}}}],\"carpet\":[{\"aaxis\":{\"endlinecolor\":\"#2a3f5f\",\"gridcolor\":\"white\",\"linecolor\":\"white\",\"minorgridcolor\":\"white\",\"startlinecolor\":\"#2a3f5f\"},\"baxis\":{\"endlinecolor\":\"#2a3f5f\",\"gridcolor\":\"white\",\"linecolor\":\"white\",\"minorgridcolor\":\"white\",\"startlinecolor\":\"#2a3f5f\"},\"type\":\"carpet\"}],\"table\":[{\"cells\":{\"fill\":{\"color\":\"#EBF0F8\"},\"line\":{\"color\":\"white\"}},\"header\":{\"fill\":{\"color\":\"#C8D4E3\"},\"line\":{\"color\":\"white\"}},\"type\":\"table\"}],\"barpolar\":[{\"marker\":{\"line\":{\"color\":\"#E5ECF6\",\"width\":0.5},\"pattern\":{\"fillmode\":\"overlay\",\"size\":10,\"solidity\":0.2}},\"type\":\"barpolar\"}],\"pie\":[{\"automargin\":true,\"type\":\"pie\"}]},\"layout\":{\"autotypenumbers\":\"strict\",\"colorway\":[\"#636efa\",\"#EF553B\",\"#00cc96\",\"#ab63fa\",\"#FFA15A\",\"#19d3f3\",\"#FF6692\",\"#B6E880\",\"#FF97FF\",\"#FECB52\"],\"font\":{\"color\":\"#2a3f5f\"},\"hovermode\":\"closest\",\"hoverlabel\":{\"align\":\"left\"},\"paper_bgcolor\":\"white\",\"plot_bgcolor\":\"#E5ECF6\",\"polar\":{\"bgcolor\":\"#E5ECF6\",\"angularaxis\":{\"gridcolor\":\"white\",\"linecolor\":\"white\",\"ticks\":\"\"},\"radialaxis\":{\"gridcolor\":\"white\",\"linecolor\":\"white\",\"ticks\":\"\"}},\"ternary\":{\"bgcolor\":\"#E5ECF6\",\"aaxis\":{\"gridcolor\":\"white\",\"linecolor\":\"white\",\"ticks\":\"\"},\"baxis\":{\"gridcolor\":\"white\",\"linecolor\":\"white\",\"ticks\":\"\"},\"caxis\":{\"gridcolor\":\"white\",\"linecolor\":\"white\",\"ticks\":\"\"}},\"coloraxis\":{\"colorbar\":{\"outlinewidth\":0,\"ticks\":\"\"}},\"colorscale\":{\"sequential\":[[0.0,\"#0d0887\"],[0.1111111111111111,\"#46039f\"],[0.2222222222222222,\"#7201a8\"],[0.3333333333333333,\"#9c179e\"],[0.4444444444444444,\"#bd3786\"],[0.5555555555555556,\"#d8576b\"],[0.6666666666666666,\"#ed7953\"],[0.7777777777777778,\"#fb9f3a\"],[0.8888888888888888,\"#fdca26\"],[1.0,\"#f0f921\"]],\"sequentialminus\":[[0.0,\"#0d0887\"],[0.1111111111111111,\"#46039f\"],[0.2222222222222222,\"#7201a8\"],[0.3333333333333333,\"#9c179e\"],[0.4444444444444444,\"#bd3786\"],[0.5555555555555556,\"#d8576b\"],[0.6666666666666666,\"#ed7953\"],[0.7777777777777778,\"#fb9f3a\"],[0.8888888888888888,\"#fdca26\"],[1.0,\"#f0f921\"]],\"diverging\":[[0,\"#8e0152\"],[0.1,\"#c51b7d\"],[0.2,\"#de77ae\"],[0.3,\"#f1b6da\"],[0.4,\"#fde0ef\"],[0.5,\"#f7f7f7\"],[0.6,\"#e6f5d0\"],[0.7,\"#b8e186\"],[0.8,\"#7fbc41\"],[0.9,\"#4d9221\"],[1,\"#276419\"]]},\"xaxis\":{\"gridcolor\":\"white\",\"linecolor\":\"white\",\"ticks\":\"\",\"title\":{\"standoff\":15},\"zerolinecolor\":\"white\",\"automargin\":true,\"zerolinewidth\":2},\"yaxis\":{\"gridcolor\":\"white\",\"linecolor\":\"white\",\"ticks\":\"\",\"title\":{\"standoff\":15},\"zerolinecolor\":\"white\",\"automargin\":true,\"zerolinewidth\":2},\"scene\":{\"xaxis\":{\"backgroundcolor\":\"#E5ECF6\",\"gridcolor\":\"white\",\"linecolor\":\"white\",\"showbackground\":true,\"ticks\":\"\",\"zerolinecolor\":\"white\",\"gridwidth\":2},\"yaxis\":{\"backgroundcolor\":\"#E5ECF6\",\"gridcolor\":\"white\",\"linecolor\":\"white\",\"showbackground\":true,\"ticks\":\"\",\"zerolinecolor\":\"white\",\"gridwidth\":2},\"zaxis\":{\"backgroundcolor\":\"#E5ECF6\",\"gridcolor\":\"white\",\"linecolor\":\"white\",\"showbackground\":true,\"ticks\":\"\",\"zerolinecolor\":\"white\",\"gridwidth\":2}},\"shapedefaults\":{\"line\":{\"color\":\"#2a3f5f\"}},\"annotationdefaults\":{\"arrowcolor\":\"#2a3f5f\",\"arrowhead\":0,\"arrowwidth\":1},\"geo\":{\"bgcolor\":\"white\",\"landcolor\":\"#E5ECF6\",\"subunitcolor\":\"white\",\"showland\":true,\"showlakes\":true,\"lakecolor\":\"white\"},\"title\":{\"x\":0.05},\"mapbox\":{\"style\":\"light\"}}},\"xaxis\":{\"anchor\":\"y\",\"domain\":[0.0,1.0],\"title\":{\"text\":\"Time [h]\"}},\"yaxis\":{\"anchor\":\"x\",\"domain\":[0.0,1.0],\"title\":{\"text\":\"$\\\\text{Mn, Mw }[g\\u002fmol] \\\\cdot 10^{-5}\\u002f \\\\ [ \\\\%]$\"}},\"legend\":{\"tracegroupgap\":0,\"orientation\":\"h\",\"yanchor\":\"bottom\",\"y\":1.05,\"xanchor\":\"left\",\"x\":-0.1},\"margin\":{\"t\":60}},                        {\"responsive\": true}                    ).then(function(){\n                            \nvar gd = document.getElementById('e2eb6d8e-142c-49f2-a8bb-585971470702');\nvar x = new MutationObserver(function (mutations, observer) {{\n        var display = window.getComputedStyle(gd).display;\n        if (!display || display === 'none') {{\n            console.log([gd, 'removed!']);\n            Plotly.purge(gd);\n            observer.disconnect();\n        }}\n}});\n\n// Listen for the removal of the full notebook cells\nvar notebookContainer = gd.closest('#notebook-container');\nif (notebookContainer) {{\n    x.observe(notebookContainer, {childList: true});\n}}\n\n// Listen for the clearing of the current output cell\nvar outputEl = gd.closest('.output');\nif (outputEl) {{\n    x.observe(outputEl, {childList: true});\n}}\n\n                        })                };                });            </script>        </div>"
     },
     "metadata": {},
     "output_type": "display_data"
    },
    {
     "data": {
      "text/plain": "'\\nY. Köster:\\nThe Comparison of proof and prior data shows that the experimental data is not easily reproducible with respective accuracy in small orders of magnitude (Conversion after 15 h around 10 %)\\nEspecially for the RAFT synthesis with this concern of low reaction rate an extrapolation further than double the time (to 30 h) seems not feasible.\\n Therefore the former time cap of 70 h gets changed to 30 h.\\n'"
     },
     "execution_count": 93,
     "metadata": {},
     "output_type": "execute_result"
    }
   ],
   "source": [
    "# comparing proof and original experiments data\n",
    "fig = px.line()\n",
    "\n",
    "for idx, data in (enumerate(data_type_list)):\n",
    "    comb_d = pd.concat([proof_df, search_for_exp([\"146\", \"90\", \"205\"])])\n",
    "    for kin, exp_nr in zip(comb_d[data], comb_d[\"exp_nr\"]):\n",
    "        fig.add_scatter(x=kin[0], y=kin[1], mode=\"lines+markers\", opacity=0.5, name=exp_nr, marker=dict(color=colors[idx%len(colors)]), showlegend=False, legendgroup=str(idx))\n",
    "    # custom legend\n",
    "    fig.add_scatter(x=[None], y=[None], marker=dict(color=colors[idx%len(colors)]), name=data_list_name[idx], legendgroup=str(idx))\n",
    "# adding a threshold line because the SEC peaks smear into syspeak at that point\n",
    "fig.add_scatter(x=[0, 84], y=[1000*10**(-5), 1000*10**(-5)], mode=\"lines\", line=dict(dash=\"dash\"), name=\"SEC limit\", legendgroup=\"threshold\")\n",
    "fig.update_layout(legend=dict(orientation=\"h\", yanchor=\"bottom\", y=1.05, xanchor=\"left\", x=-0.1 ), yaxis_title=\"$\\\\text{Mn, Mw }[g/mol] \\cdot 10^{-5}/ \\ [ \\%]$\", xaxis_title=\"Time [h]\")\n",
    "fig.show()\n",
    "\"\"\"\n",
    "Y. Köster:\n",
    "The Comparison of proof and prior data shows that the experimental data is not easily reproducible with respective accuracy in small orders of magnitude (Conversion after 15 h around 10 %)\n",
    "Especially for the RAFT synthesis with this concern of low reaction rate an extrapolation further than double the time (to 30 h) seems not feasible.\n",
    " Therefore the former time cap of 70 h gets changed to 30 h.\n",
    "\"\"\""
   ],
   "metadata": {
    "collapsed": false,
    "pycharm": {
     "name": "#%%\n"
    }
   }
  },
  {
   "cell_type": "code",
   "execution_count": 101,
   "outputs": [
    {
     "data": {
      "application/vnd.plotly.v1+json": {
       "data": [
        {
         "hovertemplate": "<extra></extra>",
         "legendgroup": "",
         "line": {
          "color": "#636efa",
          "dash": "solid"
         },
         "marker": {
          "symbol": "circle"
         },
         "mode": "lines",
         "name": "",
         "orientation": "v",
         "showlegend": false,
         "xaxis": "x",
         "yaxis": "y",
         "type": "scatter"
        },
        {
         "legendgroup": "188",
         "marker": {
          "color": "#FF6692"
         },
         "mode": "lines+markers",
         "name": "188",
         "x": [
          0.0,
          1.0055555555555555,
          2.011111111111111,
          4.018055555555556,
          8.016666666666667,
          15.016666666666667
         ],
         "y": [
          0.0,
          0.09060955518945646,
          0.14266886326194406,
          0.26490939044481066,
          0.4761120263591433,
          0.6879736408566721
         ],
         "type": "scatter"
        },
        {
         "legendgroup": "188",
         "marker": {
          "color": "#ff84b0"
         },
         "mode": "lines+markers",
         "name": "Mn of 188",
         "x": [
          2.011111111111111,
          4.018055555555556,
          6.008333333333334,
          8.016666666666667,
          10.011111111111111,
          15.016666666666667
         ],
         "y": [
          0.58,
          0.55,
          0.47,
          0.46,
          0.4,
          0.33
         ],
         "type": "scatter"
        },
        {
         "legendgroup": "188",
         "marker": {
          "color": "#c34874"
         },
         "mode": "lines+markers",
         "name": "Mw of 188",
         "opacity": 0.5,
         "x": [
          1.0055555555555555,
          2.011111111111111,
          4.018055555555556,
          6.008333333333334,
          8.016666666666667,
          10.011111111111111,
          15.016666666666667
         ],
         "y": [
          1.0,
          0.96,
          0.9,
          0.82,
          0.79,
          0.75,
          0.67
         ],
         "type": "scatter"
        },
        {
         "legendgroup": "189",
         "marker": {
          "color": "#B6E880"
         },
         "mode": "lines+markers",
         "name": "189",
         "x": [
          0.0,
          2.0680555555555555,
          4.0777777777777775,
          8.090277777777779,
          15.098611111111111
         ],
         "y": [
          0.0,
          0.08338557993730411,
          0.16614420062695923,
          0.2896551724137931,
          0.45047021943573673
         ],
         "type": "scatter"
        },
        {
         "legendgroup": "189",
         "marker": {
          "color": "#d4ff9e"
         },
         "mode": "lines+markers",
         "name": "Mn of 189",
         "x": [
          1.073611111111111,
          2.0680555555555555,
          4.0777777777777775,
          6.063888888888889,
          8.090277777777779,
          10.084722222222222,
          15.098611111111111
         ],
         "y": [
          0.81,
          0.6,
          0.67,
          0.6,
          0.58,
          0.54,
          0.49
         ],
         "type": "scatter"
        },
        {
         "legendgroup": "189",
         "marker": {
          "color": "#98c362"
         },
         "mode": "lines+markers",
         "name": "Mw of 189",
         "opacity": 0.5,
         "x": [
          2.0680555555555555,
          4.0777777777777775,
          6.063888888888889,
          8.090277777777779,
          10.084722222222222,
          15.098611111111111
         ],
         "y": [
          0.93,
          0.92,
          0.88,
          0.85,
          0.83,
          0.78
         ],
         "type": "scatter"
        },
        {
         "legendgroup": "190",
         "marker": {
          "color": "#FF97FF"
         },
         "mode": "lines+markers",
         "name": "190",
         "x": [
          0.0,
          2.0680555555555555,
          4.0777777777777775,
          8.090277777777779,
          15.098611111111111
         ],
         "y": [
          0.0,
          0.19166666666666665,
          0.3472222222222222,
          0.5438888888888889,
          0.7438888888888888
         ],
         "type": "scatter"
        },
        {
         "legendgroup": "190",
         "marker": {
          "color": "#ffb5ff"
         },
         "mode": "lines+markers",
         "name": "Mn of 190",
         "x": [
          1.073611111111111,
          2.0680555555555555,
          4.0777777777777775,
          6.063888888888889,
          8.090277777777779,
          10.084722222222222,
          15.098611111111111
         ],
         "y": [
          0.74,
          0.73,
          0.65,
          0.58,
          0.52,
          0.46,
          0.39
         ],
         "type": "scatter"
        },
        {
         "legendgroup": "190",
         "marker": {
          "color": "#c379c3"
         },
         "mode": "lines+markers",
         "name": "Mw of 190",
         "opacity": 0.5,
         "x": [
          4.0777777777777775,
          6.063888888888889,
          8.090277777777779,
          10.084722222222222,
          15.098611111111111
         ],
         "y": [
          1.0,
          0.93,
          0.87,
          0.84,
          0.74
         ],
         "type": "scatter"
        },
        {
         "legendgroup": "191",
         "marker": {
          "color": "#FECB52"
         },
         "mode": "lines+markers",
         "name": "191",
         "x": [
          0.0,
          4.205555555555556,
          8.256944444444445,
          15.291666666666666
         ],
         "y": [
          0.0,
          0.12838427947598252,
          0.26055312954876275,
          0.43056768558951963
         ],
         "type": "scatter"
        },
        {
         "legendgroup": "191",
         "marker": {
          "color": "#ffe970"
         },
         "mode": "lines+markers",
         "name": "Mn of 191",
         "x": [
          1.1916666666666667,
          2.1847222222222222,
          4.205555555555556,
          6.180555555555555,
          8.256944444444445,
          10.233333333333333,
          15.291666666666666
         ],
         "y": [
          0.51,
          0.55,
          0.56,
          0.48,
          0.44,
          0.39,
          0.4
         ],
         "type": "scatter"
        },
        {
         "legendgroup": "191",
         "marker": {
          "color": "#c3ad34"
         },
         "mode": "lines+markers",
         "name": "Mw of 191",
         "opacity": 0.5,
         "x": [
          1.1916666666666667,
          2.1847222222222222,
          4.205555555555556,
          6.180555555555555,
          8.256944444444445,
          10.233333333333333,
          15.291666666666666
         ],
         "y": [
          0.69,
          0.79,
          0.79,
          0.65,
          0.62,
          0.53,
          0.56
         ],
         "type": "scatter"
        },
        {
         "legendgroup": "194",
         "marker": {
          "color": "#00CC96"
         },
         "mode": "lines+markers",
         "name": "194",
         "x": [
          0.0,
          2.301388888888889,
          4.336111111111111,
          8.415277777777778,
          15.472222222222221
         ],
         "y": [
          0.0,
          0.16074548631333718,
          0.2670355270821201,
          0.43244030285381485,
          0.6138613861386139
         ],
         "type": "scatter"
        },
        {
         "legendgroup": "194",
         "marker": {
          "color": "#1eeab4"
         },
         "mode": "lines+markers",
         "name": "Mn of 194",
         "x": [
          1.3125,
          2.301388888888889,
          4.336111111111111,
          6.295833333333333,
          8.415277777777778,
          10.383333333333333,
          15.472222222222221
         ],
         "y": [
          0.82,
          0.81,
          0.64,
          0.61,
          0.54,
          0.56,
          0.46
         ],
         "type": "scatter"
        },
        {
         "legendgroup": "194",
         "marker": {
          "color": "#00ae78"
         },
         "mode": "lines+markers",
         "name": "Mw of 194",
         "opacity": 0.5,
         "x": [
          4.336111111111111,
          6.295833333333333,
          8.415277777777778,
          10.383333333333333,
          15.472222222222221
         ],
         "y": [
          0.97,
          0.93,
          0.87,
          0.84,
          0.78
         ],
         "type": "scatter"
        },
        {
         "legendgroup": "195",
         "marker": {
          "color": "#AB63FA"
         },
         "mode": "lines+markers",
         "name": "195",
         "x": [
          0.0,
          1.3736111111111111,
          2.3694444444444445,
          4.409722222222222,
          8.501388888888888,
          15.568055555555556
         ],
         "y": [
          0.0,
          0.1295518207282912,
          0.24334733893557414,
          0.4474789915966386,
          0.6820728291316527,
          0.844187675070028
         ],
         "type": "scatter"
        },
        {
         "legendgroup": "195",
         "marker": {
          "color": "#c981ff"
         },
         "mode": "lines+markers",
         "name": "Mn of 195",
         "x": [
          2.3694444444444445,
          4.409722222222222,
          6.358333333333333,
          8.501388888888888,
          10.466666666666667,
          15.568055555555556
         ],
         "y": [
          0.9,
          0.7,
          0.66,
          0.54,
          0.52,
          0.45
         ],
         "type": "scatter"
        },
        {
         "legendgroup": "195",
         "marker": {
          "color": "#8d45c3"
         },
         "mode": "lines+markers",
         "name": "Mw of 195",
         "opacity": 0.5,
         "x": [
          6.358333333333333,
          8.501388888888888,
          10.466666666666667,
          15.568055555555556
         ],
         "y": [
          0.99,
          0.94,
          0.92,
          0.81
         ],
         "type": "scatter"
        },
        {
         "legendgroup": "208",
         "marker": {
          "color": "#19D3F3"
         },
         "mode": "lines+markers",
         "name": "208",
         "x": [
          0.0,
          1.0055555555555555,
          2.011111111111111,
          4.018055555555556,
          8.016666666666667,
          15.016666666666667
         ],
         "y": [
          0.0,
          0.09312134977287478,
          0.14665801427644387,
          0.25470473718364695,
          0.5035691109669046,
          0.6930564568462038
         ],
         "type": "scatter"
        },
        {
         "legendgroup": "208",
         "marker": {
          "color": "#37f1ff"
         },
         "mode": "lines+markers",
         "name": "Mn of 208",
         "x": [
          1.0055555555555555,
          2.011111111111111,
          4.018055555555556,
          6.008333333333334,
          8.016666666666667,
          10.011111111111111,
          15.016666666666667
         ],
         "y": [
          0.77,
          0.67,
          0.6,
          0.5,
          0.43,
          0.41,
          0.31
         ],
         "type": "scatter"
        },
        {
         "legendgroup": "208",
         "marker": {
          "color": "#00b5c3"
         },
         "mode": "lines+markers",
         "name": "Mw of 208",
         "opacity": 0.5,
         "x": [
          1.0055555555555555,
          2.011111111111111,
          4.018055555555556,
          6.008333333333334,
          8.016666666666667,
          10.011111111111111,
          15.016666666666667
         ],
         "y": [
          1.0,
          0.99,
          0.91,
          0.82,
          0.76,
          0.73,
          0.64
         ],
         "type": "scatter"
        },
        {
         "legendgroup": "209",
         "marker": {
          "color": "#FF6692"
         },
         "mode": "lines+markers",
         "name": "209",
         "x": [
          0.0,
          1.073611111111111,
          2.0680555555555555,
          4.0777777777777775,
          8.090277777777779,
          15.098611111111111
         ],
         "y": [
          0.0,
          0.04596060519554668,
          0.08935198401370259,
          0.2340850699400514,
          0.3799600342563517,
          0.4150727947473595
         ],
         "type": "scatter"
        },
        {
         "legendgroup": "209",
         "marker": {
          "color": "#ff84b0"
         },
         "mode": "lines+markers",
         "name": "Mn of 209",
         "x": [
          2.0680555555555555,
          4.0777777777777775,
          6.063888888888889,
          8.090277777777779,
          10.084722222222222,
          15.098611111111111
         ],
         "y": [
          0.88,
          0.68,
          0.57,
          0.5,
          0.51,
          0.39
         ],
         "type": "scatter"
        },
        {
         "legendgroup": "209",
         "marker": {
          "color": "#c34874"
         },
         "mode": "lines+markers",
         "name": "Mw of 209",
         "opacity": 0.5,
         "x": [
          4.0777777777777775,
          6.063888888888889,
          8.090277777777779,
          10.084722222222222,
          15.098611111111111
         ],
         "y": [
          1.0,
          0.91,
          0.85,
          0.83,
          0.73
         ],
         "type": "scatter"
        },
        {
         "legendgroup": "210",
         "marker": {
          "color": "#B6E880"
         },
         "mode": "lines+markers",
         "name": "210",
         "x": [
          0.0,
          1.1916666666666667,
          2.1847222222222222,
          4.205555555555556,
          8.256944444444445,
          15.291666666666666
         ],
         "y": [
          0.0,
          -0.030267062314540016,
          -0.03264094955489605,
          0.07181008902077146,
          -0.010979228486646786,
          0.24599406528189915
         ],
         "type": "scatter"
        },
        {
         "legendgroup": "210",
         "marker": {
          "color": "#d4ff9e"
         },
         "mode": "lines+markers",
         "name": "Mn of 210",
         "x": [
          1.1916666666666667,
          2.1847222222222222,
          4.205555555555556,
          6.180555555555555,
          8.256944444444445,
          10.233333333333333,
          15.291666666666666
         ],
         "y": [
          0.53,
          0.61,
          0.57,
          0.46,
          0.5,
          0.41,
          0.4
         ],
         "type": "scatter"
        },
        {
         "legendgroup": "210",
         "marker": {
          "color": "#98c362"
         },
         "mode": "lines+markers",
         "name": "Mw of 210",
         "opacity": 0.5,
         "x": [
          1.1916666666666667,
          2.1847222222222222,
          4.205555555555556,
          6.180555555555555,
          8.256944444444445,
          10.233333333333333,
          15.291666666666666
         ],
         "y": [
          0.69,
          0.84,
          0.77,
          0.54,
          0.73,
          0.51,
          0.52
         ],
         "type": "scatter"
        },
        {
         "legendgroup": "213",
         "marker": {
          "color": "#636EFA"
         },
         "mode": "lines+markers",
         "name": "213",
         "x": [
          0.0,
          1.3125,
          2.301388888888889,
          4.336111111111111,
          8.415277777777778,
          15.472222222222221
         ],
         "y": [
          0.0,
          0.14582731735489451,
          0.08172105111175276,
          0.3014727115218019,
          0.45018769852728846,
          0.6116084319953797
         ],
         "type": "scatter"
        },
        {
         "legendgroup": "213",
         "marker": {
          "color": "#818cff"
         },
         "mode": "lines+markers",
         "name": "Mn of 213",
         "x": [
          1.3125,
          2.301388888888889,
          4.336111111111111,
          6.295833333333333,
          8.415277777777778,
          10.383333333333333,
          15.472222222222221
         ],
         "y": [
          0.88,
          0.78,
          0.62,
          0.57,
          0.5,
          0.47,
          0.42
         ],
         "type": "scatter"
        },
        {
         "legendgroup": "213",
         "marker": {
          "color": "#4550c3"
         },
         "mode": "lines+markers",
         "name": "Mw of 213",
         "opacity": 0.5,
         "x": [
          4.336111111111111,
          6.295833333333333,
          8.415277777777778,
          10.383333333333333,
          15.472222222222221
         ],
         "y": [
          0.94,
          0.89,
          0.83,
          0.81,
          0.75
         ],
         "type": "scatter"
        },
        {
         "legendgroup": "214",
         "marker": {
          "color": "#EF553B"
         },
         "mode": "lines+markers",
         "name": "214",
         "x": [
          0.0,
          4.409722222222222,
          8.501388888888888,
          15.568055555555556
         ],
         "y": [
          0.0,
          0.46673669467787116,
          0.6547619047619048,
          0.7811624649859944
         ],
         "type": "scatter"
        },
        {
         "legendgroup": "214",
         "marker": {
          "color": "#ff7359"
         },
         "mode": "lines+markers",
         "name": "Mn of 214",
         "x": [
          2.3694444444444445,
          4.409722222222222,
          6.358333333333333,
          8.501388888888888,
          10.466666666666667,
          15.568055555555556
         ],
         "y": [
          0.9,
          0.72,
          0.64,
          0.55,
          0.56,
          0.41
         ],
         "type": "scatter"
        },
        {
         "legendgroup": "214",
         "marker": {
          "color": "#c3371d"
         },
         "mode": "lines+markers",
         "name": "Mw of 214",
         "opacity": 0.5,
         "x": [
          6.358333333333333,
          8.501388888888888,
          10.466666666666667,
          15.568055555555556
         ],
         "y": [
          1.0,
          0.94,
          0.93,
          0.83
         ],
         "type": "scatter"
        },
        {
         "legendgroup": "215",
         "marker": {
          "color": "#00CC96"
         },
         "mode": "lines+markers",
         "name": "215",
         "x": [
          0.0,
          1.0055555555555555,
          2.011111111111111,
          4.018055555555556,
          8.016666666666667,
          15.016666666666667
         ],
         "y": [
          0.0,
          0.08609271523178819,
          0.1291390728476821,
          0.2847682119205298,
          0.5298013245033113,
          0.8112582781456954
         ],
         "type": "scatter"
        },
        {
         "legendgroup": "215",
         "marker": {
          "color": "#1eeab4"
         },
         "mode": "lines+markers",
         "name": "Mn of 215",
         "x": [
          1.0055555555555555,
          2.011111111111111,
          4.018055555555556,
          6.008333333333334,
          8.016666666666667,
          10.011111111111111,
          15.016666666666667
         ],
         "y": [
          0.54,
          0.7,
          0.85,
          0.82,
          0.71,
          0.64,
          0.52
         ],
         "type": "scatter"
        },
        {
         "legendgroup": "215",
         "marker": {
          "color": "#00ae78"
         },
         "mode": "lines+markers",
         "name": "Mw of 215",
         "opacity": 0.5,
         "x": [
          1.0055555555555555,
          2.011111111111111,
          10.011111111111111,
          15.016666666666667
         ],
         "y": [
          0.84,
          1.0,
          1.0,
          0.89
         ],
         "type": "scatter"
        },
        {
         "legendgroup": "230",
         "marker": {
          "color": "#B6E880"
         },
         "mode": "lines+markers",
         "name": "230",
         "x": [
          0.0,
          2.011111111111111,
          4.018055555555556,
          8.016666666666667,
          15.016666666666667
         ],
         "y": [
          0.0,
          0.2087542087542088,
          0.3939393939393939,
          0.6026936026936027,
          0.8013468013468014
         ],
         "type": "scatter"
        },
        {
         "legendgroup": "230",
         "marker": {
          "color": "#d4ff9e"
         },
         "mode": "lines+markers",
         "name": "Mn of 230",
         "x": [
          1.0055555555555555,
          2.011111111111111,
          4.018055555555556,
          6.008333333333334,
          8.016666666666667,
          10.011111111111111,
          15.016666666666667
         ],
         "y": [
          0.74,
          0.67,
          0.54,
          0.48,
          0.44,
          0.4,
          0.26
         ],
         "type": "scatter"
        },
        {
         "legendgroup": "230",
         "marker": {
          "color": "#98c362"
         },
         "mode": "lines+markers",
         "name": "Mw of 230",
         "opacity": 0.5,
         "x": [
          1.0055555555555555,
          2.011111111111111,
          4.018055555555556,
          6.008333333333334,
          8.016666666666667,
          10.011111111111111,
          15.016666666666667
         ],
         "y": [
          1.0,
          0.96,
          0.83,
          0.77,
          0.72,
          0.7,
          0.62
         ],
         "type": "scatter"
        },
        {
         "legendgroup": "231",
         "marker": {
          "color": "#FF97FF"
         },
         "mode": "lines+markers",
         "name": "231",
         "x": [
          0.0,
          1.073611111111111,
          2.0680555555555555,
          4.0777777777777775,
          8.090277777777779,
          15.098611111111111
         ],
         "y": [
          0.0,
          0.05414012738853502,
          0.07643312101910837,
          0.15605095541401282,
          0.29299363057324834,
          0.445859872611465
         ],
         "type": "scatter"
        },
        {
         "legendgroup": "231",
         "marker": {
          "color": "#ffb5ff"
         },
         "mode": "lines+markers",
         "name": "Mn of 231",
         "x": [
          1.073611111111111,
          2.0680555555555555,
          4.0777777777777775,
          6.063888888888889,
          8.090277777777779,
          10.084722222222222,
          15.098611111111111
         ],
         "y": [
          0.56,
          0.64,
          0.62,
          0.59,
          0.55,
          0.48,
          0.39
         ],
         "type": "scatter"
        },
        {
         "legendgroup": "231",
         "marker": {
          "color": "#c379c3"
         },
         "mode": "lines+markers",
         "name": "Mw of 231",
         "opacity": 0.5,
         "x": [
          1.073611111111111,
          2.0680555555555555,
          4.0777777777777775,
          6.063888888888889,
          8.090277777777779,
          10.084722222222222,
          15.098611111111111
         ],
         "y": [
          0.88,
          0.93,
          0.88,
          0.85,
          0.84,
          0.82,
          0.78
         ],
         "type": "scatter"
        },
        {
         "legendgroup": "232",
         "marker": {
          "color": "#FECB52"
         },
         "mode": "lines+markers",
         "name": "232",
         "x": [
          0.0,
          1.073611111111111,
          4.0777777777777775,
          8.090277777777779,
          15.098611111111111
         ],
         "y": [
          0.0,
          0.11111111111111116,
          0.3641975308641976,
          0.5709876543209877,
          0.7592592592592593
         ],
         "type": "scatter"
        },
        {
         "legendgroup": "232",
         "marker": {
          "color": "#ffe970"
         },
         "mode": "lines+markers",
         "name": "Mn of 232",
         "x": [
          2.0680555555555555,
          4.0777777777777775,
          6.063888888888889,
          8.090277777777779,
          10.084722222222222,
          15.098611111111111
         ],
         "y": [
          0.65,
          0.53,
          0.54,
          0.43,
          0.44,
          0.39
         ],
         "type": "scatter"
        },
        {
         "legendgroup": "232",
         "marker": {
          "color": "#c3ad34"
         },
         "mode": "lines+markers",
         "name": "Mw of 232",
         "opacity": 0.5,
         "x": [
          4.0777777777777775,
          6.063888888888889,
          8.090277777777779,
          10.084722222222222,
          15.098611111111111
         ],
         "y": [
          0.96,
          0.91,
          0.82,
          0.81,
          0.73
         ],
         "type": "scatter"
        },
        {
         "legendgroup": "234",
         "marker": {
          "color": "#EF553B"
         },
         "mode": "lines+markers",
         "name": "234",
         "x": [
          0.0,
          2.1847222222222222,
          4.205555555555556,
          8.256944444444445,
          15.291666666666666
         ],
         "y": [
          0.0,
          0.14335060449050085,
          0.49870466321243523,
          0.8717616580310881,
          0.9352331606217616
         ],
         "type": "scatter"
        },
        {
         "legendgroup": "234",
         "marker": {
          "color": "#ff7359"
         },
         "mode": "lines+markers",
         "name": "Mn of 234",
         "x": [
          2.1847222222222222,
          4.205555555555556,
          6.180555555555555,
          8.256944444444445,
          15.291666666666666
         ],
         "y": [
          0.48,
          0.54,
          0.47,
          0.46,
          0.41
         ],
         "type": "scatter"
        },
        {
         "legendgroup": "234",
         "marker": {
          "color": "#c3371d"
         },
         "mode": "lines+markers",
         "name": "Mw of 234",
         "opacity": 0.5,
         "x": [
          2.1847222222222222,
          4.205555555555556,
          6.180555555555555,
          8.256944444444445,
          15.291666666666666
         ],
         "y": [
          0.72,
          0.84,
          0.85,
          0.85,
          0.82
         ],
         "type": "scatter"
        },
        {
         "legendgroup": "235",
         "marker": {
          "color": "#00CC96"
         },
         "mode": "lines+markers",
         "name": "235",
         "x": [
          0.0,
          1.2513888888888889,
          2.2416666666666667,
          4.273611111111111,
          8.338888888888889,
          15.381944444444445
         ],
         "y": [
          0.0,
          0.1428571428571429,
          0.20972644376899696,
          0.37689969604863227,
          0.547112462006079,
          0.7051671732522796
         ],
         "type": "scatter"
        },
        {
         "legendgroup": "235",
         "marker": {
          "color": "#1eeab4"
         },
         "mode": "lines+markers",
         "name": "Mn of 235",
         "x": [
          1.2513888888888889,
          2.2416666666666667,
          4.273611111111111,
          6.2375,
          8.338888888888889,
          10.306944444444444,
          15.381944444444445
         ],
         "y": [
          0.77,
          0.74,
          0.58,
          0.46,
          0.47,
          0.47,
          0.36
         ],
         "type": "scatter"
        },
        {
         "legendgroup": "235",
         "marker": {
          "color": "#00ae78"
         },
         "mode": "lines+markers",
         "name": "Mw of 235",
         "opacity": 0.5,
         "x": [
          2.2416666666666667,
          4.273611111111111,
          6.2375,
          8.338888888888889,
          10.306944444444444,
          15.381944444444445
         ],
         "y": [
          1.0,
          0.94,
          0.86,
          0.82,
          0.83,
          0.72
         ],
         "type": "scatter"
        },
        {
         "legendgroup": "236",
         "marker": {
          "color": "#AB63FA"
         },
         "mode": "lines+markers",
         "name": "236",
         "x": [
          0.0,
          2.301388888888889,
          4.336111111111111,
          8.415277777777778,
          15.472222222222221
         ],
         "y": [
          0.0,
          0.16332378223495714,
          0.2664756446991404,
          0.4240687679083095,
          0.6217765042979942
         ],
         "type": "scatter"
        },
        {
         "legendgroup": "236",
         "marker": {
          "color": "#c981ff"
         },
         "mode": "lines+markers",
         "name": "Mn of 236",
         "x": [
          1.3125,
          2.301388888888889,
          4.336111111111111,
          6.295833333333333,
          8.415277777777778,
          10.383333333333333,
          15.472222222222221
         ],
         "y": [
          0.83,
          0.76,
          0.8,
          0.57,
          0.48,
          0.46,
          0.47
         ],
         "type": "scatter"
        },
        {
         "legendgroup": "236",
         "marker": {
          "color": "#8d45c3"
         },
         "mode": "lines+markers",
         "name": "Mw of 236",
         "opacity": 0.5,
         "x": [
          4.336111111111111,
          6.295833333333333,
          8.415277777777778,
          10.383333333333333,
          15.472222222222221
         ],
         "y": [
          1.0,
          0.95,
          0.9,
          0.9,
          0.83
         ],
         "type": "scatter"
        },
        {
         "legendgroup": "237",
         "marker": {
          "color": "#FFA15A"
         },
         "mode": "lines+markers",
         "name": "237",
         "x": [
          0.0,
          2.3694444444444445,
          4.409722222222222,
          8.501388888888888,
          15.568055555555556
         ],
         "y": [
          0.0,
          0.2666666666666667,
          0.4666666666666667,
          0.6925925925925926,
          0.8407407407407408
         ],
         "type": "scatter"
        },
        {
         "legendgroup": "237",
         "marker": {
          "color": "#ffbf78"
         },
         "mode": "lines+markers",
         "name": "Mn of 237",
         "x": [
          2.3694444444444445,
          4.409722222222222,
          6.358333333333333,
          8.501388888888888,
          10.466666666666667,
          15.568055555555556
         ],
         "y": [
          0.89,
          0.59,
          0.57,
          0.56,
          0.48,
          0.42
         ],
         "type": "scatter"
        },
        {
         "legendgroup": "237",
         "marker": {
          "color": "#c3833c"
         },
         "mode": "lines+markers",
         "name": "Mw of 237",
         "opacity": 0.5,
         "x": [
          4.409722222222222,
          6.358333333333333,
          8.501388888888888,
          10.466666666666667,
          15.568055555555556
         ],
         "y": [
          1.0,
          0.98,
          0.91,
          0.89,
          0.79
         ],
         "type": "scatter"
        }
       ],
       "layout": {
        "template": {
         "data": {
          "histogram2dcontour": [
           {
            "type": "histogram2dcontour",
            "colorbar": {
             "outlinewidth": 0,
             "ticks": ""
            },
            "colorscale": [
             [
              0.0,
              "#0d0887"
             ],
             [
              0.1111111111111111,
              "#46039f"
             ],
             [
              0.2222222222222222,
              "#7201a8"
             ],
             [
              0.3333333333333333,
              "#9c179e"
             ],
             [
              0.4444444444444444,
              "#bd3786"
             ],
             [
              0.5555555555555556,
              "#d8576b"
             ],
             [
              0.6666666666666666,
              "#ed7953"
             ],
             [
              0.7777777777777778,
              "#fb9f3a"
             ],
             [
              0.8888888888888888,
              "#fdca26"
             ],
             [
              1.0,
              "#f0f921"
             ]
            ]
           }
          ],
          "choropleth": [
           {
            "type": "choropleth",
            "colorbar": {
             "outlinewidth": 0,
             "ticks": ""
            }
           }
          ],
          "histogram2d": [
           {
            "type": "histogram2d",
            "colorbar": {
             "outlinewidth": 0,
             "ticks": ""
            },
            "colorscale": [
             [
              0.0,
              "#0d0887"
             ],
             [
              0.1111111111111111,
              "#46039f"
             ],
             [
              0.2222222222222222,
              "#7201a8"
             ],
             [
              0.3333333333333333,
              "#9c179e"
             ],
             [
              0.4444444444444444,
              "#bd3786"
             ],
             [
              0.5555555555555556,
              "#d8576b"
             ],
             [
              0.6666666666666666,
              "#ed7953"
             ],
             [
              0.7777777777777778,
              "#fb9f3a"
             ],
             [
              0.8888888888888888,
              "#fdca26"
             ],
             [
              1.0,
              "#f0f921"
             ]
            ]
           }
          ],
          "heatmap": [
           {
            "type": "heatmap",
            "colorbar": {
             "outlinewidth": 0,
             "ticks": ""
            },
            "colorscale": [
             [
              0.0,
              "#0d0887"
             ],
             [
              0.1111111111111111,
              "#46039f"
             ],
             [
              0.2222222222222222,
              "#7201a8"
             ],
             [
              0.3333333333333333,
              "#9c179e"
             ],
             [
              0.4444444444444444,
              "#bd3786"
             ],
             [
              0.5555555555555556,
              "#d8576b"
             ],
             [
              0.6666666666666666,
              "#ed7953"
             ],
             [
              0.7777777777777778,
              "#fb9f3a"
             ],
             [
              0.8888888888888888,
              "#fdca26"
             ],
             [
              1.0,
              "#f0f921"
             ]
            ]
           }
          ],
          "heatmapgl": [
           {
            "type": "heatmapgl",
            "colorbar": {
             "outlinewidth": 0,
             "ticks": ""
            },
            "colorscale": [
             [
              0.0,
              "#0d0887"
             ],
             [
              0.1111111111111111,
              "#46039f"
             ],
             [
              0.2222222222222222,
              "#7201a8"
             ],
             [
              0.3333333333333333,
              "#9c179e"
             ],
             [
              0.4444444444444444,
              "#bd3786"
             ],
             [
              0.5555555555555556,
              "#d8576b"
             ],
             [
              0.6666666666666666,
              "#ed7953"
             ],
             [
              0.7777777777777778,
              "#fb9f3a"
             ],
             [
              0.8888888888888888,
              "#fdca26"
             ],
             [
              1.0,
              "#f0f921"
             ]
            ]
           }
          ],
          "contourcarpet": [
           {
            "type": "contourcarpet",
            "colorbar": {
             "outlinewidth": 0,
             "ticks": ""
            }
           }
          ],
          "contour": [
           {
            "type": "contour",
            "colorbar": {
             "outlinewidth": 0,
             "ticks": ""
            },
            "colorscale": [
             [
              0.0,
              "#0d0887"
             ],
             [
              0.1111111111111111,
              "#46039f"
             ],
             [
              0.2222222222222222,
              "#7201a8"
             ],
             [
              0.3333333333333333,
              "#9c179e"
             ],
             [
              0.4444444444444444,
              "#bd3786"
             ],
             [
              0.5555555555555556,
              "#d8576b"
             ],
             [
              0.6666666666666666,
              "#ed7953"
             ],
             [
              0.7777777777777778,
              "#fb9f3a"
             ],
             [
              0.8888888888888888,
              "#fdca26"
             ],
             [
              1.0,
              "#f0f921"
             ]
            ]
           }
          ],
          "surface": [
           {
            "type": "surface",
            "colorbar": {
             "outlinewidth": 0,
             "ticks": ""
            },
            "colorscale": [
             [
              0.0,
              "#0d0887"
             ],
             [
              0.1111111111111111,
              "#46039f"
             ],
             [
              0.2222222222222222,
              "#7201a8"
             ],
             [
              0.3333333333333333,
              "#9c179e"
             ],
             [
              0.4444444444444444,
              "#bd3786"
             ],
             [
              0.5555555555555556,
              "#d8576b"
             ],
             [
              0.6666666666666666,
              "#ed7953"
             ],
             [
              0.7777777777777778,
              "#fb9f3a"
             ],
             [
              0.8888888888888888,
              "#fdca26"
             ],
             [
              1.0,
              "#f0f921"
             ]
            ]
           }
          ],
          "mesh3d": [
           {
            "type": "mesh3d",
            "colorbar": {
             "outlinewidth": 0,
             "ticks": ""
            }
           }
          ],
          "scatter": [
           {
            "fillpattern": {
             "fillmode": "overlay",
             "size": 10,
             "solidity": 0.2
            },
            "type": "scatter"
           }
          ],
          "parcoords": [
           {
            "type": "parcoords",
            "line": {
             "colorbar": {
              "outlinewidth": 0,
              "ticks": ""
             }
            }
           }
          ],
          "scatterpolargl": [
           {
            "type": "scatterpolargl",
            "marker": {
             "colorbar": {
              "outlinewidth": 0,
              "ticks": ""
             }
            }
           }
          ],
          "bar": [
           {
            "error_x": {
             "color": "#2a3f5f"
            },
            "error_y": {
             "color": "#2a3f5f"
            },
            "marker": {
             "line": {
              "color": "#E5ECF6",
              "width": 0.5
             },
             "pattern": {
              "fillmode": "overlay",
              "size": 10,
              "solidity": 0.2
             }
            },
            "type": "bar"
           }
          ],
          "scattergeo": [
           {
            "type": "scattergeo",
            "marker": {
             "colorbar": {
              "outlinewidth": 0,
              "ticks": ""
             }
            }
           }
          ],
          "scatterpolar": [
           {
            "type": "scatterpolar",
            "marker": {
             "colorbar": {
              "outlinewidth": 0,
              "ticks": ""
             }
            }
           }
          ],
          "histogram": [
           {
            "marker": {
             "pattern": {
              "fillmode": "overlay",
              "size": 10,
              "solidity": 0.2
             }
            },
            "type": "histogram"
           }
          ],
          "scattergl": [
           {
            "type": "scattergl",
            "marker": {
             "colorbar": {
              "outlinewidth": 0,
              "ticks": ""
             }
            }
           }
          ],
          "scatter3d": [
           {
            "type": "scatter3d",
            "line": {
             "colorbar": {
              "outlinewidth": 0,
              "ticks": ""
             }
            },
            "marker": {
             "colorbar": {
              "outlinewidth": 0,
              "ticks": ""
             }
            }
           }
          ],
          "scattermapbox": [
           {
            "type": "scattermapbox",
            "marker": {
             "colorbar": {
              "outlinewidth": 0,
              "ticks": ""
             }
            }
           }
          ],
          "scatterternary": [
           {
            "type": "scatterternary",
            "marker": {
             "colorbar": {
              "outlinewidth": 0,
              "ticks": ""
             }
            }
           }
          ],
          "scattercarpet": [
           {
            "type": "scattercarpet",
            "marker": {
             "colorbar": {
              "outlinewidth": 0,
              "ticks": ""
             }
            }
           }
          ],
          "carpet": [
           {
            "aaxis": {
             "endlinecolor": "#2a3f5f",
             "gridcolor": "white",
             "linecolor": "white",
             "minorgridcolor": "white",
             "startlinecolor": "#2a3f5f"
            },
            "baxis": {
             "endlinecolor": "#2a3f5f",
             "gridcolor": "white",
             "linecolor": "white",
             "minorgridcolor": "white",
             "startlinecolor": "#2a3f5f"
            },
            "type": "carpet"
           }
          ],
          "table": [
           {
            "cells": {
             "fill": {
              "color": "#EBF0F8"
             },
             "line": {
              "color": "white"
             }
            },
            "header": {
             "fill": {
              "color": "#C8D4E3"
             },
             "line": {
              "color": "white"
             }
            },
            "type": "table"
           }
          ],
          "barpolar": [
           {
            "marker": {
             "line": {
              "color": "#E5ECF6",
              "width": 0.5
             },
             "pattern": {
              "fillmode": "overlay",
              "size": 10,
              "solidity": 0.2
             }
            },
            "type": "barpolar"
           }
          ],
          "pie": [
           {
            "automargin": true,
            "type": "pie"
           }
          ]
         },
         "layout": {
          "autotypenumbers": "strict",
          "colorway": [
           "#636efa",
           "#EF553B",
           "#00cc96",
           "#ab63fa",
           "#FFA15A",
           "#19d3f3",
           "#FF6692",
           "#B6E880",
           "#FF97FF",
           "#FECB52"
          ],
          "font": {
           "color": "#2a3f5f"
          },
          "hovermode": "closest",
          "hoverlabel": {
           "align": "left"
          },
          "paper_bgcolor": "white",
          "plot_bgcolor": "#E5ECF6",
          "polar": {
           "bgcolor": "#E5ECF6",
           "angularaxis": {
            "gridcolor": "white",
            "linecolor": "white",
            "ticks": ""
           },
           "radialaxis": {
            "gridcolor": "white",
            "linecolor": "white",
            "ticks": ""
           }
          },
          "ternary": {
           "bgcolor": "#E5ECF6",
           "aaxis": {
            "gridcolor": "white",
            "linecolor": "white",
            "ticks": ""
           },
           "baxis": {
            "gridcolor": "white",
            "linecolor": "white",
            "ticks": ""
           },
           "caxis": {
            "gridcolor": "white",
            "linecolor": "white",
            "ticks": ""
           }
          },
          "coloraxis": {
           "colorbar": {
            "outlinewidth": 0,
            "ticks": ""
           }
          },
          "colorscale": {
           "sequential": [
            [
             0.0,
             "#0d0887"
            ],
            [
             0.1111111111111111,
             "#46039f"
            ],
            [
             0.2222222222222222,
             "#7201a8"
            ],
            [
             0.3333333333333333,
             "#9c179e"
            ],
            [
             0.4444444444444444,
             "#bd3786"
            ],
            [
             0.5555555555555556,
             "#d8576b"
            ],
            [
             0.6666666666666666,
             "#ed7953"
            ],
            [
             0.7777777777777778,
             "#fb9f3a"
            ],
            [
             0.8888888888888888,
             "#fdca26"
            ],
            [
             1.0,
             "#f0f921"
            ]
           ],
           "sequentialminus": [
            [
             0.0,
             "#0d0887"
            ],
            [
             0.1111111111111111,
             "#46039f"
            ],
            [
             0.2222222222222222,
             "#7201a8"
            ],
            [
             0.3333333333333333,
             "#9c179e"
            ],
            [
             0.4444444444444444,
             "#bd3786"
            ],
            [
             0.5555555555555556,
             "#d8576b"
            ],
            [
             0.6666666666666666,
             "#ed7953"
            ],
            [
             0.7777777777777778,
             "#fb9f3a"
            ],
            [
             0.8888888888888888,
             "#fdca26"
            ],
            [
             1.0,
             "#f0f921"
            ]
           ],
           "diverging": [
            [
             0,
             "#8e0152"
            ],
            [
             0.1,
             "#c51b7d"
            ],
            [
             0.2,
             "#de77ae"
            ],
            [
             0.3,
             "#f1b6da"
            ],
            [
             0.4,
             "#fde0ef"
            ],
            [
             0.5,
             "#f7f7f7"
            ],
            [
             0.6,
             "#e6f5d0"
            ],
            [
             0.7,
             "#b8e186"
            ],
            [
             0.8,
             "#7fbc41"
            ],
            [
             0.9,
             "#4d9221"
            ],
            [
             1,
             "#276419"
            ]
           ]
          },
          "xaxis": {
           "gridcolor": "white",
           "linecolor": "white",
           "ticks": "",
           "title": {
            "standoff": 15
           },
           "zerolinecolor": "white",
           "automargin": true,
           "zerolinewidth": 2
          },
          "yaxis": {
           "gridcolor": "white",
           "linecolor": "white",
           "ticks": "",
           "title": {
            "standoff": 15
           },
           "zerolinecolor": "white",
           "automargin": true,
           "zerolinewidth": 2
          },
          "scene": {
           "xaxis": {
            "backgroundcolor": "#E5ECF6",
            "gridcolor": "white",
            "linecolor": "white",
            "showbackground": true,
            "ticks": "",
            "zerolinecolor": "white",
            "gridwidth": 2
           },
           "yaxis": {
            "backgroundcolor": "#E5ECF6",
            "gridcolor": "white",
            "linecolor": "white",
            "showbackground": true,
            "ticks": "",
            "zerolinecolor": "white",
            "gridwidth": 2
           },
           "zaxis": {
            "backgroundcolor": "#E5ECF6",
            "gridcolor": "white",
            "linecolor": "white",
            "showbackground": true,
            "ticks": "",
            "zerolinecolor": "white",
            "gridwidth": 2
           }
          },
          "shapedefaults": {
           "line": {
            "color": "#2a3f5f"
           }
          },
          "annotationdefaults": {
           "arrowcolor": "#2a3f5f",
           "arrowhead": 0,
           "arrowwidth": 1
          },
          "geo": {
           "bgcolor": "white",
           "landcolor": "#E5ECF6",
           "subunitcolor": "white",
           "showland": true,
           "showlakes": true,
           "lakecolor": "white"
          },
          "title": {
           "x": 0.05
          },
          "mapbox": {
           "style": "light"
          }
         }
        },
        "xaxis": {
         "anchor": "y",
         "domain": [
          0.0,
          1.0
         ],
         "title": {
          "text": "Time [h]"
         }
        },
        "yaxis": {
         "anchor": "x",
         "domain": [
          0.0,
          1.0
         ],
         "range": [
          -0.1,
          1
         ],
         "title": {
          "text": "Conversion [%]"
         }
        },
        "legend": {
         "tracegroupgap": 0
        },
        "title": {
         "text": "Kinetic Curve Fit for ['188' '189' '190' '191' '194' '195' '208' '209' '210' '213' '214' '215'\n '230' '231' '232' '234' '235' '236' '237']"
        }
       },
       "config": {
        "plotlyServerURL": "https://plot.ly"
       }
      },
      "text/html": "<div>                            <div id=\"1c371b3e-7305-48ae-83bc-3f7e90592c63\" class=\"plotly-graph-div\" style=\"height:525px; width:100%;\"></div>            <script type=\"text/javascript\">                require([\"plotly\"], function(Plotly) {                    window.PLOTLYENV=window.PLOTLYENV || {};                                    if (document.getElementById(\"1c371b3e-7305-48ae-83bc-3f7e90592c63\")) {                    Plotly.newPlot(                        \"1c371b3e-7305-48ae-83bc-3f7e90592c63\",                        [{\"hovertemplate\":\"\\u003cextra\\u003e\\u003c\\u002fextra\\u003e\",\"legendgroup\":\"\",\"line\":{\"color\":\"#636efa\",\"dash\":\"solid\"},\"marker\":{\"symbol\":\"circle\"},\"mode\":\"lines\",\"name\":\"\",\"orientation\":\"v\",\"showlegend\":false,\"xaxis\":\"x\",\"yaxis\":\"y\",\"type\":\"scatter\"},{\"legendgroup\":\"188\",\"marker\":{\"color\":\"#FF6692\"},\"mode\":\"lines+markers\",\"name\":\"188\",\"x\":[0.0,1.0055555555555555,2.011111111111111,4.018055555555556,8.016666666666667,15.016666666666667],\"y\":[0.0,0.09060955518945646,0.14266886326194406,0.26490939044481066,0.4761120263591433,0.6879736408566721],\"type\":\"scatter\"},{\"legendgroup\":\"188\",\"marker\":{\"color\":\"#ff84b0\"},\"mode\":\"lines+markers\",\"name\":\"Mn of 188\",\"x\":[2.011111111111111,4.018055555555556,6.008333333333334,8.016666666666667,10.011111111111111,15.016666666666667],\"y\":[0.58,0.55,0.47,0.46,0.4,0.33],\"type\":\"scatter\"},{\"legendgroup\":\"188\",\"marker\":{\"color\":\"#c34874\"},\"mode\":\"lines+markers\",\"name\":\"Mw of 188\",\"opacity\":0.5,\"x\":[1.0055555555555555,2.011111111111111,4.018055555555556,6.008333333333334,8.016666666666667,10.011111111111111,15.016666666666667],\"y\":[1.0,0.96,0.9,0.82,0.79,0.75,0.67],\"type\":\"scatter\"},{\"legendgroup\":\"189\",\"marker\":{\"color\":\"#B6E880\"},\"mode\":\"lines+markers\",\"name\":\"189\",\"x\":[0.0,2.0680555555555555,4.0777777777777775,8.090277777777779,15.098611111111111],\"y\":[0.0,0.08338557993730411,0.16614420062695923,0.2896551724137931,0.45047021943573673],\"type\":\"scatter\"},{\"legendgroup\":\"189\",\"marker\":{\"color\":\"#d4ff9e\"},\"mode\":\"lines+markers\",\"name\":\"Mn of 189\",\"x\":[1.073611111111111,2.0680555555555555,4.0777777777777775,6.063888888888889,8.090277777777779,10.084722222222222,15.098611111111111],\"y\":[0.81,0.6,0.67,0.6,0.58,0.54,0.49],\"type\":\"scatter\"},{\"legendgroup\":\"189\",\"marker\":{\"color\":\"#98c362\"},\"mode\":\"lines+markers\",\"name\":\"Mw of 189\",\"opacity\":0.5,\"x\":[2.0680555555555555,4.0777777777777775,6.063888888888889,8.090277777777779,10.084722222222222,15.098611111111111],\"y\":[0.93,0.92,0.88,0.85,0.83,0.78],\"type\":\"scatter\"},{\"legendgroup\":\"190\",\"marker\":{\"color\":\"#FF97FF\"},\"mode\":\"lines+markers\",\"name\":\"190\",\"x\":[0.0,2.0680555555555555,4.0777777777777775,8.090277777777779,15.098611111111111],\"y\":[0.0,0.19166666666666665,0.3472222222222222,0.5438888888888889,0.7438888888888888],\"type\":\"scatter\"},{\"legendgroup\":\"190\",\"marker\":{\"color\":\"#ffb5ff\"},\"mode\":\"lines+markers\",\"name\":\"Mn of 190\",\"x\":[1.073611111111111,2.0680555555555555,4.0777777777777775,6.063888888888889,8.090277777777779,10.084722222222222,15.098611111111111],\"y\":[0.74,0.73,0.65,0.58,0.52,0.46,0.39],\"type\":\"scatter\"},{\"legendgroup\":\"190\",\"marker\":{\"color\":\"#c379c3\"},\"mode\":\"lines+markers\",\"name\":\"Mw of 190\",\"opacity\":0.5,\"x\":[4.0777777777777775,6.063888888888889,8.090277777777779,10.084722222222222,15.098611111111111],\"y\":[1.0,0.93,0.87,0.84,0.74],\"type\":\"scatter\"},{\"legendgroup\":\"191\",\"marker\":{\"color\":\"#FECB52\"},\"mode\":\"lines+markers\",\"name\":\"191\",\"x\":[0.0,4.205555555555556,8.256944444444445,15.291666666666666],\"y\":[0.0,0.12838427947598252,0.26055312954876275,0.43056768558951963],\"type\":\"scatter\"},{\"legendgroup\":\"191\",\"marker\":{\"color\":\"#ffe970\"},\"mode\":\"lines+markers\",\"name\":\"Mn of 191\",\"x\":[1.1916666666666667,2.1847222222222222,4.205555555555556,6.180555555555555,8.256944444444445,10.233333333333333,15.291666666666666],\"y\":[0.51,0.55,0.56,0.48,0.44,0.39,0.4],\"type\":\"scatter\"},{\"legendgroup\":\"191\",\"marker\":{\"color\":\"#c3ad34\"},\"mode\":\"lines+markers\",\"name\":\"Mw of 191\",\"opacity\":0.5,\"x\":[1.1916666666666667,2.1847222222222222,4.205555555555556,6.180555555555555,8.256944444444445,10.233333333333333,15.291666666666666],\"y\":[0.69,0.79,0.79,0.65,0.62,0.53,0.56],\"type\":\"scatter\"},{\"legendgroup\":\"194\",\"marker\":{\"color\":\"#00CC96\"},\"mode\":\"lines+markers\",\"name\":\"194\",\"x\":[0.0,2.301388888888889,4.336111111111111,8.415277777777778,15.472222222222221],\"y\":[0.0,0.16074548631333718,0.2670355270821201,0.43244030285381485,0.6138613861386139],\"type\":\"scatter\"},{\"legendgroup\":\"194\",\"marker\":{\"color\":\"#1eeab4\"},\"mode\":\"lines+markers\",\"name\":\"Mn of 194\",\"x\":[1.3125,2.301388888888889,4.336111111111111,6.295833333333333,8.415277777777778,10.383333333333333,15.472222222222221],\"y\":[0.82,0.81,0.64,0.61,0.54,0.56,0.46],\"type\":\"scatter\"},{\"legendgroup\":\"194\",\"marker\":{\"color\":\"#00ae78\"},\"mode\":\"lines+markers\",\"name\":\"Mw of 194\",\"opacity\":0.5,\"x\":[4.336111111111111,6.295833333333333,8.415277777777778,10.383333333333333,15.472222222222221],\"y\":[0.97,0.93,0.87,0.84,0.78],\"type\":\"scatter\"},{\"legendgroup\":\"195\",\"marker\":{\"color\":\"#AB63FA\"},\"mode\":\"lines+markers\",\"name\":\"195\",\"x\":[0.0,1.3736111111111111,2.3694444444444445,4.409722222222222,8.501388888888888,15.568055555555556],\"y\":[0.0,0.1295518207282912,0.24334733893557414,0.4474789915966386,0.6820728291316527,0.844187675070028],\"type\":\"scatter\"},{\"legendgroup\":\"195\",\"marker\":{\"color\":\"#c981ff\"},\"mode\":\"lines+markers\",\"name\":\"Mn of 195\",\"x\":[2.3694444444444445,4.409722222222222,6.358333333333333,8.501388888888888,10.466666666666667,15.568055555555556],\"y\":[0.9,0.7,0.66,0.54,0.52,0.45],\"type\":\"scatter\"},{\"legendgroup\":\"195\",\"marker\":{\"color\":\"#8d45c3\"},\"mode\":\"lines+markers\",\"name\":\"Mw of 195\",\"opacity\":0.5,\"x\":[6.358333333333333,8.501388888888888,10.466666666666667,15.568055555555556],\"y\":[0.99,0.94,0.92,0.81],\"type\":\"scatter\"},{\"legendgroup\":\"208\",\"marker\":{\"color\":\"#19D3F3\"},\"mode\":\"lines+markers\",\"name\":\"208\",\"x\":[0.0,1.0055555555555555,2.011111111111111,4.018055555555556,8.016666666666667,15.016666666666667],\"y\":[0.0,0.09312134977287478,0.14665801427644387,0.25470473718364695,0.5035691109669046,0.6930564568462038],\"type\":\"scatter\"},{\"legendgroup\":\"208\",\"marker\":{\"color\":\"#37f1ff\"},\"mode\":\"lines+markers\",\"name\":\"Mn of 208\",\"x\":[1.0055555555555555,2.011111111111111,4.018055555555556,6.008333333333334,8.016666666666667,10.011111111111111,15.016666666666667],\"y\":[0.77,0.67,0.6,0.5,0.43,0.41,0.31],\"type\":\"scatter\"},{\"legendgroup\":\"208\",\"marker\":{\"color\":\"#00b5c3\"},\"mode\":\"lines+markers\",\"name\":\"Mw of 208\",\"opacity\":0.5,\"x\":[1.0055555555555555,2.011111111111111,4.018055555555556,6.008333333333334,8.016666666666667,10.011111111111111,15.016666666666667],\"y\":[1.0,0.99,0.91,0.82,0.76,0.73,0.64],\"type\":\"scatter\"},{\"legendgroup\":\"209\",\"marker\":{\"color\":\"#FF6692\"},\"mode\":\"lines+markers\",\"name\":\"209\",\"x\":[0.0,1.073611111111111,2.0680555555555555,4.0777777777777775,8.090277777777779,15.098611111111111],\"y\":[0.0,0.04596060519554668,0.08935198401370259,0.2340850699400514,0.3799600342563517,0.4150727947473595],\"type\":\"scatter\"},{\"legendgroup\":\"209\",\"marker\":{\"color\":\"#ff84b0\"},\"mode\":\"lines+markers\",\"name\":\"Mn of 209\",\"x\":[2.0680555555555555,4.0777777777777775,6.063888888888889,8.090277777777779,10.084722222222222,15.098611111111111],\"y\":[0.88,0.68,0.57,0.5,0.51,0.39],\"type\":\"scatter\"},{\"legendgroup\":\"209\",\"marker\":{\"color\":\"#c34874\"},\"mode\":\"lines+markers\",\"name\":\"Mw of 209\",\"opacity\":0.5,\"x\":[4.0777777777777775,6.063888888888889,8.090277777777779,10.084722222222222,15.098611111111111],\"y\":[1.0,0.91,0.85,0.83,0.73],\"type\":\"scatter\"},{\"legendgroup\":\"210\",\"marker\":{\"color\":\"#B6E880\"},\"mode\":\"lines+markers\",\"name\":\"210\",\"x\":[0.0,1.1916666666666667,2.1847222222222222,4.205555555555556,8.256944444444445,15.291666666666666],\"y\":[0.0,-0.030267062314540016,-0.03264094955489605,0.07181008902077146,-0.010979228486646786,0.24599406528189915],\"type\":\"scatter\"},{\"legendgroup\":\"210\",\"marker\":{\"color\":\"#d4ff9e\"},\"mode\":\"lines+markers\",\"name\":\"Mn of 210\",\"x\":[1.1916666666666667,2.1847222222222222,4.205555555555556,6.180555555555555,8.256944444444445,10.233333333333333,15.291666666666666],\"y\":[0.53,0.61,0.57,0.46,0.5,0.41,0.4],\"type\":\"scatter\"},{\"legendgroup\":\"210\",\"marker\":{\"color\":\"#98c362\"},\"mode\":\"lines+markers\",\"name\":\"Mw of 210\",\"opacity\":0.5,\"x\":[1.1916666666666667,2.1847222222222222,4.205555555555556,6.180555555555555,8.256944444444445,10.233333333333333,15.291666666666666],\"y\":[0.69,0.84,0.77,0.54,0.73,0.51,0.52],\"type\":\"scatter\"},{\"legendgroup\":\"213\",\"marker\":{\"color\":\"#636EFA\"},\"mode\":\"lines+markers\",\"name\":\"213\",\"x\":[0.0,1.3125,2.301388888888889,4.336111111111111,8.415277777777778,15.472222222222221],\"y\":[0.0,0.14582731735489451,0.08172105111175276,0.3014727115218019,0.45018769852728846,0.6116084319953797],\"type\":\"scatter\"},{\"legendgroup\":\"213\",\"marker\":{\"color\":\"#818cff\"},\"mode\":\"lines+markers\",\"name\":\"Mn of 213\",\"x\":[1.3125,2.301388888888889,4.336111111111111,6.295833333333333,8.415277777777778,10.383333333333333,15.472222222222221],\"y\":[0.88,0.78,0.62,0.57,0.5,0.47,0.42],\"type\":\"scatter\"},{\"legendgroup\":\"213\",\"marker\":{\"color\":\"#4550c3\"},\"mode\":\"lines+markers\",\"name\":\"Mw of 213\",\"opacity\":0.5,\"x\":[4.336111111111111,6.295833333333333,8.415277777777778,10.383333333333333,15.472222222222221],\"y\":[0.94,0.89,0.83,0.81,0.75],\"type\":\"scatter\"},{\"legendgroup\":\"214\",\"marker\":{\"color\":\"#EF553B\"},\"mode\":\"lines+markers\",\"name\":\"214\",\"x\":[0.0,4.409722222222222,8.501388888888888,15.568055555555556],\"y\":[0.0,0.46673669467787116,0.6547619047619048,0.7811624649859944],\"type\":\"scatter\"},{\"legendgroup\":\"214\",\"marker\":{\"color\":\"#ff7359\"},\"mode\":\"lines+markers\",\"name\":\"Mn of 214\",\"x\":[2.3694444444444445,4.409722222222222,6.358333333333333,8.501388888888888,10.466666666666667,15.568055555555556],\"y\":[0.9,0.72,0.64,0.55,0.56,0.41],\"type\":\"scatter\"},{\"legendgroup\":\"214\",\"marker\":{\"color\":\"#c3371d\"},\"mode\":\"lines+markers\",\"name\":\"Mw of 214\",\"opacity\":0.5,\"x\":[6.358333333333333,8.501388888888888,10.466666666666667,15.568055555555556],\"y\":[1.0,0.94,0.93,0.83],\"type\":\"scatter\"},{\"legendgroup\":\"215\",\"marker\":{\"color\":\"#00CC96\"},\"mode\":\"lines+markers\",\"name\":\"215\",\"x\":[0.0,1.0055555555555555,2.011111111111111,4.018055555555556,8.016666666666667,15.016666666666667],\"y\":[0.0,0.08609271523178819,0.1291390728476821,0.2847682119205298,0.5298013245033113,0.8112582781456954],\"type\":\"scatter\"},{\"legendgroup\":\"215\",\"marker\":{\"color\":\"#1eeab4\"},\"mode\":\"lines+markers\",\"name\":\"Mn of 215\",\"x\":[1.0055555555555555,2.011111111111111,4.018055555555556,6.008333333333334,8.016666666666667,10.011111111111111,15.016666666666667],\"y\":[0.54,0.7,0.85,0.82,0.71,0.64,0.52],\"type\":\"scatter\"},{\"legendgroup\":\"215\",\"marker\":{\"color\":\"#00ae78\"},\"mode\":\"lines+markers\",\"name\":\"Mw of 215\",\"opacity\":0.5,\"x\":[1.0055555555555555,2.011111111111111,10.011111111111111,15.016666666666667],\"y\":[0.84,1.0,1.0,0.89],\"type\":\"scatter\"},{\"legendgroup\":\"230\",\"marker\":{\"color\":\"#B6E880\"},\"mode\":\"lines+markers\",\"name\":\"230\",\"x\":[0.0,2.011111111111111,4.018055555555556,8.016666666666667,15.016666666666667],\"y\":[0.0,0.2087542087542088,0.3939393939393939,0.6026936026936027,0.8013468013468014],\"type\":\"scatter\"},{\"legendgroup\":\"230\",\"marker\":{\"color\":\"#d4ff9e\"},\"mode\":\"lines+markers\",\"name\":\"Mn of 230\",\"x\":[1.0055555555555555,2.011111111111111,4.018055555555556,6.008333333333334,8.016666666666667,10.011111111111111,15.016666666666667],\"y\":[0.74,0.67,0.54,0.48,0.44,0.4,0.26],\"type\":\"scatter\"},{\"legendgroup\":\"230\",\"marker\":{\"color\":\"#98c362\"},\"mode\":\"lines+markers\",\"name\":\"Mw of 230\",\"opacity\":0.5,\"x\":[1.0055555555555555,2.011111111111111,4.018055555555556,6.008333333333334,8.016666666666667,10.011111111111111,15.016666666666667],\"y\":[1.0,0.96,0.83,0.77,0.72,0.7,0.62],\"type\":\"scatter\"},{\"legendgroup\":\"231\",\"marker\":{\"color\":\"#FF97FF\"},\"mode\":\"lines+markers\",\"name\":\"231\",\"x\":[0.0,1.073611111111111,2.0680555555555555,4.0777777777777775,8.090277777777779,15.098611111111111],\"y\":[0.0,0.05414012738853502,0.07643312101910837,0.15605095541401282,0.29299363057324834,0.445859872611465],\"type\":\"scatter\"},{\"legendgroup\":\"231\",\"marker\":{\"color\":\"#ffb5ff\"},\"mode\":\"lines+markers\",\"name\":\"Mn of 231\",\"x\":[1.073611111111111,2.0680555555555555,4.0777777777777775,6.063888888888889,8.090277777777779,10.084722222222222,15.098611111111111],\"y\":[0.56,0.64,0.62,0.59,0.55,0.48,0.39],\"type\":\"scatter\"},{\"legendgroup\":\"231\",\"marker\":{\"color\":\"#c379c3\"},\"mode\":\"lines+markers\",\"name\":\"Mw of 231\",\"opacity\":0.5,\"x\":[1.073611111111111,2.0680555555555555,4.0777777777777775,6.063888888888889,8.090277777777779,10.084722222222222,15.098611111111111],\"y\":[0.88,0.93,0.88,0.85,0.84,0.82,0.78],\"type\":\"scatter\"},{\"legendgroup\":\"232\",\"marker\":{\"color\":\"#FECB52\"},\"mode\":\"lines+markers\",\"name\":\"232\",\"x\":[0.0,1.073611111111111,4.0777777777777775,8.090277777777779,15.098611111111111],\"y\":[0.0,0.11111111111111116,0.3641975308641976,0.5709876543209877,0.7592592592592593],\"type\":\"scatter\"},{\"legendgroup\":\"232\",\"marker\":{\"color\":\"#ffe970\"},\"mode\":\"lines+markers\",\"name\":\"Mn of 232\",\"x\":[2.0680555555555555,4.0777777777777775,6.063888888888889,8.090277777777779,10.084722222222222,15.098611111111111],\"y\":[0.65,0.53,0.54,0.43,0.44,0.39],\"type\":\"scatter\"},{\"legendgroup\":\"232\",\"marker\":{\"color\":\"#c3ad34\"},\"mode\":\"lines+markers\",\"name\":\"Mw of 232\",\"opacity\":0.5,\"x\":[4.0777777777777775,6.063888888888889,8.090277777777779,10.084722222222222,15.098611111111111],\"y\":[0.96,0.91,0.82,0.81,0.73],\"type\":\"scatter\"},{\"legendgroup\":\"234\",\"marker\":{\"color\":\"#EF553B\"},\"mode\":\"lines+markers\",\"name\":\"234\",\"x\":[0.0,2.1847222222222222,4.205555555555556,8.256944444444445,15.291666666666666],\"y\":[0.0,0.14335060449050085,0.49870466321243523,0.8717616580310881,0.9352331606217616],\"type\":\"scatter\"},{\"legendgroup\":\"234\",\"marker\":{\"color\":\"#ff7359\"},\"mode\":\"lines+markers\",\"name\":\"Mn of 234\",\"x\":[2.1847222222222222,4.205555555555556,6.180555555555555,8.256944444444445,15.291666666666666],\"y\":[0.48,0.54,0.47,0.46,0.41],\"type\":\"scatter\"},{\"legendgroup\":\"234\",\"marker\":{\"color\":\"#c3371d\"},\"mode\":\"lines+markers\",\"name\":\"Mw of 234\",\"opacity\":0.5,\"x\":[2.1847222222222222,4.205555555555556,6.180555555555555,8.256944444444445,15.291666666666666],\"y\":[0.72,0.84,0.85,0.85,0.82],\"type\":\"scatter\"},{\"legendgroup\":\"235\",\"marker\":{\"color\":\"#00CC96\"},\"mode\":\"lines+markers\",\"name\":\"235\",\"x\":[0.0,1.2513888888888889,2.2416666666666667,4.273611111111111,8.338888888888889,15.381944444444445],\"y\":[0.0,0.1428571428571429,0.20972644376899696,0.37689969604863227,0.547112462006079,0.7051671732522796],\"type\":\"scatter\"},{\"legendgroup\":\"235\",\"marker\":{\"color\":\"#1eeab4\"},\"mode\":\"lines+markers\",\"name\":\"Mn of 235\",\"x\":[1.2513888888888889,2.2416666666666667,4.273611111111111,6.2375,8.338888888888889,10.306944444444444,15.381944444444445],\"y\":[0.77,0.74,0.58,0.46,0.47,0.47,0.36],\"type\":\"scatter\"},{\"legendgroup\":\"235\",\"marker\":{\"color\":\"#00ae78\"},\"mode\":\"lines+markers\",\"name\":\"Mw of 235\",\"opacity\":0.5,\"x\":[2.2416666666666667,4.273611111111111,6.2375,8.338888888888889,10.306944444444444,15.381944444444445],\"y\":[1.0,0.94,0.86,0.82,0.83,0.72],\"type\":\"scatter\"},{\"legendgroup\":\"236\",\"marker\":{\"color\":\"#AB63FA\"},\"mode\":\"lines+markers\",\"name\":\"236\",\"x\":[0.0,2.301388888888889,4.336111111111111,8.415277777777778,15.472222222222221],\"y\":[0.0,0.16332378223495714,0.2664756446991404,0.4240687679083095,0.6217765042979942],\"type\":\"scatter\"},{\"legendgroup\":\"236\",\"marker\":{\"color\":\"#c981ff\"},\"mode\":\"lines+markers\",\"name\":\"Mn of 236\",\"x\":[1.3125,2.301388888888889,4.336111111111111,6.295833333333333,8.415277777777778,10.383333333333333,15.472222222222221],\"y\":[0.83,0.76,0.8,0.57,0.48,0.46,0.47],\"type\":\"scatter\"},{\"legendgroup\":\"236\",\"marker\":{\"color\":\"#8d45c3\"},\"mode\":\"lines+markers\",\"name\":\"Mw of 236\",\"opacity\":0.5,\"x\":[4.336111111111111,6.295833333333333,8.415277777777778,10.383333333333333,15.472222222222221],\"y\":[1.0,0.95,0.9,0.9,0.83],\"type\":\"scatter\"},{\"legendgroup\":\"237\",\"marker\":{\"color\":\"#FFA15A\"},\"mode\":\"lines+markers\",\"name\":\"237\",\"x\":[0.0,2.3694444444444445,4.409722222222222,8.501388888888888,15.568055555555556],\"y\":[0.0,0.2666666666666667,0.4666666666666667,0.6925925925925926,0.8407407407407408],\"type\":\"scatter\"},{\"legendgroup\":\"237\",\"marker\":{\"color\":\"#ffbf78\"},\"mode\":\"lines+markers\",\"name\":\"Mn of 237\",\"x\":[2.3694444444444445,4.409722222222222,6.358333333333333,8.501388888888888,10.466666666666667,15.568055555555556],\"y\":[0.89,0.59,0.57,0.56,0.48,0.42],\"type\":\"scatter\"},{\"legendgroup\":\"237\",\"marker\":{\"color\":\"#c3833c\"},\"mode\":\"lines+markers\",\"name\":\"Mw of 237\",\"opacity\":0.5,\"x\":[4.409722222222222,6.358333333333333,8.501388888888888,10.466666666666667,15.568055555555556],\"y\":[1.0,0.98,0.91,0.89,0.79],\"type\":\"scatter\"}],                        {\"template\":{\"data\":{\"histogram2dcontour\":[{\"type\":\"histogram2dcontour\",\"colorbar\":{\"outlinewidth\":0,\"ticks\":\"\"},\"colorscale\":[[0.0,\"#0d0887\"],[0.1111111111111111,\"#46039f\"],[0.2222222222222222,\"#7201a8\"],[0.3333333333333333,\"#9c179e\"],[0.4444444444444444,\"#bd3786\"],[0.5555555555555556,\"#d8576b\"],[0.6666666666666666,\"#ed7953\"],[0.7777777777777778,\"#fb9f3a\"],[0.8888888888888888,\"#fdca26\"],[1.0,\"#f0f921\"]]}],\"choropleth\":[{\"type\":\"choropleth\",\"colorbar\":{\"outlinewidth\":0,\"ticks\":\"\"}}],\"histogram2d\":[{\"type\":\"histogram2d\",\"colorbar\":{\"outlinewidth\":0,\"ticks\":\"\"},\"colorscale\":[[0.0,\"#0d0887\"],[0.1111111111111111,\"#46039f\"],[0.2222222222222222,\"#7201a8\"],[0.3333333333333333,\"#9c179e\"],[0.4444444444444444,\"#bd3786\"],[0.5555555555555556,\"#d8576b\"],[0.6666666666666666,\"#ed7953\"],[0.7777777777777778,\"#fb9f3a\"],[0.8888888888888888,\"#fdca26\"],[1.0,\"#f0f921\"]]}],\"heatmap\":[{\"type\":\"heatmap\",\"colorbar\":{\"outlinewidth\":0,\"ticks\":\"\"},\"colorscale\":[[0.0,\"#0d0887\"],[0.1111111111111111,\"#46039f\"],[0.2222222222222222,\"#7201a8\"],[0.3333333333333333,\"#9c179e\"],[0.4444444444444444,\"#bd3786\"],[0.5555555555555556,\"#d8576b\"],[0.6666666666666666,\"#ed7953\"],[0.7777777777777778,\"#fb9f3a\"],[0.8888888888888888,\"#fdca26\"],[1.0,\"#f0f921\"]]}],\"heatmapgl\":[{\"type\":\"heatmapgl\",\"colorbar\":{\"outlinewidth\":0,\"ticks\":\"\"},\"colorscale\":[[0.0,\"#0d0887\"],[0.1111111111111111,\"#46039f\"],[0.2222222222222222,\"#7201a8\"],[0.3333333333333333,\"#9c179e\"],[0.4444444444444444,\"#bd3786\"],[0.5555555555555556,\"#d8576b\"],[0.6666666666666666,\"#ed7953\"],[0.7777777777777778,\"#fb9f3a\"],[0.8888888888888888,\"#fdca26\"],[1.0,\"#f0f921\"]]}],\"contourcarpet\":[{\"type\":\"contourcarpet\",\"colorbar\":{\"outlinewidth\":0,\"ticks\":\"\"}}],\"contour\":[{\"type\":\"contour\",\"colorbar\":{\"outlinewidth\":0,\"ticks\":\"\"},\"colorscale\":[[0.0,\"#0d0887\"],[0.1111111111111111,\"#46039f\"],[0.2222222222222222,\"#7201a8\"],[0.3333333333333333,\"#9c179e\"],[0.4444444444444444,\"#bd3786\"],[0.5555555555555556,\"#d8576b\"],[0.6666666666666666,\"#ed7953\"],[0.7777777777777778,\"#fb9f3a\"],[0.8888888888888888,\"#fdca26\"],[1.0,\"#f0f921\"]]}],\"surface\":[{\"type\":\"surface\",\"colorbar\":{\"outlinewidth\":0,\"ticks\":\"\"},\"colorscale\":[[0.0,\"#0d0887\"],[0.1111111111111111,\"#46039f\"],[0.2222222222222222,\"#7201a8\"],[0.3333333333333333,\"#9c179e\"],[0.4444444444444444,\"#bd3786\"],[0.5555555555555556,\"#d8576b\"],[0.6666666666666666,\"#ed7953\"],[0.7777777777777778,\"#fb9f3a\"],[0.8888888888888888,\"#fdca26\"],[1.0,\"#f0f921\"]]}],\"mesh3d\":[{\"type\":\"mesh3d\",\"colorbar\":{\"outlinewidth\":0,\"ticks\":\"\"}}],\"scatter\":[{\"fillpattern\":{\"fillmode\":\"overlay\",\"size\":10,\"solidity\":0.2},\"type\":\"scatter\"}],\"parcoords\":[{\"type\":\"parcoords\",\"line\":{\"colorbar\":{\"outlinewidth\":0,\"ticks\":\"\"}}}],\"scatterpolargl\":[{\"type\":\"scatterpolargl\",\"marker\":{\"colorbar\":{\"outlinewidth\":0,\"ticks\":\"\"}}}],\"bar\":[{\"error_x\":{\"color\":\"#2a3f5f\"},\"error_y\":{\"color\":\"#2a3f5f\"},\"marker\":{\"line\":{\"color\":\"#E5ECF6\",\"width\":0.5},\"pattern\":{\"fillmode\":\"overlay\",\"size\":10,\"solidity\":0.2}},\"type\":\"bar\"}],\"scattergeo\":[{\"type\":\"scattergeo\",\"marker\":{\"colorbar\":{\"outlinewidth\":0,\"ticks\":\"\"}}}],\"scatterpolar\":[{\"type\":\"scatterpolar\",\"marker\":{\"colorbar\":{\"outlinewidth\":0,\"ticks\":\"\"}}}],\"histogram\":[{\"marker\":{\"pattern\":{\"fillmode\":\"overlay\",\"size\":10,\"solidity\":0.2}},\"type\":\"histogram\"}],\"scattergl\":[{\"type\":\"scattergl\",\"marker\":{\"colorbar\":{\"outlinewidth\":0,\"ticks\":\"\"}}}],\"scatter3d\":[{\"type\":\"scatter3d\",\"line\":{\"colorbar\":{\"outlinewidth\":0,\"ticks\":\"\"}},\"marker\":{\"colorbar\":{\"outlinewidth\":0,\"ticks\":\"\"}}}],\"scattermapbox\":[{\"type\":\"scattermapbox\",\"marker\":{\"colorbar\":{\"outlinewidth\":0,\"ticks\":\"\"}}}],\"scatterternary\":[{\"type\":\"scatterternary\",\"marker\":{\"colorbar\":{\"outlinewidth\":0,\"ticks\":\"\"}}}],\"scattercarpet\":[{\"type\":\"scattercarpet\",\"marker\":{\"colorbar\":{\"outlinewidth\":0,\"ticks\":\"\"}}}],\"carpet\":[{\"aaxis\":{\"endlinecolor\":\"#2a3f5f\",\"gridcolor\":\"white\",\"linecolor\":\"white\",\"minorgridcolor\":\"white\",\"startlinecolor\":\"#2a3f5f\"},\"baxis\":{\"endlinecolor\":\"#2a3f5f\",\"gridcolor\":\"white\",\"linecolor\":\"white\",\"minorgridcolor\":\"white\",\"startlinecolor\":\"#2a3f5f\"},\"type\":\"carpet\"}],\"table\":[{\"cells\":{\"fill\":{\"color\":\"#EBF0F8\"},\"line\":{\"color\":\"white\"}},\"header\":{\"fill\":{\"color\":\"#C8D4E3\"},\"line\":{\"color\":\"white\"}},\"type\":\"table\"}],\"barpolar\":[{\"marker\":{\"line\":{\"color\":\"#E5ECF6\",\"width\":0.5},\"pattern\":{\"fillmode\":\"overlay\",\"size\":10,\"solidity\":0.2}},\"type\":\"barpolar\"}],\"pie\":[{\"automargin\":true,\"type\":\"pie\"}]},\"layout\":{\"autotypenumbers\":\"strict\",\"colorway\":[\"#636efa\",\"#EF553B\",\"#00cc96\",\"#ab63fa\",\"#FFA15A\",\"#19d3f3\",\"#FF6692\",\"#B6E880\",\"#FF97FF\",\"#FECB52\"],\"font\":{\"color\":\"#2a3f5f\"},\"hovermode\":\"closest\",\"hoverlabel\":{\"align\":\"left\"},\"paper_bgcolor\":\"white\",\"plot_bgcolor\":\"#E5ECF6\",\"polar\":{\"bgcolor\":\"#E5ECF6\",\"angularaxis\":{\"gridcolor\":\"white\",\"linecolor\":\"white\",\"ticks\":\"\"},\"radialaxis\":{\"gridcolor\":\"white\",\"linecolor\":\"white\",\"ticks\":\"\"}},\"ternary\":{\"bgcolor\":\"#E5ECF6\",\"aaxis\":{\"gridcolor\":\"white\",\"linecolor\":\"white\",\"ticks\":\"\"},\"baxis\":{\"gridcolor\":\"white\",\"linecolor\":\"white\",\"ticks\":\"\"},\"caxis\":{\"gridcolor\":\"white\",\"linecolor\":\"white\",\"ticks\":\"\"}},\"coloraxis\":{\"colorbar\":{\"outlinewidth\":0,\"ticks\":\"\"}},\"colorscale\":{\"sequential\":[[0.0,\"#0d0887\"],[0.1111111111111111,\"#46039f\"],[0.2222222222222222,\"#7201a8\"],[0.3333333333333333,\"#9c179e\"],[0.4444444444444444,\"#bd3786\"],[0.5555555555555556,\"#d8576b\"],[0.6666666666666666,\"#ed7953\"],[0.7777777777777778,\"#fb9f3a\"],[0.8888888888888888,\"#fdca26\"],[1.0,\"#f0f921\"]],\"sequentialminus\":[[0.0,\"#0d0887\"],[0.1111111111111111,\"#46039f\"],[0.2222222222222222,\"#7201a8\"],[0.3333333333333333,\"#9c179e\"],[0.4444444444444444,\"#bd3786\"],[0.5555555555555556,\"#d8576b\"],[0.6666666666666666,\"#ed7953\"],[0.7777777777777778,\"#fb9f3a\"],[0.8888888888888888,\"#fdca26\"],[1.0,\"#f0f921\"]],\"diverging\":[[0,\"#8e0152\"],[0.1,\"#c51b7d\"],[0.2,\"#de77ae\"],[0.3,\"#f1b6da\"],[0.4,\"#fde0ef\"],[0.5,\"#f7f7f7\"],[0.6,\"#e6f5d0\"],[0.7,\"#b8e186\"],[0.8,\"#7fbc41\"],[0.9,\"#4d9221\"],[1,\"#276419\"]]},\"xaxis\":{\"gridcolor\":\"white\",\"linecolor\":\"white\",\"ticks\":\"\",\"title\":{\"standoff\":15},\"zerolinecolor\":\"white\",\"automargin\":true,\"zerolinewidth\":2},\"yaxis\":{\"gridcolor\":\"white\",\"linecolor\":\"white\",\"ticks\":\"\",\"title\":{\"standoff\":15},\"zerolinecolor\":\"white\",\"automargin\":true,\"zerolinewidth\":2},\"scene\":{\"xaxis\":{\"backgroundcolor\":\"#E5ECF6\",\"gridcolor\":\"white\",\"linecolor\":\"white\",\"showbackground\":true,\"ticks\":\"\",\"zerolinecolor\":\"white\",\"gridwidth\":2},\"yaxis\":{\"backgroundcolor\":\"#E5ECF6\",\"gridcolor\":\"white\",\"linecolor\":\"white\",\"showbackground\":true,\"ticks\":\"\",\"zerolinecolor\":\"white\",\"gridwidth\":2},\"zaxis\":{\"backgroundcolor\":\"#E5ECF6\",\"gridcolor\":\"white\",\"linecolor\":\"white\",\"showbackground\":true,\"ticks\":\"\",\"zerolinecolor\":\"white\",\"gridwidth\":2}},\"shapedefaults\":{\"line\":{\"color\":\"#2a3f5f\"}},\"annotationdefaults\":{\"arrowcolor\":\"#2a3f5f\",\"arrowhead\":0,\"arrowwidth\":1},\"geo\":{\"bgcolor\":\"white\",\"landcolor\":\"#E5ECF6\",\"subunitcolor\":\"white\",\"showland\":true,\"showlakes\":true,\"lakecolor\":\"white\"},\"title\":{\"x\":0.05},\"mapbox\":{\"style\":\"light\"}}},\"xaxis\":{\"anchor\":\"y\",\"domain\":[0.0,1.0],\"title\":{\"text\":\"Time [h]\"}},\"yaxis\":{\"anchor\":\"x\",\"domain\":[0.0,1.0],\"range\":[-0.1,1],\"title\":{\"text\":\"Conversion [%]\"}},\"legend\":{\"tracegroupgap\":0},\"title\":{\"text\":\"Kinetic Curve Fit for ['188' '189' '190' '191' '194' '195' '208' '209' '210' '213' '214' '215'\\n '230' '231' '232' '234' '235' '236' '237']\"}},                        {\"responsive\": true}                    ).then(function(){\n                            \nvar gd = document.getElementById('1c371b3e-7305-48ae-83bc-3f7e90592c63');\nvar x = new MutationObserver(function (mutations, observer) {{\n        var display = window.getComputedStyle(gd).display;\n        if (!display || display === 'none') {{\n            console.log([gd, 'removed!']);\n            Plotly.purge(gd);\n            observer.disconnect();\n        }}\n}});\n\n// Listen for the removal of the full notebook cells\nvar notebookContainer = gd.closest('#notebook-container');\nif (notebookContainer) {{\n    x.observe(notebookContainer, {childList: true});\n}}\n\n// Listen for the clearing of the current output cell\nvar outputEl = gd.closest('.output');\nif (outputEl) {{\n    x.observe(outputEl, {childList: true});\n}}\n\n                        })                };                });            </script>        </div>"
     },
     "metadata": {},
     "output_type": "display_data"
    }
   ],
   "source": [
    "# search for all kinetics with falling Mn, Mw Values, they start appearing a lot when the Mn is over 0.25 * 10**5\n",
    "search_q_falling_Mn = [True if np.mean(kin[1]) > 0.45 else False for kin in kinetics_df[\"Mn_time_data\"]]\n",
    "plot_exp(kinetics_df[search_q_falling_Mn][\"exp_nr\"].values, True, True,  fit_curves=(False, False))"
   ],
   "metadata": {
    "collapsed": false,
    "pycharm": {
     "name": "#%%\n"
    }
   }
  },
  {
   "cell_type": "code",
   "execution_count": 103,
   "outputs": [
    {
     "data": {
      "text/plain": "array([190, 191, 192, 193, 196, 197, 210, 211, 212, 215, 216, 217, 232,\n       233, 234, 236, 237, 238, 239])"
     },
     "execution_count": 103,
     "metadata": {},
     "output_type": "execute_result"
    }
   ],
   "source": [
    "# to compare the found entries with the ones of the evaluation table: experiment Number  + 2 = index\n",
    "np.array(kinetics_df[search_q_falling_Mn][\"exp_nr\"].values, dtype=int)+2\n",
    "# kinetics_df[search_q_falling_Mn]"
   ],
   "metadata": {
    "collapsed": false,
    "pycharm": {
     "name": "#%%\n"
    }
   }
  },
  {
   "cell_type": "code",
   "execution_count": null,
   "outputs": [],
   "source": [],
   "metadata": {
    "collapsed": false,
    "pycharm": {
     "name": "#%%\n"
    }
   }
  }
 ],
 "metadata": {
  "kernelspec": {
   "name": "python3",
   "language": "python",
   "display_name": "Python 3 (ipykernel)"
  },
  "language_info": {
   "codemirror_mode": {
    "name": "ipython",
    "version": 3
   },
   "file_extension": ".py",
   "mimetype": "text/x-python",
   "name": "python",
   "nbconvert_exporter": "python",
   "pygments_lexer": "ipython3",
   "version": "3.11.7"
  }
 },
 "nbformat": 4,
 "nbformat_minor": 4
}